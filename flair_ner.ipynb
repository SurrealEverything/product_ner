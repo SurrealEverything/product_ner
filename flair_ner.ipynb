{
 "cells": [
  {
   "cell_type": "code",
   "execution_count": 46,
   "id": "d570954f",
   "metadata": {},
   "outputs": [],
   "source": [
    "# !pip install flair beautifulsoup4 pyinterval torchcontrib"
   ]
  },
  {
   "cell_type": "code",
   "execution_count": 18,
   "id": "f722020c",
   "metadata": {},
   "outputs": [],
   "source": [
    "import pandas as pd\n",
    "import requests\n",
    "from bs4 import BeautifulSoup\n",
    "import re\n",
    "from flair.data import Sentence \n",
    "from flair.models import SequenceTagger\n",
    "from tqdm.auto import tqdm\n",
    "from segtok.segmenter import split_single\n",
    "import logging\n",
    "import numpy as np\n",
    "import ast\n",
    "from flair.data import Corpus\n",
    "from flair.datasets import ColumnCorpus\n",
    "from flair.embeddings import WordEmbeddings, StackedEmbeddings, FlairEmbeddings\n",
    "from flair.trainers import ModelTrainer\n",
    "import torch"
   ]
  },
  {
   "cell_type": "markdown",
   "id": "31133efd",
   "metadata": {},
   "source": [
    "# SCRAPE PAGES"
   ]
  },
  {
   "cell_type": "code",
   "execution_count": 80,
   "id": "b0c827d6",
   "metadata": {},
   "outputs": [
    {
     "name": "stderr",
     "output_type": "stream",
     "text": [
      "WARNING:urllib3.connection:Certificate did not match expected hostname: furnish123watertown.com. Certificate: {'subject': ((('commonName', '*.wpengine.com'),),), 'issuer': ((('countryName', 'US'),), (('organizationName', 'DigiCert Inc'),), (('commonName', 'RapidSSL TLS DV RSA Mixed SHA256 2020 CA-1'),)), 'version': 3, 'serialNumber': '020CE05AF3D078B24CA1270FB0EBB236', 'notBefore': 'Aug  3 00:00:00 2021 GMT', 'notAfter': 'Sep  3 23:59:59 2022 GMT', 'subjectAltName': (('DNS', '*.wpengine.com'), ('DNS', 'wpengine.com')), 'OCSP': ('http://ocsp.digicert.com',), 'caIssuers': ('http://cacerts.digicert.com/RapidSSLTLSDVRSAMixedSHA2562020CA-1.crt',), 'crlDistributionPoints': ('http://crl3.digicert.com/RapidSSLTLSDVRSAMixedSHA2562020CA-1.crl', 'http://crl4.digicert.com/RapidSSLTLSDVRSAMixedSHA2562020CA-1.crl')}\n",
      "ERROR:root:HTTPSConnectionPool(host='furnish123watertown.com', port=443): Max retries exceeded with url: /products/ (Caused by SSLError(SSLCertVerificationError(\"hostname 'furnish123watertown.com' doesn't match either of '*.wpengine.com', 'wpengine.com'\")))\n",
      "Traceback (most recent call last):\n",
      "  File \"/home/gabriel/miniconda3/envs/pt_nlp/lib/python3.9/site-packages/urllib3/connectionpool.py\", line 699, in urlopen\n",
      "    httplib_response = self._make_request(\n",
      "  File \"/home/gabriel/miniconda3/envs/pt_nlp/lib/python3.9/site-packages/urllib3/connectionpool.py\", line 382, in _make_request\n",
      "    self._validate_conn(conn)\n",
      "  File \"/home/gabriel/miniconda3/envs/pt_nlp/lib/python3.9/site-packages/urllib3/connectionpool.py\", line 1010, in _validate_conn\n",
      "    conn.connect()\n",
      "  File \"/home/gabriel/miniconda3/envs/pt_nlp/lib/python3.9/site-packages/urllib3/connection.py\", line 469, in connect\n",
      "    _match_hostname(cert, self.assert_hostname or server_hostname)\n",
      "  File \"/home/gabriel/miniconda3/envs/pt_nlp/lib/python3.9/site-packages/urllib3/connection.py\", line 542, in _match_hostname\n",
      "    match_hostname(cert, asserted_hostname)\n",
      "  File \"/home/gabriel/miniconda3/envs/pt_nlp/lib/python3.9/ssl.py\", line 416, in match_hostname\n",
      "    raise CertificateError(\"hostname %r \"\n",
      "ssl.SSLCertVerificationError: (\"hostname 'furnish123watertown.com' doesn't match either of '*.wpengine.com', 'wpengine.com'\",)\n",
      "\n",
      "During handling of the above exception, another exception occurred:\n",
      "\n",
      "Traceback (most recent call last):\n",
      "  File \"/home/gabriel/miniconda3/envs/pt_nlp/lib/python3.9/site-packages/requests/adapters.py\", line 440, in send\n",
      "    resp = conn.urlopen(\n",
      "  File \"/home/gabriel/miniconda3/envs/pt_nlp/lib/python3.9/site-packages/urllib3/connectionpool.py\", line 755, in urlopen\n",
      "    retries = retries.increment(\n",
      "  File \"/home/gabriel/miniconda3/envs/pt_nlp/lib/python3.9/site-packages/urllib3/util/retry.py\", line 574, in increment\n",
      "    raise MaxRetryError(_pool, url, error or ResponseError(cause))\n",
      "urllib3.exceptions.MaxRetryError: HTTPSConnectionPool(host='furnish123watertown.com', port=443): Max retries exceeded with url: /products/ (Caused by SSLError(SSLCertVerificationError(\"hostname 'furnish123watertown.com' doesn't match either of '*.wpengine.com', 'wpengine.com'\")))\n",
      "\n",
      "During handling of the above exception, another exception occurred:\n",
      "\n",
      "Traceback (most recent call last):\n",
      "  File \"/tmp/ipykernel_6102/253839466.py\", line 10, in build_dataset\n",
      "    data = requests.get(url)\n",
      "  File \"/home/gabriel/miniconda3/envs/pt_nlp/lib/python3.9/site-packages/requests/api.py\", line 75, in get\n",
      "    return request('get', url, params=params, **kwargs)\n",
      "  File \"/home/gabriel/miniconda3/envs/pt_nlp/lib/python3.9/site-packages/requests/api.py\", line 61, in request\n",
      "    return session.request(method=method, url=url, **kwargs)\n",
      "  File \"/home/gabriel/miniconda3/envs/pt_nlp/lib/python3.9/site-packages/requests/sessions.py\", line 529, in request\n",
      "    resp = self.send(prep, **send_kwargs)\n",
      "  File \"/home/gabriel/miniconda3/envs/pt_nlp/lib/python3.9/site-packages/requests/sessions.py\", line 645, in send\n",
      "    r = adapter.send(request, **kwargs)\n",
      "  File \"/home/gabriel/miniconda3/envs/pt_nlp/lib/python3.9/site-packages/requests/adapters.py\", line 517, in send\n",
      "    raise SSLError(e, request=request)\n",
      "requests.exceptions.SSLError: HTTPSConnectionPool(host='furnish123watertown.com', port=443): Max retries exceeded with url: /products/ (Caused by SSLError(SSLCertVerificationError(\"hostname 'furnish123watertown.com' doesn't match either of '*.wpengine.com', 'wpengine.com'\")))\n",
      "WARNING:urllib3.connection:Certificate did not match expected hostname: curiousgrace.com.au. Certificate: {'subject': ((('countryName', 'US'),), (('stateOrProvinceName', 'California'),), (('localityName', 'San Francisco'),), (('organizationName', 'Cloudflare, Inc.'),), (('commonName', '*.myshopify.com'),)), 'issuer': ((('countryName', 'US'),), (('organizationName', 'Cloudflare, Inc.'),), (('commonName', 'Cloudflare Inc ECC CA-3'),)), 'version': 3, 'serialNumber': '08D14009B8CCFD7A28D460E790084A96', 'notBefore': 'Sep 13 00:00:00 2021 GMT', 'notAfter': 'Sep 12 23:59:59 2022 GMT', 'subjectAltName': (('DNS', 'myshopify.com'), ('DNS', '*.myshopify.com')), 'OCSP': ('http://ocsp.digicert.com',), 'caIssuers': ('http://cacerts.digicert.com/CloudflareIncECCCA-3.crt',), 'crlDistributionPoints': ('http://crl3.digicert.com/CloudflareIncECCCA-3.crl', 'http://crl4.digicert.com/CloudflareIncECCCA-3.crl')}\n",
      "ERROR:root:HTTPSConnectionPool(host='curiousgrace.com.au', port=443): Max retries exceeded with url: /products/cleo-desk-lamp (Caused by SSLError(SSLCertVerificationError(\"hostname 'curiousgrace.com.au' doesn't match either of 'myshopify.com', '*.myshopify.com'\")))\n",
      "Traceback (most recent call last):\n",
      "  File \"/home/gabriel/miniconda3/envs/pt_nlp/lib/python3.9/site-packages/urllib3/connectionpool.py\", line 699, in urlopen\n",
      "    httplib_response = self._make_request(\n",
      "  File \"/home/gabriel/miniconda3/envs/pt_nlp/lib/python3.9/site-packages/urllib3/connectionpool.py\", line 382, in _make_request\n",
      "    self._validate_conn(conn)\n",
      "  File \"/home/gabriel/miniconda3/envs/pt_nlp/lib/python3.9/site-packages/urllib3/connectionpool.py\", line 1010, in _validate_conn\n",
      "    conn.connect()\n",
      "  File \"/home/gabriel/miniconda3/envs/pt_nlp/lib/python3.9/site-packages/urllib3/connection.py\", line 469, in connect\n",
      "    _match_hostname(cert, self.assert_hostname or server_hostname)\n",
      "  File \"/home/gabriel/miniconda3/envs/pt_nlp/lib/python3.9/site-packages/urllib3/connection.py\", line 542, in _match_hostname\n",
      "    match_hostname(cert, asserted_hostname)\n",
      "  File \"/home/gabriel/miniconda3/envs/pt_nlp/lib/python3.9/ssl.py\", line 416, in match_hostname\n",
      "    raise CertificateError(\"hostname %r \"\n",
      "ssl.SSLCertVerificationError: (\"hostname 'curiousgrace.com.au' doesn't match either of 'myshopify.com', '*.myshopify.com'\",)\n",
      "\n",
      "During handling of the above exception, another exception occurred:\n",
      "\n",
      "Traceback (most recent call last):\n",
      "  File \"/home/gabriel/miniconda3/envs/pt_nlp/lib/python3.9/site-packages/requests/adapters.py\", line 440, in send\n",
      "    resp = conn.urlopen(\n",
      "  File \"/home/gabriel/miniconda3/envs/pt_nlp/lib/python3.9/site-packages/urllib3/connectionpool.py\", line 755, in urlopen\n",
      "    retries = retries.increment(\n",
      "  File \"/home/gabriel/miniconda3/envs/pt_nlp/lib/python3.9/site-packages/urllib3/util/retry.py\", line 574, in increment\n",
      "    raise MaxRetryError(_pool, url, error or ResponseError(cause))\n",
      "urllib3.exceptions.MaxRetryError: HTTPSConnectionPool(host='curiousgrace.com.au', port=443): Max retries exceeded with url: /products/cleo-desk-lamp (Caused by SSLError(SSLCertVerificationError(\"hostname 'curiousgrace.com.au' doesn't match either of 'myshopify.com', '*.myshopify.com'\")))\n",
      "\n",
      "During handling of the above exception, another exception occurred:\n",
      "\n",
      "Traceback (most recent call last):\n",
      "  File \"/tmp/ipykernel_6102/253839466.py\", line 10, in build_dataset\n",
      "    data = requests.get(url)\n",
      "  File \"/home/gabriel/miniconda3/envs/pt_nlp/lib/python3.9/site-packages/requests/api.py\", line 75, in get\n",
      "    return request('get', url, params=params, **kwargs)\n",
      "  File \"/home/gabriel/miniconda3/envs/pt_nlp/lib/python3.9/site-packages/requests/api.py\", line 61, in request\n",
      "    return session.request(method=method, url=url, **kwargs)\n",
      "  File \"/home/gabriel/miniconda3/envs/pt_nlp/lib/python3.9/site-packages/requests/sessions.py\", line 529, in request\n",
      "    resp = self.send(prep, **send_kwargs)\n",
      "  File \"/home/gabriel/miniconda3/envs/pt_nlp/lib/python3.9/site-packages/requests/sessions.py\", line 645, in send\n",
      "    r = adapter.send(request, **kwargs)\n",
      "  File \"/home/gabriel/miniconda3/envs/pt_nlp/lib/python3.9/site-packages/requests/adapters.py\", line 517, in send\n",
      "    raise SSLError(e, request=request)\n",
      "requests.exceptions.SSLError: HTTPSConnectionPool(host='curiousgrace.com.au', port=443): Max retries exceeded with url: /products/cleo-desk-lamp (Caused by SSLError(SSLCertVerificationError(\"hostname 'curiousgrace.com.au' doesn't match either of 'myshopify.com', '*.myshopify.com'\")))\n"
     ]
    },
    {
     "name": "stderr",
     "output_type": "stream",
     "text": [
      "ERROR:root:HTTPSConnectionPool(host='houseofhollingsworthblog.com', port=443): Max retries exceeded with url: /products/locker (Caused by NewConnectionError('<urllib3.connection.HTTPSConnection object at 0x7f17280ccc40>: Failed to establish a new connection: [Errno 110] Connection timed out'))\n",
      "Traceback (most recent call last):\n",
      "  File \"/home/gabriel/miniconda3/envs/pt_nlp/lib/python3.9/site-packages/urllib3/connection.py\", line 174, in _new_conn\n",
      "    conn = connection.create_connection(\n",
      "  File \"/home/gabriel/miniconda3/envs/pt_nlp/lib/python3.9/site-packages/urllib3/util/connection.py\", line 96, in create_connection\n",
      "    raise err\n",
      "  File \"/home/gabriel/miniconda3/envs/pt_nlp/lib/python3.9/site-packages/urllib3/util/connection.py\", line 86, in create_connection\n",
      "    sock.connect(sa)\n",
      "TimeoutError: [Errno 110] Connection timed out\n",
      "\n",
      "During handling of the above exception, another exception occurred:\n",
      "\n",
      "Traceback (most recent call last):\n",
      "  File \"/home/gabriel/miniconda3/envs/pt_nlp/lib/python3.9/site-packages/urllib3/connectionpool.py\", line 699, in urlopen\n",
      "    httplib_response = self._make_request(\n",
      "  File \"/home/gabriel/miniconda3/envs/pt_nlp/lib/python3.9/site-packages/urllib3/connectionpool.py\", line 382, in _make_request\n",
      "    self._validate_conn(conn)\n",
      "  File \"/home/gabriel/miniconda3/envs/pt_nlp/lib/python3.9/site-packages/urllib3/connectionpool.py\", line 1010, in _validate_conn\n",
      "    conn.connect()\n",
      "  File \"/home/gabriel/miniconda3/envs/pt_nlp/lib/python3.9/site-packages/urllib3/connection.py\", line 358, in connect\n",
      "    conn = self._new_conn()\n",
      "  File \"/home/gabriel/miniconda3/envs/pt_nlp/lib/python3.9/site-packages/urllib3/connection.py\", line 186, in _new_conn\n",
      "    raise NewConnectionError(\n",
      "urllib3.exceptions.NewConnectionError: <urllib3.connection.HTTPSConnection object at 0x7f17280ccc40>: Failed to establish a new connection: [Errno 110] Connection timed out\n",
      "\n",
      "During handling of the above exception, another exception occurred:\n",
      "\n",
      "Traceback (most recent call last):\n",
      "  File \"/home/gabriel/miniconda3/envs/pt_nlp/lib/python3.9/site-packages/requests/adapters.py\", line 440, in send\n",
      "    resp = conn.urlopen(\n",
      "  File \"/home/gabriel/miniconda3/envs/pt_nlp/lib/python3.9/site-packages/urllib3/connectionpool.py\", line 755, in urlopen\n",
      "    retries = retries.increment(\n",
      "  File \"/home/gabriel/miniconda3/envs/pt_nlp/lib/python3.9/site-packages/urllib3/util/retry.py\", line 574, in increment\n",
      "    raise MaxRetryError(_pool, url, error or ResponseError(cause))\n",
      "urllib3.exceptions.MaxRetryError: HTTPSConnectionPool(host='houseofhollingsworthblog.com', port=443): Max retries exceeded with url: /products/locker (Caused by NewConnectionError('<urllib3.connection.HTTPSConnection object at 0x7f17280ccc40>: Failed to establish a new connection: [Errno 110] Connection timed out'))\n",
      "\n",
      "During handling of the above exception, another exception occurred:\n",
      "\n",
      "Traceback (most recent call last):\n",
      "  File \"/tmp/ipykernel_6102/253839466.py\", line 10, in build_dataset\n",
      "    data = requests.get(url)\n",
      "  File \"/home/gabriel/miniconda3/envs/pt_nlp/lib/python3.9/site-packages/requests/api.py\", line 75, in get\n",
      "    return request('get', url, params=params, **kwargs)\n",
      "  File \"/home/gabriel/miniconda3/envs/pt_nlp/lib/python3.9/site-packages/requests/api.py\", line 61, in request\n",
      "    return session.request(method=method, url=url, **kwargs)\n",
      "  File \"/home/gabriel/miniconda3/envs/pt_nlp/lib/python3.9/site-packages/requests/sessions.py\", line 529, in request\n",
      "    resp = self.send(prep, **send_kwargs)\n",
      "  File \"/home/gabriel/miniconda3/envs/pt_nlp/lib/python3.9/site-packages/requests/sessions.py\", line 645, in send\n",
      "    r = adapter.send(request, **kwargs)\n",
      "  File \"/home/gabriel/miniconda3/envs/pt_nlp/lib/python3.9/site-packages/requests/adapters.py\", line 519, in send\n",
      "    raise ConnectionError(e, request=request)\n",
      "requests.exceptions.ConnectionError: HTTPSConnectionPool(host='houseofhollingsworthblog.com', port=443): Max retries exceeded with url: /products/locker (Caused by NewConnectionError('<urllib3.connection.HTTPSConnection object at 0x7f17280ccc40>: Failed to establish a new connection: [Errno 110] Connection timed out'))\n",
      "ERROR:root:('Connection aborted.', RemoteDisconnected('Remote end closed connection without response'))\n",
      "Traceback (most recent call last):\n",
      "  File \"/home/gabriel/miniconda3/envs/pt_nlp/lib/python3.9/site-packages/urllib3/connectionpool.py\", line 699, in urlopen\n",
      "    httplib_response = self._make_request(\n",
      "  File \"/home/gabriel/miniconda3/envs/pt_nlp/lib/python3.9/site-packages/urllib3/connectionpool.py\", line 445, in _make_request\n",
      "    six.raise_from(e, None)\n",
      "  File \"<string>\", line 3, in raise_from\n",
      "  File \"/home/gabriel/miniconda3/envs/pt_nlp/lib/python3.9/site-packages/urllib3/connectionpool.py\", line 440, in _make_request\n",
      "    httplib_response = conn.getresponse()\n",
      "  File \"/home/gabriel/miniconda3/envs/pt_nlp/lib/python3.9/http/client.py\", line 1371, in getresponse\n",
      "    response.begin()\n",
      "  File \"/home/gabriel/miniconda3/envs/pt_nlp/lib/python3.9/http/client.py\", line 319, in begin\n",
      "    version, status, reason = self._read_status()\n",
      "  File \"/home/gabriel/miniconda3/envs/pt_nlp/lib/python3.9/http/client.py\", line 288, in _read_status\n",
      "    raise RemoteDisconnected(\"Remote end closed connection without\"\n",
      "http.client.RemoteDisconnected: Remote end closed connection without response\n",
      "\n",
      "During handling of the above exception, another exception occurred:\n",
      "\n",
      "Traceback (most recent call last):\n",
      "  File \"/home/gabriel/miniconda3/envs/pt_nlp/lib/python3.9/site-packages/requests/adapters.py\", line 440, in send\n",
      "    resp = conn.urlopen(\n",
      "  File \"/home/gabriel/miniconda3/envs/pt_nlp/lib/python3.9/site-packages/urllib3/connectionpool.py\", line 755, in urlopen\n",
      "    retries = retries.increment(\n",
      "  File \"/home/gabriel/miniconda3/envs/pt_nlp/lib/python3.9/site-packages/urllib3/util/retry.py\", line 532, in increment\n",
      "    raise six.reraise(type(error), error, _stacktrace)\n",
      "  File \"/home/gabriel/miniconda3/envs/pt_nlp/lib/python3.9/site-packages/urllib3/packages/six.py\", line 769, in reraise\n",
      "    raise value.with_traceback(tb)\n",
      "  File \"/home/gabriel/miniconda3/envs/pt_nlp/lib/python3.9/site-packages/urllib3/connectionpool.py\", line 699, in urlopen\n",
      "    httplib_response = self._make_request(\n",
      "  File \"/home/gabriel/miniconda3/envs/pt_nlp/lib/python3.9/site-packages/urllib3/connectionpool.py\", line 445, in _make_request\n",
      "    six.raise_from(e, None)\n",
      "  File \"<string>\", line 3, in raise_from\n",
      "  File \"/home/gabriel/miniconda3/envs/pt_nlp/lib/python3.9/site-packages/urllib3/connectionpool.py\", line 440, in _make_request\n",
      "    httplib_response = conn.getresponse()\n",
      "  File \"/home/gabriel/miniconda3/envs/pt_nlp/lib/python3.9/http/client.py\", line 1371, in getresponse\n",
      "    response.begin()\n",
      "  File \"/home/gabriel/miniconda3/envs/pt_nlp/lib/python3.9/http/client.py\", line 319, in begin\n",
      "    version, status, reason = self._read_status()\n",
      "  File \"/home/gabriel/miniconda3/envs/pt_nlp/lib/python3.9/http/client.py\", line 288, in _read_status\n",
      "    raise RemoteDisconnected(\"Remote end closed connection without\"\n",
      "urllib3.exceptions.ProtocolError: ('Connection aborted.', RemoteDisconnected('Remote end closed connection without response'))\n",
      "\n",
      "During handling of the above exception, another exception occurred:\n",
      "\n",
      "Traceback (most recent call last):\n",
      "  File \"/tmp/ipykernel_6102/253839466.py\", line 10, in build_dataset\n",
      "    data = requests.get(url)\n",
      "  File \"/home/gabriel/miniconda3/envs/pt_nlp/lib/python3.9/site-packages/requests/api.py\", line 75, in get\n",
      "    return request('get', url, params=params, **kwargs)\n",
      "  File \"/home/gabriel/miniconda3/envs/pt_nlp/lib/python3.9/site-packages/requests/api.py\", line 61, in request\n",
      "    return session.request(method=method, url=url, **kwargs)\n",
      "  File \"/home/gabriel/miniconda3/envs/pt_nlp/lib/python3.9/site-packages/requests/sessions.py\", line 529, in request\n",
      "    resp = self.send(prep, **send_kwargs)\n",
      "  File \"/home/gabriel/miniconda3/envs/pt_nlp/lib/python3.9/site-packages/requests/sessions.py\", line 645, in send\n",
      "    r = adapter.send(request, **kwargs)\n",
      "  File \"/home/gabriel/miniconda3/envs/pt_nlp/lib/python3.9/site-packages/requests/adapters.py\", line 501, in send\n",
      "    raise ConnectionError(err, request=request)\n",
      "requests.exceptions.ConnectionError: ('Connection aborted.', RemoteDisconnected('Remote end closed connection without response'))\n"
     ]
    },
    {
     "name": "stderr",
     "output_type": "stream",
     "text": [
      "ERROR:root:('Connection aborted.', RemoteDisconnected('Remote end closed connection without response'))\n",
      "Traceback (most recent call last):\n",
      "  File \"/home/gabriel/miniconda3/envs/pt_nlp/lib/python3.9/site-packages/urllib3/connectionpool.py\", line 699, in urlopen\n",
      "    httplib_response = self._make_request(\n",
      "  File \"/home/gabriel/miniconda3/envs/pt_nlp/lib/python3.9/site-packages/urllib3/connectionpool.py\", line 445, in _make_request\n",
      "    six.raise_from(e, None)\n",
      "  File \"<string>\", line 3, in raise_from\n",
      "  File \"/home/gabriel/miniconda3/envs/pt_nlp/lib/python3.9/site-packages/urllib3/connectionpool.py\", line 440, in _make_request\n",
      "    httplib_response = conn.getresponse()\n",
      "  File \"/home/gabriel/miniconda3/envs/pt_nlp/lib/python3.9/http/client.py\", line 1371, in getresponse\n",
      "    response.begin()\n",
      "  File \"/home/gabriel/miniconda3/envs/pt_nlp/lib/python3.9/http/client.py\", line 319, in begin\n",
      "    version, status, reason = self._read_status()\n",
      "  File \"/home/gabriel/miniconda3/envs/pt_nlp/lib/python3.9/http/client.py\", line 288, in _read_status\n",
      "    raise RemoteDisconnected(\"Remote end closed connection without\"\n",
      "http.client.RemoteDisconnected: Remote end closed connection without response\n",
      "\n",
      "During handling of the above exception, another exception occurred:\n",
      "\n",
      "Traceback (most recent call last):\n",
      "  File \"/home/gabriel/miniconda3/envs/pt_nlp/lib/python3.9/site-packages/requests/adapters.py\", line 440, in send\n",
      "    resp = conn.urlopen(\n",
      "  File \"/home/gabriel/miniconda3/envs/pt_nlp/lib/python3.9/site-packages/urllib3/connectionpool.py\", line 755, in urlopen\n",
      "    retries = retries.increment(\n",
      "  File \"/home/gabriel/miniconda3/envs/pt_nlp/lib/python3.9/site-packages/urllib3/util/retry.py\", line 532, in increment\n",
      "    raise six.reraise(type(error), error, _stacktrace)\n",
      "  File \"/home/gabriel/miniconda3/envs/pt_nlp/lib/python3.9/site-packages/urllib3/packages/six.py\", line 769, in reraise\n",
      "    raise value.with_traceback(tb)\n",
      "  File \"/home/gabriel/miniconda3/envs/pt_nlp/lib/python3.9/site-packages/urllib3/connectionpool.py\", line 699, in urlopen\n",
      "    httplib_response = self._make_request(\n",
      "  File \"/home/gabriel/miniconda3/envs/pt_nlp/lib/python3.9/site-packages/urllib3/connectionpool.py\", line 445, in _make_request\n",
      "    six.raise_from(e, None)\n",
      "  File \"<string>\", line 3, in raise_from\n",
      "  File \"/home/gabriel/miniconda3/envs/pt_nlp/lib/python3.9/site-packages/urllib3/connectionpool.py\", line 440, in _make_request\n",
      "    httplib_response = conn.getresponse()\n",
      "  File \"/home/gabriel/miniconda3/envs/pt_nlp/lib/python3.9/http/client.py\", line 1371, in getresponse\n",
      "    response.begin()\n",
      "  File \"/home/gabriel/miniconda3/envs/pt_nlp/lib/python3.9/http/client.py\", line 319, in begin\n",
      "    version, status, reason = self._read_status()\n",
      "  File \"/home/gabriel/miniconda3/envs/pt_nlp/lib/python3.9/http/client.py\", line 288, in _read_status\n",
      "    raise RemoteDisconnected(\"Remote end closed connection without\"\n",
      "urllib3.exceptions.ProtocolError: ('Connection aborted.', RemoteDisconnected('Remote end closed connection without response'))\n",
      "\n",
      "During handling of the above exception, another exception occurred:\n",
      "\n",
      "Traceback (most recent call last):\n",
      "  File \"/tmp/ipykernel_6102/253839466.py\", line 10, in build_dataset\n",
      "    data = requests.get(url)\n",
      "  File \"/home/gabriel/miniconda3/envs/pt_nlp/lib/python3.9/site-packages/requests/api.py\", line 75, in get\n",
      "    return request('get', url, params=params, **kwargs)\n",
      "  File \"/home/gabriel/miniconda3/envs/pt_nlp/lib/python3.9/site-packages/requests/api.py\", line 61, in request\n",
      "    return session.request(method=method, url=url, **kwargs)\n",
      "  File \"/home/gabriel/miniconda3/envs/pt_nlp/lib/python3.9/site-packages/requests/sessions.py\", line 529, in request\n",
      "    resp = self.send(prep, **send_kwargs)\n",
      "  File \"/home/gabriel/miniconda3/envs/pt_nlp/lib/python3.9/site-packages/requests/sessions.py\", line 645, in send\n",
      "    r = adapter.send(request, **kwargs)\n",
      "  File \"/home/gabriel/miniconda3/envs/pt_nlp/lib/python3.9/site-packages/requests/adapters.py\", line 501, in send\n",
      "    raise ConnectionError(err, request=request)\n",
      "requests.exceptions.ConnectionError: ('Connection aborted.', RemoteDisconnected('Remote end closed connection without response'))\n",
      "ERROR:root:('Connection aborted.', RemoteDisconnected('Remote end closed connection without response'))\n",
      "Traceback (most recent call last):\n",
      "  File \"/home/gabriel/miniconda3/envs/pt_nlp/lib/python3.9/site-packages/urllib3/connectionpool.py\", line 699, in urlopen\n",
      "    httplib_response = self._make_request(\n",
      "  File \"/home/gabriel/miniconda3/envs/pt_nlp/lib/python3.9/site-packages/urllib3/connectionpool.py\", line 445, in _make_request\n",
      "    six.raise_from(e, None)\n",
      "  File \"<string>\", line 3, in raise_from\n",
      "  File \"/home/gabriel/miniconda3/envs/pt_nlp/lib/python3.9/site-packages/urllib3/connectionpool.py\", line 440, in _make_request\n",
      "    httplib_response = conn.getresponse()\n",
      "  File \"/home/gabriel/miniconda3/envs/pt_nlp/lib/python3.9/http/client.py\", line 1371, in getresponse\n",
      "    response.begin()\n",
      "  File \"/home/gabriel/miniconda3/envs/pt_nlp/lib/python3.9/http/client.py\", line 319, in begin\n",
      "    version, status, reason = self._read_status()\n",
      "  File \"/home/gabriel/miniconda3/envs/pt_nlp/lib/python3.9/http/client.py\", line 288, in _read_status\n",
      "    raise RemoteDisconnected(\"Remote end closed connection without\"\n",
      "http.client.RemoteDisconnected: Remote end closed connection without response\n",
      "\n",
      "During handling of the above exception, another exception occurred:\n",
      "\n",
      "Traceback (most recent call last):\n",
      "  File \"/home/gabriel/miniconda3/envs/pt_nlp/lib/python3.9/site-packages/requests/adapters.py\", line 440, in send\n",
      "    resp = conn.urlopen(\n",
      "  File \"/home/gabriel/miniconda3/envs/pt_nlp/lib/python3.9/site-packages/urllib3/connectionpool.py\", line 755, in urlopen\n",
      "    retries = retries.increment(\n",
      "  File \"/home/gabriel/miniconda3/envs/pt_nlp/lib/python3.9/site-packages/urllib3/util/retry.py\", line 532, in increment\n",
      "    raise six.reraise(type(error), error, _stacktrace)\n",
      "  File \"/home/gabriel/miniconda3/envs/pt_nlp/lib/python3.9/site-packages/urllib3/packages/six.py\", line 769, in reraise\n",
      "    raise value.with_traceback(tb)\n",
      "  File \"/home/gabriel/miniconda3/envs/pt_nlp/lib/python3.9/site-packages/urllib3/connectionpool.py\", line 699, in urlopen\n",
      "    httplib_response = self._make_request(\n",
      "  File \"/home/gabriel/miniconda3/envs/pt_nlp/lib/python3.9/site-packages/urllib3/connectionpool.py\", line 445, in _make_request\n",
      "    six.raise_from(e, None)\n",
      "  File \"<string>\", line 3, in raise_from\n",
      "  File \"/home/gabriel/miniconda3/envs/pt_nlp/lib/python3.9/site-packages/urllib3/connectionpool.py\", line 440, in _make_request\n",
      "    httplib_response = conn.getresponse()\n",
      "  File \"/home/gabriel/miniconda3/envs/pt_nlp/lib/python3.9/http/client.py\", line 1371, in getresponse\n",
      "    response.begin()\n",
      "  File \"/home/gabriel/miniconda3/envs/pt_nlp/lib/python3.9/http/client.py\", line 319, in begin\n",
      "    version, status, reason = self._read_status()\n",
      "  File \"/home/gabriel/miniconda3/envs/pt_nlp/lib/python3.9/http/client.py\", line 288, in _read_status\n",
      "    raise RemoteDisconnected(\"Remote end closed connection without\"\n",
      "urllib3.exceptions.ProtocolError: ('Connection aborted.', RemoteDisconnected('Remote end closed connection without response'))\n",
      "\n",
      "During handling of the above exception, another exception occurred:\n",
      "\n",
      "Traceback (most recent call last):\n",
      "  File \"/tmp/ipykernel_6102/253839466.py\", line 10, in build_dataset\n",
      "    data = requests.get(url)\n",
      "  File \"/home/gabriel/miniconda3/envs/pt_nlp/lib/python3.9/site-packages/requests/api.py\", line 75, in get\n",
      "    return request('get', url, params=params, **kwargs)\n",
      "  File \"/home/gabriel/miniconda3/envs/pt_nlp/lib/python3.9/site-packages/requests/api.py\", line 61, in request\n",
      "    return session.request(method=method, url=url, **kwargs)\n",
      "  File \"/home/gabriel/miniconda3/envs/pt_nlp/lib/python3.9/site-packages/requests/sessions.py\", line 529, in request\n",
      "    resp = self.send(prep, **send_kwargs)\n",
      "  File \"/home/gabriel/miniconda3/envs/pt_nlp/lib/python3.9/site-packages/requests/sessions.py\", line 645, in send\n",
      "    r = adapter.send(request, **kwargs)\n",
      "  File \"/home/gabriel/miniconda3/envs/pt_nlp/lib/python3.9/site-packages/requests/adapters.py\", line 501, in send\n",
      "    raise ConnectionError(err, request=request)\n",
      "requests.exceptions.ConnectionError: ('Connection aborted.', RemoteDisconnected('Remote end closed connection without response'))\n"
     ]
    },
    {
     "name": "stderr",
     "output_type": "stream",
     "text": [
      "ERROR:root:HTTPSConnectionPool(host='www.jandjtreasuretrove.net', port=443): Max retries exceeded with url: /apps/webstore/products/show/8098794 (Caused by NewConnectionError('<urllib3.connection.HTTPSConnection object at 0x7f172409ca90>: Failed to establish a new connection: [Errno -2] Name or service not known'))\n",
      "Traceback (most recent call last):\n",
      "  File \"/home/gabriel/miniconda3/envs/pt_nlp/lib/python3.9/site-packages/urllib3/connection.py\", line 174, in _new_conn\n",
      "    conn = connection.create_connection(\n",
      "  File \"/home/gabriel/miniconda3/envs/pt_nlp/lib/python3.9/site-packages/urllib3/util/connection.py\", line 73, in create_connection\n",
      "    for res in socket.getaddrinfo(host, port, family, socket.SOCK_STREAM):\n",
      "  File \"/home/gabriel/miniconda3/envs/pt_nlp/lib/python3.9/socket.py\", line 954, in getaddrinfo\n",
      "    for res in _socket.getaddrinfo(host, port, family, type, proto, flags):\n",
      "socket.gaierror: [Errno -2] Name or service not known\n",
      "\n",
      "During handling of the above exception, another exception occurred:\n",
      "\n",
      "Traceback (most recent call last):\n",
      "  File \"/home/gabriel/miniconda3/envs/pt_nlp/lib/python3.9/site-packages/urllib3/connectionpool.py\", line 699, in urlopen\n",
      "    httplib_response = self._make_request(\n",
      "  File \"/home/gabriel/miniconda3/envs/pt_nlp/lib/python3.9/site-packages/urllib3/connectionpool.py\", line 382, in _make_request\n",
      "    self._validate_conn(conn)\n",
      "  File \"/home/gabriel/miniconda3/envs/pt_nlp/lib/python3.9/site-packages/urllib3/connectionpool.py\", line 1010, in _validate_conn\n",
      "    conn.connect()\n",
      "  File \"/home/gabriel/miniconda3/envs/pt_nlp/lib/python3.9/site-packages/urllib3/connection.py\", line 358, in connect\n",
      "    conn = self._new_conn()\n",
      "  File \"/home/gabriel/miniconda3/envs/pt_nlp/lib/python3.9/site-packages/urllib3/connection.py\", line 186, in _new_conn\n",
      "    raise NewConnectionError(\n",
      "urllib3.exceptions.NewConnectionError: <urllib3.connection.HTTPSConnection object at 0x7f172409ca90>: Failed to establish a new connection: [Errno -2] Name or service not known\n",
      "\n",
      "During handling of the above exception, another exception occurred:\n",
      "\n",
      "Traceback (most recent call last):\n",
      "  File \"/home/gabriel/miniconda3/envs/pt_nlp/lib/python3.9/site-packages/requests/adapters.py\", line 440, in send\n",
      "    resp = conn.urlopen(\n",
      "  File \"/home/gabriel/miniconda3/envs/pt_nlp/lib/python3.9/site-packages/urllib3/connectionpool.py\", line 755, in urlopen\n",
      "    retries = retries.increment(\n",
      "  File \"/home/gabriel/miniconda3/envs/pt_nlp/lib/python3.9/site-packages/urllib3/util/retry.py\", line 574, in increment\n",
      "    raise MaxRetryError(_pool, url, error or ResponseError(cause))\n",
      "urllib3.exceptions.MaxRetryError: HTTPSConnectionPool(host='www.jandjtreasuretrove.net', port=443): Max retries exceeded with url: /apps/webstore/products/show/8098794 (Caused by NewConnectionError('<urllib3.connection.HTTPSConnection object at 0x7f172409ca90>: Failed to establish a new connection: [Errno -2] Name or service not known'))\n",
      "\n",
      "During handling of the above exception, another exception occurred:\n",
      "\n",
      "Traceback (most recent call last):\n",
      "  File \"/tmp/ipykernel_6102/253839466.py\", line 10, in build_dataset\n",
      "    data = requests.get(url)\n",
      "  File \"/home/gabriel/miniconda3/envs/pt_nlp/lib/python3.9/site-packages/requests/api.py\", line 75, in get\n",
      "    return request('get', url, params=params, **kwargs)\n",
      "  File \"/home/gabriel/miniconda3/envs/pt_nlp/lib/python3.9/site-packages/requests/api.py\", line 61, in request\n",
      "    return session.request(method=method, url=url, **kwargs)\n",
      "  File \"/home/gabriel/miniconda3/envs/pt_nlp/lib/python3.9/site-packages/requests/sessions.py\", line 529, in request\n",
      "    resp = self.send(prep, **send_kwargs)\n",
      "  File \"/home/gabriel/miniconda3/envs/pt_nlp/lib/python3.9/site-packages/requests/sessions.py\", line 645, in send\n",
      "    r = adapter.send(request, **kwargs)\n",
      "  File \"/home/gabriel/miniconda3/envs/pt_nlp/lib/python3.9/site-packages/requests/adapters.py\", line 519, in send\n",
      "    raise ConnectionError(e, request=request)\n",
      "requests.exceptions.ConnectionError: HTTPSConnectionPool(host='www.jandjtreasuretrove.net', port=443): Max retries exceeded with url: /apps/webstore/products/show/8098794 (Caused by NewConnectionError('<urllib3.connection.HTTPSConnection object at 0x7f172409ca90>: Failed to establish a new connection: [Errno -2] Name or service not known'))\n",
      "ERROR:root:('Connection aborted.', RemoteDisconnected('Remote end closed connection without response'))\n",
      "Traceback (most recent call last):\n",
      "  File \"/home/gabriel/miniconda3/envs/pt_nlp/lib/python3.9/site-packages/urllib3/connectionpool.py\", line 699, in urlopen\n",
      "    httplib_response = self._make_request(\n",
      "  File \"/home/gabriel/miniconda3/envs/pt_nlp/lib/python3.9/site-packages/urllib3/connectionpool.py\", line 445, in _make_request\n",
      "    six.raise_from(e, None)\n",
      "  File \"<string>\", line 3, in raise_from\n",
      "  File \"/home/gabriel/miniconda3/envs/pt_nlp/lib/python3.9/site-packages/urllib3/connectionpool.py\", line 440, in _make_request\n",
      "    httplib_response = conn.getresponse()\n",
      "  File \"/home/gabriel/miniconda3/envs/pt_nlp/lib/python3.9/http/client.py\", line 1371, in getresponse\n",
      "    response.begin()\n",
      "  File \"/home/gabriel/miniconda3/envs/pt_nlp/lib/python3.9/http/client.py\", line 319, in begin\n",
      "    version, status, reason = self._read_status()\n",
      "  File \"/home/gabriel/miniconda3/envs/pt_nlp/lib/python3.9/http/client.py\", line 288, in _read_status\n",
      "    raise RemoteDisconnected(\"Remote end closed connection without\"\n",
      "http.client.RemoteDisconnected: Remote end closed connection without response\n",
      "\n",
      "During handling of the above exception, another exception occurred:\n",
      "\n",
      "Traceback (most recent call last):\n",
      "  File \"/home/gabriel/miniconda3/envs/pt_nlp/lib/python3.9/site-packages/requests/adapters.py\", line 440, in send\n",
      "    resp = conn.urlopen(\n",
      "  File \"/home/gabriel/miniconda3/envs/pt_nlp/lib/python3.9/site-packages/urllib3/connectionpool.py\", line 755, in urlopen\n",
      "    retries = retries.increment(\n",
      "  File \"/home/gabriel/miniconda3/envs/pt_nlp/lib/python3.9/site-packages/urllib3/util/retry.py\", line 532, in increment\n",
      "    raise six.reraise(type(error), error, _stacktrace)\n",
      "  File \"/home/gabriel/miniconda3/envs/pt_nlp/lib/python3.9/site-packages/urllib3/packages/six.py\", line 769, in reraise\n",
      "    raise value.with_traceback(tb)\n",
      "  File \"/home/gabriel/miniconda3/envs/pt_nlp/lib/python3.9/site-packages/urllib3/connectionpool.py\", line 699, in urlopen\n",
      "    httplib_response = self._make_request(\n",
      "  File \"/home/gabriel/miniconda3/envs/pt_nlp/lib/python3.9/site-packages/urllib3/connectionpool.py\", line 445, in _make_request\n",
      "    six.raise_from(e, None)\n",
      "  File \"<string>\", line 3, in raise_from\n",
      "  File \"/home/gabriel/miniconda3/envs/pt_nlp/lib/python3.9/site-packages/urllib3/connectionpool.py\", line 440, in _make_request\n",
      "    httplib_response = conn.getresponse()\n",
      "  File \"/home/gabriel/miniconda3/envs/pt_nlp/lib/python3.9/http/client.py\", line 1371, in getresponse\n",
      "    response.begin()\n",
      "  File \"/home/gabriel/miniconda3/envs/pt_nlp/lib/python3.9/http/client.py\", line 319, in begin\n",
      "    version, status, reason = self._read_status()\n",
      "  File \"/home/gabriel/miniconda3/envs/pt_nlp/lib/python3.9/http/client.py\", line 288, in _read_status\n",
      "    raise RemoteDisconnected(\"Remote end closed connection without\"\n",
      "urllib3.exceptions.ProtocolError: ('Connection aborted.', RemoteDisconnected('Remote end closed connection without response'))\n",
      "\n",
      "During handling of the above exception, another exception occurred:\n",
      "\n",
      "Traceback (most recent call last):\n",
      "  File \"/tmp/ipykernel_6102/253839466.py\", line 10, in build_dataset\n",
      "    data = requests.get(url)\n",
      "  File \"/home/gabriel/miniconda3/envs/pt_nlp/lib/python3.9/site-packages/requests/api.py\", line 75, in get\n",
      "    return request('get', url, params=params, **kwargs)\n",
      "  File \"/home/gabriel/miniconda3/envs/pt_nlp/lib/python3.9/site-packages/requests/api.py\", line 61, in request\n",
      "    return session.request(method=method, url=url, **kwargs)\n",
      "  File \"/home/gabriel/miniconda3/envs/pt_nlp/lib/python3.9/site-packages/requests/sessions.py\", line 529, in request\n",
      "    resp = self.send(prep, **send_kwargs)\n",
      "  File \"/home/gabriel/miniconda3/envs/pt_nlp/lib/python3.9/site-packages/requests/sessions.py\", line 645, in send\n",
      "    r = adapter.send(request, **kwargs)\n",
      "  File \"/home/gabriel/miniconda3/envs/pt_nlp/lib/python3.9/site-packages/requests/adapters.py\", line 501, in send\n",
      "    raise ConnectionError(err, request=request)\n",
      "requests.exceptions.ConnectionError: ('Connection aborted.', RemoteDisconnected('Remote end closed connection without response'))\n"
     ]
    },
    {
     "name": "stderr",
     "output_type": "stream",
     "text": [
      "ERROR:root:('Connection aborted.', RemoteDisconnected('Remote end closed connection without response'))\n",
      "Traceback (most recent call last):\n",
      "  File \"/home/gabriel/miniconda3/envs/pt_nlp/lib/python3.9/site-packages/urllib3/connectionpool.py\", line 699, in urlopen\n",
      "    httplib_response = self._make_request(\n",
      "  File \"/home/gabriel/miniconda3/envs/pt_nlp/lib/python3.9/site-packages/urllib3/connectionpool.py\", line 445, in _make_request\n",
      "    six.raise_from(e, None)\n",
      "  File \"<string>\", line 3, in raise_from\n",
      "  File \"/home/gabriel/miniconda3/envs/pt_nlp/lib/python3.9/site-packages/urllib3/connectionpool.py\", line 440, in _make_request\n",
      "    httplib_response = conn.getresponse()\n",
      "  File \"/home/gabriel/miniconda3/envs/pt_nlp/lib/python3.9/http/client.py\", line 1371, in getresponse\n",
      "    response.begin()\n",
      "  File \"/home/gabriel/miniconda3/envs/pt_nlp/lib/python3.9/http/client.py\", line 319, in begin\n",
      "    version, status, reason = self._read_status()\n",
      "  File \"/home/gabriel/miniconda3/envs/pt_nlp/lib/python3.9/http/client.py\", line 288, in _read_status\n",
      "    raise RemoteDisconnected(\"Remote end closed connection without\"\n",
      "http.client.RemoteDisconnected: Remote end closed connection without response\n",
      "\n",
      "During handling of the above exception, another exception occurred:\n",
      "\n",
      "Traceback (most recent call last):\n",
      "  File \"/home/gabriel/miniconda3/envs/pt_nlp/lib/python3.9/site-packages/requests/adapters.py\", line 440, in send\n",
      "    resp = conn.urlopen(\n",
      "  File \"/home/gabriel/miniconda3/envs/pt_nlp/lib/python3.9/site-packages/urllib3/connectionpool.py\", line 755, in urlopen\n",
      "    retries = retries.increment(\n",
      "  File \"/home/gabriel/miniconda3/envs/pt_nlp/lib/python3.9/site-packages/urllib3/util/retry.py\", line 532, in increment\n",
      "    raise six.reraise(type(error), error, _stacktrace)\n",
      "  File \"/home/gabriel/miniconda3/envs/pt_nlp/lib/python3.9/site-packages/urllib3/packages/six.py\", line 769, in reraise\n",
      "    raise value.with_traceback(tb)\n",
      "  File \"/home/gabriel/miniconda3/envs/pt_nlp/lib/python3.9/site-packages/urllib3/connectionpool.py\", line 699, in urlopen\n",
      "    httplib_response = self._make_request(\n",
      "  File \"/home/gabriel/miniconda3/envs/pt_nlp/lib/python3.9/site-packages/urllib3/connectionpool.py\", line 445, in _make_request\n",
      "    six.raise_from(e, None)\n",
      "  File \"<string>\", line 3, in raise_from\n",
      "  File \"/home/gabriel/miniconda3/envs/pt_nlp/lib/python3.9/site-packages/urllib3/connectionpool.py\", line 440, in _make_request\n",
      "    httplib_response = conn.getresponse()\n",
      "  File \"/home/gabriel/miniconda3/envs/pt_nlp/lib/python3.9/http/client.py\", line 1371, in getresponse\n",
      "    response.begin()\n",
      "  File \"/home/gabriel/miniconda3/envs/pt_nlp/lib/python3.9/http/client.py\", line 319, in begin\n",
      "    version, status, reason = self._read_status()\n",
      "  File \"/home/gabriel/miniconda3/envs/pt_nlp/lib/python3.9/http/client.py\", line 288, in _read_status\n",
      "    raise RemoteDisconnected(\"Remote end closed connection without\"\n",
      "urllib3.exceptions.ProtocolError: ('Connection aborted.', RemoteDisconnected('Remote end closed connection without response'))\n",
      "\n",
      "During handling of the above exception, another exception occurred:\n",
      "\n",
      "Traceback (most recent call last):\n",
      "  File \"/tmp/ipykernel_6102/253839466.py\", line 10, in build_dataset\n",
      "    data = requests.get(url)\n",
      "  File \"/home/gabriel/miniconda3/envs/pt_nlp/lib/python3.9/site-packages/requests/api.py\", line 75, in get\n",
      "    return request('get', url, params=params, **kwargs)\n",
      "  File \"/home/gabriel/miniconda3/envs/pt_nlp/lib/python3.9/site-packages/requests/api.py\", line 61, in request\n",
      "    return session.request(method=method, url=url, **kwargs)\n",
      "  File \"/home/gabriel/miniconda3/envs/pt_nlp/lib/python3.9/site-packages/requests/sessions.py\", line 529, in request\n",
      "    resp = self.send(prep, **send_kwargs)\n",
      "  File \"/home/gabriel/miniconda3/envs/pt_nlp/lib/python3.9/site-packages/requests/sessions.py\", line 645, in send\n",
      "    r = adapter.send(request, **kwargs)\n",
      "  File \"/home/gabriel/miniconda3/envs/pt_nlp/lib/python3.9/site-packages/requests/adapters.py\", line 501, in send\n",
      "    raise ConnectionError(err, request=request)\n",
      "requests.exceptions.ConnectionError: ('Connection aborted.', RemoteDisconnected('Remote end closed connection without response'))\n",
      "ERROR:root:('Connection aborted.', RemoteDisconnected('Remote end closed connection without response'))\n",
      "Traceback (most recent call last):\n",
      "  File \"/home/gabriel/miniconda3/envs/pt_nlp/lib/python3.9/site-packages/urllib3/connectionpool.py\", line 699, in urlopen\n",
      "    httplib_response = self._make_request(\n",
      "  File \"/home/gabriel/miniconda3/envs/pt_nlp/lib/python3.9/site-packages/urllib3/connectionpool.py\", line 445, in _make_request\n",
      "    six.raise_from(e, None)\n",
      "  File \"<string>\", line 3, in raise_from\n",
      "  File \"/home/gabriel/miniconda3/envs/pt_nlp/lib/python3.9/site-packages/urllib3/connectionpool.py\", line 440, in _make_request\n",
      "    httplib_response = conn.getresponse()\n",
      "  File \"/home/gabriel/miniconda3/envs/pt_nlp/lib/python3.9/http/client.py\", line 1371, in getresponse\n",
      "    response.begin()\n",
      "  File \"/home/gabriel/miniconda3/envs/pt_nlp/lib/python3.9/http/client.py\", line 319, in begin\n",
      "    version, status, reason = self._read_status()\n",
      "  File \"/home/gabriel/miniconda3/envs/pt_nlp/lib/python3.9/http/client.py\", line 288, in _read_status\n",
      "    raise RemoteDisconnected(\"Remote end closed connection without\"\n",
      "http.client.RemoteDisconnected: Remote end closed connection without response\n",
      "\n",
      "During handling of the above exception, another exception occurred:\n",
      "\n",
      "Traceback (most recent call last):\n",
      "  File \"/home/gabriel/miniconda3/envs/pt_nlp/lib/python3.9/site-packages/requests/adapters.py\", line 440, in send\n",
      "    resp = conn.urlopen(\n",
      "  File \"/home/gabriel/miniconda3/envs/pt_nlp/lib/python3.9/site-packages/urllib3/connectionpool.py\", line 755, in urlopen\n",
      "    retries = retries.increment(\n",
      "  File \"/home/gabriel/miniconda3/envs/pt_nlp/lib/python3.9/site-packages/urllib3/util/retry.py\", line 532, in increment\n",
      "    raise six.reraise(type(error), error, _stacktrace)\n",
      "  File \"/home/gabriel/miniconda3/envs/pt_nlp/lib/python3.9/site-packages/urllib3/packages/six.py\", line 769, in reraise\n",
      "    raise value.with_traceback(tb)\n",
      "  File \"/home/gabriel/miniconda3/envs/pt_nlp/lib/python3.9/site-packages/urllib3/connectionpool.py\", line 699, in urlopen\n",
      "    httplib_response = self._make_request(\n",
      "  File \"/home/gabriel/miniconda3/envs/pt_nlp/lib/python3.9/site-packages/urllib3/connectionpool.py\", line 445, in _make_request\n",
      "    six.raise_from(e, None)\n",
      "  File \"<string>\", line 3, in raise_from\n",
      "  File \"/home/gabriel/miniconda3/envs/pt_nlp/lib/python3.9/site-packages/urllib3/connectionpool.py\", line 440, in _make_request\n",
      "    httplib_response = conn.getresponse()\n",
      "  File \"/home/gabriel/miniconda3/envs/pt_nlp/lib/python3.9/http/client.py\", line 1371, in getresponse\n",
      "    response.begin()\n",
      "  File \"/home/gabriel/miniconda3/envs/pt_nlp/lib/python3.9/http/client.py\", line 319, in begin\n",
      "    version, status, reason = self._read_status()\n",
      "  File \"/home/gabriel/miniconda3/envs/pt_nlp/lib/python3.9/http/client.py\", line 288, in _read_status\n",
      "    raise RemoteDisconnected(\"Remote end closed connection without\"\n",
      "urllib3.exceptions.ProtocolError: ('Connection aborted.', RemoteDisconnected('Remote end closed connection without response'))\n",
      "\n",
      "During handling of the above exception, another exception occurred:\n",
      "\n",
      "Traceback (most recent call last):\n",
      "  File \"/tmp/ipykernel_6102/253839466.py\", line 10, in build_dataset\n",
      "    data = requests.get(url)\n",
      "  File \"/home/gabriel/miniconda3/envs/pt_nlp/lib/python3.9/site-packages/requests/api.py\", line 75, in get\n",
      "    return request('get', url, params=params, **kwargs)\n",
      "  File \"/home/gabriel/miniconda3/envs/pt_nlp/lib/python3.9/site-packages/requests/api.py\", line 61, in request\n",
      "    return session.request(method=method, url=url, **kwargs)\n",
      "  File \"/home/gabriel/miniconda3/envs/pt_nlp/lib/python3.9/site-packages/requests/sessions.py\", line 529, in request\n",
      "    resp = self.send(prep, **send_kwargs)\n",
      "  File \"/home/gabriel/miniconda3/envs/pt_nlp/lib/python3.9/site-packages/requests/sessions.py\", line 645, in send\n",
      "    r = adapter.send(request, **kwargs)\n",
      "  File \"/home/gabriel/miniconda3/envs/pt_nlp/lib/python3.9/site-packages/requests/adapters.py\", line 501, in send\n",
      "    raise ConnectionError(err, request=request)\n",
      "requests.exceptions.ConnectionError: ('Connection aborted.', RemoteDisconnected('Remote end closed connection without response'))\n"
     ]
    },
    {
     "name": "stderr",
     "output_type": "stream",
     "text": [
      "WARNING:bs4.dammit:Some characters could not be decoded, and were replaced with REPLACEMENT CHARACTER.\n",
      "WARNING:urllib3.connection:Certificate did not match expected hostname: www.diyfurniturestore.com. Certificate: {'subject': ((('countryName', 'US'),), (('stateOrProvinceName', 'California'),), (('localityName', 'San Francisco'),), (('organizationName', 'Cloudflare, Inc.'),), (('commonName', '*.myshopify.com'),)), 'issuer': ((('countryName', 'US'),), (('organizationName', 'Cloudflare, Inc.'),), (('commonName', 'Cloudflare Inc ECC CA-3'),)), 'version': 3, 'serialNumber': '08D14009B8CCFD7A28D460E790084A96', 'notBefore': 'Sep 13 00:00:00 2021 GMT', 'notAfter': 'Sep 12 23:59:59 2022 GMT', 'subjectAltName': (('DNS', 'myshopify.com'), ('DNS', '*.myshopify.com')), 'OCSP': ('http://ocsp.digicert.com',), 'caIssuers': ('http://cacerts.digicert.com/CloudflareIncECCCA-3.crt',), 'crlDistributionPoints': ('http://crl3.digicert.com/CloudflareIncECCCA-3.crl', 'http://crl4.digicert.com/CloudflareIncECCCA-3.crl')}\n",
      "ERROR:root:HTTPSConnectionPool(host='www.diyfurniturestore.com', port=443): Max retries exceeded with url: /products/inside-out (Caused by SSLError(SSLCertVerificationError(\"hostname 'www.diyfurniturestore.com' doesn't match either of 'myshopify.com', '*.myshopify.com'\")))\n",
      "Traceback (most recent call last):\n",
      "  File \"/home/gabriel/miniconda3/envs/pt_nlp/lib/python3.9/site-packages/urllib3/connectionpool.py\", line 699, in urlopen\n",
      "    httplib_response = self._make_request(\n",
      "  File \"/home/gabriel/miniconda3/envs/pt_nlp/lib/python3.9/site-packages/urllib3/connectionpool.py\", line 382, in _make_request\n",
      "    self._validate_conn(conn)\n",
      "  File \"/home/gabriel/miniconda3/envs/pt_nlp/lib/python3.9/site-packages/urllib3/connectionpool.py\", line 1010, in _validate_conn\n",
      "    conn.connect()\n",
      "  File \"/home/gabriel/miniconda3/envs/pt_nlp/lib/python3.9/site-packages/urllib3/connection.py\", line 469, in connect\n",
      "    _match_hostname(cert, self.assert_hostname or server_hostname)\n",
      "  File \"/home/gabriel/miniconda3/envs/pt_nlp/lib/python3.9/site-packages/urllib3/connection.py\", line 542, in _match_hostname\n",
      "    match_hostname(cert, asserted_hostname)\n",
      "  File \"/home/gabriel/miniconda3/envs/pt_nlp/lib/python3.9/ssl.py\", line 416, in match_hostname\n",
      "    raise CertificateError(\"hostname %r \"\n",
      "ssl.SSLCertVerificationError: (\"hostname 'www.diyfurniturestore.com' doesn't match either of 'myshopify.com', '*.myshopify.com'\",)\n",
      "\n",
      "During handling of the above exception, another exception occurred:\n",
      "\n",
      "Traceback (most recent call last):\n",
      "  File \"/home/gabriel/miniconda3/envs/pt_nlp/lib/python3.9/site-packages/requests/adapters.py\", line 440, in send\n",
      "    resp = conn.urlopen(\n",
      "  File \"/home/gabriel/miniconda3/envs/pt_nlp/lib/python3.9/site-packages/urllib3/connectionpool.py\", line 755, in urlopen\n",
      "    retries = retries.increment(\n",
      "  File \"/home/gabriel/miniconda3/envs/pt_nlp/lib/python3.9/site-packages/urllib3/util/retry.py\", line 574, in increment\n",
      "    raise MaxRetryError(_pool, url, error or ResponseError(cause))\n",
      "urllib3.exceptions.MaxRetryError: HTTPSConnectionPool(host='www.diyfurniturestore.com', port=443): Max retries exceeded with url: /products/inside-out (Caused by SSLError(SSLCertVerificationError(\"hostname 'www.diyfurniturestore.com' doesn't match either of 'myshopify.com', '*.myshopify.com'\")))\n",
      "\n",
      "During handling of the above exception, another exception occurred:\n",
      "\n",
      "Traceback (most recent call last):\n",
      "  File \"/tmp/ipykernel_6102/253839466.py\", line 10, in build_dataset\n",
      "    data = requests.get(url)\n",
      "  File \"/home/gabriel/miniconda3/envs/pt_nlp/lib/python3.9/site-packages/requests/api.py\", line 75, in get\n",
      "    return request('get', url, params=params, **kwargs)\n",
      "  File \"/home/gabriel/miniconda3/envs/pt_nlp/lib/python3.9/site-packages/requests/api.py\", line 61, in request\n",
      "    return session.request(method=method, url=url, **kwargs)\n",
      "  File \"/home/gabriel/miniconda3/envs/pt_nlp/lib/python3.9/site-packages/requests/sessions.py\", line 529, in request\n",
      "    resp = self.send(prep, **send_kwargs)\n",
      "  File \"/home/gabriel/miniconda3/envs/pt_nlp/lib/python3.9/site-packages/requests/sessions.py\", line 645, in send\n",
      "    r = adapter.send(request, **kwargs)\n",
      "  File \"/home/gabriel/miniconda3/envs/pt_nlp/lib/python3.9/site-packages/requests/adapters.py\", line 517, in send\n",
      "    raise SSLError(e, request=request)\n",
      "requests.exceptions.SSLError: HTTPSConnectionPool(host='www.diyfurniturestore.com', port=443): Max retries exceeded with url: /products/inside-out (Caused by SSLError(SSLCertVerificationError(\"hostname 'www.diyfurniturestore.com' doesn't match either of 'myshopify.com', '*.myshopify.com'\")))\n",
      "ERROR:root:HTTPSConnectionPool(host='www.langria.com', port=443): Max retries exceeded with url: /products/laptop-desk-cart (Caused by NewConnectionError('<urllib3.connection.HTTPSConnection object at 0x7f1728877820>: Failed to establish a new connection: [Errno -2] Name or service not known'))\n",
      "Traceback (most recent call last):\n",
      "  File \"/home/gabriel/miniconda3/envs/pt_nlp/lib/python3.9/site-packages/urllib3/connection.py\", line 174, in _new_conn\n",
      "    conn = connection.create_connection(\n",
      "  File \"/home/gabriel/miniconda3/envs/pt_nlp/lib/python3.9/site-packages/urllib3/util/connection.py\", line 73, in create_connection\n",
      "    for res in socket.getaddrinfo(host, port, family, socket.SOCK_STREAM):\n",
      "  File \"/home/gabriel/miniconda3/envs/pt_nlp/lib/python3.9/socket.py\", line 954, in getaddrinfo\n",
      "    for res in _socket.getaddrinfo(host, port, family, type, proto, flags):\n",
      "socket.gaierror: [Errno -2] Name or service not known\n",
      "\n",
      "During handling of the above exception, another exception occurred:\n",
      "\n",
      "Traceback (most recent call last):\n",
      "  File \"/home/gabriel/miniconda3/envs/pt_nlp/lib/python3.9/site-packages/urllib3/connectionpool.py\", line 699, in urlopen\n",
      "    httplib_response = self._make_request(\n",
      "  File \"/home/gabriel/miniconda3/envs/pt_nlp/lib/python3.9/site-packages/urllib3/connectionpool.py\", line 382, in _make_request\n",
      "    self._validate_conn(conn)\n",
      "  File \"/home/gabriel/miniconda3/envs/pt_nlp/lib/python3.9/site-packages/urllib3/connectionpool.py\", line 1010, in _validate_conn\n",
      "    conn.connect()\n",
      "  File \"/home/gabriel/miniconda3/envs/pt_nlp/lib/python3.9/site-packages/urllib3/connection.py\", line 358, in connect\n",
      "    conn = self._new_conn()\n",
      "  File \"/home/gabriel/miniconda3/envs/pt_nlp/lib/python3.9/site-packages/urllib3/connection.py\", line 186, in _new_conn\n",
      "    raise NewConnectionError(\n",
      "urllib3.exceptions.NewConnectionError: <urllib3.connection.HTTPSConnection object at 0x7f1728877820>: Failed to establish a new connection: [Errno -2] Name or service not known\n",
      "\n",
      "During handling of the above exception, another exception occurred:\n",
      "\n",
      "Traceback (most recent call last):\n",
      "  File \"/home/gabriel/miniconda3/envs/pt_nlp/lib/python3.9/site-packages/requests/adapters.py\", line 440, in send\n",
      "    resp = conn.urlopen(\n",
      "  File \"/home/gabriel/miniconda3/envs/pt_nlp/lib/python3.9/site-packages/urllib3/connectionpool.py\", line 755, in urlopen\n",
      "    retries = retries.increment(\n",
      "  File \"/home/gabriel/miniconda3/envs/pt_nlp/lib/python3.9/site-packages/urllib3/util/retry.py\", line 574, in increment\n",
      "    raise MaxRetryError(_pool, url, error or ResponseError(cause))\n",
      "urllib3.exceptions.MaxRetryError: HTTPSConnectionPool(host='www.langria.com', port=443): Max retries exceeded with url: /products/laptop-desk-cart (Caused by NewConnectionError('<urllib3.connection.HTTPSConnection object at 0x7f1728877820>: Failed to establish a new connection: [Errno -2] Name or service not known'))\n",
      "\n",
      "During handling of the above exception, another exception occurred:\n",
      "\n",
      "Traceback (most recent call last):\n",
      "  File \"/tmp/ipykernel_6102/253839466.py\", line 10, in build_dataset\n",
      "    data = requests.get(url)\n",
      "  File \"/home/gabriel/miniconda3/envs/pt_nlp/lib/python3.9/site-packages/requests/api.py\", line 75, in get\n",
      "    return request('get', url, params=params, **kwargs)\n",
      "  File \"/home/gabriel/miniconda3/envs/pt_nlp/lib/python3.9/site-packages/requests/api.py\", line 61, in request\n",
      "    return session.request(method=method, url=url, **kwargs)\n",
      "  File \"/home/gabriel/miniconda3/envs/pt_nlp/lib/python3.9/site-packages/requests/sessions.py\", line 529, in request\n",
      "    resp = self.send(prep, **send_kwargs)\n",
      "  File \"/home/gabriel/miniconda3/envs/pt_nlp/lib/python3.9/site-packages/requests/sessions.py\", line 645, in send\n",
      "    r = adapter.send(request, **kwargs)\n",
      "  File \"/home/gabriel/miniconda3/envs/pt_nlp/lib/python3.9/site-packages/requests/adapters.py\", line 519, in send\n",
      "    raise ConnectionError(e, request=request)\n",
      "requests.exceptions.ConnectionError: HTTPSConnectionPool(host='www.langria.com', port=443): Max retries exceeded with url: /products/laptop-desk-cart (Caused by NewConnectionError('<urllib3.connection.HTTPSConnection object at 0x7f1728877820>: Failed to establish a new connection: [Errno -2] Name or service not known'))\n"
     ]
    },
    {
     "name": "stderr",
     "output_type": "stream",
     "text": [
      "ERROR:root:HTTPSConnectionPool(host='birba.co.za', port=443): Max retries exceeded with url: /products/elkay-coffee-table-with-black-resign-line-detail (Caused by NewConnectionError('<urllib3.connection.HTTPSConnection object at 0x7f1724098a30>: Failed to establish a new connection: [Errno -2] Name or service not known'))\n",
      "Traceback (most recent call last):\n",
      "  File \"/home/gabriel/miniconda3/envs/pt_nlp/lib/python3.9/site-packages/urllib3/connection.py\", line 174, in _new_conn\n",
      "    conn = connection.create_connection(\n",
      "  File \"/home/gabriel/miniconda3/envs/pt_nlp/lib/python3.9/site-packages/urllib3/util/connection.py\", line 73, in create_connection\n",
      "    for res in socket.getaddrinfo(host, port, family, socket.SOCK_STREAM):\n",
      "  File \"/home/gabriel/miniconda3/envs/pt_nlp/lib/python3.9/socket.py\", line 954, in getaddrinfo\n",
      "    for res in _socket.getaddrinfo(host, port, family, type, proto, flags):\n",
      "socket.gaierror: [Errno -2] Name or service not known\n",
      "\n",
      "During handling of the above exception, another exception occurred:\n",
      "\n",
      "Traceback (most recent call last):\n",
      "  File \"/home/gabriel/miniconda3/envs/pt_nlp/lib/python3.9/site-packages/urllib3/connectionpool.py\", line 699, in urlopen\n",
      "    httplib_response = self._make_request(\n",
      "  File \"/home/gabriel/miniconda3/envs/pt_nlp/lib/python3.9/site-packages/urllib3/connectionpool.py\", line 382, in _make_request\n",
      "    self._validate_conn(conn)\n",
      "  File \"/home/gabriel/miniconda3/envs/pt_nlp/lib/python3.9/site-packages/urllib3/connectionpool.py\", line 1010, in _validate_conn\n",
      "    conn.connect()\n",
      "  File \"/home/gabriel/miniconda3/envs/pt_nlp/lib/python3.9/site-packages/urllib3/connection.py\", line 358, in connect\n",
      "    conn = self._new_conn()\n",
      "  File \"/home/gabriel/miniconda3/envs/pt_nlp/lib/python3.9/site-packages/urllib3/connection.py\", line 186, in _new_conn\n",
      "    raise NewConnectionError(\n",
      "urllib3.exceptions.NewConnectionError: <urllib3.connection.HTTPSConnection object at 0x7f1724098a30>: Failed to establish a new connection: [Errno -2] Name or service not known\n",
      "\n",
      "During handling of the above exception, another exception occurred:\n",
      "\n",
      "Traceback (most recent call last):\n",
      "  File \"/home/gabriel/miniconda3/envs/pt_nlp/lib/python3.9/site-packages/requests/adapters.py\", line 440, in send\n",
      "    resp = conn.urlopen(\n",
      "  File \"/home/gabriel/miniconda3/envs/pt_nlp/lib/python3.9/site-packages/urllib3/connectionpool.py\", line 755, in urlopen\n",
      "    retries = retries.increment(\n",
      "  File \"/home/gabriel/miniconda3/envs/pt_nlp/lib/python3.9/site-packages/urllib3/util/retry.py\", line 574, in increment\n",
      "    raise MaxRetryError(_pool, url, error or ResponseError(cause))\n",
      "urllib3.exceptions.MaxRetryError: HTTPSConnectionPool(host='birba.co.za', port=443): Max retries exceeded with url: /products/elkay-coffee-table-with-black-resign-line-detail (Caused by NewConnectionError('<urllib3.connection.HTTPSConnection object at 0x7f1724098a30>: Failed to establish a new connection: [Errno -2] Name or service not known'))\n",
      "\n",
      "During handling of the above exception, another exception occurred:\n",
      "\n",
      "Traceback (most recent call last):\n",
      "  File \"/tmp/ipykernel_6102/253839466.py\", line 10, in build_dataset\n",
      "    data = requests.get(url)\n",
      "  File \"/home/gabriel/miniconda3/envs/pt_nlp/lib/python3.9/site-packages/requests/api.py\", line 75, in get\n",
      "    return request('get', url, params=params, **kwargs)\n",
      "  File \"/home/gabriel/miniconda3/envs/pt_nlp/lib/python3.9/site-packages/requests/api.py\", line 61, in request\n",
      "    return session.request(method=method, url=url, **kwargs)\n",
      "  File \"/home/gabriel/miniconda3/envs/pt_nlp/lib/python3.9/site-packages/requests/sessions.py\", line 529, in request\n",
      "    resp = self.send(prep, **send_kwargs)\n",
      "  File \"/home/gabriel/miniconda3/envs/pt_nlp/lib/python3.9/site-packages/requests/sessions.py\", line 645, in send\n",
      "    r = adapter.send(request, **kwargs)\n",
      "  File \"/home/gabriel/miniconda3/envs/pt_nlp/lib/python3.9/site-packages/requests/adapters.py\", line 519, in send\n",
      "    raise ConnectionError(e, request=request)\n",
      "requests.exceptions.ConnectionError: HTTPSConnectionPool(host='birba.co.za', port=443): Max retries exceeded with url: /products/elkay-coffee-table-with-black-resign-line-detail (Caused by NewConnectionError('<urllib3.connection.HTTPSConnection object at 0x7f1724098a30>: Failed to establish a new connection: [Errno -2] Name or service not known'))\n",
      "WARNING:urllib3.connection:Certificate did not match expected hostname: inliving.com. Certificate: {'subject': ((('commonName', '*.wordpress.com'),),), 'issuer': ((('countryName', 'GB'),), (('stateOrProvinceName', 'Greater Manchester'),), (('localityName', 'Salford'),), (('organizationName', 'Sectigo Limited'),), (('commonName', 'Sectigo RSA Domain Validation Secure Server CA'),)), 'version': 3, 'serialNumber': '60F57DE92D98F2C6F0F064F54CF37314', 'notBefore': 'Aug 12 00:00:00 2020 GMT', 'notAfter': 'Nov 14 00:00:00 2022 GMT', 'subjectAltName': (('DNS', '*.wordpress.com'), ('DNS', 'wordpress.com')), 'OCSP': ('http://ocsp.sectigo.com',), 'caIssuers': ('http://crt.sectigo.com/SectigoRSADomainValidationSecureServerCA.crt',)}\n",
      "ERROR:root:HTTPSConnectionPool(host='inliving.com', port=443): Max retries exceeded with url: /products/ (Caused by SSLError(SSLCertVerificationError(\"hostname 'inliving.com' doesn't match either of '*.wordpress.com', 'wordpress.com'\")))\n",
      "Traceback (most recent call last):\n",
      "  File \"/home/gabriel/miniconda3/envs/pt_nlp/lib/python3.9/site-packages/urllib3/connectionpool.py\", line 699, in urlopen\n",
      "    httplib_response = self._make_request(\n",
      "  File \"/home/gabriel/miniconda3/envs/pt_nlp/lib/python3.9/site-packages/urllib3/connectionpool.py\", line 382, in _make_request\n",
      "    self._validate_conn(conn)\n",
      "  File \"/home/gabriel/miniconda3/envs/pt_nlp/lib/python3.9/site-packages/urllib3/connectionpool.py\", line 1010, in _validate_conn\n",
      "    conn.connect()\n",
      "  File \"/home/gabriel/miniconda3/envs/pt_nlp/lib/python3.9/site-packages/urllib3/connection.py\", line 469, in connect\n",
      "    _match_hostname(cert, self.assert_hostname or server_hostname)\n",
      "  File \"/home/gabriel/miniconda3/envs/pt_nlp/lib/python3.9/site-packages/urllib3/connection.py\", line 542, in _match_hostname\n",
      "    match_hostname(cert, asserted_hostname)\n",
      "  File \"/home/gabriel/miniconda3/envs/pt_nlp/lib/python3.9/ssl.py\", line 416, in match_hostname\n",
      "    raise CertificateError(\"hostname %r \"\n",
      "ssl.SSLCertVerificationError: (\"hostname 'inliving.com' doesn't match either of '*.wordpress.com', 'wordpress.com'\",)\n",
      "\n",
      "During handling of the above exception, another exception occurred:\n",
      "\n",
      "Traceback (most recent call last):\n",
      "  File \"/home/gabriel/miniconda3/envs/pt_nlp/lib/python3.9/site-packages/requests/adapters.py\", line 440, in send\n",
      "    resp = conn.urlopen(\n",
      "  File \"/home/gabriel/miniconda3/envs/pt_nlp/lib/python3.9/site-packages/urllib3/connectionpool.py\", line 755, in urlopen\n",
      "    retries = retries.increment(\n",
      "  File \"/home/gabriel/miniconda3/envs/pt_nlp/lib/python3.9/site-packages/urllib3/util/retry.py\", line 574, in increment\n",
      "    raise MaxRetryError(_pool, url, error or ResponseError(cause))\n",
      "urllib3.exceptions.MaxRetryError: HTTPSConnectionPool(host='inliving.com', port=443): Max retries exceeded with url: /products/ (Caused by SSLError(SSLCertVerificationError(\"hostname 'inliving.com' doesn't match either of '*.wordpress.com', 'wordpress.com'\")))\n",
      "\n",
      "During handling of the above exception, another exception occurred:\n",
      "\n",
      "Traceback (most recent call last):\n",
      "  File \"/tmp/ipykernel_6102/253839466.py\", line 10, in build_dataset\n",
      "    data = requests.get(url)\n",
      "  File \"/home/gabriel/miniconda3/envs/pt_nlp/lib/python3.9/site-packages/requests/api.py\", line 75, in get\n",
      "    return request('get', url, params=params, **kwargs)\n",
      "  File \"/home/gabriel/miniconda3/envs/pt_nlp/lib/python3.9/site-packages/requests/api.py\", line 61, in request\n",
      "    return session.request(method=method, url=url, **kwargs)\n",
      "  File \"/home/gabriel/miniconda3/envs/pt_nlp/lib/python3.9/site-packages/requests/sessions.py\", line 529, in request\n",
      "    resp = self.send(prep, **send_kwargs)\n",
      "  File \"/home/gabriel/miniconda3/envs/pt_nlp/lib/python3.9/site-packages/requests/sessions.py\", line 645, in send\n",
      "    r = adapter.send(request, **kwargs)\n",
      "  File \"/home/gabriel/miniconda3/envs/pt_nlp/lib/python3.9/site-packages/requests/adapters.py\", line 517, in send\n",
      "    raise SSLError(e, request=request)\n",
      "requests.exceptions.SSLError: HTTPSConnectionPool(host='inliving.com', port=443): Max retries exceeded with url: /products/ (Caused by SSLError(SSLCertVerificationError(\"hostname 'inliving.com' doesn't match either of '*.wordpress.com', 'wordpress.com'\")))\n"
     ]
    },
    {
     "name": "stderr",
     "output_type": "stream",
     "text": [
      "ERROR:root:HTTPSConnectionPool(host='www.fdxonline.com', port=443): Max retries exceeded with url: /en/en/products/chaise-lounge-by-dfn (Caused by NewConnectionError('<urllib3.connection.HTTPSConnection object at 0x7f172b4f33d0>: Failed to establish a new connection: [Errno 111] Connection refused'))\n",
      "Traceback (most recent call last):\n",
      "  File \"/home/gabriel/miniconda3/envs/pt_nlp/lib/python3.9/site-packages/urllib3/connection.py\", line 174, in _new_conn\n",
      "    conn = connection.create_connection(\n",
      "  File \"/home/gabriel/miniconda3/envs/pt_nlp/lib/python3.9/site-packages/urllib3/util/connection.py\", line 96, in create_connection\n",
      "    raise err\n",
      "  File \"/home/gabriel/miniconda3/envs/pt_nlp/lib/python3.9/site-packages/urllib3/util/connection.py\", line 86, in create_connection\n",
      "    sock.connect(sa)\n",
      "ConnectionRefusedError: [Errno 111] Connection refused\n",
      "\n",
      "During handling of the above exception, another exception occurred:\n",
      "\n",
      "Traceback (most recent call last):\n",
      "  File \"/home/gabriel/miniconda3/envs/pt_nlp/lib/python3.9/site-packages/urllib3/connectionpool.py\", line 699, in urlopen\n",
      "    httplib_response = self._make_request(\n",
      "  File \"/home/gabriel/miniconda3/envs/pt_nlp/lib/python3.9/site-packages/urllib3/connectionpool.py\", line 382, in _make_request\n",
      "    self._validate_conn(conn)\n",
      "  File \"/home/gabriel/miniconda3/envs/pt_nlp/lib/python3.9/site-packages/urllib3/connectionpool.py\", line 1010, in _validate_conn\n",
      "    conn.connect()\n",
      "  File \"/home/gabriel/miniconda3/envs/pt_nlp/lib/python3.9/site-packages/urllib3/connection.py\", line 358, in connect\n",
      "    conn = self._new_conn()\n",
      "  File \"/home/gabriel/miniconda3/envs/pt_nlp/lib/python3.9/site-packages/urllib3/connection.py\", line 186, in _new_conn\n",
      "    raise NewConnectionError(\n",
      "urllib3.exceptions.NewConnectionError: <urllib3.connection.HTTPSConnection object at 0x7f172b4f33d0>: Failed to establish a new connection: [Errno 111] Connection refused\n",
      "\n",
      "During handling of the above exception, another exception occurred:\n",
      "\n",
      "Traceback (most recent call last):\n",
      "  File \"/home/gabriel/miniconda3/envs/pt_nlp/lib/python3.9/site-packages/requests/adapters.py\", line 440, in send\n",
      "    resp = conn.urlopen(\n",
      "  File \"/home/gabriel/miniconda3/envs/pt_nlp/lib/python3.9/site-packages/urllib3/connectionpool.py\", line 755, in urlopen\n",
      "    retries = retries.increment(\n",
      "  File \"/home/gabriel/miniconda3/envs/pt_nlp/lib/python3.9/site-packages/urllib3/util/retry.py\", line 574, in increment\n",
      "    raise MaxRetryError(_pool, url, error or ResponseError(cause))\n",
      "urllib3.exceptions.MaxRetryError: HTTPSConnectionPool(host='www.fdxonline.com', port=443): Max retries exceeded with url: /en/en/products/chaise-lounge-by-dfn (Caused by NewConnectionError('<urllib3.connection.HTTPSConnection object at 0x7f172b4f33d0>: Failed to establish a new connection: [Errno 111] Connection refused'))\n",
      "\n",
      "During handling of the above exception, another exception occurred:\n",
      "\n",
      "Traceback (most recent call last):\n",
      "  File \"/tmp/ipykernel_6102/253839466.py\", line 10, in build_dataset\n",
      "    data = requests.get(url)\n",
      "  File \"/home/gabriel/miniconda3/envs/pt_nlp/lib/python3.9/site-packages/requests/api.py\", line 75, in get\n",
      "    return request('get', url, params=params, **kwargs)\n",
      "  File \"/home/gabriel/miniconda3/envs/pt_nlp/lib/python3.9/site-packages/requests/api.py\", line 61, in request\n",
      "    return session.request(method=method, url=url, **kwargs)\n",
      "  File \"/home/gabriel/miniconda3/envs/pt_nlp/lib/python3.9/site-packages/requests/sessions.py\", line 529, in request\n",
      "    resp = self.send(prep, **send_kwargs)\n",
      "  File \"/home/gabriel/miniconda3/envs/pt_nlp/lib/python3.9/site-packages/requests/sessions.py\", line 645, in send\n",
      "    r = adapter.send(request, **kwargs)\n",
      "  File \"/home/gabriel/miniconda3/envs/pt_nlp/lib/python3.9/site-packages/requests/adapters.py\", line 519, in send\n",
      "    raise ConnectionError(e, request=request)\n",
      "requests.exceptions.ConnectionError: HTTPSConnectionPool(host='www.fdxonline.com', port=443): Max retries exceeded with url: /en/en/products/chaise-lounge-by-dfn (Caused by NewConnectionError('<urllib3.connection.HTTPSConnection object at 0x7f172b4f33d0>: Failed to establish a new connection: [Errno 111] Connection refused'))\n",
      "WARNING:urllib3.connection:Certificate did not match expected hostname: www.pacificlifestyledecor.com. Certificate: {'subject': ((('countryName', 'US'),), (('stateOrProvinceName', 'California'),), (('localityName', 'San Francisco'),), (('organizationName', 'Cloudflare, Inc.'),), (('commonName', '*.myshopify.com'),)), 'issuer': ((('countryName', 'US'),), (('organizationName', 'Cloudflare, Inc.'),), (('commonName', 'Cloudflare Inc ECC CA-3'),)), 'version': 3, 'serialNumber': '08D14009B8CCFD7A28D460E790084A96', 'notBefore': 'Sep 13 00:00:00 2021 GMT', 'notAfter': 'Sep 12 23:59:59 2022 GMT', 'subjectAltName': (('DNS', 'myshopify.com'), ('DNS', '*.myshopify.com')), 'OCSP': ('http://ocsp.digicert.com',), 'caIssuers': ('http://cacerts.digicert.com/CloudflareIncECCCA-3.crt',), 'crlDistributionPoints': ('http://crl3.digicert.com/CloudflareIncECCCA-3.crl', 'http://crl4.digicert.com/CloudflareIncECCCA-3.crl')}\n",
      "ERROR:root:HTTPSConnectionPool(host='www.pacificlifestyledecor.com', port=443): Max retries exceeded with url: /products/outdoor-patio-pool-and-garden-wicker-storage-box (Caused by SSLError(SSLCertVerificationError(\"hostname 'www.pacificlifestyledecor.com' doesn't match either of 'myshopify.com', '*.myshopify.com'\")))\n",
      "Traceback (most recent call last):\n",
      "  File \"/home/gabriel/miniconda3/envs/pt_nlp/lib/python3.9/site-packages/urllib3/connectionpool.py\", line 699, in urlopen\n",
      "    httplib_response = self._make_request(\n",
      "  File \"/home/gabriel/miniconda3/envs/pt_nlp/lib/python3.9/site-packages/urllib3/connectionpool.py\", line 382, in _make_request\n",
      "    self._validate_conn(conn)\n",
      "  File \"/home/gabriel/miniconda3/envs/pt_nlp/lib/python3.9/site-packages/urllib3/connectionpool.py\", line 1010, in _validate_conn\n",
      "    conn.connect()\n",
      "  File \"/home/gabriel/miniconda3/envs/pt_nlp/lib/python3.9/site-packages/urllib3/connection.py\", line 469, in connect\n",
      "    _match_hostname(cert, self.assert_hostname or server_hostname)\n",
      "  File \"/home/gabriel/miniconda3/envs/pt_nlp/lib/python3.9/site-packages/urllib3/connection.py\", line 542, in _match_hostname\n",
      "    match_hostname(cert, asserted_hostname)\n",
      "  File \"/home/gabriel/miniconda3/envs/pt_nlp/lib/python3.9/ssl.py\", line 416, in match_hostname\n",
      "    raise CertificateError(\"hostname %r \"\n",
      "ssl.SSLCertVerificationError: (\"hostname 'www.pacificlifestyledecor.com' doesn't match either of 'myshopify.com', '*.myshopify.com'\",)\n",
      "\n",
      "During handling of the above exception, another exception occurred:\n",
      "\n",
      "Traceback (most recent call last):\n",
      "  File \"/home/gabriel/miniconda3/envs/pt_nlp/lib/python3.9/site-packages/requests/adapters.py\", line 440, in send\n",
      "    resp = conn.urlopen(\n",
      "  File \"/home/gabriel/miniconda3/envs/pt_nlp/lib/python3.9/site-packages/urllib3/connectionpool.py\", line 755, in urlopen\n",
      "    retries = retries.increment(\n",
      "  File \"/home/gabriel/miniconda3/envs/pt_nlp/lib/python3.9/site-packages/urllib3/util/retry.py\", line 574, in increment\n",
      "    raise MaxRetryError(_pool, url, error or ResponseError(cause))\n",
      "urllib3.exceptions.MaxRetryError: HTTPSConnectionPool(host='www.pacificlifestyledecor.com', port=443): Max retries exceeded with url: /products/outdoor-patio-pool-and-garden-wicker-storage-box (Caused by SSLError(SSLCertVerificationError(\"hostname 'www.pacificlifestyledecor.com' doesn't match either of 'myshopify.com', '*.myshopify.com'\")))\n",
      "\n",
      "During handling of the above exception, another exception occurred:\n",
      "\n",
      "Traceback (most recent call last):\n",
      "  File \"/tmp/ipykernel_6102/253839466.py\", line 10, in build_dataset\n",
      "    data = requests.get(url)\n",
      "  File \"/home/gabriel/miniconda3/envs/pt_nlp/lib/python3.9/site-packages/requests/api.py\", line 75, in get\n",
      "    return request('get', url, params=params, **kwargs)\n",
      "  File \"/home/gabriel/miniconda3/envs/pt_nlp/lib/python3.9/site-packages/requests/api.py\", line 61, in request\n",
      "    return session.request(method=method, url=url, **kwargs)\n",
      "  File \"/home/gabriel/miniconda3/envs/pt_nlp/lib/python3.9/site-packages/requests/sessions.py\", line 529, in request\n",
      "    resp = self.send(prep, **send_kwargs)\n",
      "  File \"/home/gabriel/miniconda3/envs/pt_nlp/lib/python3.9/site-packages/requests/sessions.py\", line 645, in send\n",
      "    r = adapter.send(request, **kwargs)\n",
      "  File \"/home/gabriel/miniconda3/envs/pt_nlp/lib/python3.9/site-packages/requests/adapters.py\", line 517, in send\n",
      "    raise SSLError(e, request=request)\n",
      "requests.exceptions.SSLError: HTTPSConnectionPool(host='www.pacificlifestyledecor.com', port=443): Max retries exceeded with url: /products/outdoor-patio-pool-and-garden-wicker-storage-box (Caused by SSLError(SSLCertVerificationError(\"hostname 'www.pacificlifestyledecor.com' doesn't match either of 'myshopify.com', '*.myshopify.com'\")))\n"
     ]
    },
    {
     "name": "stderr",
     "output_type": "stream",
     "text": [
      "WARNING:urllib3.connection:Certificate did not match expected hostname: rusteak.com. Certificate: {'subject': ((('countryName', 'US'),), (('stateOrProvinceName', 'California'),), (('localityName', 'San Francisco'),), (('organizationName', 'Cloudflare, Inc.'),), (('commonName', '*.myshopify.com'),)), 'issuer': ((('countryName', 'US'),), (('organizationName', 'Cloudflare, Inc.'),), (('commonName', 'Cloudflare Inc ECC CA-3'),)), 'version': 3, 'serialNumber': '08D14009B8CCFD7A28D460E790084A96', 'notBefore': 'Sep 13 00:00:00 2021 GMT', 'notAfter': 'Sep 12 23:59:59 2022 GMT', 'subjectAltName': (('DNS', 'myshopify.com'), ('DNS', '*.myshopify.com')), 'OCSP': ('http://ocsp.digicert.com',), 'caIssuers': ('http://cacerts.digicert.com/CloudflareIncECCCA-3.crt',), 'crlDistributionPoints': ('http://crl3.digicert.com/CloudflareIncECCCA-3.crl', 'http://crl4.digicert.com/CloudflareIncECCCA-3.crl')}\n",
      "ERROR:root:HTTPSConnectionPool(host='rusteak.com', port=443): Max retries exceeded with url: /products/sofa (Caused by SSLError(SSLCertVerificationError(\"hostname 'rusteak.com' doesn't match either of 'myshopify.com', '*.myshopify.com'\")))\n",
      "Traceback (most recent call last):\n",
      "  File \"/home/gabriel/miniconda3/envs/pt_nlp/lib/python3.9/site-packages/urllib3/connectionpool.py\", line 699, in urlopen\n",
      "    httplib_response = self._make_request(\n",
      "  File \"/home/gabriel/miniconda3/envs/pt_nlp/lib/python3.9/site-packages/urllib3/connectionpool.py\", line 382, in _make_request\n",
      "    self._validate_conn(conn)\n",
      "  File \"/home/gabriel/miniconda3/envs/pt_nlp/lib/python3.9/site-packages/urllib3/connectionpool.py\", line 1010, in _validate_conn\n",
      "    conn.connect()\n",
      "  File \"/home/gabriel/miniconda3/envs/pt_nlp/lib/python3.9/site-packages/urllib3/connection.py\", line 469, in connect\n",
      "    _match_hostname(cert, self.assert_hostname or server_hostname)\n",
      "  File \"/home/gabriel/miniconda3/envs/pt_nlp/lib/python3.9/site-packages/urllib3/connection.py\", line 542, in _match_hostname\n",
      "    match_hostname(cert, asserted_hostname)\n",
      "  File \"/home/gabriel/miniconda3/envs/pt_nlp/lib/python3.9/ssl.py\", line 416, in match_hostname\n",
      "    raise CertificateError(\"hostname %r \"\n",
      "ssl.SSLCertVerificationError: (\"hostname 'rusteak.com' doesn't match either of 'myshopify.com', '*.myshopify.com'\",)\n",
      "\n",
      "During handling of the above exception, another exception occurred:\n",
      "\n",
      "Traceback (most recent call last):\n",
      "  File \"/home/gabriel/miniconda3/envs/pt_nlp/lib/python3.9/site-packages/requests/adapters.py\", line 440, in send\n",
      "    resp = conn.urlopen(\n",
      "  File \"/home/gabriel/miniconda3/envs/pt_nlp/lib/python3.9/site-packages/urllib3/connectionpool.py\", line 755, in urlopen\n",
      "    retries = retries.increment(\n",
      "  File \"/home/gabriel/miniconda3/envs/pt_nlp/lib/python3.9/site-packages/urllib3/util/retry.py\", line 574, in increment\n",
      "    raise MaxRetryError(_pool, url, error or ResponseError(cause))\n",
      "urllib3.exceptions.MaxRetryError: HTTPSConnectionPool(host='rusteak.com', port=443): Max retries exceeded with url: /products/sofa (Caused by SSLError(SSLCertVerificationError(\"hostname 'rusteak.com' doesn't match either of 'myshopify.com', '*.myshopify.com'\")))\n",
      "\n",
      "During handling of the above exception, another exception occurred:\n",
      "\n",
      "Traceback (most recent call last):\n",
      "  File \"/tmp/ipykernel_6102/253839466.py\", line 10, in build_dataset\n",
      "    data = requests.get(url)\n",
      "  File \"/home/gabriel/miniconda3/envs/pt_nlp/lib/python3.9/site-packages/requests/api.py\", line 75, in get\n",
      "    return request('get', url, params=params, **kwargs)\n",
      "  File \"/home/gabriel/miniconda3/envs/pt_nlp/lib/python3.9/site-packages/requests/api.py\", line 61, in request\n",
      "    return session.request(method=method, url=url, **kwargs)\n",
      "  File \"/home/gabriel/miniconda3/envs/pt_nlp/lib/python3.9/site-packages/requests/sessions.py\", line 529, in request\n",
      "    resp = self.send(prep, **send_kwargs)\n",
      "  File \"/home/gabriel/miniconda3/envs/pt_nlp/lib/python3.9/site-packages/requests/sessions.py\", line 645, in send\n",
      "    r = adapter.send(request, **kwargs)\n",
      "  File \"/home/gabriel/miniconda3/envs/pt_nlp/lib/python3.9/site-packages/requests/adapters.py\", line 517, in send\n",
      "    raise SSLError(e, request=request)\n",
      "requests.exceptions.SSLError: HTTPSConnectionPool(host='rusteak.com', port=443): Max retries exceeded with url: /products/sofa (Caused by SSLError(SSLCertVerificationError(\"hostname 'rusteak.com' doesn't match either of 'myshopify.com', '*.myshopify.com'\")))\n",
      "WARNING:urllib3.connection:Certificate did not match expected hostname: varkoa.com. Certificate: {'subject': ((('countryName', 'US'),), (('stateOrProvinceName', 'California'),), (('localityName', 'San Francisco'),), (('organizationName', 'Cloudflare, Inc.'),), (('commonName', '*.myshopify.com'),)), 'issuer': ((('countryName', 'US'),), (('organizationName', 'Cloudflare, Inc.'),), (('commonName', 'Cloudflare Inc ECC CA-3'),)), 'version': 3, 'serialNumber': '08D14009B8CCFD7A28D460E790084A96', 'notBefore': 'Sep 13 00:00:00 2021 GMT', 'notAfter': 'Sep 12 23:59:59 2022 GMT', 'subjectAltName': (('DNS', 'myshopify.com'), ('DNS', '*.myshopify.com')), 'OCSP': ('http://ocsp.digicert.com',), 'caIssuers': ('http://cacerts.digicert.com/CloudflareIncECCCA-3.crt',), 'crlDistributionPoints': ('http://crl3.digicert.com/CloudflareIncECCCA-3.crl', 'http://crl4.digicert.com/CloudflareIncECCCA-3.crl')}\n",
      "ERROR:root:HTTPSConnectionPool(host='varkoa.com', port=443): Max retries exceeded with url: /products/sven-chair (Caused by SSLError(SSLCertVerificationError(\"hostname 'varkoa.com' doesn't match either of 'myshopify.com', '*.myshopify.com'\")))\n",
      "Traceback (most recent call last):\n",
      "  File \"/home/gabriel/miniconda3/envs/pt_nlp/lib/python3.9/site-packages/urllib3/connectionpool.py\", line 699, in urlopen\n",
      "    httplib_response = self._make_request(\n",
      "  File \"/home/gabriel/miniconda3/envs/pt_nlp/lib/python3.9/site-packages/urllib3/connectionpool.py\", line 382, in _make_request\n",
      "    self._validate_conn(conn)\n",
      "  File \"/home/gabriel/miniconda3/envs/pt_nlp/lib/python3.9/site-packages/urllib3/connectionpool.py\", line 1010, in _validate_conn\n",
      "    conn.connect()\n",
      "  File \"/home/gabriel/miniconda3/envs/pt_nlp/lib/python3.9/site-packages/urllib3/connection.py\", line 469, in connect\n",
      "    _match_hostname(cert, self.assert_hostname or server_hostname)\n",
      "  File \"/home/gabriel/miniconda3/envs/pt_nlp/lib/python3.9/site-packages/urllib3/connection.py\", line 542, in _match_hostname\n",
      "    match_hostname(cert, asserted_hostname)\n",
      "  File \"/home/gabriel/miniconda3/envs/pt_nlp/lib/python3.9/ssl.py\", line 416, in match_hostname\n",
      "    raise CertificateError(\"hostname %r \"\n",
      "ssl.SSLCertVerificationError: (\"hostname 'varkoa.com' doesn't match either of 'myshopify.com', '*.myshopify.com'\",)\n",
      "\n",
      "During handling of the above exception, another exception occurred:\n",
      "\n",
      "Traceback (most recent call last):\n",
      "  File \"/home/gabriel/miniconda3/envs/pt_nlp/lib/python3.9/site-packages/requests/adapters.py\", line 440, in send\n",
      "    resp = conn.urlopen(\n",
      "  File \"/home/gabriel/miniconda3/envs/pt_nlp/lib/python3.9/site-packages/urllib3/connectionpool.py\", line 755, in urlopen\n",
      "    retries = retries.increment(\n",
      "  File \"/home/gabriel/miniconda3/envs/pt_nlp/lib/python3.9/site-packages/urllib3/util/retry.py\", line 574, in increment\n",
      "    raise MaxRetryError(_pool, url, error or ResponseError(cause))\n",
      "urllib3.exceptions.MaxRetryError: HTTPSConnectionPool(host='varkoa.com', port=443): Max retries exceeded with url: /products/sven-chair (Caused by SSLError(SSLCertVerificationError(\"hostname 'varkoa.com' doesn't match either of 'myshopify.com', '*.myshopify.com'\")))\n",
      "\n",
      "During handling of the above exception, another exception occurred:\n",
      "\n",
      "Traceback (most recent call last):\n",
      "  File \"/tmp/ipykernel_6102/253839466.py\", line 10, in build_dataset\n",
      "    data = requests.get(url)\n",
      "  File \"/home/gabriel/miniconda3/envs/pt_nlp/lib/python3.9/site-packages/requests/api.py\", line 75, in get\n",
      "    return request('get', url, params=params, **kwargs)\n",
      "  File \"/home/gabriel/miniconda3/envs/pt_nlp/lib/python3.9/site-packages/requests/api.py\", line 61, in request\n",
      "    return session.request(method=method, url=url, **kwargs)\n",
      "  File \"/home/gabriel/miniconda3/envs/pt_nlp/lib/python3.9/site-packages/requests/sessions.py\", line 529, in request\n",
      "    resp = self.send(prep, **send_kwargs)\n",
      "  File \"/home/gabriel/miniconda3/envs/pt_nlp/lib/python3.9/site-packages/requests/sessions.py\", line 645, in send\n",
      "    r = adapter.send(request, **kwargs)\n",
      "  File \"/home/gabriel/miniconda3/envs/pt_nlp/lib/python3.9/site-packages/requests/adapters.py\", line 517, in send\n",
      "    raise SSLError(e, request=request)\n",
      "requests.exceptions.SSLError: HTTPSConnectionPool(host='varkoa.com', port=443): Max retries exceeded with url: /products/sven-chair (Caused by SSLError(SSLCertVerificationError(\"hostname 'varkoa.com' doesn't match either of 'myshopify.com', '*.myshopify.com'\")))\n"
     ]
    },
    {
     "name": "stderr",
     "output_type": "stream",
     "text": [
      "ERROR:root:HTTPSConnectionPool(host='home99.sg', port=443): Max retries exceeded with url: /products/l-shape-half-leather-sofa-lp860 (Caused by NewConnectionError('<urllib3.connection.HTTPSConnection object at 0x7f1723d3d820>: Failed to establish a new connection: [Errno -2] Name or service not known'))\n",
      "Traceback (most recent call last):\n",
      "  File \"/home/gabriel/miniconda3/envs/pt_nlp/lib/python3.9/site-packages/urllib3/connection.py\", line 174, in _new_conn\n",
      "    conn = connection.create_connection(\n",
      "  File \"/home/gabriel/miniconda3/envs/pt_nlp/lib/python3.9/site-packages/urllib3/util/connection.py\", line 73, in create_connection\n",
      "    for res in socket.getaddrinfo(host, port, family, socket.SOCK_STREAM):\n",
      "  File \"/home/gabriel/miniconda3/envs/pt_nlp/lib/python3.9/socket.py\", line 954, in getaddrinfo\n",
      "    for res in _socket.getaddrinfo(host, port, family, type, proto, flags):\n",
      "socket.gaierror: [Errno -2] Name or service not known\n",
      "\n",
      "During handling of the above exception, another exception occurred:\n",
      "\n",
      "Traceback (most recent call last):\n",
      "  File \"/home/gabriel/miniconda3/envs/pt_nlp/lib/python3.9/site-packages/urllib3/connectionpool.py\", line 699, in urlopen\n",
      "    httplib_response = self._make_request(\n",
      "  File \"/home/gabriel/miniconda3/envs/pt_nlp/lib/python3.9/site-packages/urllib3/connectionpool.py\", line 382, in _make_request\n",
      "    self._validate_conn(conn)\n",
      "  File \"/home/gabriel/miniconda3/envs/pt_nlp/lib/python3.9/site-packages/urllib3/connectionpool.py\", line 1010, in _validate_conn\n",
      "    conn.connect()\n",
      "  File \"/home/gabriel/miniconda3/envs/pt_nlp/lib/python3.9/site-packages/urllib3/connection.py\", line 358, in connect\n",
      "    conn = self._new_conn()\n",
      "  File \"/home/gabriel/miniconda3/envs/pt_nlp/lib/python3.9/site-packages/urllib3/connection.py\", line 186, in _new_conn\n",
      "    raise NewConnectionError(\n",
      "urllib3.exceptions.NewConnectionError: <urllib3.connection.HTTPSConnection object at 0x7f1723d3d820>: Failed to establish a new connection: [Errno -2] Name or service not known\n",
      "\n",
      "During handling of the above exception, another exception occurred:\n",
      "\n",
      "Traceback (most recent call last):\n",
      "  File \"/home/gabriel/miniconda3/envs/pt_nlp/lib/python3.9/site-packages/requests/adapters.py\", line 440, in send\n",
      "    resp = conn.urlopen(\n",
      "  File \"/home/gabriel/miniconda3/envs/pt_nlp/lib/python3.9/site-packages/urllib3/connectionpool.py\", line 755, in urlopen\n",
      "    retries = retries.increment(\n",
      "  File \"/home/gabriel/miniconda3/envs/pt_nlp/lib/python3.9/site-packages/urllib3/util/retry.py\", line 574, in increment\n",
      "    raise MaxRetryError(_pool, url, error or ResponseError(cause))\n",
      "urllib3.exceptions.MaxRetryError: HTTPSConnectionPool(host='home99.sg', port=443): Max retries exceeded with url: /products/l-shape-half-leather-sofa-lp860 (Caused by NewConnectionError('<urllib3.connection.HTTPSConnection object at 0x7f1723d3d820>: Failed to establish a new connection: [Errno -2] Name or service not known'))\n",
      "\n",
      "During handling of the above exception, another exception occurred:\n",
      "\n",
      "Traceback (most recent call last):\n",
      "  File \"/tmp/ipykernel_6102/253839466.py\", line 10, in build_dataset\n",
      "    data = requests.get(url)\n",
      "  File \"/home/gabriel/miniconda3/envs/pt_nlp/lib/python3.9/site-packages/requests/api.py\", line 75, in get\n",
      "    return request('get', url, params=params, **kwargs)\n",
      "  File \"/home/gabriel/miniconda3/envs/pt_nlp/lib/python3.9/site-packages/requests/api.py\", line 61, in request\n",
      "    return session.request(method=method, url=url, **kwargs)\n",
      "  File \"/home/gabriel/miniconda3/envs/pt_nlp/lib/python3.9/site-packages/requests/sessions.py\", line 529, in request\n",
      "    resp = self.send(prep, **send_kwargs)\n",
      "  File \"/home/gabriel/miniconda3/envs/pt_nlp/lib/python3.9/site-packages/requests/sessions.py\", line 645, in send\n",
      "    r = adapter.send(request, **kwargs)\n",
      "  File \"/home/gabriel/miniconda3/envs/pt_nlp/lib/python3.9/site-packages/requests/adapters.py\", line 519, in send\n",
      "    raise ConnectionError(e, request=request)\n",
      "requests.exceptions.ConnectionError: HTTPSConnectionPool(host='home99.sg', port=443): Max retries exceeded with url: /products/l-shape-half-leather-sofa-lp860 (Caused by NewConnectionError('<urllib3.connection.HTTPSConnection object at 0x7f1723d3d820>: Failed to establish a new connection: [Errno -2] Name or service not known'))\n",
      "ERROR:root:HTTPSConnectionPool(host='basefurniture.co.nz', port=443): Max retries exceeded with url: /products/pegboard (Caused by NewConnectionError('<urllib3.connection.HTTPSConnection object at 0x7f17288a65e0>: Failed to establish a new connection: [Errno -2] Name or service not known'))\n",
      "Traceback (most recent call last):\n",
      "  File \"/home/gabriel/miniconda3/envs/pt_nlp/lib/python3.9/site-packages/urllib3/connection.py\", line 174, in _new_conn\n",
      "    conn = connection.create_connection(\n",
      "  File \"/home/gabriel/miniconda3/envs/pt_nlp/lib/python3.9/site-packages/urllib3/util/connection.py\", line 73, in create_connection\n",
      "    for res in socket.getaddrinfo(host, port, family, socket.SOCK_STREAM):\n",
      "  File \"/home/gabriel/miniconda3/envs/pt_nlp/lib/python3.9/socket.py\", line 954, in getaddrinfo\n",
      "    for res in _socket.getaddrinfo(host, port, family, type, proto, flags):\n",
      "socket.gaierror: [Errno -2] Name or service not known\n",
      "\n",
      "During handling of the above exception, another exception occurred:\n",
      "\n",
      "Traceback (most recent call last):\n",
      "  File \"/home/gabriel/miniconda3/envs/pt_nlp/lib/python3.9/site-packages/urllib3/connectionpool.py\", line 699, in urlopen\n",
      "    httplib_response = self._make_request(\n",
      "  File \"/home/gabriel/miniconda3/envs/pt_nlp/lib/python3.9/site-packages/urllib3/connectionpool.py\", line 382, in _make_request\n",
      "    self._validate_conn(conn)\n",
      "  File \"/home/gabriel/miniconda3/envs/pt_nlp/lib/python3.9/site-packages/urllib3/connectionpool.py\", line 1010, in _validate_conn\n",
      "    conn.connect()\n",
      "  File \"/home/gabriel/miniconda3/envs/pt_nlp/lib/python3.9/site-packages/urllib3/connection.py\", line 358, in connect\n",
      "    conn = self._new_conn()\n",
      "  File \"/home/gabriel/miniconda3/envs/pt_nlp/lib/python3.9/site-packages/urllib3/connection.py\", line 186, in _new_conn\n",
      "    raise NewConnectionError(\n",
      "urllib3.exceptions.NewConnectionError: <urllib3.connection.HTTPSConnection object at 0x7f17288a65e0>: Failed to establish a new connection: [Errno -2] Name or service not known\n",
      "\n",
      "During handling of the above exception, another exception occurred:\n",
      "\n",
      "Traceback (most recent call last):\n",
      "  File \"/home/gabriel/miniconda3/envs/pt_nlp/lib/python3.9/site-packages/requests/adapters.py\", line 440, in send\n",
      "    resp = conn.urlopen(\n",
      "  File \"/home/gabriel/miniconda3/envs/pt_nlp/lib/python3.9/site-packages/urllib3/connectionpool.py\", line 755, in urlopen\n",
      "    retries = retries.increment(\n",
      "  File \"/home/gabriel/miniconda3/envs/pt_nlp/lib/python3.9/site-packages/urllib3/util/retry.py\", line 574, in increment\n",
      "    raise MaxRetryError(_pool, url, error or ResponseError(cause))\n",
      "urllib3.exceptions.MaxRetryError: HTTPSConnectionPool(host='basefurniture.co.nz', port=443): Max retries exceeded with url: /products/pegboard (Caused by NewConnectionError('<urllib3.connection.HTTPSConnection object at 0x7f17288a65e0>: Failed to establish a new connection: [Errno -2] Name or service not known'))\n",
      "\n",
      "During handling of the above exception, another exception occurred:\n",
      "\n",
      "Traceback (most recent call last):\n",
      "  File \"/tmp/ipykernel_6102/253839466.py\", line 10, in build_dataset\n",
      "    data = requests.get(url)\n",
      "  File \"/home/gabriel/miniconda3/envs/pt_nlp/lib/python3.9/site-packages/requests/api.py\", line 75, in get\n",
      "    return request('get', url, params=params, **kwargs)\n",
      "  File \"/home/gabriel/miniconda3/envs/pt_nlp/lib/python3.9/site-packages/requests/api.py\", line 61, in request\n",
      "    return session.request(method=method, url=url, **kwargs)\n",
      "  File \"/home/gabriel/miniconda3/envs/pt_nlp/lib/python3.9/site-packages/requests/sessions.py\", line 529, in request\n",
      "    resp = self.send(prep, **send_kwargs)\n",
      "  File \"/home/gabriel/miniconda3/envs/pt_nlp/lib/python3.9/site-packages/requests/sessions.py\", line 645, in send\n",
      "    r = adapter.send(request, **kwargs)\n",
      "  File \"/home/gabriel/miniconda3/envs/pt_nlp/lib/python3.9/site-packages/requests/adapters.py\", line 519, in send\n",
      "    raise ConnectionError(e, request=request)\n",
      "requests.exceptions.ConnectionError: HTTPSConnectionPool(host='basefurniture.co.nz', port=443): Max retries exceeded with url: /products/pegboard (Caused by NewConnectionError('<urllib3.connection.HTTPSConnection object at 0x7f17288a65e0>: Failed to establish a new connection: [Errno -2] Name or service not known'))\n"
     ]
    },
    {
     "name": "stderr",
     "output_type": "stream",
     "text": [
      "WARNING:urllib3.connection:Certificate did not match expected hostname: bohovalley.com.au. Certificate: {'subject': ((('countryName', 'US'),), (('stateOrProvinceName', 'California'),), (('localityName', 'San Francisco'),), (('organizationName', 'Cloudflare, Inc.'),), (('commonName', '*.myshopify.com'),)), 'issuer': ((('countryName', 'US'),), (('organizationName', 'Cloudflare, Inc.'),), (('commonName', 'Cloudflare Inc ECC CA-3'),)), 'version': 3, 'serialNumber': '08D14009B8CCFD7A28D460E790084A96', 'notBefore': 'Sep 13 00:00:00 2021 GMT', 'notAfter': 'Sep 12 23:59:59 2022 GMT', 'subjectAltName': (('DNS', 'myshopify.com'), ('DNS', '*.myshopify.com')), 'OCSP': ('http://ocsp.digicert.com',), 'caIssuers': ('http://cacerts.digicert.com/CloudflareIncECCCA-3.crt',), 'crlDistributionPoints': ('http://crl3.digicert.com/CloudflareIncECCCA-3.crl', 'http://crl4.digicert.com/CloudflareIncECCCA-3.crl')}\n",
      "ERROR:root:HTTPSConnectionPool(host='bohovalley.com.au', port=443): Max retries exceeded with url: /products/fern-daybed (Caused by SSLError(SSLCertVerificationError(\"hostname 'bohovalley.com.au' doesn't match either of 'myshopify.com', '*.myshopify.com'\")))\n",
      "Traceback (most recent call last):\n",
      "  File \"/home/gabriel/miniconda3/envs/pt_nlp/lib/python3.9/site-packages/urllib3/connectionpool.py\", line 699, in urlopen\n",
      "    httplib_response = self._make_request(\n",
      "  File \"/home/gabriel/miniconda3/envs/pt_nlp/lib/python3.9/site-packages/urllib3/connectionpool.py\", line 382, in _make_request\n",
      "    self._validate_conn(conn)\n",
      "  File \"/home/gabriel/miniconda3/envs/pt_nlp/lib/python3.9/site-packages/urllib3/connectionpool.py\", line 1010, in _validate_conn\n",
      "    conn.connect()\n",
      "  File \"/home/gabriel/miniconda3/envs/pt_nlp/lib/python3.9/site-packages/urllib3/connection.py\", line 469, in connect\n",
      "    _match_hostname(cert, self.assert_hostname or server_hostname)\n",
      "  File \"/home/gabriel/miniconda3/envs/pt_nlp/lib/python3.9/site-packages/urllib3/connection.py\", line 542, in _match_hostname\n",
      "    match_hostname(cert, asserted_hostname)\n",
      "  File \"/home/gabriel/miniconda3/envs/pt_nlp/lib/python3.9/ssl.py\", line 416, in match_hostname\n",
      "    raise CertificateError(\"hostname %r \"\n",
      "ssl.SSLCertVerificationError: (\"hostname 'bohovalley.com.au' doesn't match either of 'myshopify.com', '*.myshopify.com'\",)\n",
      "\n",
      "During handling of the above exception, another exception occurred:\n",
      "\n",
      "Traceback (most recent call last):\n",
      "  File \"/home/gabriel/miniconda3/envs/pt_nlp/lib/python3.9/site-packages/requests/adapters.py\", line 440, in send\n",
      "    resp = conn.urlopen(\n",
      "  File \"/home/gabriel/miniconda3/envs/pt_nlp/lib/python3.9/site-packages/urllib3/connectionpool.py\", line 755, in urlopen\n",
      "    retries = retries.increment(\n",
      "  File \"/home/gabriel/miniconda3/envs/pt_nlp/lib/python3.9/site-packages/urllib3/util/retry.py\", line 574, in increment\n",
      "    raise MaxRetryError(_pool, url, error or ResponseError(cause))\n",
      "urllib3.exceptions.MaxRetryError: HTTPSConnectionPool(host='bohovalley.com.au', port=443): Max retries exceeded with url: /products/fern-daybed (Caused by SSLError(SSLCertVerificationError(\"hostname 'bohovalley.com.au' doesn't match either of 'myshopify.com', '*.myshopify.com'\")))\n",
      "\n",
      "During handling of the above exception, another exception occurred:\n",
      "\n",
      "Traceback (most recent call last):\n",
      "  File \"/tmp/ipykernel_6102/253839466.py\", line 10, in build_dataset\n",
      "    data = requests.get(url)\n",
      "  File \"/home/gabriel/miniconda3/envs/pt_nlp/lib/python3.9/site-packages/requests/api.py\", line 75, in get\n",
      "    return request('get', url, params=params, **kwargs)\n",
      "  File \"/home/gabriel/miniconda3/envs/pt_nlp/lib/python3.9/site-packages/requests/api.py\", line 61, in request\n",
      "    return session.request(method=method, url=url, **kwargs)\n",
      "  File \"/home/gabriel/miniconda3/envs/pt_nlp/lib/python3.9/site-packages/requests/sessions.py\", line 529, in request\n",
      "    resp = self.send(prep, **send_kwargs)\n",
      "  File \"/home/gabriel/miniconda3/envs/pt_nlp/lib/python3.9/site-packages/requests/sessions.py\", line 645, in send\n",
      "    r = adapter.send(request, **kwargs)\n",
      "  File \"/home/gabriel/miniconda3/envs/pt_nlp/lib/python3.9/site-packages/requests/adapters.py\", line 517, in send\n",
      "    raise SSLError(e, request=request)\n",
      "requests.exceptions.SSLError: HTTPSConnectionPool(host='bohovalley.com.au', port=443): Max retries exceeded with url: /products/fern-daybed (Caused by SSLError(SSLCertVerificationError(\"hostname 'bohovalley.com.au' doesn't match either of 'myshopify.com', '*.myshopify.com'\")))\n",
      "WARNING:urllib3.connection:Certificate did not match expected hostname: www.lounj.com.au. Certificate: {'subject': ((('countryName', 'US'),), (('stateOrProvinceName', 'California'),), (('localityName', 'San Francisco'),), (('organizationName', 'Cloudflare, Inc.'),), (('commonName', '*.myshopify.com'),)), 'issuer': ((('countryName', 'US'),), (('organizationName', 'Cloudflare, Inc.'),), (('commonName', 'Cloudflare Inc ECC CA-3'),)), 'version': 3, 'serialNumber': '08D14009B8CCFD7A28D460E790084A96', 'notBefore': 'Sep 13 00:00:00 2021 GMT', 'notAfter': 'Sep 12 23:59:59 2022 GMT', 'subjectAltName': (('DNS', 'myshopify.com'), ('DNS', '*.myshopify.com')), 'OCSP': ('http://ocsp.digicert.com',), 'caIssuers': ('http://cacerts.digicert.com/CloudflareIncECCCA-3.crt',), 'crlDistributionPoints': ('http://crl3.digicert.com/CloudflareIncECCCA-3.crl', 'http://crl4.digicert.com/CloudflareIncECCCA-3.crl')}\n",
      "ERROR:root:HTTPSConnectionPool(host='www.lounj.com.au', port=443): Max retries exceeded with url: /products/kiki-carver-chair (Caused by SSLError(SSLCertVerificationError(\"hostname 'www.lounj.com.au' doesn't match either of 'myshopify.com', '*.myshopify.com'\")))\n",
      "Traceback (most recent call last):\n",
      "  File \"/home/gabriel/miniconda3/envs/pt_nlp/lib/python3.9/site-packages/urllib3/connectionpool.py\", line 699, in urlopen\n",
      "    httplib_response = self._make_request(\n",
      "  File \"/home/gabriel/miniconda3/envs/pt_nlp/lib/python3.9/site-packages/urllib3/connectionpool.py\", line 382, in _make_request\n",
      "    self._validate_conn(conn)\n",
      "  File \"/home/gabriel/miniconda3/envs/pt_nlp/lib/python3.9/site-packages/urllib3/connectionpool.py\", line 1010, in _validate_conn\n",
      "    conn.connect()\n",
      "  File \"/home/gabriel/miniconda3/envs/pt_nlp/lib/python3.9/site-packages/urllib3/connection.py\", line 469, in connect\n",
      "    _match_hostname(cert, self.assert_hostname or server_hostname)\n",
      "  File \"/home/gabriel/miniconda3/envs/pt_nlp/lib/python3.9/site-packages/urllib3/connection.py\", line 542, in _match_hostname\n",
      "    match_hostname(cert, asserted_hostname)\n",
      "  File \"/home/gabriel/miniconda3/envs/pt_nlp/lib/python3.9/ssl.py\", line 416, in match_hostname\n",
      "    raise CertificateError(\"hostname %r \"\n",
      "ssl.SSLCertVerificationError: (\"hostname 'www.lounj.com.au' doesn't match either of 'myshopify.com', '*.myshopify.com'\",)\n",
      "\n",
      "During handling of the above exception, another exception occurred:\n",
      "\n",
      "Traceback (most recent call last):\n",
      "  File \"/home/gabriel/miniconda3/envs/pt_nlp/lib/python3.9/site-packages/requests/adapters.py\", line 440, in send\n",
      "    resp = conn.urlopen(\n",
      "  File \"/home/gabriel/miniconda3/envs/pt_nlp/lib/python3.9/site-packages/urllib3/connectionpool.py\", line 755, in urlopen\n",
      "    retries = retries.increment(\n",
      "  File \"/home/gabriel/miniconda3/envs/pt_nlp/lib/python3.9/site-packages/urllib3/util/retry.py\", line 574, in increment\n",
      "    raise MaxRetryError(_pool, url, error or ResponseError(cause))\n",
      "urllib3.exceptions.MaxRetryError: HTTPSConnectionPool(host='www.lounj.com.au', port=443): Max retries exceeded with url: /products/kiki-carver-chair (Caused by SSLError(SSLCertVerificationError(\"hostname 'www.lounj.com.au' doesn't match either of 'myshopify.com', '*.myshopify.com'\")))\n",
      "\n",
      "During handling of the above exception, another exception occurred:\n",
      "\n",
      "Traceback (most recent call last):\n",
      "  File \"/tmp/ipykernel_6102/253839466.py\", line 10, in build_dataset\n",
      "    data = requests.get(url)\n",
      "  File \"/home/gabriel/miniconda3/envs/pt_nlp/lib/python3.9/site-packages/requests/api.py\", line 75, in get\n",
      "    return request('get', url, params=params, **kwargs)\n",
      "  File \"/home/gabriel/miniconda3/envs/pt_nlp/lib/python3.9/site-packages/requests/api.py\", line 61, in request\n",
      "    return session.request(method=method, url=url, **kwargs)\n",
      "  File \"/home/gabriel/miniconda3/envs/pt_nlp/lib/python3.9/site-packages/requests/sessions.py\", line 529, in request\n",
      "    resp = self.send(prep, **send_kwargs)\n",
      "  File \"/home/gabriel/miniconda3/envs/pt_nlp/lib/python3.9/site-packages/requests/sessions.py\", line 645, in send\n",
      "    r = adapter.send(request, **kwargs)\n",
      "  File \"/home/gabriel/miniconda3/envs/pt_nlp/lib/python3.9/site-packages/requests/adapters.py\", line 517, in send\n",
      "    raise SSLError(e, request=request)\n",
      "requests.exceptions.SSLError: HTTPSConnectionPool(host='www.lounj.com.au', port=443): Max retries exceeded with url: /products/kiki-carver-chair (Caused by SSLError(SSLCertVerificationError(\"hostname 'www.lounj.com.au' doesn't match either of 'myshopify.com', '*.myshopify.com'\")))\n"
     ]
    },
    {
     "name": "stderr",
     "output_type": "stream",
     "text": [
      "ERROR:root:HTTPSConnectionPool(host='australianchildrensfurniture.com.au', port=443): Max retries exceeded with url: /products/modular-sectional-unit (Caused by NewConnectionError('<urllib3.connection.HTTPSConnection object at 0x7f1728febac0>: Failed to establish a new connection: [Errno -2] Name or service not known'))\n",
      "Traceback (most recent call last):\n",
      "  File \"/home/gabriel/miniconda3/envs/pt_nlp/lib/python3.9/site-packages/urllib3/connection.py\", line 174, in _new_conn\n",
      "    conn = connection.create_connection(\n",
      "  File \"/home/gabriel/miniconda3/envs/pt_nlp/lib/python3.9/site-packages/urllib3/util/connection.py\", line 73, in create_connection\n",
      "    for res in socket.getaddrinfo(host, port, family, socket.SOCK_STREAM):\n",
      "  File \"/home/gabriel/miniconda3/envs/pt_nlp/lib/python3.9/socket.py\", line 954, in getaddrinfo\n",
      "    for res in _socket.getaddrinfo(host, port, family, type, proto, flags):\n",
      "socket.gaierror: [Errno -2] Name or service not known\n",
      "\n",
      "During handling of the above exception, another exception occurred:\n",
      "\n",
      "Traceback (most recent call last):\n",
      "  File \"/home/gabriel/miniconda3/envs/pt_nlp/lib/python3.9/site-packages/urllib3/connectionpool.py\", line 699, in urlopen\n",
      "    httplib_response = self._make_request(\n",
      "  File \"/home/gabriel/miniconda3/envs/pt_nlp/lib/python3.9/site-packages/urllib3/connectionpool.py\", line 382, in _make_request\n",
      "    self._validate_conn(conn)\n",
      "  File \"/home/gabriel/miniconda3/envs/pt_nlp/lib/python3.9/site-packages/urllib3/connectionpool.py\", line 1010, in _validate_conn\n",
      "    conn.connect()\n",
      "  File \"/home/gabriel/miniconda3/envs/pt_nlp/lib/python3.9/site-packages/urllib3/connection.py\", line 358, in connect\n",
      "    conn = self._new_conn()\n",
      "  File \"/home/gabriel/miniconda3/envs/pt_nlp/lib/python3.9/site-packages/urllib3/connection.py\", line 186, in _new_conn\n",
      "    raise NewConnectionError(\n",
      "urllib3.exceptions.NewConnectionError: <urllib3.connection.HTTPSConnection object at 0x7f1728febac0>: Failed to establish a new connection: [Errno -2] Name or service not known\n",
      "\n",
      "During handling of the above exception, another exception occurred:\n",
      "\n",
      "Traceback (most recent call last):\n",
      "  File \"/home/gabriel/miniconda3/envs/pt_nlp/lib/python3.9/site-packages/requests/adapters.py\", line 440, in send\n",
      "    resp = conn.urlopen(\n",
      "  File \"/home/gabriel/miniconda3/envs/pt_nlp/lib/python3.9/site-packages/urllib3/connectionpool.py\", line 755, in urlopen\n",
      "    retries = retries.increment(\n",
      "  File \"/home/gabriel/miniconda3/envs/pt_nlp/lib/python3.9/site-packages/urllib3/util/retry.py\", line 574, in increment\n",
      "    raise MaxRetryError(_pool, url, error or ResponseError(cause))\n",
      "urllib3.exceptions.MaxRetryError: HTTPSConnectionPool(host='australianchildrensfurniture.com.au', port=443): Max retries exceeded with url: /products/modular-sectional-unit (Caused by NewConnectionError('<urllib3.connection.HTTPSConnection object at 0x7f1728febac0>: Failed to establish a new connection: [Errno -2] Name or service not known'))\n",
      "\n",
      "During handling of the above exception, another exception occurred:\n",
      "\n",
      "Traceback (most recent call last):\n",
      "  File \"/tmp/ipykernel_6102/253839466.py\", line 10, in build_dataset\n",
      "    data = requests.get(url)\n",
      "  File \"/home/gabriel/miniconda3/envs/pt_nlp/lib/python3.9/site-packages/requests/api.py\", line 75, in get\n",
      "    return request('get', url, params=params, **kwargs)\n",
      "  File \"/home/gabriel/miniconda3/envs/pt_nlp/lib/python3.9/site-packages/requests/api.py\", line 61, in request\n",
      "    return session.request(method=method, url=url, **kwargs)\n",
      "  File \"/home/gabriel/miniconda3/envs/pt_nlp/lib/python3.9/site-packages/requests/sessions.py\", line 529, in request\n",
      "    resp = self.send(prep, **send_kwargs)\n",
      "  File \"/home/gabriel/miniconda3/envs/pt_nlp/lib/python3.9/site-packages/requests/sessions.py\", line 645, in send\n",
      "    r = adapter.send(request, **kwargs)\n",
      "  File \"/home/gabriel/miniconda3/envs/pt_nlp/lib/python3.9/site-packages/requests/adapters.py\", line 519, in send\n",
      "    raise ConnectionError(e, request=request)\n",
      "requests.exceptions.ConnectionError: HTTPSConnectionPool(host='australianchildrensfurniture.com.au', port=443): Max retries exceeded with url: /products/modular-sectional-unit (Caused by NewConnectionError('<urllib3.connection.HTTPSConnection object at 0x7f1728febac0>: Failed to establish a new connection: [Errno -2] Name or service not known'))\n",
      "ERROR:root:('Connection aborted.', RemoteDisconnected('Remote end closed connection without response'))\n",
      "Traceback (most recent call last):\n",
      "  File \"/home/gabriel/miniconda3/envs/pt_nlp/lib/python3.9/site-packages/urllib3/connectionpool.py\", line 699, in urlopen\n",
      "    httplib_response = self._make_request(\n",
      "  File \"/home/gabriel/miniconda3/envs/pt_nlp/lib/python3.9/site-packages/urllib3/connectionpool.py\", line 445, in _make_request\n",
      "    six.raise_from(e, None)\n",
      "  File \"<string>\", line 3, in raise_from\n",
      "  File \"/home/gabriel/miniconda3/envs/pt_nlp/lib/python3.9/site-packages/urllib3/connectionpool.py\", line 440, in _make_request\n",
      "    httplib_response = conn.getresponse()\n",
      "  File \"/home/gabriel/miniconda3/envs/pt_nlp/lib/python3.9/http/client.py\", line 1371, in getresponse\n",
      "    response.begin()\n",
      "  File \"/home/gabriel/miniconda3/envs/pt_nlp/lib/python3.9/http/client.py\", line 319, in begin\n",
      "    version, status, reason = self._read_status()\n",
      "  File \"/home/gabriel/miniconda3/envs/pt_nlp/lib/python3.9/http/client.py\", line 288, in _read_status\n",
      "    raise RemoteDisconnected(\"Remote end closed connection without\"\n",
      "http.client.RemoteDisconnected: Remote end closed connection without response\n",
      "\n",
      "During handling of the above exception, another exception occurred:\n",
      "\n",
      "Traceback (most recent call last):\n",
      "  File \"/home/gabriel/miniconda3/envs/pt_nlp/lib/python3.9/site-packages/requests/adapters.py\", line 440, in send\n",
      "    resp = conn.urlopen(\n",
      "  File \"/home/gabriel/miniconda3/envs/pt_nlp/lib/python3.9/site-packages/urllib3/connectionpool.py\", line 755, in urlopen\n",
      "    retries = retries.increment(\n",
      "  File \"/home/gabriel/miniconda3/envs/pt_nlp/lib/python3.9/site-packages/urllib3/util/retry.py\", line 532, in increment\n",
      "    raise six.reraise(type(error), error, _stacktrace)\n",
      "  File \"/home/gabriel/miniconda3/envs/pt_nlp/lib/python3.9/site-packages/urllib3/packages/six.py\", line 769, in reraise\n",
      "    raise value.with_traceback(tb)\n",
      "  File \"/home/gabriel/miniconda3/envs/pt_nlp/lib/python3.9/site-packages/urllib3/connectionpool.py\", line 699, in urlopen\n",
      "    httplib_response = self._make_request(\n",
      "  File \"/home/gabriel/miniconda3/envs/pt_nlp/lib/python3.9/site-packages/urllib3/connectionpool.py\", line 445, in _make_request\n",
      "    six.raise_from(e, None)\n",
      "  File \"<string>\", line 3, in raise_from\n",
      "  File \"/home/gabriel/miniconda3/envs/pt_nlp/lib/python3.9/site-packages/urllib3/connectionpool.py\", line 440, in _make_request\n",
      "    httplib_response = conn.getresponse()\n",
      "  File \"/home/gabriel/miniconda3/envs/pt_nlp/lib/python3.9/http/client.py\", line 1371, in getresponse\n",
      "    response.begin()\n",
      "  File \"/home/gabriel/miniconda3/envs/pt_nlp/lib/python3.9/http/client.py\", line 319, in begin\n",
      "    version, status, reason = self._read_status()\n",
      "  File \"/home/gabriel/miniconda3/envs/pt_nlp/lib/python3.9/http/client.py\", line 288, in _read_status\n",
      "    raise RemoteDisconnected(\"Remote end closed connection without\"\n",
      "urllib3.exceptions.ProtocolError: ('Connection aborted.', RemoteDisconnected('Remote end closed connection without response'))\n",
      "\n",
      "During handling of the above exception, another exception occurred:\n",
      "\n",
      "Traceback (most recent call last):\n",
      "  File \"/tmp/ipykernel_6102/253839466.py\", line 10, in build_dataset\n",
      "    data = requests.get(url)\n",
      "  File \"/home/gabriel/miniconda3/envs/pt_nlp/lib/python3.9/site-packages/requests/api.py\", line 75, in get\n",
      "    return request('get', url, params=params, **kwargs)\n",
      "  File \"/home/gabriel/miniconda3/envs/pt_nlp/lib/python3.9/site-packages/requests/api.py\", line 61, in request\n",
      "    return session.request(method=method, url=url, **kwargs)\n",
      "  File \"/home/gabriel/miniconda3/envs/pt_nlp/lib/python3.9/site-packages/requests/sessions.py\", line 529, in request\n",
      "    resp = self.send(prep, **send_kwargs)\n",
      "  File \"/home/gabriel/miniconda3/envs/pt_nlp/lib/python3.9/site-packages/requests/sessions.py\", line 645, in send\n",
      "    r = adapter.send(request, **kwargs)\n",
      "  File \"/home/gabriel/miniconda3/envs/pt_nlp/lib/python3.9/site-packages/requests/adapters.py\", line 501, in send\n",
      "    raise ConnectionError(err, request=request)\n",
      "requests.exceptions.ConnectionError: ('Connection aborted.', RemoteDisconnected('Remote end closed connection without response'))\n"
     ]
    },
    {
     "name": "stderr",
     "output_type": "stream",
     "text": [
      "WARNING:urllib3.connection:Certificate did not match expected hostname: razoutlets.com. Certificate: {'subject': ((('countryName', 'US'),), (('stateOrProvinceName', 'California'),), (('localityName', 'San Francisco'),), (('organizationName', 'Cloudflare, Inc.'),), (('commonName', '*.myshopify.com'),)), 'issuer': ((('countryName', 'US'),), (('organizationName', 'Cloudflare, Inc.'),), (('commonName', 'Cloudflare Inc ECC CA-3'),)), 'version': 3, 'serialNumber': '08D14009B8CCFD7A28D460E790084A96', 'notBefore': 'Sep 13 00:00:00 2021 GMT', 'notAfter': 'Sep 12 23:59:59 2022 GMT', 'subjectAltName': (('DNS', 'myshopify.com'), ('DNS', '*.myshopify.com')), 'OCSP': ('http://ocsp.digicert.com',), 'caIssuers': ('http://cacerts.digicert.com/CloudflareIncECCCA-3.crt',), 'crlDistributionPoints': ('http://crl3.digicert.com/CloudflareIncECCCA-3.crl', 'http://crl4.digicert.com/CloudflareIncECCCA-3.crl')}\n",
      "ERROR:root:HTTPSConnectionPool(host='razoutlets.com', port=443): Max retries exceeded with url: /products/table-lamp (Caused by SSLError(SSLCertVerificationError(\"hostname 'razoutlets.com' doesn't match either of 'myshopify.com', '*.myshopify.com'\")))\n",
      "Traceback (most recent call last):\n",
      "  File \"/home/gabriel/miniconda3/envs/pt_nlp/lib/python3.9/site-packages/urllib3/connectionpool.py\", line 699, in urlopen\n",
      "    httplib_response = self._make_request(\n",
      "  File \"/home/gabriel/miniconda3/envs/pt_nlp/lib/python3.9/site-packages/urllib3/connectionpool.py\", line 382, in _make_request\n",
      "    self._validate_conn(conn)\n",
      "  File \"/home/gabriel/miniconda3/envs/pt_nlp/lib/python3.9/site-packages/urllib3/connectionpool.py\", line 1010, in _validate_conn\n",
      "    conn.connect()\n",
      "  File \"/home/gabriel/miniconda3/envs/pt_nlp/lib/python3.9/site-packages/urllib3/connection.py\", line 469, in connect\n",
      "    _match_hostname(cert, self.assert_hostname or server_hostname)\n",
      "  File \"/home/gabriel/miniconda3/envs/pt_nlp/lib/python3.9/site-packages/urllib3/connection.py\", line 542, in _match_hostname\n",
      "    match_hostname(cert, asserted_hostname)\n",
      "  File \"/home/gabriel/miniconda3/envs/pt_nlp/lib/python3.9/ssl.py\", line 416, in match_hostname\n",
      "    raise CertificateError(\"hostname %r \"\n",
      "ssl.SSLCertVerificationError: (\"hostname 'razoutlets.com' doesn't match either of 'myshopify.com', '*.myshopify.com'\",)\n",
      "\n",
      "During handling of the above exception, another exception occurred:\n",
      "\n",
      "Traceback (most recent call last):\n",
      "  File \"/home/gabriel/miniconda3/envs/pt_nlp/lib/python3.9/site-packages/requests/adapters.py\", line 440, in send\n",
      "    resp = conn.urlopen(\n",
      "  File \"/home/gabriel/miniconda3/envs/pt_nlp/lib/python3.9/site-packages/urllib3/connectionpool.py\", line 755, in urlopen\n",
      "    retries = retries.increment(\n",
      "  File \"/home/gabriel/miniconda3/envs/pt_nlp/lib/python3.9/site-packages/urllib3/util/retry.py\", line 574, in increment\n",
      "    raise MaxRetryError(_pool, url, error or ResponseError(cause))\n",
      "urllib3.exceptions.MaxRetryError: HTTPSConnectionPool(host='razoutlets.com', port=443): Max retries exceeded with url: /products/table-lamp (Caused by SSLError(SSLCertVerificationError(\"hostname 'razoutlets.com' doesn't match either of 'myshopify.com', '*.myshopify.com'\")))\n",
      "\n",
      "During handling of the above exception, another exception occurred:\n",
      "\n",
      "Traceback (most recent call last):\n",
      "  File \"/tmp/ipykernel_6102/253839466.py\", line 10, in build_dataset\n",
      "    data = requests.get(url)\n",
      "  File \"/home/gabriel/miniconda3/envs/pt_nlp/lib/python3.9/site-packages/requests/api.py\", line 75, in get\n",
      "    return request('get', url, params=params, **kwargs)\n",
      "  File \"/home/gabriel/miniconda3/envs/pt_nlp/lib/python3.9/site-packages/requests/api.py\", line 61, in request\n",
      "    return session.request(method=method, url=url, **kwargs)\n",
      "  File \"/home/gabriel/miniconda3/envs/pt_nlp/lib/python3.9/site-packages/requests/sessions.py\", line 529, in request\n",
      "    resp = self.send(prep, **send_kwargs)\n",
      "  File \"/home/gabriel/miniconda3/envs/pt_nlp/lib/python3.9/site-packages/requests/sessions.py\", line 645, in send\n",
      "    r = adapter.send(request, **kwargs)\n",
      "  File \"/home/gabriel/miniconda3/envs/pt_nlp/lib/python3.9/site-packages/requests/adapters.py\", line 517, in send\n",
      "    raise SSLError(e, request=request)\n",
      "requests.exceptions.SSLError: HTTPSConnectionPool(host='razoutlets.com', port=443): Max retries exceeded with url: /products/table-lamp (Caused by SSLError(SSLCertVerificationError(\"hostname 'razoutlets.com' doesn't match either of 'myshopify.com', '*.myshopify.com'\")))\n",
      "WARNING:urllib3.connection:Certificate did not match expected hostname: elegantoak.co.uk. Certificate: {'subject': ((('countryName', 'US'),), (('stateOrProvinceName', 'California'),), (('localityName', 'San Francisco'),), (('organizationName', 'Cloudflare, Inc.'),), (('commonName', '*.myshopify.com'),)), 'issuer': ((('countryName', 'US'),), (('organizationName', 'Cloudflare, Inc.'),), (('commonName', 'Cloudflare Inc ECC CA-3'),)), 'version': 3, 'serialNumber': '08D14009B8CCFD7A28D460E790084A96', 'notBefore': 'Sep 13 00:00:00 2021 GMT', 'notAfter': 'Sep 12 23:59:59 2022 GMT', 'subjectAltName': (('DNS', 'myshopify.com'), ('DNS', '*.myshopify.com')), 'OCSP': ('http://ocsp.digicert.com',), 'caIssuers': ('http://cacerts.digicert.com/CloudflareIncECCCA-3.crt',), 'crlDistributionPoints': ('http://crl3.digicert.com/CloudflareIncECCCA-3.crl', 'http://crl4.digicert.com/CloudflareIncECCCA-3.crl')}\n",
      "ERROR:root:HTTPSConnectionPool(host='elegantoak.co.uk', port=443): Max retries exceeded with url: /products/abbert-5ft-bed (Caused by SSLError(SSLCertVerificationError(\"hostname 'elegantoak.co.uk' doesn't match either of 'myshopify.com', '*.myshopify.com'\")))\n",
      "Traceback (most recent call last):\n",
      "  File \"/home/gabriel/miniconda3/envs/pt_nlp/lib/python3.9/site-packages/urllib3/connectionpool.py\", line 699, in urlopen\n",
      "    httplib_response = self._make_request(\n",
      "  File \"/home/gabriel/miniconda3/envs/pt_nlp/lib/python3.9/site-packages/urllib3/connectionpool.py\", line 382, in _make_request\n",
      "    self._validate_conn(conn)\n",
      "  File \"/home/gabriel/miniconda3/envs/pt_nlp/lib/python3.9/site-packages/urllib3/connectionpool.py\", line 1010, in _validate_conn\n",
      "    conn.connect()\n",
      "  File \"/home/gabriel/miniconda3/envs/pt_nlp/lib/python3.9/site-packages/urllib3/connection.py\", line 469, in connect\n",
      "    _match_hostname(cert, self.assert_hostname or server_hostname)\n",
      "  File \"/home/gabriel/miniconda3/envs/pt_nlp/lib/python3.9/site-packages/urllib3/connection.py\", line 542, in _match_hostname\n",
      "    match_hostname(cert, asserted_hostname)\n",
      "  File \"/home/gabriel/miniconda3/envs/pt_nlp/lib/python3.9/ssl.py\", line 416, in match_hostname\n",
      "    raise CertificateError(\"hostname %r \"\n",
      "ssl.SSLCertVerificationError: (\"hostname 'elegantoak.co.uk' doesn't match either of 'myshopify.com', '*.myshopify.com'\",)\n",
      "\n",
      "During handling of the above exception, another exception occurred:\n",
      "\n",
      "Traceback (most recent call last):\n",
      "  File \"/home/gabriel/miniconda3/envs/pt_nlp/lib/python3.9/site-packages/requests/adapters.py\", line 440, in send\n",
      "    resp = conn.urlopen(\n",
      "  File \"/home/gabriel/miniconda3/envs/pt_nlp/lib/python3.9/site-packages/urllib3/connectionpool.py\", line 755, in urlopen\n",
      "    retries = retries.increment(\n",
      "  File \"/home/gabriel/miniconda3/envs/pt_nlp/lib/python3.9/site-packages/urllib3/util/retry.py\", line 574, in increment\n",
      "    raise MaxRetryError(_pool, url, error or ResponseError(cause))\n",
      "urllib3.exceptions.MaxRetryError: HTTPSConnectionPool(host='elegantoak.co.uk', port=443): Max retries exceeded with url: /products/abbert-5ft-bed (Caused by SSLError(SSLCertVerificationError(\"hostname 'elegantoak.co.uk' doesn't match either of 'myshopify.com', '*.myshopify.com'\")))\n",
      "\n",
      "During handling of the above exception, another exception occurred:\n",
      "\n",
      "Traceback (most recent call last):\n",
      "  File \"/tmp/ipykernel_6102/253839466.py\", line 10, in build_dataset\n",
      "    data = requests.get(url)\n",
      "  File \"/home/gabriel/miniconda3/envs/pt_nlp/lib/python3.9/site-packages/requests/api.py\", line 75, in get\n",
      "    return request('get', url, params=params, **kwargs)\n",
      "  File \"/home/gabriel/miniconda3/envs/pt_nlp/lib/python3.9/site-packages/requests/api.py\", line 61, in request\n",
      "    return session.request(method=method, url=url, **kwargs)\n",
      "  File \"/home/gabriel/miniconda3/envs/pt_nlp/lib/python3.9/site-packages/requests/sessions.py\", line 529, in request\n",
      "    resp = self.send(prep, **send_kwargs)\n",
      "  File \"/home/gabriel/miniconda3/envs/pt_nlp/lib/python3.9/site-packages/requests/sessions.py\", line 645, in send\n",
      "    r = adapter.send(request, **kwargs)\n",
      "  File \"/home/gabriel/miniconda3/envs/pt_nlp/lib/python3.9/site-packages/requests/adapters.py\", line 517, in send\n",
      "    raise SSLError(e, request=request)\n",
      "requests.exceptions.SSLError: HTTPSConnectionPool(host='elegantoak.co.uk', port=443): Max retries exceeded with url: /products/abbert-5ft-bed (Caused by SSLError(SSLCertVerificationError(\"hostname 'elegantoak.co.uk' doesn't match either of 'myshopify.com', '*.myshopify.com'\")))\n"
     ]
    },
    {
     "name": "stderr",
     "output_type": "stream",
     "text": [
      "ERROR:root:HTTPSConnectionPool(host='emvy.gr', port=443): Max retries exceeded with url: /products/ (Caused by NewConnectionError('<urllib3.connection.HTTPSConnection object at 0x7f1728f02e80>: Failed to establish a new connection: [Errno -2] Name or service not known'))\n",
      "Traceback (most recent call last):\n",
      "  File \"/home/gabriel/miniconda3/envs/pt_nlp/lib/python3.9/site-packages/urllib3/connection.py\", line 174, in _new_conn\n",
      "    conn = connection.create_connection(\n",
      "  File \"/home/gabriel/miniconda3/envs/pt_nlp/lib/python3.9/site-packages/urllib3/util/connection.py\", line 73, in create_connection\n",
      "    for res in socket.getaddrinfo(host, port, family, socket.SOCK_STREAM):\n",
      "  File \"/home/gabriel/miniconda3/envs/pt_nlp/lib/python3.9/socket.py\", line 954, in getaddrinfo\n",
      "    for res in _socket.getaddrinfo(host, port, family, type, proto, flags):\n",
      "socket.gaierror: [Errno -2] Name or service not known\n",
      "\n",
      "During handling of the above exception, another exception occurred:\n",
      "\n",
      "Traceback (most recent call last):\n",
      "  File \"/home/gabriel/miniconda3/envs/pt_nlp/lib/python3.9/site-packages/urllib3/connectionpool.py\", line 699, in urlopen\n",
      "    httplib_response = self._make_request(\n",
      "  File \"/home/gabriel/miniconda3/envs/pt_nlp/lib/python3.9/site-packages/urllib3/connectionpool.py\", line 382, in _make_request\n",
      "    self._validate_conn(conn)\n",
      "  File \"/home/gabriel/miniconda3/envs/pt_nlp/lib/python3.9/site-packages/urllib3/connectionpool.py\", line 1010, in _validate_conn\n",
      "    conn.connect()\n",
      "  File \"/home/gabriel/miniconda3/envs/pt_nlp/lib/python3.9/site-packages/urllib3/connection.py\", line 358, in connect\n",
      "    conn = self._new_conn()\n",
      "  File \"/home/gabriel/miniconda3/envs/pt_nlp/lib/python3.9/site-packages/urllib3/connection.py\", line 186, in _new_conn\n",
      "    raise NewConnectionError(\n",
      "urllib3.exceptions.NewConnectionError: <urllib3.connection.HTTPSConnection object at 0x7f1728f02e80>: Failed to establish a new connection: [Errno -2] Name or service not known\n",
      "\n",
      "During handling of the above exception, another exception occurred:\n",
      "\n",
      "Traceback (most recent call last):\n",
      "  File \"/home/gabriel/miniconda3/envs/pt_nlp/lib/python3.9/site-packages/requests/adapters.py\", line 440, in send\n",
      "    resp = conn.urlopen(\n",
      "  File \"/home/gabriel/miniconda3/envs/pt_nlp/lib/python3.9/site-packages/urllib3/connectionpool.py\", line 755, in urlopen\n",
      "    retries = retries.increment(\n",
      "  File \"/home/gabriel/miniconda3/envs/pt_nlp/lib/python3.9/site-packages/urllib3/util/retry.py\", line 574, in increment\n",
      "    raise MaxRetryError(_pool, url, error or ResponseError(cause))\n",
      "urllib3.exceptions.MaxRetryError: HTTPSConnectionPool(host='emvy.gr', port=443): Max retries exceeded with url: /products/ (Caused by NewConnectionError('<urllib3.connection.HTTPSConnection object at 0x7f1728f02e80>: Failed to establish a new connection: [Errno -2] Name or service not known'))\n",
      "\n",
      "During handling of the above exception, another exception occurred:\n",
      "\n",
      "Traceback (most recent call last):\n",
      "  File \"/tmp/ipykernel_6102/253839466.py\", line 10, in build_dataset\n",
      "    data = requests.get(url)\n",
      "  File \"/home/gabriel/miniconda3/envs/pt_nlp/lib/python3.9/site-packages/requests/api.py\", line 75, in get\n",
      "    return request('get', url, params=params, **kwargs)\n",
      "  File \"/home/gabriel/miniconda3/envs/pt_nlp/lib/python3.9/site-packages/requests/api.py\", line 61, in request\n",
      "    return session.request(method=method, url=url, **kwargs)\n",
      "  File \"/home/gabriel/miniconda3/envs/pt_nlp/lib/python3.9/site-packages/requests/sessions.py\", line 529, in request\n",
      "    resp = self.send(prep, **send_kwargs)\n",
      "  File \"/home/gabriel/miniconda3/envs/pt_nlp/lib/python3.9/site-packages/requests/sessions.py\", line 645, in send\n",
      "    r = adapter.send(request, **kwargs)\n",
      "  File \"/home/gabriel/miniconda3/envs/pt_nlp/lib/python3.9/site-packages/requests/adapters.py\", line 519, in send\n",
      "    raise ConnectionError(e, request=request)\n",
      "requests.exceptions.ConnectionError: HTTPSConnectionPool(host='emvy.gr', port=443): Max retries exceeded with url: /products/ (Caused by NewConnectionError('<urllib3.connection.HTTPSConnection object at 0x7f1728f02e80>: Failed to establish a new connection: [Errno -2] Name or service not known'))\n",
      "WARNING:urllib3.connection:Certificate did not match expected hostname: houseofdurante.co.uk. Certificate: {'subject': ((('countryName', 'US'),), (('stateOrProvinceName', 'California'),), (('localityName', 'San Francisco'),), (('organizationName', 'Cloudflare, Inc.'),), (('commonName', '*.myshopify.com'),)), 'issuer': ((('countryName', 'US'),), (('organizationName', 'Cloudflare, Inc.'),), (('commonName', 'Cloudflare Inc ECC CA-3'),)), 'version': 3, 'serialNumber': '08D14009B8CCFD7A28D460E790084A96', 'notBefore': 'Sep 13 00:00:00 2021 GMT', 'notAfter': 'Sep 12 23:59:59 2022 GMT', 'subjectAltName': (('DNS', 'myshopify.com'), ('DNS', '*.myshopify.com')), 'OCSP': ('http://ocsp.digicert.com',), 'caIssuers': ('http://cacerts.digicert.com/CloudflareIncECCCA-3.crt',), 'crlDistributionPoints': ('http://crl3.digicert.com/CloudflareIncECCCA-3.crl', 'http://crl4.digicert.com/CloudflareIncECCCA-3.crl')}\n",
      "ERROR:root:HTTPSConnectionPool(host='houseofdurante.co.uk', port=443): Max retries exceeded with url: /products/libra-bronze-boar-sculpture (Caused by SSLError(SSLCertVerificationError(\"hostname 'houseofdurante.co.uk' doesn't match either of 'myshopify.com', '*.myshopify.com'\")))\n",
      "Traceback (most recent call last):\n",
      "  File \"/home/gabriel/miniconda3/envs/pt_nlp/lib/python3.9/site-packages/urllib3/connectionpool.py\", line 699, in urlopen\n",
      "    httplib_response = self._make_request(\n",
      "  File \"/home/gabriel/miniconda3/envs/pt_nlp/lib/python3.9/site-packages/urllib3/connectionpool.py\", line 382, in _make_request\n",
      "    self._validate_conn(conn)\n",
      "  File \"/home/gabriel/miniconda3/envs/pt_nlp/lib/python3.9/site-packages/urllib3/connectionpool.py\", line 1010, in _validate_conn\n",
      "    conn.connect()\n",
      "  File \"/home/gabriel/miniconda3/envs/pt_nlp/lib/python3.9/site-packages/urllib3/connection.py\", line 469, in connect\n",
      "    _match_hostname(cert, self.assert_hostname or server_hostname)\n",
      "  File \"/home/gabriel/miniconda3/envs/pt_nlp/lib/python3.9/site-packages/urllib3/connection.py\", line 542, in _match_hostname\n",
      "    match_hostname(cert, asserted_hostname)\n",
      "  File \"/home/gabriel/miniconda3/envs/pt_nlp/lib/python3.9/ssl.py\", line 416, in match_hostname\n",
      "    raise CertificateError(\"hostname %r \"\n",
      "ssl.SSLCertVerificationError: (\"hostname 'houseofdurante.co.uk' doesn't match either of 'myshopify.com', '*.myshopify.com'\",)\n",
      "\n",
      "During handling of the above exception, another exception occurred:\n",
      "\n",
      "Traceback (most recent call last):\n",
      "  File \"/home/gabriel/miniconda3/envs/pt_nlp/lib/python3.9/site-packages/requests/adapters.py\", line 440, in send\n",
      "    resp = conn.urlopen(\n",
      "  File \"/home/gabriel/miniconda3/envs/pt_nlp/lib/python3.9/site-packages/urllib3/connectionpool.py\", line 755, in urlopen\n",
      "    retries = retries.increment(\n",
      "  File \"/home/gabriel/miniconda3/envs/pt_nlp/lib/python3.9/site-packages/urllib3/util/retry.py\", line 574, in increment\n",
      "    raise MaxRetryError(_pool, url, error or ResponseError(cause))\n",
      "urllib3.exceptions.MaxRetryError: HTTPSConnectionPool(host='houseofdurante.co.uk', port=443): Max retries exceeded with url: /products/libra-bronze-boar-sculpture (Caused by SSLError(SSLCertVerificationError(\"hostname 'houseofdurante.co.uk' doesn't match either of 'myshopify.com', '*.myshopify.com'\")))\n",
      "\n",
      "During handling of the above exception, another exception occurred:\n",
      "\n",
      "Traceback (most recent call last):\n",
      "  File \"/tmp/ipykernel_6102/253839466.py\", line 10, in build_dataset\n",
      "    data = requests.get(url)\n",
      "  File \"/home/gabriel/miniconda3/envs/pt_nlp/lib/python3.9/site-packages/requests/api.py\", line 75, in get\n",
      "    return request('get', url, params=params, **kwargs)\n",
      "  File \"/home/gabriel/miniconda3/envs/pt_nlp/lib/python3.9/site-packages/requests/api.py\", line 61, in request\n",
      "    return session.request(method=method, url=url, **kwargs)\n",
      "  File \"/home/gabriel/miniconda3/envs/pt_nlp/lib/python3.9/site-packages/requests/sessions.py\", line 529, in request\n",
      "    resp = self.send(prep, **send_kwargs)\n",
      "  File \"/home/gabriel/miniconda3/envs/pt_nlp/lib/python3.9/site-packages/requests/sessions.py\", line 645, in send\n",
      "    r = adapter.send(request, **kwargs)\n",
      "  File \"/home/gabriel/miniconda3/envs/pt_nlp/lib/python3.9/site-packages/requests/adapters.py\", line 517, in send\n",
      "    raise SSLError(e, request=request)\n",
      "requests.exceptions.SSLError: HTTPSConnectionPool(host='houseofdurante.co.uk', port=443): Max retries exceeded with url: /products/libra-bronze-boar-sculpture (Caused by SSLError(SSLCertVerificationError(\"hostname 'houseofdurante.co.uk' doesn't match either of 'myshopify.com', '*.myshopify.com'\")))\n"
     ]
    },
    {
     "name": "stderr",
     "output_type": "stream",
     "text": [
      "WARNING:urllib3.connection:Certificate did not match expected hostname: homedesires.com. Certificate: {'subject': ((('countryName', 'US'),), (('stateOrProvinceName', 'California'),), (('localityName', 'San Francisco'),), (('organizationName', 'Cloudflare, Inc.'),), (('commonName', '*.myshopify.com'),)), 'issuer': ((('countryName', 'US'),), (('organizationName', 'Cloudflare, Inc.'),), (('commonName', 'Cloudflare Inc ECC CA-3'),)), 'version': 3, 'serialNumber': '08D14009B8CCFD7A28D460E790084A96', 'notBefore': 'Sep 13 00:00:00 2021 GMT', 'notAfter': 'Sep 12 23:59:59 2022 GMT', 'subjectAltName': (('DNS', 'myshopify.com'), ('DNS', '*.myshopify.com')), 'OCSP': ('http://ocsp.digicert.com',), 'caIssuers': ('http://cacerts.digicert.com/CloudflareIncECCCA-3.crt',), 'crlDistributionPoints': ('http://crl3.digicert.com/CloudflareIncECCCA-3.crl', 'http://crl4.digicert.com/CloudflareIncECCCA-3.crl')}\n",
      "ERROR:root:HTTPSConnectionPool(host='homedesires.com', port=443): Max retries exceeded with url: /products/gift-card (Caused by SSLError(SSLCertVerificationError(\"hostname 'homedesires.com' doesn't match either of 'myshopify.com', '*.myshopify.com'\")))\n",
      "Traceback (most recent call last):\n",
      "  File \"/home/gabriel/miniconda3/envs/pt_nlp/lib/python3.9/site-packages/urllib3/connectionpool.py\", line 699, in urlopen\n",
      "    httplib_response = self._make_request(\n",
      "  File \"/home/gabriel/miniconda3/envs/pt_nlp/lib/python3.9/site-packages/urllib3/connectionpool.py\", line 382, in _make_request\n",
      "    self._validate_conn(conn)\n",
      "  File \"/home/gabriel/miniconda3/envs/pt_nlp/lib/python3.9/site-packages/urllib3/connectionpool.py\", line 1010, in _validate_conn\n",
      "    conn.connect()\n",
      "  File \"/home/gabriel/miniconda3/envs/pt_nlp/lib/python3.9/site-packages/urllib3/connection.py\", line 469, in connect\n",
      "    _match_hostname(cert, self.assert_hostname or server_hostname)\n",
      "  File \"/home/gabriel/miniconda3/envs/pt_nlp/lib/python3.9/site-packages/urllib3/connection.py\", line 542, in _match_hostname\n",
      "    match_hostname(cert, asserted_hostname)\n",
      "  File \"/home/gabriel/miniconda3/envs/pt_nlp/lib/python3.9/ssl.py\", line 416, in match_hostname\n",
      "    raise CertificateError(\"hostname %r \"\n",
      "ssl.SSLCertVerificationError: (\"hostname 'homedesires.com' doesn't match either of 'myshopify.com', '*.myshopify.com'\",)\n",
      "\n",
      "During handling of the above exception, another exception occurred:\n",
      "\n",
      "Traceback (most recent call last):\n",
      "  File \"/home/gabriel/miniconda3/envs/pt_nlp/lib/python3.9/site-packages/requests/adapters.py\", line 440, in send\n",
      "    resp = conn.urlopen(\n",
      "  File \"/home/gabriel/miniconda3/envs/pt_nlp/lib/python3.9/site-packages/urllib3/connectionpool.py\", line 755, in urlopen\n",
      "    retries = retries.increment(\n",
      "  File \"/home/gabriel/miniconda3/envs/pt_nlp/lib/python3.9/site-packages/urllib3/util/retry.py\", line 574, in increment\n",
      "    raise MaxRetryError(_pool, url, error or ResponseError(cause))\n",
      "urllib3.exceptions.MaxRetryError: HTTPSConnectionPool(host='homedesires.com', port=443): Max retries exceeded with url: /products/gift-card (Caused by SSLError(SSLCertVerificationError(\"hostname 'homedesires.com' doesn't match either of 'myshopify.com', '*.myshopify.com'\")))\n",
      "\n",
      "During handling of the above exception, another exception occurred:\n",
      "\n",
      "Traceback (most recent call last):\n",
      "  File \"/tmp/ipykernel_6102/253839466.py\", line 10, in build_dataset\n",
      "    data = requests.get(url)\n",
      "  File \"/home/gabriel/miniconda3/envs/pt_nlp/lib/python3.9/site-packages/requests/api.py\", line 75, in get\n",
      "    return request('get', url, params=params, **kwargs)\n",
      "  File \"/home/gabriel/miniconda3/envs/pt_nlp/lib/python3.9/site-packages/requests/api.py\", line 61, in request\n",
      "    return session.request(method=method, url=url, **kwargs)\n",
      "  File \"/home/gabriel/miniconda3/envs/pt_nlp/lib/python3.9/site-packages/requests/sessions.py\", line 529, in request\n",
      "    resp = self.send(prep, **send_kwargs)\n",
      "  File \"/home/gabriel/miniconda3/envs/pt_nlp/lib/python3.9/site-packages/requests/sessions.py\", line 645, in send\n",
      "    r = adapter.send(request, **kwargs)\n",
      "  File \"/home/gabriel/miniconda3/envs/pt_nlp/lib/python3.9/site-packages/requests/adapters.py\", line 517, in send\n",
      "    raise SSLError(e, request=request)\n",
      "requests.exceptions.SSLError: HTTPSConnectionPool(host='homedesires.com', port=443): Max retries exceeded with url: /products/gift-card (Caused by SSLError(SSLCertVerificationError(\"hostname 'homedesires.com' doesn't match either of 'myshopify.com', '*.myshopify.com'\")))\n",
      "WARNING:urllib3.connection:Certificate did not match expected hostname: outonthepatio.com.au. Certificate: {'subject': ((('countryName', 'US'),), (('stateOrProvinceName', 'California'),), (('localityName', 'San Francisco'),), (('organizationName', 'Cloudflare, Inc.'),), (('commonName', '*.myshopify.com'),)), 'issuer': ((('countryName', 'US'),), (('organizationName', 'Cloudflare, Inc.'),), (('commonName', 'Cloudflare Inc ECC CA-3'),)), 'version': 3, 'serialNumber': '08D14009B8CCFD7A28D460E790084A96', 'notBefore': 'Sep 13 00:00:00 2021 GMT', 'notAfter': 'Sep 12 23:59:59 2022 GMT', 'subjectAltName': (('DNS', 'myshopify.com'), ('DNS', '*.myshopify.com')), 'OCSP': ('http://ocsp.digicert.com',), 'caIssuers': ('http://cacerts.digicert.com/CloudflareIncECCCA-3.crt',), 'crlDistributionPoints': ('http://crl3.digicert.com/CloudflareIncECCCA-3.crl', 'http://crl4.digicert.com/CloudflareIncECCCA-3.crl')}\n",
      "ERROR:root:HTTPSConnectionPool(host='outonthepatio.com.au', port=443): Max retries exceeded with url: /products/aria (Caused by SSLError(SSLCertVerificationError(\"hostname 'outonthepatio.com.au' doesn't match either of 'myshopify.com', '*.myshopify.com'\")))\n",
      "Traceback (most recent call last):\n",
      "  File \"/home/gabriel/miniconda3/envs/pt_nlp/lib/python3.9/site-packages/urllib3/connectionpool.py\", line 699, in urlopen\n",
      "    httplib_response = self._make_request(\n",
      "  File \"/home/gabriel/miniconda3/envs/pt_nlp/lib/python3.9/site-packages/urllib3/connectionpool.py\", line 382, in _make_request\n",
      "    self._validate_conn(conn)\n",
      "  File \"/home/gabriel/miniconda3/envs/pt_nlp/lib/python3.9/site-packages/urllib3/connectionpool.py\", line 1010, in _validate_conn\n",
      "    conn.connect()\n",
      "  File \"/home/gabriel/miniconda3/envs/pt_nlp/lib/python3.9/site-packages/urllib3/connection.py\", line 469, in connect\n",
      "    _match_hostname(cert, self.assert_hostname or server_hostname)\n",
      "  File \"/home/gabriel/miniconda3/envs/pt_nlp/lib/python3.9/site-packages/urllib3/connection.py\", line 542, in _match_hostname\n",
      "    match_hostname(cert, asserted_hostname)\n",
      "  File \"/home/gabriel/miniconda3/envs/pt_nlp/lib/python3.9/ssl.py\", line 416, in match_hostname\n",
      "    raise CertificateError(\"hostname %r \"\n",
      "ssl.SSLCertVerificationError: (\"hostname 'outonthepatio.com.au' doesn't match either of 'myshopify.com', '*.myshopify.com'\",)\n",
      "\n",
      "During handling of the above exception, another exception occurred:\n",
      "\n",
      "Traceback (most recent call last):\n",
      "  File \"/home/gabriel/miniconda3/envs/pt_nlp/lib/python3.9/site-packages/requests/adapters.py\", line 440, in send\n",
      "    resp = conn.urlopen(\n",
      "  File \"/home/gabriel/miniconda3/envs/pt_nlp/lib/python3.9/site-packages/urllib3/connectionpool.py\", line 755, in urlopen\n",
      "    retries = retries.increment(\n",
      "  File \"/home/gabriel/miniconda3/envs/pt_nlp/lib/python3.9/site-packages/urllib3/util/retry.py\", line 574, in increment\n",
      "    raise MaxRetryError(_pool, url, error or ResponseError(cause))\n",
      "urllib3.exceptions.MaxRetryError: HTTPSConnectionPool(host='outonthepatio.com.au', port=443): Max retries exceeded with url: /products/aria (Caused by SSLError(SSLCertVerificationError(\"hostname 'outonthepatio.com.au' doesn't match either of 'myshopify.com', '*.myshopify.com'\")))\n",
      "\n",
      "During handling of the above exception, another exception occurred:\n",
      "\n",
      "Traceback (most recent call last):\n",
      "  File \"/tmp/ipykernel_6102/253839466.py\", line 10, in build_dataset\n",
      "    data = requests.get(url)\n",
      "  File \"/home/gabriel/miniconda3/envs/pt_nlp/lib/python3.9/site-packages/requests/api.py\", line 75, in get\n",
      "    return request('get', url, params=params, **kwargs)\n",
      "  File \"/home/gabriel/miniconda3/envs/pt_nlp/lib/python3.9/site-packages/requests/api.py\", line 61, in request\n",
      "    return session.request(method=method, url=url, **kwargs)\n",
      "  File \"/home/gabriel/miniconda3/envs/pt_nlp/lib/python3.9/site-packages/requests/sessions.py\", line 529, in request\n",
      "    resp = self.send(prep, **send_kwargs)\n",
      "  File \"/home/gabriel/miniconda3/envs/pt_nlp/lib/python3.9/site-packages/requests/sessions.py\", line 645, in send\n",
      "    r = adapter.send(request, **kwargs)\n",
      "  File \"/home/gabriel/miniconda3/envs/pt_nlp/lib/python3.9/site-packages/requests/adapters.py\", line 517, in send\n",
      "    raise SSLError(e, request=request)\n",
      "requests.exceptions.SSLError: HTTPSConnectionPool(host='outonthepatio.com.au', port=443): Max retries exceeded with url: /products/aria (Caused by SSLError(SSLCertVerificationError(\"hostname 'outonthepatio.com.au' doesn't match either of 'myshopify.com', '*.myshopify.com'\")))\n"
     ]
    },
    {
     "name": "stderr",
     "output_type": "stream",
     "text": [
      "ERROR:root:HTTPSConnectionPool(host='thecooldepot.com', port=443): Max retries exceeded with url: /products/3d-cement-wall-planter (Caused by NewConnectionError('<urllib3.connection.HTTPSConnection object at 0x7f1723867430>: Failed to establish a new connection: [Errno -2] Name or service not known'))\n",
      "Traceback (most recent call last):\n",
      "  File \"/home/gabriel/miniconda3/envs/pt_nlp/lib/python3.9/site-packages/urllib3/connection.py\", line 174, in _new_conn\n",
      "    conn = connection.create_connection(\n",
      "  File \"/home/gabriel/miniconda3/envs/pt_nlp/lib/python3.9/site-packages/urllib3/util/connection.py\", line 73, in create_connection\n",
      "    for res in socket.getaddrinfo(host, port, family, socket.SOCK_STREAM):\n",
      "  File \"/home/gabriel/miniconda3/envs/pt_nlp/lib/python3.9/socket.py\", line 954, in getaddrinfo\n",
      "    for res in _socket.getaddrinfo(host, port, family, type, proto, flags):\n",
      "socket.gaierror: [Errno -2] Name or service not known\n",
      "\n",
      "During handling of the above exception, another exception occurred:\n",
      "\n",
      "Traceback (most recent call last):\n",
      "  File \"/home/gabriel/miniconda3/envs/pt_nlp/lib/python3.9/site-packages/urllib3/connectionpool.py\", line 699, in urlopen\n",
      "    httplib_response = self._make_request(\n",
      "  File \"/home/gabriel/miniconda3/envs/pt_nlp/lib/python3.9/site-packages/urllib3/connectionpool.py\", line 382, in _make_request\n",
      "    self._validate_conn(conn)\n",
      "  File \"/home/gabriel/miniconda3/envs/pt_nlp/lib/python3.9/site-packages/urllib3/connectionpool.py\", line 1010, in _validate_conn\n",
      "    conn.connect()\n",
      "  File \"/home/gabriel/miniconda3/envs/pt_nlp/lib/python3.9/site-packages/urllib3/connection.py\", line 358, in connect\n",
      "    conn = self._new_conn()\n",
      "  File \"/home/gabriel/miniconda3/envs/pt_nlp/lib/python3.9/site-packages/urllib3/connection.py\", line 186, in _new_conn\n",
      "    raise NewConnectionError(\n",
      "urllib3.exceptions.NewConnectionError: <urllib3.connection.HTTPSConnection object at 0x7f1723867430>: Failed to establish a new connection: [Errno -2] Name or service not known\n",
      "\n",
      "During handling of the above exception, another exception occurred:\n",
      "\n",
      "Traceback (most recent call last):\n",
      "  File \"/home/gabriel/miniconda3/envs/pt_nlp/lib/python3.9/site-packages/requests/adapters.py\", line 440, in send\n",
      "    resp = conn.urlopen(\n",
      "  File \"/home/gabriel/miniconda3/envs/pt_nlp/lib/python3.9/site-packages/urllib3/connectionpool.py\", line 755, in urlopen\n",
      "    retries = retries.increment(\n",
      "  File \"/home/gabriel/miniconda3/envs/pt_nlp/lib/python3.9/site-packages/urllib3/util/retry.py\", line 574, in increment\n",
      "    raise MaxRetryError(_pool, url, error or ResponseError(cause))\n",
      "urllib3.exceptions.MaxRetryError: HTTPSConnectionPool(host='thecooldepot.com', port=443): Max retries exceeded with url: /products/3d-cement-wall-planter (Caused by NewConnectionError('<urllib3.connection.HTTPSConnection object at 0x7f1723867430>: Failed to establish a new connection: [Errno -2] Name or service not known'))\n",
      "\n",
      "During handling of the above exception, another exception occurred:\n",
      "\n",
      "Traceback (most recent call last):\n",
      "  File \"/tmp/ipykernel_6102/253839466.py\", line 10, in build_dataset\n",
      "    data = requests.get(url)\n",
      "  File \"/home/gabriel/miniconda3/envs/pt_nlp/lib/python3.9/site-packages/requests/api.py\", line 75, in get\n",
      "    return request('get', url, params=params, **kwargs)\n",
      "  File \"/home/gabriel/miniconda3/envs/pt_nlp/lib/python3.9/site-packages/requests/api.py\", line 61, in request\n",
      "    return session.request(method=method, url=url, **kwargs)\n",
      "  File \"/home/gabriel/miniconda3/envs/pt_nlp/lib/python3.9/site-packages/requests/sessions.py\", line 529, in request\n",
      "    resp = self.send(prep, **send_kwargs)\n",
      "  File \"/home/gabriel/miniconda3/envs/pt_nlp/lib/python3.9/site-packages/requests/sessions.py\", line 645, in send\n",
      "    r = adapter.send(request, **kwargs)\n",
      "  File \"/home/gabriel/miniconda3/envs/pt_nlp/lib/python3.9/site-packages/requests/adapters.py\", line 519, in send\n",
      "    raise ConnectionError(e, request=request)\n",
      "requests.exceptions.ConnectionError: HTTPSConnectionPool(host='thecooldepot.com', port=443): Max retries exceeded with url: /products/3d-cement-wall-planter (Caused by NewConnectionError('<urllib3.connection.HTTPSConnection object at 0x7f1723867430>: Failed to establish a new connection: [Errno -2] Name or service not known'))\n",
      "WARNING:urllib3.connection:Certificate did not match expected hostname: www.bbdgstore.com. Certificate: {'subject': ((('countryName', 'US'),), (('stateOrProvinceName', 'California'),), (('localityName', 'San Francisco'),), (('organizationName', 'Cloudflare, Inc.'),), (('commonName', '*.myshopify.com'),)), 'issuer': ((('countryName', 'US'),), (('organizationName', 'Cloudflare, Inc.'),), (('commonName', 'Cloudflare Inc ECC CA-3'),)), 'version': 3, 'serialNumber': '08D14009B8CCFD7A28D460E790084A96', 'notBefore': 'Sep 13 00:00:00 2021 GMT', 'notAfter': 'Sep 12 23:59:59 2022 GMT', 'subjectAltName': (('DNS', 'myshopify.com'), ('DNS', '*.myshopify.com')), 'OCSP': ('http://ocsp.digicert.com',), 'caIssuers': ('http://cacerts.digicert.com/CloudflareIncECCCA-3.crt',), 'crlDistributionPoints': ('http://crl3.digicert.com/CloudflareIncECCCA-3.crl', 'http://crl4.digicert.com/CloudflareIncECCCA-3.crl')}\n",
      "ERROR:root:HTTPSConnectionPool(host='www.bbdgstore.com', port=443): Max retries exceeded with url: /products/bed-pillows (Caused by SSLError(SSLCertVerificationError(\"hostname 'www.bbdgstore.com' doesn't match either of 'myshopify.com', '*.myshopify.com'\")))\n",
      "Traceback (most recent call last):\n",
      "  File \"/home/gabriel/miniconda3/envs/pt_nlp/lib/python3.9/site-packages/urllib3/connectionpool.py\", line 699, in urlopen\n",
      "    httplib_response = self._make_request(\n",
      "  File \"/home/gabriel/miniconda3/envs/pt_nlp/lib/python3.9/site-packages/urllib3/connectionpool.py\", line 382, in _make_request\n",
      "    self._validate_conn(conn)\n",
      "  File \"/home/gabriel/miniconda3/envs/pt_nlp/lib/python3.9/site-packages/urllib3/connectionpool.py\", line 1010, in _validate_conn\n",
      "    conn.connect()\n",
      "  File \"/home/gabriel/miniconda3/envs/pt_nlp/lib/python3.9/site-packages/urllib3/connection.py\", line 469, in connect\n",
      "    _match_hostname(cert, self.assert_hostname or server_hostname)\n",
      "  File \"/home/gabriel/miniconda3/envs/pt_nlp/lib/python3.9/site-packages/urllib3/connection.py\", line 542, in _match_hostname\n",
      "    match_hostname(cert, asserted_hostname)\n",
      "  File \"/home/gabriel/miniconda3/envs/pt_nlp/lib/python3.9/ssl.py\", line 416, in match_hostname\n",
      "    raise CertificateError(\"hostname %r \"\n",
      "ssl.SSLCertVerificationError: (\"hostname 'www.bbdgstore.com' doesn't match either of 'myshopify.com', '*.myshopify.com'\",)\n",
      "\n",
      "During handling of the above exception, another exception occurred:\n",
      "\n",
      "Traceback (most recent call last):\n",
      "  File \"/home/gabriel/miniconda3/envs/pt_nlp/lib/python3.9/site-packages/requests/adapters.py\", line 440, in send\n",
      "    resp = conn.urlopen(\n",
      "  File \"/home/gabriel/miniconda3/envs/pt_nlp/lib/python3.9/site-packages/urllib3/connectionpool.py\", line 755, in urlopen\n",
      "    retries = retries.increment(\n",
      "  File \"/home/gabriel/miniconda3/envs/pt_nlp/lib/python3.9/site-packages/urllib3/util/retry.py\", line 574, in increment\n",
      "    raise MaxRetryError(_pool, url, error or ResponseError(cause))\n",
      "urllib3.exceptions.MaxRetryError: HTTPSConnectionPool(host='www.bbdgstore.com', port=443): Max retries exceeded with url: /products/bed-pillows (Caused by SSLError(SSLCertVerificationError(\"hostname 'www.bbdgstore.com' doesn't match either of 'myshopify.com', '*.myshopify.com'\")))\n",
      "\n",
      "During handling of the above exception, another exception occurred:\n",
      "\n",
      "Traceback (most recent call last):\n",
      "  File \"/tmp/ipykernel_6102/253839466.py\", line 10, in build_dataset\n",
      "    data = requests.get(url)\n",
      "  File \"/home/gabriel/miniconda3/envs/pt_nlp/lib/python3.9/site-packages/requests/api.py\", line 75, in get\n",
      "    return request('get', url, params=params, **kwargs)\n",
      "  File \"/home/gabriel/miniconda3/envs/pt_nlp/lib/python3.9/site-packages/requests/api.py\", line 61, in request\n",
      "    return session.request(method=method, url=url, **kwargs)\n",
      "  File \"/home/gabriel/miniconda3/envs/pt_nlp/lib/python3.9/site-packages/requests/sessions.py\", line 529, in request\n",
      "    resp = self.send(prep, **send_kwargs)\n",
      "  File \"/home/gabriel/miniconda3/envs/pt_nlp/lib/python3.9/site-packages/requests/sessions.py\", line 645, in send\n",
      "    r = adapter.send(request, **kwargs)\n",
      "  File \"/home/gabriel/miniconda3/envs/pt_nlp/lib/python3.9/site-packages/requests/adapters.py\", line 517, in send\n",
      "    raise SSLError(e, request=request)\n",
      "requests.exceptions.SSLError: HTTPSConnectionPool(host='www.bbdgstore.com', port=443): Max retries exceeded with url: /products/bed-pillows (Caused by SSLError(SSLCertVerificationError(\"hostname 'www.bbdgstore.com' doesn't match either of 'myshopify.com', '*.myshopify.com'\")))\n"
     ]
    },
    {
     "name": "stderr",
     "output_type": "stream",
     "text": [
      "ERROR:root:HTTPSConnectionPool(host='homeandpatioliving.com', port=443): Max retries exceeded with url: /products/mib (Caused by NewConnectionError('<urllib3.connection.HTTPSConnection object at 0x7f172b660ca0>: Failed to establish a new connection: [Errno -2] Name or service not known'))\n",
      "Traceback (most recent call last):\n",
      "  File \"/home/gabriel/miniconda3/envs/pt_nlp/lib/python3.9/site-packages/urllib3/connection.py\", line 174, in _new_conn\n",
      "    conn = connection.create_connection(\n",
      "  File \"/home/gabriel/miniconda3/envs/pt_nlp/lib/python3.9/site-packages/urllib3/util/connection.py\", line 73, in create_connection\n",
      "    for res in socket.getaddrinfo(host, port, family, socket.SOCK_STREAM):\n",
      "  File \"/home/gabriel/miniconda3/envs/pt_nlp/lib/python3.9/socket.py\", line 954, in getaddrinfo\n",
      "    for res in _socket.getaddrinfo(host, port, family, type, proto, flags):\n",
      "socket.gaierror: [Errno -2] Name or service not known\n",
      "\n",
      "During handling of the above exception, another exception occurred:\n",
      "\n",
      "Traceback (most recent call last):\n",
      "  File \"/home/gabriel/miniconda3/envs/pt_nlp/lib/python3.9/site-packages/urllib3/connectionpool.py\", line 699, in urlopen\n",
      "    httplib_response = self._make_request(\n",
      "  File \"/home/gabriel/miniconda3/envs/pt_nlp/lib/python3.9/site-packages/urllib3/connectionpool.py\", line 382, in _make_request\n",
      "    self._validate_conn(conn)\n",
      "  File \"/home/gabriel/miniconda3/envs/pt_nlp/lib/python3.9/site-packages/urllib3/connectionpool.py\", line 1010, in _validate_conn\n",
      "    conn.connect()\n",
      "  File \"/home/gabriel/miniconda3/envs/pt_nlp/lib/python3.9/site-packages/urllib3/connection.py\", line 358, in connect\n",
      "    conn = self._new_conn()\n",
      "  File \"/home/gabriel/miniconda3/envs/pt_nlp/lib/python3.9/site-packages/urllib3/connection.py\", line 186, in _new_conn\n",
      "    raise NewConnectionError(\n",
      "urllib3.exceptions.NewConnectionError: <urllib3.connection.HTTPSConnection object at 0x7f172b660ca0>: Failed to establish a new connection: [Errno -2] Name or service not known\n",
      "\n",
      "During handling of the above exception, another exception occurred:\n",
      "\n",
      "Traceback (most recent call last):\n",
      "  File \"/home/gabriel/miniconda3/envs/pt_nlp/lib/python3.9/site-packages/requests/adapters.py\", line 440, in send\n",
      "    resp = conn.urlopen(\n",
      "  File \"/home/gabriel/miniconda3/envs/pt_nlp/lib/python3.9/site-packages/urllib3/connectionpool.py\", line 755, in urlopen\n",
      "    retries = retries.increment(\n",
      "  File \"/home/gabriel/miniconda3/envs/pt_nlp/lib/python3.9/site-packages/urllib3/util/retry.py\", line 574, in increment\n",
      "    raise MaxRetryError(_pool, url, error or ResponseError(cause))\n",
      "urllib3.exceptions.MaxRetryError: HTTPSConnectionPool(host='homeandpatioliving.com', port=443): Max retries exceeded with url: /products/mib (Caused by NewConnectionError('<urllib3.connection.HTTPSConnection object at 0x7f172b660ca0>: Failed to establish a new connection: [Errno -2] Name or service not known'))\n",
      "\n",
      "During handling of the above exception, another exception occurred:\n",
      "\n",
      "Traceback (most recent call last):\n",
      "  File \"/tmp/ipykernel_6102/253839466.py\", line 10, in build_dataset\n",
      "    data = requests.get(url)\n",
      "  File \"/home/gabriel/miniconda3/envs/pt_nlp/lib/python3.9/site-packages/requests/api.py\", line 75, in get\n",
      "    return request('get', url, params=params, **kwargs)\n",
      "  File \"/home/gabriel/miniconda3/envs/pt_nlp/lib/python3.9/site-packages/requests/api.py\", line 61, in request\n",
      "    return session.request(method=method, url=url, **kwargs)\n",
      "  File \"/home/gabriel/miniconda3/envs/pt_nlp/lib/python3.9/site-packages/requests/sessions.py\", line 529, in request\n",
      "    resp = self.send(prep, **send_kwargs)\n",
      "  File \"/home/gabriel/miniconda3/envs/pt_nlp/lib/python3.9/site-packages/requests/sessions.py\", line 645, in send\n",
      "    r = adapter.send(request, **kwargs)\n",
      "  File \"/home/gabriel/miniconda3/envs/pt_nlp/lib/python3.9/site-packages/requests/adapters.py\", line 519, in send\n",
      "    raise ConnectionError(e, request=request)\n",
      "requests.exceptions.ConnectionError: HTTPSConnectionPool(host='homeandpatioliving.com', port=443): Max retries exceeded with url: /products/mib (Caused by NewConnectionError('<urllib3.connection.HTTPSConnection object at 0x7f172b660ca0>: Failed to establish a new connection: [Errno -2] Name or service not known'))\n",
      "WARNING:urllib3.connection:Certificate did not match expected hostname: www.savetheplanetfurniture.com. Certificate: {'subject': ((('countryName', 'US'),), (('stateOrProvinceName', 'California'),), (('localityName', 'San Francisco'),), (('organizationName', 'Cloudflare, Inc.'),), (('commonName', '*.myshopify.com'),)), 'issuer': ((('countryName', 'US'),), (('organizationName', 'Cloudflare, Inc.'),), (('commonName', 'Cloudflare Inc ECC CA-3'),)), 'version': 3, 'serialNumber': '08D14009B8CCFD7A28D460E790084A96', 'notBefore': 'Sep 13 00:00:00 2021 GMT', 'notAfter': 'Sep 12 23:59:59 2022 GMT', 'subjectAltName': (('DNS', 'myshopify.com'), ('DNS', '*.myshopify.com')), 'OCSP': ('http://ocsp.digicert.com',), 'caIssuers': ('http://cacerts.digicert.com/CloudflareIncECCCA-3.crt',), 'crlDistributionPoints': ('http://crl3.digicert.com/CloudflareIncECCCA-3.crl', 'http://crl4.digicert.com/CloudflareIncECCCA-3.crl')}\n",
      "ERROR:root:HTTPSConnectionPool(host='www.savetheplanetfurniture.com', port=443): Max retries exceeded with url: /products/lantern-silver-cube (Caused by SSLError(SSLCertVerificationError(\"hostname 'www.savetheplanetfurniture.com' doesn't match either of 'myshopify.com', '*.myshopify.com'\")))\n",
      "Traceback (most recent call last):\n",
      "  File \"/home/gabriel/miniconda3/envs/pt_nlp/lib/python3.9/site-packages/urllib3/connectionpool.py\", line 699, in urlopen\n",
      "    httplib_response = self._make_request(\n",
      "  File \"/home/gabriel/miniconda3/envs/pt_nlp/lib/python3.9/site-packages/urllib3/connectionpool.py\", line 382, in _make_request\n",
      "    self._validate_conn(conn)\n",
      "  File \"/home/gabriel/miniconda3/envs/pt_nlp/lib/python3.9/site-packages/urllib3/connectionpool.py\", line 1010, in _validate_conn\n",
      "    conn.connect()\n",
      "  File \"/home/gabriel/miniconda3/envs/pt_nlp/lib/python3.9/site-packages/urllib3/connection.py\", line 469, in connect\n",
      "    _match_hostname(cert, self.assert_hostname or server_hostname)\n",
      "  File \"/home/gabriel/miniconda3/envs/pt_nlp/lib/python3.9/site-packages/urllib3/connection.py\", line 542, in _match_hostname\n",
      "    match_hostname(cert, asserted_hostname)\n",
      "  File \"/home/gabriel/miniconda3/envs/pt_nlp/lib/python3.9/ssl.py\", line 416, in match_hostname\n",
      "    raise CertificateError(\"hostname %r \"\n",
      "ssl.SSLCertVerificationError: (\"hostname 'www.savetheplanetfurniture.com' doesn't match either of 'myshopify.com', '*.myshopify.com'\",)\n",
      "\n",
      "During handling of the above exception, another exception occurred:\n",
      "\n",
      "Traceback (most recent call last):\n",
      "  File \"/home/gabriel/miniconda3/envs/pt_nlp/lib/python3.9/site-packages/requests/adapters.py\", line 440, in send\n",
      "    resp = conn.urlopen(\n",
      "  File \"/home/gabriel/miniconda3/envs/pt_nlp/lib/python3.9/site-packages/urllib3/connectionpool.py\", line 755, in urlopen\n",
      "    retries = retries.increment(\n",
      "  File \"/home/gabriel/miniconda3/envs/pt_nlp/lib/python3.9/site-packages/urllib3/util/retry.py\", line 574, in increment\n",
      "    raise MaxRetryError(_pool, url, error or ResponseError(cause))\n",
      "urllib3.exceptions.MaxRetryError: HTTPSConnectionPool(host='www.savetheplanetfurniture.com', port=443): Max retries exceeded with url: /products/lantern-silver-cube (Caused by SSLError(SSLCertVerificationError(\"hostname 'www.savetheplanetfurniture.com' doesn't match either of 'myshopify.com', '*.myshopify.com'\")))\n",
      "\n",
      "During handling of the above exception, another exception occurred:\n",
      "\n",
      "Traceback (most recent call last):\n",
      "  File \"/tmp/ipykernel_6102/253839466.py\", line 10, in build_dataset\n",
      "    data = requests.get(url)\n",
      "  File \"/home/gabriel/miniconda3/envs/pt_nlp/lib/python3.9/site-packages/requests/api.py\", line 75, in get\n",
      "    return request('get', url, params=params, **kwargs)\n",
      "  File \"/home/gabriel/miniconda3/envs/pt_nlp/lib/python3.9/site-packages/requests/api.py\", line 61, in request\n",
      "    return session.request(method=method, url=url, **kwargs)\n",
      "  File \"/home/gabriel/miniconda3/envs/pt_nlp/lib/python3.9/site-packages/requests/sessions.py\", line 529, in request\n",
      "    resp = self.send(prep, **send_kwargs)\n",
      "  File \"/home/gabriel/miniconda3/envs/pt_nlp/lib/python3.9/site-packages/requests/sessions.py\", line 645, in send\n",
      "    r = adapter.send(request, **kwargs)\n",
      "  File \"/home/gabriel/miniconda3/envs/pt_nlp/lib/python3.9/site-packages/requests/adapters.py\", line 517, in send\n",
      "    raise SSLError(e, request=request)\n",
      "requests.exceptions.SSLError: HTTPSConnectionPool(host='www.savetheplanetfurniture.com', port=443): Max retries exceeded with url: /products/lantern-silver-cube (Caused by SSLError(SSLCertVerificationError(\"hostname 'www.savetheplanetfurniture.com' doesn't match either of 'myshopify.com', '*.myshopify.com'\")))\n"
     ]
    },
    {
     "name": "stderr",
     "output_type": "stream",
     "text": [
      "WARNING:urllib3.connection:Certificate did not match expected hostname: www.pizzazzhub.com.au. Certificate: {'subject': ((('countryName', 'US'),), (('stateOrProvinceName', 'California'),), (('localityName', 'San Francisco'),), (('organizationName', 'Cloudflare, Inc.'),), (('commonName', '*.myshopify.com'),)), 'issuer': ((('countryName', 'US'),), (('organizationName', 'Cloudflare, Inc.'),), (('commonName', 'Cloudflare Inc ECC CA-3'),)), 'version': 3, 'serialNumber': '08D14009B8CCFD7A28D460E790084A96', 'notBefore': 'Sep 13 00:00:00 2021 GMT', 'notAfter': 'Sep 12 23:59:59 2022 GMT', 'subjectAltName': (('DNS', 'myshopify.com'), ('DNS', '*.myshopify.com')), 'OCSP': ('http://ocsp.digicert.com',), 'caIssuers': ('http://cacerts.digicert.com/CloudflareIncECCCA-3.crt',), 'crlDistributionPoints': ('http://crl3.digicert.com/CloudflareIncECCCA-3.crl', 'http://crl4.digicert.com/CloudflareIncECCCA-3.crl')}\n",
      "ERROR:root:HTTPSConnectionPool(host='www.pizzazzhub.com.au', port=443): Max retries exceeded with url: /products/4-tier-tv-media-stand (Caused by SSLError(SSLCertVerificationError(\"hostname 'www.pizzazzhub.com.au' doesn't match either of 'myshopify.com', '*.myshopify.com'\")))\n",
      "Traceback (most recent call last):\n",
      "  File \"/home/gabriel/miniconda3/envs/pt_nlp/lib/python3.9/site-packages/urllib3/connectionpool.py\", line 699, in urlopen\n",
      "    httplib_response = self._make_request(\n",
      "  File \"/home/gabriel/miniconda3/envs/pt_nlp/lib/python3.9/site-packages/urllib3/connectionpool.py\", line 382, in _make_request\n",
      "    self._validate_conn(conn)\n",
      "  File \"/home/gabriel/miniconda3/envs/pt_nlp/lib/python3.9/site-packages/urllib3/connectionpool.py\", line 1010, in _validate_conn\n",
      "    conn.connect()\n",
      "  File \"/home/gabriel/miniconda3/envs/pt_nlp/lib/python3.9/site-packages/urllib3/connection.py\", line 469, in connect\n",
      "    _match_hostname(cert, self.assert_hostname or server_hostname)\n",
      "  File \"/home/gabriel/miniconda3/envs/pt_nlp/lib/python3.9/site-packages/urllib3/connection.py\", line 542, in _match_hostname\n",
      "    match_hostname(cert, asserted_hostname)\n",
      "  File \"/home/gabriel/miniconda3/envs/pt_nlp/lib/python3.9/ssl.py\", line 416, in match_hostname\n",
      "    raise CertificateError(\"hostname %r \"\n",
      "ssl.SSLCertVerificationError: (\"hostname 'www.pizzazzhub.com.au' doesn't match either of 'myshopify.com', '*.myshopify.com'\",)\n",
      "\n",
      "During handling of the above exception, another exception occurred:\n",
      "\n",
      "Traceback (most recent call last):\n",
      "  File \"/home/gabriel/miniconda3/envs/pt_nlp/lib/python3.9/site-packages/requests/adapters.py\", line 440, in send\n",
      "    resp = conn.urlopen(\n",
      "  File \"/home/gabriel/miniconda3/envs/pt_nlp/lib/python3.9/site-packages/urllib3/connectionpool.py\", line 755, in urlopen\n",
      "    retries = retries.increment(\n",
      "  File \"/home/gabriel/miniconda3/envs/pt_nlp/lib/python3.9/site-packages/urllib3/util/retry.py\", line 574, in increment\n",
      "    raise MaxRetryError(_pool, url, error or ResponseError(cause))\n",
      "urllib3.exceptions.MaxRetryError: HTTPSConnectionPool(host='www.pizzazzhub.com.au', port=443): Max retries exceeded with url: /products/4-tier-tv-media-stand (Caused by SSLError(SSLCertVerificationError(\"hostname 'www.pizzazzhub.com.au' doesn't match either of 'myshopify.com', '*.myshopify.com'\")))\n",
      "\n",
      "During handling of the above exception, another exception occurred:\n",
      "\n",
      "Traceback (most recent call last):\n",
      "  File \"/tmp/ipykernel_6102/253839466.py\", line 10, in build_dataset\n",
      "    data = requests.get(url)\n",
      "  File \"/home/gabriel/miniconda3/envs/pt_nlp/lib/python3.9/site-packages/requests/api.py\", line 75, in get\n",
      "    return request('get', url, params=params, **kwargs)\n",
      "  File \"/home/gabriel/miniconda3/envs/pt_nlp/lib/python3.9/site-packages/requests/api.py\", line 61, in request\n",
      "    return session.request(method=method, url=url, **kwargs)\n",
      "  File \"/home/gabriel/miniconda3/envs/pt_nlp/lib/python3.9/site-packages/requests/sessions.py\", line 529, in request\n",
      "    resp = self.send(prep, **send_kwargs)\n",
      "  File \"/home/gabriel/miniconda3/envs/pt_nlp/lib/python3.9/site-packages/requests/sessions.py\", line 645, in send\n",
      "    r = adapter.send(request, **kwargs)\n",
      "  File \"/home/gabriel/miniconda3/envs/pt_nlp/lib/python3.9/site-packages/requests/adapters.py\", line 517, in send\n",
      "    raise SSLError(e, request=request)\n",
      "requests.exceptions.SSLError: HTTPSConnectionPool(host='www.pizzazzhub.com.au', port=443): Max retries exceeded with url: /products/4-tier-tv-media-stand (Caused by SSLError(SSLCertVerificationError(\"hostname 'www.pizzazzhub.com.au' doesn't match either of 'myshopify.com', '*.myshopify.com'\")))\n",
      "ERROR:root:HTTPSConnectionPool(host='stylefurniture.com.sg', port=443): Max retries exceeded with url: /products/lucas-armchair (Caused by NewConnectionError('<urllib3.connection.HTTPSConnection object at 0x7f172b719640>: Failed to establish a new connection: [Errno -2] Name or service not known'))\n",
      "Traceback (most recent call last):\n",
      "  File \"/home/gabriel/miniconda3/envs/pt_nlp/lib/python3.9/site-packages/urllib3/connection.py\", line 174, in _new_conn\n",
      "    conn = connection.create_connection(\n",
      "  File \"/home/gabriel/miniconda3/envs/pt_nlp/lib/python3.9/site-packages/urllib3/util/connection.py\", line 73, in create_connection\n",
      "    for res in socket.getaddrinfo(host, port, family, socket.SOCK_STREAM):\n",
      "  File \"/home/gabriel/miniconda3/envs/pt_nlp/lib/python3.9/socket.py\", line 954, in getaddrinfo\n",
      "    for res in _socket.getaddrinfo(host, port, family, type, proto, flags):\n",
      "socket.gaierror: [Errno -2] Name or service not known\n",
      "\n",
      "During handling of the above exception, another exception occurred:\n",
      "\n",
      "Traceback (most recent call last):\n",
      "  File \"/home/gabriel/miniconda3/envs/pt_nlp/lib/python3.9/site-packages/urllib3/connectionpool.py\", line 699, in urlopen\n",
      "    httplib_response = self._make_request(\n",
      "  File \"/home/gabriel/miniconda3/envs/pt_nlp/lib/python3.9/site-packages/urllib3/connectionpool.py\", line 382, in _make_request\n",
      "    self._validate_conn(conn)\n",
      "  File \"/home/gabriel/miniconda3/envs/pt_nlp/lib/python3.9/site-packages/urllib3/connectionpool.py\", line 1010, in _validate_conn\n",
      "    conn.connect()\n",
      "  File \"/home/gabriel/miniconda3/envs/pt_nlp/lib/python3.9/site-packages/urllib3/connection.py\", line 358, in connect\n",
      "    conn = self._new_conn()\n",
      "  File \"/home/gabriel/miniconda3/envs/pt_nlp/lib/python3.9/site-packages/urllib3/connection.py\", line 186, in _new_conn\n",
      "    raise NewConnectionError(\n",
      "urllib3.exceptions.NewConnectionError: <urllib3.connection.HTTPSConnection object at 0x7f172b719640>: Failed to establish a new connection: [Errno -2] Name or service not known\n",
      "\n",
      "During handling of the above exception, another exception occurred:\n",
      "\n",
      "Traceback (most recent call last):\n",
      "  File \"/home/gabriel/miniconda3/envs/pt_nlp/lib/python3.9/site-packages/requests/adapters.py\", line 440, in send\n",
      "    resp = conn.urlopen(\n",
      "  File \"/home/gabriel/miniconda3/envs/pt_nlp/lib/python3.9/site-packages/urllib3/connectionpool.py\", line 755, in urlopen\n",
      "    retries = retries.increment(\n",
      "  File \"/home/gabriel/miniconda3/envs/pt_nlp/lib/python3.9/site-packages/urllib3/util/retry.py\", line 574, in increment\n",
      "    raise MaxRetryError(_pool, url, error or ResponseError(cause))\n",
      "urllib3.exceptions.MaxRetryError: HTTPSConnectionPool(host='stylefurniture.com.sg', port=443): Max retries exceeded with url: /products/lucas-armchair (Caused by NewConnectionError('<urllib3.connection.HTTPSConnection object at 0x7f172b719640>: Failed to establish a new connection: [Errno -2] Name or service not known'))\n",
      "\n",
      "During handling of the above exception, another exception occurred:\n",
      "\n",
      "Traceback (most recent call last):\n",
      "  File \"/tmp/ipykernel_6102/253839466.py\", line 10, in build_dataset\n",
      "    data = requests.get(url)\n",
      "  File \"/home/gabriel/miniconda3/envs/pt_nlp/lib/python3.9/site-packages/requests/api.py\", line 75, in get\n",
      "    return request('get', url, params=params, **kwargs)\n",
      "  File \"/home/gabriel/miniconda3/envs/pt_nlp/lib/python3.9/site-packages/requests/api.py\", line 61, in request\n",
      "    return session.request(method=method, url=url, **kwargs)\n",
      "  File \"/home/gabriel/miniconda3/envs/pt_nlp/lib/python3.9/site-packages/requests/sessions.py\", line 529, in request\n",
      "    resp = self.send(prep, **send_kwargs)\n",
      "  File \"/home/gabriel/miniconda3/envs/pt_nlp/lib/python3.9/site-packages/requests/sessions.py\", line 645, in send\n",
      "    r = adapter.send(request, **kwargs)\n",
      "  File \"/home/gabriel/miniconda3/envs/pt_nlp/lib/python3.9/site-packages/requests/adapters.py\", line 519, in send\n",
      "    raise ConnectionError(e, request=request)\n",
      "requests.exceptions.ConnectionError: HTTPSConnectionPool(host='stylefurniture.com.sg', port=443): Max retries exceeded with url: /products/lucas-armchair (Caused by NewConnectionError('<urllib3.connection.HTTPSConnection object at 0x7f172b719640>: Failed to establish a new connection: [Errno -2] Name or service not known'))\n"
     ]
    },
    {
     "name": "stderr",
     "output_type": "stream",
     "text": [
      "ERROR:root:HTTPSConnectionPool(host='www.walteralice.com', port=443): Max retries exceeded with url: /products/wool-alpaca-poly-blend-check-fireside-chair?variant=8105538551900 (Caused by NewConnectionError('<urllib3.connection.HTTPSConnection object at 0x7f172b719730>: Failed to establish a new connection: [Errno -2] Name or service not known'))\n",
      "Traceback (most recent call last):\n",
      "  File \"/home/gabriel/miniconda3/envs/pt_nlp/lib/python3.9/site-packages/urllib3/connection.py\", line 174, in _new_conn\n",
      "    conn = connection.create_connection(\n",
      "  File \"/home/gabriel/miniconda3/envs/pt_nlp/lib/python3.9/site-packages/urllib3/util/connection.py\", line 73, in create_connection\n",
      "    for res in socket.getaddrinfo(host, port, family, socket.SOCK_STREAM):\n",
      "  File \"/home/gabriel/miniconda3/envs/pt_nlp/lib/python3.9/socket.py\", line 954, in getaddrinfo\n",
      "    for res in _socket.getaddrinfo(host, port, family, type, proto, flags):\n",
      "socket.gaierror: [Errno -2] Name or service not known\n",
      "\n",
      "During handling of the above exception, another exception occurred:\n",
      "\n",
      "Traceback (most recent call last):\n",
      "  File \"/home/gabriel/miniconda3/envs/pt_nlp/lib/python3.9/site-packages/urllib3/connectionpool.py\", line 699, in urlopen\n",
      "    httplib_response = self._make_request(\n",
      "  File \"/home/gabriel/miniconda3/envs/pt_nlp/lib/python3.9/site-packages/urllib3/connectionpool.py\", line 382, in _make_request\n",
      "    self._validate_conn(conn)\n",
      "  File \"/home/gabriel/miniconda3/envs/pt_nlp/lib/python3.9/site-packages/urllib3/connectionpool.py\", line 1010, in _validate_conn\n",
      "    conn.connect()\n",
      "  File \"/home/gabriel/miniconda3/envs/pt_nlp/lib/python3.9/site-packages/urllib3/connection.py\", line 358, in connect\n",
      "    conn = self._new_conn()\n",
      "  File \"/home/gabriel/miniconda3/envs/pt_nlp/lib/python3.9/site-packages/urllib3/connection.py\", line 186, in _new_conn\n",
      "    raise NewConnectionError(\n",
      "urllib3.exceptions.NewConnectionError: <urllib3.connection.HTTPSConnection object at 0x7f172b719730>: Failed to establish a new connection: [Errno -2] Name or service not known\n",
      "\n",
      "During handling of the above exception, another exception occurred:\n",
      "\n",
      "Traceback (most recent call last):\n",
      "  File \"/home/gabriel/miniconda3/envs/pt_nlp/lib/python3.9/site-packages/requests/adapters.py\", line 440, in send\n",
      "    resp = conn.urlopen(\n",
      "  File \"/home/gabriel/miniconda3/envs/pt_nlp/lib/python3.9/site-packages/urllib3/connectionpool.py\", line 755, in urlopen\n",
      "    retries = retries.increment(\n",
      "  File \"/home/gabriel/miniconda3/envs/pt_nlp/lib/python3.9/site-packages/urllib3/util/retry.py\", line 574, in increment\n",
      "    raise MaxRetryError(_pool, url, error or ResponseError(cause))\n",
      "urllib3.exceptions.MaxRetryError: HTTPSConnectionPool(host='www.walteralice.com', port=443): Max retries exceeded with url: /products/wool-alpaca-poly-blend-check-fireside-chair?variant=8105538551900 (Caused by NewConnectionError('<urllib3.connection.HTTPSConnection object at 0x7f172b719730>: Failed to establish a new connection: [Errno -2] Name or service not known'))\n",
      "\n",
      "During handling of the above exception, another exception occurred:\n",
      "\n",
      "Traceback (most recent call last):\n",
      "  File \"/tmp/ipykernel_6102/253839466.py\", line 10, in build_dataset\n",
      "    data = requests.get(url)\n",
      "  File \"/home/gabriel/miniconda3/envs/pt_nlp/lib/python3.9/site-packages/requests/api.py\", line 75, in get\n",
      "    return request('get', url, params=params, **kwargs)\n",
      "  File \"/home/gabriel/miniconda3/envs/pt_nlp/lib/python3.9/site-packages/requests/api.py\", line 61, in request\n",
      "    return session.request(method=method, url=url, **kwargs)\n",
      "  File \"/home/gabriel/miniconda3/envs/pt_nlp/lib/python3.9/site-packages/requests/sessions.py\", line 529, in request\n",
      "    resp = self.send(prep, **send_kwargs)\n",
      "  File \"/home/gabriel/miniconda3/envs/pt_nlp/lib/python3.9/site-packages/requests/sessions.py\", line 645, in send\n",
      "    r = adapter.send(request, **kwargs)\n",
      "  File \"/home/gabriel/miniconda3/envs/pt_nlp/lib/python3.9/site-packages/requests/adapters.py\", line 519, in send\n",
      "    raise ConnectionError(e, request=request)\n",
      "requests.exceptions.ConnectionError: HTTPSConnectionPool(host='www.walteralice.com', port=443): Max retries exceeded with url: /products/wool-alpaca-poly-blend-check-fireside-chair?variant=8105538551900 (Caused by NewConnectionError('<urllib3.connection.HTTPSConnection object at 0x7f172b719730>: Failed to establish a new connection: [Errno -2] Name or service not known'))\n",
      "WARNING:urllib3.connection:Certificate did not match expected hostname: veroabode.com. Certificate: {'subject': ((('countryName', 'US'),), (('stateOrProvinceName', 'California'),), (('localityName', 'San Francisco'),), (('organizationName', 'Cloudflare, Inc.'),), (('commonName', '*.myshopify.com'),)), 'issuer': ((('countryName', 'US'),), (('organizationName', 'Cloudflare, Inc.'),), (('commonName', 'Cloudflare Inc ECC CA-3'),)), 'version': 3, 'serialNumber': '08D14009B8CCFD7A28D460E790084A96', 'notBefore': 'Sep 13 00:00:00 2021 GMT', 'notAfter': 'Sep 12 23:59:59 2022 GMT', 'subjectAltName': (('DNS', 'myshopify.com'), ('DNS', '*.myshopify.com')), 'OCSP': ('http://ocsp.digicert.com',), 'caIssuers': ('http://cacerts.digicert.com/CloudflareIncECCCA-3.crt',), 'crlDistributionPoints': ('http://crl3.digicert.com/CloudflareIncECCCA-3.crl', 'http://crl4.digicert.com/CloudflareIncECCCA-3.crl')}\n",
      "ERROR:root:HTTPSConnectionPool(host='veroabode.com', port=443): Max retries exceeded with url: /products/adjustable-vintage-retro-rustic-bar-stool (Caused by SSLError(SSLCertVerificationError(\"hostname 'veroabode.com' doesn't match either of 'myshopify.com', '*.myshopify.com'\")))\n",
      "Traceback (most recent call last):\n",
      "  File \"/home/gabriel/miniconda3/envs/pt_nlp/lib/python3.9/site-packages/urllib3/connectionpool.py\", line 699, in urlopen\n",
      "    httplib_response = self._make_request(\n",
      "  File \"/home/gabriel/miniconda3/envs/pt_nlp/lib/python3.9/site-packages/urllib3/connectionpool.py\", line 382, in _make_request\n",
      "    self._validate_conn(conn)\n",
      "  File \"/home/gabriel/miniconda3/envs/pt_nlp/lib/python3.9/site-packages/urllib3/connectionpool.py\", line 1010, in _validate_conn\n",
      "    conn.connect()\n",
      "  File \"/home/gabriel/miniconda3/envs/pt_nlp/lib/python3.9/site-packages/urllib3/connection.py\", line 469, in connect\n",
      "    _match_hostname(cert, self.assert_hostname or server_hostname)\n",
      "  File \"/home/gabriel/miniconda3/envs/pt_nlp/lib/python3.9/site-packages/urllib3/connection.py\", line 542, in _match_hostname\n",
      "    match_hostname(cert, asserted_hostname)\n",
      "  File \"/home/gabriel/miniconda3/envs/pt_nlp/lib/python3.9/ssl.py\", line 416, in match_hostname\n",
      "    raise CertificateError(\"hostname %r \"\n",
      "ssl.SSLCertVerificationError: (\"hostname 'veroabode.com' doesn't match either of 'myshopify.com', '*.myshopify.com'\",)\n",
      "\n",
      "During handling of the above exception, another exception occurred:\n",
      "\n",
      "Traceback (most recent call last):\n",
      "  File \"/home/gabriel/miniconda3/envs/pt_nlp/lib/python3.9/site-packages/requests/adapters.py\", line 440, in send\n",
      "    resp = conn.urlopen(\n",
      "  File \"/home/gabriel/miniconda3/envs/pt_nlp/lib/python3.9/site-packages/urllib3/connectionpool.py\", line 755, in urlopen\n",
      "    retries = retries.increment(\n",
      "  File \"/home/gabriel/miniconda3/envs/pt_nlp/lib/python3.9/site-packages/urllib3/util/retry.py\", line 574, in increment\n",
      "    raise MaxRetryError(_pool, url, error or ResponseError(cause))\n",
      "urllib3.exceptions.MaxRetryError: HTTPSConnectionPool(host='veroabode.com', port=443): Max retries exceeded with url: /products/adjustable-vintage-retro-rustic-bar-stool (Caused by SSLError(SSLCertVerificationError(\"hostname 'veroabode.com' doesn't match either of 'myshopify.com', '*.myshopify.com'\")))\n",
      "\n",
      "During handling of the above exception, another exception occurred:\n",
      "\n",
      "Traceback (most recent call last):\n",
      "  File \"/tmp/ipykernel_6102/253839466.py\", line 10, in build_dataset\n",
      "    data = requests.get(url)\n",
      "  File \"/home/gabriel/miniconda3/envs/pt_nlp/lib/python3.9/site-packages/requests/api.py\", line 75, in get\n",
      "    return request('get', url, params=params, **kwargs)\n",
      "  File \"/home/gabriel/miniconda3/envs/pt_nlp/lib/python3.9/site-packages/requests/api.py\", line 61, in request\n",
      "    return session.request(method=method, url=url, **kwargs)\n",
      "  File \"/home/gabriel/miniconda3/envs/pt_nlp/lib/python3.9/site-packages/requests/sessions.py\", line 529, in request\n",
      "    resp = self.send(prep, **send_kwargs)\n",
      "  File \"/home/gabriel/miniconda3/envs/pt_nlp/lib/python3.9/site-packages/requests/sessions.py\", line 645, in send\n",
      "    r = adapter.send(request, **kwargs)\n",
      "  File \"/home/gabriel/miniconda3/envs/pt_nlp/lib/python3.9/site-packages/requests/adapters.py\", line 517, in send\n",
      "    raise SSLError(e, request=request)\n",
      "requests.exceptions.SSLError: HTTPSConnectionPool(host='veroabode.com', port=443): Max retries exceeded with url: /products/adjustable-vintage-retro-rustic-bar-stool (Caused by SSLError(SSLCertVerificationError(\"hostname 'veroabode.com' doesn't match either of 'myshopify.com', '*.myshopify.com'\")))\n"
     ]
    },
    {
     "name": "stderr",
     "output_type": "stream",
     "text": [
      "ERROR:root:HTTPSConnectionPool(host='www.kotihome.com.au', port=443): Max retries exceeded with url: /collections/tv/products/new-devanti-40-inch-smart-led-tv-2k-full-hd-lcd-slim-screen-black (Caused by NewConnectionError('<urllib3.connection.HTTPSConnection object at 0x7f172b719970>: Failed to establish a new connection: [Errno -2] Name or service not known'))\n",
      "Traceback (most recent call last):\n",
      "  File \"/home/gabriel/miniconda3/envs/pt_nlp/lib/python3.9/site-packages/urllib3/connection.py\", line 174, in _new_conn\n",
      "    conn = connection.create_connection(\n",
      "  File \"/home/gabriel/miniconda3/envs/pt_nlp/lib/python3.9/site-packages/urllib3/util/connection.py\", line 73, in create_connection\n",
      "    for res in socket.getaddrinfo(host, port, family, socket.SOCK_STREAM):\n",
      "  File \"/home/gabriel/miniconda3/envs/pt_nlp/lib/python3.9/socket.py\", line 954, in getaddrinfo\n",
      "    for res in _socket.getaddrinfo(host, port, family, type, proto, flags):\n",
      "socket.gaierror: [Errno -2] Name or service not known\n",
      "\n",
      "During handling of the above exception, another exception occurred:\n",
      "\n",
      "Traceback (most recent call last):\n",
      "  File \"/home/gabriel/miniconda3/envs/pt_nlp/lib/python3.9/site-packages/urllib3/connectionpool.py\", line 699, in urlopen\n",
      "    httplib_response = self._make_request(\n",
      "  File \"/home/gabriel/miniconda3/envs/pt_nlp/lib/python3.9/site-packages/urllib3/connectionpool.py\", line 382, in _make_request\n",
      "    self._validate_conn(conn)\n",
      "  File \"/home/gabriel/miniconda3/envs/pt_nlp/lib/python3.9/site-packages/urllib3/connectionpool.py\", line 1010, in _validate_conn\n",
      "    conn.connect()\n",
      "  File \"/home/gabriel/miniconda3/envs/pt_nlp/lib/python3.9/site-packages/urllib3/connection.py\", line 358, in connect\n",
      "    conn = self._new_conn()\n",
      "  File \"/home/gabriel/miniconda3/envs/pt_nlp/lib/python3.9/site-packages/urllib3/connection.py\", line 186, in _new_conn\n",
      "    raise NewConnectionError(\n",
      "urllib3.exceptions.NewConnectionError: <urllib3.connection.HTTPSConnection object at 0x7f172b719970>: Failed to establish a new connection: [Errno -2] Name or service not known\n",
      "\n",
      "During handling of the above exception, another exception occurred:\n",
      "\n",
      "Traceback (most recent call last):\n",
      "  File \"/home/gabriel/miniconda3/envs/pt_nlp/lib/python3.9/site-packages/requests/adapters.py\", line 440, in send\n",
      "    resp = conn.urlopen(\n",
      "  File \"/home/gabriel/miniconda3/envs/pt_nlp/lib/python3.9/site-packages/urllib3/connectionpool.py\", line 755, in urlopen\n",
      "    retries = retries.increment(\n",
      "  File \"/home/gabriel/miniconda3/envs/pt_nlp/lib/python3.9/site-packages/urllib3/util/retry.py\", line 574, in increment\n",
      "    raise MaxRetryError(_pool, url, error or ResponseError(cause))\n",
      "urllib3.exceptions.MaxRetryError: HTTPSConnectionPool(host='www.kotihome.com.au', port=443): Max retries exceeded with url: /collections/tv/products/new-devanti-40-inch-smart-led-tv-2k-full-hd-lcd-slim-screen-black (Caused by NewConnectionError('<urllib3.connection.HTTPSConnection object at 0x7f172b719970>: Failed to establish a new connection: [Errno -2] Name or service not known'))\n",
      "\n",
      "During handling of the above exception, another exception occurred:\n",
      "\n",
      "Traceback (most recent call last):\n",
      "  File \"/tmp/ipykernel_6102/253839466.py\", line 10, in build_dataset\n",
      "    data = requests.get(url)\n",
      "  File \"/home/gabriel/miniconda3/envs/pt_nlp/lib/python3.9/site-packages/requests/api.py\", line 75, in get\n",
      "    return request('get', url, params=params, **kwargs)\n",
      "  File \"/home/gabriel/miniconda3/envs/pt_nlp/lib/python3.9/site-packages/requests/api.py\", line 61, in request\n",
      "    return session.request(method=method, url=url, **kwargs)\n",
      "  File \"/home/gabriel/miniconda3/envs/pt_nlp/lib/python3.9/site-packages/requests/sessions.py\", line 529, in request\n",
      "    resp = self.send(prep, **send_kwargs)\n",
      "  File \"/home/gabriel/miniconda3/envs/pt_nlp/lib/python3.9/site-packages/requests/sessions.py\", line 645, in send\n",
      "    r = adapter.send(request, **kwargs)\n",
      "  File \"/home/gabriel/miniconda3/envs/pt_nlp/lib/python3.9/site-packages/requests/adapters.py\", line 519, in send\n",
      "    raise ConnectionError(e, request=request)\n",
      "requests.exceptions.ConnectionError: HTTPSConnectionPool(host='www.kotihome.com.au', port=443): Max retries exceeded with url: /collections/tv/products/new-devanti-40-inch-smart-led-tv-2k-full-hd-lcd-slim-screen-black (Caused by NewConnectionError('<urllib3.connection.HTTPSConnection object at 0x7f172b719970>: Failed to establish a new connection: [Errno -2] Name or service not known'))\n",
      "WARNING:urllib3.connection:Certificate did not match expected hostname: workspaceluxe.com.au. Certificate: {'subject': ((('countryName', 'US'),), (('stateOrProvinceName', 'California'),), (('localityName', 'San Francisco'),), (('organizationName', 'Cloudflare, Inc.'),), (('commonName', '*.myshopify.com'),)), 'issuer': ((('countryName', 'US'),), (('organizationName', 'Cloudflare, Inc.'),), (('commonName', 'Cloudflare Inc ECC CA-3'),)), 'version': 3, 'serialNumber': '08D14009B8CCFD7A28D460E790084A96', 'notBefore': 'Sep 13 00:00:00 2021 GMT', 'notAfter': 'Sep 12 23:59:59 2022 GMT', 'subjectAltName': (('DNS', 'myshopify.com'), ('DNS', '*.myshopify.com')), 'OCSP': ('http://ocsp.digicert.com',), 'caIssuers': ('http://cacerts.digicert.com/CloudflareIncECCCA-3.crt',), 'crlDistributionPoints': ('http://crl3.digicert.com/CloudflareIncECCCA-3.crl', 'http://crl4.digicert.com/CloudflareIncECCCA-3.crl')}\n",
      "ERROR:root:HTTPSConnectionPool(host='workspaceluxe.com.au', port=443): Max retries exceeded with url: /products/6ixty-zine-desk (Caused by SSLError(SSLCertVerificationError(\"hostname 'workspaceluxe.com.au' doesn't match either of 'myshopify.com', '*.myshopify.com'\")))\n",
      "Traceback (most recent call last):\n",
      "  File \"/home/gabriel/miniconda3/envs/pt_nlp/lib/python3.9/site-packages/urllib3/connectionpool.py\", line 699, in urlopen\n",
      "    httplib_response = self._make_request(\n",
      "  File \"/home/gabriel/miniconda3/envs/pt_nlp/lib/python3.9/site-packages/urllib3/connectionpool.py\", line 382, in _make_request\n",
      "    self._validate_conn(conn)\n",
      "  File \"/home/gabriel/miniconda3/envs/pt_nlp/lib/python3.9/site-packages/urllib3/connectionpool.py\", line 1010, in _validate_conn\n",
      "    conn.connect()\n",
      "  File \"/home/gabriel/miniconda3/envs/pt_nlp/lib/python3.9/site-packages/urllib3/connection.py\", line 469, in connect\n",
      "    _match_hostname(cert, self.assert_hostname or server_hostname)\n",
      "  File \"/home/gabriel/miniconda3/envs/pt_nlp/lib/python3.9/site-packages/urllib3/connection.py\", line 542, in _match_hostname\n",
      "    match_hostname(cert, asserted_hostname)\n",
      "  File \"/home/gabriel/miniconda3/envs/pt_nlp/lib/python3.9/ssl.py\", line 416, in match_hostname\n",
      "    raise CertificateError(\"hostname %r \"\n",
      "ssl.SSLCertVerificationError: (\"hostname 'workspaceluxe.com.au' doesn't match either of 'myshopify.com', '*.myshopify.com'\",)\n",
      "\n",
      "During handling of the above exception, another exception occurred:\n",
      "\n",
      "Traceback (most recent call last):\n",
      "  File \"/home/gabriel/miniconda3/envs/pt_nlp/lib/python3.9/site-packages/requests/adapters.py\", line 440, in send\n",
      "    resp = conn.urlopen(\n",
      "  File \"/home/gabriel/miniconda3/envs/pt_nlp/lib/python3.9/site-packages/urllib3/connectionpool.py\", line 755, in urlopen\n",
      "    retries = retries.increment(\n",
      "  File \"/home/gabriel/miniconda3/envs/pt_nlp/lib/python3.9/site-packages/urllib3/util/retry.py\", line 574, in increment\n",
      "    raise MaxRetryError(_pool, url, error or ResponseError(cause))\n",
      "urllib3.exceptions.MaxRetryError: HTTPSConnectionPool(host='workspaceluxe.com.au', port=443): Max retries exceeded with url: /products/6ixty-zine-desk (Caused by SSLError(SSLCertVerificationError(\"hostname 'workspaceluxe.com.au' doesn't match either of 'myshopify.com', '*.myshopify.com'\")))\n",
      "\n",
      "During handling of the above exception, another exception occurred:\n",
      "\n",
      "Traceback (most recent call last):\n",
      "  File \"/tmp/ipykernel_6102/253839466.py\", line 10, in build_dataset\n",
      "    data = requests.get(url)\n",
      "  File \"/home/gabriel/miniconda3/envs/pt_nlp/lib/python3.9/site-packages/requests/api.py\", line 75, in get\n",
      "    return request('get', url, params=params, **kwargs)\n",
      "  File \"/home/gabriel/miniconda3/envs/pt_nlp/lib/python3.9/site-packages/requests/api.py\", line 61, in request\n",
      "    return session.request(method=method, url=url, **kwargs)\n",
      "  File \"/home/gabriel/miniconda3/envs/pt_nlp/lib/python3.9/site-packages/requests/sessions.py\", line 529, in request\n",
      "    resp = self.send(prep, **send_kwargs)\n",
      "  File \"/home/gabriel/miniconda3/envs/pt_nlp/lib/python3.9/site-packages/requests/sessions.py\", line 645, in send\n",
      "    r = adapter.send(request, **kwargs)\n",
      "  File \"/home/gabriel/miniconda3/envs/pt_nlp/lib/python3.9/site-packages/requests/adapters.py\", line 517, in send\n",
      "    raise SSLError(e, request=request)\n",
      "requests.exceptions.SSLError: HTTPSConnectionPool(host='workspaceluxe.com.au', port=443): Max retries exceeded with url: /products/6ixty-zine-desk (Caused by SSLError(SSLCertVerificationError(\"hostname 'workspaceluxe.com.au' doesn't match either of 'myshopify.com', '*.myshopify.com'\")))\n"
     ]
    },
    {
     "name": "stderr",
     "output_type": "stream",
     "text": [
      "ERROR:root:HTTPSConnectionPool(host='www.newleafupcycled.com.au', port=443): Max retries exceeded with url: /products/rustic-shabby-chic-bookcase (Caused by NewConnectionError('<urllib3.connection.HTTPSConnection object at 0x7f1724891ac0>: Failed to establish a new connection: [Errno -2] Name or service not known'))\n",
      "Traceback (most recent call last):\n",
      "  File \"/home/gabriel/miniconda3/envs/pt_nlp/lib/python3.9/site-packages/urllib3/connection.py\", line 174, in _new_conn\n",
      "    conn = connection.create_connection(\n",
      "  File \"/home/gabriel/miniconda3/envs/pt_nlp/lib/python3.9/site-packages/urllib3/util/connection.py\", line 73, in create_connection\n",
      "    for res in socket.getaddrinfo(host, port, family, socket.SOCK_STREAM):\n",
      "  File \"/home/gabriel/miniconda3/envs/pt_nlp/lib/python3.9/socket.py\", line 954, in getaddrinfo\n",
      "    for res in _socket.getaddrinfo(host, port, family, type, proto, flags):\n",
      "socket.gaierror: [Errno -2] Name or service not known\n",
      "\n",
      "During handling of the above exception, another exception occurred:\n",
      "\n",
      "Traceback (most recent call last):\n",
      "  File \"/home/gabriel/miniconda3/envs/pt_nlp/lib/python3.9/site-packages/urllib3/connectionpool.py\", line 699, in urlopen\n",
      "    httplib_response = self._make_request(\n",
      "  File \"/home/gabriel/miniconda3/envs/pt_nlp/lib/python3.9/site-packages/urllib3/connectionpool.py\", line 382, in _make_request\n",
      "    self._validate_conn(conn)\n",
      "  File \"/home/gabriel/miniconda3/envs/pt_nlp/lib/python3.9/site-packages/urllib3/connectionpool.py\", line 1010, in _validate_conn\n",
      "    conn.connect()\n",
      "  File \"/home/gabriel/miniconda3/envs/pt_nlp/lib/python3.9/site-packages/urllib3/connection.py\", line 358, in connect\n",
      "    conn = self._new_conn()\n",
      "  File \"/home/gabriel/miniconda3/envs/pt_nlp/lib/python3.9/site-packages/urllib3/connection.py\", line 186, in _new_conn\n",
      "    raise NewConnectionError(\n",
      "urllib3.exceptions.NewConnectionError: <urllib3.connection.HTTPSConnection object at 0x7f1724891ac0>: Failed to establish a new connection: [Errno -2] Name or service not known\n",
      "\n",
      "During handling of the above exception, another exception occurred:\n",
      "\n",
      "Traceback (most recent call last):\n",
      "  File \"/home/gabriel/miniconda3/envs/pt_nlp/lib/python3.9/site-packages/requests/adapters.py\", line 440, in send\n",
      "    resp = conn.urlopen(\n",
      "  File \"/home/gabriel/miniconda3/envs/pt_nlp/lib/python3.9/site-packages/urllib3/connectionpool.py\", line 755, in urlopen\n",
      "    retries = retries.increment(\n",
      "  File \"/home/gabriel/miniconda3/envs/pt_nlp/lib/python3.9/site-packages/urllib3/util/retry.py\", line 574, in increment\n",
      "    raise MaxRetryError(_pool, url, error or ResponseError(cause))\n",
      "urllib3.exceptions.MaxRetryError: HTTPSConnectionPool(host='www.newleafupcycled.com.au', port=443): Max retries exceeded with url: /products/rustic-shabby-chic-bookcase (Caused by NewConnectionError('<urllib3.connection.HTTPSConnection object at 0x7f1724891ac0>: Failed to establish a new connection: [Errno -2] Name or service not known'))\n",
      "\n",
      "During handling of the above exception, another exception occurred:\n",
      "\n",
      "Traceback (most recent call last):\n",
      "  File \"/tmp/ipykernel_6102/253839466.py\", line 10, in build_dataset\n",
      "    data = requests.get(url)\n",
      "  File \"/home/gabriel/miniconda3/envs/pt_nlp/lib/python3.9/site-packages/requests/api.py\", line 75, in get\n",
      "    return request('get', url, params=params, **kwargs)\n",
      "  File \"/home/gabriel/miniconda3/envs/pt_nlp/lib/python3.9/site-packages/requests/api.py\", line 61, in request\n",
      "    return session.request(method=method, url=url, **kwargs)\n",
      "  File \"/home/gabriel/miniconda3/envs/pt_nlp/lib/python3.9/site-packages/requests/sessions.py\", line 529, in request\n",
      "    resp = self.send(prep, **send_kwargs)\n",
      "  File \"/home/gabriel/miniconda3/envs/pt_nlp/lib/python3.9/site-packages/requests/sessions.py\", line 645, in send\n",
      "    r = adapter.send(request, **kwargs)\n",
      "  File \"/home/gabriel/miniconda3/envs/pt_nlp/lib/python3.9/site-packages/requests/adapters.py\", line 519, in send\n",
      "    raise ConnectionError(e, request=request)\n",
      "requests.exceptions.ConnectionError: HTTPSConnectionPool(host='www.newleafupcycled.com.au', port=443): Max retries exceeded with url: /products/rustic-shabby-chic-bookcase (Caused by NewConnectionError('<urllib3.connection.HTTPSConnection object at 0x7f1724891ac0>: Failed to establish a new connection: [Errno -2] Name or service not known'))\n",
      "ERROR:root:HTTPSConnectionPool(host='www.paetry.com', port=443): Max retries exceeded with url: /products/catalina-chair (Caused by NewConnectionError('<urllib3.connection.HTTPSConnection object at 0x7f1727b6ecd0>: Failed to establish a new connection: [Errno -2] Name or service not known'))\n",
      "Traceback (most recent call last):\n",
      "  File \"/home/gabriel/miniconda3/envs/pt_nlp/lib/python3.9/site-packages/urllib3/connection.py\", line 174, in _new_conn\n",
      "    conn = connection.create_connection(\n",
      "  File \"/home/gabriel/miniconda3/envs/pt_nlp/lib/python3.9/site-packages/urllib3/util/connection.py\", line 73, in create_connection\n",
      "    for res in socket.getaddrinfo(host, port, family, socket.SOCK_STREAM):\n",
      "  File \"/home/gabriel/miniconda3/envs/pt_nlp/lib/python3.9/socket.py\", line 954, in getaddrinfo\n",
      "    for res in _socket.getaddrinfo(host, port, family, type, proto, flags):\n",
      "socket.gaierror: [Errno -2] Name or service not known\n",
      "\n",
      "During handling of the above exception, another exception occurred:\n",
      "\n",
      "Traceback (most recent call last):\n",
      "  File \"/home/gabriel/miniconda3/envs/pt_nlp/lib/python3.9/site-packages/urllib3/connectionpool.py\", line 699, in urlopen\n",
      "    httplib_response = self._make_request(\n",
      "  File \"/home/gabriel/miniconda3/envs/pt_nlp/lib/python3.9/site-packages/urllib3/connectionpool.py\", line 382, in _make_request\n",
      "    self._validate_conn(conn)\n",
      "  File \"/home/gabriel/miniconda3/envs/pt_nlp/lib/python3.9/site-packages/urllib3/connectionpool.py\", line 1010, in _validate_conn\n",
      "    conn.connect()\n",
      "  File \"/home/gabriel/miniconda3/envs/pt_nlp/lib/python3.9/site-packages/urllib3/connection.py\", line 358, in connect\n",
      "    conn = self._new_conn()\n",
      "  File \"/home/gabriel/miniconda3/envs/pt_nlp/lib/python3.9/site-packages/urllib3/connection.py\", line 186, in _new_conn\n",
      "    raise NewConnectionError(\n",
      "urllib3.exceptions.NewConnectionError: <urllib3.connection.HTTPSConnection object at 0x7f1727b6ecd0>: Failed to establish a new connection: [Errno -2] Name or service not known\n",
      "\n",
      "During handling of the above exception, another exception occurred:\n",
      "\n",
      "Traceback (most recent call last):\n",
      "  File \"/home/gabriel/miniconda3/envs/pt_nlp/lib/python3.9/site-packages/requests/adapters.py\", line 440, in send\n",
      "    resp = conn.urlopen(\n",
      "  File \"/home/gabriel/miniconda3/envs/pt_nlp/lib/python3.9/site-packages/urllib3/connectionpool.py\", line 755, in urlopen\n",
      "    retries = retries.increment(\n",
      "  File \"/home/gabriel/miniconda3/envs/pt_nlp/lib/python3.9/site-packages/urllib3/util/retry.py\", line 574, in increment\n",
      "    raise MaxRetryError(_pool, url, error or ResponseError(cause))\n",
      "urllib3.exceptions.MaxRetryError: HTTPSConnectionPool(host='www.paetry.com', port=443): Max retries exceeded with url: /products/catalina-chair (Caused by NewConnectionError('<urllib3.connection.HTTPSConnection object at 0x7f1727b6ecd0>: Failed to establish a new connection: [Errno -2] Name or service not known'))\n",
      "\n",
      "During handling of the above exception, another exception occurred:\n",
      "\n",
      "Traceback (most recent call last):\n",
      "  File \"/tmp/ipykernel_6102/253839466.py\", line 10, in build_dataset\n",
      "    data = requests.get(url)\n",
      "  File \"/home/gabriel/miniconda3/envs/pt_nlp/lib/python3.9/site-packages/requests/api.py\", line 75, in get\n",
      "    return request('get', url, params=params, **kwargs)\n",
      "  File \"/home/gabriel/miniconda3/envs/pt_nlp/lib/python3.9/site-packages/requests/api.py\", line 61, in request\n",
      "    return session.request(method=method, url=url, **kwargs)\n",
      "  File \"/home/gabriel/miniconda3/envs/pt_nlp/lib/python3.9/site-packages/requests/sessions.py\", line 529, in request\n",
      "    resp = self.send(prep, **send_kwargs)\n",
      "  File \"/home/gabriel/miniconda3/envs/pt_nlp/lib/python3.9/site-packages/requests/sessions.py\", line 645, in send\n",
      "    r = adapter.send(request, **kwargs)\n",
      "  File \"/home/gabriel/miniconda3/envs/pt_nlp/lib/python3.9/site-packages/requests/adapters.py\", line 519, in send\n",
      "    raise ConnectionError(e, request=request)\n",
      "requests.exceptions.ConnectionError: HTTPSConnectionPool(host='www.paetry.com', port=443): Max retries exceeded with url: /products/catalina-chair (Caused by NewConnectionError('<urllib3.connection.HTTPSConnection object at 0x7f1727b6ecd0>: Failed to establish a new connection: [Errno -2] Name or service not known'))\n"
     ]
    },
    {
     "name": "stderr",
     "output_type": "stream",
     "text": [
      "WARNING:urllib3.connection:Certificate did not match expected hostname: reclaimedcharm.co. Certificate: {'subject': ((('countryName', 'US'),), (('stateOrProvinceName', 'California'),), (('localityName', 'San Francisco'),), (('organizationName', 'Cloudflare, Inc.'),), (('commonName', '*.myshopify.com'),)), 'issuer': ((('countryName', 'US'),), (('organizationName', 'Cloudflare, Inc.'),), (('commonName', 'Cloudflare Inc ECC CA-3'),)), 'version': 3, 'serialNumber': '08D14009B8CCFD7A28D460E790084A96', 'notBefore': 'Sep 13 00:00:00 2021 GMT', 'notAfter': 'Sep 12 23:59:59 2022 GMT', 'subjectAltName': (('DNS', 'myshopify.com'), ('DNS', '*.myshopify.com')), 'OCSP': ('http://ocsp.digicert.com',), 'caIssuers': ('http://cacerts.digicert.com/CloudflareIncECCCA-3.crt',), 'crlDistributionPoints': ('http://crl3.digicert.com/CloudflareIncECCCA-3.crl', 'http://crl4.digicert.com/CloudflareIncECCCA-3.crl')}\n",
      "ERROR:root:HTTPSConnectionPool(host='reclaimedcharm.co', port=443): Max retries exceeded with url: /products/2-day-designs-dartboard-cabinet (Caused by SSLError(SSLCertVerificationError(\"hostname 'reclaimedcharm.co' doesn't match either of 'myshopify.com', '*.myshopify.com'\")))\n",
      "Traceback (most recent call last):\n",
      "  File \"/home/gabriel/miniconda3/envs/pt_nlp/lib/python3.9/site-packages/urllib3/connectionpool.py\", line 699, in urlopen\n",
      "    httplib_response = self._make_request(\n",
      "  File \"/home/gabriel/miniconda3/envs/pt_nlp/lib/python3.9/site-packages/urllib3/connectionpool.py\", line 382, in _make_request\n",
      "    self._validate_conn(conn)\n",
      "  File \"/home/gabriel/miniconda3/envs/pt_nlp/lib/python3.9/site-packages/urllib3/connectionpool.py\", line 1010, in _validate_conn\n",
      "    conn.connect()\n",
      "  File \"/home/gabriel/miniconda3/envs/pt_nlp/lib/python3.9/site-packages/urllib3/connection.py\", line 469, in connect\n",
      "    _match_hostname(cert, self.assert_hostname or server_hostname)\n",
      "  File \"/home/gabriel/miniconda3/envs/pt_nlp/lib/python3.9/site-packages/urllib3/connection.py\", line 542, in _match_hostname\n",
      "    match_hostname(cert, asserted_hostname)\n",
      "  File \"/home/gabriel/miniconda3/envs/pt_nlp/lib/python3.9/ssl.py\", line 416, in match_hostname\n",
      "    raise CertificateError(\"hostname %r \"\n",
      "ssl.SSLCertVerificationError: (\"hostname 'reclaimedcharm.co' doesn't match either of 'myshopify.com', '*.myshopify.com'\",)\n",
      "\n",
      "During handling of the above exception, another exception occurred:\n",
      "\n",
      "Traceback (most recent call last):\n",
      "  File \"/home/gabriel/miniconda3/envs/pt_nlp/lib/python3.9/site-packages/requests/adapters.py\", line 440, in send\n",
      "    resp = conn.urlopen(\n",
      "  File \"/home/gabriel/miniconda3/envs/pt_nlp/lib/python3.9/site-packages/urllib3/connectionpool.py\", line 755, in urlopen\n",
      "    retries = retries.increment(\n",
      "  File \"/home/gabriel/miniconda3/envs/pt_nlp/lib/python3.9/site-packages/urllib3/util/retry.py\", line 574, in increment\n",
      "    raise MaxRetryError(_pool, url, error or ResponseError(cause))\n",
      "urllib3.exceptions.MaxRetryError: HTTPSConnectionPool(host='reclaimedcharm.co', port=443): Max retries exceeded with url: /products/2-day-designs-dartboard-cabinet (Caused by SSLError(SSLCertVerificationError(\"hostname 'reclaimedcharm.co' doesn't match either of 'myshopify.com', '*.myshopify.com'\")))\n",
      "\n",
      "During handling of the above exception, another exception occurred:\n",
      "\n",
      "Traceback (most recent call last):\n",
      "  File \"/tmp/ipykernel_6102/253839466.py\", line 10, in build_dataset\n",
      "    data = requests.get(url)\n",
      "  File \"/home/gabriel/miniconda3/envs/pt_nlp/lib/python3.9/site-packages/requests/api.py\", line 75, in get\n",
      "    return request('get', url, params=params, **kwargs)\n",
      "  File \"/home/gabriel/miniconda3/envs/pt_nlp/lib/python3.9/site-packages/requests/api.py\", line 61, in request\n",
      "    return session.request(method=method, url=url, **kwargs)\n",
      "  File \"/home/gabriel/miniconda3/envs/pt_nlp/lib/python3.9/site-packages/requests/sessions.py\", line 529, in request\n",
      "    resp = self.send(prep, **send_kwargs)\n",
      "  File \"/home/gabriel/miniconda3/envs/pt_nlp/lib/python3.9/site-packages/requests/sessions.py\", line 645, in send\n",
      "    r = adapter.send(request, **kwargs)\n",
      "  File \"/home/gabriel/miniconda3/envs/pt_nlp/lib/python3.9/site-packages/requests/adapters.py\", line 517, in send\n",
      "    raise SSLError(e, request=request)\n",
      "requests.exceptions.SSLError: HTTPSConnectionPool(host='reclaimedcharm.co', port=443): Max retries exceeded with url: /products/2-day-designs-dartboard-cabinet (Caused by SSLError(SSLCertVerificationError(\"hostname 'reclaimedcharm.co' doesn't match either of 'myshopify.com', '*.myshopify.com'\")))\n",
      "ERROR:root:HTTPSConnectionPool(host='www.bilberry-furniture.co.uk', port=443): Max retries exceeded with url: /products/test (Caused by NewConnectionError('<urllib3.connection.HTTPSConnection object at 0x7f1724c5e880>: Failed to establish a new connection: [Errno -2] Name or service not known'))\n",
      "Traceback (most recent call last):\n",
      "  File \"/home/gabriel/miniconda3/envs/pt_nlp/lib/python3.9/site-packages/urllib3/connection.py\", line 174, in _new_conn\n",
      "    conn = connection.create_connection(\n",
      "  File \"/home/gabriel/miniconda3/envs/pt_nlp/lib/python3.9/site-packages/urllib3/util/connection.py\", line 73, in create_connection\n",
      "    for res in socket.getaddrinfo(host, port, family, socket.SOCK_STREAM):\n",
      "  File \"/home/gabriel/miniconda3/envs/pt_nlp/lib/python3.9/socket.py\", line 954, in getaddrinfo\n",
      "    for res in _socket.getaddrinfo(host, port, family, type, proto, flags):\n",
      "socket.gaierror: [Errno -2] Name or service not known\n",
      "\n",
      "During handling of the above exception, another exception occurred:\n",
      "\n",
      "Traceback (most recent call last):\n",
      "  File \"/home/gabriel/miniconda3/envs/pt_nlp/lib/python3.9/site-packages/urllib3/connectionpool.py\", line 699, in urlopen\n",
      "    httplib_response = self._make_request(\n",
      "  File \"/home/gabriel/miniconda3/envs/pt_nlp/lib/python3.9/site-packages/urllib3/connectionpool.py\", line 382, in _make_request\n",
      "    self._validate_conn(conn)\n",
      "  File \"/home/gabriel/miniconda3/envs/pt_nlp/lib/python3.9/site-packages/urllib3/connectionpool.py\", line 1010, in _validate_conn\n",
      "    conn.connect()\n",
      "  File \"/home/gabriel/miniconda3/envs/pt_nlp/lib/python3.9/site-packages/urllib3/connection.py\", line 358, in connect\n",
      "    conn = self._new_conn()\n",
      "  File \"/home/gabriel/miniconda3/envs/pt_nlp/lib/python3.9/site-packages/urllib3/connection.py\", line 186, in _new_conn\n",
      "    raise NewConnectionError(\n",
      "urllib3.exceptions.NewConnectionError: <urllib3.connection.HTTPSConnection object at 0x7f1724c5e880>: Failed to establish a new connection: [Errno -2] Name or service not known\n",
      "\n",
      "During handling of the above exception, another exception occurred:\n",
      "\n",
      "Traceback (most recent call last):\n",
      "  File \"/home/gabriel/miniconda3/envs/pt_nlp/lib/python3.9/site-packages/requests/adapters.py\", line 440, in send\n",
      "    resp = conn.urlopen(\n",
      "  File \"/home/gabriel/miniconda3/envs/pt_nlp/lib/python3.9/site-packages/urllib3/connectionpool.py\", line 755, in urlopen\n",
      "    retries = retries.increment(\n",
      "  File \"/home/gabriel/miniconda3/envs/pt_nlp/lib/python3.9/site-packages/urllib3/util/retry.py\", line 574, in increment\n",
      "    raise MaxRetryError(_pool, url, error or ResponseError(cause))\n",
      "urllib3.exceptions.MaxRetryError: HTTPSConnectionPool(host='www.bilberry-furniture.co.uk', port=443): Max retries exceeded with url: /products/test (Caused by NewConnectionError('<urllib3.connection.HTTPSConnection object at 0x7f1724c5e880>: Failed to establish a new connection: [Errno -2] Name or service not known'))\n",
      "\n",
      "During handling of the above exception, another exception occurred:\n",
      "\n",
      "Traceback (most recent call last):\n",
      "  File \"/tmp/ipykernel_6102/253839466.py\", line 10, in build_dataset\n",
      "    data = requests.get(url)\n",
      "  File \"/home/gabriel/miniconda3/envs/pt_nlp/lib/python3.9/site-packages/requests/api.py\", line 75, in get\n",
      "    return request('get', url, params=params, **kwargs)\n",
      "  File \"/home/gabriel/miniconda3/envs/pt_nlp/lib/python3.9/site-packages/requests/api.py\", line 61, in request\n",
      "    return session.request(method=method, url=url, **kwargs)\n",
      "  File \"/home/gabriel/miniconda3/envs/pt_nlp/lib/python3.9/site-packages/requests/sessions.py\", line 529, in request\n",
      "    resp = self.send(prep, **send_kwargs)\n",
      "  File \"/home/gabriel/miniconda3/envs/pt_nlp/lib/python3.9/site-packages/requests/sessions.py\", line 645, in send\n",
      "    r = adapter.send(request, **kwargs)\n",
      "  File \"/home/gabriel/miniconda3/envs/pt_nlp/lib/python3.9/site-packages/requests/adapters.py\", line 519, in send\n",
      "    raise ConnectionError(e, request=request)\n",
      "requests.exceptions.ConnectionError: HTTPSConnectionPool(host='www.bilberry-furniture.co.uk', port=443): Max retries exceeded with url: /products/test (Caused by NewConnectionError('<urllib3.connection.HTTPSConnection object at 0x7f1724c5e880>: Failed to establish a new connection: [Errno -2] Name or service not known'))\n"
     ]
    },
    {
     "name": "stderr",
     "output_type": "stream",
     "text": [
      "ERROR:root:('Connection aborted.', RemoteDisconnected('Remote end closed connection without response'))\n",
      "Traceback (most recent call last):\n",
      "  File \"/home/gabriel/miniconda3/envs/pt_nlp/lib/python3.9/site-packages/urllib3/connectionpool.py\", line 699, in urlopen\n",
      "    httplib_response = self._make_request(\n",
      "  File \"/home/gabriel/miniconda3/envs/pt_nlp/lib/python3.9/site-packages/urllib3/connectionpool.py\", line 445, in _make_request\n",
      "    six.raise_from(e, None)\n",
      "  File \"<string>\", line 3, in raise_from\n",
      "  File \"/home/gabriel/miniconda3/envs/pt_nlp/lib/python3.9/site-packages/urllib3/connectionpool.py\", line 440, in _make_request\n",
      "    httplib_response = conn.getresponse()\n",
      "  File \"/home/gabriel/miniconda3/envs/pt_nlp/lib/python3.9/http/client.py\", line 1371, in getresponse\n",
      "    response.begin()\n",
      "  File \"/home/gabriel/miniconda3/envs/pt_nlp/lib/python3.9/http/client.py\", line 319, in begin\n",
      "    version, status, reason = self._read_status()\n",
      "  File \"/home/gabriel/miniconda3/envs/pt_nlp/lib/python3.9/http/client.py\", line 288, in _read_status\n",
      "    raise RemoteDisconnected(\"Remote end closed connection without\"\n",
      "http.client.RemoteDisconnected: Remote end closed connection without response\n",
      "\n",
      "During handling of the above exception, another exception occurred:\n",
      "\n",
      "Traceback (most recent call last):\n",
      "  File \"/home/gabriel/miniconda3/envs/pt_nlp/lib/python3.9/site-packages/requests/adapters.py\", line 440, in send\n",
      "    resp = conn.urlopen(\n",
      "  File \"/home/gabriel/miniconda3/envs/pt_nlp/lib/python3.9/site-packages/urllib3/connectionpool.py\", line 755, in urlopen\n",
      "    retries = retries.increment(\n",
      "  File \"/home/gabriel/miniconda3/envs/pt_nlp/lib/python3.9/site-packages/urllib3/util/retry.py\", line 532, in increment\n",
      "    raise six.reraise(type(error), error, _stacktrace)\n",
      "  File \"/home/gabriel/miniconda3/envs/pt_nlp/lib/python3.9/site-packages/urllib3/packages/six.py\", line 769, in reraise\n",
      "    raise value.with_traceback(tb)\n",
      "  File \"/home/gabriel/miniconda3/envs/pt_nlp/lib/python3.9/site-packages/urllib3/connectionpool.py\", line 699, in urlopen\n",
      "    httplib_response = self._make_request(\n",
      "  File \"/home/gabriel/miniconda3/envs/pt_nlp/lib/python3.9/site-packages/urllib3/connectionpool.py\", line 445, in _make_request\n",
      "    six.raise_from(e, None)\n",
      "  File \"<string>\", line 3, in raise_from\n",
      "  File \"/home/gabriel/miniconda3/envs/pt_nlp/lib/python3.9/site-packages/urllib3/connectionpool.py\", line 440, in _make_request\n",
      "    httplib_response = conn.getresponse()\n",
      "  File \"/home/gabriel/miniconda3/envs/pt_nlp/lib/python3.9/http/client.py\", line 1371, in getresponse\n",
      "    response.begin()\n",
      "  File \"/home/gabriel/miniconda3/envs/pt_nlp/lib/python3.9/http/client.py\", line 319, in begin\n",
      "    version, status, reason = self._read_status()\n",
      "  File \"/home/gabriel/miniconda3/envs/pt_nlp/lib/python3.9/http/client.py\", line 288, in _read_status\n",
      "    raise RemoteDisconnected(\"Remote end closed connection without\"\n",
      "urllib3.exceptions.ProtocolError: ('Connection aborted.', RemoteDisconnected('Remote end closed connection without response'))\n",
      "\n",
      "During handling of the above exception, another exception occurred:\n",
      "\n",
      "Traceback (most recent call last):\n",
      "  File \"/tmp/ipykernel_6102/253839466.py\", line 10, in build_dataset\n",
      "    data = requests.get(url)\n",
      "  File \"/home/gabriel/miniconda3/envs/pt_nlp/lib/python3.9/site-packages/requests/api.py\", line 75, in get\n",
      "    return request('get', url, params=params, **kwargs)\n",
      "  File \"/home/gabriel/miniconda3/envs/pt_nlp/lib/python3.9/site-packages/requests/api.py\", line 61, in request\n",
      "    return session.request(method=method, url=url, **kwargs)\n",
      "  File \"/home/gabriel/miniconda3/envs/pt_nlp/lib/python3.9/site-packages/requests/sessions.py\", line 529, in request\n",
      "    resp = self.send(prep, **send_kwargs)\n",
      "  File \"/home/gabriel/miniconda3/envs/pt_nlp/lib/python3.9/site-packages/requests/sessions.py\", line 645, in send\n",
      "    r = adapter.send(request, **kwargs)\n",
      "  File \"/home/gabriel/miniconda3/envs/pt_nlp/lib/python3.9/site-packages/requests/adapters.py\", line 501, in send\n",
      "    raise ConnectionError(err, request=request)\n",
      "requests.exceptions.ConnectionError: ('Connection aborted.', RemoteDisconnected('Remote end closed connection without response'))\n",
      "ERROR:root:('Connection aborted.', RemoteDisconnected('Remote end closed connection without response'))\n",
      "Traceback (most recent call last):\n",
      "  File \"/home/gabriel/miniconda3/envs/pt_nlp/lib/python3.9/site-packages/urllib3/connectionpool.py\", line 699, in urlopen\n",
      "    httplib_response = self._make_request(\n",
      "  File \"/home/gabriel/miniconda3/envs/pt_nlp/lib/python3.9/site-packages/urllib3/connectionpool.py\", line 445, in _make_request\n",
      "    six.raise_from(e, None)\n",
      "  File \"<string>\", line 3, in raise_from\n",
      "  File \"/home/gabriel/miniconda3/envs/pt_nlp/lib/python3.9/site-packages/urllib3/connectionpool.py\", line 440, in _make_request\n",
      "    httplib_response = conn.getresponse()\n",
      "  File \"/home/gabriel/miniconda3/envs/pt_nlp/lib/python3.9/http/client.py\", line 1371, in getresponse\n",
      "    response.begin()\n",
      "  File \"/home/gabriel/miniconda3/envs/pt_nlp/lib/python3.9/http/client.py\", line 319, in begin\n",
      "    version, status, reason = self._read_status()\n",
      "  File \"/home/gabriel/miniconda3/envs/pt_nlp/lib/python3.9/http/client.py\", line 288, in _read_status\n",
      "    raise RemoteDisconnected(\"Remote end closed connection without\"\n",
      "http.client.RemoteDisconnected: Remote end closed connection without response\n",
      "\n",
      "During handling of the above exception, another exception occurred:\n",
      "\n",
      "Traceback (most recent call last):\n",
      "  File \"/home/gabriel/miniconda3/envs/pt_nlp/lib/python3.9/site-packages/requests/adapters.py\", line 440, in send\n",
      "    resp = conn.urlopen(\n",
      "  File \"/home/gabriel/miniconda3/envs/pt_nlp/lib/python3.9/site-packages/urllib3/connectionpool.py\", line 755, in urlopen\n",
      "    retries = retries.increment(\n",
      "  File \"/home/gabriel/miniconda3/envs/pt_nlp/lib/python3.9/site-packages/urllib3/util/retry.py\", line 532, in increment\n",
      "    raise six.reraise(type(error), error, _stacktrace)\n",
      "  File \"/home/gabriel/miniconda3/envs/pt_nlp/lib/python3.9/site-packages/urllib3/packages/six.py\", line 769, in reraise\n",
      "    raise value.with_traceback(tb)\n",
      "  File \"/home/gabriel/miniconda3/envs/pt_nlp/lib/python3.9/site-packages/urllib3/connectionpool.py\", line 699, in urlopen\n",
      "    httplib_response = self._make_request(\n",
      "  File \"/home/gabriel/miniconda3/envs/pt_nlp/lib/python3.9/site-packages/urllib3/connectionpool.py\", line 445, in _make_request\n",
      "    six.raise_from(e, None)\n",
      "  File \"<string>\", line 3, in raise_from\n",
      "  File \"/home/gabriel/miniconda3/envs/pt_nlp/lib/python3.9/site-packages/urllib3/connectionpool.py\", line 440, in _make_request\n",
      "    httplib_response = conn.getresponse()\n",
      "  File \"/home/gabriel/miniconda3/envs/pt_nlp/lib/python3.9/http/client.py\", line 1371, in getresponse\n",
      "    response.begin()\n",
      "  File \"/home/gabriel/miniconda3/envs/pt_nlp/lib/python3.9/http/client.py\", line 319, in begin\n",
      "    version, status, reason = self._read_status()\n",
      "  File \"/home/gabriel/miniconda3/envs/pt_nlp/lib/python3.9/http/client.py\", line 288, in _read_status\n",
      "    raise RemoteDisconnected(\"Remote end closed connection without\"\n",
      "urllib3.exceptions.ProtocolError: ('Connection aborted.', RemoteDisconnected('Remote end closed connection without response'))\n",
      "\n",
      "During handling of the above exception, another exception occurred:\n",
      "\n",
      "Traceback (most recent call last):\n",
      "  File \"/tmp/ipykernel_6102/253839466.py\", line 10, in build_dataset\n",
      "    data = requests.get(url)\n",
      "  File \"/home/gabriel/miniconda3/envs/pt_nlp/lib/python3.9/site-packages/requests/api.py\", line 75, in get\n",
      "    return request('get', url, params=params, **kwargs)\n",
      "  File \"/home/gabriel/miniconda3/envs/pt_nlp/lib/python3.9/site-packages/requests/api.py\", line 61, in request\n",
      "    return session.request(method=method, url=url, **kwargs)\n",
      "  File \"/home/gabriel/miniconda3/envs/pt_nlp/lib/python3.9/site-packages/requests/sessions.py\", line 529, in request\n",
      "    resp = self.send(prep, **send_kwargs)\n",
      "  File \"/home/gabriel/miniconda3/envs/pt_nlp/lib/python3.9/site-packages/requests/sessions.py\", line 645, in send\n",
      "    r = adapter.send(request, **kwargs)\n",
      "  File \"/home/gabriel/miniconda3/envs/pt_nlp/lib/python3.9/site-packages/requests/adapters.py\", line 501, in send\n",
      "    raise ConnectionError(err, request=request)\n",
      "requests.exceptions.ConnectionError: ('Connection aborted.', RemoteDisconnected('Remote end closed connection without response'))\n"
     ]
    },
    {
     "name": "stderr",
     "output_type": "stream",
     "text": [
      "ERROR:root:('Connection aborted.', RemoteDisconnected('Remote end closed connection without response'))\n",
      "Traceback (most recent call last):\n",
      "  File \"/home/gabriel/miniconda3/envs/pt_nlp/lib/python3.9/site-packages/urllib3/connectionpool.py\", line 699, in urlopen\n",
      "    httplib_response = self._make_request(\n",
      "  File \"/home/gabriel/miniconda3/envs/pt_nlp/lib/python3.9/site-packages/urllib3/connectionpool.py\", line 445, in _make_request\n",
      "    six.raise_from(e, None)\n",
      "  File \"<string>\", line 3, in raise_from\n",
      "  File \"/home/gabriel/miniconda3/envs/pt_nlp/lib/python3.9/site-packages/urllib3/connectionpool.py\", line 440, in _make_request\n",
      "    httplib_response = conn.getresponse()\n",
      "  File \"/home/gabriel/miniconda3/envs/pt_nlp/lib/python3.9/http/client.py\", line 1371, in getresponse\n",
      "    response.begin()\n",
      "  File \"/home/gabriel/miniconda3/envs/pt_nlp/lib/python3.9/http/client.py\", line 319, in begin\n",
      "    version, status, reason = self._read_status()\n",
      "  File \"/home/gabriel/miniconda3/envs/pt_nlp/lib/python3.9/http/client.py\", line 288, in _read_status\n",
      "    raise RemoteDisconnected(\"Remote end closed connection without\"\n",
      "http.client.RemoteDisconnected: Remote end closed connection without response\n",
      "\n",
      "During handling of the above exception, another exception occurred:\n",
      "\n",
      "Traceback (most recent call last):\n",
      "  File \"/home/gabriel/miniconda3/envs/pt_nlp/lib/python3.9/site-packages/requests/adapters.py\", line 440, in send\n",
      "    resp = conn.urlopen(\n",
      "  File \"/home/gabriel/miniconda3/envs/pt_nlp/lib/python3.9/site-packages/urllib3/connectionpool.py\", line 755, in urlopen\n",
      "    retries = retries.increment(\n",
      "  File \"/home/gabriel/miniconda3/envs/pt_nlp/lib/python3.9/site-packages/urllib3/util/retry.py\", line 532, in increment\n",
      "    raise six.reraise(type(error), error, _stacktrace)\n",
      "  File \"/home/gabriel/miniconda3/envs/pt_nlp/lib/python3.9/site-packages/urllib3/packages/six.py\", line 769, in reraise\n",
      "    raise value.with_traceback(tb)\n",
      "  File \"/home/gabriel/miniconda3/envs/pt_nlp/lib/python3.9/site-packages/urllib3/connectionpool.py\", line 699, in urlopen\n",
      "    httplib_response = self._make_request(\n",
      "  File \"/home/gabriel/miniconda3/envs/pt_nlp/lib/python3.9/site-packages/urllib3/connectionpool.py\", line 445, in _make_request\n",
      "    six.raise_from(e, None)\n",
      "  File \"<string>\", line 3, in raise_from\n",
      "  File \"/home/gabriel/miniconda3/envs/pt_nlp/lib/python3.9/site-packages/urllib3/connectionpool.py\", line 440, in _make_request\n",
      "    httplib_response = conn.getresponse()\n",
      "  File \"/home/gabriel/miniconda3/envs/pt_nlp/lib/python3.9/http/client.py\", line 1371, in getresponse\n",
      "    response.begin()\n",
      "  File \"/home/gabriel/miniconda3/envs/pt_nlp/lib/python3.9/http/client.py\", line 319, in begin\n",
      "    version, status, reason = self._read_status()\n",
      "  File \"/home/gabriel/miniconda3/envs/pt_nlp/lib/python3.9/http/client.py\", line 288, in _read_status\n",
      "    raise RemoteDisconnected(\"Remote end closed connection without\"\n",
      "urllib3.exceptions.ProtocolError: ('Connection aborted.', RemoteDisconnected('Remote end closed connection without response'))\n",
      "\n",
      "During handling of the above exception, another exception occurred:\n",
      "\n",
      "Traceback (most recent call last):\n",
      "  File \"/tmp/ipykernel_6102/253839466.py\", line 10, in build_dataset\n",
      "    data = requests.get(url)\n",
      "  File \"/home/gabriel/miniconda3/envs/pt_nlp/lib/python3.9/site-packages/requests/api.py\", line 75, in get\n",
      "    return request('get', url, params=params, **kwargs)\n",
      "  File \"/home/gabriel/miniconda3/envs/pt_nlp/lib/python3.9/site-packages/requests/api.py\", line 61, in request\n",
      "    return session.request(method=method, url=url, **kwargs)\n",
      "  File \"/home/gabriel/miniconda3/envs/pt_nlp/lib/python3.9/site-packages/requests/sessions.py\", line 529, in request\n",
      "    resp = self.send(prep, **send_kwargs)\n",
      "  File \"/home/gabriel/miniconda3/envs/pt_nlp/lib/python3.9/site-packages/requests/sessions.py\", line 645, in send\n",
      "    r = adapter.send(request, **kwargs)\n",
      "  File \"/home/gabriel/miniconda3/envs/pt_nlp/lib/python3.9/site-packages/requests/adapters.py\", line 501, in send\n",
      "    raise ConnectionError(err, request=request)\n",
      "requests.exceptions.ConnectionError: ('Connection aborted.', RemoteDisconnected('Remote end closed connection without response'))\n",
      "ERROR:root:('Connection aborted.', RemoteDisconnected('Remote end closed connection without response'))\n",
      "Traceback (most recent call last):\n",
      "  File \"/home/gabriel/miniconda3/envs/pt_nlp/lib/python3.9/site-packages/urllib3/connectionpool.py\", line 699, in urlopen\n",
      "    httplib_response = self._make_request(\n",
      "  File \"/home/gabriel/miniconda3/envs/pt_nlp/lib/python3.9/site-packages/urllib3/connectionpool.py\", line 445, in _make_request\n",
      "    six.raise_from(e, None)\n",
      "  File \"<string>\", line 3, in raise_from\n",
      "  File \"/home/gabriel/miniconda3/envs/pt_nlp/lib/python3.9/site-packages/urllib3/connectionpool.py\", line 440, in _make_request\n",
      "    httplib_response = conn.getresponse()\n",
      "  File \"/home/gabriel/miniconda3/envs/pt_nlp/lib/python3.9/http/client.py\", line 1371, in getresponse\n",
      "    response.begin()\n",
      "  File \"/home/gabriel/miniconda3/envs/pt_nlp/lib/python3.9/http/client.py\", line 319, in begin\n",
      "    version, status, reason = self._read_status()\n",
      "  File \"/home/gabriel/miniconda3/envs/pt_nlp/lib/python3.9/http/client.py\", line 288, in _read_status\n",
      "    raise RemoteDisconnected(\"Remote end closed connection without\"\n",
      "http.client.RemoteDisconnected: Remote end closed connection without response\n",
      "\n",
      "During handling of the above exception, another exception occurred:\n",
      "\n",
      "Traceback (most recent call last):\n",
      "  File \"/home/gabriel/miniconda3/envs/pt_nlp/lib/python3.9/site-packages/requests/adapters.py\", line 440, in send\n",
      "    resp = conn.urlopen(\n",
      "  File \"/home/gabriel/miniconda3/envs/pt_nlp/lib/python3.9/site-packages/urllib3/connectionpool.py\", line 755, in urlopen\n",
      "    retries = retries.increment(\n",
      "  File \"/home/gabriel/miniconda3/envs/pt_nlp/lib/python3.9/site-packages/urllib3/util/retry.py\", line 532, in increment\n",
      "    raise six.reraise(type(error), error, _stacktrace)\n",
      "  File \"/home/gabriel/miniconda3/envs/pt_nlp/lib/python3.9/site-packages/urllib3/packages/six.py\", line 769, in reraise\n",
      "    raise value.with_traceback(tb)\n",
      "  File \"/home/gabriel/miniconda3/envs/pt_nlp/lib/python3.9/site-packages/urllib3/connectionpool.py\", line 699, in urlopen\n",
      "    httplib_response = self._make_request(\n",
      "  File \"/home/gabriel/miniconda3/envs/pt_nlp/lib/python3.9/site-packages/urllib3/connectionpool.py\", line 445, in _make_request\n",
      "    six.raise_from(e, None)\n",
      "  File \"<string>\", line 3, in raise_from\n",
      "  File \"/home/gabriel/miniconda3/envs/pt_nlp/lib/python3.9/site-packages/urllib3/connectionpool.py\", line 440, in _make_request\n",
      "    httplib_response = conn.getresponse()\n",
      "  File \"/home/gabriel/miniconda3/envs/pt_nlp/lib/python3.9/http/client.py\", line 1371, in getresponse\n",
      "    response.begin()\n",
      "  File \"/home/gabriel/miniconda3/envs/pt_nlp/lib/python3.9/http/client.py\", line 319, in begin\n",
      "    version, status, reason = self._read_status()\n",
      "  File \"/home/gabriel/miniconda3/envs/pt_nlp/lib/python3.9/http/client.py\", line 288, in _read_status\n",
      "    raise RemoteDisconnected(\"Remote end closed connection without\"\n",
      "urllib3.exceptions.ProtocolError: ('Connection aborted.', RemoteDisconnected('Remote end closed connection without response'))\n",
      "\n",
      "During handling of the above exception, another exception occurred:\n",
      "\n",
      "Traceback (most recent call last):\n",
      "  File \"/tmp/ipykernel_6102/253839466.py\", line 10, in build_dataset\n",
      "    data = requests.get(url)\n",
      "  File \"/home/gabriel/miniconda3/envs/pt_nlp/lib/python3.9/site-packages/requests/api.py\", line 75, in get\n",
      "    return request('get', url, params=params, **kwargs)\n",
      "  File \"/home/gabriel/miniconda3/envs/pt_nlp/lib/python3.9/site-packages/requests/api.py\", line 61, in request\n",
      "    return session.request(method=method, url=url, **kwargs)\n",
      "  File \"/home/gabriel/miniconda3/envs/pt_nlp/lib/python3.9/site-packages/requests/sessions.py\", line 529, in request\n",
      "    resp = self.send(prep, **send_kwargs)\n",
      "  File \"/home/gabriel/miniconda3/envs/pt_nlp/lib/python3.9/site-packages/requests/sessions.py\", line 645, in send\n",
      "    r = adapter.send(request, **kwargs)\n",
      "  File \"/home/gabriel/miniconda3/envs/pt_nlp/lib/python3.9/site-packages/requests/adapters.py\", line 501, in send\n",
      "    raise ConnectionError(err, request=request)\n",
      "requests.exceptions.ConnectionError: ('Connection aborted.', RemoteDisconnected('Remote end closed connection without response'))\n"
     ]
    },
    {
     "name": "stderr",
     "output_type": "stream",
     "text": [
      "WARNING:urllib3.connection:Certificate did not match expected hostname: www.turquoise.co.uk. Certificate: {'subject': ((('countryName', 'US'),), (('stateOrProvinceName', 'California'),), (('localityName', 'San Francisco'),), (('organizationName', 'Cloudflare, Inc.'),), (('commonName', '*.myshopify.com'),)), 'issuer': ((('countryName', 'US'),), (('organizationName', 'Cloudflare, Inc.'),), (('commonName', 'Cloudflare Inc ECC CA-3'),)), 'version': 3, 'serialNumber': '08D14009B8CCFD7A28D460E790084A96', 'notBefore': 'Sep 13 00:00:00 2021 GMT', 'notAfter': 'Sep 12 23:59:59 2022 GMT', 'subjectAltName': (('DNS', 'myshopify.com'), ('DNS', '*.myshopify.com')), 'OCSP': ('http://ocsp.digicert.com',), 'caIssuers': ('http://cacerts.digicert.com/CloudflareIncECCCA-3.crt',), 'crlDistributionPoints': ('http://crl3.digicert.com/CloudflareIncECCCA-3.crl', 'http://crl4.digicert.com/CloudflareIncECCCA-3.crl')}\n",
      "ERROR:root:HTTPSConnectionPool(host='www.turquoise.co.uk', port=443): Max retries exceeded with url: /collections/walnut/products/walnut-glass-dining-table-h1096 (Caused by SSLError(SSLCertVerificationError(\"hostname 'www.turquoise.co.uk' doesn't match either of 'myshopify.com', '*.myshopify.com'\")))\n",
      "Traceback (most recent call last):\n",
      "  File \"/home/gabriel/miniconda3/envs/pt_nlp/lib/python3.9/site-packages/urllib3/connectionpool.py\", line 699, in urlopen\n",
      "    httplib_response = self._make_request(\n",
      "  File \"/home/gabriel/miniconda3/envs/pt_nlp/lib/python3.9/site-packages/urllib3/connectionpool.py\", line 382, in _make_request\n",
      "    self._validate_conn(conn)\n",
      "  File \"/home/gabriel/miniconda3/envs/pt_nlp/lib/python3.9/site-packages/urllib3/connectionpool.py\", line 1010, in _validate_conn\n",
      "    conn.connect()\n",
      "  File \"/home/gabriel/miniconda3/envs/pt_nlp/lib/python3.9/site-packages/urllib3/connection.py\", line 469, in connect\n",
      "    _match_hostname(cert, self.assert_hostname or server_hostname)\n",
      "  File \"/home/gabriel/miniconda3/envs/pt_nlp/lib/python3.9/site-packages/urllib3/connection.py\", line 542, in _match_hostname\n",
      "    match_hostname(cert, asserted_hostname)\n",
      "  File \"/home/gabriel/miniconda3/envs/pt_nlp/lib/python3.9/ssl.py\", line 416, in match_hostname\n",
      "    raise CertificateError(\"hostname %r \"\n",
      "ssl.SSLCertVerificationError: (\"hostname 'www.turquoise.co.uk' doesn't match either of 'myshopify.com', '*.myshopify.com'\",)\n",
      "\n",
      "During handling of the above exception, another exception occurred:\n",
      "\n",
      "Traceback (most recent call last):\n",
      "  File \"/home/gabriel/miniconda3/envs/pt_nlp/lib/python3.9/site-packages/requests/adapters.py\", line 440, in send\n",
      "    resp = conn.urlopen(\n",
      "  File \"/home/gabriel/miniconda3/envs/pt_nlp/lib/python3.9/site-packages/urllib3/connectionpool.py\", line 755, in urlopen\n",
      "    retries = retries.increment(\n",
      "  File \"/home/gabriel/miniconda3/envs/pt_nlp/lib/python3.9/site-packages/urllib3/util/retry.py\", line 574, in increment\n",
      "    raise MaxRetryError(_pool, url, error or ResponseError(cause))\n",
      "urllib3.exceptions.MaxRetryError: HTTPSConnectionPool(host='www.turquoise.co.uk', port=443): Max retries exceeded with url: /collections/walnut/products/walnut-glass-dining-table-h1096 (Caused by SSLError(SSLCertVerificationError(\"hostname 'www.turquoise.co.uk' doesn't match either of 'myshopify.com', '*.myshopify.com'\")))\n",
      "\n",
      "During handling of the above exception, another exception occurred:\n",
      "\n",
      "Traceback (most recent call last):\n",
      "  File \"/tmp/ipykernel_6102/253839466.py\", line 10, in build_dataset\n",
      "    data = requests.get(url)\n",
      "  File \"/home/gabriel/miniconda3/envs/pt_nlp/lib/python3.9/site-packages/requests/api.py\", line 75, in get\n",
      "    return request('get', url, params=params, **kwargs)\n",
      "  File \"/home/gabriel/miniconda3/envs/pt_nlp/lib/python3.9/site-packages/requests/api.py\", line 61, in request\n",
      "    return session.request(method=method, url=url, **kwargs)\n",
      "  File \"/home/gabriel/miniconda3/envs/pt_nlp/lib/python3.9/site-packages/requests/sessions.py\", line 529, in request\n",
      "    resp = self.send(prep, **send_kwargs)\n",
      "  File \"/home/gabriel/miniconda3/envs/pt_nlp/lib/python3.9/site-packages/requests/sessions.py\", line 645, in send\n",
      "    r = adapter.send(request, **kwargs)\n",
      "  File \"/home/gabriel/miniconda3/envs/pt_nlp/lib/python3.9/site-packages/requests/adapters.py\", line 517, in send\n",
      "    raise SSLError(e, request=request)\n",
      "requests.exceptions.SSLError: HTTPSConnectionPool(host='www.turquoise.co.uk', port=443): Max retries exceeded with url: /collections/walnut/products/walnut-glass-dining-table-h1096 (Caused by SSLError(SSLCertVerificationError(\"hostname 'www.turquoise.co.uk' doesn't match either of 'myshopify.com', '*.myshopify.com'\")))\n",
      "WARNING:urllib3.connection:Certificate did not match expected hostname: www.patiocottage.com. Certificate: {'subject': ((('countryName', 'US'),), (('stateOrProvinceName', 'California'),), (('localityName', 'San Francisco'),), (('organizationName', 'Cloudflare, Inc.'),), (('commonName', '*.myshopify.com'),)), 'issuer': ((('countryName', 'US'),), (('organizationName', 'Cloudflare, Inc.'),), (('commonName', 'Cloudflare Inc ECC CA-3'),)), 'version': 3, 'serialNumber': '08D14009B8CCFD7A28D460E790084A96', 'notBefore': 'Sep 13 00:00:00 2021 GMT', 'notAfter': 'Sep 12 23:59:59 2022 GMT', 'subjectAltName': (('DNS', 'myshopify.com'), ('DNS', '*.myshopify.com')), 'OCSP': ('http://ocsp.digicert.com',), 'caIssuers': ('http://cacerts.digicert.com/CloudflareIncECCCA-3.crt',), 'crlDistributionPoints': ('http://crl3.digicert.com/CloudflareIncECCCA-3.crl', 'http://crl4.digicert.com/CloudflareIncECCCA-3.crl')}\n",
      "ERROR:root:HTTPSConnectionPool(host='www.patiocottage.com', port=443): Max retries exceeded with url: /collections/patio-chairs/products/back-pack-chair (Caused by SSLError(SSLCertVerificationError(\"hostname 'www.patiocottage.com' doesn't match either of 'myshopify.com', '*.myshopify.com'\")))\n",
      "Traceback (most recent call last):\n",
      "  File \"/home/gabriel/miniconda3/envs/pt_nlp/lib/python3.9/site-packages/urllib3/connectionpool.py\", line 699, in urlopen\n",
      "    httplib_response = self._make_request(\n",
      "  File \"/home/gabriel/miniconda3/envs/pt_nlp/lib/python3.9/site-packages/urllib3/connectionpool.py\", line 382, in _make_request\n",
      "    self._validate_conn(conn)\n",
      "  File \"/home/gabriel/miniconda3/envs/pt_nlp/lib/python3.9/site-packages/urllib3/connectionpool.py\", line 1010, in _validate_conn\n",
      "    conn.connect()\n",
      "  File \"/home/gabriel/miniconda3/envs/pt_nlp/lib/python3.9/site-packages/urllib3/connection.py\", line 469, in connect\n",
      "    _match_hostname(cert, self.assert_hostname or server_hostname)\n",
      "  File \"/home/gabriel/miniconda3/envs/pt_nlp/lib/python3.9/site-packages/urllib3/connection.py\", line 542, in _match_hostname\n",
      "    match_hostname(cert, asserted_hostname)\n",
      "  File \"/home/gabriel/miniconda3/envs/pt_nlp/lib/python3.9/ssl.py\", line 416, in match_hostname\n",
      "    raise CertificateError(\"hostname %r \"\n",
      "ssl.SSLCertVerificationError: (\"hostname 'www.patiocottage.com' doesn't match either of 'myshopify.com', '*.myshopify.com'\",)\n",
      "\n",
      "During handling of the above exception, another exception occurred:\n",
      "\n",
      "Traceback (most recent call last):\n",
      "  File \"/home/gabriel/miniconda3/envs/pt_nlp/lib/python3.9/site-packages/requests/adapters.py\", line 440, in send\n",
      "    resp = conn.urlopen(\n",
      "  File \"/home/gabriel/miniconda3/envs/pt_nlp/lib/python3.9/site-packages/urllib3/connectionpool.py\", line 755, in urlopen\n",
      "    retries = retries.increment(\n",
      "  File \"/home/gabriel/miniconda3/envs/pt_nlp/lib/python3.9/site-packages/urllib3/util/retry.py\", line 574, in increment\n",
      "    raise MaxRetryError(_pool, url, error or ResponseError(cause))\n",
      "urllib3.exceptions.MaxRetryError: HTTPSConnectionPool(host='www.patiocottage.com', port=443): Max retries exceeded with url: /collections/patio-chairs/products/back-pack-chair (Caused by SSLError(SSLCertVerificationError(\"hostname 'www.patiocottage.com' doesn't match either of 'myshopify.com', '*.myshopify.com'\")))\n",
      "\n",
      "During handling of the above exception, another exception occurred:\n",
      "\n",
      "Traceback (most recent call last):\n",
      "  File \"/tmp/ipykernel_6102/253839466.py\", line 10, in build_dataset\n",
      "    data = requests.get(url)\n",
      "  File \"/home/gabriel/miniconda3/envs/pt_nlp/lib/python3.9/site-packages/requests/api.py\", line 75, in get\n",
      "    return request('get', url, params=params, **kwargs)\n",
      "  File \"/home/gabriel/miniconda3/envs/pt_nlp/lib/python3.9/site-packages/requests/api.py\", line 61, in request\n",
      "    return session.request(method=method, url=url, **kwargs)\n",
      "  File \"/home/gabriel/miniconda3/envs/pt_nlp/lib/python3.9/site-packages/requests/sessions.py\", line 529, in request\n",
      "    resp = self.send(prep, **send_kwargs)\n",
      "  File \"/home/gabriel/miniconda3/envs/pt_nlp/lib/python3.9/site-packages/requests/sessions.py\", line 645, in send\n",
      "    r = adapter.send(request, **kwargs)\n",
      "  File \"/home/gabriel/miniconda3/envs/pt_nlp/lib/python3.9/site-packages/requests/adapters.py\", line 517, in send\n",
      "    raise SSLError(e, request=request)\n",
      "requests.exceptions.SSLError: HTTPSConnectionPool(host='www.patiocottage.com', port=443): Max retries exceeded with url: /collections/patio-chairs/products/back-pack-chair (Caused by SSLError(SSLCertVerificationError(\"hostname 'www.patiocottage.com' doesn't match either of 'myshopify.com', '*.myshopify.com'\")))\n"
     ]
    },
    {
     "name": "stderr",
     "output_type": "stream",
     "text": [
      "WARNING:urllib3.connection:Certificate did not match expected hostname: www.eventsuber.com. Certificate: {'subject': ((('countryName', 'US'),), (('stateOrProvinceName', 'California'),), (('localityName', 'San Francisco'),), (('organizationName', 'Cloudflare, Inc.'),), (('commonName', '*.myshopify.com'),)), 'issuer': ((('countryName', 'US'),), (('organizationName', 'Cloudflare, Inc.'),), (('commonName', 'Cloudflare Inc ECC CA-3'),)), 'version': 3, 'serialNumber': '08D14009B8CCFD7A28D460E790084A96', 'notBefore': 'Sep 13 00:00:00 2021 GMT', 'notAfter': 'Sep 12 23:59:59 2022 GMT', 'subjectAltName': (('DNS', 'myshopify.com'), ('DNS', '*.myshopify.com')), 'OCSP': ('http://ocsp.digicert.com',), 'caIssuers': ('http://cacerts.digicert.com/CloudflareIncECCCA-3.crt',), 'crlDistributionPoints': ('http://crl3.digicert.com/CloudflareIncECCCA-3.crl', 'http://crl4.digicert.com/CloudflareIncECCCA-3.crl')}\n",
      "ERROR:root:HTTPSConnectionPool(host='www.eventsuber.com', port=443): Max retries exceeded with url: /products/resin-folding-chairs-vinyl-pad&text=1000%20lb.%20Capacity%20Resin%20Folding%20Chair%20w/%20Vinyl%20Padded%20Seat (Caused by SSLError(SSLCertVerificationError(\"hostname 'www.eventsuber.com' doesn't match either of 'myshopify.com', '*.myshopify.com'\")))\n",
      "Traceback (most recent call last):\n",
      "  File \"/home/gabriel/miniconda3/envs/pt_nlp/lib/python3.9/site-packages/urllib3/connectionpool.py\", line 699, in urlopen\n",
      "    httplib_response = self._make_request(\n",
      "  File \"/home/gabriel/miniconda3/envs/pt_nlp/lib/python3.9/site-packages/urllib3/connectionpool.py\", line 382, in _make_request\n",
      "    self._validate_conn(conn)\n",
      "  File \"/home/gabriel/miniconda3/envs/pt_nlp/lib/python3.9/site-packages/urllib3/connectionpool.py\", line 1010, in _validate_conn\n",
      "    conn.connect()\n",
      "  File \"/home/gabriel/miniconda3/envs/pt_nlp/lib/python3.9/site-packages/urllib3/connection.py\", line 469, in connect\n",
      "    _match_hostname(cert, self.assert_hostname or server_hostname)\n",
      "  File \"/home/gabriel/miniconda3/envs/pt_nlp/lib/python3.9/site-packages/urllib3/connection.py\", line 542, in _match_hostname\n",
      "    match_hostname(cert, asserted_hostname)\n",
      "  File \"/home/gabriel/miniconda3/envs/pt_nlp/lib/python3.9/ssl.py\", line 416, in match_hostname\n",
      "    raise CertificateError(\"hostname %r \"\n",
      "ssl.SSLCertVerificationError: (\"hostname 'www.eventsuber.com' doesn't match either of 'myshopify.com', '*.myshopify.com'\",)\n",
      "\n",
      "During handling of the above exception, another exception occurred:\n",
      "\n",
      "Traceback (most recent call last):\n",
      "  File \"/home/gabriel/miniconda3/envs/pt_nlp/lib/python3.9/site-packages/requests/adapters.py\", line 440, in send\n",
      "    resp = conn.urlopen(\n",
      "  File \"/home/gabriel/miniconda3/envs/pt_nlp/lib/python3.9/site-packages/urllib3/connectionpool.py\", line 755, in urlopen\n",
      "    retries = retries.increment(\n",
      "  File \"/home/gabriel/miniconda3/envs/pt_nlp/lib/python3.9/site-packages/urllib3/util/retry.py\", line 574, in increment\n",
      "    raise MaxRetryError(_pool, url, error or ResponseError(cause))\n",
      "urllib3.exceptions.MaxRetryError: HTTPSConnectionPool(host='www.eventsuber.com', port=443): Max retries exceeded with url: /products/resin-folding-chairs-vinyl-pad&text=1000%20lb.%20Capacity%20Resin%20Folding%20Chair%20w/%20Vinyl%20Padded%20Seat (Caused by SSLError(SSLCertVerificationError(\"hostname 'www.eventsuber.com' doesn't match either of 'myshopify.com', '*.myshopify.com'\")))\n",
      "\n",
      "During handling of the above exception, another exception occurred:\n",
      "\n",
      "Traceback (most recent call last):\n",
      "  File \"/tmp/ipykernel_6102/253839466.py\", line 10, in build_dataset\n",
      "    data = requests.get(url)\n",
      "  File \"/home/gabriel/miniconda3/envs/pt_nlp/lib/python3.9/site-packages/requests/api.py\", line 75, in get\n",
      "    return request('get', url, params=params, **kwargs)\n",
      "  File \"/home/gabriel/miniconda3/envs/pt_nlp/lib/python3.9/site-packages/requests/api.py\", line 61, in request\n",
      "    return session.request(method=method, url=url, **kwargs)\n",
      "  File \"/home/gabriel/miniconda3/envs/pt_nlp/lib/python3.9/site-packages/requests/sessions.py\", line 529, in request\n",
      "    resp = self.send(prep, **send_kwargs)\n",
      "  File \"/home/gabriel/miniconda3/envs/pt_nlp/lib/python3.9/site-packages/requests/sessions.py\", line 645, in send\n",
      "    r = adapter.send(request, **kwargs)\n",
      "  File \"/home/gabriel/miniconda3/envs/pt_nlp/lib/python3.9/site-packages/requests/adapters.py\", line 517, in send\n",
      "    raise SSLError(e, request=request)\n",
      "requests.exceptions.SSLError: HTTPSConnectionPool(host='www.eventsuber.com', port=443): Max retries exceeded with url: /products/resin-folding-chairs-vinyl-pad&text=1000%20lb.%20Capacity%20Resin%20Folding%20Chair%20w/%20Vinyl%20Padded%20Seat (Caused by SSLError(SSLCertVerificationError(\"hostname 'www.eventsuber.com' doesn't match either of 'myshopify.com', '*.myshopify.com'\")))\n",
      "ERROR:root:HTTPSConnectionPool(host='www.modernisedliving.com.au', port=443): Max retries exceeded with url: /products/3-sets-tank-pots-grey (Caused by NewConnectionError('<urllib3.connection.HTTPSConnection object at 0x7f1724940430>: Failed to establish a new connection: [Errno -2] Name or service not known'))\n",
      "Traceback (most recent call last):\n",
      "  File \"/home/gabriel/miniconda3/envs/pt_nlp/lib/python3.9/site-packages/urllib3/connection.py\", line 174, in _new_conn\n",
      "    conn = connection.create_connection(\n",
      "  File \"/home/gabriel/miniconda3/envs/pt_nlp/lib/python3.9/site-packages/urllib3/util/connection.py\", line 73, in create_connection\n",
      "    for res in socket.getaddrinfo(host, port, family, socket.SOCK_STREAM):\n",
      "  File \"/home/gabriel/miniconda3/envs/pt_nlp/lib/python3.9/socket.py\", line 954, in getaddrinfo\n",
      "    for res in _socket.getaddrinfo(host, port, family, type, proto, flags):\n",
      "socket.gaierror: [Errno -2] Name or service not known\n",
      "\n",
      "During handling of the above exception, another exception occurred:\n",
      "\n",
      "Traceback (most recent call last):\n",
      "  File \"/home/gabriel/miniconda3/envs/pt_nlp/lib/python3.9/site-packages/urllib3/connectionpool.py\", line 699, in urlopen\n",
      "    httplib_response = self._make_request(\n",
      "  File \"/home/gabriel/miniconda3/envs/pt_nlp/lib/python3.9/site-packages/urllib3/connectionpool.py\", line 382, in _make_request\n",
      "    self._validate_conn(conn)\n",
      "  File \"/home/gabriel/miniconda3/envs/pt_nlp/lib/python3.9/site-packages/urllib3/connectionpool.py\", line 1010, in _validate_conn\n",
      "    conn.connect()\n",
      "  File \"/home/gabriel/miniconda3/envs/pt_nlp/lib/python3.9/site-packages/urllib3/connection.py\", line 358, in connect\n",
      "    conn = self._new_conn()\n",
      "  File \"/home/gabriel/miniconda3/envs/pt_nlp/lib/python3.9/site-packages/urllib3/connection.py\", line 186, in _new_conn\n",
      "    raise NewConnectionError(\n",
      "urllib3.exceptions.NewConnectionError: <urllib3.connection.HTTPSConnection object at 0x7f1724940430>: Failed to establish a new connection: [Errno -2] Name or service not known\n",
      "\n",
      "During handling of the above exception, another exception occurred:\n",
      "\n",
      "Traceback (most recent call last):\n",
      "  File \"/home/gabriel/miniconda3/envs/pt_nlp/lib/python3.9/site-packages/requests/adapters.py\", line 440, in send\n",
      "    resp = conn.urlopen(\n",
      "  File \"/home/gabriel/miniconda3/envs/pt_nlp/lib/python3.9/site-packages/urllib3/connectionpool.py\", line 755, in urlopen\n",
      "    retries = retries.increment(\n",
      "  File \"/home/gabriel/miniconda3/envs/pt_nlp/lib/python3.9/site-packages/urllib3/util/retry.py\", line 574, in increment\n",
      "    raise MaxRetryError(_pool, url, error or ResponseError(cause))\n",
      "urllib3.exceptions.MaxRetryError: HTTPSConnectionPool(host='www.modernisedliving.com.au', port=443): Max retries exceeded with url: /products/3-sets-tank-pots-grey (Caused by NewConnectionError('<urllib3.connection.HTTPSConnection object at 0x7f1724940430>: Failed to establish a new connection: [Errno -2] Name or service not known'))\n",
      "\n",
      "During handling of the above exception, another exception occurred:\n",
      "\n",
      "Traceback (most recent call last):\n",
      "  File \"/tmp/ipykernel_6102/253839466.py\", line 10, in build_dataset\n",
      "    data = requests.get(url)\n",
      "  File \"/home/gabriel/miniconda3/envs/pt_nlp/lib/python3.9/site-packages/requests/api.py\", line 75, in get\n",
      "    return request('get', url, params=params, **kwargs)\n",
      "  File \"/home/gabriel/miniconda3/envs/pt_nlp/lib/python3.9/site-packages/requests/api.py\", line 61, in request\n",
      "    return session.request(method=method, url=url, **kwargs)\n",
      "  File \"/home/gabriel/miniconda3/envs/pt_nlp/lib/python3.9/site-packages/requests/sessions.py\", line 529, in request\n",
      "    resp = self.send(prep, **send_kwargs)\n",
      "  File \"/home/gabriel/miniconda3/envs/pt_nlp/lib/python3.9/site-packages/requests/sessions.py\", line 645, in send\n",
      "    r = adapter.send(request, **kwargs)\n",
      "  File \"/home/gabriel/miniconda3/envs/pt_nlp/lib/python3.9/site-packages/requests/adapters.py\", line 519, in send\n",
      "    raise ConnectionError(e, request=request)\n",
      "requests.exceptions.ConnectionError: HTTPSConnectionPool(host='www.modernisedliving.com.au', port=443): Max retries exceeded with url: /products/3-sets-tank-pots-grey (Caused by NewConnectionError('<urllib3.connection.HTTPSConnection object at 0x7f1724940430>: Failed to establish a new connection: [Errno -2] Name or service not known'))\n"
     ]
    },
    {
     "name": "stderr",
     "output_type": "stream",
     "text": [
      "ERROR:root:HTTPSConnectionPool(host='coastalhomecollective.com.au', port=443): Max retries exceeded with url: /products/wooden-tray (Caused by NewConnectionError('<urllib3.connection.HTTPSConnection object at 0x7f1723645be0>: Failed to establish a new connection: [Errno -2] Name or service not known'))\n",
      "Traceback (most recent call last):\n",
      "  File \"/home/gabriel/miniconda3/envs/pt_nlp/lib/python3.9/site-packages/urllib3/connection.py\", line 174, in _new_conn\n",
      "    conn = connection.create_connection(\n",
      "  File \"/home/gabriel/miniconda3/envs/pt_nlp/lib/python3.9/site-packages/urllib3/util/connection.py\", line 73, in create_connection\n",
      "    for res in socket.getaddrinfo(host, port, family, socket.SOCK_STREAM):\n",
      "  File \"/home/gabriel/miniconda3/envs/pt_nlp/lib/python3.9/socket.py\", line 954, in getaddrinfo\n",
      "    for res in _socket.getaddrinfo(host, port, family, type, proto, flags):\n",
      "socket.gaierror: [Errno -2] Name or service not known\n",
      "\n",
      "During handling of the above exception, another exception occurred:\n",
      "\n",
      "Traceback (most recent call last):\n",
      "  File \"/home/gabriel/miniconda3/envs/pt_nlp/lib/python3.9/site-packages/urllib3/connectionpool.py\", line 699, in urlopen\n",
      "    httplib_response = self._make_request(\n",
      "  File \"/home/gabriel/miniconda3/envs/pt_nlp/lib/python3.9/site-packages/urllib3/connectionpool.py\", line 382, in _make_request\n",
      "    self._validate_conn(conn)\n",
      "  File \"/home/gabriel/miniconda3/envs/pt_nlp/lib/python3.9/site-packages/urllib3/connectionpool.py\", line 1010, in _validate_conn\n",
      "    conn.connect()\n",
      "  File \"/home/gabriel/miniconda3/envs/pt_nlp/lib/python3.9/site-packages/urllib3/connection.py\", line 358, in connect\n",
      "    conn = self._new_conn()\n",
      "  File \"/home/gabriel/miniconda3/envs/pt_nlp/lib/python3.9/site-packages/urllib3/connection.py\", line 186, in _new_conn\n",
      "    raise NewConnectionError(\n",
      "urllib3.exceptions.NewConnectionError: <urllib3.connection.HTTPSConnection object at 0x7f1723645be0>: Failed to establish a new connection: [Errno -2] Name or service not known\n",
      "\n",
      "During handling of the above exception, another exception occurred:\n",
      "\n",
      "Traceback (most recent call last):\n",
      "  File \"/home/gabriel/miniconda3/envs/pt_nlp/lib/python3.9/site-packages/requests/adapters.py\", line 440, in send\n",
      "    resp = conn.urlopen(\n",
      "  File \"/home/gabriel/miniconda3/envs/pt_nlp/lib/python3.9/site-packages/urllib3/connectionpool.py\", line 755, in urlopen\n",
      "    retries = retries.increment(\n",
      "  File \"/home/gabriel/miniconda3/envs/pt_nlp/lib/python3.9/site-packages/urllib3/util/retry.py\", line 574, in increment\n",
      "    raise MaxRetryError(_pool, url, error or ResponseError(cause))\n",
      "urllib3.exceptions.MaxRetryError: HTTPSConnectionPool(host='coastalhomecollective.com.au', port=443): Max retries exceeded with url: /products/wooden-tray (Caused by NewConnectionError('<urllib3.connection.HTTPSConnection object at 0x7f1723645be0>: Failed to establish a new connection: [Errno -2] Name or service not known'))\n",
      "\n",
      "During handling of the above exception, another exception occurred:\n",
      "\n",
      "Traceback (most recent call last):\n",
      "  File \"/tmp/ipykernel_6102/253839466.py\", line 10, in build_dataset\n",
      "    data = requests.get(url)\n",
      "  File \"/home/gabriel/miniconda3/envs/pt_nlp/lib/python3.9/site-packages/requests/api.py\", line 75, in get\n",
      "    return request('get', url, params=params, **kwargs)\n",
      "  File \"/home/gabriel/miniconda3/envs/pt_nlp/lib/python3.9/site-packages/requests/api.py\", line 61, in request\n",
      "    return session.request(method=method, url=url, **kwargs)\n",
      "  File \"/home/gabriel/miniconda3/envs/pt_nlp/lib/python3.9/site-packages/requests/sessions.py\", line 529, in request\n",
      "    resp = self.send(prep, **send_kwargs)\n",
      "  File \"/home/gabriel/miniconda3/envs/pt_nlp/lib/python3.9/site-packages/requests/sessions.py\", line 645, in send\n",
      "    r = adapter.send(request, **kwargs)\n",
      "  File \"/home/gabriel/miniconda3/envs/pt_nlp/lib/python3.9/site-packages/requests/adapters.py\", line 519, in send\n",
      "    raise ConnectionError(e, request=request)\n",
      "requests.exceptions.ConnectionError: HTTPSConnectionPool(host='coastalhomecollective.com.au', port=443): Max retries exceeded with url: /products/wooden-tray (Caused by NewConnectionError('<urllib3.connection.HTTPSConnection object at 0x7f1723645be0>: Failed to establish a new connection: [Errno -2] Name or service not known'))\n",
      "WARNING:urllib3.connection:Certificate did not match expected hostname: www.imfurniturestore.com. Certificate: {'subject': ((('countryName', 'US'),), (('stateOrProvinceName', 'California'),), (('localityName', 'San Francisco'),), (('organizationName', 'Cloudflare, Inc.'),), (('commonName', '*.myshopify.com'),)), 'issuer': ((('countryName', 'US'),), (('organizationName', 'Cloudflare, Inc.'),), (('commonName', 'Cloudflare Inc ECC CA-3'),)), 'version': 3, 'serialNumber': '08D14009B8CCFD7A28D460E790084A96', 'notBefore': 'Sep 13 00:00:00 2021 GMT', 'notAfter': 'Sep 12 23:59:59 2022 GMT', 'subjectAltName': (('DNS', 'myshopify.com'), ('DNS', '*.myshopify.com')), 'OCSP': ('http://ocsp.digicert.com',), 'caIssuers': ('http://cacerts.digicert.com/CloudflareIncECCCA-3.crt',), 'crlDistributionPoints': ('http://crl3.digicert.com/CloudflareIncECCCA-3.crl', 'http://crl4.digicert.com/CloudflareIncECCCA-3.crl')}\n",
      "ERROR:root:HTTPSConnectionPool(host='www.imfurniturestore.com', port=443): Max retries exceeded with url: /products/sofa (Caused by SSLError(SSLCertVerificationError(\"hostname 'www.imfurniturestore.com' doesn't match either of 'myshopify.com', '*.myshopify.com'\")))\n",
      "Traceback (most recent call last):\n",
      "  File \"/home/gabriel/miniconda3/envs/pt_nlp/lib/python3.9/site-packages/urllib3/connectionpool.py\", line 699, in urlopen\n",
      "    httplib_response = self._make_request(\n",
      "  File \"/home/gabriel/miniconda3/envs/pt_nlp/lib/python3.9/site-packages/urllib3/connectionpool.py\", line 382, in _make_request\n",
      "    self._validate_conn(conn)\n",
      "  File \"/home/gabriel/miniconda3/envs/pt_nlp/lib/python3.9/site-packages/urllib3/connectionpool.py\", line 1010, in _validate_conn\n",
      "    conn.connect()\n",
      "  File \"/home/gabriel/miniconda3/envs/pt_nlp/lib/python3.9/site-packages/urllib3/connection.py\", line 469, in connect\n",
      "    _match_hostname(cert, self.assert_hostname or server_hostname)\n",
      "  File \"/home/gabriel/miniconda3/envs/pt_nlp/lib/python3.9/site-packages/urllib3/connection.py\", line 542, in _match_hostname\n",
      "    match_hostname(cert, asserted_hostname)\n",
      "  File \"/home/gabriel/miniconda3/envs/pt_nlp/lib/python3.9/ssl.py\", line 416, in match_hostname\n",
      "    raise CertificateError(\"hostname %r \"\n",
      "ssl.SSLCertVerificationError: (\"hostname 'www.imfurniturestore.com' doesn't match either of 'myshopify.com', '*.myshopify.com'\",)\n",
      "\n",
      "During handling of the above exception, another exception occurred:\n",
      "\n",
      "Traceback (most recent call last):\n",
      "  File \"/home/gabriel/miniconda3/envs/pt_nlp/lib/python3.9/site-packages/requests/adapters.py\", line 440, in send\n",
      "    resp = conn.urlopen(\n",
      "  File \"/home/gabriel/miniconda3/envs/pt_nlp/lib/python3.9/site-packages/urllib3/connectionpool.py\", line 755, in urlopen\n",
      "    retries = retries.increment(\n",
      "  File \"/home/gabriel/miniconda3/envs/pt_nlp/lib/python3.9/site-packages/urllib3/util/retry.py\", line 574, in increment\n",
      "    raise MaxRetryError(_pool, url, error or ResponseError(cause))\n",
      "urllib3.exceptions.MaxRetryError: HTTPSConnectionPool(host='www.imfurniturestore.com', port=443): Max retries exceeded with url: /products/sofa (Caused by SSLError(SSLCertVerificationError(\"hostname 'www.imfurniturestore.com' doesn't match either of 'myshopify.com', '*.myshopify.com'\")))\n",
      "\n",
      "During handling of the above exception, another exception occurred:\n",
      "\n",
      "Traceback (most recent call last):\n",
      "  File \"/tmp/ipykernel_6102/253839466.py\", line 10, in build_dataset\n",
      "    data = requests.get(url)\n",
      "  File \"/home/gabriel/miniconda3/envs/pt_nlp/lib/python3.9/site-packages/requests/api.py\", line 75, in get\n",
      "    return request('get', url, params=params, **kwargs)\n",
      "  File \"/home/gabriel/miniconda3/envs/pt_nlp/lib/python3.9/site-packages/requests/api.py\", line 61, in request\n",
      "    return session.request(method=method, url=url, **kwargs)\n",
      "  File \"/home/gabriel/miniconda3/envs/pt_nlp/lib/python3.9/site-packages/requests/sessions.py\", line 529, in request\n",
      "    resp = self.send(prep, **send_kwargs)\n",
      "  File \"/home/gabriel/miniconda3/envs/pt_nlp/lib/python3.9/site-packages/requests/sessions.py\", line 645, in send\n",
      "    r = adapter.send(request, **kwargs)\n",
      "  File \"/home/gabriel/miniconda3/envs/pt_nlp/lib/python3.9/site-packages/requests/adapters.py\", line 517, in send\n",
      "    raise SSLError(e, request=request)\n",
      "requests.exceptions.SSLError: HTTPSConnectionPool(host='www.imfurniturestore.com', port=443): Max retries exceeded with url: /products/sofa (Caused by SSLError(SSLCertVerificationError(\"hostname 'www.imfurniturestore.com' doesn't match either of 'myshopify.com', '*.myshopify.com'\")))\n"
     ]
    },
    {
     "name": "stderr",
     "output_type": "stream",
     "text": [
      "WARNING:urllib3.connection:Certificate did not match expected hostname: www.soleilcollective.com. Certificate: {'subject': ((('countryName', 'US'),), (('stateOrProvinceName', 'California'),), (('localityName', 'San Francisco'),), (('organizationName', 'Cloudflare, Inc.'),), (('commonName', '*.myshopify.com'),)), 'issuer': ((('countryName', 'US'),), (('organizationName', 'Cloudflare, Inc.'),), (('commonName', 'Cloudflare Inc ECC CA-3'),)), 'version': 3, 'serialNumber': '08D14009B8CCFD7A28D460E790084A96', 'notBefore': 'Sep 13 00:00:00 2021 GMT', 'notAfter': 'Sep 12 23:59:59 2022 GMT', 'subjectAltName': (('DNS', 'myshopify.com'), ('DNS', '*.myshopify.com')), 'OCSP': ('http://ocsp.digicert.com',), 'caIssuers': ('http://cacerts.digicert.com/CloudflareIncECCCA-3.crt',), 'crlDistributionPoints': ('http://crl3.digicert.com/CloudflareIncECCCA-3.crl', 'http://crl4.digicert.com/CloudflareIncECCCA-3.crl')}\n",
      "ERROR:root:HTTPSConnectionPool(host='www.soleilcollective.com', port=443): Max retries exceeded with url: /collections/beds/products/driade-edward-i-double-panel-bed (Caused by SSLError(SSLCertVerificationError(\"hostname 'www.soleilcollective.com' doesn't match either of 'myshopify.com', '*.myshopify.com'\")))\n",
      "Traceback (most recent call last):\n",
      "  File \"/home/gabriel/miniconda3/envs/pt_nlp/lib/python3.9/site-packages/urllib3/connectionpool.py\", line 699, in urlopen\n",
      "    httplib_response = self._make_request(\n",
      "  File \"/home/gabriel/miniconda3/envs/pt_nlp/lib/python3.9/site-packages/urllib3/connectionpool.py\", line 382, in _make_request\n",
      "    self._validate_conn(conn)\n",
      "  File \"/home/gabriel/miniconda3/envs/pt_nlp/lib/python3.9/site-packages/urllib3/connectionpool.py\", line 1010, in _validate_conn\n",
      "    conn.connect()\n",
      "  File \"/home/gabriel/miniconda3/envs/pt_nlp/lib/python3.9/site-packages/urllib3/connection.py\", line 469, in connect\n",
      "    _match_hostname(cert, self.assert_hostname or server_hostname)\n",
      "  File \"/home/gabriel/miniconda3/envs/pt_nlp/lib/python3.9/site-packages/urllib3/connection.py\", line 542, in _match_hostname\n",
      "    match_hostname(cert, asserted_hostname)\n",
      "  File \"/home/gabriel/miniconda3/envs/pt_nlp/lib/python3.9/ssl.py\", line 416, in match_hostname\n",
      "    raise CertificateError(\"hostname %r \"\n",
      "ssl.SSLCertVerificationError: (\"hostname 'www.soleilcollective.com' doesn't match either of 'myshopify.com', '*.myshopify.com'\",)\n",
      "\n",
      "During handling of the above exception, another exception occurred:\n",
      "\n",
      "Traceback (most recent call last):\n",
      "  File \"/home/gabriel/miniconda3/envs/pt_nlp/lib/python3.9/site-packages/requests/adapters.py\", line 440, in send\n",
      "    resp = conn.urlopen(\n",
      "  File \"/home/gabriel/miniconda3/envs/pt_nlp/lib/python3.9/site-packages/urllib3/connectionpool.py\", line 755, in urlopen\n",
      "    retries = retries.increment(\n",
      "  File \"/home/gabriel/miniconda3/envs/pt_nlp/lib/python3.9/site-packages/urllib3/util/retry.py\", line 574, in increment\n",
      "    raise MaxRetryError(_pool, url, error or ResponseError(cause))\n",
      "urllib3.exceptions.MaxRetryError: HTTPSConnectionPool(host='www.soleilcollective.com', port=443): Max retries exceeded with url: /collections/beds/products/driade-edward-i-double-panel-bed (Caused by SSLError(SSLCertVerificationError(\"hostname 'www.soleilcollective.com' doesn't match either of 'myshopify.com', '*.myshopify.com'\")))\n",
      "\n",
      "During handling of the above exception, another exception occurred:\n",
      "\n",
      "Traceback (most recent call last):\n",
      "  File \"/tmp/ipykernel_6102/253839466.py\", line 10, in build_dataset\n",
      "    data = requests.get(url)\n",
      "  File \"/home/gabriel/miniconda3/envs/pt_nlp/lib/python3.9/site-packages/requests/api.py\", line 75, in get\n",
      "    return request('get', url, params=params, **kwargs)\n",
      "  File \"/home/gabriel/miniconda3/envs/pt_nlp/lib/python3.9/site-packages/requests/api.py\", line 61, in request\n",
      "    return session.request(method=method, url=url, **kwargs)\n",
      "  File \"/home/gabriel/miniconda3/envs/pt_nlp/lib/python3.9/site-packages/requests/sessions.py\", line 529, in request\n",
      "    resp = self.send(prep, **send_kwargs)\n",
      "  File \"/home/gabriel/miniconda3/envs/pt_nlp/lib/python3.9/site-packages/requests/sessions.py\", line 645, in send\n",
      "    r = adapter.send(request, **kwargs)\n",
      "  File \"/home/gabriel/miniconda3/envs/pt_nlp/lib/python3.9/site-packages/requests/adapters.py\", line 517, in send\n",
      "    raise SSLError(e, request=request)\n",
      "requests.exceptions.SSLError: HTTPSConnectionPool(host='www.soleilcollective.com', port=443): Max retries exceeded with url: /collections/beds/products/driade-edward-i-double-panel-bed (Caused by SSLError(SSLCertVerificationError(\"hostname 'www.soleilcollective.com' doesn't match either of 'myshopify.com', '*.myshopify.com'\")))\n",
      "WARNING:urllib3.connection:Certificate did not match expected hostname: www.valaray.com. Certificate: {'subject': ((('countryName', 'US'),), (('stateOrProvinceName', 'California'),), (('localityName', 'San Francisco'),), (('organizationName', 'Cloudflare, Inc.'),), (('commonName', '*.myshopify.com'),)), 'issuer': ((('countryName', 'US'),), (('organizationName', 'Cloudflare, Inc.'),), (('commonName', 'Cloudflare Inc ECC CA-3'),)), 'version': 3, 'serialNumber': '08D14009B8CCFD7A28D460E790084A96', 'notBefore': 'Sep 13 00:00:00 2021 GMT', 'notAfter': 'Sep 12 23:59:59 2022 GMT', 'subjectAltName': (('DNS', 'myshopify.com'), ('DNS', '*.myshopify.com')), 'OCSP': ('http://ocsp.digicert.com',), 'caIssuers': ('http://cacerts.digicert.com/CloudflareIncECCCA-3.crt',), 'crlDistributionPoints': ('http://crl3.digicert.com/CloudflareIncECCCA-3.crl', 'http://crl4.digicert.com/CloudflareIncECCCA-3.crl')}\n",
      "ERROR:root:HTTPSConnectionPool(host='www.valaray.com', port=443): Max retries exceeded with url: /collections/all/products/scandormi-sofa (Caused by SSLError(SSLCertVerificationError(\"hostname 'www.valaray.com' doesn't match either of 'myshopify.com', '*.myshopify.com'\")))\n",
      "Traceback (most recent call last):\n",
      "  File \"/home/gabriel/miniconda3/envs/pt_nlp/lib/python3.9/site-packages/urllib3/connectionpool.py\", line 699, in urlopen\n",
      "    httplib_response = self._make_request(\n",
      "  File \"/home/gabriel/miniconda3/envs/pt_nlp/lib/python3.9/site-packages/urllib3/connectionpool.py\", line 382, in _make_request\n",
      "    self._validate_conn(conn)\n",
      "  File \"/home/gabriel/miniconda3/envs/pt_nlp/lib/python3.9/site-packages/urllib3/connectionpool.py\", line 1010, in _validate_conn\n",
      "    conn.connect()\n",
      "  File \"/home/gabriel/miniconda3/envs/pt_nlp/lib/python3.9/site-packages/urllib3/connection.py\", line 469, in connect\n",
      "    _match_hostname(cert, self.assert_hostname or server_hostname)\n",
      "  File \"/home/gabriel/miniconda3/envs/pt_nlp/lib/python3.9/site-packages/urllib3/connection.py\", line 542, in _match_hostname\n",
      "    match_hostname(cert, asserted_hostname)\n",
      "  File \"/home/gabriel/miniconda3/envs/pt_nlp/lib/python3.9/ssl.py\", line 416, in match_hostname\n",
      "    raise CertificateError(\"hostname %r \"\n",
      "ssl.SSLCertVerificationError: (\"hostname 'www.valaray.com' doesn't match either of 'myshopify.com', '*.myshopify.com'\",)\n",
      "\n",
      "During handling of the above exception, another exception occurred:\n",
      "\n",
      "Traceback (most recent call last):\n",
      "  File \"/home/gabriel/miniconda3/envs/pt_nlp/lib/python3.9/site-packages/requests/adapters.py\", line 440, in send\n",
      "    resp = conn.urlopen(\n",
      "  File \"/home/gabriel/miniconda3/envs/pt_nlp/lib/python3.9/site-packages/urllib3/connectionpool.py\", line 755, in urlopen\n",
      "    retries = retries.increment(\n",
      "  File \"/home/gabriel/miniconda3/envs/pt_nlp/lib/python3.9/site-packages/urllib3/util/retry.py\", line 574, in increment\n",
      "    raise MaxRetryError(_pool, url, error or ResponseError(cause))\n",
      "urllib3.exceptions.MaxRetryError: HTTPSConnectionPool(host='www.valaray.com', port=443): Max retries exceeded with url: /collections/all/products/scandormi-sofa (Caused by SSLError(SSLCertVerificationError(\"hostname 'www.valaray.com' doesn't match either of 'myshopify.com', '*.myshopify.com'\")))\n",
      "\n",
      "During handling of the above exception, another exception occurred:\n",
      "\n",
      "Traceback (most recent call last):\n",
      "  File \"/tmp/ipykernel_6102/253839466.py\", line 10, in build_dataset\n",
      "    data = requests.get(url)\n",
      "  File \"/home/gabriel/miniconda3/envs/pt_nlp/lib/python3.9/site-packages/requests/api.py\", line 75, in get\n",
      "    return request('get', url, params=params, **kwargs)\n",
      "  File \"/home/gabriel/miniconda3/envs/pt_nlp/lib/python3.9/site-packages/requests/api.py\", line 61, in request\n",
      "    return session.request(method=method, url=url, **kwargs)\n",
      "  File \"/home/gabriel/miniconda3/envs/pt_nlp/lib/python3.9/site-packages/requests/sessions.py\", line 529, in request\n",
      "    resp = self.send(prep, **send_kwargs)\n",
      "  File \"/home/gabriel/miniconda3/envs/pt_nlp/lib/python3.9/site-packages/requests/sessions.py\", line 645, in send\n",
      "    r = adapter.send(request, **kwargs)\n",
      "  File \"/home/gabriel/miniconda3/envs/pt_nlp/lib/python3.9/site-packages/requests/adapters.py\", line 517, in send\n",
      "    raise SSLError(e, request=request)\n",
      "requests.exceptions.SSLError: HTTPSConnectionPool(host='www.valaray.com', port=443): Max retries exceeded with url: /collections/all/products/scandormi-sofa (Caused by SSLError(SSLCertVerificationError(\"hostname 'www.valaray.com' doesn't match either of 'myshopify.com', '*.myshopify.com'\")))\n"
     ]
    },
    {
     "name": "stderr",
     "output_type": "stream",
     "text": [
      "WARNING:urllib3.connection:Certificate did not match expected hostname: empirefurniture.co.nz. Certificate: {'subject': ((('countryName', 'US'),), (('stateOrProvinceName', 'California'),), (('localityName', 'San Francisco'),), (('organizationName', 'Cloudflare, Inc.'),), (('commonName', '*.myshopify.com'),)), 'issuer': ((('countryName', 'US'),), (('organizationName', 'Cloudflare, Inc.'),), (('commonName', 'Cloudflare Inc ECC CA-3'),)), 'version': 3, 'serialNumber': '08D14009B8CCFD7A28D460E790084A96', 'notBefore': 'Sep 13 00:00:00 2021 GMT', 'notAfter': 'Sep 12 23:59:59 2022 GMT', 'subjectAltName': (('DNS', 'myshopify.com'), ('DNS', '*.myshopify.com')), 'OCSP': ('http://ocsp.digicert.com',), 'caIssuers': ('http://cacerts.digicert.com/CloudflareIncECCCA-3.crt',), 'crlDistributionPoints': ('http://crl3.digicert.com/CloudflareIncECCCA-3.crl', 'http://crl4.digicert.com/CloudflareIncECCCA-3.crl')}\n",
      "ERROR:root:HTTPSConnectionPool(host='empirefurniture.co.nz', port=443): Max retries exceeded with url: /products/recliner-lounge-suite (Caused by SSLError(SSLCertVerificationError(\"hostname 'empirefurniture.co.nz' doesn't match either of 'myshopify.com', '*.myshopify.com'\")))\n",
      "Traceback (most recent call last):\n",
      "  File \"/home/gabriel/miniconda3/envs/pt_nlp/lib/python3.9/site-packages/urllib3/connectionpool.py\", line 699, in urlopen\n",
      "    httplib_response = self._make_request(\n",
      "  File \"/home/gabriel/miniconda3/envs/pt_nlp/lib/python3.9/site-packages/urllib3/connectionpool.py\", line 382, in _make_request\n",
      "    self._validate_conn(conn)\n",
      "  File \"/home/gabriel/miniconda3/envs/pt_nlp/lib/python3.9/site-packages/urllib3/connectionpool.py\", line 1010, in _validate_conn\n",
      "    conn.connect()\n",
      "  File \"/home/gabriel/miniconda3/envs/pt_nlp/lib/python3.9/site-packages/urllib3/connection.py\", line 469, in connect\n",
      "    _match_hostname(cert, self.assert_hostname or server_hostname)\n",
      "  File \"/home/gabriel/miniconda3/envs/pt_nlp/lib/python3.9/site-packages/urllib3/connection.py\", line 542, in _match_hostname\n",
      "    match_hostname(cert, asserted_hostname)\n",
      "  File \"/home/gabriel/miniconda3/envs/pt_nlp/lib/python3.9/ssl.py\", line 416, in match_hostname\n",
      "    raise CertificateError(\"hostname %r \"\n",
      "ssl.SSLCertVerificationError: (\"hostname 'empirefurniture.co.nz' doesn't match either of 'myshopify.com', '*.myshopify.com'\",)\n",
      "\n",
      "During handling of the above exception, another exception occurred:\n",
      "\n",
      "Traceback (most recent call last):\n",
      "  File \"/home/gabriel/miniconda3/envs/pt_nlp/lib/python3.9/site-packages/requests/adapters.py\", line 440, in send\n",
      "    resp = conn.urlopen(\n",
      "  File \"/home/gabriel/miniconda3/envs/pt_nlp/lib/python3.9/site-packages/urllib3/connectionpool.py\", line 755, in urlopen\n",
      "    retries = retries.increment(\n",
      "  File \"/home/gabriel/miniconda3/envs/pt_nlp/lib/python3.9/site-packages/urllib3/util/retry.py\", line 574, in increment\n",
      "    raise MaxRetryError(_pool, url, error or ResponseError(cause))\n",
      "urllib3.exceptions.MaxRetryError: HTTPSConnectionPool(host='empirefurniture.co.nz', port=443): Max retries exceeded with url: /products/recliner-lounge-suite (Caused by SSLError(SSLCertVerificationError(\"hostname 'empirefurniture.co.nz' doesn't match either of 'myshopify.com', '*.myshopify.com'\")))\n",
      "\n",
      "During handling of the above exception, another exception occurred:\n",
      "\n",
      "Traceback (most recent call last):\n",
      "  File \"/tmp/ipykernel_6102/253839466.py\", line 10, in build_dataset\n",
      "    data = requests.get(url)\n",
      "  File \"/home/gabriel/miniconda3/envs/pt_nlp/lib/python3.9/site-packages/requests/api.py\", line 75, in get\n",
      "    return request('get', url, params=params, **kwargs)\n",
      "  File \"/home/gabriel/miniconda3/envs/pt_nlp/lib/python3.9/site-packages/requests/api.py\", line 61, in request\n",
      "    return session.request(method=method, url=url, **kwargs)\n",
      "  File \"/home/gabriel/miniconda3/envs/pt_nlp/lib/python3.9/site-packages/requests/sessions.py\", line 529, in request\n",
      "    resp = self.send(prep, **send_kwargs)\n",
      "  File \"/home/gabriel/miniconda3/envs/pt_nlp/lib/python3.9/site-packages/requests/sessions.py\", line 645, in send\n",
      "    r = adapter.send(request, **kwargs)\n",
      "  File \"/home/gabriel/miniconda3/envs/pt_nlp/lib/python3.9/site-packages/requests/adapters.py\", line 517, in send\n",
      "    raise SSLError(e, request=request)\n",
      "requests.exceptions.SSLError: HTTPSConnectionPool(host='empirefurniture.co.nz', port=443): Max retries exceeded with url: /products/recliner-lounge-suite (Caused by SSLError(SSLCertVerificationError(\"hostname 'empirefurniture.co.nz' doesn't match either of 'myshopify.com', '*.myshopify.com'\")))\n",
      "ERROR:root:HTTPSConnectionPool(host='hoomefurniture.com', port=443): Max retries exceeded with url: /products/page/2/ (Caused by NewConnectionError('<urllib3.connection.HTTPSConnection object at 0x7f17253819d0>: Failed to establish a new connection: [Errno -2] Name or service not known'))\n",
      "Traceback (most recent call last):\n",
      "  File \"/home/gabriel/miniconda3/envs/pt_nlp/lib/python3.9/site-packages/urllib3/connection.py\", line 174, in _new_conn\n",
      "    conn = connection.create_connection(\n",
      "  File \"/home/gabriel/miniconda3/envs/pt_nlp/lib/python3.9/site-packages/urllib3/util/connection.py\", line 73, in create_connection\n",
      "    for res in socket.getaddrinfo(host, port, family, socket.SOCK_STREAM):\n",
      "  File \"/home/gabriel/miniconda3/envs/pt_nlp/lib/python3.9/socket.py\", line 954, in getaddrinfo\n",
      "    for res in _socket.getaddrinfo(host, port, family, type, proto, flags):\n",
      "socket.gaierror: [Errno -2] Name or service not known\n",
      "\n",
      "During handling of the above exception, another exception occurred:\n",
      "\n",
      "Traceback (most recent call last):\n",
      "  File \"/home/gabriel/miniconda3/envs/pt_nlp/lib/python3.9/site-packages/urllib3/connectionpool.py\", line 699, in urlopen\n",
      "    httplib_response = self._make_request(\n",
      "  File \"/home/gabriel/miniconda3/envs/pt_nlp/lib/python3.9/site-packages/urllib3/connectionpool.py\", line 382, in _make_request\n",
      "    self._validate_conn(conn)\n",
      "  File \"/home/gabriel/miniconda3/envs/pt_nlp/lib/python3.9/site-packages/urllib3/connectionpool.py\", line 1010, in _validate_conn\n",
      "    conn.connect()\n",
      "  File \"/home/gabriel/miniconda3/envs/pt_nlp/lib/python3.9/site-packages/urllib3/connection.py\", line 358, in connect\n",
      "    conn = self._new_conn()\n",
      "  File \"/home/gabriel/miniconda3/envs/pt_nlp/lib/python3.9/site-packages/urllib3/connection.py\", line 186, in _new_conn\n",
      "    raise NewConnectionError(\n",
      "urllib3.exceptions.NewConnectionError: <urllib3.connection.HTTPSConnection object at 0x7f17253819d0>: Failed to establish a new connection: [Errno -2] Name or service not known\n",
      "\n",
      "During handling of the above exception, another exception occurred:\n",
      "\n",
      "Traceback (most recent call last):\n",
      "  File \"/home/gabriel/miniconda3/envs/pt_nlp/lib/python3.9/site-packages/requests/adapters.py\", line 440, in send\n",
      "    resp = conn.urlopen(\n",
      "  File \"/home/gabriel/miniconda3/envs/pt_nlp/lib/python3.9/site-packages/urllib3/connectionpool.py\", line 755, in urlopen\n",
      "    retries = retries.increment(\n",
      "  File \"/home/gabriel/miniconda3/envs/pt_nlp/lib/python3.9/site-packages/urllib3/util/retry.py\", line 574, in increment\n",
      "    raise MaxRetryError(_pool, url, error or ResponseError(cause))\n",
      "urllib3.exceptions.MaxRetryError: HTTPSConnectionPool(host='hoomefurniture.com', port=443): Max retries exceeded with url: /products/page/2/ (Caused by NewConnectionError('<urllib3.connection.HTTPSConnection object at 0x7f17253819d0>: Failed to establish a new connection: [Errno -2] Name or service not known'))\n",
      "\n",
      "During handling of the above exception, another exception occurred:\n",
      "\n",
      "Traceback (most recent call last):\n",
      "  File \"/tmp/ipykernel_6102/253839466.py\", line 10, in build_dataset\n",
      "    data = requests.get(url)\n",
      "  File \"/home/gabriel/miniconda3/envs/pt_nlp/lib/python3.9/site-packages/requests/api.py\", line 75, in get\n",
      "    return request('get', url, params=params, **kwargs)\n",
      "  File \"/home/gabriel/miniconda3/envs/pt_nlp/lib/python3.9/site-packages/requests/api.py\", line 61, in request\n",
      "    return session.request(method=method, url=url, **kwargs)\n",
      "  File \"/home/gabriel/miniconda3/envs/pt_nlp/lib/python3.9/site-packages/requests/sessions.py\", line 529, in request\n",
      "    resp = self.send(prep, **send_kwargs)\n",
      "  File \"/home/gabriel/miniconda3/envs/pt_nlp/lib/python3.9/site-packages/requests/sessions.py\", line 645, in send\n",
      "    r = adapter.send(request, **kwargs)\n",
      "  File \"/home/gabriel/miniconda3/envs/pt_nlp/lib/python3.9/site-packages/requests/adapters.py\", line 519, in send\n",
      "    raise ConnectionError(e, request=request)\n",
      "requests.exceptions.ConnectionError: HTTPSConnectionPool(host='hoomefurniture.com', port=443): Max retries exceeded with url: /products/page/2/ (Caused by NewConnectionError('<urllib3.connection.HTTPSConnection object at 0x7f17253819d0>: Failed to establish a new connection: [Errno -2] Name or service not known'))\n"
     ]
    },
    {
     "name": "stderr",
     "output_type": "stream",
     "text": [
      "ERROR:root:HTTPSConnectionPool(host='zulufurniture.com', port=443): Max retries exceeded with url: /products/posh (Caused by NewConnectionError('<urllib3.connection.HTTPSConnection object at 0x7f172333e8e0>: Failed to establish a new connection: [Errno -2] Name or service not known'))\n",
      "Traceback (most recent call last):\n",
      "  File \"/home/gabriel/miniconda3/envs/pt_nlp/lib/python3.9/site-packages/urllib3/connection.py\", line 174, in _new_conn\n",
      "    conn = connection.create_connection(\n",
      "  File \"/home/gabriel/miniconda3/envs/pt_nlp/lib/python3.9/site-packages/urllib3/util/connection.py\", line 73, in create_connection\n",
      "    for res in socket.getaddrinfo(host, port, family, socket.SOCK_STREAM):\n",
      "  File \"/home/gabriel/miniconda3/envs/pt_nlp/lib/python3.9/socket.py\", line 954, in getaddrinfo\n",
      "    for res in _socket.getaddrinfo(host, port, family, type, proto, flags):\n",
      "socket.gaierror: [Errno -2] Name or service not known\n",
      "\n",
      "During handling of the above exception, another exception occurred:\n",
      "\n",
      "Traceback (most recent call last):\n",
      "  File \"/home/gabriel/miniconda3/envs/pt_nlp/lib/python3.9/site-packages/urllib3/connectionpool.py\", line 699, in urlopen\n",
      "    httplib_response = self._make_request(\n",
      "  File \"/home/gabriel/miniconda3/envs/pt_nlp/lib/python3.9/site-packages/urllib3/connectionpool.py\", line 382, in _make_request\n",
      "    self._validate_conn(conn)\n",
      "  File \"/home/gabriel/miniconda3/envs/pt_nlp/lib/python3.9/site-packages/urllib3/connectionpool.py\", line 1010, in _validate_conn\n",
      "    conn.connect()\n",
      "  File \"/home/gabriel/miniconda3/envs/pt_nlp/lib/python3.9/site-packages/urllib3/connection.py\", line 358, in connect\n",
      "    conn = self._new_conn()\n",
      "  File \"/home/gabriel/miniconda3/envs/pt_nlp/lib/python3.9/site-packages/urllib3/connection.py\", line 186, in _new_conn\n",
      "    raise NewConnectionError(\n",
      "urllib3.exceptions.NewConnectionError: <urllib3.connection.HTTPSConnection object at 0x7f172333e8e0>: Failed to establish a new connection: [Errno -2] Name or service not known\n",
      "\n",
      "During handling of the above exception, another exception occurred:\n",
      "\n",
      "Traceback (most recent call last):\n",
      "  File \"/home/gabriel/miniconda3/envs/pt_nlp/lib/python3.9/site-packages/requests/adapters.py\", line 440, in send\n",
      "    resp = conn.urlopen(\n",
      "  File \"/home/gabriel/miniconda3/envs/pt_nlp/lib/python3.9/site-packages/urllib3/connectionpool.py\", line 755, in urlopen\n",
      "    retries = retries.increment(\n",
      "  File \"/home/gabriel/miniconda3/envs/pt_nlp/lib/python3.9/site-packages/urllib3/util/retry.py\", line 574, in increment\n",
      "    raise MaxRetryError(_pool, url, error or ResponseError(cause))\n",
      "urllib3.exceptions.MaxRetryError: HTTPSConnectionPool(host='zulufurniture.com', port=443): Max retries exceeded with url: /products/posh (Caused by NewConnectionError('<urllib3.connection.HTTPSConnection object at 0x7f172333e8e0>: Failed to establish a new connection: [Errno -2] Name or service not known'))\n",
      "\n",
      "During handling of the above exception, another exception occurred:\n",
      "\n",
      "Traceback (most recent call last):\n",
      "  File \"/tmp/ipykernel_6102/253839466.py\", line 10, in build_dataset\n",
      "    data = requests.get(url)\n",
      "  File \"/home/gabriel/miniconda3/envs/pt_nlp/lib/python3.9/site-packages/requests/api.py\", line 75, in get\n",
      "    return request('get', url, params=params, **kwargs)\n",
      "  File \"/home/gabriel/miniconda3/envs/pt_nlp/lib/python3.9/site-packages/requests/api.py\", line 61, in request\n",
      "    return session.request(method=method, url=url, **kwargs)\n",
      "  File \"/home/gabriel/miniconda3/envs/pt_nlp/lib/python3.9/site-packages/requests/sessions.py\", line 529, in request\n",
      "    resp = self.send(prep, **send_kwargs)\n",
      "  File \"/home/gabriel/miniconda3/envs/pt_nlp/lib/python3.9/site-packages/requests/sessions.py\", line 645, in send\n",
      "    r = adapter.send(request, **kwargs)\n",
      "  File \"/home/gabriel/miniconda3/envs/pt_nlp/lib/python3.9/site-packages/requests/adapters.py\", line 519, in send\n",
      "    raise ConnectionError(e, request=request)\n",
      "requests.exceptions.ConnectionError: HTTPSConnectionPool(host='zulufurniture.com', port=443): Max retries exceeded with url: /products/posh (Caused by NewConnectionError('<urllib3.connection.HTTPSConnection object at 0x7f172333e8e0>: Failed to establish a new connection: [Errno -2] Name or service not known'))\n",
      "ERROR:root:HTTPSConnectionPool(host='furnituremaddness.com', port=443): Max retries exceeded with url: /products/l-shape-leather-lounge (Caused by NewConnectionError('<urllib3.connection.HTTPSConnection object at 0x7f17236cb550>: Failed to establish a new connection: [Errno -2] Name or service not known'))\n",
      "Traceback (most recent call last):\n",
      "  File \"/home/gabriel/miniconda3/envs/pt_nlp/lib/python3.9/site-packages/urllib3/connection.py\", line 174, in _new_conn\n",
      "    conn = connection.create_connection(\n",
      "  File \"/home/gabriel/miniconda3/envs/pt_nlp/lib/python3.9/site-packages/urllib3/util/connection.py\", line 73, in create_connection\n",
      "    for res in socket.getaddrinfo(host, port, family, socket.SOCK_STREAM):\n",
      "  File \"/home/gabriel/miniconda3/envs/pt_nlp/lib/python3.9/socket.py\", line 954, in getaddrinfo\n",
      "    for res in _socket.getaddrinfo(host, port, family, type, proto, flags):\n",
      "socket.gaierror: [Errno -2] Name or service not known\n",
      "\n",
      "During handling of the above exception, another exception occurred:\n",
      "\n",
      "Traceback (most recent call last):\n",
      "  File \"/home/gabriel/miniconda3/envs/pt_nlp/lib/python3.9/site-packages/urllib3/connectionpool.py\", line 699, in urlopen\n",
      "    httplib_response = self._make_request(\n",
      "  File \"/home/gabriel/miniconda3/envs/pt_nlp/lib/python3.9/site-packages/urllib3/connectionpool.py\", line 382, in _make_request\n",
      "    self._validate_conn(conn)\n",
      "  File \"/home/gabriel/miniconda3/envs/pt_nlp/lib/python3.9/site-packages/urllib3/connectionpool.py\", line 1010, in _validate_conn\n",
      "    conn.connect()\n",
      "  File \"/home/gabriel/miniconda3/envs/pt_nlp/lib/python3.9/site-packages/urllib3/connection.py\", line 358, in connect\n",
      "    conn = self._new_conn()\n",
      "  File \"/home/gabriel/miniconda3/envs/pt_nlp/lib/python3.9/site-packages/urllib3/connection.py\", line 186, in _new_conn\n",
      "    raise NewConnectionError(\n",
      "urllib3.exceptions.NewConnectionError: <urllib3.connection.HTTPSConnection object at 0x7f17236cb550>: Failed to establish a new connection: [Errno -2] Name or service not known\n",
      "\n",
      "During handling of the above exception, another exception occurred:\n",
      "\n",
      "Traceback (most recent call last):\n",
      "  File \"/home/gabriel/miniconda3/envs/pt_nlp/lib/python3.9/site-packages/requests/adapters.py\", line 440, in send\n",
      "    resp = conn.urlopen(\n",
      "  File \"/home/gabriel/miniconda3/envs/pt_nlp/lib/python3.9/site-packages/urllib3/connectionpool.py\", line 755, in urlopen\n",
      "    retries = retries.increment(\n",
      "  File \"/home/gabriel/miniconda3/envs/pt_nlp/lib/python3.9/site-packages/urllib3/util/retry.py\", line 574, in increment\n",
      "    raise MaxRetryError(_pool, url, error or ResponseError(cause))\n",
      "urllib3.exceptions.MaxRetryError: HTTPSConnectionPool(host='furnituremaddness.com', port=443): Max retries exceeded with url: /products/l-shape-leather-lounge (Caused by NewConnectionError('<urllib3.connection.HTTPSConnection object at 0x7f17236cb550>: Failed to establish a new connection: [Errno -2] Name or service not known'))\n",
      "\n",
      "During handling of the above exception, another exception occurred:\n",
      "\n",
      "Traceback (most recent call last):\n",
      "  File \"/tmp/ipykernel_6102/253839466.py\", line 10, in build_dataset\n",
      "    data = requests.get(url)\n",
      "  File \"/home/gabriel/miniconda3/envs/pt_nlp/lib/python3.9/site-packages/requests/api.py\", line 75, in get\n",
      "    return request('get', url, params=params, **kwargs)\n",
      "  File \"/home/gabriel/miniconda3/envs/pt_nlp/lib/python3.9/site-packages/requests/api.py\", line 61, in request\n",
      "    return session.request(method=method, url=url, **kwargs)\n",
      "  File \"/home/gabriel/miniconda3/envs/pt_nlp/lib/python3.9/site-packages/requests/sessions.py\", line 529, in request\n",
      "    resp = self.send(prep, **send_kwargs)\n",
      "  File \"/home/gabriel/miniconda3/envs/pt_nlp/lib/python3.9/site-packages/requests/sessions.py\", line 645, in send\n",
      "    r = adapter.send(request, **kwargs)\n",
      "  File \"/home/gabriel/miniconda3/envs/pt_nlp/lib/python3.9/site-packages/requests/adapters.py\", line 519, in send\n",
      "    raise ConnectionError(e, request=request)\n",
      "requests.exceptions.ConnectionError: HTTPSConnectionPool(host='furnituremaddness.com', port=443): Max retries exceeded with url: /products/l-shape-leather-lounge (Caused by NewConnectionError('<urllib3.connection.HTTPSConnection object at 0x7f17236cb550>: Failed to establish a new connection: [Errno -2] Name or service not known'))\n"
     ]
    },
    {
     "name": "stderr",
     "output_type": "stream",
     "text": [
      "ERROR:root:HTTPSConnectionPool(host='suncoastsitra.shoptiqstore.com.sg', port=443): Max retries exceeded with url: /products/footstool&media=https://cdn.store-assets.com/s/257913/i/8659911_480x.jpeg&description=Footstool (Caused by NewConnectionError('<urllib3.connection.HTTPSConnection object at 0x7f17236cb640>: Failed to establish a new connection: [Errno -2] Name or service not known'))\n",
      "Traceback (most recent call last):\n",
      "  File \"/home/gabriel/miniconda3/envs/pt_nlp/lib/python3.9/site-packages/urllib3/connection.py\", line 174, in _new_conn\n",
      "    conn = connection.create_connection(\n",
      "  File \"/home/gabriel/miniconda3/envs/pt_nlp/lib/python3.9/site-packages/urllib3/util/connection.py\", line 73, in create_connection\n",
      "    for res in socket.getaddrinfo(host, port, family, socket.SOCK_STREAM):\n",
      "  File \"/home/gabriel/miniconda3/envs/pt_nlp/lib/python3.9/socket.py\", line 954, in getaddrinfo\n",
      "    for res in _socket.getaddrinfo(host, port, family, type, proto, flags):\n",
      "socket.gaierror: [Errno -2] Name or service not known\n",
      "\n",
      "During handling of the above exception, another exception occurred:\n",
      "\n",
      "Traceback (most recent call last):\n",
      "  File \"/home/gabriel/miniconda3/envs/pt_nlp/lib/python3.9/site-packages/urllib3/connectionpool.py\", line 699, in urlopen\n",
      "    httplib_response = self._make_request(\n",
      "  File \"/home/gabriel/miniconda3/envs/pt_nlp/lib/python3.9/site-packages/urllib3/connectionpool.py\", line 382, in _make_request\n",
      "    self._validate_conn(conn)\n",
      "  File \"/home/gabriel/miniconda3/envs/pt_nlp/lib/python3.9/site-packages/urllib3/connectionpool.py\", line 1010, in _validate_conn\n",
      "    conn.connect()\n",
      "  File \"/home/gabriel/miniconda3/envs/pt_nlp/lib/python3.9/site-packages/urllib3/connection.py\", line 358, in connect\n",
      "    conn = self._new_conn()\n",
      "  File \"/home/gabriel/miniconda3/envs/pt_nlp/lib/python3.9/site-packages/urllib3/connection.py\", line 186, in _new_conn\n",
      "    raise NewConnectionError(\n",
      "urllib3.exceptions.NewConnectionError: <urllib3.connection.HTTPSConnection object at 0x7f17236cb640>: Failed to establish a new connection: [Errno -2] Name or service not known\n",
      "\n",
      "During handling of the above exception, another exception occurred:\n",
      "\n",
      "Traceback (most recent call last):\n",
      "  File \"/home/gabriel/miniconda3/envs/pt_nlp/lib/python3.9/site-packages/requests/adapters.py\", line 440, in send\n",
      "    resp = conn.urlopen(\n",
      "  File \"/home/gabriel/miniconda3/envs/pt_nlp/lib/python3.9/site-packages/urllib3/connectionpool.py\", line 755, in urlopen\n",
      "    retries = retries.increment(\n",
      "  File \"/home/gabriel/miniconda3/envs/pt_nlp/lib/python3.9/site-packages/urllib3/util/retry.py\", line 574, in increment\n",
      "    raise MaxRetryError(_pool, url, error or ResponseError(cause))\n",
      "urllib3.exceptions.MaxRetryError: HTTPSConnectionPool(host='suncoastsitra.shoptiqstore.com.sg', port=443): Max retries exceeded with url: /products/footstool&media=https://cdn.store-assets.com/s/257913/i/8659911_480x.jpeg&description=Footstool (Caused by NewConnectionError('<urllib3.connection.HTTPSConnection object at 0x7f17236cb640>: Failed to establish a new connection: [Errno -2] Name or service not known'))\n",
      "\n",
      "During handling of the above exception, another exception occurred:\n",
      "\n",
      "Traceback (most recent call last):\n",
      "  File \"/tmp/ipykernel_6102/253839466.py\", line 10, in build_dataset\n",
      "    data = requests.get(url)\n",
      "  File \"/home/gabriel/miniconda3/envs/pt_nlp/lib/python3.9/site-packages/requests/api.py\", line 75, in get\n",
      "    return request('get', url, params=params, **kwargs)\n",
      "  File \"/home/gabriel/miniconda3/envs/pt_nlp/lib/python3.9/site-packages/requests/api.py\", line 61, in request\n",
      "    return session.request(method=method, url=url, **kwargs)\n",
      "  File \"/home/gabriel/miniconda3/envs/pt_nlp/lib/python3.9/site-packages/requests/sessions.py\", line 529, in request\n",
      "    resp = self.send(prep, **send_kwargs)\n",
      "  File \"/home/gabriel/miniconda3/envs/pt_nlp/lib/python3.9/site-packages/requests/sessions.py\", line 645, in send\n",
      "    r = adapter.send(request, **kwargs)\n",
      "  File \"/home/gabriel/miniconda3/envs/pt_nlp/lib/python3.9/site-packages/requests/adapters.py\", line 519, in send\n",
      "    raise ConnectionError(e, request=request)\n",
      "requests.exceptions.ConnectionError: HTTPSConnectionPool(host='suncoastsitra.shoptiqstore.com.sg', port=443): Max retries exceeded with url: /products/footstool&media=https://cdn.store-assets.com/s/257913/i/8659911_480x.jpeg&description=Footstool (Caused by NewConnectionError('<urllib3.connection.HTTPSConnection object at 0x7f17236cb640>: Failed to establish a new connection: [Errno -2] Name or service not known'))\n",
      "ERROR:root:HTTPConnectionPool(host='www.makebuildmend.co.uk', port=80): Max retries exceeded with url: /products/ (Caused by NewConnectionError('<urllib3.connection.HTTPConnection object at 0x7f1728c020a0>: Failed to establish a new connection: [Errno -2] Name or service not known'))\n",
      "Traceback (most recent call last):\n",
      "  File \"/home/gabriel/miniconda3/envs/pt_nlp/lib/python3.9/site-packages/urllib3/connection.py\", line 174, in _new_conn\n",
      "    conn = connection.create_connection(\n",
      "  File \"/home/gabriel/miniconda3/envs/pt_nlp/lib/python3.9/site-packages/urllib3/util/connection.py\", line 73, in create_connection\n",
      "    for res in socket.getaddrinfo(host, port, family, socket.SOCK_STREAM):\n",
      "  File \"/home/gabriel/miniconda3/envs/pt_nlp/lib/python3.9/socket.py\", line 954, in getaddrinfo\n",
      "    for res in _socket.getaddrinfo(host, port, family, type, proto, flags):\n",
      "socket.gaierror: [Errno -2] Name or service not known\n",
      "\n",
      "During handling of the above exception, another exception occurred:\n",
      "\n",
      "Traceback (most recent call last):\n",
      "  File \"/home/gabriel/miniconda3/envs/pt_nlp/lib/python3.9/site-packages/urllib3/connectionpool.py\", line 699, in urlopen\n",
      "    httplib_response = self._make_request(\n",
      "  File \"/home/gabriel/miniconda3/envs/pt_nlp/lib/python3.9/site-packages/urllib3/connectionpool.py\", line 394, in _make_request\n",
      "    conn.request(method, url, **httplib_request_kw)\n",
      "  File \"/home/gabriel/miniconda3/envs/pt_nlp/lib/python3.9/site-packages/urllib3/connection.py\", line 239, in request\n",
      "    super(HTTPConnection, self).request(method, url, body=body, headers=headers)\n",
      "  File \"/home/gabriel/miniconda3/envs/pt_nlp/lib/python3.9/http/client.py\", line 1279, in request\n",
      "    self._send_request(method, url, body, headers, encode_chunked)\n",
      "  File \"/home/gabriel/miniconda3/envs/pt_nlp/lib/python3.9/http/client.py\", line 1325, in _send_request\n",
      "    self.endheaders(body, encode_chunked=encode_chunked)\n",
      "  File \"/home/gabriel/miniconda3/envs/pt_nlp/lib/python3.9/http/client.py\", line 1274, in endheaders\n",
      "    self._send_output(message_body, encode_chunked=encode_chunked)\n",
      "  File \"/home/gabriel/miniconda3/envs/pt_nlp/lib/python3.9/http/client.py\", line 1034, in _send_output\n",
      "    self.send(msg)\n",
      "  File \"/home/gabriel/miniconda3/envs/pt_nlp/lib/python3.9/http/client.py\", line 974, in send\n",
      "    self.connect()\n",
      "  File \"/home/gabriel/miniconda3/envs/pt_nlp/lib/python3.9/site-packages/urllib3/connection.py\", line 205, in connect\n",
      "    conn = self._new_conn()\n",
      "  File \"/home/gabriel/miniconda3/envs/pt_nlp/lib/python3.9/site-packages/urllib3/connection.py\", line 186, in _new_conn\n",
      "    raise NewConnectionError(\n",
      "urllib3.exceptions.NewConnectionError: <urllib3.connection.HTTPConnection object at 0x7f1728c020a0>: Failed to establish a new connection: [Errno -2] Name or service not known\n",
      "\n",
      "During handling of the above exception, another exception occurred:\n",
      "\n",
      "Traceback (most recent call last):\n",
      "  File \"/home/gabriel/miniconda3/envs/pt_nlp/lib/python3.9/site-packages/requests/adapters.py\", line 440, in send\n",
      "    resp = conn.urlopen(\n",
      "  File \"/home/gabriel/miniconda3/envs/pt_nlp/lib/python3.9/site-packages/urllib3/connectionpool.py\", line 755, in urlopen\n",
      "    retries = retries.increment(\n",
      "  File \"/home/gabriel/miniconda3/envs/pt_nlp/lib/python3.9/site-packages/urllib3/util/retry.py\", line 574, in increment\n",
      "    raise MaxRetryError(_pool, url, error or ResponseError(cause))\n",
      "urllib3.exceptions.MaxRetryError: HTTPConnectionPool(host='www.makebuildmend.co.uk', port=80): Max retries exceeded with url: /products/ (Caused by NewConnectionError('<urllib3.connection.HTTPConnection object at 0x7f1728c020a0>: Failed to establish a new connection: [Errno -2] Name or service not known'))\n",
      "\n",
      "During handling of the above exception, another exception occurred:\n",
      "\n",
      "Traceback (most recent call last):\n",
      "  File \"/tmp/ipykernel_6102/253839466.py\", line 10, in build_dataset\n",
      "    data = requests.get(url)\n",
      "  File \"/home/gabriel/miniconda3/envs/pt_nlp/lib/python3.9/site-packages/requests/api.py\", line 75, in get\n",
      "    return request('get', url, params=params, **kwargs)\n",
      "  File \"/home/gabriel/miniconda3/envs/pt_nlp/lib/python3.9/site-packages/requests/api.py\", line 61, in request\n",
      "    return session.request(method=method, url=url, **kwargs)\n",
      "  File \"/home/gabriel/miniconda3/envs/pt_nlp/lib/python3.9/site-packages/requests/sessions.py\", line 529, in request\n",
      "    resp = self.send(prep, **send_kwargs)\n",
      "  File \"/home/gabriel/miniconda3/envs/pt_nlp/lib/python3.9/site-packages/requests/sessions.py\", line 645, in send\n",
      "    r = adapter.send(request, **kwargs)\n",
      "  File \"/home/gabriel/miniconda3/envs/pt_nlp/lib/python3.9/site-packages/requests/adapters.py\", line 519, in send\n",
      "    raise ConnectionError(e, request=request)\n",
      "requests.exceptions.ConnectionError: HTTPConnectionPool(host='www.makebuildmend.co.uk', port=80): Max retries exceeded with url: /products/ (Caused by NewConnectionError('<urllib3.connection.HTTPConnection object at 0x7f1728c020a0>: Failed to establish a new connection: [Errno -2] Name or service not known'))\n"
     ]
    },
    {
     "name": "stderr",
     "output_type": "stream",
     "text": [
      "ERROR:root:HTTPSConnectionPool(host='www.solidoakfurniture.co.uk', port=443): Max retries exceeded with url: /products/beds.html (Caused by SSLError(SSLCertVerificationError(1, '[SSL: CERTIFICATE_VERIFY_FAILED] certificate verify failed: certificate has expired (_ssl.c:1129)')))\n",
      "Traceback (most recent call last):\n",
      "  File \"/home/gabriel/miniconda3/envs/pt_nlp/lib/python3.9/site-packages/urllib3/connectionpool.py\", line 699, in urlopen\n",
      "    httplib_response = self._make_request(\n",
      "  File \"/home/gabriel/miniconda3/envs/pt_nlp/lib/python3.9/site-packages/urllib3/connectionpool.py\", line 382, in _make_request\n",
      "    self._validate_conn(conn)\n",
      "  File \"/home/gabriel/miniconda3/envs/pt_nlp/lib/python3.9/site-packages/urllib3/connectionpool.py\", line 1010, in _validate_conn\n",
      "    conn.connect()\n",
      "  File \"/home/gabriel/miniconda3/envs/pt_nlp/lib/python3.9/site-packages/urllib3/connection.py\", line 416, in connect\n",
      "    self.sock = ssl_wrap_socket(\n",
      "  File \"/home/gabriel/miniconda3/envs/pt_nlp/lib/python3.9/site-packages/urllib3/util/ssl_.py\", line 449, in ssl_wrap_socket\n",
      "    ssl_sock = _ssl_wrap_socket_impl(\n",
      "  File \"/home/gabriel/miniconda3/envs/pt_nlp/lib/python3.9/site-packages/urllib3/util/ssl_.py\", line 493, in _ssl_wrap_socket_impl\n",
      "    return ssl_context.wrap_socket(sock, server_hostname=server_hostname)\n",
      "  File \"/home/gabriel/miniconda3/envs/pt_nlp/lib/python3.9/ssl.py\", line 500, in wrap_socket\n",
      "    return self.sslsocket_class._create(\n",
      "  File \"/home/gabriel/miniconda3/envs/pt_nlp/lib/python3.9/ssl.py\", line 1040, in _create\n",
      "    self.do_handshake()\n",
      "  File \"/home/gabriel/miniconda3/envs/pt_nlp/lib/python3.9/ssl.py\", line 1309, in do_handshake\n",
      "    self._sslobj.do_handshake()\n",
      "ssl.SSLCertVerificationError: [SSL: CERTIFICATE_VERIFY_FAILED] certificate verify failed: certificate has expired (_ssl.c:1129)\n",
      "\n",
      "During handling of the above exception, another exception occurred:\n",
      "\n",
      "Traceback (most recent call last):\n",
      "  File \"/home/gabriel/miniconda3/envs/pt_nlp/lib/python3.9/site-packages/requests/adapters.py\", line 440, in send\n",
      "    resp = conn.urlopen(\n",
      "  File \"/home/gabriel/miniconda3/envs/pt_nlp/lib/python3.9/site-packages/urllib3/connectionpool.py\", line 755, in urlopen\n",
      "    retries = retries.increment(\n",
      "  File \"/home/gabriel/miniconda3/envs/pt_nlp/lib/python3.9/site-packages/urllib3/util/retry.py\", line 574, in increment\n",
      "    raise MaxRetryError(_pool, url, error or ResponseError(cause))\n",
      "urllib3.exceptions.MaxRetryError: HTTPSConnectionPool(host='www.solidoakfurniture.co.uk', port=443): Max retries exceeded with url: /products/beds.html (Caused by SSLError(SSLCertVerificationError(1, '[SSL: CERTIFICATE_VERIFY_FAILED] certificate verify failed: certificate has expired (_ssl.c:1129)')))\n",
      "\n",
      "During handling of the above exception, another exception occurred:\n",
      "\n",
      "Traceback (most recent call last):\n",
      "  File \"/tmp/ipykernel_6102/253839466.py\", line 10, in build_dataset\n",
      "    data = requests.get(url)\n",
      "  File \"/home/gabriel/miniconda3/envs/pt_nlp/lib/python3.9/site-packages/requests/api.py\", line 75, in get\n",
      "    return request('get', url, params=params, **kwargs)\n",
      "  File \"/home/gabriel/miniconda3/envs/pt_nlp/lib/python3.9/site-packages/requests/api.py\", line 61, in request\n",
      "    return session.request(method=method, url=url, **kwargs)\n",
      "  File \"/home/gabriel/miniconda3/envs/pt_nlp/lib/python3.9/site-packages/requests/sessions.py\", line 529, in request\n",
      "    resp = self.send(prep, **send_kwargs)\n",
      "  File \"/home/gabriel/miniconda3/envs/pt_nlp/lib/python3.9/site-packages/requests/sessions.py\", line 645, in send\n",
      "    r = adapter.send(request, **kwargs)\n",
      "  File \"/home/gabriel/miniconda3/envs/pt_nlp/lib/python3.9/site-packages/requests/adapters.py\", line 517, in send\n",
      "    raise SSLError(e, request=request)\n",
      "requests.exceptions.SSLError: HTTPSConnectionPool(host='www.solidoakfurniture.co.uk', port=443): Max retries exceeded with url: /products/beds.html (Caused by SSLError(SSLCertVerificationError(1, '[SSL: CERTIFICATE_VERIFY_FAILED] certificate verify failed: certificate has expired (_ssl.c:1129)')))\n",
      "ERROR:root:(\"Connection broken: InvalidChunkLength(got length b'', 0 bytes read)\", InvalidChunkLength(got length b'', 0 bytes read))\n",
      "Traceback (most recent call last):\n",
      "  File \"/home/gabriel/miniconda3/envs/pt_nlp/lib/python3.9/site-packages/urllib3/response.py\", line 697, in _update_chunk_length\n",
      "    self.chunk_left = int(line, 16)\n",
      "ValueError: invalid literal for int() with base 16: b''\n",
      "\n",
      "During handling of the above exception, another exception occurred:\n",
      "\n",
      "Traceback (most recent call last):\n",
      "  File \"/home/gabriel/miniconda3/envs/pt_nlp/lib/python3.9/site-packages/urllib3/response.py\", line 438, in _error_catcher\n",
      "    yield\n",
      "  File \"/home/gabriel/miniconda3/envs/pt_nlp/lib/python3.9/site-packages/urllib3/response.py\", line 764, in read_chunked\n",
      "    self._update_chunk_length()\n",
      "  File \"/home/gabriel/miniconda3/envs/pt_nlp/lib/python3.9/site-packages/urllib3/response.py\", line 701, in _update_chunk_length\n",
      "    raise InvalidChunkLength(self, line)\n",
      "urllib3.exceptions.InvalidChunkLength: InvalidChunkLength(got length b'', 0 bytes read)\n",
      "\n",
      "During handling of the above exception, another exception occurred:\n",
      "\n",
      "Traceback (most recent call last):\n",
      "  File \"/home/gabriel/miniconda3/envs/pt_nlp/lib/python3.9/site-packages/requests/models.py\", line 760, in generate\n",
      "    for chunk in self.raw.stream(chunk_size, decode_content=True):\n",
      "  File \"/home/gabriel/miniconda3/envs/pt_nlp/lib/python3.9/site-packages/urllib3/response.py\", line 572, in stream\n",
      "    for line in self.read_chunked(amt, decode_content=decode_content):\n",
      "  File \"/home/gabriel/miniconda3/envs/pt_nlp/lib/python3.9/site-packages/urllib3/response.py\", line 793, in read_chunked\n",
      "    self._original_response.close()\n",
      "  File \"/home/gabriel/miniconda3/envs/pt_nlp/lib/python3.9/contextlib.py\", line 137, in __exit__\n",
      "    self.gen.throw(typ, value, traceback)\n",
      "  File \"/home/gabriel/miniconda3/envs/pt_nlp/lib/python3.9/site-packages/urllib3/response.py\", line 455, in _error_catcher\n",
      "    raise ProtocolError(\"Connection broken: %r\" % e, e)\n",
      "urllib3.exceptions.ProtocolError: (\"Connection broken: InvalidChunkLength(got length b'', 0 bytes read)\", InvalidChunkLength(got length b'', 0 bytes read))\n",
      "\n",
      "During handling of the above exception, another exception occurred:\n",
      "\n",
      "Traceback (most recent call last):\n",
      "  File \"/tmp/ipykernel_6102/253839466.py\", line 10, in build_dataset\n",
      "    data = requests.get(url)\n",
      "  File \"/home/gabriel/miniconda3/envs/pt_nlp/lib/python3.9/site-packages/requests/api.py\", line 75, in get\n",
      "    return request('get', url, params=params, **kwargs)\n",
      "  File \"/home/gabriel/miniconda3/envs/pt_nlp/lib/python3.9/site-packages/requests/api.py\", line 61, in request\n",
      "    return session.request(method=method, url=url, **kwargs)\n",
      "  File \"/home/gabriel/miniconda3/envs/pt_nlp/lib/python3.9/site-packages/requests/sessions.py\", line 529, in request\n",
      "    resp = self.send(prep, **send_kwargs)\n",
      "  File \"/home/gabriel/miniconda3/envs/pt_nlp/lib/python3.9/site-packages/requests/sessions.py\", line 687, in send\n",
      "    r.content\n",
      "  File \"/home/gabriel/miniconda3/envs/pt_nlp/lib/python3.9/site-packages/requests/models.py\", line 838, in content\n",
      "    self._content = b''.join(self.iter_content(CONTENT_CHUNK_SIZE)) or b''\n",
      "  File \"/home/gabriel/miniconda3/envs/pt_nlp/lib/python3.9/site-packages/requests/models.py\", line 763, in generate\n",
      "    raise ChunkedEncodingError(e)\n",
      "requests.exceptions.ChunkedEncodingError: (\"Connection broken: InvalidChunkLength(got length b'', 0 bytes read)\", InvalidChunkLength(got length b'', 0 bytes read))\n",
      "ERROR:root:HTTPSConnectionPool(host='thefurniture-house.co.uk', port=443): Max retries exceeded with url: /products/new-grey-recliner-sofa (Caused by NewConnectionError('<urllib3.connection.HTTPSConnection object at 0x7f1724c10820>: Failed to establish a new connection: [Errno -2] Name or service not known'))\n",
      "Traceback (most recent call last):\n",
      "  File \"/home/gabriel/miniconda3/envs/pt_nlp/lib/python3.9/site-packages/urllib3/connection.py\", line 174, in _new_conn\n",
      "    conn = connection.create_connection(\n",
      "  File \"/home/gabriel/miniconda3/envs/pt_nlp/lib/python3.9/site-packages/urllib3/util/connection.py\", line 73, in create_connection\n",
      "    for res in socket.getaddrinfo(host, port, family, socket.SOCK_STREAM):\n",
      "  File \"/home/gabriel/miniconda3/envs/pt_nlp/lib/python3.9/socket.py\", line 954, in getaddrinfo\n",
      "    for res in _socket.getaddrinfo(host, port, family, type, proto, flags):\n",
      "socket.gaierror: [Errno -2] Name or service not known\n",
      "\n",
      "During handling of the above exception, another exception occurred:\n",
      "\n",
      "Traceback (most recent call last):\n",
      "  File \"/home/gabriel/miniconda3/envs/pt_nlp/lib/python3.9/site-packages/urllib3/connectionpool.py\", line 699, in urlopen\n",
      "    httplib_response = self._make_request(\n",
      "  File \"/home/gabriel/miniconda3/envs/pt_nlp/lib/python3.9/site-packages/urllib3/connectionpool.py\", line 382, in _make_request\n",
      "    self._validate_conn(conn)\n",
      "  File \"/home/gabriel/miniconda3/envs/pt_nlp/lib/python3.9/site-packages/urllib3/connectionpool.py\", line 1010, in _validate_conn\n",
      "    conn.connect()\n",
      "  File \"/home/gabriel/miniconda3/envs/pt_nlp/lib/python3.9/site-packages/urllib3/connection.py\", line 358, in connect\n",
      "    conn = self._new_conn()\n",
      "  File \"/home/gabriel/miniconda3/envs/pt_nlp/lib/python3.9/site-packages/urllib3/connection.py\", line 186, in _new_conn\n",
      "    raise NewConnectionError(\n",
      "urllib3.exceptions.NewConnectionError: <urllib3.connection.HTTPSConnection object at 0x7f1724c10820>: Failed to establish a new connection: [Errno -2] Name or service not known\n",
      "\n",
      "During handling of the above exception, another exception occurred:\n",
      "\n",
      "Traceback (most recent call last):\n",
      "  File \"/home/gabriel/miniconda3/envs/pt_nlp/lib/python3.9/site-packages/requests/adapters.py\", line 440, in send\n",
      "    resp = conn.urlopen(\n",
      "  File \"/home/gabriel/miniconda3/envs/pt_nlp/lib/python3.9/site-packages/urllib3/connectionpool.py\", line 755, in urlopen\n",
      "    retries = retries.increment(\n",
      "  File \"/home/gabriel/miniconda3/envs/pt_nlp/lib/python3.9/site-packages/urllib3/util/retry.py\", line 574, in increment\n",
      "    raise MaxRetryError(_pool, url, error or ResponseError(cause))\n",
      "urllib3.exceptions.MaxRetryError: HTTPSConnectionPool(host='thefurniture-house.co.uk', port=443): Max retries exceeded with url: /products/new-grey-recliner-sofa (Caused by NewConnectionError('<urllib3.connection.HTTPSConnection object at 0x7f1724c10820>: Failed to establish a new connection: [Errno -2] Name or service not known'))\n",
      "\n",
      "During handling of the above exception, another exception occurred:\n",
      "\n",
      "Traceback (most recent call last):\n",
      "  File \"/tmp/ipykernel_6102/253839466.py\", line 10, in build_dataset\n",
      "    data = requests.get(url)\n",
      "  File \"/home/gabriel/miniconda3/envs/pt_nlp/lib/python3.9/site-packages/requests/api.py\", line 75, in get\n",
      "    return request('get', url, params=params, **kwargs)\n",
      "  File \"/home/gabriel/miniconda3/envs/pt_nlp/lib/python3.9/site-packages/requests/api.py\", line 61, in request\n",
      "    return session.request(method=method, url=url, **kwargs)\n",
      "  File \"/home/gabriel/miniconda3/envs/pt_nlp/lib/python3.9/site-packages/requests/sessions.py\", line 529, in request\n",
      "    resp = self.send(prep, **send_kwargs)\n",
      "  File \"/home/gabriel/miniconda3/envs/pt_nlp/lib/python3.9/site-packages/requests/sessions.py\", line 645, in send\n",
      "    r = adapter.send(request, **kwargs)\n",
      "  File \"/home/gabriel/miniconda3/envs/pt_nlp/lib/python3.9/site-packages/requests/adapters.py\", line 519, in send\n",
      "    raise ConnectionError(e, request=request)\n",
      "requests.exceptions.ConnectionError: HTTPSConnectionPool(host='thefurniture-house.co.uk', port=443): Max retries exceeded with url: /products/new-grey-recliner-sofa (Caused by NewConnectionError('<urllib3.connection.HTTPSConnection object at 0x7f1724c10820>: Failed to establish a new connection: [Errno -2] Name or service not known'))\n"
     ]
    },
    {
     "name": "stderr",
     "output_type": "stream",
     "text": [
      "ERROR:root:HTTPSConnectionPool(host='limesinteriors.co.uk', port=443): Max retries exceeded with url: /collections/popular-items/products/abree-lamp (Caused by NewConnectionError('<urllib3.connection.HTTPSConnection object at 0x7f1723140040>: Failed to establish a new connection: [Errno -2] Name or service not known'))\n",
      "Traceback (most recent call last):\n",
      "  File \"/home/gabriel/miniconda3/envs/pt_nlp/lib/python3.9/site-packages/urllib3/connection.py\", line 174, in _new_conn\n",
      "    conn = connection.create_connection(\n",
      "  File \"/home/gabriel/miniconda3/envs/pt_nlp/lib/python3.9/site-packages/urllib3/util/connection.py\", line 73, in create_connection\n",
      "    for res in socket.getaddrinfo(host, port, family, socket.SOCK_STREAM):\n",
      "  File \"/home/gabriel/miniconda3/envs/pt_nlp/lib/python3.9/socket.py\", line 954, in getaddrinfo\n",
      "    for res in _socket.getaddrinfo(host, port, family, type, proto, flags):\n",
      "socket.gaierror: [Errno -2] Name or service not known\n",
      "\n",
      "During handling of the above exception, another exception occurred:\n",
      "\n",
      "Traceback (most recent call last):\n",
      "  File \"/home/gabriel/miniconda3/envs/pt_nlp/lib/python3.9/site-packages/urllib3/connectionpool.py\", line 699, in urlopen\n",
      "    httplib_response = self._make_request(\n",
      "  File \"/home/gabriel/miniconda3/envs/pt_nlp/lib/python3.9/site-packages/urllib3/connectionpool.py\", line 382, in _make_request\n",
      "    self._validate_conn(conn)\n",
      "  File \"/home/gabriel/miniconda3/envs/pt_nlp/lib/python3.9/site-packages/urllib3/connectionpool.py\", line 1010, in _validate_conn\n",
      "    conn.connect()\n",
      "  File \"/home/gabriel/miniconda3/envs/pt_nlp/lib/python3.9/site-packages/urllib3/connection.py\", line 358, in connect\n",
      "    conn = self._new_conn()\n",
      "  File \"/home/gabriel/miniconda3/envs/pt_nlp/lib/python3.9/site-packages/urllib3/connection.py\", line 186, in _new_conn\n",
      "    raise NewConnectionError(\n",
      "urllib3.exceptions.NewConnectionError: <urllib3.connection.HTTPSConnection object at 0x7f1723140040>: Failed to establish a new connection: [Errno -2] Name or service not known\n",
      "\n",
      "During handling of the above exception, another exception occurred:\n",
      "\n",
      "Traceback (most recent call last):\n",
      "  File \"/home/gabriel/miniconda3/envs/pt_nlp/lib/python3.9/site-packages/requests/adapters.py\", line 440, in send\n",
      "    resp = conn.urlopen(\n",
      "  File \"/home/gabriel/miniconda3/envs/pt_nlp/lib/python3.9/site-packages/urllib3/connectionpool.py\", line 755, in urlopen\n",
      "    retries = retries.increment(\n",
      "  File \"/home/gabriel/miniconda3/envs/pt_nlp/lib/python3.9/site-packages/urllib3/util/retry.py\", line 574, in increment\n",
      "    raise MaxRetryError(_pool, url, error or ResponseError(cause))\n",
      "urllib3.exceptions.MaxRetryError: HTTPSConnectionPool(host='limesinteriors.co.uk', port=443): Max retries exceeded with url: /collections/popular-items/products/abree-lamp (Caused by NewConnectionError('<urllib3.connection.HTTPSConnection object at 0x7f1723140040>: Failed to establish a new connection: [Errno -2] Name or service not known'))\n",
      "\n",
      "During handling of the above exception, another exception occurred:\n",
      "\n",
      "Traceback (most recent call last):\n",
      "  File \"/tmp/ipykernel_6102/253839466.py\", line 10, in build_dataset\n",
      "    data = requests.get(url)\n",
      "  File \"/home/gabriel/miniconda3/envs/pt_nlp/lib/python3.9/site-packages/requests/api.py\", line 75, in get\n",
      "    return request('get', url, params=params, **kwargs)\n",
      "  File \"/home/gabriel/miniconda3/envs/pt_nlp/lib/python3.9/site-packages/requests/api.py\", line 61, in request\n",
      "    return session.request(method=method, url=url, **kwargs)\n",
      "  File \"/home/gabriel/miniconda3/envs/pt_nlp/lib/python3.9/site-packages/requests/sessions.py\", line 529, in request\n",
      "    resp = self.send(prep, **send_kwargs)\n",
      "  File \"/home/gabriel/miniconda3/envs/pt_nlp/lib/python3.9/site-packages/requests/sessions.py\", line 645, in send\n",
      "    r = adapter.send(request, **kwargs)\n",
      "  File \"/home/gabriel/miniconda3/envs/pt_nlp/lib/python3.9/site-packages/requests/adapters.py\", line 519, in send\n",
      "    raise ConnectionError(e, request=request)\n",
      "requests.exceptions.ConnectionError: HTTPSConnectionPool(host='limesinteriors.co.uk', port=443): Max retries exceeded with url: /collections/popular-items/products/abree-lamp (Caused by NewConnectionError('<urllib3.connection.HTTPSConnection object at 0x7f1723140040>: Failed to establish a new connection: [Errno -2] Name or service not known'))\n",
      "ERROR:root:HTTPConnectionPool(host='m-edition.co.uk', port=80): Max retries exceeded with url: /products/ch103-sofa (Caused by NewConnectionError('<urllib3.connection.HTTPConnection object at 0x7f1723140100>: Failed to establish a new connection: [Errno -2] Name or service not known'))\n",
      "Traceback (most recent call last):\n",
      "  File \"/home/gabriel/miniconda3/envs/pt_nlp/lib/python3.9/site-packages/urllib3/connection.py\", line 174, in _new_conn\n",
      "    conn = connection.create_connection(\n",
      "  File \"/home/gabriel/miniconda3/envs/pt_nlp/lib/python3.9/site-packages/urllib3/util/connection.py\", line 73, in create_connection\n",
      "    for res in socket.getaddrinfo(host, port, family, socket.SOCK_STREAM):\n",
      "  File \"/home/gabriel/miniconda3/envs/pt_nlp/lib/python3.9/socket.py\", line 954, in getaddrinfo\n",
      "    for res in _socket.getaddrinfo(host, port, family, type, proto, flags):\n",
      "socket.gaierror: [Errno -2] Name or service not known\n",
      "\n",
      "During handling of the above exception, another exception occurred:\n",
      "\n",
      "Traceback (most recent call last):\n",
      "  File \"/home/gabriel/miniconda3/envs/pt_nlp/lib/python3.9/site-packages/urllib3/connectionpool.py\", line 699, in urlopen\n",
      "    httplib_response = self._make_request(\n",
      "  File \"/home/gabriel/miniconda3/envs/pt_nlp/lib/python3.9/site-packages/urllib3/connectionpool.py\", line 394, in _make_request\n",
      "    conn.request(method, url, **httplib_request_kw)\n",
      "  File \"/home/gabriel/miniconda3/envs/pt_nlp/lib/python3.9/site-packages/urllib3/connection.py\", line 239, in request\n",
      "    super(HTTPConnection, self).request(method, url, body=body, headers=headers)\n",
      "  File \"/home/gabriel/miniconda3/envs/pt_nlp/lib/python3.9/http/client.py\", line 1279, in request\n",
      "    self._send_request(method, url, body, headers, encode_chunked)\n",
      "  File \"/home/gabriel/miniconda3/envs/pt_nlp/lib/python3.9/http/client.py\", line 1325, in _send_request\n",
      "    self.endheaders(body, encode_chunked=encode_chunked)\n",
      "  File \"/home/gabriel/miniconda3/envs/pt_nlp/lib/python3.9/http/client.py\", line 1274, in endheaders\n",
      "    self._send_output(message_body, encode_chunked=encode_chunked)\n",
      "  File \"/home/gabriel/miniconda3/envs/pt_nlp/lib/python3.9/http/client.py\", line 1034, in _send_output\n",
      "    self.send(msg)\n",
      "  File \"/home/gabriel/miniconda3/envs/pt_nlp/lib/python3.9/http/client.py\", line 974, in send\n",
      "    self.connect()\n",
      "  File \"/home/gabriel/miniconda3/envs/pt_nlp/lib/python3.9/site-packages/urllib3/connection.py\", line 205, in connect\n",
      "    conn = self._new_conn()\n",
      "  File \"/home/gabriel/miniconda3/envs/pt_nlp/lib/python3.9/site-packages/urllib3/connection.py\", line 186, in _new_conn\n",
      "    raise NewConnectionError(\n",
      "urllib3.exceptions.NewConnectionError: <urllib3.connection.HTTPConnection object at 0x7f1723140100>: Failed to establish a new connection: [Errno -2] Name or service not known\n",
      "\n",
      "During handling of the above exception, another exception occurred:\n",
      "\n",
      "Traceback (most recent call last):\n",
      "  File \"/home/gabriel/miniconda3/envs/pt_nlp/lib/python3.9/site-packages/requests/adapters.py\", line 440, in send\n",
      "    resp = conn.urlopen(\n",
      "  File \"/home/gabriel/miniconda3/envs/pt_nlp/lib/python3.9/site-packages/urllib3/connectionpool.py\", line 755, in urlopen\n",
      "    retries = retries.increment(\n",
      "  File \"/home/gabriel/miniconda3/envs/pt_nlp/lib/python3.9/site-packages/urllib3/util/retry.py\", line 574, in increment\n",
      "    raise MaxRetryError(_pool, url, error or ResponseError(cause))\n",
      "urllib3.exceptions.MaxRetryError: HTTPConnectionPool(host='m-edition.co.uk', port=80): Max retries exceeded with url: /products/ch103-sofa (Caused by NewConnectionError('<urllib3.connection.HTTPConnection object at 0x7f1723140100>: Failed to establish a new connection: [Errno -2] Name or service not known'))\n",
      "\n",
      "During handling of the above exception, another exception occurred:\n",
      "\n",
      "Traceback (most recent call last):\n",
      "  File \"/tmp/ipykernel_6102/253839466.py\", line 10, in build_dataset\n",
      "    data = requests.get(url)\n",
      "  File \"/home/gabriel/miniconda3/envs/pt_nlp/lib/python3.9/site-packages/requests/api.py\", line 75, in get\n",
      "    return request('get', url, params=params, **kwargs)\n",
      "  File \"/home/gabriel/miniconda3/envs/pt_nlp/lib/python3.9/site-packages/requests/api.py\", line 61, in request\n",
      "    return session.request(method=method, url=url, **kwargs)\n",
      "  File \"/home/gabriel/miniconda3/envs/pt_nlp/lib/python3.9/site-packages/requests/sessions.py\", line 529, in request\n",
      "    resp = self.send(prep, **send_kwargs)\n",
      "  File \"/home/gabriel/miniconda3/envs/pt_nlp/lib/python3.9/site-packages/requests/sessions.py\", line 645, in send\n",
      "    r = adapter.send(request, **kwargs)\n",
      "  File \"/home/gabriel/miniconda3/envs/pt_nlp/lib/python3.9/site-packages/requests/adapters.py\", line 519, in send\n",
      "    raise ConnectionError(e, request=request)\n",
      "requests.exceptions.ConnectionError: HTTPConnectionPool(host='m-edition.co.uk', port=80): Max retries exceeded with url: /products/ch103-sofa (Caused by NewConnectionError('<urllib3.connection.HTTPConnection object at 0x7f1723140100>: Failed to establish a new connection: [Errno -2] Name or service not known'))\n"
     ]
    },
    {
     "name": "stderr",
     "output_type": "stream",
     "text": [
      "ERROR:root:HTTPSConnectionPool(host='paulcaseboutique.co.uk', port=443): Max retries exceeded with url: /products/spyder-dining-chair (Caused by SSLError(SSLError(1, '[SSL: SSLV3_ALERT_HANDSHAKE_FAILURE] sslv3 alert handshake failure (_ssl.c:1129)')))\n",
      "Traceback (most recent call last):\n",
      "  File \"/home/gabriel/miniconda3/envs/pt_nlp/lib/python3.9/site-packages/urllib3/connectionpool.py\", line 699, in urlopen\n",
      "    httplib_response = self._make_request(\n",
      "  File \"/home/gabriel/miniconda3/envs/pt_nlp/lib/python3.9/site-packages/urllib3/connectionpool.py\", line 382, in _make_request\n",
      "    self._validate_conn(conn)\n",
      "  File \"/home/gabriel/miniconda3/envs/pt_nlp/lib/python3.9/site-packages/urllib3/connectionpool.py\", line 1010, in _validate_conn\n",
      "    conn.connect()\n",
      "  File \"/home/gabriel/miniconda3/envs/pt_nlp/lib/python3.9/site-packages/urllib3/connection.py\", line 416, in connect\n",
      "    self.sock = ssl_wrap_socket(\n",
      "  File \"/home/gabriel/miniconda3/envs/pt_nlp/lib/python3.9/site-packages/urllib3/util/ssl_.py\", line 449, in ssl_wrap_socket\n",
      "    ssl_sock = _ssl_wrap_socket_impl(\n",
      "  File \"/home/gabriel/miniconda3/envs/pt_nlp/lib/python3.9/site-packages/urllib3/util/ssl_.py\", line 493, in _ssl_wrap_socket_impl\n",
      "    return ssl_context.wrap_socket(sock, server_hostname=server_hostname)\n",
      "  File \"/home/gabriel/miniconda3/envs/pt_nlp/lib/python3.9/ssl.py\", line 500, in wrap_socket\n",
      "    return self.sslsocket_class._create(\n",
      "  File \"/home/gabriel/miniconda3/envs/pt_nlp/lib/python3.9/ssl.py\", line 1040, in _create\n",
      "    self.do_handshake()\n",
      "  File \"/home/gabriel/miniconda3/envs/pt_nlp/lib/python3.9/ssl.py\", line 1309, in do_handshake\n",
      "    self._sslobj.do_handshake()\n",
      "ssl.SSLError: [SSL: SSLV3_ALERT_HANDSHAKE_FAILURE] sslv3 alert handshake failure (_ssl.c:1129)\n",
      "\n",
      "During handling of the above exception, another exception occurred:\n",
      "\n",
      "Traceback (most recent call last):\n",
      "  File \"/home/gabriel/miniconda3/envs/pt_nlp/lib/python3.9/site-packages/requests/adapters.py\", line 440, in send\n",
      "    resp = conn.urlopen(\n",
      "  File \"/home/gabriel/miniconda3/envs/pt_nlp/lib/python3.9/site-packages/urllib3/connectionpool.py\", line 755, in urlopen\n",
      "    retries = retries.increment(\n",
      "  File \"/home/gabriel/miniconda3/envs/pt_nlp/lib/python3.9/site-packages/urllib3/util/retry.py\", line 574, in increment\n",
      "    raise MaxRetryError(_pool, url, error or ResponseError(cause))\n",
      "urllib3.exceptions.MaxRetryError: HTTPSConnectionPool(host='paulcaseboutique.co.uk', port=443): Max retries exceeded with url: /products/spyder-dining-chair (Caused by SSLError(SSLError(1, '[SSL: SSLV3_ALERT_HANDSHAKE_FAILURE] sslv3 alert handshake failure (_ssl.c:1129)')))\n",
      "\n",
      "During handling of the above exception, another exception occurred:\n",
      "\n",
      "Traceback (most recent call last):\n",
      "  File \"/tmp/ipykernel_6102/253839466.py\", line 10, in build_dataset\n",
      "    data = requests.get(url)\n",
      "  File \"/home/gabriel/miniconda3/envs/pt_nlp/lib/python3.9/site-packages/requests/api.py\", line 75, in get\n",
      "    return request('get', url, params=params, **kwargs)\n",
      "  File \"/home/gabriel/miniconda3/envs/pt_nlp/lib/python3.9/site-packages/requests/api.py\", line 61, in request\n",
      "    return session.request(method=method, url=url, **kwargs)\n",
      "  File \"/home/gabriel/miniconda3/envs/pt_nlp/lib/python3.9/site-packages/requests/sessions.py\", line 529, in request\n",
      "    resp = self.send(prep, **send_kwargs)\n",
      "  File \"/home/gabriel/miniconda3/envs/pt_nlp/lib/python3.9/site-packages/requests/sessions.py\", line 645, in send\n",
      "    r = adapter.send(request, **kwargs)\n",
      "  File \"/home/gabriel/miniconda3/envs/pt_nlp/lib/python3.9/site-packages/requests/adapters.py\", line 517, in send\n",
      "    raise SSLError(e, request=request)\n",
      "requests.exceptions.SSLError: HTTPSConnectionPool(host='paulcaseboutique.co.uk', port=443): Max retries exceeded with url: /products/spyder-dining-chair (Caused by SSLError(SSLError(1, '[SSL: SSLV3_ALERT_HANDSHAKE_FAILURE] sslv3 alert handshake failure (_ssl.c:1129)')))\n",
      "ERROR:root:HTTPSConnectionPool(host='www.search4furniture.com', port=443): Max retries exceeded with url: /products/ritz-bed (Caused by NewConnectionError('<urllib3.connection.HTTPSConnection object at 0x7f1722f6c340>: Failed to establish a new connection: [Errno 111] Connection refused'))\n",
      "Traceback (most recent call last):\n",
      "  File \"/home/gabriel/miniconda3/envs/pt_nlp/lib/python3.9/site-packages/urllib3/connection.py\", line 174, in _new_conn\n",
      "    conn = connection.create_connection(\n",
      "  File \"/home/gabriel/miniconda3/envs/pt_nlp/lib/python3.9/site-packages/urllib3/util/connection.py\", line 96, in create_connection\n",
      "    raise err\n",
      "  File \"/home/gabriel/miniconda3/envs/pt_nlp/lib/python3.9/site-packages/urllib3/util/connection.py\", line 86, in create_connection\n",
      "    sock.connect(sa)\n",
      "ConnectionRefusedError: [Errno 111] Connection refused\n",
      "\n",
      "During handling of the above exception, another exception occurred:\n",
      "\n",
      "Traceback (most recent call last):\n",
      "  File \"/home/gabriel/miniconda3/envs/pt_nlp/lib/python3.9/site-packages/urllib3/connectionpool.py\", line 699, in urlopen\n",
      "    httplib_response = self._make_request(\n",
      "  File \"/home/gabriel/miniconda3/envs/pt_nlp/lib/python3.9/site-packages/urllib3/connectionpool.py\", line 382, in _make_request\n",
      "    self._validate_conn(conn)\n",
      "  File \"/home/gabriel/miniconda3/envs/pt_nlp/lib/python3.9/site-packages/urllib3/connectionpool.py\", line 1010, in _validate_conn\n",
      "    conn.connect()\n",
      "  File \"/home/gabriel/miniconda3/envs/pt_nlp/lib/python3.9/site-packages/urllib3/connection.py\", line 358, in connect\n",
      "    conn = self._new_conn()\n",
      "  File \"/home/gabriel/miniconda3/envs/pt_nlp/lib/python3.9/site-packages/urllib3/connection.py\", line 186, in _new_conn\n",
      "    raise NewConnectionError(\n",
      "urllib3.exceptions.NewConnectionError: <urllib3.connection.HTTPSConnection object at 0x7f1722f6c340>: Failed to establish a new connection: [Errno 111] Connection refused\n",
      "\n",
      "During handling of the above exception, another exception occurred:\n",
      "\n",
      "Traceback (most recent call last):\n",
      "  File \"/home/gabriel/miniconda3/envs/pt_nlp/lib/python3.9/site-packages/requests/adapters.py\", line 440, in send\n",
      "    resp = conn.urlopen(\n",
      "  File \"/home/gabriel/miniconda3/envs/pt_nlp/lib/python3.9/site-packages/urllib3/connectionpool.py\", line 755, in urlopen\n",
      "    retries = retries.increment(\n",
      "  File \"/home/gabriel/miniconda3/envs/pt_nlp/lib/python3.9/site-packages/urllib3/util/retry.py\", line 574, in increment\n",
      "    raise MaxRetryError(_pool, url, error or ResponseError(cause))\n",
      "urllib3.exceptions.MaxRetryError: HTTPSConnectionPool(host='www.search4furniture.com', port=443): Max retries exceeded with url: /products/ritz-bed (Caused by NewConnectionError('<urllib3.connection.HTTPSConnection object at 0x7f1722f6c340>: Failed to establish a new connection: [Errno 111] Connection refused'))\n",
      "\n",
      "During handling of the above exception, another exception occurred:\n",
      "\n",
      "Traceback (most recent call last):\n",
      "  File \"/tmp/ipykernel_6102/253839466.py\", line 10, in build_dataset\n",
      "    data = requests.get(url)\n",
      "  File \"/home/gabriel/miniconda3/envs/pt_nlp/lib/python3.9/site-packages/requests/api.py\", line 75, in get\n",
      "    return request('get', url, params=params, **kwargs)\n",
      "  File \"/home/gabriel/miniconda3/envs/pt_nlp/lib/python3.9/site-packages/requests/api.py\", line 61, in request\n",
      "    return session.request(method=method, url=url, **kwargs)\n",
      "  File \"/home/gabriel/miniconda3/envs/pt_nlp/lib/python3.9/site-packages/requests/sessions.py\", line 529, in request\n",
      "    resp = self.send(prep, **send_kwargs)\n",
      "  File \"/home/gabriel/miniconda3/envs/pt_nlp/lib/python3.9/site-packages/requests/sessions.py\", line 645, in send\n",
      "    r = adapter.send(request, **kwargs)\n",
      "  File \"/home/gabriel/miniconda3/envs/pt_nlp/lib/python3.9/site-packages/requests/adapters.py\", line 519, in send\n",
      "    raise ConnectionError(e, request=request)\n",
      "requests.exceptions.ConnectionError: HTTPSConnectionPool(host='www.search4furniture.com', port=443): Max retries exceeded with url: /products/ritz-bed (Caused by NewConnectionError('<urllib3.connection.HTTPSConnection object at 0x7f1722f6c340>: Failed to establish a new connection: [Errno 111] Connection refused'))\n",
      "ERROR:root:HTTPConnectionPool(host='www.sjdfurniture.co.uk', port=80): Max retries exceeded with url: /products/ (Caused by NewConnectionError('<urllib3.connection.HTTPConnection object at 0x7f1722ec30d0>: Failed to establish a new connection: [Errno -2] Name or service not known'))\n",
      "Traceback (most recent call last):\n",
      "  File \"/home/gabriel/miniconda3/envs/pt_nlp/lib/python3.9/site-packages/urllib3/connection.py\", line 174, in _new_conn\n",
      "    conn = connection.create_connection(\n",
      "  File \"/home/gabriel/miniconda3/envs/pt_nlp/lib/python3.9/site-packages/urllib3/util/connection.py\", line 73, in create_connection\n",
      "    for res in socket.getaddrinfo(host, port, family, socket.SOCK_STREAM):\n",
      "  File \"/home/gabriel/miniconda3/envs/pt_nlp/lib/python3.9/socket.py\", line 954, in getaddrinfo\n",
      "    for res in _socket.getaddrinfo(host, port, family, type, proto, flags):\n",
      "socket.gaierror: [Errno -2] Name or service not known\n",
      "\n",
      "During handling of the above exception, another exception occurred:\n",
      "\n",
      "Traceback (most recent call last):\n",
      "  File \"/home/gabriel/miniconda3/envs/pt_nlp/lib/python3.9/site-packages/urllib3/connectionpool.py\", line 699, in urlopen\n",
      "    httplib_response = self._make_request(\n",
      "  File \"/home/gabriel/miniconda3/envs/pt_nlp/lib/python3.9/site-packages/urllib3/connectionpool.py\", line 394, in _make_request\n",
      "    conn.request(method, url, **httplib_request_kw)\n",
      "  File \"/home/gabriel/miniconda3/envs/pt_nlp/lib/python3.9/site-packages/urllib3/connection.py\", line 239, in request\n",
      "    super(HTTPConnection, self).request(method, url, body=body, headers=headers)\n",
      "  File \"/home/gabriel/miniconda3/envs/pt_nlp/lib/python3.9/http/client.py\", line 1279, in request\n",
      "    self._send_request(method, url, body, headers, encode_chunked)\n",
      "  File \"/home/gabriel/miniconda3/envs/pt_nlp/lib/python3.9/http/client.py\", line 1325, in _send_request\n",
      "    self.endheaders(body, encode_chunked=encode_chunked)\n",
      "  File \"/home/gabriel/miniconda3/envs/pt_nlp/lib/python3.9/http/client.py\", line 1274, in endheaders\n",
      "    self._send_output(message_body, encode_chunked=encode_chunked)\n",
      "  File \"/home/gabriel/miniconda3/envs/pt_nlp/lib/python3.9/http/client.py\", line 1034, in _send_output\n",
      "    self.send(msg)\n",
      "  File \"/home/gabriel/miniconda3/envs/pt_nlp/lib/python3.9/http/client.py\", line 974, in send\n",
      "    self.connect()\n",
      "  File \"/home/gabriel/miniconda3/envs/pt_nlp/lib/python3.9/site-packages/urllib3/connection.py\", line 205, in connect\n",
      "    conn = self._new_conn()\n",
      "  File \"/home/gabriel/miniconda3/envs/pt_nlp/lib/python3.9/site-packages/urllib3/connection.py\", line 186, in _new_conn\n",
      "    raise NewConnectionError(\n",
      "urllib3.exceptions.NewConnectionError: <urllib3.connection.HTTPConnection object at 0x7f1722ec30d0>: Failed to establish a new connection: [Errno -2] Name or service not known\n",
      "\n",
      "During handling of the above exception, another exception occurred:\n",
      "\n",
      "Traceback (most recent call last):\n",
      "  File \"/home/gabriel/miniconda3/envs/pt_nlp/lib/python3.9/site-packages/requests/adapters.py\", line 440, in send\n",
      "    resp = conn.urlopen(\n",
      "  File \"/home/gabriel/miniconda3/envs/pt_nlp/lib/python3.9/site-packages/urllib3/connectionpool.py\", line 755, in urlopen\n",
      "    retries = retries.increment(\n",
      "  File \"/home/gabriel/miniconda3/envs/pt_nlp/lib/python3.9/site-packages/urllib3/util/retry.py\", line 574, in increment\n",
      "    raise MaxRetryError(_pool, url, error or ResponseError(cause))\n",
      "urllib3.exceptions.MaxRetryError: HTTPConnectionPool(host='www.sjdfurniture.co.uk', port=80): Max retries exceeded with url: /products/ (Caused by NewConnectionError('<urllib3.connection.HTTPConnection object at 0x7f1722ec30d0>: Failed to establish a new connection: [Errno -2] Name or service not known'))\n",
      "\n",
      "During handling of the above exception, another exception occurred:\n",
      "\n",
      "Traceback (most recent call last):\n",
      "  File \"/tmp/ipykernel_6102/253839466.py\", line 10, in build_dataset\n",
      "    data = requests.get(url)\n",
      "  File \"/home/gabriel/miniconda3/envs/pt_nlp/lib/python3.9/site-packages/requests/api.py\", line 75, in get\n",
      "    return request('get', url, params=params, **kwargs)\n",
      "  File \"/home/gabriel/miniconda3/envs/pt_nlp/lib/python3.9/site-packages/requests/api.py\", line 61, in request\n",
      "    return session.request(method=method, url=url, **kwargs)\n",
      "  File \"/home/gabriel/miniconda3/envs/pt_nlp/lib/python3.9/site-packages/requests/sessions.py\", line 529, in request\n",
      "    resp = self.send(prep, **send_kwargs)\n",
      "  File \"/home/gabriel/miniconda3/envs/pt_nlp/lib/python3.9/site-packages/requests/sessions.py\", line 645, in send\n",
      "    r = adapter.send(request, **kwargs)\n",
      "  File \"/home/gabriel/miniconda3/envs/pt_nlp/lib/python3.9/site-packages/requests/adapters.py\", line 519, in send\n",
      "    raise ConnectionError(e, request=request)\n",
      "requests.exceptions.ConnectionError: HTTPConnectionPool(host='www.sjdfurniture.co.uk', port=80): Max retries exceeded with url: /products/ (Caused by NewConnectionError('<urllib3.connection.HTTPConnection object at 0x7f1722ec30d0>: Failed to establish a new connection: [Errno -2] Name or service not known'))\n"
     ]
    },
    {
     "name": "stderr",
     "output_type": "stream",
     "text": [
      "WARNING:urllib3.connection:Certificate did not match expected hostname: thedorsetfurniturecompany.co.uk. Certificate: {'subject': ((('countryName', 'US'),), (('stateOrProvinceName', 'California'),), (('localityName', 'San Francisco'),), (('organizationName', 'Cloudflare, Inc.'),), (('commonName', '*.myshopify.com'),)), 'issuer': ((('countryName', 'US'),), (('organizationName', 'Cloudflare, Inc.'),), (('commonName', 'Cloudflare Inc ECC CA-3'),)), 'version': 3, 'serialNumber': '08D14009B8CCFD7A28D460E790084A96', 'notBefore': 'Sep 13 00:00:00 2021 GMT', 'notAfter': 'Sep 12 23:59:59 2022 GMT', 'subjectAltName': (('DNS', 'myshopify.com'), ('DNS', '*.myshopify.com')), 'OCSP': ('http://ocsp.digicert.com',), 'caIssuers': ('http://cacerts.digicert.com/CloudflareIncECCCA-3.crt',), 'crlDistributionPoints': ('http://crl3.digicert.com/CloudflareIncECCCA-3.crl', 'http://crl4.digicert.com/CloudflareIncECCCA-3.crl')}\n",
      "ERROR:root:HTTPSConnectionPool(host='thedorsetfurniturecompany.co.uk', port=443): Max retries exceeded with url: /products/arctic-white-high-gloss-150cm-shelf (Caused by SSLError(SSLCertVerificationError(\"hostname 'thedorsetfurniturecompany.co.uk' doesn't match either of 'myshopify.com', '*.myshopify.com'\")))\n",
      "Traceback (most recent call last):\n",
      "  File \"/home/gabriel/miniconda3/envs/pt_nlp/lib/python3.9/site-packages/urllib3/connectionpool.py\", line 699, in urlopen\n",
      "    httplib_response = self._make_request(\n",
      "  File \"/home/gabriel/miniconda3/envs/pt_nlp/lib/python3.9/site-packages/urllib3/connectionpool.py\", line 382, in _make_request\n",
      "    self._validate_conn(conn)\n",
      "  File \"/home/gabriel/miniconda3/envs/pt_nlp/lib/python3.9/site-packages/urllib3/connectionpool.py\", line 1010, in _validate_conn\n",
      "    conn.connect()\n",
      "  File \"/home/gabriel/miniconda3/envs/pt_nlp/lib/python3.9/site-packages/urllib3/connection.py\", line 469, in connect\n",
      "    _match_hostname(cert, self.assert_hostname or server_hostname)\n",
      "  File \"/home/gabriel/miniconda3/envs/pt_nlp/lib/python3.9/site-packages/urllib3/connection.py\", line 542, in _match_hostname\n",
      "    match_hostname(cert, asserted_hostname)\n",
      "  File \"/home/gabriel/miniconda3/envs/pt_nlp/lib/python3.9/ssl.py\", line 416, in match_hostname\n",
      "    raise CertificateError(\"hostname %r \"\n",
      "ssl.SSLCertVerificationError: (\"hostname 'thedorsetfurniturecompany.co.uk' doesn't match either of 'myshopify.com', '*.myshopify.com'\",)\n",
      "\n",
      "During handling of the above exception, another exception occurred:\n",
      "\n",
      "Traceback (most recent call last):\n",
      "  File \"/home/gabriel/miniconda3/envs/pt_nlp/lib/python3.9/site-packages/requests/adapters.py\", line 440, in send\n",
      "    resp = conn.urlopen(\n",
      "  File \"/home/gabriel/miniconda3/envs/pt_nlp/lib/python3.9/site-packages/urllib3/connectionpool.py\", line 755, in urlopen\n",
      "    retries = retries.increment(\n",
      "  File \"/home/gabriel/miniconda3/envs/pt_nlp/lib/python3.9/site-packages/urllib3/util/retry.py\", line 574, in increment\n",
      "    raise MaxRetryError(_pool, url, error or ResponseError(cause))\n",
      "urllib3.exceptions.MaxRetryError: HTTPSConnectionPool(host='thedorsetfurniturecompany.co.uk', port=443): Max retries exceeded with url: /products/arctic-white-high-gloss-150cm-shelf (Caused by SSLError(SSLCertVerificationError(\"hostname 'thedorsetfurniturecompany.co.uk' doesn't match either of 'myshopify.com', '*.myshopify.com'\")))\n",
      "\n",
      "During handling of the above exception, another exception occurred:\n",
      "\n",
      "Traceback (most recent call last):\n",
      "  File \"/tmp/ipykernel_6102/253839466.py\", line 10, in build_dataset\n",
      "    data = requests.get(url)\n",
      "  File \"/home/gabriel/miniconda3/envs/pt_nlp/lib/python3.9/site-packages/requests/api.py\", line 75, in get\n",
      "    return request('get', url, params=params, **kwargs)\n",
      "  File \"/home/gabriel/miniconda3/envs/pt_nlp/lib/python3.9/site-packages/requests/api.py\", line 61, in request\n",
      "    return session.request(method=method, url=url, **kwargs)\n",
      "  File \"/home/gabriel/miniconda3/envs/pt_nlp/lib/python3.9/site-packages/requests/sessions.py\", line 529, in request\n",
      "    resp = self.send(prep, **send_kwargs)\n",
      "  File \"/home/gabriel/miniconda3/envs/pt_nlp/lib/python3.9/site-packages/requests/sessions.py\", line 645, in send\n",
      "    r = adapter.send(request, **kwargs)\n",
      "  File \"/home/gabriel/miniconda3/envs/pt_nlp/lib/python3.9/site-packages/requests/adapters.py\", line 517, in send\n",
      "    raise SSLError(e, request=request)\n",
      "requests.exceptions.SSLError: HTTPSConnectionPool(host='thedorsetfurniturecompany.co.uk', port=443): Max retries exceeded with url: /products/arctic-white-high-gloss-150cm-shelf (Caused by SSLError(SSLCertVerificationError(\"hostname 'thedorsetfurniturecompany.co.uk' doesn't match either of 'myshopify.com', '*.myshopify.com'\")))\n",
      "WARNING:urllib3.connection:Certificate did not match expected hostname: igigishop.co.uk. Certificate: {'subject': ((('countryName', 'US'),), (('stateOrProvinceName', 'California'),), (('localityName', 'San Francisco'),), (('organizationName', 'Cloudflare, Inc.'),), (('commonName', '*.myshopify.com'),)), 'issuer': ((('countryName', 'US'),), (('organizationName', 'Cloudflare, Inc.'),), (('commonName', 'Cloudflare Inc ECC CA-3'),)), 'version': 3, 'serialNumber': '08D14009B8CCFD7A28D460E790084A96', 'notBefore': 'Sep 13 00:00:00 2021 GMT', 'notAfter': 'Sep 12 23:59:59 2022 GMT', 'subjectAltName': (('DNS', 'myshopify.com'), ('DNS', '*.myshopify.com')), 'OCSP': ('http://ocsp.digicert.com',), 'caIssuers': ('http://cacerts.digicert.com/CloudflareIncECCCA-3.crt',), 'crlDistributionPoints': ('http://crl3.digicert.com/CloudflareIncECCCA-3.crl', 'http://crl4.digicert.com/CloudflareIncECCCA-3.crl')}\n",
      "ERROR:root:HTTPSConnectionPool(host='igigishop.co.uk', port=443): Max retries exceeded with url: /products/cotton-rug (Caused by SSLError(SSLCertVerificationError(\"hostname 'igigishop.co.uk' doesn't match either of 'myshopify.com', '*.myshopify.com'\")))\n",
      "Traceback (most recent call last):\n",
      "  File \"/home/gabriel/miniconda3/envs/pt_nlp/lib/python3.9/site-packages/urllib3/connectionpool.py\", line 699, in urlopen\n",
      "    httplib_response = self._make_request(\n",
      "  File \"/home/gabriel/miniconda3/envs/pt_nlp/lib/python3.9/site-packages/urllib3/connectionpool.py\", line 382, in _make_request\n",
      "    self._validate_conn(conn)\n",
      "  File \"/home/gabriel/miniconda3/envs/pt_nlp/lib/python3.9/site-packages/urllib3/connectionpool.py\", line 1010, in _validate_conn\n",
      "    conn.connect()\n",
      "  File \"/home/gabriel/miniconda3/envs/pt_nlp/lib/python3.9/site-packages/urllib3/connection.py\", line 469, in connect\n",
      "    _match_hostname(cert, self.assert_hostname or server_hostname)\n",
      "  File \"/home/gabriel/miniconda3/envs/pt_nlp/lib/python3.9/site-packages/urllib3/connection.py\", line 542, in _match_hostname\n",
      "    match_hostname(cert, asserted_hostname)\n",
      "  File \"/home/gabriel/miniconda3/envs/pt_nlp/lib/python3.9/ssl.py\", line 416, in match_hostname\n",
      "    raise CertificateError(\"hostname %r \"\n",
      "ssl.SSLCertVerificationError: (\"hostname 'igigishop.co.uk' doesn't match either of 'myshopify.com', '*.myshopify.com'\",)\n",
      "\n",
      "During handling of the above exception, another exception occurred:\n",
      "\n",
      "Traceback (most recent call last):\n",
      "  File \"/home/gabriel/miniconda3/envs/pt_nlp/lib/python3.9/site-packages/requests/adapters.py\", line 440, in send\n",
      "    resp = conn.urlopen(\n",
      "  File \"/home/gabriel/miniconda3/envs/pt_nlp/lib/python3.9/site-packages/urllib3/connectionpool.py\", line 755, in urlopen\n",
      "    retries = retries.increment(\n",
      "  File \"/home/gabriel/miniconda3/envs/pt_nlp/lib/python3.9/site-packages/urllib3/util/retry.py\", line 574, in increment\n",
      "    raise MaxRetryError(_pool, url, error or ResponseError(cause))\n",
      "urllib3.exceptions.MaxRetryError: HTTPSConnectionPool(host='igigishop.co.uk', port=443): Max retries exceeded with url: /products/cotton-rug (Caused by SSLError(SSLCertVerificationError(\"hostname 'igigishop.co.uk' doesn't match either of 'myshopify.com', '*.myshopify.com'\")))\n",
      "\n",
      "During handling of the above exception, another exception occurred:\n",
      "\n",
      "Traceback (most recent call last):\n",
      "  File \"/tmp/ipykernel_6102/253839466.py\", line 10, in build_dataset\n",
      "    data = requests.get(url)\n",
      "  File \"/home/gabriel/miniconda3/envs/pt_nlp/lib/python3.9/site-packages/requests/api.py\", line 75, in get\n",
      "    return request('get', url, params=params, **kwargs)\n",
      "  File \"/home/gabriel/miniconda3/envs/pt_nlp/lib/python3.9/site-packages/requests/api.py\", line 61, in request\n",
      "    return session.request(method=method, url=url, **kwargs)\n",
      "  File \"/home/gabriel/miniconda3/envs/pt_nlp/lib/python3.9/site-packages/requests/sessions.py\", line 529, in request\n",
      "    resp = self.send(prep, **send_kwargs)\n",
      "  File \"/home/gabriel/miniconda3/envs/pt_nlp/lib/python3.9/site-packages/requests/sessions.py\", line 645, in send\n",
      "    r = adapter.send(request, **kwargs)\n",
      "  File \"/home/gabriel/miniconda3/envs/pt_nlp/lib/python3.9/site-packages/requests/adapters.py\", line 517, in send\n",
      "    raise SSLError(e, request=request)\n",
      "requests.exceptions.SSLError: HTTPSConnectionPool(host='igigishop.co.uk', port=443): Max retries exceeded with url: /products/cotton-rug (Caused by SSLError(SSLCertVerificationError(\"hostname 'igigishop.co.uk' doesn't match either of 'myshopify.com', '*.myshopify.com'\")))\n"
     ]
    },
    {
     "name": "stderr",
     "output_type": "stream",
     "text": [
      "ERROR:root:HTTPSConnectionPool(host='divine-interiors.co.uk', port=443): Max retries exceeded with url: /products/sofa-deposit (Caused by NewConnectionError('<urllib3.connection.HTTPSConnection object at 0x7f1723d1f700>: Failed to establish a new connection: [Errno -2] Name or service not known'))\n",
      "Traceback (most recent call last):\n",
      "  File \"/home/gabriel/miniconda3/envs/pt_nlp/lib/python3.9/site-packages/urllib3/connection.py\", line 174, in _new_conn\n",
      "    conn = connection.create_connection(\n",
      "  File \"/home/gabriel/miniconda3/envs/pt_nlp/lib/python3.9/site-packages/urllib3/util/connection.py\", line 73, in create_connection\n",
      "    for res in socket.getaddrinfo(host, port, family, socket.SOCK_STREAM):\n",
      "  File \"/home/gabriel/miniconda3/envs/pt_nlp/lib/python3.9/socket.py\", line 954, in getaddrinfo\n",
      "    for res in _socket.getaddrinfo(host, port, family, type, proto, flags):\n",
      "socket.gaierror: [Errno -2] Name or service not known\n",
      "\n",
      "During handling of the above exception, another exception occurred:\n",
      "\n",
      "Traceback (most recent call last):\n",
      "  File \"/home/gabriel/miniconda3/envs/pt_nlp/lib/python3.9/site-packages/urllib3/connectionpool.py\", line 699, in urlopen\n",
      "    httplib_response = self._make_request(\n",
      "  File \"/home/gabriel/miniconda3/envs/pt_nlp/lib/python3.9/site-packages/urllib3/connectionpool.py\", line 382, in _make_request\n",
      "    self._validate_conn(conn)\n",
      "  File \"/home/gabriel/miniconda3/envs/pt_nlp/lib/python3.9/site-packages/urllib3/connectionpool.py\", line 1010, in _validate_conn\n",
      "    conn.connect()\n",
      "  File \"/home/gabriel/miniconda3/envs/pt_nlp/lib/python3.9/site-packages/urllib3/connection.py\", line 358, in connect\n",
      "    conn = self._new_conn()\n",
      "  File \"/home/gabriel/miniconda3/envs/pt_nlp/lib/python3.9/site-packages/urllib3/connection.py\", line 186, in _new_conn\n",
      "    raise NewConnectionError(\n",
      "urllib3.exceptions.NewConnectionError: <urllib3.connection.HTTPSConnection object at 0x7f1723d1f700>: Failed to establish a new connection: [Errno -2] Name or service not known\n",
      "\n",
      "During handling of the above exception, another exception occurred:\n",
      "\n",
      "Traceback (most recent call last):\n",
      "  File \"/home/gabriel/miniconda3/envs/pt_nlp/lib/python3.9/site-packages/requests/adapters.py\", line 440, in send\n",
      "    resp = conn.urlopen(\n",
      "  File \"/home/gabriel/miniconda3/envs/pt_nlp/lib/python3.9/site-packages/urllib3/connectionpool.py\", line 755, in urlopen\n",
      "    retries = retries.increment(\n",
      "  File \"/home/gabriel/miniconda3/envs/pt_nlp/lib/python3.9/site-packages/urllib3/util/retry.py\", line 574, in increment\n",
      "    raise MaxRetryError(_pool, url, error or ResponseError(cause))\n",
      "urllib3.exceptions.MaxRetryError: HTTPSConnectionPool(host='divine-interiors.co.uk', port=443): Max retries exceeded with url: /products/sofa-deposit (Caused by NewConnectionError('<urllib3.connection.HTTPSConnection object at 0x7f1723d1f700>: Failed to establish a new connection: [Errno -2] Name or service not known'))\n",
      "\n",
      "During handling of the above exception, another exception occurred:\n",
      "\n",
      "Traceback (most recent call last):\n",
      "  File \"/tmp/ipykernel_6102/253839466.py\", line 10, in build_dataset\n",
      "    data = requests.get(url)\n",
      "  File \"/home/gabriel/miniconda3/envs/pt_nlp/lib/python3.9/site-packages/requests/api.py\", line 75, in get\n",
      "    return request('get', url, params=params, **kwargs)\n",
      "  File \"/home/gabriel/miniconda3/envs/pt_nlp/lib/python3.9/site-packages/requests/api.py\", line 61, in request\n",
      "    return session.request(method=method, url=url, **kwargs)\n",
      "  File \"/home/gabriel/miniconda3/envs/pt_nlp/lib/python3.9/site-packages/requests/sessions.py\", line 529, in request\n",
      "    resp = self.send(prep, **send_kwargs)\n",
      "  File \"/home/gabriel/miniconda3/envs/pt_nlp/lib/python3.9/site-packages/requests/sessions.py\", line 645, in send\n",
      "    r = adapter.send(request, **kwargs)\n",
      "  File \"/home/gabriel/miniconda3/envs/pt_nlp/lib/python3.9/site-packages/requests/adapters.py\", line 519, in send\n",
      "    raise ConnectionError(e, request=request)\n",
      "requests.exceptions.ConnectionError: HTTPSConnectionPool(host='divine-interiors.co.uk', port=443): Max retries exceeded with url: /products/sofa-deposit (Caused by NewConnectionError('<urllib3.connection.HTTPSConnection object at 0x7f1723d1f700>: Failed to establish a new connection: [Errno -2] Name or service not known'))\n",
      "ERROR:root:HTTPSConnectionPool(host='shackletonsretail.co.uk', port=443): Max retries exceeded with url: /products/ (Caused by SSLError(SSLCertVerificationError(1, '[SSL: CERTIFICATE_VERIFY_FAILED] certificate verify failed: unable to get local issuer certificate (_ssl.c:1129)')))\n",
      "Traceback (most recent call last):\n",
      "  File \"/home/gabriel/miniconda3/envs/pt_nlp/lib/python3.9/site-packages/urllib3/connectionpool.py\", line 699, in urlopen\n",
      "    httplib_response = self._make_request(\n",
      "  File \"/home/gabriel/miniconda3/envs/pt_nlp/lib/python3.9/site-packages/urllib3/connectionpool.py\", line 382, in _make_request\n",
      "    self._validate_conn(conn)\n",
      "  File \"/home/gabriel/miniconda3/envs/pt_nlp/lib/python3.9/site-packages/urllib3/connectionpool.py\", line 1010, in _validate_conn\n",
      "    conn.connect()\n",
      "  File \"/home/gabriel/miniconda3/envs/pt_nlp/lib/python3.9/site-packages/urllib3/connection.py\", line 416, in connect\n",
      "    self.sock = ssl_wrap_socket(\n",
      "  File \"/home/gabriel/miniconda3/envs/pt_nlp/lib/python3.9/site-packages/urllib3/util/ssl_.py\", line 449, in ssl_wrap_socket\n",
      "    ssl_sock = _ssl_wrap_socket_impl(\n",
      "  File \"/home/gabriel/miniconda3/envs/pt_nlp/lib/python3.9/site-packages/urllib3/util/ssl_.py\", line 493, in _ssl_wrap_socket_impl\n",
      "    return ssl_context.wrap_socket(sock, server_hostname=server_hostname)\n",
      "  File \"/home/gabriel/miniconda3/envs/pt_nlp/lib/python3.9/ssl.py\", line 500, in wrap_socket\n",
      "    return self.sslsocket_class._create(\n",
      "  File \"/home/gabriel/miniconda3/envs/pt_nlp/lib/python3.9/ssl.py\", line 1040, in _create\n",
      "    self.do_handshake()\n",
      "  File \"/home/gabriel/miniconda3/envs/pt_nlp/lib/python3.9/ssl.py\", line 1309, in do_handshake\n",
      "    self._sslobj.do_handshake()\n",
      "ssl.SSLCertVerificationError: [SSL: CERTIFICATE_VERIFY_FAILED] certificate verify failed: unable to get local issuer certificate (_ssl.c:1129)\n",
      "\n",
      "During handling of the above exception, another exception occurred:\n",
      "\n",
      "Traceback (most recent call last):\n",
      "  File \"/home/gabriel/miniconda3/envs/pt_nlp/lib/python3.9/site-packages/requests/adapters.py\", line 440, in send\n",
      "    resp = conn.urlopen(\n",
      "  File \"/home/gabriel/miniconda3/envs/pt_nlp/lib/python3.9/site-packages/urllib3/connectionpool.py\", line 755, in urlopen\n",
      "    retries = retries.increment(\n",
      "  File \"/home/gabriel/miniconda3/envs/pt_nlp/lib/python3.9/site-packages/urllib3/util/retry.py\", line 574, in increment\n",
      "    raise MaxRetryError(_pool, url, error or ResponseError(cause))\n",
      "urllib3.exceptions.MaxRetryError: HTTPSConnectionPool(host='shackletonsretail.co.uk', port=443): Max retries exceeded with url: /products/ (Caused by SSLError(SSLCertVerificationError(1, '[SSL: CERTIFICATE_VERIFY_FAILED] certificate verify failed: unable to get local issuer certificate (_ssl.c:1129)')))\n",
      "\n",
      "During handling of the above exception, another exception occurred:\n",
      "\n",
      "Traceback (most recent call last):\n",
      "  File \"/tmp/ipykernel_6102/253839466.py\", line 10, in build_dataset\n",
      "    data = requests.get(url)\n",
      "  File \"/home/gabriel/miniconda3/envs/pt_nlp/lib/python3.9/site-packages/requests/api.py\", line 75, in get\n",
      "    return request('get', url, params=params, **kwargs)\n",
      "  File \"/home/gabriel/miniconda3/envs/pt_nlp/lib/python3.9/site-packages/requests/api.py\", line 61, in request\n",
      "    return session.request(method=method, url=url, **kwargs)\n",
      "  File \"/home/gabriel/miniconda3/envs/pt_nlp/lib/python3.9/site-packages/requests/sessions.py\", line 529, in request\n",
      "    resp = self.send(prep, **send_kwargs)\n",
      "  File \"/home/gabriel/miniconda3/envs/pt_nlp/lib/python3.9/site-packages/requests/sessions.py\", line 645, in send\n",
      "    r = adapter.send(request, **kwargs)\n",
      "  File \"/home/gabriel/miniconda3/envs/pt_nlp/lib/python3.9/site-packages/requests/adapters.py\", line 517, in send\n",
      "    raise SSLError(e, request=request)\n",
      "requests.exceptions.SSLError: HTTPSConnectionPool(host='shackletonsretail.co.uk', port=443): Max retries exceeded with url: /products/ (Caused by SSLError(SSLCertVerificationError(1, '[SSL: CERTIFICATE_VERIFY_FAILED] certificate verify failed: unable to get local issuer certificate (_ssl.c:1129)')))\n"
     ]
    },
    {
     "name": "stderr",
     "output_type": "stream",
     "text": [
      "WARNING:urllib3.connection:Certificate did not match expected hostname: www.harperandfaith.co.uk. Certificate: {'subject': ((('countryName', 'US'),), (('stateOrProvinceName', 'California'),), (('localityName', 'San Francisco'),), (('organizationName', 'Cloudflare, Inc.'),), (('commonName', '*.myshopify.com'),)), 'issuer': ((('countryName', 'US'),), (('organizationName', 'Cloudflare, Inc.'),), (('commonName', 'Cloudflare Inc ECC CA-3'),)), 'version': 3, 'serialNumber': '08D14009B8CCFD7A28D460E790084A96', 'notBefore': 'Sep 13 00:00:00 2021 GMT', 'notAfter': 'Sep 12 23:59:59 2022 GMT', 'subjectAltName': (('DNS', 'myshopify.com'), ('DNS', '*.myshopify.com')), 'OCSP': ('http://ocsp.digicert.com',), 'caIssuers': ('http://cacerts.digicert.com/CloudflareIncECCCA-3.crt',), 'crlDistributionPoints': ('http://crl3.digicert.com/CloudflareIncECCCA-3.crl', 'http://crl4.digicert.com/CloudflareIncECCCA-3.crl')}\n",
      "ERROR:root:HTTPSConnectionPool(host='www.harperandfaith.co.uk', port=443): Max retries exceeded with url: /products/jupiter-bed (Caused by SSLError(SSLCertVerificationError(\"hostname 'www.harperandfaith.co.uk' doesn't match either of 'myshopify.com', '*.myshopify.com'\")))\n",
      "Traceback (most recent call last):\n",
      "  File \"/home/gabriel/miniconda3/envs/pt_nlp/lib/python3.9/site-packages/urllib3/connectionpool.py\", line 699, in urlopen\n",
      "    httplib_response = self._make_request(\n",
      "  File \"/home/gabriel/miniconda3/envs/pt_nlp/lib/python3.9/site-packages/urllib3/connectionpool.py\", line 382, in _make_request\n",
      "    self._validate_conn(conn)\n",
      "  File \"/home/gabriel/miniconda3/envs/pt_nlp/lib/python3.9/site-packages/urllib3/connectionpool.py\", line 1010, in _validate_conn\n",
      "    conn.connect()\n",
      "  File \"/home/gabriel/miniconda3/envs/pt_nlp/lib/python3.9/site-packages/urllib3/connection.py\", line 469, in connect\n",
      "    _match_hostname(cert, self.assert_hostname or server_hostname)\n",
      "  File \"/home/gabriel/miniconda3/envs/pt_nlp/lib/python3.9/site-packages/urllib3/connection.py\", line 542, in _match_hostname\n",
      "    match_hostname(cert, asserted_hostname)\n",
      "  File \"/home/gabriel/miniconda3/envs/pt_nlp/lib/python3.9/ssl.py\", line 416, in match_hostname\n",
      "    raise CertificateError(\"hostname %r \"\n",
      "ssl.SSLCertVerificationError: (\"hostname 'www.harperandfaith.co.uk' doesn't match either of 'myshopify.com', '*.myshopify.com'\",)\n",
      "\n",
      "During handling of the above exception, another exception occurred:\n",
      "\n",
      "Traceback (most recent call last):\n",
      "  File \"/home/gabriel/miniconda3/envs/pt_nlp/lib/python3.9/site-packages/requests/adapters.py\", line 440, in send\n",
      "    resp = conn.urlopen(\n",
      "  File \"/home/gabriel/miniconda3/envs/pt_nlp/lib/python3.9/site-packages/urllib3/connectionpool.py\", line 755, in urlopen\n",
      "    retries = retries.increment(\n",
      "  File \"/home/gabriel/miniconda3/envs/pt_nlp/lib/python3.9/site-packages/urllib3/util/retry.py\", line 574, in increment\n",
      "    raise MaxRetryError(_pool, url, error or ResponseError(cause))\n",
      "urllib3.exceptions.MaxRetryError: HTTPSConnectionPool(host='www.harperandfaith.co.uk', port=443): Max retries exceeded with url: /products/jupiter-bed (Caused by SSLError(SSLCertVerificationError(\"hostname 'www.harperandfaith.co.uk' doesn't match either of 'myshopify.com', '*.myshopify.com'\")))\n",
      "\n",
      "During handling of the above exception, another exception occurred:\n",
      "\n",
      "Traceback (most recent call last):\n",
      "  File \"/tmp/ipykernel_6102/253839466.py\", line 10, in build_dataset\n",
      "    data = requests.get(url)\n",
      "  File \"/home/gabriel/miniconda3/envs/pt_nlp/lib/python3.9/site-packages/requests/api.py\", line 75, in get\n",
      "    return request('get', url, params=params, **kwargs)\n",
      "  File \"/home/gabriel/miniconda3/envs/pt_nlp/lib/python3.9/site-packages/requests/api.py\", line 61, in request\n",
      "    return session.request(method=method, url=url, **kwargs)\n",
      "  File \"/home/gabriel/miniconda3/envs/pt_nlp/lib/python3.9/site-packages/requests/sessions.py\", line 529, in request\n",
      "    resp = self.send(prep, **send_kwargs)\n",
      "  File \"/home/gabriel/miniconda3/envs/pt_nlp/lib/python3.9/site-packages/requests/sessions.py\", line 645, in send\n",
      "    r = adapter.send(request, **kwargs)\n",
      "  File \"/home/gabriel/miniconda3/envs/pt_nlp/lib/python3.9/site-packages/requests/adapters.py\", line 517, in send\n",
      "    raise SSLError(e, request=request)\n",
      "requests.exceptions.SSLError: HTTPSConnectionPool(host='www.harperandfaith.co.uk', port=443): Max retries exceeded with url: /products/jupiter-bed (Caused by SSLError(SSLCertVerificationError(\"hostname 'www.harperandfaith.co.uk' doesn't match either of 'myshopify.com', '*.myshopify.com'\")))\n",
      "ERROR:root:HTTPSConnectionPool(host='www.homeaffections.co.uk', port=443): Max retries exceeded with url: /products/wide-display-cabinet-540005-bonoca (Caused by NewConnectionError('<urllib3.connection.HTTPSConnection object at 0x7f1723a3bd00>: Failed to establish a new connection: [Errno -2] Name or service not known'))\n",
      "Traceback (most recent call last):\n",
      "  File \"/home/gabriel/miniconda3/envs/pt_nlp/lib/python3.9/site-packages/urllib3/connection.py\", line 174, in _new_conn\n",
      "    conn = connection.create_connection(\n",
      "  File \"/home/gabriel/miniconda3/envs/pt_nlp/lib/python3.9/site-packages/urllib3/util/connection.py\", line 73, in create_connection\n",
      "    for res in socket.getaddrinfo(host, port, family, socket.SOCK_STREAM):\n",
      "  File \"/home/gabriel/miniconda3/envs/pt_nlp/lib/python3.9/socket.py\", line 954, in getaddrinfo\n",
      "    for res in _socket.getaddrinfo(host, port, family, type, proto, flags):\n",
      "socket.gaierror: [Errno -2] Name or service not known\n",
      "\n",
      "During handling of the above exception, another exception occurred:\n",
      "\n",
      "Traceback (most recent call last):\n",
      "  File \"/home/gabriel/miniconda3/envs/pt_nlp/lib/python3.9/site-packages/urllib3/connectionpool.py\", line 699, in urlopen\n",
      "    httplib_response = self._make_request(\n",
      "  File \"/home/gabriel/miniconda3/envs/pt_nlp/lib/python3.9/site-packages/urllib3/connectionpool.py\", line 382, in _make_request\n",
      "    self._validate_conn(conn)\n",
      "  File \"/home/gabriel/miniconda3/envs/pt_nlp/lib/python3.9/site-packages/urllib3/connectionpool.py\", line 1010, in _validate_conn\n",
      "    conn.connect()\n",
      "  File \"/home/gabriel/miniconda3/envs/pt_nlp/lib/python3.9/site-packages/urllib3/connection.py\", line 358, in connect\n",
      "    conn = self._new_conn()\n",
      "  File \"/home/gabriel/miniconda3/envs/pt_nlp/lib/python3.9/site-packages/urllib3/connection.py\", line 186, in _new_conn\n",
      "    raise NewConnectionError(\n",
      "urllib3.exceptions.NewConnectionError: <urllib3.connection.HTTPSConnection object at 0x7f1723a3bd00>: Failed to establish a new connection: [Errno -2] Name or service not known\n",
      "\n",
      "During handling of the above exception, another exception occurred:\n",
      "\n",
      "Traceback (most recent call last):\n",
      "  File \"/home/gabriel/miniconda3/envs/pt_nlp/lib/python3.9/site-packages/requests/adapters.py\", line 440, in send\n",
      "    resp = conn.urlopen(\n",
      "  File \"/home/gabriel/miniconda3/envs/pt_nlp/lib/python3.9/site-packages/urllib3/connectionpool.py\", line 755, in urlopen\n",
      "    retries = retries.increment(\n",
      "  File \"/home/gabriel/miniconda3/envs/pt_nlp/lib/python3.9/site-packages/urllib3/util/retry.py\", line 574, in increment\n",
      "    raise MaxRetryError(_pool, url, error or ResponseError(cause))\n",
      "urllib3.exceptions.MaxRetryError: HTTPSConnectionPool(host='www.homeaffections.co.uk', port=443): Max retries exceeded with url: /products/wide-display-cabinet-540005-bonoca (Caused by NewConnectionError('<urllib3.connection.HTTPSConnection object at 0x7f1723a3bd00>: Failed to establish a new connection: [Errno -2] Name or service not known'))\n",
      "\n",
      "During handling of the above exception, another exception occurred:\n",
      "\n",
      "Traceback (most recent call last):\n",
      "  File \"/tmp/ipykernel_6102/253839466.py\", line 10, in build_dataset\n",
      "    data = requests.get(url)\n",
      "  File \"/home/gabriel/miniconda3/envs/pt_nlp/lib/python3.9/site-packages/requests/api.py\", line 75, in get\n",
      "    return request('get', url, params=params, **kwargs)\n",
      "  File \"/home/gabriel/miniconda3/envs/pt_nlp/lib/python3.9/site-packages/requests/api.py\", line 61, in request\n",
      "    return session.request(method=method, url=url, **kwargs)\n",
      "  File \"/home/gabriel/miniconda3/envs/pt_nlp/lib/python3.9/site-packages/requests/sessions.py\", line 529, in request\n",
      "    resp = self.send(prep, **send_kwargs)\n",
      "  File \"/home/gabriel/miniconda3/envs/pt_nlp/lib/python3.9/site-packages/requests/sessions.py\", line 645, in send\n",
      "    r = adapter.send(request, **kwargs)\n",
      "  File \"/home/gabriel/miniconda3/envs/pt_nlp/lib/python3.9/site-packages/requests/adapters.py\", line 519, in send\n",
      "    raise ConnectionError(e, request=request)\n",
      "requests.exceptions.ConnectionError: HTTPSConnectionPool(host='www.homeaffections.co.uk', port=443): Max retries exceeded with url: /products/wide-display-cabinet-540005-bonoca (Caused by NewConnectionError('<urllib3.connection.HTTPSConnection object at 0x7f1723a3bd00>: Failed to establish a new connection: [Errno -2] Name or service not known'))\n"
     ]
    },
    {
     "name": "stderr",
     "output_type": "stream",
     "text": [
      "ERROR:root:HTTPSConnectionPool(host='jopa-interiors.co.uk', port=443): Max retries exceeded with url: /products/black-weave-cushion-with-tag (Caused by NewConnectionError('<urllib3.connection.HTTPSConnection object at 0x7f17231ff2e0>: Failed to establish a new connection: [Errno -2] Name or service not known'))\n",
      "Traceback (most recent call last):\n",
      "  File \"/home/gabriel/miniconda3/envs/pt_nlp/lib/python3.9/site-packages/urllib3/connection.py\", line 174, in _new_conn\n",
      "    conn = connection.create_connection(\n",
      "  File \"/home/gabriel/miniconda3/envs/pt_nlp/lib/python3.9/site-packages/urllib3/util/connection.py\", line 73, in create_connection\n",
      "    for res in socket.getaddrinfo(host, port, family, socket.SOCK_STREAM):\n",
      "  File \"/home/gabriel/miniconda3/envs/pt_nlp/lib/python3.9/socket.py\", line 954, in getaddrinfo\n",
      "    for res in _socket.getaddrinfo(host, port, family, type, proto, flags):\n",
      "socket.gaierror: [Errno -2] Name or service not known\n",
      "\n",
      "During handling of the above exception, another exception occurred:\n",
      "\n",
      "Traceback (most recent call last):\n",
      "  File \"/home/gabriel/miniconda3/envs/pt_nlp/lib/python3.9/site-packages/urllib3/connectionpool.py\", line 699, in urlopen\n",
      "    httplib_response = self._make_request(\n",
      "  File \"/home/gabriel/miniconda3/envs/pt_nlp/lib/python3.9/site-packages/urllib3/connectionpool.py\", line 382, in _make_request\n",
      "    self._validate_conn(conn)\n",
      "  File \"/home/gabriel/miniconda3/envs/pt_nlp/lib/python3.9/site-packages/urllib3/connectionpool.py\", line 1010, in _validate_conn\n",
      "    conn.connect()\n",
      "  File \"/home/gabriel/miniconda3/envs/pt_nlp/lib/python3.9/site-packages/urllib3/connection.py\", line 358, in connect\n",
      "    conn = self._new_conn()\n",
      "  File \"/home/gabriel/miniconda3/envs/pt_nlp/lib/python3.9/site-packages/urllib3/connection.py\", line 186, in _new_conn\n",
      "    raise NewConnectionError(\n",
      "urllib3.exceptions.NewConnectionError: <urllib3.connection.HTTPSConnection object at 0x7f17231ff2e0>: Failed to establish a new connection: [Errno -2] Name or service not known\n",
      "\n",
      "During handling of the above exception, another exception occurred:\n",
      "\n",
      "Traceback (most recent call last):\n",
      "  File \"/home/gabriel/miniconda3/envs/pt_nlp/lib/python3.9/site-packages/requests/adapters.py\", line 440, in send\n",
      "    resp = conn.urlopen(\n",
      "  File \"/home/gabriel/miniconda3/envs/pt_nlp/lib/python3.9/site-packages/urllib3/connectionpool.py\", line 755, in urlopen\n",
      "    retries = retries.increment(\n",
      "  File \"/home/gabriel/miniconda3/envs/pt_nlp/lib/python3.9/site-packages/urllib3/util/retry.py\", line 574, in increment\n",
      "    raise MaxRetryError(_pool, url, error or ResponseError(cause))\n",
      "urllib3.exceptions.MaxRetryError: HTTPSConnectionPool(host='jopa-interiors.co.uk', port=443): Max retries exceeded with url: /products/black-weave-cushion-with-tag (Caused by NewConnectionError('<urllib3.connection.HTTPSConnection object at 0x7f17231ff2e0>: Failed to establish a new connection: [Errno -2] Name or service not known'))\n",
      "\n",
      "During handling of the above exception, another exception occurred:\n",
      "\n",
      "Traceback (most recent call last):\n",
      "  File \"/tmp/ipykernel_6102/253839466.py\", line 10, in build_dataset\n",
      "    data = requests.get(url)\n",
      "  File \"/home/gabriel/miniconda3/envs/pt_nlp/lib/python3.9/site-packages/requests/api.py\", line 75, in get\n",
      "    return request('get', url, params=params, **kwargs)\n",
      "  File \"/home/gabriel/miniconda3/envs/pt_nlp/lib/python3.9/site-packages/requests/api.py\", line 61, in request\n",
      "    return session.request(method=method, url=url, **kwargs)\n",
      "  File \"/home/gabriel/miniconda3/envs/pt_nlp/lib/python3.9/site-packages/requests/sessions.py\", line 529, in request\n",
      "    resp = self.send(prep, **send_kwargs)\n",
      "  File \"/home/gabriel/miniconda3/envs/pt_nlp/lib/python3.9/site-packages/requests/sessions.py\", line 645, in send\n",
      "    r = adapter.send(request, **kwargs)\n",
      "  File \"/home/gabriel/miniconda3/envs/pt_nlp/lib/python3.9/site-packages/requests/adapters.py\", line 519, in send\n",
      "    raise ConnectionError(e, request=request)\n",
      "requests.exceptions.ConnectionError: HTTPSConnectionPool(host='jopa-interiors.co.uk', port=443): Max retries exceeded with url: /products/black-weave-cushion-with-tag (Caused by NewConnectionError('<urllib3.connection.HTTPSConnection object at 0x7f17231ff2e0>: Failed to establish a new connection: [Errno -2] Name or service not known'))\n",
      "WARNING:urllib3.connection:Certificate did not match expected hostname: airfurniture.co.uk. Certificate: {'subject': ((('countryName', 'US'),), (('stateOrProvinceName', 'California'),), (('localityName', 'San Francisco'),), (('organizationName', 'Cloudflare, Inc.'),), (('commonName', '*.myshopify.com'),)), 'issuer': ((('countryName', 'US'),), (('organizationName', 'Cloudflare, Inc.'),), (('commonName', 'Cloudflare Inc ECC CA-3'),)), 'version': 3, 'serialNumber': '08D14009B8CCFD7A28D460E790084A96', 'notBefore': 'Sep 13 00:00:00 2021 GMT', 'notAfter': 'Sep 12 23:59:59 2022 GMT', 'subjectAltName': (('DNS', 'myshopify.com'), ('DNS', '*.myshopify.com')), 'OCSP': ('http://ocsp.digicert.com',), 'caIssuers': ('http://cacerts.digicert.com/CloudflareIncECCCA-3.crt',), 'crlDistributionPoints': ('http://crl3.digicert.com/CloudflareIncECCCA-3.crl', 'http://crl4.digicert.com/CloudflareIncECCCA-3.crl')}\n",
      "ERROR:root:HTTPSConnectionPool(host='airfurniture.co.uk', port=443): Max retries exceeded with url: /products/zues-pu-storage-bed (Caused by SSLError(SSLCertVerificationError(\"hostname 'airfurniture.co.uk' doesn't match either of 'myshopify.com', '*.myshopify.com'\")))\n",
      "Traceback (most recent call last):\n",
      "  File \"/home/gabriel/miniconda3/envs/pt_nlp/lib/python3.9/site-packages/urllib3/connectionpool.py\", line 699, in urlopen\n",
      "    httplib_response = self._make_request(\n",
      "  File \"/home/gabriel/miniconda3/envs/pt_nlp/lib/python3.9/site-packages/urllib3/connectionpool.py\", line 382, in _make_request\n",
      "    self._validate_conn(conn)\n",
      "  File \"/home/gabriel/miniconda3/envs/pt_nlp/lib/python3.9/site-packages/urllib3/connectionpool.py\", line 1010, in _validate_conn\n",
      "    conn.connect()\n",
      "  File \"/home/gabriel/miniconda3/envs/pt_nlp/lib/python3.9/site-packages/urllib3/connection.py\", line 469, in connect\n",
      "    _match_hostname(cert, self.assert_hostname or server_hostname)\n",
      "  File \"/home/gabriel/miniconda3/envs/pt_nlp/lib/python3.9/site-packages/urllib3/connection.py\", line 542, in _match_hostname\n",
      "    match_hostname(cert, asserted_hostname)\n",
      "  File \"/home/gabriel/miniconda3/envs/pt_nlp/lib/python3.9/ssl.py\", line 416, in match_hostname\n",
      "    raise CertificateError(\"hostname %r \"\n",
      "ssl.SSLCertVerificationError: (\"hostname 'airfurniture.co.uk' doesn't match either of 'myshopify.com', '*.myshopify.com'\",)\n",
      "\n",
      "During handling of the above exception, another exception occurred:\n",
      "\n",
      "Traceback (most recent call last):\n",
      "  File \"/home/gabriel/miniconda3/envs/pt_nlp/lib/python3.9/site-packages/requests/adapters.py\", line 440, in send\n",
      "    resp = conn.urlopen(\n",
      "  File \"/home/gabriel/miniconda3/envs/pt_nlp/lib/python3.9/site-packages/urllib3/connectionpool.py\", line 755, in urlopen\n",
      "    retries = retries.increment(\n",
      "  File \"/home/gabriel/miniconda3/envs/pt_nlp/lib/python3.9/site-packages/urllib3/util/retry.py\", line 574, in increment\n",
      "    raise MaxRetryError(_pool, url, error or ResponseError(cause))\n",
      "urllib3.exceptions.MaxRetryError: HTTPSConnectionPool(host='airfurniture.co.uk', port=443): Max retries exceeded with url: /products/zues-pu-storage-bed (Caused by SSLError(SSLCertVerificationError(\"hostname 'airfurniture.co.uk' doesn't match either of 'myshopify.com', '*.myshopify.com'\")))\n",
      "\n",
      "During handling of the above exception, another exception occurred:\n",
      "\n",
      "Traceback (most recent call last):\n",
      "  File \"/tmp/ipykernel_6102/253839466.py\", line 10, in build_dataset\n",
      "    data = requests.get(url)\n",
      "  File \"/home/gabriel/miniconda3/envs/pt_nlp/lib/python3.9/site-packages/requests/api.py\", line 75, in get\n",
      "    return request('get', url, params=params, **kwargs)\n",
      "  File \"/home/gabriel/miniconda3/envs/pt_nlp/lib/python3.9/site-packages/requests/api.py\", line 61, in request\n",
      "    return session.request(method=method, url=url, **kwargs)\n",
      "  File \"/home/gabriel/miniconda3/envs/pt_nlp/lib/python3.9/site-packages/requests/sessions.py\", line 529, in request\n",
      "    resp = self.send(prep, **send_kwargs)\n",
      "  File \"/home/gabriel/miniconda3/envs/pt_nlp/lib/python3.9/site-packages/requests/sessions.py\", line 645, in send\n",
      "    r = adapter.send(request, **kwargs)\n",
      "  File \"/home/gabriel/miniconda3/envs/pt_nlp/lib/python3.9/site-packages/requests/adapters.py\", line 517, in send\n",
      "    raise SSLError(e, request=request)\n",
      "requests.exceptions.SSLError: HTTPSConnectionPool(host='airfurniture.co.uk', port=443): Max retries exceeded with url: /products/zues-pu-storage-bed (Caused by SSLError(SSLCertVerificationError(\"hostname 'airfurniture.co.uk' doesn't match either of 'myshopify.com', '*.myshopify.com'\")))\n"
     ]
    },
    {
     "name": "stderr",
     "output_type": "stream",
     "text": [
      "ERROR:root:HTTPSConnectionPool(host='www.furlon.co.uk', port=443): Max retries exceeded with url: /products/194 (Caused by NewConnectionError('<urllib3.connection.HTTPSConnection object at 0x7f17236e6dc0>: Failed to establish a new connection: [Errno -2] Name or service not known'))\n",
      "Traceback (most recent call last):\n",
      "  File \"/home/gabriel/miniconda3/envs/pt_nlp/lib/python3.9/site-packages/urllib3/connection.py\", line 174, in _new_conn\n",
      "    conn = connection.create_connection(\n",
      "  File \"/home/gabriel/miniconda3/envs/pt_nlp/lib/python3.9/site-packages/urllib3/util/connection.py\", line 73, in create_connection\n",
      "    for res in socket.getaddrinfo(host, port, family, socket.SOCK_STREAM):\n",
      "  File \"/home/gabriel/miniconda3/envs/pt_nlp/lib/python3.9/socket.py\", line 954, in getaddrinfo\n",
      "    for res in _socket.getaddrinfo(host, port, family, type, proto, flags):\n",
      "socket.gaierror: [Errno -2] Name or service not known\n",
      "\n",
      "During handling of the above exception, another exception occurred:\n",
      "\n",
      "Traceback (most recent call last):\n",
      "  File \"/home/gabriel/miniconda3/envs/pt_nlp/lib/python3.9/site-packages/urllib3/connectionpool.py\", line 699, in urlopen\n",
      "    httplib_response = self._make_request(\n",
      "  File \"/home/gabriel/miniconda3/envs/pt_nlp/lib/python3.9/site-packages/urllib3/connectionpool.py\", line 382, in _make_request\n",
      "    self._validate_conn(conn)\n",
      "  File \"/home/gabriel/miniconda3/envs/pt_nlp/lib/python3.9/site-packages/urllib3/connectionpool.py\", line 1010, in _validate_conn\n",
      "    conn.connect()\n",
      "  File \"/home/gabriel/miniconda3/envs/pt_nlp/lib/python3.9/site-packages/urllib3/connection.py\", line 358, in connect\n",
      "    conn = self._new_conn()\n",
      "  File \"/home/gabriel/miniconda3/envs/pt_nlp/lib/python3.9/site-packages/urllib3/connection.py\", line 186, in _new_conn\n",
      "    raise NewConnectionError(\n",
      "urllib3.exceptions.NewConnectionError: <urllib3.connection.HTTPSConnection object at 0x7f17236e6dc0>: Failed to establish a new connection: [Errno -2] Name or service not known\n",
      "\n",
      "During handling of the above exception, another exception occurred:\n",
      "\n",
      "Traceback (most recent call last):\n",
      "  File \"/home/gabriel/miniconda3/envs/pt_nlp/lib/python3.9/site-packages/requests/adapters.py\", line 440, in send\n",
      "    resp = conn.urlopen(\n",
      "  File \"/home/gabriel/miniconda3/envs/pt_nlp/lib/python3.9/site-packages/urllib3/connectionpool.py\", line 755, in urlopen\n",
      "    retries = retries.increment(\n",
      "  File \"/home/gabriel/miniconda3/envs/pt_nlp/lib/python3.9/site-packages/urllib3/util/retry.py\", line 574, in increment\n",
      "    raise MaxRetryError(_pool, url, error or ResponseError(cause))\n",
      "urllib3.exceptions.MaxRetryError: HTTPSConnectionPool(host='www.furlon.co.uk', port=443): Max retries exceeded with url: /products/194 (Caused by NewConnectionError('<urllib3.connection.HTTPSConnection object at 0x7f17236e6dc0>: Failed to establish a new connection: [Errno -2] Name or service not known'))\n",
      "\n",
      "During handling of the above exception, another exception occurred:\n",
      "\n",
      "Traceback (most recent call last):\n",
      "  File \"/tmp/ipykernel_6102/253839466.py\", line 10, in build_dataset\n",
      "    data = requests.get(url)\n",
      "  File \"/home/gabriel/miniconda3/envs/pt_nlp/lib/python3.9/site-packages/requests/api.py\", line 75, in get\n",
      "    return request('get', url, params=params, **kwargs)\n",
      "  File \"/home/gabriel/miniconda3/envs/pt_nlp/lib/python3.9/site-packages/requests/api.py\", line 61, in request\n",
      "    return session.request(method=method, url=url, **kwargs)\n",
      "  File \"/home/gabriel/miniconda3/envs/pt_nlp/lib/python3.9/site-packages/requests/sessions.py\", line 529, in request\n",
      "    resp = self.send(prep, **send_kwargs)\n",
      "  File \"/home/gabriel/miniconda3/envs/pt_nlp/lib/python3.9/site-packages/requests/sessions.py\", line 645, in send\n",
      "    r = adapter.send(request, **kwargs)\n",
      "  File \"/home/gabriel/miniconda3/envs/pt_nlp/lib/python3.9/site-packages/requests/adapters.py\", line 519, in send\n",
      "    raise ConnectionError(e, request=request)\n",
      "requests.exceptions.ConnectionError: HTTPSConnectionPool(host='www.furlon.co.uk', port=443): Max retries exceeded with url: /products/194 (Caused by NewConnectionError('<urllib3.connection.HTTPSConnection object at 0x7f17236e6dc0>: Failed to establish a new connection: [Errno -2] Name or service not known'))\n",
      "ERROR:root:HTTPSConnectionPool(host='rustic-furniture.co.uk', port=443): Max retries exceeded with url: /products/curved-open-bedside (Caused by SSLError(SSLEOFError(8, 'EOF occurred in violation of protocol (_ssl.c:1129)')))\n",
      "Traceback (most recent call last):\n",
      "  File \"/home/gabriel/miniconda3/envs/pt_nlp/lib/python3.9/site-packages/urllib3/connectionpool.py\", line 699, in urlopen\n",
      "    httplib_response = self._make_request(\n",
      "  File \"/home/gabriel/miniconda3/envs/pt_nlp/lib/python3.9/site-packages/urllib3/connectionpool.py\", line 382, in _make_request\n",
      "    self._validate_conn(conn)\n",
      "  File \"/home/gabriel/miniconda3/envs/pt_nlp/lib/python3.9/site-packages/urllib3/connectionpool.py\", line 1010, in _validate_conn\n",
      "    conn.connect()\n",
      "  File \"/home/gabriel/miniconda3/envs/pt_nlp/lib/python3.9/site-packages/urllib3/connection.py\", line 416, in connect\n",
      "    self.sock = ssl_wrap_socket(\n",
      "  File \"/home/gabriel/miniconda3/envs/pt_nlp/lib/python3.9/site-packages/urllib3/util/ssl_.py\", line 449, in ssl_wrap_socket\n",
      "    ssl_sock = _ssl_wrap_socket_impl(\n",
      "  File \"/home/gabriel/miniconda3/envs/pt_nlp/lib/python3.9/site-packages/urllib3/util/ssl_.py\", line 493, in _ssl_wrap_socket_impl\n",
      "    return ssl_context.wrap_socket(sock, server_hostname=server_hostname)\n",
      "  File \"/home/gabriel/miniconda3/envs/pt_nlp/lib/python3.9/ssl.py\", line 500, in wrap_socket\n",
      "    return self.sslsocket_class._create(\n",
      "  File \"/home/gabriel/miniconda3/envs/pt_nlp/lib/python3.9/ssl.py\", line 1040, in _create\n",
      "    self.do_handshake()\n",
      "  File \"/home/gabriel/miniconda3/envs/pt_nlp/lib/python3.9/ssl.py\", line 1309, in do_handshake\n",
      "    self._sslobj.do_handshake()\n",
      "ssl.SSLEOFError: EOF occurred in violation of protocol (_ssl.c:1129)\n",
      "\n",
      "During handling of the above exception, another exception occurred:\n",
      "\n",
      "Traceback (most recent call last):\n",
      "  File \"/home/gabriel/miniconda3/envs/pt_nlp/lib/python3.9/site-packages/requests/adapters.py\", line 440, in send\n",
      "    resp = conn.urlopen(\n",
      "  File \"/home/gabriel/miniconda3/envs/pt_nlp/lib/python3.9/site-packages/urllib3/connectionpool.py\", line 755, in urlopen\n",
      "    retries = retries.increment(\n",
      "  File \"/home/gabriel/miniconda3/envs/pt_nlp/lib/python3.9/site-packages/urllib3/util/retry.py\", line 574, in increment\n",
      "    raise MaxRetryError(_pool, url, error or ResponseError(cause))\n",
      "urllib3.exceptions.MaxRetryError: HTTPSConnectionPool(host='rustic-furniture.co.uk', port=443): Max retries exceeded with url: /products/curved-open-bedside (Caused by SSLError(SSLEOFError(8, 'EOF occurred in violation of protocol (_ssl.c:1129)')))\n",
      "\n",
      "During handling of the above exception, another exception occurred:\n",
      "\n",
      "Traceback (most recent call last):\n",
      "  File \"/tmp/ipykernel_6102/253839466.py\", line 10, in build_dataset\n",
      "    data = requests.get(url)\n",
      "  File \"/home/gabriel/miniconda3/envs/pt_nlp/lib/python3.9/site-packages/requests/api.py\", line 75, in get\n",
      "    return request('get', url, params=params, **kwargs)\n",
      "  File \"/home/gabriel/miniconda3/envs/pt_nlp/lib/python3.9/site-packages/requests/api.py\", line 61, in request\n",
      "    return session.request(method=method, url=url, **kwargs)\n",
      "  File \"/home/gabriel/miniconda3/envs/pt_nlp/lib/python3.9/site-packages/requests/sessions.py\", line 529, in request\n",
      "    resp = self.send(prep, **send_kwargs)\n",
      "  File \"/home/gabriel/miniconda3/envs/pt_nlp/lib/python3.9/site-packages/requests/sessions.py\", line 645, in send\n",
      "    r = adapter.send(request, **kwargs)\n",
      "  File \"/home/gabriel/miniconda3/envs/pt_nlp/lib/python3.9/site-packages/requests/adapters.py\", line 517, in send\n",
      "    raise SSLError(e, request=request)\n",
      "requests.exceptions.SSLError: HTTPSConnectionPool(host='rustic-furniture.co.uk', port=443): Max retries exceeded with url: /products/curved-open-bedside (Caused by SSLError(SSLEOFError(8, 'EOF occurred in violation of protocol (_ssl.c:1129)')))\n",
      "ERROR:root:HTTPSConnectionPool(host='www.skhomedecor.co.uk', port=443): Max retries exceeded with url: /products/page/2/ (Caused by NewConnectionError('<urllib3.connection.HTTPSConnection object at 0x7f17236e6ac0>: Failed to establish a new connection: [Errno -2] Name or service not known'))\n",
      "Traceback (most recent call last):\n",
      "  File \"/home/gabriel/miniconda3/envs/pt_nlp/lib/python3.9/site-packages/urllib3/connection.py\", line 174, in _new_conn\n",
      "    conn = connection.create_connection(\n",
      "  File \"/home/gabriel/miniconda3/envs/pt_nlp/lib/python3.9/site-packages/urllib3/util/connection.py\", line 73, in create_connection\n",
      "    for res in socket.getaddrinfo(host, port, family, socket.SOCK_STREAM):\n",
      "  File \"/home/gabriel/miniconda3/envs/pt_nlp/lib/python3.9/socket.py\", line 954, in getaddrinfo\n",
      "    for res in _socket.getaddrinfo(host, port, family, type, proto, flags):\n",
      "socket.gaierror: [Errno -2] Name or service not known\n",
      "\n",
      "During handling of the above exception, another exception occurred:\n",
      "\n",
      "Traceback (most recent call last):\n",
      "  File \"/home/gabriel/miniconda3/envs/pt_nlp/lib/python3.9/site-packages/urllib3/connectionpool.py\", line 699, in urlopen\n",
      "    httplib_response = self._make_request(\n",
      "  File \"/home/gabriel/miniconda3/envs/pt_nlp/lib/python3.9/site-packages/urllib3/connectionpool.py\", line 382, in _make_request\n",
      "    self._validate_conn(conn)\n",
      "  File \"/home/gabriel/miniconda3/envs/pt_nlp/lib/python3.9/site-packages/urllib3/connectionpool.py\", line 1010, in _validate_conn\n",
      "    conn.connect()\n",
      "  File \"/home/gabriel/miniconda3/envs/pt_nlp/lib/python3.9/site-packages/urllib3/connection.py\", line 358, in connect\n",
      "    conn = self._new_conn()\n",
      "  File \"/home/gabriel/miniconda3/envs/pt_nlp/lib/python3.9/site-packages/urllib3/connection.py\", line 186, in _new_conn\n",
      "    raise NewConnectionError(\n",
      "urllib3.exceptions.NewConnectionError: <urllib3.connection.HTTPSConnection object at 0x7f17236e6ac0>: Failed to establish a new connection: [Errno -2] Name or service not known\n",
      "\n",
      "During handling of the above exception, another exception occurred:\n",
      "\n",
      "Traceback (most recent call last):\n",
      "  File \"/home/gabriel/miniconda3/envs/pt_nlp/lib/python3.9/site-packages/requests/adapters.py\", line 440, in send\n",
      "    resp = conn.urlopen(\n",
      "  File \"/home/gabriel/miniconda3/envs/pt_nlp/lib/python3.9/site-packages/urllib3/connectionpool.py\", line 755, in urlopen\n",
      "    retries = retries.increment(\n",
      "  File \"/home/gabriel/miniconda3/envs/pt_nlp/lib/python3.9/site-packages/urllib3/util/retry.py\", line 574, in increment\n",
      "    raise MaxRetryError(_pool, url, error or ResponseError(cause))\n",
      "urllib3.exceptions.MaxRetryError: HTTPSConnectionPool(host='www.skhomedecor.co.uk', port=443): Max retries exceeded with url: /products/page/2/ (Caused by NewConnectionError('<urllib3.connection.HTTPSConnection object at 0x7f17236e6ac0>: Failed to establish a new connection: [Errno -2] Name or service not known'))\n",
      "\n",
      "During handling of the above exception, another exception occurred:\n",
      "\n",
      "Traceback (most recent call last):\n",
      "  File \"/tmp/ipykernel_6102/253839466.py\", line 10, in build_dataset\n",
      "    data = requests.get(url)\n",
      "  File \"/home/gabriel/miniconda3/envs/pt_nlp/lib/python3.9/site-packages/requests/api.py\", line 75, in get\n",
      "    return request('get', url, params=params, **kwargs)\n",
      "  File \"/home/gabriel/miniconda3/envs/pt_nlp/lib/python3.9/site-packages/requests/api.py\", line 61, in request\n",
      "    return session.request(method=method, url=url, **kwargs)\n",
      "  File \"/home/gabriel/miniconda3/envs/pt_nlp/lib/python3.9/site-packages/requests/sessions.py\", line 529, in request\n",
      "    resp = self.send(prep, **send_kwargs)\n",
      "  File \"/home/gabriel/miniconda3/envs/pt_nlp/lib/python3.9/site-packages/requests/sessions.py\", line 645, in send\n",
      "    r = adapter.send(request, **kwargs)\n",
      "  File \"/home/gabriel/miniconda3/envs/pt_nlp/lib/python3.9/site-packages/requests/adapters.py\", line 519, in send\n",
      "    raise ConnectionError(e, request=request)\n",
      "requests.exceptions.ConnectionError: HTTPSConnectionPool(host='www.skhomedecor.co.uk', port=443): Max retries exceeded with url: /products/page/2/ (Caused by NewConnectionError('<urllib3.connection.HTTPSConnection object at 0x7f17236e6ac0>: Failed to establish a new connection: [Errno -2] Name or service not known'))\n"
     ]
    },
    {
     "name": "stderr",
     "output_type": "stream",
     "text": [
      "ERROR:root:('Connection aborted.', ConnectionResetError(104, 'Connection reset by peer'))\n",
      "Traceback (most recent call last):\n",
      "  File \"/home/gabriel/miniconda3/envs/pt_nlp/lib/python3.9/site-packages/urllib3/connectionpool.py\", line 699, in urlopen\n",
      "    httplib_response = self._make_request(\n",
      "  File \"/home/gabriel/miniconda3/envs/pt_nlp/lib/python3.9/site-packages/urllib3/connectionpool.py\", line 382, in _make_request\n",
      "    self._validate_conn(conn)\n",
      "  File \"/home/gabriel/miniconda3/envs/pt_nlp/lib/python3.9/site-packages/urllib3/connectionpool.py\", line 1010, in _validate_conn\n",
      "    conn.connect()\n",
      "  File \"/home/gabriel/miniconda3/envs/pt_nlp/lib/python3.9/site-packages/urllib3/connection.py\", line 416, in connect\n",
      "    self.sock = ssl_wrap_socket(\n",
      "  File \"/home/gabriel/miniconda3/envs/pt_nlp/lib/python3.9/site-packages/urllib3/util/ssl_.py\", line 449, in ssl_wrap_socket\n",
      "    ssl_sock = _ssl_wrap_socket_impl(\n",
      "  File \"/home/gabriel/miniconda3/envs/pt_nlp/lib/python3.9/site-packages/urllib3/util/ssl_.py\", line 493, in _ssl_wrap_socket_impl\n",
      "    return ssl_context.wrap_socket(sock, server_hostname=server_hostname)\n",
      "  File \"/home/gabriel/miniconda3/envs/pt_nlp/lib/python3.9/ssl.py\", line 500, in wrap_socket\n",
      "    return self.sslsocket_class._create(\n",
      "  File \"/home/gabriel/miniconda3/envs/pt_nlp/lib/python3.9/ssl.py\", line 1040, in _create\n",
      "    self.do_handshake()\n",
      "  File \"/home/gabriel/miniconda3/envs/pt_nlp/lib/python3.9/ssl.py\", line 1309, in do_handshake\n",
      "    self._sslobj.do_handshake()\n",
      "ConnectionResetError: [Errno 104] Connection reset by peer\n",
      "\n",
      "During handling of the above exception, another exception occurred:\n",
      "\n",
      "Traceback (most recent call last):\n",
      "  File \"/home/gabriel/miniconda3/envs/pt_nlp/lib/python3.9/site-packages/requests/adapters.py\", line 440, in send\n",
      "    resp = conn.urlopen(\n",
      "  File \"/home/gabriel/miniconda3/envs/pt_nlp/lib/python3.9/site-packages/urllib3/connectionpool.py\", line 755, in urlopen\n",
      "    retries = retries.increment(\n",
      "  File \"/home/gabriel/miniconda3/envs/pt_nlp/lib/python3.9/site-packages/urllib3/util/retry.py\", line 532, in increment\n",
      "    raise six.reraise(type(error), error, _stacktrace)\n",
      "  File \"/home/gabriel/miniconda3/envs/pt_nlp/lib/python3.9/site-packages/urllib3/packages/six.py\", line 769, in reraise\n",
      "    raise value.with_traceback(tb)\n",
      "  File \"/home/gabriel/miniconda3/envs/pt_nlp/lib/python3.9/site-packages/urllib3/connectionpool.py\", line 699, in urlopen\n",
      "    httplib_response = self._make_request(\n",
      "  File \"/home/gabriel/miniconda3/envs/pt_nlp/lib/python3.9/site-packages/urllib3/connectionpool.py\", line 382, in _make_request\n",
      "    self._validate_conn(conn)\n",
      "  File \"/home/gabriel/miniconda3/envs/pt_nlp/lib/python3.9/site-packages/urllib3/connectionpool.py\", line 1010, in _validate_conn\n",
      "    conn.connect()\n",
      "  File \"/home/gabriel/miniconda3/envs/pt_nlp/lib/python3.9/site-packages/urllib3/connection.py\", line 416, in connect\n",
      "    self.sock = ssl_wrap_socket(\n",
      "  File \"/home/gabriel/miniconda3/envs/pt_nlp/lib/python3.9/site-packages/urllib3/util/ssl_.py\", line 449, in ssl_wrap_socket\n",
      "    ssl_sock = _ssl_wrap_socket_impl(\n",
      "  File \"/home/gabriel/miniconda3/envs/pt_nlp/lib/python3.9/site-packages/urllib3/util/ssl_.py\", line 493, in _ssl_wrap_socket_impl\n",
      "    return ssl_context.wrap_socket(sock, server_hostname=server_hostname)\n",
      "  File \"/home/gabriel/miniconda3/envs/pt_nlp/lib/python3.9/ssl.py\", line 500, in wrap_socket\n",
      "    return self.sslsocket_class._create(\n",
      "  File \"/home/gabriel/miniconda3/envs/pt_nlp/lib/python3.9/ssl.py\", line 1040, in _create\n",
      "    self.do_handshake()\n",
      "  File \"/home/gabriel/miniconda3/envs/pt_nlp/lib/python3.9/ssl.py\", line 1309, in do_handshake\n",
      "    self._sslobj.do_handshake()\n",
      "urllib3.exceptions.ProtocolError: ('Connection aborted.', ConnectionResetError(104, 'Connection reset by peer'))\n",
      "\n",
      "During handling of the above exception, another exception occurred:\n",
      "\n",
      "Traceback (most recent call last):\n",
      "  File \"/tmp/ipykernel_6102/253839466.py\", line 10, in build_dataset\n",
      "    data = requests.get(url)\n",
      "  File \"/home/gabriel/miniconda3/envs/pt_nlp/lib/python3.9/site-packages/requests/api.py\", line 75, in get\n",
      "    return request('get', url, params=params, **kwargs)\n",
      "  File \"/home/gabriel/miniconda3/envs/pt_nlp/lib/python3.9/site-packages/requests/api.py\", line 61, in request\n",
      "    return session.request(method=method, url=url, **kwargs)\n",
      "  File \"/home/gabriel/miniconda3/envs/pt_nlp/lib/python3.9/site-packages/requests/sessions.py\", line 529, in request\n",
      "    resp = self.send(prep, **send_kwargs)\n",
      "  File \"/home/gabriel/miniconda3/envs/pt_nlp/lib/python3.9/site-packages/requests/sessions.py\", line 645, in send\n",
      "    r = adapter.send(request, **kwargs)\n",
      "  File \"/home/gabriel/miniconda3/envs/pt_nlp/lib/python3.9/site-packages/requests/adapters.py\", line 501, in send\n",
      "    raise ConnectionError(err, request=request)\n",
      "requests.exceptions.ConnectionError: ('Connection aborted.', ConnectionResetError(104, 'Connection reset by peer'))\n"
     ]
    }
   ],
   "source": [
    "def build_dataset(url_df, page_limit=None):\n",
    "\n",
    "    urls = url_df.values.squeeze().tolist()[:page_limit]\n",
    "    pages = []\n",
    "    \n",
    "    for url in urls:\n",
    "\n",
    "        try:\n",
    "\n",
    "            data = requests.get(url)\n",
    "            soup = BeautifulSoup(data.content, 'html.parser')\n",
    "            tags = soup.find_all()\n",
    "\n",
    "            text = []\n",
    "            blacklist = [\n",
    "                '[document]',\n",
    "                'noscript',\n",
    "                'header',\n",
    "                'html',\n",
    "                'meta',\n",
    "                'head',\n",
    "                'input',\n",
    "                'script',\n",
    "                'style',\n",
    "                'title'\n",
    "            ]\n",
    "\n",
    "            for t in tags:\n",
    "                if t.name not in blacklist and t.parent.name not in blacklist:\n",
    "                    clean_text = \" \".join(t.text.split())\n",
    "                    if len(clean_text) > 1:\n",
    "                        text.append(clean_text)\n",
    "\n",
    "            pages.append(text)\n",
    "\n",
    "        except Exception as e:\n",
    "            logging.exception(str(e))\n",
    "            pages.append(np.nan)\n",
    "\n",
    "    df = pd.DataFrame(columns=['raw_text'])\n",
    "    df['raw_text'] = pages\n",
    "    # df = df.replace(np.nan, '', regex=True)\n",
    "    return df\n",
    "\n",
    "url_df = pd.read_csv('furniture stores pages.csv')\n",
    "pages_df = build_dataset(url_df)#, page_limit=5)\n",
    "pages = pages_df['raw_text'].values.tolist()\n",
    "\n",
    "print(pages_df.shape)\n",
    "print(url_df.shape)\n",
    "\n",
    "del_lis = []\n",
    "for i in tqdm(range(len(pages)), desc='Pages Progress'):\n",
    "    if type(pages[i]) == str and len(pages[i]) < 10:\n",
    "        del_lis.append(i) \n",
    "\n",
    "nans = pages_df.loc[pd.isna(pages_df[\"raw_text\"]), :].index.tolist()\n",
    "del_lis = np.concatenate((del_lis, nans))\n",
    "\n",
    "pages_df.drop(del_lis, inplace=True)                         \n",
    "pages = pages_df['raw_text'].values.tolist()\n",
    "url_df.drop(del_lis, inplace=True)                         \n",
    "\n",
    "# pages_df.drop([30], inplace=True)                         \n",
    "# pages = pages_df['raw_text'].values.tolist()\n",
    "# url_df.drop([30], inplace=True)                         \n",
    "\n",
    "# # pages_df.drop(['Unnamed: 0'], axis=1, inplace=True)\n",
    "# pages_df.reset_index(drop=True, inplace=True)\n",
    "# url_df.reset_index(drop=True, inplace=True)\n",
    "\n",
    "pages_df.to_csv('pages_content.csv')\n",
    "url_df.to_csv('furniture stores pages.csv')\n",
    "\n",
    "print(pages_df.shape)\n",
    "print(url_df.shape)"
   ]
  },
  {
   "cell_type": "markdown",
   "id": "56b71d82",
   "metadata": {},
   "source": [
    "# READ PRODUCT ANNOTATIONS"
   ]
  },
  {
   "cell_type": "code",
   "execution_count": 175,
   "id": "4ae12bdb",
   "metadata": {},
   "outputs": [
    {
     "name": "stdout",
     "output_type": "stream",
     "text": [
      "['Factory Buys Euro Top Mattress - King', 'Neo Bed Frame Fabric - Charcoal Queen', 'Wooden Bed Frame Timber Base Bedroom Kids - Double', 'Factory Buys Euro Top Mattress - Double', 'Tiyo Bed Frame PU Leather Gas Lift Storage - White Queen', 'Cole LED Bed Frame Leather Gas Lift Storage Cole - Black Queen', 'Set of 2 Bedside Table Nightstands 2 Drawers Storage Cabinet Bedroom Side White', 'Factory Buys Euro Top Mattress - Queen', 'DreamZ 35CM Thickness Euro Top Egg Crate Foam Mattress - King', '6 Chest of Drawers Tallboy Dresser Table Storage Cabinet Oak Bedroom', 'LED RGB Bedside Tables Drawers High Gloss Nightstand Black', 'Bedside Tables 3 Drawers LED High Gloss White', 'Cole LED Bed Frame PU Leather Gas Lift Storage - White Double', 'Tallboy 6 Drawers Storage Cabinet White', 'Nino Bed Frame PU Leather - Black Queen', 'Bedside Tables Side Table RGB LED Lamp 3 Drawers Nightstand Gloss Black', 'Lumi LED Bed Frame Leather Gas Lift Storage - Black Queen', 'Lumi LED Bed Frame PU Leather Gas Lift Storage - White Queen', 'Wooden Bed Frame Full Size Base Timber Natural - King Single']\n",
      "\n",
      "\n",
      "['Beadlight Cirrus LED Reading Light', 'Atlantic Bulkhead Fitting Chrome', 'Atlantic Bulkhead Fitting Chrome Large', 'Atlantic Bulkhead Fitting Polished Brass', 'Atlantic Bulkhead Fitting Polished Brass Large']\n",
      "\n",
      "\n",
      "['HAMAR PLANT STAND - ASH', 'TROLLEY WITH 2 DRAWERS - ELM', 'FOREST SIDE CABINET - OAK OILED', 'FIKA BENCH - OAK CHARCOAL', 'ARNA BENCH WITH DRAWER - OAK OILED']\n",
      "\n",
      "\n",
      "['Oslo Office Chair - White', 'Single Hanging Egg Chair - Rattan Wicker Outdoor Furniture Cream', 'Single Hanging Egg Chair - Rattan Wicker Outdoor Furniture Black', 'XL Hanging Egg Chair - Rattan Wicker Outdoor Furniture Black', 'Replica Eames Style Oslo Roxy Padded Dining Chair - White/Natural']\n",
      "\n",
      "\n",
      "[]\n",
      "\n",
      "\n",
      "[]\n",
      "\n",
      "\n",
      "['INTERIORS ONLINE GIFT CARD', 'ADMIRAL TV UNIT DUSTY OAK', 'QUENTIN INDOOR/OUTDOOR DINING CHAIR BEIGE', 'QUENTIN INDOOR/OUTDOOR CHAIR GREY', 'DAHLIA INDOOR/OUTDOOR DINING TABLE TERRAZZO BLACK', 'INDAH CHAIR BLACK', 'INDAH CHAIR MUSTARD', 'ENZO SIDE TABLE TERRAZZO', 'RYAN SIDE TABLE MEDIUM', 'COCONUT SIDE TABLE']\n",
      "\n",
      "\n",
      "['American Oak Side Table', 'Anderson Chair', 'Angular Mango Wood Buffet (FLOOR STOCK CLEARANCE)', 'Antique Wood Lantern', 'Antoine de Praiteau Wall Clock 60 CM', 'Anton Throw With Pom Poms – Teal', 'Aqua And White Cotton Throw', 'Aqua Indian Style Cabinet 3 Drawers And 2 Doors SOLD We Can Source A Similar Piece', 'Aqua Storage/Blanket Box', 'Arab Candlestick', 'Arctic Console / Dining Table', 'Areca Palm Tree 1.8 M']\n",
      "\n",
      "\n",
      "['Workshop Table', 'Hext Bar Table', 'Linear Wood Table', 'Slab Table', 'Gaulino Table', 'Andoo Pull-Out Table', 'Breadstick Table', 'Belleville Square Bistro Table', 'Hext Table', 'Tube Dining Table', 'Linear Steel Cafe Table', 'Table', 'Cork Round Table', 'Explorer 4 Dining Table', 'Slab Dining Table', 'Band Dining Table', 'Guéridon Table', 'Belleville Bistro Table, Round', 'Hiroki Metal Table', 'Doubleframe Table', 'Rén Dining Table', '70/70 Table', 'Kant Table', 'Explorer 5 Dining Table']\n",
      "\n",
      "\n",
      "[]\n",
      "\n",
      "\n",
      "['The Layabout Suite', 'Playpen 6 Piece Modular Lounge', 'Bronte Right Chaise with sofabed in charcoal', \"Large Cozy Cuddle Chair with 360' Rotation In Sunlight Smoke\", 'Bronte left chaise with sofabed in grey', 'Bronte Left Hand Chaise WIth Bed in Charcoal', 'Tyler 6 Piece Recliner with right Chaise', 'Hermes Right Chaise with sofa bed', 'Cozy Cuddle Swivel Chair In Smoke Grey', 'Glenelg Sofabed Suite with right chaise', 'Cozy Cuddle Swivel Chair In Storm Grey', 'Montego Left Hand Chaise Sofa', \"Large Cozy Cuddle Chair with 360' Rotation In Storm Grey\"]\n",
      "\n",
      "\n",
      "[]\n",
      "\n",
      "\n",
      "[]\n",
      "\n",
      "\n",
      "['Florence Knoll', 'Florence Knoll Hairpin™ Stacking Table', 'Florence Knoll™ Bench', 'Florence Knoll™ Coffee and End Tables', 'Florence Knoll™ Credenza', 'Florence Knoll™ Dining Tables', 'Florence Knoll™ Executive Desk', 'Florence Knoll™ Lounge Chair', 'Florence Knoll™ Relaxed Benches', 'Florence Knoll™ Relaxed Lounge Chair', 'Florence Knoll™ Relaxed Sofa and Settee', 'Florence Knoll™ Sofa and Settee', 'Florence Knoll™ Table Desk', 'Florence Knoll™ Vertical Storage']\n",
      "\n",
      "\n",
      "[]\n",
      "\n",
      "\n",
      "['Samson Daybed Single', 'Our Single Daybed', 'Samson Day Bed', 'Kathie from the GC']\n",
      "\n",
      "\n",
      "['STRING WEAVE TIMBER STOOL', 'ADMIRALITY CARVER DINING CHAIR', 'ADMIRALITY DINING CHAIR', 'BATAVIA HIGH BACK CARVER DINING CHAIR', 'BATAVIA HIGH BACK DINING CHAIR', 'BIEDERMIER DINING CHAIR', 'BIOLA CARVER DINING CHAIR']\n",
      "\n",
      "\n",
      "[]\n",
      "\n",
      "\n",
      "['Gift Card', \"LINEN & ROOM SPRAY DONNA'S SIGNATURE SCENT\", \"TARTS DONNA'S SIGNATURE SCENT CANDLE\", \"SACHETS DONNA'S SIGNATURE SCENT\", \"13oz GLASS DONNA'S SIGNATURE SCENT\", \"BOX OF 12 ROUND VOTIVES DONNA'S SIGNATURE SCENT CANDLE\"]\n",
      "\n",
      "\n",
      "['KAISER BOX BED']\n",
      "\n",
      "\n",
      "['Hoyt Chair', 'Bel Air Chair', 'BELMONT CHAIR', 'Burnside Chair', 'Carlisle Chair', 'Catalina Chair', 'Charlie Chair', 'Cooper Chair', 'Fremont Chair', 'Gracie Chair', 'Gramercy Chair', 'Hawthorne Chair', 'Irving Chair', 'Lawson Chair', 'Lowe Chair', 'Quinn Chair', 'Sterling Chair', 'Taylor Chair', 'Verona Chair']\n",
      "\n",
      "\n",
      "['Nina Platinum Queen Bed by Vanguard', 'Classics 4.0 Sleigh Bed (Twin) – Smart Stuff', 'Classics 4.0 Panel Bed (Twin) – Smart Stuff', 'Bellamy Trellis Bed (Full) – Smart Stuff', '#myroom Panel Bed (Full) – Smart Stuff']\n",
      "\n",
      "\n",
      "['Amalfi 3 Door Credenza', 'Florence 2 Door Petite Credenza', 'Amalfi 1 Door 3 Drawer Credenza', 'Milan 2 Door 3 Drawer Credenza in Ash', 'Eden Rock 3 Door Credenza in Oiled Walnut']\n",
      "\n",
      "\n",
      "[]\n",
      "\n",
      "\n",
      "['CARL VICTORIAN-INSPIRED VELVET VANITY ACCENT STOOL', 'AMANDA XL MODERN VELVET OVERSIZED SECTIONAL SOFA', 'AMANDA MODERN VELVET LARGE SECTIONAL SOFA', 'NEMO CHEERY MODERN SOFT LINEN SLEEPER FUTON SOFA']\n",
      "\n",
      "\n",
      "[]\n",
      "\n",
      "\n",
      "['Mason Chair', 'Milano Thin Display Cabinet', 'Milano Low Display Cabinet', 'Milano Display Cabinet', 'Milano Sideboard', 'Milano Small Sideboard', 'Milano Large Sideboard', 'Milano 3dr Sideboard/Chest', 'Milano 2 Door Sideboard', 'Milano Single Sideboard', 'Milano Single Sideboard-Glass Door', 'Milano Large TV Unit', 'Milano TV Unit']\n",
      "\n",
      "\n",
      "['Yves desk', 'Joyce cabinet', 'Beata light small', 'Avery stacking stool', 'Avery dining chair']\n",
      "\n",
      "\n",
      "['Gift Voucher', 'Valet Bar Cart', 'Bowl Table - Natural', 'Revolver - Armchair - Seletti Wears Toiletpaper', 'Tearoom Club Chair']\n",
      "\n",
      "\n",
      "['Deluxe Cotton Rope Swing Chair', 'Deluxe Pillowtop Swing With Quick Dry Fabric - Red, White & Blue Stripe', 'Deluxe Pillowtop Swing With Quick Dry Fabric - Yellow Multicolor Stripe', 'Double Duracord Rope Curved Arm Swing - Green', 'Double Duracord Rope Curved Arm Swing - Oatmeal', 'Double Duracord Rope Curved Arm Swing - White', 'Double Duracord Rope Curved Arm Swing - Green', 'Double Duracord Rope Curved Arm Swing - Antique Brown', 'Double Duracord Rope Curved Arm Swing - Oatmeal', 'Double Duracord Rope Curved Arm Swing - White', 'Sunbrella Cushioned Single Swing - Expand Dove', 'Porch Swing', 'Deluxe Sunbrella Cushion Swing - Midori Indigo', 'Tufted Sunbrella Single Swing - Resonate Dune', 'Swing Chair', \"Children's South American Fabric Swing - Green\", 'Deluxe Pillowtop Swing With Quick Dry Fabric - Blue Dobby Weave', 'Deluxe Pillowtop Swing With Quick Dry Fabric - Tropical Print', 'Single Quick Dry Fabric Swing - Cocoa', 'Single Cushioned Swing - Fruit Punch', 'Single Cushioned Swing - Gray and Black Stripe', 'Single Quick Dry Fabric Swing with Eclectic Fringe - Natural', 'Single Cotton Rope Swing', 'Single Duracord Rope Swing - Green', 'Single Duracord Rope Swing - Antique Brown', 'Single Duracord Rope Swing - Oatmeal', 'Single Duracord Rope Swing - White', 'Sunbrella Cushioned Single Swing - Cast Laurel', 'Sunbrella Cushioned Single Swing - Trusted Coast', 'Sunbrella Cushioned Single Swing - Expand Citronelle', 'Sunbrella Cushioned Single Swing - Cove Pebble', 'Large Quilted Sunbrella Fabric Hammock - Antique Beige', 'Single Cushioned Swing - Rhodes Quartz', 'Tufted Sunbrella Cushioned Single Swing - Trusted Coast', 'Tufted Sunbrella Gateway Aspen Cushioned Single Swing', 'Tufted Sunbrella Cushioned Single Swing - Cove Pebble', 'Tufted Sunbrella Single Swing - Echo Limelight', 'Tufted Sunbrella Single Swing - Integrated Pewter', 'Tufted Sunbrella Single Swing - Kuna Sand', 'Tufted Sunbrella Single Swing - Pinnacle Fiesta', 'Tufted Sunbrella Single Swing - Create Smoke', 'Tufted Sunbrella Single Swing - Luxe Indigo', 'Tufted Sunbrella Single Swing - Platform Indigo', 'Tufted Single Swing - Echo Sangria', 'Tufted Sunbrella Single Swing - Adaption Apricot', 'Tufted Duracord Single Swing - Cardinal']\n",
      "\n",
      "\n",
      "['Sale Banner', 'Grand Opening Banner', 'Clearance SALE Banner Sign', 'Up To 70% Off Banner', 'Up To 50% Off Banner']\n",
      "\n",
      "\n",
      "['Adriatic Bed', 'Alice Bed', 'Amanzoi Bed', 'Argoni Bed', 'Canali Bed', 'Castiglione high headboard', 'Chateau Bed', 'Forma Bed', 'Garner King Bed', 'Geronimo Queen Bed', 'Grand Bed', 'Grazia Bed', 'Inestra Bed', 'Johan King Size', 'Madison Bed Queen']\n",
      "\n",
      "\n",
      "[]\n",
      "\n",
      "\n",
      "[]\n",
      "\n",
      "\n",
      "[]\n",
      "\n",
      "\n",
      "['Azara Platform Bed(Sable)', 'Antares Coffee Table', 'Antares Console Table', 'Antares End Table', 'Ascent Hi/Low Desk']\n",
      "\n",
      "\n",
      "[]\n",
      "\n",
      "\n",
      "[]\n",
      "\n",
      "\n",
      "[]\n",
      "\n",
      "\n",
      "['AARON RETRO SOFA', 'ARIELLE SWIVEL WALL SCONCE', 'ANOUK KING METAL HEADBOARD', 'ADRIENNE FULL SIZE TUFTED UPHOLSTERED PLATFORM BED', 'ODETTE 50\" ROUND PERFORMANCE ARTIFICIAL MARBLE DINING TABLE']\n",
      "\n",
      "\n",
      "['Carlo Dresser', 'Carlo Night Stand', 'Circles Wall Art', 'Ponte Console', 'Squadra Work Station', 'Nico 3 Door Console', 'Flat Bar', 'Lazy Susan 80 Inch', 'Finestra Mirror', 'Olio Mirror', 'Bar Cart by Glassisimo']\n",
      "\n",
      "\n",
      "['Playa bowl', 'Black Carillo Round Mirror', 'White Round Carillo Mirror']\n",
      "\n",
      "\n",
      "['ALF & BUD SIDE TABLES', 'Nibbe Table / Stool', \"COCHER DRINKER'S TABLE\", 'FLUTED BLOCK', 'PARTED BLOCK', '(COMPLETELY) IMPERFECT SIDE TABLE', '(PERFECT) SIDE TABLE', 'PIPPY OAK SIDE TABLE', 'BYRON SIDE TABLE', 'BOBBIN SIDE TABLE', 'BEETROOT PEDESTAL TABLE', 'BYRON (MINI) SIDE TABLE', 'POLYGON PEDESTAL SIDE TABLE', '(IMPERFECT) PEDESTAL TABLE', 'SIGNATURE ROUND DINING TABLE', 'POLYGON PEDESTAL DINING TABLE', 'PENINSULA ASH DINING TABLE', 'CAPSULE INGOT DINING TABLE', 'DEEP NORTH (WANEY) TABLES', 'BASTION DINING TABLE', 'NIBBE TABLE / STOOL', \"COCHER DRINKER'S TABLE\", 'FLUTED BLOCK', 'PARTED BLOCK', '(COMPLETELY) IMPERFECT SIDE TABLE', '(PERFECT) SIDE TABLE', 'PIPPY OAK SIDE TABLE', 'BYRON SIDE TABLE', 'BOBBIN SIDE TABLE', 'BEETROOT PEDESTAL TABLE', 'BYRON (MINI) SIDE TABLE', 'POLYGON PEDESTAL SIDE TABLE', '(IMPERFECT) PEDESTAL TABLE']\n",
      "\n",
      "\n",
      "['Solid Wood Enso Platform Bed Frame and Headboard', 'Sunrise Classic Platform Bed', 'Modern Apartment Side Table', 'Modern \"ONE\" Platform Bed: Handmade Mid Century Modern Bed', 'Modern Dresser']\n",
      "\n",
      "\n",
      "['ELIZA FAN']\n",
      "\n",
      "\n",
      "[]\n",
      "\n",
      "\n",
      "[]\n",
      "\n",
      "\n",
      "[]\n",
      "\n",
      "\n",
      "[]\n",
      "\n",
      "\n",
      "[]\n",
      "\n",
      "\n",
      "['GIFT CARD', 'ART PRINT | European Balcony by Blackhaus Studios', 'ART PRINT | Abode by Blackhaus Studios', 'ART PRINT | Mare and Foal by Blackhaus Studios', 'ART PRINT | High Tide by Blackhaus Studios']\n",
      "\n",
      "\n",
      "['Ariane 6 Drawer Chest', 'Niche Large Chest of Drawers', 'Niche Chest of 3 Drawers', 'Bone Inlay 3 Drawer Chest Floral White', 'Bone Inlay 2 Drawer Chest Geometric Design Black', 'Shalimar Mother Of Pearl Inlay 7 Drawer Chest Floral Gre', 'MOP Inlay 3 Drawer Side Cabinet Floral Blush', 'Firenza 6 Drawer Chest']\n",
      "\n",
      "\n",
      "['Australian Made Colonial Robe', 'COLONIAL WARDROBE SET', 'COLONIAL ROBE', 'COLONIAL 3 DOOR ROBE - WHITE', 'COLONIAL 3 DOOR ROBE']\n",
      "\n",
      "\n",
      "['2.5 Seater Colorado Power Recliner', '3 Seater Colorado Power Recliner', 'Adele Buffet', 'Adele Coffee Table', 'Adele Lamp Table', 'Adele TV Lowline', 'Adele: 7 piece dining Setting', 'Adele: Dining Chair']\n",
      "\n",
      "\n",
      "[]\n",
      "\n",
      "\n",
      "['Signature Hammock', 'Cotton Rope Hammock', 'The Chair Hammock']\n",
      "\n",
      "\n",
      "['Fish bricka']\n",
      "\n",
      "\n",
      "[]\n",
      "\n",
      "\n",
      "[]\n",
      "\n",
      "\n",
      "['Apex Study Table - W1200', 'Apex Study Table - W1500', 'Apex Study Table - W1800', 'Bingo Midback Office Chair', 'Boost Folding Seminar Table - W1200 (Nestable)', 'Boost Folding Seminar Table - W1500 (Nestable)', 'Boris Highback Office Chair', 'Boris Midback Office Chair', 'Butcher x Tito 1 Height Adjustable Table - W1200', 'Butcher x Tito 1 Height Adjustable Table - W1500', 'Butcher x Tito 1 Height Adjustable Table - W1800', 'Cabinet Planter Box', 'Comfort Acrylic Shield - W1200', 'Comfort Acrylic Shield - W600', 'Comfort Acrylic Shield - W900 + Access Hole', 'Dynamo Armchair w/ Castors (Nestable)', 'Dynamo Tablet Armchair w/ Castors (Nestable)', 'Dynamo Tablet Armchair w/ Fixed Glides (Nestable)', 'Edgar Study Table - W1000', 'Eloyd Midback Office Chair', 'Hancisco Armchair – Cantilevered', 'Jorca Highback Office Chair', 'Jorca Midback Office Chair', 'Kasa Midback Office Chair', 'Madeline Foldable Portable Table - W1500', 'Madeline Foldable Portable Table - W1800', 'Nico Sidechair', 'Pash Folding Seminar Table - W1800 (Nestable)', 'Rib L-Shaped Acoustic Screen', 'Tito 1-Sided Height Adjustable Table - W1200', 'Tito 1-Sided Height Adjustable Table - W1500', 'Tito 1-Sided Height Adjustable Table - W1800']\n",
      "\n",
      "\n",
      "['Wooster Convertible Crib']\n",
      "\n",
      "\n",
      "[]\n",
      "\n",
      "\n",
      "[]\n",
      "\n",
      "\n",
      "['The Hat', 'The Crew', 'The Tote', 'The Nalgene']\n",
      "\n",
      "\n",
      "['SECTIONAL + OTTOMAN CONVERTIBLE SLEEPER', 'SECTIONAL AND MATCHING OTTOMAN', 'DENTON SLEEPER SECTIONAL', 'COTTON BLENDED TUFTED SECTIONAL', 'DORRIS SECTIONAL', 'MODERN SECTIONAL SOFA']\n",
      "\n",
      "\n",
      "[]\n",
      "\n",
      "\n",
      "['Kitson Corner Sofa Bed – Various Colours Available', 'Brighton Velvet Sofa Bed – Various Colours Available', 'Nico Green Sofa Bed', 'Vogue Leather Sofa Bed']\n",
      "\n",
      "\n",
      "[]\n",
      "\n",
      "\n",
      "['SLEEP Mattress']\n",
      "\n",
      "\n",
      "[]\n",
      "\n",
      "\n",
      "['AVA 4.3 - 2 Sliding door wardrobe with LED Lights and the best separator shelf system >180x215cm<', 'Wardrobe Bunk Bed Sofa']\n",
      "\n",
      "\n",
      "[]\n",
      "\n",
      "\n",
      "['Tetrad Patna Chair']\n",
      "\n",
      "\n",
      "['Esme Natural Rattan Day Bed', 'Petal Rattan Bedhead', 'Olive Rattan Bedhead', 'Arched Natural Rattan Bedhead', 'Chloe Natural Rattan Bedhead']\n",
      "\n",
      "\n",
      "['Shabby Sectional Sofa', 'Nirvana Large Sectional Sofa', 'Nest Small Sectional Sofa', 'Nest Sectional Sofa', 'Nirvana Medium Sectional Sofa', 'Zenna Sectional Sofa', 'Scrambler Sectional Sofa', 'Oasis Sectional Sofa', 'Studio Sectional Sofa', 'Realm Sectional Sofa', 'Zenna Small Sectional Sofa', 'Shabby Curve Sofa']\n",
      "\n",
      "\n",
      "['Opal Shade', 'Fried Egg', 'Swing', 'Fried Egg', 'Herringbone Re-plast', 'Pebble Re-plast']\n",
      "\n",
      "\n",
      "['Pop Bench', 'Wooden Postcard', 'Beeswax Furniture Polish', 'Small Lampshade - several designs available', 'Medium Lampshade - several designs available']\n",
      "\n",
      "\n",
      "['MEMBERSHIP']\n",
      "\n",
      "\n",
      "[]\n",
      "\n",
      "\n",
      "[]\n",
      "\n",
      "\n",
      "[]\n",
      "\n",
      "\n",
      "[]\n",
      "\n",
      "\n",
      "['Country Trend Solid Oak TV Stand – 51″', 'Country Trend Solid Wood Oak TV Stand – 51″', 'Solid Oak Country Trend Open TV Stand w/Cabinet – 60″', 'Solid Oak Country Trend TV Stand w/Cabinet- 60″']\n",
      "\n",
      "\n",
      "[]\n",
      "\n",
      "\n",
      "['Unique Design Post Cards', 'Unique Post Cards', 'French Milled Soaps', 'Hand Printed Cards', 'Still Photography on White Seamless']\n",
      "\n",
      "\n",
      "['Guardsman Gold Complete Plus Plan']\n",
      "\n",
      "\n",
      "[]\n",
      "\n",
      "\n",
      "['Sarpaneva Cast Iron Casserole', 'Staub Tajine - .5 Qt', '3pc Cookware Set - John Pawson', 'Staub Fry Pan - Wooden Handle - 8\"']\n",
      "\n",
      "\n",
      "['Molloy Chair', 'Bell Pendant', 'NAU Scent 01', 'Bower Armchair', 'Bower Screen - Hex']\n",
      "\n",
      "\n",
      "[]\n",
      "\n",
      "\n",
      "['Tacoma Chest']\n",
      "\n",
      "\n",
      "[]\n",
      "\n",
      "\n",
      "['Toli Lamp Ø 20 cm EU Garden Green', 'Toli Lamp Ø 20 cm EU Pearl Grey', 'Toli Lamp Ø 42 cm EU Garden Green', 'Toli Lamp Ø 20 cm EU Parterre Brown', 'Toli Lamp Ø 42 cm EU Parterre Brown', 'Toli Lamp Ø 20 cm EU Garden Green', 'Toli Lamp Ø 42 cm EU Pearl Grey', 'Toli Lamp']\n",
      "\n",
      "\n",
      "[]\n",
      "\n",
      "\n",
      "['ALLWOOD FURNITURE']\n",
      "\n",
      "\n",
      "['GIFT CARDS']\n",
      "\n",
      "\n",
      "['Jack Leather and Wood Stool - Tan', 'Edmund Sconce - Black Walnut', 'Celeste Sconce - Dogwood - Hardwired', 'Calvin Cafe Table', 'Ava Wall Sconce - Tan - Plug', 'Celeste Sconce - Cloud Blue - Hardwired']\n",
      "\n",
      "\n",
      "[]\n",
      "\n",
      "\n",
      "['tip table lamp', 'meridian lamp', 'linear table lamp', 'k lamp', 'hebe lamp base small', 'hebe lamp base medium']\n",
      "\n",
      "\n",
      "['Big Cay Desk', 'Seat Cushion', 'Wilton Chair', 'Cokie Dining Chair - Painted', 'Nina Chair']\n",
      "\n",
      "\n",
      "[]\n",
      "\n",
      "\n",
      "[]\n",
      "\n",
      "\n",
      "[]\n",
      "\n",
      "\n",
      "[]\n",
      "\n",
      "\n",
      "[]\n",
      "\n",
      "\n",
      "[]\n",
      "\n",
      "\n",
      "['RIO - 5PC ULTRA MODERN WICKER PATIO SET', 'BORACAY - 3PC ULTRA MODERN WICKER PATIO SET', 'BLACK SERIES 3A - ULTRA MODERN WICKER PATIO SET', 'BLACK SERIES 5 - ULTRA MODERN WICKER PATIO SET', 'BALI - 6PC ULTRA MODERN WICKER PATIO SET']\n",
      "\n",
      "\n",
      "['Westlake Queen Storage Bed']\n",
      "\n",
      "\n",
      "['Lipa Barstool']\n",
      "\n",
      "\n",
      "[]\n",
      "\n",
      "\n",
      "[]\n",
      "\n",
      "\n",
      "[]\n",
      "\n",
      "\n",
      "['Piccolo Jug']\n",
      "\n",
      "\n",
      "[]\n",
      "\n",
      "\n",
      "['Winndom Berkeley III', 'Stockholm Recliner', 'Pearl Bookcase', 'Aurora Sideboard Entertainment Center', 'Fleming End Table']\n",
      "\n",
      "\n",
      "[]\n",
      "\n",
      "\n",
      "['The Lenox Collection Astral 2 Door and 5 Drawer Armoire', 'Platinum Collection 4 Door Wardrobe with 2 Mirror Doors', 'Dama Bianca White 4 Door Wardrobe 2 Mirror Doors', 'MCS Italy Luxury Collection 4 Door Wardrobe', 'Smart Wardrobe/Armoire/Closet, 100% Solid Wood', '2-Sliding Door Wardrobe/Closet/Armoire with 1 Shelf, 100% Solid Wood, Additional Shelves Sold Separately', '3-Sliding Door Wardrobe/Closet/Armoire with 1 Large, 4 Small Shelves, 100% Solid Wood, Additional Shelves Sold Separately', 'Flexible Wardrobe/Closet/Armoire with 1 drawer, 1 Shelf, Lock, 100% Solid Wood, Additional Shelves Sold Separately', 'Grand Wardrobe/Closet/Armoire, 2 Drawers, 4 Small Shelves, Lock, 100% Solid Wood, Additional Shelves Sold Separately', 'Petite Wardrobe/Armoire/Closet, 100% Solid Wood', 'Universal Wardrobe/Closet/Armoire with 1 Drawer, 2 Shelves, Lock, 100% Solid Wood, Additional Shelves Sold Separately', 'Optional Shelf for Smart Wardrobe, 100% Solid Wood', 'Set of 2 Shelves for Universal Wardrobe/Closet/Armoire, 100% Solid Wood', 'Shelf for 2- and 3-Sliding Door Wardrobes/Closets/Armoires, 100% Solid Wood', 'Shelf for Flexible, Grand and Petite Wardrobes/Closets/Armoires, 100% Solid Wood', '114JV Shoe Cabinet by BH Designs', '701JV Shoe Cabinet by BH Designs', '8555 Shoe Case by BH Designs', '8666 Shoe Case by BH Designs', 'L21 Custom 3 Door and 3 Drawer Wardrobe Closet by Central', 'The Ace Irbis Dark Oak Sliding Door Wardrobe SB 752A', 'The Ace Nota Sliding Door Warbrobe SB 425', 'The Ace Tais Sliding Door Wardrobe Closet Unit SB 380', 'The Ace Dziordzia SB040 Wardrobe Closet', 'The Ace Dziordzia SB 041 Wardrobe Closet', 'he Ace Dziordzia SB 074 Wardrobe Closet', 'The Ace Dziordzia SB 102 Wardrobe Closet', 'The Ace Irbis Makassar Sliding Wardrobe Closet SB 752B']\n",
      "\n",
      "\n",
      "['Muse', 'Bowie', 'Alva (Velvet)', 'Paloma', 'Alva (Linen Blend)']\n",
      "\n",
      "\n",
      "['Solid Oak Crown Spindle Bed']\n",
      "\n",
      "\n",
      "[]\n",
      "\n",
      "\n",
      "[]\n",
      "\n",
      "\n",
      "['Modica 6341 Desk', 'Sequel 6001 Desk', 'Sequel 6018 Peninsula', 'Sequel 6019 Corner Desk', 'Sequel 6051 Lift Desk', 'Sequel 6052 Lift Desk']\n",
      "\n",
      "\n",
      "[]\n",
      "\n",
      "\n",
      "123\n",
      "[]\n"
     ]
    }
   ],
   "source": [
    "with open(\"products.txt\", \"r\") as f:\n",
    "    lines = f.readlines()\n",
    "prods=[[]]\n",
    "# skip = False\n",
    "\n",
    "for line in lines:\n",
    "    line = line[:-1]\n",
    "#     if line == 'X':\n",
    "#         skip = True\n",
    "#         deleted = len(prods) - 1 # index where to delete url and html\n",
    "    if line == '':\n",
    "#         if skip:\n",
    "#             skip = False\n",
    "#         else:\n",
    "        prods.append([])\n",
    "    elif line != '_':\n",
    "        prods[-1].append(line)\n",
    "    \n",
    "print(len(prods))\n",
    "\n",
    "truths = []\n",
    "for i in range(len(prods)):\n",
    "    if prods[i] != []:\n",
    "        truth = False\n",
    "        for sent in ast.literal_eval(pages_df['raw_text'].iloc[i]):\n",
    "            for prod in prods[i]:\n",
    "                if prod.lower() in sent.lower():\n",
    "                    truth = True\n",
    "                    break\n",
    "            \n",
    "        truths.append(truth)\n",
    "                \n",
    "    else:\n",
    "        truths.append(True)\n",
    "\n",
    "        \n",
    "print(truths)\n",
    "\n",
    "\n",
    "print(len(truths))\n",
    "ti = [i for i,x in enumerate(truths) if x == False]\n",
    "print(len(ti))"
   ]
  },
  {
   "cell_type": "markdown",
   "id": "26895cbd",
   "metadata": {},
   "source": [
    "# CREATE FLAIR DATASET"
   ]
  },
  {
   "cell_type": "code",
   "execution_count": 384,
   "id": "9c32f166",
   "metadata": {},
   "outputs": [
    {
     "data": {
      "application/vnd.jupyter.widget-view+json": {
       "model_id": "a14b0ae88e2544afa0cf8c27862dcb94",
       "version_major": 2,
       "version_minor": 0
      },
      "text/plain": [
       "  0%|          | 0/103 [00:00<?, ?it/s]"
      ]
     },
     "metadata": {},
     "output_type": "display_data"
    },
    {
     "data": {
      "application/vnd.jupyter.widget-view+json": {
       "model_id": "fd76c52dcfcc45fe99a304ec8671b47c",
       "version_major": 2,
       "version_minor": 0
      },
      "text/plain": [
       "  0%|          | 0/10 [00:00<?, ?it/s]"
      ]
     },
     "metadata": {},
     "output_type": "display_data"
    },
    {
     "data": {
      "application/vnd.jupyter.widget-view+json": {
       "model_id": "05429a3368f142ceb9565a22d4cb26b0",
       "version_major": 2,
       "version_minor": 0
      },
      "text/plain": [
       "  0%|          | 0/10 [00:00<?, ?it/s]"
      ]
     },
     "metadata": {},
     "output_type": "display_data"
    }
   ],
   "source": [
    "from interval import interval\n",
    "\n",
    "def write_ds(pages, prods, f):\n",
    "    \n",
    "    pages = [ast.literal_eval(page) for page in pages]\n",
    "    \n",
    "    prods_idxs = []\n",
    "    for idx in range(len(prods)):\n",
    "        prods_idxs.append([])\n",
    "        \n",
    "        for sid, sent in enumerate(pages[idx]):\n",
    "            sent = sent.lower()\n",
    "            prods_idxs[idx].append([])\n",
    "            \n",
    "            for prod in prods[idx]:\n",
    "                prod = prod.lower()\n",
    "                \n",
    "                if prod in sent:\n",
    "                    prods_idxs[idx][sid].extend([\n",
    "                        [m.start(), m.end()]\n",
    "                        for m in re.finditer(prod, sent.strip())\n",
    "                    ])\n",
    "            prods_idxs[idx][sid] = interval(*sorted(prods_idxs[idx][sid], key=lambda tup: tup[0]))\n",
    "\n",
    "    for idx in tqdm(list(range(len(prods)))):\n",
    "        for sid, sent in enumerate(pages[idx]):\n",
    "            sent = Sentence(sent, use_tokenizer=True)\n",
    "\n",
    "            if not len(sent):\n",
    "                continue\n",
    "                \n",
    "            isChunk = False\n",
    "            \n",
    "            for word in sent[:min(len(sent), 512)]:\n",
    "                f.write(word.text)\n",
    "                \n",
    "                isProd = False\n",
    "                for prod_int in prods_idxs[idx][sid].components:\n",
    "                    if interval[word.start_position, word.end_position] in prod_int:\n",
    "                        isProd = True\n",
    "                        if isChunk:\n",
    "                            f.write(f' I-PRODUCT\\n')\n",
    "                            break\n",
    "                        else:\n",
    "                            f.write(f' B-PRODUCT\\n')\n",
    "                            isChunk = True\n",
    "                            break\n",
    "                if not isProd:\n",
    "                    f.write(f' O\\n')\n",
    "            f.write(f'\\n')\n",
    "    \n",
    "### total = 123\n",
    "tr_idx = 103\n",
    "ts_idx = 113\n",
    "dv_idx = 123\n",
    "\n",
    "with open('column_product_ds/train.txt', 'w') as f:\n",
    "    write_ds(pages_df['raw_text'].values.tolist()[:tr_idx], prods[:tr_idx], f)\n",
    "\n",
    "with open('column_product_ds/test.txt', 'w') as f:\n",
    "    write_ds(pages_df['raw_text'].values.tolist()[tr_idx:ts_idx], prods[tr_idx:ts_idx], f)\n",
    "\n",
    "with open('column_product_ds/dev.txt', 'w') as f:\n",
    "    write_ds(pages_df['raw_text'].values.tolist()[ts_idx:dv_idx], prods[ts_idx:dv_idx], f)"
   ]
  },
  {
   "cell_type": "markdown",
   "id": "af27a9ef",
   "metadata": {},
   "source": [
    "# FINE-TUNE MODEL"
   ]
  },
  {
   "cell_type": "code",
   "execution_count": null,
   "id": "cf6979be",
   "metadata": {},
   "outputs": [
    {
     "name": "stdout",
     "output_type": "stream",
     "text": [
      "2022-01-27 18:10:19,458 Reading data from column_product_ds\n",
      "2022-01-27 18:10:19,459 Train: column_product_ds/train.txt\n",
      "2022-01-27 18:10:19,459 Dev: column_product_ds/dev.txt\n",
      "2022-01-27 18:10:19,459 Test: column_product_ds/test.txt\n"
     ]
    },
    {
     "name": "stderr",
     "output_type": "stream",
     "text": [
      "/tmp/ipykernel_12997/3942681661.py:15: DeprecationWarning: Call to deprecated method make_tag_dictionary. (Use 'make_label_dictionary' instead.) -- Deprecated since version 0.8.\n",
      "  tag_dictionary = corpus.make_tag_dictionary(tag_type=tag_type)\n"
     ]
    },
    {
     "name": "stdout",
     "output_type": "stream",
     "text": [
      "2022-01-27 18:10:32,510 --------------------------------------------------------------------------------\n",
      "2022-01-27 18:10:32,511 The model key 'ner-ontonotes-fast' now maps to 'https://huggingface.co/flair/ner-english-ontonotes-fast' on the HuggingFace ModelHub\n",
      "2022-01-27 18:10:32,511  - The most current version of the model is automatically downloaded from there.\n",
      "2022-01-27 18:10:32,511  - (you can alternatively manually download the original model at https://nlp.informatik.hu-berlin.de/resources/models/ner-ontonotes-fast/en-ner-ontonotes-fast-v0.4.pt)\n",
      "2022-01-27 18:10:32,512 --------------------------------------------------------------------------------\n",
      "2022-01-27 18:10:33,094 loading file /home/gabriel/.flair/models/ner-english-ontonotes-fast/0d55dd3b912da9cf26e003035a0c269a0e9ab222f0be1e48a3bbba3a58c0fed0.c9907cd5fde3ce84b71a4172e7ca03841cd81ab71d13eb68aa08b259f57c00b6\n",
      "2022-01-27 18:10:37,724 ----------------------------------------------------------------------------------------------------\n",
      "2022-01-27 18:10:37,725 Model: \"SequenceTagger(\n",
      "  (embeddings): StackedEmbeddings(\n",
      "    (list_embedding_0): WordEmbeddings('en-crawl')\n",
      "    (list_embedding_1): FlairEmbeddings(\n",
      "      (lm): LanguageModel(\n",
      "        (drop): Dropout(p=0.25, inplace=False)\n",
      "        (encoder): Embedding(275, 100)\n",
      "        (rnn): LSTM(100, 1024)\n",
      "        (decoder): Linear(in_features=1024, out_features=275, bias=True)\n",
      "      )\n",
      "    )\n",
      "    (list_embedding_2): FlairEmbeddings(\n",
      "      (lm): LanguageModel(\n",
      "        (drop): Dropout(p=0.25, inplace=False)\n",
      "        (encoder): Embedding(275, 100)\n",
      "        (rnn): LSTM(100, 1024)\n",
      "        (decoder): Linear(in_features=1024, out_features=275, bias=True)\n",
      "      )\n",
      "    )\n",
      "  )\n",
      "  (word_dropout): WordDropout(p=0.05)\n",
      "  (locked_dropout): LockedDropout(p=0.5)\n",
      "  (embedding2nn): Linear(in_features=2348, out_features=2348, bias=True)\n",
      "  (rnn): LSTM(2348, 256, batch_first=True, bidirectional=True)\n",
      "  (linear): Linear(in_features=512, out_features=76, bias=True)\n",
      "  (beta): 1.0\n",
      "  (weights): None\n",
      "  (weight_tensor) None\n",
      ")\"\n",
      "2022-01-27 18:10:37,725 ----------------------------------------------------------------------------------------------------\n",
      "2022-01-27 18:10:37,726 Corpus: \"Corpus: 50097 train + 5171 dev + 2435 test sentences\"\n",
      "2022-01-27 18:10:37,726 ----------------------------------------------------------------------------------------------------\n",
      "2022-01-27 18:10:37,726 Parameters:\n",
      "2022-01-27 18:10:37,727  - learning_rate: \"5e-06\"\n",
      "2022-01-27 18:10:37,727  - mini_batch_size: \"32\"\n",
      "2022-01-27 18:10:37,727  - patience: \"3\"\n",
      "2022-01-27 18:10:37,727  - anneal_factor: \"0.5\"\n",
      "2022-01-27 18:10:37,728  - max_epochs: \"20\"\n",
      "2022-01-27 18:10:37,728  - shuffle: \"True\"\n",
      "2022-01-27 18:10:37,728  - train_with_dev: \"False\"\n",
      "2022-01-27 18:10:37,728  - batch_growth_annealing: \"False\"\n",
      "2022-01-27 18:10:37,729 ----------------------------------------------------------------------------------------------------\n",
      "2022-01-27 18:10:37,729 Model training base path: \"ner-fast-finetune\"\n",
      "2022-01-27 18:10:37,729 ----------------------------------------------------------------------------------------------------\n",
      "2022-01-27 18:10:37,730 Device: cuda:0\n",
      "2022-01-27 18:10:37,730 ----------------------------------------------------------------------------------------------------\n",
      "2022-01-27 18:10:37,730 Embeddings storage mode: none\n",
      "2022-01-27 18:10:37,732 ----------------------------------------------------------------------------------------------------\n"
     ]
    },
    {
     "name": "stderr",
     "output_type": "stream",
     "text": [
      "/home/gabriel/miniconda3/envs/pt_nlp/lib/python3.9/site-packages/flair/trainers/trainer.py:64: UserWarning: There should be no best model saved at epoch 1 except there is a model from previous trainings in your training folder. All previous best models will be deleted.\n",
      "  warnings.warn(\n"
     ]
    },
    {
     "name": "stdout",
     "output_type": "stream",
     "text": [
      "2022-01-27 18:12:06,325 epoch 1 - iter 164/1642 - loss 0.96114833 - samples/sec: 59.24 - lr: 0.000005\n",
      "2022-01-27 18:13:47,231 epoch 1 - iter 328/1642 - loss 0.80739986 - samples/sec: 52.01 - lr: 0.000005\n",
      "2022-01-27 18:15:09,026 epoch 1 - iter 492/1642 - loss 0.76780135 - samples/sec: 64.17 - lr: 0.000005\n",
      "2022-01-27 18:16:48,815 epoch 1 - iter 656/1642 - loss 0.70416525 - samples/sec: 52.60 - lr: 0.000005\n",
      "2022-01-27 18:18:10,921 epoch 1 - iter 820/1642 - loss 0.66448117 - samples/sec: 63.92 - lr: 0.000005\n",
      "2022-01-27 18:19:34,333 epoch 1 - iter 984/1642 - loss 0.64780077 - samples/sec: 62.92 - lr: 0.000005\n",
      "2022-01-27 18:21:00,304 epoch 1 - iter 1148/1642 - loss 0.60829611 - samples/sec: 61.05 - lr: 0.000005\n",
      "2022-01-27 18:22:16,729 epoch 1 - iter 1312/1642 - loss 0.60970756 - samples/sec: 68.68 - lr: 0.000005\n",
      "2022-01-27 18:23:43,705 epoch 1 - iter 1476/1642 - loss 0.58541074 - samples/sec: 60.34 - lr: 0.000005\n",
      "2022-01-27 18:25:20,997 epoch 1 - iter 1640/1642 - loss 0.56157045 - samples/sec: 53.95 - lr: 0.000005\n",
      "2022-01-27 18:25:21,385 ----------------------------------------------------------------------------------------------------\n",
      "2022-01-27 18:25:21,386 EPOCH 1 done: loss 0.5615 - lr 0.0000050\n",
      "2022-01-27 18:26:32,876 DEV : loss 0.40115898847579956 - f1-score (micro avg)  0.0034\n",
      "2022-01-27 18:26:32,894 BAD EPOCHS (no improvement): 4\n",
      "2022-01-27 18:26:32,895 saving best model\n",
      "2022-01-27 18:26:34,450 ----------------------------------------------------------------------------------------------------\n",
      "2022-01-27 18:28:04,551 epoch 2 - iter 164/1642 - loss 0.52872534 - samples/sec: 58.25 - lr: 0.000005\n",
      "2022-01-27 18:29:30,657 epoch 2 - iter 328/1642 - loss 0.53154180 - samples/sec: 60.96 - lr: 0.000005\n",
      "2022-01-27 18:30:59,431 epoch 2 - iter 492/1642 - loss 0.53857153 - samples/sec: 59.12 - lr: 0.000005\n",
      "2022-01-27 18:32:23,368 epoch 2 - iter 656/1642 - loss 0.54982368 - samples/sec: 62.53 - lr: 0.000005\n",
      "2022-01-27 18:33:54,621 epoch 2 - iter 820/1642 - loss 0.55277292 - samples/sec: 57.52 - lr: 0.000005\n",
      "2022-01-27 18:35:20,510 epoch 2 - iter 984/1642 - loss 0.54797646 - samples/sec: 61.11 - lr: 0.000005\n",
      "2022-01-27 18:36:46,301 epoch 2 - iter 1148/1642 - loss 0.55332626 - samples/sec: 61.18 - lr: 0.000005\n",
      "2022-01-27 18:38:08,862 epoch 2 - iter 1312/1642 - loss 0.54792769 - samples/sec: 63.57 - lr: 0.000005\n",
      "2022-01-27 18:39:38,483 epoch 2 - iter 1476/1642 - loss 0.54272842 - samples/sec: 58.57 - lr: 0.000005\n",
      "2022-01-27 18:41:06,609 epoch 2 - iter 1640/1642 - loss 0.54257336 - samples/sec: 59.56 - lr: 0.000005\n",
      "2022-01-27 18:41:07,904 ----------------------------------------------------------------------------------------------------\n",
      "2022-01-27 18:41:07,905 EPOCH 2 done: loss 0.5422 - lr 0.0000049\n",
      "2022-01-27 18:42:16,185 DEV : loss 0.39502403140068054 - f1-score (micro avg)  0.0035\n",
      "2022-01-27 18:42:16,204 BAD EPOCHS (no improvement): 4\n",
      "2022-01-27 18:42:16,205 saving best model\n",
      "2022-01-27 18:42:18,697 ----------------------------------------------------------------------------------------------------\n",
      "2022-01-27 18:43:43,390 epoch 3 - iter 164/1642 - loss 0.48268280 - samples/sec: 61.97 - lr: 0.000005\n",
      "2022-01-27 18:45:16,909 epoch 3 - iter 328/1642 - loss 0.53235487 - samples/sec: 56.12 - lr: 0.000005\n",
      "2022-01-27 18:46:44,519 epoch 3 - iter 492/1642 - loss 0.53446315 - samples/sec: 59.91 - lr: 0.000005\n",
      "2022-01-27 18:48:11,832 epoch 3 - iter 656/1642 - loss 0.55299251 - samples/sec: 60.11 - lr: 0.000005\n",
      "2022-01-27 18:49:38,873 epoch 3 - iter 820/1642 - loss 0.54518013 - samples/sec: 60.30 - lr: 0.000005\n",
      "2022-01-27 18:51:13,614 epoch 3 - iter 984/1642 - loss 0.53592969 - samples/sec: 55.40 - lr: 0.000005\n",
      "2022-01-27 18:52:44,164 epoch 3 - iter 1148/1642 - loss 0.53655269 - samples/sec: 57.96 - lr: 0.000005\n",
      "2022-01-27 18:54:16,456 epoch 3 - iter 1312/1642 - loss 0.53790964 - samples/sec: 56.87 - lr: 0.000005\n",
      "2022-01-27 18:55:49,359 epoch 3 - iter 1476/1642 - loss 0.53908560 - samples/sec: 56.50 - lr: 0.000005\n",
      "2022-01-27 18:57:17,201 epoch 3 - iter 1640/1642 - loss 0.54109235 - samples/sec: 59.75 - lr: 0.000005\n",
      "2022-01-27 18:57:17,721 ----------------------------------------------------------------------------------------------------\n",
      "2022-01-27 18:57:17,722 EPOCH 3 done: loss 0.5410 - lr 0.0000047\n",
      "2022-01-27 18:58:25,542 DEV : loss 0.3891996145248413 - f1-score (micro avg)  0.0035\n",
      "2022-01-27 18:58:25,560 BAD EPOCHS (no improvement): 4\n",
      "2022-01-27 18:58:25,561 saving best model\n",
      "2022-01-27 18:58:28,056 ----------------------------------------------------------------------------------------------------\n",
      "2022-01-27 18:59:54,651 epoch 4 - iter 164/1642 - loss 0.55880143 - samples/sec: 60.61 - lr: 0.000005\n",
      "2022-01-27 19:01:19,672 epoch 4 - iter 328/1642 - loss 0.53420563 - samples/sec: 61.73 - lr: 0.000005\n",
      "2022-01-27 19:02:51,461 epoch 4 - iter 492/1642 - loss 0.53495136 - samples/sec: 57.18 - lr: 0.000005\n",
      "2022-01-27 19:04:18,244 epoch 4 - iter 656/1642 - loss 0.53619398 - samples/sec: 60.48 - lr: 0.000005\n",
      "2022-01-27 19:05:38,604 epoch 4 - iter 820/1642 - loss 0.53903878 - samples/sec: 65.32 - lr: 0.000005\n",
      "2022-01-27 19:07:09,787 epoch 4 - iter 984/1642 - loss 0.54682181 - samples/sec: 57.56 - lr: 0.000005\n",
      "2022-01-27 19:08:33,614 epoch 4 - iter 1148/1642 - loss 0.54147340 - samples/sec: 62.61 - lr: 0.000005\n",
      "2022-01-27 19:10:02,370 epoch 4 - iter 1312/1642 - loss 0.53447541 - samples/sec: 59.14 - lr: 0.000005\n",
      "2022-01-27 19:11:31,965 epoch 4 - iter 1476/1642 - loss 0.53326230 - samples/sec: 58.58 - lr: 0.000005\n",
      "2022-01-27 19:13:03,163 epoch 4 - iter 1640/1642 - loss 0.53060654 - samples/sec: 57.55 - lr: 0.000004\n",
      "2022-01-27 19:13:04,196 ----------------------------------------------------------------------------------------------------\n",
      "2022-01-27 19:13:04,197 EPOCH 4 done: loss 0.5306 - lr 0.0000045\n",
      "2022-01-27 19:14:13,098 DEV : loss 0.3836733102798462 - f1-score (micro avg)  0.0036\n",
      "2022-01-27 19:14:13,116 BAD EPOCHS (no improvement): 4\n",
      "2022-01-27 19:14:13,117 saving best model\n",
      "2022-01-27 19:14:15,591 ----------------------------------------------------------------------------------------------------\n",
      "2022-01-27 19:15:43,139 epoch 5 - iter 164/1642 - loss 0.50357655 - samples/sec: 59.95 - lr: 0.000004\n",
      "2022-01-27 19:17:11,523 epoch 5 - iter 328/1642 - loss 0.51352245 - samples/sec: 59.38 - lr: 0.000004\n",
      "2022-01-27 19:18:41,867 epoch 5 - iter 492/1642 - loss 0.50073691 - samples/sec: 58.10 - lr: 0.000004\n",
      "2022-01-27 19:20:04,739 epoch 5 - iter 656/1642 - loss 0.50913396 - samples/sec: 63.34 - lr: 0.000004\n",
      "2022-01-27 19:21:32,762 epoch 5 - iter 820/1642 - loss 0.52251189 - samples/sec: 59.63 - lr: 0.000004\n",
      "2022-01-27 19:22:58,415 epoch 5 - iter 984/1642 - loss 0.52222900 - samples/sec: 61.28 - lr: 0.000004\n",
      "2022-01-27 19:24:25,601 epoch 5 - iter 1148/1642 - loss 0.52709924 - samples/sec: 60.20 - lr: 0.000004\n",
      "2022-01-27 19:25:59,845 epoch 5 - iter 1312/1642 - loss 0.52854015 - samples/sec: 55.69 - lr: 0.000004\n",
      "2022-01-27 19:27:29,806 epoch 5 - iter 1476/1642 - loss 0.52095134 - samples/sec: 58.34 - lr: 0.000004\n",
      "2022-01-27 19:28:58,199 epoch 5 - iter 1640/1642 - loss 0.51937328 - samples/sec: 59.38 - lr: 0.000004\n",
      "2022-01-27 19:28:58,621 ----------------------------------------------------------------------------------------------------\n",
      "2022-01-27 19:28:58,621 EPOCH 5 done: loss 0.5193 - lr 0.0000042\n",
      "2022-01-27 19:30:08,997 DEV : loss 0.3783837556838989 - f1-score (micro avg)  0.0037\n",
      "2022-01-27 19:30:09,016 BAD EPOCHS (no improvement): 4\n",
      "2022-01-27 19:30:09,017 saving best model\n",
      "2022-01-27 19:30:11,581 ----------------------------------------------------------------------------------------------------\n",
      "2022-01-27 19:31:36,208 epoch 6 - iter 164/1642 - loss 0.48834846 - samples/sec: 62.02 - lr: 0.000004\n",
      "2022-01-27 19:33:04,017 epoch 6 - iter 328/1642 - loss 0.50833311 - samples/sec: 59.77 - lr: 0.000004\n",
      "2022-01-27 19:34:35,370 epoch 6 - iter 492/1642 - loss 0.50073622 - samples/sec: 57.45 - lr: 0.000004\n",
      "2022-01-27 19:36:05,974 epoch 6 - iter 656/1642 - loss 0.51255534 - samples/sec: 57.93 - lr: 0.000004\n",
      "2022-01-27 19:37:40,604 epoch 6 - iter 820/1642 - loss 0.51018996 - samples/sec: 55.46 - lr: 0.000004\n",
      "2022-01-27 19:39:04,684 epoch 6 - iter 984/1642 - loss 0.51307322 - samples/sec: 62.43 - lr: 0.000004\n"
     ]
    },
    {
     "name": "stdout",
     "output_type": "stream",
     "text": [
      "2022-01-27 19:40:31,024 epoch 6 - iter 1148/1642 - loss 0.51237064 - samples/sec: 60.79 - lr: 0.000004\n",
      "2022-01-27 19:41:58,196 epoch 6 - iter 1312/1642 - loss 0.51155897 - samples/sec: 60.21 - lr: 0.000004\n",
      "2022-01-27 19:43:25,408 epoch 6 - iter 1476/1642 - loss 0.51329118 - samples/sec: 60.18 - lr: 0.000004\n",
      "2022-01-27 19:44:57,046 epoch 6 - iter 1640/1642 - loss 0.51538028 - samples/sec: 57.28 - lr: 0.000004\n",
      "2022-01-27 19:44:57,588 ----------------------------------------------------------------------------------------------------\n",
      "2022-01-27 19:44:57,588 EPOCH 6 done: loss 0.5155 - lr 0.0000039\n",
      "2022-01-27 19:46:06,172 DEV : loss 0.37335965037345886 - f1-score (micro avg)  0.0037\n",
      "2022-01-27 19:46:06,193 BAD EPOCHS (no improvement): 4\n",
      "2022-01-27 19:46:06,193 saving best model\n",
      "2022-01-27 19:46:08,705 ----------------------------------------------------------------------------------------------------\n",
      "2022-01-27 19:47:35,769 epoch 7 - iter 164/1642 - loss 0.48856077 - samples/sec: 60.29 - lr: 0.000004\n",
      "2022-01-27 19:49:04,144 epoch 7 - iter 328/1642 - loss 0.49860544 - samples/sec: 59.39 - lr: 0.000004\n"
     ]
    }
   ],
   "source": [
    "# 1. load the corpus (Ontonotes does not ship with Flair, you need to download and reformat into a column format yourself)\n",
    "columns = {0: \"text\", 1: \"ner\"}\n",
    "corpus: Corpus = ColumnCorpus(\n",
    "                \"column_product_ds\", columns,\n",
    "                train_file='train.txt',\n",
    "                test_file='test.txt',\n",
    "                dev_file='dev.txt'\n",
    "#                 tag_to_bioes=\"ner\"\n",
    "            )\n",
    "\n",
    "# 2. what tag do we want to predict?\n",
    "tag_type = 'ner'\n",
    "\n",
    "# 3. make the tag dictionary from the corpus\n",
    "tag_dictionary = corpus.make_tag_dictionary(tag_type=tag_type)\n",
    "\n",
    "# 4. initialize fine-tuneable transformer embeddings WITH document context\n",
    "# from flair.embeddings import TransformerWordEmbeddings\n",
    "\n",
    "# embeddings = TransformerWordEmbeddings(\n",
    "#     model='bert-base-uncased', #'xlm-roberta-large',\n",
    "#     layers=\"-1\",\n",
    "#     subtoken_pooling=\"first\",\n",
    "#     fine_tune=False,\n",
    "#     use_context=True,\n",
    "# )\n",
    "\n",
    "# 5. initialize bare-bones sequence tagger (no CRF, no RNN, no reprojection)\n",
    "# from flair.models import SequenceTagger\n",
    "\n",
    "# tagger = SequenceTagger(\n",
    "#     hidden_size=256,\n",
    "#     embeddings=embeddings,\n",
    "#     tag_dictionary=tag_dictionary,\n",
    "#     tag_type='ner',\n",
    "# #     use_crf=False,\n",
    "# #     use_rnn=False,\n",
    "# #     reproject_embeddings=False,\n",
    "# )\n",
    "tagger = SequenceTagger.load('ner-ontonotes-fast')  # ner-ontonotes-large\n",
    "tagger.embeddings.list_embedding_1.lm.document_delimiter = \"\\n\"\n",
    "tagger.embeddings.list_embedding_2.lm.document_delimiter = \"\\n\"\n",
    "# 6. initialize trainer\n",
    "trainer = ModelTrainer(tagger, corpus)  # , optimizer=torch.optim.AdamW)\n",
    "\n",
    "# 7. run training with XLM parameters (20 epochs, small LR)\n",
    "from torch.optim.lr_scheduler import OneCycleLR\n",
    "\n",
    "trainer.train('ner-fast-finetune',\n",
    "#               train_with_dev=True,\n",
    "              train_with_test=True,\n",
    "#               save_final_model=False,\n",
    "              learning_rate=5.0e-6,\n",
    "              mini_batch_size=32,\n",
    "              mini_batch_chunk_size=1,\n",
    "              max_epochs=20,\n",
    "              scheduler=OneCycleLR,\n",
    "              embeddings_storage_mode='none',\n",
    "              use_swa=True,\n",
    "              weight_decay=0.,\n",
    "              )"
   ]
  },
  {
   "cell_type": "markdown",
   "id": "b7fafc74",
   "metadata": {},
   "source": [
    "# TEST MODEL"
   ]
  },
  {
   "cell_type": "code",
   "execution_count": 19,
   "id": "1b91a1bb",
   "metadata": {},
   "outputs": [
    {
     "data": {
      "application/vnd.jupyter.widget-view+json": {
       "model_id": "2915580212484605916c97eb1d1e1a7f",
       "version_major": 2,
       "version_minor": 0
      },
      "text/plain": [
       "Pages Progress:   0%|          | 0/614 [00:00<?, ?it/s]"
      ]
     },
     "metadata": {},
     "output_type": "display_data"
    },
    {
     "data": {
      "application/vnd.jupyter.widget-view+json": {
       "model_id": "",
       "version_major": 2,
       "version_minor": 0
      },
      "text/plain": [
       "Sentences Progress:   0%|          | 0/20 [00:00<?, ?it/s]"
      ]
     },
     "metadata": {},
     "output_type": "display_data"
    },
    {
     "data": {
      "application/vnd.jupyter.widget-view+json": {
       "model_id": "",
       "version_major": 2,
       "version_minor": 0
      },
      "text/plain": [
       "Sentences Progress:   0%|          | 0/12 [00:00<?, ?it/s]"
      ]
     },
     "metadata": {},
     "output_type": "display_data"
    },
    {
     "data": {
      "application/vnd.jupyter.widget-view+json": {
       "model_id": "",
       "version_major": 2,
       "version_minor": 0
      },
      "text/plain": [
       "Sentences Progress:   0%|          | 0/20 [00:00<?, ?it/s]"
      ]
     },
     "metadata": {},
     "output_type": "display_data"
    },
    {
     "data": {
      "application/vnd.jupyter.widget-view+json": {
       "model_id": "",
       "version_major": 2,
       "version_minor": 0
      },
      "text/plain": [
       "Sentences Progress:   0%|          | 0/11 [00:00<?, ?it/s]"
      ]
     },
     "metadata": {},
     "output_type": "display_data"
    },
    {
     "data": {
      "application/vnd.jupyter.widget-view+json": {
       "model_id": "",
       "version_major": 2,
       "version_minor": 0
      },
      "text/plain": [
       "Sentences Progress:   0%|          | 0/6 [00:00<?, ?it/s]"
      ]
     },
     "metadata": {},
     "output_type": "display_data"
    },
    {
     "data": {
      "application/vnd.jupyter.widget-view+json": {
       "model_id": "",
       "version_major": 2,
       "version_minor": 0
      },
      "text/plain": [
       "Sentences Progress:   0%|          | 0/7 [00:00<?, ?it/s]"
      ]
     },
     "metadata": {},
     "output_type": "display_data"
    },
    {
     "data": {
      "application/vnd.jupyter.widget-view+json": {
       "model_id": "",
       "version_major": 2,
       "version_minor": 0
      },
      "text/plain": [
       "Sentences Progress:   0%|          | 0/26 [00:00<?, ?it/s]"
      ]
     },
     "metadata": {},
     "output_type": "display_data"
    },
    {
     "data": {
      "application/vnd.jupyter.widget-view+json": {
       "model_id": "",
       "version_major": 2,
       "version_minor": 0
      },
      "text/plain": [
       "Sentences Progress:   0%|          | 0/9 [00:00<?, ?it/s]"
      ]
     },
     "metadata": {},
     "output_type": "display_data"
    },
    {
     "data": {
      "application/vnd.jupyter.widget-view+json": {
       "model_id": "",
       "version_major": 2,
       "version_minor": 0
      },
      "text/plain": [
       "Sentences Progress:   0%|          | 0/25 [00:00<?, ?it/s]"
      ]
     },
     "metadata": {},
     "output_type": "display_data"
    },
    {
     "data": {
      "application/vnd.jupyter.widget-view+json": {
       "model_id": "",
       "version_major": 2,
       "version_minor": 0
      },
      "text/plain": [
       "Sentences Progress:   0%|          | 0/7 [00:00<?, ?it/s]"
      ]
     },
     "metadata": {},
     "output_type": "display_data"
    },
    {
     "data": {
      "application/vnd.jupyter.widget-view+json": {
       "model_id": "",
       "version_major": 2,
       "version_minor": 0
      },
      "text/plain": [
       "Sentences Progress:   0%|          | 0/9 [00:00<?, ?it/s]"
      ]
     },
     "metadata": {},
     "output_type": "display_data"
    },
    {
     "data": {
      "application/vnd.jupyter.widget-view+json": {
       "model_id": "",
       "version_major": 2,
       "version_minor": 0
      },
      "text/plain": [
       "Sentences Progress:   0%|          | 0/15 [00:00<?, ?it/s]"
      ]
     },
     "metadata": {},
     "output_type": "display_data"
    },
    {
     "data": {
      "application/vnd.jupyter.widget-view+json": {
       "model_id": "",
       "version_major": 2,
       "version_minor": 0
      },
      "text/plain": [
       "Sentences Progress:   0%|          | 0/2 [00:00<?, ?it/s]"
      ]
     },
     "metadata": {},
     "output_type": "display_data"
    },
    {
     "data": {
      "application/vnd.jupyter.widget-view+json": {
       "model_id": "",
       "version_major": 2,
       "version_minor": 0
      },
      "text/plain": [
       "Sentences Progress:   0%|          | 0/56 [00:00<?, ?it/s]"
      ]
     },
     "metadata": {},
     "output_type": "display_data"
    },
    {
     "data": {
      "application/vnd.jupyter.widget-view+json": {
       "model_id": "",
       "version_major": 2,
       "version_minor": 0
      },
      "text/plain": [
       "Sentences Progress:   0%|          | 0/1 [00:00<?, ?it/s]"
      ]
     },
     "metadata": {},
     "output_type": "display_data"
    },
    {
     "data": {
      "application/vnd.jupyter.widget-view+json": {
       "model_id": "",
       "version_major": 2,
       "version_minor": 0
      },
      "text/plain": [
       "Sentences Progress:   0%|          | 0/20 [00:00<?, ?it/s]"
      ]
     },
     "metadata": {},
     "output_type": "display_data"
    },
    {
     "data": {
      "application/vnd.jupyter.widget-view+json": {
       "model_id": "",
       "version_major": 2,
       "version_minor": 0
      },
      "text/plain": [
       "Sentences Progress:   0%|          | 0/14 [00:00<?, ?it/s]"
      ]
     },
     "metadata": {},
     "output_type": "display_data"
    },
    {
     "data": {
      "application/vnd.jupyter.widget-view+json": {
       "model_id": "",
       "version_major": 2,
       "version_minor": 0
      },
      "text/plain": [
       "Sentences Progress: 0it [00:00, ?it/s]"
      ]
     },
     "metadata": {},
     "output_type": "display_data"
    },
    {
     "data": {
      "application/vnd.jupyter.widget-view+json": {
       "model_id": "",
       "version_major": 2,
       "version_minor": 0
      },
      "text/plain": [
       "Sentences Progress:   0%|          | 0/10 [00:00<?, ?it/s]"
      ]
     },
     "metadata": {},
     "output_type": "display_data"
    },
    {
     "data": {
      "application/vnd.jupyter.widget-view+json": {
       "model_id": "",
       "version_major": 2,
       "version_minor": 0
      },
      "text/plain": [
       "Sentences Progress:   0%|          | 0/12 [00:00<?, ?it/s]"
      ]
     },
     "metadata": {},
     "output_type": "display_data"
    },
    {
     "data": {
      "application/vnd.jupyter.widget-view+json": {
       "model_id": "",
       "version_major": 2,
       "version_minor": 0
      },
      "text/plain": [
       "Sentences Progress:   0%|          | 0/14 [00:00<?, ?it/s]"
      ]
     },
     "metadata": {},
     "output_type": "display_data"
    },
    {
     "data": {
      "application/vnd.jupyter.widget-view+json": {
       "model_id": "",
       "version_major": 2,
       "version_minor": 0
      },
      "text/plain": [
       "Sentences Progress:   0%|          | 0/12 [00:00<?, ?it/s]"
      ]
     },
     "metadata": {},
     "output_type": "display_data"
    },
    {
     "data": {
      "application/vnd.jupyter.widget-view+json": {
       "model_id": "",
       "version_major": 2,
       "version_minor": 0
      },
      "text/plain": [
       "Sentences Progress:   0%|          | 0/12 [00:00<?, ?it/s]"
      ]
     },
     "metadata": {},
     "output_type": "display_data"
    },
    {
     "data": {
      "application/vnd.jupyter.widget-view+json": {
       "model_id": "",
       "version_major": 2,
       "version_minor": 0
      },
      "text/plain": [
       "Sentences Progress:   0%|          | 0/20 [00:00<?, ?it/s]"
      ]
     },
     "metadata": {},
     "output_type": "display_data"
    },
    {
     "data": {
      "application/vnd.jupyter.widget-view+json": {
       "model_id": "",
       "version_major": 2,
       "version_minor": 0
      },
      "text/plain": [
       "Sentences Progress:   0%|          | 0/13 [00:00<?, ?it/s]"
      ]
     },
     "metadata": {},
     "output_type": "display_data"
    },
    {
     "data": {
      "application/vnd.jupyter.widget-view+json": {
       "model_id": "",
       "version_major": 2,
       "version_minor": 0
      },
      "text/plain": [
       "Sentences Progress:   0%|          | 0/17 [00:00<?, ?it/s]"
      ]
     },
     "metadata": {},
     "output_type": "display_data"
    },
    {
     "data": {
      "application/vnd.jupyter.widget-view+json": {
       "model_id": "",
       "version_major": 2,
       "version_minor": 0
      },
      "text/plain": [
       "Sentences Progress:   0%|          | 0/13 [00:00<?, ?it/s]"
      ]
     },
     "metadata": {},
     "output_type": "display_data"
    },
    {
     "data": {
      "application/vnd.jupyter.widget-view+json": {
       "model_id": "",
       "version_major": 2,
       "version_minor": 0
      },
      "text/plain": [
       "Sentences Progress:   0%|          | 0/10 [00:00<?, ?it/s]"
      ]
     },
     "metadata": {},
     "output_type": "display_data"
    },
    {
     "data": {
      "application/vnd.jupyter.widget-view+json": {
       "model_id": "",
       "version_major": 2,
       "version_minor": 0
      },
      "text/plain": [
       "Sentences Progress:   0%|          | 0/11 [00:00<?, ?it/s]"
      ]
     },
     "metadata": {},
     "output_type": "display_data"
    },
    {
     "data": {
      "application/vnd.jupyter.widget-view+json": {
       "model_id": "",
       "version_major": 2,
       "version_minor": 0
      },
      "text/plain": [
       "Sentences Progress:   0%|          | 0/73 [00:00<?, ?it/s]"
      ]
     },
     "metadata": {},
     "output_type": "display_data"
    },
    {
     "data": {
      "application/vnd.jupyter.widget-view+json": {
       "model_id": "",
       "version_major": 2,
       "version_minor": 0
      },
      "text/plain": [
       "Sentences Progress:   0%|          | 0/7 [00:00<?, ?it/s]"
      ]
     },
     "metadata": {},
     "output_type": "display_data"
    },
    {
     "data": {
      "application/vnd.jupyter.widget-view+json": {
       "model_id": "",
       "version_major": 2,
       "version_minor": 0
      },
      "text/plain": [
       "Sentences Progress:   0%|          | 0/7 [00:00<?, ?it/s]"
      ]
     },
     "metadata": {},
     "output_type": "display_data"
    },
    {
     "data": {
      "application/vnd.jupyter.widget-view+json": {
       "model_id": "",
       "version_major": 2,
       "version_minor": 0
      },
      "text/plain": [
       "Sentences Progress:   0%|          | 0/4 [00:00<?, ?it/s]"
      ]
     },
     "metadata": {},
     "output_type": "display_data"
    },
    {
     "data": {
      "application/vnd.jupyter.widget-view+json": {
       "model_id": "",
       "version_major": 2,
       "version_minor": 0
      },
      "text/plain": [
       "Sentences Progress:   0%|          | 0/5 [00:00<?, ?it/s]"
      ]
     },
     "metadata": {},
     "output_type": "display_data"
    },
    {
     "data": {
      "application/vnd.jupyter.widget-view+json": {
       "model_id": "",
       "version_major": 2,
       "version_minor": 0
      },
      "text/plain": [
       "Sentences Progress:   0%|          | 0/1 [00:00<?, ?it/s]"
      ]
     },
     "metadata": {},
     "output_type": "display_data"
    },
    {
     "data": {
      "application/vnd.jupyter.widget-view+json": {
       "model_id": "",
       "version_major": 2,
       "version_minor": 0
      },
      "text/plain": [
       "Sentences Progress:   0%|          | 0/6 [00:00<?, ?it/s]"
      ]
     },
     "metadata": {},
     "output_type": "display_data"
    },
    {
     "data": {
      "application/vnd.jupyter.widget-view+json": {
       "model_id": "",
       "version_major": 2,
       "version_minor": 0
      },
      "text/plain": [
       "Sentences Progress:   0%|          | 0/5 [00:00<?, ?it/s]"
      ]
     },
     "metadata": {},
     "output_type": "display_data"
    },
    {
     "data": {
      "application/vnd.jupyter.widget-view+json": {
       "model_id": "",
       "version_major": 2,
       "version_minor": 0
      },
      "text/plain": [
       "Sentences Progress:   0%|          | 0/4 [00:00<?, ?it/s]"
      ]
     },
     "metadata": {},
     "output_type": "display_data"
    },
    {
     "data": {
      "application/vnd.jupyter.widget-view+json": {
       "model_id": "",
       "version_major": 2,
       "version_minor": 0
      },
      "text/plain": [
       "Sentences Progress:   0%|          | 0/4 [00:00<?, ?it/s]"
      ]
     },
     "metadata": {},
     "output_type": "display_data"
    },
    {
     "data": {
      "application/vnd.jupyter.widget-view+json": {
       "model_id": "",
       "version_major": 2,
       "version_minor": 0
      },
      "text/plain": [
       "Sentences Progress:   0%|          | 0/15 [00:00<?, ?it/s]"
      ]
     },
     "metadata": {},
     "output_type": "display_data"
    },
    {
     "data": {
      "application/vnd.jupyter.widget-view+json": {
       "model_id": "",
       "version_major": 2,
       "version_minor": 0
      },
      "text/plain": [
       "Sentences Progress:   0%|          | 0/8 [00:00<?, ?it/s]"
      ]
     },
     "metadata": {},
     "output_type": "display_data"
    },
    {
     "data": {
      "application/vnd.jupyter.widget-view+json": {
       "model_id": "",
       "version_major": 2,
       "version_minor": 0
      },
      "text/plain": [
       "Sentences Progress:   0%|          | 0/4 [00:00<?, ?it/s]"
      ]
     },
     "metadata": {},
     "output_type": "display_data"
    },
    {
     "data": {
      "application/vnd.jupyter.widget-view+json": {
       "model_id": "",
       "version_major": 2,
       "version_minor": 0
      },
      "text/plain": [
       "Sentences Progress:   0%|          | 0/5 [00:00<?, ?it/s]"
      ]
     },
     "metadata": {},
     "output_type": "display_data"
    },
    {
     "data": {
      "application/vnd.jupyter.widget-view+json": {
       "model_id": "",
       "version_major": 2,
       "version_minor": 0
      },
      "text/plain": [
       "Sentences Progress:   0%|          | 0/13 [00:00<?, ?it/s]"
      ]
     },
     "metadata": {},
     "output_type": "display_data"
    },
    {
     "data": {
      "application/vnd.jupyter.widget-view+json": {
       "model_id": "",
       "version_major": 2,
       "version_minor": 0
      },
      "text/plain": [
       "Sentences Progress:   0%|          | 0/13 [00:00<?, ?it/s]"
      ]
     },
     "metadata": {},
     "output_type": "display_data"
    },
    {
     "data": {
      "application/vnd.jupyter.widget-view+json": {
       "model_id": "",
       "version_major": 2,
       "version_minor": 0
      },
      "text/plain": [
       "Sentences Progress:   0%|          | 0/3 [00:00<?, ?it/s]"
      ]
     },
     "metadata": {},
     "output_type": "display_data"
    },
    {
     "data": {
      "application/vnd.jupyter.widget-view+json": {
       "model_id": "",
       "version_major": 2,
       "version_minor": 0
      },
      "text/plain": [
       "Sentences Progress:   0%|          | 0/6 [00:00<?, ?it/s]"
      ]
     },
     "metadata": {},
     "output_type": "display_data"
    },
    {
     "data": {
      "application/vnd.jupyter.widget-view+json": {
       "model_id": "",
       "version_major": 2,
       "version_minor": 0
      },
      "text/plain": [
       "Sentences Progress:   0%|          | 0/8 [00:00<?, ?it/s]"
      ]
     },
     "metadata": {},
     "output_type": "display_data"
    },
    {
     "data": {
      "application/vnd.jupyter.widget-view+json": {
       "model_id": "",
       "version_major": 2,
       "version_minor": 0
      },
      "text/plain": [
       "Sentences Progress:   0%|          | 0/28 [00:00<?, ?it/s]"
      ]
     },
     "metadata": {},
     "output_type": "display_data"
    },
    {
     "data": {
      "application/vnd.jupyter.widget-view+json": {
       "model_id": "",
       "version_major": 2,
       "version_minor": 0
      },
      "text/plain": [
       "Sentences Progress:   0%|          | 0/7 [00:00<?, ?it/s]"
      ]
     },
     "metadata": {},
     "output_type": "display_data"
    },
    {
     "data": {
      "application/vnd.jupyter.widget-view+json": {
       "model_id": "",
       "version_major": 2,
       "version_minor": 0
      },
      "text/plain": [
       "Sentences Progress:   0%|          | 0/33 [00:00<?, ?it/s]"
      ]
     },
     "metadata": {},
     "output_type": "display_data"
    },
    {
     "data": {
      "application/vnd.jupyter.widget-view+json": {
       "model_id": "",
       "version_major": 2,
       "version_minor": 0
      },
      "text/plain": [
       "Sentences Progress:   0%|          | 0/9 [00:00<?, ?it/s]"
      ]
     },
     "metadata": {},
     "output_type": "display_data"
    },
    {
     "data": {
      "application/vnd.jupyter.widget-view+json": {
       "model_id": "",
       "version_major": 2,
       "version_minor": 0
      },
      "text/plain": [
       "Sentences Progress:   0%|          | 0/9 [00:00<?, ?it/s]"
      ]
     },
     "metadata": {},
     "output_type": "display_data"
    },
    {
     "data": {
      "application/vnd.jupyter.widget-view+json": {
       "model_id": "",
       "version_major": 2,
       "version_minor": 0
      },
      "text/plain": [
       "Sentences Progress:   0%|          | 0/10 [00:00<?, ?it/s]"
      ]
     },
     "metadata": {},
     "output_type": "display_data"
    },
    {
     "data": {
      "application/vnd.jupyter.widget-view+json": {
       "model_id": "",
       "version_major": 2,
       "version_minor": 0
      },
      "text/plain": [
       "Sentences Progress:   0%|          | 0/13 [00:00<?, ?it/s]"
      ]
     },
     "metadata": {},
     "output_type": "display_data"
    },
    {
     "data": {
      "application/vnd.jupyter.widget-view+json": {
       "model_id": "",
       "version_major": 2,
       "version_minor": 0
      },
      "text/plain": [
       "Sentences Progress:   0%|          | 0/13 [00:00<?, ?it/s]"
      ]
     },
     "metadata": {},
     "output_type": "display_data"
    },
    {
     "data": {
      "application/vnd.jupyter.widget-view+json": {
       "model_id": "",
       "version_major": 2,
       "version_minor": 0
      },
      "text/plain": [
       "Sentences Progress:   0%|          | 0/14 [00:00<?, ?it/s]"
      ]
     },
     "metadata": {},
     "output_type": "display_data"
    },
    {
     "data": {
      "application/vnd.jupyter.widget-view+json": {
       "model_id": "",
       "version_major": 2,
       "version_minor": 0
      },
      "text/plain": [
       "Sentences Progress:   0%|          | 0/5 [00:00<?, ?it/s]"
      ]
     },
     "metadata": {},
     "output_type": "display_data"
    },
    {
     "data": {
      "application/vnd.jupyter.widget-view+json": {
       "model_id": "",
       "version_major": 2,
       "version_minor": 0
      },
      "text/plain": [
       "Sentences Progress:   0%|          | 0/1 [00:00<?, ?it/s]"
      ]
     },
     "metadata": {},
     "output_type": "display_data"
    },
    {
     "data": {
      "application/vnd.jupyter.widget-view+json": {
       "model_id": "",
       "version_major": 2,
       "version_minor": 0
      },
      "text/plain": [
       "Sentences Progress:   0%|          | 0/31 [00:00<?, ?it/s]"
      ]
     },
     "metadata": {},
     "output_type": "display_data"
    },
    {
     "data": {
      "application/vnd.jupyter.widget-view+json": {
       "model_id": "",
       "version_major": 2,
       "version_minor": 0
      },
      "text/plain": [
       "Sentences Progress:   0%|          | 0/6 [00:00<?, ?it/s]"
      ]
     },
     "metadata": {},
     "output_type": "display_data"
    },
    {
     "data": {
      "application/vnd.jupyter.widget-view+json": {
       "model_id": "",
       "version_major": 2,
       "version_minor": 0
      },
      "text/plain": [
       "Sentences Progress:   0%|          | 0/13 [00:00<?, ?it/s]"
      ]
     },
     "metadata": {},
     "output_type": "display_data"
    },
    {
     "data": {
      "application/vnd.jupyter.widget-view+json": {
       "model_id": "",
       "version_major": 2,
       "version_minor": 0
      },
      "text/plain": [
       "Sentences Progress:   0%|          | 0/11 [00:00<?, ?it/s]"
      ]
     },
     "metadata": {},
     "output_type": "display_data"
    },
    {
     "data": {
      "application/vnd.jupyter.widget-view+json": {
       "model_id": "",
       "version_major": 2,
       "version_minor": 0
      },
      "text/plain": [
       "Sentences Progress:   0%|          | 0/23 [00:00<?, ?it/s]"
      ]
     },
     "metadata": {},
     "output_type": "display_data"
    },
    {
     "data": {
      "application/vnd.jupyter.widget-view+json": {
       "model_id": "",
       "version_major": 2,
       "version_minor": 0
      },
      "text/plain": [
       "Sentences Progress:   0%|          | 0/5 [00:00<?, ?it/s]"
      ]
     },
     "metadata": {},
     "output_type": "display_data"
    },
    {
     "data": {
      "application/vnd.jupyter.widget-view+json": {
       "model_id": "",
       "version_major": 2,
       "version_minor": 0
      },
      "text/plain": [
       "Sentences Progress:   0%|          | 0/13 [00:00<?, ?it/s]"
      ]
     },
     "metadata": {},
     "output_type": "display_data"
    },
    {
     "data": {
      "application/vnd.jupyter.widget-view+json": {
       "model_id": "",
       "version_major": 2,
       "version_minor": 0
      },
      "text/plain": [
       "Sentences Progress:   0%|          | 0/23 [00:00<?, ?it/s]"
      ]
     },
     "metadata": {},
     "output_type": "display_data"
    },
    {
     "data": {
      "application/vnd.jupyter.widget-view+json": {
       "model_id": "",
       "version_major": 2,
       "version_minor": 0
      },
      "text/plain": [
       "Sentences Progress:   0%|          | 0/1 [00:00<?, ?it/s]"
      ]
     },
     "metadata": {},
     "output_type": "display_data"
    },
    {
     "data": {
      "application/vnd.jupyter.widget-view+json": {
       "model_id": "",
       "version_major": 2,
       "version_minor": 0
      },
      "text/plain": [
       "Sentences Progress:   0%|          | 0/30 [00:00<?, ?it/s]"
      ]
     },
     "metadata": {},
     "output_type": "display_data"
    },
    {
     "data": {
      "application/vnd.jupyter.widget-view+json": {
       "model_id": "",
       "version_major": 2,
       "version_minor": 0
      },
      "text/plain": [
       "Sentences Progress:   0%|          | 0/1 [00:00<?, ?it/s]"
      ]
     },
     "metadata": {},
     "output_type": "display_data"
    },
    {
     "data": {
      "application/vnd.jupyter.widget-view+json": {
       "model_id": "",
       "version_major": 2,
       "version_minor": 0
      },
      "text/plain": [
       "Sentences Progress:   0%|          | 0/17 [00:00<?, ?it/s]"
      ]
     },
     "metadata": {},
     "output_type": "display_data"
    },
    {
     "data": {
      "application/vnd.jupyter.widget-view+json": {
       "model_id": "",
       "version_major": 2,
       "version_minor": 0
      },
      "text/plain": [
       "Sentences Progress:   0%|          | 0/13 [00:00<?, ?it/s]"
      ]
     },
     "metadata": {},
     "output_type": "display_data"
    },
    {
     "data": {
      "application/vnd.jupyter.widget-view+json": {
       "model_id": "",
       "version_major": 2,
       "version_minor": 0
      },
      "text/plain": [
       "Sentences Progress:   0%|          | 0/6 [00:00<?, ?it/s]"
      ]
     },
     "metadata": {},
     "output_type": "display_data"
    },
    {
     "data": {
      "application/vnd.jupyter.widget-view+json": {
       "model_id": "",
       "version_major": 2,
       "version_minor": 0
      },
      "text/plain": [
       "Sentences Progress:   0%|          | 0/6 [00:00<?, ?it/s]"
      ]
     },
     "metadata": {},
     "output_type": "display_data"
    },
    {
     "data": {
      "application/vnd.jupyter.widget-view+json": {
       "model_id": "",
       "version_major": 2,
       "version_minor": 0
      },
      "text/plain": [
       "Sentences Progress:   0%|          | 0/21 [00:00<?, ?it/s]"
      ]
     },
     "metadata": {},
     "output_type": "display_data"
    },
    {
     "name": "stdout",
     "output_type": "stream",
     "text": [
      "Zenna\n",
      "Zenna\n"
     ]
    },
    {
     "data": {
      "application/vnd.jupyter.widget-view+json": {
       "model_id": "",
       "version_major": 2,
       "version_minor": 0
      },
      "text/plain": [
       "Sentences Progress:   0%|          | 0/17 [00:00<?, ?it/s]"
      ]
     },
     "metadata": {},
     "output_type": "display_data"
    },
    {
     "data": {
      "application/vnd.jupyter.widget-view+json": {
       "model_id": "",
       "version_major": 2,
       "version_minor": 0
      },
      "text/plain": [
       "Sentences Progress:   0%|          | 0/9 [00:00<?, ?it/s]"
      ]
     },
     "metadata": {},
     "output_type": "display_data"
    },
    {
     "data": {
      "application/vnd.jupyter.widget-view+json": {
       "model_id": "",
       "version_major": 2,
       "version_minor": 0
      },
      "text/plain": [
       "Sentences Progress:   0%|          | 0/10 [00:00<?, ?it/s]"
      ]
     },
     "metadata": {},
     "output_type": "display_data"
    },
    {
     "data": {
      "application/vnd.jupyter.widget-view+json": {
       "model_id": "",
       "version_major": 2,
       "version_minor": 0
      },
      "text/plain": [
       "Sentences Progress:   0%|          | 0/1 [00:00<?, ?it/s]"
      ]
     },
     "metadata": {},
     "output_type": "display_data"
    },
    {
     "data": {
      "application/vnd.jupyter.widget-view+json": {
       "model_id": "",
       "version_major": 2,
       "version_minor": 0
      },
      "text/plain": [
       "Sentences Progress: 0it [00:00, ?it/s]"
      ]
     },
     "metadata": {},
     "output_type": "display_data"
    },
    {
     "data": {
      "application/vnd.jupyter.widget-view+json": {
       "model_id": "",
       "version_major": 2,
       "version_minor": 0
      },
      "text/plain": [
       "Sentences Progress:   0%|          | 0/21 [00:00<?, ?it/s]"
      ]
     },
     "metadata": {},
     "output_type": "display_data"
    },
    {
     "data": {
      "application/vnd.jupyter.widget-view+json": {
       "model_id": "",
       "version_major": 2,
       "version_minor": 0
      },
      "text/plain": [
       "Sentences Progress:   0%|          | 0/1 [00:00<?, ?it/s]"
      ]
     },
     "metadata": {},
     "output_type": "display_data"
    },
    {
     "data": {
      "application/vnd.jupyter.widget-view+json": {
       "model_id": "",
       "version_major": 2,
       "version_minor": 0
      },
      "text/plain": [
       "Sentences Progress:   0%|          | 0/1 [00:00<?, ?it/s]"
      ]
     },
     "metadata": {},
     "output_type": "display_data"
    },
    {
     "data": {
      "application/vnd.jupyter.widget-view+json": {
       "model_id": "",
       "version_major": 2,
       "version_minor": 0
      },
      "text/plain": [
       "Sentences Progress:   0%|          | 0/16 [00:00<?, ?it/s]"
      ]
     },
     "metadata": {},
     "output_type": "display_data"
    },
    {
     "data": {
      "application/vnd.jupyter.widget-view+json": {
       "model_id": "",
       "version_major": 2,
       "version_minor": 0
      },
      "text/plain": [
       "Sentences Progress:   0%|          | 0/9 [00:00<?, ?it/s]"
      ]
     },
     "metadata": {},
     "output_type": "display_data"
    },
    {
     "data": {
      "application/vnd.jupyter.widget-view+json": {
       "model_id": "",
       "version_major": 2,
       "version_minor": 0
      },
      "text/plain": [
       "Sentences Progress:   0%|          | 0/7 [00:00<?, ?it/s]"
      ]
     },
     "metadata": {},
     "output_type": "display_data"
    },
    {
     "data": {
      "application/vnd.jupyter.widget-view+json": {
       "model_id": "",
       "version_major": 2,
       "version_minor": 0
      },
      "text/plain": [
       "Sentences Progress:   0%|          | 0/3 [00:00<?, ?it/s]"
      ]
     },
     "metadata": {},
     "output_type": "display_data"
    },
    {
     "data": {
      "application/vnd.jupyter.widget-view+json": {
       "model_id": "",
       "version_major": 2,
       "version_minor": 0
      },
      "text/plain": [
       "Sentences Progress:   0%|          | 0/25 [00:00<?, ?it/s]"
      ]
     },
     "metadata": {},
     "output_type": "display_data"
    },
    {
     "data": {
      "application/vnd.jupyter.widget-view+json": {
       "model_id": "",
       "version_major": 2,
       "version_minor": 0
      },
      "text/plain": [
       "Sentences Progress:   0%|          | 0/19 [00:00<?, ?it/s]"
      ]
     },
     "metadata": {},
     "output_type": "display_data"
    },
    {
     "data": {
      "application/vnd.jupyter.widget-view+json": {
       "model_id": "",
       "version_major": 2,
       "version_minor": 0
      },
      "text/plain": [
       "Sentences Progress:   0%|          | 0/10 [00:00<?, ?it/s]"
      ]
     },
     "metadata": {},
     "output_type": "display_data"
    },
    {
     "data": {
      "application/vnd.jupyter.widget-view+json": {
       "model_id": "",
       "version_major": 2,
       "version_minor": 0
      },
      "text/plain": [
       "Sentences Progress:   0%|          | 0/80 [00:00<?, ?it/s]"
      ]
     },
     "metadata": {},
     "output_type": "display_data"
    },
    {
     "data": {
      "application/vnd.jupyter.widget-view+json": {
       "model_id": "",
       "version_major": 2,
       "version_minor": 0
      },
      "text/plain": [
       "Sentences Progress:   0%|          | 0/6 [00:00<?, ?it/s]"
      ]
     },
     "metadata": {},
     "output_type": "display_data"
    },
    {
     "data": {
      "application/vnd.jupyter.widget-view+json": {
       "model_id": "",
       "version_major": 2,
       "version_minor": 0
      },
      "text/plain": [
       "Sentences Progress:   0%|          | 0/22 [00:00<?, ?it/s]"
      ]
     },
     "metadata": {},
     "output_type": "display_data"
    },
    {
     "data": {
      "application/vnd.jupyter.widget-view+json": {
       "model_id": "",
       "version_major": 2,
       "version_minor": 0
      },
      "text/plain": [
       "Sentences Progress:   0%|          | 0/8 [00:00<?, ?it/s]"
      ]
     },
     "metadata": {},
     "output_type": "display_data"
    },
    {
     "data": {
      "application/vnd.jupyter.widget-view+json": {
       "model_id": "",
       "version_major": 2,
       "version_minor": 0
      },
      "text/plain": [
       "Sentences Progress:   0%|          | 0/3 [00:00<?, ?it/s]"
      ]
     },
     "metadata": {},
     "output_type": "display_data"
    },
    {
     "data": {
      "application/vnd.jupyter.widget-view+json": {
       "model_id": "",
       "version_major": 2,
       "version_minor": 0
      },
      "text/plain": [
       "Sentences Progress:   0%|          | 0/10 [00:00<?, ?it/s]"
      ]
     },
     "metadata": {},
     "output_type": "display_data"
    },
    {
     "data": {
      "application/vnd.jupyter.widget-view+json": {
       "model_id": "",
       "version_major": 2,
       "version_minor": 0
      },
      "text/plain": [
       "Sentences Progress:   0%|          | 0/12 [00:00<?, ?it/s]"
      ]
     },
     "metadata": {},
     "output_type": "display_data"
    },
    {
     "data": {
      "application/vnd.jupyter.widget-view+json": {
       "model_id": "",
       "version_major": 2,
       "version_minor": 0
      },
      "text/plain": [
       "Sentences Progress:   0%|          | 0/4 [00:00<?, ?it/s]"
      ]
     },
     "metadata": {},
     "output_type": "display_data"
    },
    {
     "data": {
      "application/vnd.jupyter.widget-view+json": {
       "model_id": "",
       "version_major": 2,
       "version_minor": 0
      },
      "text/plain": [
       "Sentences Progress:   0%|          | 0/41 [00:00<?, ?it/s]"
      ]
     },
     "metadata": {},
     "output_type": "display_data"
    },
    {
     "data": {
      "application/vnd.jupyter.widget-view+json": {
       "model_id": "",
       "version_major": 2,
       "version_minor": 0
      },
      "text/plain": [
       "Sentences Progress:   0%|          | 0/14 [00:00<?, ?it/s]"
      ]
     },
     "metadata": {},
     "output_type": "display_data"
    },
    {
     "data": {
      "application/vnd.jupyter.widget-view+json": {
       "model_id": "",
       "version_major": 2,
       "version_minor": 0
      },
      "text/plain": [
       "Sentences Progress:   0%|          | 0/7 [00:00<?, ?it/s]"
      ]
     },
     "metadata": {},
     "output_type": "display_data"
    },
    {
     "data": {
      "application/vnd.jupyter.widget-view+json": {
       "model_id": "",
       "version_major": 2,
       "version_minor": 0
      },
      "text/plain": [
       "Sentences Progress:   0%|          | 0/5 [00:00<?, ?it/s]"
      ]
     },
     "metadata": {},
     "output_type": "display_data"
    },
    {
     "data": {
      "application/vnd.jupyter.widget-view+json": {
       "model_id": "",
       "version_major": 2,
       "version_minor": 0
      },
      "text/plain": [
       "Sentences Progress:   0%|          | 0/1 [00:00<?, ?it/s]"
      ]
     },
     "metadata": {},
     "output_type": "display_data"
    },
    {
     "data": {
      "application/vnd.jupyter.widget-view+json": {
       "model_id": "",
       "version_major": 2,
       "version_minor": 0
      },
      "text/plain": [
       "Sentences Progress:   0%|          | 0/8 [00:00<?, ?it/s]"
      ]
     },
     "metadata": {},
     "output_type": "display_data"
    },
    {
     "data": {
      "application/vnd.jupyter.widget-view+json": {
       "model_id": "",
       "version_major": 2,
       "version_minor": 0
      },
      "text/plain": [
       "Sentences Progress:   0%|          | 0/10 [00:00<?, ?it/s]"
      ]
     },
     "metadata": {},
     "output_type": "display_data"
    },
    {
     "data": {
      "application/vnd.jupyter.widget-view+json": {
       "model_id": "",
       "version_major": 2,
       "version_minor": 0
      },
      "text/plain": [
       "Sentences Progress:   0%|          | 0/5 [00:00<?, ?it/s]"
      ]
     },
     "metadata": {},
     "output_type": "display_data"
    },
    {
     "data": {
      "application/vnd.jupyter.widget-view+json": {
       "model_id": "",
       "version_major": 2,
       "version_minor": 0
      },
      "text/plain": [
       "Sentences Progress:   0%|          | 0/7 [00:00<?, ?it/s]"
      ]
     },
     "metadata": {},
     "output_type": "display_data"
    },
    {
     "data": {
      "application/vnd.jupyter.widget-view+json": {
       "model_id": "",
       "version_major": 2,
       "version_minor": 0
      },
      "text/plain": [
       "Sentences Progress:   0%|          | 0/5 [00:00<?, ?it/s]"
      ]
     },
     "metadata": {},
     "output_type": "display_data"
    },
    {
     "data": {
      "application/vnd.jupyter.widget-view+json": {
       "model_id": "",
       "version_major": 2,
       "version_minor": 0
      },
      "text/plain": [
       "Sentences Progress:   0%|          | 0/19 [00:00<?, ?it/s]"
      ]
     },
     "metadata": {},
     "output_type": "display_data"
    },
    {
     "data": {
      "application/vnd.jupyter.widget-view+json": {
       "model_id": "",
       "version_major": 2,
       "version_minor": 0
      },
      "text/plain": [
       "Sentences Progress:   0%|          | 0/1 [00:00<?, ?it/s]"
      ]
     },
     "metadata": {},
     "output_type": "display_data"
    },
    {
     "data": {
      "application/vnd.jupyter.widget-view+json": {
       "model_id": "",
       "version_major": 2,
       "version_minor": 0
      },
      "text/plain": [
       "Sentences Progress:   0%|          | 0/3 [00:00<?, ?it/s]"
      ]
     },
     "metadata": {},
     "output_type": "display_data"
    },
    {
     "data": {
      "application/vnd.jupyter.widget-view+json": {
       "model_id": "",
       "version_major": 2,
       "version_minor": 0
      },
      "text/plain": [
       "Sentences Progress:   0%|          | 0/1 [00:00<?, ?it/s]"
      ]
     },
     "metadata": {},
     "output_type": "display_data"
    },
    {
     "data": {
      "application/vnd.jupyter.widget-view+json": {
       "model_id": "",
       "version_major": 2,
       "version_minor": 0
      },
      "text/plain": [
       "Sentences Progress:   0%|          | 0/7 [00:00<?, ?it/s]"
      ]
     },
     "metadata": {},
     "output_type": "display_data"
    },
    {
     "data": {
      "application/vnd.jupyter.widget-view+json": {
       "model_id": "",
       "version_major": 2,
       "version_minor": 0
      },
      "text/plain": [
       "Sentences Progress:   0%|          | 0/23 [00:00<?, ?it/s]"
      ]
     },
     "metadata": {},
     "output_type": "display_data"
    },
    {
     "data": {
      "application/vnd.jupyter.widget-view+json": {
       "model_id": "",
       "version_major": 2,
       "version_minor": 0
      },
      "text/plain": [
       "Sentences Progress:   0%|          | 0/4 [00:00<?, ?it/s]"
      ]
     },
     "metadata": {},
     "output_type": "display_data"
    },
    {
     "data": {
      "application/vnd.jupyter.widget-view+json": {
       "model_id": "",
       "version_major": 2,
       "version_minor": 0
      },
      "text/plain": [
       "Sentences Progress:   0%|          | 0/21 [00:00<?, ?it/s]"
      ]
     },
     "metadata": {},
     "output_type": "display_data"
    },
    {
     "data": {
      "application/vnd.jupyter.widget-view+json": {
       "model_id": "",
       "version_major": 2,
       "version_minor": 0
      },
      "text/plain": [
       "Sentences Progress:   0%|          | 0/81 [00:00<?, ?it/s]"
      ]
     },
     "metadata": {},
     "output_type": "display_data"
    },
    {
     "data": {
      "application/vnd.jupyter.widget-view+json": {
       "model_id": "",
       "version_major": 2,
       "version_minor": 0
      },
      "text/plain": [
       "Sentences Progress:   0%|          | 0/10 [00:00<?, ?it/s]"
      ]
     },
     "metadata": {},
     "output_type": "display_data"
    },
    {
     "data": {
      "application/vnd.jupyter.widget-view+json": {
       "model_id": "",
       "version_major": 2,
       "version_minor": 0
      },
      "text/plain": [
       "Sentences Progress:   0%|          | 0/2 [00:00<?, ?it/s]"
      ]
     },
     "metadata": {},
     "output_type": "display_data"
    },
    {
     "data": {
      "application/vnd.jupyter.widget-view+json": {
       "model_id": "",
       "version_major": 2,
       "version_minor": 0
      },
      "text/plain": [
       "Sentences Progress:   0%|          | 0/12 [00:00<?, ?it/s]"
      ]
     },
     "metadata": {},
     "output_type": "display_data"
    },
    {
     "data": {
      "application/vnd.jupyter.widget-view+json": {
       "model_id": "",
       "version_major": 2,
       "version_minor": 0
      },
      "text/plain": [
       "Sentences Progress:   0%|          | 0/1 [00:00<?, ?it/s]"
      ]
     },
     "metadata": {},
     "output_type": "display_data"
    },
    {
     "data": {
      "application/vnd.jupyter.widget-view+json": {
       "model_id": "",
       "version_major": 2,
       "version_minor": 0
      },
      "text/plain": [
       "Sentences Progress:   0%|          | 0/13 [00:00<?, ?it/s]"
      ]
     },
     "metadata": {},
     "output_type": "display_data"
    },
    {
     "data": {
      "application/vnd.jupyter.widget-view+json": {
       "model_id": "",
       "version_major": 2,
       "version_minor": 0
      },
      "text/plain": [
       "Sentences Progress:   0%|          | 0/9 [00:00<?, ?it/s]"
      ]
     },
     "metadata": {},
     "output_type": "display_data"
    },
    {
     "data": {
      "application/vnd.jupyter.widget-view+json": {
       "model_id": "",
       "version_major": 2,
       "version_minor": 0
      },
      "text/plain": [
       "Sentences Progress:   0%|          | 0/6 [00:00<?, ?it/s]"
      ]
     },
     "metadata": {},
     "output_type": "display_data"
    },
    {
     "data": {
      "application/vnd.jupyter.widget-view+json": {
       "model_id": "",
       "version_major": 2,
       "version_minor": 0
      },
      "text/plain": [
       "Sentences Progress:   0%|          | 0/43 [00:00<?, ?it/s]"
      ]
     },
     "metadata": {},
     "output_type": "display_data"
    },
    {
     "data": {
      "application/vnd.jupyter.widget-view+json": {
       "model_id": "",
       "version_major": 2,
       "version_minor": 0
      },
      "text/plain": [
       "Sentences Progress:   0%|          | 0/10 [00:00<?, ?it/s]"
      ]
     },
     "metadata": {},
     "output_type": "display_data"
    },
    {
     "data": {
      "application/vnd.jupyter.widget-view+json": {
       "model_id": "",
       "version_major": 2,
       "version_minor": 0
      },
      "text/plain": [
       "Sentences Progress:   0%|          | 0/9 [00:00<?, ?it/s]"
      ]
     },
     "metadata": {},
     "output_type": "display_data"
    },
    {
     "data": {
      "application/vnd.jupyter.widget-view+json": {
       "model_id": "",
       "version_major": 2,
       "version_minor": 0
      },
      "text/plain": [
       "Sentences Progress:   0%|          | 0/13 [00:00<?, ?it/s]"
      ]
     },
     "metadata": {},
     "output_type": "display_data"
    },
    {
     "data": {
      "application/vnd.jupyter.widget-view+json": {
       "model_id": "",
       "version_major": 2,
       "version_minor": 0
      },
      "text/plain": [
       "Sentences Progress:   0%|          | 0/37 [00:00<?, ?it/s]"
      ]
     },
     "metadata": {},
     "output_type": "display_data"
    },
    {
     "data": {
      "application/vnd.jupyter.widget-view+json": {
       "model_id": "",
       "version_major": 2,
       "version_minor": 0
      },
      "text/plain": [
       "Sentences Progress:   0%|          | 0/10 [00:00<?, ?it/s]"
      ]
     },
     "metadata": {},
     "output_type": "display_data"
    },
    {
     "data": {
      "application/vnd.jupyter.widget-view+json": {
       "model_id": "",
       "version_major": 2,
       "version_minor": 0
      },
      "text/plain": [
       "Sentences Progress:   0%|          | 0/14 [00:00<?, ?it/s]"
      ]
     },
     "metadata": {},
     "output_type": "display_data"
    },
    {
     "data": {
      "application/vnd.jupyter.widget-view+json": {
       "model_id": "",
       "version_major": 2,
       "version_minor": 0
      },
      "text/plain": [
       "Sentences Progress:   0%|          | 0/18 [00:00<?, ?it/s]"
      ]
     },
     "metadata": {},
     "output_type": "display_data"
    },
    {
     "data": {
      "application/vnd.jupyter.widget-view+json": {
       "model_id": "",
       "version_major": 2,
       "version_minor": 0
      },
      "text/plain": [
       "Sentences Progress:   0%|          | 0/6 [00:00<?, ?it/s]"
      ]
     },
     "metadata": {},
     "output_type": "display_data"
    },
    {
     "data": {
      "application/vnd.jupyter.widget-view+json": {
       "model_id": "",
       "version_major": 2,
       "version_minor": 0
      },
      "text/plain": [
       "Sentences Progress:   0%|          | 0/12 [00:00<?, ?it/s]"
      ]
     },
     "metadata": {},
     "output_type": "display_data"
    },
    {
     "data": {
      "application/vnd.jupyter.widget-view+json": {
       "model_id": "",
       "version_major": 2,
       "version_minor": 0
      },
      "text/plain": [
       "Sentences Progress:   0%|          | 0/14 [00:00<?, ?it/s]"
      ]
     },
     "metadata": {},
     "output_type": "display_data"
    },
    {
     "data": {
      "application/vnd.jupyter.widget-view+json": {
       "model_id": "",
       "version_major": 2,
       "version_minor": 0
      },
      "text/plain": [
       "Sentences Progress:   0%|          | 0/8 [00:00<?, ?it/s]"
      ]
     },
     "metadata": {},
     "output_type": "display_data"
    },
    {
     "data": {
      "application/vnd.jupyter.widget-view+json": {
       "model_id": "",
       "version_major": 2,
       "version_minor": 0
      },
      "text/plain": [
       "Sentences Progress:   0%|          | 0/3 [00:00<?, ?it/s]"
      ]
     },
     "metadata": {},
     "output_type": "display_data"
    },
    {
     "data": {
      "application/vnd.jupyter.widget-view+json": {
       "model_id": "",
       "version_major": 2,
       "version_minor": 0
      },
      "text/plain": [
       "Sentences Progress:   0%|          | 0/15 [00:00<?, ?it/s]"
      ]
     },
     "metadata": {},
     "output_type": "display_data"
    },
    {
     "data": {
      "application/vnd.jupyter.widget-view+json": {
       "model_id": "",
       "version_major": 2,
       "version_minor": 0
      },
      "text/plain": [
       "Sentences Progress:   0%|          | 0/21 [00:00<?, ?it/s]"
      ]
     },
     "metadata": {},
     "output_type": "display_data"
    },
    {
     "data": {
      "application/vnd.jupyter.widget-view+json": {
       "model_id": "",
       "version_major": 2,
       "version_minor": 0
      },
      "text/plain": [
       "Sentences Progress:   0%|          | 0/9 [00:00<?, ?it/s]"
      ]
     },
     "metadata": {},
     "output_type": "display_data"
    },
    {
     "data": {
      "application/vnd.jupyter.widget-view+json": {
       "model_id": "",
       "version_major": 2,
       "version_minor": 0
      },
      "text/plain": [
       "Sentences Progress:   0%|          | 0/17 [00:00<?, ?it/s]"
      ]
     },
     "metadata": {},
     "output_type": "display_data"
    },
    {
     "data": {
      "application/vnd.jupyter.widget-view+json": {
       "model_id": "",
       "version_major": 2,
       "version_minor": 0
      },
      "text/plain": [
       "Sentences Progress:   0%|          | 0/12 [00:00<?, ?it/s]"
      ]
     },
     "metadata": {},
     "output_type": "display_data"
    },
    {
     "data": {
      "application/vnd.jupyter.widget-view+json": {
       "model_id": "",
       "version_major": 2,
       "version_minor": 0
      },
      "text/plain": [
       "Sentences Progress:   0%|          | 0/17 [00:00<?, ?it/s]"
      ]
     },
     "metadata": {},
     "output_type": "display_data"
    },
    {
     "data": {
      "application/vnd.jupyter.widget-view+json": {
       "model_id": "",
       "version_major": 2,
       "version_minor": 0
      },
      "text/plain": [
       "Sentences Progress:   0%|          | 0/8 [00:00<?, ?it/s]"
      ]
     },
     "metadata": {},
     "output_type": "display_data"
    },
    {
     "data": {
      "application/vnd.jupyter.widget-view+json": {
       "model_id": "",
       "version_major": 2,
       "version_minor": 0
      },
      "text/plain": [
       "Sentences Progress:   0%|          | 0/10 [00:00<?, ?it/s]"
      ]
     },
     "metadata": {},
     "output_type": "display_data"
    },
    {
     "data": {
      "application/vnd.jupyter.widget-view+json": {
       "model_id": "",
       "version_major": 2,
       "version_minor": 0
      },
      "text/plain": [
       "Sentences Progress:   0%|          | 0/23 [00:00<?, ?it/s]"
      ]
     },
     "metadata": {},
     "output_type": "display_data"
    },
    {
     "data": {
      "application/vnd.jupyter.widget-view+json": {
       "model_id": "",
       "version_major": 2,
       "version_minor": 0
      },
      "text/plain": [
       "Sentences Progress:   0%|          | 0/4 [00:00<?, ?it/s]"
      ]
     },
     "metadata": {},
     "output_type": "display_data"
    },
    {
     "data": {
      "application/vnd.jupyter.widget-view+json": {
       "model_id": "",
       "version_major": 2,
       "version_minor": 0
      },
      "text/plain": [
       "Sentences Progress:   0%|          | 0/3 [00:00<?, ?it/s]"
      ]
     },
     "metadata": {},
     "output_type": "display_data"
    },
    {
     "data": {
      "application/vnd.jupyter.widget-view+json": {
       "model_id": "",
       "version_major": 2,
       "version_minor": 0
      },
      "text/plain": [
       "Sentences Progress:   0%|          | 0/10 [00:00<?, ?it/s]"
      ]
     },
     "metadata": {},
     "output_type": "display_data"
    },
    {
     "data": {
      "application/vnd.jupyter.widget-view+json": {
       "model_id": "",
       "version_major": 2,
       "version_minor": 0
      },
      "text/plain": [
       "Sentences Progress:   0%|          | 0/24 [00:00<?, ?it/s]"
      ]
     },
     "metadata": {},
     "output_type": "display_data"
    },
    {
     "data": {
      "application/vnd.jupyter.widget-view+json": {
       "model_id": "",
       "version_major": 2,
       "version_minor": 0
      },
      "text/plain": [
       "Sentences Progress:   0%|          | 0/10 [00:00<?, ?it/s]"
      ]
     },
     "metadata": {},
     "output_type": "display_data"
    },
    {
     "data": {
      "application/vnd.jupyter.widget-view+json": {
       "model_id": "",
       "version_major": 2,
       "version_minor": 0
      },
      "text/plain": [
       "Sentences Progress:   0%|          | 0/27 [00:00<?, ?it/s]"
      ]
     },
     "metadata": {},
     "output_type": "display_data"
    },
    {
     "data": {
      "application/vnd.jupyter.widget-view+json": {
       "model_id": "",
       "version_major": 2,
       "version_minor": 0
      },
      "text/plain": [
       "Sentences Progress:   0%|          | 0/2 [00:00<?, ?it/s]"
      ]
     },
     "metadata": {},
     "output_type": "display_data"
    },
    {
     "data": {
      "application/vnd.jupyter.widget-view+json": {
       "model_id": "",
       "version_major": 2,
       "version_minor": 0
      },
      "text/plain": [
       "Sentences Progress:   0%|          | 0/7 [00:00<?, ?it/s]"
      ]
     },
     "metadata": {},
     "output_type": "display_data"
    },
    {
     "data": {
      "application/vnd.jupyter.widget-view+json": {
       "model_id": "",
       "version_major": 2,
       "version_minor": 0
      },
      "text/plain": [
       "Sentences Progress:   0%|          | 0/8 [00:00<?, ?it/s]"
      ]
     },
     "metadata": {},
     "output_type": "display_data"
    },
    {
     "data": {
      "application/vnd.jupyter.widget-view+json": {
       "model_id": "",
       "version_major": 2,
       "version_minor": 0
      },
      "text/plain": [
       "Sentences Progress:   0%|          | 0/8 [00:00<?, ?it/s]"
      ]
     },
     "metadata": {},
     "output_type": "display_data"
    },
    {
     "data": {
      "application/vnd.jupyter.widget-view+json": {
       "model_id": "",
       "version_major": 2,
       "version_minor": 0
      },
      "text/plain": [
       "Sentences Progress:   0%|          | 0/12 [00:00<?, ?it/s]"
      ]
     },
     "metadata": {},
     "output_type": "display_data"
    },
    {
     "data": {
      "application/vnd.jupyter.widget-view+json": {
       "model_id": "",
       "version_major": 2,
       "version_minor": 0
      },
      "text/plain": [
       "Sentences Progress:   0%|          | 0/8 [00:00<?, ?it/s]"
      ]
     },
     "metadata": {},
     "output_type": "display_data"
    },
    {
     "data": {
      "application/vnd.jupyter.widget-view+json": {
       "model_id": "",
       "version_major": 2,
       "version_minor": 0
      },
      "text/plain": [
       "Sentences Progress:   0%|          | 0/26 [00:00<?, ?it/s]"
      ]
     },
     "metadata": {},
     "output_type": "display_data"
    },
    {
     "data": {
      "application/vnd.jupyter.widget-view+json": {
       "model_id": "",
       "version_major": 2,
       "version_minor": 0
      },
      "text/plain": [
       "Sentences Progress:   0%|          | 0/11 [00:00<?, ?it/s]"
      ]
     },
     "metadata": {},
     "output_type": "display_data"
    },
    {
     "data": {
      "application/vnd.jupyter.widget-view+json": {
       "model_id": "",
       "version_major": 2,
       "version_minor": 0
      },
      "text/plain": [
       "Sentences Progress:   0%|          | 0/2 [00:00<?, ?it/s]"
      ]
     },
     "metadata": {},
     "output_type": "display_data"
    },
    {
     "data": {
      "application/vnd.jupyter.widget-view+json": {
       "model_id": "",
       "version_major": 2,
       "version_minor": 0
      },
      "text/plain": [
       "Sentences Progress:   0%|          | 0/9 [00:00<?, ?it/s]"
      ]
     },
     "metadata": {},
     "output_type": "display_data"
    },
    {
     "data": {
      "application/vnd.jupyter.widget-view+json": {
       "model_id": "",
       "version_major": 2,
       "version_minor": 0
      },
      "text/plain": [
       "Sentences Progress:   0%|          | 0/10 [00:00<?, ?it/s]"
      ]
     },
     "metadata": {},
     "output_type": "display_data"
    },
    {
     "data": {
      "application/vnd.jupyter.widget-view+json": {
       "model_id": "",
       "version_major": 2,
       "version_minor": 0
      },
      "text/plain": [
       "Sentences Progress:   0%|          | 0/43 [00:00<?, ?it/s]"
      ]
     },
     "metadata": {},
     "output_type": "display_data"
    },
    {
     "data": {
      "application/vnd.jupyter.widget-view+json": {
       "model_id": "",
       "version_major": 2,
       "version_minor": 0
      },
      "text/plain": [
       "Sentences Progress:   0%|          | 0/8 [00:00<?, ?it/s]"
      ]
     },
     "metadata": {},
     "output_type": "display_data"
    },
    {
     "data": {
      "application/vnd.jupyter.widget-view+json": {
       "model_id": "",
       "version_major": 2,
       "version_minor": 0
      },
      "text/plain": [
       "Sentences Progress:   0%|          | 0/3 [00:00<?, ?it/s]"
      ]
     },
     "metadata": {},
     "output_type": "display_data"
    },
    {
     "data": {
      "application/vnd.jupyter.widget-view+json": {
       "model_id": "",
       "version_major": 2,
       "version_minor": 0
      },
      "text/plain": [
       "Sentences Progress:   0%|          | 0/17 [00:00<?, ?it/s]"
      ]
     },
     "metadata": {},
     "output_type": "display_data"
    },
    {
     "data": {
      "application/vnd.jupyter.widget-view+json": {
       "model_id": "",
       "version_major": 2,
       "version_minor": 0
      },
      "text/plain": [
       "Sentences Progress:   0%|          | 0/8 [00:00<?, ?it/s]"
      ]
     },
     "metadata": {},
     "output_type": "display_data"
    },
    {
     "data": {
      "application/vnd.jupyter.widget-view+json": {
       "model_id": "",
       "version_major": 2,
       "version_minor": 0
      },
      "text/plain": [
       "Sentences Progress:   0%|          | 0/5 [00:00<?, ?it/s]"
      ]
     },
     "metadata": {},
     "output_type": "display_data"
    },
    {
     "data": {
      "application/vnd.jupyter.widget-view+json": {
       "model_id": "",
       "version_major": 2,
       "version_minor": 0
      },
      "text/plain": [
       "Sentences Progress:   0%|          | 0/4 [00:00<?, ?it/s]"
      ]
     },
     "metadata": {},
     "output_type": "display_data"
    },
    {
     "data": {
      "application/vnd.jupyter.widget-view+json": {
       "model_id": "",
       "version_major": 2,
       "version_minor": 0
      },
      "text/plain": [
       "Sentences Progress:   0%|          | 0/1 [00:00<?, ?it/s]"
      ]
     },
     "metadata": {},
     "output_type": "display_data"
    },
    {
     "data": {
      "application/vnd.jupyter.widget-view+json": {
       "model_id": "",
       "version_major": 2,
       "version_minor": 0
      },
      "text/plain": [
       "Sentences Progress:   0%|          | 0/18 [00:00<?, ?it/s]"
      ]
     },
     "metadata": {},
     "output_type": "display_data"
    },
    {
     "data": {
      "application/vnd.jupyter.widget-view+json": {
       "model_id": "",
       "version_major": 2,
       "version_minor": 0
      },
      "text/plain": [
       "Sentences Progress:   0%|          | 0/19 [00:00<?, ?it/s]"
      ]
     },
     "metadata": {},
     "output_type": "display_data"
    },
    {
     "data": {
      "application/vnd.jupyter.widget-view+json": {
       "model_id": "",
       "version_major": 2,
       "version_minor": 0
      },
      "text/plain": [
       "Sentences Progress:   0%|          | 0/4 [00:00<?, ?it/s]"
      ]
     },
     "metadata": {},
     "output_type": "display_data"
    },
    {
     "data": {
      "application/vnd.jupyter.widget-view+json": {
       "model_id": "",
       "version_major": 2,
       "version_minor": 0
      },
      "text/plain": [
       "Sentences Progress:   0%|          | 0/5 [00:00<?, ?it/s]"
      ]
     },
     "metadata": {},
     "output_type": "display_data"
    },
    {
     "data": {
      "application/vnd.jupyter.widget-view+json": {
       "model_id": "",
       "version_major": 2,
       "version_minor": 0
      },
      "text/plain": [
       "Sentences Progress:   0%|          | 0/10 [00:00<?, ?it/s]"
      ]
     },
     "metadata": {},
     "output_type": "display_data"
    },
    {
     "data": {
      "application/vnd.jupyter.widget-view+json": {
       "model_id": "",
       "version_major": 2,
       "version_minor": 0
      },
      "text/plain": [
       "Sentences Progress:   0%|          | 0/10 [00:00<?, ?it/s]"
      ]
     },
     "metadata": {},
     "output_type": "display_data"
    },
    {
     "data": {
      "application/vnd.jupyter.widget-view+json": {
       "model_id": "",
       "version_major": 2,
       "version_minor": 0
      },
      "text/plain": [
       "Sentences Progress:   0%|          | 0/6 [00:00<?, ?it/s]"
      ]
     },
     "metadata": {},
     "output_type": "display_data"
    },
    {
     "data": {
      "application/vnd.jupyter.widget-view+json": {
       "model_id": "",
       "version_major": 2,
       "version_minor": 0
      },
      "text/plain": [
       "Sentences Progress:   0%|          | 0/10 [00:00<?, ?it/s]"
      ]
     },
     "metadata": {},
     "output_type": "display_data"
    },
    {
     "data": {
      "application/vnd.jupyter.widget-view+json": {
       "model_id": "",
       "version_major": 2,
       "version_minor": 0
      },
      "text/plain": [
       "Sentences Progress:   0%|          | 0/13 [00:00<?, ?it/s]"
      ]
     },
     "metadata": {},
     "output_type": "display_data"
    },
    {
     "data": {
      "application/vnd.jupyter.widget-view+json": {
       "model_id": "",
       "version_major": 2,
       "version_minor": 0
      },
      "text/plain": [
       "Sentences Progress:   0%|          | 0/4 [00:00<?, ?it/s]"
      ]
     },
     "metadata": {},
     "output_type": "display_data"
    },
    {
     "data": {
      "application/vnd.jupyter.widget-view+json": {
       "model_id": "",
       "version_major": 2,
       "version_minor": 0
      },
      "text/plain": [
       "Sentences Progress:   0%|          | 0/1 [00:00<?, ?it/s]"
      ]
     },
     "metadata": {},
     "output_type": "display_data"
    },
    {
     "data": {
      "application/vnd.jupyter.widget-view+json": {
       "model_id": "",
       "version_major": 2,
       "version_minor": 0
      },
      "text/plain": [
       "Sentences Progress:   0%|          | 0/5 [00:00<?, ?it/s]"
      ]
     },
     "metadata": {},
     "output_type": "display_data"
    },
    {
     "data": {
      "application/vnd.jupyter.widget-view+json": {
       "model_id": "",
       "version_major": 2,
       "version_minor": 0
      },
      "text/plain": [
       "Sentences Progress:   0%|          | 0/1 [00:00<?, ?it/s]"
      ]
     },
     "metadata": {},
     "output_type": "display_data"
    },
    {
     "data": {
      "application/vnd.jupyter.widget-view+json": {
       "model_id": "",
       "version_major": 2,
       "version_minor": 0
      },
      "text/plain": [
       "Sentences Progress:   0%|          | 0/38 [00:00<?, ?it/s]"
      ]
     },
     "metadata": {},
     "output_type": "display_data"
    },
    {
     "data": {
      "application/vnd.jupyter.widget-view+json": {
       "model_id": "",
       "version_major": 2,
       "version_minor": 0
      },
      "text/plain": [
       "Sentences Progress:   0%|          | 0/8 [00:00<?, ?it/s]"
      ]
     },
     "metadata": {},
     "output_type": "display_data"
    },
    {
     "data": {
      "application/vnd.jupyter.widget-view+json": {
       "model_id": "",
       "version_major": 2,
       "version_minor": 0
      },
      "text/plain": [
       "Sentences Progress:   0%|          | 0/12 [00:00<?, ?it/s]"
      ]
     },
     "metadata": {},
     "output_type": "display_data"
    },
    {
     "data": {
      "application/vnd.jupyter.widget-view+json": {
       "model_id": "",
       "version_major": 2,
       "version_minor": 0
      },
      "text/plain": [
       "Sentences Progress:   0%|          | 0/10 [00:00<?, ?it/s]"
      ]
     },
     "metadata": {},
     "output_type": "display_data"
    },
    {
     "data": {
      "application/vnd.jupyter.widget-view+json": {
       "model_id": "",
       "version_major": 2,
       "version_minor": 0
      },
      "text/plain": [
       "Sentences Progress:   0%|          | 0/16 [00:00<?, ?it/s]"
      ]
     },
     "metadata": {},
     "output_type": "display_data"
    },
    {
     "data": {
      "application/vnd.jupyter.widget-view+json": {
       "model_id": "",
       "version_major": 2,
       "version_minor": 0
      },
      "text/plain": [
       "Sentences Progress:   0%|          | 0/1 [00:00<?, ?it/s]"
      ]
     },
     "metadata": {},
     "output_type": "display_data"
    },
    {
     "data": {
      "application/vnd.jupyter.widget-view+json": {
       "model_id": "",
       "version_major": 2,
       "version_minor": 0
      },
      "text/plain": [
       "Sentences Progress:   0%|          | 0/22 [00:00<?, ?it/s]"
      ]
     },
     "metadata": {},
     "output_type": "display_data"
    },
    {
     "data": {
      "application/vnd.jupyter.widget-view+json": {
       "model_id": "",
       "version_major": 2,
       "version_minor": 0
      },
      "text/plain": [
       "Sentences Progress:   0%|          | 0/4 [00:00<?, ?it/s]"
      ]
     },
     "metadata": {},
     "output_type": "display_data"
    },
    {
     "data": {
      "application/vnd.jupyter.widget-view+json": {
       "model_id": "",
       "version_major": 2,
       "version_minor": 0
      },
      "text/plain": [
       "Sentences Progress:   0%|          | 0/10 [00:00<?, ?it/s]"
      ]
     },
     "metadata": {},
     "output_type": "display_data"
    },
    {
     "data": {
      "application/vnd.jupyter.widget-view+json": {
       "model_id": "",
       "version_major": 2,
       "version_minor": 0
      },
      "text/plain": [
       "Sentences Progress:   0%|          | 0/7 [00:00<?, ?it/s]"
      ]
     },
     "metadata": {},
     "output_type": "display_data"
    },
    {
     "data": {
      "application/vnd.jupyter.widget-view+json": {
       "model_id": "",
       "version_major": 2,
       "version_minor": 0
      },
      "text/plain": [
       "Sentences Progress:   0%|          | 0/7 [00:00<?, ?it/s]"
      ]
     },
     "metadata": {},
     "output_type": "display_data"
    },
    {
     "data": {
      "application/vnd.jupyter.widget-view+json": {
       "model_id": "",
       "version_major": 2,
       "version_minor": 0
      },
      "text/plain": [
       "Sentences Progress:   0%|          | 0/12 [00:00<?, ?it/s]"
      ]
     },
     "metadata": {},
     "output_type": "display_data"
    },
    {
     "data": {
      "application/vnd.jupyter.widget-view+json": {
       "model_id": "",
       "version_major": 2,
       "version_minor": 0
      },
      "text/plain": [
       "Sentences Progress:   0%|          | 0/20 [00:00<?, ?it/s]"
      ]
     },
     "metadata": {},
     "output_type": "display_data"
    },
    {
     "data": {
      "application/vnd.jupyter.widget-view+json": {
       "model_id": "",
       "version_major": 2,
       "version_minor": 0
      },
      "text/plain": [
       "Sentences Progress:   0%|          | 0/18 [00:00<?, ?it/s]"
      ]
     },
     "metadata": {},
     "output_type": "display_data"
    },
    {
     "data": {
      "application/vnd.jupyter.widget-view+json": {
       "model_id": "",
       "version_major": 2,
       "version_minor": 0
      },
      "text/plain": [
       "Sentences Progress:   0%|          | 0/22 [00:00<?, ?it/s]"
      ]
     },
     "metadata": {},
     "output_type": "display_data"
    },
    {
     "data": {
      "application/vnd.jupyter.widget-view+json": {
       "model_id": "",
       "version_major": 2,
       "version_minor": 0
      },
      "text/plain": [
       "Sentences Progress:   0%|          | 0/15 [00:00<?, ?it/s]"
      ]
     },
     "metadata": {},
     "output_type": "display_data"
    },
    {
     "data": {
      "application/vnd.jupyter.widget-view+json": {
       "model_id": "",
       "version_major": 2,
       "version_minor": 0
      },
      "text/plain": [
       "Sentences Progress:   0%|          | 0/16 [00:00<?, ?it/s]"
      ]
     },
     "metadata": {},
     "output_type": "display_data"
    },
    {
     "data": {
      "application/vnd.jupyter.widget-view+json": {
       "model_id": "",
       "version_major": 2,
       "version_minor": 0
      },
      "text/plain": [
       "Sentences Progress:   0%|          | 0/10 [00:00<?, ?it/s]"
      ]
     },
     "metadata": {},
     "output_type": "display_data"
    },
    {
     "data": {
      "application/vnd.jupyter.widget-view+json": {
       "model_id": "",
       "version_major": 2,
       "version_minor": 0
      },
      "text/plain": [
       "Sentences Progress:   0%|          | 0/11 [00:00<?, ?it/s]"
      ]
     },
     "metadata": {},
     "output_type": "display_data"
    },
    {
     "data": {
      "application/vnd.jupyter.widget-view+json": {
       "model_id": "",
       "version_major": 2,
       "version_minor": 0
      },
      "text/plain": [
       "Sentences Progress:   0%|          | 0/6 [00:00<?, ?it/s]"
      ]
     },
     "metadata": {},
     "output_type": "display_data"
    },
    {
     "data": {
      "application/vnd.jupyter.widget-view+json": {
       "model_id": "",
       "version_major": 2,
       "version_minor": 0
      },
      "text/plain": [
       "Sentences Progress:   0%|          | 0/9 [00:00<?, ?it/s]"
      ]
     },
     "metadata": {},
     "output_type": "display_data"
    },
    {
     "data": {
      "application/vnd.jupyter.widget-view+json": {
       "model_id": "",
       "version_major": 2,
       "version_minor": 0
      },
      "text/plain": [
       "Sentences Progress:   0%|          | 0/22 [00:00<?, ?it/s]"
      ]
     },
     "metadata": {},
     "output_type": "display_data"
    },
    {
     "data": {
      "application/vnd.jupyter.widget-view+json": {
       "model_id": "",
       "version_major": 2,
       "version_minor": 0
      },
      "text/plain": [
       "Sentences Progress:   0%|          | 0/59 [00:00<?, ?it/s]"
      ]
     },
     "metadata": {},
     "output_type": "display_data"
    },
    {
     "data": {
      "application/vnd.jupyter.widget-view+json": {
       "model_id": "",
       "version_major": 2,
       "version_minor": 0
      },
      "text/plain": [
       "Sentences Progress:   0%|          | 0/17 [00:00<?, ?it/s]"
      ]
     },
     "metadata": {},
     "output_type": "display_data"
    },
    {
     "data": {
      "application/vnd.jupyter.widget-view+json": {
       "model_id": "",
       "version_major": 2,
       "version_minor": 0
      },
      "text/plain": [
       "Sentences Progress:   0%|          | 0/13 [00:00<?, ?it/s]"
      ]
     },
     "metadata": {},
     "output_type": "display_data"
    },
    {
     "data": {
      "application/vnd.jupyter.widget-view+json": {
       "model_id": "",
       "version_major": 2,
       "version_minor": 0
      },
      "text/plain": [
       "Sentences Progress:   0%|          | 0/13 [00:00<?, ?it/s]"
      ]
     },
     "metadata": {},
     "output_type": "display_data"
    },
    {
     "data": {
      "application/vnd.jupyter.widget-view+json": {
       "model_id": "",
       "version_major": 2,
       "version_minor": 0
      },
      "text/plain": [
       "Sentences Progress:   0%|          | 0/1 [00:00<?, ?it/s]"
      ]
     },
     "metadata": {},
     "output_type": "display_data"
    },
    {
     "data": {
      "application/vnd.jupyter.widget-view+json": {
       "model_id": "",
       "version_major": 2,
       "version_minor": 0
      },
      "text/plain": [
       "Sentences Progress:   0%|          | 0/13 [00:00<?, ?it/s]"
      ]
     },
     "metadata": {},
     "output_type": "display_data"
    },
    {
     "data": {
      "application/vnd.jupyter.widget-view+json": {
       "model_id": "",
       "version_major": 2,
       "version_minor": 0
      },
      "text/plain": [
       "Sentences Progress:   0%|          | 0/5 [00:00<?, ?it/s]"
      ]
     },
     "metadata": {},
     "output_type": "display_data"
    },
    {
     "data": {
      "application/vnd.jupyter.widget-view+json": {
       "model_id": "",
       "version_major": 2,
       "version_minor": 0
      },
      "text/plain": [
       "Sentences Progress: 0it [00:00, ?it/s]"
      ]
     },
     "metadata": {},
     "output_type": "display_data"
    },
    {
     "data": {
      "application/vnd.jupyter.widget-view+json": {
       "model_id": "",
       "version_major": 2,
       "version_minor": 0
      },
      "text/plain": [
       "Sentences Progress:   0%|          | 0/32 [00:00<?, ?it/s]"
      ]
     },
     "metadata": {},
     "output_type": "display_data"
    },
    {
     "data": {
      "application/vnd.jupyter.widget-view+json": {
       "model_id": "",
       "version_major": 2,
       "version_minor": 0
      },
      "text/plain": [
       "Sentences Progress:   0%|          | 0/1 [00:00<?, ?it/s]"
      ]
     },
     "metadata": {},
     "output_type": "display_data"
    },
    {
     "data": {
      "application/vnd.jupyter.widget-view+json": {
       "model_id": "",
       "version_major": 2,
       "version_minor": 0
      },
      "text/plain": [
       "Sentences Progress:   0%|          | 0/30 [00:00<?, ?it/s]"
      ]
     },
     "metadata": {},
     "output_type": "display_data"
    },
    {
     "name": "stdout",
     "output_type": "stream",
     "text": [
      "Unassembled\n",
      "Unassembled\n",
      "Unassembled\n",
      "Unassembled\n",
      "Unassembled\n",
      "Unassembled\n"
     ]
    },
    {
     "data": {
      "application/vnd.jupyter.widget-view+json": {
       "model_id": "",
       "version_major": 2,
       "version_minor": 0
      },
      "text/plain": [
       "Sentences Progress:   0%|          | 0/28 [00:00<?, ?it/s]"
      ]
     },
     "metadata": {},
     "output_type": "display_data"
    },
    {
     "data": {
      "application/vnd.jupyter.widget-view+json": {
       "model_id": "",
       "version_major": 2,
       "version_minor": 0
      },
      "text/plain": [
       "Sentences Progress:   0%|          | 0/1 [00:00<?, ?it/s]"
      ]
     },
     "metadata": {},
     "output_type": "display_data"
    },
    {
     "data": {
      "application/vnd.jupyter.widget-view+json": {
       "model_id": "",
       "version_major": 2,
       "version_minor": 0
      },
      "text/plain": [
       "Sentences Progress:   0%|          | 0/15 [00:00<?, ?it/s]"
      ]
     },
     "metadata": {},
     "output_type": "display_data"
    },
    {
     "data": {
      "application/vnd.jupyter.widget-view+json": {
       "model_id": "",
       "version_major": 2,
       "version_minor": 0
      },
      "text/plain": [
       "Sentences Progress:   0%|          | 0/7 [00:00<?, ?it/s]"
      ]
     },
     "metadata": {},
     "output_type": "display_data"
    },
    {
     "data": {
      "application/vnd.jupyter.widget-view+json": {
       "model_id": "",
       "version_major": 2,
       "version_minor": 0
      },
      "text/plain": [
       "Sentences Progress:   0%|          | 0/3 [00:00<?, ?it/s]"
      ]
     },
     "metadata": {},
     "output_type": "display_data"
    },
    {
     "data": {
      "application/vnd.jupyter.widget-view+json": {
       "model_id": "",
       "version_major": 2,
       "version_minor": 0
      },
      "text/plain": [
       "Sentences Progress:   0%|          | 0/5 [00:00<?, ?it/s]"
      ]
     },
     "metadata": {},
     "output_type": "display_data"
    },
    {
     "data": {
      "application/vnd.jupyter.widget-view+json": {
       "model_id": "",
       "version_major": 2,
       "version_minor": 0
      },
      "text/plain": [
       "Sentences Progress:   0%|          | 0/1 [00:00<?, ?it/s]"
      ]
     },
     "metadata": {},
     "output_type": "display_data"
    },
    {
     "data": {
      "application/vnd.jupyter.widget-view+json": {
       "model_id": "",
       "version_major": 2,
       "version_minor": 0
      },
      "text/plain": [
       "Sentences Progress:   0%|          | 0/21 [00:00<?, ?it/s]"
      ]
     },
     "metadata": {},
     "output_type": "display_data"
    },
    {
     "data": {
      "application/vnd.jupyter.widget-view+json": {
       "model_id": "",
       "version_major": 2,
       "version_minor": 0
      },
      "text/plain": [
       "Sentences Progress:   0%|          | 0/1 [00:00<?, ?it/s]"
      ]
     },
     "metadata": {},
     "output_type": "display_data"
    },
    {
     "data": {
      "application/vnd.jupyter.widget-view+json": {
       "model_id": "",
       "version_major": 2,
       "version_minor": 0
      },
      "text/plain": [
       "Sentences Progress:   0%|          | 0/16 [00:00<?, ?it/s]"
      ]
     },
     "metadata": {},
     "output_type": "display_data"
    },
    {
     "data": {
      "application/vnd.jupyter.widget-view+json": {
       "model_id": "",
       "version_major": 2,
       "version_minor": 0
      },
      "text/plain": [
       "Sentences Progress:   0%|          | 0/8 [00:00<?, ?it/s]"
      ]
     },
     "metadata": {},
     "output_type": "display_data"
    },
    {
     "data": {
      "application/vnd.jupyter.widget-view+json": {
       "model_id": "",
       "version_major": 2,
       "version_minor": 0
      },
      "text/plain": [
       "Sentences Progress:   0%|          | 0/5 [00:00<?, ?it/s]"
      ]
     },
     "metadata": {},
     "output_type": "display_data"
    },
    {
     "data": {
      "application/vnd.jupyter.widget-view+json": {
       "model_id": "",
       "version_major": 2,
       "version_minor": 0
      },
      "text/plain": [
       "Sentences Progress:   0%|          | 0/7 [00:00<?, ?it/s]"
      ]
     },
     "metadata": {},
     "output_type": "display_data"
    },
    {
     "data": {
      "application/vnd.jupyter.widget-view+json": {
       "model_id": "",
       "version_major": 2,
       "version_minor": 0
      },
      "text/plain": [
       "Sentences Progress:   0%|          | 0/12 [00:00<?, ?it/s]"
      ]
     },
     "metadata": {},
     "output_type": "display_data"
    },
    {
     "data": {
      "application/vnd.jupyter.widget-view+json": {
       "model_id": "",
       "version_major": 2,
       "version_minor": 0
      },
      "text/plain": [
       "Sentences Progress:   0%|          | 0/22 [00:00<?, ?it/s]"
      ]
     },
     "metadata": {},
     "output_type": "display_data"
    },
    {
     "data": {
      "application/vnd.jupyter.widget-view+json": {
       "model_id": "",
       "version_major": 2,
       "version_minor": 0
      },
      "text/plain": [
       "Sentences Progress:   0%|          | 0/5 [00:00<?, ?it/s]"
      ]
     },
     "metadata": {},
     "output_type": "display_data"
    },
    {
     "data": {
      "application/vnd.jupyter.widget-view+json": {
       "model_id": "",
       "version_major": 2,
       "version_minor": 0
      },
      "text/plain": [
       "Sentences Progress:   0%|          | 0/7 [00:00<?, ?it/s]"
      ]
     },
     "metadata": {},
     "output_type": "display_data"
    },
    {
     "data": {
      "application/vnd.jupyter.widget-view+json": {
       "model_id": "",
       "version_major": 2,
       "version_minor": 0
      },
      "text/plain": [
       "Sentences Progress:   0%|          | 0/11 [00:00<?, ?it/s]"
      ]
     },
     "metadata": {},
     "output_type": "display_data"
    },
    {
     "data": {
      "application/vnd.jupyter.widget-view+json": {
       "model_id": "",
       "version_major": 2,
       "version_minor": 0
      },
      "text/plain": [
       "Sentences Progress:   0%|          | 0/8 [00:00<?, ?it/s]"
      ]
     },
     "metadata": {},
     "output_type": "display_data"
    },
    {
     "data": {
      "application/vnd.jupyter.widget-view+json": {
       "model_id": "",
       "version_major": 2,
       "version_minor": 0
      },
      "text/plain": [
       "Sentences Progress:   0%|          | 0/9 [00:00<?, ?it/s]"
      ]
     },
     "metadata": {},
     "output_type": "display_data"
    },
    {
     "data": {
      "application/vnd.jupyter.widget-view+json": {
       "model_id": "",
       "version_major": 2,
       "version_minor": 0
      },
      "text/plain": [
       "Sentences Progress:   0%|          | 0/16 [00:00<?, ?it/s]"
      ]
     },
     "metadata": {},
     "output_type": "display_data"
    },
    {
     "data": {
      "application/vnd.jupyter.widget-view+json": {
       "model_id": "",
       "version_major": 2,
       "version_minor": 0
      },
      "text/plain": [
       "Sentences Progress:   0%|          | 0/19 [00:00<?, ?it/s]"
      ]
     },
     "metadata": {},
     "output_type": "display_data"
    },
    {
     "data": {
      "application/vnd.jupyter.widget-view+json": {
       "model_id": "",
       "version_major": 2,
       "version_minor": 0
      },
      "text/plain": [
       "Sentences Progress:   0%|          | 0/12 [00:00<?, ?it/s]"
      ]
     },
     "metadata": {},
     "output_type": "display_data"
    },
    {
     "data": {
      "application/vnd.jupyter.widget-view+json": {
       "model_id": "",
       "version_major": 2,
       "version_minor": 0
      },
      "text/plain": [
       "Sentences Progress:   0%|          | 0/33 [00:00<?, ?it/s]"
      ]
     },
     "metadata": {},
     "output_type": "display_data"
    },
    {
     "data": {
      "application/vnd.jupyter.widget-view+json": {
       "model_id": "",
       "version_major": 2,
       "version_minor": 0
      },
      "text/plain": [
       "Sentences Progress:   0%|          | 0/10 [00:00<?, ?it/s]"
      ]
     },
     "metadata": {},
     "output_type": "display_data"
    },
    {
     "data": {
      "application/vnd.jupyter.widget-view+json": {
       "model_id": "",
       "version_major": 2,
       "version_minor": 0
      },
      "text/plain": [
       "Sentences Progress:   0%|          | 0/25 [00:00<?, ?it/s]"
      ]
     },
     "metadata": {},
     "output_type": "display_data"
    },
    {
     "data": {
      "application/vnd.jupyter.widget-view+json": {
       "model_id": "",
       "version_major": 2,
       "version_minor": 0
      },
      "text/plain": [
       "Sentences Progress:   0%|          | 0/7 [00:00<?, ?it/s]"
      ]
     },
     "metadata": {},
     "output_type": "display_data"
    },
    {
     "data": {
      "application/vnd.jupyter.widget-view+json": {
       "model_id": "",
       "version_major": 2,
       "version_minor": 0
      },
      "text/plain": [
       "Sentences Progress:   0%|          | 0/17 [00:00<?, ?it/s]"
      ]
     },
     "metadata": {},
     "output_type": "display_data"
    },
    {
     "data": {
      "application/vnd.jupyter.widget-view+json": {
       "model_id": "",
       "version_major": 2,
       "version_minor": 0
      },
      "text/plain": [
       "Sentences Progress:   0%|          | 0/39 [00:00<?, ?it/s]"
      ]
     },
     "metadata": {},
     "output_type": "display_data"
    },
    {
     "data": {
      "application/vnd.jupyter.widget-view+json": {
       "model_id": "",
       "version_major": 2,
       "version_minor": 0
      },
      "text/plain": [
       "Sentences Progress:   0%|          | 0/5 [00:00<?, ?it/s]"
      ]
     },
     "metadata": {},
     "output_type": "display_data"
    },
    {
     "data": {
      "application/vnd.jupyter.widget-view+json": {
       "model_id": "",
       "version_major": 2,
       "version_minor": 0
      },
      "text/plain": [
       "Sentences Progress:   0%|          | 0/22 [00:00<?, ?it/s]"
      ]
     },
     "metadata": {},
     "output_type": "display_data"
    },
    {
     "data": {
      "application/vnd.jupyter.widget-view+json": {
       "model_id": "",
       "version_major": 2,
       "version_minor": 0
      },
      "text/plain": [
       "Sentences Progress:   0%|          | 0/7 [00:00<?, ?it/s]"
      ]
     },
     "metadata": {},
     "output_type": "display_data"
    },
    {
     "data": {
      "application/vnd.jupyter.widget-view+json": {
       "model_id": "",
       "version_major": 2,
       "version_minor": 0
      },
      "text/plain": [
       "Sentences Progress:   0%|          | 0/9 [00:00<?, ?it/s]"
      ]
     },
     "metadata": {},
     "output_type": "display_data"
    },
    {
     "data": {
      "application/vnd.jupyter.widget-view+json": {
       "model_id": "",
       "version_major": 2,
       "version_minor": 0
      },
      "text/plain": [
       "Sentences Progress:   0%|          | 0/10 [00:00<?, ?it/s]"
      ]
     },
     "metadata": {},
     "output_type": "display_data"
    },
    {
     "data": {
      "application/vnd.jupyter.widget-view+json": {
       "model_id": "",
       "version_major": 2,
       "version_minor": 0
      },
      "text/plain": [
       "Sentences Progress:   0%|          | 0/1 [00:00<?, ?it/s]"
      ]
     },
     "metadata": {},
     "output_type": "display_data"
    },
    {
     "data": {
      "application/vnd.jupyter.widget-view+json": {
       "model_id": "",
       "version_major": 2,
       "version_minor": 0
      },
      "text/plain": [
       "Sentences Progress:   0%|          | 0/3 [00:00<?, ?it/s]"
      ]
     },
     "metadata": {},
     "output_type": "display_data"
    },
    {
     "data": {
      "application/vnd.jupyter.widget-view+json": {
       "model_id": "",
       "version_major": 2,
       "version_minor": 0
      },
      "text/plain": [
       "Sentences Progress:   0%|          | 0/11 [00:00<?, ?it/s]"
      ]
     },
     "metadata": {},
     "output_type": "display_data"
    },
    {
     "data": {
      "application/vnd.jupyter.widget-view+json": {
       "model_id": "",
       "version_major": 2,
       "version_minor": 0
      },
      "text/plain": [
       "Sentences Progress:   0%|          | 0/6 [00:00<?, ?it/s]"
      ]
     },
     "metadata": {},
     "output_type": "display_data"
    },
    {
     "data": {
      "application/vnd.jupyter.widget-view+json": {
       "model_id": "",
       "version_major": 2,
       "version_minor": 0
      },
      "text/plain": [
       "Sentences Progress:   0%|          | 0/23 [00:00<?, ?it/s]"
      ]
     },
     "metadata": {},
     "output_type": "display_data"
    },
    {
     "data": {
      "application/vnd.jupyter.widget-view+json": {
       "model_id": "",
       "version_major": 2,
       "version_minor": 0
      },
      "text/plain": [
       "Sentences Progress:   0%|          | 0/11 [00:00<?, ?it/s]"
      ]
     },
     "metadata": {},
     "output_type": "display_data"
    },
    {
     "data": {
      "application/vnd.jupyter.widget-view+json": {
       "model_id": "",
       "version_major": 2,
       "version_minor": 0
      },
      "text/plain": [
       "Sentences Progress:   0%|          | 0/22 [00:00<?, ?it/s]"
      ]
     },
     "metadata": {},
     "output_type": "display_data"
    },
    {
     "data": {
      "application/vnd.jupyter.widget-view+json": {
       "model_id": "",
       "version_major": 2,
       "version_minor": 0
      },
      "text/plain": [
       "Sentences Progress:   0%|          | 0/2 [00:00<?, ?it/s]"
      ]
     },
     "metadata": {},
     "output_type": "display_data"
    },
    {
     "data": {
      "application/vnd.jupyter.widget-view+json": {
       "model_id": "",
       "version_major": 2,
       "version_minor": 0
      },
      "text/plain": [
       "Sentences Progress:   0%|          | 0/4 [00:00<?, ?it/s]"
      ]
     },
     "metadata": {},
     "output_type": "display_data"
    },
    {
     "data": {
      "application/vnd.jupyter.widget-view+json": {
       "model_id": "",
       "version_major": 2,
       "version_minor": 0
      },
      "text/plain": [
       "Sentences Progress:   0%|          | 0/10 [00:00<?, ?it/s]"
      ]
     },
     "metadata": {},
     "output_type": "display_data"
    },
    {
     "data": {
      "application/vnd.jupyter.widget-view+json": {
       "model_id": "",
       "version_major": 2,
       "version_minor": 0
      },
      "text/plain": [
       "Sentences Progress:   0%|          | 0/1 [00:00<?, ?it/s]"
      ]
     },
     "metadata": {},
     "output_type": "display_data"
    },
    {
     "data": {
      "application/vnd.jupyter.widget-view+json": {
       "model_id": "",
       "version_major": 2,
       "version_minor": 0
      },
      "text/plain": [
       "Sentences Progress:   0%|          | 0/13 [00:00<?, ?it/s]"
      ]
     },
     "metadata": {},
     "output_type": "display_data"
    },
    {
     "data": {
      "application/vnd.jupyter.widget-view+json": {
       "model_id": "",
       "version_major": 2,
       "version_minor": 0
      },
      "text/plain": [
       "Sentences Progress:   0%|          | 0/5 [00:00<?, ?it/s]"
      ]
     },
     "metadata": {},
     "output_type": "display_data"
    },
    {
     "data": {
      "application/vnd.jupyter.widget-view+json": {
       "model_id": "",
       "version_major": 2,
       "version_minor": 0
      },
      "text/plain": [
       "Sentences Progress:   0%|          | 0/5 [00:00<?, ?it/s]"
      ]
     },
     "metadata": {},
     "output_type": "display_data"
    },
    {
     "data": {
      "application/vnd.jupyter.widget-view+json": {
       "model_id": "",
       "version_major": 2,
       "version_minor": 0
      },
      "text/plain": [
       "Sentences Progress:   0%|          | 0/6 [00:00<?, ?it/s]"
      ]
     },
     "metadata": {},
     "output_type": "display_data"
    },
    {
     "data": {
      "application/vnd.jupyter.widget-view+json": {
       "model_id": "",
       "version_major": 2,
       "version_minor": 0
      },
      "text/plain": [
       "Sentences Progress:   0%|          | 0/10 [00:00<?, ?it/s]"
      ]
     },
     "metadata": {},
     "output_type": "display_data"
    },
    {
     "data": {
      "application/vnd.jupyter.widget-view+json": {
       "model_id": "",
       "version_major": 2,
       "version_minor": 0
      },
      "text/plain": [
       "Sentences Progress:   0%|          | 0/6 [00:00<?, ?it/s]"
      ]
     },
     "metadata": {},
     "output_type": "display_data"
    },
    {
     "data": {
      "application/vnd.jupyter.widget-view+json": {
       "model_id": "",
       "version_major": 2,
       "version_minor": 0
      },
      "text/plain": [
       "Sentences Progress:   0%|          | 0/5 [00:00<?, ?it/s]"
      ]
     },
     "metadata": {},
     "output_type": "display_data"
    },
    {
     "data": {
      "application/vnd.jupyter.widget-view+json": {
       "model_id": "",
       "version_major": 2,
       "version_minor": 0
      },
      "text/plain": [
       "Sentences Progress:   0%|          | 0/4 [00:00<?, ?it/s]"
      ]
     },
     "metadata": {},
     "output_type": "display_data"
    },
    {
     "data": {
      "application/vnd.jupyter.widget-view+json": {
       "model_id": "",
       "version_major": 2,
       "version_minor": 0
      },
      "text/plain": [
       "Sentences Progress:   0%|          | 0/12 [00:00<?, ?it/s]"
      ]
     },
     "metadata": {},
     "output_type": "display_data"
    },
    {
     "data": {
      "application/vnd.jupyter.widget-view+json": {
       "model_id": "",
       "version_major": 2,
       "version_minor": 0
      },
      "text/plain": [
       "Sentences Progress:   0%|          | 0/10 [00:00<?, ?it/s]"
      ]
     },
     "metadata": {},
     "output_type": "display_data"
    },
    {
     "data": {
      "application/vnd.jupyter.widget-view+json": {
       "model_id": "",
       "version_major": 2,
       "version_minor": 0
      },
      "text/plain": [
       "Sentences Progress:   0%|          | 0/7 [00:00<?, ?it/s]"
      ]
     },
     "metadata": {},
     "output_type": "display_data"
    },
    {
     "data": {
      "application/vnd.jupyter.widget-view+json": {
       "model_id": "",
       "version_major": 2,
       "version_minor": 0
      },
      "text/plain": [
       "Sentences Progress:   0%|          | 0/30 [00:00<?, ?it/s]"
      ]
     },
     "metadata": {},
     "output_type": "display_data"
    },
    {
     "data": {
      "application/vnd.jupyter.widget-view+json": {
       "model_id": "",
       "version_major": 2,
       "version_minor": 0
      },
      "text/plain": [
       "Sentences Progress:   0%|          | 0/1 [00:00<?, ?it/s]"
      ]
     },
     "metadata": {},
     "output_type": "display_data"
    },
    {
     "data": {
      "application/vnd.jupyter.widget-view+json": {
       "model_id": "",
       "version_major": 2,
       "version_minor": 0
      },
      "text/plain": [
       "Sentences Progress:   0%|          | 0/16 [00:00<?, ?it/s]"
      ]
     },
     "metadata": {},
     "output_type": "display_data"
    },
    {
     "data": {
      "application/vnd.jupyter.widget-view+json": {
       "model_id": "",
       "version_major": 2,
       "version_minor": 0
      },
      "text/plain": [
       "Sentences Progress:   0%|          | 0/25 [00:00<?, ?it/s]"
      ]
     },
     "metadata": {},
     "output_type": "display_data"
    },
    {
     "data": {
      "application/vnd.jupyter.widget-view+json": {
       "model_id": "",
       "version_major": 2,
       "version_minor": 0
      },
      "text/plain": [
       "Sentences Progress:   0%|          | 0/17 [00:00<?, ?it/s]"
      ]
     },
     "metadata": {},
     "output_type": "display_data"
    },
    {
     "data": {
      "application/vnd.jupyter.widget-view+json": {
       "model_id": "",
       "version_major": 2,
       "version_minor": 0
      },
      "text/plain": [
       "Sentences Progress:   0%|          | 0/6 [00:00<?, ?it/s]"
      ]
     },
     "metadata": {},
     "output_type": "display_data"
    },
    {
     "data": {
      "application/vnd.jupyter.widget-view+json": {
       "model_id": "",
       "version_major": 2,
       "version_minor": 0
      },
      "text/plain": [
       "Sentences Progress:   0%|          | 0/1 [00:00<?, ?it/s]"
      ]
     },
     "metadata": {},
     "output_type": "display_data"
    },
    {
     "data": {
      "application/vnd.jupyter.widget-view+json": {
       "model_id": "",
       "version_major": 2,
       "version_minor": 0
      },
      "text/plain": [
       "Sentences Progress:   0%|          | 0/1 [00:00<?, ?it/s]"
      ]
     },
     "metadata": {},
     "output_type": "display_data"
    },
    {
     "data": {
      "application/vnd.jupyter.widget-view+json": {
       "model_id": "",
       "version_major": 2,
       "version_minor": 0
      },
      "text/plain": [
       "Sentences Progress:   0%|          | 0/10 [00:00<?, ?it/s]"
      ]
     },
     "metadata": {},
     "output_type": "display_data"
    },
    {
     "data": {
      "application/vnd.jupyter.widget-view+json": {
       "model_id": "",
       "version_major": 2,
       "version_minor": 0
      },
      "text/plain": [
       "Sentences Progress:   0%|          | 0/47 [00:00<?, ?it/s]"
      ]
     },
     "metadata": {},
     "output_type": "display_data"
    },
    {
     "data": {
      "application/vnd.jupyter.widget-view+json": {
       "model_id": "",
       "version_major": 2,
       "version_minor": 0
      },
      "text/plain": [
       "Sentences Progress:   0%|          | 0/5 [00:00<?, ?it/s]"
      ]
     },
     "metadata": {},
     "output_type": "display_data"
    },
    {
     "data": {
      "application/vnd.jupyter.widget-view+json": {
       "model_id": "",
       "version_major": 2,
       "version_minor": 0
      },
      "text/plain": [
       "Sentences Progress:   0%|          | 0/20 [00:00<?, ?it/s]"
      ]
     },
     "metadata": {},
     "output_type": "display_data"
    },
    {
     "data": {
      "application/vnd.jupyter.widget-view+json": {
       "model_id": "",
       "version_major": 2,
       "version_minor": 0
      },
      "text/plain": [
       "Sentences Progress:   0%|          | 0/6 [00:00<?, ?it/s]"
      ]
     },
     "metadata": {},
     "output_type": "display_data"
    },
    {
     "data": {
      "application/vnd.jupyter.widget-view+json": {
       "model_id": "",
       "version_major": 2,
       "version_minor": 0
      },
      "text/plain": [
       "Sentences Progress:   0%|          | 0/11 [00:00<?, ?it/s]"
      ]
     },
     "metadata": {},
     "output_type": "display_data"
    },
    {
     "data": {
      "application/vnd.jupyter.widget-view+json": {
       "model_id": "",
       "version_major": 2,
       "version_minor": 0
      },
      "text/plain": [
       "Sentences Progress:   0%|          | 0/7 [00:00<?, ?it/s]"
      ]
     },
     "metadata": {},
     "output_type": "display_data"
    },
    {
     "data": {
      "application/vnd.jupyter.widget-view+json": {
       "model_id": "",
       "version_major": 2,
       "version_minor": 0
      },
      "text/plain": [
       "Sentences Progress:   0%|          | 0/3 [00:00<?, ?it/s]"
      ]
     },
     "metadata": {},
     "output_type": "display_data"
    },
    {
     "data": {
      "application/vnd.jupyter.widget-view+json": {
       "model_id": "",
       "version_major": 2,
       "version_minor": 0
      },
      "text/plain": [
       "Sentences Progress:   0%|          | 0/30 [00:00<?, ?it/s]"
      ]
     },
     "metadata": {},
     "output_type": "display_data"
    },
    {
     "data": {
      "application/vnd.jupyter.widget-view+json": {
       "model_id": "",
       "version_major": 2,
       "version_minor": 0
      },
      "text/plain": [
       "Sentences Progress:   0%|          | 0/6 [00:00<?, ?it/s]"
      ]
     },
     "metadata": {},
     "output_type": "display_data"
    },
    {
     "data": {
      "application/vnd.jupyter.widget-view+json": {
       "model_id": "",
       "version_major": 2,
       "version_minor": 0
      },
      "text/plain": [
       "Sentences Progress:   0%|          | 0/4 [00:00<?, ?it/s]"
      ]
     },
     "metadata": {},
     "output_type": "display_data"
    },
    {
     "data": {
      "application/vnd.jupyter.widget-view+json": {
       "model_id": "",
       "version_major": 2,
       "version_minor": 0
      },
      "text/plain": [
       "Sentences Progress:   0%|          | 0/13 [00:00<?, ?it/s]"
      ]
     },
     "metadata": {},
     "output_type": "display_data"
    },
    {
     "data": {
      "application/vnd.jupyter.widget-view+json": {
       "model_id": "",
       "version_major": 2,
       "version_minor": 0
      },
      "text/plain": [
       "Sentences Progress:   0%|          | 0/11 [00:00<?, ?it/s]"
      ]
     },
     "metadata": {},
     "output_type": "display_data"
    },
    {
     "data": {
      "application/vnd.jupyter.widget-view+json": {
       "model_id": "",
       "version_major": 2,
       "version_minor": 0
      },
      "text/plain": [
       "Sentences Progress:   0%|          | 0/7 [00:00<?, ?it/s]"
      ]
     },
     "metadata": {},
     "output_type": "display_data"
    },
    {
     "data": {
      "application/vnd.jupyter.widget-view+json": {
       "model_id": "",
       "version_major": 2,
       "version_minor": 0
      },
      "text/plain": [
       "Sentences Progress:   0%|          | 0/9 [00:00<?, ?it/s]"
      ]
     },
     "metadata": {},
     "output_type": "display_data"
    },
    {
     "data": {
      "application/vnd.jupyter.widget-view+json": {
       "model_id": "",
       "version_major": 2,
       "version_minor": 0
      },
      "text/plain": [
       "Sentences Progress:   0%|          | 0/4 [00:00<?, ?it/s]"
      ]
     },
     "metadata": {},
     "output_type": "display_data"
    },
    {
     "data": {
      "application/vnd.jupyter.widget-view+json": {
       "model_id": "",
       "version_major": 2,
       "version_minor": 0
      },
      "text/plain": [
       "Sentences Progress:   0%|          | 0/3 [00:00<?, ?it/s]"
      ]
     },
     "metadata": {},
     "output_type": "display_data"
    },
    {
     "data": {
      "application/vnd.jupyter.widget-view+json": {
       "model_id": "",
       "version_major": 2,
       "version_minor": 0
      },
      "text/plain": [
       "Sentences Progress:   0%|          | 0/5 [00:00<?, ?it/s]"
      ]
     },
     "metadata": {},
     "output_type": "display_data"
    },
    {
     "data": {
      "application/vnd.jupyter.widget-view+json": {
       "model_id": "",
       "version_major": 2,
       "version_minor": 0
      },
      "text/plain": [
       "Sentences Progress:   0%|          | 0/8 [00:00<?, ?it/s]"
      ]
     },
     "metadata": {},
     "output_type": "display_data"
    },
    {
     "data": {
      "application/vnd.jupyter.widget-view+json": {
       "model_id": "",
       "version_major": 2,
       "version_minor": 0
      },
      "text/plain": [
       "Sentences Progress:   0%|          | 0/25 [00:00<?, ?it/s]"
      ]
     },
     "metadata": {},
     "output_type": "display_data"
    },
    {
     "data": {
      "application/vnd.jupyter.widget-view+json": {
       "model_id": "",
       "version_major": 2,
       "version_minor": 0
      },
      "text/plain": [
       "Sentences Progress:   0%|          | 0/23 [00:00<?, ?it/s]"
      ]
     },
     "metadata": {},
     "output_type": "display_data"
    },
    {
     "data": {
      "application/vnd.jupyter.widget-view+json": {
       "model_id": "",
       "version_major": 2,
       "version_minor": 0
      },
      "text/plain": [
       "Sentences Progress:   0%|          | 0/6 [00:00<?, ?it/s]"
      ]
     },
     "metadata": {},
     "output_type": "display_data"
    },
    {
     "data": {
      "application/vnd.jupyter.widget-view+json": {
       "model_id": "",
       "version_major": 2,
       "version_minor": 0
      },
      "text/plain": [
       "Sentences Progress:   0%|          | 0/5 [00:00<?, ?it/s]"
      ]
     },
     "metadata": {},
     "output_type": "display_data"
    },
    {
     "ename": "KeyboardInterrupt",
     "evalue": "",
     "output_type": "error",
     "traceback": [
      "\u001b[0;31m---------------------------------------------------------------------------\u001b[0m",
      "\u001b[0;31mKeyError\u001b[0m                                  Traceback (most recent call last)",
      "\u001b[0;32m~/miniconda3/envs/pt_nlp/lib/python3.9/site-packages/traitlets/traitlets.py\u001b[0m in \u001b[0;36mget\u001b[0;34m(self, obj, cls)\u001b[0m\n\u001b[1;32m    536\u001b[0m         \u001b[0;32mtry\u001b[0m\u001b[0;34m:\u001b[0m\u001b[0;34m\u001b[0m\u001b[0;34m\u001b[0m\u001b[0m\n\u001b[0;32m--> 537\u001b[0;31m             \u001b[0mvalue\u001b[0m \u001b[0;34m=\u001b[0m \u001b[0mobj\u001b[0m\u001b[0;34m.\u001b[0m\u001b[0m_trait_values\u001b[0m\u001b[0;34m[\u001b[0m\u001b[0mself\u001b[0m\u001b[0;34m.\u001b[0m\u001b[0mname\u001b[0m\u001b[0;34m]\u001b[0m\u001b[0;34m\u001b[0m\u001b[0;34m\u001b[0m\u001b[0m\n\u001b[0m\u001b[1;32m    538\u001b[0m         \u001b[0;32mexcept\u001b[0m \u001b[0mKeyError\u001b[0m\u001b[0;34m:\u001b[0m\u001b[0;34m\u001b[0m\u001b[0;34m\u001b[0m\u001b[0m\n",
      "\u001b[0;31mKeyError\u001b[0m: 'style'",
      "\nDuring handling of the above exception, another exception occurred:\n",
      "\u001b[0;31mKeyError\u001b[0m                                  Traceback (most recent call last)",
      "\u001b[0;32m~/miniconda3/envs/pt_nlp/lib/python3.9/site-packages/traitlets/traitlets.py\u001b[0m in \u001b[0;36mget\u001b[0;34m(self, obj, cls)\u001b[0m\n\u001b[1;32m    536\u001b[0m         \u001b[0;32mtry\u001b[0m\u001b[0;34m:\u001b[0m\u001b[0;34m\u001b[0m\u001b[0;34m\u001b[0m\u001b[0m\n\u001b[0;32m--> 537\u001b[0;31m             \u001b[0mvalue\u001b[0m \u001b[0;34m=\u001b[0m \u001b[0mobj\u001b[0m\u001b[0;34m.\u001b[0m\u001b[0m_trait_values\u001b[0m\u001b[0;34m[\u001b[0m\u001b[0mself\u001b[0m\u001b[0;34m.\u001b[0m\u001b[0mname\u001b[0m\u001b[0;34m]\u001b[0m\u001b[0;34m\u001b[0m\u001b[0;34m\u001b[0m\u001b[0m\n\u001b[0m\u001b[1;32m    538\u001b[0m         \u001b[0;32mexcept\u001b[0m \u001b[0mKeyError\u001b[0m\u001b[0;34m:\u001b[0m\u001b[0;34m\u001b[0m\u001b[0;34m\u001b[0m\u001b[0m\n",
      "\u001b[0;31mKeyError\u001b[0m: 'description_width'",
      "\nDuring handling of the above exception, another exception occurred:\n",
      "\u001b[0;31mKeyboardInterrupt\u001b[0m                         Traceback (most recent call last)",
      "\u001b[0;32m/tmp/ipykernel_12997/2856475189.py\u001b[0m in \u001b[0;36m<module>\u001b[0;34m\u001b[0m\n\u001b[1;32m     11\u001b[0m                  if sent != '' and sent != ' ' and sent != '\\n' and sent != '\\t' and len(sent) <= 512]\n\u001b[1;32m     12\u001b[0m \u001b[0;34m\u001b[0m\u001b[0m\n\u001b[0;32m---> 13\u001b[0;31m     \u001b[0;32mfor\u001b[0m \u001b[0msent_batch\u001b[0m \u001b[0;32min\u001b[0m \u001b[0mbatch\u001b[0m\u001b[0;34m(\u001b[0m\u001b[0msentences\u001b[0m\u001b[0;34m)\u001b[0m\u001b[0;34m:\u001b[0m\u001b[0;34m\u001b[0m\u001b[0;34m\u001b[0m\u001b[0m\n\u001b[0m\u001b[1;32m     14\u001b[0m         \u001b[0mtagger\u001b[0m\u001b[0;34m.\u001b[0m\u001b[0mpredict\u001b[0m\u001b[0;34m(\u001b[0m\u001b[0msent_batch\u001b[0m\u001b[0;34m)\u001b[0m\u001b[0;34m\u001b[0m\u001b[0;34m\u001b[0m\u001b[0m\n\u001b[1;32m     15\u001b[0m \u001b[0;34m\u001b[0m\u001b[0m\n",
      "\u001b[0;32m/tmp/ipykernel_12997/2856475189.py\u001b[0m in \u001b[0;36mbatch\u001b[0;34m(iterable, n)\u001b[0m\n\u001b[1;32m      1\u001b[0m \u001b[0;32mdef\u001b[0m \u001b[0mbatch\u001b[0m\u001b[0;34m(\u001b[0m\u001b[0miterable\u001b[0m\u001b[0;34m,\u001b[0m \u001b[0mn\u001b[0m\u001b[0;34m=\u001b[0m\u001b[0;36m16\u001b[0m\u001b[0;34m)\u001b[0m\u001b[0;34m:\u001b[0m\u001b[0;34m\u001b[0m\u001b[0;34m\u001b[0m\u001b[0m\n\u001b[1;32m      2\u001b[0m     \u001b[0ml\u001b[0m \u001b[0;34m=\u001b[0m \u001b[0mlen\u001b[0m\u001b[0;34m(\u001b[0m\u001b[0miterable\u001b[0m\u001b[0;34m)\u001b[0m\u001b[0;34m\u001b[0m\u001b[0;34m\u001b[0m\u001b[0m\n\u001b[0;32m----> 3\u001b[0;31m     \u001b[0;32mfor\u001b[0m \u001b[0mndx\u001b[0m \u001b[0;32min\u001b[0m \u001b[0mtqdm\u001b[0m\u001b[0;34m(\u001b[0m\u001b[0mrange\u001b[0m\u001b[0;34m(\u001b[0m\u001b[0;36m0\u001b[0m\u001b[0;34m,\u001b[0m \u001b[0ml\u001b[0m \u001b[0;34m//\u001b[0m \u001b[0;36m3\u001b[0m\u001b[0;34m,\u001b[0m \u001b[0mn\u001b[0m\u001b[0;34m)\u001b[0m\u001b[0;34m,\u001b[0m \u001b[0mleave\u001b[0m\u001b[0;34m=\u001b[0m\u001b[0;32mFalse\u001b[0m\u001b[0;34m,\u001b[0m \u001b[0mdesc\u001b[0m\u001b[0;34m=\u001b[0m\u001b[0;34m'Sentences Progress'\u001b[0m\u001b[0;34m)\u001b[0m\u001b[0;34m:\u001b[0m\u001b[0;34m\u001b[0m\u001b[0;34m\u001b[0m\u001b[0m\n\u001b[0m\u001b[1;32m      4\u001b[0m         \u001b[0;32myield\u001b[0m \u001b[0miterable\u001b[0m\u001b[0;34m[\u001b[0m\u001b[0mndx\u001b[0m\u001b[0;34m:\u001b[0m\u001b[0mmin\u001b[0m\u001b[0;34m(\u001b[0m\u001b[0mndx\u001b[0m \u001b[0;34m+\u001b[0m \u001b[0mn\u001b[0m\u001b[0;34m,\u001b[0m \u001b[0ml\u001b[0m\u001b[0;34m)\u001b[0m\u001b[0;34m]\u001b[0m\u001b[0;34m\u001b[0m\u001b[0;34m\u001b[0m\u001b[0m\n\u001b[1;32m      5\u001b[0m \u001b[0;34m\u001b[0m\u001b[0m\n",
      "\u001b[0;32m~/miniconda3/envs/pt_nlp/lib/python3.9/site-packages/tqdm/notebook.py\u001b[0m in \u001b[0;36m__init__\u001b[0;34m(self, *args, **kwargs)\u001b[0m\n\u001b[1;32m    240\u001b[0m         \u001b[0munit_scale\u001b[0m \u001b[0;34m=\u001b[0m \u001b[0;36m1\u001b[0m \u001b[0;32mif\u001b[0m \u001b[0mself\u001b[0m\u001b[0;34m.\u001b[0m\u001b[0munit_scale\u001b[0m \u001b[0;32mis\u001b[0m \u001b[0;32mTrue\u001b[0m \u001b[0;32melse\u001b[0m \u001b[0mself\u001b[0m\u001b[0;34m.\u001b[0m\u001b[0munit_scale\u001b[0m \u001b[0;32mor\u001b[0m \u001b[0;36m1\u001b[0m\u001b[0;34m\u001b[0m\u001b[0;34m\u001b[0m\u001b[0m\n\u001b[1;32m    241\u001b[0m         \u001b[0mtotal\u001b[0m \u001b[0;34m=\u001b[0m \u001b[0mself\u001b[0m\u001b[0;34m.\u001b[0m\u001b[0mtotal\u001b[0m \u001b[0;34m*\u001b[0m \u001b[0munit_scale\u001b[0m \u001b[0;32mif\u001b[0m \u001b[0mself\u001b[0m\u001b[0;34m.\u001b[0m\u001b[0mtotal\u001b[0m \u001b[0;32melse\u001b[0m \u001b[0mself\u001b[0m\u001b[0;34m.\u001b[0m\u001b[0mtotal\u001b[0m\u001b[0;34m\u001b[0m\u001b[0;34m\u001b[0m\u001b[0m\n\u001b[0;32m--> 242\u001b[0;31m         \u001b[0mself\u001b[0m\u001b[0;34m.\u001b[0m\u001b[0mcontainer\u001b[0m \u001b[0;34m=\u001b[0m \u001b[0mself\u001b[0m\u001b[0;34m.\u001b[0m\u001b[0mstatus_printer\u001b[0m\u001b[0;34m(\u001b[0m\u001b[0mself\u001b[0m\u001b[0;34m.\u001b[0m\u001b[0mfp\u001b[0m\u001b[0;34m,\u001b[0m \u001b[0mtotal\u001b[0m\u001b[0;34m,\u001b[0m \u001b[0mself\u001b[0m\u001b[0;34m.\u001b[0m\u001b[0mdesc\u001b[0m\u001b[0;34m,\u001b[0m \u001b[0mself\u001b[0m\u001b[0;34m.\u001b[0m\u001b[0mncols\u001b[0m\u001b[0;34m)\u001b[0m\u001b[0;34m\u001b[0m\u001b[0;34m\u001b[0m\u001b[0m\n\u001b[0m\u001b[1;32m    243\u001b[0m         \u001b[0mself\u001b[0m\u001b[0;34m.\u001b[0m\u001b[0mcontainer\u001b[0m\u001b[0;34m.\u001b[0m\u001b[0mpbar\u001b[0m \u001b[0;34m=\u001b[0m \u001b[0mproxy\u001b[0m\u001b[0;34m(\u001b[0m\u001b[0mself\u001b[0m\u001b[0;34m)\u001b[0m\u001b[0;34m\u001b[0m\u001b[0;34m\u001b[0m\u001b[0m\n\u001b[1;32m    244\u001b[0m         \u001b[0mself\u001b[0m\u001b[0;34m.\u001b[0m\u001b[0mdisplayed\u001b[0m \u001b[0;34m=\u001b[0m \u001b[0;32mFalse\u001b[0m\u001b[0;34m\u001b[0m\u001b[0;34m\u001b[0m\u001b[0m\n",
      "\u001b[0;32m~/miniconda3/envs/pt_nlp/lib/python3.9/site-packages/tqdm/notebook.py\u001b[0m in \u001b[0;36mstatus_printer\u001b[0;34m(_, total, desc, ncols)\u001b[0m\n\u001b[1;32m    118\u001b[0m                 \"/user_install.html\")\n\u001b[1;32m    119\u001b[0m         \u001b[0;32mif\u001b[0m \u001b[0mtotal\u001b[0m\u001b[0;34m:\u001b[0m\u001b[0;34m\u001b[0m\u001b[0;34m\u001b[0m\u001b[0m\n\u001b[0;32m--> 120\u001b[0;31m             \u001b[0mpbar\u001b[0m \u001b[0;34m=\u001b[0m \u001b[0mIProgress\u001b[0m\u001b[0;34m(\u001b[0m\u001b[0mmin\u001b[0m\u001b[0;34m=\u001b[0m\u001b[0;36m0\u001b[0m\u001b[0;34m,\u001b[0m \u001b[0mmax\u001b[0m\u001b[0;34m=\u001b[0m\u001b[0mtotal\u001b[0m\u001b[0;34m)\u001b[0m\u001b[0;34m\u001b[0m\u001b[0;34m\u001b[0m\u001b[0m\n\u001b[0m\u001b[1;32m    121\u001b[0m         \u001b[0;32melse\u001b[0m\u001b[0;34m:\u001b[0m  \u001b[0;31m# No total? Show info style bar with no progress tqdm status\u001b[0m\u001b[0;34m\u001b[0m\u001b[0;34m\u001b[0m\u001b[0m\n\u001b[1;32m    122\u001b[0m             \u001b[0mpbar\u001b[0m \u001b[0;34m=\u001b[0m \u001b[0mIProgress\u001b[0m\u001b[0;34m(\u001b[0m\u001b[0mmin\u001b[0m\u001b[0;34m=\u001b[0m\u001b[0;36m0\u001b[0m\u001b[0;34m,\u001b[0m \u001b[0mmax\u001b[0m\u001b[0;34m=\u001b[0m\u001b[0;36m1\u001b[0m\u001b[0;34m)\u001b[0m\u001b[0;34m\u001b[0m\u001b[0;34m\u001b[0m\u001b[0m\n",
      "\u001b[0;32m~/miniconda3/envs/pt_nlp/lib/python3.9/site-packages/ipywidgets/widgets/widget_float.py\u001b[0m in \u001b[0;36m__init__\u001b[0;34m(self, value, **kwargs)\u001b[0m\n\u001b[1;32m     24\u001b[0m         \u001b[0;32mif\u001b[0m \u001b[0mvalue\u001b[0m \u001b[0;32mis\u001b[0m \u001b[0;32mnot\u001b[0m \u001b[0;32mNone\u001b[0m\u001b[0;34m:\u001b[0m\u001b[0;34m\u001b[0m\u001b[0;34m\u001b[0m\u001b[0m\n\u001b[1;32m     25\u001b[0m             \u001b[0mkwargs\u001b[0m\u001b[0;34m[\u001b[0m\u001b[0;34m'value'\u001b[0m\u001b[0;34m]\u001b[0m \u001b[0;34m=\u001b[0m \u001b[0mvalue\u001b[0m\u001b[0;34m\u001b[0m\u001b[0;34m\u001b[0m\u001b[0m\n\u001b[0;32m---> 26\u001b[0;31m         \u001b[0msuper\u001b[0m\u001b[0;34m(\u001b[0m\u001b[0m_Float\u001b[0m\u001b[0;34m,\u001b[0m \u001b[0mself\u001b[0m\u001b[0;34m)\u001b[0m\u001b[0;34m.\u001b[0m\u001b[0m__init__\u001b[0m\u001b[0;34m(\u001b[0m\u001b[0;34m**\u001b[0m\u001b[0mkwargs\u001b[0m\u001b[0;34m)\u001b[0m\u001b[0;34m\u001b[0m\u001b[0;34m\u001b[0m\u001b[0m\n\u001b[0m\u001b[1;32m     27\u001b[0m \u001b[0;34m\u001b[0m\u001b[0m\n\u001b[1;32m     28\u001b[0m \u001b[0;34m\u001b[0m\u001b[0m\n",
      "\u001b[0;32m~/miniconda3/envs/pt_nlp/lib/python3.9/site-packages/ipywidgets/widgets/widget.py\u001b[0m in \u001b[0;36m__init__\u001b[0;34m(self, **kwargs)\u001b[0m\n\u001b[1;32m    413\u001b[0m \u001b[0;34m\u001b[0m\u001b[0m\n\u001b[1;32m    414\u001b[0m         \u001b[0mWidget\u001b[0m\u001b[0;34m.\u001b[0m\u001b[0m_call_widget_constructed\u001b[0m\u001b[0;34m(\u001b[0m\u001b[0mself\u001b[0m\u001b[0;34m)\u001b[0m\u001b[0;34m\u001b[0m\u001b[0;34m\u001b[0m\u001b[0m\n\u001b[0;32m--> 415\u001b[0;31m         \u001b[0mself\u001b[0m\u001b[0;34m.\u001b[0m\u001b[0mopen\u001b[0m\u001b[0;34m(\u001b[0m\u001b[0;34m)\u001b[0m\u001b[0;34m\u001b[0m\u001b[0;34m\u001b[0m\u001b[0m\n\u001b[0m\u001b[1;32m    416\u001b[0m \u001b[0;34m\u001b[0m\u001b[0m\n\u001b[1;32m    417\u001b[0m     \u001b[0;32mdef\u001b[0m \u001b[0m__del__\u001b[0m\u001b[0;34m(\u001b[0m\u001b[0mself\u001b[0m\u001b[0;34m)\u001b[0m\u001b[0;34m:\u001b[0m\u001b[0;34m\u001b[0m\u001b[0;34m\u001b[0m\u001b[0m\n",
      "\u001b[0;32m~/miniconda3/envs/pt_nlp/lib/python3.9/site-packages/ipywidgets/widgets/widget.py\u001b[0m in \u001b[0;36mopen\u001b[0;34m(self)\u001b[0m\n\u001b[1;32m    426\u001b[0m         \u001b[0;34m\"\"\"Open a comm to the frontend if one isn't already open.\"\"\"\u001b[0m\u001b[0;34m\u001b[0m\u001b[0;34m\u001b[0m\u001b[0m\n\u001b[1;32m    427\u001b[0m         \u001b[0;32mif\u001b[0m \u001b[0mself\u001b[0m\u001b[0;34m.\u001b[0m\u001b[0mcomm\u001b[0m \u001b[0;32mis\u001b[0m \u001b[0;32mNone\u001b[0m\u001b[0;34m:\u001b[0m\u001b[0;34m\u001b[0m\u001b[0;34m\u001b[0m\u001b[0m\n\u001b[0;32m--> 428\u001b[0;31m             \u001b[0mstate\u001b[0m\u001b[0;34m,\u001b[0m \u001b[0mbuffer_paths\u001b[0m\u001b[0;34m,\u001b[0m \u001b[0mbuffers\u001b[0m \u001b[0;34m=\u001b[0m \u001b[0m_remove_buffers\u001b[0m\u001b[0;34m(\u001b[0m\u001b[0mself\u001b[0m\u001b[0;34m.\u001b[0m\u001b[0mget_state\u001b[0m\u001b[0;34m(\u001b[0m\u001b[0;34m)\u001b[0m\u001b[0;34m)\u001b[0m\u001b[0;34m\u001b[0m\u001b[0;34m\u001b[0m\u001b[0m\n\u001b[0m\u001b[1;32m    429\u001b[0m \u001b[0;34m\u001b[0m\u001b[0m\n\u001b[1;32m    430\u001b[0m             args = dict(target_name='jupyter.widget',\n",
      "\u001b[0;32m~/miniconda3/envs/pt_nlp/lib/python3.9/site-packages/ipywidgets/widgets/widget.py\u001b[0m in \u001b[0;36mget_state\u001b[0;34m(self, key, drop_defaults)\u001b[0m\n\u001b[1;32m    516\u001b[0m         \u001b[0;32mfor\u001b[0m \u001b[0mk\u001b[0m \u001b[0;32min\u001b[0m \u001b[0mkeys\u001b[0m\u001b[0;34m:\u001b[0m\u001b[0;34m\u001b[0m\u001b[0;34m\u001b[0m\u001b[0m\n\u001b[1;32m    517\u001b[0m             \u001b[0mto_json\u001b[0m \u001b[0;34m=\u001b[0m \u001b[0mself\u001b[0m\u001b[0;34m.\u001b[0m\u001b[0mtrait_metadata\u001b[0m\u001b[0;34m(\u001b[0m\u001b[0mk\u001b[0m\u001b[0;34m,\u001b[0m \u001b[0;34m'to_json'\u001b[0m\u001b[0;34m,\u001b[0m \u001b[0mself\u001b[0m\u001b[0;34m.\u001b[0m\u001b[0m_trait_to_json\u001b[0m\u001b[0;34m)\u001b[0m\u001b[0;34m\u001b[0m\u001b[0;34m\u001b[0m\u001b[0m\n\u001b[0;32m--> 518\u001b[0;31m             \u001b[0mvalue\u001b[0m \u001b[0;34m=\u001b[0m \u001b[0mto_json\u001b[0m\u001b[0;34m(\u001b[0m\u001b[0mgetattr\u001b[0m\u001b[0;34m(\u001b[0m\u001b[0mself\u001b[0m\u001b[0;34m,\u001b[0m \u001b[0mk\u001b[0m\u001b[0;34m)\u001b[0m\u001b[0;34m,\u001b[0m \u001b[0mself\u001b[0m\u001b[0;34m)\u001b[0m\u001b[0;34m\u001b[0m\u001b[0;34m\u001b[0m\u001b[0m\n\u001b[0m\u001b[1;32m    519\u001b[0m             \u001b[0;32mif\u001b[0m \u001b[0;32mnot\u001b[0m \u001b[0mPY3\u001b[0m \u001b[0;32mand\u001b[0m \u001b[0misinstance\u001b[0m\u001b[0;34m(\u001b[0m\u001b[0mtraits\u001b[0m\u001b[0;34m[\u001b[0m\u001b[0mk\u001b[0m\u001b[0;34m]\u001b[0m\u001b[0;34m,\u001b[0m \u001b[0mBytes\u001b[0m\u001b[0;34m)\u001b[0m \u001b[0;32mand\u001b[0m \u001b[0misinstance\u001b[0m\u001b[0;34m(\u001b[0m\u001b[0mvalue\u001b[0m\u001b[0;34m,\u001b[0m \u001b[0mbytes\u001b[0m\u001b[0;34m)\u001b[0m\u001b[0;34m:\u001b[0m\u001b[0;34m\u001b[0m\u001b[0;34m\u001b[0m\u001b[0m\n\u001b[1;32m    520\u001b[0m                 \u001b[0mvalue\u001b[0m \u001b[0;34m=\u001b[0m \u001b[0mmemoryview\u001b[0m\u001b[0;34m(\u001b[0m\u001b[0mvalue\u001b[0m\u001b[0;34m)\u001b[0m\u001b[0;34m\u001b[0m\u001b[0;34m\u001b[0m\u001b[0m\n",
      "\u001b[0;32m~/miniconda3/envs/pt_nlp/lib/python3.9/site-packages/traitlets/traitlets.py\u001b[0m in \u001b[0;36m__get__\u001b[0;34m(self, obj, cls)\u001b[0m\n\u001b[1;32m    575\u001b[0m             \u001b[0;32mreturn\u001b[0m \u001b[0mself\u001b[0m\u001b[0;34m\u001b[0m\u001b[0;34m\u001b[0m\u001b[0m\n\u001b[1;32m    576\u001b[0m         \u001b[0;32melse\u001b[0m\u001b[0;34m:\u001b[0m\u001b[0;34m\u001b[0m\u001b[0;34m\u001b[0m\u001b[0m\n\u001b[0;32m--> 577\u001b[0;31m             \u001b[0;32mreturn\u001b[0m \u001b[0mself\u001b[0m\u001b[0;34m.\u001b[0m\u001b[0mget\u001b[0m\u001b[0;34m(\u001b[0m\u001b[0mobj\u001b[0m\u001b[0;34m,\u001b[0m \u001b[0mcls\u001b[0m\u001b[0;34m)\u001b[0m\u001b[0;34m\u001b[0m\u001b[0;34m\u001b[0m\u001b[0m\n\u001b[0m\u001b[1;32m    578\u001b[0m \u001b[0;34m\u001b[0m\u001b[0m\n\u001b[1;32m    579\u001b[0m     \u001b[0;32mdef\u001b[0m \u001b[0mset\u001b[0m\u001b[0;34m(\u001b[0m\u001b[0mself\u001b[0m\u001b[0;34m,\u001b[0m \u001b[0mobj\u001b[0m\u001b[0;34m,\u001b[0m \u001b[0mvalue\u001b[0m\u001b[0;34m)\u001b[0m\u001b[0;34m:\u001b[0m\u001b[0;34m\u001b[0m\u001b[0;34m\u001b[0m\u001b[0m\n",
      "\u001b[0;32m~/miniconda3/envs/pt_nlp/lib/python3.9/site-packages/traitlets/traitlets.py\u001b[0m in \u001b[0;36mget\u001b[0;34m(self, obj, cls)\u001b[0m\n\u001b[1;32m    538\u001b[0m         \u001b[0;32mexcept\u001b[0m \u001b[0mKeyError\u001b[0m\u001b[0;34m:\u001b[0m\u001b[0;34m\u001b[0m\u001b[0;34m\u001b[0m\u001b[0m\n\u001b[1;32m    539\u001b[0m             \u001b[0;31m# Check for a dynamic initializer.\u001b[0m\u001b[0;34m\u001b[0m\u001b[0;34m\u001b[0m\u001b[0m\n\u001b[0;32m--> 540\u001b[0;31m             \u001b[0mdefault\u001b[0m \u001b[0;34m=\u001b[0m \u001b[0mobj\u001b[0m\u001b[0;34m.\u001b[0m\u001b[0mtrait_defaults\u001b[0m\u001b[0;34m(\u001b[0m\u001b[0mself\u001b[0m\u001b[0;34m.\u001b[0m\u001b[0mname\u001b[0m\u001b[0;34m)\u001b[0m\u001b[0;34m\u001b[0m\u001b[0;34m\u001b[0m\u001b[0m\n\u001b[0m\u001b[1;32m    541\u001b[0m             \u001b[0;32mif\u001b[0m \u001b[0mdefault\u001b[0m \u001b[0;32mis\u001b[0m \u001b[0mUndefined\u001b[0m\u001b[0;34m:\u001b[0m\u001b[0;34m\u001b[0m\u001b[0;34m\u001b[0m\u001b[0m\n\u001b[1;32m    542\u001b[0m                 warn(\n",
      "\u001b[0;32m~/miniconda3/envs/pt_nlp/lib/python3.9/site-packages/traitlets/traitlets.py\u001b[0m in \u001b[0;36mtrait_defaults\u001b[0;34m(self, *names, **metadata)\u001b[0m\n\u001b[1;32m   1578\u001b[0m \u001b[0;34m\u001b[0m\u001b[0m\n\u001b[1;32m   1579\u001b[0m         \u001b[0;32mif\u001b[0m \u001b[0mlen\u001b[0m\u001b[0;34m(\u001b[0m\u001b[0mnames\u001b[0m\u001b[0;34m)\u001b[0m \u001b[0;34m==\u001b[0m \u001b[0;36m1\u001b[0m \u001b[0;32mand\u001b[0m \u001b[0mlen\u001b[0m\u001b[0;34m(\u001b[0m\u001b[0mmetadata\u001b[0m\u001b[0;34m)\u001b[0m \u001b[0;34m==\u001b[0m \u001b[0;36m0\u001b[0m\u001b[0;34m:\u001b[0m\u001b[0;34m\u001b[0m\u001b[0;34m\u001b[0m\u001b[0m\n\u001b[0;32m-> 1580\u001b[0;31m             \u001b[0;32mreturn\u001b[0m \u001b[0mself\u001b[0m\u001b[0;34m.\u001b[0m\u001b[0m_get_trait_default_generator\u001b[0m\u001b[0;34m(\u001b[0m\u001b[0mnames\u001b[0m\u001b[0;34m[\u001b[0m\u001b[0;36m0\u001b[0m\u001b[0;34m]\u001b[0m\u001b[0;34m)\u001b[0m\u001b[0;34m(\u001b[0m\u001b[0mself\u001b[0m\u001b[0;34m)\u001b[0m\u001b[0;34m\u001b[0m\u001b[0;34m\u001b[0m\u001b[0m\n\u001b[0m\u001b[1;32m   1581\u001b[0m \u001b[0;34m\u001b[0m\u001b[0m\n\u001b[1;32m   1582\u001b[0m         \u001b[0mtrait_names\u001b[0m \u001b[0;34m=\u001b[0m \u001b[0mself\u001b[0m\u001b[0;34m.\u001b[0m\u001b[0mtrait_names\u001b[0m\u001b[0;34m(\u001b[0m\u001b[0;34m**\u001b[0m\u001b[0mmetadata\u001b[0m\u001b[0;34m)\u001b[0m\u001b[0;34m\u001b[0m\u001b[0;34m\u001b[0m\u001b[0m\n",
      "\u001b[0;32m~/miniconda3/envs/pt_nlp/lib/python3.9/site-packages/traitlets/traitlets.py\u001b[0m in \u001b[0;36mdefault\u001b[0;34m(self, obj)\u001b[0m\n\u001b[1;32m    511\u001b[0m             \u001b[0;32mreturn\u001b[0m \u001b[0mself\u001b[0m\u001b[0;34m.\u001b[0m\u001b[0mdefault_value\u001b[0m\u001b[0;34m\u001b[0m\u001b[0;34m\u001b[0m\u001b[0m\n\u001b[1;32m    512\u001b[0m         \u001b[0;32melif\u001b[0m \u001b[0mhasattr\u001b[0m\u001b[0;34m(\u001b[0m\u001b[0mself\u001b[0m\u001b[0;34m,\u001b[0m \u001b[0;34m'make_dynamic_default'\u001b[0m\u001b[0;34m)\u001b[0m\u001b[0;34m:\u001b[0m\u001b[0;34m\u001b[0m\u001b[0;34m\u001b[0m\u001b[0m\n\u001b[0;32m--> 513\u001b[0;31m             \u001b[0;32mreturn\u001b[0m \u001b[0mself\u001b[0m\u001b[0;34m.\u001b[0m\u001b[0mmake_dynamic_default\u001b[0m\u001b[0;34m(\u001b[0m\u001b[0;34m)\u001b[0m\u001b[0;34m\u001b[0m\u001b[0;34m\u001b[0m\u001b[0m\n\u001b[0m\u001b[1;32m    514\u001b[0m         \u001b[0;32melse\u001b[0m\u001b[0;34m:\u001b[0m\u001b[0;34m\u001b[0m\u001b[0;34m\u001b[0m\u001b[0m\n\u001b[1;32m    515\u001b[0m             \u001b[0;31m# Undefined will raise in TraitType.get\u001b[0m\u001b[0;34m\u001b[0m\u001b[0;34m\u001b[0m\u001b[0m\n",
      "\u001b[0;32m~/miniconda3/envs/pt_nlp/lib/python3.9/site-packages/ipywidgets/widgets/trait_types.py\u001b[0m in \u001b[0;36mmake_dynamic_default\u001b[0;34m(self)\u001b[0m\n\u001b[1;32m    166\u001b[0m \u001b[0;34m\u001b[0m\u001b[0m\n\u001b[1;32m    167\u001b[0m     \u001b[0;32mdef\u001b[0m \u001b[0mmake_dynamic_default\u001b[0m\u001b[0;34m(\u001b[0m\u001b[0mself\u001b[0m\u001b[0;34m)\u001b[0m\u001b[0;34m:\u001b[0m\u001b[0;34m\u001b[0m\u001b[0;34m\u001b[0m\u001b[0m\n\u001b[0;32m--> 168\u001b[0;31m         return self.klass(*(self.default_args or ()),\n\u001b[0m\u001b[1;32m    169\u001b[0m                           **(self.default_kwargs or {}))\n\u001b[1;32m    170\u001b[0m \u001b[0;34m\u001b[0m\u001b[0m\n",
      "\u001b[0;32m~/miniconda3/envs/pt_nlp/lib/python3.9/site-packages/ipywidgets/widgets/widget.py\u001b[0m in \u001b[0;36m__init__\u001b[0;34m(self, **kwargs)\u001b[0m\n\u001b[1;32m    413\u001b[0m \u001b[0;34m\u001b[0m\u001b[0m\n\u001b[1;32m    414\u001b[0m         \u001b[0mWidget\u001b[0m\u001b[0;34m.\u001b[0m\u001b[0m_call_widget_constructed\u001b[0m\u001b[0;34m(\u001b[0m\u001b[0mself\u001b[0m\u001b[0;34m)\u001b[0m\u001b[0;34m\u001b[0m\u001b[0;34m\u001b[0m\u001b[0m\n\u001b[0;32m--> 415\u001b[0;31m         \u001b[0mself\u001b[0m\u001b[0;34m.\u001b[0m\u001b[0mopen\u001b[0m\u001b[0;34m(\u001b[0m\u001b[0;34m)\u001b[0m\u001b[0;34m\u001b[0m\u001b[0;34m\u001b[0m\u001b[0m\n\u001b[0m\u001b[1;32m    416\u001b[0m \u001b[0;34m\u001b[0m\u001b[0m\n\u001b[1;32m    417\u001b[0m     \u001b[0;32mdef\u001b[0m \u001b[0m__del__\u001b[0m\u001b[0;34m(\u001b[0m\u001b[0mself\u001b[0m\u001b[0;34m)\u001b[0m\u001b[0;34m:\u001b[0m\u001b[0;34m\u001b[0m\u001b[0;34m\u001b[0m\u001b[0m\n",
      "\u001b[0;32m~/miniconda3/envs/pt_nlp/lib/python3.9/site-packages/ipywidgets/widgets/widget.py\u001b[0m in \u001b[0;36mopen\u001b[0;34m(self)\u001b[0m\n\u001b[1;32m    426\u001b[0m         \u001b[0;34m\"\"\"Open a comm to the frontend if one isn't already open.\"\"\"\u001b[0m\u001b[0;34m\u001b[0m\u001b[0;34m\u001b[0m\u001b[0m\n\u001b[1;32m    427\u001b[0m         \u001b[0;32mif\u001b[0m \u001b[0mself\u001b[0m\u001b[0;34m.\u001b[0m\u001b[0mcomm\u001b[0m \u001b[0;32mis\u001b[0m \u001b[0;32mNone\u001b[0m\u001b[0;34m:\u001b[0m\u001b[0;34m\u001b[0m\u001b[0;34m\u001b[0m\u001b[0m\n\u001b[0;32m--> 428\u001b[0;31m             \u001b[0mstate\u001b[0m\u001b[0;34m,\u001b[0m \u001b[0mbuffer_paths\u001b[0m\u001b[0;34m,\u001b[0m \u001b[0mbuffers\u001b[0m \u001b[0;34m=\u001b[0m \u001b[0m_remove_buffers\u001b[0m\u001b[0;34m(\u001b[0m\u001b[0mself\u001b[0m\u001b[0;34m.\u001b[0m\u001b[0mget_state\u001b[0m\u001b[0;34m(\u001b[0m\u001b[0;34m)\u001b[0m\u001b[0;34m)\u001b[0m\u001b[0;34m\u001b[0m\u001b[0;34m\u001b[0m\u001b[0m\n\u001b[0m\u001b[1;32m    429\u001b[0m \u001b[0;34m\u001b[0m\u001b[0m\n\u001b[1;32m    430\u001b[0m             args = dict(target_name='jupyter.widget',\n",
      "\u001b[0;32m~/miniconda3/envs/pt_nlp/lib/python3.9/site-packages/ipywidgets/widgets/widget.py\u001b[0m in \u001b[0;36mget_state\u001b[0;34m(self, key, drop_defaults)\u001b[0m\n\u001b[1;32m    516\u001b[0m         \u001b[0;32mfor\u001b[0m \u001b[0mk\u001b[0m \u001b[0;32min\u001b[0m \u001b[0mkeys\u001b[0m\u001b[0;34m:\u001b[0m\u001b[0;34m\u001b[0m\u001b[0;34m\u001b[0m\u001b[0m\n\u001b[1;32m    517\u001b[0m             \u001b[0mto_json\u001b[0m \u001b[0;34m=\u001b[0m \u001b[0mself\u001b[0m\u001b[0;34m.\u001b[0m\u001b[0mtrait_metadata\u001b[0m\u001b[0;34m(\u001b[0m\u001b[0mk\u001b[0m\u001b[0;34m,\u001b[0m \u001b[0;34m'to_json'\u001b[0m\u001b[0;34m,\u001b[0m \u001b[0mself\u001b[0m\u001b[0;34m.\u001b[0m\u001b[0m_trait_to_json\u001b[0m\u001b[0;34m)\u001b[0m\u001b[0;34m\u001b[0m\u001b[0;34m\u001b[0m\u001b[0m\n\u001b[0;32m--> 518\u001b[0;31m             \u001b[0mvalue\u001b[0m \u001b[0;34m=\u001b[0m \u001b[0mto_json\u001b[0m\u001b[0;34m(\u001b[0m\u001b[0mgetattr\u001b[0m\u001b[0;34m(\u001b[0m\u001b[0mself\u001b[0m\u001b[0;34m,\u001b[0m \u001b[0mk\u001b[0m\u001b[0;34m)\u001b[0m\u001b[0;34m,\u001b[0m \u001b[0mself\u001b[0m\u001b[0;34m)\u001b[0m\u001b[0;34m\u001b[0m\u001b[0;34m\u001b[0m\u001b[0m\n\u001b[0m\u001b[1;32m    519\u001b[0m             \u001b[0;32mif\u001b[0m \u001b[0;32mnot\u001b[0m \u001b[0mPY3\u001b[0m \u001b[0;32mand\u001b[0m \u001b[0misinstance\u001b[0m\u001b[0;34m(\u001b[0m\u001b[0mtraits\u001b[0m\u001b[0;34m[\u001b[0m\u001b[0mk\u001b[0m\u001b[0;34m]\u001b[0m\u001b[0;34m,\u001b[0m \u001b[0mBytes\u001b[0m\u001b[0;34m)\u001b[0m \u001b[0;32mand\u001b[0m \u001b[0misinstance\u001b[0m\u001b[0;34m(\u001b[0m\u001b[0mvalue\u001b[0m\u001b[0;34m,\u001b[0m \u001b[0mbytes\u001b[0m\u001b[0;34m)\u001b[0m\u001b[0;34m:\u001b[0m\u001b[0;34m\u001b[0m\u001b[0;34m\u001b[0m\u001b[0m\n\u001b[1;32m    520\u001b[0m                 \u001b[0mvalue\u001b[0m \u001b[0;34m=\u001b[0m \u001b[0mmemoryview\u001b[0m\u001b[0;34m(\u001b[0m\u001b[0mvalue\u001b[0m\u001b[0;34m)\u001b[0m\u001b[0;34m\u001b[0m\u001b[0;34m\u001b[0m\u001b[0m\n",
      "\u001b[0;32m~/miniconda3/envs/pt_nlp/lib/python3.9/site-packages/traitlets/traitlets.py\u001b[0m in \u001b[0;36m__get__\u001b[0;34m(self, obj, cls)\u001b[0m\n\u001b[1;32m    575\u001b[0m             \u001b[0;32mreturn\u001b[0m \u001b[0mself\u001b[0m\u001b[0;34m\u001b[0m\u001b[0;34m\u001b[0m\u001b[0m\n\u001b[1;32m    576\u001b[0m         \u001b[0;32melse\u001b[0m\u001b[0;34m:\u001b[0m\u001b[0;34m\u001b[0m\u001b[0;34m\u001b[0m\u001b[0m\n\u001b[0;32m--> 577\u001b[0;31m             \u001b[0;32mreturn\u001b[0m \u001b[0mself\u001b[0m\u001b[0;34m.\u001b[0m\u001b[0mget\u001b[0m\u001b[0;34m(\u001b[0m\u001b[0mobj\u001b[0m\u001b[0;34m,\u001b[0m \u001b[0mcls\u001b[0m\u001b[0;34m)\u001b[0m\u001b[0;34m\u001b[0m\u001b[0;34m\u001b[0m\u001b[0m\n\u001b[0m\u001b[1;32m    578\u001b[0m \u001b[0;34m\u001b[0m\u001b[0m\n\u001b[1;32m    579\u001b[0m     \u001b[0;32mdef\u001b[0m \u001b[0mset\u001b[0m\u001b[0;34m(\u001b[0m\u001b[0mself\u001b[0m\u001b[0;34m,\u001b[0m \u001b[0mobj\u001b[0m\u001b[0;34m,\u001b[0m \u001b[0mvalue\u001b[0m\u001b[0;34m)\u001b[0m\u001b[0;34m:\u001b[0m\u001b[0;34m\u001b[0m\u001b[0;34m\u001b[0m\u001b[0m\n",
      "\u001b[0;32m~/miniconda3/envs/pt_nlp/lib/python3.9/site-packages/traitlets/traitlets.py\u001b[0m in \u001b[0;36mget\u001b[0;34m(self, obj, cls)\u001b[0m\n\u001b[1;32m    538\u001b[0m         \u001b[0;32mexcept\u001b[0m \u001b[0mKeyError\u001b[0m\u001b[0;34m:\u001b[0m\u001b[0;34m\u001b[0m\u001b[0;34m\u001b[0m\u001b[0m\n\u001b[1;32m    539\u001b[0m             \u001b[0;31m# Check for a dynamic initializer.\u001b[0m\u001b[0;34m\u001b[0m\u001b[0;34m\u001b[0m\u001b[0m\n\u001b[0;32m--> 540\u001b[0;31m             \u001b[0mdefault\u001b[0m \u001b[0;34m=\u001b[0m \u001b[0mobj\u001b[0m\u001b[0;34m.\u001b[0m\u001b[0mtrait_defaults\u001b[0m\u001b[0;34m(\u001b[0m\u001b[0mself\u001b[0m\u001b[0;34m.\u001b[0m\u001b[0mname\u001b[0m\u001b[0;34m)\u001b[0m\u001b[0;34m\u001b[0m\u001b[0;34m\u001b[0m\u001b[0m\n\u001b[0m\u001b[1;32m    541\u001b[0m             \u001b[0;32mif\u001b[0m \u001b[0mdefault\u001b[0m \u001b[0;32mis\u001b[0m \u001b[0mUndefined\u001b[0m\u001b[0;34m:\u001b[0m\u001b[0;34m\u001b[0m\u001b[0;34m\u001b[0m\u001b[0m\n\u001b[1;32m    542\u001b[0m                 warn(\n",
      "\u001b[0;32m~/miniconda3/envs/pt_nlp/lib/python3.9/site-packages/traitlets/traitlets.py\u001b[0m in \u001b[0;36mtrait_defaults\u001b[0;34m(self, *names, **metadata)\u001b[0m\n\u001b[1;32m   1578\u001b[0m \u001b[0;34m\u001b[0m\u001b[0m\n\u001b[1;32m   1579\u001b[0m         \u001b[0;32mif\u001b[0m \u001b[0mlen\u001b[0m\u001b[0;34m(\u001b[0m\u001b[0mnames\u001b[0m\u001b[0;34m)\u001b[0m \u001b[0;34m==\u001b[0m \u001b[0;36m1\u001b[0m \u001b[0;32mand\u001b[0m \u001b[0mlen\u001b[0m\u001b[0;34m(\u001b[0m\u001b[0mmetadata\u001b[0m\u001b[0;34m)\u001b[0m \u001b[0;34m==\u001b[0m \u001b[0;36m0\u001b[0m\u001b[0;34m:\u001b[0m\u001b[0;34m\u001b[0m\u001b[0;34m\u001b[0m\u001b[0m\n\u001b[0;32m-> 1580\u001b[0;31m             \u001b[0;32mreturn\u001b[0m \u001b[0mself\u001b[0m\u001b[0;34m.\u001b[0m\u001b[0m_get_trait_default_generator\u001b[0m\u001b[0;34m(\u001b[0m\u001b[0mnames\u001b[0m\u001b[0;34m[\u001b[0m\u001b[0;36m0\u001b[0m\u001b[0;34m]\u001b[0m\u001b[0;34m)\u001b[0m\u001b[0;34m(\u001b[0m\u001b[0mself\u001b[0m\u001b[0;34m)\u001b[0m\u001b[0;34m\u001b[0m\u001b[0;34m\u001b[0m\u001b[0m\n\u001b[0m\u001b[1;32m   1581\u001b[0m \u001b[0;34m\u001b[0m\u001b[0m\n\u001b[1;32m   1582\u001b[0m         \u001b[0mtrait_names\u001b[0m \u001b[0;34m=\u001b[0m \u001b[0mself\u001b[0m\u001b[0;34m.\u001b[0m\u001b[0mtrait_names\u001b[0m\u001b[0;34m(\u001b[0m\u001b[0;34m**\u001b[0m\u001b[0mmetadata\u001b[0m\u001b[0;34m)\u001b[0m\u001b[0;34m\u001b[0m\u001b[0;34m\u001b[0m\u001b[0m\n",
      "\u001b[0;32m~/miniconda3/envs/pt_nlp/lib/python3.9/site-packages/traitlets/traitlets.py\u001b[0m in \u001b[0;36mdefault\u001b[0;34m(self, obj)\u001b[0m\n\u001b[1;32m    509\u001b[0m         \"\"\"\n\u001b[1;32m    510\u001b[0m         \u001b[0;32mif\u001b[0m \u001b[0mself\u001b[0m\u001b[0;34m.\u001b[0m\u001b[0mdefault_value\u001b[0m \u001b[0;32mis\u001b[0m \u001b[0;32mnot\u001b[0m \u001b[0mUndefined\u001b[0m\u001b[0;34m:\u001b[0m\u001b[0;34m\u001b[0m\u001b[0;34m\u001b[0m\u001b[0m\n\u001b[0;32m--> 511\u001b[0;31m             \u001b[0;32mreturn\u001b[0m \u001b[0mself\u001b[0m\u001b[0;34m.\u001b[0m\u001b[0mdefault_value\u001b[0m\u001b[0;34m\u001b[0m\u001b[0;34m\u001b[0m\u001b[0m\n\u001b[0m\u001b[1;32m    512\u001b[0m         \u001b[0;32melif\u001b[0m \u001b[0mhasattr\u001b[0m\u001b[0;34m(\u001b[0m\u001b[0mself\u001b[0m\u001b[0;34m,\u001b[0m \u001b[0;34m'make_dynamic_default'\u001b[0m\u001b[0;34m)\u001b[0m\u001b[0;34m:\u001b[0m\u001b[0;34m\u001b[0m\u001b[0;34m\u001b[0m\u001b[0m\n\u001b[1;32m    513\u001b[0m             \u001b[0;32mreturn\u001b[0m \u001b[0mself\u001b[0m\u001b[0;34m.\u001b[0m\u001b[0mmake_dynamic_default\u001b[0m\u001b[0;34m(\u001b[0m\u001b[0;34m)\u001b[0m\u001b[0;34m\u001b[0m\u001b[0;34m\u001b[0m\u001b[0m\n",
      "\u001b[0;31mKeyboardInterrupt\u001b[0m: "
     ]
    }
   ],
   "source": [
    "def batch(iterable, n=16):\n",
    "    l = len(iterable)\n",
    "    for ndx in tqdm(range(0, l // 3, n), leave=False, desc='Sentences Progress'):\n",
    "        yield iterable[ndx:min(ndx + n, l)]\n",
    "\n",
    "pages = pd.read_csv('pages_content.csv')['raw_text'].values.tolist()\n",
    "urls = pd.read_csv('furniture stores pages.csv').values.tolist()\n",
    "\n",
    "for pid in tqdm(list(range(len(pages))), desc='Pages Progress'):\n",
    "    page = ast.literal_eval(pages[pid])\n",
    "    sentences = [Sentence(sent[:min(len(sent), 512)], use_tokenizer=True) for line in page for sent in split_single(line)\n",
    "                 if sent != '' and sent != ' ' and sent != '\\n' and sent != '\\t']\n",
    "    \n",
    "    for sent_batch in batch(sentences):        \n",
    "        tagger.predict(sent_batch)\n",
    "\n",
    "    entities = []\n",
    "    for sent in sentences:\n",
    "        for entity in sent.get_spans('ner'):\n",
    "            if entity.tag == 'PRODUCT' and entity.score > 0.9:\n",
    "                print(entity.to_plain_string())\n",
    "                entities.append(entity.to_plain_string())\n",
    "                \n",
    "pd.DataFrame({'url': urls, 'product': entities}).to_csv('EXTRACTED_PRODS.csv') "
   ]
  },
  {
   "cell_type": "code",
   "execution_count": null,
   "id": "41e328aa",
   "metadata": {},
   "outputs": [],
   "source": []
  }
 ],
 "metadata": {
  "kernelspec": {
   "display_name": "Python 3 (ipykernel)",
   "language": "python",
   "name": "python3"
  },
  "language_info": {
   "codemirror_mode": {
    "name": "ipython",
    "version": 3
   },
   "file_extension": ".py",
   "mimetype": "text/x-python",
   "name": "python",
   "nbconvert_exporter": "python",
   "pygments_lexer": "ipython3",
   "version": "3.9.7"
  }
 },
 "nbformat": 4,
 "nbformat_minor": 5
}
