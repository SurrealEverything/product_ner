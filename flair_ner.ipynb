{
 "cells": [
  {
   "cell_type": "code",
   "execution_count": 87,
   "id": "dec33bc4",
   "metadata": {},
   "outputs": [
    {
     "name": "stdout",
     "output_type": "stream",
     "text": [
      "[sudo] password for gabriel: \n"
     ]
    }
   ],
   "source": [
    "# !pip install flair beautifulsoup4 pdfkit\n",
    "# !sudo apt-get install wkhtmltopdf"
   ]
  },
  {
   "cell_type": "code",
   "execution_count": 13,
   "id": "3cdfbf5d",
   "metadata": {},
   "outputs": [
    {
     "name": "stdout",
     "output_type": "stream",
     "text": [
      "2022-01-23 21:41:48,291 --------------------------------------------------------------------------------\n",
      "2022-01-23 21:41:48,291 The model key 'ner-ontonotes-large' now maps to 'https://huggingface.co/flair/ner-english-ontonotes-large' on the HuggingFace ModelHub\n",
      "2022-01-23 21:41:48,291  - The most current version of the model is automatically downloaded from there.\n",
      "2022-01-23 21:41:48,291 --------------------------------------------------------------------------------\n",
      "2022-01-23 21:41:48,797 loading file /home/gabriel/.flair/models/ner-english-ontonotes-large/2da6c2cdd76e59113033adf670340bfd820f0301ae2e39204d67ba2dc276cc28.ec1bdb304b6c66111532c3b1fc6e522460ae73f1901848a4d0362cdf9760edb1\n"
     ]
    }
   ],
   "source": [
    "import pandas as pd\n",
    "import requests\n",
    "from bs4 import BeautifulSoup\n",
    "import re\n",
    "from flair.data import Sentence \n",
    "from flair.models import SequenceTagger\n",
    "from tqdm import tqdm\n",
    "from segtok.segmenter import split_single\n",
    "\n",
    "df = pd.read_csv('furniture stores pages.csv')\n",
    "\n",
    "tagger = SequenceTagger.load('ner-ontonotes-large')  # ner-ontonotes-large\n",
    "\n",
    "URL = \"https://vastinterior.com.au/products/samson-daybed-single\" \n",
    "page = requests.get(URL)"
   ]
  },
  {
   "cell_type": "code",
   "execution_count": 20,
   "id": "fabd35ac",
   "metadata": {},
   "outputs": [
    {
     "name": "stderr",
     "output_type": "stream",
     "text": [
      "100%|█████████████████████████████████████████████████████████████████████████████████████████████████████████████████████████████████████████████████████████████████████████████████████████████████████████████████████████████████████████████████████████████████████████████████████████| 73/73 [00:35<00:00,  2.06it/s]"
     ]
    },
    {
     "name": "stdout",
     "output_type": "stream",
     "text": [
      "Span [3,4,5]: \"Single Day Bed\"   [− Labels: PRODUCT (0.9998)]\n",
      "Span [4]: \"iPhone\"   [− Labels: PRODUCT (0.9995)]\n",
      "Span [17]: \"iPad\"   [− Labels: PRODUCT (0.9999)]\n",
      "Span [32,33,34,35,36]: \"Samson Daybed Single - 230X83X90\"   [− Labels: PRODUCT (0.9667)]\n",
      "Span [41,42,43,44,45]: \"Samson Daybed Single - 230X83X90\"   [− Labels: PRODUCT (0.9683)]\n"
     ]
    },
    {
     "name": "stderr",
     "output_type": "stream",
     "text": [
      "\n"
     ]
    }
   ],
   "source": [
    "soup = BeautifulSoup(page.content, \"html.parser\")\n",
    "results = soup.prettify()\n",
    "# results = soup.get_text()\n",
    "filtered = [line for line in [re.sub('\\n+', '\\n', re.sub('[ \\t]+', ' ',  line)) for line in results.splitlines()]\n",
    "            if line != '' and line != ' ' and line != '\\n' and line != '\\t']\n",
    "\n",
    "sentences = [Sentence(sent, use_tokenizer=True) for line in filtered for sent in split_single(line)\n",
    "             if sent != '' and sent != ' ' and sent != '\\n' and sent != '\\t' and len(sent) <= 512]\n",
    "# print(sentences)\n",
    "\n",
    "def batch(iterable, n=16):\n",
    "    l = len(iterable)\n",
    "    for ndx in tqdm(range(0, l // 3, n)):\n",
    "        yield iterable[ndx:min(ndx + n, l)]\n",
    "\n",
    "for sent_batch in batch(sentences):        \n",
    "    tagger.predict(sent_batch)\n",
    "\n",
    "for sent in sentences:\n",
    "    for entity in sent.get_spans('ner'):\n",
    "        if entity.tag == 'PRODUCT' and entity.score > 0.9:\n",
    "            print(entity)\n",
    "    "
   ]
  },
  {
   "cell_type": "code",
   "execution_count": null,
   "id": "981745ee",
   "metadata": {},
   "outputs": [],
   "source": [
    "# def build_dataset(urls, char_limit=10000):\n",
    "\n",
    "#     webpages = []\n",
    "\n",
    "#     for url in urls:\n",
    "\n",
    "#         try:\n",
    "\n",
    "#             data = requests.get(url)\n",
    "#             soup = BeautifulSoup(data.content, 'html.parser')\n",
    "#             tags = soup.find_all()\n",
    "\n",
    "#             text = ''\n",
    "#             blacklist = [\n",
    "#                 '[document]',\n",
    "#                 'noscript',\n",
    "#                 'header',\n",
    "#                 'html',\n",
    "#                 'meta',\n",
    "#                 'head',\n",
    "#                 'input',\n",
    "#                 'script',\n",
    "#                 'style',\n",
    "#                 'title',\n",
    "#                 'script'\n",
    "#             ]\n",
    "\n",
    "#             for t in tags:\n",
    "#                 if t not in blacklist and t.parent.name not in blacklist:\n",
    "#                     text += '{} '.format(t.text)\n",
    "\n",
    "#             clean_text = \" \".join(text.split())\n",
    "#             if len(clean_text) > char_limit:\n",
    "#                 clean_text = clean_text[:char_limit]\n",
    "\n",
    "#             webpages.append(clean_text)\n",
    "\n",
    "#         except Exception as e:\n",
    "#             logging.exception(str(e))\n",
    "#             webpages.append('')\n",
    "\n",
    "#     df = pd.DataFrame(webpages, columns=['raw_text'])\n",
    "#     # df = df.replace(np.nan, '', regex=True)\n",
    "#     return df"
   ]
  },
  {
   "cell_type": "code",
   "execution_count": null,
   "id": "4e2df984",
   "metadata": {},
   "outputs": [],
   "source": []
  }
 ],
 "metadata": {
  "kernelspec": {
   "display_name": "Python 3 (ipykernel)",
   "language": "python",
   "name": "python3"
  },
  "language_info": {
   "codemirror_mode": {
    "name": "ipython",
    "version": 3
   },
   "file_extension": ".py",
   "mimetype": "text/x-python",
   "name": "python",
   "nbconvert_exporter": "python",
   "pygments_lexer": "ipython3",
   "version": "3.9.7"
  }
 },
 "nbformat": 4,
 "nbformat_minor": 5
}
