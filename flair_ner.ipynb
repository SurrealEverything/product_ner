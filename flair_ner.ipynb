{
 "cells": [
  {
   "cell_type": "code",
   "execution_count": 46,
   "id": "d570954f",
   "metadata": {},
   "outputs": [],
   "source": [
    "# !pip install flair beautifulsoup4 pyinterval torchcontrib"
   ]
  },
  {
   "cell_type": "code",
   "execution_count": 18,
   "id": "f722020c",
   "metadata": {},
   "outputs": [],
   "source": [
    "import pandas as pd\n",
    "import requests\n",
    "from bs4 import BeautifulSoup\n",
    "import re\n",
    "from flair.data import Sentence \n",
    "from flair.models import SequenceTagger\n",
    "from tqdm.auto import tqdm\n",
    "from segtok.segmenter import split_single\n",
    "import logging\n",
    "import numpy as np\n",
    "import ast\n",
    "from flair.data import Corpus\n",
    "from flair.datasets import ColumnCorpus\n",
    "from flair.embeddings import WordEmbeddings, StackedEmbeddings, FlairEmbeddings\n",
    "from flair.trainers import ModelTrainer\n",
    "import torch"
   ]
  },
  {
   "cell_type": "markdown",
   "id": "69ce77a6",
   "metadata": {},
   "source": [
    "# SCRAPE PAGES"
   ]
  },
  {
   "cell_type": "code",
   "execution_count": 80,
   "id": "b0c827d6",
   "metadata": {},
   "outputs": [
    {
     "name": "stderr",
     "output_type": "stream",
     "text": [
      "WARNING:urllib3.connection:Certificate did not match expected hostname: furnish123watertown.com. Certificate: {'subject': ((('commonName', '*.wpengine.com'),),), 'issuer': ((('countryName', 'US'),), (('organizationName', 'DigiCert Inc'),), (('commonName', 'RapidSSL TLS DV RSA Mixed SHA256 2020 CA-1'),)), 'version': 3, 'serialNumber': '020CE05AF3D078B24CA1270FB0EBB236', 'notBefore': 'Aug  3 00:00:00 2021 GMT', 'notAfter': 'Sep  3 23:59:59 2022 GMT', 'subjectAltName': (('DNS', '*.wpengine.com'), ('DNS', 'wpengine.com')), 'OCSP': ('http://ocsp.digicert.com',), 'caIssuers': ('http://cacerts.digicert.com/RapidSSLTLSDVRSAMixedSHA2562020CA-1.crt',), 'crlDistributionPoints': ('http://crl3.digicert.com/RapidSSLTLSDVRSAMixedSHA2562020CA-1.crl', 'http://crl4.digicert.com/RapidSSLTLSDVRSAMixedSHA2562020CA-1.crl')}\n",
      "ERROR:root:HTTPSConnectionPool(host='furnish123watertown.com', port=443): Max retries exceeded with url: /products/ (Caused by SSLError(SSLCertVerificationError(\"hostname 'furnish123watertown.com' doesn't match either of '*.wpengine.com', 'wpengine.com'\")))\n",
      "Traceback (most recent call last):\n",
      "  File \"/home/gabriel/miniconda3/envs/pt_nlp/lib/python3.9/site-packages/urllib3/connectionpool.py\", line 699, in urlopen\n",
      "    httplib_response = self._make_request(\n",
      "  File \"/home/gabriel/miniconda3/envs/pt_nlp/lib/python3.9/site-packages/urllib3/connectionpool.py\", line 382, in _make_request\n",
      "    self._validate_conn(conn)\n",
      "  File \"/home/gabriel/miniconda3/envs/pt_nlp/lib/python3.9/site-packages/urllib3/connectionpool.py\", line 1010, in _validate_conn\n",
      "    conn.connect()\n",
      "  File \"/home/gabriel/miniconda3/envs/pt_nlp/lib/python3.9/site-packages/urllib3/connection.py\", line 469, in connect\n",
      "    _match_hostname(cert, self.assert_hostname or server_hostname)\n",
      "  File \"/home/gabriel/miniconda3/envs/pt_nlp/lib/python3.9/site-packages/urllib3/connection.py\", line 542, in _match_hostname\n",
      "    match_hostname(cert, asserted_hostname)\n",
      "  File \"/home/gabriel/miniconda3/envs/pt_nlp/lib/python3.9/ssl.py\", line 416, in match_hostname\n",
      "    raise CertificateError(\"hostname %r \"\n",
      "ssl.SSLCertVerificationError: (\"hostname 'furnish123watertown.com' doesn't match either of '*.wpengine.com', 'wpengine.com'\",)\n",
      "\n",
      "During handling of the above exception, another exception occurred:\n",
      "\n",
      "Traceback (most recent call last):\n",
      "  File \"/home/gabriel/miniconda3/envs/pt_nlp/lib/python3.9/site-packages/requests/adapters.py\", line 440, in send\n",
      "    resp = conn.urlopen(\n",
      "  File \"/home/gabriel/miniconda3/envs/pt_nlp/lib/python3.9/site-packages/urllib3/connectionpool.py\", line 755, in urlopen\n",
      "    retries = retries.increment(\n",
      "  File \"/home/gabriel/miniconda3/envs/pt_nlp/lib/python3.9/site-packages/urllib3/util/retry.py\", line 574, in increment\n",
      "    raise MaxRetryError(_pool, url, error or ResponseError(cause))\n",
      "urllib3.exceptions.MaxRetryError: HTTPSConnectionPool(host='furnish123watertown.com', port=443): Max retries exceeded with url: /products/ (Caused by SSLError(SSLCertVerificationError(\"hostname 'furnish123watertown.com' doesn't match either of '*.wpengine.com', 'wpengine.com'\")))\n",
      "\n",
      "During handling of the above exception, another exception occurred:\n",
      "\n",
      "Traceback (most recent call last):\n",
      "  File \"/tmp/ipykernel_6102/253839466.py\", line 10, in build_dataset\n",
      "    data = requests.get(url)\n",
      "  File \"/home/gabriel/miniconda3/envs/pt_nlp/lib/python3.9/site-packages/requests/api.py\", line 75, in get\n",
      "    return request('get', url, params=params, **kwargs)\n",
      "  File \"/home/gabriel/miniconda3/envs/pt_nlp/lib/python3.9/site-packages/requests/api.py\", line 61, in request\n",
      "    return session.request(method=method, url=url, **kwargs)\n",
      "  File \"/home/gabriel/miniconda3/envs/pt_nlp/lib/python3.9/site-packages/requests/sessions.py\", line 529, in request\n",
      "    resp = self.send(prep, **send_kwargs)\n",
      "  File \"/home/gabriel/miniconda3/envs/pt_nlp/lib/python3.9/site-packages/requests/sessions.py\", line 645, in send\n",
      "    r = adapter.send(request, **kwargs)\n",
      "  File \"/home/gabriel/miniconda3/envs/pt_nlp/lib/python3.9/site-packages/requests/adapters.py\", line 517, in send\n",
      "    raise SSLError(e, request=request)\n",
      "requests.exceptions.SSLError: HTTPSConnectionPool(host='furnish123watertown.com', port=443): Max retries exceeded with url: /products/ (Caused by SSLError(SSLCertVerificationError(\"hostname 'furnish123watertown.com' doesn't match either of '*.wpengine.com', 'wpengine.com'\")))\n",
      "WARNING:urllib3.connection:Certificate did not match expected hostname: curiousgrace.com.au. Certificate: {'subject': ((('countryName', 'US'),), (('stateOrProvinceName', 'California'),), (('localityName', 'San Francisco'),), (('organizationName', 'Cloudflare, Inc.'),), (('commonName', '*.myshopify.com'),)), 'issuer': ((('countryName', 'US'),), (('organizationName', 'Cloudflare, Inc.'),), (('commonName', 'Cloudflare Inc ECC CA-3'),)), 'version': 3, 'serialNumber': '08D14009B8CCFD7A28D460E790084A96', 'notBefore': 'Sep 13 00:00:00 2021 GMT', 'notAfter': 'Sep 12 23:59:59 2022 GMT', 'subjectAltName': (('DNS', 'myshopify.com'), ('DNS', '*.myshopify.com')), 'OCSP': ('http://ocsp.digicert.com',), 'caIssuers': ('http://cacerts.digicert.com/CloudflareIncECCCA-3.crt',), 'crlDistributionPoints': ('http://crl3.digicert.com/CloudflareIncECCCA-3.crl', 'http://crl4.digicert.com/CloudflareIncECCCA-3.crl')}\n",
      "ERROR:root:HTTPSConnectionPool(host='curiousgrace.com.au', port=443): Max retries exceeded with url: /products/cleo-desk-lamp (Caused by SSLError(SSLCertVerificationError(\"hostname 'curiousgrace.com.au' doesn't match either of 'myshopify.com', '*.myshopify.com'\")))\n",
      "Traceback (most recent call last):\n",
      "  File \"/home/gabriel/miniconda3/envs/pt_nlp/lib/python3.9/site-packages/urllib3/connectionpool.py\", line 699, in urlopen\n",
      "    httplib_response = self._make_request(\n",
      "  File \"/home/gabriel/miniconda3/envs/pt_nlp/lib/python3.9/site-packages/urllib3/connectionpool.py\", line 382, in _make_request\n",
      "    self._validate_conn(conn)\n",
      "  File \"/home/gabriel/miniconda3/envs/pt_nlp/lib/python3.9/site-packages/urllib3/connectionpool.py\", line 1010, in _validate_conn\n",
      "    conn.connect()\n",
      "  File \"/home/gabriel/miniconda3/envs/pt_nlp/lib/python3.9/site-packages/urllib3/connection.py\", line 469, in connect\n",
      "    _match_hostname(cert, self.assert_hostname or server_hostname)\n",
      "  File \"/home/gabriel/miniconda3/envs/pt_nlp/lib/python3.9/site-packages/urllib3/connection.py\", line 542, in _match_hostname\n",
      "    match_hostname(cert, asserted_hostname)\n",
      "  File \"/home/gabriel/miniconda3/envs/pt_nlp/lib/python3.9/ssl.py\", line 416, in match_hostname\n",
      "    raise CertificateError(\"hostname %r \"\n",
      "ssl.SSLCertVerificationError: (\"hostname 'curiousgrace.com.au' doesn't match either of 'myshopify.com', '*.myshopify.com'\",)\n",
      "\n",
      "During handling of the above exception, another exception occurred:\n",
      "\n",
      "Traceback (most recent call last):\n",
      "  File \"/home/gabriel/miniconda3/envs/pt_nlp/lib/python3.9/site-packages/requests/adapters.py\", line 440, in send\n",
      "    resp = conn.urlopen(\n",
      "  File \"/home/gabriel/miniconda3/envs/pt_nlp/lib/python3.9/site-packages/urllib3/connectionpool.py\", line 755, in urlopen\n",
      "    retries = retries.increment(\n",
      "  File \"/home/gabriel/miniconda3/envs/pt_nlp/lib/python3.9/site-packages/urllib3/util/retry.py\", line 574, in increment\n",
      "    raise MaxRetryError(_pool, url, error or ResponseError(cause))\n",
      "urllib3.exceptions.MaxRetryError: HTTPSConnectionPool(host='curiousgrace.com.au', port=443): Max retries exceeded with url: /products/cleo-desk-lamp (Caused by SSLError(SSLCertVerificationError(\"hostname 'curiousgrace.com.au' doesn't match either of 'myshopify.com', '*.myshopify.com'\")))\n",
      "\n",
      "During handling of the above exception, another exception occurred:\n",
      "\n",
      "Traceback (most recent call last):\n",
      "  File \"/tmp/ipykernel_6102/253839466.py\", line 10, in build_dataset\n",
      "    data = requests.get(url)\n",
      "  File \"/home/gabriel/miniconda3/envs/pt_nlp/lib/python3.9/site-packages/requests/api.py\", line 75, in get\n",
      "    return request('get', url, params=params, **kwargs)\n",
      "  File \"/home/gabriel/miniconda3/envs/pt_nlp/lib/python3.9/site-packages/requests/api.py\", line 61, in request\n",
      "    return session.request(method=method, url=url, **kwargs)\n",
      "  File \"/home/gabriel/miniconda3/envs/pt_nlp/lib/python3.9/site-packages/requests/sessions.py\", line 529, in request\n",
      "    resp = self.send(prep, **send_kwargs)\n",
      "  File \"/home/gabriel/miniconda3/envs/pt_nlp/lib/python3.9/site-packages/requests/sessions.py\", line 645, in send\n",
      "    r = adapter.send(request, **kwargs)\n",
      "  File \"/home/gabriel/miniconda3/envs/pt_nlp/lib/python3.9/site-packages/requests/adapters.py\", line 517, in send\n",
      "    raise SSLError(e, request=request)\n",
      "requests.exceptions.SSLError: HTTPSConnectionPool(host='curiousgrace.com.au', port=443): Max retries exceeded with url: /products/cleo-desk-lamp (Caused by SSLError(SSLCertVerificationError(\"hostname 'curiousgrace.com.au' doesn't match either of 'myshopify.com', '*.myshopify.com'\")))\n"
     ]
    },
    {
     "name": "stderr",
     "output_type": "stream",
     "text": [
      "ERROR:root:HTTPSConnectionPool(host='houseofhollingsworthblog.com', port=443): Max retries exceeded with url: /products/locker (Caused by NewConnectionError('<urllib3.connection.HTTPSConnection object at 0x7f17280ccc40>: Failed to establish a new connection: [Errno 110] Connection timed out'))\n",
      "Traceback (most recent call last):\n",
      "  File \"/home/gabriel/miniconda3/envs/pt_nlp/lib/python3.9/site-packages/urllib3/connection.py\", line 174, in _new_conn\n",
      "    conn = connection.create_connection(\n",
      "  File \"/home/gabriel/miniconda3/envs/pt_nlp/lib/python3.9/site-packages/urllib3/util/connection.py\", line 96, in create_connection\n",
      "    raise err\n",
      "  File \"/home/gabriel/miniconda3/envs/pt_nlp/lib/python3.9/site-packages/urllib3/util/connection.py\", line 86, in create_connection\n",
      "    sock.connect(sa)\n",
      "TimeoutError: [Errno 110] Connection timed out\n",
      "\n",
      "During handling of the above exception, another exception occurred:\n",
      "\n",
      "Traceback (most recent call last):\n",
      "  File \"/home/gabriel/miniconda3/envs/pt_nlp/lib/python3.9/site-packages/urllib3/connectionpool.py\", line 699, in urlopen\n",
      "    httplib_response = self._make_request(\n",
      "  File \"/home/gabriel/miniconda3/envs/pt_nlp/lib/python3.9/site-packages/urllib3/connectionpool.py\", line 382, in _make_request\n",
      "    self._validate_conn(conn)\n",
      "  File \"/home/gabriel/miniconda3/envs/pt_nlp/lib/python3.9/site-packages/urllib3/connectionpool.py\", line 1010, in _validate_conn\n",
      "    conn.connect()\n",
      "  File \"/home/gabriel/miniconda3/envs/pt_nlp/lib/python3.9/site-packages/urllib3/connection.py\", line 358, in connect\n",
      "    conn = self._new_conn()\n",
      "  File \"/home/gabriel/miniconda3/envs/pt_nlp/lib/python3.9/site-packages/urllib3/connection.py\", line 186, in _new_conn\n",
      "    raise NewConnectionError(\n",
      "urllib3.exceptions.NewConnectionError: <urllib3.connection.HTTPSConnection object at 0x7f17280ccc40>: Failed to establish a new connection: [Errno 110] Connection timed out\n",
      "\n",
      "During handling of the above exception, another exception occurred:\n",
      "\n",
      "Traceback (most recent call last):\n",
      "  File \"/home/gabriel/miniconda3/envs/pt_nlp/lib/python3.9/site-packages/requests/adapters.py\", line 440, in send\n",
      "    resp = conn.urlopen(\n",
      "  File \"/home/gabriel/miniconda3/envs/pt_nlp/lib/python3.9/site-packages/urllib3/connectionpool.py\", line 755, in urlopen\n",
      "    retries = retries.increment(\n",
      "  File \"/home/gabriel/miniconda3/envs/pt_nlp/lib/python3.9/site-packages/urllib3/util/retry.py\", line 574, in increment\n",
      "    raise MaxRetryError(_pool, url, error or ResponseError(cause))\n",
      "urllib3.exceptions.MaxRetryError: HTTPSConnectionPool(host='houseofhollingsworthblog.com', port=443): Max retries exceeded with url: /products/locker (Caused by NewConnectionError('<urllib3.connection.HTTPSConnection object at 0x7f17280ccc40>: Failed to establish a new connection: [Errno 110] Connection timed out'))\n",
      "\n",
      "During handling of the above exception, another exception occurred:\n",
      "\n",
      "Traceback (most recent call last):\n",
      "  File \"/tmp/ipykernel_6102/253839466.py\", line 10, in build_dataset\n",
      "    data = requests.get(url)\n",
      "  File \"/home/gabriel/miniconda3/envs/pt_nlp/lib/python3.9/site-packages/requests/api.py\", line 75, in get\n",
      "    return request('get', url, params=params, **kwargs)\n",
      "  File \"/home/gabriel/miniconda3/envs/pt_nlp/lib/python3.9/site-packages/requests/api.py\", line 61, in request\n",
      "    return session.request(method=method, url=url, **kwargs)\n",
      "  File \"/home/gabriel/miniconda3/envs/pt_nlp/lib/python3.9/site-packages/requests/sessions.py\", line 529, in request\n",
      "    resp = self.send(prep, **send_kwargs)\n",
      "  File \"/home/gabriel/miniconda3/envs/pt_nlp/lib/python3.9/site-packages/requests/sessions.py\", line 645, in send\n",
      "    r = adapter.send(request, **kwargs)\n",
      "  File \"/home/gabriel/miniconda3/envs/pt_nlp/lib/python3.9/site-packages/requests/adapters.py\", line 519, in send\n",
      "    raise ConnectionError(e, request=request)\n",
      "requests.exceptions.ConnectionError: HTTPSConnectionPool(host='houseofhollingsworthblog.com', port=443): Max retries exceeded with url: /products/locker (Caused by NewConnectionError('<urllib3.connection.HTTPSConnection object at 0x7f17280ccc40>: Failed to establish a new connection: [Errno 110] Connection timed out'))\n",
      "ERROR:root:('Connection aborted.', RemoteDisconnected('Remote end closed connection without response'))\n",
      "Traceback (most recent call last):\n",
      "  File \"/home/gabriel/miniconda3/envs/pt_nlp/lib/python3.9/site-packages/urllib3/connectionpool.py\", line 699, in urlopen\n",
      "    httplib_response = self._make_request(\n",
      "  File \"/home/gabriel/miniconda3/envs/pt_nlp/lib/python3.9/site-packages/urllib3/connectionpool.py\", line 445, in _make_request\n",
      "    six.raise_from(e, None)\n",
      "  File \"<string>\", line 3, in raise_from\n",
      "  File \"/home/gabriel/miniconda3/envs/pt_nlp/lib/python3.9/site-packages/urllib3/connectionpool.py\", line 440, in _make_request\n",
      "    httplib_response = conn.getresponse()\n",
      "  File \"/home/gabriel/miniconda3/envs/pt_nlp/lib/python3.9/http/client.py\", line 1371, in getresponse\n",
      "    response.begin()\n",
      "  File \"/home/gabriel/miniconda3/envs/pt_nlp/lib/python3.9/http/client.py\", line 319, in begin\n",
      "    version, status, reason = self._read_status()\n",
      "  File \"/home/gabriel/miniconda3/envs/pt_nlp/lib/python3.9/http/client.py\", line 288, in _read_status\n",
      "    raise RemoteDisconnected(\"Remote end closed connection without\"\n",
      "http.client.RemoteDisconnected: Remote end closed connection without response\n",
      "\n",
      "During handling of the above exception, another exception occurred:\n",
      "\n",
      "Traceback (most recent call last):\n",
      "  File \"/home/gabriel/miniconda3/envs/pt_nlp/lib/python3.9/site-packages/requests/adapters.py\", line 440, in send\n",
      "    resp = conn.urlopen(\n",
      "  File \"/home/gabriel/miniconda3/envs/pt_nlp/lib/python3.9/site-packages/urllib3/connectionpool.py\", line 755, in urlopen\n",
      "    retries = retries.increment(\n",
      "  File \"/home/gabriel/miniconda3/envs/pt_nlp/lib/python3.9/site-packages/urllib3/util/retry.py\", line 532, in increment\n",
      "    raise six.reraise(type(error), error, _stacktrace)\n",
      "  File \"/home/gabriel/miniconda3/envs/pt_nlp/lib/python3.9/site-packages/urllib3/packages/six.py\", line 769, in reraise\n",
      "    raise value.with_traceback(tb)\n",
      "  File \"/home/gabriel/miniconda3/envs/pt_nlp/lib/python3.9/site-packages/urllib3/connectionpool.py\", line 699, in urlopen\n",
      "    httplib_response = self._make_request(\n",
      "  File \"/home/gabriel/miniconda3/envs/pt_nlp/lib/python3.9/site-packages/urllib3/connectionpool.py\", line 445, in _make_request\n",
      "    six.raise_from(e, None)\n",
      "  File \"<string>\", line 3, in raise_from\n",
      "  File \"/home/gabriel/miniconda3/envs/pt_nlp/lib/python3.9/site-packages/urllib3/connectionpool.py\", line 440, in _make_request\n",
      "    httplib_response = conn.getresponse()\n",
      "  File \"/home/gabriel/miniconda3/envs/pt_nlp/lib/python3.9/http/client.py\", line 1371, in getresponse\n",
      "    response.begin()\n",
      "  File \"/home/gabriel/miniconda3/envs/pt_nlp/lib/python3.9/http/client.py\", line 319, in begin\n",
      "    version, status, reason = self._read_status()\n",
      "  File \"/home/gabriel/miniconda3/envs/pt_nlp/lib/python3.9/http/client.py\", line 288, in _read_status\n",
      "    raise RemoteDisconnected(\"Remote end closed connection without\"\n",
      "urllib3.exceptions.ProtocolError: ('Connection aborted.', RemoteDisconnected('Remote end closed connection without response'))\n",
      "\n",
      "During handling of the above exception, another exception occurred:\n",
      "\n",
      "Traceback (most recent call last):\n",
      "  File \"/tmp/ipykernel_6102/253839466.py\", line 10, in build_dataset\n",
      "    data = requests.get(url)\n",
      "  File \"/home/gabriel/miniconda3/envs/pt_nlp/lib/python3.9/site-packages/requests/api.py\", line 75, in get\n",
      "    return request('get', url, params=params, **kwargs)\n",
      "  File \"/home/gabriel/miniconda3/envs/pt_nlp/lib/python3.9/site-packages/requests/api.py\", line 61, in request\n",
      "    return session.request(method=method, url=url, **kwargs)\n",
      "  File \"/home/gabriel/miniconda3/envs/pt_nlp/lib/python3.9/site-packages/requests/sessions.py\", line 529, in request\n",
      "    resp = self.send(prep, **send_kwargs)\n",
      "  File \"/home/gabriel/miniconda3/envs/pt_nlp/lib/python3.9/site-packages/requests/sessions.py\", line 645, in send\n",
      "    r = adapter.send(request, **kwargs)\n",
      "  File \"/home/gabriel/miniconda3/envs/pt_nlp/lib/python3.9/site-packages/requests/adapters.py\", line 501, in send\n",
      "    raise ConnectionError(err, request=request)\n",
      "requests.exceptions.ConnectionError: ('Connection aborted.', RemoteDisconnected('Remote end closed connection without response'))\n"
     ]
    },
    {
     "name": "stderr",
     "output_type": "stream",
     "text": [
      "ERROR:root:('Connection aborted.', RemoteDisconnected('Remote end closed connection without response'))\n",
      "Traceback (most recent call last):\n",
      "  File \"/home/gabriel/miniconda3/envs/pt_nlp/lib/python3.9/site-packages/urllib3/connectionpool.py\", line 699, in urlopen\n",
      "    httplib_response = self._make_request(\n",
      "  File \"/home/gabriel/miniconda3/envs/pt_nlp/lib/python3.9/site-packages/urllib3/connectionpool.py\", line 445, in _make_request\n",
      "    six.raise_from(e, None)\n",
      "  File \"<string>\", line 3, in raise_from\n",
      "  File \"/home/gabriel/miniconda3/envs/pt_nlp/lib/python3.9/site-packages/urllib3/connectionpool.py\", line 440, in _make_request\n",
      "    httplib_response = conn.getresponse()\n",
      "  File \"/home/gabriel/miniconda3/envs/pt_nlp/lib/python3.9/http/client.py\", line 1371, in getresponse\n",
      "    response.begin()\n",
      "  File \"/home/gabriel/miniconda3/envs/pt_nlp/lib/python3.9/http/client.py\", line 319, in begin\n",
      "    version, status, reason = self._read_status()\n",
      "  File \"/home/gabriel/miniconda3/envs/pt_nlp/lib/python3.9/http/client.py\", line 288, in _read_status\n",
      "    raise RemoteDisconnected(\"Remote end closed connection without\"\n",
      "http.client.RemoteDisconnected: Remote end closed connection without response\n",
      "\n",
      "During handling of the above exception, another exception occurred:\n",
      "\n",
      "Traceback (most recent call last):\n",
      "  File \"/home/gabriel/miniconda3/envs/pt_nlp/lib/python3.9/site-packages/requests/adapters.py\", line 440, in send\n",
      "    resp = conn.urlopen(\n",
      "  File \"/home/gabriel/miniconda3/envs/pt_nlp/lib/python3.9/site-packages/urllib3/connectionpool.py\", line 755, in urlopen\n",
      "    retries = retries.increment(\n",
      "  File \"/home/gabriel/miniconda3/envs/pt_nlp/lib/python3.9/site-packages/urllib3/util/retry.py\", line 532, in increment\n",
      "    raise six.reraise(type(error), error, _stacktrace)\n",
      "  File \"/home/gabriel/miniconda3/envs/pt_nlp/lib/python3.9/site-packages/urllib3/packages/six.py\", line 769, in reraise\n",
      "    raise value.with_traceback(tb)\n",
      "  File \"/home/gabriel/miniconda3/envs/pt_nlp/lib/python3.9/site-packages/urllib3/connectionpool.py\", line 699, in urlopen\n",
      "    httplib_response = self._make_request(\n",
      "  File \"/home/gabriel/miniconda3/envs/pt_nlp/lib/python3.9/site-packages/urllib3/connectionpool.py\", line 445, in _make_request\n",
      "    six.raise_from(e, None)\n",
      "  File \"<string>\", line 3, in raise_from\n",
      "  File \"/home/gabriel/miniconda3/envs/pt_nlp/lib/python3.9/site-packages/urllib3/connectionpool.py\", line 440, in _make_request\n",
      "    httplib_response = conn.getresponse()\n",
      "  File \"/home/gabriel/miniconda3/envs/pt_nlp/lib/python3.9/http/client.py\", line 1371, in getresponse\n",
      "    response.begin()\n",
      "  File \"/home/gabriel/miniconda3/envs/pt_nlp/lib/python3.9/http/client.py\", line 319, in begin\n",
      "    version, status, reason = self._read_status()\n",
      "  File \"/home/gabriel/miniconda3/envs/pt_nlp/lib/python3.9/http/client.py\", line 288, in _read_status\n",
      "    raise RemoteDisconnected(\"Remote end closed connection without\"\n",
      "urllib3.exceptions.ProtocolError: ('Connection aborted.', RemoteDisconnected('Remote end closed connection without response'))\n",
      "\n",
      "During handling of the above exception, another exception occurred:\n",
      "\n",
      "Traceback (most recent call last):\n",
      "  File \"/tmp/ipykernel_6102/253839466.py\", line 10, in build_dataset\n",
      "    data = requests.get(url)\n",
      "  File \"/home/gabriel/miniconda3/envs/pt_nlp/lib/python3.9/site-packages/requests/api.py\", line 75, in get\n",
      "    return request('get', url, params=params, **kwargs)\n",
      "  File \"/home/gabriel/miniconda3/envs/pt_nlp/lib/python3.9/site-packages/requests/api.py\", line 61, in request\n",
      "    return session.request(method=method, url=url, **kwargs)\n",
      "  File \"/home/gabriel/miniconda3/envs/pt_nlp/lib/python3.9/site-packages/requests/sessions.py\", line 529, in request\n",
      "    resp = self.send(prep, **send_kwargs)\n",
      "  File \"/home/gabriel/miniconda3/envs/pt_nlp/lib/python3.9/site-packages/requests/sessions.py\", line 645, in send\n",
      "    r = adapter.send(request, **kwargs)\n",
      "  File \"/home/gabriel/miniconda3/envs/pt_nlp/lib/python3.9/site-packages/requests/adapters.py\", line 501, in send\n",
      "    raise ConnectionError(err, request=request)\n",
      "requests.exceptions.ConnectionError: ('Connection aborted.', RemoteDisconnected('Remote end closed connection without response'))\n",
      "ERROR:root:('Connection aborted.', RemoteDisconnected('Remote end closed connection without response'))\n",
      "Traceback (most recent call last):\n",
      "  File \"/home/gabriel/miniconda3/envs/pt_nlp/lib/python3.9/site-packages/urllib3/connectionpool.py\", line 699, in urlopen\n",
      "    httplib_response = self._make_request(\n",
      "  File \"/home/gabriel/miniconda3/envs/pt_nlp/lib/python3.9/site-packages/urllib3/connectionpool.py\", line 445, in _make_request\n",
      "    six.raise_from(e, None)\n",
      "  File \"<string>\", line 3, in raise_from\n",
      "  File \"/home/gabriel/miniconda3/envs/pt_nlp/lib/python3.9/site-packages/urllib3/connectionpool.py\", line 440, in _make_request\n",
      "    httplib_response = conn.getresponse()\n",
      "  File \"/home/gabriel/miniconda3/envs/pt_nlp/lib/python3.9/http/client.py\", line 1371, in getresponse\n",
      "    response.begin()\n",
      "  File \"/home/gabriel/miniconda3/envs/pt_nlp/lib/python3.9/http/client.py\", line 319, in begin\n",
      "    version, status, reason = self._read_status()\n",
      "  File \"/home/gabriel/miniconda3/envs/pt_nlp/lib/python3.9/http/client.py\", line 288, in _read_status\n",
      "    raise RemoteDisconnected(\"Remote end closed connection without\"\n",
      "http.client.RemoteDisconnected: Remote end closed connection without response\n",
      "\n",
      "During handling of the above exception, another exception occurred:\n",
      "\n",
      "Traceback (most recent call last):\n",
      "  File \"/home/gabriel/miniconda3/envs/pt_nlp/lib/python3.9/site-packages/requests/adapters.py\", line 440, in send\n",
      "    resp = conn.urlopen(\n",
      "  File \"/home/gabriel/miniconda3/envs/pt_nlp/lib/python3.9/site-packages/urllib3/connectionpool.py\", line 755, in urlopen\n",
      "    retries = retries.increment(\n",
      "  File \"/home/gabriel/miniconda3/envs/pt_nlp/lib/python3.9/site-packages/urllib3/util/retry.py\", line 532, in increment\n",
      "    raise six.reraise(type(error), error, _stacktrace)\n",
      "  File \"/home/gabriel/miniconda3/envs/pt_nlp/lib/python3.9/site-packages/urllib3/packages/six.py\", line 769, in reraise\n",
      "    raise value.with_traceback(tb)\n",
      "  File \"/home/gabriel/miniconda3/envs/pt_nlp/lib/python3.9/site-packages/urllib3/connectionpool.py\", line 699, in urlopen\n",
      "    httplib_response = self._make_request(\n",
      "  File \"/home/gabriel/miniconda3/envs/pt_nlp/lib/python3.9/site-packages/urllib3/connectionpool.py\", line 445, in _make_request\n",
      "    six.raise_from(e, None)\n",
      "  File \"<string>\", line 3, in raise_from\n",
      "  File \"/home/gabriel/miniconda3/envs/pt_nlp/lib/python3.9/site-packages/urllib3/connectionpool.py\", line 440, in _make_request\n",
      "    httplib_response = conn.getresponse()\n",
      "  File \"/home/gabriel/miniconda3/envs/pt_nlp/lib/python3.9/http/client.py\", line 1371, in getresponse\n",
      "    response.begin()\n",
      "  File \"/home/gabriel/miniconda3/envs/pt_nlp/lib/python3.9/http/client.py\", line 319, in begin\n",
      "    version, status, reason = self._read_status()\n",
      "  File \"/home/gabriel/miniconda3/envs/pt_nlp/lib/python3.9/http/client.py\", line 288, in _read_status\n",
      "    raise RemoteDisconnected(\"Remote end closed connection without\"\n",
      "urllib3.exceptions.ProtocolError: ('Connection aborted.', RemoteDisconnected('Remote end closed connection without response'))\n",
      "\n",
      "During handling of the above exception, another exception occurred:\n",
      "\n",
      "Traceback (most recent call last):\n",
      "  File \"/tmp/ipykernel_6102/253839466.py\", line 10, in build_dataset\n",
      "    data = requests.get(url)\n",
      "  File \"/home/gabriel/miniconda3/envs/pt_nlp/lib/python3.9/site-packages/requests/api.py\", line 75, in get\n",
      "    return request('get', url, params=params, **kwargs)\n",
      "  File \"/home/gabriel/miniconda3/envs/pt_nlp/lib/python3.9/site-packages/requests/api.py\", line 61, in request\n",
      "    return session.request(method=method, url=url, **kwargs)\n",
      "  File \"/home/gabriel/miniconda3/envs/pt_nlp/lib/python3.9/site-packages/requests/sessions.py\", line 529, in request\n",
      "    resp = self.send(prep, **send_kwargs)\n",
      "  File \"/home/gabriel/miniconda3/envs/pt_nlp/lib/python3.9/site-packages/requests/sessions.py\", line 645, in send\n",
      "    r = adapter.send(request, **kwargs)\n",
      "  File \"/home/gabriel/miniconda3/envs/pt_nlp/lib/python3.9/site-packages/requests/adapters.py\", line 501, in send\n",
      "    raise ConnectionError(err, request=request)\n",
      "requests.exceptions.ConnectionError: ('Connection aborted.', RemoteDisconnected('Remote end closed connection without response'))\n"
     ]
    },
    {
     "name": "stderr",
     "output_type": "stream",
     "text": [
      "ERROR:root:HTTPSConnectionPool(host='www.jandjtreasuretrove.net', port=443): Max retries exceeded with url: /apps/webstore/products/show/8098794 (Caused by NewConnectionError('<urllib3.connection.HTTPSConnection object at 0x7f172409ca90>: Failed to establish a new connection: [Errno -2] Name or service not known'))\n",
      "Traceback (most recent call last):\n",
      "  File \"/home/gabriel/miniconda3/envs/pt_nlp/lib/python3.9/site-packages/urllib3/connection.py\", line 174, in _new_conn\n",
      "    conn = connection.create_connection(\n",
      "  File \"/home/gabriel/miniconda3/envs/pt_nlp/lib/python3.9/site-packages/urllib3/util/connection.py\", line 73, in create_connection\n",
      "    for res in socket.getaddrinfo(host, port, family, socket.SOCK_STREAM):\n",
      "  File \"/home/gabriel/miniconda3/envs/pt_nlp/lib/python3.9/socket.py\", line 954, in getaddrinfo\n",
      "    for res in _socket.getaddrinfo(host, port, family, type, proto, flags):\n",
      "socket.gaierror: [Errno -2] Name or service not known\n",
      "\n",
      "During handling of the above exception, another exception occurred:\n",
      "\n",
      "Traceback (most recent call last):\n",
      "  File \"/home/gabriel/miniconda3/envs/pt_nlp/lib/python3.9/site-packages/urllib3/connectionpool.py\", line 699, in urlopen\n",
      "    httplib_response = self._make_request(\n",
      "  File \"/home/gabriel/miniconda3/envs/pt_nlp/lib/python3.9/site-packages/urllib3/connectionpool.py\", line 382, in _make_request\n",
      "    self._validate_conn(conn)\n",
      "  File \"/home/gabriel/miniconda3/envs/pt_nlp/lib/python3.9/site-packages/urllib3/connectionpool.py\", line 1010, in _validate_conn\n",
      "    conn.connect()\n",
      "  File \"/home/gabriel/miniconda3/envs/pt_nlp/lib/python3.9/site-packages/urllib3/connection.py\", line 358, in connect\n",
      "    conn = self._new_conn()\n",
      "  File \"/home/gabriel/miniconda3/envs/pt_nlp/lib/python3.9/site-packages/urllib3/connection.py\", line 186, in _new_conn\n",
      "    raise NewConnectionError(\n",
      "urllib3.exceptions.NewConnectionError: <urllib3.connection.HTTPSConnection object at 0x7f172409ca90>: Failed to establish a new connection: [Errno -2] Name or service not known\n",
      "\n",
      "During handling of the above exception, another exception occurred:\n",
      "\n",
      "Traceback (most recent call last):\n",
      "  File \"/home/gabriel/miniconda3/envs/pt_nlp/lib/python3.9/site-packages/requests/adapters.py\", line 440, in send\n",
      "    resp = conn.urlopen(\n",
      "  File \"/home/gabriel/miniconda3/envs/pt_nlp/lib/python3.9/site-packages/urllib3/connectionpool.py\", line 755, in urlopen\n",
      "    retries = retries.increment(\n",
      "  File \"/home/gabriel/miniconda3/envs/pt_nlp/lib/python3.9/site-packages/urllib3/util/retry.py\", line 574, in increment\n",
      "    raise MaxRetryError(_pool, url, error or ResponseError(cause))\n",
      "urllib3.exceptions.MaxRetryError: HTTPSConnectionPool(host='www.jandjtreasuretrove.net', port=443): Max retries exceeded with url: /apps/webstore/products/show/8098794 (Caused by NewConnectionError('<urllib3.connection.HTTPSConnection object at 0x7f172409ca90>: Failed to establish a new connection: [Errno -2] Name or service not known'))\n",
      "\n",
      "During handling of the above exception, another exception occurred:\n",
      "\n",
      "Traceback (most recent call last):\n",
      "  File \"/tmp/ipykernel_6102/253839466.py\", line 10, in build_dataset\n",
      "    data = requests.get(url)\n",
      "  File \"/home/gabriel/miniconda3/envs/pt_nlp/lib/python3.9/site-packages/requests/api.py\", line 75, in get\n",
      "    return request('get', url, params=params, **kwargs)\n",
      "  File \"/home/gabriel/miniconda3/envs/pt_nlp/lib/python3.9/site-packages/requests/api.py\", line 61, in request\n",
      "    return session.request(method=method, url=url, **kwargs)\n",
      "  File \"/home/gabriel/miniconda3/envs/pt_nlp/lib/python3.9/site-packages/requests/sessions.py\", line 529, in request\n",
      "    resp = self.send(prep, **send_kwargs)\n",
      "  File \"/home/gabriel/miniconda3/envs/pt_nlp/lib/python3.9/site-packages/requests/sessions.py\", line 645, in send\n",
      "    r = adapter.send(request, **kwargs)\n",
      "  File \"/home/gabriel/miniconda3/envs/pt_nlp/lib/python3.9/site-packages/requests/adapters.py\", line 519, in send\n",
      "    raise ConnectionError(e, request=request)\n",
      "requests.exceptions.ConnectionError: HTTPSConnectionPool(host='www.jandjtreasuretrove.net', port=443): Max retries exceeded with url: /apps/webstore/products/show/8098794 (Caused by NewConnectionError('<urllib3.connection.HTTPSConnection object at 0x7f172409ca90>: Failed to establish a new connection: [Errno -2] Name or service not known'))\n",
      "ERROR:root:('Connection aborted.', RemoteDisconnected('Remote end closed connection without response'))\n",
      "Traceback (most recent call last):\n",
      "  File \"/home/gabriel/miniconda3/envs/pt_nlp/lib/python3.9/site-packages/urllib3/connectionpool.py\", line 699, in urlopen\n",
      "    httplib_response = self._make_request(\n",
      "  File \"/home/gabriel/miniconda3/envs/pt_nlp/lib/python3.9/site-packages/urllib3/connectionpool.py\", line 445, in _make_request\n",
      "    six.raise_from(e, None)\n",
      "  File \"<string>\", line 3, in raise_from\n",
      "  File \"/home/gabriel/miniconda3/envs/pt_nlp/lib/python3.9/site-packages/urllib3/connectionpool.py\", line 440, in _make_request\n",
      "    httplib_response = conn.getresponse()\n",
      "  File \"/home/gabriel/miniconda3/envs/pt_nlp/lib/python3.9/http/client.py\", line 1371, in getresponse\n",
      "    response.begin()\n",
      "  File \"/home/gabriel/miniconda3/envs/pt_nlp/lib/python3.9/http/client.py\", line 319, in begin\n",
      "    version, status, reason = self._read_status()\n",
      "  File \"/home/gabriel/miniconda3/envs/pt_nlp/lib/python3.9/http/client.py\", line 288, in _read_status\n",
      "    raise RemoteDisconnected(\"Remote end closed connection without\"\n",
      "http.client.RemoteDisconnected: Remote end closed connection without response\n",
      "\n",
      "During handling of the above exception, another exception occurred:\n",
      "\n",
      "Traceback (most recent call last):\n",
      "  File \"/home/gabriel/miniconda3/envs/pt_nlp/lib/python3.9/site-packages/requests/adapters.py\", line 440, in send\n",
      "    resp = conn.urlopen(\n",
      "  File \"/home/gabriel/miniconda3/envs/pt_nlp/lib/python3.9/site-packages/urllib3/connectionpool.py\", line 755, in urlopen\n",
      "    retries = retries.increment(\n",
      "  File \"/home/gabriel/miniconda3/envs/pt_nlp/lib/python3.9/site-packages/urllib3/util/retry.py\", line 532, in increment\n",
      "    raise six.reraise(type(error), error, _stacktrace)\n",
      "  File \"/home/gabriel/miniconda3/envs/pt_nlp/lib/python3.9/site-packages/urllib3/packages/six.py\", line 769, in reraise\n",
      "    raise value.with_traceback(tb)\n",
      "  File \"/home/gabriel/miniconda3/envs/pt_nlp/lib/python3.9/site-packages/urllib3/connectionpool.py\", line 699, in urlopen\n",
      "    httplib_response = self._make_request(\n",
      "  File \"/home/gabriel/miniconda3/envs/pt_nlp/lib/python3.9/site-packages/urllib3/connectionpool.py\", line 445, in _make_request\n",
      "    six.raise_from(e, None)\n",
      "  File \"<string>\", line 3, in raise_from\n",
      "  File \"/home/gabriel/miniconda3/envs/pt_nlp/lib/python3.9/site-packages/urllib3/connectionpool.py\", line 440, in _make_request\n",
      "    httplib_response = conn.getresponse()\n",
      "  File \"/home/gabriel/miniconda3/envs/pt_nlp/lib/python3.9/http/client.py\", line 1371, in getresponse\n",
      "    response.begin()\n",
      "  File \"/home/gabriel/miniconda3/envs/pt_nlp/lib/python3.9/http/client.py\", line 319, in begin\n",
      "    version, status, reason = self._read_status()\n",
      "  File \"/home/gabriel/miniconda3/envs/pt_nlp/lib/python3.9/http/client.py\", line 288, in _read_status\n",
      "    raise RemoteDisconnected(\"Remote end closed connection without\"\n",
      "urllib3.exceptions.ProtocolError: ('Connection aborted.', RemoteDisconnected('Remote end closed connection without response'))\n",
      "\n",
      "During handling of the above exception, another exception occurred:\n",
      "\n",
      "Traceback (most recent call last):\n",
      "  File \"/tmp/ipykernel_6102/253839466.py\", line 10, in build_dataset\n",
      "    data = requests.get(url)\n",
      "  File \"/home/gabriel/miniconda3/envs/pt_nlp/lib/python3.9/site-packages/requests/api.py\", line 75, in get\n",
      "    return request('get', url, params=params, **kwargs)\n",
      "  File \"/home/gabriel/miniconda3/envs/pt_nlp/lib/python3.9/site-packages/requests/api.py\", line 61, in request\n",
      "    return session.request(method=method, url=url, **kwargs)\n",
      "  File \"/home/gabriel/miniconda3/envs/pt_nlp/lib/python3.9/site-packages/requests/sessions.py\", line 529, in request\n",
      "    resp = self.send(prep, **send_kwargs)\n",
      "  File \"/home/gabriel/miniconda3/envs/pt_nlp/lib/python3.9/site-packages/requests/sessions.py\", line 645, in send\n",
      "    r = adapter.send(request, **kwargs)\n",
      "  File \"/home/gabriel/miniconda3/envs/pt_nlp/lib/python3.9/site-packages/requests/adapters.py\", line 501, in send\n",
      "    raise ConnectionError(err, request=request)\n",
      "requests.exceptions.ConnectionError: ('Connection aborted.', RemoteDisconnected('Remote end closed connection without response'))\n"
     ]
    },
    {
     "name": "stderr",
     "output_type": "stream",
     "text": [
      "ERROR:root:('Connection aborted.', RemoteDisconnected('Remote end closed connection without response'))\n",
      "Traceback (most recent call last):\n",
      "  File \"/home/gabriel/miniconda3/envs/pt_nlp/lib/python3.9/site-packages/urllib3/connectionpool.py\", line 699, in urlopen\n",
      "    httplib_response = self._make_request(\n",
      "  File \"/home/gabriel/miniconda3/envs/pt_nlp/lib/python3.9/site-packages/urllib3/connectionpool.py\", line 445, in _make_request\n",
      "    six.raise_from(e, None)\n",
      "  File \"<string>\", line 3, in raise_from\n",
      "  File \"/home/gabriel/miniconda3/envs/pt_nlp/lib/python3.9/site-packages/urllib3/connectionpool.py\", line 440, in _make_request\n",
      "    httplib_response = conn.getresponse()\n",
      "  File \"/home/gabriel/miniconda3/envs/pt_nlp/lib/python3.9/http/client.py\", line 1371, in getresponse\n",
      "    response.begin()\n",
      "  File \"/home/gabriel/miniconda3/envs/pt_nlp/lib/python3.9/http/client.py\", line 319, in begin\n",
      "    version, status, reason = self._read_status()\n",
      "  File \"/home/gabriel/miniconda3/envs/pt_nlp/lib/python3.9/http/client.py\", line 288, in _read_status\n",
      "    raise RemoteDisconnected(\"Remote end closed connection without\"\n",
      "http.client.RemoteDisconnected: Remote end closed connection without response\n",
      "\n",
      "During handling of the above exception, another exception occurred:\n",
      "\n",
      "Traceback (most recent call last):\n",
      "  File \"/home/gabriel/miniconda3/envs/pt_nlp/lib/python3.9/site-packages/requests/adapters.py\", line 440, in send\n",
      "    resp = conn.urlopen(\n",
      "  File \"/home/gabriel/miniconda3/envs/pt_nlp/lib/python3.9/site-packages/urllib3/connectionpool.py\", line 755, in urlopen\n",
      "    retries = retries.increment(\n",
      "  File \"/home/gabriel/miniconda3/envs/pt_nlp/lib/python3.9/site-packages/urllib3/util/retry.py\", line 532, in increment\n",
      "    raise six.reraise(type(error), error, _stacktrace)\n",
      "  File \"/home/gabriel/miniconda3/envs/pt_nlp/lib/python3.9/site-packages/urllib3/packages/six.py\", line 769, in reraise\n",
      "    raise value.with_traceback(tb)\n",
      "  File \"/home/gabriel/miniconda3/envs/pt_nlp/lib/python3.9/site-packages/urllib3/connectionpool.py\", line 699, in urlopen\n",
      "    httplib_response = self._make_request(\n",
      "  File \"/home/gabriel/miniconda3/envs/pt_nlp/lib/python3.9/site-packages/urllib3/connectionpool.py\", line 445, in _make_request\n",
      "    six.raise_from(e, None)\n",
      "  File \"<string>\", line 3, in raise_from\n",
      "  File \"/home/gabriel/miniconda3/envs/pt_nlp/lib/python3.9/site-packages/urllib3/connectionpool.py\", line 440, in _make_request\n",
      "    httplib_response = conn.getresponse()\n",
      "  File \"/home/gabriel/miniconda3/envs/pt_nlp/lib/python3.9/http/client.py\", line 1371, in getresponse\n",
      "    response.begin()\n",
      "  File \"/home/gabriel/miniconda3/envs/pt_nlp/lib/python3.9/http/client.py\", line 319, in begin\n",
      "    version, status, reason = self._read_status()\n",
      "  File \"/home/gabriel/miniconda3/envs/pt_nlp/lib/python3.9/http/client.py\", line 288, in _read_status\n",
      "    raise RemoteDisconnected(\"Remote end closed connection without\"\n",
      "urllib3.exceptions.ProtocolError: ('Connection aborted.', RemoteDisconnected('Remote end closed connection without response'))\n",
      "\n",
      "During handling of the above exception, another exception occurred:\n",
      "\n",
      "Traceback (most recent call last):\n",
      "  File \"/tmp/ipykernel_6102/253839466.py\", line 10, in build_dataset\n",
      "    data = requests.get(url)\n",
      "  File \"/home/gabriel/miniconda3/envs/pt_nlp/lib/python3.9/site-packages/requests/api.py\", line 75, in get\n",
      "    return request('get', url, params=params, **kwargs)\n",
      "  File \"/home/gabriel/miniconda3/envs/pt_nlp/lib/python3.9/site-packages/requests/api.py\", line 61, in request\n",
      "    return session.request(method=method, url=url, **kwargs)\n",
      "  File \"/home/gabriel/miniconda3/envs/pt_nlp/lib/python3.9/site-packages/requests/sessions.py\", line 529, in request\n",
      "    resp = self.send(prep, **send_kwargs)\n",
      "  File \"/home/gabriel/miniconda3/envs/pt_nlp/lib/python3.9/site-packages/requests/sessions.py\", line 645, in send\n",
      "    r = adapter.send(request, **kwargs)\n",
      "  File \"/home/gabriel/miniconda3/envs/pt_nlp/lib/python3.9/site-packages/requests/adapters.py\", line 501, in send\n",
      "    raise ConnectionError(err, request=request)\n",
      "requests.exceptions.ConnectionError: ('Connection aborted.', RemoteDisconnected('Remote end closed connection without response'))\n",
      "ERROR:root:('Connection aborted.', RemoteDisconnected('Remote end closed connection without response'))\n",
      "Traceback (most recent call last):\n",
      "  File \"/home/gabriel/miniconda3/envs/pt_nlp/lib/python3.9/site-packages/urllib3/connectionpool.py\", line 699, in urlopen\n",
      "    httplib_response = self._make_request(\n",
      "  File \"/home/gabriel/miniconda3/envs/pt_nlp/lib/python3.9/site-packages/urllib3/connectionpool.py\", line 445, in _make_request\n",
      "    six.raise_from(e, None)\n",
      "  File \"<string>\", line 3, in raise_from\n",
      "  File \"/home/gabriel/miniconda3/envs/pt_nlp/lib/python3.9/site-packages/urllib3/connectionpool.py\", line 440, in _make_request\n",
      "    httplib_response = conn.getresponse()\n",
      "  File \"/home/gabriel/miniconda3/envs/pt_nlp/lib/python3.9/http/client.py\", line 1371, in getresponse\n",
      "    response.begin()\n",
      "  File \"/home/gabriel/miniconda3/envs/pt_nlp/lib/python3.9/http/client.py\", line 319, in begin\n",
      "    version, status, reason = self._read_status()\n",
      "  File \"/home/gabriel/miniconda3/envs/pt_nlp/lib/python3.9/http/client.py\", line 288, in _read_status\n",
      "    raise RemoteDisconnected(\"Remote end closed connection without\"\n",
      "http.client.RemoteDisconnected: Remote end closed connection without response\n",
      "\n",
      "During handling of the above exception, another exception occurred:\n",
      "\n",
      "Traceback (most recent call last):\n",
      "  File \"/home/gabriel/miniconda3/envs/pt_nlp/lib/python3.9/site-packages/requests/adapters.py\", line 440, in send\n",
      "    resp = conn.urlopen(\n",
      "  File \"/home/gabriel/miniconda3/envs/pt_nlp/lib/python3.9/site-packages/urllib3/connectionpool.py\", line 755, in urlopen\n",
      "    retries = retries.increment(\n",
      "  File \"/home/gabriel/miniconda3/envs/pt_nlp/lib/python3.9/site-packages/urllib3/util/retry.py\", line 532, in increment\n",
      "    raise six.reraise(type(error), error, _stacktrace)\n",
      "  File \"/home/gabriel/miniconda3/envs/pt_nlp/lib/python3.9/site-packages/urllib3/packages/six.py\", line 769, in reraise\n",
      "    raise value.with_traceback(tb)\n",
      "  File \"/home/gabriel/miniconda3/envs/pt_nlp/lib/python3.9/site-packages/urllib3/connectionpool.py\", line 699, in urlopen\n",
      "    httplib_response = self._make_request(\n",
      "  File \"/home/gabriel/miniconda3/envs/pt_nlp/lib/python3.9/site-packages/urllib3/connectionpool.py\", line 445, in _make_request\n",
      "    six.raise_from(e, None)\n",
      "  File \"<string>\", line 3, in raise_from\n",
      "  File \"/home/gabriel/miniconda3/envs/pt_nlp/lib/python3.9/site-packages/urllib3/connectionpool.py\", line 440, in _make_request\n",
      "    httplib_response = conn.getresponse()\n",
      "  File \"/home/gabriel/miniconda3/envs/pt_nlp/lib/python3.9/http/client.py\", line 1371, in getresponse\n",
      "    response.begin()\n",
      "  File \"/home/gabriel/miniconda3/envs/pt_nlp/lib/python3.9/http/client.py\", line 319, in begin\n",
      "    version, status, reason = self._read_status()\n",
      "  File \"/home/gabriel/miniconda3/envs/pt_nlp/lib/python3.9/http/client.py\", line 288, in _read_status\n",
      "    raise RemoteDisconnected(\"Remote end closed connection without\"\n",
      "urllib3.exceptions.ProtocolError: ('Connection aborted.', RemoteDisconnected('Remote end closed connection without response'))\n",
      "\n",
      "During handling of the above exception, another exception occurred:\n",
      "\n",
      "Traceback (most recent call last):\n",
      "  File \"/tmp/ipykernel_6102/253839466.py\", line 10, in build_dataset\n",
      "    data = requests.get(url)\n",
      "  File \"/home/gabriel/miniconda3/envs/pt_nlp/lib/python3.9/site-packages/requests/api.py\", line 75, in get\n",
      "    return request('get', url, params=params, **kwargs)\n",
      "  File \"/home/gabriel/miniconda3/envs/pt_nlp/lib/python3.9/site-packages/requests/api.py\", line 61, in request\n",
      "    return session.request(method=method, url=url, **kwargs)\n",
      "  File \"/home/gabriel/miniconda3/envs/pt_nlp/lib/python3.9/site-packages/requests/sessions.py\", line 529, in request\n",
      "    resp = self.send(prep, **send_kwargs)\n",
      "  File \"/home/gabriel/miniconda3/envs/pt_nlp/lib/python3.9/site-packages/requests/sessions.py\", line 645, in send\n",
      "    r = adapter.send(request, **kwargs)\n",
      "  File \"/home/gabriel/miniconda3/envs/pt_nlp/lib/python3.9/site-packages/requests/adapters.py\", line 501, in send\n",
      "    raise ConnectionError(err, request=request)\n",
      "requests.exceptions.ConnectionError: ('Connection aborted.', RemoteDisconnected('Remote end closed connection without response'))\n"
     ]
    },
    {
     "name": "stderr",
     "output_type": "stream",
     "text": [
      "WARNING:bs4.dammit:Some characters could not be decoded, and were replaced with REPLACEMENT CHARACTER.\n",
      "WARNING:urllib3.connection:Certificate did not match expected hostname: www.diyfurniturestore.com. Certificate: {'subject': ((('countryName', 'US'),), (('stateOrProvinceName', 'California'),), (('localityName', 'San Francisco'),), (('organizationName', 'Cloudflare, Inc.'),), (('commonName', '*.myshopify.com'),)), 'issuer': ((('countryName', 'US'),), (('organizationName', 'Cloudflare, Inc.'),), (('commonName', 'Cloudflare Inc ECC CA-3'),)), 'version': 3, 'serialNumber': '08D14009B8CCFD7A28D460E790084A96', 'notBefore': 'Sep 13 00:00:00 2021 GMT', 'notAfter': 'Sep 12 23:59:59 2022 GMT', 'subjectAltName': (('DNS', 'myshopify.com'), ('DNS', '*.myshopify.com')), 'OCSP': ('http://ocsp.digicert.com',), 'caIssuers': ('http://cacerts.digicert.com/CloudflareIncECCCA-3.crt',), 'crlDistributionPoints': ('http://crl3.digicert.com/CloudflareIncECCCA-3.crl', 'http://crl4.digicert.com/CloudflareIncECCCA-3.crl')}\n",
      "ERROR:root:HTTPSConnectionPool(host='www.diyfurniturestore.com', port=443): Max retries exceeded with url: /products/inside-out (Caused by SSLError(SSLCertVerificationError(\"hostname 'www.diyfurniturestore.com' doesn't match either of 'myshopify.com', '*.myshopify.com'\")))\n",
      "Traceback (most recent call last):\n",
      "  File \"/home/gabriel/miniconda3/envs/pt_nlp/lib/python3.9/site-packages/urllib3/connectionpool.py\", line 699, in urlopen\n",
      "    httplib_response = self._make_request(\n",
      "  File \"/home/gabriel/miniconda3/envs/pt_nlp/lib/python3.9/site-packages/urllib3/connectionpool.py\", line 382, in _make_request\n",
      "    self._validate_conn(conn)\n",
      "  File \"/home/gabriel/miniconda3/envs/pt_nlp/lib/python3.9/site-packages/urllib3/connectionpool.py\", line 1010, in _validate_conn\n",
      "    conn.connect()\n",
      "  File \"/home/gabriel/miniconda3/envs/pt_nlp/lib/python3.9/site-packages/urllib3/connection.py\", line 469, in connect\n",
      "    _match_hostname(cert, self.assert_hostname or server_hostname)\n",
      "  File \"/home/gabriel/miniconda3/envs/pt_nlp/lib/python3.9/site-packages/urllib3/connection.py\", line 542, in _match_hostname\n",
      "    match_hostname(cert, asserted_hostname)\n",
      "  File \"/home/gabriel/miniconda3/envs/pt_nlp/lib/python3.9/ssl.py\", line 416, in match_hostname\n",
      "    raise CertificateError(\"hostname %r \"\n",
      "ssl.SSLCertVerificationError: (\"hostname 'www.diyfurniturestore.com' doesn't match either of 'myshopify.com', '*.myshopify.com'\",)\n",
      "\n",
      "During handling of the above exception, another exception occurred:\n",
      "\n",
      "Traceback (most recent call last):\n",
      "  File \"/home/gabriel/miniconda3/envs/pt_nlp/lib/python3.9/site-packages/requests/adapters.py\", line 440, in send\n",
      "    resp = conn.urlopen(\n",
      "  File \"/home/gabriel/miniconda3/envs/pt_nlp/lib/python3.9/site-packages/urllib3/connectionpool.py\", line 755, in urlopen\n",
      "    retries = retries.increment(\n",
      "  File \"/home/gabriel/miniconda3/envs/pt_nlp/lib/python3.9/site-packages/urllib3/util/retry.py\", line 574, in increment\n",
      "    raise MaxRetryError(_pool, url, error or ResponseError(cause))\n",
      "urllib3.exceptions.MaxRetryError: HTTPSConnectionPool(host='www.diyfurniturestore.com', port=443): Max retries exceeded with url: /products/inside-out (Caused by SSLError(SSLCertVerificationError(\"hostname 'www.diyfurniturestore.com' doesn't match either of 'myshopify.com', '*.myshopify.com'\")))\n",
      "\n",
      "During handling of the above exception, another exception occurred:\n",
      "\n",
      "Traceback (most recent call last):\n",
      "  File \"/tmp/ipykernel_6102/253839466.py\", line 10, in build_dataset\n",
      "    data = requests.get(url)\n",
      "  File \"/home/gabriel/miniconda3/envs/pt_nlp/lib/python3.9/site-packages/requests/api.py\", line 75, in get\n",
      "    return request('get', url, params=params, **kwargs)\n",
      "  File \"/home/gabriel/miniconda3/envs/pt_nlp/lib/python3.9/site-packages/requests/api.py\", line 61, in request\n",
      "    return session.request(method=method, url=url, **kwargs)\n",
      "  File \"/home/gabriel/miniconda3/envs/pt_nlp/lib/python3.9/site-packages/requests/sessions.py\", line 529, in request\n",
      "    resp = self.send(prep, **send_kwargs)\n",
      "  File \"/home/gabriel/miniconda3/envs/pt_nlp/lib/python3.9/site-packages/requests/sessions.py\", line 645, in send\n",
      "    r = adapter.send(request, **kwargs)\n",
      "  File \"/home/gabriel/miniconda3/envs/pt_nlp/lib/python3.9/site-packages/requests/adapters.py\", line 517, in send\n",
      "    raise SSLError(e, request=request)\n",
      "requests.exceptions.SSLError: HTTPSConnectionPool(host='www.diyfurniturestore.com', port=443): Max retries exceeded with url: /products/inside-out (Caused by SSLError(SSLCertVerificationError(\"hostname 'www.diyfurniturestore.com' doesn't match either of 'myshopify.com', '*.myshopify.com'\")))\n",
      "ERROR:root:HTTPSConnectionPool(host='www.langria.com', port=443): Max retries exceeded with url: /products/laptop-desk-cart (Caused by NewConnectionError('<urllib3.connection.HTTPSConnection object at 0x7f1728877820>: Failed to establish a new connection: [Errno -2] Name or service not known'))\n",
      "Traceback (most recent call last):\n",
      "  File \"/home/gabriel/miniconda3/envs/pt_nlp/lib/python3.9/site-packages/urllib3/connection.py\", line 174, in _new_conn\n",
      "    conn = connection.create_connection(\n",
      "  File \"/home/gabriel/miniconda3/envs/pt_nlp/lib/python3.9/site-packages/urllib3/util/connection.py\", line 73, in create_connection\n",
      "    for res in socket.getaddrinfo(host, port, family, socket.SOCK_STREAM):\n",
      "  File \"/home/gabriel/miniconda3/envs/pt_nlp/lib/python3.9/socket.py\", line 954, in getaddrinfo\n",
      "    for res in _socket.getaddrinfo(host, port, family, type, proto, flags):\n",
      "socket.gaierror: [Errno -2] Name or service not known\n",
      "\n",
      "During handling of the above exception, another exception occurred:\n",
      "\n",
      "Traceback (most recent call last):\n",
      "  File \"/home/gabriel/miniconda3/envs/pt_nlp/lib/python3.9/site-packages/urllib3/connectionpool.py\", line 699, in urlopen\n",
      "    httplib_response = self._make_request(\n",
      "  File \"/home/gabriel/miniconda3/envs/pt_nlp/lib/python3.9/site-packages/urllib3/connectionpool.py\", line 382, in _make_request\n",
      "    self._validate_conn(conn)\n",
      "  File \"/home/gabriel/miniconda3/envs/pt_nlp/lib/python3.9/site-packages/urllib3/connectionpool.py\", line 1010, in _validate_conn\n",
      "    conn.connect()\n",
      "  File \"/home/gabriel/miniconda3/envs/pt_nlp/lib/python3.9/site-packages/urllib3/connection.py\", line 358, in connect\n",
      "    conn = self._new_conn()\n",
      "  File \"/home/gabriel/miniconda3/envs/pt_nlp/lib/python3.9/site-packages/urllib3/connection.py\", line 186, in _new_conn\n",
      "    raise NewConnectionError(\n",
      "urllib3.exceptions.NewConnectionError: <urllib3.connection.HTTPSConnection object at 0x7f1728877820>: Failed to establish a new connection: [Errno -2] Name or service not known\n",
      "\n",
      "During handling of the above exception, another exception occurred:\n",
      "\n",
      "Traceback (most recent call last):\n",
      "  File \"/home/gabriel/miniconda3/envs/pt_nlp/lib/python3.9/site-packages/requests/adapters.py\", line 440, in send\n",
      "    resp = conn.urlopen(\n",
      "  File \"/home/gabriel/miniconda3/envs/pt_nlp/lib/python3.9/site-packages/urllib3/connectionpool.py\", line 755, in urlopen\n",
      "    retries = retries.increment(\n",
      "  File \"/home/gabriel/miniconda3/envs/pt_nlp/lib/python3.9/site-packages/urllib3/util/retry.py\", line 574, in increment\n",
      "    raise MaxRetryError(_pool, url, error or ResponseError(cause))\n",
      "urllib3.exceptions.MaxRetryError: HTTPSConnectionPool(host='www.langria.com', port=443): Max retries exceeded with url: /products/laptop-desk-cart (Caused by NewConnectionError('<urllib3.connection.HTTPSConnection object at 0x7f1728877820>: Failed to establish a new connection: [Errno -2] Name or service not known'))\n",
      "\n",
      "During handling of the above exception, another exception occurred:\n",
      "\n",
      "Traceback (most recent call last):\n",
      "  File \"/tmp/ipykernel_6102/253839466.py\", line 10, in build_dataset\n",
      "    data = requests.get(url)\n",
      "  File \"/home/gabriel/miniconda3/envs/pt_nlp/lib/python3.9/site-packages/requests/api.py\", line 75, in get\n",
      "    return request('get', url, params=params, **kwargs)\n",
      "  File \"/home/gabriel/miniconda3/envs/pt_nlp/lib/python3.9/site-packages/requests/api.py\", line 61, in request\n",
      "    return session.request(method=method, url=url, **kwargs)\n",
      "  File \"/home/gabriel/miniconda3/envs/pt_nlp/lib/python3.9/site-packages/requests/sessions.py\", line 529, in request\n",
      "    resp = self.send(prep, **send_kwargs)\n",
      "  File \"/home/gabriel/miniconda3/envs/pt_nlp/lib/python3.9/site-packages/requests/sessions.py\", line 645, in send\n",
      "    r = adapter.send(request, **kwargs)\n",
      "  File \"/home/gabriel/miniconda3/envs/pt_nlp/lib/python3.9/site-packages/requests/adapters.py\", line 519, in send\n",
      "    raise ConnectionError(e, request=request)\n",
      "requests.exceptions.ConnectionError: HTTPSConnectionPool(host='www.langria.com', port=443): Max retries exceeded with url: /products/laptop-desk-cart (Caused by NewConnectionError('<urllib3.connection.HTTPSConnection object at 0x7f1728877820>: Failed to establish a new connection: [Errno -2] Name or service not known'))\n"
     ]
    },
    {
     "name": "stderr",
     "output_type": "stream",
     "text": [
      "ERROR:root:HTTPSConnectionPool(host='birba.co.za', port=443): Max retries exceeded with url: /products/elkay-coffee-table-with-black-resign-line-detail (Caused by NewConnectionError('<urllib3.connection.HTTPSConnection object at 0x7f1724098a30>: Failed to establish a new connection: [Errno -2] Name or service not known'))\n",
      "Traceback (most recent call last):\n",
      "  File \"/home/gabriel/miniconda3/envs/pt_nlp/lib/python3.9/site-packages/urllib3/connection.py\", line 174, in _new_conn\n",
      "    conn = connection.create_connection(\n",
      "  File \"/home/gabriel/miniconda3/envs/pt_nlp/lib/python3.9/site-packages/urllib3/util/connection.py\", line 73, in create_connection\n",
      "    for res in socket.getaddrinfo(host, port, family, socket.SOCK_STREAM):\n",
      "  File \"/home/gabriel/miniconda3/envs/pt_nlp/lib/python3.9/socket.py\", line 954, in getaddrinfo\n",
      "    for res in _socket.getaddrinfo(host, port, family, type, proto, flags):\n",
      "socket.gaierror: [Errno -2] Name or service not known\n",
      "\n",
      "During handling of the above exception, another exception occurred:\n",
      "\n",
      "Traceback (most recent call last):\n",
      "  File \"/home/gabriel/miniconda3/envs/pt_nlp/lib/python3.9/site-packages/urllib3/connectionpool.py\", line 699, in urlopen\n",
      "    httplib_response = self._make_request(\n",
      "  File \"/home/gabriel/miniconda3/envs/pt_nlp/lib/python3.9/site-packages/urllib3/connectionpool.py\", line 382, in _make_request\n",
      "    self._validate_conn(conn)\n",
      "  File \"/home/gabriel/miniconda3/envs/pt_nlp/lib/python3.9/site-packages/urllib3/connectionpool.py\", line 1010, in _validate_conn\n",
      "    conn.connect()\n",
      "  File \"/home/gabriel/miniconda3/envs/pt_nlp/lib/python3.9/site-packages/urllib3/connection.py\", line 358, in connect\n",
      "    conn = self._new_conn()\n",
      "  File \"/home/gabriel/miniconda3/envs/pt_nlp/lib/python3.9/site-packages/urllib3/connection.py\", line 186, in _new_conn\n",
      "    raise NewConnectionError(\n",
      "urllib3.exceptions.NewConnectionError: <urllib3.connection.HTTPSConnection object at 0x7f1724098a30>: Failed to establish a new connection: [Errno -2] Name or service not known\n",
      "\n",
      "During handling of the above exception, another exception occurred:\n",
      "\n",
      "Traceback (most recent call last):\n",
      "  File \"/home/gabriel/miniconda3/envs/pt_nlp/lib/python3.9/site-packages/requests/adapters.py\", line 440, in send\n",
      "    resp = conn.urlopen(\n",
      "  File \"/home/gabriel/miniconda3/envs/pt_nlp/lib/python3.9/site-packages/urllib3/connectionpool.py\", line 755, in urlopen\n",
      "    retries = retries.increment(\n",
      "  File \"/home/gabriel/miniconda3/envs/pt_nlp/lib/python3.9/site-packages/urllib3/util/retry.py\", line 574, in increment\n",
      "    raise MaxRetryError(_pool, url, error or ResponseError(cause))\n",
      "urllib3.exceptions.MaxRetryError: HTTPSConnectionPool(host='birba.co.za', port=443): Max retries exceeded with url: /products/elkay-coffee-table-with-black-resign-line-detail (Caused by NewConnectionError('<urllib3.connection.HTTPSConnection object at 0x7f1724098a30>: Failed to establish a new connection: [Errno -2] Name or service not known'))\n",
      "\n",
      "During handling of the above exception, another exception occurred:\n",
      "\n",
      "Traceback (most recent call last):\n",
      "  File \"/tmp/ipykernel_6102/253839466.py\", line 10, in build_dataset\n",
      "    data = requests.get(url)\n",
      "  File \"/home/gabriel/miniconda3/envs/pt_nlp/lib/python3.9/site-packages/requests/api.py\", line 75, in get\n",
      "    return request('get', url, params=params, **kwargs)\n",
      "  File \"/home/gabriel/miniconda3/envs/pt_nlp/lib/python3.9/site-packages/requests/api.py\", line 61, in request\n",
      "    return session.request(method=method, url=url, **kwargs)\n",
      "  File \"/home/gabriel/miniconda3/envs/pt_nlp/lib/python3.9/site-packages/requests/sessions.py\", line 529, in request\n",
      "    resp = self.send(prep, **send_kwargs)\n",
      "  File \"/home/gabriel/miniconda3/envs/pt_nlp/lib/python3.9/site-packages/requests/sessions.py\", line 645, in send\n",
      "    r = adapter.send(request, **kwargs)\n",
      "  File \"/home/gabriel/miniconda3/envs/pt_nlp/lib/python3.9/site-packages/requests/adapters.py\", line 519, in send\n",
      "    raise ConnectionError(e, request=request)\n",
      "requests.exceptions.ConnectionError: HTTPSConnectionPool(host='birba.co.za', port=443): Max retries exceeded with url: /products/elkay-coffee-table-with-black-resign-line-detail (Caused by NewConnectionError('<urllib3.connection.HTTPSConnection object at 0x7f1724098a30>: Failed to establish a new connection: [Errno -2] Name or service not known'))\n",
      "WARNING:urllib3.connection:Certificate did not match expected hostname: inliving.com. Certificate: {'subject': ((('commonName', '*.wordpress.com'),),), 'issuer': ((('countryName', 'GB'),), (('stateOrProvinceName', 'Greater Manchester'),), (('localityName', 'Salford'),), (('organizationName', 'Sectigo Limited'),), (('commonName', 'Sectigo RSA Domain Validation Secure Server CA'),)), 'version': 3, 'serialNumber': '60F57DE92D98F2C6F0F064F54CF37314', 'notBefore': 'Aug 12 00:00:00 2020 GMT', 'notAfter': 'Nov 14 00:00:00 2022 GMT', 'subjectAltName': (('DNS', '*.wordpress.com'), ('DNS', 'wordpress.com')), 'OCSP': ('http://ocsp.sectigo.com',), 'caIssuers': ('http://crt.sectigo.com/SectigoRSADomainValidationSecureServerCA.crt',)}\n",
      "ERROR:root:HTTPSConnectionPool(host='inliving.com', port=443): Max retries exceeded with url: /products/ (Caused by SSLError(SSLCertVerificationError(\"hostname 'inliving.com' doesn't match either of '*.wordpress.com', 'wordpress.com'\")))\n",
      "Traceback (most recent call last):\n",
      "  File \"/home/gabriel/miniconda3/envs/pt_nlp/lib/python3.9/site-packages/urllib3/connectionpool.py\", line 699, in urlopen\n",
      "    httplib_response = self._make_request(\n",
      "  File \"/home/gabriel/miniconda3/envs/pt_nlp/lib/python3.9/site-packages/urllib3/connectionpool.py\", line 382, in _make_request\n",
      "    self._validate_conn(conn)\n",
      "  File \"/home/gabriel/miniconda3/envs/pt_nlp/lib/python3.9/site-packages/urllib3/connectionpool.py\", line 1010, in _validate_conn\n",
      "    conn.connect()\n",
      "  File \"/home/gabriel/miniconda3/envs/pt_nlp/lib/python3.9/site-packages/urllib3/connection.py\", line 469, in connect\n",
      "    _match_hostname(cert, self.assert_hostname or server_hostname)\n",
      "  File \"/home/gabriel/miniconda3/envs/pt_nlp/lib/python3.9/site-packages/urllib3/connection.py\", line 542, in _match_hostname\n",
      "    match_hostname(cert, asserted_hostname)\n",
      "  File \"/home/gabriel/miniconda3/envs/pt_nlp/lib/python3.9/ssl.py\", line 416, in match_hostname\n",
      "    raise CertificateError(\"hostname %r \"\n",
      "ssl.SSLCertVerificationError: (\"hostname 'inliving.com' doesn't match either of '*.wordpress.com', 'wordpress.com'\",)\n",
      "\n",
      "During handling of the above exception, another exception occurred:\n",
      "\n",
      "Traceback (most recent call last):\n",
      "  File \"/home/gabriel/miniconda3/envs/pt_nlp/lib/python3.9/site-packages/requests/adapters.py\", line 440, in send\n",
      "    resp = conn.urlopen(\n",
      "  File \"/home/gabriel/miniconda3/envs/pt_nlp/lib/python3.9/site-packages/urllib3/connectionpool.py\", line 755, in urlopen\n",
      "    retries = retries.increment(\n",
      "  File \"/home/gabriel/miniconda3/envs/pt_nlp/lib/python3.9/site-packages/urllib3/util/retry.py\", line 574, in increment\n",
      "    raise MaxRetryError(_pool, url, error or ResponseError(cause))\n",
      "urllib3.exceptions.MaxRetryError: HTTPSConnectionPool(host='inliving.com', port=443): Max retries exceeded with url: /products/ (Caused by SSLError(SSLCertVerificationError(\"hostname 'inliving.com' doesn't match either of '*.wordpress.com', 'wordpress.com'\")))\n",
      "\n",
      "During handling of the above exception, another exception occurred:\n",
      "\n",
      "Traceback (most recent call last):\n",
      "  File \"/tmp/ipykernel_6102/253839466.py\", line 10, in build_dataset\n",
      "    data = requests.get(url)\n",
      "  File \"/home/gabriel/miniconda3/envs/pt_nlp/lib/python3.9/site-packages/requests/api.py\", line 75, in get\n",
      "    return request('get', url, params=params, **kwargs)\n",
      "  File \"/home/gabriel/miniconda3/envs/pt_nlp/lib/python3.9/site-packages/requests/api.py\", line 61, in request\n",
      "    return session.request(method=method, url=url, **kwargs)\n",
      "  File \"/home/gabriel/miniconda3/envs/pt_nlp/lib/python3.9/site-packages/requests/sessions.py\", line 529, in request\n",
      "    resp = self.send(prep, **send_kwargs)\n",
      "  File \"/home/gabriel/miniconda3/envs/pt_nlp/lib/python3.9/site-packages/requests/sessions.py\", line 645, in send\n",
      "    r = adapter.send(request, **kwargs)\n",
      "  File \"/home/gabriel/miniconda3/envs/pt_nlp/lib/python3.9/site-packages/requests/adapters.py\", line 517, in send\n",
      "    raise SSLError(e, request=request)\n",
      "requests.exceptions.SSLError: HTTPSConnectionPool(host='inliving.com', port=443): Max retries exceeded with url: /products/ (Caused by SSLError(SSLCertVerificationError(\"hostname 'inliving.com' doesn't match either of '*.wordpress.com', 'wordpress.com'\")))\n"
     ]
    },
    {
     "name": "stderr",
     "output_type": "stream",
     "text": [
      "ERROR:root:HTTPSConnectionPool(host='www.fdxonline.com', port=443): Max retries exceeded with url: /en/en/products/chaise-lounge-by-dfn (Caused by NewConnectionError('<urllib3.connection.HTTPSConnection object at 0x7f172b4f33d0>: Failed to establish a new connection: [Errno 111] Connection refused'))\n",
      "Traceback (most recent call last):\n",
      "  File \"/home/gabriel/miniconda3/envs/pt_nlp/lib/python3.9/site-packages/urllib3/connection.py\", line 174, in _new_conn\n",
      "    conn = connection.create_connection(\n",
      "  File \"/home/gabriel/miniconda3/envs/pt_nlp/lib/python3.9/site-packages/urllib3/util/connection.py\", line 96, in create_connection\n",
      "    raise err\n",
      "  File \"/home/gabriel/miniconda3/envs/pt_nlp/lib/python3.9/site-packages/urllib3/util/connection.py\", line 86, in create_connection\n",
      "    sock.connect(sa)\n",
      "ConnectionRefusedError: [Errno 111] Connection refused\n",
      "\n",
      "During handling of the above exception, another exception occurred:\n",
      "\n",
      "Traceback (most recent call last):\n",
      "  File \"/home/gabriel/miniconda3/envs/pt_nlp/lib/python3.9/site-packages/urllib3/connectionpool.py\", line 699, in urlopen\n",
      "    httplib_response = self._make_request(\n",
      "  File \"/home/gabriel/miniconda3/envs/pt_nlp/lib/python3.9/site-packages/urllib3/connectionpool.py\", line 382, in _make_request\n",
      "    self._validate_conn(conn)\n",
      "  File \"/home/gabriel/miniconda3/envs/pt_nlp/lib/python3.9/site-packages/urllib3/connectionpool.py\", line 1010, in _validate_conn\n",
      "    conn.connect()\n",
      "  File \"/home/gabriel/miniconda3/envs/pt_nlp/lib/python3.9/site-packages/urllib3/connection.py\", line 358, in connect\n",
      "    conn = self._new_conn()\n",
      "  File \"/home/gabriel/miniconda3/envs/pt_nlp/lib/python3.9/site-packages/urllib3/connection.py\", line 186, in _new_conn\n",
      "    raise NewConnectionError(\n",
      "urllib3.exceptions.NewConnectionError: <urllib3.connection.HTTPSConnection object at 0x7f172b4f33d0>: Failed to establish a new connection: [Errno 111] Connection refused\n",
      "\n",
      "During handling of the above exception, another exception occurred:\n",
      "\n",
      "Traceback (most recent call last):\n",
      "  File \"/home/gabriel/miniconda3/envs/pt_nlp/lib/python3.9/site-packages/requests/adapters.py\", line 440, in send\n",
      "    resp = conn.urlopen(\n",
      "  File \"/home/gabriel/miniconda3/envs/pt_nlp/lib/python3.9/site-packages/urllib3/connectionpool.py\", line 755, in urlopen\n",
      "    retries = retries.increment(\n",
      "  File \"/home/gabriel/miniconda3/envs/pt_nlp/lib/python3.9/site-packages/urllib3/util/retry.py\", line 574, in increment\n",
      "    raise MaxRetryError(_pool, url, error or ResponseError(cause))\n",
      "urllib3.exceptions.MaxRetryError: HTTPSConnectionPool(host='www.fdxonline.com', port=443): Max retries exceeded with url: /en/en/products/chaise-lounge-by-dfn (Caused by NewConnectionError('<urllib3.connection.HTTPSConnection object at 0x7f172b4f33d0>: Failed to establish a new connection: [Errno 111] Connection refused'))\n",
      "\n",
      "During handling of the above exception, another exception occurred:\n",
      "\n",
      "Traceback (most recent call last):\n",
      "  File \"/tmp/ipykernel_6102/253839466.py\", line 10, in build_dataset\n",
      "    data = requests.get(url)\n",
      "  File \"/home/gabriel/miniconda3/envs/pt_nlp/lib/python3.9/site-packages/requests/api.py\", line 75, in get\n",
      "    return request('get', url, params=params, **kwargs)\n",
      "  File \"/home/gabriel/miniconda3/envs/pt_nlp/lib/python3.9/site-packages/requests/api.py\", line 61, in request\n",
      "    return session.request(method=method, url=url, **kwargs)\n",
      "  File \"/home/gabriel/miniconda3/envs/pt_nlp/lib/python3.9/site-packages/requests/sessions.py\", line 529, in request\n",
      "    resp = self.send(prep, **send_kwargs)\n",
      "  File \"/home/gabriel/miniconda3/envs/pt_nlp/lib/python3.9/site-packages/requests/sessions.py\", line 645, in send\n",
      "    r = adapter.send(request, **kwargs)\n",
      "  File \"/home/gabriel/miniconda3/envs/pt_nlp/lib/python3.9/site-packages/requests/adapters.py\", line 519, in send\n",
      "    raise ConnectionError(e, request=request)\n",
      "requests.exceptions.ConnectionError: HTTPSConnectionPool(host='www.fdxonline.com', port=443): Max retries exceeded with url: /en/en/products/chaise-lounge-by-dfn (Caused by NewConnectionError('<urllib3.connection.HTTPSConnection object at 0x7f172b4f33d0>: Failed to establish a new connection: [Errno 111] Connection refused'))\n",
      "WARNING:urllib3.connection:Certificate did not match expected hostname: www.pacificlifestyledecor.com. Certificate: {'subject': ((('countryName', 'US'),), (('stateOrProvinceName', 'California'),), (('localityName', 'San Francisco'),), (('organizationName', 'Cloudflare, Inc.'),), (('commonName', '*.myshopify.com'),)), 'issuer': ((('countryName', 'US'),), (('organizationName', 'Cloudflare, Inc.'),), (('commonName', 'Cloudflare Inc ECC CA-3'),)), 'version': 3, 'serialNumber': '08D14009B8CCFD7A28D460E790084A96', 'notBefore': 'Sep 13 00:00:00 2021 GMT', 'notAfter': 'Sep 12 23:59:59 2022 GMT', 'subjectAltName': (('DNS', 'myshopify.com'), ('DNS', '*.myshopify.com')), 'OCSP': ('http://ocsp.digicert.com',), 'caIssuers': ('http://cacerts.digicert.com/CloudflareIncECCCA-3.crt',), 'crlDistributionPoints': ('http://crl3.digicert.com/CloudflareIncECCCA-3.crl', 'http://crl4.digicert.com/CloudflareIncECCCA-3.crl')}\n",
      "ERROR:root:HTTPSConnectionPool(host='www.pacificlifestyledecor.com', port=443): Max retries exceeded with url: /products/outdoor-patio-pool-and-garden-wicker-storage-box (Caused by SSLError(SSLCertVerificationError(\"hostname 'www.pacificlifestyledecor.com' doesn't match either of 'myshopify.com', '*.myshopify.com'\")))\n",
      "Traceback (most recent call last):\n",
      "  File \"/home/gabriel/miniconda3/envs/pt_nlp/lib/python3.9/site-packages/urllib3/connectionpool.py\", line 699, in urlopen\n",
      "    httplib_response = self._make_request(\n",
      "  File \"/home/gabriel/miniconda3/envs/pt_nlp/lib/python3.9/site-packages/urllib3/connectionpool.py\", line 382, in _make_request\n",
      "    self._validate_conn(conn)\n",
      "  File \"/home/gabriel/miniconda3/envs/pt_nlp/lib/python3.9/site-packages/urllib3/connectionpool.py\", line 1010, in _validate_conn\n",
      "    conn.connect()\n",
      "  File \"/home/gabriel/miniconda3/envs/pt_nlp/lib/python3.9/site-packages/urllib3/connection.py\", line 469, in connect\n",
      "    _match_hostname(cert, self.assert_hostname or server_hostname)\n",
      "  File \"/home/gabriel/miniconda3/envs/pt_nlp/lib/python3.9/site-packages/urllib3/connection.py\", line 542, in _match_hostname\n",
      "    match_hostname(cert, asserted_hostname)\n",
      "  File \"/home/gabriel/miniconda3/envs/pt_nlp/lib/python3.9/ssl.py\", line 416, in match_hostname\n",
      "    raise CertificateError(\"hostname %r \"\n",
      "ssl.SSLCertVerificationError: (\"hostname 'www.pacificlifestyledecor.com' doesn't match either of 'myshopify.com', '*.myshopify.com'\",)\n",
      "\n",
      "During handling of the above exception, another exception occurred:\n",
      "\n",
      "Traceback (most recent call last):\n",
      "  File \"/home/gabriel/miniconda3/envs/pt_nlp/lib/python3.9/site-packages/requests/adapters.py\", line 440, in send\n",
      "    resp = conn.urlopen(\n",
      "  File \"/home/gabriel/miniconda3/envs/pt_nlp/lib/python3.9/site-packages/urllib3/connectionpool.py\", line 755, in urlopen\n",
      "    retries = retries.increment(\n",
      "  File \"/home/gabriel/miniconda3/envs/pt_nlp/lib/python3.9/site-packages/urllib3/util/retry.py\", line 574, in increment\n",
      "    raise MaxRetryError(_pool, url, error or ResponseError(cause))\n",
      "urllib3.exceptions.MaxRetryError: HTTPSConnectionPool(host='www.pacificlifestyledecor.com', port=443): Max retries exceeded with url: /products/outdoor-patio-pool-and-garden-wicker-storage-box (Caused by SSLError(SSLCertVerificationError(\"hostname 'www.pacificlifestyledecor.com' doesn't match either of 'myshopify.com', '*.myshopify.com'\")))\n",
      "\n",
      "During handling of the above exception, another exception occurred:\n",
      "\n",
      "Traceback (most recent call last):\n",
      "  File \"/tmp/ipykernel_6102/253839466.py\", line 10, in build_dataset\n",
      "    data = requests.get(url)\n",
      "  File \"/home/gabriel/miniconda3/envs/pt_nlp/lib/python3.9/site-packages/requests/api.py\", line 75, in get\n",
      "    return request('get', url, params=params, **kwargs)\n",
      "  File \"/home/gabriel/miniconda3/envs/pt_nlp/lib/python3.9/site-packages/requests/api.py\", line 61, in request\n",
      "    return session.request(method=method, url=url, **kwargs)\n",
      "  File \"/home/gabriel/miniconda3/envs/pt_nlp/lib/python3.9/site-packages/requests/sessions.py\", line 529, in request\n",
      "    resp = self.send(prep, **send_kwargs)\n",
      "  File \"/home/gabriel/miniconda3/envs/pt_nlp/lib/python3.9/site-packages/requests/sessions.py\", line 645, in send\n",
      "    r = adapter.send(request, **kwargs)\n",
      "  File \"/home/gabriel/miniconda3/envs/pt_nlp/lib/python3.9/site-packages/requests/adapters.py\", line 517, in send\n",
      "    raise SSLError(e, request=request)\n",
      "requests.exceptions.SSLError: HTTPSConnectionPool(host='www.pacificlifestyledecor.com', port=443): Max retries exceeded with url: /products/outdoor-patio-pool-and-garden-wicker-storage-box (Caused by SSLError(SSLCertVerificationError(\"hostname 'www.pacificlifestyledecor.com' doesn't match either of 'myshopify.com', '*.myshopify.com'\")))\n"
     ]
    },
    {
     "name": "stderr",
     "output_type": "stream",
     "text": [
      "WARNING:urllib3.connection:Certificate did not match expected hostname: rusteak.com. Certificate: {'subject': ((('countryName', 'US'),), (('stateOrProvinceName', 'California'),), (('localityName', 'San Francisco'),), (('organizationName', 'Cloudflare, Inc.'),), (('commonName', '*.myshopify.com'),)), 'issuer': ((('countryName', 'US'),), (('organizationName', 'Cloudflare, Inc.'),), (('commonName', 'Cloudflare Inc ECC CA-3'),)), 'version': 3, 'serialNumber': '08D14009B8CCFD7A28D460E790084A96', 'notBefore': 'Sep 13 00:00:00 2021 GMT', 'notAfter': 'Sep 12 23:59:59 2022 GMT', 'subjectAltName': (('DNS', 'myshopify.com'), ('DNS', '*.myshopify.com')), 'OCSP': ('http://ocsp.digicert.com',), 'caIssuers': ('http://cacerts.digicert.com/CloudflareIncECCCA-3.crt',), 'crlDistributionPoints': ('http://crl3.digicert.com/CloudflareIncECCCA-3.crl', 'http://crl4.digicert.com/CloudflareIncECCCA-3.crl')}\n",
      "ERROR:root:HTTPSConnectionPool(host='rusteak.com', port=443): Max retries exceeded with url: /products/sofa (Caused by SSLError(SSLCertVerificationError(\"hostname 'rusteak.com' doesn't match either of 'myshopify.com', '*.myshopify.com'\")))\n",
      "Traceback (most recent call last):\n",
      "  File \"/home/gabriel/miniconda3/envs/pt_nlp/lib/python3.9/site-packages/urllib3/connectionpool.py\", line 699, in urlopen\n",
      "    httplib_response = self._make_request(\n",
      "  File \"/home/gabriel/miniconda3/envs/pt_nlp/lib/python3.9/site-packages/urllib3/connectionpool.py\", line 382, in _make_request\n",
      "    self._validate_conn(conn)\n",
      "  File \"/home/gabriel/miniconda3/envs/pt_nlp/lib/python3.9/site-packages/urllib3/connectionpool.py\", line 1010, in _validate_conn\n",
      "    conn.connect()\n",
      "  File \"/home/gabriel/miniconda3/envs/pt_nlp/lib/python3.9/site-packages/urllib3/connection.py\", line 469, in connect\n",
      "    _match_hostname(cert, self.assert_hostname or server_hostname)\n",
      "  File \"/home/gabriel/miniconda3/envs/pt_nlp/lib/python3.9/site-packages/urllib3/connection.py\", line 542, in _match_hostname\n",
      "    match_hostname(cert, asserted_hostname)\n",
      "  File \"/home/gabriel/miniconda3/envs/pt_nlp/lib/python3.9/ssl.py\", line 416, in match_hostname\n",
      "    raise CertificateError(\"hostname %r \"\n",
      "ssl.SSLCertVerificationError: (\"hostname 'rusteak.com' doesn't match either of 'myshopify.com', '*.myshopify.com'\",)\n",
      "\n",
      "During handling of the above exception, another exception occurred:\n",
      "\n",
      "Traceback (most recent call last):\n",
      "  File \"/home/gabriel/miniconda3/envs/pt_nlp/lib/python3.9/site-packages/requests/adapters.py\", line 440, in send\n",
      "    resp = conn.urlopen(\n",
      "  File \"/home/gabriel/miniconda3/envs/pt_nlp/lib/python3.9/site-packages/urllib3/connectionpool.py\", line 755, in urlopen\n",
      "    retries = retries.increment(\n",
      "  File \"/home/gabriel/miniconda3/envs/pt_nlp/lib/python3.9/site-packages/urllib3/util/retry.py\", line 574, in increment\n",
      "    raise MaxRetryError(_pool, url, error or ResponseError(cause))\n",
      "urllib3.exceptions.MaxRetryError: HTTPSConnectionPool(host='rusteak.com', port=443): Max retries exceeded with url: /products/sofa (Caused by SSLError(SSLCertVerificationError(\"hostname 'rusteak.com' doesn't match either of 'myshopify.com', '*.myshopify.com'\")))\n",
      "\n",
      "During handling of the above exception, another exception occurred:\n",
      "\n",
      "Traceback (most recent call last):\n",
      "  File \"/tmp/ipykernel_6102/253839466.py\", line 10, in build_dataset\n",
      "    data = requests.get(url)\n",
      "  File \"/home/gabriel/miniconda3/envs/pt_nlp/lib/python3.9/site-packages/requests/api.py\", line 75, in get\n",
      "    return request('get', url, params=params, **kwargs)\n",
      "  File \"/home/gabriel/miniconda3/envs/pt_nlp/lib/python3.9/site-packages/requests/api.py\", line 61, in request\n",
      "    return session.request(method=method, url=url, **kwargs)\n",
      "  File \"/home/gabriel/miniconda3/envs/pt_nlp/lib/python3.9/site-packages/requests/sessions.py\", line 529, in request\n",
      "    resp = self.send(prep, **send_kwargs)\n",
      "  File \"/home/gabriel/miniconda3/envs/pt_nlp/lib/python3.9/site-packages/requests/sessions.py\", line 645, in send\n",
      "    r = adapter.send(request, **kwargs)\n",
      "  File \"/home/gabriel/miniconda3/envs/pt_nlp/lib/python3.9/site-packages/requests/adapters.py\", line 517, in send\n",
      "    raise SSLError(e, request=request)\n",
      "requests.exceptions.SSLError: HTTPSConnectionPool(host='rusteak.com', port=443): Max retries exceeded with url: /products/sofa (Caused by SSLError(SSLCertVerificationError(\"hostname 'rusteak.com' doesn't match either of 'myshopify.com', '*.myshopify.com'\")))\n",
      "WARNING:urllib3.connection:Certificate did not match expected hostname: varkoa.com. Certificate: {'subject': ((('countryName', 'US'),), (('stateOrProvinceName', 'California'),), (('localityName', 'San Francisco'),), (('organizationName', 'Cloudflare, Inc.'),), (('commonName', '*.myshopify.com'),)), 'issuer': ((('countryName', 'US'),), (('organizationName', 'Cloudflare, Inc.'),), (('commonName', 'Cloudflare Inc ECC CA-3'),)), 'version': 3, 'serialNumber': '08D14009B8CCFD7A28D460E790084A96', 'notBefore': 'Sep 13 00:00:00 2021 GMT', 'notAfter': 'Sep 12 23:59:59 2022 GMT', 'subjectAltName': (('DNS', 'myshopify.com'), ('DNS', '*.myshopify.com')), 'OCSP': ('http://ocsp.digicert.com',), 'caIssuers': ('http://cacerts.digicert.com/CloudflareIncECCCA-3.crt',), 'crlDistributionPoints': ('http://crl3.digicert.com/CloudflareIncECCCA-3.crl', 'http://crl4.digicert.com/CloudflareIncECCCA-3.crl')}\n",
      "ERROR:root:HTTPSConnectionPool(host='varkoa.com', port=443): Max retries exceeded with url: /products/sven-chair (Caused by SSLError(SSLCertVerificationError(\"hostname 'varkoa.com' doesn't match either of 'myshopify.com', '*.myshopify.com'\")))\n",
      "Traceback (most recent call last):\n",
      "  File \"/home/gabriel/miniconda3/envs/pt_nlp/lib/python3.9/site-packages/urllib3/connectionpool.py\", line 699, in urlopen\n",
      "    httplib_response = self._make_request(\n",
      "  File \"/home/gabriel/miniconda3/envs/pt_nlp/lib/python3.9/site-packages/urllib3/connectionpool.py\", line 382, in _make_request\n",
      "    self._validate_conn(conn)\n",
      "  File \"/home/gabriel/miniconda3/envs/pt_nlp/lib/python3.9/site-packages/urllib3/connectionpool.py\", line 1010, in _validate_conn\n",
      "    conn.connect()\n",
      "  File \"/home/gabriel/miniconda3/envs/pt_nlp/lib/python3.9/site-packages/urllib3/connection.py\", line 469, in connect\n",
      "    _match_hostname(cert, self.assert_hostname or server_hostname)\n",
      "  File \"/home/gabriel/miniconda3/envs/pt_nlp/lib/python3.9/site-packages/urllib3/connection.py\", line 542, in _match_hostname\n",
      "    match_hostname(cert, asserted_hostname)\n",
      "  File \"/home/gabriel/miniconda3/envs/pt_nlp/lib/python3.9/ssl.py\", line 416, in match_hostname\n",
      "    raise CertificateError(\"hostname %r \"\n",
      "ssl.SSLCertVerificationError: (\"hostname 'varkoa.com' doesn't match either of 'myshopify.com', '*.myshopify.com'\",)\n",
      "\n",
      "During handling of the above exception, another exception occurred:\n",
      "\n",
      "Traceback (most recent call last):\n",
      "  File \"/home/gabriel/miniconda3/envs/pt_nlp/lib/python3.9/site-packages/requests/adapters.py\", line 440, in send\n",
      "    resp = conn.urlopen(\n",
      "  File \"/home/gabriel/miniconda3/envs/pt_nlp/lib/python3.9/site-packages/urllib3/connectionpool.py\", line 755, in urlopen\n",
      "    retries = retries.increment(\n",
      "  File \"/home/gabriel/miniconda3/envs/pt_nlp/lib/python3.9/site-packages/urllib3/util/retry.py\", line 574, in increment\n",
      "    raise MaxRetryError(_pool, url, error or ResponseError(cause))\n",
      "urllib3.exceptions.MaxRetryError: HTTPSConnectionPool(host='varkoa.com', port=443): Max retries exceeded with url: /products/sven-chair (Caused by SSLError(SSLCertVerificationError(\"hostname 'varkoa.com' doesn't match either of 'myshopify.com', '*.myshopify.com'\")))\n",
      "\n",
      "During handling of the above exception, another exception occurred:\n",
      "\n",
      "Traceback (most recent call last):\n",
      "  File \"/tmp/ipykernel_6102/253839466.py\", line 10, in build_dataset\n",
      "    data = requests.get(url)\n",
      "  File \"/home/gabriel/miniconda3/envs/pt_nlp/lib/python3.9/site-packages/requests/api.py\", line 75, in get\n",
      "    return request('get', url, params=params, **kwargs)\n",
      "  File \"/home/gabriel/miniconda3/envs/pt_nlp/lib/python3.9/site-packages/requests/api.py\", line 61, in request\n",
      "    return session.request(method=method, url=url, **kwargs)\n",
      "  File \"/home/gabriel/miniconda3/envs/pt_nlp/lib/python3.9/site-packages/requests/sessions.py\", line 529, in request\n",
      "    resp = self.send(prep, **send_kwargs)\n",
      "  File \"/home/gabriel/miniconda3/envs/pt_nlp/lib/python3.9/site-packages/requests/sessions.py\", line 645, in send\n",
      "    r = adapter.send(request, **kwargs)\n",
      "  File \"/home/gabriel/miniconda3/envs/pt_nlp/lib/python3.9/site-packages/requests/adapters.py\", line 517, in send\n",
      "    raise SSLError(e, request=request)\n",
      "requests.exceptions.SSLError: HTTPSConnectionPool(host='varkoa.com', port=443): Max retries exceeded with url: /products/sven-chair (Caused by SSLError(SSLCertVerificationError(\"hostname 'varkoa.com' doesn't match either of 'myshopify.com', '*.myshopify.com'\")))\n"
     ]
    },
    {
     "name": "stderr",
     "output_type": "stream",
     "text": [
      "ERROR:root:HTTPSConnectionPool(host='home99.sg', port=443): Max retries exceeded with url: /products/l-shape-half-leather-sofa-lp860 (Caused by NewConnectionError('<urllib3.connection.HTTPSConnection object at 0x7f1723d3d820>: Failed to establish a new connection: [Errno -2] Name or service not known'))\n",
      "Traceback (most recent call last):\n",
      "  File \"/home/gabriel/miniconda3/envs/pt_nlp/lib/python3.9/site-packages/urllib3/connection.py\", line 174, in _new_conn\n",
      "    conn = connection.create_connection(\n",
      "  File \"/home/gabriel/miniconda3/envs/pt_nlp/lib/python3.9/site-packages/urllib3/util/connection.py\", line 73, in create_connection\n",
      "    for res in socket.getaddrinfo(host, port, family, socket.SOCK_STREAM):\n",
      "  File \"/home/gabriel/miniconda3/envs/pt_nlp/lib/python3.9/socket.py\", line 954, in getaddrinfo\n",
      "    for res in _socket.getaddrinfo(host, port, family, type, proto, flags):\n",
      "socket.gaierror: [Errno -2] Name or service not known\n",
      "\n",
      "During handling of the above exception, another exception occurred:\n",
      "\n",
      "Traceback (most recent call last):\n",
      "  File \"/home/gabriel/miniconda3/envs/pt_nlp/lib/python3.9/site-packages/urllib3/connectionpool.py\", line 699, in urlopen\n",
      "    httplib_response = self._make_request(\n",
      "  File \"/home/gabriel/miniconda3/envs/pt_nlp/lib/python3.9/site-packages/urllib3/connectionpool.py\", line 382, in _make_request\n",
      "    self._validate_conn(conn)\n",
      "  File \"/home/gabriel/miniconda3/envs/pt_nlp/lib/python3.9/site-packages/urllib3/connectionpool.py\", line 1010, in _validate_conn\n",
      "    conn.connect()\n",
      "  File \"/home/gabriel/miniconda3/envs/pt_nlp/lib/python3.9/site-packages/urllib3/connection.py\", line 358, in connect\n",
      "    conn = self._new_conn()\n",
      "  File \"/home/gabriel/miniconda3/envs/pt_nlp/lib/python3.9/site-packages/urllib3/connection.py\", line 186, in _new_conn\n",
      "    raise NewConnectionError(\n",
      "urllib3.exceptions.NewConnectionError: <urllib3.connection.HTTPSConnection object at 0x7f1723d3d820>: Failed to establish a new connection: [Errno -2] Name or service not known\n",
      "\n",
      "During handling of the above exception, another exception occurred:\n",
      "\n",
      "Traceback (most recent call last):\n",
      "  File \"/home/gabriel/miniconda3/envs/pt_nlp/lib/python3.9/site-packages/requests/adapters.py\", line 440, in send\n",
      "    resp = conn.urlopen(\n",
      "  File \"/home/gabriel/miniconda3/envs/pt_nlp/lib/python3.9/site-packages/urllib3/connectionpool.py\", line 755, in urlopen\n",
      "    retries = retries.increment(\n",
      "  File \"/home/gabriel/miniconda3/envs/pt_nlp/lib/python3.9/site-packages/urllib3/util/retry.py\", line 574, in increment\n",
      "    raise MaxRetryError(_pool, url, error or ResponseError(cause))\n",
      "urllib3.exceptions.MaxRetryError: HTTPSConnectionPool(host='home99.sg', port=443): Max retries exceeded with url: /products/l-shape-half-leather-sofa-lp860 (Caused by NewConnectionError('<urllib3.connection.HTTPSConnection object at 0x7f1723d3d820>: Failed to establish a new connection: [Errno -2] Name or service not known'))\n",
      "\n",
      "During handling of the above exception, another exception occurred:\n",
      "\n",
      "Traceback (most recent call last):\n",
      "  File \"/tmp/ipykernel_6102/253839466.py\", line 10, in build_dataset\n",
      "    data = requests.get(url)\n",
      "  File \"/home/gabriel/miniconda3/envs/pt_nlp/lib/python3.9/site-packages/requests/api.py\", line 75, in get\n",
      "    return request('get', url, params=params, **kwargs)\n",
      "  File \"/home/gabriel/miniconda3/envs/pt_nlp/lib/python3.9/site-packages/requests/api.py\", line 61, in request\n",
      "    return session.request(method=method, url=url, **kwargs)\n",
      "  File \"/home/gabriel/miniconda3/envs/pt_nlp/lib/python3.9/site-packages/requests/sessions.py\", line 529, in request\n",
      "    resp = self.send(prep, **send_kwargs)\n",
      "  File \"/home/gabriel/miniconda3/envs/pt_nlp/lib/python3.9/site-packages/requests/sessions.py\", line 645, in send\n",
      "    r = adapter.send(request, **kwargs)\n",
      "  File \"/home/gabriel/miniconda3/envs/pt_nlp/lib/python3.9/site-packages/requests/adapters.py\", line 519, in send\n",
      "    raise ConnectionError(e, request=request)\n",
      "requests.exceptions.ConnectionError: HTTPSConnectionPool(host='home99.sg', port=443): Max retries exceeded with url: /products/l-shape-half-leather-sofa-lp860 (Caused by NewConnectionError('<urllib3.connection.HTTPSConnection object at 0x7f1723d3d820>: Failed to establish a new connection: [Errno -2] Name or service not known'))\n",
      "ERROR:root:HTTPSConnectionPool(host='basefurniture.co.nz', port=443): Max retries exceeded with url: /products/pegboard (Caused by NewConnectionError('<urllib3.connection.HTTPSConnection object at 0x7f17288a65e0>: Failed to establish a new connection: [Errno -2] Name or service not known'))\n",
      "Traceback (most recent call last):\n",
      "  File \"/home/gabriel/miniconda3/envs/pt_nlp/lib/python3.9/site-packages/urllib3/connection.py\", line 174, in _new_conn\n",
      "    conn = connection.create_connection(\n",
      "  File \"/home/gabriel/miniconda3/envs/pt_nlp/lib/python3.9/site-packages/urllib3/util/connection.py\", line 73, in create_connection\n",
      "    for res in socket.getaddrinfo(host, port, family, socket.SOCK_STREAM):\n",
      "  File \"/home/gabriel/miniconda3/envs/pt_nlp/lib/python3.9/socket.py\", line 954, in getaddrinfo\n",
      "    for res in _socket.getaddrinfo(host, port, family, type, proto, flags):\n",
      "socket.gaierror: [Errno -2] Name or service not known\n",
      "\n",
      "During handling of the above exception, another exception occurred:\n",
      "\n",
      "Traceback (most recent call last):\n",
      "  File \"/home/gabriel/miniconda3/envs/pt_nlp/lib/python3.9/site-packages/urllib3/connectionpool.py\", line 699, in urlopen\n",
      "    httplib_response = self._make_request(\n",
      "  File \"/home/gabriel/miniconda3/envs/pt_nlp/lib/python3.9/site-packages/urllib3/connectionpool.py\", line 382, in _make_request\n",
      "    self._validate_conn(conn)\n",
      "  File \"/home/gabriel/miniconda3/envs/pt_nlp/lib/python3.9/site-packages/urllib3/connectionpool.py\", line 1010, in _validate_conn\n",
      "    conn.connect()\n",
      "  File \"/home/gabriel/miniconda3/envs/pt_nlp/lib/python3.9/site-packages/urllib3/connection.py\", line 358, in connect\n",
      "    conn = self._new_conn()\n",
      "  File \"/home/gabriel/miniconda3/envs/pt_nlp/lib/python3.9/site-packages/urllib3/connection.py\", line 186, in _new_conn\n",
      "    raise NewConnectionError(\n",
      "urllib3.exceptions.NewConnectionError: <urllib3.connection.HTTPSConnection object at 0x7f17288a65e0>: Failed to establish a new connection: [Errno -2] Name or service not known\n",
      "\n",
      "During handling of the above exception, another exception occurred:\n",
      "\n",
      "Traceback (most recent call last):\n",
      "  File \"/home/gabriel/miniconda3/envs/pt_nlp/lib/python3.9/site-packages/requests/adapters.py\", line 440, in send\n",
      "    resp = conn.urlopen(\n",
      "  File \"/home/gabriel/miniconda3/envs/pt_nlp/lib/python3.9/site-packages/urllib3/connectionpool.py\", line 755, in urlopen\n",
      "    retries = retries.increment(\n",
      "  File \"/home/gabriel/miniconda3/envs/pt_nlp/lib/python3.9/site-packages/urllib3/util/retry.py\", line 574, in increment\n",
      "    raise MaxRetryError(_pool, url, error or ResponseError(cause))\n",
      "urllib3.exceptions.MaxRetryError: HTTPSConnectionPool(host='basefurniture.co.nz', port=443): Max retries exceeded with url: /products/pegboard (Caused by NewConnectionError('<urllib3.connection.HTTPSConnection object at 0x7f17288a65e0>: Failed to establish a new connection: [Errno -2] Name or service not known'))\n",
      "\n",
      "During handling of the above exception, another exception occurred:\n",
      "\n",
      "Traceback (most recent call last):\n",
      "  File \"/tmp/ipykernel_6102/253839466.py\", line 10, in build_dataset\n",
      "    data = requests.get(url)\n",
      "  File \"/home/gabriel/miniconda3/envs/pt_nlp/lib/python3.9/site-packages/requests/api.py\", line 75, in get\n",
      "    return request('get', url, params=params, **kwargs)\n",
      "  File \"/home/gabriel/miniconda3/envs/pt_nlp/lib/python3.9/site-packages/requests/api.py\", line 61, in request\n",
      "    return session.request(method=method, url=url, **kwargs)\n",
      "  File \"/home/gabriel/miniconda3/envs/pt_nlp/lib/python3.9/site-packages/requests/sessions.py\", line 529, in request\n",
      "    resp = self.send(prep, **send_kwargs)\n",
      "  File \"/home/gabriel/miniconda3/envs/pt_nlp/lib/python3.9/site-packages/requests/sessions.py\", line 645, in send\n",
      "    r = adapter.send(request, **kwargs)\n",
      "  File \"/home/gabriel/miniconda3/envs/pt_nlp/lib/python3.9/site-packages/requests/adapters.py\", line 519, in send\n",
      "    raise ConnectionError(e, request=request)\n",
      "requests.exceptions.ConnectionError: HTTPSConnectionPool(host='basefurniture.co.nz', port=443): Max retries exceeded with url: /products/pegboard (Caused by NewConnectionError('<urllib3.connection.HTTPSConnection object at 0x7f17288a65e0>: Failed to establish a new connection: [Errno -2] Name or service not known'))\n"
     ]
    },
    {
     "name": "stderr",
     "output_type": "stream",
     "text": [
      "WARNING:urllib3.connection:Certificate did not match expected hostname: bohovalley.com.au. Certificate: {'subject': ((('countryName', 'US'),), (('stateOrProvinceName', 'California'),), (('localityName', 'San Francisco'),), (('organizationName', 'Cloudflare, Inc.'),), (('commonName', '*.myshopify.com'),)), 'issuer': ((('countryName', 'US'),), (('organizationName', 'Cloudflare, Inc.'),), (('commonName', 'Cloudflare Inc ECC CA-3'),)), 'version': 3, 'serialNumber': '08D14009B8CCFD7A28D460E790084A96', 'notBefore': 'Sep 13 00:00:00 2021 GMT', 'notAfter': 'Sep 12 23:59:59 2022 GMT', 'subjectAltName': (('DNS', 'myshopify.com'), ('DNS', '*.myshopify.com')), 'OCSP': ('http://ocsp.digicert.com',), 'caIssuers': ('http://cacerts.digicert.com/CloudflareIncECCCA-3.crt',), 'crlDistributionPoints': ('http://crl3.digicert.com/CloudflareIncECCCA-3.crl', 'http://crl4.digicert.com/CloudflareIncECCCA-3.crl')}\n",
      "ERROR:root:HTTPSConnectionPool(host='bohovalley.com.au', port=443): Max retries exceeded with url: /products/fern-daybed (Caused by SSLError(SSLCertVerificationError(\"hostname 'bohovalley.com.au' doesn't match either of 'myshopify.com', '*.myshopify.com'\")))\n",
      "Traceback (most recent call last):\n",
      "  File \"/home/gabriel/miniconda3/envs/pt_nlp/lib/python3.9/site-packages/urllib3/connectionpool.py\", line 699, in urlopen\n",
      "    httplib_response = self._make_request(\n",
      "  File \"/home/gabriel/miniconda3/envs/pt_nlp/lib/python3.9/site-packages/urllib3/connectionpool.py\", line 382, in _make_request\n",
      "    self._validate_conn(conn)\n",
      "  File \"/home/gabriel/miniconda3/envs/pt_nlp/lib/python3.9/site-packages/urllib3/connectionpool.py\", line 1010, in _validate_conn\n",
      "    conn.connect()\n",
      "  File \"/home/gabriel/miniconda3/envs/pt_nlp/lib/python3.9/site-packages/urllib3/connection.py\", line 469, in connect\n",
      "    _match_hostname(cert, self.assert_hostname or server_hostname)\n",
      "  File \"/home/gabriel/miniconda3/envs/pt_nlp/lib/python3.9/site-packages/urllib3/connection.py\", line 542, in _match_hostname\n",
      "    match_hostname(cert, asserted_hostname)\n",
      "  File \"/home/gabriel/miniconda3/envs/pt_nlp/lib/python3.9/ssl.py\", line 416, in match_hostname\n",
      "    raise CertificateError(\"hostname %r \"\n",
      "ssl.SSLCertVerificationError: (\"hostname 'bohovalley.com.au' doesn't match either of 'myshopify.com', '*.myshopify.com'\",)\n",
      "\n",
      "During handling of the above exception, another exception occurred:\n",
      "\n",
      "Traceback (most recent call last):\n",
      "  File \"/home/gabriel/miniconda3/envs/pt_nlp/lib/python3.9/site-packages/requests/adapters.py\", line 440, in send\n",
      "    resp = conn.urlopen(\n",
      "  File \"/home/gabriel/miniconda3/envs/pt_nlp/lib/python3.9/site-packages/urllib3/connectionpool.py\", line 755, in urlopen\n",
      "    retries = retries.increment(\n",
      "  File \"/home/gabriel/miniconda3/envs/pt_nlp/lib/python3.9/site-packages/urllib3/util/retry.py\", line 574, in increment\n",
      "    raise MaxRetryError(_pool, url, error or ResponseError(cause))\n",
      "urllib3.exceptions.MaxRetryError: HTTPSConnectionPool(host='bohovalley.com.au', port=443): Max retries exceeded with url: /products/fern-daybed (Caused by SSLError(SSLCertVerificationError(\"hostname 'bohovalley.com.au' doesn't match either of 'myshopify.com', '*.myshopify.com'\")))\n",
      "\n",
      "During handling of the above exception, another exception occurred:\n",
      "\n",
      "Traceback (most recent call last):\n",
      "  File \"/tmp/ipykernel_6102/253839466.py\", line 10, in build_dataset\n",
      "    data = requests.get(url)\n",
      "  File \"/home/gabriel/miniconda3/envs/pt_nlp/lib/python3.9/site-packages/requests/api.py\", line 75, in get\n",
      "    return request('get', url, params=params, **kwargs)\n",
      "  File \"/home/gabriel/miniconda3/envs/pt_nlp/lib/python3.9/site-packages/requests/api.py\", line 61, in request\n",
      "    return session.request(method=method, url=url, **kwargs)\n",
      "  File \"/home/gabriel/miniconda3/envs/pt_nlp/lib/python3.9/site-packages/requests/sessions.py\", line 529, in request\n",
      "    resp = self.send(prep, **send_kwargs)\n",
      "  File \"/home/gabriel/miniconda3/envs/pt_nlp/lib/python3.9/site-packages/requests/sessions.py\", line 645, in send\n",
      "    r = adapter.send(request, **kwargs)\n",
      "  File \"/home/gabriel/miniconda3/envs/pt_nlp/lib/python3.9/site-packages/requests/adapters.py\", line 517, in send\n",
      "    raise SSLError(e, request=request)\n",
      "requests.exceptions.SSLError: HTTPSConnectionPool(host='bohovalley.com.au', port=443): Max retries exceeded with url: /products/fern-daybed (Caused by SSLError(SSLCertVerificationError(\"hostname 'bohovalley.com.au' doesn't match either of 'myshopify.com', '*.myshopify.com'\")))\n",
      "WARNING:urllib3.connection:Certificate did not match expected hostname: www.lounj.com.au. Certificate: {'subject': ((('countryName', 'US'),), (('stateOrProvinceName', 'California'),), (('localityName', 'San Francisco'),), (('organizationName', 'Cloudflare, Inc.'),), (('commonName', '*.myshopify.com'),)), 'issuer': ((('countryName', 'US'),), (('organizationName', 'Cloudflare, Inc.'),), (('commonName', 'Cloudflare Inc ECC CA-3'),)), 'version': 3, 'serialNumber': '08D14009B8CCFD7A28D460E790084A96', 'notBefore': 'Sep 13 00:00:00 2021 GMT', 'notAfter': 'Sep 12 23:59:59 2022 GMT', 'subjectAltName': (('DNS', 'myshopify.com'), ('DNS', '*.myshopify.com')), 'OCSP': ('http://ocsp.digicert.com',), 'caIssuers': ('http://cacerts.digicert.com/CloudflareIncECCCA-3.crt',), 'crlDistributionPoints': ('http://crl3.digicert.com/CloudflareIncECCCA-3.crl', 'http://crl4.digicert.com/CloudflareIncECCCA-3.crl')}\n",
      "ERROR:root:HTTPSConnectionPool(host='www.lounj.com.au', port=443): Max retries exceeded with url: /products/kiki-carver-chair (Caused by SSLError(SSLCertVerificationError(\"hostname 'www.lounj.com.au' doesn't match either of 'myshopify.com', '*.myshopify.com'\")))\n",
      "Traceback (most recent call last):\n",
      "  File \"/home/gabriel/miniconda3/envs/pt_nlp/lib/python3.9/site-packages/urllib3/connectionpool.py\", line 699, in urlopen\n",
      "    httplib_response = self._make_request(\n",
      "  File \"/home/gabriel/miniconda3/envs/pt_nlp/lib/python3.9/site-packages/urllib3/connectionpool.py\", line 382, in _make_request\n",
      "    self._validate_conn(conn)\n",
      "  File \"/home/gabriel/miniconda3/envs/pt_nlp/lib/python3.9/site-packages/urllib3/connectionpool.py\", line 1010, in _validate_conn\n",
      "    conn.connect()\n",
      "  File \"/home/gabriel/miniconda3/envs/pt_nlp/lib/python3.9/site-packages/urllib3/connection.py\", line 469, in connect\n",
      "    _match_hostname(cert, self.assert_hostname or server_hostname)\n",
      "  File \"/home/gabriel/miniconda3/envs/pt_nlp/lib/python3.9/site-packages/urllib3/connection.py\", line 542, in _match_hostname\n",
      "    match_hostname(cert, asserted_hostname)\n",
      "  File \"/home/gabriel/miniconda3/envs/pt_nlp/lib/python3.9/ssl.py\", line 416, in match_hostname\n",
      "    raise CertificateError(\"hostname %r \"\n",
      "ssl.SSLCertVerificationError: (\"hostname 'www.lounj.com.au' doesn't match either of 'myshopify.com', '*.myshopify.com'\",)\n",
      "\n",
      "During handling of the above exception, another exception occurred:\n",
      "\n",
      "Traceback (most recent call last):\n",
      "  File \"/home/gabriel/miniconda3/envs/pt_nlp/lib/python3.9/site-packages/requests/adapters.py\", line 440, in send\n",
      "    resp = conn.urlopen(\n",
      "  File \"/home/gabriel/miniconda3/envs/pt_nlp/lib/python3.9/site-packages/urllib3/connectionpool.py\", line 755, in urlopen\n",
      "    retries = retries.increment(\n",
      "  File \"/home/gabriel/miniconda3/envs/pt_nlp/lib/python3.9/site-packages/urllib3/util/retry.py\", line 574, in increment\n",
      "    raise MaxRetryError(_pool, url, error or ResponseError(cause))\n",
      "urllib3.exceptions.MaxRetryError: HTTPSConnectionPool(host='www.lounj.com.au', port=443): Max retries exceeded with url: /products/kiki-carver-chair (Caused by SSLError(SSLCertVerificationError(\"hostname 'www.lounj.com.au' doesn't match either of 'myshopify.com', '*.myshopify.com'\")))\n",
      "\n",
      "During handling of the above exception, another exception occurred:\n",
      "\n",
      "Traceback (most recent call last):\n",
      "  File \"/tmp/ipykernel_6102/253839466.py\", line 10, in build_dataset\n",
      "    data = requests.get(url)\n",
      "  File \"/home/gabriel/miniconda3/envs/pt_nlp/lib/python3.9/site-packages/requests/api.py\", line 75, in get\n",
      "    return request('get', url, params=params, **kwargs)\n",
      "  File \"/home/gabriel/miniconda3/envs/pt_nlp/lib/python3.9/site-packages/requests/api.py\", line 61, in request\n",
      "    return session.request(method=method, url=url, **kwargs)\n",
      "  File \"/home/gabriel/miniconda3/envs/pt_nlp/lib/python3.9/site-packages/requests/sessions.py\", line 529, in request\n",
      "    resp = self.send(prep, **send_kwargs)\n",
      "  File \"/home/gabriel/miniconda3/envs/pt_nlp/lib/python3.9/site-packages/requests/sessions.py\", line 645, in send\n",
      "    r = adapter.send(request, **kwargs)\n",
      "  File \"/home/gabriel/miniconda3/envs/pt_nlp/lib/python3.9/site-packages/requests/adapters.py\", line 517, in send\n",
      "    raise SSLError(e, request=request)\n",
      "requests.exceptions.SSLError: HTTPSConnectionPool(host='www.lounj.com.au', port=443): Max retries exceeded with url: /products/kiki-carver-chair (Caused by SSLError(SSLCertVerificationError(\"hostname 'www.lounj.com.au' doesn't match either of 'myshopify.com', '*.myshopify.com'\")))\n"
     ]
    },
    {
     "name": "stderr",
     "output_type": "stream",
     "text": [
      "ERROR:root:HTTPSConnectionPool(host='australianchildrensfurniture.com.au', port=443): Max retries exceeded with url: /products/modular-sectional-unit (Caused by NewConnectionError('<urllib3.connection.HTTPSConnection object at 0x7f1728febac0>: Failed to establish a new connection: [Errno -2] Name or service not known'))\n",
      "Traceback (most recent call last):\n",
      "  File \"/home/gabriel/miniconda3/envs/pt_nlp/lib/python3.9/site-packages/urllib3/connection.py\", line 174, in _new_conn\n",
      "    conn = connection.create_connection(\n",
      "  File \"/home/gabriel/miniconda3/envs/pt_nlp/lib/python3.9/site-packages/urllib3/util/connection.py\", line 73, in create_connection\n",
      "    for res in socket.getaddrinfo(host, port, family, socket.SOCK_STREAM):\n",
      "  File \"/home/gabriel/miniconda3/envs/pt_nlp/lib/python3.9/socket.py\", line 954, in getaddrinfo\n",
      "    for res in _socket.getaddrinfo(host, port, family, type, proto, flags):\n",
      "socket.gaierror: [Errno -2] Name or service not known\n",
      "\n",
      "During handling of the above exception, another exception occurred:\n",
      "\n",
      "Traceback (most recent call last):\n",
      "  File \"/home/gabriel/miniconda3/envs/pt_nlp/lib/python3.9/site-packages/urllib3/connectionpool.py\", line 699, in urlopen\n",
      "    httplib_response = self._make_request(\n",
      "  File \"/home/gabriel/miniconda3/envs/pt_nlp/lib/python3.9/site-packages/urllib3/connectionpool.py\", line 382, in _make_request\n",
      "    self._validate_conn(conn)\n",
      "  File \"/home/gabriel/miniconda3/envs/pt_nlp/lib/python3.9/site-packages/urllib3/connectionpool.py\", line 1010, in _validate_conn\n",
      "    conn.connect()\n",
      "  File \"/home/gabriel/miniconda3/envs/pt_nlp/lib/python3.9/site-packages/urllib3/connection.py\", line 358, in connect\n",
      "    conn = self._new_conn()\n",
      "  File \"/home/gabriel/miniconda3/envs/pt_nlp/lib/python3.9/site-packages/urllib3/connection.py\", line 186, in _new_conn\n",
      "    raise NewConnectionError(\n",
      "urllib3.exceptions.NewConnectionError: <urllib3.connection.HTTPSConnection object at 0x7f1728febac0>: Failed to establish a new connection: [Errno -2] Name or service not known\n",
      "\n",
      "During handling of the above exception, another exception occurred:\n",
      "\n",
      "Traceback (most recent call last):\n",
      "  File \"/home/gabriel/miniconda3/envs/pt_nlp/lib/python3.9/site-packages/requests/adapters.py\", line 440, in send\n",
      "    resp = conn.urlopen(\n",
      "  File \"/home/gabriel/miniconda3/envs/pt_nlp/lib/python3.9/site-packages/urllib3/connectionpool.py\", line 755, in urlopen\n",
      "    retries = retries.increment(\n",
      "  File \"/home/gabriel/miniconda3/envs/pt_nlp/lib/python3.9/site-packages/urllib3/util/retry.py\", line 574, in increment\n",
      "    raise MaxRetryError(_pool, url, error or ResponseError(cause))\n",
      "urllib3.exceptions.MaxRetryError: HTTPSConnectionPool(host='australianchildrensfurniture.com.au', port=443): Max retries exceeded with url: /products/modular-sectional-unit (Caused by NewConnectionError('<urllib3.connection.HTTPSConnection object at 0x7f1728febac0>: Failed to establish a new connection: [Errno -2] Name or service not known'))\n",
      "\n",
      "During handling of the above exception, another exception occurred:\n",
      "\n",
      "Traceback (most recent call last):\n",
      "  File \"/tmp/ipykernel_6102/253839466.py\", line 10, in build_dataset\n",
      "    data = requests.get(url)\n",
      "  File \"/home/gabriel/miniconda3/envs/pt_nlp/lib/python3.9/site-packages/requests/api.py\", line 75, in get\n",
      "    return request('get', url, params=params, **kwargs)\n",
      "  File \"/home/gabriel/miniconda3/envs/pt_nlp/lib/python3.9/site-packages/requests/api.py\", line 61, in request\n",
      "    return session.request(method=method, url=url, **kwargs)\n",
      "  File \"/home/gabriel/miniconda3/envs/pt_nlp/lib/python3.9/site-packages/requests/sessions.py\", line 529, in request\n",
      "    resp = self.send(prep, **send_kwargs)\n",
      "  File \"/home/gabriel/miniconda3/envs/pt_nlp/lib/python3.9/site-packages/requests/sessions.py\", line 645, in send\n",
      "    r = adapter.send(request, **kwargs)\n",
      "  File \"/home/gabriel/miniconda3/envs/pt_nlp/lib/python3.9/site-packages/requests/adapters.py\", line 519, in send\n",
      "    raise ConnectionError(e, request=request)\n",
      "requests.exceptions.ConnectionError: HTTPSConnectionPool(host='australianchildrensfurniture.com.au', port=443): Max retries exceeded with url: /products/modular-sectional-unit (Caused by NewConnectionError('<urllib3.connection.HTTPSConnection object at 0x7f1728febac0>: Failed to establish a new connection: [Errno -2] Name or service not known'))\n",
      "ERROR:root:('Connection aborted.', RemoteDisconnected('Remote end closed connection without response'))\n",
      "Traceback (most recent call last):\n",
      "  File \"/home/gabriel/miniconda3/envs/pt_nlp/lib/python3.9/site-packages/urllib3/connectionpool.py\", line 699, in urlopen\n",
      "    httplib_response = self._make_request(\n",
      "  File \"/home/gabriel/miniconda3/envs/pt_nlp/lib/python3.9/site-packages/urllib3/connectionpool.py\", line 445, in _make_request\n",
      "    six.raise_from(e, None)\n",
      "  File \"<string>\", line 3, in raise_from\n",
      "  File \"/home/gabriel/miniconda3/envs/pt_nlp/lib/python3.9/site-packages/urllib3/connectionpool.py\", line 440, in _make_request\n",
      "    httplib_response = conn.getresponse()\n",
      "  File \"/home/gabriel/miniconda3/envs/pt_nlp/lib/python3.9/http/client.py\", line 1371, in getresponse\n",
      "    response.begin()\n",
      "  File \"/home/gabriel/miniconda3/envs/pt_nlp/lib/python3.9/http/client.py\", line 319, in begin\n",
      "    version, status, reason = self._read_status()\n",
      "  File \"/home/gabriel/miniconda3/envs/pt_nlp/lib/python3.9/http/client.py\", line 288, in _read_status\n",
      "    raise RemoteDisconnected(\"Remote end closed connection without\"\n",
      "http.client.RemoteDisconnected: Remote end closed connection without response\n",
      "\n",
      "During handling of the above exception, another exception occurred:\n",
      "\n",
      "Traceback (most recent call last):\n",
      "  File \"/home/gabriel/miniconda3/envs/pt_nlp/lib/python3.9/site-packages/requests/adapters.py\", line 440, in send\n",
      "    resp = conn.urlopen(\n",
      "  File \"/home/gabriel/miniconda3/envs/pt_nlp/lib/python3.9/site-packages/urllib3/connectionpool.py\", line 755, in urlopen\n",
      "    retries = retries.increment(\n",
      "  File \"/home/gabriel/miniconda3/envs/pt_nlp/lib/python3.9/site-packages/urllib3/util/retry.py\", line 532, in increment\n",
      "    raise six.reraise(type(error), error, _stacktrace)\n",
      "  File \"/home/gabriel/miniconda3/envs/pt_nlp/lib/python3.9/site-packages/urllib3/packages/six.py\", line 769, in reraise\n",
      "    raise value.with_traceback(tb)\n",
      "  File \"/home/gabriel/miniconda3/envs/pt_nlp/lib/python3.9/site-packages/urllib3/connectionpool.py\", line 699, in urlopen\n",
      "    httplib_response = self._make_request(\n",
      "  File \"/home/gabriel/miniconda3/envs/pt_nlp/lib/python3.9/site-packages/urllib3/connectionpool.py\", line 445, in _make_request\n",
      "    six.raise_from(e, None)\n",
      "  File \"<string>\", line 3, in raise_from\n",
      "  File \"/home/gabriel/miniconda3/envs/pt_nlp/lib/python3.9/site-packages/urllib3/connectionpool.py\", line 440, in _make_request\n",
      "    httplib_response = conn.getresponse()\n",
      "  File \"/home/gabriel/miniconda3/envs/pt_nlp/lib/python3.9/http/client.py\", line 1371, in getresponse\n",
      "    response.begin()\n",
      "  File \"/home/gabriel/miniconda3/envs/pt_nlp/lib/python3.9/http/client.py\", line 319, in begin\n",
      "    version, status, reason = self._read_status()\n",
      "  File \"/home/gabriel/miniconda3/envs/pt_nlp/lib/python3.9/http/client.py\", line 288, in _read_status\n",
      "    raise RemoteDisconnected(\"Remote end closed connection without\"\n",
      "urllib3.exceptions.ProtocolError: ('Connection aborted.', RemoteDisconnected('Remote end closed connection without response'))\n",
      "\n",
      "During handling of the above exception, another exception occurred:\n",
      "\n",
      "Traceback (most recent call last):\n",
      "  File \"/tmp/ipykernel_6102/253839466.py\", line 10, in build_dataset\n",
      "    data = requests.get(url)\n",
      "  File \"/home/gabriel/miniconda3/envs/pt_nlp/lib/python3.9/site-packages/requests/api.py\", line 75, in get\n",
      "    return request('get', url, params=params, **kwargs)\n",
      "  File \"/home/gabriel/miniconda3/envs/pt_nlp/lib/python3.9/site-packages/requests/api.py\", line 61, in request\n",
      "    return session.request(method=method, url=url, **kwargs)\n",
      "  File \"/home/gabriel/miniconda3/envs/pt_nlp/lib/python3.9/site-packages/requests/sessions.py\", line 529, in request\n",
      "    resp = self.send(prep, **send_kwargs)\n",
      "  File \"/home/gabriel/miniconda3/envs/pt_nlp/lib/python3.9/site-packages/requests/sessions.py\", line 645, in send\n",
      "    r = adapter.send(request, **kwargs)\n",
      "  File \"/home/gabriel/miniconda3/envs/pt_nlp/lib/python3.9/site-packages/requests/adapters.py\", line 501, in send\n",
      "    raise ConnectionError(err, request=request)\n",
      "requests.exceptions.ConnectionError: ('Connection aborted.', RemoteDisconnected('Remote end closed connection without response'))\n"
     ]
    },
    {
     "name": "stderr",
     "output_type": "stream",
     "text": [
      "WARNING:urllib3.connection:Certificate did not match expected hostname: razoutlets.com. Certificate: {'subject': ((('countryName', 'US'),), (('stateOrProvinceName', 'California'),), (('localityName', 'San Francisco'),), (('organizationName', 'Cloudflare, Inc.'),), (('commonName', '*.myshopify.com'),)), 'issuer': ((('countryName', 'US'),), (('organizationName', 'Cloudflare, Inc.'),), (('commonName', 'Cloudflare Inc ECC CA-3'),)), 'version': 3, 'serialNumber': '08D14009B8CCFD7A28D460E790084A96', 'notBefore': 'Sep 13 00:00:00 2021 GMT', 'notAfter': 'Sep 12 23:59:59 2022 GMT', 'subjectAltName': (('DNS', 'myshopify.com'), ('DNS', '*.myshopify.com')), 'OCSP': ('http://ocsp.digicert.com',), 'caIssuers': ('http://cacerts.digicert.com/CloudflareIncECCCA-3.crt',), 'crlDistributionPoints': ('http://crl3.digicert.com/CloudflareIncECCCA-3.crl', 'http://crl4.digicert.com/CloudflareIncECCCA-3.crl')}\n",
      "ERROR:root:HTTPSConnectionPool(host='razoutlets.com', port=443): Max retries exceeded with url: /products/table-lamp (Caused by SSLError(SSLCertVerificationError(\"hostname 'razoutlets.com' doesn't match either of 'myshopify.com', '*.myshopify.com'\")))\n",
      "Traceback (most recent call last):\n",
      "  File \"/home/gabriel/miniconda3/envs/pt_nlp/lib/python3.9/site-packages/urllib3/connectionpool.py\", line 699, in urlopen\n",
      "    httplib_response = self._make_request(\n",
      "  File \"/home/gabriel/miniconda3/envs/pt_nlp/lib/python3.9/site-packages/urllib3/connectionpool.py\", line 382, in _make_request\n",
      "    self._validate_conn(conn)\n",
      "  File \"/home/gabriel/miniconda3/envs/pt_nlp/lib/python3.9/site-packages/urllib3/connectionpool.py\", line 1010, in _validate_conn\n",
      "    conn.connect()\n",
      "  File \"/home/gabriel/miniconda3/envs/pt_nlp/lib/python3.9/site-packages/urllib3/connection.py\", line 469, in connect\n",
      "    _match_hostname(cert, self.assert_hostname or server_hostname)\n",
      "  File \"/home/gabriel/miniconda3/envs/pt_nlp/lib/python3.9/site-packages/urllib3/connection.py\", line 542, in _match_hostname\n",
      "    match_hostname(cert, asserted_hostname)\n",
      "  File \"/home/gabriel/miniconda3/envs/pt_nlp/lib/python3.9/ssl.py\", line 416, in match_hostname\n",
      "    raise CertificateError(\"hostname %r \"\n",
      "ssl.SSLCertVerificationError: (\"hostname 'razoutlets.com' doesn't match either of 'myshopify.com', '*.myshopify.com'\",)\n",
      "\n",
      "During handling of the above exception, another exception occurred:\n",
      "\n",
      "Traceback (most recent call last):\n",
      "  File \"/home/gabriel/miniconda3/envs/pt_nlp/lib/python3.9/site-packages/requests/adapters.py\", line 440, in send\n",
      "    resp = conn.urlopen(\n",
      "  File \"/home/gabriel/miniconda3/envs/pt_nlp/lib/python3.9/site-packages/urllib3/connectionpool.py\", line 755, in urlopen\n",
      "    retries = retries.increment(\n",
      "  File \"/home/gabriel/miniconda3/envs/pt_nlp/lib/python3.9/site-packages/urllib3/util/retry.py\", line 574, in increment\n",
      "    raise MaxRetryError(_pool, url, error or ResponseError(cause))\n",
      "urllib3.exceptions.MaxRetryError: HTTPSConnectionPool(host='razoutlets.com', port=443): Max retries exceeded with url: /products/table-lamp (Caused by SSLError(SSLCertVerificationError(\"hostname 'razoutlets.com' doesn't match either of 'myshopify.com', '*.myshopify.com'\")))\n",
      "\n",
      "During handling of the above exception, another exception occurred:\n",
      "\n",
      "Traceback (most recent call last):\n",
      "  File \"/tmp/ipykernel_6102/253839466.py\", line 10, in build_dataset\n",
      "    data = requests.get(url)\n",
      "  File \"/home/gabriel/miniconda3/envs/pt_nlp/lib/python3.9/site-packages/requests/api.py\", line 75, in get\n",
      "    return request('get', url, params=params, **kwargs)\n",
      "  File \"/home/gabriel/miniconda3/envs/pt_nlp/lib/python3.9/site-packages/requests/api.py\", line 61, in request\n",
      "    return session.request(method=method, url=url, **kwargs)\n",
      "  File \"/home/gabriel/miniconda3/envs/pt_nlp/lib/python3.9/site-packages/requests/sessions.py\", line 529, in request\n",
      "    resp = self.send(prep, **send_kwargs)\n",
      "  File \"/home/gabriel/miniconda3/envs/pt_nlp/lib/python3.9/site-packages/requests/sessions.py\", line 645, in send\n",
      "    r = adapter.send(request, **kwargs)\n",
      "  File \"/home/gabriel/miniconda3/envs/pt_nlp/lib/python3.9/site-packages/requests/adapters.py\", line 517, in send\n",
      "    raise SSLError(e, request=request)\n",
      "requests.exceptions.SSLError: HTTPSConnectionPool(host='razoutlets.com', port=443): Max retries exceeded with url: /products/table-lamp (Caused by SSLError(SSLCertVerificationError(\"hostname 'razoutlets.com' doesn't match either of 'myshopify.com', '*.myshopify.com'\")))\n",
      "WARNING:urllib3.connection:Certificate did not match expected hostname: elegantoak.co.uk. Certificate: {'subject': ((('countryName', 'US'),), (('stateOrProvinceName', 'California'),), (('localityName', 'San Francisco'),), (('organizationName', 'Cloudflare, Inc.'),), (('commonName', '*.myshopify.com'),)), 'issuer': ((('countryName', 'US'),), (('organizationName', 'Cloudflare, Inc.'),), (('commonName', 'Cloudflare Inc ECC CA-3'),)), 'version': 3, 'serialNumber': '08D14009B8CCFD7A28D460E790084A96', 'notBefore': 'Sep 13 00:00:00 2021 GMT', 'notAfter': 'Sep 12 23:59:59 2022 GMT', 'subjectAltName': (('DNS', 'myshopify.com'), ('DNS', '*.myshopify.com')), 'OCSP': ('http://ocsp.digicert.com',), 'caIssuers': ('http://cacerts.digicert.com/CloudflareIncECCCA-3.crt',), 'crlDistributionPoints': ('http://crl3.digicert.com/CloudflareIncECCCA-3.crl', 'http://crl4.digicert.com/CloudflareIncECCCA-3.crl')}\n",
      "ERROR:root:HTTPSConnectionPool(host='elegantoak.co.uk', port=443): Max retries exceeded with url: /products/abbert-5ft-bed (Caused by SSLError(SSLCertVerificationError(\"hostname 'elegantoak.co.uk' doesn't match either of 'myshopify.com', '*.myshopify.com'\")))\n",
      "Traceback (most recent call last):\n",
      "  File \"/home/gabriel/miniconda3/envs/pt_nlp/lib/python3.9/site-packages/urllib3/connectionpool.py\", line 699, in urlopen\n",
      "    httplib_response = self._make_request(\n",
      "  File \"/home/gabriel/miniconda3/envs/pt_nlp/lib/python3.9/site-packages/urllib3/connectionpool.py\", line 382, in _make_request\n",
      "    self._validate_conn(conn)\n",
      "  File \"/home/gabriel/miniconda3/envs/pt_nlp/lib/python3.9/site-packages/urllib3/connectionpool.py\", line 1010, in _validate_conn\n",
      "    conn.connect()\n",
      "  File \"/home/gabriel/miniconda3/envs/pt_nlp/lib/python3.9/site-packages/urllib3/connection.py\", line 469, in connect\n",
      "    _match_hostname(cert, self.assert_hostname or server_hostname)\n",
      "  File \"/home/gabriel/miniconda3/envs/pt_nlp/lib/python3.9/site-packages/urllib3/connection.py\", line 542, in _match_hostname\n",
      "    match_hostname(cert, asserted_hostname)\n",
      "  File \"/home/gabriel/miniconda3/envs/pt_nlp/lib/python3.9/ssl.py\", line 416, in match_hostname\n",
      "    raise CertificateError(\"hostname %r \"\n",
      "ssl.SSLCertVerificationError: (\"hostname 'elegantoak.co.uk' doesn't match either of 'myshopify.com', '*.myshopify.com'\",)\n",
      "\n",
      "During handling of the above exception, another exception occurred:\n",
      "\n",
      "Traceback (most recent call last):\n",
      "  File \"/home/gabriel/miniconda3/envs/pt_nlp/lib/python3.9/site-packages/requests/adapters.py\", line 440, in send\n",
      "    resp = conn.urlopen(\n",
      "  File \"/home/gabriel/miniconda3/envs/pt_nlp/lib/python3.9/site-packages/urllib3/connectionpool.py\", line 755, in urlopen\n",
      "    retries = retries.increment(\n",
      "  File \"/home/gabriel/miniconda3/envs/pt_nlp/lib/python3.9/site-packages/urllib3/util/retry.py\", line 574, in increment\n",
      "    raise MaxRetryError(_pool, url, error or ResponseError(cause))\n",
      "urllib3.exceptions.MaxRetryError: HTTPSConnectionPool(host='elegantoak.co.uk', port=443): Max retries exceeded with url: /products/abbert-5ft-bed (Caused by SSLError(SSLCertVerificationError(\"hostname 'elegantoak.co.uk' doesn't match either of 'myshopify.com', '*.myshopify.com'\")))\n",
      "\n",
      "During handling of the above exception, another exception occurred:\n",
      "\n",
      "Traceback (most recent call last):\n",
      "  File \"/tmp/ipykernel_6102/253839466.py\", line 10, in build_dataset\n",
      "    data = requests.get(url)\n",
      "  File \"/home/gabriel/miniconda3/envs/pt_nlp/lib/python3.9/site-packages/requests/api.py\", line 75, in get\n",
      "    return request('get', url, params=params, **kwargs)\n",
      "  File \"/home/gabriel/miniconda3/envs/pt_nlp/lib/python3.9/site-packages/requests/api.py\", line 61, in request\n",
      "    return session.request(method=method, url=url, **kwargs)\n",
      "  File \"/home/gabriel/miniconda3/envs/pt_nlp/lib/python3.9/site-packages/requests/sessions.py\", line 529, in request\n",
      "    resp = self.send(prep, **send_kwargs)\n",
      "  File \"/home/gabriel/miniconda3/envs/pt_nlp/lib/python3.9/site-packages/requests/sessions.py\", line 645, in send\n",
      "    r = adapter.send(request, **kwargs)\n",
      "  File \"/home/gabriel/miniconda3/envs/pt_nlp/lib/python3.9/site-packages/requests/adapters.py\", line 517, in send\n",
      "    raise SSLError(e, request=request)\n",
      "requests.exceptions.SSLError: HTTPSConnectionPool(host='elegantoak.co.uk', port=443): Max retries exceeded with url: /products/abbert-5ft-bed (Caused by SSLError(SSLCertVerificationError(\"hostname 'elegantoak.co.uk' doesn't match either of 'myshopify.com', '*.myshopify.com'\")))\n"
     ]
    },
    {
     "name": "stderr",
     "output_type": "stream",
     "text": [
      "ERROR:root:HTTPSConnectionPool(host='emvy.gr', port=443): Max retries exceeded with url: /products/ (Caused by NewConnectionError('<urllib3.connection.HTTPSConnection object at 0x7f1728f02e80>: Failed to establish a new connection: [Errno -2] Name or service not known'))\n",
      "Traceback (most recent call last):\n",
      "  File \"/home/gabriel/miniconda3/envs/pt_nlp/lib/python3.9/site-packages/urllib3/connection.py\", line 174, in _new_conn\n",
      "    conn = connection.create_connection(\n",
      "  File \"/home/gabriel/miniconda3/envs/pt_nlp/lib/python3.9/site-packages/urllib3/util/connection.py\", line 73, in create_connection\n",
      "    for res in socket.getaddrinfo(host, port, family, socket.SOCK_STREAM):\n",
      "  File \"/home/gabriel/miniconda3/envs/pt_nlp/lib/python3.9/socket.py\", line 954, in getaddrinfo\n",
      "    for res in _socket.getaddrinfo(host, port, family, type, proto, flags):\n",
      "socket.gaierror: [Errno -2] Name or service not known\n",
      "\n",
      "During handling of the above exception, another exception occurred:\n",
      "\n",
      "Traceback (most recent call last):\n",
      "  File \"/home/gabriel/miniconda3/envs/pt_nlp/lib/python3.9/site-packages/urllib3/connectionpool.py\", line 699, in urlopen\n",
      "    httplib_response = self._make_request(\n",
      "  File \"/home/gabriel/miniconda3/envs/pt_nlp/lib/python3.9/site-packages/urllib3/connectionpool.py\", line 382, in _make_request\n",
      "    self._validate_conn(conn)\n",
      "  File \"/home/gabriel/miniconda3/envs/pt_nlp/lib/python3.9/site-packages/urllib3/connectionpool.py\", line 1010, in _validate_conn\n",
      "    conn.connect()\n",
      "  File \"/home/gabriel/miniconda3/envs/pt_nlp/lib/python3.9/site-packages/urllib3/connection.py\", line 358, in connect\n",
      "    conn = self._new_conn()\n",
      "  File \"/home/gabriel/miniconda3/envs/pt_nlp/lib/python3.9/site-packages/urllib3/connection.py\", line 186, in _new_conn\n",
      "    raise NewConnectionError(\n",
      "urllib3.exceptions.NewConnectionError: <urllib3.connection.HTTPSConnection object at 0x7f1728f02e80>: Failed to establish a new connection: [Errno -2] Name or service not known\n",
      "\n",
      "During handling of the above exception, another exception occurred:\n",
      "\n",
      "Traceback (most recent call last):\n",
      "  File \"/home/gabriel/miniconda3/envs/pt_nlp/lib/python3.9/site-packages/requests/adapters.py\", line 440, in send\n",
      "    resp = conn.urlopen(\n",
      "  File \"/home/gabriel/miniconda3/envs/pt_nlp/lib/python3.9/site-packages/urllib3/connectionpool.py\", line 755, in urlopen\n",
      "    retries = retries.increment(\n",
      "  File \"/home/gabriel/miniconda3/envs/pt_nlp/lib/python3.9/site-packages/urllib3/util/retry.py\", line 574, in increment\n",
      "    raise MaxRetryError(_pool, url, error or ResponseError(cause))\n",
      "urllib3.exceptions.MaxRetryError: HTTPSConnectionPool(host='emvy.gr', port=443): Max retries exceeded with url: /products/ (Caused by NewConnectionError('<urllib3.connection.HTTPSConnection object at 0x7f1728f02e80>: Failed to establish a new connection: [Errno -2] Name or service not known'))\n",
      "\n",
      "During handling of the above exception, another exception occurred:\n",
      "\n",
      "Traceback (most recent call last):\n",
      "  File \"/tmp/ipykernel_6102/253839466.py\", line 10, in build_dataset\n",
      "    data = requests.get(url)\n",
      "  File \"/home/gabriel/miniconda3/envs/pt_nlp/lib/python3.9/site-packages/requests/api.py\", line 75, in get\n",
      "    return request('get', url, params=params, **kwargs)\n",
      "  File \"/home/gabriel/miniconda3/envs/pt_nlp/lib/python3.9/site-packages/requests/api.py\", line 61, in request\n",
      "    return session.request(method=method, url=url, **kwargs)\n",
      "  File \"/home/gabriel/miniconda3/envs/pt_nlp/lib/python3.9/site-packages/requests/sessions.py\", line 529, in request\n",
      "    resp = self.send(prep, **send_kwargs)\n",
      "  File \"/home/gabriel/miniconda3/envs/pt_nlp/lib/python3.9/site-packages/requests/sessions.py\", line 645, in send\n",
      "    r = adapter.send(request, **kwargs)\n",
      "  File \"/home/gabriel/miniconda3/envs/pt_nlp/lib/python3.9/site-packages/requests/adapters.py\", line 519, in send\n",
      "    raise ConnectionError(e, request=request)\n",
      "requests.exceptions.ConnectionError: HTTPSConnectionPool(host='emvy.gr', port=443): Max retries exceeded with url: /products/ (Caused by NewConnectionError('<urllib3.connection.HTTPSConnection object at 0x7f1728f02e80>: Failed to establish a new connection: [Errno -2] Name or service not known'))\n",
      "WARNING:urllib3.connection:Certificate did not match expected hostname: houseofdurante.co.uk. Certificate: {'subject': ((('countryName', 'US'),), (('stateOrProvinceName', 'California'),), (('localityName', 'San Francisco'),), (('organizationName', 'Cloudflare, Inc.'),), (('commonName', '*.myshopify.com'),)), 'issuer': ((('countryName', 'US'),), (('organizationName', 'Cloudflare, Inc.'),), (('commonName', 'Cloudflare Inc ECC CA-3'),)), 'version': 3, 'serialNumber': '08D14009B8CCFD7A28D460E790084A96', 'notBefore': 'Sep 13 00:00:00 2021 GMT', 'notAfter': 'Sep 12 23:59:59 2022 GMT', 'subjectAltName': (('DNS', 'myshopify.com'), ('DNS', '*.myshopify.com')), 'OCSP': ('http://ocsp.digicert.com',), 'caIssuers': ('http://cacerts.digicert.com/CloudflareIncECCCA-3.crt',), 'crlDistributionPoints': ('http://crl3.digicert.com/CloudflareIncECCCA-3.crl', 'http://crl4.digicert.com/CloudflareIncECCCA-3.crl')}\n",
      "ERROR:root:HTTPSConnectionPool(host='houseofdurante.co.uk', port=443): Max retries exceeded with url: /products/libra-bronze-boar-sculpture (Caused by SSLError(SSLCertVerificationError(\"hostname 'houseofdurante.co.uk' doesn't match either of 'myshopify.com', '*.myshopify.com'\")))\n",
      "Traceback (most recent call last):\n",
      "  File \"/home/gabriel/miniconda3/envs/pt_nlp/lib/python3.9/site-packages/urllib3/connectionpool.py\", line 699, in urlopen\n",
      "    httplib_response = self._make_request(\n",
      "  File \"/home/gabriel/miniconda3/envs/pt_nlp/lib/python3.9/site-packages/urllib3/connectionpool.py\", line 382, in _make_request\n",
      "    self._validate_conn(conn)\n",
      "  File \"/home/gabriel/miniconda3/envs/pt_nlp/lib/python3.9/site-packages/urllib3/connectionpool.py\", line 1010, in _validate_conn\n",
      "    conn.connect()\n",
      "  File \"/home/gabriel/miniconda3/envs/pt_nlp/lib/python3.9/site-packages/urllib3/connection.py\", line 469, in connect\n",
      "    _match_hostname(cert, self.assert_hostname or server_hostname)\n",
      "  File \"/home/gabriel/miniconda3/envs/pt_nlp/lib/python3.9/site-packages/urllib3/connection.py\", line 542, in _match_hostname\n",
      "    match_hostname(cert, asserted_hostname)\n",
      "  File \"/home/gabriel/miniconda3/envs/pt_nlp/lib/python3.9/ssl.py\", line 416, in match_hostname\n",
      "    raise CertificateError(\"hostname %r \"\n",
      "ssl.SSLCertVerificationError: (\"hostname 'houseofdurante.co.uk' doesn't match either of 'myshopify.com', '*.myshopify.com'\",)\n",
      "\n",
      "During handling of the above exception, another exception occurred:\n",
      "\n",
      "Traceback (most recent call last):\n",
      "  File \"/home/gabriel/miniconda3/envs/pt_nlp/lib/python3.9/site-packages/requests/adapters.py\", line 440, in send\n",
      "    resp = conn.urlopen(\n",
      "  File \"/home/gabriel/miniconda3/envs/pt_nlp/lib/python3.9/site-packages/urllib3/connectionpool.py\", line 755, in urlopen\n",
      "    retries = retries.increment(\n",
      "  File \"/home/gabriel/miniconda3/envs/pt_nlp/lib/python3.9/site-packages/urllib3/util/retry.py\", line 574, in increment\n",
      "    raise MaxRetryError(_pool, url, error or ResponseError(cause))\n",
      "urllib3.exceptions.MaxRetryError: HTTPSConnectionPool(host='houseofdurante.co.uk', port=443): Max retries exceeded with url: /products/libra-bronze-boar-sculpture (Caused by SSLError(SSLCertVerificationError(\"hostname 'houseofdurante.co.uk' doesn't match either of 'myshopify.com', '*.myshopify.com'\")))\n",
      "\n",
      "During handling of the above exception, another exception occurred:\n",
      "\n",
      "Traceback (most recent call last):\n",
      "  File \"/tmp/ipykernel_6102/253839466.py\", line 10, in build_dataset\n",
      "    data = requests.get(url)\n",
      "  File \"/home/gabriel/miniconda3/envs/pt_nlp/lib/python3.9/site-packages/requests/api.py\", line 75, in get\n",
      "    return request('get', url, params=params, **kwargs)\n",
      "  File \"/home/gabriel/miniconda3/envs/pt_nlp/lib/python3.9/site-packages/requests/api.py\", line 61, in request\n",
      "    return session.request(method=method, url=url, **kwargs)\n",
      "  File \"/home/gabriel/miniconda3/envs/pt_nlp/lib/python3.9/site-packages/requests/sessions.py\", line 529, in request\n",
      "    resp = self.send(prep, **send_kwargs)\n",
      "  File \"/home/gabriel/miniconda3/envs/pt_nlp/lib/python3.9/site-packages/requests/sessions.py\", line 645, in send\n",
      "    r = adapter.send(request, **kwargs)\n",
      "  File \"/home/gabriel/miniconda3/envs/pt_nlp/lib/python3.9/site-packages/requests/adapters.py\", line 517, in send\n",
      "    raise SSLError(e, request=request)\n",
      "requests.exceptions.SSLError: HTTPSConnectionPool(host='houseofdurante.co.uk', port=443): Max retries exceeded with url: /products/libra-bronze-boar-sculpture (Caused by SSLError(SSLCertVerificationError(\"hostname 'houseofdurante.co.uk' doesn't match either of 'myshopify.com', '*.myshopify.com'\")))\n"
     ]
    },
    {
     "name": "stderr",
     "output_type": "stream",
     "text": [
      "WARNING:urllib3.connection:Certificate did not match expected hostname: homedesires.com. Certificate: {'subject': ((('countryName', 'US'),), (('stateOrProvinceName', 'California'),), (('localityName', 'San Francisco'),), (('organizationName', 'Cloudflare, Inc.'),), (('commonName', '*.myshopify.com'),)), 'issuer': ((('countryName', 'US'),), (('organizationName', 'Cloudflare, Inc.'),), (('commonName', 'Cloudflare Inc ECC CA-3'),)), 'version': 3, 'serialNumber': '08D14009B8CCFD7A28D460E790084A96', 'notBefore': 'Sep 13 00:00:00 2021 GMT', 'notAfter': 'Sep 12 23:59:59 2022 GMT', 'subjectAltName': (('DNS', 'myshopify.com'), ('DNS', '*.myshopify.com')), 'OCSP': ('http://ocsp.digicert.com',), 'caIssuers': ('http://cacerts.digicert.com/CloudflareIncECCCA-3.crt',), 'crlDistributionPoints': ('http://crl3.digicert.com/CloudflareIncECCCA-3.crl', 'http://crl4.digicert.com/CloudflareIncECCCA-3.crl')}\n",
      "ERROR:root:HTTPSConnectionPool(host='homedesires.com', port=443): Max retries exceeded with url: /products/gift-card (Caused by SSLError(SSLCertVerificationError(\"hostname 'homedesires.com' doesn't match either of 'myshopify.com', '*.myshopify.com'\")))\n",
      "Traceback (most recent call last):\n",
      "  File \"/home/gabriel/miniconda3/envs/pt_nlp/lib/python3.9/site-packages/urllib3/connectionpool.py\", line 699, in urlopen\n",
      "    httplib_response = self._make_request(\n",
      "  File \"/home/gabriel/miniconda3/envs/pt_nlp/lib/python3.9/site-packages/urllib3/connectionpool.py\", line 382, in _make_request\n",
      "    self._validate_conn(conn)\n",
      "  File \"/home/gabriel/miniconda3/envs/pt_nlp/lib/python3.9/site-packages/urllib3/connectionpool.py\", line 1010, in _validate_conn\n",
      "    conn.connect()\n",
      "  File \"/home/gabriel/miniconda3/envs/pt_nlp/lib/python3.9/site-packages/urllib3/connection.py\", line 469, in connect\n",
      "    _match_hostname(cert, self.assert_hostname or server_hostname)\n",
      "  File \"/home/gabriel/miniconda3/envs/pt_nlp/lib/python3.9/site-packages/urllib3/connection.py\", line 542, in _match_hostname\n",
      "    match_hostname(cert, asserted_hostname)\n",
      "  File \"/home/gabriel/miniconda3/envs/pt_nlp/lib/python3.9/ssl.py\", line 416, in match_hostname\n",
      "    raise CertificateError(\"hostname %r \"\n",
      "ssl.SSLCertVerificationError: (\"hostname 'homedesires.com' doesn't match either of 'myshopify.com', '*.myshopify.com'\",)\n",
      "\n",
      "During handling of the above exception, another exception occurred:\n",
      "\n",
      "Traceback (most recent call last):\n",
      "  File \"/home/gabriel/miniconda3/envs/pt_nlp/lib/python3.9/site-packages/requests/adapters.py\", line 440, in send\n",
      "    resp = conn.urlopen(\n",
      "  File \"/home/gabriel/miniconda3/envs/pt_nlp/lib/python3.9/site-packages/urllib3/connectionpool.py\", line 755, in urlopen\n",
      "    retries = retries.increment(\n",
      "  File \"/home/gabriel/miniconda3/envs/pt_nlp/lib/python3.9/site-packages/urllib3/util/retry.py\", line 574, in increment\n",
      "    raise MaxRetryError(_pool, url, error or ResponseError(cause))\n",
      "urllib3.exceptions.MaxRetryError: HTTPSConnectionPool(host='homedesires.com', port=443): Max retries exceeded with url: /products/gift-card (Caused by SSLError(SSLCertVerificationError(\"hostname 'homedesires.com' doesn't match either of 'myshopify.com', '*.myshopify.com'\")))\n",
      "\n",
      "During handling of the above exception, another exception occurred:\n",
      "\n",
      "Traceback (most recent call last):\n",
      "  File \"/tmp/ipykernel_6102/253839466.py\", line 10, in build_dataset\n",
      "    data = requests.get(url)\n",
      "  File \"/home/gabriel/miniconda3/envs/pt_nlp/lib/python3.9/site-packages/requests/api.py\", line 75, in get\n",
      "    return request('get', url, params=params, **kwargs)\n",
      "  File \"/home/gabriel/miniconda3/envs/pt_nlp/lib/python3.9/site-packages/requests/api.py\", line 61, in request\n",
      "    return session.request(method=method, url=url, **kwargs)\n",
      "  File \"/home/gabriel/miniconda3/envs/pt_nlp/lib/python3.9/site-packages/requests/sessions.py\", line 529, in request\n",
      "    resp = self.send(prep, **send_kwargs)\n",
      "  File \"/home/gabriel/miniconda3/envs/pt_nlp/lib/python3.9/site-packages/requests/sessions.py\", line 645, in send\n",
      "    r = adapter.send(request, **kwargs)\n",
      "  File \"/home/gabriel/miniconda3/envs/pt_nlp/lib/python3.9/site-packages/requests/adapters.py\", line 517, in send\n",
      "    raise SSLError(e, request=request)\n",
      "requests.exceptions.SSLError: HTTPSConnectionPool(host='homedesires.com', port=443): Max retries exceeded with url: /products/gift-card (Caused by SSLError(SSLCertVerificationError(\"hostname 'homedesires.com' doesn't match either of 'myshopify.com', '*.myshopify.com'\")))\n",
      "WARNING:urllib3.connection:Certificate did not match expected hostname: outonthepatio.com.au. Certificate: {'subject': ((('countryName', 'US'),), (('stateOrProvinceName', 'California'),), (('localityName', 'San Francisco'),), (('organizationName', 'Cloudflare, Inc.'),), (('commonName', '*.myshopify.com'),)), 'issuer': ((('countryName', 'US'),), (('organizationName', 'Cloudflare, Inc.'),), (('commonName', 'Cloudflare Inc ECC CA-3'),)), 'version': 3, 'serialNumber': '08D14009B8CCFD7A28D460E790084A96', 'notBefore': 'Sep 13 00:00:00 2021 GMT', 'notAfter': 'Sep 12 23:59:59 2022 GMT', 'subjectAltName': (('DNS', 'myshopify.com'), ('DNS', '*.myshopify.com')), 'OCSP': ('http://ocsp.digicert.com',), 'caIssuers': ('http://cacerts.digicert.com/CloudflareIncECCCA-3.crt',), 'crlDistributionPoints': ('http://crl3.digicert.com/CloudflareIncECCCA-3.crl', 'http://crl4.digicert.com/CloudflareIncECCCA-3.crl')}\n",
      "ERROR:root:HTTPSConnectionPool(host='outonthepatio.com.au', port=443): Max retries exceeded with url: /products/aria (Caused by SSLError(SSLCertVerificationError(\"hostname 'outonthepatio.com.au' doesn't match either of 'myshopify.com', '*.myshopify.com'\")))\n",
      "Traceback (most recent call last):\n",
      "  File \"/home/gabriel/miniconda3/envs/pt_nlp/lib/python3.9/site-packages/urllib3/connectionpool.py\", line 699, in urlopen\n",
      "    httplib_response = self._make_request(\n",
      "  File \"/home/gabriel/miniconda3/envs/pt_nlp/lib/python3.9/site-packages/urllib3/connectionpool.py\", line 382, in _make_request\n",
      "    self._validate_conn(conn)\n",
      "  File \"/home/gabriel/miniconda3/envs/pt_nlp/lib/python3.9/site-packages/urllib3/connectionpool.py\", line 1010, in _validate_conn\n",
      "    conn.connect()\n",
      "  File \"/home/gabriel/miniconda3/envs/pt_nlp/lib/python3.9/site-packages/urllib3/connection.py\", line 469, in connect\n",
      "    _match_hostname(cert, self.assert_hostname or server_hostname)\n",
      "  File \"/home/gabriel/miniconda3/envs/pt_nlp/lib/python3.9/site-packages/urllib3/connection.py\", line 542, in _match_hostname\n",
      "    match_hostname(cert, asserted_hostname)\n",
      "  File \"/home/gabriel/miniconda3/envs/pt_nlp/lib/python3.9/ssl.py\", line 416, in match_hostname\n",
      "    raise CertificateError(\"hostname %r \"\n",
      "ssl.SSLCertVerificationError: (\"hostname 'outonthepatio.com.au' doesn't match either of 'myshopify.com', '*.myshopify.com'\",)\n",
      "\n",
      "During handling of the above exception, another exception occurred:\n",
      "\n",
      "Traceback (most recent call last):\n",
      "  File \"/home/gabriel/miniconda3/envs/pt_nlp/lib/python3.9/site-packages/requests/adapters.py\", line 440, in send\n",
      "    resp = conn.urlopen(\n",
      "  File \"/home/gabriel/miniconda3/envs/pt_nlp/lib/python3.9/site-packages/urllib3/connectionpool.py\", line 755, in urlopen\n",
      "    retries = retries.increment(\n",
      "  File \"/home/gabriel/miniconda3/envs/pt_nlp/lib/python3.9/site-packages/urllib3/util/retry.py\", line 574, in increment\n",
      "    raise MaxRetryError(_pool, url, error or ResponseError(cause))\n",
      "urllib3.exceptions.MaxRetryError: HTTPSConnectionPool(host='outonthepatio.com.au', port=443): Max retries exceeded with url: /products/aria (Caused by SSLError(SSLCertVerificationError(\"hostname 'outonthepatio.com.au' doesn't match either of 'myshopify.com', '*.myshopify.com'\")))\n",
      "\n",
      "During handling of the above exception, another exception occurred:\n",
      "\n",
      "Traceback (most recent call last):\n",
      "  File \"/tmp/ipykernel_6102/253839466.py\", line 10, in build_dataset\n",
      "    data = requests.get(url)\n",
      "  File \"/home/gabriel/miniconda3/envs/pt_nlp/lib/python3.9/site-packages/requests/api.py\", line 75, in get\n",
      "    return request('get', url, params=params, **kwargs)\n",
      "  File \"/home/gabriel/miniconda3/envs/pt_nlp/lib/python3.9/site-packages/requests/api.py\", line 61, in request\n",
      "    return session.request(method=method, url=url, **kwargs)\n",
      "  File \"/home/gabriel/miniconda3/envs/pt_nlp/lib/python3.9/site-packages/requests/sessions.py\", line 529, in request\n",
      "    resp = self.send(prep, **send_kwargs)\n",
      "  File \"/home/gabriel/miniconda3/envs/pt_nlp/lib/python3.9/site-packages/requests/sessions.py\", line 645, in send\n",
      "    r = adapter.send(request, **kwargs)\n",
      "  File \"/home/gabriel/miniconda3/envs/pt_nlp/lib/python3.9/site-packages/requests/adapters.py\", line 517, in send\n",
      "    raise SSLError(e, request=request)\n",
      "requests.exceptions.SSLError: HTTPSConnectionPool(host='outonthepatio.com.au', port=443): Max retries exceeded with url: /products/aria (Caused by SSLError(SSLCertVerificationError(\"hostname 'outonthepatio.com.au' doesn't match either of 'myshopify.com', '*.myshopify.com'\")))\n"
     ]
    },
    {
     "name": "stderr",
     "output_type": "stream",
     "text": [
      "ERROR:root:HTTPSConnectionPool(host='thecooldepot.com', port=443): Max retries exceeded with url: /products/3d-cement-wall-planter (Caused by NewConnectionError('<urllib3.connection.HTTPSConnection object at 0x7f1723867430>: Failed to establish a new connection: [Errno -2] Name or service not known'))\n",
      "Traceback (most recent call last):\n",
      "  File \"/home/gabriel/miniconda3/envs/pt_nlp/lib/python3.9/site-packages/urllib3/connection.py\", line 174, in _new_conn\n",
      "    conn = connection.create_connection(\n",
      "  File \"/home/gabriel/miniconda3/envs/pt_nlp/lib/python3.9/site-packages/urllib3/util/connection.py\", line 73, in create_connection\n",
      "    for res in socket.getaddrinfo(host, port, family, socket.SOCK_STREAM):\n",
      "  File \"/home/gabriel/miniconda3/envs/pt_nlp/lib/python3.9/socket.py\", line 954, in getaddrinfo\n",
      "    for res in _socket.getaddrinfo(host, port, family, type, proto, flags):\n",
      "socket.gaierror: [Errno -2] Name or service not known\n",
      "\n",
      "During handling of the above exception, another exception occurred:\n",
      "\n",
      "Traceback (most recent call last):\n",
      "  File \"/home/gabriel/miniconda3/envs/pt_nlp/lib/python3.9/site-packages/urllib3/connectionpool.py\", line 699, in urlopen\n",
      "    httplib_response = self._make_request(\n",
      "  File \"/home/gabriel/miniconda3/envs/pt_nlp/lib/python3.9/site-packages/urllib3/connectionpool.py\", line 382, in _make_request\n",
      "    self._validate_conn(conn)\n",
      "  File \"/home/gabriel/miniconda3/envs/pt_nlp/lib/python3.9/site-packages/urllib3/connectionpool.py\", line 1010, in _validate_conn\n",
      "    conn.connect()\n",
      "  File \"/home/gabriel/miniconda3/envs/pt_nlp/lib/python3.9/site-packages/urllib3/connection.py\", line 358, in connect\n",
      "    conn = self._new_conn()\n",
      "  File \"/home/gabriel/miniconda3/envs/pt_nlp/lib/python3.9/site-packages/urllib3/connection.py\", line 186, in _new_conn\n",
      "    raise NewConnectionError(\n",
      "urllib3.exceptions.NewConnectionError: <urllib3.connection.HTTPSConnection object at 0x7f1723867430>: Failed to establish a new connection: [Errno -2] Name or service not known\n",
      "\n",
      "During handling of the above exception, another exception occurred:\n",
      "\n",
      "Traceback (most recent call last):\n",
      "  File \"/home/gabriel/miniconda3/envs/pt_nlp/lib/python3.9/site-packages/requests/adapters.py\", line 440, in send\n",
      "    resp = conn.urlopen(\n",
      "  File \"/home/gabriel/miniconda3/envs/pt_nlp/lib/python3.9/site-packages/urllib3/connectionpool.py\", line 755, in urlopen\n",
      "    retries = retries.increment(\n",
      "  File \"/home/gabriel/miniconda3/envs/pt_nlp/lib/python3.9/site-packages/urllib3/util/retry.py\", line 574, in increment\n",
      "    raise MaxRetryError(_pool, url, error or ResponseError(cause))\n",
      "urllib3.exceptions.MaxRetryError: HTTPSConnectionPool(host='thecooldepot.com', port=443): Max retries exceeded with url: /products/3d-cement-wall-planter (Caused by NewConnectionError('<urllib3.connection.HTTPSConnection object at 0x7f1723867430>: Failed to establish a new connection: [Errno -2] Name or service not known'))\n",
      "\n",
      "During handling of the above exception, another exception occurred:\n",
      "\n",
      "Traceback (most recent call last):\n",
      "  File \"/tmp/ipykernel_6102/253839466.py\", line 10, in build_dataset\n",
      "    data = requests.get(url)\n",
      "  File \"/home/gabriel/miniconda3/envs/pt_nlp/lib/python3.9/site-packages/requests/api.py\", line 75, in get\n",
      "    return request('get', url, params=params, **kwargs)\n",
      "  File \"/home/gabriel/miniconda3/envs/pt_nlp/lib/python3.9/site-packages/requests/api.py\", line 61, in request\n",
      "    return session.request(method=method, url=url, **kwargs)\n",
      "  File \"/home/gabriel/miniconda3/envs/pt_nlp/lib/python3.9/site-packages/requests/sessions.py\", line 529, in request\n",
      "    resp = self.send(prep, **send_kwargs)\n",
      "  File \"/home/gabriel/miniconda3/envs/pt_nlp/lib/python3.9/site-packages/requests/sessions.py\", line 645, in send\n",
      "    r = adapter.send(request, **kwargs)\n",
      "  File \"/home/gabriel/miniconda3/envs/pt_nlp/lib/python3.9/site-packages/requests/adapters.py\", line 519, in send\n",
      "    raise ConnectionError(e, request=request)\n",
      "requests.exceptions.ConnectionError: HTTPSConnectionPool(host='thecooldepot.com', port=443): Max retries exceeded with url: /products/3d-cement-wall-planter (Caused by NewConnectionError('<urllib3.connection.HTTPSConnection object at 0x7f1723867430>: Failed to establish a new connection: [Errno -2] Name or service not known'))\n",
      "WARNING:urllib3.connection:Certificate did not match expected hostname: www.bbdgstore.com. Certificate: {'subject': ((('countryName', 'US'),), (('stateOrProvinceName', 'California'),), (('localityName', 'San Francisco'),), (('organizationName', 'Cloudflare, Inc.'),), (('commonName', '*.myshopify.com'),)), 'issuer': ((('countryName', 'US'),), (('organizationName', 'Cloudflare, Inc.'),), (('commonName', 'Cloudflare Inc ECC CA-3'),)), 'version': 3, 'serialNumber': '08D14009B8CCFD7A28D460E790084A96', 'notBefore': 'Sep 13 00:00:00 2021 GMT', 'notAfter': 'Sep 12 23:59:59 2022 GMT', 'subjectAltName': (('DNS', 'myshopify.com'), ('DNS', '*.myshopify.com')), 'OCSP': ('http://ocsp.digicert.com',), 'caIssuers': ('http://cacerts.digicert.com/CloudflareIncECCCA-3.crt',), 'crlDistributionPoints': ('http://crl3.digicert.com/CloudflareIncECCCA-3.crl', 'http://crl4.digicert.com/CloudflareIncECCCA-3.crl')}\n",
      "ERROR:root:HTTPSConnectionPool(host='www.bbdgstore.com', port=443): Max retries exceeded with url: /products/bed-pillows (Caused by SSLError(SSLCertVerificationError(\"hostname 'www.bbdgstore.com' doesn't match either of 'myshopify.com', '*.myshopify.com'\")))\n",
      "Traceback (most recent call last):\n",
      "  File \"/home/gabriel/miniconda3/envs/pt_nlp/lib/python3.9/site-packages/urllib3/connectionpool.py\", line 699, in urlopen\n",
      "    httplib_response = self._make_request(\n",
      "  File \"/home/gabriel/miniconda3/envs/pt_nlp/lib/python3.9/site-packages/urllib3/connectionpool.py\", line 382, in _make_request\n",
      "    self._validate_conn(conn)\n",
      "  File \"/home/gabriel/miniconda3/envs/pt_nlp/lib/python3.9/site-packages/urllib3/connectionpool.py\", line 1010, in _validate_conn\n",
      "    conn.connect()\n",
      "  File \"/home/gabriel/miniconda3/envs/pt_nlp/lib/python3.9/site-packages/urllib3/connection.py\", line 469, in connect\n",
      "    _match_hostname(cert, self.assert_hostname or server_hostname)\n",
      "  File \"/home/gabriel/miniconda3/envs/pt_nlp/lib/python3.9/site-packages/urllib3/connection.py\", line 542, in _match_hostname\n",
      "    match_hostname(cert, asserted_hostname)\n",
      "  File \"/home/gabriel/miniconda3/envs/pt_nlp/lib/python3.9/ssl.py\", line 416, in match_hostname\n",
      "    raise CertificateError(\"hostname %r \"\n",
      "ssl.SSLCertVerificationError: (\"hostname 'www.bbdgstore.com' doesn't match either of 'myshopify.com', '*.myshopify.com'\",)\n",
      "\n",
      "During handling of the above exception, another exception occurred:\n",
      "\n",
      "Traceback (most recent call last):\n",
      "  File \"/home/gabriel/miniconda3/envs/pt_nlp/lib/python3.9/site-packages/requests/adapters.py\", line 440, in send\n",
      "    resp = conn.urlopen(\n",
      "  File \"/home/gabriel/miniconda3/envs/pt_nlp/lib/python3.9/site-packages/urllib3/connectionpool.py\", line 755, in urlopen\n",
      "    retries = retries.increment(\n",
      "  File \"/home/gabriel/miniconda3/envs/pt_nlp/lib/python3.9/site-packages/urllib3/util/retry.py\", line 574, in increment\n",
      "    raise MaxRetryError(_pool, url, error or ResponseError(cause))\n",
      "urllib3.exceptions.MaxRetryError: HTTPSConnectionPool(host='www.bbdgstore.com', port=443): Max retries exceeded with url: /products/bed-pillows (Caused by SSLError(SSLCertVerificationError(\"hostname 'www.bbdgstore.com' doesn't match either of 'myshopify.com', '*.myshopify.com'\")))\n",
      "\n",
      "During handling of the above exception, another exception occurred:\n",
      "\n",
      "Traceback (most recent call last):\n",
      "  File \"/tmp/ipykernel_6102/253839466.py\", line 10, in build_dataset\n",
      "    data = requests.get(url)\n",
      "  File \"/home/gabriel/miniconda3/envs/pt_nlp/lib/python3.9/site-packages/requests/api.py\", line 75, in get\n",
      "    return request('get', url, params=params, **kwargs)\n",
      "  File \"/home/gabriel/miniconda3/envs/pt_nlp/lib/python3.9/site-packages/requests/api.py\", line 61, in request\n",
      "    return session.request(method=method, url=url, **kwargs)\n",
      "  File \"/home/gabriel/miniconda3/envs/pt_nlp/lib/python3.9/site-packages/requests/sessions.py\", line 529, in request\n",
      "    resp = self.send(prep, **send_kwargs)\n",
      "  File \"/home/gabriel/miniconda3/envs/pt_nlp/lib/python3.9/site-packages/requests/sessions.py\", line 645, in send\n",
      "    r = adapter.send(request, **kwargs)\n",
      "  File \"/home/gabriel/miniconda3/envs/pt_nlp/lib/python3.9/site-packages/requests/adapters.py\", line 517, in send\n",
      "    raise SSLError(e, request=request)\n",
      "requests.exceptions.SSLError: HTTPSConnectionPool(host='www.bbdgstore.com', port=443): Max retries exceeded with url: /products/bed-pillows (Caused by SSLError(SSLCertVerificationError(\"hostname 'www.bbdgstore.com' doesn't match either of 'myshopify.com', '*.myshopify.com'\")))\n"
     ]
    },
    {
     "name": "stderr",
     "output_type": "stream",
     "text": [
      "ERROR:root:HTTPSConnectionPool(host='homeandpatioliving.com', port=443): Max retries exceeded with url: /products/mib (Caused by NewConnectionError('<urllib3.connection.HTTPSConnection object at 0x7f172b660ca0>: Failed to establish a new connection: [Errno -2] Name or service not known'))\n",
      "Traceback (most recent call last):\n",
      "  File \"/home/gabriel/miniconda3/envs/pt_nlp/lib/python3.9/site-packages/urllib3/connection.py\", line 174, in _new_conn\n",
      "    conn = connection.create_connection(\n",
      "  File \"/home/gabriel/miniconda3/envs/pt_nlp/lib/python3.9/site-packages/urllib3/util/connection.py\", line 73, in create_connection\n",
      "    for res in socket.getaddrinfo(host, port, family, socket.SOCK_STREAM):\n",
      "  File \"/home/gabriel/miniconda3/envs/pt_nlp/lib/python3.9/socket.py\", line 954, in getaddrinfo\n",
      "    for res in _socket.getaddrinfo(host, port, family, type, proto, flags):\n",
      "socket.gaierror: [Errno -2] Name or service not known\n",
      "\n",
      "During handling of the above exception, another exception occurred:\n",
      "\n",
      "Traceback (most recent call last):\n",
      "  File \"/home/gabriel/miniconda3/envs/pt_nlp/lib/python3.9/site-packages/urllib3/connectionpool.py\", line 699, in urlopen\n",
      "    httplib_response = self._make_request(\n",
      "  File \"/home/gabriel/miniconda3/envs/pt_nlp/lib/python3.9/site-packages/urllib3/connectionpool.py\", line 382, in _make_request\n",
      "    self._validate_conn(conn)\n",
      "  File \"/home/gabriel/miniconda3/envs/pt_nlp/lib/python3.9/site-packages/urllib3/connectionpool.py\", line 1010, in _validate_conn\n",
      "    conn.connect()\n",
      "  File \"/home/gabriel/miniconda3/envs/pt_nlp/lib/python3.9/site-packages/urllib3/connection.py\", line 358, in connect\n",
      "    conn = self._new_conn()\n",
      "  File \"/home/gabriel/miniconda3/envs/pt_nlp/lib/python3.9/site-packages/urllib3/connection.py\", line 186, in _new_conn\n",
      "    raise NewConnectionError(\n",
      "urllib3.exceptions.NewConnectionError: <urllib3.connection.HTTPSConnection object at 0x7f172b660ca0>: Failed to establish a new connection: [Errno -2] Name or service not known\n",
      "\n",
      "During handling of the above exception, another exception occurred:\n",
      "\n",
      "Traceback (most recent call last):\n",
      "  File \"/home/gabriel/miniconda3/envs/pt_nlp/lib/python3.9/site-packages/requests/adapters.py\", line 440, in send\n",
      "    resp = conn.urlopen(\n",
      "  File \"/home/gabriel/miniconda3/envs/pt_nlp/lib/python3.9/site-packages/urllib3/connectionpool.py\", line 755, in urlopen\n",
      "    retries = retries.increment(\n",
      "  File \"/home/gabriel/miniconda3/envs/pt_nlp/lib/python3.9/site-packages/urllib3/util/retry.py\", line 574, in increment\n",
      "    raise MaxRetryError(_pool, url, error or ResponseError(cause))\n",
      "urllib3.exceptions.MaxRetryError: HTTPSConnectionPool(host='homeandpatioliving.com', port=443): Max retries exceeded with url: /products/mib (Caused by NewConnectionError('<urllib3.connection.HTTPSConnection object at 0x7f172b660ca0>: Failed to establish a new connection: [Errno -2] Name or service not known'))\n",
      "\n",
      "During handling of the above exception, another exception occurred:\n",
      "\n",
      "Traceback (most recent call last):\n",
      "  File \"/tmp/ipykernel_6102/253839466.py\", line 10, in build_dataset\n",
      "    data = requests.get(url)\n",
      "  File \"/home/gabriel/miniconda3/envs/pt_nlp/lib/python3.9/site-packages/requests/api.py\", line 75, in get\n",
      "    return request('get', url, params=params, **kwargs)\n",
      "  File \"/home/gabriel/miniconda3/envs/pt_nlp/lib/python3.9/site-packages/requests/api.py\", line 61, in request\n",
      "    return session.request(method=method, url=url, **kwargs)\n",
      "  File \"/home/gabriel/miniconda3/envs/pt_nlp/lib/python3.9/site-packages/requests/sessions.py\", line 529, in request\n",
      "    resp = self.send(prep, **send_kwargs)\n",
      "  File \"/home/gabriel/miniconda3/envs/pt_nlp/lib/python3.9/site-packages/requests/sessions.py\", line 645, in send\n",
      "    r = adapter.send(request, **kwargs)\n",
      "  File \"/home/gabriel/miniconda3/envs/pt_nlp/lib/python3.9/site-packages/requests/adapters.py\", line 519, in send\n",
      "    raise ConnectionError(e, request=request)\n",
      "requests.exceptions.ConnectionError: HTTPSConnectionPool(host='homeandpatioliving.com', port=443): Max retries exceeded with url: /products/mib (Caused by NewConnectionError('<urllib3.connection.HTTPSConnection object at 0x7f172b660ca0>: Failed to establish a new connection: [Errno -2] Name or service not known'))\n",
      "WARNING:urllib3.connection:Certificate did not match expected hostname: www.savetheplanetfurniture.com. Certificate: {'subject': ((('countryName', 'US'),), (('stateOrProvinceName', 'California'),), (('localityName', 'San Francisco'),), (('organizationName', 'Cloudflare, Inc.'),), (('commonName', '*.myshopify.com'),)), 'issuer': ((('countryName', 'US'),), (('organizationName', 'Cloudflare, Inc.'),), (('commonName', 'Cloudflare Inc ECC CA-3'),)), 'version': 3, 'serialNumber': '08D14009B8CCFD7A28D460E790084A96', 'notBefore': 'Sep 13 00:00:00 2021 GMT', 'notAfter': 'Sep 12 23:59:59 2022 GMT', 'subjectAltName': (('DNS', 'myshopify.com'), ('DNS', '*.myshopify.com')), 'OCSP': ('http://ocsp.digicert.com',), 'caIssuers': ('http://cacerts.digicert.com/CloudflareIncECCCA-3.crt',), 'crlDistributionPoints': ('http://crl3.digicert.com/CloudflareIncECCCA-3.crl', 'http://crl4.digicert.com/CloudflareIncECCCA-3.crl')}\n",
      "ERROR:root:HTTPSConnectionPool(host='www.savetheplanetfurniture.com', port=443): Max retries exceeded with url: /products/lantern-silver-cube (Caused by SSLError(SSLCertVerificationError(\"hostname 'www.savetheplanetfurniture.com' doesn't match either of 'myshopify.com', '*.myshopify.com'\")))\n",
      "Traceback (most recent call last):\n",
      "  File \"/home/gabriel/miniconda3/envs/pt_nlp/lib/python3.9/site-packages/urllib3/connectionpool.py\", line 699, in urlopen\n",
      "    httplib_response = self._make_request(\n",
      "  File \"/home/gabriel/miniconda3/envs/pt_nlp/lib/python3.9/site-packages/urllib3/connectionpool.py\", line 382, in _make_request\n",
      "    self._validate_conn(conn)\n",
      "  File \"/home/gabriel/miniconda3/envs/pt_nlp/lib/python3.9/site-packages/urllib3/connectionpool.py\", line 1010, in _validate_conn\n",
      "    conn.connect()\n",
      "  File \"/home/gabriel/miniconda3/envs/pt_nlp/lib/python3.9/site-packages/urllib3/connection.py\", line 469, in connect\n",
      "    _match_hostname(cert, self.assert_hostname or server_hostname)\n",
      "  File \"/home/gabriel/miniconda3/envs/pt_nlp/lib/python3.9/site-packages/urllib3/connection.py\", line 542, in _match_hostname\n",
      "    match_hostname(cert, asserted_hostname)\n",
      "  File \"/home/gabriel/miniconda3/envs/pt_nlp/lib/python3.9/ssl.py\", line 416, in match_hostname\n",
      "    raise CertificateError(\"hostname %r \"\n",
      "ssl.SSLCertVerificationError: (\"hostname 'www.savetheplanetfurniture.com' doesn't match either of 'myshopify.com', '*.myshopify.com'\",)\n",
      "\n",
      "During handling of the above exception, another exception occurred:\n",
      "\n",
      "Traceback (most recent call last):\n",
      "  File \"/home/gabriel/miniconda3/envs/pt_nlp/lib/python3.9/site-packages/requests/adapters.py\", line 440, in send\n",
      "    resp = conn.urlopen(\n",
      "  File \"/home/gabriel/miniconda3/envs/pt_nlp/lib/python3.9/site-packages/urllib3/connectionpool.py\", line 755, in urlopen\n",
      "    retries = retries.increment(\n",
      "  File \"/home/gabriel/miniconda3/envs/pt_nlp/lib/python3.9/site-packages/urllib3/util/retry.py\", line 574, in increment\n",
      "    raise MaxRetryError(_pool, url, error or ResponseError(cause))\n",
      "urllib3.exceptions.MaxRetryError: HTTPSConnectionPool(host='www.savetheplanetfurniture.com', port=443): Max retries exceeded with url: /products/lantern-silver-cube (Caused by SSLError(SSLCertVerificationError(\"hostname 'www.savetheplanetfurniture.com' doesn't match either of 'myshopify.com', '*.myshopify.com'\")))\n",
      "\n",
      "During handling of the above exception, another exception occurred:\n",
      "\n",
      "Traceback (most recent call last):\n",
      "  File \"/tmp/ipykernel_6102/253839466.py\", line 10, in build_dataset\n",
      "    data = requests.get(url)\n",
      "  File \"/home/gabriel/miniconda3/envs/pt_nlp/lib/python3.9/site-packages/requests/api.py\", line 75, in get\n",
      "    return request('get', url, params=params, **kwargs)\n",
      "  File \"/home/gabriel/miniconda3/envs/pt_nlp/lib/python3.9/site-packages/requests/api.py\", line 61, in request\n",
      "    return session.request(method=method, url=url, **kwargs)\n",
      "  File \"/home/gabriel/miniconda3/envs/pt_nlp/lib/python3.9/site-packages/requests/sessions.py\", line 529, in request\n",
      "    resp = self.send(prep, **send_kwargs)\n",
      "  File \"/home/gabriel/miniconda3/envs/pt_nlp/lib/python3.9/site-packages/requests/sessions.py\", line 645, in send\n",
      "    r = adapter.send(request, **kwargs)\n",
      "  File \"/home/gabriel/miniconda3/envs/pt_nlp/lib/python3.9/site-packages/requests/adapters.py\", line 517, in send\n",
      "    raise SSLError(e, request=request)\n",
      "requests.exceptions.SSLError: HTTPSConnectionPool(host='www.savetheplanetfurniture.com', port=443): Max retries exceeded with url: /products/lantern-silver-cube (Caused by SSLError(SSLCertVerificationError(\"hostname 'www.savetheplanetfurniture.com' doesn't match either of 'myshopify.com', '*.myshopify.com'\")))\n"
     ]
    },
    {
     "name": "stderr",
     "output_type": "stream",
     "text": [
      "WARNING:urllib3.connection:Certificate did not match expected hostname: www.pizzazzhub.com.au. Certificate: {'subject': ((('countryName', 'US'),), (('stateOrProvinceName', 'California'),), (('localityName', 'San Francisco'),), (('organizationName', 'Cloudflare, Inc.'),), (('commonName', '*.myshopify.com'),)), 'issuer': ((('countryName', 'US'),), (('organizationName', 'Cloudflare, Inc.'),), (('commonName', 'Cloudflare Inc ECC CA-3'),)), 'version': 3, 'serialNumber': '08D14009B8CCFD7A28D460E790084A96', 'notBefore': 'Sep 13 00:00:00 2021 GMT', 'notAfter': 'Sep 12 23:59:59 2022 GMT', 'subjectAltName': (('DNS', 'myshopify.com'), ('DNS', '*.myshopify.com')), 'OCSP': ('http://ocsp.digicert.com',), 'caIssuers': ('http://cacerts.digicert.com/CloudflareIncECCCA-3.crt',), 'crlDistributionPoints': ('http://crl3.digicert.com/CloudflareIncECCCA-3.crl', 'http://crl4.digicert.com/CloudflareIncECCCA-3.crl')}\n",
      "ERROR:root:HTTPSConnectionPool(host='www.pizzazzhub.com.au', port=443): Max retries exceeded with url: /products/4-tier-tv-media-stand (Caused by SSLError(SSLCertVerificationError(\"hostname 'www.pizzazzhub.com.au' doesn't match either of 'myshopify.com', '*.myshopify.com'\")))\n",
      "Traceback (most recent call last):\n",
      "  File \"/home/gabriel/miniconda3/envs/pt_nlp/lib/python3.9/site-packages/urllib3/connectionpool.py\", line 699, in urlopen\n",
      "    httplib_response = self._make_request(\n",
      "  File \"/home/gabriel/miniconda3/envs/pt_nlp/lib/python3.9/site-packages/urllib3/connectionpool.py\", line 382, in _make_request\n",
      "    self._validate_conn(conn)\n",
      "  File \"/home/gabriel/miniconda3/envs/pt_nlp/lib/python3.9/site-packages/urllib3/connectionpool.py\", line 1010, in _validate_conn\n",
      "    conn.connect()\n",
      "  File \"/home/gabriel/miniconda3/envs/pt_nlp/lib/python3.9/site-packages/urllib3/connection.py\", line 469, in connect\n",
      "    _match_hostname(cert, self.assert_hostname or server_hostname)\n",
      "  File \"/home/gabriel/miniconda3/envs/pt_nlp/lib/python3.9/site-packages/urllib3/connection.py\", line 542, in _match_hostname\n",
      "    match_hostname(cert, asserted_hostname)\n",
      "  File \"/home/gabriel/miniconda3/envs/pt_nlp/lib/python3.9/ssl.py\", line 416, in match_hostname\n",
      "    raise CertificateError(\"hostname %r \"\n",
      "ssl.SSLCertVerificationError: (\"hostname 'www.pizzazzhub.com.au' doesn't match either of 'myshopify.com', '*.myshopify.com'\",)\n",
      "\n",
      "During handling of the above exception, another exception occurred:\n",
      "\n",
      "Traceback (most recent call last):\n",
      "  File \"/home/gabriel/miniconda3/envs/pt_nlp/lib/python3.9/site-packages/requests/adapters.py\", line 440, in send\n",
      "    resp = conn.urlopen(\n",
      "  File \"/home/gabriel/miniconda3/envs/pt_nlp/lib/python3.9/site-packages/urllib3/connectionpool.py\", line 755, in urlopen\n",
      "    retries = retries.increment(\n",
      "  File \"/home/gabriel/miniconda3/envs/pt_nlp/lib/python3.9/site-packages/urllib3/util/retry.py\", line 574, in increment\n",
      "    raise MaxRetryError(_pool, url, error or ResponseError(cause))\n",
      "urllib3.exceptions.MaxRetryError: HTTPSConnectionPool(host='www.pizzazzhub.com.au', port=443): Max retries exceeded with url: /products/4-tier-tv-media-stand (Caused by SSLError(SSLCertVerificationError(\"hostname 'www.pizzazzhub.com.au' doesn't match either of 'myshopify.com', '*.myshopify.com'\")))\n",
      "\n",
      "During handling of the above exception, another exception occurred:\n",
      "\n",
      "Traceback (most recent call last):\n",
      "  File \"/tmp/ipykernel_6102/253839466.py\", line 10, in build_dataset\n",
      "    data = requests.get(url)\n",
      "  File \"/home/gabriel/miniconda3/envs/pt_nlp/lib/python3.9/site-packages/requests/api.py\", line 75, in get\n",
      "    return request('get', url, params=params, **kwargs)\n",
      "  File \"/home/gabriel/miniconda3/envs/pt_nlp/lib/python3.9/site-packages/requests/api.py\", line 61, in request\n",
      "    return session.request(method=method, url=url, **kwargs)\n",
      "  File \"/home/gabriel/miniconda3/envs/pt_nlp/lib/python3.9/site-packages/requests/sessions.py\", line 529, in request\n",
      "    resp = self.send(prep, **send_kwargs)\n",
      "  File \"/home/gabriel/miniconda3/envs/pt_nlp/lib/python3.9/site-packages/requests/sessions.py\", line 645, in send\n",
      "    r = adapter.send(request, **kwargs)\n",
      "  File \"/home/gabriel/miniconda3/envs/pt_nlp/lib/python3.9/site-packages/requests/adapters.py\", line 517, in send\n",
      "    raise SSLError(e, request=request)\n",
      "requests.exceptions.SSLError: HTTPSConnectionPool(host='www.pizzazzhub.com.au', port=443): Max retries exceeded with url: /products/4-tier-tv-media-stand (Caused by SSLError(SSLCertVerificationError(\"hostname 'www.pizzazzhub.com.au' doesn't match either of 'myshopify.com', '*.myshopify.com'\")))\n",
      "ERROR:root:HTTPSConnectionPool(host='stylefurniture.com.sg', port=443): Max retries exceeded with url: /products/lucas-armchair (Caused by NewConnectionError('<urllib3.connection.HTTPSConnection object at 0x7f172b719640>: Failed to establish a new connection: [Errno -2] Name or service not known'))\n",
      "Traceback (most recent call last):\n",
      "  File \"/home/gabriel/miniconda3/envs/pt_nlp/lib/python3.9/site-packages/urllib3/connection.py\", line 174, in _new_conn\n",
      "    conn = connection.create_connection(\n",
      "  File \"/home/gabriel/miniconda3/envs/pt_nlp/lib/python3.9/site-packages/urllib3/util/connection.py\", line 73, in create_connection\n",
      "    for res in socket.getaddrinfo(host, port, family, socket.SOCK_STREAM):\n",
      "  File \"/home/gabriel/miniconda3/envs/pt_nlp/lib/python3.9/socket.py\", line 954, in getaddrinfo\n",
      "    for res in _socket.getaddrinfo(host, port, family, type, proto, flags):\n",
      "socket.gaierror: [Errno -2] Name or service not known\n",
      "\n",
      "During handling of the above exception, another exception occurred:\n",
      "\n",
      "Traceback (most recent call last):\n",
      "  File \"/home/gabriel/miniconda3/envs/pt_nlp/lib/python3.9/site-packages/urllib3/connectionpool.py\", line 699, in urlopen\n",
      "    httplib_response = self._make_request(\n",
      "  File \"/home/gabriel/miniconda3/envs/pt_nlp/lib/python3.9/site-packages/urllib3/connectionpool.py\", line 382, in _make_request\n",
      "    self._validate_conn(conn)\n",
      "  File \"/home/gabriel/miniconda3/envs/pt_nlp/lib/python3.9/site-packages/urllib3/connectionpool.py\", line 1010, in _validate_conn\n",
      "    conn.connect()\n",
      "  File \"/home/gabriel/miniconda3/envs/pt_nlp/lib/python3.9/site-packages/urllib3/connection.py\", line 358, in connect\n",
      "    conn = self._new_conn()\n",
      "  File \"/home/gabriel/miniconda3/envs/pt_nlp/lib/python3.9/site-packages/urllib3/connection.py\", line 186, in _new_conn\n",
      "    raise NewConnectionError(\n",
      "urllib3.exceptions.NewConnectionError: <urllib3.connection.HTTPSConnection object at 0x7f172b719640>: Failed to establish a new connection: [Errno -2] Name or service not known\n",
      "\n",
      "During handling of the above exception, another exception occurred:\n",
      "\n",
      "Traceback (most recent call last):\n",
      "  File \"/home/gabriel/miniconda3/envs/pt_nlp/lib/python3.9/site-packages/requests/adapters.py\", line 440, in send\n",
      "    resp = conn.urlopen(\n",
      "  File \"/home/gabriel/miniconda3/envs/pt_nlp/lib/python3.9/site-packages/urllib3/connectionpool.py\", line 755, in urlopen\n",
      "    retries = retries.increment(\n",
      "  File \"/home/gabriel/miniconda3/envs/pt_nlp/lib/python3.9/site-packages/urllib3/util/retry.py\", line 574, in increment\n",
      "    raise MaxRetryError(_pool, url, error or ResponseError(cause))\n",
      "urllib3.exceptions.MaxRetryError: HTTPSConnectionPool(host='stylefurniture.com.sg', port=443): Max retries exceeded with url: /products/lucas-armchair (Caused by NewConnectionError('<urllib3.connection.HTTPSConnection object at 0x7f172b719640>: Failed to establish a new connection: [Errno -2] Name or service not known'))\n",
      "\n",
      "During handling of the above exception, another exception occurred:\n",
      "\n",
      "Traceback (most recent call last):\n",
      "  File \"/tmp/ipykernel_6102/253839466.py\", line 10, in build_dataset\n",
      "    data = requests.get(url)\n",
      "  File \"/home/gabriel/miniconda3/envs/pt_nlp/lib/python3.9/site-packages/requests/api.py\", line 75, in get\n",
      "    return request('get', url, params=params, **kwargs)\n",
      "  File \"/home/gabriel/miniconda3/envs/pt_nlp/lib/python3.9/site-packages/requests/api.py\", line 61, in request\n",
      "    return session.request(method=method, url=url, **kwargs)\n",
      "  File \"/home/gabriel/miniconda3/envs/pt_nlp/lib/python3.9/site-packages/requests/sessions.py\", line 529, in request\n",
      "    resp = self.send(prep, **send_kwargs)\n",
      "  File \"/home/gabriel/miniconda3/envs/pt_nlp/lib/python3.9/site-packages/requests/sessions.py\", line 645, in send\n",
      "    r = adapter.send(request, **kwargs)\n",
      "  File \"/home/gabriel/miniconda3/envs/pt_nlp/lib/python3.9/site-packages/requests/adapters.py\", line 519, in send\n",
      "    raise ConnectionError(e, request=request)\n",
      "requests.exceptions.ConnectionError: HTTPSConnectionPool(host='stylefurniture.com.sg', port=443): Max retries exceeded with url: /products/lucas-armchair (Caused by NewConnectionError('<urllib3.connection.HTTPSConnection object at 0x7f172b719640>: Failed to establish a new connection: [Errno -2] Name or service not known'))\n"
     ]
    },
    {
     "name": "stderr",
     "output_type": "stream",
     "text": [
      "ERROR:root:HTTPSConnectionPool(host='www.walteralice.com', port=443): Max retries exceeded with url: /products/wool-alpaca-poly-blend-check-fireside-chair?variant=8105538551900 (Caused by NewConnectionError('<urllib3.connection.HTTPSConnection object at 0x7f172b719730>: Failed to establish a new connection: [Errno -2] Name or service not known'))\n",
      "Traceback (most recent call last):\n",
      "  File \"/home/gabriel/miniconda3/envs/pt_nlp/lib/python3.9/site-packages/urllib3/connection.py\", line 174, in _new_conn\n",
      "    conn = connection.create_connection(\n",
      "  File \"/home/gabriel/miniconda3/envs/pt_nlp/lib/python3.9/site-packages/urllib3/util/connection.py\", line 73, in create_connection\n",
      "    for res in socket.getaddrinfo(host, port, family, socket.SOCK_STREAM):\n",
      "  File \"/home/gabriel/miniconda3/envs/pt_nlp/lib/python3.9/socket.py\", line 954, in getaddrinfo\n",
      "    for res in _socket.getaddrinfo(host, port, family, type, proto, flags):\n",
      "socket.gaierror: [Errno -2] Name or service not known\n",
      "\n",
      "During handling of the above exception, another exception occurred:\n",
      "\n",
      "Traceback (most recent call last):\n",
      "  File \"/home/gabriel/miniconda3/envs/pt_nlp/lib/python3.9/site-packages/urllib3/connectionpool.py\", line 699, in urlopen\n",
      "    httplib_response = self._make_request(\n",
      "  File \"/home/gabriel/miniconda3/envs/pt_nlp/lib/python3.9/site-packages/urllib3/connectionpool.py\", line 382, in _make_request\n",
      "    self._validate_conn(conn)\n",
      "  File \"/home/gabriel/miniconda3/envs/pt_nlp/lib/python3.9/site-packages/urllib3/connectionpool.py\", line 1010, in _validate_conn\n",
      "    conn.connect()\n",
      "  File \"/home/gabriel/miniconda3/envs/pt_nlp/lib/python3.9/site-packages/urllib3/connection.py\", line 358, in connect\n",
      "    conn = self._new_conn()\n",
      "  File \"/home/gabriel/miniconda3/envs/pt_nlp/lib/python3.9/site-packages/urllib3/connection.py\", line 186, in _new_conn\n",
      "    raise NewConnectionError(\n",
      "urllib3.exceptions.NewConnectionError: <urllib3.connection.HTTPSConnection object at 0x7f172b719730>: Failed to establish a new connection: [Errno -2] Name or service not known\n",
      "\n",
      "During handling of the above exception, another exception occurred:\n",
      "\n",
      "Traceback (most recent call last):\n",
      "  File \"/home/gabriel/miniconda3/envs/pt_nlp/lib/python3.9/site-packages/requests/adapters.py\", line 440, in send\n",
      "    resp = conn.urlopen(\n",
      "  File \"/home/gabriel/miniconda3/envs/pt_nlp/lib/python3.9/site-packages/urllib3/connectionpool.py\", line 755, in urlopen\n",
      "    retries = retries.increment(\n",
      "  File \"/home/gabriel/miniconda3/envs/pt_nlp/lib/python3.9/site-packages/urllib3/util/retry.py\", line 574, in increment\n",
      "    raise MaxRetryError(_pool, url, error or ResponseError(cause))\n",
      "urllib3.exceptions.MaxRetryError: HTTPSConnectionPool(host='www.walteralice.com', port=443): Max retries exceeded with url: /products/wool-alpaca-poly-blend-check-fireside-chair?variant=8105538551900 (Caused by NewConnectionError('<urllib3.connection.HTTPSConnection object at 0x7f172b719730>: Failed to establish a new connection: [Errno -2] Name or service not known'))\n",
      "\n",
      "During handling of the above exception, another exception occurred:\n",
      "\n",
      "Traceback (most recent call last):\n",
      "  File \"/tmp/ipykernel_6102/253839466.py\", line 10, in build_dataset\n",
      "    data = requests.get(url)\n",
      "  File \"/home/gabriel/miniconda3/envs/pt_nlp/lib/python3.9/site-packages/requests/api.py\", line 75, in get\n",
      "    return request('get', url, params=params, **kwargs)\n",
      "  File \"/home/gabriel/miniconda3/envs/pt_nlp/lib/python3.9/site-packages/requests/api.py\", line 61, in request\n",
      "    return session.request(method=method, url=url, **kwargs)\n",
      "  File \"/home/gabriel/miniconda3/envs/pt_nlp/lib/python3.9/site-packages/requests/sessions.py\", line 529, in request\n",
      "    resp = self.send(prep, **send_kwargs)\n",
      "  File \"/home/gabriel/miniconda3/envs/pt_nlp/lib/python3.9/site-packages/requests/sessions.py\", line 645, in send\n",
      "    r = adapter.send(request, **kwargs)\n",
      "  File \"/home/gabriel/miniconda3/envs/pt_nlp/lib/python3.9/site-packages/requests/adapters.py\", line 519, in send\n",
      "    raise ConnectionError(e, request=request)\n",
      "requests.exceptions.ConnectionError: HTTPSConnectionPool(host='www.walteralice.com', port=443): Max retries exceeded with url: /products/wool-alpaca-poly-blend-check-fireside-chair?variant=8105538551900 (Caused by NewConnectionError('<urllib3.connection.HTTPSConnection object at 0x7f172b719730>: Failed to establish a new connection: [Errno -2] Name or service not known'))\n",
      "WARNING:urllib3.connection:Certificate did not match expected hostname: veroabode.com. Certificate: {'subject': ((('countryName', 'US'),), (('stateOrProvinceName', 'California'),), (('localityName', 'San Francisco'),), (('organizationName', 'Cloudflare, Inc.'),), (('commonName', '*.myshopify.com'),)), 'issuer': ((('countryName', 'US'),), (('organizationName', 'Cloudflare, Inc.'),), (('commonName', 'Cloudflare Inc ECC CA-3'),)), 'version': 3, 'serialNumber': '08D14009B8CCFD7A28D460E790084A96', 'notBefore': 'Sep 13 00:00:00 2021 GMT', 'notAfter': 'Sep 12 23:59:59 2022 GMT', 'subjectAltName': (('DNS', 'myshopify.com'), ('DNS', '*.myshopify.com')), 'OCSP': ('http://ocsp.digicert.com',), 'caIssuers': ('http://cacerts.digicert.com/CloudflareIncECCCA-3.crt',), 'crlDistributionPoints': ('http://crl3.digicert.com/CloudflareIncECCCA-3.crl', 'http://crl4.digicert.com/CloudflareIncECCCA-3.crl')}\n",
      "ERROR:root:HTTPSConnectionPool(host='veroabode.com', port=443): Max retries exceeded with url: /products/adjustable-vintage-retro-rustic-bar-stool (Caused by SSLError(SSLCertVerificationError(\"hostname 'veroabode.com' doesn't match either of 'myshopify.com', '*.myshopify.com'\")))\n",
      "Traceback (most recent call last):\n",
      "  File \"/home/gabriel/miniconda3/envs/pt_nlp/lib/python3.9/site-packages/urllib3/connectionpool.py\", line 699, in urlopen\n",
      "    httplib_response = self._make_request(\n",
      "  File \"/home/gabriel/miniconda3/envs/pt_nlp/lib/python3.9/site-packages/urllib3/connectionpool.py\", line 382, in _make_request\n",
      "    self._validate_conn(conn)\n",
      "  File \"/home/gabriel/miniconda3/envs/pt_nlp/lib/python3.9/site-packages/urllib3/connectionpool.py\", line 1010, in _validate_conn\n",
      "    conn.connect()\n",
      "  File \"/home/gabriel/miniconda3/envs/pt_nlp/lib/python3.9/site-packages/urllib3/connection.py\", line 469, in connect\n",
      "    _match_hostname(cert, self.assert_hostname or server_hostname)\n",
      "  File \"/home/gabriel/miniconda3/envs/pt_nlp/lib/python3.9/site-packages/urllib3/connection.py\", line 542, in _match_hostname\n",
      "    match_hostname(cert, asserted_hostname)\n",
      "  File \"/home/gabriel/miniconda3/envs/pt_nlp/lib/python3.9/ssl.py\", line 416, in match_hostname\n",
      "    raise CertificateError(\"hostname %r \"\n",
      "ssl.SSLCertVerificationError: (\"hostname 'veroabode.com' doesn't match either of 'myshopify.com', '*.myshopify.com'\",)\n",
      "\n",
      "During handling of the above exception, another exception occurred:\n",
      "\n",
      "Traceback (most recent call last):\n",
      "  File \"/home/gabriel/miniconda3/envs/pt_nlp/lib/python3.9/site-packages/requests/adapters.py\", line 440, in send\n",
      "    resp = conn.urlopen(\n",
      "  File \"/home/gabriel/miniconda3/envs/pt_nlp/lib/python3.9/site-packages/urllib3/connectionpool.py\", line 755, in urlopen\n",
      "    retries = retries.increment(\n",
      "  File \"/home/gabriel/miniconda3/envs/pt_nlp/lib/python3.9/site-packages/urllib3/util/retry.py\", line 574, in increment\n",
      "    raise MaxRetryError(_pool, url, error or ResponseError(cause))\n",
      "urllib3.exceptions.MaxRetryError: HTTPSConnectionPool(host='veroabode.com', port=443): Max retries exceeded with url: /products/adjustable-vintage-retro-rustic-bar-stool (Caused by SSLError(SSLCertVerificationError(\"hostname 'veroabode.com' doesn't match either of 'myshopify.com', '*.myshopify.com'\")))\n",
      "\n",
      "During handling of the above exception, another exception occurred:\n",
      "\n",
      "Traceback (most recent call last):\n",
      "  File \"/tmp/ipykernel_6102/253839466.py\", line 10, in build_dataset\n",
      "    data = requests.get(url)\n",
      "  File \"/home/gabriel/miniconda3/envs/pt_nlp/lib/python3.9/site-packages/requests/api.py\", line 75, in get\n",
      "    return request('get', url, params=params, **kwargs)\n",
      "  File \"/home/gabriel/miniconda3/envs/pt_nlp/lib/python3.9/site-packages/requests/api.py\", line 61, in request\n",
      "    return session.request(method=method, url=url, **kwargs)\n",
      "  File \"/home/gabriel/miniconda3/envs/pt_nlp/lib/python3.9/site-packages/requests/sessions.py\", line 529, in request\n",
      "    resp = self.send(prep, **send_kwargs)\n",
      "  File \"/home/gabriel/miniconda3/envs/pt_nlp/lib/python3.9/site-packages/requests/sessions.py\", line 645, in send\n",
      "    r = adapter.send(request, **kwargs)\n",
      "  File \"/home/gabriel/miniconda3/envs/pt_nlp/lib/python3.9/site-packages/requests/adapters.py\", line 517, in send\n",
      "    raise SSLError(e, request=request)\n",
      "requests.exceptions.SSLError: HTTPSConnectionPool(host='veroabode.com', port=443): Max retries exceeded with url: /products/adjustable-vintage-retro-rustic-bar-stool (Caused by SSLError(SSLCertVerificationError(\"hostname 'veroabode.com' doesn't match either of 'myshopify.com', '*.myshopify.com'\")))\n"
     ]
    },
    {
     "name": "stderr",
     "output_type": "stream",
     "text": [
      "ERROR:root:HTTPSConnectionPool(host='www.kotihome.com.au', port=443): Max retries exceeded with url: /collections/tv/products/new-devanti-40-inch-smart-led-tv-2k-full-hd-lcd-slim-screen-black (Caused by NewConnectionError('<urllib3.connection.HTTPSConnection object at 0x7f172b719970>: Failed to establish a new connection: [Errno -2] Name or service not known'))\n",
      "Traceback (most recent call last):\n",
      "  File \"/home/gabriel/miniconda3/envs/pt_nlp/lib/python3.9/site-packages/urllib3/connection.py\", line 174, in _new_conn\n",
      "    conn = connection.create_connection(\n",
      "  File \"/home/gabriel/miniconda3/envs/pt_nlp/lib/python3.9/site-packages/urllib3/util/connection.py\", line 73, in create_connection\n",
      "    for res in socket.getaddrinfo(host, port, family, socket.SOCK_STREAM):\n",
      "  File \"/home/gabriel/miniconda3/envs/pt_nlp/lib/python3.9/socket.py\", line 954, in getaddrinfo\n",
      "    for res in _socket.getaddrinfo(host, port, family, type, proto, flags):\n",
      "socket.gaierror: [Errno -2] Name or service not known\n",
      "\n",
      "During handling of the above exception, another exception occurred:\n",
      "\n",
      "Traceback (most recent call last):\n",
      "  File \"/home/gabriel/miniconda3/envs/pt_nlp/lib/python3.9/site-packages/urllib3/connectionpool.py\", line 699, in urlopen\n",
      "    httplib_response = self._make_request(\n",
      "  File \"/home/gabriel/miniconda3/envs/pt_nlp/lib/python3.9/site-packages/urllib3/connectionpool.py\", line 382, in _make_request\n",
      "    self._validate_conn(conn)\n",
      "  File \"/home/gabriel/miniconda3/envs/pt_nlp/lib/python3.9/site-packages/urllib3/connectionpool.py\", line 1010, in _validate_conn\n",
      "    conn.connect()\n",
      "  File \"/home/gabriel/miniconda3/envs/pt_nlp/lib/python3.9/site-packages/urllib3/connection.py\", line 358, in connect\n",
      "    conn = self._new_conn()\n",
      "  File \"/home/gabriel/miniconda3/envs/pt_nlp/lib/python3.9/site-packages/urllib3/connection.py\", line 186, in _new_conn\n",
      "    raise NewConnectionError(\n",
      "urllib3.exceptions.NewConnectionError: <urllib3.connection.HTTPSConnection object at 0x7f172b719970>: Failed to establish a new connection: [Errno -2] Name or service not known\n",
      "\n",
      "During handling of the above exception, another exception occurred:\n",
      "\n",
      "Traceback (most recent call last):\n",
      "  File \"/home/gabriel/miniconda3/envs/pt_nlp/lib/python3.9/site-packages/requests/adapters.py\", line 440, in send\n",
      "    resp = conn.urlopen(\n",
      "  File \"/home/gabriel/miniconda3/envs/pt_nlp/lib/python3.9/site-packages/urllib3/connectionpool.py\", line 755, in urlopen\n",
      "    retries = retries.increment(\n",
      "  File \"/home/gabriel/miniconda3/envs/pt_nlp/lib/python3.9/site-packages/urllib3/util/retry.py\", line 574, in increment\n",
      "    raise MaxRetryError(_pool, url, error or ResponseError(cause))\n",
      "urllib3.exceptions.MaxRetryError: HTTPSConnectionPool(host='www.kotihome.com.au', port=443): Max retries exceeded with url: /collections/tv/products/new-devanti-40-inch-smart-led-tv-2k-full-hd-lcd-slim-screen-black (Caused by NewConnectionError('<urllib3.connection.HTTPSConnection object at 0x7f172b719970>: Failed to establish a new connection: [Errno -2] Name or service not known'))\n",
      "\n",
      "During handling of the above exception, another exception occurred:\n",
      "\n",
      "Traceback (most recent call last):\n",
      "  File \"/tmp/ipykernel_6102/253839466.py\", line 10, in build_dataset\n",
      "    data = requests.get(url)\n",
      "  File \"/home/gabriel/miniconda3/envs/pt_nlp/lib/python3.9/site-packages/requests/api.py\", line 75, in get\n",
      "    return request('get', url, params=params, **kwargs)\n",
      "  File \"/home/gabriel/miniconda3/envs/pt_nlp/lib/python3.9/site-packages/requests/api.py\", line 61, in request\n",
      "    return session.request(method=method, url=url, **kwargs)\n",
      "  File \"/home/gabriel/miniconda3/envs/pt_nlp/lib/python3.9/site-packages/requests/sessions.py\", line 529, in request\n",
      "    resp = self.send(prep, **send_kwargs)\n",
      "  File \"/home/gabriel/miniconda3/envs/pt_nlp/lib/python3.9/site-packages/requests/sessions.py\", line 645, in send\n",
      "    r = adapter.send(request, **kwargs)\n",
      "  File \"/home/gabriel/miniconda3/envs/pt_nlp/lib/python3.9/site-packages/requests/adapters.py\", line 519, in send\n",
      "    raise ConnectionError(e, request=request)\n",
      "requests.exceptions.ConnectionError: HTTPSConnectionPool(host='www.kotihome.com.au', port=443): Max retries exceeded with url: /collections/tv/products/new-devanti-40-inch-smart-led-tv-2k-full-hd-lcd-slim-screen-black (Caused by NewConnectionError('<urllib3.connection.HTTPSConnection object at 0x7f172b719970>: Failed to establish a new connection: [Errno -2] Name or service not known'))\n",
      "WARNING:urllib3.connection:Certificate did not match expected hostname: workspaceluxe.com.au. Certificate: {'subject': ((('countryName', 'US'),), (('stateOrProvinceName', 'California'),), (('localityName', 'San Francisco'),), (('organizationName', 'Cloudflare, Inc.'),), (('commonName', '*.myshopify.com'),)), 'issuer': ((('countryName', 'US'),), (('organizationName', 'Cloudflare, Inc.'),), (('commonName', 'Cloudflare Inc ECC CA-3'),)), 'version': 3, 'serialNumber': '08D14009B8CCFD7A28D460E790084A96', 'notBefore': 'Sep 13 00:00:00 2021 GMT', 'notAfter': 'Sep 12 23:59:59 2022 GMT', 'subjectAltName': (('DNS', 'myshopify.com'), ('DNS', '*.myshopify.com')), 'OCSP': ('http://ocsp.digicert.com',), 'caIssuers': ('http://cacerts.digicert.com/CloudflareIncECCCA-3.crt',), 'crlDistributionPoints': ('http://crl3.digicert.com/CloudflareIncECCCA-3.crl', 'http://crl4.digicert.com/CloudflareIncECCCA-3.crl')}\n",
      "ERROR:root:HTTPSConnectionPool(host='workspaceluxe.com.au', port=443): Max retries exceeded with url: /products/6ixty-zine-desk (Caused by SSLError(SSLCertVerificationError(\"hostname 'workspaceluxe.com.au' doesn't match either of 'myshopify.com', '*.myshopify.com'\")))\n",
      "Traceback (most recent call last):\n",
      "  File \"/home/gabriel/miniconda3/envs/pt_nlp/lib/python3.9/site-packages/urllib3/connectionpool.py\", line 699, in urlopen\n",
      "    httplib_response = self._make_request(\n",
      "  File \"/home/gabriel/miniconda3/envs/pt_nlp/lib/python3.9/site-packages/urllib3/connectionpool.py\", line 382, in _make_request\n",
      "    self._validate_conn(conn)\n",
      "  File \"/home/gabriel/miniconda3/envs/pt_nlp/lib/python3.9/site-packages/urllib3/connectionpool.py\", line 1010, in _validate_conn\n",
      "    conn.connect()\n",
      "  File \"/home/gabriel/miniconda3/envs/pt_nlp/lib/python3.9/site-packages/urllib3/connection.py\", line 469, in connect\n",
      "    _match_hostname(cert, self.assert_hostname or server_hostname)\n",
      "  File \"/home/gabriel/miniconda3/envs/pt_nlp/lib/python3.9/site-packages/urllib3/connection.py\", line 542, in _match_hostname\n",
      "    match_hostname(cert, asserted_hostname)\n",
      "  File \"/home/gabriel/miniconda3/envs/pt_nlp/lib/python3.9/ssl.py\", line 416, in match_hostname\n",
      "    raise CertificateError(\"hostname %r \"\n",
      "ssl.SSLCertVerificationError: (\"hostname 'workspaceluxe.com.au' doesn't match either of 'myshopify.com', '*.myshopify.com'\",)\n",
      "\n",
      "During handling of the above exception, another exception occurred:\n",
      "\n",
      "Traceback (most recent call last):\n",
      "  File \"/home/gabriel/miniconda3/envs/pt_nlp/lib/python3.9/site-packages/requests/adapters.py\", line 440, in send\n",
      "    resp = conn.urlopen(\n",
      "  File \"/home/gabriel/miniconda3/envs/pt_nlp/lib/python3.9/site-packages/urllib3/connectionpool.py\", line 755, in urlopen\n",
      "    retries = retries.increment(\n",
      "  File \"/home/gabriel/miniconda3/envs/pt_nlp/lib/python3.9/site-packages/urllib3/util/retry.py\", line 574, in increment\n",
      "    raise MaxRetryError(_pool, url, error or ResponseError(cause))\n",
      "urllib3.exceptions.MaxRetryError: HTTPSConnectionPool(host='workspaceluxe.com.au', port=443): Max retries exceeded with url: /products/6ixty-zine-desk (Caused by SSLError(SSLCertVerificationError(\"hostname 'workspaceluxe.com.au' doesn't match either of 'myshopify.com', '*.myshopify.com'\")))\n",
      "\n",
      "During handling of the above exception, another exception occurred:\n",
      "\n",
      "Traceback (most recent call last):\n",
      "  File \"/tmp/ipykernel_6102/253839466.py\", line 10, in build_dataset\n",
      "    data = requests.get(url)\n",
      "  File \"/home/gabriel/miniconda3/envs/pt_nlp/lib/python3.9/site-packages/requests/api.py\", line 75, in get\n",
      "    return request('get', url, params=params, **kwargs)\n",
      "  File \"/home/gabriel/miniconda3/envs/pt_nlp/lib/python3.9/site-packages/requests/api.py\", line 61, in request\n",
      "    return session.request(method=method, url=url, **kwargs)\n",
      "  File \"/home/gabriel/miniconda3/envs/pt_nlp/lib/python3.9/site-packages/requests/sessions.py\", line 529, in request\n",
      "    resp = self.send(prep, **send_kwargs)\n",
      "  File \"/home/gabriel/miniconda3/envs/pt_nlp/lib/python3.9/site-packages/requests/sessions.py\", line 645, in send\n",
      "    r = adapter.send(request, **kwargs)\n",
      "  File \"/home/gabriel/miniconda3/envs/pt_nlp/lib/python3.9/site-packages/requests/adapters.py\", line 517, in send\n",
      "    raise SSLError(e, request=request)\n",
      "requests.exceptions.SSLError: HTTPSConnectionPool(host='workspaceluxe.com.au', port=443): Max retries exceeded with url: /products/6ixty-zine-desk (Caused by SSLError(SSLCertVerificationError(\"hostname 'workspaceluxe.com.au' doesn't match either of 'myshopify.com', '*.myshopify.com'\")))\n"
     ]
    },
    {
     "name": "stderr",
     "output_type": "stream",
     "text": [
      "ERROR:root:HTTPSConnectionPool(host='www.newleafupcycled.com.au', port=443): Max retries exceeded with url: /products/rustic-shabby-chic-bookcase (Caused by NewConnectionError('<urllib3.connection.HTTPSConnection object at 0x7f1724891ac0>: Failed to establish a new connection: [Errno -2] Name or service not known'))\n",
      "Traceback (most recent call last):\n",
      "  File \"/home/gabriel/miniconda3/envs/pt_nlp/lib/python3.9/site-packages/urllib3/connection.py\", line 174, in _new_conn\n",
      "    conn = connection.create_connection(\n",
      "  File \"/home/gabriel/miniconda3/envs/pt_nlp/lib/python3.9/site-packages/urllib3/util/connection.py\", line 73, in create_connection\n",
      "    for res in socket.getaddrinfo(host, port, family, socket.SOCK_STREAM):\n",
      "  File \"/home/gabriel/miniconda3/envs/pt_nlp/lib/python3.9/socket.py\", line 954, in getaddrinfo\n",
      "    for res in _socket.getaddrinfo(host, port, family, type, proto, flags):\n",
      "socket.gaierror: [Errno -2] Name or service not known\n",
      "\n",
      "During handling of the above exception, another exception occurred:\n",
      "\n",
      "Traceback (most recent call last):\n",
      "  File \"/home/gabriel/miniconda3/envs/pt_nlp/lib/python3.9/site-packages/urllib3/connectionpool.py\", line 699, in urlopen\n",
      "    httplib_response = self._make_request(\n",
      "  File \"/home/gabriel/miniconda3/envs/pt_nlp/lib/python3.9/site-packages/urllib3/connectionpool.py\", line 382, in _make_request\n",
      "    self._validate_conn(conn)\n",
      "  File \"/home/gabriel/miniconda3/envs/pt_nlp/lib/python3.9/site-packages/urllib3/connectionpool.py\", line 1010, in _validate_conn\n",
      "    conn.connect()\n",
      "  File \"/home/gabriel/miniconda3/envs/pt_nlp/lib/python3.9/site-packages/urllib3/connection.py\", line 358, in connect\n",
      "    conn = self._new_conn()\n",
      "  File \"/home/gabriel/miniconda3/envs/pt_nlp/lib/python3.9/site-packages/urllib3/connection.py\", line 186, in _new_conn\n",
      "    raise NewConnectionError(\n",
      "urllib3.exceptions.NewConnectionError: <urllib3.connection.HTTPSConnection object at 0x7f1724891ac0>: Failed to establish a new connection: [Errno -2] Name or service not known\n",
      "\n",
      "During handling of the above exception, another exception occurred:\n",
      "\n",
      "Traceback (most recent call last):\n",
      "  File \"/home/gabriel/miniconda3/envs/pt_nlp/lib/python3.9/site-packages/requests/adapters.py\", line 440, in send\n",
      "    resp = conn.urlopen(\n",
      "  File \"/home/gabriel/miniconda3/envs/pt_nlp/lib/python3.9/site-packages/urllib3/connectionpool.py\", line 755, in urlopen\n",
      "    retries = retries.increment(\n",
      "  File \"/home/gabriel/miniconda3/envs/pt_nlp/lib/python3.9/site-packages/urllib3/util/retry.py\", line 574, in increment\n",
      "    raise MaxRetryError(_pool, url, error or ResponseError(cause))\n",
      "urllib3.exceptions.MaxRetryError: HTTPSConnectionPool(host='www.newleafupcycled.com.au', port=443): Max retries exceeded with url: /products/rustic-shabby-chic-bookcase (Caused by NewConnectionError('<urllib3.connection.HTTPSConnection object at 0x7f1724891ac0>: Failed to establish a new connection: [Errno -2] Name or service not known'))\n",
      "\n",
      "During handling of the above exception, another exception occurred:\n",
      "\n",
      "Traceback (most recent call last):\n",
      "  File \"/tmp/ipykernel_6102/253839466.py\", line 10, in build_dataset\n",
      "    data = requests.get(url)\n",
      "  File \"/home/gabriel/miniconda3/envs/pt_nlp/lib/python3.9/site-packages/requests/api.py\", line 75, in get\n",
      "    return request('get', url, params=params, **kwargs)\n",
      "  File \"/home/gabriel/miniconda3/envs/pt_nlp/lib/python3.9/site-packages/requests/api.py\", line 61, in request\n",
      "    return session.request(method=method, url=url, **kwargs)\n",
      "  File \"/home/gabriel/miniconda3/envs/pt_nlp/lib/python3.9/site-packages/requests/sessions.py\", line 529, in request\n",
      "    resp = self.send(prep, **send_kwargs)\n",
      "  File \"/home/gabriel/miniconda3/envs/pt_nlp/lib/python3.9/site-packages/requests/sessions.py\", line 645, in send\n",
      "    r = adapter.send(request, **kwargs)\n",
      "  File \"/home/gabriel/miniconda3/envs/pt_nlp/lib/python3.9/site-packages/requests/adapters.py\", line 519, in send\n",
      "    raise ConnectionError(e, request=request)\n",
      "requests.exceptions.ConnectionError: HTTPSConnectionPool(host='www.newleafupcycled.com.au', port=443): Max retries exceeded with url: /products/rustic-shabby-chic-bookcase (Caused by NewConnectionError('<urllib3.connection.HTTPSConnection object at 0x7f1724891ac0>: Failed to establish a new connection: [Errno -2] Name or service not known'))\n",
      "ERROR:root:HTTPSConnectionPool(host='www.paetry.com', port=443): Max retries exceeded with url: /products/catalina-chair (Caused by NewConnectionError('<urllib3.connection.HTTPSConnection object at 0x7f1727b6ecd0>: Failed to establish a new connection: [Errno -2] Name or service not known'))\n",
      "Traceback (most recent call last):\n",
      "  File \"/home/gabriel/miniconda3/envs/pt_nlp/lib/python3.9/site-packages/urllib3/connection.py\", line 174, in _new_conn\n",
      "    conn = connection.create_connection(\n",
      "  File \"/home/gabriel/miniconda3/envs/pt_nlp/lib/python3.9/site-packages/urllib3/util/connection.py\", line 73, in create_connection\n",
      "    for res in socket.getaddrinfo(host, port, family, socket.SOCK_STREAM):\n",
      "  File \"/home/gabriel/miniconda3/envs/pt_nlp/lib/python3.9/socket.py\", line 954, in getaddrinfo\n",
      "    for res in _socket.getaddrinfo(host, port, family, type, proto, flags):\n",
      "socket.gaierror: [Errno -2] Name or service not known\n",
      "\n",
      "During handling of the above exception, another exception occurred:\n",
      "\n",
      "Traceback (most recent call last):\n",
      "  File \"/home/gabriel/miniconda3/envs/pt_nlp/lib/python3.9/site-packages/urllib3/connectionpool.py\", line 699, in urlopen\n",
      "    httplib_response = self._make_request(\n",
      "  File \"/home/gabriel/miniconda3/envs/pt_nlp/lib/python3.9/site-packages/urllib3/connectionpool.py\", line 382, in _make_request\n",
      "    self._validate_conn(conn)\n",
      "  File \"/home/gabriel/miniconda3/envs/pt_nlp/lib/python3.9/site-packages/urllib3/connectionpool.py\", line 1010, in _validate_conn\n",
      "    conn.connect()\n",
      "  File \"/home/gabriel/miniconda3/envs/pt_nlp/lib/python3.9/site-packages/urllib3/connection.py\", line 358, in connect\n",
      "    conn = self._new_conn()\n",
      "  File \"/home/gabriel/miniconda3/envs/pt_nlp/lib/python3.9/site-packages/urllib3/connection.py\", line 186, in _new_conn\n",
      "    raise NewConnectionError(\n",
      "urllib3.exceptions.NewConnectionError: <urllib3.connection.HTTPSConnection object at 0x7f1727b6ecd0>: Failed to establish a new connection: [Errno -2] Name or service not known\n",
      "\n",
      "During handling of the above exception, another exception occurred:\n",
      "\n",
      "Traceback (most recent call last):\n",
      "  File \"/home/gabriel/miniconda3/envs/pt_nlp/lib/python3.9/site-packages/requests/adapters.py\", line 440, in send\n",
      "    resp = conn.urlopen(\n",
      "  File \"/home/gabriel/miniconda3/envs/pt_nlp/lib/python3.9/site-packages/urllib3/connectionpool.py\", line 755, in urlopen\n",
      "    retries = retries.increment(\n",
      "  File \"/home/gabriel/miniconda3/envs/pt_nlp/lib/python3.9/site-packages/urllib3/util/retry.py\", line 574, in increment\n",
      "    raise MaxRetryError(_pool, url, error or ResponseError(cause))\n",
      "urllib3.exceptions.MaxRetryError: HTTPSConnectionPool(host='www.paetry.com', port=443): Max retries exceeded with url: /products/catalina-chair (Caused by NewConnectionError('<urllib3.connection.HTTPSConnection object at 0x7f1727b6ecd0>: Failed to establish a new connection: [Errno -2] Name or service not known'))\n",
      "\n",
      "During handling of the above exception, another exception occurred:\n",
      "\n",
      "Traceback (most recent call last):\n",
      "  File \"/tmp/ipykernel_6102/253839466.py\", line 10, in build_dataset\n",
      "    data = requests.get(url)\n",
      "  File \"/home/gabriel/miniconda3/envs/pt_nlp/lib/python3.9/site-packages/requests/api.py\", line 75, in get\n",
      "    return request('get', url, params=params, **kwargs)\n",
      "  File \"/home/gabriel/miniconda3/envs/pt_nlp/lib/python3.9/site-packages/requests/api.py\", line 61, in request\n",
      "    return session.request(method=method, url=url, **kwargs)\n",
      "  File \"/home/gabriel/miniconda3/envs/pt_nlp/lib/python3.9/site-packages/requests/sessions.py\", line 529, in request\n",
      "    resp = self.send(prep, **send_kwargs)\n",
      "  File \"/home/gabriel/miniconda3/envs/pt_nlp/lib/python3.9/site-packages/requests/sessions.py\", line 645, in send\n",
      "    r = adapter.send(request, **kwargs)\n",
      "  File \"/home/gabriel/miniconda3/envs/pt_nlp/lib/python3.9/site-packages/requests/adapters.py\", line 519, in send\n",
      "    raise ConnectionError(e, request=request)\n",
      "requests.exceptions.ConnectionError: HTTPSConnectionPool(host='www.paetry.com', port=443): Max retries exceeded with url: /products/catalina-chair (Caused by NewConnectionError('<urllib3.connection.HTTPSConnection object at 0x7f1727b6ecd0>: Failed to establish a new connection: [Errno -2] Name or service not known'))\n"
     ]
    },
    {
     "name": "stderr",
     "output_type": "stream",
     "text": [
      "WARNING:urllib3.connection:Certificate did not match expected hostname: reclaimedcharm.co. Certificate: {'subject': ((('countryName', 'US'),), (('stateOrProvinceName', 'California'),), (('localityName', 'San Francisco'),), (('organizationName', 'Cloudflare, Inc.'),), (('commonName', '*.myshopify.com'),)), 'issuer': ((('countryName', 'US'),), (('organizationName', 'Cloudflare, Inc.'),), (('commonName', 'Cloudflare Inc ECC CA-3'),)), 'version': 3, 'serialNumber': '08D14009B8CCFD7A28D460E790084A96', 'notBefore': 'Sep 13 00:00:00 2021 GMT', 'notAfter': 'Sep 12 23:59:59 2022 GMT', 'subjectAltName': (('DNS', 'myshopify.com'), ('DNS', '*.myshopify.com')), 'OCSP': ('http://ocsp.digicert.com',), 'caIssuers': ('http://cacerts.digicert.com/CloudflareIncECCCA-3.crt',), 'crlDistributionPoints': ('http://crl3.digicert.com/CloudflareIncECCCA-3.crl', 'http://crl4.digicert.com/CloudflareIncECCCA-3.crl')}\n",
      "ERROR:root:HTTPSConnectionPool(host='reclaimedcharm.co', port=443): Max retries exceeded with url: /products/2-day-designs-dartboard-cabinet (Caused by SSLError(SSLCertVerificationError(\"hostname 'reclaimedcharm.co' doesn't match either of 'myshopify.com', '*.myshopify.com'\")))\n",
      "Traceback (most recent call last):\n",
      "  File \"/home/gabriel/miniconda3/envs/pt_nlp/lib/python3.9/site-packages/urllib3/connectionpool.py\", line 699, in urlopen\n",
      "    httplib_response = self._make_request(\n",
      "  File \"/home/gabriel/miniconda3/envs/pt_nlp/lib/python3.9/site-packages/urllib3/connectionpool.py\", line 382, in _make_request\n",
      "    self._validate_conn(conn)\n",
      "  File \"/home/gabriel/miniconda3/envs/pt_nlp/lib/python3.9/site-packages/urllib3/connectionpool.py\", line 1010, in _validate_conn\n",
      "    conn.connect()\n",
      "  File \"/home/gabriel/miniconda3/envs/pt_nlp/lib/python3.9/site-packages/urllib3/connection.py\", line 469, in connect\n",
      "    _match_hostname(cert, self.assert_hostname or server_hostname)\n",
      "  File \"/home/gabriel/miniconda3/envs/pt_nlp/lib/python3.9/site-packages/urllib3/connection.py\", line 542, in _match_hostname\n",
      "    match_hostname(cert, asserted_hostname)\n",
      "  File \"/home/gabriel/miniconda3/envs/pt_nlp/lib/python3.9/ssl.py\", line 416, in match_hostname\n",
      "    raise CertificateError(\"hostname %r \"\n",
      "ssl.SSLCertVerificationError: (\"hostname 'reclaimedcharm.co' doesn't match either of 'myshopify.com', '*.myshopify.com'\",)\n",
      "\n",
      "During handling of the above exception, another exception occurred:\n",
      "\n",
      "Traceback (most recent call last):\n",
      "  File \"/home/gabriel/miniconda3/envs/pt_nlp/lib/python3.9/site-packages/requests/adapters.py\", line 440, in send\n",
      "    resp = conn.urlopen(\n",
      "  File \"/home/gabriel/miniconda3/envs/pt_nlp/lib/python3.9/site-packages/urllib3/connectionpool.py\", line 755, in urlopen\n",
      "    retries = retries.increment(\n",
      "  File \"/home/gabriel/miniconda3/envs/pt_nlp/lib/python3.9/site-packages/urllib3/util/retry.py\", line 574, in increment\n",
      "    raise MaxRetryError(_pool, url, error or ResponseError(cause))\n",
      "urllib3.exceptions.MaxRetryError: HTTPSConnectionPool(host='reclaimedcharm.co', port=443): Max retries exceeded with url: /products/2-day-designs-dartboard-cabinet (Caused by SSLError(SSLCertVerificationError(\"hostname 'reclaimedcharm.co' doesn't match either of 'myshopify.com', '*.myshopify.com'\")))\n",
      "\n",
      "During handling of the above exception, another exception occurred:\n",
      "\n",
      "Traceback (most recent call last):\n",
      "  File \"/tmp/ipykernel_6102/253839466.py\", line 10, in build_dataset\n",
      "    data = requests.get(url)\n",
      "  File \"/home/gabriel/miniconda3/envs/pt_nlp/lib/python3.9/site-packages/requests/api.py\", line 75, in get\n",
      "    return request('get', url, params=params, **kwargs)\n",
      "  File \"/home/gabriel/miniconda3/envs/pt_nlp/lib/python3.9/site-packages/requests/api.py\", line 61, in request\n",
      "    return session.request(method=method, url=url, **kwargs)\n",
      "  File \"/home/gabriel/miniconda3/envs/pt_nlp/lib/python3.9/site-packages/requests/sessions.py\", line 529, in request\n",
      "    resp = self.send(prep, **send_kwargs)\n",
      "  File \"/home/gabriel/miniconda3/envs/pt_nlp/lib/python3.9/site-packages/requests/sessions.py\", line 645, in send\n",
      "    r = adapter.send(request, **kwargs)\n",
      "  File \"/home/gabriel/miniconda3/envs/pt_nlp/lib/python3.9/site-packages/requests/adapters.py\", line 517, in send\n",
      "    raise SSLError(e, request=request)\n",
      "requests.exceptions.SSLError: HTTPSConnectionPool(host='reclaimedcharm.co', port=443): Max retries exceeded with url: /products/2-day-designs-dartboard-cabinet (Caused by SSLError(SSLCertVerificationError(\"hostname 'reclaimedcharm.co' doesn't match either of 'myshopify.com', '*.myshopify.com'\")))\n",
      "ERROR:root:HTTPSConnectionPool(host='www.bilberry-furniture.co.uk', port=443): Max retries exceeded with url: /products/test (Caused by NewConnectionError('<urllib3.connection.HTTPSConnection object at 0x7f1724c5e880>: Failed to establish a new connection: [Errno -2] Name or service not known'))\n",
      "Traceback (most recent call last):\n",
      "  File \"/home/gabriel/miniconda3/envs/pt_nlp/lib/python3.9/site-packages/urllib3/connection.py\", line 174, in _new_conn\n",
      "    conn = connection.create_connection(\n",
      "  File \"/home/gabriel/miniconda3/envs/pt_nlp/lib/python3.9/site-packages/urllib3/util/connection.py\", line 73, in create_connection\n",
      "    for res in socket.getaddrinfo(host, port, family, socket.SOCK_STREAM):\n",
      "  File \"/home/gabriel/miniconda3/envs/pt_nlp/lib/python3.9/socket.py\", line 954, in getaddrinfo\n",
      "    for res in _socket.getaddrinfo(host, port, family, type, proto, flags):\n",
      "socket.gaierror: [Errno -2] Name or service not known\n",
      "\n",
      "During handling of the above exception, another exception occurred:\n",
      "\n",
      "Traceback (most recent call last):\n",
      "  File \"/home/gabriel/miniconda3/envs/pt_nlp/lib/python3.9/site-packages/urllib3/connectionpool.py\", line 699, in urlopen\n",
      "    httplib_response = self._make_request(\n",
      "  File \"/home/gabriel/miniconda3/envs/pt_nlp/lib/python3.9/site-packages/urllib3/connectionpool.py\", line 382, in _make_request\n",
      "    self._validate_conn(conn)\n",
      "  File \"/home/gabriel/miniconda3/envs/pt_nlp/lib/python3.9/site-packages/urllib3/connectionpool.py\", line 1010, in _validate_conn\n",
      "    conn.connect()\n",
      "  File \"/home/gabriel/miniconda3/envs/pt_nlp/lib/python3.9/site-packages/urllib3/connection.py\", line 358, in connect\n",
      "    conn = self._new_conn()\n",
      "  File \"/home/gabriel/miniconda3/envs/pt_nlp/lib/python3.9/site-packages/urllib3/connection.py\", line 186, in _new_conn\n",
      "    raise NewConnectionError(\n",
      "urllib3.exceptions.NewConnectionError: <urllib3.connection.HTTPSConnection object at 0x7f1724c5e880>: Failed to establish a new connection: [Errno -2] Name or service not known\n",
      "\n",
      "During handling of the above exception, another exception occurred:\n",
      "\n",
      "Traceback (most recent call last):\n",
      "  File \"/home/gabriel/miniconda3/envs/pt_nlp/lib/python3.9/site-packages/requests/adapters.py\", line 440, in send\n",
      "    resp = conn.urlopen(\n",
      "  File \"/home/gabriel/miniconda3/envs/pt_nlp/lib/python3.9/site-packages/urllib3/connectionpool.py\", line 755, in urlopen\n",
      "    retries = retries.increment(\n",
      "  File \"/home/gabriel/miniconda3/envs/pt_nlp/lib/python3.9/site-packages/urllib3/util/retry.py\", line 574, in increment\n",
      "    raise MaxRetryError(_pool, url, error or ResponseError(cause))\n",
      "urllib3.exceptions.MaxRetryError: HTTPSConnectionPool(host='www.bilberry-furniture.co.uk', port=443): Max retries exceeded with url: /products/test (Caused by NewConnectionError('<urllib3.connection.HTTPSConnection object at 0x7f1724c5e880>: Failed to establish a new connection: [Errno -2] Name or service not known'))\n",
      "\n",
      "During handling of the above exception, another exception occurred:\n",
      "\n",
      "Traceback (most recent call last):\n",
      "  File \"/tmp/ipykernel_6102/253839466.py\", line 10, in build_dataset\n",
      "    data = requests.get(url)\n",
      "  File \"/home/gabriel/miniconda3/envs/pt_nlp/lib/python3.9/site-packages/requests/api.py\", line 75, in get\n",
      "    return request('get', url, params=params, **kwargs)\n",
      "  File \"/home/gabriel/miniconda3/envs/pt_nlp/lib/python3.9/site-packages/requests/api.py\", line 61, in request\n",
      "    return session.request(method=method, url=url, **kwargs)\n",
      "  File \"/home/gabriel/miniconda3/envs/pt_nlp/lib/python3.9/site-packages/requests/sessions.py\", line 529, in request\n",
      "    resp = self.send(prep, **send_kwargs)\n",
      "  File \"/home/gabriel/miniconda3/envs/pt_nlp/lib/python3.9/site-packages/requests/sessions.py\", line 645, in send\n",
      "    r = adapter.send(request, **kwargs)\n",
      "  File \"/home/gabriel/miniconda3/envs/pt_nlp/lib/python3.9/site-packages/requests/adapters.py\", line 519, in send\n",
      "    raise ConnectionError(e, request=request)\n",
      "requests.exceptions.ConnectionError: HTTPSConnectionPool(host='www.bilberry-furniture.co.uk', port=443): Max retries exceeded with url: /products/test (Caused by NewConnectionError('<urllib3.connection.HTTPSConnection object at 0x7f1724c5e880>: Failed to establish a new connection: [Errno -2] Name or service not known'))\n"
     ]
    },
    {
     "name": "stderr",
     "output_type": "stream",
     "text": [
      "ERROR:root:('Connection aborted.', RemoteDisconnected('Remote end closed connection without response'))\n",
      "Traceback (most recent call last):\n",
      "  File \"/home/gabriel/miniconda3/envs/pt_nlp/lib/python3.9/site-packages/urllib3/connectionpool.py\", line 699, in urlopen\n",
      "    httplib_response = self._make_request(\n",
      "  File \"/home/gabriel/miniconda3/envs/pt_nlp/lib/python3.9/site-packages/urllib3/connectionpool.py\", line 445, in _make_request\n",
      "    six.raise_from(e, None)\n",
      "  File \"<string>\", line 3, in raise_from\n",
      "  File \"/home/gabriel/miniconda3/envs/pt_nlp/lib/python3.9/site-packages/urllib3/connectionpool.py\", line 440, in _make_request\n",
      "    httplib_response = conn.getresponse()\n",
      "  File \"/home/gabriel/miniconda3/envs/pt_nlp/lib/python3.9/http/client.py\", line 1371, in getresponse\n",
      "    response.begin()\n",
      "  File \"/home/gabriel/miniconda3/envs/pt_nlp/lib/python3.9/http/client.py\", line 319, in begin\n",
      "    version, status, reason = self._read_status()\n",
      "  File \"/home/gabriel/miniconda3/envs/pt_nlp/lib/python3.9/http/client.py\", line 288, in _read_status\n",
      "    raise RemoteDisconnected(\"Remote end closed connection without\"\n",
      "http.client.RemoteDisconnected: Remote end closed connection without response\n",
      "\n",
      "During handling of the above exception, another exception occurred:\n",
      "\n",
      "Traceback (most recent call last):\n",
      "  File \"/home/gabriel/miniconda3/envs/pt_nlp/lib/python3.9/site-packages/requests/adapters.py\", line 440, in send\n",
      "    resp = conn.urlopen(\n",
      "  File \"/home/gabriel/miniconda3/envs/pt_nlp/lib/python3.9/site-packages/urllib3/connectionpool.py\", line 755, in urlopen\n",
      "    retries = retries.increment(\n",
      "  File \"/home/gabriel/miniconda3/envs/pt_nlp/lib/python3.9/site-packages/urllib3/util/retry.py\", line 532, in increment\n",
      "    raise six.reraise(type(error), error, _stacktrace)\n",
      "  File \"/home/gabriel/miniconda3/envs/pt_nlp/lib/python3.9/site-packages/urllib3/packages/six.py\", line 769, in reraise\n",
      "    raise value.with_traceback(tb)\n",
      "  File \"/home/gabriel/miniconda3/envs/pt_nlp/lib/python3.9/site-packages/urllib3/connectionpool.py\", line 699, in urlopen\n",
      "    httplib_response = self._make_request(\n",
      "  File \"/home/gabriel/miniconda3/envs/pt_nlp/lib/python3.9/site-packages/urllib3/connectionpool.py\", line 445, in _make_request\n",
      "    six.raise_from(e, None)\n",
      "  File \"<string>\", line 3, in raise_from\n",
      "  File \"/home/gabriel/miniconda3/envs/pt_nlp/lib/python3.9/site-packages/urllib3/connectionpool.py\", line 440, in _make_request\n",
      "    httplib_response = conn.getresponse()\n",
      "  File \"/home/gabriel/miniconda3/envs/pt_nlp/lib/python3.9/http/client.py\", line 1371, in getresponse\n",
      "    response.begin()\n",
      "  File \"/home/gabriel/miniconda3/envs/pt_nlp/lib/python3.9/http/client.py\", line 319, in begin\n",
      "    version, status, reason = self._read_status()\n",
      "  File \"/home/gabriel/miniconda3/envs/pt_nlp/lib/python3.9/http/client.py\", line 288, in _read_status\n",
      "    raise RemoteDisconnected(\"Remote end closed connection without\"\n",
      "urllib3.exceptions.ProtocolError: ('Connection aborted.', RemoteDisconnected('Remote end closed connection without response'))\n",
      "\n",
      "During handling of the above exception, another exception occurred:\n",
      "\n",
      "Traceback (most recent call last):\n",
      "  File \"/tmp/ipykernel_6102/253839466.py\", line 10, in build_dataset\n",
      "    data = requests.get(url)\n",
      "  File \"/home/gabriel/miniconda3/envs/pt_nlp/lib/python3.9/site-packages/requests/api.py\", line 75, in get\n",
      "    return request('get', url, params=params, **kwargs)\n",
      "  File \"/home/gabriel/miniconda3/envs/pt_nlp/lib/python3.9/site-packages/requests/api.py\", line 61, in request\n",
      "    return session.request(method=method, url=url, **kwargs)\n",
      "  File \"/home/gabriel/miniconda3/envs/pt_nlp/lib/python3.9/site-packages/requests/sessions.py\", line 529, in request\n",
      "    resp = self.send(prep, **send_kwargs)\n",
      "  File \"/home/gabriel/miniconda3/envs/pt_nlp/lib/python3.9/site-packages/requests/sessions.py\", line 645, in send\n",
      "    r = adapter.send(request, **kwargs)\n",
      "  File \"/home/gabriel/miniconda3/envs/pt_nlp/lib/python3.9/site-packages/requests/adapters.py\", line 501, in send\n",
      "    raise ConnectionError(err, request=request)\n",
      "requests.exceptions.ConnectionError: ('Connection aborted.', RemoteDisconnected('Remote end closed connection without response'))\n",
      "ERROR:root:('Connection aborted.', RemoteDisconnected('Remote end closed connection without response'))\n",
      "Traceback (most recent call last):\n",
      "  File \"/home/gabriel/miniconda3/envs/pt_nlp/lib/python3.9/site-packages/urllib3/connectionpool.py\", line 699, in urlopen\n",
      "    httplib_response = self._make_request(\n",
      "  File \"/home/gabriel/miniconda3/envs/pt_nlp/lib/python3.9/site-packages/urllib3/connectionpool.py\", line 445, in _make_request\n",
      "    six.raise_from(e, None)\n",
      "  File \"<string>\", line 3, in raise_from\n",
      "  File \"/home/gabriel/miniconda3/envs/pt_nlp/lib/python3.9/site-packages/urllib3/connectionpool.py\", line 440, in _make_request\n",
      "    httplib_response = conn.getresponse()\n",
      "  File \"/home/gabriel/miniconda3/envs/pt_nlp/lib/python3.9/http/client.py\", line 1371, in getresponse\n",
      "    response.begin()\n",
      "  File \"/home/gabriel/miniconda3/envs/pt_nlp/lib/python3.9/http/client.py\", line 319, in begin\n",
      "    version, status, reason = self._read_status()\n",
      "  File \"/home/gabriel/miniconda3/envs/pt_nlp/lib/python3.9/http/client.py\", line 288, in _read_status\n",
      "    raise RemoteDisconnected(\"Remote end closed connection without\"\n",
      "http.client.RemoteDisconnected: Remote end closed connection without response\n",
      "\n",
      "During handling of the above exception, another exception occurred:\n",
      "\n",
      "Traceback (most recent call last):\n",
      "  File \"/home/gabriel/miniconda3/envs/pt_nlp/lib/python3.9/site-packages/requests/adapters.py\", line 440, in send\n",
      "    resp = conn.urlopen(\n",
      "  File \"/home/gabriel/miniconda3/envs/pt_nlp/lib/python3.9/site-packages/urllib3/connectionpool.py\", line 755, in urlopen\n",
      "    retries = retries.increment(\n",
      "  File \"/home/gabriel/miniconda3/envs/pt_nlp/lib/python3.9/site-packages/urllib3/util/retry.py\", line 532, in increment\n",
      "    raise six.reraise(type(error), error, _stacktrace)\n",
      "  File \"/home/gabriel/miniconda3/envs/pt_nlp/lib/python3.9/site-packages/urllib3/packages/six.py\", line 769, in reraise\n",
      "    raise value.with_traceback(tb)\n",
      "  File \"/home/gabriel/miniconda3/envs/pt_nlp/lib/python3.9/site-packages/urllib3/connectionpool.py\", line 699, in urlopen\n",
      "    httplib_response = self._make_request(\n",
      "  File \"/home/gabriel/miniconda3/envs/pt_nlp/lib/python3.9/site-packages/urllib3/connectionpool.py\", line 445, in _make_request\n",
      "    six.raise_from(e, None)\n",
      "  File \"<string>\", line 3, in raise_from\n",
      "  File \"/home/gabriel/miniconda3/envs/pt_nlp/lib/python3.9/site-packages/urllib3/connectionpool.py\", line 440, in _make_request\n",
      "    httplib_response = conn.getresponse()\n",
      "  File \"/home/gabriel/miniconda3/envs/pt_nlp/lib/python3.9/http/client.py\", line 1371, in getresponse\n",
      "    response.begin()\n",
      "  File \"/home/gabriel/miniconda3/envs/pt_nlp/lib/python3.9/http/client.py\", line 319, in begin\n",
      "    version, status, reason = self._read_status()\n",
      "  File \"/home/gabriel/miniconda3/envs/pt_nlp/lib/python3.9/http/client.py\", line 288, in _read_status\n",
      "    raise RemoteDisconnected(\"Remote end closed connection without\"\n",
      "urllib3.exceptions.ProtocolError: ('Connection aborted.', RemoteDisconnected('Remote end closed connection without response'))\n",
      "\n",
      "During handling of the above exception, another exception occurred:\n",
      "\n",
      "Traceback (most recent call last):\n",
      "  File \"/tmp/ipykernel_6102/253839466.py\", line 10, in build_dataset\n",
      "    data = requests.get(url)\n",
      "  File \"/home/gabriel/miniconda3/envs/pt_nlp/lib/python3.9/site-packages/requests/api.py\", line 75, in get\n",
      "    return request('get', url, params=params, **kwargs)\n",
      "  File \"/home/gabriel/miniconda3/envs/pt_nlp/lib/python3.9/site-packages/requests/api.py\", line 61, in request\n",
      "    return session.request(method=method, url=url, **kwargs)\n",
      "  File \"/home/gabriel/miniconda3/envs/pt_nlp/lib/python3.9/site-packages/requests/sessions.py\", line 529, in request\n",
      "    resp = self.send(prep, **send_kwargs)\n",
      "  File \"/home/gabriel/miniconda3/envs/pt_nlp/lib/python3.9/site-packages/requests/sessions.py\", line 645, in send\n",
      "    r = adapter.send(request, **kwargs)\n",
      "  File \"/home/gabriel/miniconda3/envs/pt_nlp/lib/python3.9/site-packages/requests/adapters.py\", line 501, in send\n",
      "    raise ConnectionError(err, request=request)\n",
      "requests.exceptions.ConnectionError: ('Connection aborted.', RemoteDisconnected('Remote end closed connection without response'))\n"
     ]
    },
    {
     "name": "stderr",
     "output_type": "stream",
     "text": [
      "ERROR:root:('Connection aborted.', RemoteDisconnected('Remote end closed connection without response'))\n",
      "Traceback (most recent call last):\n",
      "  File \"/home/gabriel/miniconda3/envs/pt_nlp/lib/python3.9/site-packages/urllib3/connectionpool.py\", line 699, in urlopen\n",
      "    httplib_response = self._make_request(\n",
      "  File \"/home/gabriel/miniconda3/envs/pt_nlp/lib/python3.9/site-packages/urllib3/connectionpool.py\", line 445, in _make_request\n",
      "    six.raise_from(e, None)\n",
      "  File \"<string>\", line 3, in raise_from\n",
      "  File \"/home/gabriel/miniconda3/envs/pt_nlp/lib/python3.9/site-packages/urllib3/connectionpool.py\", line 440, in _make_request\n",
      "    httplib_response = conn.getresponse()\n",
      "  File \"/home/gabriel/miniconda3/envs/pt_nlp/lib/python3.9/http/client.py\", line 1371, in getresponse\n",
      "    response.begin()\n",
      "  File \"/home/gabriel/miniconda3/envs/pt_nlp/lib/python3.9/http/client.py\", line 319, in begin\n",
      "    version, status, reason = self._read_status()\n",
      "  File \"/home/gabriel/miniconda3/envs/pt_nlp/lib/python3.9/http/client.py\", line 288, in _read_status\n",
      "    raise RemoteDisconnected(\"Remote end closed connection without\"\n",
      "http.client.RemoteDisconnected: Remote end closed connection without response\n",
      "\n",
      "During handling of the above exception, another exception occurred:\n",
      "\n",
      "Traceback (most recent call last):\n",
      "  File \"/home/gabriel/miniconda3/envs/pt_nlp/lib/python3.9/site-packages/requests/adapters.py\", line 440, in send\n",
      "    resp = conn.urlopen(\n",
      "  File \"/home/gabriel/miniconda3/envs/pt_nlp/lib/python3.9/site-packages/urllib3/connectionpool.py\", line 755, in urlopen\n",
      "    retries = retries.increment(\n",
      "  File \"/home/gabriel/miniconda3/envs/pt_nlp/lib/python3.9/site-packages/urllib3/util/retry.py\", line 532, in increment\n",
      "    raise six.reraise(type(error), error, _stacktrace)\n",
      "  File \"/home/gabriel/miniconda3/envs/pt_nlp/lib/python3.9/site-packages/urllib3/packages/six.py\", line 769, in reraise\n",
      "    raise value.with_traceback(tb)\n",
      "  File \"/home/gabriel/miniconda3/envs/pt_nlp/lib/python3.9/site-packages/urllib3/connectionpool.py\", line 699, in urlopen\n",
      "    httplib_response = self._make_request(\n",
      "  File \"/home/gabriel/miniconda3/envs/pt_nlp/lib/python3.9/site-packages/urllib3/connectionpool.py\", line 445, in _make_request\n",
      "    six.raise_from(e, None)\n",
      "  File \"<string>\", line 3, in raise_from\n",
      "  File \"/home/gabriel/miniconda3/envs/pt_nlp/lib/python3.9/site-packages/urllib3/connectionpool.py\", line 440, in _make_request\n",
      "    httplib_response = conn.getresponse()\n",
      "  File \"/home/gabriel/miniconda3/envs/pt_nlp/lib/python3.9/http/client.py\", line 1371, in getresponse\n",
      "    response.begin()\n",
      "  File \"/home/gabriel/miniconda3/envs/pt_nlp/lib/python3.9/http/client.py\", line 319, in begin\n",
      "    version, status, reason = self._read_status()\n",
      "  File \"/home/gabriel/miniconda3/envs/pt_nlp/lib/python3.9/http/client.py\", line 288, in _read_status\n",
      "    raise RemoteDisconnected(\"Remote end closed connection without\"\n",
      "urllib3.exceptions.ProtocolError: ('Connection aborted.', RemoteDisconnected('Remote end closed connection without response'))\n",
      "\n",
      "During handling of the above exception, another exception occurred:\n",
      "\n",
      "Traceback (most recent call last):\n",
      "  File \"/tmp/ipykernel_6102/253839466.py\", line 10, in build_dataset\n",
      "    data = requests.get(url)\n",
      "  File \"/home/gabriel/miniconda3/envs/pt_nlp/lib/python3.9/site-packages/requests/api.py\", line 75, in get\n",
      "    return request('get', url, params=params, **kwargs)\n",
      "  File \"/home/gabriel/miniconda3/envs/pt_nlp/lib/python3.9/site-packages/requests/api.py\", line 61, in request\n",
      "    return session.request(method=method, url=url, **kwargs)\n",
      "  File \"/home/gabriel/miniconda3/envs/pt_nlp/lib/python3.9/site-packages/requests/sessions.py\", line 529, in request\n",
      "    resp = self.send(prep, **send_kwargs)\n",
      "  File \"/home/gabriel/miniconda3/envs/pt_nlp/lib/python3.9/site-packages/requests/sessions.py\", line 645, in send\n",
      "    r = adapter.send(request, **kwargs)\n",
      "  File \"/home/gabriel/miniconda3/envs/pt_nlp/lib/python3.9/site-packages/requests/adapters.py\", line 501, in send\n",
      "    raise ConnectionError(err, request=request)\n",
      "requests.exceptions.ConnectionError: ('Connection aborted.', RemoteDisconnected('Remote end closed connection without response'))\n",
      "ERROR:root:('Connection aborted.', RemoteDisconnected('Remote end closed connection without response'))\n",
      "Traceback (most recent call last):\n",
      "  File \"/home/gabriel/miniconda3/envs/pt_nlp/lib/python3.9/site-packages/urllib3/connectionpool.py\", line 699, in urlopen\n",
      "    httplib_response = self._make_request(\n",
      "  File \"/home/gabriel/miniconda3/envs/pt_nlp/lib/python3.9/site-packages/urllib3/connectionpool.py\", line 445, in _make_request\n",
      "    six.raise_from(e, None)\n",
      "  File \"<string>\", line 3, in raise_from\n",
      "  File \"/home/gabriel/miniconda3/envs/pt_nlp/lib/python3.9/site-packages/urllib3/connectionpool.py\", line 440, in _make_request\n",
      "    httplib_response = conn.getresponse()\n",
      "  File \"/home/gabriel/miniconda3/envs/pt_nlp/lib/python3.9/http/client.py\", line 1371, in getresponse\n",
      "    response.begin()\n",
      "  File \"/home/gabriel/miniconda3/envs/pt_nlp/lib/python3.9/http/client.py\", line 319, in begin\n",
      "    version, status, reason = self._read_status()\n",
      "  File \"/home/gabriel/miniconda3/envs/pt_nlp/lib/python3.9/http/client.py\", line 288, in _read_status\n",
      "    raise RemoteDisconnected(\"Remote end closed connection without\"\n",
      "http.client.RemoteDisconnected: Remote end closed connection without response\n",
      "\n",
      "During handling of the above exception, another exception occurred:\n",
      "\n",
      "Traceback (most recent call last):\n",
      "  File \"/home/gabriel/miniconda3/envs/pt_nlp/lib/python3.9/site-packages/requests/adapters.py\", line 440, in send\n",
      "    resp = conn.urlopen(\n",
      "  File \"/home/gabriel/miniconda3/envs/pt_nlp/lib/python3.9/site-packages/urllib3/connectionpool.py\", line 755, in urlopen\n",
      "    retries = retries.increment(\n",
      "  File \"/home/gabriel/miniconda3/envs/pt_nlp/lib/python3.9/site-packages/urllib3/util/retry.py\", line 532, in increment\n",
      "    raise six.reraise(type(error), error, _stacktrace)\n",
      "  File \"/home/gabriel/miniconda3/envs/pt_nlp/lib/python3.9/site-packages/urllib3/packages/six.py\", line 769, in reraise\n",
      "    raise value.with_traceback(tb)\n",
      "  File \"/home/gabriel/miniconda3/envs/pt_nlp/lib/python3.9/site-packages/urllib3/connectionpool.py\", line 699, in urlopen\n",
      "    httplib_response = self._make_request(\n",
      "  File \"/home/gabriel/miniconda3/envs/pt_nlp/lib/python3.9/site-packages/urllib3/connectionpool.py\", line 445, in _make_request\n",
      "    six.raise_from(e, None)\n",
      "  File \"<string>\", line 3, in raise_from\n",
      "  File \"/home/gabriel/miniconda3/envs/pt_nlp/lib/python3.9/site-packages/urllib3/connectionpool.py\", line 440, in _make_request\n",
      "    httplib_response = conn.getresponse()\n",
      "  File \"/home/gabriel/miniconda3/envs/pt_nlp/lib/python3.9/http/client.py\", line 1371, in getresponse\n",
      "    response.begin()\n",
      "  File \"/home/gabriel/miniconda3/envs/pt_nlp/lib/python3.9/http/client.py\", line 319, in begin\n",
      "    version, status, reason = self._read_status()\n",
      "  File \"/home/gabriel/miniconda3/envs/pt_nlp/lib/python3.9/http/client.py\", line 288, in _read_status\n",
      "    raise RemoteDisconnected(\"Remote end closed connection without\"\n",
      "urllib3.exceptions.ProtocolError: ('Connection aborted.', RemoteDisconnected('Remote end closed connection without response'))\n",
      "\n",
      "During handling of the above exception, another exception occurred:\n",
      "\n",
      "Traceback (most recent call last):\n",
      "  File \"/tmp/ipykernel_6102/253839466.py\", line 10, in build_dataset\n",
      "    data = requests.get(url)\n",
      "  File \"/home/gabriel/miniconda3/envs/pt_nlp/lib/python3.9/site-packages/requests/api.py\", line 75, in get\n",
      "    return request('get', url, params=params, **kwargs)\n",
      "  File \"/home/gabriel/miniconda3/envs/pt_nlp/lib/python3.9/site-packages/requests/api.py\", line 61, in request\n",
      "    return session.request(method=method, url=url, **kwargs)\n",
      "  File \"/home/gabriel/miniconda3/envs/pt_nlp/lib/python3.9/site-packages/requests/sessions.py\", line 529, in request\n",
      "    resp = self.send(prep, **send_kwargs)\n",
      "  File \"/home/gabriel/miniconda3/envs/pt_nlp/lib/python3.9/site-packages/requests/sessions.py\", line 645, in send\n",
      "    r = adapter.send(request, **kwargs)\n",
      "  File \"/home/gabriel/miniconda3/envs/pt_nlp/lib/python3.9/site-packages/requests/adapters.py\", line 501, in send\n",
      "    raise ConnectionError(err, request=request)\n",
      "requests.exceptions.ConnectionError: ('Connection aborted.', RemoteDisconnected('Remote end closed connection without response'))\n"
     ]
    },
    {
     "name": "stderr",
     "output_type": "stream",
     "text": [
      "WARNING:urllib3.connection:Certificate did not match expected hostname: www.turquoise.co.uk. Certificate: {'subject': ((('countryName', 'US'),), (('stateOrProvinceName', 'California'),), (('localityName', 'San Francisco'),), (('organizationName', 'Cloudflare, Inc.'),), (('commonName', '*.myshopify.com'),)), 'issuer': ((('countryName', 'US'),), (('organizationName', 'Cloudflare, Inc.'),), (('commonName', 'Cloudflare Inc ECC CA-3'),)), 'version': 3, 'serialNumber': '08D14009B8CCFD7A28D460E790084A96', 'notBefore': 'Sep 13 00:00:00 2021 GMT', 'notAfter': 'Sep 12 23:59:59 2022 GMT', 'subjectAltName': (('DNS', 'myshopify.com'), ('DNS', '*.myshopify.com')), 'OCSP': ('http://ocsp.digicert.com',), 'caIssuers': ('http://cacerts.digicert.com/CloudflareIncECCCA-3.crt',), 'crlDistributionPoints': ('http://crl3.digicert.com/CloudflareIncECCCA-3.crl', 'http://crl4.digicert.com/CloudflareIncECCCA-3.crl')}\n",
      "ERROR:root:HTTPSConnectionPool(host='www.turquoise.co.uk', port=443): Max retries exceeded with url: /collections/walnut/products/walnut-glass-dining-table-h1096 (Caused by SSLError(SSLCertVerificationError(\"hostname 'www.turquoise.co.uk' doesn't match either of 'myshopify.com', '*.myshopify.com'\")))\n",
      "Traceback (most recent call last):\n",
      "  File \"/home/gabriel/miniconda3/envs/pt_nlp/lib/python3.9/site-packages/urllib3/connectionpool.py\", line 699, in urlopen\n",
      "    httplib_response = self._make_request(\n",
      "  File \"/home/gabriel/miniconda3/envs/pt_nlp/lib/python3.9/site-packages/urllib3/connectionpool.py\", line 382, in _make_request\n",
      "    self._validate_conn(conn)\n",
      "  File \"/home/gabriel/miniconda3/envs/pt_nlp/lib/python3.9/site-packages/urllib3/connectionpool.py\", line 1010, in _validate_conn\n",
      "    conn.connect()\n",
      "  File \"/home/gabriel/miniconda3/envs/pt_nlp/lib/python3.9/site-packages/urllib3/connection.py\", line 469, in connect\n",
      "    _match_hostname(cert, self.assert_hostname or server_hostname)\n",
      "  File \"/home/gabriel/miniconda3/envs/pt_nlp/lib/python3.9/site-packages/urllib3/connection.py\", line 542, in _match_hostname\n",
      "    match_hostname(cert, asserted_hostname)\n",
      "  File \"/home/gabriel/miniconda3/envs/pt_nlp/lib/python3.9/ssl.py\", line 416, in match_hostname\n",
      "    raise CertificateError(\"hostname %r \"\n",
      "ssl.SSLCertVerificationError: (\"hostname 'www.turquoise.co.uk' doesn't match either of 'myshopify.com', '*.myshopify.com'\",)\n",
      "\n",
      "During handling of the above exception, another exception occurred:\n",
      "\n",
      "Traceback (most recent call last):\n",
      "  File \"/home/gabriel/miniconda3/envs/pt_nlp/lib/python3.9/site-packages/requests/adapters.py\", line 440, in send\n",
      "    resp = conn.urlopen(\n",
      "  File \"/home/gabriel/miniconda3/envs/pt_nlp/lib/python3.9/site-packages/urllib3/connectionpool.py\", line 755, in urlopen\n",
      "    retries = retries.increment(\n",
      "  File \"/home/gabriel/miniconda3/envs/pt_nlp/lib/python3.9/site-packages/urllib3/util/retry.py\", line 574, in increment\n",
      "    raise MaxRetryError(_pool, url, error or ResponseError(cause))\n",
      "urllib3.exceptions.MaxRetryError: HTTPSConnectionPool(host='www.turquoise.co.uk', port=443): Max retries exceeded with url: /collections/walnut/products/walnut-glass-dining-table-h1096 (Caused by SSLError(SSLCertVerificationError(\"hostname 'www.turquoise.co.uk' doesn't match either of 'myshopify.com', '*.myshopify.com'\")))\n",
      "\n",
      "During handling of the above exception, another exception occurred:\n",
      "\n",
      "Traceback (most recent call last):\n",
      "  File \"/tmp/ipykernel_6102/253839466.py\", line 10, in build_dataset\n",
      "    data = requests.get(url)\n",
      "  File \"/home/gabriel/miniconda3/envs/pt_nlp/lib/python3.9/site-packages/requests/api.py\", line 75, in get\n",
      "    return request('get', url, params=params, **kwargs)\n",
      "  File \"/home/gabriel/miniconda3/envs/pt_nlp/lib/python3.9/site-packages/requests/api.py\", line 61, in request\n",
      "    return session.request(method=method, url=url, **kwargs)\n",
      "  File \"/home/gabriel/miniconda3/envs/pt_nlp/lib/python3.9/site-packages/requests/sessions.py\", line 529, in request\n",
      "    resp = self.send(prep, **send_kwargs)\n",
      "  File \"/home/gabriel/miniconda3/envs/pt_nlp/lib/python3.9/site-packages/requests/sessions.py\", line 645, in send\n",
      "    r = adapter.send(request, **kwargs)\n",
      "  File \"/home/gabriel/miniconda3/envs/pt_nlp/lib/python3.9/site-packages/requests/adapters.py\", line 517, in send\n",
      "    raise SSLError(e, request=request)\n",
      "requests.exceptions.SSLError: HTTPSConnectionPool(host='www.turquoise.co.uk', port=443): Max retries exceeded with url: /collections/walnut/products/walnut-glass-dining-table-h1096 (Caused by SSLError(SSLCertVerificationError(\"hostname 'www.turquoise.co.uk' doesn't match either of 'myshopify.com', '*.myshopify.com'\")))\n",
      "WARNING:urllib3.connection:Certificate did not match expected hostname: www.patiocottage.com. Certificate: {'subject': ((('countryName', 'US'),), (('stateOrProvinceName', 'California'),), (('localityName', 'San Francisco'),), (('organizationName', 'Cloudflare, Inc.'),), (('commonName', '*.myshopify.com'),)), 'issuer': ((('countryName', 'US'),), (('organizationName', 'Cloudflare, Inc.'),), (('commonName', 'Cloudflare Inc ECC CA-3'),)), 'version': 3, 'serialNumber': '08D14009B8CCFD7A28D460E790084A96', 'notBefore': 'Sep 13 00:00:00 2021 GMT', 'notAfter': 'Sep 12 23:59:59 2022 GMT', 'subjectAltName': (('DNS', 'myshopify.com'), ('DNS', '*.myshopify.com')), 'OCSP': ('http://ocsp.digicert.com',), 'caIssuers': ('http://cacerts.digicert.com/CloudflareIncECCCA-3.crt',), 'crlDistributionPoints': ('http://crl3.digicert.com/CloudflareIncECCCA-3.crl', 'http://crl4.digicert.com/CloudflareIncECCCA-3.crl')}\n",
      "ERROR:root:HTTPSConnectionPool(host='www.patiocottage.com', port=443): Max retries exceeded with url: /collections/patio-chairs/products/back-pack-chair (Caused by SSLError(SSLCertVerificationError(\"hostname 'www.patiocottage.com' doesn't match either of 'myshopify.com', '*.myshopify.com'\")))\n",
      "Traceback (most recent call last):\n",
      "  File \"/home/gabriel/miniconda3/envs/pt_nlp/lib/python3.9/site-packages/urllib3/connectionpool.py\", line 699, in urlopen\n",
      "    httplib_response = self._make_request(\n",
      "  File \"/home/gabriel/miniconda3/envs/pt_nlp/lib/python3.9/site-packages/urllib3/connectionpool.py\", line 382, in _make_request\n",
      "    self._validate_conn(conn)\n",
      "  File \"/home/gabriel/miniconda3/envs/pt_nlp/lib/python3.9/site-packages/urllib3/connectionpool.py\", line 1010, in _validate_conn\n",
      "    conn.connect()\n",
      "  File \"/home/gabriel/miniconda3/envs/pt_nlp/lib/python3.9/site-packages/urllib3/connection.py\", line 469, in connect\n",
      "    _match_hostname(cert, self.assert_hostname or server_hostname)\n",
      "  File \"/home/gabriel/miniconda3/envs/pt_nlp/lib/python3.9/site-packages/urllib3/connection.py\", line 542, in _match_hostname\n",
      "    match_hostname(cert, asserted_hostname)\n",
      "  File \"/home/gabriel/miniconda3/envs/pt_nlp/lib/python3.9/ssl.py\", line 416, in match_hostname\n",
      "    raise CertificateError(\"hostname %r \"\n",
      "ssl.SSLCertVerificationError: (\"hostname 'www.patiocottage.com' doesn't match either of 'myshopify.com', '*.myshopify.com'\",)\n",
      "\n",
      "During handling of the above exception, another exception occurred:\n",
      "\n",
      "Traceback (most recent call last):\n",
      "  File \"/home/gabriel/miniconda3/envs/pt_nlp/lib/python3.9/site-packages/requests/adapters.py\", line 440, in send\n",
      "    resp = conn.urlopen(\n",
      "  File \"/home/gabriel/miniconda3/envs/pt_nlp/lib/python3.9/site-packages/urllib3/connectionpool.py\", line 755, in urlopen\n",
      "    retries = retries.increment(\n",
      "  File \"/home/gabriel/miniconda3/envs/pt_nlp/lib/python3.9/site-packages/urllib3/util/retry.py\", line 574, in increment\n",
      "    raise MaxRetryError(_pool, url, error or ResponseError(cause))\n",
      "urllib3.exceptions.MaxRetryError: HTTPSConnectionPool(host='www.patiocottage.com', port=443): Max retries exceeded with url: /collections/patio-chairs/products/back-pack-chair (Caused by SSLError(SSLCertVerificationError(\"hostname 'www.patiocottage.com' doesn't match either of 'myshopify.com', '*.myshopify.com'\")))\n",
      "\n",
      "During handling of the above exception, another exception occurred:\n",
      "\n",
      "Traceback (most recent call last):\n",
      "  File \"/tmp/ipykernel_6102/253839466.py\", line 10, in build_dataset\n",
      "    data = requests.get(url)\n",
      "  File \"/home/gabriel/miniconda3/envs/pt_nlp/lib/python3.9/site-packages/requests/api.py\", line 75, in get\n",
      "    return request('get', url, params=params, **kwargs)\n",
      "  File \"/home/gabriel/miniconda3/envs/pt_nlp/lib/python3.9/site-packages/requests/api.py\", line 61, in request\n",
      "    return session.request(method=method, url=url, **kwargs)\n",
      "  File \"/home/gabriel/miniconda3/envs/pt_nlp/lib/python3.9/site-packages/requests/sessions.py\", line 529, in request\n",
      "    resp = self.send(prep, **send_kwargs)\n",
      "  File \"/home/gabriel/miniconda3/envs/pt_nlp/lib/python3.9/site-packages/requests/sessions.py\", line 645, in send\n",
      "    r = adapter.send(request, **kwargs)\n",
      "  File \"/home/gabriel/miniconda3/envs/pt_nlp/lib/python3.9/site-packages/requests/adapters.py\", line 517, in send\n",
      "    raise SSLError(e, request=request)\n",
      "requests.exceptions.SSLError: HTTPSConnectionPool(host='www.patiocottage.com', port=443): Max retries exceeded with url: /collections/patio-chairs/products/back-pack-chair (Caused by SSLError(SSLCertVerificationError(\"hostname 'www.patiocottage.com' doesn't match either of 'myshopify.com', '*.myshopify.com'\")))\n"
     ]
    },
    {
     "name": "stderr",
     "output_type": "stream",
     "text": [
      "WARNING:urllib3.connection:Certificate did not match expected hostname: www.eventsuber.com. Certificate: {'subject': ((('countryName', 'US'),), (('stateOrProvinceName', 'California'),), (('localityName', 'San Francisco'),), (('organizationName', 'Cloudflare, Inc.'),), (('commonName', '*.myshopify.com'),)), 'issuer': ((('countryName', 'US'),), (('organizationName', 'Cloudflare, Inc.'),), (('commonName', 'Cloudflare Inc ECC CA-3'),)), 'version': 3, 'serialNumber': '08D14009B8CCFD7A28D460E790084A96', 'notBefore': 'Sep 13 00:00:00 2021 GMT', 'notAfter': 'Sep 12 23:59:59 2022 GMT', 'subjectAltName': (('DNS', 'myshopify.com'), ('DNS', '*.myshopify.com')), 'OCSP': ('http://ocsp.digicert.com',), 'caIssuers': ('http://cacerts.digicert.com/CloudflareIncECCCA-3.crt',), 'crlDistributionPoints': ('http://crl3.digicert.com/CloudflareIncECCCA-3.crl', 'http://crl4.digicert.com/CloudflareIncECCCA-3.crl')}\n",
      "ERROR:root:HTTPSConnectionPool(host='www.eventsuber.com', port=443): Max retries exceeded with url: /products/resin-folding-chairs-vinyl-pad&text=1000%20lb.%20Capacity%20Resin%20Folding%20Chair%20w/%20Vinyl%20Padded%20Seat (Caused by SSLError(SSLCertVerificationError(\"hostname 'www.eventsuber.com' doesn't match either of 'myshopify.com', '*.myshopify.com'\")))\n",
      "Traceback (most recent call last):\n",
      "  File \"/home/gabriel/miniconda3/envs/pt_nlp/lib/python3.9/site-packages/urllib3/connectionpool.py\", line 699, in urlopen\n",
      "    httplib_response = self._make_request(\n",
      "  File \"/home/gabriel/miniconda3/envs/pt_nlp/lib/python3.9/site-packages/urllib3/connectionpool.py\", line 382, in _make_request\n",
      "    self._validate_conn(conn)\n",
      "  File \"/home/gabriel/miniconda3/envs/pt_nlp/lib/python3.9/site-packages/urllib3/connectionpool.py\", line 1010, in _validate_conn\n",
      "    conn.connect()\n",
      "  File \"/home/gabriel/miniconda3/envs/pt_nlp/lib/python3.9/site-packages/urllib3/connection.py\", line 469, in connect\n",
      "    _match_hostname(cert, self.assert_hostname or server_hostname)\n",
      "  File \"/home/gabriel/miniconda3/envs/pt_nlp/lib/python3.9/site-packages/urllib3/connection.py\", line 542, in _match_hostname\n",
      "    match_hostname(cert, asserted_hostname)\n",
      "  File \"/home/gabriel/miniconda3/envs/pt_nlp/lib/python3.9/ssl.py\", line 416, in match_hostname\n",
      "    raise CertificateError(\"hostname %r \"\n",
      "ssl.SSLCertVerificationError: (\"hostname 'www.eventsuber.com' doesn't match either of 'myshopify.com', '*.myshopify.com'\",)\n",
      "\n",
      "During handling of the above exception, another exception occurred:\n",
      "\n",
      "Traceback (most recent call last):\n",
      "  File \"/home/gabriel/miniconda3/envs/pt_nlp/lib/python3.9/site-packages/requests/adapters.py\", line 440, in send\n",
      "    resp = conn.urlopen(\n",
      "  File \"/home/gabriel/miniconda3/envs/pt_nlp/lib/python3.9/site-packages/urllib3/connectionpool.py\", line 755, in urlopen\n",
      "    retries = retries.increment(\n",
      "  File \"/home/gabriel/miniconda3/envs/pt_nlp/lib/python3.9/site-packages/urllib3/util/retry.py\", line 574, in increment\n",
      "    raise MaxRetryError(_pool, url, error or ResponseError(cause))\n",
      "urllib3.exceptions.MaxRetryError: HTTPSConnectionPool(host='www.eventsuber.com', port=443): Max retries exceeded with url: /products/resin-folding-chairs-vinyl-pad&text=1000%20lb.%20Capacity%20Resin%20Folding%20Chair%20w/%20Vinyl%20Padded%20Seat (Caused by SSLError(SSLCertVerificationError(\"hostname 'www.eventsuber.com' doesn't match either of 'myshopify.com', '*.myshopify.com'\")))\n",
      "\n",
      "During handling of the above exception, another exception occurred:\n",
      "\n",
      "Traceback (most recent call last):\n",
      "  File \"/tmp/ipykernel_6102/253839466.py\", line 10, in build_dataset\n",
      "    data = requests.get(url)\n",
      "  File \"/home/gabriel/miniconda3/envs/pt_nlp/lib/python3.9/site-packages/requests/api.py\", line 75, in get\n",
      "    return request('get', url, params=params, **kwargs)\n",
      "  File \"/home/gabriel/miniconda3/envs/pt_nlp/lib/python3.9/site-packages/requests/api.py\", line 61, in request\n",
      "    return session.request(method=method, url=url, **kwargs)\n",
      "  File \"/home/gabriel/miniconda3/envs/pt_nlp/lib/python3.9/site-packages/requests/sessions.py\", line 529, in request\n",
      "    resp = self.send(prep, **send_kwargs)\n",
      "  File \"/home/gabriel/miniconda3/envs/pt_nlp/lib/python3.9/site-packages/requests/sessions.py\", line 645, in send\n",
      "    r = adapter.send(request, **kwargs)\n",
      "  File \"/home/gabriel/miniconda3/envs/pt_nlp/lib/python3.9/site-packages/requests/adapters.py\", line 517, in send\n",
      "    raise SSLError(e, request=request)\n",
      "requests.exceptions.SSLError: HTTPSConnectionPool(host='www.eventsuber.com', port=443): Max retries exceeded with url: /products/resin-folding-chairs-vinyl-pad&text=1000%20lb.%20Capacity%20Resin%20Folding%20Chair%20w/%20Vinyl%20Padded%20Seat (Caused by SSLError(SSLCertVerificationError(\"hostname 'www.eventsuber.com' doesn't match either of 'myshopify.com', '*.myshopify.com'\")))\n",
      "ERROR:root:HTTPSConnectionPool(host='www.modernisedliving.com.au', port=443): Max retries exceeded with url: /products/3-sets-tank-pots-grey (Caused by NewConnectionError('<urllib3.connection.HTTPSConnection object at 0x7f1724940430>: Failed to establish a new connection: [Errno -2] Name or service not known'))\n",
      "Traceback (most recent call last):\n",
      "  File \"/home/gabriel/miniconda3/envs/pt_nlp/lib/python3.9/site-packages/urllib3/connection.py\", line 174, in _new_conn\n",
      "    conn = connection.create_connection(\n",
      "  File \"/home/gabriel/miniconda3/envs/pt_nlp/lib/python3.9/site-packages/urllib3/util/connection.py\", line 73, in create_connection\n",
      "    for res in socket.getaddrinfo(host, port, family, socket.SOCK_STREAM):\n",
      "  File \"/home/gabriel/miniconda3/envs/pt_nlp/lib/python3.9/socket.py\", line 954, in getaddrinfo\n",
      "    for res in _socket.getaddrinfo(host, port, family, type, proto, flags):\n",
      "socket.gaierror: [Errno -2] Name or service not known\n",
      "\n",
      "During handling of the above exception, another exception occurred:\n",
      "\n",
      "Traceback (most recent call last):\n",
      "  File \"/home/gabriel/miniconda3/envs/pt_nlp/lib/python3.9/site-packages/urllib3/connectionpool.py\", line 699, in urlopen\n",
      "    httplib_response = self._make_request(\n",
      "  File \"/home/gabriel/miniconda3/envs/pt_nlp/lib/python3.9/site-packages/urllib3/connectionpool.py\", line 382, in _make_request\n",
      "    self._validate_conn(conn)\n",
      "  File \"/home/gabriel/miniconda3/envs/pt_nlp/lib/python3.9/site-packages/urllib3/connectionpool.py\", line 1010, in _validate_conn\n",
      "    conn.connect()\n",
      "  File \"/home/gabriel/miniconda3/envs/pt_nlp/lib/python3.9/site-packages/urllib3/connection.py\", line 358, in connect\n",
      "    conn = self._new_conn()\n",
      "  File \"/home/gabriel/miniconda3/envs/pt_nlp/lib/python3.9/site-packages/urllib3/connection.py\", line 186, in _new_conn\n",
      "    raise NewConnectionError(\n",
      "urllib3.exceptions.NewConnectionError: <urllib3.connection.HTTPSConnection object at 0x7f1724940430>: Failed to establish a new connection: [Errno -2] Name or service not known\n",
      "\n",
      "During handling of the above exception, another exception occurred:\n",
      "\n",
      "Traceback (most recent call last):\n",
      "  File \"/home/gabriel/miniconda3/envs/pt_nlp/lib/python3.9/site-packages/requests/adapters.py\", line 440, in send\n",
      "    resp = conn.urlopen(\n",
      "  File \"/home/gabriel/miniconda3/envs/pt_nlp/lib/python3.9/site-packages/urllib3/connectionpool.py\", line 755, in urlopen\n",
      "    retries = retries.increment(\n",
      "  File \"/home/gabriel/miniconda3/envs/pt_nlp/lib/python3.9/site-packages/urllib3/util/retry.py\", line 574, in increment\n",
      "    raise MaxRetryError(_pool, url, error or ResponseError(cause))\n",
      "urllib3.exceptions.MaxRetryError: HTTPSConnectionPool(host='www.modernisedliving.com.au', port=443): Max retries exceeded with url: /products/3-sets-tank-pots-grey (Caused by NewConnectionError('<urllib3.connection.HTTPSConnection object at 0x7f1724940430>: Failed to establish a new connection: [Errno -2] Name or service not known'))\n",
      "\n",
      "During handling of the above exception, another exception occurred:\n",
      "\n",
      "Traceback (most recent call last):\n",
      "  File \"/tmp/ipykernel_6102/253839466.py\", line 10, in build_dataset\n",
      "    data = requests.get(url)\n",
      "  File \"/home/gabriel/miniconda3/envs/pt_nlp/lib/python3.9/site-packages/requests/api.py\", line 75, in get\n",
      "    return request('get', url, params=params, **kwargs)\n",
      "  File \"/home/gabriel/miniconda3/envs/pt_nlp/lib/python3.9/site-packages/requests/api.py\", line 61, in request\n",
      "    return session.request(method=method, url=url, **kwargs)\n",
      "  File \"/home/gabriel/miniconda3/envs/pt_nlp/lib/python3.9/site-packages/requests/sessions.py\", line 529, in request\n",
      "    resp = self.send(prep, **send_kwargs)\n",
      "  File \"/home/gabriel/miniconda3/envs/pt_nlp/lib/python3.9/site-packages/requests/sessions.py\", line 645, in send\n",
      "    r = adapter.send(request, **kwargs)\n",
      "  File \"/home/gabriel/miniconda3/envs/pt_nlp/lib/python3.9/site-packages/requests/adapters.py\", line 519, in send\n",
      "    raise ConnectionError(e, request=request)\n",
      "requests.exceptions.ConnectionError: HTTPSConnectionPool(host='www.modernisedliving.com.au', port=443): Max retries exceeded with url: /products/3-sets-tank-pots-grey (Caused by NewConnectionError('<urllib3.connection.HTTPSConnection object at 0x7f1724940430>: Failed to establish a new connection: [Errno -2] Name or service not known'))\n"
     ]
    },
    {
     "name": "stderr",
     "output_type": "stream",
     "text": [
      "ERROR:root:HTTPSConnectionPool(host='coastalhomecollective.com.au', port=443): Max retries exceeded with url: /products/wooden-tray (Caused by NewConnectionError('<urllib3.connection.HTTPSConnection object at 0x7f1723645be0>: Failed to establish a new connection: [Errno -2] Name or service not known'))\n",
      "Traceback (most recent call last):\n",
      "  File \"/home/gabriel/miniconda3/envs/pt_nlp/lib/python3.9/site-packages/urllib3/connection.py\", line 174, in _new_conn\n",
      "    conn = connection.create_connection(\n",
      "  File \"/home/gabriel/miniconda3/envs/pt_nlp/lib/python3.9/site-packages/urllib3/util/connection.py\", line 73, in create_connection\n",
      "    for res in socket.getaddrinfo(host, port, family, socket.SOCK_STREAM):\n",
      "  File \"/home/gabriel/miniconda3/envs/pt_nlp/lib/python3.9/socket.py\", line 954, in getaddrinfo\n",
      "    for res in _socket.getaddrinfo(host, port, family, type, proto, flags):\n",
      "socket.gaierror: [Errno -2] Name or service not known\n",
      "\n",
      "During handling of the above exception, another exception occurred:\n",
      "\n",
      "Traceback (most recent call last):\n",
      "  File \"/home/gabriel/miniconda3/envs/pt_nlp/lib/python3.9/site-packages/urllib3/connectionpool.py\", line 699, in urlopen\n",
      "    httplib_response = self._make_request(\n",
      "  File \"/home/gabriel/miniconda3/envs/pt_nlp/lib/python3.9/site-packages/urllib3/connectionpool.py\", line 382, in _make_request\n",
      "    self._validate_conn(conn)\n",
      "  File \"/home/gabriel/miniconda3/envs/pt_nlp/lib/python3.9/site-packages/urllib3/connectionpool.py\", line 1010, in _validate_conn\n",
      "    conn.connect()\n",
      "  File \"/home/gabriel/miniconda3/envs/pt_nlp/lib/python3.9/site-packages/urllib3/connection.py\", line 358, in connect\n",
      "    conn = self._new_conn()\n",
      "  File \"/home/gabriel/miniconda3/envs/pt_nlp/lib/python3.9/site-packages/urllib3/connection.py\", line 186, in _new_conn\n",
      "    raise NewConnectionError(\n",
      "urllib3.exceptions.NewConnectionError: <urllib3.connection.HTTPSConnection object at 0x7f1723645be0>: Failed to establish a new connection: [Errno -2] Name or service not known\n",
      "\n",
      "During handling of the above exception, another exception occurred:\n",
      "\n",
      "Traceback (most recent call last):\n",
      "  File \"/home/gabriel/miniconda3/envs/pt_nlp/lib/python3.9/site-packages/requests/adapters.py\", line 440, in send\n",
      "    resp = conn.urlopen(\n",
      "  File \"/home/gabriel/miniconda3/envs/pt_nlp/lib/python3.9/site-packages/urllib3/connectionpool.py\", line 755, in urlopen\n",
      "    retries = retries.increment(\n",
      "  File \"/home/gabriel/miniconda3/envs/pt_nlp/lib/python3.9/site-packages/urllib3/util/retry.py\", line 574, in increment\n",
      "    raise MaxRetryError(_pool, url, error or ResponseError(cause))\n",
      "urllib3.exceptions.MaxRetryError: HTTPSConnectionPool(host='coastalhomecollective.com.au', port=443): Max retries exceeded with url: /products/wooden-tray (Caused by NewConnectionError('<urllib3.connection.HTTPSConnection object at 0x7f1723645be0>: Failed to establish a new connection: [Errno -2] Name or service not known'))\n",
      "\n",
      "During handling of the above exception, another exception occurred:\n",
      "\n",
      "Traceback (most recent call last):\n",
      "  File \"/tmp/ipykernel_6102/253839466.py\", line 10, in build_dataset\n",
      "    data = requests.get(url)\n",
      "  File \"/home/gabriel/miniconda3/envs/pt_nlp/lib/python3.9/site-packages/requests/api.py\", line 75, in get\n",
      "    return request('get', url, params=params, **kwargs)\n",
      "  File \"/home/gabriel/miniconda3/envs/pt_nlp/lib/python3.9/site-packages/requests/api.py\", line 61, in request\n",
      "    return session.request(method=method, url=url, **kwargs)\n",
      "  File \"/home/gabriel/miniconda3/envs/pt_nlp/lib/python3.9/site-packages/requests/sessions.py\", line 529, in request\n",
      "    resp = self.send(prep, **send_kwargs)\n",
      "  File \"/home/gabriel/miniconda3/envs/pt_nlp/lib/python3.9/site-packages/requests/sessions.py\", line 645, in send\n",
      "    r = adapter.send(request, **kwargs)\n",
      "  File \"/home/gabriel/miniconda3/envs/pt_nlp/lib/python3.9/site-packages/requests/adapters.py\", line 519, in send\n",
      "    raise ConnectionError(e, request=request)\n",
      "requests.exceptions.ConnectionError: HTTPSConnectionPool(host='coastalhomecollective.com.au', port=443): Max retries exceeded with url: /products/wooden-tray (Caused by NewConnectionError('<urllib3.connection.HTTPSConnection object at 0x7f1723645be0>: Failed to establish a new connection: [Errno -2] Name or service not known'))\n",
      "WARNING:urllib3.connection:Certificate did not match expected hostname: www.imfurniturestore.com. Certificate: {'subject': ((('countryName', 'US'),), (('stateOrProvinceName', 'California'),), (('localityName', 'San Francisco'),), (('organizationName', 'Cloudflare, Inc.'),), (('commonName', '*.myshopify.com'),)), 'issuer': ((('countryName', 'US'),), (('organizationName', 'Cloudflare, Inc.'),), (('commonName', 'Cloudflare Inc ECC CA-3'),)), 'version': 3, 'serialNumber': '08D14009B8CCFD7A28D460E790084A96', 'notBefore': 'Sep 13 00:00:00 2021 GMT', 'notAfter': 'Sep 12 23:59:59 2022 GMT', 'subjectAltName': (('DNS', 'myshopify.com'), ('DNS', '*.myshopify.com')), 'OCSP': ('http://ocsp.digicert.com',), 'caIssuers': ('http://cacerts.digicert.com/CloudflareIncECCCA-3.crt',), 'crlDistributionPoints': ('http://crl3.digicert.com/CloudflareIncECCCA-3.crl', 'http://crl4.digicert.com/CloudflareIncECCCA-3.crl')}\n",
      "ERROR:root:HTTPSConnectionPool(host='www.imfurniturestore.com', port=443): Max retries exceeded with url: /products/sofa (Caused by SSLError(SSLCertVerificationError(\"hostname 'www.imfurniturestore.com' doesn't match either of 'myshopify.com', '*.myshopify.com'\")))\n",
      "Traceback (most recent call last):\n",
      "  File \"/home/gabriel/miniconda3/envs/pt_nlp/lib/python3.9/site-packages/urllib3/connectionpool.py\", line 699, in urlopen\n",
      "    httplib_response = self._make_request(\n",
      "  File \"/home/gabriel/miniconda3/envs/pt_nlp/lib/python3.9/site-packages/urllib3/connectionpool.py\", line 382, in _make_request\n",
      "    self._validate_conn(conn)\n",
      "  File \"/home/gabriel/miniconda3/envs/pt_nlp/lib/python3.9/site-packages/urllib3/connectionpool.py\", line 1010, in _validate_conn\n",
      "    conn.connect()\n",
      "  File \"/home/gabriel/miniconda3/envs/pt_nlp/lib/python3.9/site-packages/urllib3/connection.py\", line 469, in connect\n",
      "    _match_hostname(cert, self.assert_hostname or server_hostname)\n",
      "  File \"/home/gabriel/miniconda3/envs/pt_nlp/lib/python3.9/site-packages/urllib3/connection.py\", line 542, in _match_hostname\n",
      "    match_hostname(cert, asserted_hostname)\n",
      "  File \"/home/gabriel/miniconda3/envs/pt_nlp/lib/python3.9/ssl.py\", line 416, in match_hostname\n",
      "    raise CertificateError(\"hostname %r \"\n",
      "ssl.SSLCertVerificationError: (\"hostname 'www.imfurniturestore.com' doesn't match either of 'myshopify.com', '*.myshopify.com'\",)\n",
      "\n",
      "During handling of the above exception, another exception occurred:\n",
      "\n",
      "Traceback (most recent call last):\n",
      "  File \"/home/gabriel/miniconda3/envs/pt_nlp/lib/python3.9/site-packages/requests/adapters.py\", line 440, in send\n",
      "    resp = conn.urlopen(\n",
      "  File \"/home/gabriel/miniconda3/envs/pt_nlp/lib/python3.9/site-packages/urllib3/connectionpool.py\", line 755, in urlopen\n",
      "    retries = retries.increment(\n",
      "  File \"/home/gabriel/miniconda3/envs/pt_nlp/lib/python3.9/site-packages/urllib3/util/retry.py\", line 574, in increment\n",
      "    raise MaxRetryError(_pool, url, error or ResponseError(cause))\n",
      "urllib3.exceptions.MaxRetryError: HTTPSConnectionPool(host='www.imfurniturestore.com', port=443): Max retries exceeded with url: /products/sofa (Caused by SSLError(SSLCertVerificationError(\"hostname 'www.imfurniturestore.com' doesn't match either of 'myshopify.com', '*.myshopify.com'\")))\n",
      "\n",
      "During handling of the above exception, another exception occurred:\n",
      "\n",
      "Traceback (most recent call last):\n",
      "  File \"/tmp/ipykernel_6102/253839466.py\", line 10, in build_dataset\n",
      "    data = requests.get(url)\n",
      "  File \"/home/gabriel/miniconda3/envs/pt_nlp/lib/python3.9/site-packages/requests/api.py\", line 75, in get\n",
      "    return request('get', url, params=params, **kwargs)\n",
      "  File \"/home/gabriel/miniconda3/envs/pt_nlp/lib/python3.9/site-packages/requests/api.py\", line 61, in request\n",
      "    return session.request(method=method, url=url, **kwargs)\n",
      "  File \"/home/gabriel/miniconda3/envs/pt_nlp/lib/python3.9/site-packages/requests/sessions.py\", line 529, in request\n",
      "    resp = self.send(prep, **send_kwargs)\n",
      "  File \"/home/gabriel/miniconda3/envs/pt_nlp/lib/python3.9/site-packages/requests/sessions.py\", line 645, in send\n",
      "    r = adapter.send(request, **kwargs)\n",
      "  File \"/home/gabriel/miniconda3/envs/pt_nlp/lib/python3.9/site-packages/requests/adapters.py\", line 517, in send\n",
      "    raise SSLError(e, request=request)\n",
      "requests.exceptions.SSLError: HTTPSConnectionPool(host='www.imfurniturestore.com', port=443): Max retries exceeded with url: /products/sofa (Caused by SSLError(SSLCertVerificationError(\"hostname 'www.imfurniturestore.com' doesn't match either of 'myshopify.com', '*.myshopify.com'\")))\n"
     ]
    },
    {
     "name": "stderr",
     "output_type": "stream",
     "text": [
      "WARNING:urllib3.connection:Certificate did not match expected hostname: www.soleilcollective.com. Certificate: {'subject': ((('countryName', 'US'),), (('stateOrProvinceName', 'California'),), (('localityName', 'San Francisco'),), (('organizationName', 'Cloudflare, Inc.'),), (('commonName', '*.myshopify.com'),)), 'issuer': ((('countryName', 'US'),), (('organizationName', 'Cloudflare, Inc.'),), (('commonName', 'Cloudflare Inc ECC CA-3'),)), 'version': 3, 'serialNumber': '08D14009B8CCFD7A28D460E790084A96', 'notBefore': 'Sep 13 00:00:00 2021 GMT', 'notAfter': 'Sep 12 23:59:59 2022 GMT', 'subjectAltName': (('DNS', 'myshopify.com'), ('DNS', '*.myshopify.com')), 'OCSP': ('http://ocsp.digicert.com',), 'caIssuers': ('http://cacerts.digicert.com/CloudflareIncECCCA-3.crt',), 'crlDistributionPoints': ('http://crl3.digicert.com/CloudflareIncECCCA-3.crl', 'http://crl4.digicert.com/CloudflareIncECCCA-3.crl')}\n",
      "ERROR:root:HTTPSConnectionPool(host='www.soleilcollective.com', port=443): Max retries exceeded with url: /collections/beds/products/driade-edward-i-double-panel-bed (Caused by SSLError(SSLCertVerificationError(\"hostname 'www.soleilcollective.com' doesn't match either of 'myshopify.com', '*.myshopify.com'\")))\n",
      "Traceback (most recent call last):\n",
      "  File \"/home/gabriel/miniconda3/envs/pt_nlp/lib/python3.9/site-packages/urllib3/connectionpool.py\", line 699, in urlopen\n",
      "    httplib_response = self._make_request(\n",
      "  File \"/home/gabriel/miniconda3/envs/pt_nlp/lib/python3.9/site-packages/urllib3/connectionpool.py\", line 382, in _make_request\n",
      "    self._validate_conn(conn)\n",
      "  File \"/home/gabriel/miniconda3/envs/pt_nlp/lib/python3.9/site-packages/urllib3/connectionpool.py\", line 1010, in _validate_conn\n",
      "    conn.connect()\n",
      "  File \"/home/gabriel/miniconda3/envs/pt_nlp/lib/python3.9/site-packages/urllib3/connection.py\", line 469, in connect\n",
      "    _match_hostname(cert, self.assert_hostname or server_hostname)\n",
      "  File \"/home/gabriel/miniconda3/envs/pt_nlp/lib/python3.9/site-packages/urllib3/connection.py\", line 542, in _match_hostname\n",
      "    match_hostname(cert, asserted_hostname)\n",
      "  File \"/home/gabriel/miniconda3/envs/pt_nlp/lib/python3.9/ssl.py\", line 416, in match_hostname\n",
      "    raise CertificateError(\"hostname %r \"\n",
      "ssl.SSLCertVerificationError: (\"hostname 'www.soleilcollective.com' doesn't match either of 'myshopify.com', '*.myshopify.com'\",)\n",
      "\n",
      "During handling of the above exception, another exception occurred:\n",
      "\n",
      "Traceback (most recent call last):\n",
      "  File \"/home/gabriel/miniconda3/envs/pt_nlp/lib/python3.9/site-packages/requests/adapters.py\", line 440, in send\n",
      "    resp = conn.urlopen(\n",
      "  File \"/home/gabriel/miniconda3/envs/pt_nlp/lib/python3.9/site-packages/urllib3/connectionpool.py\", line 755, in urlopen\n",
      "    retries = retries.increment(\n",
      "  File \"/home/gabriel/miniconda3/envs/pt_nlp/lib/python3.9/site-packages/urllib3/util/retry.py\", line 574, in increment\n",
      "    raise MaxRetryError(_pool, url, error or ResponseError(cause))\n",
      "urllib3.exceptions.MaxRetryError: HTTPSConnectionPool(host='www.soleilcollective.com', port=443): Max retries exceeded with url: /collections/beds/products/driade-edward-i-double-panel-bed (Caused by SSLError(SSLCertVerificationError(\"hostname 'www.soleilcollective.com' doesn't match either of 'myshopify.com', '*.myshopify.com'\")))\n",
      "\n",
      "During handling of the above exception, another exception occurred:\n",
      "\n",
      "Traceback (most recent call last):\n",
      "  File \"/tmp/ipykernel_6102/253839466.py\", line 10, in build_dataset\n",
      "    data = requests.get(url)\n",
      "  File \"/home/gabriel/miniconda3/envs/pt_nlp/lib/python3.9/site-packages/requests/api.py\", line 75, in get\n",
      "    return request('get', url, params=params, **kwargs)\n",
      "  File \"/home/gabriel/miniconda3/envs/pt_nlp/lib/python3.9/site-packages/requests/api.py\", line 61, in request\n",
      "    return session.request(method=method, url=url, **kwargs)\n",
      "  File \"/home/gabriel/miniconda3/envs/pt_nlp/lib/python3.9/site-packages/requests/sessions.py\", line 529, in request\n",
      "    resp = self.send(prep, **send_kwargs)\n",
      "  File \"/home/gabriel/miniconda3/envs/pt_nlp/lib/python3.9/site-packages/requests/sessions.py\", line 645, in send\n",
      "    r = adapter.send(request, **kwargs)\n",
      "  File \"/home/gabriel/miniconda3/envs/pt_nlp/lib/python3.9/site-packages/requests/adapters.py\", line 517, in send\n",
      "    raise SSLError(e, request=request)\n",
      "requests.exceptions.SSLError: HTTPSConnectionPool(host='www.soleilcollective.com', port=443): Max retries exceeded with url: /collections/beds/products/driade-edward-i-double-panel-bed (Caused by SSLError(SSLCertVerificationError(\"hostname 'www.soleilcollective.com' doesn't match either of 'myshopify.com', '*.myshopify.com'\")))\n",
      "WARNING:urllib3.connection:Certificate did not match expected hostname: www.valaray.com. Certificate: {'subject': ((('countryName', 'US'),), (('stateOrProvinceName', 'California'),), (('localityName', 'San Francisco'),), (('organizationName', 'Cloudflare, Inc.'),), (('commonName', '*.myshopify.com'),)), 'issuer': ((('countryName', 'US'),), (('organizationName', 'Cloudflare, Inc.'),), (('commonName', 'Cloudflare Inc ECC CA-3'),)), 'version': 3, 'serialNumber': '08D14009B8CCFD7A28D460E790084A96', 'notBefore': 'Sep 13 00:00:00 2021 GMT', 'notAfter': 'Sep 12 23:59:59 2022 GMT', 'subjectAltName': (('DNS', 'myshopify.com'), ('DNS', '*.myshopify.com')), 'OCSP': ('http://ocsp.digicert.com',), 'caIssuers': ('http://cacerts.digicert.com/CloudflareIncECCCA-3.crt',), 'crlDistributionPoints': ('http://crl3.digicert.com/CloudflareIncECCCA-3.crl', 'http://crl4.digicert.com/CloudflareIncECCCA-3.crl')}\n",
      "ERROR:root:HTTPSConnectionPool(host='www.valaray.com', port=443): Max retries exceeded with url: /collections/all/products/scandormi-sofa (Caused by SSLError(SSLCertVerificationError(\"hostname 'www.valaray.com' doesn't match either of 'myshopify.com', '*.myshopify.com'\")))\n",
      "Traceback (most recent call last):\n",
      "  File \"/home/gabriel/miniconda3/envs/pt_nlp/lib/python3.9/site-packages/urllib3/connectionpool.py\", line 699, in urlopen\n",
      "    httplib_response = self._make_request(\n",
      "  File \"/home/gabriel/miniconda3/envs/pt_nlp/lib/python3.9/site-packages/urllib3/connectionpool.py\", line 382, in _make_request\n",
      "    self._validate_conn(conn)\n",
      "  File \"/home/gabriel/miniconda3/envs/pt_nlp/lib/python3.9/site-packages/urllib3/connectionpool.py\", line 1010, in _validate_conn\n",
      "    conn.connect()\n",
      "  File \"/home/gabriel/miniconda3/envs/pt_nlp/lib/python3.9/site-packages/urllib3/connection.py\", line 469, in connect\n",
      "    _match_hostname(cert, self.assert_hostname or server_hostname)\n",
      "  File \"/home/gabriel/miniconda3/envs/pt_nlp/lib/python3.9/site-packages/urllib3/connection.py\", line 542, in _match_hostname\n",
      "    match_hostname(cert, asserted_hostname)\n",
      "  File \"/home/gabriel/miniconda3/envs/pt_nlp/lib/python3.9/ssl.py\", line 416, in match_hostname\n",
      "    raise CertificateError(\"hostname %r \"\n",
      "ssl.SSLCertVerificationError: (\"hostname 'www.valaray.com' doesn't match either of 'myshopify.com', '*.myshopify.com'\",)\n",
      "\n",
      "During handling of the above exception, another exception occurred:\n",
      "\n",
      "Traceback (most recent call last):\n",
      "  File \"/home/gabriel/miniconda3/envs/pt_nlp/lib/python3.9/site-packages/requests/adapters.py\", line 440, in send\n",
      "    resp = conn.urlopen(\n",
      "  File \"/home/gabriel/miniconda3/envs/pt_nlp/lib/python3.9/site-packages/urllib3/connectionpool.py\", line 755, in urlopen\n",
      "    retries = retries.increment(\n",
      "  File \"/home/gabriel/miniconda3/envs/pt_nlp/lib/python3.9/site-packages/urllib3/util/retry.py\", line 574, in increment\n",
      "    raise MaxRetryError(_pool, url, error or ResponseError(cause))\n",
      "urllib3.exceptions.MaxRetryError: HTTPSConnectionPool(host='www.valaray.com', port=443): Max retries exceeded with url: /collections/all/products/scandormi-sofa (Caused by SSLError(SSLCertVerificationError(\"hostname 'www.valaray.com' doesn't match either of 'myshopify.com', '*.myshopify.com'\")))\n",
      "\n",
      "During handling of the above exception, another exception occurred:\n",
      "\n",
      "Traceback (most recent call last):\n",
      "  File \"/tmp/ipykernel_6102/253839466.py\", line 10, in build_dataset\n",
      "    data = requests.get(url)\n",
      "  File \"/home/gabriel/miniconda3/envs/pt_nlp/lib/python3.9/site-packages/requests/api.py\", line 75, in get\n",
      "    return request('get', url, params=params, **kwargs)\n",
      "  File \"/home/gabriel/miniconda3/envs/pt_nlp/lib/python3.9/site-packages/requests/api.py\", line 61, in request\n",
      "    return session.request(method=method, url=url, **kwargs)\n",
      "  File \"/home/gabriel/miniconda3/envs/pt_nlp/lib/python3.9/site-packages/requests/sessions.py\", line 529, in request\n",
      "    resp = self.send(prep, **send_kwargs)\n",
      "  File \"/home/gabriel/miniconda3/envs/pt_nlp/lib/python3.9/site-packages/requests/sessions.py\", line 645, in send\n",
      "    r = adapter.send(request, **kwargs)\n",
      "  File \"/home/gabriel/miniconda3/envs/pt_nlp/lib/python3.9/site-packages/requests/adapters.py\", line 517, in send\n",
      "    raise SSLError(e, request=request)\n",
      "requests.exceptions.SSLError: HTTPSConnectionPool(host='www.valaray.com', port=443): Max retries exceeded with url: /collections/all/products/scandormi-sofa (Caused by SSLError(SSLCertVerificationError(\"hostname 'www.valaray.com' doesn't match either of 'myshopify.com', '*.myshopify.com'\")))\n"
     ]
    },
    {
     "name": "stderr",
     "output_type": "stream",
     "text": [
      "WARNING:urllib3.connection:Certificate did not match expected hostname: empirefurniture.co.nz. Certificate: {'subject': ((('countryName', 'US'),), (('stateOrProvinceName', 'California'),), (('localityName', 'San Francisco'),), (('organizationName', 'Cloudflare, Inc.'),), (('commonName', '*.myshopify.com'),)), 'issuer': ((('countryName', 'US'),), (('organizationName', 'Cloudflare, Inc.'),), (('commonName', 'Cloudflare Inc ECC CA-3'),)), 'version': 3, 'serialNumber': '08D14009B8CCFD7A28D460E790084A96', 'notBefore': 'Sep 13 00:00:00 2021 GMT', 'notAfter': 'Sep 12 23:59:59 2022 GMT', 'subjectAltName': (('DNS', 'myshopify.com'), ('DNS', '*.myshopify.com')), 'OCSP': ('http://ocsp.digicert.com',), 'caIssuers': ('http://cacerts.digicert.com/CloudflareIncECCCA-3.crt',), 'crlDistributionPoints': ('http://crl3.digicert.com/CloudflareIncECCCA-3.crl', 'http://crl4.digicert.com/CloudflareIncECCCA-3.crl')}\n",
      "ERROR:root:HTTPSConnectionPool(host='empirefurniture.co.nz', port=443): Max retries exceeded with url: /products/recliner-lounge-suite (Caused by SSLError(SSLCertVerificationError(\"hostname 'empirefurniture.co.nz' doesn't match either of 'myshopify.com', '*.myshopify.com'\")))\n",
      "Traceback (most recent call last):\n",
      "  File \"/home/gabriel/miniconda3/envs/pt_nlp/lib/python3.9/site-packages/urllib3/connectionpool.py\", line 699, in urlopen\n",
      "    httplib_response = self._make_request(\n",
      "  File \"/home/gabriel/miniconda3/envs/pt_nlp/lib/python3.9/site-packages/urllib3/connectionpool.py\", line 382, in _make_request\n",
      "    self._validate_conn(conn)\n",
      "  File \"/home/gabriel/miniconda3/envs/pt_nlp/lib/python3.9/site-packages/urllib3/connectionpool.py\", line 1010, in _validate_conn\n",
      "    conn.connect()\n",
      "  File \"/home/gabriel/miniconda3/envs/pt_nlp/lib/python3.9/site-packages/urllib3/connection.py\", line 469, in connect\n",
      "    _match_hostname(cert, self.assert_hostname or server_hostname)\n",
      "  File \"/home/gabriel/miniconda3/envs/pt_nlp/lib/python3.9/site-packages/urllib3/connection.py\", line 542, in _match_hostname\n",
      "    match_hostname(cert, asserted_hostname)\n",
      "  File \"/home/gabriel/miniconda3/envs/pt_nlp/lib/python3.9/ssl.py\", line 416, in match_hostname\n",
      "    raise CertificateError(\"hostname %r \"\n",
      "ssl.SSLCertVerificationError: (\"hostname 'empirefurniture.co.nz' doesn't match either of 'myshopify.com', '*.myshopify.com'\",)\n",
      "\n",
      "During handling of the above exception, another exception occurred:\n",
      "\n",
      "Traceback (most recent call last):\n",
      "  File \"/home/gabriel/miniconda3/envs/pt_nlp/lib/python3.9/site-packages/requests/adapters.py\", line 440, in send\n",
      "    resp = conn.urlopen(\n",
      "  File \"/home/gabriel/miniconda3/envs/pt_nlp/lib/python3.9/site-packages/urllib3/connectionpool.py\", line 755, in urlopen\n",
      "    retries = retries.increment(\n",
      "  File \"/home/gabriel/miniconda3/envs/pt_nlp/lib/python3.9/site-packages/urllib3/util/retry.py\", line 574, in increment\n",
      "    raise MaxRetryError(_pool, url, error or ResponseError(cause))\n",
      "urllib3.exceptions.MaxRetryError: HTTPSConnectionPool(host='empirefurniture.co.nz', port=443): Max retries exceeded with url: /products/recliner-lounge-suite (Caused by SSLError(SSLCertVerificationError(\"hostname 'empirefurniture.co.nz' doesn't match either of 'myshopify.com', '*.myshopify.com'\")))\n",
      "\n",
      "During handling of the above exception, another exception occurred:\n",
      "\n",
      "Traceback (most recent call last):\n",
      "  File \"/tmp/ipykernel_6102/253839466.py\", line 10, in build_dataset\n",
      "    data = requests.get(url)\n",
      "  File \"/home/gabriel/miniconda3/envs/pt_nlp/lib/python3.9/site-packages/requests/api.py\", line 75, in get\n",
      "    return request('get', url, params=params, **kwargs)\n",
      "  File \"/home/gabriel/miniconda3/envs/pt_nlp/lib/python3.9/site-packages/requests/api.py\", line 61, in request\n",
      "    return session.request(method=method, url=url, **kwargs)\n",
      "  File \"/home/gabriel/miniconda3/envs/pt_nlp/lib/python3.9/site-packages/requests/sessions.py\", line 529, in request\n",
      "    resp = self.send(prep, **send_kwargs)\n",
      "  File \"/home/gabriel/miniconda3/envs/pt_nlp/lib/python3.9/site-packages/requests/sessions.py\", line 645, in send\n",
      "    r = adapter.send(request, **kwargs)\n",
      "  File \"/home/gabriel/miniconda3/envs/pt_nlp/lib/python3.9/site-packages/requests/adapters.py\", line 517, in send\n",
      "    raise SSLError(e, request=request)\n",
      "requests.exceptions.SSLError: HTTPSConnectionPool(host='empirefurniture.co.nz', port=443): Max retries exceeded with url: /products/recliner-lounge-suite (Caused by SSLError(SSLCertVerificationError(\"hostname 'empirefurniture.co.nz' doesn't match either of 'myshopify.com', '*.myshopify.com'\")))\n",
      "ERROR:root:HTTPSConnectionPool(host='hoomefurniture.com', port=443): Max retries exceeded with url: /products/page/2/ (Caused by NewConnectionError('<urllib3.connection.HTTPSConnection object at 0x7f17253819d0>: Failed to establish a new connection: [Errno -2] Name or service not known'))\n",
      "Traceback (most recent call last):\n",
      "  File \"/home/gabriel/miniconda3/envs/pt_nlp/lib/python3.9/site-packages/urllib3/connection.py\", line 174, in _new_conn\n",
      "    conn = connection.create_connection(\n",
      "  File \"/home/gabriel/miniconda3/envs/pt_nlp/lib/python3.9/site-packages/urllib3/util/connection.py\", line 73, in create_connection\n",
      "    for res in socket.getaddrinfo(host, port, family, socket.SOCK_STREAM):\n",
      "  File \"/home/gabriel/miniconda3/envs/pt_nlp/lib/python3.9/socket.py\", line 954, in getaddrinfo\n",
      "    for res in _socket.getaddrinfo(host, port, family, type, proto, flags):\n",
      "socket.gaierror: [Errno -2] Name or service not known\n",
      "\n",
      "During handling of the above exception, another exception occurred:\n",
      "\n",
      "Traceback (most recent call last):\n",
      "  File \"/home/gabriel/miniconda3/envs/pt_nlp/lib/python3.9/site-packages/urllib3/connectionpool.py\", line 699, in urlopen\n",
      "    httplib_response = self._make_request(\n",
      "  File \"/home/gabriel/miniconda3/envs/pt_nlp/lib/python3.9/site-packages/urllib3/connectionpool.py\", line 382, in _make_request\n",
      "    self._validate_conn(conn)\n",
      "  File \"/home/gabriel/miniconda3/envs/pt_nlp/lib/python3.9/site-packages/urllib3/connectionpool.py\", line 1010, in _validate_conn\n",
      "    conn.connect()\n",
      "  File \"/home/gabriel/miniconda3/envs/pt_nlp/lib/python3.9/site-packages/urllib3/connection.py\", line 358, in connect\n",
      "    conn = self._new_conn()\n",
      "  File \"/home/gabriel/miniconda3/envs/pt_nlp/lib/python3.9/site-packages/urllib3/connection.py\", line 186, in _new_conn\n",
      "    raise NewConnectionError(\n",
      "urllib3.exceptions.NewConnectionError: <urllib3.connection.HTTPSConnection object at 0x7f17253819d0>: Failed to establish a new connection: [Errno -2] Name or service not known\n",
      "\n",
      "During handling of the above exception, another exception occurred:\n",
      "\n",
      "Traceback (most recent call last):\n",
      "  File \"/home/gabriel/miniconda3/envs/pt_nlp/lib/python3.9/site-packages/requests/adapters.py\", line 440, in send\n",
      "    resp = conn.urlopen(\n",
      "  File \"/home/gabriel/miniconda3/envs/pt_nlp/lib/python3.9/site-packages/urllib3/connectionpool.py\", line 755, in urlopen\n",
      "    retries = retries.increment(\n",
      "  File \"/home/gabriel/miniconda3/envs/pt_nlp/lib/python3.9/site-packages/urllib3/util/retry.py\", line 574, in increment\n",
      "    raise MaxRetryError(_pool, url, error or ResponseError(cause))\n",
      "urllib3.exceptions.MaxRetryError: HTTPSConnectionPool(host='hoomefurniture.com', port=443): Max retries exceeded with url: /products/page/2/ (Caused by NewConnectionError('<urllib3.connection.HTTPSConnection object at 0x7f17253819d0>: Failed to establish a new connection: [Errno -2] Name or service not known'))\n",
      "\n",
      "During handling of the above exception, another exception occurred:\n",
      "\n",
      "Traceback (most recent call last):\n",
      "  File \"/tmp/ipykernel_6102/253839466.py\", line 10, in build_dataset\n",
      "    data = requests.get(url)\n",
      "  File \"/home/gabriel/miniconda3/envs/pt_nlp/lib/python3.9/site-packages/requests/api.py\", line 75, in get\n",
      "    return request('get', url, params=params, **kwargs)\n",
      "  File \"/home/gabriel/miniconda3/envs/pt_nlp/lib/python3.9/site-packages/requests/api.py\", line 61, in request\n",
      "    return session.request(method=method, url=url, **kwargs)\n",
      "  File \"/home/gabriel/miniconda3/envs/pt_nlp/lib/python3.9/site-packages/requests/sessions.py\", line 529, in request\n",
      "    resp = self.send(prep, **send_kwargs)\n",
      "  File \"/home/gabriel/miniconda3/envs/pt_nlp/lib/python3.9/site-packages/requests/sessions.py\", line 645, in send\n",
      "    r = adapter.send(request, **kwargs)\n",
      "  File \"/home/gabriel/miniconda3/envs/pt_nlp/lib/python3.9/site-packages/requests/adapters.py\", line 519, in send\n",
      "    raise ConnectionError(e, request=request)\n",
      "requests.exceptions.ConnectionError: HTTPSConnectionPool(host='hoomefurniture.com', port=443): Max retries exceeded with url: /products/page/2/ (Caused by NewConnectionError('<urllib3.connection.HTTPSConnection object at 0x7f17253819d0>: Failed to establish a new connection: [Errno -2] Name or service not known'))\n"
     ]
    },
    {
     "name": "stderr",
     "output_type": "stream",
     "text": [
      "ERROR:root:HTTPSConnectionPool(host='zulufurniture.com', port=443): Max retries exceeded with url: /products/posh (Caused by NewConnectionError('<urllib3.connection.HTTPSConnection object at 0x7f172333e8e0>: Failed to establish a new connection: [Errno -2] Name or service not known'))\n",
      "Traceback (most recent call last):\n",
      "  File \"/home/gabriel/miniconda3/envs/pt_nlp/lib/python3.9/site-packages/urllib3/connection.py\", line 174, in _new_conn\n",
      "    conn = connection.create_connection(\n",
      "  File \"/home/gabriel/miniconda3/envs/pt_nlp/lib/python3.9/site-packages/urllib3/util/connection.py\", line 73, in create_connection\n",
      "    for res in socket.getaddrinfo(host, port, family, socket.SOCK_STREAM):\n",
      "  File \"/home/gabriel/miniconda3/envs/pt_nlp/lib/python3.9/socket.py\", line 954, in getaddrinfo\n",
      "    for res in _socket.getaddrinfo(host, port, family, type, proto, flags):\n",
      "socket.gaierror: [Errno -2] Name or service not known\n",
      "\n",
      "During handling of the above exception, another exception occurred:\n",
      "\n",
      "Traceback (most recent call last):\n",
      "  File \"/home/gabriel/miniconda3/envs/pt_nlp/lib/python3.9/site-packages/urllib3/connectionpool.py\", line 699, in urlopen\n",
      "    httplib_response = self._make_request(\n",
      "  File \"/home/gabriel/miniconda3/envs/pt_nlp/lib/python3.9/site-packages/urllib3/connectionpool.py\", line 382, in _make_request\n",
      "    self._validate_conn(conn)\n",
      "  File \"/home/gabriel/miniconda3/envs/pt_nlp/lib/python3.9/site-packages/urllib3/connectionpool.py\", line 1010, in _validate_conn\n",
      "    conn.connect()\n",
      "  File \"/home/gabriel/miniconda3/envs/pt_nlp/lib/python3.9/site-packages/urllib3/connection.py\", line 358, in connect\n",
      "    conn = self._new_conn()\n",
      "  File \"/home/gabriel/miniconda3/envs/pt_nlp/lib/python3.9/site-packages/urllib3/connection.py\", line 186, in _new_conn\n",
      "    raise NewConnectionError(\n",
      "urllib3.exceptions.NewConnectionError: <urllib3.connection.HTTPSConnection object at 0x7f172333e8e0>: Failed to establish a new connection: [Errno -2] Name or service not known\n",
      "\n",
      "During handling of the above exception, another exception occurred:\n",
      "\n",
      "Traceback (most recent call last):\n",
      "  File \"/home/gabriel/miniconda3/envs/pt_nlp/lib/python3.9/site-packages/requests/adapters.py\", line 440, in send\n",
      "    resp = conn.urlopen(\n",
      "  File \"/home/gabriel/miniconda3/envs/pt_nlp/lib/python3.9/site-packages/urllib3/connectionpool.py\", line 755, in urlopen\n",
      "    retries = retries.increment(\n",
      "  File \"/home/gabriel/miniconda3/envs/pt_nlp/lib/python3.9/site-packages/urllib3/util/retry.py\", line 574, in increment\n",
      "    raise MaxRetryError(_pool, url, error or ResponseError(cause))\n",
      "urllib3.exceptions.MaxRetryError: HTTPSConnectionPool(host='zulufurniture.com', port=443): Max retries exceeded with url: /products/posh (Caused by NewConnectionError('<urllib3.connection.HTTPSConnection object at 0x7f172333e8e0>: Failed to establish a new connection: [Errno -2] Name or service not known'))\n",
      "\n",
      "During handling of the above exception, another exception occurred:\n",
      "\n",
      "Traceback (most recent call last):\n",
      "  File \"/tmp/ipykernel_6102/253839466.py\", line 10, in build_dataset\n",
      "    data = requests.get(url)\n",
      "  File \"/home/gabriel/miniconda3/envs/pt_nlp/lib/python3.9/site-packages/requests/api.py\", line 75, in get\n",
      "    return request('get', url, params=params, **kwargs)\n",
      "  File \"/home/gabriel/miniconda3/envs/pt_nlp/lib/python3.9/site-packages/requests/api.py\", line 61, in request\n",
      "    return session.request(method=method, url=url, **kwargs)\n",
      "  File \"/home/gabriel/miniconda3/envs/pt_nlp/lib/python3.9/site-packages/requests/sessions.py\", line 529, in request\n",
      "    resp = self.send(prep, **send_kwargs)\n",
      "  File \"/home/gabriel/miniconda3/envs/pt_nlp/lib/python3.9/site-packages/requests/sessions.py\", line 645, in send\n",
      "    r = adapter.send(request, **kwargs)\n",
      "  File \"/home/gabriel/miniconda3/envs/pt_nlp/lib/python3.9/site-packages/requests/adapters.py\", line 519, in send\n",
      "    raise ConnectionError(e, request=request)\n",
      "requests.exceptions.ConnectionError: HTTPSConnectionPool(host='zulufurniture.com', port=443): Max retries exceeded with url: /products/posh (Caused by NewConnectionError('<urllib3.connection.HTTPSConnection object at 0x7f172333e8e0>: Failed to establish a new connection: [Errno -2] Name or service not known'))\n",
      "ERROR:root:HTTPSConnectionPool(host='furnituremaddness.com', port=443): Max retries exceeded with url: /products/l-shape-leather-lounge (Caused by NewConnectionError('<urllib3.connection.HTTPSConnection object at 0x7f17236cb550>: Failed to establish a new connection: [Errno -2] Name or service not known'))\n",
      "Traceback (most recent call last):\n",
      "  File \"/home/gabriel/miniconda3/envs/pt_nlp/lib/python3.9/site-packages/urllib3/connection.py\", line 174, in _new_conn\n",
      "    conn = connection.create_connection(\n",
      "  File \"/home/gabriel/miniconda3/envs/pt_nlp/lib/python3.9/site-packages/urllib3/util/connection.py\", line 73, in create_connection\n",
      "    for res in socket.getaddrinfo(host, port, family, socket.SOCK_STREAM):\n",
      "  File \"/home/gabriel/miniconda3/envs/pt_nlp/lib/python3.9/socket.py\", line 954, in getaddrinfo\n",
      "    for res in _socket.getaddrinfo(host, port, family, type, proto, flags):\n",
      "socket.gaierror: [Errno -2] Name or service not known\n",
      "\n",
      "During handling of the above exception, another exception occurred:\n",
      "\n",
      "Traceback (most recent call last):\n",
      "  File \"/home/gabriel/miniconda3/envs/pt_nlp/lib/python3.9/site-packages/urllib3/connectionpool.py\", line 699, in urlopen\n",
      "    httplib_response = self._make_request(\n",
      "  File \"/home/gabriel/miniconda3/envs/pt_nlp/lib/python3.9/site-packages/urllib3/connectionpool.py\", line 382, in _make_request\n",
      "    self._validate_conn(conn)\n",
      "  File \"/home/gabriel/miniconda3/envs/pt_nlp/lib/python3.9/site-packages/urllib3/connectionpool.py\", line 1010, in _validate_conn\n",
      "    conn.connect()\n",
      "  File \"/home/gabriel/miniconda3/envs/pt_nlp/lib/python3.9/site-packages/urllib3/connection.py\", line 358, in connect\n",
      "    conn = self._new_conn()\n",
      "  File \"/home/gabriel/miniconda3/envs/pt_nlp/lib/python3.9/site-packages/urllib3/connection.py\", line 186, in _new_conn\n",
      "    raise NewConnectionError(\n",
      "urllib3.exceptions.NewConnectionError: <urllib3.connection.HTTPSConnection object at 0x7f17236cb550>: Failed to establish a new connection: [Errno -2] Name or service not known\n",
      "\n",
      "During handling of the above exception, another exception occurred:\n",
      "\n",
      "Traceback (most recent call last):\n",
      "  File \"/home/gabriel/miniconda3/envs/pt_nlp/lib/python3.9/site-packages/requests/adapters.py\", line 440, in send\n",
      "    resp = conn.urlopen(\n",
      "  File \"/home/gabriel/miniconda3/envs/pt_nlp/lib/python3.9/site-packages/urllib3/connectionpool.py\", line 755, in urlopen\n",
      "    retries = retries.increment(\n",
      "  File \"/home/gabriel/miniconda3/envs/pt_nlp/lib/python3.9/site-packages/urllib3/util/retry.py\", line 574, in increment\n",
      "    raise MaxRetryError(_pool, url, error or ResponseError(cause))\n",
      "urllib3.exceptions.MaxRetryError: HTTPSConnectionPool(host='furnituremaddness.com', port=443): Max retries exceeded with url: /products/l-shape-leather-lounge (Caused by NewConnectionError('<urllib3.connection.HTTPSConnection object at 0x7f17236cb550>: Failed to establish a new connection: [Errno -2] Name or service not known'))\n",
      "\n",
      "During handling of the above exception, another exception occurred:\n",
      "\n",
      "Traceback (most recent call last):\n",
      "  File \"/tmp/ipykernel_6102/253839466.py\", line 10, in build_dataset\n",
      "    data = requests.get(url)\n",
      "  File \"/home/gabriel/miniconda3/envs/pt_nlp/lib/python3.9/site-packages/requests/api.py\", line 75, in get\n",
      "    return request('get', url, params=params, **kwargs)\n",
      "  File \"/home/gabriel/miniconda3/envs/pt_nlp/lib/python3.9/site-packages/requests/api.py\", line 61, in request\n",
      "    return session.request(method=method, url=url, **kwargs)\n",
      "  File \"/home/gabriel/miniconda3/envs/pt_nlp/lib/python3.9/site-packages/requests/sessions.py\", line 529, in request\n",
      "    resp = self.send(prep, **send_kwargs)\n",
      "  File \"/home/gabriel/miniconda3/envs/pt_nlp/lib/python3.9/site-packages/requests/sessions.py\", line 645, in send\n",
      "    r = adapter.send(request, **kwargs)\n",
      "  File \"/home/gabriel/miniconda3/envs/pt_nlp/lib/python3.9/site-packages/requests/adapters.py\", line 519, in send\n",
      "    raise ConnectionError(e, request=request)\n",
      "requests.exceptions.ConnectionError: HTTPSConnectionPool(host='furnituremaddness.com', port=443): Max retries exceeded with url: /products/l-shape-leather-lounge (Caused by NewConnectionError('<urllib3.connection.HTTPSConnection object at 0x7f17236cb550>: Failed to establish a new connection: [Errno -2] Name or service not known'))\n"
     ]
    },
    {
     "name": "stderr",
     "output_type": "stream",
     "text": [
      "ERROR:root:HTTPSConnectionPool(host='suncoastsitra.shoptiqstore.com.sg', port=443): Max retries exceeded with url: /products/footstool&media=https://cdn.store-assets.com/s/257913/i/8659911_480x.jpeg&description=Footstool (Caused by NewConnectionError('<urllib3.connection.HTTPSConnection object at 0x7f17236cb640>: Failed to establish a new connection: [Errno -2] Name or service not known'))\n",
      "Traceback (most recent call last):\n",
      "  File \"/home/gabriel/miniconda3/envs/pt_nlp/lib/python3.9/site-packages/urllib3/connection.py\", line 174, in _new_conn\n",
      "    conn = connection.create_connection(\n",
      "  File \"/home/gabriel/miniconda3/envs/pt_nlp/lib/python3.9/site-packages/urllib3/util/connection.py\", line 73, in create_connection\n",
      "    for res in socket.getaddrinfo(host, port, family, socket.SOCK_STREAM):\n",
      "  File \"/home/gabriel/miniconda3/envs/pt_nlp/lib/python3.9/socket.py\", line 954, in getaddrinfo\n",
      "    for res in _socket.getaddrinfo(host, port, family, type, proto, flags):\n",
      "socket.gaierror: [Errno -2] Name or service not known\n",
      "\n",
      "During handling of the above exception, another exception occurred:\n",
      "\n",
      "Traceback (most recent call last):\n",
      "  File \"/home/gabriel/miniconda3/envs/pt_nlp/lib/python3.9/site-packages/urllib3/connectionpool.py\", line 699, in urlopen\n",
      "    httplib_response = self._make_request(\n",
      "  File \"/home/gabriel/miniconda3/envs/pt_nlp/lib/python3.9/site-packages/urllib3/connectionpool.py\", line 382, in _make_request\n",
      "    self._validate_conn(conn)\n",
      "  File \"/home/gabriel/miniconda3/envs/pt_nlp/lib/python3.9/site-packages/urllib3/connectionpool.py\", line 1010, in _validate_conn\n",
      "    conn.connect()\n",
      "  File \"/home/gabriel/miniconda3/envs/pt_nlp/lib/python3.9/site-packages/urllib3/connection.py\", line 358, in connect\n",
      "    conn = self._new_conn()\n",
      "  File \"/home/gabriel/miniconda3/envs/pt_nlp/lib/python3.9/site-packages/urllib3/connection.py\", line 186, in _new_conn\n",
      "    raise NewConnectionError(\n",
      "urllib3.exceptions.NewConnectionError: <urllib3.connection.HTTPSConnection object at 0x7f17236cb640>: Failed to establish a new connection: [Errno -2] Name or service not known\n",
      "\n",
      "During handling of the above exception, another exception occurred:\n",
      "\n",
      "Traceback (most recent call last):\n",
      "  File \"/home/gabriel/miniconda3/envs/pt_nlp/lib/python3.9/site-packages/requests/adapters.py\", line 440, in send\n",
      "    resp = conn.urlopen(\n",
      "  File \"/home/gabriel/miniconda3/envs/pt_nlp/lib/python3.9/site-packages/urllib3/connectionpool.py\", line 755, in urlopen\n",
      "    retries = retries.increment(\n",
      "  File \"/home/gabriel/miniconda3/envs/pt_nlp/lib/python3.9/site-packages/urllib3/util/retry.py\", line 574, in increment\n",
      "    raise MaxRetryError(_pool, url, error or ResponseError(cause))\n",
      "urllib3.exceptions.MaxRetryError: HTTPSConnectionPool(host='suncoastsitra.shoptiqstore.com.sg', port=443): Max retries exceeded with url: /products/footstool&media=https://cdn.store-assets.com/s/257913/i/8659911_480x.jpeg&description=Footstool (Caused by NewConnectionError('<urllib3.connection.HTTPSConnection object at 0x7f17236cb640>: Failed to establish a new connection: [Errno -2] Name or service not known'))\n",
      "\n",
      "During handling of the above exception, another exception occurred:\n",
      "\n",
      "Traceback (most recent call last):\n",
      "  File \"/tmp/ipykernel_6102/253839466.py\", line 10, in build_dataset\n",
      "    data = requests.get(url)\n",
      "  File \"/home/gabriel/miniconda3/envs/pt_nlp/lib/python3.9/site-packages/requests/api.py\", line 75, in get\n",
      "    return request('get', url, params=params, **kwargs)\n",
      "  File \"/home/gabriel/miniconda3/envs/pt_nlp/lib/python3.9/site-packages/requests/api.py\", line 61, in request\n",
      "    return session.request(method=method, url=url, **kwargs)\n",
      "  File \"/home/gabriel/miniconda3/envs/pt_nlp/lib/python3.9/site-packages/requests/sessions.py\", line 529, in request\n",
      "    resp = self.send(prep, **send_kwargs)\n",
      "  File \"/home/gabriel/miniconda3/envs/pt_nlp/lib/python3.9/site-packages/requests/sessions.py\", line 645, in send\n",
      "    r = adapter.send(request, **kwargs)\n",
      "  File \"/home/gabriel/miniconda3/envs/pt_nlp/lib/python3.9/site-packages/requests/adapters.py\", line 519, in send\n",
      "    raise ConnectionError(e, request=request)\n",
      "requests.exceptions.ConnectionError: HTTPSConnectionPool(host='suncoastsitra.shoptiqstore.com.sg', port=443): Max retries exceeded with url: /products/footstool&media=https://cdn.store-assets.com/s/257913/i/8659911_480x.jpeg&description=Footstool (Caused by NewConnectionError('<urllib3.connection.HTTPSConnection object at 0x7f17236cb640>: Failed to establish a new connection: [Errno -2] Name or service not known'))\n",
      "ERROR:root:HTTPConnectionPool(host='www.makebuildmend.co.uk', port=80): Max retries exceeded with url: /products/ (Caused by NewConnectionError('<urllib3.connection.HTTPConnection object at 0x7f1728c020a0>: Failed to establish a new connection: [Errno -2] Name or service not known'))\n",
      "Traceback (most recent call last):\n",
      "  File \"/home/gabriel/miniconda3/envs/pt_nlp/lib/python3.9/site-packages/urllib3/connection.py\", line 174, in _new_conn\n",
      "    conn = connection.create_connection(\n",
      "  File \"/home/gabriel/miniconda3/envs/pt_nlp/lib/python3.9/site-packages/urllib3/util/connection.py\", line 73, in create_connection\n",
      "    for res in socket.getaddrinfo(host, port, family, socket.SOCK_STREAM):\n",
      "  File \"/home/gabriel/miniconda3/envs/pt_nlp/lib/python3.9/socket.py\", line 954, in getaddrinfo\n",
      "    for res in _socket.getaddrinfo(host, port, family, type, proto, flags):\n",
      "socket.gaierror: [Errno -2] Name or service not known\n",
      "\n",
      "During handling of the above exception, another exception occurred:\n",
      "\n",
      "Traceback (most recent call last):\n",
      "  File \"/home/gabriel/miniconda3/envs/pt_nlp/lib/python3.9/site-packages/urllib3/connectionpool.py\", line 699, in urlopen\n",
      "    httplib_response = self._make_request(\n",
      "  File \"/home/gabriel/miniconda3/envs/pt_nlp/lib/python3.9/site-packages/urllib3/connectionpool.py\", line 394, in _make_request\n",
      "    conn.request(method, url, **httplib_request_kw)\n",
      "  File \"/home/gabriel/miniconda3/envs/pt_nlp/lib/python3.9/site-packages/urllib3/connection.py\", line 239, in request\n",
      "    super(HTTPConnection, self).request(method, url, body=body, headers=headers)\n",
      "  File \"/home/gabriel/miniconda3/envs/pt_nlp/lib/python3.9/http/client.py\", line 1279, in request\n",
      "    self._send_request(method, url, body, headers, encode_chunked)\n",
      "  File \"/home/gabriel/miniconda3/envs/pt_nlp/lib/python3.9/http/client.py\", line 1325, in _send_request\n",
      "    self.endheaders(body, encode_chunked=encode_chunked)\n",
      "  File \"/home/gabriel/miniconda3/envs/pt_nlp/lib/python3.9/http/client.py\", line 1274, in endheaders\n",
      "    self._send_output(message_body, encode_chunked=encode_chunked)\n",
      "  File \"/home/gabriel/miniconda3/envs/pt_nlp/lib/python3.9/http/client.py\", line 1034, in _send_output\n",
      "    self.send(msg)\n",
      "  File \"/home/gabriel/miniconda3/envs/pt_nlp/lib/python3.9/http/client.py\", line 974, in send\n",
      "    self.connect()\n",
      "  File \"/home/gabriel/miniconda3/envs/pt_nlp/lib/python3.9/site-packages/urllib3/connection.py\", line 205, in connect\n",
      "    conn = self._new_conn()\n",
      "  File \"/home/gabriel/miniconda3/envs/pt_nlp/lib/python3.9/site-packages/urllib3/connection.py\", line 186, in _new_conn\n",
      "    raise NewConnectionError(\n",
      "urllib3.exceptions.NewConnectionError: <urllib3.connection.HTTPConnection object at 0x7f1728c020a0>: Failed to establish a new connection: [Errno -2] Name or service not known\n",
      "\n",
      "During handling of the above exception, another exception occurred:\n",
      "\n",
      "Traceback (most recent call last):\n",
      "  File \"/home/gabriel/miniconda3/envs/pt_nlp/lib/python3.9/site-packages/requests/adapters.py\", line 440, in send\n",
      "    resp = conn.urlopen(\n",
      "  File \"/home/gabriel/miniconda3/envs/pt_nlp/lib/python3.9/site-packages/urllib3/connectionpool.py\", line 755, in urlopen\n",
      "    retries = retries.increment(\n",
      "  File \"/home/gabriel/miniconda3/envs/pt_nlp/lib/python3.9/site-packages/urllib3/util/retry.py\", line 574, in increment\n",
      "    raise MaxRetryError(_pool, url, error or ResponseError(cause))\n",
      "urllib3.exceptions.MaxRetryError: HTTPConnectionPool(host='www.makebuildmend.co.uk', port=80): Max retries exceeded with url: /products/ (Caused by NewConnectionError('<urllib3.connection.HTTPConnection object at 0x7f1728c020a0>: Failed to establish a new connection: [Errno -2] Name or service not known'))\n",
      "\n",
      "During handling of the above exception, another exception occurred:\n",
      "\n",
      "Traceback (most recent call last):\n",
      "  File \"/tmp/ipykernel_6102/253839466.py\", line 10, in build_dataset\n",
      "    data = requests.get(url)\n",
      "  File \"/home/gabriel/miniconda3/envs/pt_nlp/lib/python3.9/site-packages/requests/api.py\", line 75, in get\n",
      "    return request('get', url, params=params, **kwargs)\n",
      "  File \"/home/gabriel/miniconda3/envs/pt_nlp/lib/python3.9/site-packages/requests/api.py\", line 61, in request\n",
      "    return session.request(method=method, url=url, **kwargs)\n",
      "  File \"/home/gabriel/miniconda3/envs/pt_nlp/lib/python3.9/site-packages/requests/sessions.py\", line 529, in request\n",
      "    resp = self.send(prep, **send_kwargs)\n",
      "  File \"/home/gabriel/miniconda3/envs/pt_nlp/lib/python3.9/site-packages/requests/sessions.py\", line 645, in send\n",
      "    r = adapter.send(request, **kwargs)\n",
      "  File \"/home/gabriel/miniconda3/envs/pt_nlp/lib/python3.9/site-packages/requests/adapters.py\", line 519, in send\n",
      "    raise ConnectionError(e, request=request)\n",
      "requests.exceptions.ConnectionError: HTTPConnectionPool(host='www.makebuildmend.co.uk', port=80): Max retries exceeded with url: /products/ (Caused by NewConnectionError('<urllib3.connection.HTTPConnection object at 0x7f1728c020a0>: Failed to establish a new connection: [Errno -2] Name or service not known'))\n"
     ]
    },
    {
     "name": "stderr",
     "output_type": "stream",
     "text": [
      "ERROR:root:HTTPSConnectionPool(host='www.solidoakfurniture.co.uk', port=443): Max retries exceeded with url: /products/beds.html (Caused by SSLError(SSLCertVerificationError(1, '[SSL: CERTIFICATE_VERIFY_FAILED] certificate verify failed: certificate has expired (_ssl.c:1129)')))\n",
      "Traceback (most recent call last):\n",
      "  File \"/home/gabriel/miniconda3/envs/pt_nlp/lib/python3.9/site-packages/urllib3/connectionpool.py\", line 699, in urlopen\n",
      "    httplib_response = self._make_request(\n",
      "  File \"/home/gabriel/miniconda3/envs/pt_nlp/lib/python3.9/site-packages/urllib3/connectionpool.py\", line 382, in _make_request\n",
      "    self._validate_conn(conn)\n",
      "  File \"/home/gabriel/miniconda3/envs/pt_nlp/lib/python3.9/site-packages/urllib3/connectionpool.py\", line 1010, in _validate_conn\n",
      "    conn.connect()\n",
      "  File \"/home/gabriel/miniconda3/envs/pt_nlp/lib/python3.9/site-packages/urllib3/connection.py\", line 416, in connect\n",
      "    self.sock = ssl_wrap_socket(\n",
      "  File \"/home/gabriel/miniconda3/envs/pt_nlp/lib/python3.9/site-packages/urllib3/util/ssl_.py\", line 449, in ssl_wrap_socket\n",
      "    ssl_sock = _ssl_wrap_socket_impl(\n",
      "  File \"/home/gabriel/miniconda3/envs/pt_nlp/lib/python3.9/site-packages/urllib3/util/ssl_.py\", line 493, in _ssl_wrap_socket_impl\n",
      "    return ssl_context.wrap_socket(sock, server_hostname=server_hostname)\n",
      "  File \"/home/gabriel/miniconda3/envs/pt_nlp/lib/python3.9/ssl.py\", line 500, in wrap_socket\n",
      "    return self.sslsocket_class._create(\n",
      "  File \"/home/gabriel/miniconda3/envs/pt_nlp/lib/python3.9/ssl.py\", line 1040, in _create\n",
      "    self.do_handshake()\n",
      "  File \"/home/gabriel/miniconda3/envs/pt_nlp/lib/python3.9/ssl.py\", line 1309, in do_handshake\n",
      "    self._sslobj.do_handshake()\n",
      "ssl.SSLCertVerificationError: [SSL: CERTIFICATE_VERIFY_FAILED] certificate verify failed: certificate has expired (_ssl.c:1129)\n",
      "\n",
      "During handling of the above exception, another exception occurred:\n",
      "\n",
      "Traceback (most recent call last):\n",
      "  File \"/home/gabriel/miniconda3/envs/pt_nlp/lib/python3.9/site-packages/requests/adapters.py\", line 440, in send\n",
      "    resp = conn.urlopen(\n",
      "  File \"/home/gabriel/miniconda3/envs/pt_nlp/lib/python3.9/site-packages/urllib3/connectionpool.py\", line 755, in urlopen\n",
      "    retries = retries.increment(\n",
      "  File \"/home/gabriel/miniconda3/envs/pt_nlp/lib/python3.9/site-packages/urllib3/util/retry.py\", line 574, in increment\n",
      "    raise MaxRetryError(_pool, url, error or ResponseError(cause))\n",
      "urllib3.exceptions.MaxRetryError: HTTPSConnectionPool(host='www.solidoakfurniture.co.uk', port=443): Max retries exceeded with url: /products/beds.html (Caused by SSLError(SSLCertVerificationError(1, '[SSL: CERTIFICATE_VERIFY_FAILED] certificate verify failed: certificate has expired (_ssl.c:1129)')))\n",
      "\n",
      "During handling of the above exception, another exception occurred:\n",
      "\n",
      "Traceback (most recent call last):\n",
      "  File \"/tmp/ipykernel_6102/253839466.py\", line 10, in build_dataset\n",
      "    data = requests.get(url)\n",
      "  File \"/home/gabriel/miniconda3/envs/pt_nlp/lib/python3.9/site-packages/requests/api.py\", line 75, in get\n",
      "    return request('get', url, params=params, **kwargs)\n",
      "  File \"/home/gabriel/miniconda3/envs/pt_nlp/lib/python3.9/site-packages/requests/api.py\", line 61, in request\n",
      "    return session.request(method=method, url=url, **kwargs)\n",
      "  File \"/home/gabriel/miniconda3/envs/pt_nlp/lib/python3.9/site-packages/requests/sessions.py\", line 529, in request\n",
      "    resp = self.send(prep, **send_kwargs)\n",
      "  File \"/home/gabriel/miniconda3/envs/pt_nlp/lib/python3.9/site-packages/requests/sessions.py\", line 645, in send\n",
      "    r = adapter.send(request, **kwargs)\n",
      "  File \"/home/gabriel/miniconda3/envs/pt_nlp/lib/python3.9/site-packages/requests/adapters.py\", line 517, in send\n",
      "    raise SSLError(e, request=request)\n",
      "requests.exceptions.SSLError: HTTPSConnectionPool(host='www.solidoakfurniture.co.uk', port=443): Max retries exceeded with url: /products/beds.html (Caused by SSLError(SSLCertVerificationError(1, '[SSL: CERTIFICATE_VERIFY_FAILED] certificate verify failed: certificate has expired (_ssl.c:1129)')))\n",
      "ERROR:root:(\"Connection broken: InvalidChunkLength(got length b'', 0 bytes read)\", InvalidChunkLength(got length b'', 0 bytes read))\n",
      "Traceback (most recent call last):\n",
      "  File \"/home/gabriel/miniconda3/envs/pt_nlp/lib/python3.9/site-packages/urllib3/response.py\", line 697, in _update_chunk_length\n",
      "    self.chunk_left = int(line, 16)\n",
      "ValueError: invalid literal for int() with base 16: b''\n",
      "\n",
      "During handling of the above exception, another exception occurred:\n",
      "\n",
      "Traceback (most recent call last):\n",
      "  File \"/home/gabriel/miniconda3/envs/pt_nlp/lib/python3.9/site-packages/urllib3/response.py\", line 438, in _error_catcher\n",
      "    yield\n",
      "  File \"/home/gabriel/miniconda3/envs/pt_nlp/lib/python3.9/site-packages/urllib3/response.py\", line 764, in read_chunked\n",
      "    self._update_chunk_length()\n",
      "  File \"/home/gabriel/miniconda3/envs/pt_nlp/lib/python3.9/site-packages/urllib3/response.py\", line 701, in _update_chunk_length\n",
      "    raise InvalidChunkLength(self, line)\n",
      "urllib3.exceptions.InvalidChunkLength: InvalidChunkLength(got length b'', 0 bytes read)\n",
      "\n",
      "During handling of the above exception, another exception occurred:\n",
      "\n",
      "Traceback (most recent call last):\n",
      "  File \"/home/gabriel/miniconda3/envs/pt_nlp/lib/python3.9/site-packages/requests/models.py\", line 760, in generate\n",
      "    for chunk in self.raw.stream(chunk_size, decode_content=True):\n",
      "  File \"/home/gabriel/miniconda3/envs/pt_nlp/lib/python3.9/site-packages/urllib3/response.py\", line 572, in stream\n",
      "    for line in self.read_chunked(amt, decode_content=decode_content):\n",
      "  File \"/home/gabriel/miniconda3/envs/pt_nlp/lib/python3.9/site-packages/urllib3/response.py\", line 793, in read_chunked\n",
      "    self._original_response.close()\n",
      "  File \"/home/gabriel/miniconda3/envs/pt_nlp/lib/python3.9/contextlib.py\", line 137, in __exit__\n",
      "    self.gen.throw(typ, value, traceback)\n",
      "  File \"/home/gabriel/miniconda3/envs/pt_nlp/lib/python3.9/site-packages/urllib3/response.py\", line 455, in _error_catcher\n",
      "    raise ProtocolError(\"Connection broken: %r\" % e, e)\n",
      "urllib3.exceptions.ProtocolError: (\"Connection broken: InvalidChunkLength(got length b'', 0 bytes read)\", InvalidChunkLength(got length b'', 0 bytes read))\n",
      "\n",
      "During handling of the above exception, another exception occurred:\n",
      "\n",
      "Traceback (most recent call last):\n",
      "  File \"/tmp/ipykernel_6102/253839466.py\", line 10, in build_dataset\n",
      "    data = requests.get(url)\n",
      "  File \"/home/gabriel/miniconda3/envs/pt_nlp/lib/python3.9/site-packages/requests/api.py\", line 75, in get\n",
      "    return request('get', url, params=params, **kwargs)\n",
      "  File \"/home/gabriel/miniconda3/envs/pt_nlp/lib/python3.9/site-packages/requests/api.py\", line 61, in request\n",
      "    return session.request(method=method, url=url, **kwargs)\n",
      "  File \"/home/gabriel/miniconda3/envs/pt_nlp/lib/python3.9/site-packages/requests/sessions.py\", line 529, in request\n",
      "    resp = self.send(prep, **send_kwargs)\n",
      "  File \"/home/gabriel/miniconda3/envs/pt_nlp/lib/python3.9/site-packages/requests/sessions.py\", line 687, in send\n",
      "    r.content\n",
      "  File \"/home/gabriel/miniconda3/envs/pt_nlp/lib/python3.9/site-packages/requests/models.py\", line 838, in content\n",
      "    self._content = b''.join(self.iter_content(CONTENT_CHUNK_SIZE)) or b''\n",
      "  File \"/home/gabriel/miniconda3/envs/pt_nlp/lib/python3.9/site-packages/requests/models.py\", line 763, in generate\n",
      "    raise ChunkedEncodingError(e)\n",
      "requests.exceptions.ChunkedEncodingError: (\"Connection broken: InvalidChunkLength(got length b'', 0 bytes read)\", InvalidChunkLength(got length b'', 0 bytes read))\n",
      "ERROR:root:HTTPSConnectionPool(host='thefurniture-house.co.uk', port=443): Max retries exceeded with url: /products/new-grey-recliner-sofa (Caused by NewConnectionError('<urllib3.connection.HTTPSConnection object at 0x7f1724c10820>: Failed to establish a new connection: [Errno -2] Name or service not known'))\n",
      "Traceback (most recent call last):\n",
      "  File \"/home/gabriel/miniconda3/envs/pt_nlp/lib/python3.9/site-packages/urllib3/connection.py\", line 174, in _new_conn\n",
      "    conn = connection.create_connection(\n",
      "  File \"/home/gabriel/miniconda3/envs/pt_nlp/lib/python3.9/site-packages/urllib3/util/connection.py\", line 73, in create_connection\n",
      "    for res in socket.getaddrinfo(host, port, family, socket.SOCK_STREAM):\n",
      "  File \"/home/gabriel/miniconda3/envs/pt_nlp/lib/python3.9/socket.py\", line 954, in getaddrinfo\n",
      "    for res in _socket.getaddrinfo(host, port, family, type, proto, flags):\n",
      "socket.gaierror: [Errno -2] Name or service not known\n",
      "\n",
      "During handling of the above exception, another exception occurred:\n",
      "\n",
      "Traceback (most recent call last):\n",
      "  File \"/home/gabriel/miniconda3/envs/pt_nlp/lib/python3.9/site-packages/urllib3/connectionpool.py\", line 699, in urlopen\n",
      "    httplib_response = self._make_request(\n",
      "  File \"/home/gabriel/miniconda3/envs/pt_nlp/lib/python3.9/site-packages/urllib3/connectionpool.py\", line 382, in _make_request\n",
      "    self._validate_conn(conn)\n",
      "  File \"/home/gabriel/miniconda3/envs/pt_nlp/lib/python3.9/site-packages/urllib3/connectionpool.py\", line 1010, in _validate_conn\n",
      "    conn.connect()\n",
      "  File \"/home/gabriel/miniconda3/envs/pt_nlp/lib/python3.9/site-packages/urllib3/connection.py\", line 358, in connect\n",
      "    conn = self._new_conn()\n",
      "  File \"/home/gabriel/miniconda3/envs/pt_nlp/lib/python3.9/site-packages/urllib3/connection.py\", line 186, in _new_conn\n",
      "    raise NewConnectionError(\n",
      "urllib3.exceptions.NewConnectionError: <urllib3.connection.HTTPSConnection object at 0x7f1724c10820>: Failed to establish a new connection: [Errno -2] Name or service not known\n",
      "\n",
      "During handling of the above exception, another exception occurred:\n",
      "\n",
      "Traceback (most recent call last):\n",
      "  File \"/home/gabriel/miniconda3/envs/pt_nlp/lib/python3.9/site-packages/requests/adapters.py\", line 440, in send\n",
      "    resp = conn.urlopen(\n",
      "  File \"/home/gabriel/miniconda3/envs/pt_nlp/lib/python3.9/site-packages/urllib3/connectionpool.py\", line 755, in urlopen\n",
      "    retries = retries.increment(\n",
      "  File \"/home/gabriel/miniconda3/envs/pt_nlp/lib/python3.9/site-packages/urllib3/util/retry.py\", line 574, in increment\n",
      "    raise MaxRetryError(_pool, url, error or ResponseError(cause))\n",
      "urllib3.exceptions.MaxRetryError: HTTPSConnectionPool(host='thefurniture-house.co.uk', port=443): Max retries exceeded with url: /products/new-grey-recliner-sofa (Caused by NewConnectionError('<urllib3.connection.HTTPSConnection object at 0x7f1724c10820>: Failed to establish a new connection: [Errno -2] Name or service not known'))\n",
      "\n",
      "During handling of the above exception, another exception occurred:\n",
      "\n",
      "Traceback (most recent call last):\n",
      "  File \"/tmp/ipykernel_6102/253839466.py\", line 10, in build_dataset\n",
      "    data = requests.get(url)\n",
      "  File \"/home/gabriel/miniconda3/envs/pt_nlp/lib/python3.9/site-packages/requests/api.py\", line 75, in get\n",
      "    return request('get', url, params=params, **kwargs)\n",
      "  File \"/home/gabriel/miniconda3/envs/pt_nlp/lib/python3.9/site-packages/requests/api.py\", line 61, in request\n",
      "    return session.request(method=method, url=url, **kwargs)\n",
      "  File \"/home/gabriel/miniconda3/envs/pt_nlp/lib/python3.9/site-packages/requests/sessions.py\", line 529, in request\n",
      "    resp = self.send(prep, **send_kwargs)\n",
      "  File \"/home/gabriel/miniconda3/envs/pt_nlp/lib/python3.9/site-packages/requests/sessions.py\", line 645, in send\n",
      "    r = adapter.send(request, **kwargs)\n",
      "  File \"/home/gabriel/miniconda3/envs/pt_nlp/lib/python3.9/site-packages/requests/adapters.py\", line 519, in send\n",
      "    raise ConnectionError(e, request=request)\n",
      "requests.exceptions.ConnectionError: HTTPSConnectionPool(host='thefurniture-house.co.uk', port=443): Max retries exceeded with url: /products/new-grey-recliner-sofa (Caused by NewConnectionError('<urllib3.connection.HTTPSConnection object at 0x7f1724c10820>: Failed to establish a new connection: [Errno -2] Name or service not known'))\n"
     ]
    },
    {
     "name": "stderr",
     "output_type": "stream",
     "text": [
      "ERROR:root:HTTPSConnectionPool(host='limesinteriors.co.uk', port=443): Max retries exceeded with url: /collections/popular-items/products/abree-lamp (Caused by NewConnectionError('<urllib3.connection.HTTPSConnection object at 0x7f1723140040>: Failed to establish a new connection: [Errno -2] Name or service not known'))\n",
      "Traceback (most recent call last):\n",
      "  File \"/home/gabriel/miniconda3/envs/pt_nlp/lib/python3.9/site-packages/urllib3/connection.py\", line 174, in _new_conn\n",
      "    conn = connection.create_connection(\n",
      "  File \"/home/gabriel/miniconda3/envs/pt_nlp/lib/python3.9/site-packages/urllib3/util/connection.py\", line 73, in create_connection\n",
      "    for res in socket.getaddrinfo(host, port, family, socket.SOCK_STREAM):\n",
      "  File \"/home/gabriel/miniconda3/envs/pt_nlp/lib/python3.9/socket.py\", line 954, in getaddrinfo\n",
      "    for res in _socket.getaddrinfo(host, port, family, type, proto, flags):\n",
      "socket.gaierror: [Errno -2] Name or service not known\n",
      "\n",
      "During handling of the above exception, another exception occurred:\n",
      "\n",
      "Traceback (most recent call last):\n",
      "  File \"/home/gabriel/miniconda3/envs/pt_nlp/lib/python3.9/site-packages/urllib3/connectionpool.py\", line 699, in urlopen\n",
      "    httplib_response = self._make_request(\n",
      "  File \"/home/gabriel/miniconda3/envs/pt_nlp/lib/python3.9/site-packages/urllib3/connectionpool.py\", line 382, in _make_request\n",
      "    self._validate_conn(conn)\n",
      "  File \"/home/gabriel/miniconda3/envs/pt_nlp/lib/python3.9/site-packages/urllib3/connectionpool.py\", line 1010, in _validate_conn\n",
      "    conn.connect()\n",
      "  File \"/home/gabriel/miniconda3/envs/pt_nlp/lib/python3.9/site-packages/urllib3/connection.py\", line 358, in connect\n",
      "    conn = self._new_conn()\n",
      "  File \"/home/gabriel/miniconda3/envs/pt_nlp/lib/python3.9/site-packages/urllib3/connection.py\", line 186, in _new_conn\n",
      "    raise NewConnectionError(\n",
      "urllib3.exceptions.NewConnectionError: <urllib3.connection.HTTPSConnection object at 0x7f1723140040>: Failed to establish a new connection: [Errno -2] Name or service not known\n",
      "\n",
      "During handling of the above exception, another exception occurred:\n",
      "\n",
      "Traceback (most recent call last):\n",
      "  File \"/home/gabriel/miniconda3/envs/pt_nlp/lib/python3.9/site-packages/requests/adapters.py\", line 440, in send\n",
      "    resp = conn.urlopen(\n",
      "  File \"/home/gabriel/miniconda3/envs/pt_nlp/lib/python3.9/site-packages/urllib3/connectionpool.py\", line 755, in urlopen\n",
      "    retries = retries.increment(\n",
      "  File \"/home/gabriel/miniconda3/envs/pt_nlp/lib/python3.9/site-packages/urllib3/util/retry.py\", line 574, in increment\n",
      "    raise MaxRetryError(_pool, url, error or ResponseError(cause))\n",
      "urllib3.exceptions.MaxRetryError: HTTPSConnectionPool(host='limesinteriors.co.uk', port=443): Max retries exceeded with url: /collections/popular-items/products/abree-lamp (Caused by NewConnectionError('<urllib3.connection.HTTPSConnection object at 0x7f1723140040>: Failed to establish a new connection: [Errno -2] Name or service not known'))\n",
      "\n",
      "During handling of the above exception, another exception occurred:\n",
      "\n",
      "Traceback (most recent call last):\n",
      "  File \"/tmp/ipykernel_6102/253839466.py\", line 10, in build_dataset\n",
      "    data = requests.get(url)\n",
      "  File \"/home/gabriel/miniconda3/envs/pt_nlp/lib/python3.9/site-packages/requests/api.py\", line 75, in get\n",
      "    return request('get', url, params=params, **kwargs)\n",
      "  File \"/home/gabriel/miniconda3/envs/pt_nlp/lib/python3.9/site-packages/requests/api.py\", line 61, in request\n",
      "    return session.request(method=method, url=url, **kwargs)\n",
      "  File \"/home/gabriel/miniconda3/envs/pt_nlp/lib/python3.9/site-packages/requests/sessions.py\", line 529, in request\n",
      "    resp = self.send(prep, **send_kwargs)\n",
      "  File \"/home/gabriel/miniconda3/envs/pt_nlp/lib/python3.9/site-packages/requests/sessions.py\", line 645, in send\n",
      "    r = adapter.send(request, **kwargs)\n",
      "  File \"/home/gabriel/miniconda3/envs/pt_nlp/lib/python3.9/site-packages/requests/adapters.py\", line 519, in send\n",
      "    raise ConnectionError(e, request=request)\n",
      "requests.exceptions.ConnectionError: HTTPSConnectionPool(host='limesinteriors.co.uk', port=443): Max retries exceeded with url: /collections/popular-items/products/abree-lamp (Caused by NewConnectionError('<urllib3.connection.HTTPSConnection object at 0x7f1723140040>: Failed to establish a new connection: [Errno -2] Name or service not known'))\n",
      "ERROR:root:HTTPConnectionPool(host='m-edition.co.uk', port=80): Max retries exceeded with url: /products/ch103-sofa (Caused by NewConnectionError('<urllib3.connection.HTTPConnection object at 0x7f1723140100>: Failed to establish a new connection: [Errno -2] Name or service not known'))\n",
      "Traceback (most recent call last):\n",
      "  File \"/home/gabriel/miniconda3/envs/pt_nlp/lib/python3.9/site-packages/urllib3/connection.py\", line 174, in _new_conn\n",
      "    conn = connection.create_connection(\n",
      "  File \"/home/gabriel/miniconda3/envs/pt_nlp/lib/python3.9/site-packages/urllib3/util/connection.py\", line 73, in create_connection\n",
      "    for res in socket.getaddrinfo(host, port, family, socket.SOCK_STREAM):\n",
      "  File \"/home/gabriel/miniconda3/envs/pt_nlp/lib/python3.9/socket.py\", line 954, in getaddrinfo\n",
      "    for res in _socket.getaddrinfo(host, port, family, type, proto, flags):\n",
      "socket.gaierror: [Errno -2] Name or service not known\n",
      "\n",
      "During handling of the above exception, another exception occurred:\n",
      "\n",
      "Traceback (most recent call last):\n",
      "  File \"/home/gabriel/miniconda3/envs/pt_nlp/lib/python3.9/site-packages/urllib3/connectionpool.py\", line 699, in urlopen\n",
      "    httplib_response = self._make_request(\n",
      "  File \"/home/gabriel/miniconda3/envs/pt_nlp/lib/python3.9/site-packages/urllib3/connectionpool.py\", line 394, in _make_request\n",
      "    conn.request(method, url, **httplib_request_kw)\n",
      "  File \"/home/gabriel/miniconda3/envs/pt_nlp/lib/python3.9/site-packages/urllib3/connection.py\", line 239, in request\n",
      "    super(HTTPConnection, self).request(method, url, body=body, headers=headers)\n",
      "  File \"/home/gabriel/miniconda3/envs/pt_nlp/lib/python3.9/http/client.py\", line 1279, in request\n",
      "    self._send_request(method, url, body, headers, encode_chunked)\n",
      "  File \"/home/gabriel/miniconda3/envs/pt_nlp/lib/python3.9/http/client.py\", line 1325, in _send_request\n",
      "    self.endheaders(body, encode_chunked=encode_chunked)\n",
      "  File \"/home/gabriel/miniconda3/envs/pt_nlp/lib/python3.9/http/client.py\", line 1274, in endheaders\n",
      "    self._send_output(message_body, encode_chunked=encode_chunked)\n",
      "  File \"/home/gabriel/miniconda3/envs/pt_nlp/lib/python3.9/http/client.py\", line 1034, in _send_output\n",
      "    self.send(msg)\n",
      "  File \"/home/gabriel/miniconda3/envs/pt_nlp/lib/python3.9/http/client.py\", line 974, in send\n",
      "    self.connect()\n",
      "  File \"/home/gabriel/miniconda3/envs/pt_nlp/lib/python3.9/site-packages/urllib3/connection.py\", line 205, in connect\n",
      "    conn = self._new_conn()\n",
      "  File \"/home/gabriel/miniconda3/envs/pt_nlp/lib/python3.9/site-packages/urllib3/connection.py\", line 186, in _new_conn\n",
      "    raise NewConnectionError(\n",
      "urllib3.exceptions.NewConnectionError: <urllib3.connection.HTTPConnection object at 0x7f1723140100>: Failed to establish a new connection: [Errno -2] Name or service not known\n",
      "\n",
      "During handling of the above exception, another exception occurred:\n",
      "\n",
      "Traceback (most recent call last):\n",
      "  File \"/home/gabriel/miniconda3/envs/pt_nlp/lib/python3.9/site-packages/requests/adapters.py\", line 440, in send\n",
      "    resp = conn.urlopen(\n",
      "  File \"/home/gabriel/miniconda3/envs/pt_nlp/lib/python3.9/site-packages/urllib3/connectionpool.py\", line 755, in urlopen\n",
      "    retries = retries.increment(\n",
      "  File \"/home/gabriel/miniconda3/envs/pt_nlp/lib/python3.9/site-packages/urllib3/util/retry.py\", line 574, in increment\n",
      "    raise MaxRetryError(_pool, url, error or ResponseError(cause))\n",
      "urllib3.exceptions.MaxRetryError: HTTPConnectionPool(host='m-edition.co.uk', port=80): Max retries exceeded with url: /products/ch103-sofa (Caused by NewConnectionError('<urllib3.connection.HTTPConnection object at 0x7f1723140100>: Failed to establish a new connection: [Errno -2] Name or service not known'))\n",
      "\n",
      "During handling of the above exception, another exception occurred:\n",
      "\n",
      "Traceback (most recent call last):\n",
      "  File \"/tmp/ipykernel_6102/253839466.py\", line 10, in build_dataset\n",
      "    data = requests.get(url)\n",
      "  File \"/home/gabriel/miniconda3/envs/pt_nlp/lib/python3.9/site-packages/requests/api.py\", line 75, in get\n",
      "    return request('get', url, params=params, **kwargs)\n",
      "  File \"/home/gabriel/miniconda3/envs/pt_nlp/lib/python3.9/site-packages/requests/api.py\", line 61, in request\n",
      "    return session.request(method=method, url=url, **kwargs)\n",
      "  File \"/home/gabriel/miniconda3/envs/pt_nlp/lib/python3.9/site-packages/requests/sessions.py\", line 529, in request\n",
      "    resp = self.send(prep, **send_kwargs)\n",
      "  File \"/home/gabriel/miniconda3/envs/pt_nlp/lib/python3.9/site-packages/requests/sessions.py\", line 645, in send\n",
      "    r = adapter.send(request, **kwargs)\n",
      "  File \"/home/gabriel/miniconda3/envs/pt_nlp/lib/python3.9/site-packages/requests/adapters.py\", line 519, in send\n",
      "    raise ConnectionError(e, request=request)\n",
      "requests.exceptions.ConnectionError: HTTPConnectionPool(host='m-edition.co.uk', port=80): Max retries exceeded with url: /products/ch103-sofa (Caused by NewConnectionError('<urllib3.connection.HTTPConnection object at 0x7f1723140100>: Failed to establish a new connection: [Errno -2] Name or service not known'))\n"
     ]
    },
    {
     "name": "stderr",
     "output_type": "stream",
     "text": [
      "ERROR:root:HTTPSConnectionPool(host='paulcaseboutique.co.uk', port=443): Max retries exceeded with url: /products/spyder-dining-chair (Caused by SSLError(SSLError(1, '[SSL: SSLV3_ALERT_HANDSHAKE_FAILURE] sslv3 alert handshake failure (_ssl.c:1129)')))\n",
      "Traceback (most recent call last):\n",
      "  File \"/home/gabriel/miniconda3/envs/pt_nlp/lib/python3.9/site-packages/urllib3/connectionpool.py\", line 699, in urlopen\n",
      "    httplib_response = self._make_request(\n",
      "  File \"/home/gabriel/miniconda3/envs/pt_nlp/lib/python3.9/site-packages/urllib3/connectionpool.py\", line 382, in _make_request\n",
      "    self._validate_conn(conn)\n",
      "  File \"/home/gabriel/miniconda3/envs/pt_nlp/lib/python3.9/site-packages/urllib3/connectionpool.py\", line 1010, in _validate_conn\n",
      "    conn.connect()\n",
      "  File \"/home/gabriel/miniconda3/envs/pt_nlp/lib/python3.9/site-packages/urllib3/connection.py\", line 416, in connect\n",
      "    self.sock = ssl_wrap_socket(\n",
      "  File \"/home/gabriel/miniconda3/envs/pt_nlp/lib/python3.9/site-packages/urllib3/util/ssl_.py\", line 449, in ssl_wrap_socket\n",
      "    ssl_sock = _ssl_wrap_socket_impl(\n",
      "  File \"/home/gabriel/miniconda3/envs/pt_nlp/lib/python3.9/site-packages/urllib3/util/ssl_.py\", line 493, in _ssl_wrap_socket_impl\n",
      "    return ssl_context.wrap_socket(sock, server_hostname=server_hostname)\n",
      "  File \"/home/gabriel/miniconda3/envs/pt_nlp/lib/python3.9/ssl.py\", line 500, in wrap_socket\n",
      "    return self.sslsocket_class._create(\n",
      "  File \"/home/gabriel/miniconda3/envs/pt_nlp/lib/python3.9/ssl.py\", line 1040, in _create\n",
      "    self.do_handshake()\n",
      "  File \"/home/gabriel/miniconda3/envs/pt_nlp/lib/python3.9/ssl.py\", line 1309, in do_handshake\n",
      "    self._sslobj.do_handshake()\n",
      "ssl.SSLError: [SSL: SSLV3_ALERT_HANDSHAKE_FAILURE] sslv3 alert handshake failure (_ssl.c:1129)\n",
      "\n",
      "During handling of the above exception, another exception occurred:\n",
      "\n",
      "Traceback (most recent call last):\n",
      "  File \"/home/gabriel/miniconda3/envs/pt_nlp/lib/python3.9/site-packages/requests/adapters.py\", line 440, in send\n",
      "    resp = conn.urlopen(\n",
      "  File \"/home/gabriel/miniconda3/envs/pt_nlp/lib/python3.9/site-packages/urllib3/connectionpool.py\", line 755, in urlopen\n",
      "    retries = retries.increment(\n",
      "  File \"/home/gabriel/miniconda3/envs/pt_nlp/lib/python3.9/site-packages/urllib3/util/retry.py\", line 574, in increment\n",
      "    raise MaxRetryError(_pool, url, error or ResponseError(cause))\n",
      "urllib3.exceptions.MaxRetryError: HTTPSConnectionPool(host='paulcaseboutique.co.uk', port=443): Max retries exceeded with url: /products/spyder-dining-chair (Caused by SSLError(SSLError(1, '[SSL: SSLV3_ALERT_HANDSHAKE_FAILURE] sslv3 alert handshake failure (_ssl.c:1129)')))\n",
      "\n",
      "During handling of the above exception, another exception occurred:\n",
      "\n",
      "Traceback (most recent call last):\n",
      "  File \"/tmp/ipykernel_6102/253839466.py\", line 10, in build_dataset\n",
      "    data = requests.get(url)\n",
      "  File \"/home/gabriel/miniconda3/envs/pt_nlp/lib/python3.9/site-packages/requests/api.py\", line 75, in get\n",
      "    return request('get', url, params=params, **kwargs)\n",
      "  File \"/home/gabriel/miniconda3/envs/pt_nlp/lib/python3.9/site-packages/requests/api.py\", line 61, in request\n",
      "    return session.request(method=method, url=url, **kwargs)\n",
      "  File \"/home/gabriel/miniconda3/envs/pt_nlp/lib/python3.9/site-packages/requests/sessions.py\", line 529, in request\n",
      "    resp = self.send(prep, **send_kwargs)\n",
      "  File \"/home/gabriel/miniconda3/envs/pt_nlp/lib/python3.9/site-packages/requests/sessions.py\", line 645, in send\n",
      "    r = adapter.send(request, **kwargs)\n",
      "  File \"/home/gabriel/miniconda3/envs/pt_nlp/lib/python3.9/site-packages/requests/adapters.py\", line 517, in send\n",
      "    raise SSLError(e, request=request)\n",
      "requests.exceptions.SSLError: HTTPSConnectionPool(host='paulcaseboutique.co.uk', port=443): Max retries exceeded with url: /products/spyder-dining-chair (Caused by SSLError(SSLError(1, '[SSL: SSLV3_ALERT_HANDSHAKE_FAILURE] sslv3 alert handshake failure (_ssl.c:1129)')))\n",
      "ERROR:root:HTTPSConnectionPool(host='www.search4furniture.com', port=443): Max retries exceeded with url: /products/ritz-bed (Caused by NewConnectionError('<urllib3.connection.HTTPSConnection object at 0x7f1722f6c340>: Failed to establish a new connection: [Errno 111] Connection refused'))\n",
      "Traceback (most recent call last):\n",
      "  File \"/home/gabriel/miniconda3/envs/pt_nlp/lib/python3.9/site-packages/urllib3/connection.py\", line 174, in _new_conn\n",
      "    conn = connection.create_connection(\n",
      "  File \"/home/gabriel/miniconda3/envs/pt_nlp/lib/python3.9/site-packages/urllib3/util/connection.py\", line 96, in create_connection\n",
      "    raise err\n",
      "  File \"/home/gabriel/miniconda3/envs/pt_nlp/lib/python3.9/site-packages/urllib3/util/connection.py\", line 86, in create_connection\n",
      "    sock.connect(sa)\n",
      "ConnectionRefusedError: [Errno 111] Connection refused\n",
      "\n",
      "During handling of the above exception, another exception occurred:\n",
      "\n",
      "Traceback (most recent call last):\n",
      "  File \"/home/gabriel/miniconda3/envs/pt_nlp/lib/python3.9/site-packages/urllib3/connectionpool.py\", line 699, in urlopen\n",
      "    httplib_response = self._make_request(\n",
      "  File \"/home/gabriel/miniconda3/envs/pt_nlp/lib/python3.9/site-packages/urllib3/connectionpool.py\", line 382, in _make_request\n",
      "    self._validate_conn(conn)\n",
      "  File \"/home/gabriel/miniconda3/envs/pt_nlp/lib/python3.9/site-packages/urllib3/connectionpool.py\", line 1010, in _validate_conn\n",
      "    conn.connect()\n",
      "  File \"/home/gabriel/miniconda3/envs/pt_nlp/lib/python3.9/site-packages/urllib3/connection.py\", line 358, in connect\n",
      "    conn = self._new_conn()\n",
      "  File \"/home/gabriel/miniconda3/envs/pt_nlp/lib/python3.9/site-packages/urllib3/connection.py\", line 186, in _new_conn\n",
      "    raise NewConnectionError(\n",
      "urllib3.exceptions.NewConnectionError: <urllib3.connection.HTTPSConnection object at 0x7f1722f6c340>: Failed to establish a new connection: [Errno 111] Connection refused\n",
      "\n",
      "During handling of the above exception, another exception occurred:\n",
      "\n",
      "Traceback (most recent call last):\n",
      "  File \"/home/gabriel/miniconda3/envs/pt_nlp/lib/python3.9/site-packages/requests/adapters.py\", line 440, in send\n",
      "    resp = conn.urlopen(\n",
      "  File \"/home/gabriel/miniconda3/envs/pt_nlp/lib/python3.9/site-packages/urllib3/connectionpool.py\", line 755, in urlopen\n",
      "    retries = retries.increment(\n",
      "  File \"/home/gabriel/miniconda3/envs/pt_nlp/lib/python3.9/site-packages/urllib3/util/retry.py\", line 574, in increment\n",
      "    raise MaxRetryError(_pool, url, error or ResponseError(cause))\n",
      "urllib3.exceptions.MaxRetryError: HTTPSConnectionPool(host='www.search4furniture.com', port=443): Max retries exceeded with url: /products/ritz-bed (Caused by NewConnectionError('<urllib3.connection.HTTPSConnection object at 0x7f1722f6c340>: Failed to establish a new connection: [Errno 111] Connection refused'))\n",
      "\n",
      "During handling of the above exception, another exception occurred:\n",
      "\n",
      "Traceback (most recent call last):\n",
      "  File \"/tmp/ipykernel_6102/253839466.py\", line 10, in build_dataset\n",
      "    data = requests.get(url)\n",
      "  File \"/home/gabriel/miniconda3/envs/pt_nlp/lib/python3.9/site-packages/requests/api.py\", line 75, in get\n",
      "    return request('get', url, params=params, **kwargs)\n",
      "  File \"/home/gabriel/miniconda3/envs/pt_nlp/lib/python3.9/site-packages/requests/api.py\", line 61, in request\n",
      "    return session.request(method=method, url=url, **kwargs)\n",
      "  File \"/home/gabriel/miniconda3/envs/pt_nlp/lib/python3.9/site-packages/requests/sessions.py\", line 529, in request\n",
      "    resp = self.send(prep, **send_kwargs)\n",
      "  File \"/home/gabriel/miniconda3/envs/pt_nlp/lib/python3.9/site-packages/requests/sessions.py\", line 645, in send\n",
      "    r = adapter.send(request, **kwargs)\n",
      "  File \"/home/gabriel/miniconda3/envs/pt_nlp/lib/python3.9/site-packages/requests/adapters.py\", line 519, in send\n",
      "    raise ConnectionError(e, request=request)\n",
      "requests.exceptions.ConnectionError: HTTPSConnectionPool(host='www.search4furniture.com', port=443): Max retries exceeded with url: /products/ritz-bed (Caused by NewConnectionError('<urllib3.connection.HTTPSConnection object at 0x7f1722f6c340>: Failed to establish a new connection: [Errno 111] Connection refused'))\n",
      "ERROR:root:HTTPConnectionPool(host='www.sjdfurniture.co.uk', port=80): Max retries exceeded with url: /products/ (Caused by NewConnectionError('<urllib3.connection.HTTPConnection object at 0x7f1722ec30d0>: Failed to establish a new connection: [Errno -2] Name or service not known'))\n",
      "Traceback (most recent call last):\n",
      "  File \"/home/gabriel/miniconda3/envs/pt_nlp/lib/python3.9/site-packages/urllib3/connection.py\", line 174, in _new_conn\n",
      "    conn = connection.create_connection(\n",
      "  File \"/home/gabriel/miniconda3/envs/pt_nlp/lib/python3.9/site-packages/urllib3/util/connection.py\", line 73, in create_connection\n",
      "    for res in socket.getaddrinfo(host, port, family, socket.SOCK_STREAM):\n",
      "  File \"/home/gabriel/miniconda3/envs/pt_nlp/lib/python3.9/socket.py\", line 954, in getaddrinfo\n",
      "    for res in _socket.getaddrinfo(host, port, family, type, proto, flags):\n",
      "socket.gaierror: [Errno -2] Name or service not known\n",
      "\n",
      "During handling of the above exception, another exception occurred:\n",
      "\n",
      "Traceback (most recent call last):\n",
      "  File \"/home/gabriel/miniconda3/envs/pt_nlp/lib/python3.9/site-packages/urllib3/connectionpool.py\", line 699, in urlopen\n",
      "    httplib_response = self._make_request(\n",
      "  File \"/home/gabriel/miniconda3/envs/pt_nlp/lib/python3.9/site-packages/urllib3/connectionpool.py\", line 394, in _make_request\n",
      "    conn.request(method, url, **httplib_request_kw)\n",
      "  File \"/home/gabriel/miniconda3/envs/pt_nlp/lib/python3.9/site-packages/urllib3/connection.py\", line 239, in request\n",
      "    super(HTTPConnection, self).request(method, url, body=body, headers=headers)\n",
      "  File \"/home/gabriel/miniconda3/envs/pt_nlp/lib/python3.9/http/client.py\", line 1279, in request\n",
      "    self._send_request(method, url, body, headers, encode_chunked)\n",
      "  File \"/home/gabriel/miniconda3/envs/pt_nlp/lib/python3.9/http/client.py\", line 1325, in _send_request\n",
      "    self.endheaders(body, encode_chunked=encode_chunked)\n",
      "  File \"/home/gabriel/miniconda3/envs/pt_nlp/lib/python3.9/http/client.py\", line 1274, in endheaders\n",
      "    self._send_output(message_body, encode_chunked=encode_chunked)\n",
      "  File \"/home/gabriel/miniconda3/envs/pt_nlp/lib/python3.9/http/client.py\", line 1034, in _send_output\n",
      "    self.send(msg)\n",
      "  File \"/home/gabriel/miniconda3/envs/pt_nlp/lib/python3.9/http/client.py\", line 974, in send\n",
      "    self.connect()\n",
      "  File \"/home/gabriel/miniconda3/envs/pt_nlp/lib/python3.9/site-packages/urllib3/connection.py\", line 205, in connect\n",
      "    conn = self._new_conn()\n",
      "  File \"/home/gabriel/miniconda3/envs/pt_nlp/lib/python3.9/site-packages/urllib3/connection.py\", line 186, in _new_conn\n",
      "    raise NewConnectionError(\n",
      "urllib3.exceptions.NewConnectionError: <urllib3.connection.HTTPConnection object at 0x7f1722ec30d0>: Failed to establish a new connection: [Errno -2] Name or service not known\n",
      "\n",
      "During handling of the above exception, another exception occurred:\n",
      "\n",
      "Traceback (most recent call last):\n",
      "  File \"/home/gabriel/miniconda3/envs/pt_nlp/lib/python3.9/site-packages/requests/adapters.py\", line 440, in send\n",
      "    resp = conn.urlopen(\n",
      "  File \"/home/gabriel/miniconda3/envs/pt_nlp/lib/python3.9/site-packages/urllib3/connectionpool.py\", line 755, in urlopen\n",
      "    retries = retries.increment(\n",
      "  File \"/home/gabriel/miniconda3/envs/pt_nlp/lib/python3.9/site-packages/urllib3/util/retry.py\", line 574, in increment\n",
      "    raise MaxRetryError(_pool, url, error or ResponseError(cause))\n",
      "urllib3.exceptions.MaxRetryError: HTTPConnectionPool(host='www.sjdfurniture.co.uk', port=80): Max retries exceeded with url: /products/ (Caused by NewConnectionError('<urllib3.connection.HTTPConnection object at 0x7f1722ec30d0>: Failed to establish a new connection: [Errno -2] Name or service not known'))\n",
      "\n",
      "During handling of the above exception, another exception occurred:\n",
      "\n",
      "Traceback (most recent call last):\n",
      "  File \"/tmp/ipykernel_6102/253839466.py\", line 10, in build_dataset\n",
      "    data = requests.get(url)\n",
      "  File \"/home/gabriel/miniconda3/envs/pt_nlp/lib/python3.9/site-packages/requests/api.py\", line 75, in get\n",
      "    return request('get', url, params=params, **kwargs)\n",
      "  File \"/home/gabriel/miniconda3/envs/pt_nlp/lib/python3.9/site-packages/requests/api.py\", line 61, in request\n",
      "    return session.request(method=method, url=url, **kwargs)\n",
      "  File \"/home/gabriel/miniconda3/envs/pt_nlp/lib/python3.9/site-packages/requests/sessions.py\", line 529, in request\n",
      "    resp = self.send(prep, **send_kwargs)\n",
      "  File \"/home/gabriel/miniconda3/envs/pt_nlp/lib/python3.9/site-packages/requests/sessions.py\", line 645, in send\n",
      "    r = adapter.send(request, **kwargs)\n",
      "  File \"/home/gabriel/miniconda3/envs/pt_nlp/lib/python3.9/site-packages/requests/adapters.py\", line 519, in send\n",
      "    raise ConnectionError(e, request=request)\n",
      "requests.exceptions.ConnectionError: HTTPConnectionPool(host='www.sjdfurniture.co.uk', port=80): Max retries exceeded with url: /products/ (Caused by NewConnectionError('<urllib3.connection.HTTPConnection object at 0x7f1722ec30d0>: Failed to establish a new connection: [Errno -2] Name or service not known'))\n"
     ]
    },
    {
     "name": "stderr",
     "output_type": "stream",
     "text": [
      "WARNING:urllib3.connection:Certificate did not match expected hostname: thedorsetfurniturecompany.co.uk. Certificate: {'subject': ((('countryName', 'US'),), (('stateOrProvinceName', 'California'),), (('localityName', 'San Francisco'),), (('organizationName', 'Cloudflare, Inc.'),), (('commonName', '*.myshopify.com'),)), 'issuer': ((('countryName', 'US'),), (('organizationName', 'Cloudflare, Inc.'),), (('commonName', 'Cloudflare Inc ECC CA-3'),)), 'version': 3, 'serialNumber': '08D14009B8CCFD7A28D460E790084A96', 'notBefore': 'Sep 13 00:00:00 2021 GMT', 'notAfter': 'Sep 12 23:59:59 2022 GMT', 'subjectAltName': (('DNS', 'myshopify.com'), ('DNS', '*.myshopify.com')), 'OCSP': ('http://ocsp.digicert.com',), 'caIssuers': ('http://cacerts.digicert.com/CloudflareIncECCCA-3.crt',), 'crlDistributionPoints': ('http://crl3.digicert.com/CloudflareIncECCCA-3.crl', 'http://crl4.digicert.com/CloudflareIncECCCA-3.crl')}\n",
      "ERROR:root:HTTPSConnectionPool(host='thedorsetfurniturecompany.co.uk', port=443): Max retries exceeded with url: /products/arctic-white-high-gloss-150cm-shelf (Caused by SSLError(SSLCertVerificationError(\"hostname 'thedorsetfurniturecompany.co.uk' doesn't match either of 'myshopify.com', '*.myshopify.com'\")))\n",
      "Traceback (most recent call last):\n",
      "  File \"/home/gabriel/miniconda3/envs/pt_nlp/lib/python3.9/site-packages/urllib3/connectionpool.py\", line 699, in urlopen\n",
      "    httplib_response = self._make_request(\n",
      "  File \"/home/gabriel/miniconda3/envs/pt_nlp/lib/python3.9/site-packages/urllib3/connectionpool.py\", line 382, in _make_request\n",
      "    self._validate_conn(conn)\n",
      "  File \"/home/gabriel/miniconda3/envs/pt_nlp/lib/python3.9/site-packages/urllib3/connectionpool.py\", line 1010, in _validate_conn\n",
      "    conn.connect()\n",
      "  File \"/home/gabriel/miniconda3/envs/pt_nlp/lib/python3.9/site-packages/urllib3/connection.py\", line 469, in connect\n",
      "    _match_hostname(cert, self.assert_hostname or server_hostname)\n",
      "  File \"/home/gabriel/miniconda3/envs/pt_nlp/lib/python3.9/site-packages/urllib3/connection.py\", line 542, in _match_hostname\n",
      "    match_hostname(cert, asserted_hostname)\n",
      "  File \"/home/gabriel/miniconda3/envs/pt_nlp/lib/python3.9/ssl.py\", line 416, in match_hostname\n",
      "    raise CertificateError(\"hostname %r \"\n",
      "ssl.SSLCertVerificationError: (\"hostname 'thedorsetfurniturecompany.co.uk' doesn't match either of 'myshopify.com', '*.myshopify.com'\",)\n",
      "\n",
      "During handling of the above exception, another exception occurred:\n",
      "\n",
      "Traceback (most recent call last):\n",
      "  File \"/home/gabriel/miniconda3/envs/pt_nlp/lib/python3.9/site-packages/requests/adapters.py\", line 440, in send\n",
      "    resp = conn.urlopen(\n",
      "  File \"/home/gabriel/miniconda3/envs/pt_nlp/lib/python3.9/site-packages/urllib3/connectionpool.py\", line 755, in urlopen\n",
      "    retries = retries.increment(\n",
      "  File \"/home/gabriel/miniconda3/envs/pt_nlp/lib/python3.9/site-packages/urllib3/util/retry.py\", line 574, in increment\n",
      "    raise MaxRetryError(_pool, url, error or ResponseError(cause))\n",
      "urllib3.exceptions.MaxRetryError: HTTPSConnectionPool(host='thedorsetfurniturecompany.co.uk', port=443): Max retries exceeded with url: /products/arctic-white-high-gloss-150cm-shelf (Caused by SSLError(SSLCertVerificationError(\"hostname 'thedorsetfurniturecompany.co.uk' doesn't match either of 'myshopify.com', '*.myshopify.com'\")))\n",
      "\n",
      "During handling of the above exception, another exception occurred:\n",
      "\n",
      "Traceback (most recent call last):\n",
      "  File \"/tmp/ipykernel_6102/253839466.py\", line 10, in build_dataset\n",
      "    data = requests.get(url)\n",
      "  File \"/home/gabriel/miniconda3/envs/pt_nlp/lib/python3.9/site-packages/requests/api.py\", line 75, in get\n",
      "    return request('get', url, params=params, **kwargs)\n",
      "  File \"/home/gabriel/miniconda3/envs/pt_nlp/lib/python3.9/site-packages/requests/api.py\", line 61, in request\n",
      "    return session.request(method=method, url=url, **kwargs)\n",
      "  File \"/home/gabriel/miniconda3/envs/pt_nlp/lib/python3.9/site-packages/requests/sessions.py\", line 529, in request\n",
      "    resp = self.send(prep, **send_kwargs)\n",
      "  File \"/home/gabriel/miniconda3/envs/pt_nlp/lib/python3.9/site-packages/requests/sessions.py\", line 645, in send\n",
      "    r = adapter.send(request, **kwargs)\n",
      "  File \"/home/gabriel/miniconda3/envs/pt_nlp/lib/python3.9/site-packages/requests/adapters.py\", line 517, in send\n",
      "    raise SSLError(e, request=request)\n",
      "requests.exceptions.SSLError: HTTPSConnectionPool(host='thedorsetfurniturecompany.co.uk', port=443): Max retries exceeded with url: /products/arctic-white-high-gloss-150cm-shelf (Caused by SSLError(SSLCertVerificationError(\"hostname 'thedorsetfurniturecompany.co.uk' doesn't match either of 'myshopify.com', '*.myshopify.com'\")))\n",
      "WARNING:urllib3.connection:Certificate did not match expected hostname: igigishop.co.uk. Certificate: {'subject': ((('countryName', 'US'),), (('stateOrProvinceName', 'California'),), (('localityName', 'San Francisco'),), (('organizationName', 'Cloudflare, Inc.'),), (('commonName', '*.myshopify.com'),)), 'issuer': ((('countryName', 'US'),), (('organizationName', 'Cloudflare, Inc.'),), (('commonName', 'Cloudflare Inc ECC CA-3'),)), 'version': 3, 'serialNumber': '08D14009B8CCFD7A28D460E790084A96', 'notBefore': 'Sep 13 00:00:00 2021 GMT', 'notAfter': 'Sep 12 23:59:59 2022 GMT', 'subjectAltName': (('DNS', 'myshopify.com'), ('DNS', '*.myshopify.com')), 'OCSP': ('http://ocsp.digicert.com',), 'caIssuers': ('http://cacerts.digicert.com/CloudflareIncECCCA-3.crt',), 'crlDistributionPoints': ('http://crl3.digicert.com/CloudflareIncECCCA-3.crl', 'http://crl4.digicert.com/CloudflareIncECCCA-3.crl')}\n",
      "ERROR:root:HTTPSConnectionPool(host='igigishop.co.uk', port=443): Max retries exceeded with url: /products/cotton-rug (Caused by SSLError(SSLCertVerificationError(\"hostname 'igigishop.co.uk' doesn't match either of 'myshopify.com', '*.myshopify.com'\")))\n",
      "Traceback (most recent call last):\n",
      "  File \"/home/gabriel/miniconda3/envs/pt_nlp/lib/python3.9/site-packages/urllib3/connectionpool.py\", line 699, in urlopen\n",
      "    httplib_response = self._make_request(\n",
      "  File \"/home/gabriel/miniconda3/envs/pt_nlp/lib/python3.9/site-packages/urllib3/connectionpool.py\", line 382, in _make_request\n",
      "    self._validate_conn(conn)\n",
      "  File \"/home/gabriel/miniconda3/envs/pt_nlp/lib/python3.9/site-packages/urllib3/connectionpool.py\", line 1010, in _validate_conn\n",
      "    conn.connect()\n",
      "  File \"/home/gabriel/miniconda3/envs/pt_nlp/lib/python3.9/site-packages/urllib3/connection.py\", line 469, in connect\n",
      "    _match_hostname(cert, self.assert_hostname or server_hostname)\n",
      "  File \"/home/gabriel/miniconda3/envs/pt_nlp/lib/python3.9/site-packages/urllib3/connection.py\", line 542, in _match_hostname\n",
      "    match_hostname(cert, asserted_hostname)\n",
      "  File \"/home/gabriel/miniconda3/envs/pt_nlp/lib/python3.9/ssl.py\", line 416, in match_hostname\n",
      "    raise CertificateError(\"hostname %r \"\n",
      "ssl.SSLCertVerificationError: (\"hostname 'igigishop.co.uk' doesn't match either of 'myshopify.com', '*.myshopify.com'\",)\n",
      "\n",
      "During handling of the above exception, another exception occurred:\n",
      "\n",
      "Traceback (most recent call last):\n",
      "  File \"/home/gabriel/miniconda3/envs/pt_nlp/lib/python3.9/site-packages/requests/adapters.py\", line 440, in send\n",
      "    resp = conn.urlopen(\n",
      "  File \"/home/gabriel/miniconda3/envs/pt_nlp/lib/python3.9/site-packages/urllib3/connectionpool.py\", line 755, in urlopen\n",
      "    retries = retries.increment(\n",
      "  File \"/home/gabriel/miniconda3/envs/pt_nlp/lib/python3.9/site-packages/urllib3/util/retry.py\", line 574, in increment\n",
      "    raise MaxRetryError(_pool, url, error or ResponseError(cause))\n",
      "urllib3.exceptions.MaxRetryError: HTTPSConnectionPool(host='igigishop.co.uk', port=443): Max retries exceeded with url: /products/cotton-rug (Caused by SSLError(SSLCertVerificationError(\"hostname 'igigishop.co.uk' doesn't match either of 'myshopify.com', '*.myshopify.com'\")))\n",
      "\n",
      "During handling of the above exception, another exception occurred:\n",
      "\n",
      "Traceback (most recent call last):\n",
      "  File \"/tmp/ipykernel_6102/253839466.py\", line 10, in build_dataset\n",
      "    data = requests.get(url)\n",
      "  File \"/home/gabriel/miniconda3/envs/pt_nlp/lib/python3.9/site-packages/requests/api.py\", line 75, in get\n",
      "    return request('get', url, params=params, **kwargs)\n",
      "  File \"/home/gabriel/miniconda3/envs/pt_nlp/lib/python3.9/site-packages/requests/api.py\", line 61, in request\n",
      "    return session.request(method=method, url=url, **kwargs)\n",
      "  File \"/home/gabriel/miniconda3/envs/pt_nlp/lib/python3.9/site-packages/requests/sessions.py\", line 529, in request\n",
      "    resp = self.send(prep, **send_kwargs)\n",
      "  File \"/home/gabriel/miniconda3/envs/pt_nlp/lib/python3.9/site-packages/requests/sessions.py\", line 645, in send\n",
      "    r = adapter.send(request, **kwargs)\n",
      "  File \"/home/gabriel/miniconda3/envs/pt_nlp/lib/python3.9/site-packages/requests/adapters.py\", line 517, in send\n",
      "    raise SSLError(e, request=request)\n",
      "requests.exceptions.SSLError: HTTPSConnectionPool(host='igigishop.co.uk', port=443): Max retries exceeded with url: /products/cotton-rug (Caused by SSLError(SSLCertVerificationError(\"hostname 'igigishop.co.uk' doesn't match either of 'myshopify.com', '*.myshopify.com'\")))\n"
     ]
    },
    {
     "name": "stderr",
     "output_type": "stream",
     "text": [
      "ERROR:root:HTTPSConnectionPool(host='divine-interiors.co.uk', port=443): Max retries exceeded with url: /products/sofa-deposit (Caused by NewConnectionError('<urllib3.connection.HTTPSConnection object at 0x7f1723d1f700>: Failed to establish a new connection: [Errno -2] Name or service not known'))\n",
      "Traceback (most recent call last):\n",
      "  File \"/home/gabriel/miniconda3/envs/pt_nlp/lib/python3.9/site-packages/urllib3/connection.py\", line 174, in _new_conn\n",
      "    conn = connection.create_connection(\n",
      "  File \"/home/gabriel/miniconda3/envs/pt_nlp/lib/python3.9/site-packages/urllib3/util/connection.py\", line 73, in create_connection\n",
      "    for res in socket.getaddrinfo(host, port, family, socket.SOCK_STREAM):\n",
      "  File \"/home/gabriel/miniconda3/envs/pt_nlp/lib/python3.9/socket.py\", line 954, in getaddrinfo\n",
      "    for res in _socket.getaddrinfo(host, port, family, type, proto, flags):\n",
      "socket.gaierror: [Errno -2] Name or service not known\n",
      "\n",
      "During handling of the above exception, another exception occurred:\n",
      "\n",
      "Traceback (most recent call last):\n",
      "  File \"/home/gabriel/miniconda3/envs/pt_nlp/lib/python3.9/site-packages/urllib3/connectionpool.py\", line 699, in urlopen\n",
      "    httplib_response = self._make_request(\n",
      "  File \"/home/gabriel/miniconda3/envs/pt_nlp/lib/python3.9/site-packages/urllib3/connectionpool.py\", line 382, in _make_request\n",
      "    self._validate_conn(conn)\n",
      "  File \"/home/gabriel/miniconda3/envs/pt_nlp/lib/python3.9/site-packages/urllib3/connectionpool.py\", line 1010, in _validate_conn\n",
      "    conn.connect()\n",
      "  File \"/home/gabriel/miniconda3/envs/pt_nlp/lib/python3.9/site-packages/urllib3/connection.py\", line 358, in connect\n",
      "    conn = self._new_conn()\n",
      "  File \"/home/gabriel/miniconda3/envs/pt_nlp/lib/python3.9/site-packages/urllib3/connection.py\", line 186, in _new_conn\n",
      "    raise NewConnectionError(\n",
      "urllib3.exceptions.NewConnectionError: <urllib3.connection.HTTPSConnection object at 0x7f1723d1f700>: Failed to establish a new connection: [Errno -2] Name or service not known\n",
      "\n",
      "During handling of the above exception, another exception occurred:\n",
      "\n",
      "Traceback (most recent call last):\n",
      "  File \"/home/gabriel/miniconda3/envs/pt_nlp/lib/python3.9/site-packages/requests/adapters.py\", line 440, in send\n",
      "    resp = conn.urlopen(\n",
      "  File \"/home/gabriel/miniconda3/envs/pt_nlp/lib/python3.9/site-packages/urllib3/connectionpool.py\", line 755, in urlopen\n",
      "    retries = retries.increment(\n",
      "  File \"/home/gabriel/miniconda3/envs/pt_nlp/lib/python3.9/site-packages/urllib3/util/retry.py\", line 574, in increment\n",
      "    raise MaxRetryError(_pool, url, error or ResponseError(cause))\n",
      "urllib3.exceptions.MaxRetryError: HTTPSConnectionPool(host='divine-interiors.co.uk', port=443): Max retries exceeded with url: /products/sofa-deposit (Caused by NewConnectionError('<urllib3.connection.HTTPSConnection object at 0x7f1723d1f700>: Failed to establish a new connection: [Errno -2] Name or service not known'))\n",
      "\n",
      "During handling of the above exception, another exception occurred:\n",
      "\n",
      "Traceback (most recent call last):\n",
      "  File \"/tmp/ipykernel_6102/253839466.py\", line 10, in build_dataset\n",
      "    data = requests.get(url)\n",
      "  File \"/home/gabriel/miniconda3/envs/pt_nlp/lib/python3.9/site-packages/requests/api.py\", line 75, in get\n",
      "    return request('get', url, params=params, **kwargs)\n",
      "  File \"/home/gabriel/miniconda3/envs/pt_nlp/lib/python3.9/site-packages/requests/api.py\", line 61, in request\n",
      "    return session.request(method=method, url=url, **kwargs)\n",
      "  File \"/home/gabriel/miniconda3/envs/pt_nlp/lib/python3.9/site-packages/requests/sessions.py\", line 529, in request\n",
      "    resp = self.send(prep, **send_kwargs)\n",
      "  File \"/home/gabriel/miniconda3/envs/pt_nlp/lib/python3.9/site-packages/requests/sessions.py\", line 645, in send\n",
      "    r = adapter.send(request, **kwargs)\n",
      "  File \"/home/gabriel/miniconda3/envs/pt_nlp/lib/python3.9/site-packages/requests/adapters.py\", line 519, in send\n",
      "    raise ConnectionError(e, request=request)\n",
      "requests.exceptions.ConnectionError: HTTPSConnectionPool(host='divine-interiors.co.uk', port=443): Max retries exceeded with url: /products/sofa-deposit (Caused by NewConnectionError('<urllib3.connection.HTTPSConnection object at 0x7f1723d1f700>: Failed to establish a new connection: [Errno -2] Name or service not known'))\n",
      "ERROR:root:HTTPSConnectionPool(host='shackletonsretail.co.uk', port=443): Max retries exceeded with url: /products/ (Caused by SSLError(SSLCertVerificationError(1, '[SSL: CERTIFICATE_VERIFY_FAILED] certificate verify failed: unable to get local issuer certificate (_ssl.c:1129)')))\n",
      "Traceback (most recent call last):\n",
      "  File \"/home/gabriel/miniconda3/envs/pt_nlp/lib/python3.9/site-packages/urllib3/connectionpool.py\", line 699, in urlopen\n",
      "    httplib_response = self._make_request(\n",
      "  File \"/home/gabriel/miniconda3/envs/pt_nlp/lib/python3.9/site-packages/urllib3/connectionpool.py\", line 382, in _make_request\n",
      "    self._validate_conn(conn)\n",
      "  File \"/home/gabriel/miniconda3/envs/pt_nlp/lib/python3.9/site-packages/urllib3/connectionpool.py\", line 1010, in _validate_conn\n",
      "    conn.connect()\n",
      "  File \"/home/gabriel/miniconda3/envs/pt_nlp/lib/python3.9/site-packages/urllib3/connection.py\", line 416, in connect\n",
      "    self.sock = ssl_wrap_socket(\n",
      "  File \"/home/gabriel/miniconda3/envs/pt_nlp/lib/python3.9/site-packages/urllib3/util/ssl_.py\", line 449, in ssl_wrap_socket\n",
      "    ssl_sock = _ssl_wrap_socket_impl(\n",
      "  File \"/home/gabriel/miniconda3/envs/pt_nlp/lib/python3.9/site-packages/urllib3/util/ssl_.py\", line 493, in _ssl_wrap_socket_impl\n",
      "    return ssl_context.wrap_socket(sock, server_hostname=server_hostname)\n",
      "  File \"/home/gabriel/miniconda3/envs/pt_nlp/lib/python3.9/ssl.py\", line 500, in wrap_socket\n",
      "    return self.sslsocket_class._create(\n",
      "  File \"/home/gabriel/miniconda3/envs/pt_nlp/lib/python3.9/ssl.py\", line 1040, in _create\n",
      "    self.do_handshake()\n",
      "  File \"/home/gabriel/miniconda3/envs/pt_nlp/lib/python3.9/ssl.py\", line 1309, in do_handshake\n",
      "    self._sslobj.do_handshake()\n",
      "ssl.SSLCertVerificationError: [SSL: CERTIFICATE_VERIFY_FAILED] certificate verify failed: unable to get local issuer certificate (_ssl.c:1129)\n",
      "\n",
      "During handling of the above exception, another exception occurred:\n",
      "\n",
      "Traceback (most recent call last):\n",
      "  File \"/home/gabriel/miniconda3/envs/pt_nlp/lib/python3.9/site-packages/requests/adapters.py\", line 440, in send\n",
      "    resp = conn.urlopen(\n",
      "  File \"/home/gabriel/miniconda3/envs/pt_nlp/lib/python3.9/site-packages/urllib3/connectionpool.py\", line 755, in urlopen\n",
      "    retries = retries.increment(\n",
      "  File \"/home/gabriel/miniconda3/envs/pt_nlp/lib/python3.9/site-packages/urllib3/util/retry.py\", line 574, in increment\n",
      "    raise MaxRetryError(_pool, url, error or ResponseError(cause))\n",
      "urllib3.exceptions.MaxRetryError: HTTPSConnectionPool(host='shackletonsretail.co.uk', port=443): Max retries exceeded with url: /products/ (Caused by SSLError(SSLCertVerificationError(1, '[SSL: CERTIFICATE_VERIFY_FAILED] certificate verify failed: unable to get local issuer certificate (_ssl.c:1129)')))\n",
      "\n",
      "During handling of the above exception, another exception occurred:\n",
      "\n",
      "Traceback (most recent call last):\n",
      "  File \"/tmp/ipykernel_6102/253839466.py\", line 10, in build_dataset\n",
      "    data = requests.get(url)\n",
      "  File \"/home/gabriel/miniconda3/envs/pt_nlp/lib/python3.9/site-packages/requests/api.py\", line 75, in get\n",
      "    return request('get', url, params=params, **kwargs)\n",
      "  File \"/home/gabriel/miniconda3/envs/pt_nlp/lib/python3.9/site-packages/requests/api.py\", line 61, in request\n",
      "    return session.request(method=method, url=url, **kwargs)\n",
      "  File \"/home/gabriel/miniconda3/envs/pt_nlp/lib/python3.9/site-packages/requests/sessions.py\", line 529, in request\n",
      "    resp = self.send(prep, **send_kwargs)\n",
      "  File \"/home/gabriel/miniconda3/envs/pt_nlp/lib/python3.9/site-packages/requests/sessions.py\", line 645, in send\n",
      "    r = adapter.send(request, **kwargs)\n",
      "  File \"/home/gabriel/miniconda3/envs/pt_nlp/lib/python3.9/site-packages/requests/adapters.py\", line 517, in send\n",
      "    raise SSLError(e, request=request)\n",
      "requests.exceptions.SSLError: HTTPSConnectionPool(host='shackletonsretail.co.uk', port=443): Max retries exceeded with url: /products/ (Caused by SSLError(SSLCertVerificationError(1, '[SSL: CERTIFICATE_VERIFY_FAILED] certificate verify failed: unable to get local issuer certificate (_ssl.c:1129)')))\n"
     ]
    },
    {
     "name": "stderr",
     "output_type": "stream",
     "text": [
      "WARNING:urllib3.connection:Certificate did not match expected hostname: www.harperandfaith.co.uk. Certificate: {'subject': ((('countryName', 'US'),), (('stateOrProvinceName', 'California'),), (('localityName', 'San Francisco'),), (('organizationName', 'Cloudflare, Inc.'),), (('commonName', '*.myshopify.com'),)), 'issuer': ((('countryName', 'US'),), (('organizationName', 'Cloudflare, Inc.'),), (('commonName', 'Cloudflare Inc ECC CA-3'),)), 'version': 3, 'serialNumber': '08D14009B8CCFD7A28D460E790084A96', 'notBefore': 'Sep 13 00:00:00 2021 GMT', 'notAfter': 'Sep 12 23:59:59 2022 GMT', 'subjectAltName': (('DNS', 'myshopify.com'), ('DNS', '*.myshopify.com')), 'OCSP': ('http://ocsp.digicert.com',), 'caIssuers': ('http://cacerts.digicert.com/CloudflareIncECCCA-3.crt',), 'crlDistributionPoints': ('http://crl3.digicert.com/CloudflareIncECCCA-3.crl', 'http://crl4.digicert.com/CloudflareIncECCCA-3.crl')}\n",
      "ERROR:root:HTTPSConnectionPool(host='www.harperandfaith.co.uk', port=443): Max retries exceeded with url: /products/jupiter-bed (Caused by SSLError(SSLCertVerificationError(\"hostname 'www.harperandfaith.co.uk' doesn't match either of 'myshopify.com', '*.myshopify.com'\")))\n",
      "Traceback (most recent call last):\n",
      "  File \"/home/gabriel/miniconda3/envs/pt_nlp/lib/python3.9/site-packages/urllib3/connectionpool.py\", line 699, in urlopen\n",
      "    httplib_response = self._make_request(\n",
      "  File \"/home/gabriel/miniconda3/envs/pt_nlp/lib/python3.9/site-packages/urllib3/connectionpool.py\", line 382, in _make_request\n",
      "    self._validate_conn(conn)\n",
      "  File \"/home/gabriel/miniconda3/envs/pt_nlp/lib/python3.9/site-packages/urllib3/connectionpool.py\", line 1010, in _validate_conn\n",
      "    conn.connect()\n",
      "  File \"/home/gabriel/miniconda3/envs/pt_nlp/lib/python3.9/site-packages/urllib3/connection.py\", line 469, in connect\n",
      "    _match_hostname(cert, self.assert_hostname or server_hostname)\n",
      "  File \"/home/gabriel/miniconda3/envs/pt_nlp/lib/python3.9/site-packages/urllib3/connection.py\", line 542, in _match_hostname\n",
      "    match_hostname(cert, asserted_hostname)\n",
      "  File \"/home/gabriel/miniconda3/envs/pt_nlp/lib/python3.9/ssl.py\", line 416, in match_hostname\n",
      "    raise CertificateError(\"hostname %r \"\n",
      "ssl.SSLCertVerificationError: (\"hostname 'www.harperandfaith.co.uk' doesn't match either of 'myshopify.com', '*.myshopify.com'\",)\n",
      "\n",
      "During handling of the above exception, another exception occurred:\n",
      "\n",
      "Traceback (most recent call last):\n",
      "  File \"/home/gabriel/miniconda3/envs/pt_nlp/lib/python3.9/site-packages/requests/adapters.py\", line 440, in send\n",
      "    resp = conn.urlopen(\n",
      "  File \"/home/gabriel/miniconda3/envs/pt_nlp/lib/python3.9/site-packages/urllib3/connectionpool.py\", line 755, in urlopen\n",
      "    retries = retries.increment(\n",
      "  File \"/home/gabriel/miniconda3/envs/pt_nlp/lib/python3.9/site-packages/urllib3/util/retry.py\", line 574, in increment\n",
      "    raise MaxRetryError(_pool, url, error or ResponseError(cause))\n",
      "urllib3.exceptions.MaxRetryError: HTTPSConnectionPool(host='www.harperandfaith.co.uk', port=443): Max retries exceeded with url: /products/jupiter-bed (Caused by SSLError(SSLCertVerificationError(\"hostname 'www.harperandfaith.co.uk' doesn't match either of 'myshopify.com', '*.myshopify.com'\")))\n",
      "\n",
      "During handling of the above exception, another exception occurred:\n",
      "\n",
      "Traceback (most recent call last):\n",
      "  File \"/tmp/ipykernel_6102/253839466.py\", line 10, in build_dataset\n",
      "    data = requests.get(url)\n",
      "  File \"/home/gabriel/miniconda3/envs/pt_nlp/lib/python3.9/site-packages/requests/api.py\", line 75, in get\n",
      "    return request('get', url, params=params, **kwargs)\n",
      "  File \"/home/gabriel/miniconda3/envs/pt_nlp/lib/python3.9/site-packages/requests/api.py\", line 61, in request\n",
      "    return session.request(method=method, url=url, **kwargs)\n",
      "  File \"/home/gabriel/miniconda3/envs/pt_nlp/lib/python3.9/site-packages/requests/sessions.py\", line 529, in request\n",
      "    resp = self.send(prep, **send_kwargs)\n",
      "  File \"/home/gabriel/miniconda3/envs/pt_nlp/lib/python3.9/site-packages/requests/sessions.py\", line 645, in send\n",
      "    r = adapter.send(request, **kwargs)\n",
      "  File \"/home/gabriel/miniconda3/envs/pt_nlp/lib/python3.9/site-packages/requests/adapters.py\", line 517, in send\n",
      "    raise SSLError(e, request=request)\n",
      "requests.exceptions.SSLError: HTTPSConnectionPool(host='www.harperandfaith.co.uk', port=443): Max retries exceeded with url: /products/jupiter-bed (Caused by SSLError(SSLCertVerificationError(\"hostname 'www.harperandfaith.co.uk' doesn't match either of 'myshopify.com', '*.myshopify.com'\")))\n",
      "ERROR:root:HTTPSConnectionPool(host='www.homeaffections.co.uk', port=443): Max retries exceeded with url: /products/wide-display-cabinet-540005-bonoca (Caused by NewConnectionError('<urllib3.connection.HTTPSConnection object at 0x7f1723a3bd00>: Failed to establish a new connection: [Errno -2] Name or service not known'))\n",
      "Traceback (most recent call last):\n",
      "  File \"/home/gabriel/miniconda3/envs/pt_nlp/lib/python3.9/site-packages/urllib3/connection.py\", line 174, in _new_conn\n",
      "    conn = connection.create_connection(\n",
      "  File \"/home/gabriel/miniconda3/envs/pt_nlp/lib/python3.9/site-packages/urllib3/util/connection.py\", line 73, in create_connection\n",
      "    for res in socket.getaddrinfo(host, port, family, socket.SOCK_STREAM):\n",
      "  File \"/home/gabriel/miniconda3/envs/pt_nlp/lib/python3.9/socket.py\", line 954, in getaddrinfo\n",
      "    for res in _socket.getaddrinfo(host, port, family, type, proto, flags):\n",
      "socket.gaierror: [Errno -2] Name or service not known\n",
      "\n",
      "During handling of the above exception, another exception occurred:\n",
      "\n",
      "Traceback (most recent call last):\n",
      "  File \"/home/gabriel/miniconda3/envs/pt_nlp/lib/python3.9/site-packages/urllib3/connectionpool.py\", line 699, in urlopen\n",
      "    httplib_response = self._make_request(\n",
      "  File \"/home/gabriel/miniconda3/envs/pt_nlp/lib/python3.9/site-packages/urllib3/connectionpool.py\", line 382, in _make_request\n",
      "    self._validate_conn(conn)\n",
      "  File \"/home/gabriel/miniconda3/envs/pt_nlp/lib/python3.9/site-packages/urllib3/connectionpool.py\", line 1010, in _validate_conn\n",
      "    conn.connect()\n",
      "  File \"/home/gabriel/miniconda3/envs/pt_nlp/lib/python3.9/site-packages/urllib3/connection.py\", line 358, in connect\n",
      "    conn = self._new_conn()\n",
      "  File \"/home/gabriel/miniconda3/envs/pt_nlp/lib/python3.9/site-packages/urllib3/connection.py\", line 186, in _new_conn\n",
      "    raise NewConnectionError(\n",
      "urllib3.exceptions.NewConnectionError: <urllib3.connection.HTTPSConnection object at 0x7f1723a3bd00>: Failed to establish a new connection: [Errno -2] Name or service not known\n",
      "\n",
      "During handling of the above exception, another exception occurred:\n",
      "\n",
      "Traceback (most recent call last):\n",
      "  File \"/home/gabriel/miniconda3/envs/pt_nlp/lib/python3.9/site-packages/requests/adapters.py\", line 440, in send\n",
      "    resp = conn.urlopen(\n",
      "  File \"/home/gabriel/miniconda3/envs/pt_nlp/lib/python3.9/site-packages/urllib3/connectionpool.py\", line 755, in urlopen\n",
      "    retries = retries.increment(\n",
      "  File \"/home/gabriel/miniconda3/envs/pt_nlp/lib/python3.9/site-packages/urllib3/util/retry.py\", line 574, in increment\n",
      "    raise MaxRetryError(_pool, url, error or ResponseError(cause))\n",
      "urllib3.exceptions.MaxRetryError: HTTPSConnectionPool(host='www.homeaffections.co.uk', port=443): Max retries exceeded with url: /products/wide-display-cabinet-540005-bonoca (Caused by NewConnectionError('<urllib3.connection.HTTPSConnection object at 0x7f1723a3bd00>: Failed to establish a new connection: [Errno -2] Name or service not known'))\n",
      "\n",
      "During handling of the above exception, another exception occurred:\n",
      "\n",
      "Traceback (most recent call last):\n",
      "  File \"/tmp/ipykernel_6102/253839466.py\", line 10, in build_dataset\n",
      "    data = requests.get(url)\n",
      "  File \"/home/gabriel/miniconda3/envs/pt_nlp/lib/python3.9/site-packages/requests/api.py\", line 75, in get\n",
      "    return request('get', url, params=params, **kwargs)\n",
      "  File \"/home/gabriel/miniconda3/envs/pt_nlp/lib/python3.9/site-packages/requests/api.py\", line 61, in request\n",
      "    return session.request(method=method, url=url, **kwargs)\n",
      "  File \"/home/gabriel/miniconda3/envs/pt_nlp/lib/python3.9/site-packages/requests/sessions.py\", line 529, in request\n",
      "    resp = self.send(prep, **send_kwargs)\n",
      "  File \"/home/gabriel/miniconda3/envs/pt_nlp/lib/python3.9/site-packages/requests/sessions.py\", line 645, in send\n",
      "    r = adapter.send(request, **kwargs)\n",
      "  File \"/home/gabriel/miniconda3/envs/pt_nlp/lib/python3.9/site-packages/requests/adapters.py\", line 519, in send\n",
      "    raise ConnectionError(e, request=request)\n",
      "requests.exceptions.ConnectionError: HTTPSConnectionPool(host='www.homeaffections.co.uk', port=443): Max retries exceeded with url: /products/wide-display-cabinet-540005-bonoca (Caused by NewConnectionError('<urllib3.connection.HTTPSConnection object at 0x7f1723a3bd00>: Failed to establish a new connection: [Errno -2] Name or service not known'))\n"
     ]
    },
    {
     "name": "stderr",
     "output_type": "stream",
     "text": [
      "ERROR:root:HTTPSConnectionPool(host='jopa-interiors.co.uk', port=443): Max retries exceeded with url: /products/black-weave-cushion-with-tag (Caused by NewConnectionError('<urllib3.connection.HTTPSConnection object at 0x7f17231ff2e0>: Failed to establish a new connection: [Errno -2] Name or service not known'))\n",
      "Traceback (most recent call last):\n",
      "  File \"/home/gabriel/miniconda3/envs/pt_nlp/lib/python3.9/site-packages/urllib3/connection.py\", line 174, in _new_conn\n",
      "    conn = connection.create_connection(\n",
      "  File \"/home/gabriel/miniconda3/envs/pt_nlp/lib/python3.9/site-packages/urllib3/util/connection.py\", line 73, in create_connection\n",
      "    for res in socket.getaddrinfo(host, port, family, socket.SOCK_STREAM):\n",
      "  File \"/home/gabriel/miniconda3/envs/pt_nlp/lib/python3.9/socket.py\", line 954, in getaddrinfo\n",
      "    for res in _socket.getaddrinfo(host, port, family, type, proto, flags):\n",
      "socket.gaierror: [Errno -2] Name or service not known\n",
      "\n",
      "During handling of the above exception, another exception occurred:\n",
      "\n",
      "Traceback (most recent call last):\n",
      "  File \"/home/gabriel/miniconda3/envs/pt_nlp/lib/python3.9/site-packages/urllib3/connectionpool.py\", line 699, in urlopen\n",
      "    httplib_response = self._make_request(\n",
      "  File \"/home/gabriel/miniconda3/envs/pt_nlp/lib/python3.9/site-packages/urllib3/connectionpool.py\", line 382, in _make_request\n",
      "    self._validate_conn(conn)\n",
      "  File \"/home/gabriel/miniconda3/envs/pt_nlp/lib/python3.9/site-packages/urllib3/connectionpool.py\", line 1010, in _validate_conn\n",
      "    conn.connect()\n",
      "  File \"/home/gabriel/miniconda3/envs/pt_nlp/lib/python3.9/site-packages/urllib3/connection.py\", line 358, in connect\n",
      "    conn = self._new_conn()\n",
      "  File \"/home/gabriel/miniconda3/envs/pt_nlp/lib/python3.9/site-packages/urllib3/connection.py\", line 186, in _new_conn\n",
      "    raise NewConnectionError(\n",
      "urllib3.exceptions.NewConnectionError: <urllib3.connection.HTTPSConnection object at 0x7f17231ff2e0>: Failed to establish a new connection: [Errno -2] Name or service not known\n",
      "\n",
      "During handling of the above exception, another exception occurred:\n",
      "\n",
      "Traceback (most recent call last):\n",
      "  File \"/home/gabriel/miniconda3/envs/pt_nlp/lib/python3.9/site-packages/requests/adapters.py\", line 440, in send\n",
      "    resp = conn.urlopen(\n",
      "  File \"/home/gabriel/miniconda3/envs/pt_nlp/lib/python3.9/site-packages/urllib3/connectionpool.py\", line 755, in urlopen\n",
      "    retries = retries.increment(\n",
      "  File \"/home/gabriel/miniconda3/envs/pt_nlp/lib/python3.9/site-packages/urllib3/util/retry.py\", line 574, in increment\n",
      "    raise MaxRetryError(_pool, url, error or ResponseError(cause))\n",
      "urllib3.exceptions.MaxRetryError: HTTPSConnectionPool(host='jopa-interiors.co.uk', port=443): Max retries exceeded with url: /products/black-weave-cushion-with-tag (Caused by NewConnectionError('<urllib3.connection.HTTPSConnection object at 0x7f17231ff2e0>: Failed to establish a new connection: [Errno -2] Name or service not known'))\n",
      "\n",
      "During handling of the above exception, another exception occurred:\n",
      "\n",
      "Traceback (most recent call last):\n",
      "  File \"/tmp/ipykernel_6102/253839466.py\", line 10, in build_dataset\n",
      "    data = requests.get(url)\n",
      "  File \"/home/gabriel/miniconda3/envs/pt_nlp/lib/python3.9/site-packages/requests/api.py\", line 75, in get\n",
      "    return request('get', url, params=params, **kwargs)\n",
      "  File \"/home/gabriel/miniconda3/envs/pt_nlp/lib/python3.9/site-packages/requests/api.py\", line 61, in request\n",
      "    return session.request(method=method, url=url, **kwargs)\n",
      "  File \"/home/gabriel/miniconda3/envs/pt_nlp/lib/python3.9/site-packages/requests/sessions.py\", line 529, in request\n",
      "    resp = self.send(prep, **send_kwargs)\n",
      "  File \"/home/gabriel/miniconda3/envs/pt_nlp/lib/python3.9/site-packages/requests/sessions.py\", line 645, in send\n",
      "    r = adapter.send(request, **kwargs)\n",
      "  File \"/home/gabriel/miniconda3/envs/pt_nlp/lib/python3.9/site-packages/requests/adapters.py\", line 519, in send\n",
      "    raise ConnectionError(e, request=request)\n",
      "requests.exceptions.ConnectionError: HTTPSConnectionPool(host='jopa-interiors.co.uk', port=443): Max retries exceeded with url: /products/black-weave-cushion-with-tag (Caused by NewConnectionError('<urllib3.connection.HTTPSConnection object at 0x7f17231ff2e0>: Failed to establish a new connection: [Errno -2] Name or service not known'))\n",
      "WARNING:urllib3.connection:Certificate did not match expected hostname: airfurniture.co.uk. Certificate: {'subject': ((('countryName', 'US'),), (('stateOrProvinceName', 'California'),), (('localityName', 'San Francisco'),), (('organizationName', 'Cloudflare, Inc.'),), (('commonName', '*.myshopify.com'),)), 'issuer': ((('countryName', 'US'),), (('organizationName', 'Cloudflare, Inc.'),), (('commonName', 'Cloudflare Inc ECC CA-3'),)), 'version': 3, 'serialNumber': '08D14009B8CCFD7A28D460E790084A96', 'notBefore': 'Sep 13 00:00:00 2021 GMT', 'notAfter': 'Sep 12 23:59:59 2022 GMT', 'subjectAltName': (('DNS', 'myshopify.com'), ('DNS', '*.myshopify.com')), 'OCSP': ('http://ocsp.digicert.com',), 'caIssuers': ('http://cacerts.digicert.com/CloudflareIncECCCA-3.crt',), 'crlDistributionPoints': ('http://crl3.digicert.com/CloudflareIncECCCA-3.crl', 'http://crl4.digicert.com/CloudflareIncECCCA-3.crl')}\n",
      "ERROR:root:HTTPSConnectionPool(host='airfurniture.co.uk', port=443): Max retries exceeded with url: /products/zues-pu-storage-bed (Caused by SSLError(SSLCertVerificationError(\"hostname 'airfurniture.co.uk' doesn't match either of 'myshopify.com', '*.myshopify.com'\")))\n",
      "Traceback (most recent call last):\n",
      "  File \"/home/gabriel/miniconda3/envs/pt_nlp/lib/python3.9/site-packages/urllib3/connectionpool.py\", line 699, in urlopen\n",
      "    httplib_response = self._make_request(\n",
      "  File \"/home/gabriel/miniconda3/envs/pt_nlp/lib/python3.9/site-packages/urllib3/connectionpool.py\", line 382, in _make_request\n",
      "    self._validate_conn(conn)\n",
      "  File \"/home/gabriel/miniconda3/envs/pt_nlp/lib/python3.9/site-packages/urllib3/connectionpool.py\", line 1010, in _validate_conn\n",
      "    conn.connect()\n",
      "  File \"/home/gabriel/miniconda3/envs/pt_nlp/lib/python3.9/site-packages/urllib3/connection.py\", line 469, in connect\n",
      "    _match_hostname(cert, self.assert_hostname or server_hostname)\n",
      "  File \"/home/gabriel/miniconda3/envs/pt_nlp/lib/python3.9/site-packages/urllib3/connection.py\", line 542, in _match_hostname\n",
      "    match_hostname(cert, asserted_hostname)\n",
      "  File \"/home/gabriel/miniconda3/envs/pt_nlp/lib/python3.9/ssl.py\", line 416, in match_hostname\n",
      "    raise CertificateError(\"hostname %r \"\n",
      "ssl.SSLCertVerificationError: (\"hostname 'airfurniture.co.uk' doesn't match either of 'myshopify.com', '*.myshopify.com'\",)\n",
      "\n",
      "During handling of the above exception, another exception occurred:\n",
      "\n",
      "Traceback (most recent call last):\n",
      "  File \"/home/gabriel/miniconda3/envs/pt_nlp/lib/python3.9/site-packages/requests/adapters.py\", line 440, in send\n",
      "    resp = conn.urlopen(\n",
      "  File \"/home/gabriel/miniconda3/envs/pt_nlp/lib/python3.9/site-packages/urllib3/connectionpool.py\", line 755, in urlopen\n",
      "    retries = retries.increment(\n",
      "  File \"/home/gabriel/miniconda3/envs/pt_nlp/lib/python3.9/site-packages/urllib3/util/retry.py\", line 574, in increment\n",
      "    raise MaxRetryError(_pool, url, error or ResponseError(cause))\n",
      "urllib3.exceptions.MaxRetryError: HTTPSConnectionPool(host='airfurniture.co.uk', port=443): Max retries exceeded with url: /products/zues-pu-storage-bed (Caused by SSLError(SSLCertVerificationError(\"hostname 'airfurniture.co.uk' doesn't match either of 'myshopify.com', '*.myshopify.com'\")))\n",
      "\n",
      "During handling of the above exception, another exception occurred:\n",
      "\n",
      "Traceback (most recent call last):\n",
      "  File \"/tmp/ipykernel_6102/253839466.py\", line 10, in build_dataset\n",
      "    data = requests.get(url)\n",
      "  File \"/home/gabriel/miniconda3/envs/pt_nlp/lib/python3.9/site-packages/requests/api.py\", line 75, in get\n",
      "    return request('get', url, params=params, **kwargs)\n",
      "  File \"/home/gabriel/miniconda3/envs/pt_nlp/lib/python3.9/site-packages/requests/api.py\", line 61, in request\n",
      "    return session.request(method=method, url=url, **kwargs)\n",
      "  File \"/home/gabriel/miniconda3/envs/pt_nlp/lib/python3.9/site-packages/requests/sessions.py\", line 529, in request\n",
      "    resp = self.send(prep, **send_kwargs)\n",
      "  File \"/home/gabriel/miniconda3/envs/pt_nlp/lib/python3.9/site-packages/requests/sessions.py\", line 645, in send\n",
      "    r = adapter.send(request, **kwargs)\n",
      "  File \"/home/gabriel/miniconda3/envs/pt_nlp/lib/python3.9/site-packages/requests/adapters.py\", line 517, in send\n",
      "    raise SSLError(e, request=request)\n",
      "requests.exceptions.SSLError: HTTPSConnectionPool(host='airfurniture.co.uk', port=443): Max retries exceeded with url: /products/zues-pu-storage-bed (Caused by SSLError(SSLCertVerificationError(\"hostname 'airfurniture.co.uk' doesn't match either of 'myshopify.com', '*.myshopify.com'\")))\n"
     ]
    },
    {
     "name": "stderr",
     "output_type": "stream",
     "text": [
      "ERROR:root:HTTPSConnectionPool(host='www.furlon.co.uk', port=443): Max retries exceeded with url: /products/194 (Caused by NewConnectionError('<urllib3.connection.HTTPSConnection object at 0x7f17236e6dc0>: Failed to establish a new connection: [Errno -2] Name or service not known'))\n",
      "Traceback (most recent call last):\n",
      "  File \"/home/gabriel/miniconda3/envs/pt_nlp/lib/python3.9/site-packages/urllib3/connection.py\", line 174, in _new_conn\n",
      "    conn = connection.create_connection(\n",
      "  File \"/home/gabriel/miniconda3/envs/pt_nlp/lib/python3.9/site-packages/urllib3/util/connection.py\", line 73, in create_connection\n",
      "    for res in socket.getaddrinfo(host, port, family, socket.SOCK_STREAM):\n",
      "  File \"/home/gabriel/miniconda3/envs/pt_nlp/lib/python3.9/socket.py\", line 954, in getaddrinfo\n",
      "    for res in _socket.getaddrinfo(host, port, family, type, proto, flags):\n",
      "socket.gaierror: [Errno -2] Name or service not known\n",
      "\n",
      "During handling of the above exception, another exception occurred:\n",
      "\n",
      "Traceback (most recent call last):\n",
      "  File \"/home/gabriel/miniconda3/envs/pt_nlp/lib/python3.9/site-packages/urllib3/connectionpool.py\", line 699, in urlopen\n",
      "    httplib_response = self._make_request(\n",
      "  File \"/home/gabriel/miniconda3/envs/pt_nlp/lib/python3.9/site-packages/urllib3/connectionpool.py\", line 382, in _make_request\n",
      "    self._validate_conn(conn)\n",
      "  File \"/home/gabriel/miniconda3/envs/pt_nlp/lib/python3.9/site-packages/urllib3/connectionpool.py\", line 1010, in _validate_conn\n",
      "    conn.connect()\n",
      "  File \"/home/gabriel/miniconda3/envs/pt_nlp/lib/python3.9/site-packages/urllib3/connection.py\", line 358, in connect\n",
      "    conn = self._new_conn()\n",
      "  File \"/home/gabriel/miniconda3/envs/pt_nlp/lib/python3.9/site-packages/urllib3/connection.py\", line 186, in _new_conn\n",
      "    raise NewConnectionError(\n",
      "urllib3.exceptions.NewConnectionError: <urllib3.connection.HTTPSConnection object at 0x7f17236e6dc0>: Failed to establish a new connection: [Errno -2] Name or service not known\n",
      "\n",
      "During handling of the above exception, another exception occurred:\n",
      "\n",
      "Traceback (most recent call last):\n",
      "  File \"/home/gabriel/miniconda3/envs/pt_nlp/lib/python3.9/site-packages/requests/adapters.py\", line 440, in send\n",
      "    resp = conn.urlopen(\n",
      "  File \"/home/gabriel/miniconda3/envs/pt_nlp/lib/python3.9/site-packages/urllib3/connectionpool.py\", line 755, in urlopen\n",
      "    retries = retries.increment(\n",
      "  File \"/home/gabriel/miniconda3/envs/pt_nlp/lib/python3.9/site-packages/urllib3/util/retry.py\", line 574, in increment\n",
      "    raise MaxRetryError(_pool, url, error or ResponseError(cause))\n",
      "urllib3.exceptions.MaxRetryError: HTTPSConnectionPool(host='www.furlon.co.uk', port=443): Max retries exceeded with url: /products/194 (Caused by NewConnectionError('<urllib3.connection.HTTPSConnection object at 0x7f17236e6dc0>: Failed to establish a new connection: [Errno -2] Name or service not known'))\n",
      "\n",
      "During handling of the above exception, another exception occurred:\n",
      "\n",
      "Traceback (most recent call last):\n",
      "  File \"/tmp/ipykernel_6102/253839466.py\", line 10, in build_dataset\n",
      "    data = requests.get(url)\n",
      "  File \"/home/gabriel/miniconda3/envs/pt_nlp/lib/python3.9/site-packages/requests/api.py\", line 75, in get\n",
      "    return request('get', url, params=params, **kwargs)\n",
      "  File \"/home/gabriel/miniconda3/envs/pt_nlp/lib/python3.9/site-packages/requests/api.py\", line 61, in request\n",
      "    return session.request(method=method, url=url, **kwargs)\n",
      "  File \"/home/gabriel/miniconda3/envs/pt_nlp/lib/python3.9/site-packages/requests/sessions.py\", line 529, in request\n",
      "    resp = self.send(prep, **send_kwargs)\n",
      "  File \"/home/gabriel/miniconda3/envs/pt_nlp/lib/python3.9/site-packages/requests/sessions.py\", line 645, in send\n",
      "    r = adapter.send(request, **kwargs)\n",
      "  File \"/home/gabriel/miniconda3/envs/pt_nlp/lib/python3.9/site-packages/requests/adapters.py\", line 519, in send\n",
      "    raise ConnectionError(e, request=request)\n",
      "requests.exceptions.ConnectionError: HTTPSConnectionPool(host='www.furlon.co.uk', port=443): Max retries exceeded with url: /products/194 (Caused by NewConnectionError('<urllib3.connection.HTTPSConnection object at 0x7f17236e6dc0>: Failed to establish a new connection: [Errno -2] Name or service not known'))\n",
      "ERROR:root:HTTPSConnectionPool(host='rustic-furniture.co.uk', port=443): Max retries exceeded with url: /products/curved-open-bedside (Caused by SSLError(SSLEOFError(8, 'EOF occurred in violation of protocol (_ssl.c:1129)')))\n",
      "Traceback (most recent call last):\n",
      "  File \"/home/gabriel/miniconda3/envs/pt_nlp/lib/python3.9/site-packages/urllib3/connectionpool.py\", line 699, in urlopen\n",
      "    httplib_response = self._make_request(\n",
      "  File \"/home/gabriel/miniconda3/envs/pt_nlp/lib/python3.9/site-packages/urllib3/connectionpool.py\", line 382, in _make_request\n",
      "    self._validate_conn(conn)\n",
      "  File \"/home/gabriel/miniconda3/envs/pt_nlp/lib/python3.9/site-packages/urllib3/connectionpool.py\", line 1010, in _validate_conn\n",
      "    conn.connect()\n",
      "  File \"/home/gabriel/miniconda3/envs/pt_nlp/lib/python3.9/site-packages/urllib3/connection.py\", line 416, in connect\n",
      "    self.sock = ssl_wrap_socket(\n",
      "  File \"/home/gabriel/miniconda3/envs/pt_nlp/lib/python3.9/site-packages/urllib3/util/ssl_.py\", line 449, in ssl_wrap_socket\n",
      "    ssl_sock = _ssl_wrap_socket_impl(\n",
      "  File \"/home/gabriel/miniconda3/envs/pt_nlp/lib/python3.9/site-packages/urllib3/util/ssl_.py\", line 493, in _ssl_wrap_socket_impl\n",
      "    return ssl_context.wrap_socket(sock, server_hostname=server_hostname)\n",
      "  File \"/home/gabriel/miniconda3/envs/pt_nlp/lib/python3.9/ssl.py\", line 500, in wrap_socket\n",
      "    return self.sslsocket_class._create(\n",
      "  File \"/home/gabriel/miniconda3/envs/pt_nlp/lib/python3.9/ssl.py\", line 1040, in _create\n",
      "    self.do_handshake()\n",
      "  File \"/home/gabriel/miniconda3/envs/pt_nlp/lib/python3.9/ssl.py\", line 1309, in do_handshake\n",
      "    self._sslobj.do_handshake()\n",
      "ssl.SSLEOFError: EOF occurred in violation of protocol (_ssl.c:1129)\n",
      "\n",
      "During handling of the above exception, another exception occurred:\n",
      "\n",
      "Traceback (most recent call last):\n",
      "  File \"/home/gabriel/miniconda3/envs/pt_nlp/lib/python3.9/site-packages/requests/adapters.py\", line 440, in send\n",
      "    resp = conn.urlopen(\n",
      "  File \"/home/gabriel/miniconda3/envs/pt_nlp/lib/python3.9/site-packages/urllib3/connectionpool.py\", line 755, in urlopen\n",
      "    retries = retries.increment(\n",
      "  File \"/home/gabriel/miniconda3/envs/pt_nlp/lib/python3.9/site-packages/urllib3/util/retry.py\", line 574, in increment\n",
      "    raise MaxRetryError(_pool, url, error or ResponseError(cause))\n",
      "urllib3.exceptions.MaxRetryError: HTTPSConnectionPool(host='rustic-furniture.co.uk', port=443): Max retries exceeded with url: /products/curved-open-bedside (Caused by SSLError(SSLEOFError(8, 'EOF occurred in violation of protocol (_ssl.c:1129)')))\n",
      "\n",
      "During handling of the above exception, another exception occurred:\n",
      "\n",
      "Traceback (most recent call last):\n",
      "  File \"/tmp/ipykernel_6102/253839466.py\", line 10, in build_dataset\n",
      "    data = requests.get(url)\n",
      "  File \"/home/gabriel/miniconda3/envs/pt_nlp/lib/python3.9/site-packages/requests/api.py\", line 75, in get\n",
      "    return request('get', url, params=params, **kwargs)\n",
      "  File \"/home/gabriel/miniconda3/envs/pt_nlp/lib/python3.9/site-packages/requests/api.py\", line 61, in request\n",
      "    return session.request(method=method, url=url, **kwargs)\n",
      "  File \"/home/gabriel/miniconda3/envs/pt_nlp/lib/python3.9/site-packages/requests/sessions.py\", line 529, in request\n",
      "    resp = self.send(prep, **send_kwargs)\n",
      "  File \"/home/gabriel/miniconda3/envs/pt_nlp/lib/python3.9/site-packages/requests/sessions.py\", line 645, in send\n",
      "    r = adapter.send(request, **kwargs)\n",
      "  File \"/home/gabriel/miniconda3/envs/pt_nlp/lib/python3.9/site-packages/requests/adapters.py\", line 517, in send\n",
      "    raise SSLError(e, request=request)\n",
      "requests.exceptions.SSLError: HTTPSConnectionPool(host='rustic-furniture.co.uk', port=443): Max retries exceeded with url: /products/curved-open-bedside (Caused by SSLError(SSLEOFError(8, 'EOF occurred in violation of protocol (_ssl.c:1129)')))\n",
      "ERROR:root:HTTPSConnectionPool(host='www.skhomedecor.co.uk', port=443): Max retries exceeded with url: /products/page/2/ (Caused by NewConnectionError('<urllib3.connection.HTTPSConnection object at 0x7f17236e6ac0>: Failed to establish a new connection: [Errno -2] Name or service not known'))\n",
      "Traceback (most recent call last):\n",
      "  File \"/home/gabriel/miniconda3/envs/pt_nlp/lib/python3.9/site-packages/urllib3/connection.py\", line 174, in _new_conn\n",
      "    conn = connection.create_connection(\n",
      "  File \"/home/gabriel/miniconda3/envs/pt_nlp/lib/python3.9/site-packages/urllib3/util/connection.py\", line 73, in create_connection\n",
      "    for res in socket.getaddrinfo(host, port, family, socket.SOCK_STREAM):\n",
      "  File \"/home/gabriel/miniconda3/envs/pt_nlp/lib/python3.9/socket.py\", line 954, in getaddrinfo\n",
      "    for res in _socket.getaddrinfo(host, port, family, type, proto, flags):\n",
      "socket.gaierror: [Errno -2] Name or service not known\n",
      "\n",
      "During handling of the above exception, another exception occurred:\n",
      "\n",
      "Traceback (most recent call last):\n",
      "  File \"/home/gabriel/miniconda3/envs/pt_nlp/lib/python3.9/site-packages/urllib3/connectionpool.py\", line 699, in urlopen\n",
      "    httplib_response = self._make_request(\n",
      "  File \"/home/gabriel/miniconda3/envs/pt_nlp/lib/python3.9/site-packages/urllib3/connectionpool.py\", line 382, in _make_request\n",
      "    self._validate_conn(conn)\n",
      "  File \"/home/gabriel/miniconda3/envs/pt_nlp/lib/python3.9/site-packages/urllib3/connectionpool.py\", line 1010, in _validate_conn\n",
      "    conn.connect()\n",
      "  File \"/home/gabriel/miniconda3/envs/pt_nlp/lib/python3.9/site-packages/urllib3/connection.py\", line 358, in connect\n",
      "    conn = self._new_conn()\n",
      "  File \"/home/gabriel/miniconda3/envs/pt_nlp/lib/python3.9/site-packages/urllib3/connection.py\", line 186, in _new_conn\n",
      "    raise NewConnectionError(\n",
      "urllib3.exceptions.NewConnectionError: <urllib3.connection.HTTPSConnection object at 0x7f17236e6ac0>: Failed to establish a new connection: [Errno -2] Name or service not known\n",
      "\n",
      "During handling of the above exception, another exception occurred:\n",
      "\n",
      "Traceback (most recent call last):\n",
      "  File \"/home/gabriel/miniconda3/envs/pt_nlp/lib/python3.9/site-packages/requests/adapters.py\", line 440, in send\n",
      "    resp = conn.urlopen(\n",
      "  File \"/home/gabriel/miniconda3/envs/pt_nlp/lib/python3.9/site-packages/urllib3/connectionpool.py\", line 755, in urlopen\n",
      "    retries = retries.increment(\n",
      "  File \"/home/gabriel/miniconda3/envs/pt_nlp/lib/python3.9/site-packages/urllib3/util/retry.py\", line 574, in increment\n",
      "    raise MaxRetryError(_pool, url, error or ResponseError(cause))\n",
      "urllib3.exceptions.MaxRetryError: HTTPSConnectionPool(host='www.skhomedecor.co.uk', port=443): Max retries exceeded with url: /products/page/2/ (Caused by NewConnectionError('<urllib3.connection.HTTPSConnection object at 0x7f17236e6ac0>: Failed to establish a new connection: [Errno -2] Name or service not known'))\n",
      "\n",
      "During handling of the above exception, another exception occurred:\n",
      "\n",
      "Traceback (most recent call last):\n",
      "  File \"/tmp/ipykernel_6102/253839466.py\", line 10, in build_dataset\n",
      "    data = requests.get(url)\n",
      "  File \"/home/gabriel/miniconda3/envs/pt_nlp/lib/python3.9/site-packages/requests/api.py\", line 75, in get\n",
      "    return request('get', url, params=params, **kwargs)\n",
      "  File \"/home/gabriel/miniconda3/envs/pt_nlp/lib/python3.9/site-packages/requests/api.py\", line 61, in request\n",
      "    return session.request(method=method, url=url, **kwargs)\n",
      "  File \"/home/gabriel/miniconda3/envs/pt_nlp/lib/python3.9/site-packages/requests/sessions.py\", line 529, in request\n",
      "    resp = self.send(prep, **send_kwargs)\n",
      "  File \"/home/gabriel/miniconda3/envs/pt_nlp/lib/python3.9/site-packages/requests/sessions.py\", line 645, in send\n",
      "    r = adapter.send(request, **kwargs)\n",
      "  File \"/home/gabriel/miniconda3/envs/pt_nlp/lib/python3.9/site-packages/requests/adapters.py\", line 519, in send\n",
      "    raise ConnectionError(e, request=request)\n",
      "requests.exceptions.ConnectionError: HTTPSConnectionPool(host='www.skhomedecor.co.uk', port=443): Max retries exceeded with url: /products/page/2/ (Caused by NewConnectionError('<urllib3.connection.HTTPSConnection object at 0x7f17236e6ac0>: Failed to establish a new connection: [Errno -2] Name or service not known'))\n"
     ]
    },
    {
     "name": "stderr",
     "output_type": "stream",
     "text": [
      "ERROR:root:('Connection aborted.', ConnectionResetError(104, 'Connection reset by peer'))\n",
      "Traceback (most recent call last):\n",
      "  File \"/home/gabriel/miniconda3/envs/pt_nlp/lib/python3.9/site-packages/urllib3/connectionpool.py\", line 699, in urlopen\n",
      "    httplib_response = self._make_request(\n",
      "  File \"/home/gabriel/miniconda3/envs/pt_nlp/lib/python3.9/site-packages/urllib3/connectionpool.py\", line 382, in _make_request\n",
      "    self._validate_conn(conn)\n",
      "  File \"/home/gabriel/miniconda3/envs/pt_nlp/lib/python3.9/site-packages/urllib3/connectionpool.py\", line 1010, in _validate_conn\n",
      "    conn.connect()\n",
      "  File \"/home/gabriel/miniconda3/envs/pt_nlp/lib/python3.9/site-packages/urllib3/connection.py\", line 416, in connect\n",
      "    self.sock = ssl_wrap_socket(\n",
      "  File \"/home/gabriel/miniconda3/envs/pt_nlp/lib/python3.9/site-packages/urllib3/util/ssl_.py\", line 449, in ssl_wrap_socket\n",
      "    ssl_sock = _ssl_wrap_socket_impl(\n",
      "  File \"/home/gabriel/miniconda3/envs/pt_nlp/lib/python3.9/site-packages/urllib3/util/ssl_.py\", line 493, in _ssl_wrap_socket_impl\n",
      "    return ssl_context.wrap_socket(sock, server_hostname=server_hostname)\n",
      "  File \"/home/gabriel/miniconda3/envs/pt_nlp/lib/python3.9/ssl.py\", line 500, in wrap_socket\n",
      "    return self.sslsocket_class._create(\n",
      "  File \"/home/gabriel/miniconda3/envs/pt_nlp/lib/python3.9/ssl.py\", line 1040, in _create\n",
      "    self.do_handshake()\n",
      "  File \"/home/gabriel/miniconda3/envs/pt_nlp/lib/python3.9/ssl.py\", line 1309, in do_handshake\n",
      "    self._sslobj.do_handshake()\n",
      "ConnectionResetError: [Errno 104] Connection reset by peer\n",
      "\n",
      "During handling of the above exception, another exception occurred:\n",
      "\n",
      "Traceback (most recent call last):\n",
      "  File \"/home/gabriel/miniconda3/envs/pt_nlp/lib/python3.9/site-packages/requests/adapters.py\", line 440, in send\n",
      "    resp = conn.urlopen(\n",
      "  File \"/home/gabriel/miniconda3/envs/pt_nlp/lib/python3.9/site-packages/urllib3/connectionpool.py\", line 755, in urlopen\n",
      "    retries = retries.increment(\n",
      "  File \"/home/gabriel/miniconda3/envs/pt_nlp/lib/python3.9/site-packages/urllib3/util/retry.py\", line 532, in increment\n",
      "    raise six.reraise(type(error), error, _stacktrace)\n",
      "  File \"/home/gabriel/miniconda3/envs/pt_nlp/lib/python3.9/site-packages/urllib3/packages/six.py\", line 769, in reraise\n",
      "    raise value.with_traceback(tb)\n",
      "  File \"/home/gabriel/miniconda3/envs/pt_nlp/lib/python3.9/site-packages/urllib3/connectionpool.py\", line 699, in urlopen\n",
      "    httplib_response = self._make_request(\n",
      "  File \"/home/gabriel/miniconda3/envs/pt_nlp/lib/python3.9/site-packages/urllib3/connectionpool.py\", line 382, in _make_request\n",
      "    self._validate_conn(conn)\n",
      "  File \"/home/gabriel/miniconda3/envs/pt_nlp/lib/python3.9/site-packages/urllib3/connectionpool.py\", line 1010, in _validate_conn\n",
      "    conn.connect()\n",
      "  File \"/home/gabriel/miniconda3/envs/pt_nlp/lib/python3.9/site-packages/urllib3/connection.py\", line 416, in connect\n",
      "    self.sock = ssl_wrap_socket(\n",
      "  File \"/home/gabriel/miniconda3/envs/pt_nlp/lib/python3.9/site-packages/urllib3/util/ssl_.py\", line 449, in ssl_wrap_socket\n",
      "    ssl_sock = _ssl_wrap_socket_impl(\n",
      "  File \"/home/gabriel/miniconda3/envs/pt_nlp/lib/python3.9/site-packages/urllib3/util/ssl_.py\", line 493, in _ssl_wrap_socket_impl\n",
      "    return ssl_context.wrap_socket(sock, server_hostname=server_hostname)\n",
      "  File \"/home/gabriel/miniconda3/envs/pt_nlp/lib/python3.9/ssl.py\", line 500, in wrap_socket\n",
      "    return self.sslsocket_class._create(\n",
      "  File \"/home/gabriel/miniconda3/envs/pt_nlp/lib/python3.9/ssl.py\", line 1040, in _create\n",
      "    self.do_handshake()\n",
      "  File \"/home/gabriel/miniconda3/envs/pt_nlp/lib/python3.9/ssl.py\", line 1309, in do_handshake\n",
      "    self._sslobj.do_handshake()\n",
      "urllib3.exceptions.ProtocolError: ('Connection aborted.', ConnectionResetError(104, 'Connection reset by peer'))\n",
      "\n",
      "During handling of the above exception, another exception occurred:\n",
      "\n",
      "Traceback (most recent call last):\n",
      "  File \"/tmp/ipykernel_6102/253839466.py\", line 10, in build_dataset\n",
      "    data = requests.get(url)\n",
      "  File \"/home/gabriel/miniconda3/envs/pt_nlp/lib/python3.9/site-packages/requests/api.py\", line 75, in get\n",
      "    return request('get', url, params=params, **kwargs)\n",
      "  File \"/home/gabriel/miniconda3/envs/pt_nlp/lib/python3.9/site-packages/requests/api.py\", line 61, in request\n",
      "    return session.request(method=method, url=url, **kwargs)\n",
      "  File \"/home/gabriel/miniconda3/envs/pt_nlp/lib/python3.9/site-packages/requests/sessions.py\", line 529, in request\n",
      "    resp = self.send(prep, **send_kwargs)\n",
      "  File \"/home/gabriel/miniconda3/envs/pt_nlp/lib/python3.9/site-packages/requests/sessions.py\", line 645, in send\n",
      "    r = adapter.send(request, **kwargs)\n",
      "  File \"/home/gabriel/miniconda3/envs/pt_nlp/lib/python3.9/site-packages/requests/adapters.py\", line 501, in send\n",
      "    raise ConnectionError(err, request=request)\n",
      "requests.exceptions.ConnectionError: ('Connection aborted.', ConnectionResetError(104, 'Connection reset by peer'))\n"
     ]
    }
   ],
   "source": [
    "def build_dataset(url_df, page_limit=None):\n",
    "\n",
    "    urls = url_df.values.squeeze().tolist()[:page_limit]\n",
    "    pages = []\n",
    "    \n",
    "    for url in urls:\n",
    "\n",
    "        try:\n",
    "\n",
    "            data = requests.get(url)\n",
    "            soup = BeautifulSoup(data.content, 'html.parser')\n",
    "            tags = soup.find_all()\n",
    "\n",
    "            text = []\n",
    "            blacklist = [\n",
    "                '[document]',\n",
    "                'noscript',\n",
    "                'header',\n",
    "                'html',\n",
    "                'meta',\n",
    "                'head',\n",
    "                'input',\n",
    "                'script',\n",
    "                'style',\n",
    "                'title'\n",
    "            ]\n",
    "\n",
    "            for t in tags:\n",
    "                if t.name not in blacklist and t.parent.name not in blacklist:\n",
    "                    clean_text = \" \".join(t.text.split())\n",
    "                    if len(clean_text) > 1:\n",
    "                        text.append(clean_text)\n",
    "\n",
    "            pages.append(text)\n",
    "\n",
    "        except Exception as e:\n",
    "            logging.exception(str(e))\n",
    "            pages.append(np.nan)\n",
    "\n",
    "    df = pd.DataFrame(columns=['raw_text'])\n",
    "    df['raw_text'] = pages\n",
    "    # df = df.replace(np.nan, '', regex=True)\n",
    "    return df\n",
    "\n",
    "url_df = pd.read_csv('furniture stores pages.csv')\n",
    "pages_df = build_dataset(url_df)#, page_limit=5)\n",
    "pages = pages_df['raw_text'].values.tolist()\n",
    "\n",
    "print(pages_df.shape)\n",
    "print(url_df.shape)\n",
    "\n",
    "del_lis = []\n",
    "for i in tqdm(range(len(pages)), desc='Pages Progress'):\n",
    "    if type(pages[i]) == str and len(pages[i]) < 10:\n",
    "        del_lis.append(i) \n",
    "\n",
    "nans = pages_df.loc[pd.isna(pages_df[\"raw_text\"]), :].index.tolist()\n",
    "del_lis = np.concatenate((del_lis, nans))\n",
    "\n",
    "pages_df.drop(del_lis, inplace=True)                         \n",
    "pages = pages_df['raw_text'].values.tolist()\n",
    "url_df.drop(del_lis, inplace=True)                         \n",
    "\n",
    "# pages_df.drop([30], inplace=True)                         \n",
    "# pages = pages_df['raw_text'].values.tolist()\n",
    "# url_df.drop([30], inplace=True)                         \n",
    "\n",
    "# # pages_df.drop(['Unnamed: 0'], axis=1, inplace=True)\n",
    "# pages_df.reset_index(drop=True, inplace=True)\n",
    "# url_df.reset_index(drop=True, inplace=True)\n",
    "\n",
    "pages_df.to_csv('pages_content.csv')\n",
    "url_df.to_csv('furniture stores pages.csv')\n",
    "\n",
    "print(pages_df.shape)\n",
    "print(url_df.shape)"
   ]
  },
  {
   "cell_type": "markdown",
   "id": "56b71d82",
   "metadata": {},
   "source": [
    "# READ PRODUCT ANNOTATIONS"
   ]
  },
  {
   "cell_type": "code",
   "execution_count": 175,
   "id": "4ae12bdb",
   "metadata": {},
   "outputs": [
    {
     "name": "stdout",
     "output_type": "stream",
     "text": [
      "['Factory Buys Euro Top Mattress - King', 'Neo Bed Frame Fabric - Charcoal Queen', 'Wooden Bed Frame Timber Base Bedroom Kids - Double', 'Factory Buys Euro Top Mattress - Double', 'Tiyo Bed Frame PU Leather Gas Lift Storage - White Queen', 'Cole LED Bed Frame Leather Gas Lift Storage Cole - Black Queen', 'Set of 2 Bedside Table Nightstands 2 Drawers Storage Cabinet Bedroom Side White', 'Factory Buys Euro Top Mattress - Queen', 'DreamZ 35CM Thickness Euro Top Egg Crate Foam Mattress - King', '6 Chest of Drawers Tallboy Dresser Table Storage Cabinet Oak Bedroom', 'LED RGB Bedside Tables Drawers High Gloss Nightstand Black', 'Bedside Tables 3 Drawers LED High Gloss White', 'Cole LED Bed Frame PU Leather Gas Lift Storage - White Double', 'Tallboy 6 Drawers Storage Cabinet White', 'Nino Bed Frame PU Leather - Black Queen', 'Bedside Tables Side Table RGB LED Lamp 3 Drawers Nightstand Gloss Black', 'Lumi LED Bed Frame Leather Gas Lift Storage - Black Queen', 'Lumi LED Bed Frame PU Leather Gas Lift Storage - White Queen', 'Wooden Bed Frame Full Size Base Timber Natural - King Single']\n",
      "\n",
      "\n",
      "['Beadlight Cirrus LED Reading Light', 'Atlantic Bulkhead Fitting Chrome', 'Atlantic Bulkhead Fitting Chrome Large', 'Atlantic Bulkhead Fitting Polished Brass', 'Atlantic Bulkhead Fitting Polished Brass Large']\n",
      "\n",
      "\n",
      "['HAMAR PLANT STAND - ASH', 'TROLLEY WITH 2 DRAWERS - ELM', 'FOREST SIDE CABINET - OAK OILED', 'FIKA BENCH - OAK CHARCOAL', 'ARNA BENCH WITH DRAWER - OAK OILED']\n",
      "\n",
      "\n",
      "['Oslo Office Chair - White', 'Single Hanging Egg Chair - Rattan Wicker Outdoor Furniture Cream', 'Single Hanging Egg Chair - Rattan Wicker Outdoor Furniture Black', 'XL Hanging Egg Chair - Rattan Wicker Outdoor Furniture Black', 'Replica Eames Style Oslo Roxy Padded Dining Chair - White/Natural']\n",
      "\n",
      "\n",
      "[]\n",
      "\n",
      "\n",
      "[]\n",
      "\n",
      "\n",
      "['INTERIORS ONLINE GIFT CARD', 'ADMIRAL TV UNIT DUSTY OAK', 'QUENTIN INDOOR/OUTDOOR DINING CHAIR BEIGE', 'QUENTIN INDOOR/OUTDOOR CHAIR GREY', 'DAHLIA INDOOR/OUTDOOR DINING TABLE TERRAZZO BLACK', 'INDAH CHAIR BLACK', 'INDAH CHAIR MUSTARD', 'ENZO SIDE TABLE TERRAZZO', 'RYAN SIDE TABLE MEDIUM', 'COCONUT SIDE TABLE']\n",
      "\n",
      "\n",
      "['American Oak Side Table', 'Anderson Chair', 'Angular Mango Wood Buffet (FLOOR STOCK CLEARANCE)', 'Antique Wood Lantern', 'Antoine de Praiteau Wall Clock 60 CM', 'Anton Throw With Pom Poms – Teal', 'Aqua And White Cotton Throw', 'Aqua Indian Style Cabinet 3 Drawers And 2 Doors SOLD We Can Source A Similar Piece', 'Aqua Storage/Blanket Box', 'Arab Candlestick', 'Arctic Console / Dining Table', 'Areca Palm Tree 1.8 M']\n",
      "\n",
      "\n",
      "['Workshop Table', 'Hext Bar Table', 'Linear Wood Table', 'Slab Table', 'Gaulino Table', 'Andoo Pull-Out Table', 'Breadstick Table', 'Belleville Square Bistro Table', 'Hext Table', 'Tube Dining Table', 'Linear Steel Cafe Table', 'Table', 'Cork Round Table', 'Explorer 4 Dining Table', 'Slab Dining Table', 'Band Dining Table', 'Guéridon Table', 'Belleville Bistro Table, Round', 'Hiroki Metal Table', 'Doubleframe Table', 'Rén Dining Table', '70/70 Table', 'Kant Table', 'Explorer 5 Dining Table']\n",
      "\n",
      "\n",
      "[]\n",
      "\n",
      "\n",
      "['The Layabout Suite', 'Playpen 6 Piece Modular Lounge', 'Bronte Right Chaise with sofabed in charcoal', \"Large Cozy Cuddle Chair with 360' Rotation In Sunlight Smoke\", 'Bronte left chaise with sofabed in grey', 'Bronte Left Hand Chaise WIth Bed in Charcoal', 'Tyler 6 Piece Recliner with right Chaise', 'Hermes Right Chaise with sofa bed', 'Cozy Cuddle Swivel Chair In Smoke Grey', 'Glenelg Sofabed Suite with right chaise', 'Cozy Cuddle Swivel Chair In Storm Grey', 'Montego Left Hand Chaise Sofa', \"Large Cozy Cuddle Chair with 360' Rotation In Storm Grey\"]\n",
      "\n",
      "\n",
      "[]\n",
      "\n",
      "\n",
      "[]\n",
      "\n",
      "\n",
      "['Florence Knoll', 'Florence Knoll Hairpin™ Stacking Table', 'Florence Knoll™ Bench', 'Florence Knoll™ Coffee and End Tables', 'Florence Knoll™ Credenza', 'Florence Knoll™ Dining Tables', 'Florence Knoll™ Executive Desk', 'Florence Knoll™ Lounge Chair', 'Florence Knoll™ Relaxed Benches', 'Florence Knoll™ Relaxed Lounge Chair', 'Florence Knoll™ Relaxed Sofa and Settee', 'Florence Knoll™ Sofa and Settee', 'Florence Knoll™ Table Desk', 'Florence Knoll™ Vertical Storage']\n",
      "\n",
      "\n",
      "[]\n",
      "\n",
      "\n",
      "['Samson Daybed Single', 'Our Single Daybed', 'Samson Day Bed', 'Kathie from the GC']\n",
      "\n",
      "\n",
      "['STRING WEAVE TIMBER STOOL', 'ADMIRALITY CARVER DINING CHAIR', 'ADMIRALITY DINING CHAIR', 'BATAVIA HIGH BACK CARVER DINING CHAIR', 'BATAVIA HIGH BACK DINING CHAIR', 'BIEDERMIER DINING CHAIR', 'BIOLA CARVER DINING CHAIR']\n",
      "\n",
      "\n",
      "[]\n",
      "\n",
      "\n",
      "['Gift Card', \"LINEN & ROOM SPRAY DONNA'S SIGNATURE SCENT\", \"TARTS DONNA'S SIGNATURE SCENT CANDLE\", \"SACHETS DONNA'S SIGNATURE SCENT\", \"13oz GLASS DONNA'S SIGNATURE SCENT\", \"BOX OF 12 ROUND VOTIVES DONNA'S SIGNATURE SCENT CANDLE\"]\n",
      "\n",
      "\n",
      "['KAISER BOX BED']\n",
      "\n",
      "\n",
      "['Hoyt Chair', 'Bel Air Chair', 'BELMONT CHAIR', 'Burnside Chair', 'Carlisle Chair', 'Catalina Chair', 'Charlie Chair', 'Cooper Chair', 'Fremont Chair', 'Gracie Chair', 'Gramercy Chair', 'Hawthorne Chair', 'Irving Chair', 'Lawson Chair', 'Lowe Chair', 'Quinn Chair', 'Sterling Chair', 'Taylor Chair', 'Verona Chair']\n",
      "\n",
      "\n",
      "['Nina Platinum Queen Bed by Vanguard', 'Classics 4.0 Sleigh Bed (Twin) – Smart Stuff', 'Classics 4.0 Panel Bed (Twin) – Smart Stuff', 'Bellamy Trellis Bed (Full) – Smart Stuff', '#myroom Panel Bed (Full) – Smart Stuff']\n",
      "\n",
      "\n",
      "['Amalfi 3 Door Credenza', 'Florence 2 Door Petite Credenza', 'Amalfi 1 Door 3 Drawer Credenza', 'Milan 2 Door 3 Drawer Credenza in Ash', 'Eden Rock 3 Door Credenza in Oiled Walnut']\n",
      "\n",
      "\n",
      "[]\n",
      "\n",
      "\n",
      "['CARL VICTORIAN-INSPIRED VELVET VANITY ACCENT STOOL', 'AMANDA XL MODERN VELVET OVERSIZED SECTIONAL SOFA', 'AMANDA MODERN VELVET LARGE SECTIONAL SOFA', 'NEMO CHEERY MODERN SOFT LINEN SLEEPER FUTON SOFA']\n",
      "\n",
      "\n",
      "[]\n",
      "\n",
      "\n",
      "['Mason Chair', 'Milano Thin Display Cabinet', 'Milano Low Display Cabinet', 'Milano Display Cabinet', 'Milano Sideboard', 'Milano Small Sideboard', 'Milano Large Sideboard', 'Milano 3dr Sideboard/Chest', 'Milano 2 Door Sideboard', 'Milano Single Sideboard', 'Milano Single Sideboard-Glass Door', 'Milano Large TV Unit', 'Milano TV Unit']\n",
      "\n",
      "\n",
      "['Yves desk', 'Joyce cabinet', 'Beata light small', 'Avery stacking stool', 'Avery dining chair']\n",
      "\n",
      "\n",
      "['Gift Voucher', 'Valet Bar Cart', 'Bowl Table - Natural', 'Revolver - Armchair - Seletti Wears Toiletpaper', 'Tearoom Club Chair']\n",
      "\n",
      "\n",
      "['Deluxe Cotton Rope Swing Chair', 'Deluxe Pillowtop Swing With Quick Dry Fabric - Red, White & Blue Stripe', 'Deluxe Pillowtop Swing With Quick Dry Fabric - Yellow Multicolor Stripe', 'Double Duracord Rope Curved Arm Swing - Green', 'Double Duracord Rope Curved Arm Swing - Oatmeal', 'Double Duracord Rope Curved Arm Swing - White', 'Double Duracord Rope Curved Arm Swing - Green', 'Double Duracord Rope Curved Arm Swing - Antique Brown', 'Double Duracord Rope Curved Arm Swing - Oatmeal', 'Double Duracord Rope Curved Arm Swing - White', 'Sunbrella Cushioned Single Swing - Expand Dove', 'Porch Swing', 'Deluxe Sunbrella Cushion Swing - Midori Indigo', 'Tufted Sunbrella Single Swing - Resonate Dune', 'Swing Chair', \"Children's South American Fabric Swing - Green\", 'Deluxe Pillowtop Swing With Quick Dry Fabric - Blue Dobby Weave', 'Deluxe Pillowtop Swing With Quick Dry Fabric - Tropical Print', 'Single Quick Dry Fabric Swing - Cocoa', 'Single Cushioned Swing - Fruit Punch', 'Single Cushioned Swing - Gray and Black Stripe', 'Single Quick Dry Fabric Swing with Eclectic Fringe - Natural', 'Single Cotton Rope Swing', 'Single Duracord Rope Swing - Green', 'Single Duracord Rope Swing - Antique Brown', 'Single Duracord Rope Swing - Oatmeal', 'Single Duracord Rope Swing - White', 'Sunbrella Cushioned Single Swing - Cast Laurel', 'Sunbrella Cushioned Single Swing - Trusted Coast', 'Sunbrella Cushioned Single Swing - Expand Citronelle', 'Sunbrella Cushioned Single Swing - Cove Pebble', 'Large Quilted Sunbrella Fabric Hammock - Antique Beige', 'Single Cushioned Swing - Rhodes Quartz', 'Tufted Sunbrella Cushioned Single Swing - Trusted Coast', 'Tufted Sunbrella Gateway Aspen Cushioned Single Swing', 'Tufted Sunbrella Cushioned Single Swing - Cove Pebble', 'Tufted Sunbrella Single Swing - Echo Limelight', 'Tufted Sunbrella Single Swing - Integrated Pewter', 'Tufted Sunbrella Single Swing - Kuna Sand', 'Tufted Sunbrella Single Swing - Pinnacle Fiesta', 'Tufted Sunbrella Single Swing - Create Smoke', 'Tufted Sunbrella Single Swing - Luxe Indigo', 'Tufted Sunbrella Single Swing - Platform Indigo', 'Tufted Single Swing - Echo Sangria', 'Tufted Sunbrella Single Swing - Adaption Apricot', 'Tufted Duracord Single Swing - Cardinal']\n",
      "\n",
      "\n",
      "['Sale Banner', 'Grand Opening Banner', 'Clearance SALE Banner Sign', 'Up To 70% Off Banner', 'Up To 50% Off Banner']\n",
      "\n",
      "\n",
      "['Adriatic Bed', 'Alice Bed', 'Amanzoi Bed', 'Argoni Bed', 'Canali Bed', 'Castiglione high headboard', 'Chateau Bed', 'Forma Bed', 'Garner King Bed', 'Geronimo Queen Bed', 'Grand Bed', 'Grazia Bed', 'Inestra Bed', 'Johan King Size', 'Madison Bed Queen']\n",
      "\n",
      "\n",
      "[]\n",
      "\n",
      "\n",
      "[]\n",
      "\n",
      "\n",
      "[]\n",
      "\n",
      "\n",
      "['Azara Platform Bed(Sable)', 'Antares Coffee Table', 'Antares Console Table', 'Antares End Table', 'Ascent Hi/Low Desk']\n",
      "\n",
      "\n",
      "[]\n",
      "\n",
      "\n",
      "[]\n",
      "\n",
      "\n",
      "[]\n",
      "\n",
      "\n",
      "['AARON RETRO SOFA', 'ARIELLE SWIVEL WALL SCONCE', 'ANOUK KING METAL HEADBOARD', 'ADRIENNE FULL SIZE TUFTED UPHOLSTERED PLATFORM BED', 'ODETTE 50\" ROUND PERFORMANCE ARTIFICIAL MARBLE DINING TABLE']\n",
      "\n",
      "\n",
      "['Carlo Dresser', 'Carlo Night Stand', 'Circles Wall Art', 'Ponte Console', 'Squadra Work Station', 'Nico 3 Door Console', 'Flat Bar', 'Lazy Susan 80 Inch', 'Finestra Mirror', 'Olio Mirror', 'Bar Cart by Glassisimo']\n",
      "\n",
      "\n",
      "['Playa bowl', 'Black Carillo Round Mirror', 'White Round Carillo Mirror']\n",
      "\n",
      "\n",
      "['ALF & BUD SIDE TABLES', 'Nibbe Table / Stool', \"COCHER DRINKER'S TABLE\", 'FLUTED BLOCK', 'PARTED BLOCK', '(COMPLETELY) IMPERFECT SIDE TABLE', '(PERFECT) SIDE TABLE', 'PIPPY OAK SIDE TABLE', 'BYRON SIDE TABLE', 'BOBBIN SIDE TABLE', 'BEETROOT PEDESTAL TABLE', 'BYRON (MINI) SIDE TABLE', 'POLYGON PEDESTAL SIDE TABLE', '(IMPERFECT) PEDESTAL TABLE', 'SIGNATURE ROUND DINING TABLE', 'POLYGON PEDESTAL DINING TABLE', 'PENINSULA ASH DINING TABLE', 'CAPSULE INGOT DINING TABLE', 'DEEP NORTH (WANEY) TABLES', 'BASTION DINING TABLE', 'NIBBE TABLE / STOOL', \"COCHER DRINKER'S TABLE\", 'FLUTED BLOCK', 'PARTED BLOCK', '(COMPLETELY) IMPERFECT SIDE TABLE', '(PERFECT) SIDE TABLE', 'PIPPY OAK SIDE TABLE', 'BYRON SIDE TABLE', 'BOBBIN SIDE TABLE', 'BEETROOT PEDESTAL TABLE', 'BYRON (MINI) SIDE TABLE', 'POLYGON PEDESTAL SIDE TABLE', '(IMPERFECT) PEDESTAL TABLE']\n",
      "\n",
      "\n",
      "['Solid Wood Enso Platform Bed Frame and Headboard', 'Sunrise Classic Platform Bed', 'Modern Apartment Side Table', 'Modern \"ONE\" Platform Bed: Handmade Mid Century Modern Bed', 'Modern Dresser']\n",
      "\n",
      "\n",
      "['ELIZA FAN']\n",
      "\n",
      "\n",
      "[]\n",
      "\n",
      "\n",
      "[]\n",
      "\n",
      "\n",
      "[]\n",
      "\n",
      "\n",
      "[]\n",
      "\n",
      "\n",
      "[]\n",
      "\n",
      "\n",
      "['GIFT CARD', 'ART PRINT | European Balcony by Blackhaus Studios', 'ART PRINT | Abode by Blackhaus Studios', 'ART PRINT | Mare and Foal by Blackhaus Studios', 'ART PRINT | High Tide by Blackhaus Studios']\n",
      "\n",
      "\n",
      "['Ariane 6 Drawer Chest', 'Niche Large Chest of Drawers', 'Niche Chest of 3 Drawers', 'Bone Inlay 3 Drawer Chest Floral White', 'Bone Inlay 2 Drawer Chest Geometric Design Black', 'Shalimar Mother Of Pearl Inlay 7 Drawer Chest Floral Gre', 'MOP Inlay 3 Drawer Side Cabinet Floral Blush', 'Firenza 6 Drawer Chest']\n",
      "\n",
      "\n",
      "['Australian Made Colonial Robe', 'COLONIAL WARDROBE SET', 'COLONIAL ROBE', 'COLONIAL 3 DOOR ROBE - WHITE', 'COLONIAL 3 DOOR ROBE']\n",
      "\n",
      "\n",
      "['2.5 Seater Colorado Power Recliner', '3 Seater Colorado Power Recliner', 'Adele Buffet', 'Adele Coffee Table', 'Adele Lamp Table', 'Adele TV Lowline', 'Adele: 7 piece dining Setting', 'Adele: Dining Chair']\n",
      "\n",
      "\n",
      "[]\n",
      "\n",
      "\n",
      "['Signature Hammock', 'Cotton Rope Hammock', 'The Chair Hammock']\n",
      "\n",
      "\n",
      "['Fish bricka']\n",
      "\n",
      "\n",
      "[]\n",
      "\n",
      "\n",
      "[]\n",
      "\n",
      "\n",
      "['Apex Study Table - W1200', 'Apex Study Table - W1500', 'Apex Study Table - W1800', 'Bingo Midback Office Chair', 'Boost Folding Seminar Table - W1200 (Nestable)', 'Boost Folding Seminar Table - W1500 (Nestable)', 'Boris Highback Office Chair', 'Boris Midback Office Chair', 'Butcher x Tito 1 Height Adjustable Table - W1200', 'Butcher x Tito 1 Height Adjustable Table - W1500', 'Butcher x Tito 1 Height Adjustable Table - W1800', 'Cabinet Planter Box', 'Comfort Acrylic Shield - W1200', 'Comfort Acrylic Shield - W600', 'Comfort Acrylic Shield - W900 + Access Hole', 'Dynamo Armchair w/ Castors (Nestable)', 'Dynamo Tablet Armchair w/ Castors (Nestable)', 'Dynamo Tablet Armchair w/ Fixed Glides (Nestable)', 'Edgar Study Table - W1000', 'Eloyd Midback Office Chair', 'Hancisco Armchair – Cantilevered', 'Jorca Highback Office Chair', 'Jorca Midback Office Chair', 'Kasa Midback Office Chair', 'Madeline Foldable Portable Table - W1500', 'Madeline Foldable Portable Table - W1800', 'Nico Sidechair', 'Pash Folding Seminar Table - W1800 (Nestable)', 'Rib L-Shaped Acoustic Screen', 'Tito 1-Sided Height Adjustable Table - W1200', 'Tito 1-Sided Height Adjustable Table - W1500', 'Tito 1-Sided Height Adjustable Table - W1800']\n",
      "\n",
      "\n",
      "['Wooster Convertible Crib']\n",
      "\n",
      "\n",
      "[]\n",
      "\n",
      "\n",
      "[]\n",
      "\n",
      "\n",
      "['The Hat', 'The Crew', 'The Tote', 'The Nalgene']\n",
      "\n",
      "\n",
      "['SECTIONAL + OTTOMAN CONVERTIBLE SLEEPER', 'SECTIONAL AND MATCHING OTTOMAN', 'DENTON SLEEPER SECTIONAL', 'COTTON BLENDED TUFTED SECTIONAL', 'DORRIS SECTIONAL', 'MODERN SECTIONAL SOFA']\n",
      "\n",
      "\n",
      "[]\n",
      "\n",
      "\n",
      "['Kitson Corner Sofa Bed – Various Colours Available', 'Brighton Velvet Sofa Bed – Various Colours Available', 'Nico Green Sofa Bed', 'Vogue Leather Sofa Bed']\n",
      "\n",
      "\n",
      "[]\n",
      "\n",
      "\n",
      "['SLEEP Mattress']\n",
      "\n",
      "\n",
      "[]\n",
      "\n",
      "\n",
      "['AVA 4.3 - 2 Sliding door wardrobe with LED Lights and the best separator shelf system >180x215cm<', 'Wardrobe Bunk Bed Sofa']\n",
      "\n",
      "\n",
      "[]\n",
      "\n",
      "\n",
      "['Tetrad Patna Chair']\n",
      "\n",
      "\n",
      "['Esme Natural Rattan Day Bed', 'Petal Rattan Bedhead', 'Olive Rattan Bedhead', 'Arched Natural Rattan Bedhead', 'Chloe Natural Rattan Bedhead']\n",
      "\n",
      "\n",
      "['Shabby Sectional Sofa', 'Nirvana Large Sectional Sofa', 'Nest Small Sectional Sofa', 'Nest Sectional Sofa', 'Nirvana Medium Sectional Sofa', 'Zenna Sectional Sofa', 'Scrambler Sectional Sofa', 'Oasis Sectional Sofa', 'Studio Sectional Sofa', 'Realm Sectional Sofa', 'Zenna Small Sectional Sofa', 'Shabby Curve Sofa']\n",
      "\n",
      "\n",
      "['Opal Shade', 'Fried Egg', 'Swing', 'Fried Egg', 'Herringbone Re-plast', 'Pebble Re-plast']\n",
      "\n",
      "\n",
      "['Pop Bench', 'Wooden Postcard', 'Beeswax Furniture Polish', 'Small Lampshade - several designs available', 'Medium Lampshade - several designs available']\n",
      "\n",
      "\n",
      "['MEMBERSHIP']\n",
      "\n",
      "\n",
      "[]\n",
      "\n",
      "\n",
      "[]\n",
      "\n",
      "\n",
      "[]\n",
      "\n",
      "\n",
      "[]\n",
      "\n",
      "\n",
      "['Country Trend Solid Oak TV Stand – 51″', 'Country Trend Solid Wood Oak TV Stand – 51″', 'Solid Oak Country Trend Open TV Stand w/Cabinet – 60″', 'Solid Oak Country Trend TV Stand w/Cabinet- 60″']\n",
      "\n",
      "\n",
      "[]\n",
      "\n",
      "\n",
      "['Unique Design Post Cards', 'Unique Post Cards', 'French Milled Soaps', 'Hand Printed Cards', 'Still Photography on White Seamless']\n",
      "\n",
      "\n",
      "['Guardsman Gold Complete Plus Plan']\n",
      "\n",
      "\n",
      "[]\n",
      "\n",
      "\n",
      "['Sarpaneva Cast Iron Casserole', 'Staub Tajine - .5 Qt', '3pc Cookware Set - John Pawson', 'Staub Fry Pan - Wooden Handle - 8\"']\n",
      "\n",
      "\n",
      "['Molloy Chair', 'Bell Pendant', 'NAU Scent 01', 'Bower Armchair', 'Bower Screen - Hex']\n",
      "\n",
      "\n",
      "[]\n",
      "\n",
      "\n",
      "['Tacoma Chest']\n",
      "\n",
      "\n",
      "[]\n",
      "\n",
      "\n",
      "['Toli Lamp Ø 20 cm EU Garden Green', 'Toli Lamp Ø 20 cm EU Pearl Grey', 'Toli Lamp Ø 42 cm EU Garden Green', 'Toli Lamp Ø 20 cm EU Parterre Brown', 'Toli Lamp Ø 42 cm EU Parterre Brown', 'Toli Lamp Ø 20 cm EU Garden Green', 'Toli Lamp Ø 42 cm EU Pearl Grey', 'Toli Lamp']\n",
      "\n",
      "\n",
      "[]\n",
      "\n",
      "\n",
      "['ALLWOOD FURNITURE']\n",
      "\n",
      "\n",
      "['GIFT CARDS']\n",
      "\n",
      "\n",
      "['Jack Leather and Wood Stool - Tan', 'Edmund Sconce - Black Walnut', 'Celeste Sconce - Dogwood - Hardwired', 'Calvin Cafe Table', 'Ava Wall Sconce - Tan - Plug', 'Celeste Sconce - Cloud Blue - Hardwired']\n",
      "\n",
      "\n",
      "[]\n",
      "\n",
      "\n",
      "['tip table lamp', 'meridian lamp', 'linear table lamp', 'k lamp', 'hebe lamp base small', 'hebe lamp base medium']\n",
      "\n",
      "\n",
      "['Big Cay Desk', 'Seat Cushion', 'Wilton Chair', 'Cokie Dining Chair - Painted', 'Nina Chair']\n",
      "\n",
      "\n",
      "[]\n",
      "\n",
      "\n",
      "[]\n",
      "\n",
      "\n",
      "[]\n",
      "\n",
      "\n",
      "[]\n",
      "\n",
      "\n",
      "[]\n",
      "\n",
      "\n",
      "[]\n",
      "\n",
      "\n",
      "['RIO - 5PC ULTRA MODERN WICKER PATIO SET', 'BORACAY - 3PC ULTRA MODERN WICKER PATIO SET', 'BLACK SERIES 3A - ULTRA MODERN WICKER PATIO SET', 'BLACK SERIES 5 - ULTRA MODERN WICKER PATIO SET', 'BALI - 6PC ULTRA MODERN WICKER PATIO SET']\n",
      "\n",
      "\n",
      "['Westlake Queen Storage Bed']\n",
      "\n",
      "\n",
      "['Lipa Barstool']\n",
      "\n",
      "\n",
      "[]\n",
      "\n",
      "\n",
      "[]\n",
      "\n",
      "\n",
      "[]\n",
      "\n",
      "\n",
      "['Piccolo Jug']\n",
      "\n",
      "\n",
      "[]\n",
      "\n",
      "\n",
      "['Winndom Berkeley III', 'Stockholm Recliner', 'Pearl Bookcase', 'Aurora Sideboard Entertainment Center', 'Fleming End Table']\n",
      "\n",
      "\n",
      "[]\n",
      "\n",
      "\n",
      "['The Lenox Collection Astral 2 Door and 5 Drawer Armoire', 'Platinum Collection 4 Door Wardrobe with 2 Mirror Doors', 'Dama Bianca White 4 Door Wardrobe 2 Mirror Doors', 'MCS Italy Luxury Collection 4 Door Wardrobe', 'Smart Wardrobe/Armoire/Closet, 100% Solid Wood', '2-Sliding Door Wardrobe/Closet/Armoire with 1 Shelf, 100% Solid Wood, Additional Shelves Sold Separately', '3-Sliding Door Wardrobe/Closet/Armoire with 1 Large, 4 Small Shelves, 100% Solid Wood, Additional Shelves Sold Separately', 'Flexible Wardrobe/Closet/Armoire with 1 drawer, 1 Shelf, Lock, 100% Solid Wood, Additional Shelves Sold Separately', 'Grand Wardrobe/Closet/Armoire, 2 Drawers, 4 Small Shelves, Lock, 100% Solid Wood, Additional Shelves Sold Separately', 'Petite Wardrobe/Armoire/Closet, 100% Solid Wood', 'Universal Wardrobe/Closet/Armoire with 1 Drawer, 2 Shelves, Lock, 100% Solid Wood, Additional Shelves Sold Separately', 'Optional Shelf for Smart Wardrobe, 100% Solid Wood', 'Set of 2 Shelves for Universal Wardrobe/Closet/Armoire, 100% Solid Wood', 'Shelf for 2- and 3-Sliding Door Wardrobes/Closets/Armoires, 100% Solid Wood', 'Shelf for Flexible, Grand and Petite Wardrobes/Closets/Armoires, 100% Solid Wood', '114JV Shoe Cabinet by BH Designs', '701JV Shoe Cabinet by BH Designs', '8555 Shoe Case by BH Designs', '8666 Shoe Case by BH Designs', 'L21 Custom 3 Door and 3 Drawer Wardrobe Closet by Central', 'The Ace Irbis Dark Oak Sliding Door Wardrobe SB 752A', 'The Ace Nota Sliding Door Warbrobe SB 425', 'The Ace Tais Sliding Door Wardrobe Closet Unit SB 380', 'The Ace Dziordzia SB040 Wardrobe Closet', 'The Ace Dziordzia SB 041 Wardrobe Closet', 'he Ace Dziordzia SB 074 Wardrobe Closet', 'The Ace Dziordzia SB 102 Wardrobe Closet', 'The Ace Irbis Makassar Sliding Wardrobe Closet SB 752B']\n",
      "\n",
      "\n",
      "['Muse', 'Bowie', 'Alva (Velvet)', 'Paloma', 'Alva (Linen Blend)']\n",
      "\n",
      "\n",
      "['Solid Oak Crown Spindle Bed']\n",
      "\n",
      "\n",
      "[]\n",
      "\n",
      "\n",
      "[]\n",
      "\n",
      "\n",
      "['Modica 6341 Desk', 'Sequel 6001 Desk', 'Sequel 6018 Peninsula', 'Sequel 6019 Corner Desk', 'Sequel 6051 Lift Desk', 'Sequel 6052 Lift Desk']\n",
      "\n",
      "\n",
      "[]\n",
      "\n",
      "\n",
      "123\n",
      "[]\n"
     ]
    }
   ],
   "source": [
    "with open(\"products.txt\", \"r\") as f:\n",
    "    lines = f.readlines()\n",
    "prods=[[]]\n",
    "# skip = False\n",
    "\n",
    "for line in lines:\n",
    "    line = line[:-1]\n",
    "#     if line == 'X':\n",
    "#         skip = True\n",
    "#         deleted = len(prods) - 1 # index where to delete url and html\n",
    "    if line == '':\n",
    "#         if skip:\n",
    "#             skip = False\n",
    "#         else:\n",
    "        prods.append([])\n",
    "    elif line != '_':\n",
    "        prods[-1].append(line)\n",
    "    \n",
    "print(len(prods))\n",
    "\n",
    "truths = []\n",
    "for i in range(len(prods)):\n",
    "    if prods[i] != []:\n",
    "        truth = False\n",
    "        for sent in ast.literal_eval(pages_df['raw_text'].iloc[i]):\n",
    "            for prod in prods[i]:\n",
    "                if prod.lower() in sent.lower():\n",
    "                    truth = True\n",
    "                    break\n",
    "            \n",
    "        truths.append(truth)\n",
    "                \n",
    "    else:\n",
    "        truths.append(True)\n",
    "\n",
    "        \n",
    "print(truths)\n",
    "\n",
    "\n",
    "print(len(truths))\n",
    "ti = [i for i,x in enumerate(truths) if x == False]\n",
    "print(len(ti))"
   ]
  },
  {
   "cell_type": "markdown",
   "id": "1183b905",
   "metadata": {},
   "source": [
    "# CREATE FLAIR DATASET"
   ]
  },
  {
   "cell_type": "code",
   "execution_count": 384,
   "id": "9c32f166",
   "metadata": {},
   "outputs": [
    {
     "data": {
      "application/vnd.jupyter.widget-view+json": {
       "model_id": "a14b0ae88e2544afa0cf8c27862dcb94",
       "version_major": 2,
       "version_minor": 0
      },
      "text/plain": [
       "  0%|          | 0/103 [00:00<?, ?it/s]"
      ]
     },
     "metadata": {},
     "output_type": "display_data"
    },
    {
     "data": {
      "application/vnd.jupyter.widget-view+json": {
       "model_id": "fd76c52dcfcc45fe99a304ec8671b47c",
       "version_major": 2,
       "version_minor": 0
      },
      "text/plain": [
       "  0%|          | 0/10 [00:00<?, ?it/s]"
      ]
     },
     "metadata": {},
     "output_type": "display_data"
    },
    {
     "data": {
      "application/vnd.jupyter.widget-view+json": {
       "model_id": "05429a3368f142ceb9565a22d4cb26b0",
       "version_major": 2,
       "version_minor": 0
      },
      "text/plain": [
       "  0%|          | 0/10 [00:00<?, ?it/s]"
      ]
     },
     "metadata": {},
     "output_type": "display_data"
    }
   ],
   "source": [
    "from interval import interval\n",
    "\n",
    "def write_ds(pages, prods, f):\n",
    "    \n",
    "    pages = [ast.literal_eval(page) for page in pages]\n",
    "    \n",
    "    prods_idxs = []\n",
    "    for idx in range(len(prods)):\n",
    "        prods_idxs.append([])\n",
    "        \n",
    "        for sid, sent in enumerate(pages[idx]):\n",
    "            sent = sent.lower()\n",
    "            prods_idxs[idx].append([])\n",
    "            \n",
    "            for prod in prods[idx]:\n",
    "                prod = prod.lower()\n",
    "                \n",
    "                if prod in sent:\n",
    "                    prods_idxs[idx][sid].extend([\n",
    "                        [m.start(), m.end()]\n",
    "                        for m in re.finditer(prod, sent.strip())\n",
    "                    ])\n",
    "            prods_idxs[idx][sid] = interval(*sorted(prods_idxs[idx][sid], key=lambda tup: tup[0]))\n",
    "\n",
    "    for idx in tqdm(list(range(len(prods)))):\n",
    "        for sid, sent in enumerate(pages[idx]):\n",
    "            sent = Sentence(sent, use_tokenizer=True)\n",
    "\n",
    "            if not len(sent):\n",
    "                continue\n",
    "                \n",
    "            isChunk = False\n",
    "            \n",
    "            for word in sent[:min(len(sent), 512)]:\n",
    "                f.write(word.text)\n",
    "                \n",
    "                isProd = False\n",
    "                for prod_int in prods_idxs[idx][sid].components:\n",
    "                    if interval[word.start_position, word.end_position] in prod_int:\n",
    "                        isProd = True\n",
    "                        if isChunk:\n",
    "                            f.write(f' I-PRODUCT\\n')\n",
    "                            break\n",
    "                        else:\n",
    "                            f.write(f' B-PRODUCT\\n')\n",
    "                            isChunk = True\n",
    "                            break\n",
    "                if not isProd:\n",
    "                    f.write(f' O\\n')\n",
    "            f.write(f'\\n')\n",
    "    \n",
    "### total = 123\n",
    "tr_idx = 103\n",
    "ts_idx = 113\n",
    "dv_idx = 123\n",
    "\n",
    "with open('column_product_ds/train.txt', 'w') as f:\n",
    "    write_ds(pages_df['raw_text'].values.tolist()[:tr_idx], prods[:tr_idx], f)\n",
    "\n",
    "with open('column_product_ds/test.txt', 'w') as f:\n",
    "    write_ds(pages_df['raw_text'].values.tolist()[tr_idx:ts_idx], prods[tr_idx:ts_idx], f)\n",
    "\n",
    "with open('column_product_ds/dev.txt', 'w') as f:\n",
    "    write_ds(pages_df['raw_text'].values.tolist()[ts_idx:dv_idx], prods[ts_idx:dv_idx], f)"
   ]
  },
  {
   "cell_type": "markdown",
   "id": "af27a9ef",
   "metadata": {},
   "source": [
    "# FINE-TUNE MODEL"
   ]
  },
  {
   "cell_type": "code",
   "execution_count": 92,
   "id": "cf6979be",
   "metadata": {},
   "outputs": [
    {
     "name": "stdout",
     "output_type": "stream",
     "text": [
      "2022-01-30 18:56:26,886 Reading data from column_product_ds\n",
      "2022-01-30 18:56:26,887 Train: column_product_ds/train.txt\n",
      "2022-01-30 18:56:26,888 Dev: column_product_ds/dev.txt\n",
      "2022-01-30 18:56:26,888 Test: column_product_ds/test.txt\n"
     ]
    },
    {
     "name": "stderr",
     "output_type": "stream",
     "text": [
      "/tmp/ipykernel_12997/68817071.py:15: DeprecationWarning: Call to deprecated method make_tag_dictionary. (Use 'make_label_dictionary' instead.) -- Deprecated since version 0.8.\n",
      "  tag_dictionary = corpus.make_tag_dictionary(tag_type=tag_type)\n"
     ]
    },
    {
     "name": "stdout",
     "output_type": "stream",
     "text": [
      "2022-01-30 18:56:37,725 ----------------------------------------------------------------------------------------------------\n",
      "2022-01-30 18:56:37,726 Model: \"SequenceTagger(\n",
      "  (embeddings): StackedEmbeddings(\n",
      "    (list_embedding_0): WordEmbeddings('en-crawl')\n",
      "    (list_embedding_1): FlairEmbeddings(\n",
      "      (lm): LanguageModel(\n",
      "        (drop): Dropout(p=0.25, inplace=False)\n",
      "        (encoder): Embedding(275, 100)\n",
      "        (rnn): LSTM(100, 1024)\n",
      "        (decoder): Linear(in_features=1024, out_features=275, bias=True)\n",
      "      )\n",
      "    )\n",
      "    (list_embedding_2): FlairEmbeddings(\n",
      "      (lm): LanguageModel(\n",
      "        (drop): Dropout(p=0.25, inplace=False)\n",
      "        (encoder): Embedding(275, 100)\n",
      "        (rnn): LSTM(100, 1024)\n",
      "        (decoder): Linear(in_features=1024, out_features=275, bias=True)\n",
      "      )\n",
      "    )\n",
      "  )\n",
      "  (word_dropout): WordDropout(p=0.05)\n",
      "  (locked_dropout): LockedDropout(p=0.5)\n",
      "  (embedding2nn): Linear(in_features=2348, out_features=2348, bias=True)\n",
      "  (rnn): LSTM(2348, 256, batch_first=True, bidirectional=True)\n",
      "  (linear): Linear(in_features=512, out_features=76, bias=True)\n",
      "  (beta): 1.0\n",
      "  (weights): None\n",
      "  (weight_tensor) None\n",
      ")\"\n",
      "2022-01-30 18:56:37,726 ----------------------------------------------------------------------------------------------------\n",
      "2022-01-30 18:56:37,727 Corpus: \"Corpus: 50097 train + 5171 dev + 2435 test sentences\"\n",
      "2022-01-30 18:56:37,727 ----------------------------------------------------------------------------------------------------\n",
      "2022-01-30 18:56:37,727 Parameters:\n",
      "2022-01-30 18:56:37,728  - learning_rate: \"5e-06\"\n",
      "2022-01-30 18:56:37,728  - mini_batch_size: \"32\"\n",
      "2022-01-30 18:56:37,728  - patience: \"3\"\n",
      "2022-01-30 18:56:37,729  - anneal_factor: \"0.5\"\n",
      "2022-01-30 18:56:37,729  - max_epochs: \"1\"\n",
      "2022-01-30 18:56:37,730  - shuffle: \"True\"\n",
      "2022-01-30 18:56:37,730  - train_with_dev: \"False\"\n",
      "2022-01-30 18:56:37,730  - batch_growth_annealing: \"False\"\n",
      "2022-01-30 18:56:37,731 ----------------------------------------------------------------------------------------------------\n",
      "2022-01-30 18:56:37,731 Model training base path: \"ner-fast-finetune-final\"\n",
      "2022-01-30 18:56:37,731 ----------------------------------------------------------------------------------------------------\n",
      "2022-01-30 18:56:37,732 Device: cuda:0\n",
      "2022-01-30 18:56:37,732 ----------------------------------------------------------------------------------------------------\n",
      "2022-01-30 18:56:37,733 Embeddings storage mode: none\n",
      "2022-01-30 18:56:37,733 ----------------------------------------------------------------------------------------------------\n",
      "2022-01-30 18:58:07,410 epoch 1 - iter 164/1642 - loss 0.24760133 - samples/sec: 58.53 - lr: 0.000005\n",
      "2022-01-30 18:59:48,443 epoch 1 - iter 328/1642 - loss 0.22140683 - samples/sec: 51.95 - lr: 0.000005\n",
      "2022-01-30 19:01:09,721 epoch 1 - iter 492/1642 - loss 0.20293431 - samples/sec: 64.58 - lr: 0.000005\n",
      "2022-01-30 19:02:48,405 epoch 1 - iter 656/1642 - loss 0.20158154 - samples/sec: 53.18 - lr: 0.000005\n",
      "2022-01-30 19:04:11,122 epoch 1 - iter 820/1642 - loss 0.19496166 - samples/sec: 63.45 - lr: 0.000005\n",
      "2022-01-30 19:05:36,351 epoch 1 - iter 984/1642 - loss 0.18581691 - samples/sec: 61.58 - lr: 0.000005\n",
      "2022-01-30 19:07:02,683 epoch 1 - iter 1148/1642 - loss 0.17546515 - samples/sec: 60.80 - lr: 0.000005\n",
      "2022-01-30 19:08:21,532 epoch 1 - iter 1312/1642 - loss 0.18029135 - samples/sec: 66.57 - lr: 0.000005\n",
      "2022-01-30 19:09:49,636 epoch 1 - iter 1476/1642 - loss 0.16863923 - samples/sec: 59.57 - lr: 0.000005\n",
      "2022-01-30 19:11:28,439 epoch 1 - iter 1640/1642 - loss 0.16398235 - samples/sec: 53.12 - lr: 0.000005\n",
      "2022-01-30 19:11:28,827 ----------------------------------------------------------------------------------------------------\n",
      "2022-01-30 19:11:28,828 EPOCH 1 done: loss 0.1639 - lr 0.0000050\n",
      "2022-01-30 19:12:41,688 DEV : loss 0.11451991647481918 - f1-score (micro avg)  0.0\n",
      "2022-01-30 19:12:41,708 BAD EPOCHS (no improvement): 0\n",
      "2022-01-30 19:12:44,210 Test data not provided setting final score to 0\n"
     ]
    },
    {
     "data": {
      "text/plain": [
       "{'test_score': 0,\n",
       " 'dev_score_history': [0.0],\n",
       " 'train_loss_history': [0.16393901091856575],\n",
       " 'dev_loss_history': [tensor(0.1145, device='cuda:0')]}"
      ]
     },
     "execution_count": 92,
     "metadata": {},
     "output_type": "execute_result"
    }
   ],
   "source": [
    "# 1. load the corpus (Ontonotes does not ship with Flair, you need to download and reformat into a column format yourself)\n",
    "columns = {0: \"text\", 1: \"ner\"}\n",
    "corpus: Corpus = ColumnCorpus(\n",
    "                \"column_product_ds\", columns,\n",
    "                train_file='train.txt',\n",
    "                test_file='test.txt',\n",
    "                dev_file='dev.txt'\n",
    "#                 tag_to_bioes=\"ner\"\n",
    "            )\n",
    "\n",
    "# 2. what tag do we want to predict?\n",
    "tag_type = 'ner'\n",
    "\n",
    "# 3. make the tag dictionary from the corpus\n",
    "tag_dictionary = corpus.make_tag_dictionary(tag_type=tag_type)\n",
    "\n",
    "# 4. initialize fine-tuneable transformer embeddings WITH document context\n",
    "# from flair.embeddings import TransformerWordEmbeddings\n",
    "\n",
    "# embeddings = TransformerWordEmbeddings(\n",
    "#     model='bert-base-uncased', #'xlm-roberta-large',\n",
    "#     layers=\"-1\",\n",
    "#     subtoken_pooling=\"first\",\n",
    "#     fine_tune=False,\n",
    "#     use_context=True,\n",
    "# )\n",
    "\n",
    "# 5. initialize bare-bones sequence tagger (no CRF, no RNN, no reprojection)\n",
    "# from flair.models import SequenceTagger\n",
    "\n",
    "# tagger = SequenceTagger(\n",
    "#     hidden_size=256,\n",
    "#     embeddings=embeddings,\n",
    "#     tag_dictionary=tag_dictionary,\n",
    "#     tag_type='ner',\n",
    "# #     use_crf=False,\n",
    "# #     use_rnn=False,\n",
    "# #     reproject_embeddings=False,\n",
    "# )\n",
    "# tagger = SequenceTagger.load('ner-ontonotes-fast')  # ner-ontonotes-large\n",
    "tagger.embeddings.list_embedding_1.lm.document_delimiter = \"\\n\"\n",
    "tagger.embeddings.list_embedding_2.lm.document_delimiter = \"\\n\"\n",
    "# 6. initialize trainer\n",
    "trainer = ModelTrainer(tagger, corpus)  # , optimizer=torch.optim.AdamW)\n",
    "\n",
    "# 7. run training with XLM parameters (20 epochs, small LR)\n",
    "from torch.optim.lr_scheduler import OneCycleLR\n",
    "\n",
    "trainer.train('ner-fast-finetune-final',\n",
    "#               train_with_dev=True,\n",
    "              train_with_test=True,\n",
    "              save_final_model=True,\n",
    "              learning_rate=5.0e-6,\n",
    "              mini_batch_size=32,\n",
    "              mini_batch_chunk_size=1,\n",
    "              max_epochs=1,\n",
    "#               scheduler=OneCycleLR,\n",
    "              embeddings_storage_mode='none',\n",
    "              use_swa=True,\n",
    "              weight_decay=0.,\n",
    "              )\n",
    "tagger.save('ner-fast-finetuned_model.pt')"
   ]
  },
  {
   "cell_type": "markdown",
   "id": "b7fafc74",
   "metadata": {},
   "source": [
    "# TEST MODEL"
   ]
  },
  {
   "cell_type": "code",
   "execution_count": 110,
   "id": "1b91a1bb",
   "metadata": {},
   "outputs": [
    {
     "data": {
      "application/vnd.jupyter.widget-view+json": {
       "model_id": "4917fc561f3c44be811065e8a8b5c65e",
       "version_major": 2,
       "version_minor": 0
      },
      "text/plain": [
       "Pages Progress:   0%|          | 0/614 [00:00<?, ?it/s]"
      ]
     },
     "metadata": {},
     "output_type": "display_data"
    },
    {
     "data": {
      "application/vnd.jupyter.widget-view+json": {
       "model_id": "",
       "version_major": 2,
       "version_minor": 0
      },
      "text/plain": [
       "Sentences Progress:   0%|          | 0/20 [00:00<?, ?it/s]"
      ]
     },
     "metadata": {},
     "output_type": "display_data"
    },
    {
     "data": {
      "application/vnd.jupyter.widget-view+json": {
       "model_id": "",
       "version_major": 2,
       "version_minor": 0
      },
      "text/plain": [
       "Sentences Progress:   0%|          | 0/12 [00:00<?, ?it/s]"
      ]
     },
     "metadata": {},
     "output_type": "display_data"
    },
    {
     "name": "stdout",
     "output_type": "stream",
     "text": [
      "Span [3,4,5,6]: \"Cirrus LED Reading Light\"   [− Labels: PRODUCT (0.9977)]\n",
      "Span [12]: \"Beadlight\"   [− Labels: PRODUCT (0.9097)]\n"
     ]
    },
    {
     "data": {
      "application/vnd.jupyter.widget-view+json": {
       "model_id": "",
       "version_major": 2,
       "version_minor": 0
      },
      "text/plain": [
       "Sentences Progress:   0%|          | 0/20 [00:00<?, ?it/s]"
      ]
     },
     "metadata": {},
     "output_type": "display_data"
    },
    {
     "data": {
      "application/vnd.jupyter.widget-view+json": {
       "model_id": "",
       "version_major": 2,
       "version_minor": 0
      },
      "text/plain": [
       "Sentences Progress:   0%|          | 0/11 [00:00<?, ?it/s]"
      ]
     },
     "metadata": {},
     "output_type": "display_data"
    },
    {
     "name": "stdout",
     "output_type": "stream",
     "text": [
      "Span [4,5]: \"Eames Style\"   [− Labels: PRODUCT (0.7843)]\n",
      "Span [14,15,16]: \"Waterfall Seat Edge\"   [− Labels: PRODUCT (0.9779)]\n",
      "Span [14,15,16]: \"Waterfall Seat Edge\"   [− Labels: PRODUCT (0.8646)]\n",
      "Span [14,15,16]: \"Waterfall Seat Edge\"   [− Labels: PRODUCT (0.9779)]\n",
      "Span [14,15,16]: \"Waterfall Seat Edge\"   [− Labels: PRODUCT (0.8646)]\n",
      "Span [14,15,16]: \"Waterfall Seat Edge\"   [− Labels: PRODUCT (0.9779)]\n",
      "Span [14]: \"Waterfall\"   [− Labels: PRODUCT (0.8756)]\n"
     ]
    },
    {
     "data": {
      "application/vnd.jupyter.widget-view+json": {
       "model_id": "",
       "version_major": 2,
       "version_minor": 0
      },
      "text/plain": [
       "Sentences Progress:   0%|          | 0/6 [00:00<?, ?it/s]"
      ]
     },
     "metadata": {},
     "output_type": "display_data"
    },
    {
     "data": {
      "application/vnd.jupyter.widget-view+json": {
       "model_id": "",
       "version_major": 2,
       "version_minor": 0
      },
      "text/plain": [
       "Sentences Progress:   0%|          | 0/7 [00:00<?, ?it/s]"
      ]
     },
     "metadata": {},
     "output_type": "display_data"
    },
    {
     "data": {
      "application/vnd.jupyter.widget-view+json": {
       "model_id": "",
       "version_major": 2,
       "version_minor": 0
      },
      "text/plain": [
       "Sentences Progress:   0%|          | 0/27 [00:00<?, ?it/s]"
      ]
     },
     "metadata": {},
     "output_type": "display_data"
    },
    {
     "data": {
      "application/vnd.jupyter.widget-view+json": {
       "model_id": "",
       "version_major": 2,
       "version_minor": 0
      },
      "text/plain": [
       "Sentences Progress:   0%|          | 0/9 [00:00<?, ?it/s]"
      ]
     },
     "metadata": {},
     "output_type": "display_data"
    },
    {
     "name": "stdout",
     "output_type": "stream",
     "text": [
      "Span [4,5,6,7]: \"American Oak Side Table\"   [− Labels: PRODUCT (0.9974)]\n",
      "Span [1,2,3,4]: \"American Oak Side Table\"   [− Labels: PRODUCT (0.9129)]\n",
      "Span [1,2,3,4]: \"American Oak Side Table\"   [− Labels: PRODUCT (0.9222)]\n"
     ]
    },
    {
     "data": {
      "application/vnd.jupyter.widget-view+json": {
       "model_id": "",
       "version_major": 2,
       "version_minor": 0
      },
      "text/plain": [
       "Sentences Progress:   0%|          | 0/25 [00:00<?, ?it/s]"
      ]
     },
     "metadata": {},
     "output_type": "display_data"
    },
    {
     "data": {
      "application/vnd.jupyter.widget-view+json": {
       "model_id": "",
       "version_major": 2,
       "version_minor": 0
      },
      "text/plain": [
       "Sentences Progress:   0%|          | 0/7 [00:00<?, ?it/s]"
      ]
     },
     "metadata": {},
     "output_type": "display_data"
    },
    {
     "data": {
      "application/vnd.jupyter.widget-view+json": {
       "model_id": "",
       "version_major": 2,
       "version_minor": 0
      },
      "text/plain": [
       "Sentences Progress:   0%|          | 0/9 [00:00<?, ?it/s]"
      ]
     },
     "metadata": {},
     "output_type": "display_data"
    },
    {
     "name": "stdout",
     "output_type": "stream",
     "text": [
      "Span [2,3,4]: \"The Layabout Suite\"   [− Labels: PRODUCT (0.9993)]\n",
      "Span [5,6,7]: \"The Layabout Suite\"   [− Labels: PRODUCT (0.9996)]\n",
      "Span [2,3,4]: \"The Layabout Suite\"   [− Labels: PRODUCT (0.9996)]\n",
      "Span [5,6,7]: \"The Layabout Suite\"   [− Labels: PRODUCT (0.9995)]\n",
      "Span [2,3,4]: \"The Layabout Suite\"   [− Labels: PRODUCT (0.9996)]\n",
      "Span [5,6,7]: \"The Layabout Suite\"   [− Labels: PRODUCT (0.9995)]\n",
      "Span [35,36]: \"Modular Lounge\"   [− Labels: PRODUCT (0.8485)]\n",
      "Span [86,87,88,89]: \"Bronte Left Hand Chaise\"   [− Labels: PRODUCT (0.8429)]\n",
      "Span [19]: \"Playpen\"   [− Labels: PRODUCT (0.8059)]\n"
     ]
    },
    {
     "data": {
      "application/vnd.jupyter.widget-view+json": {
       "model_id": "",
       "version_major": 2,
       "version_minor": 0
      },
      "text/plain": [
       "Sentences Progress:   0%|          | 0/16 [00:00<?, ?it/s]"
      ]
     },
     "metadata": {},
     "output_type": "display_data"
    },
    {
     "data": {
      "application/vnd.jupyter.widget-view+json": {
       "model_id": "",
       "version_major": 2,
       "version_minor": 0
      },
      "text/plain": [
       "Sentences Progress:   0%|          | 0/2 [00:00<?, ?it/s]"
      ]
     },
     "metadata": {},
     "output_type": "display_data"
    },
    {
     "data": {
      "application/vnd.jupyter.widget-view+json": {
       "model_id": "",
       "version_major": 2,
       "version_minor": 0
      },
      "text/plain": [
       "Sentences Progress:   0%|          | 0/57 [00:00<?, ?it/s]"
      ]
     },
     "metadata": {},
     "output_type": "display_data"
    },
    {
     "data": {
      "application/vnd.jupyter.widget-view+json": {
       "model_id": "",
       "version_major": 2,
       "version_minor": 0
      },
      "text/plain": [
       "Sentences Progress:   0%|          | 0/1 [00:00<?, ?it/s]"
      ]
     },
     "metadata": {},
     "output_type": "display_data"
    },
    {
     "data": {
      "application/vnd.jupyter.widget-view+json": {
       "model_id": "",
       "version_major": 2,
       "version_minor": 0
      },
      "text/plain": [
       "Sentences Progress:   0%|          | 0/21 [00:00<?, ?it/s]"
      ]
     },
     "metadata": {},
     "output_type": "display_data"
    },
    {
     "name": "stdout",
     "output_type": "stream",
     "text": [
      "Span [43,44,45]: \"the Samson Daybed\"   [− Labels: PRODUCT (0.9872)]\n"
     ]
    },
    {
     "data": {
      "application/vnd.jupyter.widget-view+json": {
       "model_id": "",
       "version_major": 2,
       "version_minor": 0
      },
      "text/plain": [
       "Sentences Progress:   0%|          | 0/14 [00:00<?, ?it/s]"
      ]
     },
     "metadata": {},
     "output_type": "display_data"
    },
    {
     "data": {
      "application/vnd.jupyter.widget-view+json": {
       "model_id": "",
       "version_major": 2,
       "version_minor": 0
      },
      "text/plain": [
       "Sentences Progress: 0it [00:00, ?it/s]"
      ]
     },
     "metadata": {},
     "output_type": "display_data"
    },
    {
     "data": {
      "application/vnd.jupyter.widget-view+json": {
       "model_id": "",
       "version_major": 2,
       "version_minor": 0
      },
      "text/plain": [
       "Sentences Progress:   0%|          | 0/10 [00:00<?, ?it/s]"
      ]
     },
     "metadata": {},
     "output_type": "display_data"
    },
    {
     "data": {
      "application/vnd.jupyter.widget-view+json": {
       "model_id": "",
       "version_major": 2,
       "version_minor": 0
      },
      "text/plain": [
       "Sentences Progress:   0%|          | 0/13 [00:00<?, ?it/s]"
      ]
     },
     "metadata": {},
     "output_type": "display_data"
    },
    {
     "data": {
      "application/vnd.jupyter.widget-view+json": {
       "model_id": "",
       "version_major": 2,
       "version_minor": 0
      },
      "text/plain": [
       "Sentences Progress:   0%|          | 0/14 [00:00<?, ?it/s]"
      ]
     },
     "metadata": {},
     "output_type": "display_data"
    },
    {
     "name": "stdout",
     "output_type": "stream",
     "text": [
      "Span [19,20]: \"Hoyt Chair\"   [− Labels: PRODUCT (0.951)]\n",
      "Span [24,25]: \"Hoyt Chair\"   [− Labels: PRODUCT (0.9998)]\n",
      "Span [36,37,38]: \"Sophie Sky Grey\"   [− Labels: PRODUCT (0.9689)]\n",
      "Span [43,44,45]: \"Ease Silver Dollar\"   [− Labels: PRODUCT (0.8874)]\n",
      "Span [70,71]: \"Romo Moon\"   [− Labels: PRODUCT (0.8723)]\n",
      "Span [76,77]: \"Notion Underground\"   [− Labels: PRODUCT (0.8881)]\n",
      "Span [82,83,84]: \"Twist Earl Grey\"   [− Labels: PRODUCT (0.9228)]\n",
      "Span [89,90]: \"Notion Airstream\"   [− Labels: PRODUCT (0.9885)]\n",
      "Span [15]: \"Android\"   [− Labels: PRODUCT (0.8901)]\n",
      "Span [8,9,10]: \"the Hoyt Chair\"   [− Labels: PRODUCT (1.0)]\n",
      "Span [6,7]: \"Hoyt Chair\"   [− Labels: PRODUCT (0.9896)]\n",
      "Span [18,19,20]: \"Sophie Sky Grey\"   [− Labels: PRODUCT (0.9475)]\n",
      "Span [25,26,27]: \"Ease Silver Dollar\"   [− Labels: PRODUCT (0.974)]\n",
      "Span [32,33]: \"Simplex Oyster\"   [− Labels: PRODUCT (0.7863)]\n",
      "Span [38,39,40]: \"Taylor Felt Grey\"   [− Labels: PRODUCT (0.9241)]\n",
      "Span [45,46,47]: \"Vibes Elephant Grey\"   [− Labels: PRODUCT (0.9925)]\n",
      "Span [52,53]: \"Romo Moon\"   [− Labels: PRODUCT (0.9918)]\n",
      "Span [64,65,66]: \"Twist Earl Grey\"   [− Labels: PRODUCT (0.99)]\n",
      "Span [71,72]: \"Notion Airstream\"   [− Labels: PRODUCT (0.9356)]\n",
      "Span [77,78]: \"Vibes Steel\"   [− Labels: PRODUCT (0.8937)]\n",
      "Span [89,90]: \"Romo Lead\"   [− Labels: PRODUCT (0.9741)]\n",
      "Span [95,96]: \"Poodle Cloud\"   [− Labels: PRODUCT (0.8907)]\n",
      "Span [15]: \"Android\"   [− Labels: PRODUCT (0.9917)]\n",
      "Span [8,9,10]: \"the Hoyt Chair\"   [− Labels: PRODUCT (1.0)]\n",
      "Span [15,16]: \"Bel Air\"   [− Labels: PRODUCT (0.8922)]\n",
      "Span [1,2]: \"Hoyt Chair\"   [− Labels: PRODUCT (0.9713)]\n",
      "Span [6,7]: \"Hoyt Chair\"   [− Labels: PRODUCT (0.9954)]\n",
      "Span [12,13]: \"Prima Linen\"   [− Labels: PRODUCT (0.8175)]\n",
      "Span [18,19,20]: \"Sophie Sky Grey\"   [− Labels: PRODUCT (0.9864)]\n",
      "Span [25,26,27]: \"Ease Silver Dollar\"   [− Labels: PRODUCT (0.9597)]\n",
      "Span [32,33]: \"Simplex Oyster\"   [− Labels: PRODUCT (0.9682)]\n",
      "Span [38,39,40]: \"Taylor Felt Grey\"   [− Labels: PRODUCT (0.9511)]\n",
      "Span [45,46,47]: \"Vibes Elephant Grey\"   [− Labels: PRODUCT (0.9953)]\n",
      "Span [52,53]: \"Romo Moon\"   [− Labels: PRODUCT (0.9653)]\n",
      "Span [58,59]: \"Notion Underground\"   [− Labels: PRODUCT (0.7875)]\n",
      "Span [64,65,66]: \"Twist Earl Grey\"   [− Labels: PRODUCT (0.9972)]\n",
      "Span [71,72]: \"Notion Airstream\"   [− Labels: PRODUCT (0.9491)]\n",
      "Span [77,78]: \"Vibes Steel\"   [− Labels: PRODUCT (0.9331)]\n",
      "Span [89,90]: \"Romo Lead\"   [− Labels: PRODUCT (0.9551)]\n",
      "Span [95,96]: \"Poodle Cloud\"   [− Labels: PRODUCT (0.9548)]\n",
      "Span [101,102]: \"Nubia Linen\"   [− Labels: PRODUCT (0.8278)]\n",
      "Span [8,9,10]: \"the Hoyt Chair\"   [− Labels: PRODUCT (1.0)]\n",
      "Span [4,5]: \"Hoyt Chair\"   [− Labels: PRODUCT (0.9367)]\n",
      "Span [16,17,18]: \"Sophie Sky Grey\"   [− Labels: PRODUCT (0.9855)]\n",
      "Span [23,24,25]: \"Ease Silver Dollar\"   [− Labels: PRODUCT (0.7951)]\n",
      "Span [30,31]: \"Simplex Oyster\"   [− Labels: PRODUCT (0.939)]\n",
      "Span [36,37,38]: \"Taylor Felt Grey\"   [− Labels: PRODUCT (0.8819)]\n",
      "Span [43,44,45]: \"Vibes Elephant Grey\"   [− Labels: PRODUCT (0.9893)]\n",
      "Span [50,51]: \"Romo Moon\"   [− Labels: PRODUCT (0.9718)]\n",
      "Span [56,57]: \"Notion Underground\"   [− Labels: PRODUCT (0.7949)]\n",
      "Span [62,63,64]: \"Twist Earl Grey\"   [− Labels: PRODUCT (0.9934)]\n",
      "Span [69,70]: \"Notion Airstream\"   [− Labels: PRODUCT (0.9724)]\n",
      "Span [87,88]: \"Romo Lead\"   [− Labels: PRODUCT (0.9647)]\n",
      "Span [93,94]: \"Poodle Cloud\"   [− Labels: PRODUCT (0.9933)]\n",
      "Span [99,100]: \"Nubia Linen\"   [− Labels: PRODUCT (0.895)]\n",
      "Span [1,2]: \"Hoyt Chair\"   [− Labels: PRODUCT (0.9189)]\n",
      "Span [7,8]: \"Prima Linen\"   [− Labels: PRODUCT (0.8256)]\n",
      "Span [40,41,42]: \"Vibes Elephant Grey\"   [− Labels: PRODUCT (0.8247)]\n",
      "Span [66,67]: \"Notion Airstream\"   [− Labels: PRODUCT (0.7998)]\n",
      "Span [96,97]: \"Nubia Linen\"   [− Labels: PRODUCT (0.9685)]\n",
      "Span [45,46]: \"Romo Moon\"   [− Labels: PRODUCT (0.8762)]\n",
      "Span [51,52]: \"Notion Underground\"   [− Labels: PRODUCT (0.7869)]\n",
      "Span [64,65]: \"Notion Airstream\"   [− Labels: PRODUCT (0.9019)]\n",
      "Span [82,83]: \"Romo Lead\"   [− Labels: PRODUCT (0.9125)]\n",
      "Span [7,8,9]: \"Sophie Sky Grey\"   [− Labels: PRODUCT (0.7843)]\n",
      "Span [27,28,29]: \"Taylor Felt Grey\"   [− Labels: PRODUCT (0.8064)]\n",
      "Span [41,42]: \"Romo Moon\"   [− Labels: PRODUCT (0.8642)]\n",
      "Span [53,54,55]: \"Twist Earl Grey\"   [− Labels: PRODUCT (0.9741)]\n",
      "Span [90,91]: \"Nubia Linen\"   [− Labels: PRODUCT (0.7584)]\n",
      "Span [41,42]: \"Romo Moon\"   [− Labels: PRODUCT (0.7845)]\n",
      "Span [60,61]: \"Notion Airstream\"   [− Labels: PRODUCT (0.8259)]\n",
      "Span [90,91]: \"Nubia Linen\"   [− Labels: PRODUCT (0.8267)]\n",
      "Span [1,2]: \"Prima Linen\"   [− Labels: PRODUCT (0.8429)]\n",
      "Span [1,2,3]: \"Sophie Sky Grey\"   [− Labels: PRODUCT (0.9635)]\n",
      "Span [1,2,3]: \"Ease Silver Dollar\"   [− Labels: PRODUCT (0.897)]\n",
      "Span [1,2,3]: \"Taylor Felt Grey\"   [− Labels: PRODUCT (0.9203)]\n",
      "Span [1,2,3]: \"Vibes Elephant Grey\"   [− Labels: PRODUCT (0.9887)]\n",
      "Span [1,2]: \"Romo Moon\"   [− Labels: PRODUCT (0.9877)]\n",
      "Span [1,2]: \"Notion Underground\"   [− Labels: PRODUCT (0.9779)]\n",
      "Span [1,2,3]: \"Twist Earl Grey\"   [− Labels: PRODUCT (0.9821)]\n",
      "Span [1,2]: \"Notion Airstream\"   [− Labels: PRODUCT (0.9987)]\n",
      "Span [1,2]: \"Vibes Steel\"   [− Labels: PRODUCT (0.9701)]\n",
      "Span [1,2]: \"Bennett Charcoal\"   [− Labels: PRODUCT (0.8943)]\n",
      "Span [1,2]: \"Romo Lead\"   [− Labels: PRODUCT (0.9768)]\n",
      "Span [1,2]: \"Poodle Cloud\"   [− Labels: PRODUCT (0.8701)]\n",
      "Span [1,2]: \"Nubia Linen\"   [− Labels: PRODUCT (0.9094)]\n",
      "Span [1,2]: \"Eton Sand\"   [− Labels: PRODUCT (0.904)]\n",
      "Span [1,2]: \"Impact Flurry\"   [− Labels: PRODUCT (0.8083)]\n",
      "Span [1,2,3]: \"Maestro Fleece Taupe\"   [− Labels: PRODUCT (0.942)]\n",
      "Span [1,2,3]: \"Simplex French Vanilla\"   [− Labels: PRODUCT (0.9482)]\n",
      "Span [1,2]: \"Notion Hypnotic\"   [− Labels: PRODUCT (0.9996)]\n",
      "Span [1,2]: \"Taylor Capri\"   [− Labels: PRODUCT (0.9989)]\n",
      "Span [1,2]: \"Prestige Teal\"   [− Labels: PRODUCT (0.9825)]\n"
     ]
    },
    {
     "data": {
      "application/vnd.jupyter.widget-view+json": {
       "model_id": "",
       "version_major": 2,
       "version_minor": 0
      },
      "text/plain": [
       "Sentences Progress:   0%|          | 0/13 [00:00<?, ?it/s]"
      ]
     },
     "metadata": {},
     "output_type": "display_data"
    },
    {
     "name": "stdout",
     "output_type": "stream",
     "text": [
      "Span [4,5]: \"Beds Nina\"   [− Labels: PRODUCT (0.9769)]\n",
      "Span [6,7,8,9,10]: \"Platinum Queen Bed by Vanguard\"   [− Labels: PRODUCT (0.9084)]\n",
      "Span [6]: \"Platinum\"   [− Labels: PRODUCT (0.8149)]\n",
      "Span [9,10]: \"by Vanguard\"   [− Labels: PRODUCT (0.7848)]\n",
      "Span [43]: \"Bellamy\"   [− Labels: PRODUCT (0.8006)]\n",
      "Span [6]: \"Vanguard\"   [− Labels: PRODUCT (0.9029)]\n"
     ]
    },
    {
     "data": {
      "application/vnd.jupyter.widget-view+json": {
       "model_id": "",
       "version_major": 2,
       "version_minor": 0
      },
      "text/plain": [
       "Sentences Progress:   0%|          | 0/12 [00:00<?, ?it/s]"
      ]
     },
     "metadata": {},
     "output_type": "display_data"
    },
    {
     "data": {
      "application/vnd.jupyter.widget-view+json": {
       "model_id": "",
       "version_major": 2,
       "version_minor": 0
      },
      "text/plain": [
       "Sentences Progress:   0%|          | 0/21 [00:00<?, ?it/s]"
      ]
     },
     "metadata": {},
     "output_type": "display_data"
    },
    {
     "data": {
      "application/vnd.jupyter.widget-view+json": {
       "model_id": "",
       "version_major": 2,
       "version_minor": 0
      },
      "text/plain": [
       "Sentences Progress:   0%|          | 0/13 [00:00<?, ?it/s]"
      ]
     },
     "metadata": {},
     "output_type": "display_data"
    },
    {
     "name": "stdout",
     "output_type": "stream",
     "text": [
      "Span [30]: \"OT02-VVPLEASE\"   [− Labels: PRODUCT (0.8592)]\n",
      "Span [9,10,11]: \"Large Sectional Sofa\"   [− Labels: PRODUCT (0.8094)]\n",
      "Span [23,24,25]: \"Large Sectional Sofa\"   [− Labels: PRODUCT (0.8112)]\n",
      "Span [58,59]: \"Amanda Sectional\"   [− Labels: PRODUCT (0.8566)]\n",
      "Span [9,10,11]: \"Large Sectional Sofa\"   [− Labels: PRODUCT (0.8094)]\n",
      "Span [23,24,25]: \"Large Sectional Sofa\"   [− Labels: PRODUCT (0.8112)]\n",
      "Span [58,59]: \"Amanda Sectional\"   [− Labels: PRODUCT (0.8566)]\n",
      "Span [66,67,68]: \"Nemo Sleeper Sofa\"   [− Labels: PRODUCT (0.7536)]\n",
      "Span [62,63,64]: \"Oversized Sectional Sofa\"   [− Labels: PRODUCT (0.7637)]\n",
      "Span [9,10,11]: \"Large Sectional Sofa\"   [− Labels: PRODUCT (0.8094)]\n",
      "Span [23,24,25]: \"Large Sectional Sofa\"   [− Labels: PRODUCT (0.8112)]\n",
      "Span [58,59]: \"Amanda Sectional\"   [− Labels: PRODUCT (0.8566)]\n",
      "Span [66,67,68]: \"Nemo Sleeper Sofa\"   [− Labels: PRODUCT (0.8708)]\n",
      "Span [62,63,64]: \"Oversized Sectional Sofa\"   [− Labels: PRODUCT (0.7637)]\n",
      "Span [9,10,11]: \"Large Sectional Sofa\"   [− Labels: PRODUCT (0.8094)]\n",
      "Span [23,24,25]: \"Large Sectional Sofa\"   [− Labels: PRODUCT (0.8112)]\n",
      "Span [58,59]: \"Amanda Sectional\"   [− Labels: PRODUCT (0.8566)]\n",
      "Span [66,67,68]: \"Nemo Sleeper Sofa\"   [− Labels: PRODUCT (0.7536)]\n"
     ]
    },
    {
     "data": {
      "application/vnd.jupyter.widget-view+json": {
       "model_id": "",
       "version_major": 2,
       "version_minor": 0
      },
      "text/plain": [
       "Sentences Progress:   0%|          | 0/17 [00:00<?, ?it/s]"
      ]
     },
     "metadata": {},
     "output_type": "display_data"
    },
    {
     "data": {
      "application/vnd.jupyter.widget-view+json": {
       "model_id": "",
       "version_major": 2,
       "version_minor": 0
      },
      "text/plain": [
       "Sentences Progress:   0%|          | 0/14 [00:00<?, ?it/s]"
      ]
     },
     "metadata": {},
     "output_type": "display_data"
    },
    {
     "data": {
      "application/vnd.jupyter.widget-view+json": {
       "model_id": "",
       "version_major": 2,
       "version_minor": 0
      },
      "text/plain": [
       "Sentences Progress:   0%|          | 0/10 [00:00<?, ?it/s]"
      ]
     },
     "metadata": {},
     "output_type": "display_data"
    },
    {
     "data": {
      "application/vnd.jupyter.widget-view+json": {
       "model_id": "",
       "version_major": 2,
       "version_minor": 0
      },
      "text/plain": [
       "Sentences Progress:   0%|          | 0/11 [00:00<?, ?it/s]"
      ]
     },
     "metadata": {},
     "output_type": "display_data"
    },
    {
     "data": {
      "application/vnd.jupyter.widget-view+json": {
       "model_id": "",
       "version_major": 2,
       "version_minor": 0
      },
      "text/plain": [
       "Sentences Progress:   0%|          | 0/73 [00:00<?, ?it/s]"
      ]
     },
     "metadata": {},
     "output_type": "display_data"
    },
    {
     "name": "stdout",
     "output_type": "stream",
     "text": [
      "Span [27]: \"DuraCord\"   [− Labels: PRODUCT (0.8438)]\n",
      "Span [28,29]: \"DuraCord ®\"   [− Labels: PRODUCT (0.88)]\n",
      "Span [27]: \"DuraCord\"   [− Labels: PRODUCT (0.9051)]\n",
      "Span [28]: \"DuraCord\"   [− Labels: PRODUCT (0.9611)]\n",
      "Span [27,28,29]: \"DuraCord ® Rope\"   [− Labels: PRODUCT (0.7582)]\n",
      "Span [34,35]: \"DuraCord ®\"   [− Labels: PRODUCT (0.7945)]\n",
      "Span [34,35]: \"DuraCord ®\"   [− Labels: PRODUCT (0.9428)]\n",
      "Span [34,35]: \"DuraCord ®\"   [− Labels: PRODUCT (0.986)]\n",
      "Span [17,18,19,20,21,22]: \"Deluxe Pillowtop Swing With Quick Dry\"   [− Labels: PRODUCT (0.8841)]\n",
      "Span [24,25,26,27]: \"- Blue Dobby Weave\"   [− Labels: PRODUCT (0.8201)]\n",
      "Span [24,25,26]: \"DuraCord ® Rope\"   [− Labels: PRODUCT (0.8633)]\n",
      "Span [25,26,27]: \"DuraCord ® Rope\"   [− Labels: PRODUCT (0.9025)]\n",
      "Span [24]: \"DuraCord\"   [− Labels: PRODUCT (0.7896)]\n",
      "Span [34,35]: \"DuraCord ®\"   [− Labels: PRODUCT (0.8603)]\n",
      "Span [34]: \"DuraCord\"   [− Labels: PRODUCT (0.8277)]\n",
      "Span [34,35]: \"DuraCord ®\"   [− Labels: PRODUCT (0.9396)]\n",
      "Span [31,32]: \"DuraCord ®\"   [− Labels: PRODUCT (0.8943)]\n",
      "Span [67,68]: \"DuraCord ®\"   [− Labels: PRODUCT (0.9155)]\n",
      "Span [45,46,47]: \"DuraCord ® Fabric\"   [− Labels: PRODUCT (0.9482)]\n",
      "Span [23]: \"All-Weather\"   [− Labels: PRODUCT (0.9369)]\n",
      "Span [30,31]: \"DuraCord ®\"   [− Labels: PRODUCT (0.9625)]\n",
      "Span [34]: \"DuraCord\"   [− Labels: PRODUCT (0.9002)]\n",
      "Span [30,31]: \"DuraCord ®\"   [− Labels: PRODUCT (0.935)]\n",
      "Span [23]: \"All-Weather\"   [− Labels: PRODUCT (0.9176)]\n",
      "Span [30,31]: \"DuraCord ®\"   [− Labels: PRODUCT (0.9694)]\n",
      "Span [23]: \"All-Weather\"   [− Labels: PRODUCT (0.8115)]\n",
      "Span [30,31]: \"DuraCord ®\"   [− Labels: PRODUCT (0.9681)]\n",
      "Span [34,35]: \"DuraCord ®\"   [− Labels: PRODUCT (0.9727)]\n",
      "Span [34,35]: \"DuraCord ®\"   [− Labels: PRODUCT (0.9483)]\n",
      "Span [24,25]: \"DuraCord ®\"   [− Labels: PRODUCT (0.8359)]\n",
      "Span [27]: \"All-Weather\"   [− Labels: PRODUCT (0.9016)]\n",
      "Span [34,35]: \"DuraCord ®\"   [− Labels: PRODUCT (0.9499)]\n",
      "Span [26,27]: \"DuraCord ®\"   [− Labels: PRODUCT (0.9951)]\n",
      "Span [7]: \"DuraCord\"   [− Labels: PRODUCT (0.994)]\n",
      "Span [5]: \"DuraCord\"   [− Labels: PRODUCT (0.9985)]\n",
      "Span [1]: \"DuraCord\"   [− Labels: PRODUCT (0.9996)]\n",
      "Span [1]: \"DuraCord\"   [− Labels: PRODUCT (0.9997)]\n",
      "Span [73]: \"DuraCord\"   [− Labels: PRODUCT (0.949)]\n",
      "Span [7]: \"DuraCord\"   [− Labels: PRODUCT (0.988)]\n",
      "Span [1]: \"DuraCord\"   [− Labels: PRODUCT (0.9922)]\n",
      "Span [1]: \"DuraCord\"   [− Labels: PRODUCT (0.9995)]\n",
      "Span [27]: \"DuraCord\"   [− Labels: PRODUCT (0.9012)]\n",
      "Span [28]: \"DuraCord\"   [− Labels: PRODUCT (0.961)]\n",
      "Span [27]: \"DuraCord\"   [− Labels: PRODUCT (0.7779)]\n",
      "Span [28]: \"DuraCord\"   [− Labels: PRODUCT (0.9154)]\n"
     ]
    },
    {
     "data": {
      "application/vnd.jupyter.widget-view+json": {
       "model_id": "",
       "version_major": 2,
       "version_minor": 0
      },
      "text/plain": [
       "Sentences Progress:   0%|          | 0/7 [00:00<?, ?it/s]"
      ]
     },
     "metadata": {},
     "output_type": "display_data"
    },
    {
     "data": {
      "application/vnd.jupyter.widget-view+json": {
       "model_id": "",
       "version_major": 2,
       "version_minor": 0
      },
      "text/plain": [
       "Sentences Progress:   0%|          | 0/7 [00:00<?, ?it/s]"
      ]
     },
     "metadata": {},
     "output_type": "display_data"
    },
    {
     "name": "stdout",
     "output_type": "stream",
     "text": [
      "Span [35]: \"Castiglione\"   [− Labels: PRODUCT (0.9582)]\n",
      "Span [54]: \"Geronimo\"   [− Labels: PRODUCT (0.7578)]\n",
      "Span [67]: \"Inestra\"   [− Labels: PRODUCT (0.9548)]\n"
     ]
    },
    {
     "data": {
      "application/vnd.jupyter.widget-view+json": {
       "model_id": "",
       "version_major": 2,
       "version_minor": 0
      },
      "text/plain": [
       "Sentences Progress:   0%|          | 0/4 [00:00<?, ?it/s]"
      ]
     },
     "metadata": {},
     "output_type": "display_data"
    },
    {
     "data": {
      "application/vnd.jupyter.widget-view+json": {
       "model_id": "",
       "version_major": 2,
       "version_minor": 0
      },
      "text/plain": [
       "Sentences Progress:   0%|          | 0/5 [00:00<?, ?it/s]"
      ]
     },
     "metadata": {},
     "output_type": "display_data"
    },
    {
     "data": {
      "application/vnd.jupyter.widget-view+json": {
       "model_id": "",
       "version_major": 2,
       "version_minor": 0
      },
      "text/plain": [
       "Sentences Progress:   0%|          | 0/1 [00:00<?, ?it/s]"
      ]
     },
     "metadata": {},
     "output_type": "display_data"
    },
    {
     "data": {
      "application/vnd.jupyter.widget-view+json": {
       "model_id": "",
       "version_major": 2,
       "version_minor": 0
      },
      "text/plain": [
       "Sentences Progress:   0%|          | 0/6 [00:00<?, ?it/s]"
      ]
     },
     "metadata": {},
     "output_type": "display_data"
    },
    {
     "name": "stdout",
     "output_type": "stream",
     "text": [
      "Span [5,6]: \"Eastern King\"   [− Labels: PRODUCT (0.9578)]\n",
      "Span [9,10]: \"California King\"   [− Labels: PRODUCT (0.9557)]\n",
      "Span [129]: \"Antares\"   [− Labels: PRODUCT (0.902)]\n",
      "Span [134]: \"Antares\"   [− Labels: PRODUCT (0.9174)]\n"
     ]
    },
    {
     "data": {
      "application/vnd.jupyter.widget-view+json": {
       "model_id": "",
       "version_major": 2,
       "version_minor": 0
      },
      "text/plain": [
       "Sentences Progress:   0%|          | 0/5 [00:00<?, ?it/s]"
      ]
     },
     "metadata": {},
     "output_type": "display_data"
    },
    {
     "data": {
      "application/vnd.jupyter.widget-view+json": {
       "model_id": "",
       "version_major": 2,
       "version_minor": 0
      },
      "text/plain": [
       "Sentences Progress:   0%|          | 0/4 [00:00<?, ?it/s]"
      ]
     },
     "metadata": {},
     "output_type": "display_data"
    },
    {
     "data": {
      "application/vnd.jupyter.widget-view+json": {
       "model_id": "",
       "version_major": 2,
       "version_minor": 0
      },
      "text/plain": [
       "Sentences Progress:   0%|          | 0/4 [00:00<?, ?it/s]"
      ]
     },
     "metadata": {},
     "output_type": "display_data"
    },
    {
     "data": {
      "application/vnd.jupyter.widget-view+json": {
       "model_id": "",
       "version_major": 2,
       "version_minor": 0
      },
      "text/plain": [
       "Sentences Progress:   0%|          | 0/15 [00:00<?, ?it/s]"
      ]
     },
     "metadata": {},
     "output_type": "display_data"
    },
    {
     "data": {
      "application/vnd.jupyter.widget-view+json": {
       "model_id": "",
       "version_major": 2,
       "version_minor": 0
      },
      "text/plain": [
       "Sentences Progress:   0%|          | 0/8 [00:00<?, ?it/s]"
      ]
     },
     "metadata": {},
     "output_type": "display_data"
    },
    {
     "name": "stdout",
     "output_type": "stream",
     "text": [
      "Span [62,63]: \"Lazy Susan\"   [− Labels: PRODUCT (0.991)]\n"
     ]
    },
    {
     "data": {
      "application/vnd.jupyter.widget-view+json": {
       "model_id": "",
       "version_major": 2,
       "version_minor": 0
      },
      "text/plain": [
       "Sentences Progress:   0%|          | 0/4 [00:00<?, ?it/s]"
      ]
     },
     "metadata": {},
     "output_type": "display_data"
    },
    {
     "data": {
      "application/vnd.jupyter.widget-view+json": {
       "model_id": "",
       "version_major": 2,
       "version_minor": 0
      },
      "text/plain": [
       "Sentences Progress:   0%|          | 0/5 [00:00<?, ?it/s]"
      ]
     },
     "metadata": {},
     "output_type": "display_data"
    },
    {
     "name": "stdout",
     "output_type": "stream",
     "text": [
      "Span [4,5]: \"BOBBIN CONSOLE\"   [− Labels: PRODUCT (0.9996)]\n",
      "Span [23,24,25]: \"the Bobbin Console\"   [− Labels: PRODUCT (1.0)]\n"
     ]
    },
    {
     "data": {
      "application/vnd.jupyter.widget-view+json": {
       "model_id": "",
       "version_major": 2,
       "version_minor": 0
      },
      "text/plain": [
       "Sentences Progress:   0%|          | 0/13 [00:00<?, ?it/s]"
      ]
     },
     "metadata": {},
     "output_type": "display_data"
    },
    {
     "data": {
      "application/vnd.jupyter.widget-view+json": {
       "model_id": "",
       "version_major": 2,
       "version_minor": 0
      },
      "text/plain": [
       "Sentences Progress:   0%|          | 0/13 [00:00<?, ?it/s]"
      ]
     },
     "metadata": {},
     "output_type": "display_data"
    },
    {
     "data": {
      "application/vnd.jupyter.widget-view+json": {
       "model_id": "",
       "version_major": 2,
       "version_minor": 0
      },
      "text/plain": [
       "Sentences Progress:   0%|          | 0/3 [00:00<?, ?it/s]"
      ]
     },
     "metadata": {},
     "output_type": "display_data"
    },
    {
     "data": {
      "application/vnd.jupyter.widget-view+json": {
       "model_id": "",
       "version_major": 2,
       "version_minor": 0
      },
      "text/plain": [
       "Sentences Progress:   0%|          | 0/6 [00:00<?, ?it/s]"
      ]
     },
     "metadata": {},
     "output_type": "display_data"
    },
    {
     "data": {
      "application/vnd.jupyter.widget-view+json": {
       "model_id": "",
       "version_major": 2,
       "version_minor": 0
      },
      "text/plain": [
       "Sentences Progress:   0%|          | 0/8 [00:00<?, ?it/s]"
      ]
     },
     "metadata": {},
     "output_type": "display_data"
    },
    {
     "data": {
      "application/vnd.jupyter.widget-view+json": {
       "model_id": "",
       "version_major": 2,
       "version_minor": 0
      },
      "text/plain": [
       "Sentences Progress:   0%|          | 0/28 [00:00<?, ?it/s]"
      ]
     },
     "metadata": {},
     "output_type": "display_data"
    },
    {
     "data": {
      "application/vnd.jupyter.widget-view+json": {
       "model_id": "",
       "version_major": 2,
       "version_minor": 0
      },
      "text/plain": [
       "Sentences Progress:   0%|          | 0/8 [00:00<?, ?it/s]"
      ]
     },
     "metadata": {},
     "output_type": "display_data"
    },
    {
     "data": {
      "application/vnd.jupyter.widget-view+json": {
       "model_id": "",
       "version_major": 2,
       "version_minor": 0
      },
      "text/plain": [
       "Sentences Progress:   0%|          | 0/33 [00:00<?, ?it/s]"
      ]
     },
     "metadata": {},
     "output_type": "display_data"
    },
    {
     "name": "stdout",
     "output_type": "stream",
     "text": [
      "Span [13]: \"Lazybones\"   [− Labels: PRODUCT (0.8529)]\n",
      "Span [3]: \"Lazybones\"   [− Labels: PRODUCT (0.8158)]\n",
      "Span [3,4]: \"Pony Rider\"   [− Labels: PRODUCT (0.7974)]\n"
     ]
    },
    {
     "data": {
      "application/vnd.jupyter.widget-view+json": {
       "model_id": "",
       "version_major": 2,
       "version_minor": 0
      },
      "text/plain": [
       "Sentences Progress:   0%|          | 0/9 [00:00<?, ?it/s]"
      ]
     },
     "metadata": {},
     "output_type": "display_data"
    },
    {
     "name": "stdout",
     "output_type": "stream",
     "text": [
      "Span [14,15,16]: \"Chest of Drawers\"   [− Labels: PRODUCT (0.955)]\n",
      "Span [1,2,3]: \"Chest of Drawers\"   [− Labels: PRODUCT (0.9927)]\n",
      "Span [1,2,3]: \"Chest of Drawers\"   [− Labels: PRODUCT (0.9811)]\n",
      "Span [1,2,3]: \"Chest of Drawers\"   [− Labels: PRODUCT (0.9968)]\n"
     ]
    },
    {
     "data": {
      "application/vnd.jupyter.widget-view+json": {
       "model_id": "",
       "version_major": 2,
       "version_minor": 0
      },
      "text/plain": [
       "Sentences Progress:   0%|          | 0/9 [00:00<?, ?it/s]"
      ]
     },
     "metadata": {},
     "output_type": "display_data"
    },
    {
     "data": {
      "application/vnd.jupyter.widget-view+json": {
       "model_id": "",
       "version_major": 2,
       "version_minor": 0
      },
      "text/plain": [
       "Sentences Progress:   0%|          | 0/11 [00:00<?, ?it/s]"
      ]
     },
     "metadata": {},
     "output_type": "display_data"
    },
    {
     "name": "stdout",
     "output_type": "stream",
     "text": [
      "Span [25,26]: \"2.5 Seater\"   [− Labels: PRODUCT (0.9928)]\n",
      "Span [27,28,29]: \"Colorado Power Recline\"   [− Labels: PRODUCT (0.9995)]\n",
      "Span [25,26]: \"2.5 Seater\"   [− Labels: PRODUCT (0.9981)]\n",
      "Span [27,28,29]: \"Colorado Power Recline\"   [− Labels: PRODUCT (0.9997)]\n",
      "Span [14,15]: \"2.5 Seater\"   [− Labels: PRODUCT (0.99)]\n",
      "Span [16,17,18]: \"Colorado Power Recliner\"   [− Labels: PRODUCT (0.9999)]\n",
      "Span [19,20]: \"3 Seater\"   [− Labels: PRODUCT (0.9898)]\n",
      "Span [21,22,23,24]: \"Colorado Power Recliner 307G\"   [− Labels: PRODUCT (0.9997)]\n",
      "Span [14,15]: \"2.5 Seater\"   [− Labels: PRODUCT (0.9917)]\n",
      "Span [16,17,18]: \"Colorado Power Recliner\"   [− Labels: PRODUCT (0.9999)]\n",
      "Span [19,20]: \"3 Seater\"   [− Labels: PRODUCT (0.9996)]\n",
      "Span [21,22,23,24]: \"Colorado Power Recliner 307G\"   [− Labels: PRODUCT (0.9995)]\n",
      "Span [14,15]: \"2.5 Seater\"   [− Labels: PRODUCT (0.9936)]\n",
      "Span [16,17,18]: \"Colorado Power Recliner\"   [− Labels: PRODUCT (0.9672)]\n",
      "Span [19,20,21,22,23,24]: \"3 Seater Colorado Power Recliner 307G\"   [− Labels: PRODUCT (0.9529)]\n",
      "Span [11,12]: \"2.5 Seater\"   [− Labels: PRODUCT (0.9905)]\n",
      "Span [13,14,15]: \"Colorado Power Recliner\"   [− Labels: PRODUCT (0.9999)]\n",
      "Span [16,17]: \"3 Seater\"   [− Labels: PRODUCT (0.9996)]\n",
      "Span [18,19,20,21]: \"Colorado Power Recliner 307G\"   [− Labels: PRODUCT (0.9912)]\n",
      "Span [1,2]: \"2.5 Seater\"   [− Labels: PRODUCT (0.9868)]\n",
      "Span [3,4,5]: \"Colorado Power Recliner\"   [− Labels: PRODUCT (0.9986)]\n",
      "Span [1,2,3,4,5]: \"2.5 Seater Colorado Power Recliner\"   [− Labels: PRODUCT (0.9482)]\n",
      "Span [1,2]: \"2.5 Seater\"   [− Labels: PRODUCT (0.9472)]\n",
      "Span [3,4,5]: \"Colorado Power Recliner\"   [− Labels: PRODUCT (0.8561)]\n",
      "Span [1,2]: \"2.5 Seater\"   [− Labels: PRODUCT (0.9538)]\n",
      "Span [3,4,5]: \"Colorado Power Recliner\"   [− Labels: PRODUCT (0.899)]\n",
      "Span [1,2,3,4,5]: \"2.5 Seater Colorado Power Recliner\"   [− Labels: PRODUCT (0.8909)]\n",
      "Span [1,2,3,4,5]: \"3 Seater Colorado Power Recliner\"   [− Labels: PRODUCT (0.9455)]\n",
      "Span [1,2]: \"3 Seater\"   [− Labels: PRODUCT (0.9641)]\n",
      "Span [3,4,5]: \"Colorado Power Recliner\"   [− Labels: PRODUCT (0.9103)]\n",
      "Span [1,2,3,4,5]: \"3 Seater Colorado Power Recliner\"   [− Labels: PRODUCT (0.9504)]\n",
      "Span [1,2]: \"3 Seater\"   [− Labels: PRODUCT (0.9644)]\n",
      "Span [3,4,5]: \"Colorado Power Recliner\"   [− Labels: PRODUCT (0.8634)]\n",
      "Span [1,2]: \"3 Seater\"   [− Labels: PRODUCT (0.9931)]\n",
      "Span [3,4,5]: \"Colorado Power Recliner\"   [− Labels: PRODUCT (0.9259)]\n"
     ]
    },
    {
     "data": {
      "application/vnd.jupyter.widget-view+json": {
       "model_id": "",
       "version_major": 2,
       "version_minor": 0
      },
      "text/plain": [
       "Sentences Progress:   0%|          | 0/13 [00:00<?, ?it/s]"
      ]
     },
     "metadata": {},
     "output_type": "display_data"
    },
    {
     "data": {
      "application/vnd.jupyter.widget-view+json": {
       "model_id": "",
       "version_major": 2,
       "version_minor": 0
      },
      "text/plain": [
       "Sentences Progress:   0%|          | 0/13 [00:00<?, ?it/s]"
      ]
     },
     "metadata": {},
     "output_type": "display_data"
    },
    {
     "name": "stdout",
     "output_type": "stream",
     "text": [
      "Span [38,39,40]: \"Yellow Leaf Hammocks\"   [− Labels: PRODUCT (0.9866)]\n",
      "Span [38,39,40]: \"Yellow Leaf Hammocks\"   [− Labels: PRODUCT (0.994)]\n",
      "Span [1,2]: \"Hammock Throne\"   [− Labels: PRODUCT (0.8208)]\n",
      "Span [1,2]: \"Hammock Throne\"   [− Labels: PRODUCT (0.9604)]\n",
      "Span [1,2]: \"Hammock Throne\"   [− Labels: PRODUCT (0.9981)]\n",
      "Span [1,2]: \"Hammock Throne\"   [− Labels: PRODUCT (0.9976)]\n",
      "Span [1,2]: \"Hammock Throne\"   [− Labels: PRODUCT (0.998)]\n",
      "Span [1,2]: \"Hammock Throne\"   [− Labels: PRODUCT (0.997)]\n",
      "Span [1,2]: \"Hammock Throne\"   [− Labels: PRODUCT (0.9982)]\n",
      "Span [1,2]: \"Hammock Throne\"   [− Labels: PRODUCT (0.7938)]\n",
      "Span [1,2]: \"Hammock Throne\"   [− Labels: PRODUCT (0.9999)]\n",
      "Span [21,22,23,24]: \"The Hammock Throne ™\"   [− Labels: PRODUCT (0.991)]\n",
      "Span [21,22,23,24]: \"The Hammock Throne ™\"   [− Labels: PRODUCT (0.9811)]\n",
      "Span [21,22,23,24]: \"The Hammock Throne ™\"   [− Labels: PRODUCT (0.9984)]\n",
      "Span [19,20,21,22]: \"The Hammock Throne ™\"   [− Labels: PRODUCT (0.9906)]\n",
      "Span [1,2]: \"Classic Double\"   [− Labels: PRODUCT (0.7915)]\n",
      "Span [1,2,3]: \"Hammock Stand Bundle\"   [− Labels: PRODUCT (0.9499)]\n",
      "Span [1,2,3,4]: \"The Hammock Throne ™\"   [− Labels: PRODUCT (0.9992)]\n",
      "Span [9,10,11,12,13]: \"Yellow Leaf Hammocks Gift Card\"   [− Labels: PRODUCT (0.8546)]\n",
      "Span [11,12,13]: \"Classic Double Hammock\"   [− Labels: PRODUCT (0.9637)]\n",
      "Span [48,49,50]: \"Classic Double Hammock\"   [− Labels: PRODUCT (0.8137)]\n",
      "Span [66]: \"Hanging\"   [− Labels: PRODUCT (0.882)]\n"
     ]
    },
    {
     "data": {
      "application/vnd.jupyter.widget-view+json": {
       "model_id": "",
       "version_major": 2,
       "version_minor": 0
      },
      "text/plain": [
       "Sentences Progress:   0%|          | 0/14 [00:00<?, ?it/s]"
      ]
     },
     "metadata": {},
     "output_type": "display_data"
    },
    {
     "data": {
      "application/vnd.jupyter.widget-view+json": {
       "model_id": "",
       "version_major": 2,
       "version_minor": 0
      },
      "text/plain": [
       "Sentences Progress:   0%|          | 0/5 [00:00<?, ?it/s]"
      ]
     },
     "metadata": {},
     "output_type": "display_data"
    },
    {
     "data": {
      "application/vnd.jupyter.widget-view+json": {
       "model_id": "",
       "version_major": 2,
       "version_minor": 0
      },
      "text/plain": [
       "Sentences Progress:   0%|          | 0/1 [00:00<?, ?it/s]"
      ]
     },
     "metadata": {},
     "output_type": "display_data"
    },
    {
     "data": {
      "application/vnd.jupyter.widget-view+json": {
       "model_id": "",
       "version_major": 2,
       "version_minor": 0
      },
      "text/plain": [
       "Sentences Progress:   0%|          | 0/32 [00:00<?, ?it/s]"
      ]
     },
     "metadata": {},
     "output_type": "display_data"
    },
    {
     "name": "stdout",
     "output_type": "stream",
     "text": [
      "Span [2,3]: \"Scotchgard ™\"   [− Labels: PRODUCT (0.7965)]\n",
      "Span [2,3]: \"Scotchgard ™\"   [− Labels: PRODUCT (0.8043)]\n"
     ]
    },
    {
     "data": {
      "application/vnd.jupyter.widget-view+json": {
       "model_id": "",
       "version_major": 2,
       "version_minor": 0
      },
      "text/plain": [
       "Sentences Progress:   0%|          | 0/6 [00:00<?, ?it/s]"
      ]
     },
     "metadata": {},
     "output_type": "display_data"
    },
    {
     "name": "stdout",
     "output_type": "stream",
     "text": [
      "Span [2]: \"Wooster\"   [− Labels: PRODUCT (1.0)]\n",
      "Span [6,7,8]: \"the Wooster Crib\"   [− Labels: PRODUCT (0.9965)]\n",
      "Span [2]: \"Wooster\"   [− Labels: PRODUCT (1.0)]\n"
     ]
    },
    {
     "data": {
      "application/vnd.jupyter.widget-view+json": {
       "model_id": "",
       "version_major": 2,
       "version_minor": 0
      },
      "text/plain": [
       "Sentences Progress:   0%|          | 0/13 [00:00<?, ?it/s]"
      ]
     },
     "metadata": {},
     "output_type": "display_data"
    },
    {
     "data": {
      "application/vnd.jupyter.widget-view+json": {
       "model_id": "",
       "version_major": 2,
       "version_minor": 0
      },
      "text/plain": [
       "Sentences Progress:   0%|          | 0/11 [00:00<?, ?it/s]"
      ]
     },
     "metadata": {},
     "output_type": "display_data"
    },
    {
     "data": {
      "application/vnd.jupyter.widget-view+json": {
       "model_id": "",
       "version_major": 2,
       "version_minor": 0
      },
      "text/plain": [
       "Sentences Progress:   0%|          | 0/23 [00:00<?, ?it/s]"
      ]
     },
     "metadata": {},
     "output_type": "display_data"
    },
    {
     "name": "stdout",
     "output_type": "stream",
     "text": [
      "Span [2]: \"Nalgene\"   [− Labels: PRODUCT (0.9999)]\n"
     ]
    },
    {
     "data": {
      "application/vnd.jupyter.widget-view+json": {
       "model_id": "",
       "version_major": 2,
       "version_minor": 0
      },
      "text/plain": [
       "Sentences Progress:   0%|          | 0/5 [00:00<?, ?it/s]"
      ]
     },
     "metadata": {},
     "output_type": "display_data"
    },
    {
     "data": {
      "application/vnd.jupyter.widget-view+json": {
       "model_id": "",
       "version_major": 2,
       "version_minor": 0
      },
      "text/plain": [
       "Sentences Progress:   0%|          | 0/14 [00:00<?, ?it/s]"
      ]
     },
     "metadata": {},
     "output_type": "display_data"
    },
    {
     "name": "stdout",
     "output_type": "stream",
     "text": [
      "Span [65]: \"Magniflex\"   [− Labels: PRODUCT (0.9055)]\n",
      "Span [7,8]: \"Magniflex ®\"   [− Labels: PRODUCT (0.8753)]\n",
      "Span [1,2]: \"Magniflex ®\"   [− Labels: PRODUCT (0.8893)]\n",
      "Span [1,2]: \"Magniflex ®\"   [− Labels: PRODUCT (0.8923)]\n",
      "Span [65]: \"Magniflex\"   [− Labels: PRODUCT (0.7713)]\n",
      "Span [6]: \"Magniflex\"   [− Labels: PRODUCT (0.98)]\n",
      "Span [4]: \"Magniflex\"   [− Labels: PRODUCT (0.9177)]\n",
      "Span [1]: \"Magniflex\"   [− Labels: PRODUCT (0.9429)]\n",
      "Span [1]: \"Magniflex\"   [− Labels: PRODUCT (0.9958)]\n"
     ]
    },
    {
     "data": {
      "application/vnd.jupyter.widget-view+json": {
       "model_id": "",
       "version_major": 2,
       "version_minor": 0
      },
      "text/plain": [
       "Sentences Progress:   0%|          | 0/23 [00:00<?, ?it/s]"
      ]
     },
     "metadata": {},
     "output_type": "display_data"
    },
    {
     "data": {
      "application/vnd.jupyter.widget-view+json": {
       "model_id": "",
       "version_major": 2,
       "version_minor": 0
      },
      "text/plain": [
       "Sentences Progress:   0%|          | 0/1 [00:00<?, ?it/s]"
      ]
     },
     "metadata": {},
     "output_type": "display_data"
    },
    {
     "data": {
      "application/vnd.jupyter.widget-view+json": {
       "model_id": "",
       "version_major": 2,
       "version_minor": 0
      },
      "text/plain": [
       "Sentences Progress:   0%|          | 0/31 [00:00<?, ?it/s]"
      ]
     },
     "metadata": {},
     "output_type": "display_data"
    },
    {
     "name": "stdout",
     "output_type": "stream",
     "text": [
      "Span [1]: \"LEVITATE\"   [− Labels: PRODUCT (0.7804)]\n"
     ]
    },
    {
     "data": {
      "application/vnd.jupyter.widget-view+json": {
       "model_id": "",
       "version_major": 2,
       "version_minor": 0
      },
      "text/plain": [
       "Sentences Progress:   0%|          | 0/1 [00:00<?, ?it/s]"
      ]
     },
     "metadata": {},
     "output_type": "display_data"
    },
    {
     "data": {
      "application/vnd.jupyter.widget-view+json": {
       "model_id": "",
       "version_major": 2,
       "version_minor": 0
      },
      "text/plain": [
       "Sentences Progress:   0%|          | 0/17 [00:00<?, ?it/s]"
      ]
     },
     "metadata": {},
     "output_type": "display_data"
    },
    {
     "data": {
      "application/vnd.jupyter.widget-view+json": {
       "model_id": "",
       "version_major": 2,
       "version_minor": 0
      },
      "text/plain": [
       "Sentences Progress:   0%|          | 0/14 [00:00<?, ?it/s]"
      ]
     },
     "metadata": {},
     "output_type": "display_data"
    },
    {
     "name": "stdout",
     "output_type": "stream",
     "text": [
      "Span [4,5]: \"Chairs &\"   [− Labels: PRODUCT (0.8302)]\n"
     ]
    },
    {
     "data": {
      "application/vnd.jupyter.widget-view+json": {
       "model_id": "",
       "version_major": 2,
       "version_minor": 0
      },
      "text/plain": [
       "Sentences Progress:   0%|          | 0/7 [00:00<?, ?it/s]"
      ]
     },
     "metadata": {},
     "output_type": "display_data"
    },
    {
     "data": {
      "application/vnd.jupyter.widget-view+json": {
       "model_id": "",
       "version_major": 2,
       "version_minor": 0
      },
      "text/plain": [
       "Sentences Progress:   0%|          | 0/6 [00:00<?, ?it/s]"
      ]
     },
     "metadata": {},
     "output_type": "display_data"
    },
    {
     "data": {
      "application/vnd.jupyter.widget-view+json": {
       "model_id": "",
       "version_major": 2,
       "version_minor": 0
      },
      "text/plain": [
       "Sentences Progress:   0%|          | 0/21 [00:00<?, ?it/s]"
      ]
     },
     "metadata": {},
     "output_type": "display_data"
    },
    {
     "name": "stdout",
     "output_type": "stream",
     "text": [
      "Span [16]: \"Nirvana\"   [− Labels: PRODUCT (0.9999)]\n",
      "Span [6]: \"Nirvana\"   [− Labels: PRODUCT (0.9791)]\n",
      "Span [16]: \"Nirvana\"   [− Labels: PRODUCT (0.9998)]\n",
      "Span [6]: \"Scrambler\"   [− Labels: PRODUCT (0.8527)]\n",
      "Span [6,7]: \"Realm Sectional\"   [− Labels: PRODUCT (0.8391)]\n",
      "Span [6,7,8]: \"Shabby Curve Sofa\"   [− Labels: PRODUCT (0.8218)]\n"
     ]
    },
    {
     "data": {
      "application/vnd.jupyter.widget-view+json": {
       "model_id": "",
       "version_major": 2,
       "version_minor": 0
      },
      "text/plain": [
       "Sentences Progress:   0%|          | 0/17 [00:00<?, ?it/s]"
      ]
     },
     "metadata": {},
     "output_type": "display_data"
    },
    {
     "data": {
      "application/vnd.jupyter.widget-view+json": {
       "model_id": "",
       "version_major": 2,
       "version_minor": 0
      },
      "text/plain": [
       "Sentences Progress:   0%|          | 0/9 [00:00<?, ?it/s]"
      ]
     },
     "metadata": {},
     "output_type": "display_data"
    },
    {
     "data": {
      "application/vnd.jupyter.widget-view+json": {
       "model_id": "",
       "version_major": 2,
       "version_minor": 0
      },
      "text/plain": [
       "Sentences Progress:   0%|          | 0/10 [00:00<?, ?it/s]"
      ]
     },
     "metadata": {},
     "output_type": "display_data"
    },
    {
     "data": {
      "application/vnd.jupyter.widget-view+json": {
       "model_id": "",
       "version_major": 2,
       "version_minor": 0
      },
      "text/plain": [
       "Sentences Progress:   0%|          | 0/1 [00:00<?, ?it/s]"
      ]
     },
     "metadata": {},
     "output_type": "display_data"
    },
    {
     "data": {
      "application/vnd.jupyter.widget-view+json": {
       "model_id": "",
       "version_major": 2,
       "version_minor": 0
      },
      "text/plain": [
       "Sentences Progress: 0it [00:00, ?it/s]"
      ]
     },
     "metadata": {},
     "output_type": "display_data"
    },
    {
     "data": {
      "application/vnd.jupyter.widget-view+json": {
       "model_id": "",
       "version_major": 2,
       "version_minor": 0
      },
      "text/plain": [
       "Sentences Progress:   0%|          | 0/22 [00:00<?, ?it/s]"
      ]
     },
     "metadata": {},
     "output_type": "display_data"
    },
    {
     "data": {
      "application/vnd.jupyter.widget-view+json": {
       "model_id": "",
       "version_major": 2,
       "version_minor": 0
      },
      "text/plain": [
       "Sentences Progress:   0%|          | 0/1 [00:00<?, ?it/s]"
      ]
     },
     "metadata": {},
     "output_type": "display_data"
    },
    {
     "data": {
      "application/vnd.jupyter.widget-view+json": {
       "model_id": "",
       "version_major": 2,
       "version_minor": 0
      },
      "text/plain": [
       "Sentences Progress:   0%|          | 0/1 [00:00<?, ?it/s]"
      ]
     },
     "metadata": {},
     "output_type": "display_data"
    },
    {
     "data": {
      "application/vnd.jupyter.widget-view+json": {
       "model_id": "",
       "version_major": 2,
       "version_minor": 0
      },
      "text/plain": [
       "Sentences Progress:   0%|          | 0/16 [00:00<?, ?it/s]"
      ]
     },
     "metadata": {},
     "output_type": "display_data"
    },
    {
     "data": {
      "application/vnd.jupyter.widget-view+json": {
       "model_id": "",
       "version_major": 2,
       "version_minor": 0
      },
      "text/plain": [
       "Sentences Progress:   0%|          | 0/9 [00:00<?, ?it/s]"
      ]
     },
     "metadata": {},
     "output_type": "display_data"
    },
    {
     "data": {
      "application/vnd.jupyter.widget-view+json": {
       "model_id": "",
       "version_major": 2,
       "version_minor": 0
      },
      "text/plain": [
       "Sentences Progress:   0%|          | 0/7 [00:00<?, ?it/s]"
      ]
     },
     "metadata": {},
     "output_type": "display_data"
    },
    {
     "data": {
      "application/vnd.jupyter.widget-view+json": {
       "model_id": "",
       "version_major": 2,
       "version_minor": 0
      },
      "text/plain": [
       "Sentences Progress:   0%|          | 0/3 [00:00<?, ?it/s]"
      ]
     },
     "metadata": {},
     "output_type": "display_data"
    },
    {
     "data": {
      "application/vnd.jupyter.widget-view+json": {
       "model_id": "",
       "version_major": 2,
       "version_minor": 0
      },
      "text/plain": [
       "Sentences Progress:   0%|          | 0/26 [00:00<?, ?it/s]"
      ]
     },
     "metadata": {},
     "output_type": "display_data"
    },
    {
     "name": "stdout",
     "output_type": "stream",
     "text": [
      "Span [23,24]: \"Ping Pong\"   [− Labels: PRODUCT (0.7923)]\n",
      "Span [28]: \"Sarpaneva\"   [− Labels: PRODUCT (0.9397)]\n",
      "Span [27]: \"Sarpaneva\"   [− Labels: PRODUCT (0.909)]\n",
      "Span [30]: \"Casserole\"   [− Labels: PRODUCT (0.7755)]\n",
      "Span [11]: \"Sarpaneva\"   [− Labels: PRODUCT (0.9448)]\n",
      "Span [11]: \"Sarpaneva\"   [− Labels: PRODUCT (0.9085)]\n",
      "Span [1]: \"Sarpaneva\"   [− Labels: PRODUCT (0.9651)]\n",
      "Span [1]: \"Sarpaneva\"   [− Labels: PRODUCT (0.7524)]\n",
      "Span [5]: \"Sarpaneva\"   [− Labels: PRODUCT (0.7751)]\n"
     ]
    },
    {
     "data": {
      "application/vnd.jupyter.widget-view+json": {
       "model_id": "",
       "version_major": 2,
       "version_minor": 0
      },
      "text/plain": [
       "Sentences Progress:   0%|          | 0/19 [00:00<?, ?it/s]"
      ]
     },
     "metadata": {},
     "output_type": "display_data"
    },
    {
     "data": {
      "application/vnd.jupyter.widget-view+json": {
       "model_id": "",
       "version_major": 2,
       "version_minor": 0
      },
      "text/plain": [
       "Sentences Progress:   0%|          | 0/10 [00:00<?, ?it/s]"
      ]
     },
     "metadata": {},
     "output_type": "display_data"
    },
    {
     "name": "stdout",
     "output_type": "stream",
     "text": [
      "Span [25,26]: \"Teak Cleaner\"   [− Labels: PRODUCT (1.0)]\n",
      "Span [3,4]: \"Teak Sealer\"   [− Labels: PRODUCT (0.9999)]\n",
      "Span [6,7]: \"Teak Sealer\"   [− Labels: PRODUCT (1.0)]\n",
      "Span [18,19]: \"Teak Sealer\"   [− Labels: PRODUCT (1.0)]\n",
      "Span [2]: \"Protector\"   [− Labels: PRODUCT (0.9952)]\n",
      "Span [25,26]: \"Teak Cleaner\"   [− Labels: PRODUCT (1.0)]\n",
      "Span [3,4]: \"Teak Sealer\"   [− Labels: PRODUCT (1.0)]\n",
      "Span [6,7]: \"Teak Sealer\"   [− Labels: PRODUCT (1.0)]\n",
      "Span [18,19]: \"Teak Sealer\"   [− Labels: PRODUCT (1.0)]\n",
      "Span [2,3]: \"Teak Protector\"   [− Labels: PRODUCT (1.0)]\n",
      "Span [2]: \"Protector\"   [− Labels: PRODUCT (0.8998)]\n",
      "Span [25,26]: \"Teak Cleaner\"   [− Labels: PRODUCT (1.0)]\n",
      "Span [36,37,38]: \"a Teak Sealer\"   [− Labels: PRODUCT (0.9996)]\n",
      "Span [6,7]: \"Teak Sealer\"   [− Labels: PRODUCT (1.0)]\n",
      "Span [18,19]: \"Teak Sealer\"   [− Labels: PRODUCT (1.0)]\n",
      "Span [58,59]: \"Teak Protector\"   [− Labels: PRODUCT (0.9997)]\n",
      "Span [2,3]: \"Teak Protector\"   [− Labels: PRODUCT (1.0)]\n",
      "Span [1,2]: \"Teak Protector\"   [− Labels: PRODUCT (1.0)]\n",
      "Span [25,26]: \"Teak Cleaner\"   [− Labels: PRODUCT (1.0)]\n",
      "Span [36,37,38]: \"a Teak Sealer\"   [− Labels: PRODUCT (0.9999)]\n",
      "Span [6,7]: \"Teak Sealer\"   [− Labels: PRODUCT (1.0)]\n",
      "Span [18,19]: \"Teak Sealer\"   [− Labels: PRODUCT (1.0)]\n",
      "Span [2,3]: \"Teak Protector\"   [− Labels: PRODUCT (1.0)]\n",
      "Span [1,2]: \"Teak Protector\"   [− Labels: PRODUCT (1.0)]\n",
      "Span [25,26]: \"Teak Cleaner\"   [− Labels: PRODUCT (1.0)]\n",
      "Span [36,37,38]: \"a Teak Sealer\"   [− Labels: PRODUCT (0.9998)]\n",
      "Span [3,4]: \"Teak Sealer\"   [− Labels: PRODUCT (0.9999)]\n",
      "Span [6,7]: \"Teak Sealer\"   [− Labels: PRODUCT (1.0)]\n",
      "Span [18,19]: \"Teak Sealer\"   [− Labels: PRODUCT (1.0)]\n",
      "Span [58,59]: \"Teak Protector\"   [− Labels: PRODUCT (0.9997)]\n",
      "Span [2,3]: \"Teak Protector\"   [− Labels: PRODUCT (1.0)]\n",
      "Span [1,2]: \"Teak Protector\"   [− Labels: PRODUCT (0.9978)]\n",
      "Span [25,26]: \"Teak Cleaner\"   [− Labels: PRODUCT (1.0)]\n",
      "Span [36,37,38]: \"a Teak Sealer\"   [− Labels: PRODUCT (0.9996)]\n",
      "Span [3,4]: \"Teak Sealer\"   [− Labels: PRODUCT (0.9999)]\n",
      "Span [6,7]: \"Teak Sealer\"   [− Labels: PRODUCT (1.0)]\n",
      "Span [18,19]: \"Teak Sealer\"   [− Labels: PRODUCT (1.0)]\n",
      "Span [58,59]: \"Teak Protector\"   [− Labels: PRODUCT (0.9997)]\n",
      "Span [2,3]: \"Teak Protector\"   [− Labels: PRODUCT (1.0)]\n",
      "Span [1,2]: \"Teak Protector\"   [− Labels: PRODUCT (0.9994)]\n"
     ]
    },
    {
     "data": {
      "application/vnd.jupyter.widget-view+json": {
       "model_id": "",
       "version_major": 2,
       "version_minor": 0
      },
      "text/plain": [
       "Sentences Progress:   0%|          | 0/82 [00:00<?, ?it/s]"
      ]
     },
     "metadata": {},
     "output_type": "display_data"
    },
    {
     "name": "stdout",
     "output_type": "stream",
     "text": [
      "Span [1,2]: \"Protection Plus\"   [− Labels: PRODUCT (0.8015)]\n",
      "Span [2,3,4]: \"Qualifying Care Kit\"   [− Labels: PRODUCT (0.9903)]\n"
     ]
    },
    {
     "data": {
      "application/vnd.jupyter.widget-view+json": {
       "model_id": "",
       "version_major": 2,
       "version_minor": 0
      },
      "text/plain": [
       "Sentences Progress:   0%|          | 0/7 [00:00<?, ?it/s]"
      ]
     },
     "metadata": {},
     "output_type": "display_data"
    },
    {
     "data": {
      "application/vnd.jupyter.widget-view+json": {
       "model_id": "",
       "version_major": 2,
       "version_minor": 0
      },
      "text/plain": [
       "Sentences Progress:   0%|          | 0/22 [00:00<?, ?it/s]"
      ]
     },
     "metadata": {},
     "output_type": "display_data"
    },
    {
     "name": "stdout",
     "output_type": "stream",
     "text": [
      "Span [13,14]: \"Pearl Grey\"   [− Labels: PRODUCT (0.9988)]\n",
      "Span [21,22]: \"Parterre Brown\"   [− Labels: PRODUCT (0.9987)]\n",
      "Span [24,25]: \"Garden Green\"   [− Labels: PRODUCT (0.9937)]\n"
     ]
    },
    {
     "data": {
      "application/vnd.jupyter.widget-view+json": {
       "model_id": "",
       "version_major": 2,
       "version_minor": 0
      },
      "text/plain": [
       "Sentences Progress:   0%|          | 0/8 [00:00<?, ?it/s]"
      ]
     },
     "metadata": {},
     "output_type": "display_data"
    },
    {
     "data": {
      "application/vnd.jupyter.widget-view+json": {
       "model_id": "",
       "version_major": 2,
       "version_minor": 0
      },
      "text/plain": [
       "Sentences Progress:   0%|          | 0/3 [00:00<?, ?it/s]"
      ]
     },
     "metadata": {},
     "output_type": "display_data"
    },
    {
     "data": {
      "application/vnd.jupyter.widget-view+json": {
       "model_id": "",
       "version_major": 2,
       "version_minor": 0
      },
      "text/plain": [
       "Sentences Progress:   0%|          | 0/10 [00:00<?, ?it/s]"
      ]
     },
     "metadata": {},
     "output_type": "display_data"
    },
    {
     "data": {
      "application/vnd.jupyter.widget-view+json": {
       "model_id": "",
       "version_major": 2,
       "version_minor": 0
      },
      "text/plain": [
       "Sentences Progress:   0%|          | 0/12 [00:00<?, ?it/s]"
      ]
     },
     "metadata": {},
     "output_type": "display_data"
    },
    {
     "data": {
      "application/vnd.jupyter.widget-view+json": {
       "model_id": "",
       "version_major": 2,
       "version_minor": 0
      },
      "text/plain": [
       "Sentences Progress:   0%|          | 0/4 [00:00<?, ?it/s]"
      ]
     },
     "metadata": {},
     "output_type": "display_data"
    },
    {
     "data": {
      "application/vnd.jupyter.widget-view+json": {
       "model_id": "",
       "version_major": 2,
       "version_minor": 0
      },
      "text/plain": [
       "Sentences Progress:   0%|          | 0/43 [00:00<?, ?it/s]"
      ]
     },
     "metadata": {},
     "output_type": "display_data"
    },
    {
     "name": "stdout",
     "output_type": "stream",
     "text": [
      "Span [87,88,89]: \"the Tip Lamp\"   [− Labels: PRODUCT (1.0)]\n",
      "Span [14,15,16]: \"the Tip Lamp\"   [− Labels: PRODUCT (1.0)]\n",
      "Span [87,88,89]: \"the Tip Lamp\"   [− Labels: PRODUCT (1.0)]\n",
      "Span [14,15,16]: \"the Tip Lamp\"   [− Labels: PRODUCT (1.0)]\n",
      "Span [87,88,89]: \"the Tip Lamp\"   [− Labels: PRODUCT (1.0)]\n",
      "Span [14,15,16]: \"the Tip Lamp\"   [− Labels: PRODUCT (0.9999)]\n"
     ]
    },
    {
     "data": {
      "application/vnd.jupyter.widget-view+json": {
       "model_id": "",
       "version_major": 2,
       "version_minor": 0
      },
      "text/plain": [
       "Sentences Progress:   0%|          | 0/15 [00:00<?, ?it/s]"
      ]
     },
     "metadata": {},
     "output_type": "display_data"
    },
    {
     "name": "stdout",
     "output_type": "stream",
     "text": [
      "Span [6,7,8]: \"Big Cay Desk\"   [− Labels: PRODUCT (0.9999)]\n",
      "Span [17,18,19]: \"Little Cay Desk\"   [− Labels: PRODUCT (1.0)]\n",
      "Span [6,7,8]: \"Big Cay Desk\"   [− Labels: PRODUCT (0.9999)]\n",
      "Span [17,18,19]: \"Little Cay Desk\"   [− Labels: PRODUCT (0.9999)]\n",
      "Span [3,4,5]: \"Big Cay Desk\"   [− Labels: PRODUCT (0.9528)]\n",
      "Span [7,8]: \"Maine Cottage\"   [− Labels: PRODUCT (0.7778)]\n",
      "Span [9,10,11]: \"Big Cay Desk\"   [− Labels: PRODUCT (0.9678)]\n",
      "Span [6,7,8]: \"Big Cay Desk\"   [− Labels: PRODUCT (0.999)]\n",
      "Span [17,18,19]: \"Little Cay Desk\"   [− Labels: PRODUCT (0.9999)]\n",
      "Span [6,7,8]: \"Big Cay Desk\"   [− Labels: PRODUCT (1.0)]\n",
      "Span [17,18,19]: \"Little Cay Desk\"   [− Labels: PRODUCT (1.0)]\n",
      "Span [3,4,5]: \"Big Cay Desk\"   [− Labels: PRODUCT (0.9104)]\n",
      "Span [9,10,11]: \"Big Cay Desk\"   [− Labels: PRODUCT (0.9558)]\n",
      "Span [6,7,8]: \"Big Cay Desk\"   [− Labels: PRODUCT (0.9999)]\n",
      "Span [17,18,19]: \"Little Cay Desk\"   [− Labels: PRODUCT (1.0)]\n",
      "Span [6,7,8]: \"Big Cay Desk\"   [− Labels: PRODUCT (0.9999)]\n",
      "Span [17,18,19]: \"Little Cay Desk\"   [− Labels: PRODUCT (0.9999)]\n",
      "Span [6,7,8]: \"Big Cay Desk\"   [− Labels: PRODUCT (0.9999)]\n",
      "Span [17,18,19]: \"Little Cay Desk\"   [− Labels: PRODUCT (1.0)]\n",
      "Span [6,7,8]: \"Big Cay Desk\"   [− Labels: PRODUCT (0.9999)]\n",
      "Span [17,18,19]: \"Little Cay Desk\"   [− Labels: PRODUCT (0.9999)]\n",
      "Span [6,7,8]: \"Big Cay Desk\"   [− Labels: PRODUCT (0.9999)]\n"
     ]
    },
    {
     "data": {
      "application/vnd.jupyter.widget-view+json": {
       "model_id": "",
       "version_major": 2,
       "version_minor": 0
      },
      "text/plain": [
       "Sentences Progress:   0%|          | 0/7 [00:00<?, ?it/s]"
      ]
     },
     "metadata": {},
     "output_type": "display_data"
    },
    {
     "name": "stdout",
     "output_type": "stream",
     "text": [
      "Span [19,20,21,22]: \"Pawleys Island Rope Hammock\"   [− Labels: PRODUCT (1.0)]\n"
     ]
    },
    {
     "data": {
      "application/vnd.jupyter.widget-view+json": {
       "model_id": "",
       "version_major": 2,
       "version_minor": 0
      },
      "text/plain": [
       "Sentences Progress:   0%|          | 0/5 [00:00<?, ?it/s]"
      ]
     },
     "metadata": {},
     "output_type": "display_data"
    },
    {
     "data": {
      "application/vnd.jupyter.widget-view+json": {
       "model_id": "",
       "version_major": 2,
       "version_minor": 0
      },
      "text/plain": [
       "Sentences Progress:   0%|          | 0/1 [00:00<?, ?it/s]"
      ]
     },
     "metadata": {},
     "output_type": "display_data"
    },
    {
     "data": {
      "application/vnd.jupyter.widget-view+json": {
       "model_id": "",
       "version_major": 2,
       "version_minor": 0
      },
      "text/plain": [
       "Sentences Progress:   0%|          | 0/8 [00:00<?, ?it/s]"
      ]
     },
     "metadata": {},
     "output_type": "display_data"
    },
    {
     "data": {
      "application/vnd.jupyter.widget-view+json": {
       "model_id": "",
       "version_major": 2,
       "version_minor": 0
      },
      "text/plain": [
       "Sentences Progress:   0%|          | 0/11 [00:00<?, ?it/s]"
      ]
     },
     "metadata": {},
     "output_type": "display_data"
    },
    {
     "data": {
      "application/vnd.jupyter.widget-view+json": {
       "model_id": "",
       "version_major": 2,
       "version_minor": 0
      },
      "text/plain": [
       "Sentences Progress:   0%|          | 0/5 [00:00<?, ?it/s]"
      ]
     },
     "metadata": {},
     "output_type": "display_data"
    },
    {
     "data": {
      "application/vnd.jupyter.widget-view+json": {
       "model_id": "",
       "version_major": 2,
       "version_minor": 0
      },
      "text/plain": [
       "Sentences Progress:   0%|          | 0/7 [00:00<?, ?it/s]"
      ]
     },
     "metadata": {},
     "output_type": "display_data"
    },
    {
     "name": "stdout",
     "output_type": "stream",
     "text": [
      "Span [43,44]: \"Black Wicker\"   [− Labels: PRODUCT (0.8465)]\n"
     ]
    },
    {
     "data": {
      "application/vnd.jupyter.widget-view+json": {
       "model_id": "",
       "version_major": 2,
       "version_minor": 0
      },
      "text/plain": [
       "Sentences Progress:   0%|          | 0/5 [00:00<?, ?it/s]"
      ]
     },
     "metadata": {},
     "output_type": "display_data"
    },
    {
     "data": {
      "application/vnd.jupyter.widget-view+json": {
       "model_id": "",
       "version_major": 2,
       "version_minor": 0
      },
      "text/plain": [
       "Sentences Progress:   0%|          | 0/19 [00:00<?, ?it/s]"
      ]
     },
     "metadata": {},
     "output_type": "display_data"
    },
    {
     "data": {
      "application/vnd.jupyter.widget-view+json": {
       "model_id": "",
       "version_major": 2,
       "version_minor": 0
      },
      "text/plain": [
       "Sentences Progress:   0%|          | 0/1 [00:00<?, ?it/s]"
      ]
     },
     "metadata": {},
     "output_type": "display_data"
    },
    {
     "data": {
      "application/vnd.jupyter.widget-view+json": {
       "model_id": "",
       "version_major": 2,
       "version_minor": 0
      },
      "text/plain": [
       "Sentences Progress:   0%|          | 0/3 [00:00<?, ?it/s]"
      ]
     },
     "metadata": {},
     "output_type": "display_data"
    },
    {
     "data": {
      "application/vnd.jupyter.widget-view+json": {
       "model_id": "",
       "version_major": 2,
       "version_minor": 0
      },
      "text/plain": [
       "Sentences Progress:   0%|          | 0/1 [00:00<?, ?it/s]"
      ]
     },
     "metadata": {},
     "output_type": "display_data"
    },
    {
     "data": {
      "application/vnd.jupyter.widget-view+json": {
       "model_id": "",
       "version_major": 2,
       "version_minor": 0
      },
      "text/plain": [
       "Sentences Progress:   0%|          | 0/7 [00:00<?, ?it/s]"
      ]
     },
     "metadata": {},
     "output_type": "display_data"
    },
    {
     "data": {
      "application/vnd.jupyter.widget-view+json": {
       "model_id": "",
       "version_major": 2,
       "version_minor": 0
      },
      "text/plain": [
       "Sentences Progress:   0%|          | 0/23 [00:00<?, ?it/s]"
      ]
     },
     "metadata": {},
     "output_type": "display_data"
    },
    {
     "data": {
      "application/vnd.jupyter.widget-view+json": {
       "model_id": "",
       "version_major": 2,
       "version_minor": 0
      },
      "text/plain": [
       "Sentences Progress:   0%|          | 0/5 [00:00<?, ?it/s]"
      ]
     },
     "metadata": {},
     "output_type": "display_data"
    },
    {
     "name": "stdout",
     "output_type": "stream",
     "text": [
      "Span [99,100]: \"Berkeley III\"   [− Labels: PRODUCT (0.8997)]\n",
      "Span [1,2,3,4]: \"Winndom Winndom Berkeley III\"   [− Labels: PRODUCT (0.7673)]\n",
      "Span [99,100]: \"Berkeley III\"   [− Labels: PRODUCT (0.9914)]\n",
      "Span [3,4]: \"Berkeley III\"   [− Labels: PRODUCT (0.977)]\n",
      "Span [99,100]: \"Berkeley III\"   [− Labels: PRODUCT (0.9986)]\n"
     ]
    },
    {
     "data": {
      "application/vnd.jupyter.widget-view+json": {
       "model_id": "",
       "version_major": 2,
       "version_minor": 0
      },
      "text/plain": [
       "Sentences Progress:   0%|          | 0/21 [00:00<?, ?it/s]"
      ]
     },
     "metadata": {},
     "output_type": "display_data"
    },
    {
     "data": {
      "application/vnd.jupyter.widget-view+json": {
       "model_id": "",
       "version_major": 2,
       "version_minor": 0
      },
      "text/plain": [
       "Sentences Progress:   0%|          | 0/81 [00:00<?, ?it/s]"
      ]
     },
     "metadata": {},
     "output_type": "display_data"
    },
    {
     "name": "stdout",
     "output_type": "stream",
     "text": [
      "Span [4,5]: \"Lenox Collection\"   [− Labels: PRODUCT (0.7711)]\n",
      "Span [25,26,27,28,29]: \"Platinum Collection 4 Door Wardrobe\"   [− Labels: PRODUCT (0.8062)]\n",
      "Span [31,32,33]: \"2 Mirror Doors\"   [− Labels: PRODUCT (0.9033)]\n",
      "Span [40,41]: \"Platinum Collection\"   [− Labels: PRODUCT (0.9642)]\n",
      "Span [43,44,45]: \"4 Door Wardrobe\"   [− Labels: PRODUCT (0.8505)]\n",
      "Span [11,12,13]: \"4 Door Wardrobe\"   [− Labels: PRODUCT (0.9843)]\n",
      "Span [21,22]: \"Dama Bianca\"   [− Labels: PRODUCT (0.9928)]\n",
      "Span [24,25,26]: \"4 Door Wardrobe\"   [− Labels: PRODUCT (0.9854)]\n",
      "Span [35,36,37,38,39]: \"The Dama Bianca Modern White\"   [− Labels: PRODUCT (0.9548)]\n",
      "Span [40,41,42]: \"4 Door Wardrobe\"   [− Labels: PRODUCT (0.8608)]\n",
      "Span [10,11]: \"Luxury Collection\"   [− Labels: PRODUCT (0.9343)]\n",
      "Span [12,13,14]: \"4 Door WardrobeDark\"   [− Labels: PRODUCT (0.9525)]\n",
      "Span [16,17,18,19,20,21]: \"The Luxury Collection 4 Door Wardrobe\"   [− Labels: PRODUCT (0.9995)]\n",
      "Span [35,36]: \"Luxury Wardrobe\"   [− Labels: PRODUCT (0.9992)]\n",
      "Span [5,6,7]: \"This Smart Wardrobe\"   [− Labels: PRODUCT (0.9999)]\n",
      "Span [32,33,34]: \"The Flexible Wardrobe\"   [− Labels: PRODUCT (0.9762)]\n",
      "Span [1,2]: \"Grand Wardrobe\"   [− Labels: PRODUCT (1.0)]\n",
      "Span [18,19,20,21,22,23]: \"The Ace Irbis Dark Oak SB-752A\"   [− Labels: PRODUCT (0.825)]\n",
      "Span [1,2,3,4]: \"The Modern Wardrobe Closet\"   [− Labels: PRODUCT (0.9994)]\n",
      "Span [13,14,15,16,17,18]: \"The Ace Nota SB-425 Wardobe Closet\"   [− Labels: PRODUCT (0.8663)]\n",
      "Span [16,17,18,19]: \"The Ace Tais SB-380\"   [− Labels: PRODUCT (0.8706)]\n",
      "Span [14,15,16]: \"The Ace Dziordzia\"   [− Labels: PRODUCT (0.9531)]\n",
      "Span [10,11,12]: \"SB 041 WardrobeItalian\"   [− Labels: PRODUCT (0.8215)]\n",
      "Span [15,16,17,18]: \"The Ace Dziordzia SB-041\"   [− Labels: PRODUCT (0.8204)]\n",
      "Span [10,11,12]: \"SB 074 WardrobeItalian\"   [− Labels: PRODUCT (0.9153)]\n",
      "Span [17,18,19,20]: \"The Ace Dziordzia SB-074\"   [− Labels: PRODUCT (0.8912)]\n",
      "Span [10,11,12]: \"SB 102 WardrobeItalian\"   [− Labels: PRODUCT (0.9407)]\n",
      "Span [15,16,17]: \"The Ace Dziordzia\"   [− Labels: PRODUCT (0.9363)]\n",
      "Span [21]: \"Wardobe\"   [− Labels: PRODUCT (0.9016)]\n",
      "Span [10,11,12]: \"Dark Oak WardrobeMakassar\"   [− Labels: PRODUCT (0.7656)]\n",
      "Span [1,2,3,4]: \"The Modern Wardrobe Closet\"   [− Labels: PRODUCT (0.8931)]\n",
      "Span [3,4,5]: \"DrewThe Lenox Collection\"   [− Labels: PRODUCT (0.7613)]\n",
      "Span [29,30]: \"Astral Armoire\"   [− Labels: PRODUCT (0.9218)]\n",
      "Span [25,26]: \"Platinum Collection\"   [− Labels: PRODUCT (0.9797)]\n",
      "Span [27,28,29]: \"4 Door Wardrobe\"   [− Labels: PRODUCT (0.81)]\n",
      "Span [21,22]: \"Dama Bianca\"   [− Labels: PRODUCT (0.9674)]\n",
      "Span [35,36,37]: \"The Dama Bianca\"   [− Labels: PRODUCT (0.869)]\n",
      "Span [40,41,42]: \"4 Door Wardrobe\"   [− Labels: PRODUCT (0.8591)]\n",
      "Span [10,11,12,13,14]: \"Luxury Collection 4 Door WardrobeDark\"   [− Labels: PRODUCT (0.9805)]\n",
      "Span [16,17,18,19,20,21]: \"The Luxury Collection 4 Door Wardrobe\"   [− Labels: PRODUCT (0.9987)]\n",
      "Span [35,36]: \"Luxury Wardrobe\"   [− Labels: PRODUCT (0.9991)]\n",
      "Span [5,6,7]: \"This Smart Wardrobe\"   [− Labels: PRODUCT (0.9999)]\n",
      "Span [1,2]: \"Grand Wardrobe\"   [− Labels: PRODUCT (1.0)]\n",
      "Span [31,32]: \"The Universal\"   [− Labels: PRODUCT (0.7511)]\n",
      "Span [1,2,3,4]: \"The Modern Wardrobe Closet\"   [− Labels: PRODUCT (0.9994)]\n",
      "Span [13,14,15,16,17,18]: \"The Ace Nota SB-425 Wardobe Closet\"   [− Labels: PRODUCT (0.7962)]\n",
      "Span [16,17,18,19]: \"The Ace Tais SB-380\"   [− Labels: PRODUCT (0.8948)]\n",
      "Span [20,21]: \"Wardobe Closet\"   [− Labels: PRODUCT (0.7621)]\n",
      "Span [14,15,16]: \"The Ace Dziordzia\"   [− Labels: PRODUCT (0.9229)]\n",
      "Span [10,11,12]: \"SB 041 WardrobeItalian\"   [− Labels: PRODUCT (0.8857)]\n",
      "Span [15,16,17,18]: \"The Ace Dziordzia SB-041\"   [− Labels: PRODUCT (0.8953)]\n",
      "Span [10,11,12]: \"SB 074 WardrobeItalian\"   [− Labels: PRODUCT (0.9757)]\n",
      "Span [17,18,19,20]: \"The Ace Dziordzia SB-074\"   [− Labels: PRODUCT (0.8157)]\n",
      "Span [10,11,12]: \"SB 102 WardrobeItalian\"   [− Labels: PRODUCT (0.9496)]\n",
      "Span [15,16,17,18]: \"The Ace Dziordzia SB-041\"   [− Labels: PRODUCT (0.888)]\n",
      "Span [12]: \"WardrobeMakassar\"   [− Labels: PRODUCT (0.8853)]\n",
      "Span [3,4,5]: \"DrewThe Lenox Collection\"   [− Labels: PRODUCT (0.7549)]\n",
      "Span [19,20]: \"Astral 2\"   [− Labels: PRODUCT (0.7665)]\n",
      "Span [29,30]: \"Astral Armoire\"   [− Labels: PRODUCT (0.9024)]\n",
      "Span [25,26]: \"Platinum Collection\"   [− Labels: PRODUCT (0.9615)]\n",
      "Span [27,28,29]: \"4 Door Wardrobe\"   [− Labels: PRODUCT (0.7946)]\n",
      "Span [39,40,41]: \"The Platinum Collection\"   [− Labels: PRODUCT (0.974)]\n",
      "Span [42,43,44,45]: \"Modern 4 Door Wardrobe\"   [− Labels: PRODUCT (0.8424)]\n",
      "Span [21,22]: \"Dama Bianca\"   [− Labels: PRODUCT (0.979)]\n",
      "Span [10,11]: \"Luxury Collection\"   [− Labels: PRODUCT (0.9494)]\n",
      "Span [12,13,14]: \"4 Door WardrobeDark\"   [− Labels: PRODUCT (0.9774)]\n",
      "Span [16,17,18,19,20,21]: \"The Luxury Collection 4 Door Wardrobe\"   [− Labels: PRODUCT (0.9976)]\n",
      "Span [35,36]: \"Luxury Wardrobe\"   [− Labels: PRODUCT (0.9984)]\n",
      "Span [5,6,7]: \"This Smart Wardrobe\"   [− Labels: PRODUCT (0.9999)]\n",
      "Span [1,2]: \"Grand Wardrobe\"   [− Labels: PRODUCT (1.0)]\n",
      "Span [18,19,20,21,22,23]: \"The Ace Irbis Dark Oak SB-752A\"   [− Labels: PRODUCT (0.825)]\n",
      "Span [1,2,3,4]: \"The Modern Wardrobe Closet\"   [− Labels: PRODUCT (0.9998)]\n",
      "Span [13,14,15,16,17,18]: \"The Ace Nota SB-425 Wardobe Closet\"   [− Labels: PRODUCT (0.8663)]\n",
      "Span [16,17,18,19]: \"The Ace Tais SB-380\"   [− Labels: PRODUCT (0.8706)]\n",
      "Span [14,15,16]: \"The Ace Dziordzia\"   [− Labels: PRODUCT (0.9475)]\n",
      "Span [10,11,12]: \"SB 041 WardrobeItalian\"   [− Labels: PRODUCT (0.8215)]\n",
      "Span [15,16,17,18]: \"The Ace Dziordzia SB-041\"   [− Labels: PRODUCT (0.8204)]\n",
      "Span [10,11,12]: \"SB 074 WardrobeItalian\"   [− Labels: PRODUCT (0.9153)]\n",
      "Span [17,18,19,20]: \"The Ace Dziordzia SB-074\"   [− Labels: PRODUCT (0.8912)]\n",
      "Span [15,16,17]: \"The Ace Dziordzia\"   [− Labels: PRODUCT (0.8995)]\n",
      "Span [12]: \"WardrobeMakassar\"   [− Labels: PRODUCT (0.9904)]\n",
      "Span [3,4,5]: \"DrewThe Lenox Collection\"   [− Labels: PRODUCT (0.7613)]\n",
      "Span [29,30]: \"Astral Armoire\"   [− Labels: PRODUCT (0.9218)]\n",
      "Span [25,26]: \"Platinum Collection\"   [− Labels: PRODUCT (0.9797)]\n",
      "Span [27,28,29]: \"4 Door Wardrobe\"   [− Labels: PRODUCT (0.81)]\n",
      "Span [21,22]: \"Dama Bianca\"   [− Labels: PRODUCT (0.9674)]\n",
      "Span [35,36,37]: \"The Dama Bianca\"   [− Labels: PRODUCT (0.869)]\n",
      "Span [40,41,42]: \"4 Door Wardrobe\"   [− Labels: PRODUCT (0.8591)]\n",
      "Span [10,11,12,13,14]: \"Luxury Collection 4 Door WardrobeDark\"   [− Labels: PRODUCT (0.9805)]\n",
      "Span [16,17,18,19,20,21]: \"The Luxury Collection 4 Door Wardrobe\"   [− Labels: PRODUCT (0.9987)]\n",
      "Span [35,36]: \"Luxury Wardrobe\"   [− Labels: PRODUCT (0.9991)]\n",
      "Span [5,6,7]: \"This Smart Wardrobe\"   [− Labels: PRODUCT (0.9999)]\n",
      "Span [1,2]: \"Grand Wardrobe\"   [− Labels: PRODUCT (1.0)]\n",
      "Span [31,32]: \"The Universal\"   [− Labels: PRODUCT (0.7511)]\n",
      "Span [21,22,23,24]: \"Custom 3 Door Wardrobe\"   [− Labels: PRODUCT (0.7668)]\n",
      "Span [1,2,3,4]: \"The Modern Wardrobe Closet\"   [− Labels: PRODUCT (0.9994)]\n",
      "Span [13,14,15,16,17,18]: \"The Ace Nota SB-425 Wardobe Closet\"   [− Labels: PRODUCT (0.8492)]\n",
      "Span [16,17,18,19]: \"The Ace Tais SB-380\"   [− Labels: PRODUCT (0.8841)]\n",
      "Span [20,21]: \"Wardobe Closet\"   [− Labels: PRODUCT (0.8042)]\n",
      "Span [14,15,16]: \"The Ace Dziordzia\"   [− Labels: PRODUCT (0.9229)]\n",
      "Span [10,11,12]: \"SB 041 WardrobeItalian\"   [− Labels: PRODUCT (0.8779)]\n",
      "Span [15,16,17]: \"The Ace Dziordzia\"   [− Labels: PRODUCT (0.9769)]\n",
      "Span [10,11,12]: \"SB 074 WardrobeItalian\"   [− Labels: PRODUCT (0.9757)]\n",
      "Span [17,18,19,20]: \"The Ace Dziordzia SB-074\"   [− Labels: PRODUCT (0.8157)]\n",
      "Span [10,11,12]: \"SB 102 WardrobeItalian\"   [− Labels: PRODUCT (0.9419)]\n",
      "Span [15,16,17]: \"The Ace Dziordzia\"   [− Labels: PRODUCT (0.9438)]\n",
      "Span [18,19,20,21,22]: \"The Ace Irbis Makassar SB-752B\"   [− Labels: PRODUCT (0.8834)]\n",
      "Span [1,2,3,4]: \"The Modern Wardrobe Closet\"   [− Labels: PRODUCT (0.998)]\n",
      "Span [25,26]: \"Platinum Collection\"   [− Labels: PRODUCT (0.9797)]\n",
      "Span [27,28,29]: \"4 Door Wardrobe\"   [− Labels: PRODUCT (0.81)]\n",
      "Span [21,22]: \"Dama Bianca\"   [− Labels: PRODUCT (0.9623)]\n",
      "Span [35,36,37]: \"The Dama Bianca\"   [− Labels: PRODUCT (0.8214)]\n",
      "Span [40,41,42]: \"4 Door Wardrobe\"   [− Labels: PRODUCT (0.871)]\n",
      "Span [10,11,12,13,14]: \"Luxury Collection 4 Door WardrobeDark\"   [− Labels: PRODUCT (0.9835)]\n",
      "Span [16,17,18,19,20,21]: \"The Luxury Collection 4 Door Wardrobe\"   [− Labels: PRODUCT (0.9993)]\n",
      "Span [35,36]: \"Luxury Wardrobe\"   [− Labels: PRODUCT (0.9993)]\n",
      "Span [5,6,7]: \"This Smart Wardrobe\"   [− Labels: PRODUCT (0.9996)]\n",
      "Span [1,2]: \"Grand Wardrobe\"   [− Labels: PRODUCT (1.0)]\n",
      "Span [31,32]: \"The Universal\"   [− Labels: PRODUCT (0.9594)]\n",
      "Span [13,14,15,16,17,18]: \"The Ace Nota SB-425 Wardobe Closet\"   [− Labels: PRODUCT (0.9843)]\n",
      "Span [16,17,18,19]: \"The Ace Tais SB-380\"   [− Labels: PRODUCT (0.9427)]\n",
      "Span [20,21]: \"Wardobe Closet\"   [− Labels: PRODUCT (0.9143)]\n",
      "Span [9,10,11]: \"Dziordzia 040 WardrobeItalian\"   [− Labels: PRODUCT (0.8996)]\n",
      "Span [14,15,16]: \"The Ace Dziordzia\"   [− Labels: PRODUCT (0.8391)]\n",
      "Span [10,11,12]: \"SB 041 WardrobeItalian\"   [− Labels: PRODUCT (0.979)]\n",
      "Span [15,16,17,18]: \"The Ace Dziordzia SB-041\"   [− Labels: PRODUCT (0.8603)]\n",
      "Span [10,11,12]: \"SB 074 WardrobeItalian\"   [− Labels: PRODUCT (0.9184)]\n",
      "Span [10,11,12]: \"SB 102 WardrobeItalian\"   [− Labels: PRODUCT (0.8779)]\n",
      "Span [15,16,17]: \"The Ace Dziordzia\"   [− Labels: PRODUCT (0.9786)]\n",
      "Span [18,19,20,21,22]: \"The Ace Irbis Makassar SB-752B\"   [− Labels: PRODUCT (0.8834)]\n",
      "Span [1,2,3,4]: \"The Modern Wardrobe Closet\"   [− Labels: PRODUCT (0.9999)]\n",
      "Span [4,5]: \"Lenox Collection\"   [− Labels: PRODUCT (0.7711)]\n",
      "Span [25,26,27,28,29]: \"Platinum Collection 4 Door Wardrobe\"   [− Labels: PRODUCT (0.8062)]\n",
      "Span [31,32,33]: \"2 Mirror Doors\"   [− Labels: PRODUCT (0.9033)]\n",
      "Span [40,41]: \"Platinum Collection\"   [− Labels: PRODUCT (0.9642)]\n",
      "Span [43,44,45]: \"4 Door Wardrobe\"   [− Labels: PRODUCT (0.8505)]\n",
      "Span [11,12,13]: \"4 Door Wardrobe\"   [− Labels: PRODUCT (0.9843)]\n",
      "Span [21,22]: \"Dama Bianca\"   [− Labels: PRODUCT (0.9928)]\n",
      "Span [24,25,26]: \"4 Door Wardrobe\"   [− Labels: PRODUCT (0.9854)]\n",
      "Span [35,36,37,38,39]: \"The Dama Bianca Modern White\"   [− Labels: PRODUCT (0.9548)]\n",
      "Span [40,41,42]: \"4 Door Wardrobe\"   [− Labels: PRODUCT (0.8608)]\n",
      "Span [10,11]: \"Luxury Collection\"   [− Labels: PRODUCT (0.9343)]\n",
      "Span [12,13,14]: \"4 Door WardrobeDark\"   [− Labels: PRODUCT (0.9525)]\n",
      "Span [16,17,18,19,20,21]: \"The Luxury Collection 4 Door Wardrobe\"   [− Labels: PRODUCT (0.9995)]\n",
      "Span [35,36]: \"Luxury Wardrobe\"   [− Labels: PRODUCT (0.9992)]\n",
      "Span [5,6,7]: \"This Smart Wardrobe\"   [− Labels: PRODUCT (0.9999)]\n",
      "Span [32,33,34]: \"The Flexible Wardrobe\"   [− Labels: PRODUCT (0.9762)]\n",
      "Span [1,2]: \"Grand Wardrobe\"   [− Labels: PRODUCT (1.0)]\n",
      "Span [18,19,20,21,22,23]: \"The Ace Irbis Dark Oak SB-752A\"   [− Labels: PRODUCT (0.825)]\n",
      "Span [1,2,3,4]: \"The Modern Wardrobe Closet\"   [− Labels: PRODUCT (0.9994)]\n",
      "Span [13,14,15,16,17,18]: \"The Ace Nota SB-425 Wardobe Closet\"   [− Labels: PRODUCT (0.8663)]\n",
      "Span [16,17,18,19]: \"The Ace Tais SB-380\"   [− Labels: PRODUCT (0.8706)]\n",
      "Span [14,15,16]: \"The Ace Dziordzia\"   [− Labels: PRODUCT (0.9531)]\n",
      "Span [10,11,12]: \"SB 041 WardrobeItalian\"   [− Labels: PRODUCT (0.8215)]\n",
      "Span [15,16,17,18]: \"The Ace Dziordzia SB-041\"   [− Labels: PRODUCT (0.8204)]\n",
      "Span [10,11,12]: \"SB 074 WardrobeItalian\"   [− Labels: PRODUCT (0.9153)]\n",
      "Span [17,18,19,20]: \"The Ace Dziordzia SB-074\"   [− Labels: PRODUCT (0.8912)]\n",
      "Span [15,16,17]: \"The Ace Dziordzia\"   [− Labels: PRODUCT (0.8995)]\n",
      "Span [12]: \"WardrobeMakassar\"   [− Labels: PRODUCT (0.9904)]\n",
      "Span [1,2,3,4]: \"The Modern Wardrobe Closet\"   [− Labels: PRODUCT (0.8931)]\n",
      "Span [3,4,5]: \"DrewThe Lenox Collection\"   [− Labels: PRODUCT (0.7613)]\n",
      "Span [29,30]: \"Astral Armoire\"   [− Labels: PRODUCT (0.9218)]\n",
      "Span [25,26]: \"Platinum Collection\"   [− Labels: PRODUCT (0.9797)]\n",
      "Span [27,28,29]: \"4 Door Wardrobe\"   [− Labels: PRODUCT (0.81)]\n",
      "Span [21,22]: \"Dama Bianca\"   [− Labels: PRODUCT (0.9674)]\n",
      "Span [35,36,37]: \"The Dama Bianca\"   [− Labels: PRODUCT (0.869)]\n",
      "Span [40,41,42]: \"4 Door Wardrobe\"   [− Labels: PRODUCT (0.8591)]\n",
      "Span [10,11,12,13,14]: \"Luxury Collection 4 Door WardrobeDark\"   [− Labels: PRODUCT (0.9805)]\n",
      "Span [16,17,18,19,20,21]: \"The Luxury Collection 4 Door Wardrobe\"   [− Labels: PRODUCT (0.9987)]\n",
      "Span [35,36]: \"Luxury Wardrobe\"   [− Labels: PRODUCT (0.9991)]\n",
      "Span [5,6,7]: \"This Smart Wardrobe\"   [− Labels: PRODUCT (0.9999)]\n",
      "Span [1,2]: \"Grand Wardrobe\"   [− Labels: PRODUCT (1.0)]\n",
      "Span [31,32]: \"The Universal\"   [− Labels: PRODUCT (0.7511)]\n",
      "Span [1,2,3,4]: \"The Modern Wardrobe Closet\"   [− Labels: PRODUCT (0.9994)]\n",
      "Span [13,14,15,16,17,18]: \"The Ace Nota SB-425 Wardobe Closet\"   [− Labels: PRODUCT (0.7962)]\n",
      "Span [16,17,18,19]: \"The Ace Tais SB-380\"   [− Labels: PRODUCT (0.8948)]\n",
      "Span [20,21]: \"Wardobe Closet\"   [− Labels: PRODUCT (0.7621)]\n",
      "Span [14,15,16]: \"The Ace Dziordzia\"   [− Labels: PRODUCT (0.9229)]\n",
      "Span [10,11,12]: \"SB 041 WardrobeItalian\"   [− Labels: PRODUCT (0.8857)]\n",
      "Span [15,16,17,18]: \"The Ace Dziordzia SB-041\"   [− Labels: PRODUCT (0.8953)]\n",
      "Span [10,11,12]: \"SB 074 WardrobeItalian\"   [− Labels: PRODUCT (0.9757)]\n",
      "Span [17,18,19,20]: \"The Ace Dziordzia SB-074\"   [− Labels: PRODUCT (0.8157)]\n",
      "Span [10,11,12]: \"SB 102 WardrobeItalian\"   [− Labels: PRODUCT (0.9496)]\n",
      "Span [15,16,17,18]: \"The Ace Dziordzia SB-041\"   [− Labels: PRODUCT (0.888)]\n",
      "Span [12]: \"WardrobeMakassar\"   [− Labels: PRODUCT (0.8915)]\n",
      "Span [1,2,3,4]: \"The Modern Wardrobe Closet\"   [− Labels: PRODUCT (0.998)]\n",
      "Span [25,26]: \"Platinum Collection\"   [− Labels: PRODUCT (0.9797)]\n",
      "Span [27,28,29]: \"4 Door Wardrobe\"   [− Labels: PRODUCT (0.81)]\n",
      "Span [21,22]: \"Dama Bianca\"   [− Labels: PRODUCT (0.9623)]\n",
      "Span [35,36,37]: \"The Dama Bianca\"   [− Labels: PRODUCT (0.8214)]\n",
      "Span [40,41,42]: \"4 Door Wardrobe\"   [− Labels: PRODUCT (0.871)]\n",
      "Span [10,11,12,13,14]: \"Luxury Collection 4 Door WardrobeDark\"   [− Labels: PRODUCT (0.9835)]\n",
      "Span [16,17,18,19,20,21]: \"The Luxury Collection 4 Door Wardrobe\"   [− Labels: PRODUCT (0.9993)]\n",
      "Span [35,36]: \"Luxury Wardrobe\"   [− Labels: PRODUCT (0.9993)]\n",
      "Span [5,6,7]: \"This Smart Wardrobe\"   [− Labels: PRODUCT (0.9996)]\n",
      "Span [1,2]: \"Grand Wardrobe\"   [− Labels: PRODUCT (1.0)]\n",
      "Span [31,32]: \"The Universal\"   [− Labels: PRODUCT (0.7511)]\n",
      "Span [13,14,15,16]: \"The Ace Nota SB-425\"   [− Labels: PRODUCT (0.761)]\n",
      "Span [16,17,18,19]: \"The Ace Tais SB-380\"   [− Labels: PRODUCT (0.8715)]\n",
      "Span [20,21]: \"Wardobe Closet\"   [− Labels: PRODUCT (0.8502)]\n",
      "Span [9,10,11]: \"Dziordzia 040 WardrobeItalian\"   [− Labels: PRODUCT (0.8996)]\n",
      "Span [14,15,16]: \"The Ace Dziordzia\"   [− Labels: PRODUCT (0.8391)]\n",
      "Span [10,11,12]: \"SB 041 WardrobeItalian\"   [− Labels: PRODUCT (0.979)]\n",
      "Span [15,16,17,18]: \"The Ace Dziordzia SB-041\"   [− Labels: PRODUCT (0.8603)]\n",
      "Span [10,11,12]: \"SB 074 WardrobeItalian\"   [− Labels: PRODUCT (0.9184)]\n",
      "Span [10,11,12]: \"SB 102 WardrobeItalian\"   [− Labels: PRODUCT (0.8779)]\n",
      "Span [15,16,17]: \"The Ace Dziordzia\"   [− Labels: PRODUCT (0.9786)]\n",
      "Span [18,19,20,21,22]: \"The Ace Irbis Makassar SB-752B\"   [− Labels: PRODUCT (0.8834)]\n",
      "Span [1,2,3,4]: \"The Modern Wardrobe Closet\"   [− Labels: PRODUCT (0.9999)]\n",
      "Span [16,17,18]: \"The Lenox Collection\"   [− Labels: PRODUCT (0.8318)]\n",
      "Span [19,20,21,22]: \"Astral 2 Door and\"   [− Labels: PRODUCT (0.8152)]\n",
      "Span [29,30]: \"Astral Armoire\"   [− Labels: PRODUCT (0.9609)]\n",
      "Span [25,26]: \"Platinum Collection\"   [− Labels: PRODUCT (0.9797)]\n",
      "Span [27,28,29]: \"4 Door Wardrobe\"   [− Labels: PRODUCT (0.81)]\n",
      "Span [21,22]: \"Dama Bianca\"   [− Labels: PRODUCT (0.9623)]\n",
      "Span [35,36,37]: \"The Dama Bianca\"   [− Labels: PRODUCT (0.8214)]\n",
      "Span [40,41,42]: \"4 Door Wardrobe\"   [− Labels: PRODUCT (0.871)]\n",
      "Span [10,11,12,13,14]: \"Luxury Collection 4 Door WardrobeDark\"   [− Labels: PRODUCT (0.9835)]\n",
      "Span [16,17,18,19,20,21]: \"The Luxury Collection 4 Door Wardrobe\"   [− Labels: PRODUCT (0.9993)]\n",
      "Span [35,36]: \"Luxury Wardrobe\"   [− Labels: PRODUCT (0.9993)]\n",
      "Span [5,6,7]: \"This Smart Wardrobe\"   [− Labels: PRODUCT (0.9996)]\n",
      "Span [1,2]: \"Grand Wardrobe\"   [− Labels: PRODUCT (1.0)]\n",
      "Span [31,32]: \"The Universal\"   [− Labels: PRODUCT (0.7511)]\n",
      "Span [13,14,15,16]: \"The Ace Nota SB-425\"   [− Labels: PRODUCT (0.761)]\n",
      "Span [16,17,18,19]: \"The Ace Tais SB-380\"   [− Labels: PRODUCT (0.8715)]\n",
      "Span [20,21]: \"Wardobe Closet\"   [− Labels: PRODUCT (0.8502)]\n",
      "Span [9,10,11]: \"Dziordzia 040 WardrobeItalian\"   [− Labels: PRODUCT (0.8996)]\n",
      "Span [14,15,16]: \"The Ace Dziordzia\"   [− Labels: PRODUCT (0.8391)]\n",
      "Span [10,11,12]: \"SB 041 WardrobeItalian\"   [− Labels: PRODUCT (0.8779)]\n",
      "Span [15,16,17]: \"The Ace Dziordzia\"   [− Labels: PRODUCT (0.9769)]\n",
      "Span [10,11,12]: \"SB 074 WardrobeItalian\"   [− Labels: PRODUCT (0.8808)]\n",
      "Span [17,18,19]: \"The Ace Dziordzia\"   [− Labels: PRODUCT (0.9886)]\n",
      "Span [10,11,12]: \"SB 102 WardrobeItalian\"   [− Labels: PRODUCT (0.9476)]\n",
      "Span [15,16,17]: \"The Ace Dziordzia\"   [− Labels: PRODUCT (0.9386)]\n",
      "Span [18,19,20,21,22]: \"The Ace Irbis Makassar SB-752B\"   [− Labels: PRODUCT (0.8834)]\n",
      "Span [1,2,3,4]: \"The Modern Wardrobe Closet\"   [− Labels: PRODUCT (0.9999)]\n"
     ]
    },
    {
     "data": {
      "application/vnd.jupyter.widget-view+json": {
       "model_id": "",
       "version_major": 2,
       "version_minor": 0
      },
      "text/plain": [
       "Sentences Progress:   0%|          | 0/11 [00:00<?, ?it/s]"
      ]
     },
     "metadata": {},
     "output_type": "display_data"
    },
    {
     "data": {
      "application/vnd.jupyter.widget-view+json": {
       "model_id": "",
       "version_major": 2,
       "version_minor": 0
      },
      "text/plain": [
       "Sentences Progress:   0%|          | 0/2 [00:00<?, ?it/s]"
      ]
     },
     "metadata": {},
     "output_type": "display_data"
    },
    {
     "data": {
      "application/vnd.jupyter.widget-view+json": {
       "model_id": "",
       "version_major": 2,
       "version_minor": 0
      },
      "text/plain": [
       "Sentences Progress:   0%|          | 0/13 [00:00<?, ?it/s]"
      ]
     },
     "metadata": {},
     "output_type": "display_data"
    },
    {
     "name": "stdout",
     "output_type": "stream",
     "text": [
      "Span [1,2]: \"Daphne Leather\"   [− Labels: PRODUCT (0.9924)]\n",
      "Span [1,2]: \"Daphne Leather\"   [− Labels: PRODUCT (0.9924)]\n",
      "Span [1,2]: \"Daphne Leather\"   [− Labels: PRODUCT (0.9934)]\n"
     ]
    },
    {
     "data": {
      "application/vnd.jupyter.widget-view+json": {
       "model_id": "",
       "version_major": 2,
       "version_minor": 0
      },
      "text/plain": [
       "Sentences Progress:   0%|          | 0/1 [00:00<?, ?it/s]"
      ]
     },
     "metadata": {},
     "output_type": "display_data"
    },
    {
     "data": {
      "application/vnd.jupyter.widget-view+json": {
       "model_id": "",
       "version_major": 2,
       "version_minor": 0
      },
      "text/plain": [
       "Sentences Progress:   0%|          | 0/13 [00:00<?, ?it/s]"
      ]
     },
     "metadata": {},
     "output_type": "display_data"
    },
    {
     "name": "stdout",
     "output_type": "stream",
     "text": [
      "Span [2,3]: \"6341 Desk\"   [− Labels: PRODUCT (0.991)]\n",
      "Span [2,3]: \"6341 Desk\"   [− Labels: PRODUCT (0.9992)]\n"
     ]
    },
    {
     "data": {
      "application/vnd.jupyter.widget-view+json": {
       "model_id": "",
       "version_major": 2,
       "version_minor": 0
      },
      "text/plain": [
       "Sentences Progress:   0%|          | 0/9 [00:00<?, ?it/s]"
      ]
     },
     "metadata": {},
     "output_type": "display_data"
    },
    {
     "data": {
      "application/vnd.jupyter.widget-view+json": {
       "model_id": "",
       "version_major": 2,
       "version_minor": 0
      },
      "text/plain": [
       "Sentences Progress:   0%|          | 0/7 [00:00<?, ?it/s]"
      ]
     },
     "metadata": {},
     "output_type": "display_data"
    },
    {
     "data": {
      "application/vnd.jupyter.widget-view+json": {
       "model_id": "",
       "version_major": 2,
       "version_minor": 0
      },
      "text/plain": [
       "Sentences Progress:   0%|          | 0/51 [00:00<?, ?it/s]"
      ]
     },
     "metadata": {},
     "output_type": "display_data"
    },
    {
     "name": "stdout",
     "output_type": "stream",
     "text": [
      "Span [12,13,14]: \"Costa Adjustable Barstool\"   [− Labels: PRODUCT (0.9974)]\n",
      "Span [42,43,44]: \"Square Seat Adjustable\"   [− Labels: PRODUCT (0.9585)]\n",
      "Span [30,31,32,33,34]: \"Raymond Antique Dual Tone Bar\"   [− Labels: PRODUCT (0.988)]\n",
      "Span [46,47,48,49,50]: \"Raymond Antique Dual Tone Bar\"   [− Labels: PRODUCT (0.9993)]\n",
      "Span [20,21,22,23]: \"Mya Velvet Swivel Stool\"   [− Labels: PRODUCT (0.7769)]\n",
      "Span [39,40,41,42]: \"Mya Velvet Swivel Stool\"   [− Labels: PRODUCT (0.9925)]\n",
      "Span [72,73]: \"Counter or\"   [− Labels: PRODUCT (0.7592)]\n",
      "Span [106,107,108,109]: \"Mya Velvet Swivel Stool\"   [− Labels: PRODUCT (0.9983)]\n",
      "Span [125,126,127,128]: \"Counter or Bar Stoo\"   [− Labels: PRODUCT (0.9959)]\n",
      "Span [64,65,66,67]: \"Modern Backless Adjustable Barstool\"   [− Labels: PRODUCT (0.8771)]\n",
      "Span [9,10]: \"Elite ...\"   [− Labels: PRODUCT (0.9992)]\n",
      "Span [47,48,49,50]: \"Circa Modern Adjustable Barstool\"   [− Labels: PRODUCT (0.9566)]\n",
      "Span [62,63,64,65]: \"Circa Modern Adjustable Barstool\"   [− Labels: PRODUCT (0.9977)]\n",
      "Span [1]: \"Companion\"   [− Labels: PRODUCT (0.9958)]\n",
      "Span [87,88,89,90]: \"Circa Modern Adjustable Barstool\"   [− Labels: PRODUCT (0.9392)]\n",
      "Span [66,67,68,69,70,71]: \"Zola Leather Counter Height Stool in\"   [− Labels: PRODUCT (0.8301)]\n",
      "Span [9,10,11]: \"Costa Adjustable Barstool\"   [− Labels: PRODUCT (0.9997)]\n",
      "Span [127,128,129]: \"Costa Adjustable Barst\"   [− Labels: PRODUCT (0.996)]\n",
      "Span [24,25,26,27]: \"Square Seat Adjustable Barstool\"   [− Labels: PRODUCT (0.8536)]\n",
      "Span [65,66]: \"Vinyl Barstool\"   [− Labels: PRODUCT (0.8335)]\n",
      "Span [30,31,32,33,34]: \"Raymond Antique Dual Tone Bar\"   [− Labels: PRODUCT (0.988)]\n",
      "Span [46,47,48,49,50]: \"Raymond Antique Dual Tone Bar\"   [− Labels: PRODUCT (0.9993)]\n",
      "Span [20,21,22,23]: \"Mya Velvet Swivel Stool\"   [− Labels: PRODUCT (0.8205)]\n",
      "Span [39,40,41,42]: \"Mya Velvet Swivel Stool\"   [− Labels: PRODUCT (0.9929)]\n",
      "Span [87,88,89,90]: \"Modern Backless Adjustable Barstool\"   [− Labels: PRODUCT (0.7519)]\n",
      "Span [64,65,66,67]: \"Modern Backless Adjustable Barstool\"   [− Labels: PRODUCT (0.8771)]\n",
      "Span [9,10]: \"Elite ...\"   [− Labels: PRODUCT (0.9992)]\n",
      "Span [47,48,49,50]: \"Circa Modern Adjustable Barstool\"   [− Labels: PRODUCT (0.9566)]\n",
      "Span [62,63,64,65]: \"Circa Modern Adjustable Barstool\"   [− Labels: PRODUCT (0.9977)]\n",
      "Span [1]: \"Companion\"   [− Labels: PRODUCT (0.9958)]\n",
      "Span [87,88,89,90]: \"Circa Modern Adjustable Barstool\"   [− Labels: PRODUCT (0.9392)]\n",
      "Span [66,67,68,69,70,71]: \"Zola Leather Counter Height Stool in\"   [− Labels: PRODUCT (0.8301)]\n",
      "Span [39,40,41]: \"Wayne Leather Stool\"   [− Labels: PRODUCT (0.955)]\n",
      "Span [9,10,11]: \"Costa Adjustable Barstool\"   [− Labels: PRODUCT (0.8882)]\n",
      "Span [24,25,26]: \"Square Seat Adjustable\"   [− Labels: PRODUCT (0.9933)]\n",
      "Span [42,43,44,45]: \"Square Seat Adjustable Barstool\"   [− Labels: PRODUCT (0.9777)]\n",
      "Span [30,31,32,33,34]: \"Raymond Antique Dual Tone Bar\"   [− Labels: PRODUCT (0.9994)]\n",
      "Span [46,47,48,49,50]: \"Raymond Antique Dual Tone Bar\"   [− Labels: PRODUCT (0.9997)]\n",
      "Span [20,21,22,23]: \"Mya Velvet Swivel Stool\"   [− Labels: PRODUCT (0.9076)]\n",
      "Span [39,40,41,42]: \"Mya Velvet Swivel Stool\"   [− Labels: PRODUCT (0.9983)]\n",
      "Span [46]: \"Options\"   [− Labels: PRODUCT (0.8113)]\n",
      "Span [64,65,66,67]: \"Modern Backless Adjustable Barstool\"   [− Labels: PRODUCT (0.8771)]\n",
      "Span [47,48,49,50]: \"Circa Modern Adjustable Barstool\"   [− Labels: PRODUCT (0.9566)]\n",
      "Span [62,63,64,65]: \"Circa Modern Adjustable Barstool\"   [− Labels: PRODUCT (0.9977)]\n",
      "Span [87,88,89,90]: \"Circa Modern Adjustable Barstool\"   [− Labels: PRODUCT (0.9994)]\n",
      "Span [9,10,11]: \"Costa Adjustable Barstool\"   [− Labels: PRODUCT (0.8897)]\n",
      "Span [24,25,26,27]: \"Square Seat Adjustable Barstool\"   [− Labels: PRODUCT (0.8536)]\n",
      "Span [65,66]: \"Vinyl Barstool\"   [− Labels: PRODUCT (0.8335)]\n",
      "Span [30,31,32,33,34]: \"Raymond Antique Dual Tone Bar\"   [− Labels: PRODUCT (0.988)]\n",
      "Span [46,47,48,49,50]: \"Raymond Antique Dual Tone Bar\"   [− Labels: PRODUCT (0.9993)]\n",
      "Span [20,21,22,23]: \"Mya Velvet Swivel Stool\"   [− Labels: PRODUCT (0.8205)]\n",
      "Span [39,40,41,42]: \"Mya Velvet Swivel Stool\"   [− Labels: PRODUCT (0.9929)]\n",
      "Span [87,88,89,90]: \"Modern Backless Adjustable Barstool\"   [− Labels: PRODUCT (0.7519)]\n",
      "Span [64,65,66,67]: \"Modern Backless Adjustable Barstool\"   [− Labels: PRODUCT (0.8771)]\n",
      "Span [9,10]: \"Elite ...\"   [− Labels: PRODUCT (0.9992)]\n",
      "Span [47,48,49,50]: \"Circa Modern Adjustable Barstool\"   [− Labels: PRODUCT (0.9566)]\n",
      "Span [62,63,64,65]: \"Circa Modern Adjustable Barstool\"   [− Labels: PRODUCT (0.9977)]\n",
      "Span [1]: \"Companion\"   [− Labels: PRODUCT (0.9958)]\n",
      "Span [87,88,89,90]: \"Circa Modern Adjustable Barstool\"   [− Labels: PRODUCT (0.9392)]\n",
      "Span [66,67,68,69,70,71]: \"Zola Leather Counter Height Stool in\"   [− Labels: PRODUCT (0.8301)]\n",
      "Span [39,40,41]: \"Wayne Leather Stool\"   [− Labels: PRODUCT (0.955)]\n",
      "Span [9,10,11]: \"Costa Adjustable Barstool\"   [− Labels: PRODUCT (0.8882)]\n"
     ]
    },
    {
     "data": {
      "application/vnd.jupyter.widget-view+json": {
       "model_id": "",
       "version_major": 2,
       "version_minor": 0
      },
      "text/plain": [
       "Sentences Progress:   0%|          | 0/11 [00:00<?, ?it/s]"
      ]
     },
     "metadata": {},
     "output_type": "display_data"
    },
    {
     "data": {
      "application/vnd.jupyter.widget-view+json": {
       "model_id": "",
       "version_major": 2,
       "version_minor": 0
      },
      "text/plain": [
       "Sentences Progress:   0%|          | 0/9 [00:00<?, ?it/s]"
      ]
     },
     "metadata": {},
     "output_type": "display_data"
    },
    {
     "data": {
      "application/vnd.jupyter.widget-view+json": {
       "model_id": "",
       "version_major": 2,
       "version_minor": 0
      },
      "text/plain": [
       "Sentences Progress:   0%|          | 0/13 [00:00<?, ?it/s]"
      ]
     },
     "metadata": {},
     "output_type": "display_data"
    },
    {
     "data": {
      "application/vnd.jupyter.widget-view+json": {
       "model_id": "",
       "version_major": 2,
       "version_minor": 0
      },
      "text/plain": [
       "Sentences Progress:   0%|          | 0/37 [00:00<?, ?it/s]"
      ]
     },
     "metadata": {},
     "output_type": "display_data"
    },
    {
     "data": {
      "application/vnd.jupyter.widget-view+json": {
       "model_id": "",
       "version_major": 2,
       "version_minor": 0
      },
      "text/plain": [
       "Sentences Progress:   0%|          | 0/10 [00:00<?, ?it/s]"
      ]
     },
     "metadata": {},
     "output_type": "display_data"
    },
    {
     "data": {
      "application/vnd.jupyter.widget-view+json": {
       "model_id": "",
       "version_major": 2,
       "version_minor": 0
      },
      "text/plain": [
       "Sentences Progress:   0%|          | 0/14 [00:00<?, ?it/s]"
      ]
     },
     "metadata": {},
     "output_type": "display_data"
    },
    {
     "data": {
      "application/vnd.jupyter.widget-view+json": {
       "model_id": "",
       "version_major": 2,
       "version_minor": 0
      },
      "text/plain": [
       "Sentences Progress:   0%|          | 0/18 [00:00<?, ?it/s]"
      ]
     },
     "metadata": {},
     "output_type": "display_data"
    },
    {
     "data": {
      "application/vnd.jupyter.widget-view+json": {
       "model_id": "",
       "version_major": 2,
       "version_minor": 0
      },
      "text/plain": [
       "Sentences Progress:   0%|          | 0/6 [00:00<?, ?it/s]"
      ]
     },
     "metadata": {},
     "output_type": "display_data"
    },
    {
     "data": {
      "application/vnd.jupyter.widget-view+json": {
       "model_id": "",
       "version_major": 2,
       "version_minor": 0
      },
      "text/plain": [
       "Sentences Progress:   0%|          | 0/12 [00:00<?, ?it/s]"
      ]
     },
     "metadata": {},
     "output_type": "display_data"
    },
    {
     "data": {
      "application/vnd.jupyter.widget-view+json": {
       "model_id": "",
       "version_major": 2,
       "version_minor": 0
      },
      "text/plain": [
       "Sentences Progress:   0%|          | 0/14 [00:00<?, ?it/s]"
      ]
     },
     "metadata": {},
     "output_type": "display_data"
    },
    {
     "name": "stdout",
     "output_type": "stream",
     "text": [
      "Span [3,4,5]: \"Lawrence Peabody Chairs\"   [− Labels: PRODUCT (0.7614)]\n",
      "Span [1,2,3]: \"Lawrence Peabody Chairs\"   [− Labels: PRODUCT (0.8251)]\n"
     ]
    },
    {
     "data": {
      "application/vnd.jupyter.widget-view+json": {
       "model_id": "",
       "version_major": 2,
       "version_minor": 0
      },
      "text/plain": [
       "Sentences Progress:   0%|          | 0/8 [00:00<?, ?it/s]"
      ]
     },
     "metadata": {},
     "output_type": "display_data"
    },
    {
     "data": {
      "application/vnd.jupyter.widget-view+json": {
       "model_id": "",
       "version_major": 2,
       "version_minor": 0
      },
      "text/plain": [
       "Sentences Progress:   0%|          | 0/3 [00:00<?, ?it/s]"
      ]
     },
     "metadata": {},
     "output_type": "display_data"
    },
    {
     "data": {
      "application/vnd.jupyter.widget-view+json": {
       "model_id": "",
       "version_major": 2,
       "version_minor": 0
      },
      "text/plain": [
       "Sentences Progress:   0%|          | 0/21 [00:00<?, ?it/s]"
      ]
     },
     "metadata": {},
     "output_type": "display_data"
    },
    {
     "data": {
      "application/vnd.jupyter.widget-view+json": {
       "model_id": "",
       "version_major": 2,
       "version_minor": 0
      },
      "text/plain": [
       "Sentences Progress:   0%|          | 0/21 [00:00<?, ?it/s]"
      ]
     },
     "metadata": {},
     "output_type": "display_data"
    },
    {
     "data": {
      "application/vnd.jupyter.widget-view+json": {
       "model_id": "",
       "version_major": 2,
       "version_minor": 0
      },
      "text/plain": [
       "Sentences Progress:   0%|          | 0/9 [00:00<?, ?it/s]"
      ]
     },
     "metadata": {},
     "output_type": "display_data"
    },
    {
     "name": "stdout",
     "output_type": "stream",
     "text": [
      "Span [5,6]: \"Eave Deskby\"   [− Labels: PRODUCT (0.9607)]\n",
      "Span [8,9,10]: \"Frond Desk Chair\"   [− Labels: PRODUCT (1.0)]\n",
      "Span [13,14]: \"Eave Desk\"   [− Labels: PRODUCT (1.0)]\n",
      "Span [13,14]: \"Eave Desk\"   [− Labels: PRODUCT (0.997)]\n",
      "Span [5,6]: \"Eave Deskby\"   [− Labels: PRODUCT (0.9871)]\n",
      "Span [8,9,10]: \"Frond Desk Chair\"   [− Labels: PRODUCT (1.0)]\n",
      "Span [13,14]: \"Eave Desk\"   [− Labels: PRODUCT (1.0)]\n",
      "Span [13,14]: \"Eave Desk\"   [− Labels: PRODUCT (0.9999)]\n",
      "Span [8,9,10]: \"Frond Desk Chair\"   [− Labels: PRODUCT (1.0)]\n",
      "Span [13,14]: \"Eave Desk\"   [− Labels: PRODUCT (1.0)]\n",
      "Span [13,14]: \"Eave Desk\"   [− Labels: PRODUCT (0.9999)]\n",
      "Span [1,2]: \"Eave Deskby\"   [− Labels: PRODUCT (1.0)]\n",
      "Span [1,2]: \"Eave Deskby\"   [− Labels: PRODUCT (0.9952)]\n"
     ]
    },
    {
     "data": {
      "application/vnd.jupyter.widget-view+json": {
       "model_id": "",
       "version_major": 2,
       "version_minor": 0
      },
      "text/plain": [
       "Sentences Progress:   0%|          | 0/17 [00:00<?, ?it/s]"
      ]
     },
     "metadata": {},
     "output_type": "display_data"
    },
    {
     "name": "stdout",
     "output_type": "stream",
     "text": [
      "Span [1,2,3,4]: \"The Farmhouse Designs Collection\"   [− Labels: PRODUCT (0.9038)]\n",
      "Span [1,2,3,4]: \"The Farmhouse Designs Collection\"   [− Labels: PRODUCT (0.9655)]\n"
     ]
    },
    {
     "data": {
      "application/vnd.jupyter.widget-view+json": {
       "model_id": "",
       "version_major": 2,
       "version_minor": 0
      },
      "text/plain": [
       "Sentences Progress:   0%|          | 0/12 [00:00<?, ?it/s]"
      ]
     },
     "metadata": {},
     "output_type": "display_data"
    },
    {
     "name": "stdout",
     "output_type": "stream",
     "text": [
      "Span [14,15,16]: \"the CH24 Soft\"   [− Labels: PRODUCT (0.9999)]\n",
      "Span [26,27]: \"Wishbone Chair\"   [− Labels: PRODUCT (0.9986)]\n",
      "Span [1,2,3]: \"The CH24 Soft\"   [− Labels: PRODUCT (1.0)]\n",
      "Span [3,4]: \"CH24 Soft\"   [− Labels: PRODUCT (1.0)]\n",
      "Span [10,11,12]: \"a Wishbone Chair\"   [− Labels: PRODUCT (0.9999)]\n",
      "Span [19,20,21]: \"the CH24 Soft\"   [− Labels: PRODUCT (0.9998)]\n",
      "Span [31,32]: \"Wishbone Chair\"   [− Labels: PRODUCT (0.773)]\n",
      "Span [1,2,3]: \"The CH24 Soft\"   [− Labels: PRODUCT (1.0)]\n",
      "Span [7,8,9]: \"the CH24 Soft\"   [− Labels: PRODUCT (1.0)]\n",
      "Span [19,20]: \"Wishbone Chair\"   [− Labels: PRODUCT (1.0)]\n",
      "Span [1,2,3]: \"The CH24 Soft\"   [− Labels: PRODUCT (1.0)]\n",
      "Span [3,4]: \"CH24 Soft\"   [− Labels: PRODUCT (0.9999)]\n",
      "Span [10,11,12]: \"a Wishbone Chair\"   [− Labels: PRODUCT (0.9999)]\n",
      "Span [3,4]: \"CH24 Soft\"   [− Labels: PRODUCT (0.9993)]\n",
      "Span [14,15,16]: \"the CH24 Soft\"   [− Labels: PRODUCT (0.9998)]\n",
      "Span [26,27]: \"Wishbone Chair\"   [− Labels: PRODUCT (0.9997)]\n",
      "Span [1,2,3]: \"The CH24 Soft\"   [− Labels: PRODUCT (1.0)]\n",
      "Span [3,4]: \"CH24 Soft\"   [− Labels: PRODUCT (1.0)]\n",
      "Span [10,11,12]: \"a Wishbone Chair\"   [− Labels: PRODUCT (0.9999)]\n",
      "Span [19,20,21]: \"the CH24 Soft\"   [− Labels: PRODUCT (0.9993)]\n",
      "Span [31,32]: \"Wishbone Chair\"   [− Labels: PRODUCT (0.9995)]\n",
      "Span [1,2,3]: \"The CH24 Soft\"   [− Labels: PRODUCT (0.998)]\n",
      "Span [7,8,9]: \"the CH24 Soft\"   [− Labels: PRODUCT (1.0)]\n",
      "Span [19,20]: \"Wishbone Chair\"   [− Labels: PRODUCT (1.0)]\n",
      "Span [1,2,3]: \"The CH24 Soft\"   [− Labels: PRODUCT (1.0)]\n",
      "Span [3,4]: \"CH24 Soft\"   [− Labels: PRODUCT (0.9999)]\n",
      "Span [10,11,12]: \"a Wishbone Chair\"   [− Labels: PRODUCT (0.9999)]\n",
      "Span [3,4]: \"CH24 Soft\"   [− Labels: PRODUCT (0.9993)]\n",
      "Span [14,15,16]: \"the CH24 Soft\"   [− Labels: PRODUCT (0.9998)]\n",
      "Span [26,27]: \"Wishbone Chair\"   [− Labels: PRODUCT (0.9997)]\n",
      "Span [1,2,3]: \"The CH24 Soft\"   [− Labels: PRODUCT (1.0)]\n",
      "Span [3,4]: \"CH24 Soft\"   [− Labels: PRODUCT (1.0)]\n",
      "Span [10,11,12]: \"a Wishbone Chair\"   [− Labels: PRODUCT (0.9999)]\n",
      "Span [19,20,21]: \"the CH24 Soft\"   [− Labels: PRODUCT (0.9993)]\n",
      "Span [31,32]: \"Wishbone Chair\"   [− Labels: PRODUCT (0.9995)]\n",
      "Span [1,2,3]: \"The CH24 Soft\"   [− Labels: PRODUCT (0.998)]\n",
      "Span [7,8,9]: \"the CH24 Soft\"   [− Labels: PRODUCT (1.0)]\n",
      "Span [19,20]: \"Wishbone Chair\"   [− Labels: PRODUCT (1.0)]\n",
      "Span [1,2,3]: \"The CH24 Soft\"   [− Labels: PRODUCT (1.0)]\n",
      "Span [3,4]: \"CH24 Soft\"   [− Labels: PRODUCT (0.9999)]\n",
      "Span [10,11,12]: \"a Wishbone Chair\"   [− Labels: PRODUCT (0.9999)]\n",
      "Span [3,4]: \"CH24 Soft\"   [− Labels: PRODUCT (0.9993)]\n",
      "Span [14,15,16]: \"the CH24 Soft\"   [− Labels: PRODUCT (0.9998)]\n",
      "Span [26,27]: \"Wishbone Chair\"   [− Labels: PRODUCT (0.9997)]\n",
      "Span [1,2,3]: \"The CH24 Soft\"   [− Labels: PRODUCT (1.0)]\n",
      "Span [3,4]: \"CH24 Soft\"   [− Labels: PRODUCT (1.0)]\n",
      "Span [10,11,12]: \"a Wishbone Chair\"   [− Labels: PRODUCT (1.0)]\n",
      "Span [19,20,21]: \"the CH24 Soft\"   [− Labels: PRODUCT (0.9996)]\n",
      "Span [31,32]: \"Wishbone Chair\"   [− Labels: PRODUCT (0.9998)]\n",
      "Span [1,2,3]: \"The CH24 Soft\"   [− Labels: PRODUCT (1.0)]\n",
      "Span [7,8,9]: \"the CH24 Soft\"   [− Labels: PRODUCT (1.0)]\n",
      "Span [19,20]: \"Wishbone Chair\"   [− Labels: PRODUCT (1.0)]\n",
      "Span [1,2,3]: \"The CH24 Soft\"   [− Labels: PRODUCT (1.0)]\n",
      "Span [3,4]: \"CH24 Soft\"   [− Labels: PRODUCT (1.0)]\n",
      "Span [10,11,12]: \"a Wishbone Chair\"   [− Labels: PRODUCT (0.9282)]\n"
     ]
    },
    {
     "data": {
      "application/vnd.jupyter.widget-view+json": {
       "model_id": "",
       "version_major": 2,
       "version_minor": 0
      },
      "text/plain": [
       "Sentences Progress:   0%|          | 0/17 [00:00<?, ?it/s]"
      ]
     },
     "metadata": {},
     "output_type": "display_data"
    },
    {
     "name": "stdout",
     "output_type": "stream",
     "text": [
      "Span [1,2,3]: \"The ECO GEO\"   [− Labels: PRODUCT (0.9999)]\n",
      "Span [15,16]: \"ECO GEO\"   [− Labels: PRODUCT (0.8416)]\n"
     ]
    },
    {
     "data": {
      "application/vnd.jupyter.widget-view+json": {
       "model_id": "",
       "version_major": 2,
       "version_minor": 0
      },
      "text/plain": [
       "Sentences Progress:   0%|          | 0/8 [00:00<?, ?it/s]"
      ]
     },
     "metadata": {},
     "output_type": "display_data"
    },
    {
     "data": {
      "application/vnd.jupyter.widget-view+json": {
       "model_id": "",
       "version_major": 2,
       "version_minor": 0
      },
      "text/plain": [
       "Sentences Progress:   0%|          | 0/10 [00:00<?, ?it/s]"
      ]
     },
     "metadata": {},
     "output_type": "display_data"
    },
    {
     "data": {
      "application/vnd.jupyter.widget-view+json": {
       "model_id": "",
       "version_major": 2,
       "version_minor": 0
      },
      "text/plain": [
       "Sentences Progress:   0%|          | 0/24 [00:00<?, ?it/s]"
      ]
     },
     "metadata": {},
     "output_type": "display_data"
    },
    {
     "name": "stdout",
     "output_type": "stream",
     "text": [
      "Span [6,7,8,9]: \"The Learning Tower ®\"   [− Labels: PRODUCT (0.978)]\n",
      "Span [11]: \"Edition\"   [− Labels: PRODUCT (0.9252)]\n",
      "Span [12]: \"Learning\"   [− Labels: PRODUCT (0.8855)]\n",
      "Span [21,22,23,24]: \"With Me Chair ®\"   [− Labels: PRODUCT (0.9999)]\n",
      "Span [33,34,35,36,37]: \"Grow With Me Chair ®\"   [− Labels: PRODUCT (1.0)]\n",
      "Span [58,59,60,61,62]: \"Grow with Me Chair ®\"   [− Labels: PRODUCT (1.0)]\n",
      "Span [8,9,10,11,12,13]: \"the Grow with Me Chair ™\"   [− Labels: PRODUCT (1.0)]\n",
      "Span [35]: \"Partners\"   [− Labels: PRODUCT (0.8351)]\n",
      "Span [36,37,38,39,40]: \"Grow with Me Chair ®\"   [− Labels: PRODUCT (0.994)]\n",
      "Span [8,9,10,11,12,13]: \"the Grow with Me Chair ™\"   [− Labels: PRODUCT (1.0)]\n",
      "Span [3,4,5,6,7,8]: \"The Grow with Me Chair ®\"   [− Labels: PRODUCT (1.0)]\n",
      "Span [2,3,4]: \"EZ Assembly ™\"   [− Labels: PRODUCT (1.0)]\n",
      "Span [49,50,51,52,53]: \"Natural Booster Seat with Cushion\"   [− Labels: PRODUCT (0.9418)]\n",
      "Span [6,7,8,9]: \"The Learning Tower ®\"   [− Labels: PRODUCT (0.8696)]\n",
      "Span [6,7,8]: \"The Learning Tower\"   [− Labels: PRODUCT (0.8962)]\n",
      "Span [6,7,8]: \"The Learning Tower\"   [− Labels: PRODUCT (0.7796)]\n",
      "Span [6,7,8]: \"The Learning Tower\"   [− Labels: PRODUCT (0.7586)]\n",
      "Span [1,2,3,4]: \"The Learning Tower ®\"   [− Labels: PRODUCT (0.8806)]\n",
      "Span [1,2,3]: \"The Learning Tower\"   [− Labels: PRODUCT (0.7823)]\n",
      "Span [6,7,8,9]: \"SeatGrow With Me Chair\"   [− Labels: PRODUCT (0.8941)]\n",
      "Span [3,4,5,6]: \"SeatGrow With Me Chair\"   [− Labels: PRODUCT (0.8858)]\n",
      "Span [3,4,5,6]: \"SeatGrow With Me Chair\"   [− Labels: PRODUCT (0.8794)]\n",
      "Span [4,5,6]: \"With Me Chair\"   [− Labels: PRODUCT (0.8429)]\n",
      "Span [1,2,3,4]: \"Grow With Me Chair\"   [− Labels: PRODUCT (0.7991)]\n",
      "Span [1,2,3,4]: \"Grow With Me Chair\"   [− Labels: PRODUCT (0.9659)]\n",
      "Span [3,4,5,6]: \"With Me Chair ®\"   [− Labels: PRODUCT (1.0)]\n",
      "Span [15,16,17,18,19]: \"Grow With Me Chair ®\"   [− Labels: PRODUCT (1.0)]\n",
      "Span [40,41,42,43,44]: \"Grow with Me Chair ®\"   [− Labels: PRODUCT (1.0)]\n",
      "Span [8,9,10,11,12,13]: \"the Grow with Me Chair ™\"   [− Labels: PRODUCT (1.0)]\n",
      "Span [36,37,38,39,40]: \"Grow with Me Chair ®\"   [− Labels: PRODUCT (1.0)]\n",
      "Span [8,9,10,11,12,13]: \"the Grow with Me Chair ™\"   [− Labels: PRODUCT (1.0)]\n"
     ]
    },
    {
     "data": {
      "application/vnd.jupyter.widget-view+json": {
       "model_id": "",
       "version_major": 2,
       "version_minor": 0
      },
      "text/plain": [
       "Sentences Progress:   0%|          | 0/4 [00:00<?, ?it/s]"
      ]
     },
     "metadata": {},
     "output_type": "display_data"
    },
    {
     "name": "stdout",
     "output_type": "stream",
     "text": [
      "Span [1,2,3,4,5]: \"Mid Century Record Storage Console\"   [− Labels: PRODUCT (0.9999)]\n",
      "Span [1,2,3,4,5]: \"Mid Century Record Storage Console\"   [− Labels: PRODUCT (0.9989)]\n"
     ]
    },
    {
     "data": {
      "application/vnd.jupyter.widget-view+json": {
       "model_id": "",
       "version_major": 2,
       "version_minor": 0
      },
      "text/plain": [
       "Sentences Progress:   0%|          | 0/3 [00:00<?, ?it/s]"
      ]
     },
     "metadata": {},
     "output_type": "display_data"
    },
    {
     "data": {
      "application/vnd.jupyter.widget-view+json": {
       "model_id": "",
       "version_major": 2,
       "version_minor": 0
      },
      "text/plain": [
       "Sentences Progress:   0%|          | 0/10 [00:00<?, ?it/s]"
      ]
     },
     "metadata": {},
     "output_type": "display_data"
    },
    {
     "data": {
      "application/vnd.jupyter.widget-view+json": {
       "model_id": "",
       "version_major": 2,
       "version_minor": 0
      },
      "text/plain": [
       "Sentences Progress:   0%|          | 0/24 [00:00<?, ?it/s]"
      ]
     },
     "metadata": {},
     "output_type": "display_data"
    },
    {
     "name": "stdout",
     "output_type": "stream",
     "text": [
      "Span [57,58]: \"MOSS SLIM\"   [− Labels: PRODUCT (0.7543)]\n",
      "Span [1,2,3,4]: \"MOSS Sofa Chaise Lounge\"   [− Labels: PRODUCT (0.8642)]\n",
      "Span [1,2,3,4]: \"MOSS Sofa Chaise Lounge\"   [− Labels: PRODUCT (0.9254)]\n",
      "Span [1,2,3,4]: \"MOSS Sofa Chaise Lounge\"   [− Labels: PRODUCT (0.919)]\n",
      "Span [1,2,3,4]: \"MOSS Sofa Chaise Lounge\"   [− Labels: PRODUCT (0.8639)]\n",
      "Span [1,2,3,4]: \"MOSS Sofa Chaise Lounge\"   [− Labels: PRODUCT (0.8712)]\n",
      "Span [1,2,3,4]: \"MOSS Sofa Chaise Lounge\"   [− Labels: PRODUCT (0.9148)]\n",
      "Span [1,2,3,4]: \"MOSS Sofa Chaise Lounge\"   [− Labels: PRODUCT (0.8571)]\n",
      "Span [1,2,3,4]: \"MOSS Sofa Chaise Lounge\"   [− Labels: PRODUCT (0.9276)]\n",
      "Span [1,2,3,4]: \"MOSS Sofa Chaise Lounge\"   [− Labels: PRODUCT (0.9095)]\n",
      "Span [2,3,4]: \"Sofa Chaise Lounge\"   [− Labels: PRODUCT (0.7996)]\n",
      "Span [2,3,4]: \"Sofa Chaise Lounge\"   [− Labels: PRODUCT (0.8403)]\n",
      "Span [2,3,4]: \"Sofa Chaise Lounge\"   [− Labels: PRODUCT (0.8405)]\n",
      "Span [15,16]: \"MOSS SLIM\"   [− Labels: PRODUCT (0.8301)]\n",
      "Span [24,25]: \"MOSS SLIM\"   [− Labels: PRODUCT (0.8962)]\n",
      "Span [3,4]: \"MOSS SLIM\"   [− Labels: PRODUCT (0.8687)]\n",
      "Span [9,10]: \"MOSS SLIM\"   [− Labels: PRODUCT (0.81)]\n",
      "Span [15,16]: \"MOSS SLIM\"   [− Labels: PRODUCT (0.8571)]\n",
      "Span [24,25]: \"MOSS SLIM\"   [− Labels: PRODUCT (0.9525)]\n",
      "Span [3,4]: \"MOSS SLIM\"   [− Labels: PRODUCT (0.92)]\n",
      "Span [9,10]: \"MOSS SLIM\"   [− Labels: PRODUCT (0.9603)]\n",
      "Span [15,16]: \"MOSS SLIM\"   [− Labels: PRODUCT (0.8511)]\n",
      "Span [24,25]: \"MOSS SLIM\"   [− Labels: PRODUCT (0.8938)]\n",
      "Span [1,2]: \"MOSS SLIM\"   [− Labels: PRODUCT (0.848)]\n",
      "Span [7,8]: \"MOSS SLIM\"   [− Labels: PRODUCT (0.7986)]\n",
      "Span [1,2,3]: \"MOSS SLIM Sofa\"   [− Labels: PRODUCT (0.7944)]\n",
      "Span [7,8,9]: \"MOSS SLIM Sofa\"   [− Labels: PRODUCT (0.7995)]\n",
      "Span [13,14]: \"MOSS SLIM\"   [− Labels: PRODUCT (0.7927)]\n",
      "Span [22,23]: \"MOSS SLIM\"   [− Labels: PRODUCT (0.9032)]\n",
      "Span [1,2]: \"MOSS SLIM\"   [− Labels: PRODUCT (0.9249)]\n",
      "Span [7,8]: \"MOSS SLIM\"   [− Labels: PRODUCT (0.936)]\n",
      "Span [22,23]: \"MOSS SLIM\"   [− Labels: PRODUCT (0.8795)]\n",
      "Span [1,2,3]: \"MOSS SLIM Sofa\"   [− Labels: PRODUCT (0.838)]\n",
      "Span [1,2]: \"MOSS SLIM\"   [− Labels: PRODUCT (0.9425)]\n",
      "Span [1,2,3]: \"MOSS SLIM Sofa\"   [− Labels: PRODUCT (0.8361)]\n",
      "Span [1,2,3]: \"MOSS SLIM Sofa\"   [− Labels: PRODUCT (0.888)]\n",
      "Span [1,2,3]: \"MOSS SLIM Sofa\"   [− Labels: PRODUCT (0.9485)]\n",
      "Span [1,2]: \"MOSS SLIM\"   [− Labels: PRODUCT (0.7917)]\n",
      "Span [1,2,3]: \"MOSS SLIM Sofa\"   [− Labels: PRODUCT (0.981)]\n",
      "Span [1,2,3]: \"MOSS SLIM Sofa\"   [− Labels: PRODUCT (0.9608)]\n",
      "Span [1,2,3]: \"MOSS SLIM Sofa\"   [− Labels: PRODUCT (0.9768)]\n",
      "Span [1,2,3]: \"MOSS SLIM Sofa\"   [− Labels: PRODUCT (0.956)]\n",
      "Span [1,2,3]: \"MOSS SLIM Sofa\"   [− Labels: PRODUCT (0.9281)]\n",
      "Span [1,2,3]: \"MOSS SLIM Sofa\"   [− Labels: PRODUCT (0.9819)]\n",
      "Span [1,2,3]: \"MOSS SLIM Sofa\"   [− Labels: PRODUCT (0.9876)]\n",
      "Span [1,2,3]: \"MOSS SLIM Sofa\"   [− Labels: PRODUCT (0.9708)]\n",
      "Span [1,2]: \"MOSS SLIM\"   [− Labels: PRODUCT (0.9911)]\n",
      "Span [1,2]: \"MOSS SLIM\"   [− Labels: PRODUCT (0.9935)]\n",
      "Span [1,2]: \"MOSS SLIM\"   [− Labels: PRODUCT (0.874)]\n",
      "Span [3,4,5]: \"Sofa Chaise Lounge\"   [− Labels: PRODUCT (0.8607)]\n",
      "Span [1,2]: \"MOSS SLIM\"   [− Labels: PRODUCT (0.9617)]\n",
      "Span [3,4,5]: \"Sofa Chaise Lounge\"   [− Labels: PRODUCT (0.8864)]\n",
      "Span [1,2]: \"MOSS SLIM\"   [− Labels: PRODUCT (0.9423)]\n",
      "Span [3,4,5]: \"Sofa Chaise Lounge\"   [− Labels: PRODUCT (0.8973)]\n",
      "Span [1,2,3,4,5]: \"MOSS SLIM Sofa Chaise Lounge\"   [− Labels: PRODUCT (0.8765)]\n",
      "Span [1,2,3,4,5]: \"MOSS SLIM Sofa Chaise Lounge\"   [− Labels: PRODUCT (0.8904)]\n",
      "Span [1,2]: \"MOSS SLIM\"   [− Labels: PRODUCT (0.9955)]\n",
      "Span [3,4,5]: \"Sofa Chaise Lounge\"   [− Labels: PRODUCT (0.8531)]\n",
      "Span [1,2,3,4,5]: \"MOSS SLIM Sofa Chaise Lounge\"   [− Labels: PRODUCT (0.9297)]\n",
      "Span [1,2,3,4,5]: \"MOSS SLIM Sofa Chaise Lounge\"   [− Labels: PRODUCT (0.9232)]\n",
      "Span [1,2,3,4,5]: \"MOSS SLIM Sofa Chaise Lounge\"   [− Labels: PRODUCT (0.9173)]\n",
      "Span [1,2]: \"MOSS SLIM\"   [− Labels: PRODUCT (0.9891)]\n",
      "Span [3,4,5]: \"Sofa Chaise Lounge\"   [− Labels: PRODUCT (0.8332)]\n",
      "Span [1,2,3,4,5]: \"MOSS SLIM Sofa Chaise Lounge\"   [− Labels: PRODUCT (0.8902)]\n",
      "Span [1,2,3,4,5]: \"MOSS SLIM Sofa Chaise Lounge\"   [− Labels: PRODUCT (0.9803)]\n",
      "Span [1,2]: \"MOSS Footstool\"   [− Labels: PRODUCT (0.8725)]\n",
      "Span [4,5]: \"3 Seater\"   [− Labels: PRODUCT (0.7531)]\n",
      "Span [8,9,10,11]: \"Cosmo Sofa 2 Seater\"   [− Labels: PRODUCT (0.7555)]\n",
      "Span [8,9,10,11]: \"Cosmo Sofa 2 Seater\"   [− Labels: PRODUCT (0.8204)]\n",
      "Span [8,9,10,11]: \"Cosmo Sofa 2 Seater\"   [− Labels: PRODUCT (0.8076)]\n",
      "Span [2,3,4,5]: \"Cosmo Sofa 3 Seater\"   [− Labels: PRODUCT (0.8409)]\n",
      "Span [8,9,10,11]: \"Cosmo Sofa 2 Seater\"   [− Labels: PRODUCT (0.9371)]\n",
      "Span [1,2,3,4]: \"Cosmo Sofa 3 Seater\"   [− Labels: PRODUCT (0.9617)]\n",
      "Span [7,8,9,10]: \"Cosmo Sofa 2 Seater\"   [− Labels: PRODUCT (0.9818)]\n",
      "Span [1,2,3,4]: \"Cosmo Sofa 3 Seater\"   [− Labels: PRODUCT (0.9929)]\n",
      "Span [7,8,9,10]: \"Cosmo Sofa 2 Seater\"   [− Labels: PRODUCT (0.9958)]\n",
      "Span [1,2,3,4]: \"Cosmo Sofa 3 Seater\"   [− Labels: PRODUCT (0.977)]\n",
      "Span [7,8,9,10]: \"Cosmo Sofa 2 Seater\"   [− Labels: PRODUCT (0.9841)]\n",
      "Span [1,2,3,4]: \"Cosmo Sofa 3 Seater\"   [− Labels: PRODUCT (0.9688)]\n",
      "Span [1,2,3,4]: \"Cosmo Sofa 3 Seater\"   [− Labels: PRODUCT (0.9333)]\n",
      "Span [1,2,3,4]: \"Cosmo Sofa 3 Seater\"   [− Labels: PRODUCT (0.9522)]\n",
      "Span [1,2,3,4]: \"Cosmo Sofa 3 Seater\"   [− Labels: PRODUCT (0.9722)]\n",
      "Span [1,2,3,4]: \"Cosmo Sofa 3 Seater\"   [− Labels: PRODUCT (0.9431)]\n",
      "Span [1,2,3,4]: \"Cosmo Sofa 3 Seater\"   [− Labels: PRODUCT (0.9812)]\n",
      "Span [1,2,3,4]: \"Cosmo Sofa 3 Seater\"   [− Labels: PRODUCT (0.9483)]\n",
      "Span [1,2,3,4]: \"Cosmo Sofa 2 Seater\"   [− Labels: PRODUCT (0.9932)]\n",
      "Span [1,2,3,4]: \"Cosmo Sofa 2 Seater\"   [− Labels: PRODUCT (0.9969)]\n",
      "Span [1,2,3,4]: \"Cosmo Sofa 2 Seater\"   [− Labels: PRODUCT (0.9961)]\n",
      "Span [1,2,3,4]: \"Cosmo Sofa 2 Seater\"   [− Labels: PRODUCT (0.9958)]\n",
      "Span [1,2,3,4]: \"Cosmo Sofa 2 Seater\"   [− Labels: PRODUCT (0.9955)]\n",
      "Span [1,2,3,4]: \"Cosmo Sofa 2 Seater\"   [− Labels: PRODUCT (0.9958)]\n",
      "Span [1,2,3,4]: \"Cosmo Sofa 2 Seater\"   [− Labels: PRODUCT (0.9981)]\n"
     ]
    },
    {
     "data": {
      "application/vnd.jupyter.widget-view+json": {
       "model_id": "",
       "version_major": 2,
       "version_minor": 0
      },
      "text/plain": [
       "Sentences Progress:   0%|          | 0/10 [00:00<?, ?it/s]"
      ]
     },
     "metadata": {},
     "output_type": "display_data"
    },
    {
     "name": "stdout",
     "output_type": "stream",
     "text": [
      "Span [45,46,47]: \"The Bayswater Armchair\"   [− Labels: PRODUCT (0.9995)]\n",
      "Span [56,57]: \"Bayswater Armchair\"   [− Labels: PRODUCT (0.9997)]\n",
      "Span [16]: \"Bridgewater’\"   [− Labels: PRODUCT (1.0)]\n",
      "Span [7]: \"Bayswater\"   [− Labels: PRODUCT (1.0)]\n",
      "Span [6]: \"Langton\"   [− Labels: PRODUCT (0.9996)]\n",
      "Span [11]: \"Kingston\"   [− Labels: PRODUCT (0.9994)]\n",
      "Span [16]: \"Elmstead\"   [− Labels: PRODUCT (0.9979)]\n",
      "Span [21]: \"Elmstead\"   [− Labels: PRODUCT (0.9181)]\n",
      "Span [22,23,24]: \"Down Back Armchair\"   [− Labels: PRODUCT (0.7657)]\n",
      "Span [4,5,6]: \"The Bayswater Armchair\"   [− Labels: PRODUCT (0.9999)]\n",
      "Span [15,16]: \"Bayswater Armchair\"   [− Labels: PRODUCT (0.9891)]\n",
      "Span [16]: \"Bridgewater’\"   [− Labels: PRODUCT (0.9999)]\n",
      "Span [7]: \"Bayswater\"   [− Labels: PRODUCT (1.0)]\n"
     ]
    },
    {
     "data": {
      "application/vnd.jupyter.widget-view+json": {
       "model_id": "",
       "version_major": 2,
       "version_minor": 0
      },
      "text/plain": [
       "Sentences Progress:   0%|          | 0/28 [00:00<?, ?it/s]"
      ]
     },
     "metadata": {},
     "output_type": "display_data"
    },
    {
     "data": {
      "application/vnd.jupyter.widget-view+json": {
       "model_id": "",
       "version_major": 2,
       "version_minor": 0
      },
      "text/plain": [
       "Sentences Progress:   0%|          | 0/2 [00:00<?, ?it/s]"
      ]
     },
     "metadata": {},
     "output_type": "display_data"
    },
    {
     "data": {
      "application/vnd.jupyter.widget-view+json": {
       "model_id": "",
       "version_major": 2,
       "version_minor": 0
      },
      "text/plain": [
       "Sentences Progress:   0%|          | 0/7 [00:00<?, ?it/s]"
      ]
     },
     "metadata": {},
     "output_type": "display_data"
    },
    {
     "data": {
      "application/vnd.jupyter.widget-view+json": {
       "model_id": "",
       "version_major": 2,
       "version_minor": 0
      },
      "text/plain": [
       "Sentences Progress:   0%|          | 0/8 [00:00<?, ?it/s]"
      ]
     },
     "metadata": {},
     "output_type": "display_data"
    },
    {
     "data": {
      "application/vnd.jupyter.widget-view+json": {
       "model_id": "",
       "version_major": 2,
       "version_minor": 0
      },
      "text/plain": [
       "Sentences Progress:   0%|          | 0/8 [00:00<?, ?it/s]"
      ]
     },
     "metadata": {},
     "output_type": "display_data"
    },
    {
     "data": {
      "application/vnd.jupyter.widget-view+json": {
       "model_id": "",
       "version_major": 2,
       "version_minor": 0
      },
      "text/plain": [
       "Sentences Progress:   0%|          | 0/12 [00:00<?, ?it/s]"
      ]
     },
     "metadata": {},
     "output_type": "display_data"
    },
    {
     "name": "stdout",
     "output_type": "stream",
     "text": [
      "Span [45,46]: \"ST-DESK and\"   [− Labels: PRODUCT (0.971)]\n",
      "Span [2,3,4]: \"ST-DESK / TABLE\"   [− Labels: PRODUCT (0.9968)]\n",
      "Span [7,8,9,10]: \"ST-DESK and TABLE series\"   [− Labels: PRODUCT (0.8582)]\n",
      "Span [2,3,4]: \"ST-DESK / TABLE\"   [− Labels: PRODUCT (0.996)]\n",
      "Span [7,8,9,10]: \"ST-DESK and TABLE series\"   [− Labels: PRODUCT (0.9993)]\n",
      "Span [2,3,4]: \"ST-DESK / TABLE\"   [− Labels: PRODUCT (0.9996)]\n",
      "Span [7,8,9,10]: \"ST-DESK and TABLE series\"   [− Labels: PRODUCT (0.9998)]\n",
      "Span [2,3,4]: \"ST-DESK / TABLE\"   [− Labels: PRODUCT (0.9995)]\n",
      "Span [7,8,9,10]: \"ST-DESK and TABLE series\"   [− Labels: PRODUCT (0.9997)]\n",
      "Span [2,3,4]: \"ST-DESK / TABLE\"   [− Labels: PRODUCT (0.996)]\n",
      "Span [7,8,9,10]: \"ST-DESK and TABLE series\"   [− Labels: PRODUCT (0.9993)]\n",
      "Span [2,3,4]: \"ST-DESK / TABLE\"   [− Labels: PRODUCT (0.9996)]\n",
      "Span [7,8,9,10]: \"ST-DESK and TABLE series\"   [− Labels: PRODUCT (0.9998)]\n",
      "Span [2,3,4]: \"ST-DESK / TABLE\"   [− Labels: PRODUCT (0.9995)]\n",
      "Span [7,8,9,10]: \"ST-DESK and TABLE series\"   [− Labels: PRODUCT (0.9997)]\n",
      "Span [7,8,9,10]: \"ST-DESK and TABLE series\"   [− Labels: PRODUCT (0.9962)]\n",
      "Span [2,3,4]: \"ST-DESK / TABLE\"   [− Labels: PRODUCT (0.9897)]\n",
      "Span [7,8,9,10]: \"ST-DESK and TABLE series\"   [− Labels: PRODUCT (0.9993)]\n",
      "Span [7,8,9,10]: \"ST-DESK and TABLE series\"   [− Labels: PRODUCT (0.9987)]\n",
      "Span [2,3,4]: \"ST-DESK / TABLE\"   [− Labels: PRODUCT (0.9975)]\n",
      "Span [7,8,9,10]: \"ST-DESK and TABLE series\"   [− Labels: PRODUCT (0.9995)]\n",
      "Span [2,3,4]: \"ST-DESK / TABLE\"   [− Labels: PRODUCT (0.9945)]\n",
      "Span [7,8,9,10]: \"ST-DESK and TABLE series\"   [− Labels: PRODUCT (0.9995)]\n"
     ]
    },
    {
     "data": {
      "application/vnd.jupyter.widget-view+json": {
       "model_id": "",
       "version_major": 2,
       "version_minor": 0
      },
      "text/plain": [
       "Sentences Progress:   0%|          | 0/8 [00:00<?, ?it/s]"
      ]
     },
     "metadata": {},
     "output_type": "display_data"
    },
    {
     "data": {
      "application/vnd.jupyter.widget-view+json": {
       "model_id": "",
       "version_major": 2,
       "version_minor": 0
      },
      "text/plain": [
       "Sentences Progress:   0%|          | 0/26 [00:00<?, ?it/s]"
      ]
     },
     "metadata": {},
     "output_type": "display_data"
    },
    {
     "name": "stdout",
     "output_type": "stream",
     "text": [
      "Span [2,3,4]: \"Click & Collect\"   [− Labels: PRODUCT (0.9333)]\n"
     ]
    },
    {
     "data": {
      "application/vnd.jupyter.widget-view+json": {
       "model_id": "",
       "version_major": 2,
       "version_minor": 0
      },
      "text/plain": [
       "Sentences Progress:   0%|          | 0/11 [00:00<?, ?it/s]"
      ]
     },
     "metadata": {},
     "output_type": "display_data"
    },
    {
     "data": {
      "application/vnd.jupyter.widget-view+json": {
       "model_id": "",
       "version_major": 2,
       "version_minor": 0
      },
      "text/plain": [
       "Sentences Progress:   0%|          | 0/2 [00:00<?, ?it/s]"
      ]
     },
     "metadata": {},
     "output_type": "display_data"
    },
    {
     "name": "stdout",
     "output_type": "stream",
     "text": [
      "Span [1]: \"Baywood\"   [− Labels: PRODUCT (0.8363)]\n"
     ]
    },
    {
     "data": {
      "application/vnd.jupyter.widget-view+json": {
       "model_id": "",
       "version_major": 2,
       "version_minor": 0
      },
      "text/plain": [
       "Sentences Progress:   0%|          | 0/9 [00:00<?, ?it/s]"
      ]
     },
     "metadata": {},
     "output_type": "display_data"
    },
    {
     "data": {
      "application/vnd.jupyter.widget-view+json": {
       "model_id": "",
       "version_major": 2,
       "version_minor": 0
      },
      "text/plain": [
       "Sentences Progress:   0%|          | 0/10 [00:00<?, ?it/s]"
      ]
     },
     "metadata": {},
     "output_type": "display_data"
    },
    {
     "name": "stdout",
     "output_type": "stream",
     "text": [
      "Span [34]: \"TR95002\"   [− Labels: PRODUCT (0.8846)]\n",
      "Span [54]: \"TR10001\"   [− Labels: PRODUCT (0.9266)]\n",
      "Span [61,62,63,64,65]: \"OHMM ® Summer Light Collection\"   [− Labels: PRODUCT (0.8284)]\n",
      "Span [66]: \"TR20005\"   [− Labels: PRODUCT (0.9857)]\n",
      "Span [67,68]: \"Wishbone Chair\"   [− Labels: PRODUCT (0.9951)]\n"
     ]
    },
    {
     "data": {
      "application/vnd.jupyter.widget-view+json": {
       "model_id": "",
       "version_major": 2,
       "version_minor": 0
      },
      "text/plain": [
       "Sentences Progress:   0%|          | 0/43 [00:00<?, ?it/s]"
      ]
     },
     "metadata": {},
     "output_type": "display_data"
    },
    {
     "data": {
      "application/vnd.jupyter.widget-view+json": {
       "model_id": "",
       "version_major": 2,
       "version_minor": 0
      },
      "text/plain": [
       "Sentences Progress:   0%|          | 0/8 [00:00<?, ?it/s]"
      ]
     },
     "metadata": {},
     "output_type": "display_data"
    },
    {
     "data": {
      "application/vnd.jupyter.widget-view+json": {
       "model_id": "",
       "version_major": 2,
       "version_minor": 0
      },
      "text/plain": [
       "Sentences Progress:   0%|          | 0/3 [00:00<?, ?it/s]"
      ]
     },
     "metadata": {},
     "output_type": "display_data"
    },
    {
     "data": {
      "application/vnd.jupyter.widget-view+json": {
       "model_id": "",
       "version_major": 2,
       "version_minor": 0
      },
      "text/plain": [
       "Sentences Progress:   0%|          | 0/18 [00:00<?, ?it/s]"
      ]
     },
     "metadata": {},
     "output_type": "display_data"
    },
    {
     "name": "stdout",
     "output_type": "stream",
     "text": [
      "Span [2,3,4,5]: \"Round Marble Bar Stool\"   [− Labels: PRODUCT (0.9952)]\n",
      "Span [10,11,12,13]: \"Round Marble Bar Stool\"   [− Labels: PRODUCT (0.9976)]\n",
      "Span [87,88,89,90]: \"The Pillar Side Table\"   [− Labels: PRODUCT (0.9997)]\n",
      "Span [101,102,103,104]: \"The Pillar Dining T\"   [− Labels: PRODUCT (0.9986)]\n",
      "Span [2,3,4,5]: \"Round Marble Bar Stool\"   [− Labels: PRODUCT (0.9752)]\n",
      "Span [10,11,12,13]: \"Round Marble Bar Stool\"   [− Labels: PRODUCT (0.9996)]\n",
      "Span [87,88,89,90]: \"The Pillar Side Table\"   [− Labels: PRODUCT (0.9998)]\n",
      "Span [101,102,103,104]: \"The Pillar Dining T\"   [− Labels: PRODUCT (0.999)]\n",
      "Span [2,3,4,5]: \"Round Marble Bar Stool\"   [− Labels: PRODUCT (0.9752)]\n",
      "Span [2,3,4,5]: \"Round Marble Bar Stool\"   [− Labels: PRODUCT (0.946)]\n",
      "Span [2,3,4,5]: \"Round Marble Bar Stool\"   [− Labels: PRODUCT (0.9975)]\n",
      "Span [10,11,12,13]: \"Round Marble Bar Stool\"   [− Labels: PRODUCT (0.9982)]\n",
      "Span [87,88,89,90]: \"The Pillar Side Table\"   [− Labels: PRODUCT (0.9888)]\n",
      "Span [101,102,103,104]: \"The Pillar Dining T\"   [− Labels: PRODUCT (0.9234)]\n",
      "Span [2,3,4,5]: \"Round Marble Bar Stool\"   [− Labels: PRODUCT (0.9752)]\n"
     ]
    },
    {
     "data": {
      "application/vnd.jupyter.widget-view+json": {
       "model_id": "",
       "version_major": 2,
       "version_minor": 0
      },
      "text/plain": [
       "Sentences Progress:   0%|          | 0/8 [00:00<?, ?it/s]"
      ]
     },
     "metadata": {},
     "output_type": "display_data"
    },
    {
     "data": {
      "application/vnd.jupyter.widget-view+json": {
       "model_id": "",
       "version_major": 2,
       "version_minor": 0
      },
      "text/plain": [
       "Sentences Progress:   0%|          | 0/5 [00:00<?, ?it/s]"
      ]
     },
     "metadata": {},
     "output_type": "display_data"
    },
    {
     "data": {
      "application/vnd.jupyter.widget-view+json": {
       "model_id": "",
       "version_major": 2,
       "version_minor": 0
      },
      "text/plain": [
       "Sentences Progress:   0%|          | 0/4 [00:00<?, ?it/s]"
      ]
     },
     "metadata": {},
     "output_type": "display_data"
    },
    {
     "data": {
      "application/vnd.jupyter.widget-view+json": {
       "model_id": "",
       "version_major": 2,
       "version_minor": 0
      },
      "text/plain": [
       "Sentences Progress:   0%|          | 0/1 [00:00<?, ?it/s]"
      ]
     },
     "metadata": {},
     "output_type": "display_data"
    },
    {
     "data": {
      "application/vnd.jupyter.widget-view+json": {
       "model_id": "",
       "version_major": 2,
       "version_minor": 0
      },
      "text/plain": [
       "Sentences Progress:   0%|          | 0/19 [00:00<?, ?it/s]"
      ]
     },
     "metadata": {},
     "output_type": "display_data"
    },
    {
     "name": "stdout",
     "output_type": "stream",
     "text": [
      "Span [15,16]: \"Modern Komfort\"   [− Labels: PRODUCT (0.8086)]\n",
      "Span [13]: \"Colburne\"   [− Labels: PRODUCT (0.9063)]\n",
      "Span [47]: \"Classic\"   [− Labels: PRODUCT (0.7698)]\n",
      "Span [57]: \"Classic\"   [− Labels: PRODUCT (0.7561)]\n",
      "Span [79]: \"Classic\"   [− Labels: PRODUCT (0.9308)]\n"
     ]
    },
    {
     "data": {
      "application/vnd.jupyter.widget-view+json": {
       "model_id": "",
       "version_major": 2,
       "version_minor": 0
      },
      "text/plain": [
       "Sentences Progress:   0%|          | 0/19 [00:00<?, ?it/s]"
      ]
     },
     "metadata": {},
     "output_type": "display_data"
    },
    {
     "name": "stdout",
     "output_type": "stream",
     "text": [
      "Span [1,2]: \"Pony chair\"   [− Labels: PRODUCT (0.8106)]\n"
     ]
    },
    {
     "data": {
      "application/vnd.jupyter.widget-view+json": {
       "model_id": "",
       "version_major": 2,
       "version_minor": 0
      },
      "text/plain": [
       "Sentences Progress:   0%|          | 0/4 [00:00<?, ?it/s]"
      ]
     },
     "metadata": {},
     "output_type": "display_data"
    },
    {
     "data": {
      "application/vnd.jupyter.widget-view+json": {
       "model_id": "",
       "version_major": 2,
       "version_minor": 0
      },
      "text/plain": [
       "Sentences Progress:   0%|          | 0/5 [00:00<?, ?it/s]"
      ]
     },
     "metadata": {},
     "output_type": "display_data"
    },
    {
     "data": {
      "application/vnd.jupyter.widget-view+json": {
       "model_id": "",
       "version_major": 2,
       "version_minor": 0
      },
      "text/plain": [
       "Sentences Progress:   0%|          | 0/10 [00:00<?, ?it/s]"
      ]
     },
     "metadata": {},
     "output_type": "display_data"
    },
    {
     "data": {
      "application/vnd.jupyter.widget-view+json": {
       "model_id": "",
       "version_major": 2,
       "version_minor": 0
      },
      "text/plain": [
       "Sentences Progress:   0%|          | 0/10 [00:00<?, ?it/s]"
      ]
     },
     "metadata": {},
     "output_type": "display_data"
    },
    {
     "data": {
      "application/vnd.jupyter.widget-view+json": {
       "model_id": "",
       "version_major": 2,
       "version_minor": 0
      },
      "text/plain": [
       "Sentences Progress:   0%|          | 0/6 [00:00<?, ?it/s]"
      ]
     },
     "metadata": {},
     "output_type": "display_data"
    },
    {
     "data": {
      "application/vnd.jupyter.widget-view+json": {
       "model_id": "",
       "version_major": 2,
       "version_minor": 0
      },
      "text/plain": [
       "Sentences Progress:   0%|          | 0/11 [00:00<?, ?it/s]"
      ]
     },
     "metadata": {},
     "output_type": "display_data"
    },
    {
     "data": {
      "application/vnd.jupyter.widget-view+json": {
       "model_id": "",
       "version_major": 2,
       "version_minor": 0
      },
      "text/plain": [
       "Sentences Progress:   0%|          | 0/14 [00:00<?, ?it/s]"
      ]
     },
     "metadata": {},
     "output_type": "display_data"
    },
    {
     "name": "stdout",
     "output_type": "stream",
     "text": [
      "Span [10]: \"Richmond\"   [− Labels: PRODUCT (0.7866)]\n"
     ]
    },
    {
     "data": {
      "application/vnd.jupyter.widget-view+json": {
       "model_id": "",
       "version_major": 2,
       "version_minor": 0
      },
      "text/plain": [
       "Sentences Progress:   0%|          | 0/4 [00:00<?, ?it/s]"
      ]
     },
     "metadata": {},
     "output_type": "display_data"
    },
    {
     "name": "stdout",
     "output_type": "stream",
     "text": [
      "Span [14,15]: \"Plume Wallpaper\"   [− Labels: PRODUCT (0.981)]\n",
      "Span [54,55,56]: \"The Plume Wallpaper\"   [− Labels: PRODUCT (0.9988)]\n",
      "Span [41,42,43]: \"The Plume Wallpaper\"   [− Labels: PRODUCT (0.9396)]\n"
     ]
    },
    {
     "data": {
      "application/vnd.jupyter.widget-view+json": {
       "model_id": "",
       "version_major": 2,
       "version_minor": 0
      },
      "text/plain": [
       "Sentences Progress:   0%|          | 0/1 [00:00<?, ?it/s]"
      ]
     },
     "metadata": {},
     "output_type": "display_data"
    },
    {
     "data": {
      "application/vnd.jupyter.widget-view+json": {
       "model_id": "",
       "version_major": 2,
       "version_minor": 0
      },
      "text/plain": [
       "Sentences Progress:   0%|          | 0/5 [00:00<?, ?it/s]"
      ]
     },
     "metadata": {},
     "output_type": "display_data"
    },
    {
     "data": {
      "application/vnd.jupyter.widget-view+json": {
       "model_id": "",
       "version_major": 2,
       "version_minor": 0
      },
      "text/plain": [
       "Sentences Progress:   0%|          | 0/1 [00:00<?, ?it/s]"
      ]
     },
     "metadata": {},
     "output_type": "display_data"
    },
    {
     "data": {
      "application/vnd.jupyter.widget-view+json": {
       "model_id": "",
       "version_major": 2,
       "version_minor": 0
      },
      "text/plain": [
       "Sentences Progress:   0%|          | 0/39 [00:00<?, ?it/s]"
      ]
     },
     "metadata": {},
     "output_type": "display_data"
    },
    {
     "name": "stdout",
     "output_type": "stream",
     "text": [
      "Span [3]: \"FD-3051T\"   [− Labels: PRODUCT (0.9959)]\n"
     ]
    },
    {
     "data": {
      "application/vnd.jupyter.widget-view+json": {
       "model_id": "",
       "version_major": 2,
       "version_minor": 0
      },
      "text/plain": [
       "Sentences Progress:   0%|          | 0/8 [00:00<?, ?it/s]"
      ]
     },
     "metadata": {},
     "output_type": "display_data"
    },
    {
     "data": {
      "application/vnd.jupyter.widget-view+json": {
       "model_id": "",
       "version_major": 2,
       "version_minor": 0
      },
      "text/plain": [
       "Sentences Progress:   0%|          | 0/12 [00:00<?, ?it/s]"
      ]
     },
     "metadata": {},
     "output_type": "display_data"
    },
    {
     "data": {
      "application/vnd.jupyter.widget-view+json": {
       "model_id": "",
       "version_major": 2,
       "version_minor": 0
      },
      "text/plain": [
       "Sentences Progress:   0%|          | 0/10 [00:00<?, ?it/s]"
      ]
     },
     "metadata": {},
     "output_type": "display_data"
    },
    {
     "data": {
      "application/vnd.jupyter.widget-view+json": {
       "model_id": "",
       "version_major": 2,
       "version_minor": 0
      },
      "text/plain": [
       "Sentences Progress:   0%|          | 0/16 [00:00<?, ?it/s]"
      ]
     },
     "metadata": {},
     "output_type": "display_data"
    },
    {
     "data": {
      "application/vnd.jupyter.widget-view+json": {
       "model_id": "",
       "version_major": 2,
       "version_minor": 0
      },
      "text/plain": [
       "Sentences Progress:   0%|          | 0/1 [00:00<?, ?it/s]"
      ]
     },
     "metadata": {},
     "output_type": "display_data"
    },
    {
     "data": {
      "application/vnd.jupyter.widget-view+json": {
       "model_id": "",
       "version_major": 2,
       "version_minor": 0
      },
      "text/plain": [
       "Sentences Progress:   0%|          | 0/22 [00:00<?, ?it/s]"
      ]
     },
     "metadata": {},
     "output_type": "display_data"
    },
    {
     "data": {
      "application/vnd.jupyter.widget-view+json": {
       "model_id": "",
       "version_major": 2,
       "version_minor": 0
      },
      "text/plain": [
       "Sentences Progress:   0%|          | 0/4 [00:00<?, ?it/s]"
      ]
     },
     "metadata": {},
     "output_type": "display_data"
    },
    {
     "data": {
      "application/vnd.jupyter.widget-view+json": {
       "model_id": "",
       "version_major": 2,
       "version_minor": 0
      },
      "text/plain": [
       "Sentences Progress:   0%|          | 0/11 [00:00<?, ?it/s]"
      ]
     },
     "metadata": {},
     "output_type": "display_data"
    },
    {
     "data": {
      "application/vnd.jupyter.widget-view+json": {
       "model_id": "",
       "version_major": 2,
       "version_minor": 0
      },
      "text/plain": [
       "Sentences Progress:   0%|          | 0/7 [00:00<?, ?it/s]"
      ]
     },
     "metadata": {},
     "output_type": "display_data"
    },
    {
     "data": {
      "application/vnd.jupyter.widget-view+json": {
       "model_id": "",
       "version_major": 2,
       "version_minor": 0
      },
      "text/plain": [
       "Sentences Progress:   0%|          | 0/8 [00:00<?, ?it/s]"
      ]
     },
     "metadata": {},
     "output_type": "display_data"
    },
    {
     "data": {
      "application/vnd.jupyter.widget-view+json": {
       "model_id": "",
       "version_major": 2,
       "version_minor": 0
      },
      "text/plain": [
       "Sentences Progress:   0%|          | 0/12 [00:00<?, ?it/s]"
      ]
     },
     "metadata": {},
     "output_type": "display_data"
    },
    {
     "data": {
      "application/vnd.jupyter.widget-view+json": {
       "model_id": "",
       "version_major": 2,
       "version_minor": 0
      },
      "text/plain": [
       "Sentences Progress:   0%|          | 0/20 [00:00<?, ?it/s]"
      ]
     },
     "metadata": {},
     "output_type": "display_data"
    },
    {
     "data": {
      "application/vnd.jupyter.widget-view+json": {
       "model_id": "",
       "version_major": 2,
       "version_minor": 0
      },
      "text/plain": [
       "Sentences Progress:   0%|          | 0/19 [00:00<?, ?it/s]"
      ]
     },
     "metadata": {},
     "output_type": "display_data"
    },
    {
     "name": "stdout",
     "output_type": "stream",
     "text": [
      "Span [12,13]: \"Dryden Chair\"   [− Labels: PRODUCT (0.9998)]\n",
      "Span [23,24]: \"Metro Chair\"   [− Labels: PRODUCT (0.9895)]\n",
      "Span [58,59]: \"Dryden Chair\"   [− Labels: PRODUCT (0.9993)]\n",
      "Span [69,70]: \"Metro Chair\"   [− Labels: PRODUCT (0.9966)]\n",
      "Span [12,13]: \"Dryden Chair\"   [− Labels: PRODUCT (0.9999)]\n",
      "Span [18,19,20]: \"High Powered Chair\"   [− Labels: PRODUCT (0.9949)]\n",
      "Span [23,24]: \"Metro Chair\"   [− Labels: PRODUCT (0.9996)]\n",
      "Span [58,59]: \"Dryden Chair\"   [− Labels: PRODUCT (0.9999)]\n",
      "Span [64,65,66]: \"High Powered Chair\"   [− Labels: PRODUCT (0.9993)]\n",
      "Span [69,70]: \"Metro Chair\"   [− Labels: PRODUCT (0.9998)]\n",
      "Span [12,13]: \"Dryden Chair\"   [− Labels: PRODUCT (0.9999)]\n",
      "Span [18,19,20]: \"High Powered Chair\"   [− Labels: PRODUCT (0.9996)]\n",
      "Span [23,24]: \"Metro Chair\"   [− Labels: PRODUCT (0.9999)]\n",
      "Span [58,59]: \"Dryden Chair\"   [− Labels: PRODUCT (0.9999)]\n",
      "Span [64,65,66]: \"High Powered Chair\"   [− Labels: PRODUCT (0.9994)]\n",
      "Span [69,70]: \"Metro Chair\"   [− Labels: PRODUCT (0.9999)]\n",
      "Span [12,13]: \"Dryden Chair\"   [− Labels: PRODUCT (0.9999)]\n",
      "Span [18,19,20]: \"High Powered Chair\"   [− Labels: PRODUCT (0.9981)]\n",
      "Span [23,24]: \"Metro Chair\"   [− Labels: PRODUCT (0.9996)]\n",
      "Span [58,59]: \"Dryden Chair\"   [− Labels: PRODUCT (0.9999)]\n",
      "Span [64,65,66]: \"High Powered Chair\"   [− Labels: PRODUCT (0.9995)]\n",
      "Span [69,70]: \"Metro Chair\"   [− Labels: PRODUCT (0.9998)]\n",
      "Span [12,13]: \"Dryden Chair\"   [− Labels: PRODUCT (0.9999)]\n",
      "Span [18,19,20]: \"High Powered Chair\"   [− Labels: PRODUCT (0.9985)]\n",
      "Span [23,24]: \"Metro Chair\"   [− Labels: PRODUCT (0.9997)]\n",
      "Span [12,13]: \"Dryden Chair\"   [− Labels: PRODUCT (0.9999)]\n",
      "Span [18,19,20]: \"High Powered Chair\"   [− Labels: PRODUCT (0.9994)]\n",
      "Span [23,24]: \"Metro Chair\"   [− Labels: PRODUCT (0.9999)]\n",
      "Span [12,13]: \"Dryden Chair\"   [− Labels: PRODUCT (0.9999)]\n",
      "Span [18,19,20]: \"High Powered Chair\"   [− Labels: PRODUCT (0.9997)]\n",
      "Span [23,24]: \"Metro Chair\"   [− Labels: PRODUCT (0.9998)]\n",
      "Span [12,13]: \"Dryden Chair\"   [− Labels: PRODUCT (0.9998)]\n",
      "Span [18,19,20]: \"High Powered Chair\"   [− Labels: PRODUCT (0.9995)]\n",
      "Span [23,24]: \"Metro Chair\"   [− Labels: PRODUCT (0.9999)]\n",
      "Span [12,13]: \"Dryden Chair\"   [− Labels: PRODUCT (0.9998)]\n",
      "Span [18,19,20]: \"High Powered Chair\"   [− Labels: PRODUCT (0.9995)]\n",
      "Span [23,24]: \"Metro Chair\"   [− Labels: PRODUCT (0.9999)]\n",
      "Span [12,13]: \"Dryden Chair\"   [− Labels: PRODUCT (0.9999)]\n",
      "Span [18,19,20]: \"High Powered Chair\"   [− Labels: PRODUCT (0.9995)]\n",
      "Span [23,24]: \"Metro Chair\"   [− Labels: PRODUCT (0.9999)]\n",
      "Span [12,13]: \"Dryden Chair\"   [− Labels: PRODUCT (0.9999)]\n",
      "Span [18,19,20]: \"High Powered Chair\"   [− Labels: PRODUCT (0.9991)]\n",
      "Span [23,24]: \"Metro Chair\"   [− Labels: PRODUCT (0.9999)]\n",
      "Span [12,13]: \"Dryden Chair\"   [− Labels: PRODUCT (0.9999)]\n",
      "Span [18,19,20]: \"High Powered Chair\"   [− Labels: PRODUCT (0.9997)]\n",
      "Span [23,24]: \"Metro Chair\"   [− Labels: PRODUCT (0.9999)]\n",
      "Span [4,5]: \"Dryden Chair\"   [− Labels: PRODUCT (0.9999)]\n",
      "Span [10,11,12]: \"High Powered Chair\"   [− Labels: PRODUCT (0.9995)]\n",
      "Span [15,16]: \"Metro Chair\"   [− Labels: PRODUCT (0.9998)]\n",
      "Span [2,3]: \"Dryden Chair\"   [− Labels: PRODUCT (0.9999)]\n",
      "Span [8,9,10]: \"High Powered Chair\"   [− Labels: PRODUCT (0.9994)]\n",
      "Span [13,14]: \"Metro Chair\"   [− Labels: PRODUCT (0.9997)]\n",
      "Span [2,3]: \"Dryden Chair\"   [− Labels: PRODUCT (0.9999)]\n",
      "Span [8,9,10]: \"High Powered Chair\"   [− Labels: PRODUCT (0.9988)]\n",
      "Span [13,14]: \"Metro Chair\"   [− Labels: PRODUCT (0.9998)]\n",
      "Span [2,3]: \"Dryden Chair\"   [− Labels: PRODUCT (0.9999)]\n",
      "Span [2,3]: \"Dryden Chair\"   [− Labels: PRODUCT (0.9999)]\n",
      "Span [2,3]: \"Dryden Chair\"   [− Labels: PRODUCT (0.9999)]\n",
      "Span [1,2]: \"Dryden Chair\"   [− Labels: PRODUCT (1.0)]\n",
      "Span [1,2]: \"Dryden Chair\"   [− Labels: PRODUCT (0.9362)]\n",
      "Span [1,2]: \"Dryden Chair\"   [− Labels: PRODUCT (0.9965)]\n",
      "Span [1,2,3]: \"High Powered Chair\"   [− Labels: PRODUCT (0.9792)]\n",
      "Span [1,2,3]: \"High Powered Chair\"   [− Labels: PRODUCT (0.9972)]\n",
      "Span [1,2,3]: \"High Powered Chair\"   [− Labels: PRODUCT (0.9966)]\n",
      "Span [1,2,3]: \"High Powered Chair\"   [− Labels: PRODUCT (0.9972)]\n",
      "Span [1,2,3]: \"High Powered Chair\"   [− Labels: PRODUCT (0.9909)]\n",
      "Span [1,2,3]: \"High Powered Chair\"   [− Labels: PRODUCT (0.9401)]\n",
      "Span [1,2]: \"Metro Chair\"   [− Labels: PRODUCT (0.9999)]\n",
      "Span [1,2]: \"Metro Chair\"   [− Labels: PRODUCT (0.9999)]\n",
      "Span [1,2]: \"Metro Chair\"   [− Labels: PRODUCT (0.9999)]\n",
      "Span [1,2]: \"Metro Chair\"   [− Labels: PRODUCT (0.9999)]\n",
      "Span [1,2]: \"Metro Chair\"   [− Labels: PRODUCT (0.9999)]\n",
      "Span [1,2]: \"Metro Chair\"   [− Labels: PRODUCT (0.9999)]\n",
      "Span [21,22]: \"Dryden Chair\"   [− Labels: PRODUCT (0.9998)]\n",
      "Span [27,28,29]: \"High Powered Chair\"   [− Labels: PRODUCT (0.9985)]\n",
      "Span [32,33]: \"Metro Chair\"   [− Labels: PRODUCT (0.9991)]\n",
      "Span [21,22]: \"Dryden Chair\"   [− Labels: PRODUCT (0.9997)]\n",
      "Span [27,28,29]: \"High Powered Chair\"   [− Labels: PRODUCT (0.9981)]\n",
      "Span [32,33]: \"Metro Chair\"   [− Labels: PRODUCT (0.996)]\n",
      "Span [12,13]: \"Dryden Chair\"   [− Labels: PRODUCT (0.9999)]\n",
      "Span [18,19,20]: \"High Powered Chair\"   [− Labels: PRODUCT (0.9997)]\n",
      "Span [23,24]: \"Metro Chair\"   [− Labels: PRODUCT (0.9999)]\n",
      "Span [12,13]: \"Dryden Chair\"   [− Labels: PRODUCT (0.9999)]\n",
      "Span [18,19,20]: \"High Powered Chair\"   [− Labels: PRODUCT (0.9997)]\n",
      "Span [23,24]: \"Metro Chair\"   [− Labels: PRODUCT (0.9999)]\n",
      "Span [12,13]: \"Dryden Chair\"   [− Labels: PRODUCT (0.9999)]\n",
      "Span [18,19,20]: \"High Powered Chair\"   [− Labels: PRODUCT (0.9995)]\n",
      "Span [23,24]: \"Metro Chair\"   [− Labels: PRODUCT (0.9999)]\n",
      "Span [12,13]: \"Dryden Chair\"   [− Labels: PRODUCT (0.9999)]\n",
      "Span [18,19,20]: \"High Powered Chair\"   [− Labels: PRODUCT (0.9997)]\n",
      "Span [23,24]: \"Metro Chair\"   [− Labels: PRODUCT (0.9999)]\n",
      "Span [12,13]: \"Dryden Chair\"   [− Labels: PRODUCT (0.9999)]\n",
      "Span [18,19,20]: \"High Powered Chair\"   [− Labels: PRODUCT (0.9996)]\n",
      "Span [23,24]: \"Metro Chair\"   [− Labels: PRODUCT (0.9999)]\n",
      "Span [12,13]: \"Dryden Chair\"   [− Labels: PRODUCT (0.9999)]\n",
      "Span [18,19,20]: \"High Powered Chair\"   [− Labels: PRODUCT (0.9996)]\n",
      "Span [23,24]: \"Metro Chair\"   [− Labels: PRODUCT (0.9999)]\n",
      "Span [4,5]: \"Dryden Chair\"   [− Labels: PRODUCT (0.9999)]\n",
      "Span [10,11,12]: \"High Powered Chair\"   [− Labels: PRODUCT (0.9999)]\n",
      "Span [15,16]: \"Metro Chair\"   [− Labels: PRODUCT (0.9999)]\n",
      "Span [2,3]: \"Dryden Chair\"   [− Labels: PRODUCT (0.9999)]\n",
      "Span [8,9,10]: \"High Powered Chair\"   [− Labels: PRODUCT (0.9996)]\n",
      "Span [13,14]: \"Metro Chair\"   [− Labels: PRODUCT (0.9997)]\n",
      "Span [2,3]: \"Dryden Chair\"   [− Labels: PRODUCT (0.9999)]\n",
      "Span [8,9,10]: \"High Powered Chair\"   [− Labels: PRODUCT (0.9997)]\n",
      "Span [13,14]: \"Metro Chair\"   [− Labels: PRODUCT (0.9999)]\n",
      "Span [2,3]: \"Dryden Chair\"   [− Labels: PRODUCT (0.9999)]\n",
      "Span [2,3]: \"Dryden Chair\"   [− Labels: PRODUCT (0.9999)]\n",
      "Span [2,3]: \"Dryden Chair\"   [− Labels: PRODUCT (1.0)]\n",
      "Span [1,2]: \"Dryden Chair\"   [− Labels: PRODUCT (0.9999)]\n",
      "Span [1,2]: \"Dryden Chair\"   [− Labels: PRODUCT (0.9998)]\n",
      "Span [1,2]: \"Dryden Chair\"   [− Labels: PRODUCT (0.9999)]\n",
      "Span [1,2,3]: \"High Powered Chair\"   [− Labels: PRODUCT (0.997)]\n",
      "Span [1,2,3]: \"High Powered Chair\"   [− Labels: PRODUCT (0.9991)]\n",
      "Span [1,2,3]: \"High Powered Chair\"   [− Labels: PRODUCT (0.9988)]\n",
      "Span [1,2,3]: \"High Powered Chair\"   [− Labels: PRODUCT (0.9963)]\n",
      "Span [1,2,3]: \"High Powered Chair\"   [− Labels: PRODUCT (0.998)]\n",
      "Span [1,2,3]: \"High Powered Chair\"   [− Labels: PRODUCT (0.9985)]\n",
      "Span [1,2]: \"Metro Chair\"   [− Labels: PRODUCT (0.978)]\n",
      "Span [1,2]: \"Metro Chair\"   [− Labels: PRODUCT (0.9826)]\n",
      "Span [1,2]: \"Metro Chair\"   [− Labels: PRODUCT (0.9866)]\n",
      "Span [1,2]: \"Metro Chair\"   [− Labels: PRODUCT (0.9915)]\n",
      "Span [1,2]: \"Metro Chair\"   [− Labels: PRODUCT (0.9978)]\n",
      "Span [1,2]: \"Metro Chair\"   [− Labels: PRODUCT (0.9882)]\n"
     ]
    },
    {
     "data": {
      "application/vnd.jupyter.widget-view+json": {
       "model_id": "",
       "version_major": 2,
       "version_minor": 0
      },
      "text/plain": [
       "Sentences Progress:   0%|          | 0/23 [00:00<?, ?it/s]"
      ]
     },
     "metadata": {},
     "output_type": "display_data"
    },
    {
     "name": "stdout",
     "output_type": "stream",
     "text": [
      "Span [95,96]: \"Andromeda Mirror\"   [− Labels: PRODUCT (0.7873)]\n",
      "Span [95]: \"Andromeda\"   [− Labels: PRODUCT (0.9342)]\n"
     ]
    },
    {
     "data": {
      "application/vnd.jupyter.widget-view+json": {
       "model_id": "",
       "version_major": 2,
       "version_minor": 0
      },
      "text/plain": [
       "Sentences Progress:   0%|          | 0/15 [00:00<?, ?it/s]"
      ]
     },
     "metadata": {},
     "output_type": "display_data"
    },
    {
     "name": "stdout",
     "output_type": "stream",
     "text": [
      "Span [13,14,15]: \"Chair - Tan\"   [− Labels: PRODUCT (0.7991)]\n",
      "Span [20]: \"Fenwick\"   [− Labels: PRODUCT (0.9818)]\n",
      "Span [30,31,32,33]: \"Dining Chair - Tan\"   [− Labels: PRODUCT (0.8567)]\n",
      "Span [37,38,39,40,41]: \"Jones Dining Chair - Whiskey\"   [− Labels: PRODUCT (0.9613)]\n",
      "Span [45,46,47,48,49]: \"Boston Dining Chair - Whiskey\"   [− Labels: PRODUCT (0.99)]\n",
      "Span [41]: \"Spensley\"   [− Labels: PRODUCT (0.9999)]\n",
      "Span [12]: \"Fenwick\"   [− Labels: PRODUCT (0.9958)]\n",
      "Span [20]: \"Fenwick\"   [− Labels: PRODUCT (0.9888)]\n",
      "Span [29,30,31,32,33]: \"Jones Dining Chair - Tan\"   [− Labels: PRODUCT (0.8582)]\n",
      "Span [37,38,39,40,41]: \"Jones Dining Chair - Whiskey\"   [− Labels: PRODUCT (0.9791)]\n",
      "Span [45,46,47,48,49]: \"Boston Dining Chair - Whiskey\"   [− Labels: PRODUCT (0.9938)]\n",
      "Span [41]: \"Spensley\"   [− Labels: PRODUCT (0.9999)]\n",
      "Span [20]: \"Fenwick\"   [− Labels: PRODUCT (0.9888)]\n",
      "Span [29,30,31,32,33]: \"Jones Dining Chair - Tan\"   [− Labels: PRODUCT (0.8582)]\n",
      "Span [37,38,39,40,41]: \"Jones Dining Chair - Whiskey\"   [− Labels: PRODUCT (0.9791)]\n",
      "Span [45,46,47,48,49]: \"Boston Dining Chair - Whiskey\"   [− Labels: PRODUCT (0.9938)]\n",
      "Span [41]: \"Spensley\"   [− Labels: PRODUCT (0.9998)]\n",
      "Span [12]: \"Fenwick\"   [− Labels: PRODUCT (0.9468)]\n"
     ]
    },
    {
     "data": {
      "application/vnd.jupyter.widget-view+json": {
       "model_id": "",
       "version_major": 2,
       "version_minor": 0
      },
      "text/plain": [
       "Sentences Progress:   0%|          | 0/16 [00:00<?, ?it/s]"
      ]
     },
     "metadata": {},
     "output_type": "display_data"
    },
    {
     "data": {
      "application/vnd.jupyter.widget-view+json": {
       "model_id": "",
       "version_major": 2,
       "version_minor": 0
      },
      "text/plain": [
       "Sentences Progress:   0%|          | 0/10 [00:00<?, ?it/s]"
      ]
     },
     "metadata": {},
     "output_type": "display_data"
    },
    {
     "data": {
      "application/vnd.jupyter.widget-view+json": {
       "model_id": "",
       "version_major": 2,
       "version_minor": 0
      },
      "text/plain": [
       "Sentences Progress:   0%|          | 0/11 [00:00<?, ?it/s]"
      ]
     },
     "metadata": {},
     "output_type": "display_data"
    },
    {
     "name": "stdout",
     "output_type": "stream",
     "text": [
      "Span [21,22,23]: \"Studio Arch Floor\"   [− Labels: PRODUCT (0.9679)]\n"
     ]
    },
    {
     "data": {
      "application/vnd.jupyter.widget-view+json": {
       "model_id": "",
       "version_major": 2,
       "version_minor": 0
      },
      "text/plain": [
       "Sentences Progress:   0%|          | 0/6 [00:00<?, ?it/s]"
      ]
     },
     "metadata": {},
     "output_type": "display_data"
    },
    {
     "name": "stdout",
     "output_type": "stream",
     "text": [
      "Span [2,3,4,5]: \"Teak Side Coffee Table\"   [− Labels: PRODUCT (0.7516)]\n"
     ]
    },
    {
     "data": {
      "application/vnd.jupyter.widget-view+json": {
       "model_id": "",
       "version_major": 2,
       "version_minor": 0
      },
      "text/plain": [
       "Sentences Progress:   0%|          | 0/10 [00:00<?, ?it/s]"
      ]
     },
     "metadata": {},
     "output_type": "display_data"
    },
    {
     "data": {
      "application/vnd.jupyter.widget-view+json": {
       "model_id": "",
       "version_major": 2,
       "version_minor": 0
      },
      "text/plain": [
       "Sentences Progress:   0%|          | 0/22 [00:00<?, ?it/s]"
      ]
     },
     "metadata": {},
     "output_type": "display_data"
    },
    {
     "name": "stdout",
     "output_type": "stream",
     "text": [
      "Span [5,6,7,8,9,10]: \"Rushmore Large TV Cabinet with Storage\"   [− Labels: PRODUCT (0.994)]\n",
      "Span [14,15,16,17,18,19]: \"Rushmore Large TV Cabinet with Storage\"   [− Labels: PRODUCT (0.9792)]\n",
      "Span [5,6,7,8,9,10]: \"Rushmore Small TV Cabinet with Storage\"   [− Labels: PRODUCT (0.9614)]\n",
      "Span [26,27,28,29,30,31]: \"Rushmore Small TV Cabinet with Storage\"   [− Labels: PRODUCT (0.9405)]\n",
      "Span [5,6,7,8]: \"Rushmore 4-Door Media Stand\"   [− Labels: PRODUCT (0.9932)]\n",
      "Span [16,17,18,19]: \"Rushmore 4-Door Media Stand\"   [− Labels: PRODUCT (0.9981)]\n",
      "Span [5,6,7,8]: \"Rushmore 3-Door Media Stand\"   [− Labels: PRODUCT (0.9965)]\n",
      "Span [5,6,7,8]: \"Rushmore 3-Door Media Stand\"   [− Labels: PRODUCT (0.9864)]\n",
      "Span [5,6,7,8]: \"Rushmore 2-Door Media Stand\"   [− Labels: PRODUCT (0.9782)]\n",
      "Span [14,15,16,17,18]: \"the Rushmore 2-Door Media Stand\"   [− Labels: PRODUCT (0.9462)]\n",
      "Span [4]: \"Countryside\"   [− Labels: PRODUCT (0.8431)]\n",
      "Span [5,6,7,8]: \"Sebastian McCoy Entertainment Center\"   [− Labels: PRODUCT (0.983)]\n",
      "Span [5,6,7,8,9]: \"Sebastian McCoy 4-Door Media Stand\"   [− Labels: PRODUCT (0.9946)]\n",
      "Span [12,13,14,15,16]: \"Sebastian McCoy 4-Door Media Stand\"   [− Labels: PRODUCT (0.9985)]\n",
      "Span [5,6,7,8,9]: \"Sebastian McCoy 3-Door Media Stand\"   [− Labels: PRODUCT (0.9985)]\n",
      "Span [12,13,14,15,16]: \"Sebastian McCoy 3-Door Media Stand\"   [− Labels: PRODUCT (0.9962)]\n",
      "Span [5,6,7,8]: \"Sebastian McCoy Media Stand\"   [− Labels: PRODUCT (0.999)]\n",
      "Span [13,14,15,16,17]: \"the Sebastian McCoy Media Stand\"   [− Labels: PRODUCT (0.9999)]\n",
      "Span [5,6,7,8]: \"Tularosa 3-Door TV Cabinet\"   [− Labels: PRODUCT (0.9972)]\n",
      "Span [2,3,4,5]: \"Tularosa 3-Door TV Cabinet\"   [− Labels: PRODUCT (0.9255)]\n",
      "Span [5]: \"Tularosa\"   [− Labels: PRODUCT (0.9731)]\n",
      "Span [20]: \"Tularosa\"   [− Labels: PRODUCT (0.9998)]\n",
      "Span [5,6,7]: \"Lintel Media Cabinet\"   [− Labels: PRODUCT (0.9908)]\n",
      "Span [2,3,4]: \"Lintel Media Cabinet\"   [− Labels: PRODUCT (1.0)]\n"
     ]
    },
    {
     "data": {
      "application/vnd.jupyter.widget-view+json": {
       "model_id": "",
       "version_major": 2,
       "version_minor": 0
      },
      "text/plain": [
       "Sentences Progress:   0%|          | 0/60 [00:00<?, ?it/s]"
      ]
     },
     "metadata": {},
     "output_type": "display_data"
    },
    {
     "data": {
      "application/vnd.jupyter.widget-view+json": {
       "model_id": "",
       "version_major": 2,
       "version_minor": 0
      },
      "text/plain": [
       "Sentences Progress:   0%|          | 0/17 [00:00<?, ?it/s]"
      ]
     },
     "metadata": {},
     "output_type": "display_data"
    },
    {
     "data": {
      "application/vnd.jupyter.widget-view+json": {
       "model_id": "",
       "version_major": 2,
       "version_minor": 0
      },
      "text/plain": [
       "Sentences Progress:   0%|          | 0/13 [00:00<?, ?it/s]"
      ]
     },
     "metadata": {},
     "output_type": "display_data"
    },
    {
     "data": {
      "application/vnd.jupyter.widget-view+json": {
       "model_id": "",
       "version_major": 2,
       "version_minor": 0
      },
      "text/plain": [
       "Sentences Progress:   0%|          | 0/14 [00:00<?, ?it/s]"
      ]
     },
     "metadata": {},
     "output_type": "display_data"
    },
    {
     "data": {
      "application/vnd.jupyter.widget-view+json": {
       "model_id": "",
       "version_major": 2,
       "version_minor": 0
      },
      "text/plain": [
       "Sentences Progress:   0%|          | 0/1 [00:00<?, ?it/s]"
      ]
     },
     "metadata": {},
     "output_type": "display_data"
    },
    {
     "data": {
      "application/vnd.jupyter.widget-view+json": {
       "model_id": "",
       "version_major": 2,
       "version_minor": 0
      },
      "text/plain": [
       "Sentences Progress:   0%|          | 0/13 [00:00<?, ?it/s]"
      ]
     },
     "metadata": {},
     "output_type": "display_data"
    },
    {
     "data": {
      "application/vnd.jupyter.widget-view+json": {
       "model_id": "",
       "version_major": 2,
       "version_minor": 0
      },
      "text/plain": [
       "Sentences Progress:   0%|          | 0/5 [00:00<?, ?it/s]"
      ]
     },
     "metadata": {},
     "output_type": "display_data"
    },
    {
     "name": "stdout",
     "output_type": "stream",
     "text": [
      "Span [5]: \"Amsterdam\"   [− Labels: PRODUCT (0.9698)]\n",
      "Span [36]: \"Amsterdam\"   [− Labels: PRODUCT (0.9025)]\n",
      "Span [5]: \"Amsterdam\"   [− Labels: PRODUCT (0.7894)]\n",
      "Span [36,37]: \"Amsterdam Bench\"   [− Labels: PRODUCT (0.8175)]\n",
      "Span [36,37]: \"Amsterdam Bench\"   [− Labels: PRODUCT (0.8175)]\n",
      "Span [5]: \"Amsterdam\"   [− Labels: PRODUCT (0.9032)]\n",
      "Span [36,37]: \"Amsterdam Bench\"   [− Labels: PRODUCT (0.754)]\n"
     ]
    },
    {
     "data": {
      "application/vnd.jupyter.widget-view+json": {
       "model_id": "",
       "version_major": 2,
       "version_minor": 0
      },
      "text/plain": [
       "Sentences Progress: 0it [00:00, ?it/s]"
      ]
     },
     "metadata": {},
     "output_type": "display_data"
    },
    {
     "data": {
      "application/vnd.jupyter.widget-view+json": {
       "model_id": "",
       "version_major": 2,
       "version_minor": 0
      },
      "text/plain": [
       "Sentences Progress:   0%|          | 0/33 [00:00<?, ?it/s]"
      ]
     },
     "metadata": {},
     "output_type": "display_data"
    },
    {
     "name": "stdout",
     "output_type": "stream",
     "text": [
      "Span [12,13]: \"Cloud Sofa\"   [− Labels: PRODUCT (0.7625)]\n"
     ]
    },
    {
     "data": {
      "application/vnd.jupyter.widget-view+json": {
       "model_id": "",
       "version_major": 2,
       "version_minor": 0
      },
      "text/plain": [
       "Sentences Progress:   0%|          | 0/1 [00:00<?, ?it/s]"
      ]
     },
     "metadata": {},
     "output_type": "display_data"
    },
    {
     "data": {
      "application/vnd.jupyter.widget-view+json": {
       "model_id": "",
       "version_major": 2,
       "version_minor": 0
      },
      "text/plain": [
       "Sentences Progress:   0%|          | 0/31 [00:00<?, ?it/s]"
      ]
     },
     "metadata": {},
     "output_type": "display_data"
    },
    {
     "name": "stdout",
     "output_type": "stream",
     "text": [
      "Span [1,2,3]: \"The Upton Mattress\"   [− Labels: PRODUCT (0.9301)]\n",
      "Span [26,27,28]: \"The Upton Pillow\"   [− Labels: PRODUCT (0.8782)]\n",
      "Span [1,2,3,4,5]: \"The Super Big Gigantic Pillow\"   [− Labels: PRODUCT (0.9861)]\n",
      "Span [1,2,3,4,5]: \"The Super Big Gigantic Pillow\"   [− Labels: PRODUCT (0.9397)]\n",
      "Span [1,2,3]: \"The Upton Mattress\"   [− Labels: PRODUCT (0.9999)]\n",
      "Span [61,62,63]: \"The Upton Mattress\"   [− Labels: PRODUCT (0.9574)]\n",
      "Span [1,2,3]: \"The Upton Mattress\"   [− Labels: PRODUCT (0.9998)]\n",
      "Span [61,62,63,64,65,66,67,68]: \"The Upton Mattress 🇨🇦 - Twin / Soft\"   [− Labels: PRODUCT (0.9278)]\n",
      "Span [61,62,63,64,65,66,67,68]: \"The Upton Mattress 🇨🇦 - Twin / Soft\"   [− Labels: PRODUCT (0.9661)]\n",
      "Span [1,2,3]: \"The Upton Mattress\"   [− Labels: PRODUCT (0.9999)]\n",
      "Span [61,62,63,64,65,66,67,68]: \"The Upton Mattress 🇨🇦 - Twin / Soft\"   [− Labels: PRODUCT (0.9963)]\n"
     ]
    },
    {
     "data": {
      "application/vnd.jupyter.widget-view+json": {
       "model_id": "",
       "version_major": 2,
       "version_minor": 0
      },
      "text/plain": [
       "Sentences Progress:   0%|          | 0/28 [00:00<?, ?it/s]"
      ]
     },
     "metadata": {},
     "output_type": "display_data"
    },
    {
     "name": "stdout",
     "output_type": "stream",
     "text": [
      "Span [2,3,4,5]: \"Nova V3 Modular Sofa\"   [− Labels: PRODUCT (0.9919)]\n",
      "Span [9,10,11,12]: \"Nova V3 Modular Sofa\"   [− Labels: PRODUCT (0.9336)]\n",
      "Span [15,16,17,18]: \"The Nova 3-Seater Sofa\"   [− Labels: PRODUCT (0.9993)]\n"
     ]
    },
    {
     "data": {
      "application/vnd.jupyter.widget-view+json": {
       "model_id": "",
       "version_major": 2,
       "version_minor": 0
      },
      "text/plain": [
       "Sentences Progress:   0%|          | 0/1 [00:00<?, ?it/s]"
      ]
     },
     "metadata": {},
     "output_type": "display_data"
    },
    {
     "data": {
      "application/vnd.jupyter.widget-view+json": {
       "model_id": "",
       "version_major": 2,
       "version_minor": 0
      },
      "text/plain": [
       "Sentences Progress:   0%|          | 0/15 [00:00<?, ?it/s]"
      ]
     },
     "metadata": {},
     "output_type": "display_data"
    },
    {
     "name": "stdout",
     "output_type": "stream",
     "text": [
      "Span [47]: \"Scandia\"   [− Labels: PRODUCT (0.9683)]\n"
     ]
    },
    {
     "data": {
      "application/vnd.jupyter.widget-view+json": {
       "model_id": "",
       "version_major": 2,
       "version_minor": 0
      },
      "text/plain": [
       "Sentences Progress:   0%|          | 0/7 [00:00<?, ?it/s]"
      ]
     },
     "metadata": {},
     "output_type": "display_data"
    },
    {
     "data": {
      "application/vnd.jupyter.widget-view+json": {
       "model_id": "",
       "version_major": 2,
       "version_minor": 0
      },
      "text/plain": [
       "Sentences Progress:   0%|          | 0/3 [00:00<?, ?it/s]"
      ]
     },
     "metadata": {},
     "output_type": "display_data"
    },
    {
     "data": {
      "application/vnd.jupyter.widget-view+json": {
       "model_id": "",
       "version_major": 2,
       "version_minor": 0
      },
      "text/plain": [
       "Sentences Progress:   0%|          | 0/5 [00:00<?, ?it/s]"
      ]
     },
     "metadata": {},
     "output_type": "display_data"
    },
    {
     "data": {
      "application/vnd.jupyter.widget-view+json": {
       "model_id": "",
       "version_major": 2,
       "version_minor": 0
      },
      "text/plain": [
       "Sentences Progress:   0%|          | 0/1 [00:00<?, ?it/s]"
      ]
     },
     "metadata": {},
     "output_type": "display_data"
    },
    {
     "data": {
      "application/vnd.jupyter.widget-view+json": {
       "model_id": "",
       "version_major": 2,
       "version_minor": 0
      },
      "text/plain": [
       "Sentences Progress:   0%|          | 0/21 [00:00<?, ?it/s]"
      ]
     },
     "metadata": {},
     "output_type": "display_data"
    },
    {
     "name": "stdout",
     "output_type": "stream",
     "text": [
      "Span [21,22,23]: \"the Segun Table\"   [− Labels: PRODUCT (0.9991)]\n",
      "Span [21,22,23]: \"the Segun Table\"   [− Labels: PRODUCT (0.9991)]\n"
     ]
    },
    {
     "data": {
      "application/vnd.jupyter.widget-view+json": {
       "model_id": "",
       "version_major": 2,
       "version_minor": 0
      },
      "text/plain": [
       "Sentences Progress:   0%|          | 0/1 [00:00<?, ?it/s]"
      ]
     },
     "metadata": {},
     "output_type": "display_data"
    },
    {
     "data": {
      "application/vnd.jupyter.widget-view+json": {
       "model_id": "",
       "version_major": 2,
       "version_minor": 0
      },
      "text/plain": [
       "Sentences Progress:   0%|          | 0/16 [00:00<?, ?it/s]"
      ]
     },
     "metadata": {},
     "output_type": "display_data"
    },
    {
     "data": {
      "application/vnd.jupyter.widget-view+json": {
       "model_id": "",
       "version_major": 2,
       "version_minor": 0
      },
      "text/plain": [
       "Sentences Progress:   0%|          | 0/8 [00:00<?, ?it/s]"
      ]
     },
     "metadata": {},
     "output_type": "display_data"
    },
    {
     "name": "stdout",
     "output_type": "stream",
     "text": [
      "Span [2,3]: \"Coat Stand\"   [− Labels: PRODUCT (0.9044)]\n"
     ]
    },
    {
     "data": {
      "application/vnd.jupyter.widget-view+json": {
       "model_id": "",
       "version_major": 2,
       "version_minor": 0
      },
      "text/plain": [
       "Sentences Progress:   0%|          | 0/5 [00:00<?, ?it/s]"
      ]
     },
     "metadata": {},
     "output_type": "display_data"
    },
    {
     "data": {
      "application/vnd.jupyter.widget-view+json": {
       "model_id": "",
       "version_major": 2,
       "version_minor": 0
      },
      "text/plain": [
       "Sentences Progress:   0%|          | 0/7 [00:00<?, ?it/s]"
      ]
     },
     "metadata": {},
     "output_type": "display_data"
    },
    {
     "name": "stdout",
     "output_type": "stream",
     "text": [
      "Span [1]: \"Parachute\"   [− Labels: PRODUCT (0.9254)]\n",
      "Span [1]: \"Parachute\"   [− Labels: PRODUCT (0.8907)]\n"
     ]
    },
    {
     "data": {
      "application/vnd.jupyter.widget-view+json": {
       "model_id": "",
       "version_major": 2,
       "version_minor": 0
      },
      "text/plain": [
       "Sentences Progress:   0%|          | 0/12 [00:00<?, ?it/s]"
      ]
     },
     "metadata": {},
     "output_type": "display_data"
    },
    {
     "name": "stdout",
     "output_type": "stream",
     "text": [
      "Span [56]: \"Managua\"   [− Labels: PRODUCT (0.8626)]\n",
      "Span [76]: \"Ottomans\"   [− Labels: PRODUCT (0.8942)]\n",
      "Span [1,2,3]: \"The Masaya Ottoman\"   [− Labels: PRODUCT (1.0)]\n",
      "Span [5]: \"Ometepe\"   [− Labels: PRODUCT (0.7559)]\n",
      "Span [53]: \"Casares\"   [− Labels: PRODUCT (0.7684)]\n",
      "Span [56]: \"Managua\"   [− Labels: PRODUCT (0.9215)]\n",
      "Span [76]: \"Ottomans\"   [− Labels: PRODUCT (0.9502)]\n",
      "Span [1,2,3]: \"The Masaya Ottoman\"   [− Labels: PRODUCT (0.9999)]\n",
      "Span [5]: \"Ometepe\"   [− Labels: PRODUCT (0.805)]\n",
      "Span [13,14]: \"Standing Shelf\"   [− Labels: PRODUCT (0.8314)]\n",
      "Span [33]: \"Casares\"   [− Labels: PRODUCT (0.9116)]\n",
      "Span [36]: \"Managua\"   [− Labels: PRODUCT (0.8419)]\n",
      "Span [1,2,3]: \"The Masaya Ottoman\"   [− Labels: PRODUCT (0.9999)]\n",
      "Span [5]: \"Ometepe\"   [− Labels: PRODUCT (0.9359)]\n",
      "Span [6,7]: \"Shower Stool\"   [− Labels: PRODUCT (0.8803)]\n",
      "Span [12,13,14]: \"Watson Standing Shelf\"   [− Labels: PRODUCT (0.9712)]\n",
      "Span [20,21]: \"Rocking Chair\"   [− Labels: PRODUCT (0.9786)]\n",
      "Span [27,28,29]: \"Velero Side Table\"   [− Labels: PRODUCT (0.8714)]\n",
      "Span [1,2,3]: \"The Masaya Ottoman\"   [− Labels: PRODUCT (0.9999)]\n",
      "Span [5,6,7]: \"Ometepe Shower Stool\"   [− Labels: PRODUCT (0.9363)]\n",
      "Span [12,13,14]: \"Watson Standing Shelf\"   [− Labels: PRODUCT (0.9989)]\n",
      "Span [20,21]: \"Rocking Chair\"   [− Labels: PRODUCT (0.8019)]\n",
      "Span [27,28,29]: \"Velero Side Table\"   [− Labels: PRODUCT (0.8568)]\n",
      "Span [1,2,3]: \"The Masaya Ottoman\"   [− Labels: PRODUCT (1.0)]\n"
     ]
    },
    {
     "data": {
      "application/vnd.jupyter.widget-view+json": {
       "model_id": "",
       "version_major": 2,
       "version_minor": 0
      },
      "text/plain": [
       "Sentences Progress:   0%|          | 0/22 [00:00<?, ?it/s]"
      ]
     },
     "metadata": {},
     "output_type": "display_data"
    },
    {
     "data": {
      "application/vnd.jupyter.widget-view+json": {
       "model_id": "",
       "version_major": 2,
       "version_minor": 0
      },
      "text/plain": [
       "Sentences Progress:   0%|          | 0/5 [00:00<?, ?it/s]"
      ]
     },
     "metadata": {},
     "output_type": "display_data"
    },
    {
     "data": {
      "application/vnd.jupyter.widget-view+json": {
       "model_id": "",
       "version_major": 2,
       "version_minor": 0
      },
      "text/plain": [
       "Sentences Progress:   0%|          | 0/8 [00:00<?, ?it/s]"
      ]
     },
     "metadata": {},
     "output_type": "display_data"
    },
    {
     "data": {
      "application/vnd.jupyter.widget-view+json": {
       "model_id": "",
       "version_major": 2,
       "version_minor": 0
      },
      "text/plain": [
       "Sentences Progress:   0%|          | 0/11 [00:00<?, ?it/s]"
      ]
     },
     "metadata": {},
     "output_type": "display_data"
    },
    {
     "data": {
      "application/vnd.jupyter.widget-view+json": {
       "model_id": "",
       "version_major": 2,
       "version_minor": 0
      },
      "text/plain": [
       "Sentences Progress:   0%|          | 0/8 [00:00<?, ?it/s]"
      ]
     },
     "metadata": {},
     "output_type": "display_data"
    },
    {
     "name": "stdout",
     "output_type": "stream",
     "text": [
      "Span [69,70]: \"V6 4Runner\"   [− Labels: PRODUCT (0.8923)]\n",
      "Span [9,10]: \"Enclave Leather\"   [− Labels: PRODUCT (0.9563)]\n",
      "Span [14]: \"Quicksilver\"   [− Labels: PRODUCT (0.9813)]\n",
      "Span [69,70]: \"V6 4Runner\"   [− Labels: PRODUCT (0.9817)]\n",
      "Span [64,65]: \"V6 4Runner\"   [− Labels: PRODUCT (0.994)]\n",
      "Span [64,65]: \"V6 4Runner\"   [− Labels: PRODUCT (0.8071)]\n",
      "Span [64,65]: \"V6 4Runner\"   [− Labels: PRODUCT (0.8071)]\n",
      "Span [64,65]: \"V6 4Runner\"   [− Labels: PRODUCT (0.7687)]\n",
      "Span [1]: \"Quicksilver\"   [− Labels: PRODUCT (0.9939)]\n"
     ]
    },
    {
     "data": {
      "application/vnd.jupyter.widget-view+json": {
       "model_id": "",
       "version_major": 2,
       "version_minor": 0
      },
      "text/plain": [
       "Sentences Progress:   0%|          | 0/9 [00:00<?, ?it/s]"
      ]
     },
     "metadata": {},
     "output_type": "display_data"
    },
    {
     "data": {
      "application/vnd.jupyter.widget-view+json": {
       "model_id": "",
       "version_major": 2,
       "version_minor": 0
      },
      "text/plain": [
       "Sentences Progress:   0%|          | 0/16 [00:00<?, ?it/s]"
      ]
     },
     "metadata": {},
     "output_type": "display_data"
    },
    {
     "name": "stdout",
     "output_type": "stream",
     "text": [
      "Span [29,30]: \"Red Brick\"   [− Labels: PRODUCT (0.7657)]\n"
     ]
    },
    {
     "data": {
      "application/vnd.jupyter.widget-view+json": {
       "model_id": "",
       "version_major": 2,
       "version_minor": 0
      },
      "text/plain": [
       "Sentences Progress:   0%|          | 0/20 [00:00<?, ?it/s]"
      ]
     },
     "metadata": {},
     "output_type": "display_data"
    },
    {
     "data": {
      "application/vnd.jupyter.widget-view+json": {
       "model_id": "",
       "version_major": 2,
       "version_minor": 0
      },
      "text/plain": [
       "Sentences Progress:   0%|          | 0/12 [00:00<?, ?it/s]"
      ]
     },
     "metadata": {},
     "output_type": "display_data"
    },
    {
     "data": {
      "application/vnd.jupyter.widget-view+json": {
       "model_id": "",
       "version_major": 2,
       "version_minor": 0
      },
      "text/plain": [
       "Sentences Progress:   0%|          | 0/33 [00:00<?, ?it/s]"
      ]
     },
     "metadata": {},
     "output_type": "display_data"
    },
    {
     "name": "stdout",
     "output_type": "stream",
     "text": [
      "Span [74,75,76]: \"Zinolin Teak Oil\"   [− Labels: PRODUCT (0.9989)]\n",
      "Span [1,2,3,4,5]: \"Zinolin / Nordicare Teak Oil\"   [− Labels: PRODUCT (0.953)]\n",
      "Span [3,4,5]: \"Zinolin Lacquer Polish\"   [− Labels: PRODUCT (0.8397)]\n",
      "Span [8,9,10]: \"Zinolin Teak Oil\"   [− Labels: PRODUCT (0.9999)]\n",
      "Span [15,16,17]: \"Nordicare Teak Oil\"   [− Labels: PRODUCT (0.9998)]\n",
      "Span [5,6,7]: \"Zinolin Teak Oil\"   [− Labels: PRODUCT (0.9998)]\n",
      "Span [15,16,17]: \"Zinolin Teak Oil\"   [− Labels: PRODUCT (0.9992)]\n",
      "Span [3,4,5]: \"Zinolin Teak Oil\"   [− Labels: PRODUCT (0.9999)]\n",
      "Span [8,9,10]: \"Zinolin Teak Oil\"   [− Labels: PRODUCT (0.9999)]\n",
      "Span [74,75,76]: \"Zinolin Teak Oil\"   [− Labels: PRODUCT (0.9999)]\n",
      "Span [1,2,3]: \"Zinolin / Nordicare\"   [− Labels: PRODUCT (0.9298)]\n",
      "Span [4,5]: \"Teak Oil\"   [− Labels: PRODUCT (0.7892)]\n",
      "Span [3]: \"Zinolin\"   [− Labels: PRODUCT (0.9881)]\n",
      "Span [8,9,10]: \"Zinolin Teak Oil\"   [− Labels: PRODUCT (0.998)]\n",
      "Span [15,16,17]: \"Nordicare Teak Oil\"   [− Labels: PRODUCT (0.9995)]\n",
      "Span [5,6,7]: \"Zinolin Teak Oil\"   [− Labels: PRODUCT (0.9994)]\n",
      "Span [15,16,17]: \"Zinolin Teak Oil\"   [− Labels: PRODUCT (0.9998)]\n",
      "Span [3,4,5]: \"Zinolin Teak Oil\"   [− Labels: PRODUCT (0.9997)]\n",
      "Span [8,9,10]: \"Zinolin Teak Oil\"   [− Labels: PRODUCT (0.9996)]\n",
      "Span [74,75,76]: \"Zinolin Teak Oil\"   [− Labels: PRODUCT (0.996)]\n",
      "Span [1,2,3]: \"Zinolin / Nordicare\"   [− Labels: PRODUCT (0.9335)]\n",
      "Span [4,5]: \"Teak Oil\"   [− Labels: PRODUCT (0.9945)]\n"
     ]
    },
    {
     "data": {
      "application/vnd.jupyter.widget-view+json": {
       "model_id": "",
       "version_major": 2,
       "version_minor": 0
      },
      "text/plain": [
       "Sentences Progress:   0%|          | 0/11 [00:00<?, ?it/s]"
      ]
     },
     "metadata": {},
     "output_type": "display_data"
    },
    {
     "data": {
      "application/vnd.jupyter.widget-view+json": {
       "model_id": "",
       "version_major": 2,
       "version_minor": 0
      },
      "text/plain": [
       "Sentences Progress:   0%|          | 0/26 [00:00<?, ?it/s]"
      ]
     },
     "metadata": {},
     "output_type": "display_data"
    },
    {
     "name": "stdout",
     "output_type": "stream",
     "text": [
      "Span [4,5]: \"Kristalia Mater\"   [− Labels: PRODUCT (0.9199)]\n",
      "Span [4,5]: \"Kristalia Mater\"   [− Labels: PRODUCT (0.841)]\n",
      "Span [29,30,31,32]: \"The Ro Easy Chair\"   [− Labels: PRODUCT (1.0)]\n",
      "Span [9,10,11]: \"Beetle Dining Chair\"   [− Labels: PRODUCT (0.7971)]\n",
      "Span [28,29]: \"Bubble Chair\"   [− Labels: PRODUCT (0.9999)]\n",
      "Span [40,41,42]: \"Eames Aluminium Chair\"   [− Labels: PRODUCT (0.9793)]\n"
     ]
    },
    {
     "data": {
      "application/vnd.jupyter.widget-view+json": {
       "model_id": "",
       "version_major": 2,
       "version_minor": 0
      },
      "text/plain": [
       "Sentences Progress:   0%|          | 0/7 [00:00<?, ?it/s]"
      ]
     },
     "metadata": {},
     "output_type": "display_data"
    },
    {
     "data": {
      "application/vnd.jupyter.widget-view+json": {
       "model_id": "",
       "version_major": 2,
       "version_minor": 0
      },
      "text/plain": [
       "Sentences Progress:   0%|          | 0/17 [00:00<?, ?it/s]"
      ]
     },
     "metadata": {},
     "output_type": "display_data"
    },
    {
     "name": "stdout",
     "output_type": "stream",
     "text": [
      "Span [1,2]: \"Muebles Italiano\"   [− Labels: PRODUCT (0.7808)]\n",
      "Span [1]: \"Muebles\"   [− Labels: PRODUCT (0.7545)]\n",
      "Span [6,7]: \"PEACOCK WHITE\"   [− Labels: PRODUCT (0.9431)]\n"
     ]
    },
    {
     "data": {
      "application/vnd.jupyter.widget-view+json": {
       "model_id": "",
       "version_major": 2,
       "version_minor": 0
      },
      "text/plain": [
       "Sentences Progress:   0%|          | 0/40 [00:00<?, ?it/s]"
      ]
     },
     "metadata": {},
     "output_type": "display_data"
    },
    {
     "data": {
      "application/vnd.jupyter.widget-view+json": {
       "model_id": "",
       "version_major": 2,
       "version_minor": 0
      },
      "text/plain": [
       "Sentences Progress:   0%|          | 0/5 [00:00<?, ?it/s]"
      ]
     },
     "metadata": {},
     "output_type": "display_data"
    },
    {
     "data": {
      "application/vnd.jupyter.widget-view+json": {
       "model_id": "",
       "version_major": 2,
       "version_minor": 0
      },
      "text/plain": [
       "Sentences Progress:   0%|          | 0/22 [00:00<?, ?it/s]"
      ]
     },
     "metadata": {},
     "output_type": "display_data"
    },
    {
     "data": {
      "application/vnd.jupyter.widget-view+json": {
       "model_id": "",
       "version_major": 2,
       "version_minor": 0
      },
      "text/plain": [
       "Sentences Progress:   0%|          | 0/8 [00:00<?, ?it/s]"
      ]
     },
     "metadata": {},
     "output_type": "display_data"
    },
    {
     "data": {
      "application/vnd.jupyter.widget-view+json": {
       "model_id": "",
       "version_major": 2,
       "version_minor": 0
      },
      "text/plain": [
       "Sentences Progress:   0%|          | 0/9 [00:00<?, ?it/s]"
      ]
     },
     "metadata": {},
     "output_type": "display_data"
    },
    {
     "data": {
      "application/vnd.jupyter.widget-view+json": {
       "model_id": "",
       "version_major": 2,
       "version_minor": 0
      },
      "text/plain": [
       "Sentences Progress:   0%|          | 0/10 [00:00<?, ?it/s]"
      ]
     },
     "metadata": {},
     "output_type": "display_data"
    },
    {
     "data": {
      "application/vnd.jupyter.widget-view+json": {
       "model_id": "",
       "version_major": 2,
       "version_minor": 0
      },
      "text/plain": [
       "Sentences Progress:   0%|          | 0/1 [00:00<?, ?it/s]"
      ]
     },
     "metadata": {},
     "output_type": "display_data"
    },
    {
     "data": {
      "application/vnd.jupyter.widget-view+json": {
       "model_id": "",
       "version_major": 2,
       "version_minor": 0
      },
      "text/plain": [
       "Sentences Progress:   0%|          | 0/3 [00:00<?, ?it/s]"
      ]
     },
     "metadata": {},
     "output_type": "display_data"
    },
    {
     "data": {
      "application/vnd.jupyter.widget-view+json": {
       "model_id": "",
       "version_major": 2,
       "version_minor": 0
      },
      "text/plain": [
       "Sentences Progress:   0%|          | 0/11 [00:00<?, ?it/s]"
      ]
     },
     "metadata": {},
     "output_type": "display_data"
    },
    {
     "name": "stdout",
     "output_type": "stream",
     "text": [
      "Span [5,6,7]: \"Living Leather Sofa\"   [− Labels: PRODUCT (0.9841)]\n",
      "Span [1,2,3]: \"Marble Dining Collection\"   [− Labels: PRODUCT (0.7665)]\n",
      "Span [2,3,4]: \"Marble Dining Collection\"   [− Labels: PRODUCT (0.9823)]\n",
      "Span [2,3,4]: \"Marble Dining Collection\"   [− Labels: PRODUCT (0.986)]\n",
      "Span [32,33,34]: \"Alto AX1 Series\"   [− Labels: PRODUCT (0.9995)]\n",
      "Span [35,36,37]: \"Alto AX2 Series\"   [− Labels: PRODUCT (0.9997)]\n",
      "Span [30,31,32]: \"Alto AX1 Series\"   [− Labels: PRODUCT (0.9989)]\n",
      "Span [33,34,35]: \"Alto AX2 Series\"   [− Labels: PRODUCT (0.9988)]\n",
      "Span [7,8,9]: \"Alto AX1 Series\"   [− Labels: PRODUCT (0.9998)]\n",
      "Span [10,11,12]: \"Alto AX2 Series\"   [− Labels: PRODUCT (0.9999)]\n",
      "Span [4,5,6]: \"Alto AX1 Series\"   [− Labels: PRODUCT (0.9998)]\n",
      "Span [7,8,9]: \"Alto AX2 Series\"   [− Labels: PRODUCT (0.9999)]\n",
      "Span [1,2,3]: \"Alto AX1 Series\"   [− Labels: PRODUCT (0.9995)]\n",
      "Span [1,2,3]: \"Alto AX1 Series\"   [− Labels: PRODUCT (0.9995)]\n",
      "Span [1,2,3]: \"Alto AX2 Series\"   [− Labels: PRODUCT (0.9996)]\n",
      "Span [1,2,3]: \"Alto AX2 Series\"   [− Labels: PRODUCT (0.9996)]\n"
     ]
    },
    {
     "data": {
      "application/vnd.jupyter.widget-view+json": {
       "model_id": "",
       "version_major": 2,
       "version_minor": 0
      },
      "text/plain": [
       "Sentences Progress:   0%|          | 0/6 [00:00<?, ?it/s]"
      ]
     },
     "metadata": {},
     "output_type": "display_data"
    },
    {
     "data": {
      "application/vnd.jupyter.widget-view+json": {
       "model_id": "",
       "version_major": 2,
       "version_minor": 0
      },
      "text/plain": [
       "Sentences Progress:   0%|          | 0/24 [00:00<?, ?it/s]"
      ]
     },
     "metadata": {},
     "output_type": "display_data"
    },
    {
     "data": {
      "application/vnd.jupyter.widget-view+json": {
       "model_id": "",
       "version_major": 2,
       "version_minor": 0
      },
      "text/plain": [
       "Sentences Progress:   0%|          | 0/11 [00:00<?, ?it/s]"
      ]
     },
     "metadata": {},
     "output_type": "display_data"
    },
    {
     "name": "stdout",
     "output_type": "stream",
     "text": [
      "Span [1,2,3]: \"Dyson Vacuum Cleaner\"   [− Labels: PRODUCT (0.9872)]\n"
     ]
    },
    {
     "data": {
      "application/vnd.jupyter.widget-view+json": {
       "model_id": "",
       "version_major": 2,
       "version_minor": 0
      },
      "text/plain": [
       "Sentences Progress:   0%|          | 0/22 [00:00<?, ?it/s]"
      ]
     },
     "metadata": {},
     "output_type": "display_data"
    },
    {
     "name": "stdout",
     "output_type": "stream",
     "text": [
      "Span [53]: \"Mid-Century\"   [− Labels: PRODUCT (0.8758)]\n",
      "Span [2,3,4]: \"Mid-Century Dining Chair\"   [− Labels: PRODUCT (0.9217)]\n",
      "Span [1,2]: \"Abrianna Brown\"   [− Labels: PRODUCT (0.9198)]\n",
      "Span [3,4]: \"Love Seat\"   [− Labels: PRODUCT (0.9498)]\n",
      "Span [1,2]: \"Abrianna Brown\"   [− Labels: PRODUCT (0.8757)]\n",
      "Span [3,4]: \"Love Seat\"   [− Labels: PRODUCT (0.848)]\n",
      "Span [1,2]: \"Abrianna Brown\"   [− Labels: PRODUCT (0.897)]\n",
      "Span [3,4]: \"Love Seat\"   [− Labels: PRODUCT (0.9192)]\n",
      "Span [1,2,3]: \"Abrianna Brown Sofa\"   [− Labels: PRODUCT (0.9262)]\n",
      "Span [1,2,3]: \"Abrianna Brown Sofa\"   [− Labels: PRODUCT (0.8817)]\n",
      "Span [1,2,3]: \"Abrianna Brown Sofa\"   [− Labels: PRODUCT (0.841)]\n",
      "Span [1,2]: \"Abrianna Brown\"   [− Labels: PRODUCT (0.9894)]\n",
      "Span [1,2]: \"Abrianna Brown\"   [− Labels: PRODUCT (0.9859)]\n",
      "Span [1,2]: \"Abrianna Brown\"   [− Labels: PRODUCT (0.991)]\n",
      "Span [1,2]: \"Abrianna Gray\"   [− Labels: PRODUCT (0.9717)]\n",
      "Span [3,4]: \"Love Seat\"   [− Labels: PRODUCT (0.8509)]\n",
      "Span [1,2]: \"Abrianna Gray\"   [− Labels: PRODUCT (0.8356)]\n",
      "Span [3,4]: \"Love Seat\"   [− Labels: PRODUCT (0.9603)]\n",
      "Span [1,2]: \"Abrianna Gray\"   [− Labels: PRODUCT (0.8736)]\n",
      "Span [3,4]: \"Love Seat\"   [− Labels: PRODUCT (0.977)]\n",
      "Span [1,2]: \"Abrianna Gray\"   [− Labels: PRODUCT (0.9956)]\n",
      "Span [1,2]: \"Abrianna Gray\"   [− Labels: PRODUCT (0.7647)]\n",
      "Span [1,2]: \"Abrianna Gray\"   [− Labels: PRODUCT (0.9847)]\n",
      "Span [1,2]: \"Abrianna Gray\"   [− Labels: PRODUCT (0.9865)]\n",
      "Span [1,2]: \"Abrianna Gray\"   [− Labels: PRODUCT (0.7775)]\n",
      "Span [1,2]: \"Accent Chair\"   [− Labels: PRODUCT (0.893)]\n",
      "Span [1,2]: \"Accent Chair\"   [− Labels: PRODUCT (0.9897)]\n",
      "Span [1,2,3]: \"Aislin Espresso Chair\"   [− Labels: PRODUCT (0.9999)]\n",
      "Span [1,2,3]: \"Aislin Espresso Chair\"   [− Labels: PRODUCT (0.9999)]\n",
      "Span [1,2,3]: \"Aislin Espresso Chair\"   [− Labels: PRODUCT (0.9999)]\n",
      "Span [1,2,3,4]: \"Aislin Espresso Love Seat\"   [− Labels: PRODUCT (0.9999)]\n",
      "Span [1,2,3,4]: \"Aislin Espresso Love Seat\"   [− Labels: PRODUCT (0.9999)]\n",
      "Span [1,2,3,4]: \"Aislin Espresso Love Seat\"   [− Labels: PRODUCT (0.9999)]\n",
      "Span [1,2,3,4,5]: \"Alicia Light Brown Love Seat\"   [− Labels: PRODUCT (0.8229)]\n",
      "Span [1,2,3,4,5]: \"Alicia Light Brown Love Seat\"   [− Labels: PRODUCT (0.9008)]\n",
      "Span [1,2]: \"Alicia Light\"   [− Labels: PRODUCT (0.8422)]\n",
      "Span [1,2]: \"Amaris Dark\"   [− Labels: PRODUCT (0.7624)]\n",
      "Span [1,2,3,4,5]: \"Anita Espresso Power Love Seat\"   [− Labels: PRODUCT (0.7624)]\n",
      "Span [1,2]: \"Ash Chair\"   [− Labels: PRODUCT (0.9988)]\n",
      "Span [1,2]: \"Ash Chair\"   [− Labels: PRODUCT (0.9995)]\n",
      "Span [1,2]: \"Ash Chair\"   [− Labels: PRODUCT (0.9994)]\n",
      "Span [1,2]: \"Ash Loveseat\"   [− Labels: PRODUCT (0.9986)]\n",
      "Span [1,2]: \"Ash Loveseat\"   [− Labels: PRODUCT (0.9991)]\n",
      "Span [1,2]: \"Ash Loveseat\"   [− Labels: PRODUCT (0.9991)]\n",
      "Span [1,2,3]: \"Asma Beige Loveseat\"   [− Labels: PRODUCT (0.9885)]\n",
      "Span [1,2,3]: \"Asma Beige Loveseat\"   [− Labels: PRODUCT (0.9975)]\n",
      "Span [1,2,3]: \"Asma Beige Loveseat\"   [− Labels: PRODUCT (0.998)]\n",
      "Span [1,2,3]: \"Asma Beige Sofa\"   [− Labels: PRODUCT (0.9818)]\n",
      "Span [1,2,3]: \"Asma Beige Sofa\"   [− Labels: PRODUCT (0.9918)]\n",
      "Span [1,2,3]: \"Asma Beige Sofa\"   [− Labels: PRODUCT (0.9714)]\n",
      "Span [1,2,3,4]: \"Asma Beige Sofa Set\"   [− Labels: PRODUCT (0.9909)]\n",
      "Span [1,2,3,4]: \"Asma Beige Sofa Set\"   [− Labels: PRODUCT (0.997)]\n",
      "Span [1,2,3,4]: \"Asma Beige Sofa Set\"   [− Labels: PRODUCT (0.996)]\n",
      "Span [1,2]: \"Atlantic Chair\"   [− Labels: PRODUCT (0.9998)]\n",
      "Span [1,2]: \"Atlantic Chair\"   [− Labels: PRODUCT (0.9996)]\n",
      "Span [1,2]: \"Atlantic Chair\"   [− Labels: PRODUCT (0.9998)]\n",
      "Span [1,2]: \"Atlantic Loveseat\"   [− Labels: PRODUCT (0.9999)]\n",
      "Span [1,2]: \"Atlantic Loveseat\"   [− Labels: PRODUCT (0.9998)]\n",
      "Span [1,2]: \"Atlantic Loveseat\"   [− Labels: PRODUCT (0.9999)]\n",
      "Span [1,2,3]: \"Atlantic Sofa Set\"   [− Labels: PRODUCT (0.8536)]\n",
      "Span [1]: \"Atlantic\"   [− Labels: PRODUCT (0.9078)]\n",
      "Span [1,2,3]: \"Atlantic Sofa Set\"   [− Labels: PRODUCT (0.8615)]\n",
      "Span [1,2,3,4]: \"Augustina Light Brown Chair\"   [− Labels: PRODUCT (0.9972)]\n",
      "Span [1,2,3,4]: \"Augustina Light Brown Chair\"   [− Labels: PRODUCT (0.9945)]\n",
      "Span [1,2,3,4]: \"Augustina Light Brown Chair\"   [− Labels: PRODUCT (0.9967)]\n",
      "Span [1,2,3,4,5]: \"Augustina Light Brown Love Seat\"   [− Labels: PRODUCT (0.9862)]\n",
      "Span [1,2,3,4,5]: \"Augustina Light Brown Love Seat\"   [− Labels: PRODUCT (0.9929)]\n",
      "Span [1,2,3,4,5]: \"Augustina Light Brown Love Seat\"   [− Labels: PRODUCT (0.9898)]\n",
      "Span [1,2,3,4]: \"Augustina Light Brown Sofa\"   [− Labels: PRODUCT (0.8462)]\n",
      "Span [1,2,3,4]: \"Augustina Light Brown Sofa\"   [− Labels: PRODUCT (0.9441)]\n",
      "Span [1,2,3,4]: \"Augustina Light Brown Sofa\"   [− Labels: PRODUCT (0.971)]\n",
      "Span [1,2,3,4,5]: \"Augustina Light Brown Sofa Set\"   [− Labels: PRODUCT (0.9884)]\n",
      "Span [1,2,3,4,5]: \"Augustina Light Brown Sofa Set\"   [− Labels: PRODUCT (0.9865)]\n",
      "Span [1,2,3,4,5]: \"Augustina Light Brown Sofa Set\"   [− Labels: PRODUCT (0.9763)]\n"
     ]
    },
    {
     "data": {
      "application/vnd.jupyter.widget-view+json": {
       "model_id": "",
       "version_major": 2,
       "version_minor": 0
      },
      "text/plain": [
       "Sentences Progress:   0%|          | 0/2 [00:00<?, ?it/s]"
      ]
     },
     "metadata": {},
     "output_type": "display_data"
    },
    {
     "data": {
      "application/vnd.jupyter.widget-view+json": {
       "model_id": "",
       "version_major": 2,
       "version_minor": 0
      },
      "text/plain": [
       "Sentences Progress:   0%|          | 0/4 [00:00<?, ?it/s]"
      ]
     },
     "metadata": {},
     "output_type": "display_data"
    },
    {
     "data": {
      "application/vnd.jupyter.widget-view+json": {
       "model_id": "",
       "version_major": 2,
       "version_minor": 0
      },
      "text/plain": [
       "Sentences Progress:   0%|          | 0/10 [00:00<?, ?it/s]"
      ]
     },
     "metadata": {},
     "output_type": "display_data"
    },
    {
     "data": {
      "application/vnd.jupyter.widget-view+json": {
       "model_id": "",
       "version_major": 2,
       "version_minor": 0
      },
      "text/plain": [
       "Sentences Progress:   0%|          | 0/1 [00:00<?, ?it/s]"
      ]
     },
     "metadata": {},
     "output_type": "display_data"
    },
    {
     "data": {
      "application/vnd.jupyter.widget-view+json": {
       "model_id": "",
       "version_major": 2,
       "version_minor": 0
      },
      "text/plain": [
       "Sentences Progress:   0%|          | 0/13 [00:00<?, ?it/s]"
      ]
     },
     "metadata": {},
     "output_type": "display_data"
    },
    {
     "data": {
      "application/vnd.jupyter.widget-view+json": {
       "model_id": "",
       "version_major": 2,
       "version_minor": 0
      },
      "text/plain": [
       "Sentences Progress:   0%|          | 0/5 [00:00<?, ?it/s]"
      ]
     },
     "metadata": {},
     "output_type": "display_data"
    },
    {
     "name": "stdout",
     "output_type": "stream",
     "text": [
      "Span [6]: \"4Runner\"   [− Labels: PRODUCT (0.9802)]\n",
      "Span [6]: \"4Runner\"   [− Labels: PRODUCT (0.9226)]\n",
      "Span [9]: \"4Runner\"   [− Labels: PRODUCT (0.9932)]\n",
      "Span [6]: \"4Runner\"   [− Labels: PRODUCT (0.9145)]\n",
      "Span [9]: \"4Runner\"   [− Labels: PRODUCT (0.9989)]\n",
      "Span [6]: \"4Runner\"   [− Labels: PRODUCT (0.7572)]\n",
      "Span [9]: \"4Runner\"   [− Labels: PRODUCT (0.9983)]\n",
      "Span [9]: \"4Runner\"   [− Labels: PRODUCT (0.998)]\n",
      "Span [6]: \"4Runner\"   [− Labels: PRODUCT (0.9366)]\n",
      "Span [9]: \"4Runner\"   [− Labels: PRODUCT (0.9981)]\n",
      "Span [6]: \"4Runner\"   [− Labels: PRODUCT (0.9072)]\n",
      "Span [2]: \"4Runner\"   [− Labels: PRODUCT (0.8704)]\n",
      "Span [2]: \"4Runner\"   [− Labels: PRODUCT (0.8479)]\n"
     ]
    },
    {
     "data": {
      "application/vnd.jupyter.widget-view+json": {
       "model_id": "",
       "version_major": 2,
       "version_minor": 0
      },
      "text/plain": [
       "Sentences Progress:   0%|          | 0/5 [00:00<?, ?it/s]"
      ]
     },
     "metadata": {},
     "output_type": "display_data"
    },
    {
     "name": "stdout",
     "output_type": "stream",
     "text": [
      "Span [47,48,49,50]: \"Foam Cushion and Cover\"   [− Labels: PRODUCT (0.8188)]\n",
      "Span [30]: \"Monarch\"   [− Labels: PRODUCT (0.9652)]\n",
      "Span [44,45,46,47,48,49,50]: \"BENCH / SEAT Foam Cushion and Cover\"   [− Labels: PRODUCT (0.7873)]\n",
      "Span [31,32]: \"Grass hopper\"   [− Labels: PRODUCT (0.9507)]\n",
      "Span [30]: \"Monarch\"   [− Labels: PRODUCT (0.8606)]\n",
      "Span [44,45,46,47,48,49,50]: \"BENCH / SEAT Foam Cushion and Cover\"   [− Labels: PRODUCT (0.9055)]\n"
     ]
    },
    {
     "data": {
      "application/vnd.jupyter.widget-view+json": {
       "model_id": "",
       "version_major": 2,
       "version_minor": 0
      },
      "text/plain": [
       "Sentences Progress:   0%|          | 0/6 [00:00<?, ?it/s]"
      ]
     },
     "metadata": {},
     "output_type": "display_data"
    },
    {
     "data": {
      "application/vnd.jupyter.widget-view+json": {
       "model_id": "",
       "version_major": 2,
       "version_minor": 0
      },
      "text/plain": [
       "Sentences Progress:   0%|          | 0/10 [00:00<?, ?it/s]"
      ]
     },
     "metadata": {},
     "output_type": "display_data"
    },
    {
     "data": {
      "application/vnd.jupyter.widget-view+json": {
       "model_id": "",
       "version_major": 2,
       "version_minor": 0
      },
      "text/plain": [
       "Sentences Progress:   0%|          | 0/6 [00:00<?, ?it/s]"
      ]
     },
     "metadata": {},
     "output_type": "display_data"
    },
    {
     "data": {
      "application/vnd.jupyter.widget-view+json": {
       "model_id": "",
       "version_major": 2,
       "version_minor": 0
      },
      "text/plain": [
       "Sentences Progress:   0%|          | 0/5 [00:00<?, ?it/s]"
      ]
     },
     "metadata": {},
     "output_type": "display_data"
    },
    {
     "data": {
      "application/vnd.jupyter.widget-view+json": {
       "model_id": "",
       "version_major": 2,
       "version_minor": 0
      },
      "text/plain": [
       "Sentences Progress:   0%|          | 0/4 [00:00<?, ?it/s]"
      ]
     },
     "metadata": {},
     "output_type": "display_data"
    },
    {
     "data": {
      "application/vnd.jupyter.widget-view+json": {
       "model_id": "",
       "version_major": 2,
       "version_minor": 0
      },
      "text/plain": [
       "Sentences Progress:   0%|          | 0/12 [00:00<?, ?it/s]"
      ]
     },
     "metadata": {},
     "output_type": "display_data"
    },
    {
     "data": {
      "application/vnd.jupyter.widget-view+json": {
       "model_id": "",
       "version_major": 2,
       "version_minor": 0
      },
      "text/plain": [
       "Sentences Progress:   0%|          | 0/10 [00:00<?, ?it/s]"
      ]
     },
     "metadata": {},
     "output_type": "display_data"
    },
    {
     "data": {
      "application/vnd.jupyter.widget-view+json": {
       "model_id": "",
       "version_major": 2,
       "version_minor": 0
      },
      "text/plain": [
       "Sentences Progress:   0%|          | 0/7 [00:00<?, ?it/s]"
      ]
     },
     "metadata": {},
     "output_type": "display_data"
    },
    {
     "data": {
      "application/vnd.jupyter.widget-view+json": {
       "model_id": "",
       "version_major": 2,
       "version_minor": 0
      },
      "text/plain": [
       "Sentences Progress:   0%|          | 0/30 [00:00<?, ?it/s]"
      ]
     },
     "metadata": {},
     "output_type": "display_data"
    },
    {
     "name": "stdout",
     "output_type": "stream",
     "text": [
      "Span [6,7,8]: \"Dining TableBlu Dot\"   [− Labels: PRODUCT (0.7511)]\n",
      "Span [6,7,8]: \"Dining TableBlu Dot\"   [− Labels: PRODUCT (0.8273)]\n",
      "Span [6,7,8]: \"Dining TableBlu Dot\"   [− Labels: PRODUCT (0.8316)]\n",
      "Span [4,5,6]: \"Dining TableBlu Dot\"   [− Labels: PRODUCT (0.896)]\n",
      "Span [4,5,6]: \"Dining TableBlu Dot\"   [− Labels: PRODUCT (0.8698)]\n",
      "Span [4,5,6]: \"Dining TableBlu Dot\"   [− Labels: PRODUCT (0.755)]\n",
      "Span [4,5]: \"Dining Table\"   [− Labels: PRODUCT (0.9528)]\n",
      "Span [1,2,3,4]: \"Dodu Full BedBlu Dot\"   [− Labels: PRODUCT (0.991)]\n",
      "Span [1,2,3,4]: \"Dodu Full BedBlu Dot\"   [− Labels: PRODUCT (0.9855)]\n",
      "Span [1,2,3,4]: \"Dodu Full BedBlu Dot\"   [− Labels: PRODUCT (0.98)]\n",
      "Span [1,2,3]: \"Maui Swivel ChairKartell\"   [− Labels: PRODUCT (0.9413)]\n",
      "Span [1,2,3]: \"Maui Swivel Chair\"   [− Labels: PRODUCT (0.9999)]\n"
     ]
    },
    {
     "data": {
      "application/vnd.jupyter.widget-view+json": {
       "model_id": "",
       "version_major": 2,
       "version_minor": 0
      },
      "text/plain": [
       "Sentences Progress:   0%|          | 0/1 [00:00<?, ?it/s]"
      ]
     },
     "metadata": {},
     "output_type": "display_data"
    },
    {
     "data": {
      "application/vnd.jupyter.widget-view+json": {
       "model_id": "",
       "version_major": 2,
       "version_minor": 0
      },
      "text/plain": [
       "Sentences Progress:   0%|          | 0/17 [00:00<?, ?it/s]"
      ]
     },
     "metadata": {},
     "output_type": "display_data"
    },
    {
     "name": "stdout",
     "output_type": "stream",
     "text": [
      "Span [32]: \"Wishbone\"   [− Labels: PRODUCT (0.7975)]\n",
      "Span [89,90]: \"Oculus Chair\"   [− Labels: PRODUCT (0.863)]\n",
      "Span [94,95]: \"Butterfly Chair\"   [− Labels: PRODUCT (0.8206)]\n",
      "Span [80]: \"Signature\"   [− Labels: PRODUCT (0.8003)]\n",
      "Span [84,85]: \"Wing Chair\"   [− Labels: PRODUCT (0.9733)]\n",
      "Span [88,89,90,91]: \"Oculus Chair Cuero Design\"   [− Labels: PRODUCT (0.9872)]\n",
      "Span [93,94]: \"Butterfly Chair\"   [− Labels: PRODUCT (0.9751)]\n",
      "Span [97,98]: \"Ring Chair\"   [− Labels: PRODUCT (0.7572)]\n",
      "Span [101,102]: \"Easy Chair\"   [− Labels: PRODUCT (0.9034)]\n",
      "Span [84,85]: \"Wing Chair\"   [− Labels: PRODUCT (0.9018)]\n",
      "Span [88,89]: \"Oculus Chair\"   [− Labels: PRODUCT (0.9994)]\n",
      "Span [84,85]: \"Oculus Chair\"   [− Labels: PRODUCT (0.9989)]\n",
      "Span [3,4]: \"Wing Chair\"   [− Labels: PRODUCT (0.9963)]\n",
      "Span [3,4]: \"Oculus Chair\"   [− Labels: PRODUCT (0.9908)]\n",
      "Span [3,4]: \"Oculus Chair\"   [− Labels: PRODUCT (0.9745)]\n",
      "Span [4,5]: \"Butterfly Chair\"   [− Labels: PRODUCT (0.983)]\n",
      "Span [1]: \"Guardian\"   [− Labels: PRODUCT (0.9896)]\n"
     ]
    },
    {
     "data": {
      "application/vnd.jupyter.widget-view+json": {
       "model_id": "",
       "version_major": 2,
       "version_minor": 0
      },
      "text/plain": [
       "Sentences Progress:   0%|          | 0/25 [00:00<?, ?it/s]"
      ]
     },
     "metadata": {},
     "output_type": "display_data"
    },
    {
     "name": "stdout",
     "output_type": "stream",
     "text": [
      "Span [1]: \"Miranda\"   [− Labels: PRODUCT (0.8898)]\n",
      "Span [2]: \"American\"   [− Labels: PRODUCT (0.9108)]\n",
      "Span [1,2]: \"Plantation Chairs\"   [− Labels: PRODUCT (0.9481)]\n",
      "Span [1]: \"Classica\"   [− Labels: PRODUCT (0.8377)]\n",
      "Span [1,2]: \"Bella Chair\"   [− Labels: PRODUCT (0.9878)]\n",
      "Span [1]: \"Miranda\"   [− Labels: PRODUCT (0.9921)]\n",
      "Span [2]: \"American\"   [− Labels: PRODUCT (0.9901)]\n",
      "Span [3]: \"Console\"   [− Labels: PRODUCT (0.8198)]\n",
      "Span [1,2]: \"Bella Chair\"   [− Labels: PRODUCT (0.9878)]\n",
      "Span [1,2]: \"Mirror –\"   [− Labels: PRODUCT (0.7634)]\n",
      "Span [1]: \"Sorbonne\"   [− Labels: PRODUCT (0.9711)]\n",
      "Span [1]: \"Miranda\"   [− Labels: PRODUCT (0.9801)]\n",
      "Span [2]: \"American\"   [− Labels: PRODUCT (0.7534)]\n",
      "Span [1,2]: \"Yukon Bookshelf\"   [− Labels: PRODUCT (0.9933)]\n",
      "Span [1]: \"Classica\"   [− Labels: PRODUCT (0.8822)]\n",
      "Span [1]: \"Miranda\"   [− Labels: PRODUCT (0.975)]\n",
      "Span [2]: \"American\"   [− Labels: PRODUCT (0.9901)]\n",
      "Span [3]: \"Console\"   [− Labels: PRODUCT (0.8198)]\n",
      "Span [1,2]: \"Bella Chair\"   [− Labels: PRODUCT (0.9878)]\n",
      "Span [1]: \"Sorbonne\"   [− Labels: PRODUCT (0.9667)]\n",
      "Span [1]: \"Miranda\"   [− Labels: PRODUCT (0.9388)]\n",
      "Span [2]: \"American\"   [− Labels: PRODUCT (0.7534)]\n",
      "Span [1,2]: \"Yukon Bookshelf\"   [− Labels: PRODUCT (0.9933)]\n",
      "Span [1]: \"Classica\"   [− Labels: PRODUCT (0.8822)]\n",
      "Span [1]: \"Miranda\"   [− Labels: PRODUCT (0.975)]\n",
      "Span [2]: \"American\"   [− Labels: PRODUCT (0.9901)]\n",
      "Span [3]: \"Console\"   [− Labels: PRODUCT (0.8198)]\n",
      "Span [1,2]: \"Bella Chair\"   [− Labels: PRODUCT (0.9878)]\n",
      "Span [1]: \"Sorbonne\"   [− Labels: PRODUCT (0.9667)]\n",
      "Span [1]: \"Miranda\"   [− Labels: PRODUCT (0.9388)]\n",
      "Span [2]: \"American\"   [− Labels: PRODUCT (0.7534)]\n",
      "Span [1,2]: \"Yukon Bookshelf\"   [− Labels: PRODUCT (0.9933)]\n",
      "Span [1]: \"Classica\"   [− Labels: PRODUCT (0.8822)]\n",
      "Span [1]: \"Miranda\"   [− Labels: PRODUCT (0.975)]\n",
      "Span [2]: \"American\"   [− Labels: PRODUCT (0.9901)]\n",
      "Span [3]: \"Console\"   [− Labels: PRODUCT (0.8198)]\n",
      "Span [1,2]: \"Bella Chair\"   [− Labels: PRODUCT (0.9878)]\n",
      "Span [1,2,3]: \"Mirror – Chateau\"   [− Labels: PRODUCT (0.9255)]\n",
      "Span [8,9]: \"Mona Mirror\"   [− Labels: PRODUCT (0.8155)]\n"
     ]
    },
    {
     "data": {
      "application/vnd.jupyter.widget-view+json": {
       "model_id": "",
       "version_major": 2,
       "version_minor": 0
      },
      "text/plain": [
       "Sentences Progress:   0%|          | 0/17 [00:00<?, ?it/s]"
      ]
     },
     "metadata": {},
     "output_type": "display_data"
    },
    {
     "data": {
      "application/vnd.jupyter.widget-view+json": {
       "model_id": "",
       "version_major": 2,
       "version_minor": 0
      },
      "text/plain": [
       "Sentences Progress:   0%|          | 0/6 [00:00<?, ?it/s]"
      ]
     },
     "metadata": {},
     "output_type": "display_data"
    },
    {
     "data": {
      "application/vnd.jupyter.widget-view+json": {
       "model_id": "",
       "version_major": 2,
       "version_minor": 0
      },
      "text/plain": [
       "Sentences Progress:   0%|          | 0/1 [00:00<?, ?it/s]"
      ]
     },
     "metadata": {},
     "output_type": "display_data"
    },
    {
     "data": {
      "application/vnd.jupyter.widget-view+json": {
       "model_id": "",
       "version_major": 2,
       "version_minor": 0
      },
      "text/plain": [
       "Sentences Progress:   0%|          | 0/1 [00:00<?, ?it/s]"
      ]
     },
     "metadata": {},
     "output_type": "display_data"
    },
    {
     "data": {
      "application/vnd.jupyter.widget-view+json": {
       "model_id": "",
       "version_major": 2,
       "version_minor": 0
      },
      "text/plain": [
       "Sentences Progress:   0%|          | 0/10 [00:00<?, ?it/s]"
      ]
     },
     "metadata": {},
     "output_type": "display_data"
    },
    {
     "name": "stdout",
     "output_type": "stream",
     "text": [
      "Span [14,15,16]: \"Mother of Pearl\"   [− Labels: PRODUCT (0.7726)]\n"
     ]
    },
    {
     "data": {
      "application/vnd.jupyter.widget-view+json": {
       "model_id": "",
       "version_major": 2,
       "version_minor": 0
      },
      "text/plain": [
       "Sentences Progress:   0%|          | 0/47 [00:00<?, ?it/s]"
      ]
     },
     "metadata": {},
     "output_type": "display_data"
    },
    {
     "name": "stdout",
     "output_type": "stream",
     "text": [
      "Span [1,2,3,4]: \"RBL Credit Card 11\"   [− Labels: PRODUCT (0.9365)]\n",
      "Span [37,38]: \"INDIANA Walker\"   [− Labels: PRODUCT (0.997)]\n",
      "Span [43,44]: \"INDIANA Walker\"   [− Labels: PRODUCT (0.9967)]\n",
      "Span [37,38]: \"INDIANA Walker\"   [− Labels: PRODUCT (0.9972)]\n",
      "Span [43,44]: \"INDIANA Walker\"   [− Labels: PRODUCT (0.9972)]\n"
     ]
    },
    {
     "data": {
      "application/vnd.jupyter.widget-view+json": {
       "model_id": "",
       "version_major": 2,
       "version_minor": 0
      },
      "text/plain": [
       "Sentences Progress:   0%|          | 0/5 [00:00<?, ?it/s]"
      ]
     },
     "metadata": {},
     "output_type": "display_data"
    },
    {
     "data": {
      "application/vnd.jupyter.widget-view+json": {
       "model_id": "",
       "version_major": 2,
       "version_minor": 0
      },
      "text/plain": [
       "Sentences Progress:   0%|          | 0/20 [00:00<?, ?it/s]"
      ]
     },
     "metadata": {},
     "output_type": "display_data"
    },
    {
     "data": {
      "application/vnd.jupyter.widget-view+json": {
       "model_id": "",
       "version_major": 2,
       "version_minor": 0
      },
      "text/plain": [
       "Sentences Progress:   0%|          | 0/6 [00:00<?, ?it/s]"
      ]
     },
     "metadata": {},
     "output_type": "display_data"
    },
    {
     "name": "stdout",
     "output_type": "stream",
     "text": [
      "Span [1,2,3]: \"Duo Ergonomic Chair\"   [− Labels: PRODUCT (0.9915)]\n",
      "Span [1,2,3]: \"Duo Ergonomic Chair\"   [− Labels: PRODUCT (0.9993)]\n",
      "Span [1,2,3]: \"Duo Ergonomic Chair\"   [− Labels: PRODUCT (0.9997)]\n",
      "Span [1,2,3]: \"Duo Ergonomic Chair\"   [− Labels: PRODUCT (0.999)]\n",
      "Span [1,2,3]: \"Duo Ergonomic Chair\"   [− Labels: PRODUCT (0.9934)]\n",
      "Span [1,2,3]: \"Duo Ergonomic Chair\"   [− Labels: PRODUCT (0.9999)]\n",
      "Span [1,2,3]: \"Duo Ergonomic Chair\"   [− Labels: PRODUCT (1.0)]\n",
      "Span [1,2,3]: \"Duo Ergonomic Chair\"   [− Labels: PRODUCT (1.0)]\n",
      "Span [1,2,3]: \"Duo Ergonomic Chair\"   [− Labels: PRODUCT (0.9999)]\n",
      "Span [1,2,3]: \"Duo Ergonomic Chair\"   [− Labels: PRODUCT (1.0)]\n"
     ]
    },
    {
     "data": {
      "application/vnd.jupyter.widget-view+json": {
       "model_id": "",
       "version_major": 2,
       "version_minor": 0
      },
      "text/plain": [
       "Sentences Progress:   0%|          | 0/11 [00:00<?, ?it/s]"
      ]
     },
     "metadata": {},
     "output_type": "display_data"
    },
    {
     "name": "stdout",
     "output_type": "stream",
     "text": [
      "Span [9,10,11]: \"Ezra Bar Stool\"   [− Labels: PRODUCT (0.7877)]\n",
      "Span [29,30]: \"Harriet Pouf\"   [− Labels: PRODUCT (0.993)]\n",
      "Span [36,37]: \"Harriet Pouf\"   [− Labels: PRODUCT (0.9926)]\n",
      "Span [9,10,11]: \"Ezra Bar Stool\"   [− Labels: PRODUCT (0.8426)]\n",
      "Span [29,30]: \"Harriet Pouf\"   [− Labels: PRODUCT (0.9947)]\n",
      "Span [36,37]: \"Harriet Pouf\"   [− Labels: PRODUCT (0.9945)]\n"
     ]
    },
    {
     "data": {
      "application/vnd.jupyter.widget-view+json": {
       "model_id": "",
       "version_major": 2,
       "version_minor": 0
      },
      "text/plain": [
       "Sentences Progress:   0%|          | 0/7 [00:00<?, ?it/s]"
      ]
     },
     "metadata": {},
     "output_type": "display_data"
    },
    {
     "data": {
      "application/vnd.jupyter.widget-view+json": {
       "model_id": "",
       "version_major": 2,
       "version_minor": 0
      },
      "text/plain": [
       "Sentences Progress:   0%|          | 0/3 [00:00<?, ?it/s]"
      ]
     },
     "metadata": {},
     "output_type": "display_data"
    },
    {
     "data": {
      "application/vnd.jupyter.widget-view+json": {
       "model_id": "",
       "version_major": 2,
       "version_minor": 0
      },
      "text/plain": [
       "Sentences Progress:   0%|          | 0/30 [00:00<?, ?it/s]"
      ]
     },
     "metadata": {},
     "output_type": "display_data"
    },
    {
     "name": "stdout",
     "output_type": "stream",
     "text": [
      "Span [32,33]: \"Lume Coat\"   [− Labels: PRODUCT (0.8294)]\n",
      "Span [39,40,41]: \"Lume Shoe Stand\"   [− Labels: PRODUCT (0.9847)]\n",
      "Span [32,33]: \"Lume Coat\"   [− Labels: PRODUCT (0.7862)]\n",
      "Span [41,42]: \"Lume Coat\"   [− Labels: PRODUCT (0.809)]\n",
      "Span [49,50]: \"Lume Coat\"   [− Labels: PRODUCT (0.8815)]\n"
     ]
    },
    {
     "data": {
      "application/vnd.jupyter.widget-view+json": {
       "model_id": "",
       "version_major": 2,
       "version_minor": 0
      },
      "text/plain": [
       "Sentences Progress:   0%|          | 0/6 [00:00<?, ?it/s]"
      ]
     },
     "metadata": {},
     "output_type": "display_data"
    },
    {
     "data": {
      "application/vnd.jupyter.widget-view+json": {
       "model_id": "",
       "version_major": 2,
       "version_minor": 0
      },
      "text/plain": [
       "Sentences Progress:   0%|          | 0/4 [00:00<?, ?it/s]"
      ]
     },
     "metadata": {},
     "output_type": "display_data"
    },
    {
     "data": {
      "application/vnd.jupyter.widget-view+json": {
       "model_id": "",
       "version_major": 2,
       "version_minor": 0
      },
      "text/plain": [
       "Sentences Progress:   0%|          | 0/13 [00:00<?, ?it/s]"
      ]
     },
     "metadata": {},
     "output_type": "display_data"
    },
    {
     "data": {
      "application/vnd.jupyter.widget-view+json": {
       "model_id": "",
       "version_major": 2,
       "version_minor": 0
      },
      "text/plain": [
       "Sentences Progress:   0%|          | 0/11 [00:00<?, ?it/s]"
      ]
     },
     "metadata": {},
     "output_type": "display_data"
    },
    {
     "data": {
      "application/vnd.jupyter.widget-view+json": {
       "model_id": "",
       "version_major": 2,
       "version_minor": 0
      },
      "text/plain": [
       "Sentences Progress:   0%|          | 0/7 [00:00<?, ?it/s]"
      ]
     },
     "metadata": {},
     "output_type": "display_data"
    },
    {
     "data": {
      "application/vnd.jupyter.widget-view+json": {
       "model_id": "",
       "version_major": 2,
       "version_minor": 0
      },
      "text/plain": [
       "Sentences Progress:   0%|          | 0/9 [00:00<?, ?it/s]"
      ]
     },
     "metadata": {},
     "output_type": "display_data"
    },
    {
     "data": {
      "application/vnd.jupyter.widget-view+json": {
       "model_id": "",
       "version_major": 2,
       "version_minor": 0
      },
      "text/plain": [
       "Sentences Progress:   0%|          | 0/4 [00:00<?, ?it/s]"
      ]
     },
     "metadata": {},
     "output_type": "display_data"
    },
    {
     "data": {
      "application/vnd.jupyter.widget-view+json": {
       "model_id": "",
       "version_major": 2,
       "version_minor": 0
      },
      "text/plain": [
       "Sentences Progress:   0%|          | 0/3 [00:00<?, ?it/s]"
      ]
     },
     "metadata": {},
     "output_type": "display_data"
    },
    {
     "data": {
      "application/vnd.jupyter.widget-view+json": {
       "model_id": "",
       "version_major": 2,
       "version_minor": 0
      },
      "text/plain": [
       "Sentences Progress:   0%|          | 0/5 [00:00<?, ?it/s]"
      ]
     },
     "metadata": {},
     "output_type": "display_data"
    },
    {
     "data": {
      "application/vnd.jupyter.widget-view+json": {
       "model_id": "",
       "version_major": 2,
       "version_minor": 0
      },
      "text/plain": [
       "Sentences Progress:   0%|          | 0/8 [00:00<?, ?it/s]"
      ]
     },
     "metadata": {},
     "output_type": "display_data"
    },
    {
     "data": {
      "application/vnd.jupyter.widget-view+json": {
       "model_id": "",
       "version_major": 2,
       "version_minor": 0
      },
      "text/plain": [
       "Sentences Progress:   0%|          | 0/25 [00:00<?, ?it/s]"
      ]
     },
     "metadata": {},
     "output_type": "display_data"
    },
    {
     "data": {
      "application/vnd.jupyter.widget-view+json": {
       "model_id": "",
       "version_major": 2,
       "version_minor": 0
      },
      "text/plain": [
       "Sentences Progress:   0%|          | 0/24 [00:00<?, ?it/s]"
      ]
     },
     "metadata": {},
     "output_type": "display_data"
    },
    {
     "data": {
      "application/vnd.jupyter.widget-view+json": {
       "model_id": "",
       "version_major": 2,
       "version_minor": 0
      },
      "text/plain": [
       "Sentences Progress:   0%|          | 0/6 [00:00<?, ?it/s]"
      ]
     },
     "metadata": {},
     "output_type": "display_data"
    },
    {
     "data": {
      "application/vnd.jupyter.widget-view+json": {
       "model_id": "",
       "version_major": 2,
       "version_minor": 0
      },
      "text/plain": [
       "Sentences Progress:   0%|          | 0/5 [00:00<?, ?it/s]"
      ]
     },
     "metadata": {},
     "output_type": "display_data"
    },
    {
     "name": "stdout",
     "output_type": "stream",
     "text": [
      "Span [2,3]: \"Los Angeles\"   [− Labels: PRODUCT (0.7831)]\n",
      "Span [35,36]: \"Santa Monica\"   [− Labels: PRODUCT (0.9653)]\n"
     ]
    },
    {
     "data": {
      "application/vnd.jupyter.widget-view+json": {
       "model_id": "",
       "version_major": 2,
       "version_minor": 0
      },
      "text/plain": [
       "Sentences Progress:   0%|          | 0/21 [00:00<?, ?it/s]"
      ]
     },
     "metadata": {},
     "output_type": "display_data"
    },
    {
     "data": {
      "application/vnd.jupyter.widget-view+json": {
       "model_id": "",
       "version_major": 2,
       "version_minor": 0
      },
      "text/plain": [
       "Sentences Progress:   0%|          | 0/2 [00:00<?, ?it/s]"
      ]
     },
     "metadata": {},
     "output_type": "display_data"
    },
    {
     "data": {
      "application/vnd.jupyter.widget-view+json": {
       "model_id": "",
       "version_major": 2,
       "version_minor": 0
      },
      "text/plain": [
       "Sentences Progress:   0%|          | 0/7 [00:00<?, ?it/s]"
      ]
     },
     "metadata": {},
     "output_type": "display_data"
    },
    {
     "name": "stdout",
     "output_type": "stream",
     "text": [
      "Span [50]: \"iFFALCON\"   [− Labels: PRODUCT (0.9808)]\n",
      "Span [88]: \"iFFALCON\"   [− Labels: PRODUCT (0.9883)]\n",
      "Span [38]: \"iFFALCON\"   [− Labels: PRODUCT (0.9752)]\n",
      "Span [76]: \"iFFALCON\"   [− Labels: PRODUCT (0.9953)]\n",
      "Span [50]: \"iFFALCON\"   [− Labels: PRODUCT (0.9808)]\n",
      "Span [88]: \"iFFALCON\"   [− Labels: PRODUCT (0.9883)]\n",
      "Span [34]: \"iFFALCON\"   [− Labels: PRODUCT (0.9461)]\n",
      "Span [3]: \"iFFALCON\"   [− Labels: PRODUCT (0.7867)]\n",
      "Span [4]: \"iFFALCON\"   [− Labels: PRODUCT (0.8719)]\n",
      "Span [34]: \"iFFALCON\"   [− Labels: PRODUCT (0.8551)]\n",
      "Span [34]: \"iFFALCON\"   [− Labels: PRODUCT (0.8368)]\n",
      "Span [72]: \"iFFALCON\"   [− Labels: PRODUCT (0.7562)]\n"
     ]
    },
    {
     "data": {
      "application/vnd.jupyter.widget-view+json": {
       "model_id": "",
       "version_major": 2,
       "version_minor": 0
      },
      "text/plain": [
       "Sentences Progress:   0%|          | 0/9 [00:00<?, ?it/s]"
      ]
     },
     "metadata": {},
     "output_type": "display_data"
    },
    {
     "name": "stdout",
     "output_type": "stream",
     "text": [
      "Span [42,43]: \"King Koil\"   [− Labels: PRODUCT (0.7576)]\n"
     ]
    },
    {
     "data": {
      "application/vnd.jupyter.widget-view+json": {
       "model_id": "",
       "version_major": 2,
       "version_minor": 0
      },
      "text/plain": [
       "Sentences Progress:   0%|          | 0/4 [00:00<?, ?it/s]"
      ]
     },
     "metadata": {},
     "output_type": "display_data"
    },
    {
     "data": {
      "application/vnd.jupyter.widget-view+json": {
       "model_id": "",
       "version_major": 2,
       "version_minor": 0
      },
      "text/plain": [
       "Sentences Progress:   0%|          | 0/2 [00:00<?, ?it/s]"
      ]
     },
     "metadata": {},
     "output_type": "display_data"
    },
    {
     "data": {
      "application/vnd.jupyter.widget-view+json": {
       "model_id": "",
       "version_major": 2,
       "version_minor": 0
      },
      "text/plain": [
       "Sentences Progress:   0%|          | 0/7 [00:00<?, ?it/s]"
      ]
     },
     "metadata": {},
     "output_type": "display_data"
    },
    {
     "name": "stdout",
     "output_type": "stream",
     "text": [
      "Span [19,20,21]: \"Basic Side Table\"   [− Labels: PRODUCT (0.8163)]\n",
      "Span [27,28,29]: \"Basic Side Table\"   [− Labels: PRODUCT (0.9857)]\n",
      "Span [6,7,8,9]: \"Quick View Country Settee\"   [− Labels: PRODUCT (0.8591)]\n",
      "Span [27,28,29]: \"Basic Side Table\"   [− Labels: PRODUCT (0.9445)]\n",
      "Span [27,28,29]: \"Basic Side Table\"   [− Labels: PRODUCT (0.9445)]\n"
     ]
    },
    {
     "data": {
      "application/vnd.jupyter.widget-view+json": {
       "model_id": "",
       "version_major": 2,
       "version_minor": 0
      },
      "text/plain": [
       "Sentences Progress:   0%|          | 0/26 [00:00<?, ?it/s]"
      ]
     },
     "metadata": {},
     "output_type": "display_data"
    },
    {
     "data": {
      "application/vnd.jupyter.widget-view+json": {
       "model_id": "",
       "version_major": 2,
       "version_minor": 0
      },
      "text/plain": [
       "Sentences Progress:   0%|          | 0/12 [00:00<?, ?it/s]"
      ]
     },
     "metadata": {},
     "output_type": "display_data"
    },
    {
     "name": "stdout",
     "output_type": "stream",
     "text": [
      "Span [37,38]: \"Magniflex ®\"   [− Labels: PRODUCT (0.7894)]\n",
      "Span [37,38]: \"Magniflex ®\"   [− Labels: PRODUCT (0.9238)]\n",
      "Span [37,38]: \"Magniflex ®\"   [− Labels: PRODUCT (0.8475)]\n",
      "Span [37,38]: \"Magniflex ®\"   [− Labels: PRODUCT (0.9991)]\n",
      "Span [4,5]: \"Magniflex ®\"   [− Labels: PRODUCT (0.7841)]\n",
      "Span [3]: \"Magniflex\"   [− Labels: PRODUCT (0.9678)]\n",
      "Span [1,2]: \"Magniflex ®\"   [− Labels: PRODUCT (0.7843)]\n",
      "Span [37,38]: \"Magniflex ®\"   [− Labels: PRODUCT (0.7694)]\n",
      "Span [37,38]: \"Magniflex ®\"   [− Labels: PRODUCT (0.7756)]\n",
      "Span [3,4]: \"Magniflex ®\"   [− Labels: PRODUCT (0.9952)]\n",
      "Span [1,2]: \"Magniflex ®\"   [− Labels: PRODUCT (0.998)]\n",
      "Span [37,38]: \"Magniflex ®\"   [− Labels: PRODUCT (0.998)]\n",
      "Span [37]: \"Magniflex\"   [− Labels: PRODUCT (0.8838)]\n",
      "Span [37,38]: \"Magniflex ®\"   [− Labels: PRODUCT (0.9991)]\n",
      "Span [37,38]: \"Magniflex ®\"   [− Labels: PRODUCT (0.9987)]\n"
     ]
    },
    {
     "data": {
      "application/vnd.jupyter.widget-view+json": {
       "model_id": "",
       "version_major": 2,
       "version_minor": 0
      },
      "text/plain": [
       "Sentences Progress:   0%|          | 0/12 [00:00<?, ?it/s]"
      ]
     },
     "metadata": {},
     "output_type": "display_data"
    },
    {
     "data": {
      "application/vnd.jupyter.widget-view+json": {
       "model_id": "",
       "version_major": 2,
       "version_minor": 0
      },
      "text/plain": [
       "Sentences Progress:   0%|          | 0/2 [00:00<?, ?it/s]"
      ]
     },
     "metadata": {},
     "output_type": "display_data"
    },
    {
     "data": {
      "application/vnd.jupyter.widget-view+json": {
       "model_id": "",
       "version_major": 2,
       "version_minor": 0
      },
      "text/plain": [
       "Sentences Progress:   0%|          | 0/14 [00:00<?, ?it/s]"
      ]
     },
     "metadata": {},
     "output_type": "display_data"
    },
    {
     "name": "stdout",
     "output_type": "stream",
     "text": [
      "Span [6]: \"LongueTablesStorageLightingAccessories\"   [− Labels: PRODUCT (0.9773)]\n",
      "Span [6]: \"LongueTablesStorageLightingAccessories\"   [− Labels: PRODUCT (0.9838)]\n",
      "Span [6]: \"LongueTablesStorageLightingAccessories\"   [− Labels: PRODUCT (0.9976)]\n",
      "Span [6]: \"LongueTablesStorageLightingAccessories\"   [− Labels: PRODUCT (0.9986)]\n",
      "Span [6]: \"LongueTablesStorageLightingAccessories\"   [− Labels: PRODUCT (0.999)]\n",
      "Span [5]: \"LongueTablesStorageLightingAccessories\"   [− Labels: PRODUCT (0.9698)]\n",
      "Span [2]: \"LongueTablesStorageLightingAccessories\"   [− Labels: PRODUCT (0.9916)]\n",
      "Span [2]: \"LongueTablesStorageLightingAccessories\"   [− Labels: PRODUCT (0.9943)]\n"
     ]
    },
    {
     "data": {
      "application/vnd.jupyter.widget-view+json": {
       "model_id": "",
       "version_major": 2,
       "version_minor": 0
      },
      "text/plain": [
       "Sentences Progress:   0%|          | 0/8 [00:00<?, ?it/s]"
      ]
     },
     "metadata": {},
     "output_type": "display_data"
    },
    {
     "data": {
      "application/vnd.jupyter.widget-view+json": {
       "model_id": "",
       "version_major": 2,
       "version_minor": 0
      },
      "text/plain": [
       "Sentences Progress:   0%|          | 0/6 [00:00<?, ?it/s]"
      ]
     },
     "metadata": {},
     "output_type": "display_data"
    },
    {
     "data": {
      "application/vnd.jupyter.widget-view+json": {
       "model_id": "",
       "version_major": 2,
       "version_minor": 0
      },
      "text/plain": [
       "Sentences Progress:   0%|          | 0/7 [00:00<?, ?it/s]"
      ]
     },
     "metadata": {},
     "output_type": "display_data"
    },
    {
     "data": {
      "application/vnd.jupyter.widget-view+json": {
       "model_id": "",
       "version_major": 2,
       "version_minor": 0
      },
      "text/plain": [
       "Sentences Progress:   0%|          | 0/2 [00:00<?, ?it/s]"
      ]
     },
     "metadata": {},
     "output_type": "display_data"
    },
    {
     "data": {
      "application/vnd.jupyter.widget-view+json": {
       "model_id": "",
       "version_major": 2,
       "version_minor": 0
      },
      "text/plain": [
       "Sentences Progress:   0%|          | 0/14 [00:00<?, ?it/s]"
      ]
     },
     "metadata": {},
     "output_type": "display_data"
    },
    {
     "name": "stdout",
     "output_type": "stream",
     "text": [
      "Span [47,48,49]: \"The SOHO HOOK\"   [− Labels: PRODUCT (0.9999)]\n",
      "Span [1,2]: \"SOHO HOOK\"   [− Labels: PRODUCT (0.9999)]\n",
      "Span [1,2,3]: \"The SOHO 50\"   [− Labels: PRODUCT (1.0)]\n",
      "Span [16,17,18]: \"the SOHO 100\"   [− Labels: PRODUCT (1.0)]\n",
      "Span [2,3,4]: \"the SOHO 50\"   [− Labels: PRODUCT (0.9998)]\n",
      "Span [16,17]: \"SOHO HOOK\"   [− Labels: PRODUCT (0.9909)]\n",
      "Span [22,23]: \"SOHO HOOK\"   [− Labels: PRODUCT (0.9776)]\n",
      "Span [28,29,30]: \"The SOHO HOOK\"   [− Labels: PRODUCT (0.9999)]\n",
      "Span [15,16,17]: \"The SOHO HOOK\"   [− Labels: PRODUCT (0.9998)]\n",
      "Span [28,29,30]: \"The Wall Collection\"   [− Labels: PRODUCT (0.9517)]\n",
      "Span [1,2]: \"SOHO HOOK\"   [− Labels: PRODUCT (0.9998)]\n",
      "Span [1,2,3]: \"The SOHO 50\"   [− Labels: PRODUCT (0.9981)]\n",
      "Span [16,17,18]: \"the SOHO 100\"   [− Labels: PRODUCT (0.9942)]\n",
      "Span [2,3,4]: \"the SOHO 50\"   [− Labels: PRODUCT (0.9994)]\n",
      "Span [3,4]: \"AL 6061\"   [− Labels: PRODUCT (0.9171)]\n",
      "Span [16,17]: \"SOHO HOOK\"   [− Labels: PRODUCT (0.8212)]\n",
      "Span [22,23]: \"SOHO HOOK\"   [− Labels: PRODUCT (0.7748)]\n",
      "Span [28,29,30]: \"The SOHO HOOK\"   [− Labels: PRODUCT (0.9999)]\n",
      "Span [41,42,43]: \"The Wall Collection\"   [− Labels: PRODUCT (0.9766)]\n",
      "Span [15,16,17]: \"The SOHO HOOK\"   [− Labels: PRODUCT (0.8463)]\n",
      "Span [28,29,30]: \"The Wall Collection\"   [− Labels: PRODUCT (0.9447)]\n",
      "Span [1,2]: \"SOHO HOOK\"   [− Labels: PRODUCT (0.9986)]\n",
      "Span [1,2,3]: \"The SOHO 50\"   [− Labels: PRODUCT (0.9999)]\n",
      "Span [16,17,18]: \"the SOHO 100\"   [− Labels: PRODUCT (0.9999)]\n",
      "Span [2,3,4]: \"the SOHO 50\"   [− Labels: PRODUCT (0.9999)]\n",
      "Span [16,17]: \"SOHO HOOK\"   [− Labels: PRODUCT (0.7619)]\n",
      "Span [22,23]: \"SOHO HOOK\"   [− Labels: PRODUCT (0.8977)]\n",
      "Span [28,29,30]: \"The SOHO HOOK\"   [− Labels: PRODUCT (0.9999)]\n",
      "Span [41,42,43]: \"The Wall Collection\"   [− Labels: PRODUCT (0.9997)]\n",
      "Span [15,16,17]: \"The SOHO HOOK\"   [− Labels: PRODUCT (0.9999)]\n",
      "Span [28,29,30]: \"The Wall Collection\"   [− Labels: PRODUCT (0.972)]\n",
      "Span [1,2]: \"SOHO HOOK\"   [− Labels: PRODUCT (0.9998)]\n",
      "Span [1,2,3]: \"The SOHO 50\"   [− Labels: PRODUCT (1.0)]\n",
      "Span [16,17,18]: \"the SOHO 100\"   [− Labels: PRODUCT (1.0)]\n",
      "Span [2,3,4]: \"the SOHO 50\"   [− Labels: PRODUCT (0.9997)]\n",
      "Span [3,4,5]: \"AL 6061 T6\"   [− Labels: PRODUCT (0.9842)]\n",
      "Span [28,29,30]: \"The SOHO HOOK\"   [− Labels: PRODUCT (0.9999)]\n",
      "Span [9,10,11]: \"The SOHO HOOK\"   [− Labels: PRODUCT (0.9996)]\n",
      "Span [1,2]: \"SOHO HOOK\"   [− Labels: PRODUCT (0.9546)]\n",
      "Span [1,2,3]: \"The SOHO 50\"   [− Labels: PRODUCT (1.0)]\n",
      "Span [16,17,18]: \"the SOHO 100\"   [− Labels: PRODUCT (1.0)]\n",
      "Span [2,3]: \"the SOHO\"   [− Labels: PRODUCT (0.9767)]\n"
     ]
    },
    {
     "data": {
      "application/vnd.jupyter.widget-view+json": {
       "model_id": "",
       "version_major": 2,
       "version_minor": 0
      },
      "text/plain": [
       "Sentences Progress:   0%|          | 0/6 [00:00<?, ?it/s]"
      ]
     },
     "metadata": {},
     "output_type": "display_data"
    },
    {
     "data": {
      "application/vnd.jupyter.widget-view+json": {
       "model_id": "",
       "version_major": 2,
       "version_minor": 0
      },
      "text/plain": [
       "Sentences Progress:   0%|          | 0/18 [00:00<?, ?it/s]"
      ]
     },
     "metadata": {},
     "output_type": "display_data"
    },
    {
     "data": {
      "application/vnd.jupyter.widget-view+json": {
       "model_id": "",
       "version_major": 2,
       "version_minor": 0
      },
      "text/plain": [
       "Sentences Progress:   0%|          | 0/5 [00:00<?, ?it/s]"
      ]
     },
     "metadata": {},
     "output_type": "display_data"
    },
    {
     "data": {
      "application/vnd.jupyter.widget-view+json": {
       "model_id": "",
       "version_major": 2,
       "version_minor": 0
      },
      "text/plain": [
       "Sentences Progress:   0%|          | 0/7 [00:00<?, ?it/s]"
      ]
     },
     "metadata": {},
     "output_type": "display_data"
    },
    {
     "data": {
      "application/vnd.jupyter.widget-view+json": {
       "model_id": "",
       "version_major": 2,
       "version_minor": 0
      },
      "text/plain": [
       "Sentences Progress:   0%|          | 0/2 [00:00<?, ?it/s]"
      ]
     },
     "metadata": {},
     "output_type": "display_data"
    },
    {
     "data": {
      "application/vnd.jupyter.widget-view+json": {
       "model_id": "",
       "version_major": 2,
       "version_minor": 0
      },
      "text/plain": [
       "Sentences Progress:   0%|          | 0/7 [00:00<?, ?it/s]"
      ]
     },
     "metadata": {},
     "output_type": "display_data"
    },
    {
     "data": {
      "application/vnd.jupyter.widget-view+json": {
       "model_id": "",
       "version_major": 2,
       "version_minor": 0
      },
      "text/plain": [
       "Sentences Progress:   0%|          | 0/8 [00:00<?, ?it/s]"
      ]
     },
     "metadata": {},
     "output_type": "display_data"
    },
    {
     "data": {
      "application/vnd.jupyter.widget-view+json": {
       "model_id": "",
       "version_major": 2,
       "version_minor": 0
      },
      "text/plain": [
       "Sentences Progress:   0%|          | 0/10 [00:00<?, ?it/s]"
      ]
     },
     "metadata": {},
     "output_type": "display_data"
    },
    {
     "name": "stdout",
     "output_type": "stream",
     "text": [
      "Span [32]: \"Tropicalia\"   [− Labels: PRODUCT (0.762)]\n",
      "Span [32,33]: \"Tropicalia Series\"   [− Labels: PRODUCT (0.7842)]\n",
      "Span [32,33,34,35]: \"Tropicalia Series ( Special\"   [− Labels: PRODUCT (0.8934)]\n"
     ]
    },
    {
     "data": {
      "application/vnd.jupyter.widget-view+json": {
       "model_id": "",
       "version_major": 2,
       "version_minor": 0
      },
      "text/plain": [
       "Sentences Progress:   0%|          | 0/11 [00:00<?, ?it/s]"
      ]
     },
     "metadata": {},
     "output_type": "display_data"
    },
    {
     "name": "stdout",
     "output_type": "stream",
     "text": [
      "Span [32]: \"Tropicalia\"   [− Labels: PRODUCT (0.8189)]\n",
      "Span [31,32,33]: \"Tropicalia Series (\"   [− Labels: PRODUCT (0.8646)]\n",
      "Span [30,31,32,33,34,35]: \"Tropicalia Series ( Special Edition )\"   [− Labels: PRODUCT (0.9019)]\n",
      "Span [33,34,35,36]: \"Tropicalia Series ( Special\"   [− Labels: PRODUCT (0.8795)]\n"
     ]
    },
    {
     "data": {
      "application/vnd.jupyter.widget-view+json": {
       "model_id": "",
       "version_major": 2,
       "version_minor": 0
      },
      "text/plain": [
       "Sentences Progress:   0%|          | 0/8 [00:00<?, ?it/s]"
      ]
     },
     "metadata": {},
     "output_type": "display_data"
    },
    {
     "data": {
      "application/vnd.jupyter.widget-view+json": {
       "model_id": "",
       "version_major": 2,
       "version_minor": 0
      },
      "text/plain": [
       "Sentences Progress:   0%|          | 0/1 [00:00<?, ?it/s]"
      ]
     },
     "metadata": {},
     "output_type": "display_data"
    },
    {
     "data": {
      "application/vnd.jupyter.widget-view+json": {
       "model_id": "",
       "version_major": 2,
       "version_minor": 0
      },
      "text/plain": [
       "Sentences Progress:   0%|          | 0/9 [00:00<?, ?it/s]"
      ]
     },
     "metadata": {},
     "output_type": "display_data"
    },
    {
     "data": {
      "application/vnd.jupyter.widget-view+json": {
       "model_id": "",
       "version_major": 2,
       "version_minor": 0
      },
      "text/plain": [
       "Sentences Progress:   0%|          | 0/7 [00:00<?, ?it/s]"
      ]
     },
     "metadata": {},
     "output_type": "display_data"
    },
    {
     "data": {
      "application/vnd.jupyter.widget-view+json": {
       "model_id": "",
       "version_major": 2,
       "version_minor": 0
      },
      "text/plain": [
       "Sentences Progress:   0%|          | 0/4 [00:00<?, ?it/s]"
      ]
     },
     "metadata": {},
     "output_type": "display_data"
    },
    {
     "data": {
      "application/vnd.jupyter.widget-view+json": {
       "model_id": "",
       "version_major": 2,
       "version_minor": 0
      },
      "text/plain": [
       "Sentences Progress:   0%|          | 0/6 [00:00<?, ?it/s]"
      ]
     },
     "metadata": {},
     "output_type": "display_data"
    },
    {
     "data": {
      "application/vnd.jupyter.widget-view+json": {
       "model_id": "",
       "version_major": 2,
       "version_minor": 0
      },
      "text/plain": [
       "Sentences Progress:   0%|          | 0/7 [00:00<?, ?it/s]"
      ]
     },
     "metadata": {},
     "output_type": "display_data"
    },
    {
     "name": "stdout",
     "output_type": "stream",
     "text": [
      "Span [55,56,57,58]: \"Chaise Sofa Electric Recliner\"   [− Labels: PRODUCT (0.979)]\n",
      "Span [55,56,57,58]: \"Chaise Sofa Electric Recliner\"   [− Labels: PRODUCT (0.9967)]\n"
     ]
    },
    {
     "data": {
      "application/vnd.jupyter.widget-view+json": {
       "model_id": "",
       "version_major": 2,
       "version_minor": 0
      },
      "text/plain": [
       "Sentences Progress:   0%|          | 0/15 [00:00<?, ?it/s]"
      ]
     },
     "metadata": {},
     "output_type": "display_data"
    },
    {
     "name": "stdout",
     "output_type": "stream",
     "text": [
      "Span [9,10,11,12,13]: \"Cool Gel Memory Foam Mattress\"   [− Labels: PRODUCT (0.9662)]\n",
      "Span [4,5]: \"Euro Top\"   [− Labels: PRODUCT (0.8145)]\n",
      "Span [9,10,11,12]: \"Cool Gel Memory Foam\"   [− Labels: PRODUCT (0.8619)]\n"
     ]
    },
    {
     "data": {
      "application/vnd.jupyter.widget-view+json": {
       "model_id": "",
       "version_major": 2,
       "version_minor": 0
      },
      "text/plain": [
       "Sentences Progress:   0%|          | 0/7 [00:00<?, ?it/s]"
      ]
     },
     "metadata": {},
     "output_type": "display_data"
    },
    {
     "data": {
      "application/vnd.jupyter.widget-view+json": {
       "model_id": "",
       "version_major": 2,
       "version_minor": 0
      },
      "text/plain": [
       "Sentences Progress:   0%|          | 0/1 [00:00<?, ?it/s]"
      ]
     },
     "metadata": {},
     "output_type": "display_data"
    },
    {
     "data": {
      "application/vnd.jupyter.widget-view+json": {
       "model_id": "",
       "version_major": 2,
       "version_minor": 0
      },
      "text/plain": [
       "Sentences Progress:   0%|          | 0/9 [00:00<?, ?it/s]"
      ]
     },
     "metadata": {},
     "output_type": "display_data"
    },
    {
     "data": {
      "application/vnd.jupyter.widget-view+json": {
       "model_id": "",
       "version_major": 2,
       "version_minor": 0
      },
      "text/plain": [
       "Sentences Progress:   0%|          | 0/4 [00:00<?, ?it/s]"
      ]
     },
     "metadata": {},
     "output_type": "display_data"
    },
    {
     "name": "stdout",
     "output_type": "stream",
     "text": [
      "Span [1,2,3,4]: \"Miami Bean Bag Chair\"   [− Labels: PRODUCT (0.9999)]\n",
      "Span [53,54,55,56,57]: \"The Miami Bean Bag Chair\"   [− Labels: PRODUCT (0.9992)]\n",
      "Span [1,2,3,4]: \"Miami Bean Bag Chair\"   [− Labels: PRODUCT (0.9913)]\n",
      "Span [53,54,55,56,57]: \"The Miami Bean Bag Chair\"   [− Labels: PRODUCT (0.9999)]\n",
      "Span [63,64,65]: \"Bean Bag Chairs\"   [− Labels: PRODUCT (0.9415)]\n",
      "Span [1,2,3,4]: \"Miami Bean Bag Chair\"   [− Labels: PRODUCT (0.8589)]\n",
      "Span [53,54,55,56,57]: \"The Miami Bean Bag Chair\"   [− Labels: PRODUCT (0.9999)]\n"
     ]
    },
    {
     "data": {
      "application/vnd.jupyter.widget-view+json": {
       "model_id": "",
       "version_major": 2,
       "version_minor": 0
      },
      "text/plain": [
       "Sentences Progress:   0%|          | 0/18 [00:00<?, ?it/s]"
      ]
     },
     "metadata": {},
     "output_type": "display_data"
    },
    {
     "data": {
      "application/vnd.jupyter.widget-view+json": {
       "model_id": "",
       "version_major": 2,
       "version_minor": 0
      },
      "text/plain": [
       "Sentences Progress:   0%|          | 0/1 [00:00<?, ?it/s]"
      ]
     },
     "metadata": {},
     "output_type": "display_data"
    },
    {
     "data": {
      "application/vnd.jupyter.widget-view+json": {
       "model_id": "",
       "version_major": 2,
       "version_minor": 0
      },
      "text/plain": [
       "Sentences Progress:   0%|          | 0/13 [00:00<?, ?it/s]"
      ]
     },
     "metadata": {},
     "output_type": "display_data"
    },
    {
     "data": {
      "application/vnd.jupyter.widget-view+json": {
       "model_id": "",
       "version_major": 2,
       "version_minor": 0
      },
      "text/plain": [
       "Sentences Progress:   0%|          | 0/12 [00:00<?, ?it/s]"
      ]
     },
     "metadata": {},
     "output_type": "display_data"
    },
    {
     "name": "stdout",
     "output_type": "stream",
     "text": [
      "Span [7,8,9]: \"Kyu Dining Chair\"   [− Labels: PRODUCT (0.9999)]\n",
      "Span [7,8,9]: \"Kyu Dining Chair\"   [− Labels: PRODUCT (1.0)]\n"
     ]
    },
    {
     "data": {
      "application/vnd.jupyter.widget-view+json": {
       "model_id": "",
       "version_major": 2,
       "version_minor": 0
      },
      "text/plain": [
       "Sentences Progress:   0%|          | 0/7 [00:00<?, ?it/s]"
      ]
     },
     "metadata": {},
     "output_type": "display_data"
    },
    {
     "data": {
      "application/vnd.jupyter.widget-view+json": {
       "model_id": "",
       "version_major": 2,
       "version_minor": 0
      },
      "text/plain": [
       "Sentences Progress:   0%|          | 0/8 [00:00<?, ?it/s]"
      ]
     },
     "metadata": {},
     "output_type": "display_data"
    },
    {
     "name": "stdout",
     "output_type": "stream",
     "text": [
      "Span [6]: \"LiveEdge\"   [− Labels: PRODUCT (0.8407)]\n",
      "Span [6]: \"LiveEdge\"   [− Labels: PRODUCT (0.9912)]\n",
      "Span [6]: \"LiveEdge\"   [− Labels: PRODUCT (0.8407)]\n",
      "Span [6]: \"LiveEdge\"   [− Labels: PRODUCT (0.9877)]\n",
      "Span [5]: \"LiveEdge\"   [− Labels: PRODUCT (0.9074)]\n",
      "Span [5]: \"LiveEdge\"   [− Labels: PRODUCT (0.8397)]\n"
     ]
    },
    {
     "data": {
      "application/vnd.jupyter.widget-view+json": {
       "model_id": "",
       "version_major": 2,
       "version_minor": 0
      },
      "text/plain": [
       "Sentences Progress:   0%|          | 0/9 [00:00<?, ?it/s]"
      ]
     },
     "metadata": {},
     "output_type": "display_data"
    },
    {
     "data": {
      "application/vnd.jupyter.widget-view+json": {
       "model_id": "",
       "version_major": 2,
       "version_minor": 0
      },
      "text/plain": [
       "Sentences Progress:   0%|          | 0/5 [00:00<?, ?it/s]"
      ]
     },
     "metadata": {},
     "output_type": "display_data"
    },
    {
     "data": {
      "application/vnd.jupyter.widget-view+json": {
       "model_id": "",
       "version_major": 2,
       "version_minor": 0
      },
      "text/plain": [
       "Sentences Progress:   0%|          | 0/5 [00:00<?, ?it/s]"
      ]
     },
     "metadata": {},
     "output_type": "display_data"
    },
    {
     "data": {
      "application/vnd.jupyter.widget-view+json": {
       "model_id": "",
       "version_major": 2,
       "version_minor": 0
      },
      "text/plain": [
       "Sentences Progress:   0%|          | 0/7 [00:00<?, ?it/s]"
      ]
     },
     "metadata": {},
     "output_type": "display_data"
    },
    {
     "name": "stdout",
     "output_type": "stream",
     "text": [
      "Span [1,2,3,4]: \"NEW - Millicent Collection\"   [− Labels: PRODUCT (0.7634)]\n",
      "Span [1,2,3,4]: \"NEW - Millicent Collection\"   [− Labels: PRODUCT (0.9015)]\n",
      "Span [1,2,3,4]: \"NEW - Millicent Collection\"   [− Labels: PRODUCT (0.9573)]\n"
     ]
    },
    {
     "data": {
      "application/vnd.jupyter.widget-view+json": {
       "model_id": "",
       "version_major": 2,
       "version_minor": 0
      },
      "text/plain": [
       "Sentences Progress:   0%|          | 0/4 [00:00<?, ?it/s]"
      ]
     },
     "metadata": {},
     "output_type": "display_data"
    },
    {
     "data": {
      "application/vnd.jupyter.widget-view+json": {
       "model_id": "",
       "version_major": 2,
       "version_minor": 0
      },
      "text/plain": [
       "Sentences Progress:   0%|          | 0/6 [00:00<?, ?it/s]"
      ]
     },
     "metadata": {},
     "output_type": "display_data"
    },
    {
     "data": {
      "application/vnd.jupyter.widget-view+json": {
       "model_id": "",
       "version_major": 2,
       "version_minor": 0
      },
      "text/plain": [
       "Sentences Progress:   0%|          | 0/11 [00:00<?, ?it/s]"
      ]
     },
     "metadata": {},
     "output_type": "display_data"
    },
    {
     "data": {
      "application/vnd.jupyter.widget-view+json": {
       "model_id": "",
       "version_major": 2,
       "version_minor": 0
      },
      "text/plain": [
       "Sentences Progress:   0%|          | 0/9 [00:00<?, ?it/s]"
      ]
     },
     "metadata": {},
     "output_type": "display_data"
    },
    {
     "data": {
      "application/vnd.jupyter.widget-view+json": {
       "model_id": "",
       "version_major": 2,
       "version_minor": 0
      },
      "text/plain": [
       "Sentences Progress:   0%|          | 0/5 [00:00<?, ?it/s]"
      ]
     },
     "metadata": {},
     "output_type": "display_data"
    },
    {
     "name": "stdout",
     "output_type": "stream",
     "text": [
      "Span [8]: \"Sunbrella\"   [− Labels: PRODUCT (0.9996)]\n"
     ]
    },
    {
     "data": {
      "application/vnd.jupyter.widget-view+json": {
       "model_id": "",
       "version_major": 2,
       "version_minor": 0
      },
      "text/plain": [
       "Sentences Progress:   0%|          | 0/38 [00:00<?, ?it/s]"
      ]
     },
     "metadata": {},
     "output_type": "display_data"
    },
    {
     "name": "stdout",
     "output_type": "stream",
     "text": [
      "Span [12,13,14,15]: \"Anette Modern Leather Beds\"   [− Labels: PRODUCT (0.9281)]\n",
      "Span [91,92,93]: \"Modern Leather Bed\"   [− Labels: PRODUCT (0.8601)]\n",
      "Span [29,30]: \"Virtual 360\"   [− Labels: PRODUCT (0.9994)]\n",
      "Span [29,30]: \"Virtual 360\"   [− Labels: PRODUCT (0.9977)]\n",
      "Span [8,9,10,11]: \"Anette Modern Leather Beds\"   [− Labels: PRODUCT (0.981)]\n",
      "Span [12,13,14,15]: \"Anette Modern Leather Bed\"   [− Labels: PRODUCT (0.9904)]\n",
      "Span [9,10,11,12]: \"Anette Modern Leather Beds\"   [− Labels: PRODUCT (0.9239)]\n",
      "Span [88,89,90]: \"Modern Leather Bed\"   [− Labels: PRODUCT (0.9767)]\n",
      "Span [29,30]: \"Virtual 360\"   [− Labels: PRODUCT (0.9994)]\n",
      "Span [29,30]: \"Virtual 360\"   [− Labels: PRODUCT (0.9994)]\n",
      "Span [8,9,10,11]: \"Anette Modern Leather Beds\"   [− Labels: PRODUCT (0.9965)]\n",
      "Span [12,13,14,15]: \"Anette Modern Leather Bed\"   [− Labels: PRODUCT (0.9955)]\n",
      "Span [9,10,11,12]: \"Anette Modern Leather Beds\"   [− Labels: PRODUCT (0.9868)]\n",
      "Span [64,65,66]: \"Modern Leather Beds\"   [− Labels: PRODUCT (0.8472)]\n",
      "Span [88,89,90]: \"Modern Leather Bed\"   [− Labels: PRODUCT (0.9668)]\n",
      "Span [29,30]: \"Virtual 360\"   [− Labels: PRODUCT (0.9994)]\n",
      "Span [29,30]: \"Virtual 360\"   [− Labels: PRODUCT (0.9994)]\n",
      "Span [8,9,10,11]: \"Anette Modern Leather Beds\"   [− Labels: PRODUCT (0.9919)]\n",
      "Span [12,13,14,15]: \"Anette Modern Leather Bed\"   [− Labels: PRODUCT (0.9988)]\n"
     ]
    },
    {
     "data": {
      "application/vnd.jupyter.widget-view+json": {
       "model_id": "",
       "version_major": 2,
       "version_minor": 0
      },
      "text/plain": [
       "Sentences Progress:   0%|          | 0/4 [00:00<?, ?it/s]"
      ]
     },
     "metadata": {},
     "output_type": "display_data"
    },
    {
     "data": {
      "application/vnd.jupyter.widget-view+json": {
       "model_id": "",
       "version_major": 2,
       "version_minor": 0
      },
      "text/plain": [
       "Sentences Progress:   0%|          | 0/12 [00:00<?, ?it/s]"
      ]
     },
     "metadata": {},
     "output_type": "display_data"
    },
    {
     "data": {
      "application/vnd.jupyter.widget-view+json": {
       "model_id": "",
       "version_major": 2,
       "version_minor": 0
      },
      "text/plain": [
       "Sentences Progress:   0%|          | 0/1 [00:00<?, ?it/s]"
      ]
     },
     "metadata": {},
     "output_type": "display_data"
    },
    {
     "data": {
      "application/vnd.jupyter.widget-view+json": {
       "model_id": "",
       "version_major": 2,
       "version_minor": 0
      },
      "text/plain": [
       "Sentences Progress:   0%|          | 0/10 [00:00<?, ?it/s]"
      ]
     },
     "metadata": {},
     "output_type": "display_data"
    },
    {
     "data": {
      "application/vnd.jupyter.widget-view+json": {
       "model_id": "",
       "version_major": 2,
       "version_minor": 0
      },
      "text/plain": [
       "Sentences Progress:   0%|          | 0/18 [00:00<?, ?it/s]"
      ]
     },
     "metadata": {},
     "output_type": "display_data"
    },
    {
     "name": "stdout",
     "output_type": "stream",
     "text": [
      "Span [5,6,7]: \"MagniStretch 12 Mattress\"   [− Labels: PRODUCT (0.9999)]\n",
      "Span [10,11,12]: \"HomeMagniStretch 12 Mattress\"   [− Labels: PRODUCT (0.9465)]\n",
      "Span [13,14,15]: \"MagniStretch 12 Mattress\"   [− Labels: PRODUCT (0.9999)]\n",
      "Span [17,18,19]: \"MagniStretch 12 Mattress\"   [− Labels: PRODUCT (0.9998)]\n",
      "Span [21,22,23]: \"MagniStretch 12 Mattress\"   [− Labels: PRODUCT (0.9999)]\n",
      "Span [52]: \"Magniflex\"   [− Labels: PRODUCT (0.9455)]\n",
      "Span [3,4,5]: \"MagniStretch 12 inch\"   [− Labels: PRODUCT (0.9874)]\n",
      "Span [13]: \"Viscose\"   [− Labels: PRODUCT (0.9469)]\n",
      "Span [16]: \"Outlast\"   [− Labels: PRODUCT (0.965)]\n",
      "Span [1]: \"Outlast\"   [− Labels: PRODUCT (0.9996)]\n",
      "Span [1,2,3,4]: \"The MagniStretch 12 mattress\"   [− Labels: PRODUCT (0.9403)]\n",
      "Span [2,3,4]: \"MagniStretch 12 mattress\"   [− Labels: PRODUCT (0.9965)]\n",
      "Span [79]: \"Eliosoft\"   [− Labels: PRODUCT (0.9811)]\n",
      "Span [86]: \"Eliosoft\"   [− Labels: PRODUCT (0.9731)]\n",
      "Span [4,5,6]: \"the MagniStretch 12\"   [− Labels: PRODUCT (0.9987)]\n",
      "Span [3,4,5]: \"MagniStretch 12 inch\"   [− Labels: PRODUCT (0.9908)]\n",
      "Span [1]: \"Outlast\"   [− Labels: PRODUCT (0.9996)]\n",
      "Span [2,3,4]: \"MagniStretch 12 mattress\"   [− Labels: PRODUCT (0.9981)]\n",
      "Span [2,3,4]: \"MagniStretch 12 mattress\"   [− Labels: PRODUCT (0.9285)]\n",
      "Span [85]: \"Eliosoft\"   [− Labels: PRODUCT (0.7663)]\n",
      "Span [4,5,6]: \"the MagniStretch 12\"   [− Labels: PRODUCT (0.9987)]\n",
      "Span [26,27,28]: \"MagniStretch 12 Mattress\"   [− Labels: PRODUCT (0.9998)]\n",
      "Span [1,2,3]: \"MagniStretch 12 Mattress\"   [− Labels: PRODUCT (0.9999)]\n",
      "Span [6,7,8]: \"HomeMagniStretch 12 Mattress\"   [− Labels: PRODUCT (0.9995)]\n",
      "Span [9,10,11]: \"MagniStretch 12 Mattress\"   [− Labels: PRODUCT (0.9998)]\n",
      "Span [13,14,15]: \"MagniStretch 12 Mattress\"   [− Labels: PRODUCT (0.9987)]\n",
      "Span [17,18,19]: \"MagniStretch 12 Mattress\"   [− Labels: PRODUCT (0.9999)]\n",
      "Span [43,44]: \"Cal King\"   [− Labels: PRODUCT (0.898)]\n",
      "Span [48]: \"Magniflex\"   [− Labels: PRODUCT (0.9944)]\n",
      "Span [3,4,5]: \"MagniStretch 12 inch\"   [− Labels: PRODUCT (0.9943)]\n",
      "Span [1]: \"Outlast\"   [− Labels: PRODUCT (0.9995)]\n",
      "Span [1,2,3,4]: \"The MagniStretch 12 mattress\"   [− Labels: PRODUCT (0.8785)]\n",
      "Span [2,3,4]: \"MagniStretch 12 mattress\"   [− Labels: PRODUCT (0.8979)]\n",
      "Span [79]: \"Eliosoft\"   [− Labels: PRODUCT (0.9602)]\n",
      "Span [86]: \"Eliosoft\"   [− Labels: PRODUCT (0.9404)]\n",
      "Span [4,5,6]: \"the MagniStretch 12\"   [− Labels: PRODUCT (0.9999)]\n",
      "Span [3,4,5]: \"MagniStretch 12 inch\"   [− Labels: PRODUCT (0.9362)]\n",
      "Span [1]: \"Outlast\"   [− Labels: PRODUCT (0.9996)]\n",
      "Span [2,3,4]: \"MagniStretch 12 mattress\"   [− Labels: PRODUCT (0.9947)]\n",
      "Span [2,3,4]: \"MagniStretch 12 mattress\"   [− Labels: PRODUCT (0.9172)]\n",
      "Span [4,5,6]: \"the MagniStretch 12\"   [− Labels: PRODUCT (0.9999)]\n",
      "Span [1,2,3]: \"MagniStretch 12 Mattress\"   [− Labels: PRODUCT (1.0)]\n",
      "Span [1,2,3]: \"MagniStretch 12 Mattress\"   [− Labels: PRODUCT (0.9999)]\n",
      "Span [1,2,3]: \"HomeMagniStretch 12 Mattress\"   [− Labels: PRODUCT (0.9997)]\n",
      "Span [4,5,6]: \"MagniStretch 12 Mattress\"   [− Labels: PRODUCT (0.9997)]\n",
      "Span [8,9,10]: \"MagniStretch 12 Mattress\"   [− Labels: PRODUCT (0.9989)]\n",
      "Span [12,13,14]: \"MagniStretch 12 Mattress\"   [− Labels: PRODUCT (0.9994)]\n",
      "Span [38,39]: \"Cal King\"   [− Labels: PRODUCT (0.993)]\n",
      "Span [43]: \"Magniflex\"   [− Labels: PRODUCT (0.9998)]\n",
      "Span [3,4,5]: \"MagniStretch 12 inch\"   [− Labels: PRODUCT (0.9845)]\n",
      "Span [13]: \"Viscose\"   [− Labels: PRODUCT (0.9772)]\n",
      "Span [16]: \"Outlast\"   [− Labels: PRODUCT (0.9862)]\n",
      "Span [1]: \"Outlast\"   [− Labels: PRODUCT (0.999)]\n",
      "Span [2,3,4]: \"MagniStretch 12 mattress\"   [− Labels: PRODUCT (0.9947)]\n",
      "Span [2,3,4]: \"MagniStretch 12 mattress\"   [− Labels: PRODUCT (0.9172)]\n",
      "Span [79]: \"Eliosoft\"   [− Labels: PRODUCT (0.9602)]\n",
      "Span [86]: \"Eliosoft\"   [− Labels: PRODUCT (0.9404)]\n",
      "Span [4,5,6]: \"the MagniStretch 12\"   [− Labels: PRODUCT (0.9999)]\n",
      "Span [3,4,5,6]: \"MagniStretch 12 inch mattress\"   [− Labels: PRODUCT (0.9285)]\n",
      "Span [16]: \"Outlast\"   [− Labels: PRODUCT (0.9397)]\n"
     ]
    },
    {
     "data": {
      "application/vnd.jupyter.widget-view+json": {
       "model_id": "",
       "version_major": 2,
       "version_minor": 0
      },
      "text/plain": [
       "Sentences Progress:   0%|          | 0/1 [00:00<?, ?it/s]"
      ]
     },
     "metadata": {},
     "output_type": "display_data"
    },
    {
     "data": {
      "application/vnd.jupyter.widget-view+json": {
       "model_id": "",
       "version_major": 2,
       "version_minor": 0
      },
      "text/plain": [
       "Sentences Progress:   0%|          | 0/20 [00:00<?, ?it/s]"
      ]
     },
     "metadata": {},
     "output_type": "display_data"
    },
    {
     "name": "stdout",
     "output_type": "stream",
     "text": [
      "Span [1,2,3]: \"T - SHIRT\"   [− Labels: PRODUCT (0.9225)]\n",
      "Span [1,2,3]: \"T - SHIRT\"   [− Labels: PRODUCT (0.9762)]\n",
      "Span [10,11,12]: \"T - SHIRT\"   [− Labels: PRODUCT (0.9998)]\n",
      "Span [10,11,12]: \"T - SHIRT\"   [− Labels: PRODUCT (0.9998)]\n",
      "Span [9,10,11]: \"T - SHIRT\"   [− Labels: PRODUCT (0.9997)]\n",
      "Span [9,10,11]: \"T - SHIRT\"   [− Labels: PRODUCT (0.9999)]\n",
      "Span [9,10,11]: \"T - SHIRT\"   [− Labels: PRODUCT (0.9998)]\n",
      "Span [7,8,9]: \"T - SHIRT\"   [− Labels: PRODUCT (0.9998)]\n",
      "Span [1,2,3]: \"T - SHIRT\"   [− Labels: PRODUCT (0.9998)]\n",
      "Span [1,2,3]: \"T - SHIRT\"   [− Labels: PRODUCT (0.9999)]\n",
      "Span [1,2,3]: \"T - SHIRT\"   [− Labels: PRODUCT (0.9998)]\n",
      "Span [1,2,3]: \"T - SHIRT\"   [− Labels: PRODUCT (0.9999)]\n",
      "Span [1,2,3,4]: \"PRO PLYWOOD BALANCE BOARD\"   [− Labels: PRODUCT (0.9602)]\n",
      "Span [1,2,3,4,5]: \"PRO PLYWOOD BALANCE BOARD :\"   [− Labels: PRODUCT (0.9949)]\n",
      "Span [1,2,3,4]: \"PRO PLYWOOD BALANCE BOARD\"   [− Labels: PRODUCT (0.964)]\n",
      "Span [1,2,3,4,5]: \"PRO PLYWOOD BALANCE BOARD :\"   [− Labels: PRODUCT (0.9195)]\n",
      "Span [1,2,3,4]: \"PRO PLYWOOD BALANCE BOARD\"   [− Labels: PRODUCT (0.9648)]\n",
      "Span [1,2,3,4]: \"PRO PLYWOOD BALANCE BOARD\"   [− Labels: PRODUCT (0.9888)]\n"
     ]
    },
    {
     "data": {
      "application/vnd.jupyter.widget-view+json": {
       "model_id": "",
       "version_major": 2,
       "version_minor": 0
      },
      "text/plain": [
       "Sentences Progress:   0%|          | 0/4 [00:00<?, ?it/s]"
      ]
     },
     "metadata": {},
     "output_type": "display_data"
    },
    {
     "data": {
      "application/vnd.jupyter.widget-view+json": {
       "model_id": "",
       "version_major": 2,
       "version_minor": 0
      },
      "text/plain": [
       "Sentences Progress:   0%|          | 0/1 [00:00<?, ?it/s]"
      ]
     },
     "metadata": {},
     "output_type": "display_data"
    },
    {
     "data": {
      "application/vnd.jupyter.widget-view+json": {
       "model_id": "",
       "version_major": 2,
       "version_minor": 0
      },
      "text/plain": [
       "Sentences Progress:   0%|          | 0/8 [00:00<?, ?it/s]"
      ]
     },
     "metadata": {},
     "output_type": "display_data"
    },
    {
     "data": {
      "application/vnd.jupyter.widget-view+json": {
       "model_id": "",
       "version_major": 2,
       "version_minor": 0
      },
      "text/plain": [
       "Sentences Progress:   0%|          | 0/24 [00:00<?, ?it/s]"
      ]
     },
     "metadata": {},
     "output_type": "display_data"
    },
    {
     "data": {
      "application/vnd.jupyter.widget-view+json": {
       "model_id": "",
       "version_major": 2,
       "version_minor": 0
      },
      "text/plain": [
       "Sentences Progress:   0%|          | 0/6 [00:00<?, ?it/s]"
      ]
     },
     "metadata": {},
     "output_type": "display_data"
    },
    {
     "data": {
      "application/vnd.jupyter.widget-view+json": {
       "model_id": "",
       "version_major": 2,
       "version_minor": 0
      },
      "text/plain": [
       "Sentences Progress:   0%|          | 0/3 [00:00<?, ?it/s]"
      ]
     },
     "metadata": {},
     "output_type": "display_data"
    },
    {
     "data": {
      "application/vnd.jupyter.widget-view+json": {
       "model_id": "",
       "version_major": 2,
       "version_minor": 0
      },
      "text/plain": [
       "Sentences Progress:   0%|          | 0/1 [00:00<?, ?it/s]"
      ]
     },
     "metadata": {},
     "output_type": "display_data"
    },
    {
     "data": {
      "application/vnd.jupyter.widget-view+json": {
       "model_id": "",
       "version_major": 2,
       "version_minor": 0
      },
      "text/plain": [
       "Sentences Progress:   0%|          | 0/8 [00:00<?, ?it/s]"
      ]
     },
     "metadata": {},
     "output_type": "display_data"
    },
    {
     "data": {
      "application/vnd.jupyter.widget-view+json": {
       "model_id": "",
       "version_major": 2,
       "version_minor": 0
      },
      "text/plain": [
       "Sentences Progress:   0%|          | 0/4 [00:00<?, ?it/s]"
      ]
     },
     "metadata": {},
     "output_type": "display_data"
    },
    {
     "data": {
      "application/vnd.jupyter.widget-view+json": {
       "model_id": "",
       "version_major": 2,
       "version_minor": 0
      },
      "text/plain": [
       "Sentences Progress:   0%|          | 0/10 [00:00<?, ?it/s]"
      ]
     },
     "metadata": {},
     "output_type": "display_data"
    },
    {
     "name": "stdout",
     "output_type": "stream",
     "text": [
      "Span [25,26,27,28,29]: \"Luxury Queen Memory Foam Mattress\"   [− Labels: PRODUCT (0.9058)]\n",
      "Span [26,27,28,29]: \"Queen Memory Foam Mattress\"   [− Labels: PRODUCT (0.8805)]\n",
      "Span [39,40]: \"View Cannington\"   [− Labels: PRODUCT (0.9153)]\n",
      "Span [41,42]: \"Single Bed\"   [− Labels: PRODUCT (0.8362)]\n",
      "Span [25,26,27,28,29]: \"Luxury Queen Memory Foam Mattress\"   [− Labels: PRODUCT (0.9058)]\n",
      "Span [25,26,27,28,29]: \"Luxury Queen Memory Foam Mattress\"   [− Labels: PRODUCT (0.8591)]\n",
      "Span [27,28,29]: \"Memory Foam Mattress\"   [− Labels: PRODUCT (0.9088)]\n",
      "Span [24,25,26]: \"Memory Foam Mattress\"   [− Labels: PRODUCT (0.9548)]\n",
      "Span [22,23,24,25,26]: \"Luxury Queen Memory Foam Mattress\"   [− Labels: PRODUCT (0.804)]\n",
      "Span [22,23,24,25]: \"Queen Memory Foam Mattress\"   [− Labels: PRODUCT (0.8315)]\n",
      "Span [11,12]: \"Classic Mattress\"   [− Labels: PRODUCT (0.8423)]\n",
      "Span [22,23,24,25]: \"Queen Memory Foam Mattress\"   [− Labels: PRODUCT (0.8892)]\n",
      "Span [22,23,24,25]: \"Queen Memory Foam Mattress\"   [− Labels: PRODUCT (0.9087)]\n",
      "Span [1,2,3]: \"Dream Classic Mattress\"   [− Labels: PRODUCT (0.9887)]\n",
      "Span [3]: \"Mattress\"   [− Labels: PRODUCT (0.8813)]\n",
      "Span [1]: \"Cannington\"   [− Labels: PRODUCT (0.7599)]\n",
      "Span [2,3]: \"Single Bed\"   [− Labels: PRODUCT (0.8775)]\n",
      "Span [1,2,3]: \"Cannington Single Bed\"   [− Labels: PRODUCT (0.9148)]\n",
      "Span [1,2,3]: \"Cannington Single Bed\"   [− Labels: PRODUCT (0.9305)]\n"
     ]
    },
    {
     "data": {
      "application/vnd.jupyter.widget-view+json": {
       "model_id": "",
       "version_major": 2,
       "version_minor": 0
      },
      "text/plain": [
       "Sentences Progress:   0%|          | 0/11 [00:00<?, ?it/s]"
      ]
     },
     "metadata": {},
     "output_type": "display_data"
    },
    {
     "data": {
      "application/vnd.jupyter.widget-view+json": {
       "model_id": "",
       "version_major": 2,
       "version_minor": 0
      },
      "text/plain": [
       "Sentences Progress:   0%|          | 0/4 [00:00<?, ?it/s]"
      ]
     },
     "metadata": {},
     "output_type": "display_data"
    },
    {
     "data": {
      "application/vnd.jupyter.widget-view+json": {
       "model_id": "",
       "version_major": 2,
       "version_minor": 0
      },
      "text/plain": [
       "Sentences Progress:   0%|          | 0/10 [00:00<?, ?it/s]"
      ]
     },
     "metadata": {},
     "output_type": "display_data"
    },
    {
     "data": {
      "application/vnd.jupyter.widget-view+json": {
       "model_id": "",
       "version_major": 2,
       "version_minor": 0
      },
      "text/plain": [
       "Sentences Progress:   0%|          | 0/9 [00:00<?, ?it/s]"
      ]
     },
     "metadata": {},
     "output_type": "display_data"
    },
    {
     "data": {
      "application/vnd.jupyter.widget-view+json": {
       "model_id": "",
       "version_major": 2,
       "version_minor": 0
      },
      "text/plain": [
       "Sentences Progress:   0%|          | 0/16 [00:00<?, ?it/s]"
      ]
     },
     "metadata": {},
     "output_type": "display_data"
    },
    {
     "name": "stdout",
     "output_type": "stream",
     "text": [
      "Span [1]: \"Samsung\"   [− Labels: PRODUCT (0.9673)]\n",
      "Span [2,3]: \"Galaxy S9\"   [− Labels: PRODUCT (0.8465)]\n",
      "Span [1,2,3]: \"Wireless Bundle Kit\"   [− Labels: PRODUCT (0.8622)]\n"
     ]
    },
    {
     "data": {
      "application/vnd.jupyter.widget-view+json": {
       "model_id": "",
       "version_major": 2,
       "version_minor": 0
      },
      "text/plain": [
       "Sentences Progress:   0%|          | 0/6 [00:00<?, ?it/s]"
      ]
     },
     "metadata": {},
     "output_type": "display_data"
    },
    {
     "data": {
      "application/vnd.jupyter.widget-view+json": {
       "model_id": "",
       "version_major": 2,
       "version_minor": 0
      },
      "text/plain": [
       "Sentences Progress:   0%|          | 0/13 [00:00<?, ?it/s]"
      ]
     },
     "metadata": {},
     "output_type": "display_data"
    },
    {
     "name": "stdout",
     "output_type": "stream",
     "text": [
      "Span [3,4,5]: \"Vail Lounge Cover\"   [− Labels: PRODUCT (0.9917)]\n"
     ]
    },
    {
     "data": {
      "application/vnd.jupyter.widget-view+json": {
       "model_id": "",
       "version_major": 2,
       "version_minor": 0
      },
      "text/plain": [
       "Sentences Progress:   0%|          | 0/1 [00:00<?, ?it/s]"
      ]
     },
     "metadata": {},
     "output_type": "display_data"
    },
    {
     "data": {
      "application/vnd.jupyter.widget-view+json": {
       "model_id": "",
       "version_major": 2,
       "version_minor": 0
      },
      "text/plain": [
       "Sentences Progress:   0%|          | 0/11 [00:00<?, ?it/s]"
      ]
     },
     "metadata": {},
     "output_type": "display_data"
    },
    {
     "data": {
      "application/vnd.jupyter.widget-view+json": {
       "model_id": "",
       "version_major": 2,
       "version_minor": 0
      },
      "text/plain": [
       "Sentences Progress:   0%|          | 0/9 [00:00<?, ?it/s]"
      ]
     },
     "metadata": {},
     "output_type": "display_data"
    },
    {
     "data": {
      "application/vnd.jupyter.widget-view+json": {
       "model_id": "",
       "version_major": 2,
       "version_minor": 0
      },
      "text/plain": [
       "Sentences Progress:   0%|          | 0/3 [00:00<?, ?it/s]"
      ]
     },
     "metadata": {},
     "output_type": "display_data"
    },
    {
     "data": {
      "application/vnd.jupyter.widget-view+json": {
       "model_id": "",
       "version_major": 2,
       "version_minor": 0
      },
      "text/plain": [
       "Sentences Progress:   0%|          | 0/8 [00:00<?, ?it/s]"
      ]
     },
     "metadata": {},
     "output_type": "display_data"
    },
    {
     "data": {
      "application/vnd.jupyter.widget-view+json": {
       "model_id": "",
       "version_major": 2,
       "version_minor": 0
      },
      "text/plain": [
       "Sentences Progress:   0%|          | 0/28 [00:00<?, ?it/s]"
      ]
     },
     "metadata": {},
     "output_type": "display_data"
    },
    {
     "data": {
      "application/vnd.jupyter.widget-view+json": {
       "model_id": "",
       "version_major": 2,
       "version_minor": 0
      },
      "text/plain": [
       "Sentences Progress:   0%|          | 0/8 [00:00<?, ?it/s]"
      ]
     },
     "metadata": {},
     "output_type": "display_data"
    },
    {
     "data": {
      "application/vnd.jupyter.widget-view+json": {
       "model_id": "",
       "version_major": 2,
       "version_minor": 0
      },
      "text/plain": [
       "Sentences Progress:   0%|          | 0/22 [00:00<?, ?it/s]"
      ]
     },
     "metadata": {},
     "output_type": "display_data"
    },
    {
     "name": "stdout",
     "output_type": "stream",
     "text": [
      "Span [44,45,46,47]: \"Carved Outdoor Rocking Chair\"   [− Labels: PRODUCT (0.9912)]\n",
      "Span [16,17]: \"PolyTEAK ®\"   [− Labels: PRODUCT (0.991)]\n",
      "Span [14,15,16,17,18]: \"High Back with Head Pillow\"   [− Labels: PRODUCT (0.964)]\n",
      "Span [22]: \"Adirondack\"   [− Labels: PRODUCT (0.8965)]\n",
      "Span [44,45,46,47]: \"Carved Outdoor Rocking Chair\"   [− Labels: PRODUCT (0.9991)]\n",
      "Span [16,17]: \"PolyTEAK ®\"   [− Labels: PRODUCT (0.9926)]\n",
      "Span [14,15,16,17,18]: \"High Back with Head Pillow\"   [− Labels: PRODUCT (0.9532)]\n",
      "Span [16,17]: \"PolyTEAK ®\"   [− Labels: PRODUCT (0.9987)]\n"
     ]
    },
    {
     "data": {
      "application/vnd.jupyter.widget-view+json": {
       "model_id": "",
       "version_major": 2,
       "version_minor": 0
      },
      "text/plain": [
       "Sentences Progress:   0%|          | 0/10 [00:00<?, ?it/s]"
      ]
     },
     "metadata": {},
     "output_type": "display_data"
    },
    {
     "data": {
      "application/vnd.jupyter.widget-view+json": {
       "model_id": "",
       "version_major": 2,
       "version_minor": 0
      },
      "text/plain": [
       "Sentences Progress:   0%|          | 0/14 [00:00<?, ?it/s]"
      ]
     },
     "metadata": {},
     "output_type": "display_data"
    },
    {
     "name": "stdout",
     "output_type": "stream",
     "text": [
      "Span [50,51,52]: \"Tulip Bar Table\"   [− Labels: PRODUCT (0.9755)]\n",
      "Span [59,60,61]: \"Tulip Bar Table\"   [− Labels: PRODUCT (0.8322)]\n",
      "Span [70,71,72,73]: \"Tulip Fiberglass Bar Table\"   [− Labels: PRODUCT (0.9926)]\n",
      "Span [1,2,3]: \"Tulip Bar Table\"   [− Labels: PRODUCT (0.9358)]\n",
      "Span [10,11,12]: \"Tulip Bar Table\"   [− Labels: PRODUCT (0.795)]\n",
      "Span [13,14,15]: \"Tulip Fiberglass Bar\"   [− Labels: PRODUCT (0.8586)]\n",
      "Span [32,33,34,35]: \"Tulip Marble Bar Table\"   [− Labels: PRODUCT (0.8781)]\n",
      "Span [70,71,72,73]: \"Tulip Fiberglass Bar Table\"   [− Labels: PRODUCT (0.9807)]\n",
      "Span [1,2,3]: \"Tulip Bar Table\"   [− Labels: PRODUCT (0.9917)]\n",
      "Span [10,11,12]: \"Tulip Bar Table\"   [− Labels: PRODUCT (0.9746)]\n",
      "Span [13,14,15]: \"Tulip Fiberglass Bar\"   [− Labels: PRODUCT (0.94)]\n",
      "Span [24,25,26]: \"Tulip Fiberglass Bar\"   [− Labels: PRODUCT (0.7607)]\n",
      "Span [32,33,34,35]: \"Tulip Marble Bar Table\"   [− Labels: PRODUCT (0.9592)]\n",
      "Span [70,71,72,73]: \"Tulip Fiberglass Bar Table\"   [− Labels: PRODUCT (0.9926)]\n",
      "Span [1,2,3]: \"Tulip Bar Table\"   [− Labels: PRODUCT (0.9919)]\n",
      "Span [10,11,12]: \"Tulip Bar Table\"   [− Labels: PRODUCT (0.8182)]\n",
      "Span [13,14,15,16]: \"Tulip Fiberglass Bar Table\"   [− Labels: PRODUCT (0.9423)]\n",
      "Span [24,25,26]: \"Tulip Fiberglass Bar\"   [− Labels: PRODUCT (0.8252)]\n",
      "Span [32,33,34,35]: \"Tulip Marble Bar Table\"   [− Labels: PRODUCT (0.9558)]\n",
      "Span [1,2]: \"Tulip Bar\"   [− Labels: PRODUCT (0.7649)]\n",
      "Span [70,71,72,73]: \"Tulip Fiberglass Bar Table\"   [− Labels: PRODUCT (0.9926)]\n"
     ]
    },
    {
     "data": {
      "application/vnd.jupyter.widget-view+json": {
       "model_id": "",
       "version_major": 2,
       "version_minor": 0
      },
      "text/plain": [
       "Sentences Progress:   0%|          | 0/10 [00:00<?, ?it/s]"
      ]
     },
     "metadata": {},
     "output_type": "display_data"
    },
    {
     "data": {
      "application/vnd.jupyter.widget-view+json": {
       "model_id": "",
       "version_major": 2,
       "version_minor": 0
      },
      "text/plain": [
       "Sentences Progress:   0%|          | 0/1 [00:00<?, ?it/s]"
      ]
     },
     "metadata": {},
     "output_type": "display_data"
    },
    {
     "data": {
      "application/vnd.jupyter.widget-view+json": {
       "model_id": "",
       "version_major": 2,
       "version_minor": 0
      },
      "text/plain": [
       "Sentences Progress:   0%|          | 0/38 [00:00<?, ?it/s]"
      ]
     },
     "metadata": {},
     "output_type": "display_data"
    },
    {
     "name": "stdout",
     "output_type": "stream",
     "text": [
      "Span [5,6,7]: \"Rimu Bottle Opener\"   [− Labels: PRODUCT (0.9999)]\n",
      "Span [18,19,20]: \"Rimu Bottle Opener\"   [− Labels: PRODUCT (0.9998)]\n",
      "Span [31,32]: \"Bottle Opener\"   [− Labels: PRODUCT (0.9999)]\n",
      "Span [30,31,32]: \"Rimu Bottle Opener\"   [− Labels: PRODUCT (0.9367)]\n",
      "Span [30,31,32]: \"Rimu Bottle Opener\"   [− Labels: PRODUCT (0.9999)]\n",
      "Span [79,80,81]: \"Rimu Bottle Opener\"   [− Labels: PRODUCT (1.0)]\n",
      "Span [84,85,86]: \"Rimu Bottle Opener\"   [− Labels: PRODUCT (0.9999)]\n",
      "Span [10,11]: \"Bottle Opener\"   [− Labels: PRODUCT (0.9446)]\n",
      "Span [22,23,24,25]: \"Spray Glow Furniture Polish\"   [− Labels: PRODUCT (0.9997)]\n",
      "Span [36,37,38,39]: \"Spray Glow Furniture Polish\"   [− Labels: PRODUCT (0.9999)]\n",
      "Span [1,2,3,4,5]: \"Pleasant to use Spray Glow\"   [− Labels: PRODUCT (0.9783)]\n",
      "Span [81,82]: \"Care Product\"   [− Labels: PRODUCT (0.9616)]\n",
      "Span [87]: \"Products\"   [− Labels: PRODUCT (0.8721)]\n",
      "Span [4,5]: \"Spray Glow\"   [− Labels: PRODUCT (0.9999)]\n",
      "Span [59,60,61,62]: \"Spray Glow Furniture Polish\"   [− Labels: PRODUCT (0.9997)]\n",
      "Span [65,66]: \"Spray Glow\"   [− Labels: PRODUCT (0.9998)]\n",
      "Span [4,5]: \"Spray Glow\"   [− Labels: PRODUCT (1.0)]\n",
      "Span [5,6,7]: \"iO Drum Shade\"   [− Labels: PRODUCT (0.9998)]\n",
      "Span [19,20,21]: \"iO Drum Shade\"   [− Labels: PRODUCT (0.9999)]\n",
      "Span [32,33]: \"Drum Shade\"   [− Labels: PRODUCT (0.9995)]\n",
      "Span [2,3,4]: \"iO Drum Shade\"   [− Labels: PRODUCT (0.9992)]\n",
      "Span [82,83,84]: \"Native Bird Kite\"   [− Labels: PRODUCT (1.0)]\n",
      "Span [87,88,89]: \"Native Bird Kite\"   [− Labels: PRODUCT (1.0)]\n",
      "Span [56,57,58]: \"Wooden Soap Keeper\"   [− Labels: PRODUCT (0.9921)]\n",
      "Span [70,71,72]: \"Wooden Soap Keeper\"   [− Labels: PRODUCT (0.9935)]\n",
      "Span [3,4,5]: \"Wooden Soap Keeper\"   [− Labels: PRODUCT (0.9942)]\n",
      "Span [3,4,5]: \"Wooden Soap Keeper\"   [− Labels: PRODUCT (0.9982)]\n",
      "Span [3,4,5]: \"Wooden Soap Keeper\"   [− Labels: PRODUCT (0.9987)]\n",
      "Span [69,70]: \"Seed Shade\"   [− Labels: PRODUCT (0.9571)]\n",
      "Span [82,83]: \"Seed Shade\"   [− Labels: PRODUCT (0.9961)]\n",
      "Span [94,95]: \"Shade 's\"   [− Labels: PRODUCT (0.9998)]\n",
      "Span [17,18]: \"Seed Shade\"   [− Labels: PRODUCT (1.0)]\n",
      "Span [17,18]: \"Seed Shade\"   [− Labels: PRODUCT (0.9998)]\n",
      "Span [87,88]: \"Seed Shade\"   [− Labels: PRODUCT (0.9997)]\n",
      "Span [91,92,93]: \"Seed Shade 's\"   [− Labels: PRODUCT (1.0)]\n",
      "Span [17,18]: \"Seed Shade\"   [− Labels: PRODUCT (0.9999)]\n",
      "Span [23,24,25]: \"Stone Floor Mat\"   [− Labels: PRODUCT (0.9951)]\n",
      "Span [60,61]: \"Nebraska Floor\"   [− Labels: PRODUCT (0.8126)]\n",
      "Span [11]: \"Nebraska\"   [− Labels: PRODUCT (0.8949)]\n",
      "Span [5,6,7]: \"Mackenzie Floor Rug\"   [− Labels: PRODUCT (0.9738)]\n",
      "Span [19,20,21]: \"Mackenzie Floor Rug\"   [− Labels: PRODUCT (0.9996)]\n",
      "Span [58,59,60,61]: \"the Mackenzie Floor Rug\"   [− Labels: PRODUCT (0.9986)]\n",
      "Span [50,51,52]: \"Mackenzie Floor Rug\"   [− Labels: PRODUCT (0.9983)]\n",
      "Span [71,72,73,74]: \"the Mackenzie Floor Rug\"   [− Labels: PRODUCT (0.9992)]\n",
      "Span [5,6,7]: \"Rimu Bottle Opener\"   [− Labels: PRODUCT (0.9999)]\n",
      "Span [18,19,20]: \"Rimu Bottle Opener\"   [− Labels: PRODUCT (0.9999)]\n",
      "Span [24]: \"rimu-bottle-opener\"   [− Labels: PRODUCT (0.9144)]\n",
      "Span [31,32]: \"Bottle Opener\"   [− Labels: PRODUCT (0.9999)]\n",
      "Span [30,31,32]: \"Rimu Bottle Opener\"   [− Labels: PRODUCT (0.9922)]\n",
      "Span [30,31,32]: \"Rimu Bottle Opener\"   [− Labels: PRODUCT (0.9999)]\n",
      "Span [79,80,81]: \"Rimu Bottle Opener\"   [− Labels: PRODUCT (1.0)]\n",
      "Span [84,85,86]: \"Rimu Bottle Opener\"   [− Labels: PRODUCT (0.9999)]\n",
      "Span [22,23,24,25]: \"Spray Glow Furniture Polish\"   [− Labels: PRODUCT (0.9999)]\n",
      "Span [36,37,38,39]: \"Spray Glow Furniture Polish\"   [− Labels: PRODUCT (0.9999)]\n",
      "Span [1,2,3]: \"Pleasant to use\"   [− Labels: PRODUCT (0.9832)]\n",
      "Span [4,5]: \"Spray Glow\"   [− Labels: PRODUCT (0.9999)]\n",
      "Span [81,82]: \"Care Product\"   [− Labels: PRODUCT (0.9088)]\n",
      "Span [87]: \"Products\"   [− Labels: PRODUCT (0.9378)]\n",
      "Span [1,2,3]: \"Pleasant to use\"   [− Labels: PRODUCT (0.8314)]\n",
      "Span [4,5]: \"Spray Glow\"   [− Labels: PRODUCT (0.9999)]\n",
      "Span [59,60,61,62]: \"Spray Glow Furniture Polish\"   [− Labels: PRODUCT (0.9996)]\n",
      "Span [65,66]: \"Spray Glow\"   [− Labels: PRODUCT (0.9999)]\n",
      "Span [4,5]: \"Spray Glow\"   [− Labels: PRODUCT (1.0)]\n",
      "Span [5,6,7]: \"iO Drum Shade\"   [− Labels: PRODUCT (0.9996)]\n",
      "Span [19,20,21]: \"iO Drum Shade\"   [− Labels: PRODUCT (0.9995)]\n",
      "Span [32,33]: \"Drum Shade\"   [− Labels: PRODUCT (0.9767)]\n",
      "Span [2,3,4]: \"iO Drum Shade\"   [− Labels: PRODUCT (0.9929)]\n",
      "Span [2,3,4]: \"iO Drum Shade\"   [− Labels: PRODUCT (0.9945)]\n",
      "Span [2,3,4]: \"iO Drum Shade\"   [− Labels: PRODUCT (0.9982)]\n",
      "Span [82,83,84]: \"Native Bird Kite\"   [− Labels: PRODUCT (1.0)]\n",
      "Span [87,88,89]: \"Native Bird Kite\"   [− Labels: PRODUCT (1.0)]\n",
      "Span [56,57,58]: \"Wooden Soap Keeper\"   [− Labels: PRODUCT (0.9999)]\n",
      "Span [70,71,72]: \"Wooden Soap Keeper\"   [− Labels: PRODUCT (0.9998)]\n",
      "Span [3,4,5]: \"Wooden Soap Keeper\"   [− Labels: PRODUCT (0.9973)]\n",
      "Span [3,4,5]: \"Wooden Soap Keeper\"   [− Labels: PRODUCT (0.9922)]\n",
      "Span [104,105,106]: \"Wooden Soap Keeper\"   [− Labels: PRODUCT (0.9778)]\n",
      "Span [82,83]: \"Seed Shade\"   [− Labels: PRODUCT (0.9224)]\n",
      "Span [94,95]: \"Shade 's\"   [− Labels: PRODUCT (0.9983)]\n",
      "Span [17,18]: \"Seed Shade\"   [− Labels: PRODUCT (0.9999)]\n",
      "Span [17,18]: \"Seed Shade\"   [− Labels: PRODUCT (1.0)]\n",
      "Span [87,88]: \"Seed Shade\"   [− Labels: PRODUCT (0.9999)]\n",
      "Span [91,92,93]: \"Seed Shade 's\"   [− Labels: PRODUCT (1.0)]\n",
      "Span [17,18]: \"Seed Shade\"   [− Labels: PRODUCT (0.9999)]\n",
      "Span [60,61,62]: \"Vintage Map Coaster\"   [− Labels: PRODUCT (0.7798)]\n",
      "Span [11,12,13]: \"Nebraska Floor Rug\"   [− Labels: PRODUCT (0.9986)]\n",
      "Span [5,6,7]: \"Mackenzie Floor Rug\"   [− Labels: PRODUCT (0.9306)]\n",
      "Span [19,20,21]: \"Mackenzie Floor Rug\"   [− Labels: PRODUCT (0.9994)]\n",
      "Span [58,59,60,61]: \"the Mackenzie Floor Rug\"   [− Labels: PRODUCT (0.998)]\n",
      "Span [50,51,52]: \"Mackenzie Floor Rug\"   [− Labels: PRODUCT (0.9959)]\n",
      "Span [71,72,73,74]: \"the Mackenzie Floor Rug\"   [− Labels: PRODUCT (0.9963)]\n",
      "Span [5,6,7]: \"Rimu Bottle Opener\"   [− Labels: PRODUCT (0.9999)]\n",
      "Span [18,19,20]: \"Rimu Bottle Opener\"   [− Labels: PRODUCT (0.9998)]\n",
      "Span [31,32]: \"Bottle Opener\"   [− Labels: PRODUCT (0.9999)]\n",
      "Span [30,31,32]: \"Rimu Bottle Opener\"   [− Labels: PRODUCT (0.8445)]\n",
      "Span [30,31,32]: \"Rimu Bottle Opener\"   [− Labels: PRODUCT (0.9999)]\n",
      "Span [79,80,81]: \"Rimu Bottle Opener\"   [− Labels: PRODUCT (1.0)]\n",
      "Span [84,85,86]: \"Rimu Bottle Opener\"   [− Labels: PRODUCT (0.9999)]\n",
      "Span [10,11]: \"Bottle Opener\"   [− Labels: PRODUCT (0.9431)]\n",
      "Span [22,23,24,25]: \"Spray Glow Furniture Polish\"   [− Labels: PRODUCT (0.9997)]\n",
      "Span [36,37,38,39]: \"Spray Glow Furniture Polish\"   [− Labels: PRODUCT (0.9999)]\n",
      "Span [1,2,3,4,5]: \"Pleasant to use Spray Glow\"   [− Labels: PRODUCT (0.9783)]\n",
      "Span [81,82]: \"Care Product\"   [− Labels: PRODUCT (0.9616)]\n",
      "Span [87]: \"Products\"   [− Labels: PRODUCT (0.8721)]\n",
      "Span [4,5]: \"Spray Glow\"   [− Labels: PRODUCT (0.9999)]\n",
      "Span [59,60,61,62]: \"Spray Glow Furniture Polish\"   [− Labels: PRODUCT (0.9997)]\n",
      "Span [65,66]: \"Spray Glow\"   [− Labels: PRODUCT (0.9998)]\n",
      "Span [4,5]: \"Spray Glow\"   [− Labels: PRODUCT (1.0)]\n",
      "Span [5,6,7]: \"iO Drum Shade\"   [− Labels: PRODUCT (0.9998)]\n",
      "Span [19,20,21]: \"iO Drum Shade\"   [− Labels: PRODUCT (0.9999)]\n",
      "Span [32,33]: \"Drum Shade\"   [− Labels: PRODUCT (0.9995)]\n",
      "Span [2,3,4]: \"iO Drum Shade\"   [− Labels: PRODUCT (0.9989)]\n",
      "Span [82,83,84]: \"Native Bird Kite\"   [− Labels: PRODUCT (1.0)]\n",
      "Span [87,88,89]: \"Native Bird Kite\"   [− Labels: PRODUCT (1.0)]\n",
      "Span [56,57,58]: \"Wooden Soap Keeper\"   [− Labels: PRODUCT (0.9921)]\n",
      "Span [70,71,72]: \"Wooden Soap Keeper\"   [− Labels: PRODUCT (0.9935)]\n",
      "Span [3,4,5]: \"Wooden Soap Keeper\"   [− Labels: PRODUCT (0.9998)]\n",
      "Span [3,4,5]: \"Wooden Soap Keeper\"   [− Labels: PRODUCT (0.9948)]\n",
      "Span [104,105,106]: \"Wooden Soap Keeper\"   [− Labels: PRODUCT (0.9831)]\n",
      "Span [69,70]: \"Seed Shade\"   [− Labels: PRODUCT (0.9571)]\n",
      "Span [82,83]: \"Seed Shade\"   [− Labels: PRODUCT (0.9961)]\n",
      "Span [94,95]: \"Shade 's\"   [− Labels: PRODUCT (0.9998)]\n",
      "Span [17,18]: \"Seed Shade\"   [− Labels: PRODUCT (1.0)]\n",
      "Span [17,18]: \"Seed Shade\"   [− Labels: PRODUCT (0.9998)]\n",
      "Span [87,88]: \"Seed Shade\"   [− Labels: PRODUCT (0.9997)]\n",
      "Span [91,92,93]: \"Seed Shade 's\"   [− Labels: PRODUCT (1.0)]\n",
      "Span [17,18]: \"Seed Shade\"   [− Labels: PRODUCT (0.9997)]\n",
      "Span [23,24,25]: \"Stone Floor Mat\"   [− Labels: PRODUCT (0.9984)]\n",
      "Span [60,61,62]: \"Vintage Map Coaster\"   [− Labels: PRODUCT (0.9686)]\n",
      "Span [60,61,62]: \"Nebraska Floor Rug\"   [− Labels: PRODUCT (0.9773)]\n",
      "Span [5,6,7]: \"Mackenzie Floor Rug\"   [− Labels: PRODUCT (0.9738)]\n",
      "Span [19,20,21]: \"Mackenzie Floor Rug\"   [− Labels: PRODUCT (0.9996)]\n",
      "Span [58,59,60,61]: \"the Mackenzie Floor Rug\"   [− Labels: PRODUCT (0.9986)]\n",
      "Span [50,51,52]: \"Mackenzie Floor Rug\"   [− Labels: PRODUCT (0.9995)]\n",
      "Span [71,72,73,74]: \"the Mackenzie Floor Rug\"   [− Labels: PRODUCT (0.9972)]\n",
      "Span [5,6,7]: \"Rimu Bottle Opener\"   [− Labels: PRODUCT (0.9999)]\n",
      "Span [18,19,20]: \"Rimu Bottle Opener\"   [− Labels: PRODUCT (0.9999)]\n",
      "Span [24]: \"rimu-bottle-opener\"   [− Labels: PRODUCT (0.9285)]\n",
      "Span [31,32]: \"Bottle Opener\"   [− Labels: PRODUCT (0.9998)]\n",
      "Span [30,31,32]: \"Rimu Bottle Opener\"   [− Labels: PRODUCT (0.9251)]\n",
      "Span [30,31,32]: \"Rimu Bottle Opener\"   [− Labels: PRODUCT (0.9995)]\n",
      "Span [79,80,81]: \"Rimu Bottle Opener\"   [− Labels: PRODUCT (0.9999)]\n",
      "Span [84,85,86]: \"Rimu Bottle Opener\"   [− Labels: PRODUCT (1.0)]\n",
      "Span [10,11]: \"Bottle Opener\"   [− Labels: PRODUCT (0.7755)]\n",
      "Span [22,23,24,25]: \"Spray Glow Furniture Polish\"   [− Labels: PRODUCT (0.9997)]\n",
      "Span [36,37,38,39]: \"Spray Glow Furniture Polish\"   [− Labels: PRODUCT (0.9999)]\n",
      "Span [1,2,3,4,5]: \"Pleasant to use Spray Glow\"   [− Labels: PRODUCT (0.9783)]\n",
      "Span [81,82]: \"Care Product\"   [− Labels: PRODUCT (0.9616)]\n",
      "Span [87]: \"Products\"   [− Labels: PRODUCT (0.8721)]\n",
      "Span [4,5]: \"Spray Glow\"   [− Labels: PRODUCT (0.9999)]\n",
      "Span [59,60,61,62]: \"Spray Glow Furniture Polish\"   [− Labels: PRODUCT (0.9997)]\n",
      "Span [65,66]: \"Spray Glow\"   [− Labels: PRODUCT (0.9998)]\n",
      "Span [4,5]: \"Spray Glow\"   [− Labels: PRODUCT (1.0)]\n",
      "Span [5,6,7]: \"iO Drum Shade\"   [− Labels: PRODUCT (0.9995)]\n",
      "Span [19,20,21]: \"iO Drum Shade\"   [− Labels: PRODUCT (0.9989)]\n",
      "Span [2,3,4]: \"iO Drum Shade\"   [− Labels: PRODUCT (0.9929)]\n",
      "Span [2,3,4]: \"iO Drum Shade\"   [− Labels: PRODUCT (0.9945)]\n",
      "Span [2,3,4]: \"iO Drum Shade\"   [− Labels: PRODUCT (0.9992)]\n",
      "Span [82,83,84]: \"Native Bird Kite\"   [− Labels: PRODUCT (1.0)]\n",
      "Span [87,88,89]: \"Native Bird Kite\"   [− Labels: PRODUCT (1.0)]\n",
      "Span [56,57,58]: \"Wooden Soap Keeper\"   [− Labels: PRODUCT (0.9999)]\n",
      "Span [70,71,72]: \"Wooden Soap Keeper\"   [− Labels: PRODUCT (0.9998)]\n",
      "Span [3,4,5]: \"Wooden Soap Keeper\"   [− Labels: PRODUCT (0.9973)]\n",
      "Span [3,4,5]: \"Wooden Soap Keeper\"   [− Labels: PRODUCT (0.9895)]\n",
      "Span [104,105,106]: \"Wooden Soap Keeper\"   [− Labels: PRODUCT (0.9778)]\n",
      "Span [3,4,5]: \"Wooden Soap Keeper\"   [− Labels: PRODUCT (0.8706)]\n",
      "Span [69,70]: \"Seed Shade\"   [− Labels: PRODUCT (0.9571)]\n",
      "Span [82,83]: \"Seed Shade\"   [− Labels: PRODUCT (0.9961)]\n",
      "Span [94,95]: \"Shade 's\"   [− Labels: PRODUCT (0.9998)]\n",
      "Span [17,18]: \"Seed Shade\"   [− Labels: PRODUCT (1.0)]\n",
      "Span [17,18]: \"Seed Shade\"   [− Labels: PRODUCT (0.9998)]\n",
      "Span [87,88]: \"Seed Shade\"   [− Labels: PRODUCT (0.9997)]\n",
      "Span [91,92,93]: \"Seed Shade 's\"   [− Labels: PRODUCT (1.0)]\n",
      "Span [17,18]: \"Seed Shade\"   [− Labels: PRODUCT (0.9999)]\n",
      "Span [23,24,25]: \"Stone Floor Mat\"   [− Labels: PRODUCT (0.9951)]\n",
      "Span [60,61,62]: \"Vintage Map Coaster\"   [− Labels: PRODUCT (0.7798)]\n",
      "Span [60,61,62]: \"Nebraska Floor Rug\"   [− Labels: PRODUCT (0.9995)]\n",
      "Span [11]: \"Nebraska\"   [− Labels: PRODUCT (0.9969)]\n",
      "Span [5,6,7]: \"Mackenzie Floor Rug\"   [− Labels: PRODUCT (0.9607)]\n",
      "Span [19,20,21]: \"Mackenzie Floor Rug\"   [− Labels: PRODUCT (0.9995)]\n",
      "Span [25]: \"mackenzie-floor-rug\"   [− Labels: PRODUCT (0.7974)]\n",
      "Span [58,59,60,61]: \"the Mackenzie Floor Rug\"   [− Labels: PRODUCT (0.9986)]\n",
      "Span [50,51,52]: \"Mackenzie Floor Rug\"   [− Labels: PRODUCT (0.9959)]\n",
      "Span [71,72,73,74]: \"the Mackenzie Floor Rug\"   [− Labels: PRODUCT (0.9963)]\n",
      "Span [5,6,7]: \"Rimu Bottle Opener\"   [− Labels: PRODUCT (0.9999)]\n",
      "Span [18,19,20]: \"Rimu Bottle Opener\"   [− Labels: PRODUCT (0.9999)]\n",
      "Span [24]: \"rimu-bottle-opener\"   [− Labels: PRODUCT (0.8811)]\n",
      "Span [31,32]: \"Bottle Opener\"   [− Labels: PRODUCT (0.9999)]\n",
      "Span [30,31,32]: \"Rimu Bottle Opener\"   [− Labels: PRODUCT (0.8445)]\n",
      "Span [30,31,32]: \"Rimu Bottle Opener\"   [− Labels: PRODUCT (0.9999)]\n",
      "Span [79,80,81]: \"Rimu Bottle Opener\"   [− Labels: PRODUCT (1.0)]\n",
      "Span [84,85,86]: \"Rimu Bottle Opener\"   [− Labels: PRODUCT (0.9999)]\n",
      "Span [22,23,24,25]: \"Spray Glow Furniture Polish\"   [− Labels: PRODUCT (0.9996)]\n",
      "Span [36,37,38,39]: \"Spray Glow Furniture Polish\"   [− Labels: PRODUCT (0.9999)]\n",
      "Span [1,2,3,4,5]: \"Pleasant to use Spray Glow\"   [− Labels: PRODUCT (0.9783)]\n",
      "Span [81,82]: \"Care Product\"   [− Labels: PRODUCT (0.9616)]\n",
      "Span [87]: \"Products\"   [− Labels: PRODUCT (0.8721)]\n",
      "Span [4,5]: \"Spray Glow\"   [− Labels: PRODUCT (0.9999)]\n",
      "Span [59,60,61,62]: \"Spray Glow Furniture Polish\"   [− Labels: PRODUCT (0.9997)]\n",
      "Span [65,66]: \"Spray Glow\"   [− Labels: PRODUCT (0.9998)]\n",
      "Span [4,5]: \"Spray Glow\"   [− Labels: PRODUCT (1.0)]\n",
      "Span [5,6,7]: \"iO Drum Shade\"   [− Labels: PRODUCT (0.9398)]\n",
      "Span [19,20,21]: \"iO Drum Shade\"   [− Labels: PRODUCT (0.9859)]\n",
      "Span [2,3,4]: \"iO Drum Shade\"   [− Labels: PRODUCT (0.9959)]\n",
      "Span [2,3,4]: \"iO Drum Shade\"   [− Labels: PRODUCT (0.9945)]\n",
      "Span [2,3,4]: \"iO Drum Shade\"   [− Labels: PRODUCT (0.9982)]\n",
      "Span [82,83,84]: \"Native Bird Kite\"   [− Labels: PRODUCT (1.0)]\n",
      "Span [87,88,89]: \"Native Bird Kite\"   [− Labels: PRODUCT (1.0)]\n"
     ]
    },
    {
     "data": {
      "application/vnd.jupyter.widget-view+json": {
       "model_id": "",
       "version_major": 2,
       "version_minor": 0
      },
      "text/plain": [
       "Sentences Progress:   0%|          | 0/15 [00:00<?, ?it/s]"
      ]
     },
     "metadata": {},
     "output_type": "display_data"
    },
    {
     "data": {
      "application/vnd.jupyter.widget-view+json": {
       "model_id": "",
       "version_major": 2,
       "version_minor": 0
      },
      "text/plain": [
       "Sentences Progress:   0%|          | 0/7 [00:00<?, ?it/s]"
      ]
     },
     "metadata": {},
     "output_type": "display_data"
    },
    {
     "data": {
      "application/vnd.jupyter.widget-view+json": {
       "model_id": "",
       "version_major": 2,
       "version_minor": 0
      },
      "text/plain": [
       "Sentences Progress:   0%|          | 0/5 [00:00<?, ?it/s]"
      ]
     },
     "metadata": {},
     "output_type": "display_data"
    },
    {
     "data": {
      "application/vnd.jupyter.widget-view+json": {
       "model_id": "",
       "version_major": 2,
       "version_minor": 0
      },
      "text/plain": [
       "Sentences Progress:   0%|          | 0/21 [00:00<?, ?it/s]"
      ]
     },
     "metadata": {},
     "output_type": "display_data"
    },
    {
     "name": "stdout",
     "output_type": "stream",
     "text": [
      "Span [1,2]: \"Cosy Corner\"   [− Labels: PRODUCT (0.8748)]\n",
      "Span [1,2]: \"Cosy Corner\"   [− Labels: PRODUCT (0.9529)]\n",
      "Span [1,2]: \"Cosy Corner\"   [− Labels: PRODUCT (0.9762)]\n",
      "Span [19]: \"Classico\"   [− Labels: PRODUCT (0.8724)]\n",
      "Span [23,24]: \"Magnefique Bed\"   [− Labels: PRODUCT (0.936)]\n",
      "Span [27]: \"Magnefique\"   [− Labels: PRODUCT (0.9592)]\n",
      "Span [31,32,33]: \"Majezty Adjustable Bed\"   [− Labels: PRODUCT (0.9019)]\n",
      "Span [36,37,38]: \"Majezty Continental Bed\"   [− Labels: PRODUCT (0.9229)]\n",
      "Span [16]: \"Classico\"   [− Labels: PRODUCT (0.8426)]\n",
      "Span [20,21]: \"Magnefique Bed\"   [− Labels: PRODUCT (0.9325)]\n",
      "Span [24,25]: \"Magnefique Bed\"   [− Labels: PRODUCT (0.8429)]\n",
      "Span [28,29,30]: \"Majezty Adjustable Bed\"   [− Labels: PRODUCT (0.8106)]\n",
      "Span [16,17]: \"Classico Bed\"   [− Labels: PRODUCT (0.8686)]\n",
      "Span [20,21]: \"Magnefique Bed\"   [− Labels: PRODUCT (0.8254)]\n",
      "Span [24]: \"Magnefique\"   [− Labels: PRODUCT (0.9302)]\n",
      "Span [28,29,30]: \"Majezty Adjustable Bed\"   [− Labels: PRODUCT (0.9219)]\n",
      "Span [33,34,35]: \"Majezty Continental Bed\"   [− Labels: PRODUCT (0.9862)]\n",
      "Span [16,17]: \"Classico Bed\"   [− Labels: PRODUCT (0.9236)]\n",
      "Span [20,21]: \"Magnefique Bed\"   [− Labels: PRODUCT (0.8657)]\n",
      "Span [24]: \"Magnefique\"   [− Labels: PRODUCT (0.9461)]\n",
      "Span [28,29,30]: \"Majezty Adjustable Bed\"   [− Labels: PRODUCT (0.9539)]\n",
      "Span [33,34,35]: \"Majezty Continental Bed\"   [− Labels: PRODUCT (0.9804)]\n",
      "Span [16]: \"Classico\"   [− Labels: PRODUCT (0.8537)]\n",
      "Span [20]: \"Magnefique\"   [− Labels: PRODUCT (0.8952)]\n",
      "Span [24]: \"Magnefique\"   [− Labels: PRODUCT (0.8775)]\n",
      "Span [28,29]: \"Majezty Adjustable\"   [− Labels: PRODUCT (0.9405)]\n",
      "Span [33,34,35]: \"Majezty Continental Bed\"   [− Labels: PRODUCT (0.7808)]\n",
      "Span [16]: \"Classico\"   [− Labels: PRODUCT (0.8672)]\n",
      "Span [20,21]: \"Magnefique Bed\"   [− Labels: PRODUCT (0.9505)]\n",
      "Span [24,25]: \"Magnefique Bed\"   [− Labels: PRODUCT (0.8495)]\n",
      "Span [28,29,30]: \"Majezty Adjustable Bed\"   [− Labels: PRODUCT (0.8229)]\n",
      "Span [33,34,35]: \"Majezty Continental Bed\"   [− Labels: PRODUCT (0.8957)]\n",
      "Span [17]: \"Magnefique\"   [− Labels: PRODUCT (0.7533)]\n",
      "Span [1]: \"Magnefique\"   [− Labels: PRODUCT (0.9447)]\n",
      "Span [1]: \"Magnefique\"   [− Labels: PRODUCT (0.9802)]\n",
      "Span [1,2]: \"Magnefique Bed\"   [− Labels: PRODUCT (0.8083)]\n",
      "Span [1,2]: \"Magnefique Bed\"   [− Labels: PRODUCT (0.7855)]\n",
      "Span [1,2]: \"Magnefique Bed\"   [− Labels: PRODUCT (0.7966)]\n",
      "Span [1]: \"Magnefique\"   [− Labels: PRODUCT (0.9265)]\n",
      "Span [1,2]: \"Magnefique Bed\"   [− Labels: PRODUCT (0.805)]\n",
      "Span [3]: \"Tortula\"   [− Labels: PRODUCT (0.9403)]\n"
     ]
    },
    {
     "data": {
      "application/vnd.jupyter.widget-view+json": {
       "model_id": "",
       "version_major": 2,
       "version_minor": 0
      },
      "text/plain": [
       "Sentences Progress:   0%|          | 0/16 [00:00<?, ?it/s]"
      ]
     },
     "metadata": {},
     "output_type": "display_data"
    },
    {
     "data": {
      "application/vnd.jupyter.widget-view+json": {
       "model_id": "",
       "version_major": 2,
       "version_minor": 0
      },
      "text/plain": [
       "Sentences Progress:   0%|          | 0/30 [00:00<?, ?it/s]"
      ]
     },
     "metadata": {},
     "output_type": "display_data"
    },
    {
     "data": {
      "application/vnd.jupyter.widget-view+json": {
       "model_id": "",
       "version_major": 2,
       "version_minor": 0
      },
      "text/plain": [
       "Sentences Progress:   0%|          | 0/15 [00:00<?, ?it/s]"
      ]
     },
     "metadata": {},
     "output_type": "display_data"
    },
    {
     "data": {
      "application/vnd.jupyter.widget-view+json": {
       "model_id": "",
       "version_major": 2,
       "version_minor": 0
      },
      "text/plain": [
       "Sentences Progress:   0%|          | 0/15 [00:00<?, ?it/s]"
      ]
     },
     "metadata": {},
     "output_type": "display_data"
    },
    {
     "name": "stdout",
     "output_type": "stream",
     "text": [
      "Span [69,70,71]: \"Primavera Bed 200x200\"   [− Labels: PRODUCT (0.9999)]\n",
      "Span [69,70,71]: \"Primavera Bed 200x200\"   [− Labels: PRODUCT (0.9999)]\n",
      "Span [52,53]: \"Primavera Bed\"   [− Labels: PRODUCT (0.8666)]\n"
     ]
    },
    {
     "data": {
      "application/vnd.jupyter.widget-view+json": {
       "model_id": "",
       "version_major": 2,
       "version_minor": 0
      },
      "text/plain": [
       "Sentences Progress:   0%|          | 0/23 [00:00<?, ?it/s]"
      ]
     },
     "metadata": {},
     "output_type": "display_data"
    },
    {
     "name": "stdout",
     "output_type": "stream",
     "text": [
      "Span [8,9]: \"Furniture Wax\"   [− Labels: PRODUCT (0.9994)]\n",
      "Span [7,8,9,10]: \"Arched Mango Window Mirror\"   [− Labels: PRODUCT (0.9069)]\n"
     ]
    },
    {
     "data": {
      "application/vnd.jupyter.widget-view+json": {
       "model_id": "",
       "version_major": 2,
       "version_minor": 0
      },
      "text/plain": [
       "Sentences Progress:   0%|          | 0/15 [00:00<?, ?it/s]"
      ]
     },
     "metadata": {},
     "output_type": "display_data"
    },
    {
     "data": {
      "application/vnd.jupyter.widget-view+json": {
       "model_id": "",
       "version_major": 2,
       "version_minor": 0
      },
      "text/plain": [
       "Sentences Progress:   0%|          | 0/15 [00:00<?, ?it/s]"
      ]
     },
     "metadata": {},
     "output_type": "display_data"
    },
    {
     "data": {
      "application/vnd.jupyter.widget-view+json": {
       "model_id": "",
       "version_major": 2,
       "version_minor": 0
      },
      "text/plain": [
       "Sentences Progress:   0%|          | 0/11 [00:00<?, ?it/s]"
      ]
     },
     "metadata": {},
     "output_type": "display_data"
    },
    {
     "data": {
      "application/vnd.jupyter.widget-view+json": {
       "model_id": "",
       "version_major": 2,
       "version_minor": 0
      },
      "text/plain": [
       "Sentences Progress:   0%|          | 0/5 [00:00<?, ?it/s]"
      ]
     },
     "metadata": {},
     "output_type": "display_data"
    },
    {
     "data": {
      "application/vnd.jupyter.widget-view+json": {
       "model_id": "",
       "version_major": 2,
       "version_minor": 0
      },
      "text/plain": [
       "Sentences Progress:   0%|          | 0/3 [00:00<?, ?it/s]"
      ]
     },
     "metadata": {},
     "output_type": "display_data"
    },
    {
     "data": {
      "application/vnd.jupyter.widget-view+json": {
       "model_id": "",
       "version_major": 2,
       "version_minor": 0
      },
      "text/plain": [
       "Sentences Progress:   0%|          | 0/7 [00:00<?, ?it/s]"
      ]
     },
     "metadata": {},
     "output_type": "display_data"
    },
    {
     "data": {
      "application/vnd.jupyter.widget-view+json": {
       "model_id": "",
       "version_major": 2,
       "version_minor": 0
      },
      "text/plain": [
       "Sentences Progress:   0%|          | 0/25 [00:00<?, ?it/s]"
      ]
     },
     "metadata": {},
     "output_type": "display_data"
    },
    {
     "data": {
      "application/vnd.jupyter.widget-view+json": {
       "model_id": "",
       "version_major": 2,
       "version_minor": 0
      },
      "text/plain": [
       "Sentences Progress:   0%|          | 0/1 [00:00<?, ?it/s]"
      ]
     },
     "metadata": {},
     "output_type": "display_data"
    },
    {
     "data": {
      "application/vnd.jupyter.widget-view+json": {
       "model_id": "",
       "version_major": 2,
       "version_minor": 0
      },
      "text/plain": [
       "Sentences Progress:   0%|          | 0/7 [00:00<?, ?it/s]"
      ]
     },
     "metadata": {},
     "output_type": "display_data"
    },
    {
     "name": "stdout",
     "output_type": "stream",
     "text": [
      "Span [3,4,5]: \"Zee Back Cushion\"   [− Labels: PRODUCT (0.9999)]\n",
      "Span [6,7,8]: \"Zee Back Cushion\"   [− Labels: PRODUCT (0.9999)]\n",
      "Span [62,63,64]: \"Squeen Dressing Stool\"   [− Labels: PRODUCT (0.9681)]\n",
      "Span [72,73]: \"Dining Chair\"   [− Labels: PRODUCT (0.8097)]\n",
      "Span [81]: \"Pedestal\"   [− Labels: PRODUCT (0.7825)]\n",
      "Span [82,83,84]: \"Lip Coffee Table\"   [− Labels: PRODUCT (0.7683)]\n",
      "Span [91,92]: \"Highgate Bedside\"   [− Labels: PRODUCT (0.8825)]\n"
     ]
    },
    {
     "data": {
      "application/vnd.jupyter.widget-view+json": {
       "model_id": "",
       "version_major": 2,
       "version_minor": 0
      },
      "text/plain": [
       "Sentences Progress:   0%|          | 0/4 [00:00<?, ?it/s]"
      ]
     },
     "metadata": {},
     "output_type": "display_data"
    },
    {
     "data": {
      "application/vnd.jupyter.widget-view+json": {
       "model_id": "",
       "version_major": 2,
       "version_minor": 0
      },
      "text/plain": [
       "Sentences Progress:   0%|          | 0/12 [00:00<?, ?it/s]"
      ]
     },
     "metadata": {},
     "output_type": "display_data"
    },
    {
     "data": {
      "application/vnd.jupyter.widget-view+json": {
       "model_id": "",
       "version_major": 2,
       "version_minor": 0
      },
      "text/plain": [
       "Sentences Progress:   0%|          | 0/4 [00:00<?, ?it/s]"
      ]
     },
     "metadata": {},
     "output_type": "display_data"
    },
    {
     "data": {
      "application/vnd.jupyter.widget-view+json": {
       "model_id": "",
       "version_major": 2,
       "version_minor": 0
      },
      "text/plain": [
       "Sentences Progress:   0%|          | 0/17 [00:00<?, ?it/s]"
      ]
     },
     "metadata": {},
     "output_type": "display_data"
    },
    {
     "data": {
      "application/vnd.jupyter.widget-view+json": {
       "model_id": "",
       "version_major": 2,
       "version_minor": 0
      },
      "text/plain": [
       "Sentences Progress:   0%|          | 0/8 [00:00<?, ?it/s]"
      ]
     },
     "metadata": {},
     "output_type": "display_data"
    },
    {
     "name": "stdout",
     "output_type": "stream",
     "text": [
      "Span [5,6,7]: \"Kaona Dining Table\"   [− Labels: PRODUCT (0.9532)]\n",
      "Span [8,9,10]: \"Kaona Dining Table\"   [− Labels: PRODUCT (0.9959)]\n",
      "Span [15,16,17]: \"Kaona Dining Table\"   [− Labels: PRODUCT (0.9994)]\n",
      "Span [5,6,7]: \"Kaona Dining Table\"   [− Labels: PRODUCT (0.9988)]\n",
      "Span [8,9,10]: \"Kaona Dining Table\"   [− Labels: PRODUCT (0.9988)]\n",
      "Span [15,16,17]: \"Kaona Dining Table\"   [− Labels: PRODUCT (0.9965)]\n",
      "Span [5,6,7]: \"Kaona Dining Table\"   [− Labels: PRODUCT (0.8284)]\n",
      "Span [8,9,10]: \"Kaona Dining Table\"   [− Labels: PRODUCT (0.9499)]\n",
      "Span [15,16,17]: \"Kaona Dining Table\"   [− Labels: PRODUCT (0.8263)]\n",
      "Span [5,6,7]: \"Kaona Dining Table\"   [− Labels: PRODUCT (0.914)]\n",
      "Span [8,9,10]: \"Kaona Dining Table\"   [− Labels: PRODUCT (0.9881)]\n"
     ]
    },
    {
     "data": {
      "application/vnd.jupyter.widget-view+json": {
       "model_id": "",
       "version_major": 2,
       "version_minor": 0
      },
      "text/plain": [
       "Sentences Progress:   0%|          | 0/1 [00:00<?, ?it/s]"
      ]
     },
     "metadata": {},
     "output_type": "display_data"
    },
    {
     "data": {
      "application/vnd.jupyter.widget-view+json": {
       "model_id": "",
       "version_major": 2,
       "version_minor": 0
      },
      "text/plain": [
       "Sentences Progress:   0%|          | 0/20 [00:00<?, ?it/s]"
      ]
     },
     "metadata": {},
     "output_type": "display_data"
    },
    {
     "name": "stdout",
     "output_type": "stream",
     "text": [
      "Span [9,10]: \"Yorke Clock\"   [− Labels: PRODUCT (0.9994)]\n",
      "Span [34]: \"Briella\"   [− Labels: PRODUCT (0.9992)]\n",
      "Span [41,42]: \"Wilma Wingback\"   [− Labels: PRODUCT (0.9958)]\n",
      "Span [9,10]: \"Yorke Clock\"   [− Labels: PRODUCT (0.9996)]\n",
      "Span [34]: \"Briella\"   [− Labels: PRODUCT (0.9997)]\n",
      "Span [9,10]: \"Yorke Clock\"   [− Labels: PRODUCT (0.9999)]\n",
      "Span [9,10]: \"Yorke Clock\"   [− Labels: PRODUCT (0.9999)]\n",
      "Span [9,10]: \"Yorke Clock\"   [− Labels: PRODUCT (0.9999)]\n",
      "Span [9,10]: \"Yorke Clock\"   [− Labels: PRODUCT (0.9999)]\n",
      "Span [9,10]: \"Yorke Clock\"   [− Labels: PRODUCT (0.9999)]\n",
      "Span [9,10]: \"Yorke Clock\"   [− Labels: PRODUCT (0.9999)]\n"
     ]
    },
    {
     "data": {
      "application/vnd.jupyter.widget-view+json": {
       "model_id": "",
       "version_major": 2,
       "version_minor": 0
      },
      "text/plain": [
       "Sentences Progress:   0%|          | 0/6 [00:00<?, ?it/s]"
      ]
     },
     "metadata": {},
     "output_type": "display_data"
    },
    {
     "name": "stdout",
     "output_type": "stream",
     "text": [
      "Span [8,9]: \"SAMANTA XL\"   [− Labels: PRODUCT (0.9567)]\n",
      "Span [8,9]: \"SAMANTA XL\"   [− Labels: PRODUCT (0.8033)]\n"
     ]
    },
    {
     "data": {
      "application/vnd.jupyter.widget-view+json": {
       "model_id": "",
       "version_major": 2,
       "version_minor": 0
      },
      "text/plain": [
       "Sentences Progress:   0%|          | 0/12 [00:00<?, ?it/s]"
      ]
     },
     "metadata": {},
     "output_type": "display_data"
    },
    {
     "data": {
      "application/vnd.jupyter.widget-view+json": {
       "model_id": "",
       "version_major": 2,
       "version_minor": 0
      },
      "text/plain": [
       "Sentences Progress:   0%|          | 0/14 [00:00<?, ?it/s]"
      ]
     },
     "metadata": {},
     "output_type": "display_data"
    },
    {
     "data": {
      "application/vnd.jupyter.widget-view+json": {
       "model_id": "",
       "version_major": 2,
       "version_minor": 0
      },
      "text/plain": [
       "Sentences Progress:   0%|          | 0/1 [00:00<?, ?it/s]"
      ]
     },
     "metadata": {},
     "output_type": "display_data"
    },
    {
     "data": {
      "application/vnd.jupyter.widget-view+json": {
       "model_id": "",
       "version_major": 2,
       "version_minor": 0
      },
      "text/plain": [
       "Sentences Progress:   0%|          | 0/1 [00:00<?, ?it/s]"
      ]
     },
     "metadata": {},
     "output_type": "display_data"
    },
    {
     "data": {
      "application/vnd.jupyter.widget-view+json": {
       "model_id": "",
       "version_major": 2,
       "version_minor": 0
      },
      "text/plain": [
       "Sentences Progress:   0%|          | 0/15 [00:00<?, ?it/s]"
      ]
     },
     "metadata": {},
     "output_type": "display_data"
    },
    {
     "name": "stdout",
     "output_type": "stream",
     "text": [
      "Span [1,2,3]: \"Sol Y Luna\"   [− Labels: PRODUCT (0.9893)]\n",
      "Span [1,2,3]: \"Sol Y Luna\"   [− Labels: PRODUCT (0.9908)]\n",
      "Span [1,2,3]: \"Sol Y Luna\"   [− Labels: PRODUCT (0.9897)]\n",
      "Span [1,2,3]: \"Sol Y Luna\"   [− Labels: PRODUCT (0.977)]\n"
     ]
    },
    {
     "data": {
      "application/vnd.jupyter.widget-view+json": {
       "model_id": "",
       "version_major": 2,
       "version_minor": 0
      },
      "text/plain": [
       "Sentences Progress:   0%|          | 0/11 [00:00<?, ?it/s]"
      ]
     },
     "metadata": {},
     "output_type": "display_data"
    },
    {
     "data": {
      "application/vnd.jupyter.widget-view+json": {
       "model_id": "",
       "version_major": 2,
       "version_minor": 0
      },
      "text/plain": [
       "Sentences Progress:   0%|          | 0/7 [00:00<?, ?it/s]"
      ]
     },
     "metadata": {},
     "output_type": "display_data"
    },
    {
     "name": "stdout",
     "output_type": "stream",
     "text": [
      "Span [2,3,4]: \"2 Seater Couch\"   [− Labels: PRODUCT (0.839)]\n",
      "Span [1,2,3]: \"Metro Corner Set\"   [− Labels: PRODUCT (0.8696)]\n",
      "Span [1,2,3]: \"Metro Corner Set\"   [− Labels: PRODUCT (0.8996)]\n",
      "Span [1,2,3]: \"Metro Corner Set\"   [− Labels: PRODUCT (0.962)]\n",
      "Span [1,2,3]: \"Metro Corner Set\"   [− Labels: PRODUCT (0.9889)]\n",
      "Span [1,2]: \"Sleeper Couch\"   [− Labels: PRODUCT (0.9858)]\n"
     ]
    },
    {
     "data": {
      "application/vnd.jupyter.widget-view+json": {
       "model_id": "",
       "version_major": 2,
       "version_minor": 0
      },
      "text/plain": [
       "Sentences Progress:   0%|          | 0/13 [00:00<?, ?it/s]"
      ]
     },
     "metadata": {},
     "output_type": "display_data"
    },
    {
     "name": "stdout",
     "output_type": "stream",
     "text": [
      "Span [19,20,21]: \"GAMA ARM CHAIR\"   [− Labels: PRODUCT (0.8942)]\n",
      "Span [27,28,29]: \"GAMA ARM CHAIR\"   [− Labels: PRODUCT (0.8729)]\n"
     ]
    },
    {
     "data": {
      "application/vnd.jupyter.widget-view+json": {
       "model_id": "",
       "version_major": 2,
       "version_minor": 0
      },
      "text/plain": [
       "Sentences Progress:   0%|          | 0/25 [00:00<?, ?it/s]"
      ]
     },
     "metadata": {},
     "output_type": "display_data"
    },
    {
     "name": "stdout",
     "output_type": "stream",
     "text": [
      "Span [1,2,3,4]: \"Live Edge Console Tables\"   [− Labels: PRODUCT (0.942)]\n",
      "Span [1,2,3,4]: \"Live Edge Console Tables\"   [− Labels: PRODUCT (0.909)]\n",
      "Span [1,2,3]: \"Live Edge Tables\"   [− Labels: PRODUCT (0.8265)]\n",
      "Span [8,9,10]: \"Live Edge Tables\"   [− Labels: PRODUCT (0.7518)]\n",
      "Span [11,12]: \"Live Edge\"   [− Labels: PRODUCT (0.8523)]\n",
      "Span [15,16]: \"Live Edge\"   [− Labels: PRODUCT (0.858)]\n",
      "Span [19,20,21,22]: \"Live Edge Console Tables\"   [− Labels: PRODUCT (0.7971)]\n",
      "Span [1,2,3]: \"Live Edge Tables\"   [− Labels: PRODUCT (0.8322)]\n",
      "Span [3,4,5]: \"Live Edge Tables\"   [− Labels: PRODUCT (0.8414)]\n",
      "Span [6,7]: \"Live Edge\"   [− Labels: PRODUCT (0.9021)]\n",
      "Span [10,11,12,13]: \"Live Edge Coffee Tables\"   [− Labels: PRODUCT (0.8064)]\n",
      "Span [14,15,16,17]: \"Live Edge Console Tables\"   [− Labels: PRODUCT (0.7643)]\n",
      "Span [3,4,5]: \"Live Edge Tables\"   [− Labels: PRODUCT (0.9324)]\n",
      "Span [3,4,5]: \"Live Edge Tables\"   [− Labels: PRODUCT (0.8295)]\n"
     ]
    },
    {
     "data": {
      "application/vnd.jupyter.widget-view+json": {
       "model_id": "",
       "version_major": 2,
       "version_minor": 0
      },
      "text/plain": [
       "Sentences Progress:   0%|          | 0/6 [00:00<?, ?it/s]"
      ]
     },
     "metadata": {},
     "output_type": "display_data"
    },
    {
     "data": {
      "application/vnd.jupyter.widget-view+json": {
       "model_id": "",
       "version_major": 2,
       "version_minor": 0
      },
      "text/plain": [
       "Sentences Progress:   0%|          | 0/16 [00:00<?, ?it/s]"
      ]
     },
     "metadata": {},
     "output_type": "display_data"
    },
    {
     "data": {
      "application/vnd.jupyter.widget-view+json": {
       "model_id": "",
       "version_major": 2,
       "version_minor": 0
      },
      "text/plain": [
       "Sentences Progress:   0%|          | 0/7 [00:00<?, ?it/s]"
      ]
     },
     "metadata": {},
     "output_type": "display_data"
    },
    {
     "name": "stdout",
     "output_type": "stream",
     "text": [
      "Span [6,7,8,9]: \"Queen Foam Folding Beds\"   [− Labels: PRODUCT (0.9859)]\n"
     ]
    },
    {
     "data": {
      "application/vnd.jupyter.widget-view+json": {
       "model_id": "",
       "version_major": 2,
       "version_minor": 0
      },
      "text/plain": [
       "Sentences Progress:   0%|          | 0/16 [00:00<?, ?it/s]"
      ]
     },
     "metadata": {},
     "output_type": "display_data"
    },
    {
     "name": "stdout",
     "output_type": "stream",
     "text": [
      "Span [94,95,96,97,98]: \"Wilhelm Renz Metamorphic Coffee Table\"   [− Labels: PRODUCT (0.997)]\n",
      "Span [12,13,14,15,16]: \"Wilhelm Renz Metamorphic Coffee Table\"   [− Labels: PRODUCT (0.9767)]\n",
      "Span [20,21,22,23,24]: \"Wilhelm Renz Metamorphic Coffee Table\"   [− Labels: PRODUCT (0.994)]\n",
      "Span [94,95,96,97,98]: \"Wilhelm Renz Metamorphic Coffee Table\"   [− Labels: PRODUCT (0.9969)]\n",
      "Span [12,13,14,15,16]: \"Wilhelm Renz Metamorphic Coffee Table\"   [− Labels: PRODUCT (0.9962)]\n",
      "Span [20,21,22,23,24]: \"Wilhelm Renz Metamorphic Coffee Table\"   [− Labels: PRODUCT (0.9985)]\n",
      "Span [94,95,96,97,98]: \"Wilhelm Renz Metamorphic Coffee Table\"   [− Labels: PRODUCT (0.9969)]\n",
      "Span [12,13,14,15,16]: \"Wilhelm Renz Metamorphic Coffee Table\"   [− Labels: PRODUCT (0.9962)]\n",
      "Span [20,21,22,23,24]: \"Wilhelm Renz Metamorphic Coffee Table\"   [− Labels: PRODUCT (0.9985)]\n",
      "Span [94,95,96,97,98]: \"Wilhelm Renz Metamorphic Coffee Table\"   [− Labels: PRODUCT (0.9969)]\n",
      "Span [12,13,14,15,16]: \"Wilhelm Renz Metamorphic Coffee Table\"   [− Labels: PRODUCT (0.9962)]\n",
      "Span [20,21,22,23,24]: \"Wilhelm Renz Metamorphic Coffee Table\"   [− Labels: PRODUCT (0.9985)]\n",
      "Span [94,95,96,97,98]: \"Wilhelm Renz Metamorphic Coffee Table\"   [− Labels: PRODUCT (0.9969)]\n",
      "Span [12,13,14,15,16]: \"Wilhelm Renz Metamorphic Coffee Table\"   [− Labels: PRODUCT (0.9962)]\n",
      "Span [20,21,22,23,24]: \"Wilhelm Renz Metamorphic Coffee Table\"   [− Labels: PRODUCT (0.9985)]\n",
      "Span [94,95,96,97,98]: \"Wilhelm Renz Metamorphic Coffee Table\"   [− Labels: PRODUCT (0.9969)]\n",
      "Span [12,13,14,15,16]: \"Wilhelm Renz Metamorphic Coffee Table\"   [− Labels: PRODUCT (0.9962)]\n",
      "Span [20,21,22,23,24]: \"Wilhelm Renz Metamorphic Coffee Table\"   [− Labels: PRODUCT (0.9985)]\n"
     ]
    },
    {
     "data": {
      "application/vnd.jupyter.widget-view+json": {
       "model_id": "",
       "version_major": 2,
       "version_minor": 0
      },
      "text/plain": [
       "Sentences Progress:   0%|          | 0/4 [00:00<?, ?it/s]"
      ]
     },
     "metadata": {},
     "output_type": "display_data"
    },
    {
     "data": {
      "application/vnd.jupyter.widget-view+json": {
       "model_id": "",
       "version_major": 2,
       "version_minor": 0
      },
      "text/plain": [
       "Sentences Progress:   0%|          | 0/18 [00:00<?, ?it/s]"
      ]
     },
     "metadata": {},
     "output_type": "display_data"
    },
    {
     "name": "stdout",
     "output_type": "stream",
     "text": [
      "Span [3,4,5]: \"Jean - 30\"   [− Labels: PRODUCT (0.8045)]\n",
      "Span [3,4,5]: \"Jean - 30\"   [− Labels: PRODUCT (0.8278)]\n",
      "Span [3,4,5]: \"Jean - 30\"   [− Labels: PRODUCT (0.7687)]\n",
      "Span [3,4,5]: \"Jean - 30\"   [− Labels: PRODUCT (0.8755)]\n",
      "Span [3,4,5]: \"Jean - 30\"   [− Labels: PRODUCT (0.9303)]\n"
     ]
    },
    {
     "data": {
      "application/vnd.jupyter.widget-view+json": {
       "model_id": "",
       "version_major": 2,
       "version_minor": 0
      },
      "text/plain": [
       "Sentences Progress:   0%|          | 0/15 [00:00<?, ?it/s]"
      ]
     },
     "metadata": {},
     "output_type": "display_data"
    },
    {
     "data": {
      "application/vnd.jupyter.widget-view+json": {
       "model_id": "",
       "version_major": 2,
       "version_minor": 0
      },
      "text/plain": [
       "Sentences Progress:   0%|          | 0/6 [00:00<?, ?it/s]"
      ]
     },
     "metadata": {},
     "output_type": "display_data"
    },
    {
     "data": {
      "application/vnd.jupyter.widget-view+json": {
       "model_id": "",
       "version_major": 2,
       "version_minor": 0
      },
      "text/plain": [
       "Sentences Progress:   0%|          | 0/14 [00:00<?, ?it/s]"
      ]
     },
     "metadata": {},
     "output_type": "display_data"
    },
    {
     "name": "stdout",
     "output_type": "stream",
     "text": [
      "Span [1]: \"Leather\"   [− Labels: PRODUCT (0.759)]\n",
      "Span [1]: \"Leather\"   [− Labels: PRODUCT (0.8112)]\n"
     ]
    },
    {
     "data": {
      "application/vnd.jupyter.widget-view+json": {
       "model_id": "",
       "version_major": 2,
       "version_minor": 0
      },
      "text/plain": [
       "Sentences Progress:   0%|          | 0/8 [00:00<?, ?it/s]"
      ]
     },
     "metadata": {},
     "output_type": "display_data"
    },
    {
     "data": {
      "application/vnd.jupyter.widget-view+json": {
       "model_id": "",
       "version_major": 2,
       "version_minor": 0
      },
      "text/plain": [
       "Sentences Progress:   0%|          | 0/7 [00:00<?, ?it/s]"
      ]
     },
     "metadata": {},
     "output_type": "display_data"
    },
    {
     "name": "stdout",
     "output_type": "stream",
     "text": [
      "Span [9,10,11]: \"Futon TV Console\"   [− Labels: PRODUCT (0.8625)]\n",
      "Span [1,2]: \"Love Seat\"   [− Labels: PRODUCT (0.9051)]\n"
     ]
    },
    {
     "data": {
      "application/vnd.jupyter.widget-view+json": {
       "model_id": "",
       "version_major": 2,
       "version_minor": 0
      },
      "text/plain": [
       "Sentences Progress:   0%|          | 0/7 [00:00<?, ?it/s]"
      ]
     },
     "metadata": {},
     "output_type": "display_data"
    },
    {
     "data": {
      "application/vnd.jupyter.widget-view+json": {
       "model_id": "",
       "version_major": 2,
       "version_minor": 0
      },
      "text/plain": [
       "Sentences Progress:   0%|          | 0/3 [00:00<?, ?it/s]"
      ]
     },
     "metadata": {},
     "output_type": "display_data"
    },
    {
     "data": {
      "application/vnd.jupyter.widget-view+json": {
       "model_id": "",
       "version_major": 2,
       "version_minor": 0
      },
      "text/plain": [
       "Sentences Progress:   0%|          | 0/3 [00:00<?, ?it/s]"
      ]
     },
     "metadata": {},
     "output_type": "display_data"
    },
    {
     "name": "stdout",
     "output_type": "stream",
     "text": [
      "Span [4]: \"Quooker\"   [− Labels: PRODUCT (0.9978)]\n",
      "Span [3]: \"Quooker\"   [− Labels: PRODUCT (0.9992)]\n",
      "Span [1]: \"Quooker\"   [− Labels: PRODUCT (0.9873)]\n"
     ]
    },
    {
     "data": {
      "application/vnd.jupyter.widget-view+json": {
       "model_id": "",
       "version_major": 2,
       "version_minor": 0
      },
      "text/plain": [
       "Sentences Progress:   0%|          | 0/2 [00:00<?, ?it/s]"
      ]
     },
     "metadata": {},
     "output_type": "display_data"
    },
    {
     "data": {
      "application/vnd.jupyter.widget-view+json": {
       "model_id": "",
       "version_major": 2,
       "version_minor": 0
      },
      "text/plain": [
       "Sentences Progress:   0%|          | 0/4 [00:00<?, ?it/s]"
      ]
     },
     "metadata": {},
     "output_type": "display_data"
    },
    {
     "data": {
      "application/vnd.jupyter.widget-view+json": {
       "model_id": "",
       "version_major": 2,
       "version_minor": 0
      },
      "text/plain": [
       "Sentences Progress:   0%|          | 0/13 [00:00<?, ?it/s]"
      ]
     },
     "metadata": {},
     "output_type": "display_data"
    },
    {
     "data": {
      "application/vnd.jupyter.widget-view+json": {
       "model_id": "",
       "version_major": 2,
       "version_minor": 0
      },
      "text/plain": [
       "Sentences Progress:   0%|          | 0/9 [00:00<?, ?it/s]"
      ]
     },
     "metadata": {},
     "output_type": "display_data"
    },
    {
     "data": {
      "application/vnd.jupyter.widget-view+json": {
       "model_id": "",
       "version_major": 2,
       "version_minor": 0
      },
      "text/plain": [
       "Sentences Progress:   0%|          | 0/7 [00:00<?, ?it/s]"
      ]
     },
     "metadata": {},
     "output_type": "display_data"
    },
    {
     "data": {
      "application/vnd.jupyter.widget-view+json": {
       "model_id": "",
       "version_major": 2,
       "version_minor": 0
      },
      "text/plain": [
       "Sentences Progress:   0%|          | 0/16 [00:00<?, ?it/s]"
      ]
     },
     "metadata": {},
     "output_type": "display_data"
    },
    {
     "name": "stdout",
     "output_type": "stream",
     "text": [
      "Span [33,34,35,36]: \"Niagara Bar Stool 697001\"   [− Labels: PRODUCT (0.9935)]\n",
      "Span [46,47,48]: \"Niagara Console 693006\"   [− Labels: PRODUCT (0.9055)]\n",
      "Span [58,59,60]: \"Niagara Bar Hutch\"   [− Labels: PRODUCT (0.9947)]\n",
      "Span [5,6]: \"Niagara Bar\"   [− Labels: PRODUCT (0.9638)]\n",
      "Span [33,34,35,36]: \"Niagara Bar Stool 697001\"   [− Labels: PRODUCT (0.9935)]\n",
      "Span [46,47,48]: \"Niagara Console 693006\"   [− Labels: PRODUCT (0.9055)]\n",
      "Span [58,59,60]: \"Niagara Bar Hutch\"   [− Labels: PRODUCT (0.9947)]\n",
      "Span [33,34,35,36]: \"Niagara Bar Stool 697001\"   [− Labels: PRODUCT (0.9935)]\n",
      "Span [46,47,48]: \"Niagara Console 693006\"   [− Labels: PRODUCT (0.9055)]\n",
      "Span [58,59,60]: \"Niagara Bar Hutch\"   [− Labels: PRODUCT (0.9947)]\n"
     ]
    },
    {
     "data": {
      "application/vnd.jupyter.widget-view+json": {
       "model_id": "",
       "version_major": 2,
       "version_minor": 0
      },
      "text/plain": [
       "Sentences Progress:   0%|          | 0/9 [00:00<?, ?it/s]"
      ]
     },
     "metadata": {},
     "output_type": "display_data"
    },
    {
     "data": {
      "application/vnd.jupyter.widget-view+json": {
       "model_id": "",
       "version_major": 2,
       "version_minor": 0
      },
      "text/plain": [
       "Sentences Progress:   0%|          | 0/20 [00:00<?, ?it/s]"
      ]
     },
     "metadata": {},
     "output_type": "display_data"
    },
    {
     "data": {
      "application/vnd.jupyter.widget-view+json": {
       "model_id": "",
       "version_major": 2,
       "version_minor": 0
      },
      "text/plain": [
       "Sentences Progress:   0%|          | 0/4 [00:00<?, ?it/s]"
      ]
     },
     "metadata": {},
     "output_type": "display_data"
    },
    {
     "data": {
      "application/vnd.jupyter.widget-view+json": {
       "model_id": "",
       "version_major": 2,
       "version_minor": 0
      },
      "text/plain": [
       "Sentences Progress:   0%|          | 0/5 [00:00<?, ?it/s]"
      ]
     },
     "metadata": {},
     "output_type": "display_data"
    },
    {
     "data": {
      "application/vnd.jupyter.widget-view+json": {
       "model_id": "",
       "version_major": 2,
       "version_minor": 0
      },
      "text/plain": [
       "Sentences Progress:   0%|          | 0/34 [00:00<?, ?it/s]"
      ]
     },
     "metadata": {},
     "output_type": "display_data"
    },
    {
     "name": "stdout",
     "output_type": "stream",
     "text": [
      "Span [9,10,11]: \"Pulley Clothes Airers\"   [− Labels: PRODUCT (0.9222)]\n",
      "Span [13,14,15]: \"Pulley Clothes Airers\"   [− Labels: PRODUCT (0.9988)]\n",
      "Span [31,32]: \"Clothes Airers\"   [− Labels: PRODUCT (1.0)]\n",
      "Span [13,14,15]: \"Pulley Clothes Airers\"   [− Labels: PRODUCT (0.9973)]\n",
      "Span [44,45,46,47]: \"These pulley Clothes Airers\"   [− Labels: PRODUCT (0.9993)]\n",
      "Span [31,32]: \"Clothes Airers\"   [− Labels: PRODUCT (0.918)]\n",
      "Span [32,33]: \"Quick View\"   [− Labels: PRODUCT (0.7794)]\n",
      "Span [4]: \"Clothes\"   [− Labels: PRODUCT (0.8179)]\n",
      "Span [9,10,11]: \"Pulley Clothes Airers\"   [− Labels: PRODUCT (0.9881)]\n",
      "Span [13,14,15]: \"Pulley Clothes Airers\"   [− Labels: PRODUCT (0.9435)]\n",
      "Span [46,47]: \"Clothes Airers\"   [− Labels: PRODUCT (0.9537)]\n",
      "Span [13,14,15]: \"Pulley Clothes Airers\"   [− Labels: PRODUCT (0.8624)]\n",
      "Span [44,45,46,47]: \"These pulley Clothes Airers\"   [− Labels: PRODUCT (0.9988)]\n",
      "Span [31,32]: \"Clothes Airers\"   [− Labels: PRODUCT (0.918)]\n",
      "Span [22,23,24]: \"These Clothes Airers\"   [− Labels: PRODUCT (0.9999)]\n",
      "Span [32,33]: \"Quick View\"   [− Labels: PRODUCT (0.7794)]\n",
      "Span [46,47]: \"Clothes Airers\"   [− Labels: PRODUCT (0.9511)]\n",
      "Span [5,6]: \"clothes Airer\"   [− Labels: PRODUCT (0.9244)]\n",
      "Span [18,19,20]: \"EASY to Fit\"   [− Labels: PRODUCT (0.9999)]\n",
      "Span [22,23,24]: \"These Clothes Airers\"   [− Labels: PRODUCT (0.9664)]\n",
      "Span [13,14,15]: \"Pulley Clothes Airers\"   [− Labels: PRODUCT (0.9025)]\n",
      "Span [44,45,46,47]: \"These pulley Clothes Airers\"   [− Labels: PRODUCT (0.9989)]\n",
      "Span [5,6]: \"clothes Airer\"   [− Labels: PRODUCT (0.9309)]\n",
      "Span [22,23,24]: \"These Clothes Airers\"   [− Labels: PRODUCT (0.9999)]\n"
     ]
    },
    {
     "data": {
      "application/vnd.jupyter.widget-view+json": {
       "model_id": "",
       "version_major": 2,
       "version_minor": 0
      },
      "text/plain": [
       "Sentences Progress:   0%|          | 0/4 [00:00<?, ?it/s]"
      ]
     },
     "metadata": {},
     "output_type": "display_data"
    },
    {
     "data": {
      "application/vnd.jupyter.widget-view+json": {
       "model_id": "",
       "version_major": 2,
       "version_minor": 0
      },
      "text/plain": [
       "Sentences Progress:   0%|          | 0/8 [00:00<?, ?it/s]"
      ]
     },
     "metadata": {},
     "output_type": "display_data"
    },
    {
     "data": {
      "application/vnd.jupyter.widget-view+json": {
       "model_id": "",
       "version_major": 2,
       "version_minor": 0
      },
      "text/plain": [
       "Sentences Progress:   0%|          | 0/9 [00:00<?, ?it/s]"
      ]
     },
     "metadata": {},
     "output_type": "display_data"
    },
    {
     "data": {
      "application/vnd.jupyter.widget-view+json": {
       "model_id": "",
       "version_major": 2,
       "version_minor": 0
      },
      "text/plain": [
       "Sentences Progress:   0%|          | 0/8 [00:00<?, ?it/s]"
      ]
     },
     "metadata": {},
     "output_type": "display_data"
    },
    {
     "data": {
      "application/vnd.jupyter.widget-view+json": {
       "model_id": "",
       "version_major": 2,
       "version_minor": 0
      },
      "text/plain": [
       "Sentences Progress:   0%|          | 0/1 [00:00<?, ?it/s]"
      ]
     },
     "metadata": {},
     "output_type": "display_data"
    },
    {
     "data": {
      "application/vnd.jupyter.widget-view+json": {
       "model_id": "",
       "version_major": 2,
       "version_minor": 0
      },
      "text/plain": [
       "Sentences Progress:   0%|          | 0/12 [00:00<?, ?it/s]"
      ]
     },
     "metadata": {},
     "output_type": "display_data"
    },
    {
     "name": "stdout",
     "output_type": "stream",
     "text": [
      "Span [2]: \"Steamer\"   [− Labels: PRODUCT (0.9535)]\n",
      "Span [5,6]: \"Sun Lounge\"   [− Labels: PRODUCT (0.768)]\n",
      "Span [1]: \"Steamer\"   [− Labels: PRODUCT (0.8758)]\n",
      "Span [1,2]: \"Steamer Lounge\"   [− Labels: PRODUCT (0.823)]\n",
      "Span [1]: \"Steamer\"   [− Labels: PRODUCT (0.9627)]\n",
      "Span [1]: \"Steamer\"   [− Labels: PRODUCT (0.9649)]\n"
     ]
    },
    {
     "data": {
      "application/vnd.jupyter.widget-view+json": {
       "model_id": "",
       "version_major": 2,
       "version_minor": 0
      },
      "text/plain": [
       "Sentences Progress:   0%|          | 0/7 [00:00<?, ?it/s]"
      ]
     },
     "metadata": {},
     "output_type": "display_data"
    },
    {
     "name": "stdout",
     "output_type": "stream",
     "text": [
      "Span [3,4,5]: \"Lucas Leather Chair\"   [− Labels: PRODUCT (0.9978)]\n",
      "Span [3,4,5]: \"Lucas Leather Chair\"   [− Labels: PRODUCT (0.9976)]\n"
     ]
    },
    {
     "data": {
      "application/vnd.jupyter.widget-view+json": {
       "model_id": "",
       "version_major": 2,
       "version_minor": 0
      },
      "text/plain": [
       "Sentences Progress:   0%|          | 0/8 [00:00<?, ?it/s]"
      ]
     },
     "metadata": {},
     "output_type": "display_data"
    },
    {
     "data": {
      "application/vnd.jupyter.widget-view+json": {
       "model_id": "",
       "version_major": 2,
       "version_minor": 0
      },
      "text/plain": [
       "Sentences Progress:   0%|          | 0/4 [00:00<?, ?it/s]"
      ]
     },
     "metadata": {},
     "output_type": "display_data"
    },
    {
     "data": {
      "application/vnd.jupyter.widget-view+json": {
       "model_id": "",
       "version_major": 2,
       "version_minor": 0
      },
      "text/plain": [
       "Sentences Progress:   0%|          | 0/5 [00:00<?, ?it/s]"
      ]
     },
     "metadata": {},
     "output_type": "display_data"
    },
    {
     "data": {
      "application/vnd.jupyter.widget-view+json": {
       "model_id": "",
       "version_major": 2,
       "version_minor": 0
      },
      "text/plain": [
       "Sentences Progress:   0%|          | 0/4 [00:00<?, ?it/s]"
      ]
     },
     "metadata": {},
     "output_type": "display_data"
    },
    {
     "data": {
      "application/vnd.jupyter.widget-view+json": {
       "model_id": "",
       "version_major": 2,
       "version_minor": 0
      },
      "text/plain": [
       "Sentences Progress:   0%|          | 0/6 [00:00<?, ?it/s]"
      ]
     },
     "metadata": {},
     "output_type": "display_data"
    },
    {
     "data": {
      "application/vnd.jupyter.widget-view+json": {
       "model_id": "",
       "version_major": 2,
       "version_minor": 0
      },
      "text/plain": [
       "Sentences Progress:   0%|          | 0/8 [00:00<?, ?it/s]"
      ]
     },
     "metadata": {},
     "output_type": "display_data"
    },
    {
     "data": {
      "application/vnd.jupyter.widget-view+json": {
       "model_id": "",
       "version_major": 2,
       "version_minor": 0
      },
      "text/plain": [
       "Sentences Progress:   0%|          | 0/21 [00:00<?, ?it/s]"
      ]
     },
     "metadata": {},
     "output_type": "display_data"
    },
    {
     "data": {
      "application/vnd.jupyter.widget-view+json": {
       "model_id": "",
       "version_major": 2,
       "version_minor": 0
      },
      "text/plain": [
       "Sentences Progress:   0%|          | 0/4 [00:00<?, ?it/s]"
      ]
     },
     "metadata": {},
     "output_type": "display_data"
    },
    {
     "name": "stdout",
     "output_type": "stream",
     "text": [
      "Span [1,2]: \"Arcos Chair\"   [− Labels: PRODUCT (0.9998)]\n",
      "Span [1,2]: \"Arcos Chair\"   [− Labels: PRODUCT (0.9999)]\n",
      "Span [1,2]: \"Arcos Chair\"   [− Labels: PRODUCT (0.9998)]\n"
     ]
    },
    {
     "data": {
      "application/vnd.jupyter.widget-view+json": {
       "model_id": "",
       "version_major": 2,
       "version_minor": 0
      },
      "text/plain": [
       "Sentences Progress:   0%|          | 0/31 [00:00<?, ?it/s]"
      ]
     },
     "metadata": {},
     "output_type": "display_data"
    },
    {
     "name": "stdout",
     "output_type": "stream",
     "text": [
      "Span [20,21,22,23]: \"Kino Coffee Table -\"   [− Labels: PRODUCT (0.8862)]\n",
      "Span [20,21,22,23,24]: \"Kino Coffee Table - Solid\"   [− Labels: PRODUCT (0.9905)]\n",
      "Span [20,21,22,23]: \"Kino Coffee Table -\"   [− Labels: PRODUCT (0.877)]\n",
      "Span [20,21]: \"Kino Coffee\"   [− Labels: PRODUCT (0.7698)]\n",
      "Span [20,21]: \"Kino Coffee\"   [− Labels: PRODUCT (0.8575)]\n",
      "Span [20,21]: \"Kino Coffee\"   [− Labels: PRODUCT (0.9145)]\n",
      "Span [20,21]: \"Kino Coffee\"   [− Labels: PRODUCT (0.9625)]\n",
      "Span [20,21]: \"Kino Coffee\"   [− Labels: PRODUCT (0.8518)]\n",
      "Span [2,3,4]: \"Moore Side Table\"   [− Labels: PRODUCT (0.9912)]\n",
      "Span [2,3,4]: \"Moore Side Table\"   [− Labels: PRODUCT (0.9961)]\n",
      "Span [2,3,4]: \"Moore Side Table\"   [− Labels: PRODUCT (0.9861)]\n",
      "Span [2,3]: \"Mid Side\"   [− Labels: PRODUCT (0.8062)]\n",
      "Span [2,3,4]: \"High Side Table\"   [− Labels: PRODUCT (0.9927)]\n",
      "Span [2,3,4]: \"High Side Table\"   [− Labels: PRODUCT (0.9918)]\n",
      "Span [2,3,4]: \"High Side Table\"   [− Labels: PRODUCT (0.9922)]\n",
      "Span [2,3,4]: \"High Side Table\"   [− Labels: PRODUCT (0.9814)]\n",
      "Span [2,3,4]: \"High Side Table\"   [− Labels: PRODUCT (0.9496)]\n",
      "Span [16,17,18]: \"Austin TV Console\"   [− Labels: PRODUCT (0.9696)]\n",
      "Span [16,17,18]: \"Austin TV Console\"   [− Labels: PRODUCT (0.9584)]\n",
      "Span [16,17,18]: \"Austin TV Console\"   [− Labels: PRODUCT (0.9717)]\n",
      "Span [15,16,17]: \"Austin TV Console\"   [− Labels: PRODUCT (0.9858)]\n",
      "Span [15,16,17]: \"Austin TV Console\"   [− Labels: PRODUCT (0.9654)]\n",
      "Span [32]: \"Wishbone\"   [− Labels: PRODUCT (0.7821)]\n",
      "Span [15,16,17]: \"Austin TV Console\"   [− Labels: PRODUCT (0.9364)]\n",
      "Span [2,3,4]: \"Austin TV Console\"   [− Labels: PRODUCT (0.9627)]\n",
      "Span [2,3,4]: \"Austin TV Console\"   [− Labels: PRODUCT (0.9945)]\n",
      "Span [2,3,4]: \"Austin TV Console\"   [− Labels: PRODUCT (0.999)]\n",
      "Span [19,20,21]: \"Wishbone Y Chair\"   [− Labels: PRODUCT (0.9855)]\n",
      "Span [2,3,4]: \"Austin TV Console\"   [− Labels: PRODUCT (0.9997)]\n",
      "Span [2,3,4]: \"Austin TV Console\"   [− Labels: PRODUCT (0.9995)]\n",
      "Span [2,3,4]: \"Austin TV Console\"   [− Labels: PRODUCT (0.9982)]\n",
      "Span [1,2,3]: \"Austin TV Console\"   [− Labels: PRODUCT (0.9998)]\n",
      "Span [1,2,3]: \"Austin TV Console\"   [− Labels: PRODUCT (0.9443)]\n",
      "Span [1,2]: \"Julianne Leather\"   [− Labels: PRODUCT (0.8274)]\n",
      "Span [1,2]: \"Julianne Leather\"   [− Labels: PRODUCT (0.7971)]\n",
      "Span [1,2]: \"Julianne Leather\"   [− Labels: PRODUCT (0.9278)]\n",
      "Span [1,2]: \"Julianne Leather\"   [− Labels: PRODUCT (0.8692)]\n",
      "Span [18,19,20]: \"Wishbone Y Chair\"   [− Labels: PRODUCT (0.9999)]\n",
      "Span [66,67,68]: \"Wishbone Y Chair\"   [− Labels: PRODUCT (1.0)]\n",
      "Span [66]: \"Console\"   [− Labels: PRODUCT (0.9619)]\n",
      "Span [1,2,3]: \"Astrid Coffee Table\"   [− Labels: PRODUCT (0.9881)]\n",
      "Span [4,5,6]: \"Astrid Coffee Table\"   [− Labels: PRODUCT (0.9964)]\n",
      "Span [1,2,3]: \"Julianne Leather Sofa\"   [− Labels: PRODUCT (0.998)]\n",
      "Span [9,10,11]: \"Julianne Leather Sofa\"   [− Labels: PRODUCT (0.9981)]\n",
      "Span [20]: \"Julianne\"   [− Labels: PRODUCT (1.0)]\n",
      "Span [1,2,3]: \"Wishbone Y Chair\"   [− Labels: PRODUCT (0.9999)]\n",
      "Span [7,8,9]: \"Wishbone Y Chair\"   [− Labels: PRODUCT (0.9999)]\n",
      "Span [28,29,30]: \"Wishbone Y Chair\"   [− Labels: PRODUCT (1.0)]\n",
      "Span [3,4,5]: \"Janson TV Console\"   [− Labels: PRODUCT (0.9861)]\n",
      "Span [6,7,8]: \"Janson TV Console\"   [− Labels: PRODUCT (0.997)]\n",
      "Span [3,4,5]: \"3 Seater Sofa\"   [− Labels: PRODUCT (0.8206)]\n",
      "Span [32,33,34]: \"the Jaxon Sofa\"   [− Labels: PRODUCT (0.9997)]\n",
      "Span [4,5,6]: \"Wishbone Y Chair\"   [− Labels: PRODUCT (0.997)]\n",
      "Span [9,10,11]: \"Wishbone Y Chair\"   [− Labels: PRODUCT (0.9989)]\n",
      "Span [18,19,20]: \"Wishbone Y Chair\"   [− Labels: PRODUCT (0.9998)]\n",
      "Span [66,67,68]: \"Wishbone Y Chair\"   [− Labels: PRODUCT (0.9999)]\n",
      "Span [66]: \"Console\"   [− Labels: PRODUCT (0.9619)]\n",
      "Span [1,2,3]: \"Astrid Coffee Table\"   [− Labels: PRODUCT (0.9881)]\n",
      "Span [4,5,6]: \"Astrid Coffee Table\"   [− Labels: PRODUCT (0.9964)]\n",
      "Span [1,2,3]: \"Julianne Leather Sofa\"   [− Labels: PRODUCT (0.998)]\n",
      "Span [9,10,11]: \"Julianne Leather Sofa\"   [− Labels: PRODUCT (0.9981)]\n",
      "Span [20]: \"Julianne\"   [− Labels: PRODUCT (1.0)]\n",
      "Span [1,2,3]: \"Wishbone Y Chair\"   [− Labels: PRODUCT (0.9999)]\n",
      "Span [7,8,9]: \"Wishbone Y Chair\"   [− Labels: PRODUCT (0.9999)]\n",
      "Span [28,29,30]: \"Wishbone Y Chair\"   [− Labels: PRODUCT (1.0)]\n",
      "Span [3,4,5]: \"Janson TV Console\"   [− Labels: PRODUCT (0.9861)]\n",
      "Span [6,7,8]: \"Janson TV Console\"   [− Labels: PRODUCT (0.997)]\n",
      "Span [3,4,5]: \"3 Seater Sofa\"   [− Labels: PRODUCT (0.8206)]\n",
      "Span [32,33,34]: \"the Jaxon Sofa\"   [− Labels: PRODUCT (0.9997)]\n",
      "Span [18,19,20]: \"Wishbone Y Chair\"   [− Labels: PRODUCT (0.9999)]\n",
      "Span [66,67,68]: \"Wishbone Y Chair\"   [− Labels: PRODUCT (1.0)]\n",
      "Span [66]: \"Console\"   [− Labels: PRODUCT (0.9619)]\n",
      "Span [1,2,3]: \"Astrid Coffee Table\"   [− Labels: PRODUCT (0.9881)]\n",
      "Span [4,5,6]: \"Astrid Coffee Table\"   [− Labels: PRODUCT (0.9964)]\n",
      "Span [1,2,3]: \"Julianne Leather Sofa\"   [− Labels: PRODUCT (0.998)]\n",
      "Span [9,10,11]: \"Julianne Leather Sofa\"   [− Labels: PRODUCT (0.9981)]\n",
      "Span [20]: \"Julianne\"   [− Labels: PRODUCT (1.0)]\n",
      "Span [1,2,3]: \"Wishbone Y Chair\"   [− Labels: PRODUCT (0.9999)]\n",
      "Span [7,8,9]: \"Wishbone Y Chair\"   [− Labels: PRODUCT (0.9999)]\n",
      "Span [28,29,30]: \"Wishbone Y Chair\"   [− Labels: PRODUCT (1.0)]\n",
      "Span [3,4,5]: \"Janson TV Console\"   [− Labels: PRODUCT (0.9861)]\n",
      "Span [6,7,8]: \"Janson TV Console\"   [− Labels: PRODUCT (0.997)]\n",
      "Span [3,4,5]: \"3 Seater Sofa\"   [− Labels: PRODUCT (0.8206)]\n",
      "Span [32,33,34]: \"the Jaxon Sofa\"   [− Labels: PRODUCT (0.9997)]\n",
      "Span [4,5,6]: \"Wishbone Y Chair\"   [− Labels: PRODUCT (0.9043)]\n",
      "Span [18,19,20]: \"Wishbone Y Chair\"   [− Labels: PRODUCT (0.9999)]\n",
      "Span [66,67,68]: \"Wishbone Y Chair\"   [− Labels: PRODUCT (1.0)]\n",
      "Span [66]: \"Console\"   [− Labels: PRODUCT (0.9619)]\n",
      "Span [1,2,3]: \"Astrid Coffee Table\"   [− Labels: PRODUCT (0.9881)]\n",
      "Span [4,5,6]: \"Astrid Coffee Table\"   [− Labels: PRODUCT (0.9964)]\n",
      "Span [1,2,3]: \"Julianne Leather Sofa\"   [− Labels: PRODUCT (0.998)]\n",
      "Span [9,10,11]: \"Julianne Leather Sofa\"   [− Labels: PRODUCT (0.9981)]\n",
      "Span [20]: \"Julianne\"   [− Labels: PRODUCT (1.0)]\n",
      "Span [1,2,3]: \"Wishbone Y Chair\"   [− Labels: PRODUCT (0.9999)]\n",
      "Span [7,8,9]: \"Wishbone Y Chair\"   [− Labels: PRODUCT (0.9999)]\n",
      "Span [28,29,30]: \"Wishbone Y Chair\"   [− Labels: PRODUCT (1.0)]\n",
      "Span [3,4,5]: \"Janson TV Console\"   [− Labels: PRODUCT (0.9861)]\n",
      "Span [6,7,8]: \"Janson TV Console\"   [− Labels: PRODUCT (0.997)]\n",
      "Span [3,4,5]: \"3 Seater Sofa\"   [− Labels: PRODUCT (0.8206)]\n",
      "Span [32,33,34]: \"the Jaxon Sofa\"   [− Labels: PRODUCT (0.9997)]\n",
      "Span [4,5,6]: \"Wishbone Y Chair\"   [− Labels: PRODUCT (0.9838)]\n",
      "Span [18,19,20]: \"Wishbone Y Chair\"   [− Labels: PRODUCT (0.9995)]\n",
      "Span [66,67,68]: \"Wishbone Y Chair\"   [− Labels: PRODUCT (0.9999)]\n",
      "Span [64,65,66]: \"Austin TV Console\"   [− Labels: PRODUCT (0.8304)]\n"
     ]
    },
    {
     "data": {
      "application/vnd.jupyter.widget-view+json": {
       "model_id": "",
       "version_major": 2,
       "version_minor": 0
      },
      "text/plain": [
       "Sentences Progress:   0%|          | 0/9 [00:00<?, ?it/s]"
      ]
     },
     "metadata": {},
     "output_type": "display_data"
    },
    {
     "data": {
      "application/vnd.jupyter.widget-view+json": {
       "model_id": "",
       "version_major": 2,
       "version_minor": 0
      },
      "text/plain": [
       "Sentences Progress:   0%|          | 0/5 [00:00<?, ?it/s]"
      ]
     },
     "metadata": {},
     "output_type": "display_data"
    },
    {
     "data": {
      "application/vnd.jupyter.widget-view+json": {
       "model_id": "",
       "version_major": 2,
       "version_minor": 0
      },
      "text/plain": [
       "Sentences Progress:   0%|          | 0/1 [00:00<?, ?it/s]"
      ]
     },
     "metadata": {},
     "output_type": "display_data"
    },
    {
     "data": {
      "application/vnd.jupyter.widget-view+json": {
       "model_id": "",
       "version_major": 2,
       "version_minor": 0
      },
      "text/plain": [
       "Sentences Progress:   0%|          | 0/10 [00:00<?, ?it/s]"
      ]
     },
     "metadata": {},
     "output_type": "display_data"
    },
    {
     "data": {
      "application/vnd.jupyter.widget-view+json": {
       "model_id": "",
       "version_major": 2,
       "version_minor": 0
      },
      "text/plain": [
       "Sentences Progress:   0%|          | 0/7 [00:00<?, ?it/s]"
      ]
     },
     "metadata": {},
     "output_type": "display_data"
    },
    {
     "data": {
      "application/vnd.jupyter.widget-view+json": {
       "model_id": "",
       "version_major": 2,
       "version_minor": 0
      },
      "text/plain": [
       "Sentences Progress:   0%|          | 0/7 [00:00<?, ?it/s]"
      ]
     },
     "metadata": {},
     "output_type": "display_data"
    },
    {
     "data": {
      "application/vnd.jupyter.widget-view+json": {
       "model_id": "",
       "version_major": 2,
       "version_minor": 0
      },
      "text/plain": [
       "Sentences Progress:   0%|          | 0/6 [00:00<?, ?it/s]"
      ]
     },
     "metadata": {},
     "output_type": "display_data"
    },
    {
     "data": {
      "application/vnd.jupyter.widget-view+json": {
       "model_id": "",
       "version_major": 2,
       "version_minor": 0
      },
      "text/plain": [
       "Sentences Progress:   0%|          | 0/7 [00:00<?, ?it/s]"
      ]
     },
     "metadata": {},
     "output_type": "display_data"
    },
    {
     "data": {
      "application/vnd.jupyter.widget-view+json": {
       "model_id": "",
       "version_major": 2,
       "version_minor": 0
      },
      "text/plain": [
       "Sentences Progress:   0%|          | 0/17 [00:00<?, ?it/s]"
      ]
     },
     "metadata": {},
     "output_type": "display_data"
    },
    {
     "name": "stdout",
     "output_type": "stream",
     "text": [
      "Span [1,2,3,4,5]: \"Sareer 3000 Pocket Sprung Mattress\"   [− Labels: PRODUCT (0.9695)]\n",
      "Span [70,71,72,73,74]: \"Sareer 3000 Pocket Sprung Mattress\"   [− Labels: PRODUCT (0.9581)]\n",
      "Span [16,17,18]: \"the 3000 series\"   [− Labels: PRODUCT (0.8744)]\n",
      "Span [4]: \"Ultra-Fresh\"   [− Labels: PRODUCT (0.9767)]\n",
      "Span [13,14,15,16,17]: \"Kids Memory Foam Matrah Mattress\"   [− Labels: PRODUCT (0.9389)]\n",
      "Span [27,28,29,30]: \"Memory Coil Matrah Mattress\"   [− Labels: PRODUCT (0.981)]\n",
      "Span [34,35,36,37]: \"Memory Foam Matrah Mattress\"   [− Labels: PRODUCT (0.9863)]\n",
      "Span [41]: \"Orthopaedic\"   [− Labels: PRODUCT (0.8715)]\n",
      "Span [42,43,44]: \"Memory Matrah Mattress\"   [− Labels: PRODUCT (0.7819)]\n",
      "Span [48,49,50,51,52,53]: \"Matrah Cool Blue Memory Coil Mattress\"   [− Labels: PRODUCT (0.9877)]\n",
      "Span [57,58,59,60,61]: \"Pocket Sprung 1000 Matrah Mattress\"   [− Labels: PRODUCT (0.9909)]\n",
      "Span [65,66,67,68,69,70]: \"Cool Blue Pocket Memory Matrah Mattress\"   [− Labels: PRODUCT (0.9838)]\n",
      "Span [74,75,76,77]: \"Pocket Memory Matrah Mattress\"   [− Labels: PRODUCT (0.9949)]\n",
      "Span [2,3,4,5]: \"3000 Pocket Sprung Mattress\"   [− Labels: PRODUCT (0.9998)]\n",
      "Span [71,72,73,74]: \"3000 Pocket Sprung Mattress\"   [− Labels: PRODUCT (0.9993)]\n",
      "Span [16,17,18]: \"the 3000 series\"   [− Labels: PRODUCT (0.9996)]\n",
      "Span [4]: \"Ultra-Fresh\"   [− Labels: PRODUCT (0.9466)]\n",
      "Span [13,14,15,16,17]: \"Kids Memory Foam Matrah Mattress\"   [− Labels: PRODUCT (0.9389)]\n",
      "Span [27,28,29,30]: \"Memory Coil Matrah Mattress\"   [− Labels: PRODUCT (0.981)]\n",
      "Span [34,35,36,37]: \"Memory Foam Matrah Mattress\"   [− Labels: PRODUCT (0.9863)]\n",
      "Span [41]: \"Orthopaedic\"   [− Labels: PRODUCT (0.8715)]\n",
      "Span [42,43,44]: \"Memory Matrah Mattress\"   [− Labels: PRODUCT (0.7819)]\n",
      "Span [48,49,50,51,52,53]: \"Matrah Cool Blue Memory Coil Mattress\"   [− Labels: PRODUCT (0.9877)]\n",
      "Span [57,58,59,60,61]: \"Pocket Sprung 1000 Matrah Mattress\"   [− Labels: PRODUCT (0.9909)]\n",
      "Span [65,66,67,68,69,70]: \"Cool Blue Pocket Memory Matrah Mattress\"   [− Labels: PRODUCT (0.9838)]\n",
      "Span [74,75,76,77]: \"Pocket Memory Matrah Mattress\"   [− Labels: PRODUCT (0.9949)]\n",
      "Span [2,3,4,5]: \"3000 Pocket Sprung Mattress\"   [− Labels: PRODUCT (0.9998)]\n",
      "Span [71,72,73,74]: \"3000 Pocket Sprung Mattress\"   [− Labels: PRODUCT (0.9993)]\n",
      "Span [4]: \"Ultra-Fresh\"   [− Labels: PRODUCT (0.9436)]\n"
     ]
    },
    {
     "data": {
      "application/vnd.jupyter.widget-view+json": {
       "model_id": "",
       "version_major": 2,
       "version_minor": 0
      },
      "text/plain": [
       "Sentences Progress:   0%|          | 0/5 [00:00<?, ?it/s]"
      ]
     },
     "metadata": {},
     "output_type": "display_data"
    },
    {
     "data": {
      "application/vnd.jupyter.widget-view+json": {
       "model_id": "",
       "version_major": 2,
       "version_minor": 0
      },
      "text/plain": [
       "Sentences Progress:   0%|          | 0/36 [00:00<?, ?it/s]"
      ]
     },
     "metadata": {},
     "output_type": "display_data"
    },
    {
     "data": {
      "application/vnd.jupyter.widget-view+json": {
       "model_id": "",
       "version_major": 2,
       "version_minor": 0
      },
      "text/plain": [
       "Sentences Progress:   0%|          | 0/3 [00:00<?, ?it/s]"
      ]
     },
     "metadata": {},
     "output_type": "display_data"
    },
    {
     "data": {
      "application/vnd.jupyter.widget-view+json": {
       "model_id": "",
       "version_major": 2,
       "version_minor": 0
      },
      "text/plain": [
       "Sentences Progress:   0%|          | 0/13 [00:00<?, ?it/s]"
      ]
     },
     "metadata": {},
     "output_type": "display_data"
    },
    {
     "name": "stdout",
     "output_type": "stream",
     "text": [
      "Span [46,47,48]: \"Ridge Accent Chair\"   [− Labels: PRODUCT (0.9998)]\n",
      "Span [49,50,51]: \"Ridge Accent Chair\"   [− Labels: PRODUCT (0.9998)]\n",
      "Span [67,68,69,70]: \"the Ridge Accent Chair\"   [− Labels: PRODUCT (0.9998)]\n",
      "Span [3,4,5]: \"Fargo Saddle Leather\"   [− Labels: PRODUCT (0.9633)]\n",
      "Span [10,11]: \"Texture Oyster\"   [− Labels: PRODUCT (0.7943)]\n",
      "Span [13,14]: \"Lulu PIllows\"   [− Labels: PRODUCT (0.9704)]\n",
      "Span [22,23,24]: \"Norah Pouf Dhani\"   [− Labels: PRODUCT (0.9987)]\n",
      "Span [31,32]: \"Texture Oyster\"   [− Labels: PRODUCT (0.974)]\n",
      "Span [36,37]: \"Smart Smoke\"   [− Labels: PRODUCT (0.9778)]\n",
      "Span [44,45]: \"Smart Smoke\"   [− Labels: PRODUCT (0.9889)]\n",
      "Span [52,53]: \"Smart Smoke\"   [− Labels: PRODUCT (0.9874)]\n",
      "Span [46,47,48]: \"Ridge Accent Chair\"   [− Labels: PRODUCT (0.9999)]\n",
      "Span [49,50,51]: \"Ridge Accent Chair\"   [− Labels: PRODUCT (0.9999)]\n",
      "Span [67,68,69,70]: \"the Ridge Accent Chair\"   [− Labels: PRODUCT (0.9999)]\n",
      "Span [3,4,5]: \"Fargo Saddle Leather\"   [− Labels: PRODUCT (0.9856)]\n",
      "Span [10,11]: \"Texture Oyster\"   [− Labels: PRODUCT (0.7637)]\n",
      "Span [13,14]: \"Lulu PIllows\"   [− Labels: PRODUCT (0.9764)]\n",
      "Span [22,23,24]: \"Norah Pouf Dhani\"   [− Labels: PRODUCT (0.9984)]\n",
      "Span [31,32]: \"Texture Oyster\"   [− Labels: PRODUCT (0.9674)]\n",
      "Span [36,37]: \"Smart Smoke\"   [− Labels: PRODUCT (0.9703)]\n",
      "Span [44,45]: \"Smart Smoke\"   [− Labels: PRODUCT (0.9841)]\n",
      "Span [52,53]: \"Smart Smoke\"   [− Labels: PRODUCT (0.987)]\n"
     ]
    },
    {
     "data": {
      "application/vnd.jupyter.widget-view+json": {
       "model_id": "",
       "version_major": 2,
       "version_minor": 0
      },
      "text/plain": [
       "Sentences Progress:   0%|          | 0/7 [00:00<?, ?it/s]"
      ]
     },
     "metadata": {},
     "output_type": "display_data"
    },
    {
     "name": "stdout",
     "output_type": "stream",
     "text": [
      "Span [3,4,5]: \"River Collection Chair\"   [− Labels: PRODUCT (0.9926)]\n",
      "Span [63,64]: \"Humble Crew\"   [− Labels: PRODUCT (0.8408)]\n",
      "Span [65,66,67,68,69,70]: \"Plastic Desk Chair with Metal Frame\"   [− Labels: PRODUCT (0.9615)]\n",
      "Span [62,63,64]: \"the Humble Crew\"   [− Labels: PRODUCT (0.9985)]\n",
      "Span [3,4,5]: \"River Collection Chair\"   [− Labels: PRODUCT (0.9989)]\n",
      "Span [3,4,5]: \"River Collection Chair\"   [− Labels: PRODUCT (0.9782)]\n",
      "Span [63,64]: \"Humble Crew\"   [− Labels: PRODUCT (0.968)]\n"
     ]
    },
    {
     "data": {
      "application/vnd.jupyter.widget-view+json": {
       "model_id": "",
       "version_major": 2,
       "version_minor": 0
      },
      "text/plain": [
       "Sentences Progress:   0%|          | 0/10 [00:00<?, ?it/s]"
      ]
     },
     "metadata": {},
     "output_type": "display_data"
    },
    {
     "data": {
      "application/vnd.jupyter.widget-view+json": {
       "model_id": "",
       "version_major": 2,
       "version_minor": 0
      },
      "text/plain": [
       "Sentences Progress:   0%|          | 0/12 [00:00<?, ?it/s]"
      ]
     },
     "metadata": {},
     "output_type": "display_data"
    },
    {
     "data": {
      "application/vnd.jupyter.widget-view+json": {
       "model_id": "",
       "version_major": 2,
       "version_minor": 0
      },
      "text/plain": [
       "Sentences Progress:   0%|          | 0/14 [00:00<?, ?it/s]"
      ]
     },
     "metadata": {},
     "output_type": "display_data"
    },
    {
     "name": "stdout",
     "output_type": "stream",
     "text": [
      "Span [7,8,9]: \"the Bertha Chair\"   [− Labels: PRODUCT (0.9999)]\n"
     ]
    },
    {
     "data": {
      "application/vnd.jupyter.widget-view+json": {
       "model_id": "",
       "version_major": 2,
       "version_minor": 0
      },
      "text/plain": [
       "Sentences Progress:   0%|          | 0/9 [00:00<?, ?it/s]"
      ]
     },
     "metadata": {},
     "output_type": "display_data"
    },
    {
     "data": {
      "application/vnd.jupyter.widget-view+json": {
       "model_id": "",
       "version_major": 2,
       "version_minor": 0
      },
      "text/plain": [
       "Sentences Progress:   0%|          | 0/12 [00:00<?, ?it/s]"
      ]
     },
     "metadata": {},
     "output_type": "display_data"
    },
    {
     "name": "stdout",
     "output_type": "stream",
     "text": [
      "Span [58,59,60]: \"Warwick Dining Table\"   [− Labels: PRODUCT (0.9996)]\n",
      "Span [119,120,121]: \"Warwick Dining Set\"   [− Labels: PRODUCT (0.9987)]\n",
      "Span [58,59,60]: \"Warwick Dining Table\"   [− Labels: PRODUCT (0.9996)]\n",
      "Span [119,120,121]: \"Warwick Dining Set\"   [− Labels: PRODUCT (0.9995)]\n"
     ]
    },
    {
     "data": {
      "application/vnd.jupyter.widget-view+json": {
       "model_id": "",
       "version_major": 2,
       "version_minor": 0
      },
      "text/plain": [
       "Sentences Progress:   0%|          | 0/5 [00:00<?, ?it/s]"
      ]
     },
     "metadata": {},
     "output_type": "display_data"
    },
    {
     "data": {
      "application/vnd.jupyter.widget-view+json": {
       "model_id": "",
       "version_major": 2,
       "version_minor": 0
      },
      "text/plain": [
       "Sentences Progress:   0%|          | 0/5 [00:00<?, ?it/s]"
      ]
     },
     "metadata": {},
     "output_type": "display_data"
    },
    {
     "data": {
      "application/vnd.jupyter.widget-view+json": {
       "model_id": "",
       "version_major": 2,
       "version_minor": 0
      },
      "text/plain": [
       "Sentences Progress:   0%|          | 0/4 [00:00<?, ?it/s]"
      ]
     },
     "metadata": {},
     "output_type": "display_data"
    },
    {
     "data": {
      "application/vnd.jupyter.widget-view+json": {
       "model_id": "",
       "version_major": 2,
       "version_minor": 0
      },
      "text/plain": [
       "Sentences Progress:   0%|          | 0/27 [00:00<?, ?it/s]"
      ]
     },
     "metadata": {},
     "output_type": "display_data"
    },
    {
     "name": "stdout",
     "output_type": "stream",
     "text": [
      "Span [43]: \"Chesterfields\"   [− Labels: PRODUCT (0.8357)]\n",
      "Span [21]: \"Warwick\"   [− Labels: PRODUCT (0.8653)]\n"
     ]
    },
    {
     "data": {
      "application/vnd.jupyter.widget-view+json": {
       "model_id": "",
       "version_major": 2,
       "version_minor": 0
      },
      "text/plain": [
       "Sentences Progress:   0%|          | 0/2 [00:00<?, ?it/s]"
      ]
     },
     "metadata": {},
     "output_type": "display_data"
    },
    {
     "data": {
      "application/vnd.jupyter.widget-view+json": {
       "model_id": "",
       "version_major": 2,
       "version_minor": 0
      },
      "text/plain": [
       "Sentences Progress:   0%|          | 0/8 [00:00<?, ?it/s]"
      ]
     },
     "metadata": {},
     "output_type": "display_data"
    },
    {
     "name": "stdout",
     "output_type": "stream",
     "text": [
      "Span [4,5,6]: \"Park Slope Desk\"   [− Labels: PRODUCT (0.7942)]\n",
      "Span [4,5,6]: \"Park Slope Desk\"   [− Labels: PRODUCT (0.9974)]\n",
      "Span [1,2,3]: \"Park Slope Desk\"   [− Labels: PRODUCT (0.9993)]\n",
      "Span [1,2,3]: \"Park Slope Desk\"   [− Labels: PRODUCT (0.9096)]\n",
      "Span [1,2,3]: \"Park Slope Desk\"   [− Labels: PRODUCT (0.999)]\n"
     ]
    },
    {
     "data": {
      "application/vnd.jupyter.widget-view+json": {
       "model_id": "",
       "version_major": 2,
       "version_minor": 0
      },
      "text/plain": [
       "Sentences Progress:   0%|          | 0/2 [00:00<?, ?it/s]"
      ]
     },
     "metadata": {},
     "output_type": "display_data"
    },
    {
     "data": {
      "application/vnd.jupyter.widget-view+json": {
       "model_id": "",
       "version_major": 2,
       "version_minor": 0
      },
      "text/plain": [
       "Sentences Progress:   0%|          | 0/40 [00:00<?, ?it/s]"
      ]
     },
     "metadata": {},
     "output_type": "display_data"
    },
    {
     "name": "stdout",
     "output_type": "stream",
     "text": [
      "Span [1,2]: \"LINEA SIDEBOARD\"   [− Labels: PRODUCT (0.8107)]\n"
     ]
    },
    {
     "data": {
      "application/vnd.jupyter.widget-view+json": {
       "model_id": "",
       "version_major": 2,
       "version_minor": 0
      },
      "text/plain": [
       "Sentences Progress:   0%|          | 0/7 [00:00<?, ?it/s]"
      ]
     },
     "metadata": {},
     "output_type": "display_data"
    },
    {
     "data": {
      "application/vnd.jupyter.widget-view+json": {
       "model_id": "",
       "version_major": 2,
       "version_minor": 0
      },
      "text/plain": [
       "Sentences Progress:   0%|          | 0/7 [00:00<?, ?it/s]"
      ]
     },
     "metadata": {},
     "output_type": "display_data"
    },
    {
     "data": {
      "application/vnd.jupyter.widget-view+json": {
       "model_id": "",
       "version_major": 2,
       "version_minor": 0
      },
      "text/plain": [
       "Sentences Progress:   0%|          | 0/28 [00:00<?, ?it/s]"
      ]
     },
     "metadata": {},
     "output_type": "display_data"
    },
    {
     "data": {
      "application/vnd.jupyter.widget-view+json": {
       "model_id": "",
       "version_major": 2,
       "version_minor": 0
      },
      "text/plain": [
       "Sentences Progress:   0%|          | 0/9 [00:00<?, ?it/s]"
      ]
     },
     "metadata": {},
     "output_type": "display_data"
    },
    {
     "data": {
      "application/vnd.jupyter.widget-view+json": {
       "model_id": "",
       "version_major": 2,
       "version_minor": 0
      },
      "text/plain": [
       "Sentences Progress:   0%|          | 0/5 [00:00<?, ?it/s]"
      ]
     },
     "metadata": {},
     "output_type": "display_data"
    },
    {
     "name": "stdout",
     "output_type": "stream",
     "text": [
      "Span [34,35,36]: \"Epic Dining Table\"   [− Labels: PRODUCT (0.9482)]\n",
      "Span [44,45,46,47]: \"the Epic Dining Table\"   [− Labels: PRODUCT (1.0)]\n",
      "Span [7,8,9,10]: \"the Epic Table Series\"   [− Labels: PRODUCT (1.0)]\n",
      "Span [4,5,6,7,8]: \"Epic Dining Table - Round\"   [− Labels: PRODUCT (0.9944)]\n",
      "Span [14,15,16,17]: \"the Epic Dining Table\"   [− Labels: PRODUCT (0.9999)]\n",
      "Span [7,8,9,10]: \"the Epic Table Series\"   [− Labels: PRODUCT (1.0)]\n",
      "Span [4,5,6,7,8]: \"Epic Dining Table - Round\"   [− Labels: PRODUCT (0.9933)]\n",
      "Span [14,15,16,17]: \"the Epic Dining Table\"   [− Labels: PRODUCT (1.0)]\n",
      "Span [7,8,9,10]: \"the Epic Table Series\"   [− Labels: PRODUCT (1.0)]\n",
      "Span [4,5,6,7,8]: \"Epic Dining Table - Round\"   [− Labels: PRODUCT (0.9911)]\n",
      "Span [14,15,16,17]: \"the Epic Dining Table\"   [− Labels: PRODUCT (0.9999)]\n",
      "Span [7,8,9,10]: \"the Epic Table Series\"   [− Labels: PRODUCT (1.0)]\n",
      "Span [4,5,6,7,8]: \"Epic Dining Table - Round\"   [− Labels: PRODUCT (0.998)]\n",
      "Span [14,15,16,17]: \"the Epic Dining Table\"   [− Labels: PRODUCT (0.9999)]\n",
      "Span [7,8,9,10]: \"the Epic Table Series\"   [− Labels: PRODUCT (1.0)]\n"
     ]
    },
    {
     "data": {
      "application/vnd.jupyter.widget-view+json": {
       "model_id": "",
       "version_major": 2,
       "version_minor": 0
      },
      "text/plain": [
       "Sentences Progress:   0%|          | 0/7 [00:00<?, ?it/s]"
      ]
     },
     "metadata": {},
     "output_type": "display_data"
    },
    {
     "data": {
      "application/vnd.jupyter.widget-view+json": {
       "model_id": "",
       "version_major": 2,
       "version_minor": 0
      },
      "text/plain": [
       "Sentences Progress:   0%|          | 0/6 [00:00<?, ?it/s]"
      ]
     },
     "metadata": {},
     "output_type": "display_data"
    },
    {
     "name": "stdout",
     "output_type": "stream",
     "text": [
      "Span [14,15]: \"Bahama Winds\"   [− Labels: PRODUCT (0.999)]\n",
      "Span [17,18]: \"Island Collection\"   [− Labels: PRODUCT (0.8837)]\n",
      "Span [14,15]: \"Bahama Winds\"   [− Labels: PRODUCT (0.9997)]\n",
      "Span [17,18]: \"Island Collection\"   [− Labels: PRODUCT (0.9622)]\n",
      "Span [14,15]: \"Bahama Winds\"   [− Labels: PRODUCT (0.9993)]\n",
      "Span [17,18]: \"Island Collection\"   [− Labels: PRODUCT (0.9017)]\n"
     ]
    },
    {
     "data": {
      "application/vnd.jupyter.widget-view+json": {
       "model_id": "",
       "version_major": 2,
       "version_minor": 0
      },
      "text/plain": [
       "Sentences Progress:   0%|          | 0/6 [00:00<?, ?it/s]"
      ]
     },
     "metadata": {},
     "output_type": "display_data"
    },
    {
     "data": {
      "application/vnd.jupyter.widget-view+json": {
       "model_id": "",
       "version_major": 2,
       "version_minor": 0
      },
      "text/plain": [
       "Sentences Progress:   0%|          | 0/13 [00:00<?, ?it/s]"
      ]
     },
     "metadata": {},
     "output_type": "display_data"
    },
    {
     "name": "stdout",
     "output_type": "stream",
     "text": [
      "Span [2,3]: \"Playing Pieces\"   [− Labels: PRODUCT (0.7691)]\n",
      "Span [8,9,10]: \"Leaf Backgammon SetCategories\"   [− Labels: PRODUCT (0.998)]\n"
     ]
    },
    {
     "data": {
      "application/vnd.jupyter.widget-view+json": {
       "model_id": "",
       "version_major": 2,
       "version_minor": 0
      },
      "text/plain": [
       "Sentences Progress:   0%|          | 0/10 [00:00<?, ?it/s]"
      ]
     },
     "metadata": {},
     "output_type": "display_data"
    },
    {
     "name": "stdout",
     "output_type": "stream",
     "text": [
      "Span [1,2]: \"Corsa Series\"   [− Labels: PRODUCT (0.9868)]\n",
      "Span [1,2]: \"Corsa Series\"   [− Labels: PRODUCT (0.9662)]\n",
      "Span [1,2]: \"Corsa Series\"   [− Labels: PRODUCT (0.9762)]\n"
     ]
    },
    {
     "data": {
      "application/vnd.jupyter.widget-view+json": {
       "model_id": "",
       "version_major": 2,
       "version_minor": 0
      },
      "text/plain": [
       "Sentences Progress:   0%|          | 0/11 [00:00<?, ?it/s]"
      ]
     },
     "metadata": {},
     "output_type": "display_data"
    },
    {
     "data": {
      "application/vnd.jupyter.widget-view+json": {
       "model_id": "",
       "version_major": 2,
       "version_minor": 0
      },
      "text/plain": [
       "Sentences Progress:   0%|          | 0/7 [00:00<?, ?it/s]"
      ]
     },
     "metadata": {},
     "output_type": "display_data"
    },
    {
     "data": {
      "application/vnd.jupyter.widget-view+json": {
       "model_id": "",
       "version_major": 2,
       "version_minor": 0
      },
      "text/plain": [
       "Sentences Progress:   0%|          | 0/3 [00:00<?, ?it/s]"
      ]
     },
     "metadata": {},
     "output_type": "display_data"
    },
    {
     "data": {
      "application/vnd.jupyter.widget-view+json": {
       "model_id": "",
       "version_major": 2,
       "version_minor": 0
      },
      "text/plain": [
       "Sentences Progress:   0%|          | 0/8 [00:00<?, ?it/s]"
      ]
     },
     "metadata": {},
     "output_type": "display_data"
    },
    {
     "data": {
      "application/vnd.jupyter.widget-view+json": {
       "model_id": "",
       "version_major": 2,
       "version_minor": 0
      },
      "text/plain": [
       "Sentences Progress:   0%|          | 0/14 [00:00<?, ?it/s]"
      ]
     },
     "metadata": {},
     "output_type": "display_data"
    },
    {
     "name": "stdout",
     "output_type": "stream",
     "text": [
      "Span [36,37,38,39,40]: \"DCW Editions De La Espada\"   [− Labels: PRODUCT (0.769)]\n",
      "Span [3,4]: \"Akari Lights\"   [− Labels: PRODUCT (0.7559)]\n",
      "Span [10,11,12,13,14]: \"DCW Editions De La Espada\"   [− Labels: PRODUCT (0.92)]\n",
      "Span [1,2]: \"Akari Lights\"   [− Labels: PRODUCT (0.9717)]\n",
      "Span [27,28,29,30]: \"Editions De La Espada\"   [− Labels: PRODUCT (0.8747)]\n"
     ]
    },
    {
     "data": {
      "application/vnd.jupyter.widget-view+json": {
       "model_id": "",
       "version_major": 2,
       "version_minor": 0
      },
      "text/plain": [
       "Sentences Progress:   0%|          | 0/4 [00:00<?, ?it/s]"
      ]
     },
     "metadata": {},
     "output_type": "display_data"
    },
    {
     "data": {
      "application/vnd.jupyter.widget-view+json": {
       "model_id": "",
       "version_major": 2,
       "version_minor": 0
      },
      "text/plain": [
       "Sentences Progress:   0%|          | 0/1 [00:00<?, ?it/s]"
      ]
     },
     "metadata": {},
     "output_type": "display_data"
    },
    {
     "name": "stdout",
     "output_type": "stream",
     "text": [
      "Span [4,5,6]: \"LiteSpeed Web ServerPlease\"   [− Labels: PRODUCT (0.9994)]\n"
     ]
    },
    {
     "data": {
      "application/vnd.jupyter.widget-view+json": {
       "model_id": "",
       "version_major": 2,
       "version_minor": 0
      },
      "text/plain": [
       "Sentences Progress:   0%|          | 0/15 [00:00<?, ?it/s]"
      ]
     },
     "metadata": {},
     "output_type": "display_data"
    },
    {
     "name": "stdout",
     "output_type": "stream",
     "text": [
      "Span [72,73]: \"Santa Barbara\"   [− Labels: PRODUCT (0.9445)]\n"
     ]
    },
    {
     "data": {
      "application/vnd.jupyter.widget-view+json": {
       "model_id": "",
       "version_major": 2,
       "version_minor": 0
      },
      "text/plain": [
       "Sentences Progress:   0%|          | 0/11 [00:00<?, ?it/s]"
      ]
     },
     "metadata": {},
     "output_type": "display_data"
    },
    {
     "data": {
      "application/vnd.jupyter.widget-view+json": {
       "model_id": "",
       "version_major": 2,
       "version_minor": 0
      },
      "text/plain": [
       "Sentences Progress:   0%|          | 0/5 [00:00<?, ?it/s]"
      ]
     },
     "metadata": {},
     "output_type": "display_data"
    },
    {
     "data": {
      "application/vnd.jupyter.widget-view+json": {
       "model_id": "",
       "version_major": 2,
       "version_minor": 0
      },
      "text/plain": [
       "Sentences Progress:   0%|          | 0/4 [00:00<?, ?it/s]"
      ]
     },
     "metadata": {},
     "output_type": "display_data"
    },
    {
     "data": {
      "application/vnd.jupyter.widget-view+json": {
       "model_id": "",
       "version_major": 2,
       "version_minor": 0
      },
      "text/plain": [
       "Sentences Progress:   0%|          | 0/5 [00:00<?, ?it/s]"
      ]
     },
     "metadata": {},
     "output_type": "display_data"
    },
    {
     "data": {
      "application/vnd.jupyter.widget-view+json": {
       "model_id": "",
       "version_major": 2,
       "version_minor": 0
      },
      "text/plain": [
       "Sentences Progress:   0%|          | 0/1 [00:00<?, ?it/s]"
      ]
     },
     "metadata": {},
     "output_type": "display_data"
    },
    {
     "data": {
      "application/vnd.jupyter.widget-view+json": {
       "model_id": "",
       "version_major": 2,
       "version_minor": 0
      },
      "text/plain": [
       "Sentences Progress:   0%|          | 0/1 [00:00<?, ?it/s]"
      ]
     },
     "metadata": {},
     "output_type": "display_data"
    },
    {
     "data": {
      "application/vnd.jupyter.widget-view+json": {
       "model_id": "",
       "version_major": 2,
       "version_minor": 0
      },
      "text/plain": [
       "Sentences Progress:   0%|          | 0/6 [00:00<?, ?it/s]"
      ]
     },
     "metadata": {},
     "output_type": "display_data"
    },
    {
     "data": {
      "application/vnd.jupyter.widget-view+json": {
       "model_id": "",
       "version_major": 2,
       "version_minor": 0
      },
      "text/plain": [
       "Sentences Progress:   0%|          | 0/19 [00:00<?, ?it/s]"
      ]
     },
     "metadata": {},
     "output_type": "display_data"
    },
    {
     "name": "stdout",
     "output_type": "stream",
     "text": [
      "Span [6]: \"FoldSmart\"   [− Labels: PRODUCT (0.9997)]\n"
     ]
    },
    {
     "data": {
      "application/vnd.jupyter.widget-view+json": {
       "model_id": "",
       "version_major": 2,
       "version_minor": 0
      },
      "text/plain": [
       "Sentences Progress:   0%|          | 0/9 [00:00<?, ?it/s]"
      ]
     },
     "metadata": {},
     "output_type": "display_data"
    },
    {
     "data": {
      "application/vnd.jupyter.widget-view+json": {
       "model_id": "",
       "version_major": 2,
       "version_minor": 0
      },
      "text/plain": [
       "Sentences Progress:   0%|          | 0/19 [00:00<?, ?it/s]"
      ]
     },
     "metadata": {},
     "output_type": "display_data"
    },
    {
     "data": {
      "application/vnd.jupyter.widget-view+json": {
       "model_id": "",
       "version_major": 2,
       "version_minor": 0
      },
      "text/plain": [
       "Sentences Progress:   0%|          | 0/7 [00:00<?, ?it/s]"
      ]
     },
     "metadata": {},
     "output_type": "display_data"
    },
    {
     "name": "stdout",
     "output_type": "stream",
     "text": [
      "Span [14,15,16]: \"the Carrington Sectional\"   [− Labels: PRODUCT (0.8704)]\n",
      "Span [1,2,3]: \"Carrington Leather Sectional\"   [− Labels: PRODUCT (0.8597)]\n",
      "Span [1,2,3]: \"Carrington Leather Sectional\"   [− Labels: PRODUCT (0.9661)]\n",
      "Span [1,2,3]: \"Carrington Leather Sectional\"   [− Labels: PRODUCT (0.9902)]\n"
     ]
    },
    {
     "data": {
      "application/vnd.jupyter.widget-view+json": {
       "model_id": "",
       "version_major": 2,
       "version_minor": 0
      },
      "text/plain": [
       "Sentences Progress:   0%|          | 0/12 [00:00<?, ?it/s]"
      ]
     },
     "metadata": {},
     "output_type": "display_data"
    },
    {
     "data": {
      "application/vnd.jupyter.widget-view+json": {
       "model_id": "",
       "version_major": 2,
       "version_minor": 0
      },
      "text/plain": [
       "Sentences Progress:   0%|          | 0/5 [00:00<?, ?it/s]"
      ]
     },
     "metadata": {},
     "output_type": "display_data"
    },
    {
     "name": "stdout",
     "output_type": "stream",
     "text": [
      "Span [4,5]: \"Internet Explorer\"   [− Labels: PRODUCT (0.9997)]\n",
      "Span [24]: \"Firefox\"   [− Labels: PRODUCT (0.9997)]\n",
      "Span [4,5]: \"Internet Explorer\"   [− Labels: PRODUCT (0.9995)]\n"
     ]
    },
    {
     "data": {
      "application/vnd.jupyter.widget-view+json": {
       "model_id": "",
       "version_major": 2,
       "version_minor": 0
      },
      "text/plain": [
       "Sentences Progress:   0%|          | 0/12 [00:00<?, ?it/s]"
      ]
     },
     "metadata": {},
     "output_type": "display_data"
    },
    {
     "data": {
      "application/vnd.jupyter.widget-view+json": {
       "model_id": "",
       "version_major": 2,
       "version_minor": 0
      },
      "text/plain": [
       "Sentences Progress:   0%|          | 0/3 [00:00<?, ?it/s]"
      ]
     },
     "metadata": {},
     "output_type": "display_data"
    },
    {
     "name": "stdout",
     "output_type": "stream",
     "text": [
      "Span [4,5,6,7]: \"Hevea Wood Swing DeskSGD\"   [− Labels: PRODUCT (0.9913)]\n",
      "Span [4,5,6,7]: \"Hevea Wood Swing DeskSGD\"   [− Labels: PRODUCT (0.9893)]\n",
      "Span [4,5,6,7]: \"Hevea Wood Swing DeskSGD\"   [− Labels: PRODUCT (0.9919)]\n",
      "Span [4,5,6,7]: \"Hevea Wood Swing DeskSGD\"   [− Labels: PRODUCT (0.9987)]\n",
      "Span [2,3,4,5]: \"Hevea Wood Swing DeskSGD\"   [− Labels: PRODUCT (0.9969)]\n",
      "Span [2,3,4,5]: \"Hevea Wood Swing Desk\"   [− Labels: PRODUCT (0.9827)]\n",
      "Span [4,5,6,7,8]: \"QUEEN Comfort Support Spring Mattress\"   [− Labels: PRODUCT (0.8581)]\n",
      "Span [4,5,6,7,8]: \"QUEEN Comfort Support Spring Mattress\"   [− Labels: PRODUCT (0.8295)]\n",
      "Span [4,5,6,7,8]: \"QUEEN Comfort Support Spring Mattress\"   [− Labels: PRODUCT (0.9386)]\n"
     ]
    },
    {
     "data": {
      "application/vnd.jupyter.widget-view+json": {
       "model_id": "",
       "version_major": 2,
       "version_minor": 0
      },
      "text/plain": [
       "Sentences Progress:   0%|          | 0/5 [00:00<?, ?it/s]"
      ]
     },
     "metadata": {},
     "output_type": "display_data"
    },
    {
     "name": "stdout",
     "output_type": "stream",
     "text": [
      "Span [16,17,18]: \"Sofas & Suites\"   [− Labels: PRODUCT (0.7719)]\n"
     ]
    },
    {
     "data": {
      "application/vnd.jupyter.widget-view+json": {
       "model_id": "",
       "version_major": 2,
       "version_minor": 0
      },
      "text/plain": [
       "Sentences Progress:   0%|          | 0/23 [00:00<?, ?it/s]"
      ]
     },
     "metadata": {},
     "output_type": "display_data"
    },
    {
     "data": {
      "application/vnd.jupyter.widget-view+json": {
       "model_id": "",
       "version_major": 2,
       "version_minor": 0
      },
      "text/plain": [
       "Sentences Progress:   0%|          | 0/5 [00:00<?, ?it/s]"
      ]
     },
     "metadata": {},
     "output_type": "display_data"
    },
    {
     "name": "stdout",
     "output_type": "stream",
     "text": [
      "Span [1,2]: \"Super Luxury\"   [− Labels: PRODUCT (0.8149)]\n",
      "Span [12,13]: \"Super Luxury\"   [− Labels: PRODUCT (0.7826)]\n"
     ]
    },
    {
     "data": {
      "application/vnd.jupyter.widget-view+json": {
       "model_id": "",
       "version_major": 2,
       "version_minor": 0
      },
      "text/plain": [
       "Sentences Progress:   0%|          | 0/7 [00:00<?, ?it/s]"
      ]
     },
     "metadata": {},
     "output_type": "display_data"
    },
    {
     "name": "stdout",
     "output_type": "stream",
     "text": [
      "Span [6]: \"Viaduct\"   [− Labels: PRODUCT (0.9622)]\n"
     ]
    },
    {
     "data": {
      "application/vnd.jupyter.widget-view+json": {
       "model_id": "",
       "version_major": 2,
       "version_minor": 0
      },
      "text/plain": [
       "Sentences Progress:   0%|          | 0/5 [00:00<?, ?it/s]"
      ]
     },
     "metadata": {},
     "output_type": "display_data"
    },
    {
     "data": {
      "application/vnd.jupyter.widget-view+json": {
       "model_id": "",
       "version_major": 2,
       "version_minor": 0
      },
      "text/plain": [
       "Sentences Progress:   0%|          | 0/8 [00:00<?, ?it/s]"
      ]
     },
     "metadata": {},
     "output_type": "display_data"
    },
    {
     "data": {
      "application/vnd.jupyter.widget-view+json": {
       "model_id": "",
       "version_major": 2,
       "version_minor": 0
      },
      "text/plain": [
       "Sentences Progress:   0%|          | 0/15 [00:00<?, ?it/s]"
      ]
     },
     "metadata": {},
     "output_type": "display_data"
    },
    {
     "data": {
      "application/vnd.jupyter.widget-view+json": {
       "model_id": "",
       "version_major": 2,
       "version_minor": 0
      },
      "text/plain": [
       "Sentences Progress:   0%|          | 0/3 [00:00<?, ?it/s]"
      ]
     },
     "metadata": {},
     "output_type": "display_data"
    },
    {
     "data": {
      "application/vnd.jupyter.widget-view+json": {
       "model_id": "",
       "version_major": 2,
       "version_minor": 0
      },
      "text/plain": [
       "Sentences Progress:   0%|          | 0/8 [00:00<?, ?it/s]"
      ]
     },
     "metadata": {},
     "output_type": "display_data"
    },
    {
     "name": "stdout",
     "output_type": "stream",
     "text": [
      "Span [32,33,34,35]: \"Zoffany Oiseaux de Paradis\"   [− Labels: PRODUCT (0.9651)]\n",
      "Span [42,43,44]: \"Triple Pinch Pleat\"   [− Labels: PRODUCT (0.9417)]\n",
      "Span [52,53,54]: \"Triple Pinch Pleat\"   [− Labels: PRODUCT (0.9021)]\n",
      "Span [61,62,63,64]: \"Triple Pinch Pleat Curtains\"   [− Labels: PRODUCT (0.9806)]\n",
      "Span [8,9,10,11]: \"Triple Pinch Pleat Curtains\"   [− Labels: PRODUCT (0.9998)]\n",
      "Span [20,21,22,23]: \"Triple Pinch Pleat Curtains\"   [− Labels: PRODUCT (0.9998)]\n"
     ]
    },
    {
     "data": {
      "application/vnd.jupyter.widget-view+json": {
       "model_id": "",
       "version_major": 2,
       "version_minor": 0
      },
      "text/plain": [
       "Sentences Progress:   0%|          | 0/44 [00:00<?, ?it/s]"
      ]
     },
     "metadata": {},
     "output_type": "display_data"
    },
    {
     "name": "stdout",
     "output_type": "stream",
     "text": [
      "Span [1]: \"Tropilex\"   [− Labels: PRODUCT (0.9998)]\n",
      "Span [30,31]: \"SUMO GRANDE\"   [− Labels: PRODUCT (0.9993)]\n",
      "Span [54,55,56]: \"Nemo Classic 200kg\"   [− Labels: PRODUCT (0.8604)]\n",
      "Span [62,63,64,65,66]: \"Adventure Moskito Thermo Classic 150kg\"   [− Labels: PRODUCT (0.8679)]\n",
      "Span [74,75,76]: \"American Dream Spreader\"   [− Labels: PRODUCT (0.9995)]\n",
      "Span [83,84,85]: \"Arte Classic 200kg\"   [− Labels: PRODUCT (0.8932)]\n",
      "Span [91,92,93]: \"Aruba Spreader 180kg\"   [− Labels: PRODUCT (0.7992)]\n",
      "Span [101,102,103]: \"Barbados Classic 200kg\"   [− Labels: PRODUCT (0.9534)]\n",
      "Span [109,110]: \"Brasilia Spreader\"   [− Labels: PRODUCT (1.0)]\n",
      "Span [119,120]: \"Chico Class\"   [− Labels: PRODUCT (0.8625)]\n",
      "Span [29,30]: \"Graphik Spreader\"   [− Labels: PRODUCT (0.9958)]\n",
      "Span [35,36]: \"Kocon Classic\"   [− Labels: PRODUCT (0.9932)]\n",
      "Span [41,42]: \"Kolor Spreader\"   [− Labels: PRODUCT (0.9994)]\n",
      "Span [47,48]: \"Komplice Spreader\"   [− Labels: PRODUCT (0.9678)]\n",
      "Span [53,54]: \"Kouple Spreader\"   [− Labels: PRODUCT (0.9988)]\n",
      "Span [9]: \"Rockstone\"   [− Labels: PRODUCT (0.8991)]\n",
      "Span [17,18]: \"Globo Single\"   [− Labels: PRODUCT (0.9956)]\n",
      "Span [22,23]: \"Globo Double\"   [− Labels: PRODUCT (0.9947)]\n",
      "Span [27,28]: \"Globo Helios\"   [− Labels: PRODUCT (0.9947)]\n",
      "Span [39,40,41]: \"Belize Hammock Chair\"   [− Labels: PRODUCT (0.9981)]\n",
      "Span [48,49,50]: \"Bogota Hammock Chair\"   [− Labels: PRODUCT (0.9879)]\n",
      "Span [57,58,59,60]: \"Brasil Gigante Hammock Chair\"   [− Labels: PRODUCT (0.9352)]\n",
      "Span [67,68,69]: \"Brasil Hammock Chair\"   [− Labels: PRODUCT (0.8533)]\n",
      "Span [78,79,80,81]: \"Kids Hanging Nest Chair\"   [− Labels: PRODUCT (0.8492)]\n",
      "Span [89,90,91,92]: \"Single Hanging Nest Chair\"   [− Labels: PRODUCT (0.9925)]\n",
      "Span [100,101,102,103]: \"Double Hanging Nest Chair\"   [− Labels: PRODUCT (0.9513)]\n",
      "Span [110,111,112,113,114]: \"Cacoon Songo Hanging Nest Chair\"   [− Labels: PRODUCT (0.7907)]\n",
      "Span [5]: \"Covid-19\"   [− Labels: PRODUCT (0.9999)]\n",
      "Span [13,14,15]: \"a Madera Post\"   [− Labels: PRODUCT (0.9999)]\n",
      "Span [2,3]: \"Double Hammocks\"   [− Labels: PRODUCT (1.0)]\n",
      "Span [11,12,13,14]: \"Family / XL Hammocks\"   [− Labels: PRODUCT (1.0)]\n",
      "Span [1,2,3]: \"Spreader Bar Hammock\"   [− Labels: PRODUCT (1.0)]\n",
      "Span [1,2,3,4]: \"None Spreader Bar Hammocks\"   [− Labels: PRODUCT (0.9999)]\n",
      "Span [6,7]: \"Classic Hammocks\"   [− Labels: PRODUCT (1.0)]\n",
      "Span [11,12,13,14,15]: \"a None Spreader Bar Hammock\"   [− Labels: PRODUCT (0.9998)]\n",
      "Span [19,20]: \"Nylon Hammocks\"   [− Labels: PRODUCT (1.0)]\n",
      "Span [8,9,10]: \"The Denim Hammock\"   [− Labels: PRODUCT (1.0)]\n",
      "Span [7,8,9]: \"the Denim Hammock\"   [− Labels: PRODUCT (1.0)]\n",
      "Span [1,2,3]: \"The Denim Hammock\"   [− Labels: PRODUCT (1.0)]\n",
      "Span [1,2,3]: \"The Denim Hammock\"   [− Labels: PRODUCT (1.0)]\n",
      "Span [30,31]: \"SUMO GRANDE\"   [− Labels: PRODUCT (0.9993)]\n",
      "Span [54,55,56]: \"Nemo Classic 200kg\"   [− Labels: PRODUCT (0.8604)]\n",
      "Span [62,63,64,65,66]: \"Adventure Moskito Thermo Classic 150kg\"   [− Labels: PRODUCT (0.8679)]\n",
      "Span [74,75,76]: \"American Dream Spreader\"   [− Labels: PRODUCT (0.9995)]\n",
      "Span [83,84,85]: \"Arte Classic 200kg\"   [− Labels: PRODUCT (0.8932)]\n",
      "Span [91,92,93]: \"Aruba Spreader 180kg\"   [− Labels: PRODUCT (0.7992)]\n",
      "Span [101,102,103]: \"Barbados Classic 200kg\"   [− Labels: PRODUCT (0.9534)]\n",
      "Span [109,110]: \"Brasilia Spreader\"   [− Labels: PRODUCT (1.0)]\n",
      "Span [119,120]: \"Chico Class\"   [− Labels: PRODUCT (0.8625)]\n",
      "Span [35,36,37]: \"Kocon Classic 120kg\"   [− Labels: PRODUCT (0.9577)]\n",
      "Span [41,42]: \"Kolor Spreader\"   [− Labels: PRODUCT (0.9996)]\n",
      "Span [47,48,49]: \"Komplice Spreader 120kg\"   [− Labels: PRODUCT (0.781)]\n",
      "Span [53,54,55]: \"Kouple Spreader 160kg\"   [− Labels: PRODUCT (0.8292)]\n",
      "Span [9]: \"Rockstone\"   [− Labels: PRODUCT (0.8404)]\n",
      "Span [17,18]: \"Globo Single\"   [− Labels: PRODUCT (0.9838)]\n",
      "Span [22,23]: \"Globo Double\"   [− Labels: PRODUCT (0.984)]\n",
      "Span [27,28]: \"Globo Helios\"   [− Labels: PRODUCT (0.983)]\n",
      "Span [39,40,41]: \"Belize Hammock Chair\"   [− Labels: PRODUCT (0.9985)]\n",
      "Span [48,49,50]: \"Bogota Hammock Chair\"   [− Labels: PRODUCT (0.9977)]\n",
      "Span [57,58,59,60]: \"Brasil Gigante Hammock Chair\"   [− Labels: PRODUCT (0.9908)]\n",
      "Span [67,68,69]: \"Brasil Hammock Chair\"   [− Labels: PRODUCT (0.9798)]\n",
      "Span [78,79,80,81]: \"Kids Hanging Nest Chair\"   [− Labels: PRODUCT (0.8948)]\n",
      "Span [89,90,91,92]: \"Single Hanging Nest Chair\"   [− Labels: PRODUCT (0.9973)]\n",
      "Span [100,101,102,103]: \"Double Hanging Nest Chair\"   [− Labels: PRODUCT (0.9872)]\n",
      "Span [111,112,113,114]: \"Songo Hanging Nest Chair\"   [− Labels: PRODUCT (0.8915)]\n",
      "Span [5]: \"Covid-19\"   [− Labels: PRODUCT (1.0)]\n",
      "Span [13,14,15]: \"a Madera Post\"   [− Labels: PRODUCT (0.9359)]\n",
      "Span [2,3]: \"Double Hammocks\"   [− Labels: PRODUCT (1.0)]\n",
      "Span [11,12,13,14]: \"Family / XL Hammocks\"   [− Labels: PRODUCT (1.0)]\n",
      "Span [1,2,3]: \"Spreader Bar Hammock\"   [− Labels: PRODUCT (1.0)]\n",
      "Span [2,3,4]: \"Spreader Bar Hammocks\"   [− Labels: PRODUCT (0.9999)]\n",
      "Span [6,7]: \"Classic Hammocks\"   [− Labels: PRODUCT (1.0)]\n",
      "Span [11,12,13,14,15]: \"a None Spreader Bar Hammock\"   [− Labels: PRODUCT (0.9984)]\n",
      "Span [20,21]: \"Weather Proof\"   [− Labels: PRODUCT (0.8014)]\n",
      "Span [19,20]: \"Nylon Hammocks\"   [− Labels: PRODUCT (0.9998)]\n",
      "Span [8,9,10]: \"The Denim Hammock\"   [− Labels: PRODUCT (1.0)]\n",
      "Span [7,8,9]: \"the Denim Hammock\"   [− Labels: PRODUCT (1.0)]\n",
      "Span [1,2,3]: \"The Denim Hammock\"   [− Labels: PRODUCT (1.0)]\n",
      "Span [1,2,3]: \"The Denim Hammock\"   [− Labels: PRODUCT (1.0)]\n",
      "Span [13]: \"Tropilex\"   [− Labels: PRODUCT (0.8047)]\n",
      "Span [13]: \"Tropilex\"   [− Labels: PRODUCT (0.7946)]\n",
      "Span [9]: \"Tropilex\"   [− Labels: PRODUCT (0.9675)]\n",
      "Span [7]: \"Tropilex\"   [− Labels: PRODUCT (0.9911)]\n",
      "Span [5,6,7]: \"Hamaca Denim Hammock\"   [− Labels: PRODUCT (0.7983)]\n",
      "Span [30,31]: \"SUMO GRANDE\"   [− Labels: PRODUCT (0.9993)]\n",
      "Span [54,55,56]: \"Nemo Classic 200kg\"   [− Labels: PRODUCT (0.8604)]\n",
      "Span [62,63,64,65,66]: \"Adventure Moskito Thermo Classic 150kg\"   [− Labels: PRODUCT (0.8679)]\n",
      "Span [74,75,76]: \"American Dream Spreader\"   [− Labels: PRODUCT (0.9995)]\n",
      "Span [83,84,85]: \"Arte Classic 200kg\"   [− Labels: PRODUCT (0.8932)]\n",
      "Span [91,92,93]: \"Aruba Spreader 180kg\"   [− Labels: PRODUCT (0.7992)]\n",
      "Span [101,102,103]: \"Barbados Classic 200kg\"   [− Labels: PRODUCT (0.9534)]\n",
      "Span [109,110]: \"Brasilia Spreader\"   [− Labels: PRODUCT (1.0)]\n",
      "Span [119,120]: \"Chico Class\"   [− Labels: PRODUCT (0.8625)]\n",
      "Span [29,30]: \"Graphik Spreader\"   [− Labels: PRODUCT (0.9978)]\n",
      "Span [35,36]: \"Kocon Classic\"   [− Labels: PRODUCT (0.9972)]\n",
      "Span [41,42]: \"Kolor Spreader\"   [− Labels: PRODUCT (0.9993)]\n",
      "Span [47,48]: \"Komplice Spreader\"   [− Labels: PRODUCT (0.9825)]\n",
      "Span [53,54]: \"Kouple Spreader\"   [− Labels: PRODUCT (0.9984)]\n",
      "Span [9]: \"Rockstone\"   [− Labels: PRODUCT (0.8991)]\n",
      "Span [17,18]: \"Globo Single\"   [− Labels: PRODUCT (0.9956)]\n",
      "Span [22,23]: \"Globo Double\"   [− Labels: PRODUCT (0.9947)]\n",
      "Span [27,28]: \"Globo Helios\"   [− Labels: PRODUCT (0.9947)]\n",
      "Span [39,40,41]: \"Belize Hammock Chair\"   [− Labels: PRODUCT (0.9981)]\n",
      "Span [48,49,50]: \"Bogota Hammock Chair\"   [− Labels: PRODUCT (0.9879)]\n",
      "Span [57,58,59,60]: \"Brasil Gigante Hammock Chair\"   [− Labels: PRODUCT (0.9352)]\n",
      "Span [67,68,69]: \"Brasil Hammock Chair\"   [− Labels: PRODUCT (0.8533)]\n",
      "Span [78,79,80,81]: \"Kids Hanging Nest Chair\"   [− Labels: PRODUCT (0.8492)]\n",
      "Span [89,90,91,92]: \"Single Hanging Nest Chair\"   [− Labels: PRODUCT (0.9925)]\n",
      "Span [100,101,102,103]: \"Double Hanging Nest Chair\"   [− Labels: PRODUCT (0.9513)]\n",
      "Span [110,111,112,113,114]: \"Cacoon Songo Hanging Nest Chair\"   [− Labels: PRODUCT (0.7907)]\n",
      "Span [5]: \"Covid-19\"   [− Labels: PRODUCT (1.0)]\n",
      "Span [13,14,15]: \"a Madera Post\"   [− Labels: PRODUCT (0.8206)]\n",
      "Span [2,3]: \"Double Hammocks\"   [− Labels: PRODUCT (1.0)]\n",
      "Span [11,12,13,14]: \"Family / XL Hammocks\"   [− Labels: PRODUCT (1.0)]\n",
      "Span [1,2,3]: \"Spreader Bar Hammock\"   [− Labels: PRODUCT (1.0)]\n",
      "Span [1,2,3,4]: \"None Spreader Bar Hammocks\"   [− Labels: PRODUCT (0.9999)]\n",
      "Span [6,7]: \"Classic Hammocks\"   [− Labels: PRODUCT (1.0)]\n",
      "Span [11,12,13,14,15]: \"a None Spreader Bar Hammock\"   [− Labels: PRODUCT (0.9998)]\n",
      "Span [20,21]: \"Weather Proof\"   [− Labels: PRODUCT (0.8014)]\n",
      "Span [19,20]: \"Nylon Hammocks\"   [− Labels: PRODUCT (0.9999)]\n",
      "Span [8,9,10]: \"The Denim Hammock\"   [− Labels: PRODUCT (1.0)]\n",
      "Span [7,8,9]: \"the Denim Hammock\"   [− Labels: PRODUCT (1.0)]\n",
      "Span [1,2,3]: \"The Denim Hammock\"   [− Labels: PRODUCT (1.0)]\n",
      "Span [1,2,3]: \"The Denim Hammock\"   [− Labels: PRODUCT (1.0)]\n",
      "Span [1,2]: \"Denim Hammock\"   [− Labels: PRODUCT (0.9993)]\n",
      "Span [2,3]: \"Denim Hammock\"   [− Labels: PRODUCT (0.9368)]\n",
      "Span [30,31]: \"SUMO GRANDE\"   [− Labels: PRODUCT (0.9993)]\n",
      "Span [54,55,56]: \"Nemo Classic 200kg\"   [− Labels: PRODUCT (0.8604)]\n",
      "Span [62,63,64,65,66]: \"Adventure Moskito Thermo Classic 150kg\"   [− Labels: PRODUCT (0.8679)]\n",
      "Span [74,75,76]: \"American Dream Spreader\"   [− Labels: PRODUCT (0.9995)]\n",
      "Span [83,84,85]: \"Arte Classic 200kg\"   [− Labels: PRODUCT (0.8932)]\n",
      "Span [91,92,93]: \"Aruba Spreader 180kg\"   [− Labels: PRODUCT (0.7992)]\n",
      "Span [101,102,103]: \"Barbados Classic 200kg\"   [− Labels: PRODUCT (0.9534)]\n",
      "Span [109,110]: \"Brasilia Spreader\"   [− Labels: PRODUCT (1.0)]\n",
      "Span [119,120]: \"Chico Class\"   [− Labels: PRODUCT (0.8625)]\n",
      "Span [29,30]: \"Graphik Spreader\"   [− Labels: PRODUCT (0.9972)]\n",
      "Span [35,36]: \"Kocon Classic\"   [− Labels: PRODUCT (0.9966)]\n",
      "Span [41,42]: \"Kolor Spreader\"   [− Labels: PRODUCT (0.9992)]\n",
      "Span [47,48]: \"Komplice Spreader\"   [− Labels: PRODUCT (0.9557)]\n",
      "Span [53,54,55]: \"Kouple Spreader 160kg\"   [− Labels: PRODUCT (0.7572)]\n",
      "Span [9]: \"Rockstone\"   [− Labels: PRODUCT (0.8991)]\n",
      "Span [17,18]: \"Globo Single\"   [− Labels: PRODUCT (0.9956)]\n",
      "Span [22,23]: \"Globo Double\"   [− Labels: PRODUCT (0.9947)]\n",
      "Span [27,28]: \"Globo Helios\"   [− Labels: PRODUCT (0.9947)]\n",
      "Span [39,40,41]: \"Belize Hammock Chair\"   [− Labels: PRODUCT (0.9981)]\n",
      "Span [48,49,50]: \"Bogota Hammock Chair\"   [− Labels: PRODUCT (0.9879)]\n",
      "Span [57,58,59,60]: \"Brasil Gigante Hammock Chair\"   [− Labels: PRODUCT (0.9352)]\n",
      "Span [67,68,69]: \"Brasil Hammock Chair\"   [− Labels: PRODUCT (0.8533)]\n",
      "Span [78,79,80,81]: \"Kids Hanging Nest Chair\"   [− Labels: PRODUCT (0.8492)]\n",
      "Span [89,90,91,92]: \"Single Hanging Nest Chair\"   [− Labels: PRODUCT (0.9925)]\n",
      "Span [100,101,102,103]: \"Double Hanging Nest Chair\"   [− Labels: PRODUCT (0.9513)]\n",
      "Span [110,111,112,113,114]: \"Cacoon Songo Hanging Nest Chair\"   [− Labels: PRODUCT (0.7907)]\n",
      "Span [5]: \"Covid-19\"   [− Labels: PRODUCT (0.9999)]\n",
      "Span [13,14,15]: \"a Madera Post\"   [− Labels: PRODUCT (0.8206)]\n",
      "Span [2,3]: \"Double Hammocks\"   [− Labels: PRODUCT (1.0)]\n",
      "Span [11,12,13,14]: \"Family / XL Hammocks\"   [− Labels: PRODUCT (1.0)]\n"
     ]
    },
    {
     "data": {
      "application/vnd.jupyter.widget-view+json": {
       "model_id": "",
       "version_major": 2,
       "version_minor": 0
      },
      "text/plain": [
       "Sentences Progress:   0%|          | 0/8 [00:00<?, ?it/s]"
      ]
     },
     "metadata": {},
     "output_type": "display_data"
    },
    {
     "data": {
      "application/vnd.jupyter.widget-view+json": {
       "model_id": "",
       "version_major": 2,
       "version_minor": 0
      },
      "text/plain": [
       "Sentences Progress:   0%|          | 0/11 [00:00<?, ?it/s]"
      ]
     },
     "metadata": {},
     "output_type": "display_data"
    },
    {
     "data": {
      "application/vnd.jupyter.widget-view+json": {
       "model_id": "",
       "version_major": 2,
       "version_minor": 0
      },
      "text/plain": [
       "Sentences Progress:   0%|          | 0/8 [00:00<?, ?it/s]"
      ]
     },
     "metadata": {},
     "output_type": "display_data"
    },
    {
     "name": "stdout",
     "output_type": "stream",
     "text": [
      "Span [11,12,13,14]: \"The Cambridge Dining Set\"   [− Labels: PRODUCT (0.9982)]\n",
      "Span [41,42,43,44]: \"Tiva Corner Ladder Shelving\"   [− Labels: PRODUCT (0.9699)]\n",
      "Span [58,59,60]: \"Tiva Ladder Bookcase\"   [− Labels: PRODUCT (0.9971)]\n",
      "Span [11,12,13,14]: \"The Cambridge Dining Set\"   [− Labels: PRODUCT (0.9928)]\n",
      "Span [41,42,43,44]: \"Tiva Corner Ladder Shelving\"   [− Labels: PRODUCT (0.9932)]\n",
      "Span [58,59,60]: \"Tiva Ladder Bookcase\"   [− Labels: PRODUCT (0.9945)]\n",
      "Span [6]: \"Cambridge\"   [− Labels: PRODUCT (0.8154)]\n",
      "Span [11,12,13,14]: \"The Cambridge Dining Set\"   [− Labels: PRODUCT (0.9996)]\n"
     ]
    },
    {
     "data": {
      "application/vnd.jupyter.widget-view+json": {
       "model_id": "",
       "version_major": 2,
       "version_minor": 0
      },
      "text/plain": [
       "Sentences Progress:   0%|          | 0/5 [00:00<?, ?it/s]"
      ]
     },
     "metadata": {},
     "output_type": "display_data"
    },
    {
     "data": {
      "application/vnd.jupyter.widget-view+json": {
       "model_id": "",
       "version_major": 2,
       "version_minor": 0
      },
      "text/plain": [
       "Sentences Progress:   0%|          | 0/5 [00:00<?, ?it/s]"
      ]
     },
     "metadata": {},
     "output_type": "display_data"
    },
    {
     "name": "stdout",
     "output_type": "stream",
     "text": [
      "Span [48,49,50,51]: \"Claremont Two Seater Sherborne\"   [− Labels: PRODUCT (0.8093)]\n",
      "Span [14,15,16,17]: \"Claremont Two Seater Sherborne\"   [− Labels: PRODUCT (0.9928)]\n"
     ]
    },
    {
     "data": {
      "application/vnd.jupyter.widget-view+json": {
       "model_id": "",
       "version_major": 2,
       "version_minor": 0
      },
      "text/plain": [
       "Sentences Progress:   0%|          | 0/13 [00:00<?, ?it/s]"
      ]
     },
     "metadata": {},
     "output_type": "display_data"
    },
    {
     "data": {
      "application/vnd.jupyter.widget-view+json": {
       "model_id": "",
       "version_major": 2,
       "version_minor": 0
      },
      "text/plain": [
       "Sentences Progress:   0%|          | 0/1 [00:00<?, ?it/s]"
      ]
     },
     "metadata": {},
     "output_type": "display_data"
    },
    {
     "name": "stdout",
     "output_type": "stream",
     "text": [
      "Span [4]: \"LiteSpeed\"   [− Labels: PRODUCT (0.8603)]\n"
     ]
    },
    {
     "data": {
      "application/vnd.jupyter.widget-view+json": {
       "model_id": "",
       "version_major": 2,
       "version_minor": 0
      },
      "text/plain": [
       "Sentences Progress:   0%|          | 0/5 [00:00<?, ?it/s]"
      ]
     },
     "metadata": {},
     "output_type": "display_data"
    },
    {
     "data": {
      "application/vnd.jupyter.widget-view+json": {
       "model_id": "",
       "version_major": 2,
       "version_minor": 0
      },
      "text/plain": [
       "Sentences Progress:   0%|          | 0/3 [00:00<?, ?it/s]"
      ]
     },
     "metadata": {},
     "output_type": "display_data"
    },
    {
     "data": {
      "application/vnd.jupyter.widget-view+json": {
       "model_id": "",
       "version_major": 2,
       "version_minor": 0
      },
      "text/plain": [
       "Sentences Progress:   0%|          | 0/4 [00:00<?, ?it/s]"
      ]
     },
     "metadata": {},
     "output_type": "display_data"
    },
    {
     "name": "stdout",
     "output_type": "stream",
     "text": [
      "Span [1,2,3]: \"Dreaming Linen Cushion\"   [− Labels: PRODUCT (1.0)]\n",
      "Span [11,12,13]: \"Dreaming Linen Cushion\"   [− Labels: PRODUCT (1.0)]\n",
      "Span [1,2,3]: \"Dreaming Linen Cushion\"   [− Labels: PRODUCT (1.0)]\n",
      "Span [11,12,13]: \"Dreaming Linen Cushion\"   [− Labels: PRODUCT (1.0)]\n",
      "Span [1,2,3]: \"Dreaming Linen Cushion\"   [− Labels: PRODUCT (1.0)]\n",
      "Span [11,12,13]: \"Dreaming Linen Cushion\"   [− Labels: PRODUCT (1.0)]\n",
      "Span [1,2,3]: \"Dreaming Linen Cushion\"   [− Labels: PRODUCT (1.0)]\n",
      "Span [11,12,13]: \"Dreaming Linen Cushion\"   [− Labels: PRODUCT (1.0)]\n",
      "Span [1,2,3]: \"Dreaming Linen Cushion\"   [− Labels: PRODUCT (0.9999)]\n",
      "Span [1,2,3]: \"Dreaming Linen Cushion\"   [− Labels: PRODUCT (0.9999)]\n",
      "Span [1,2,3]: \"Dreaming Linen Cushion\"   [− Labels: PRODUCT (1.0)]\n"
     ]
    },
    {
     "data": {
      "application/vnd.jupyter.widget-view+json": {
       "model_id": "",
       "version_major": 2,
       "version_minor": 0
      },
      "text/plain": [
       "Sentences Progress:   0%|          | 0/8 [00:00<?, ?it/s]"
      ]
     },
     "metadata": {},
     "output_type": "display_data"
    },
    {
     "data": {
      "application/vnd.jupyter.widget-view+json": {
       "model_id": "",
       "version_major": 2,
       "version_minor": 0
      },
      "text/plain": [
       "Sentences Progress:   0%|          | 0/1 [00:00<?, ?it/s]"
      ]
     },
     "metadata": {},
     "output_type": "display_data"
    },
    {
     "data": {
      "application/vnd.jupyter.widget-view+json": {
       "model_id": "",
       "version_major": 2,
       "version_minor": 0
      },
      "text/plain": [
       "Sentences Progress:   0%|          | 0/4 [00:00<?, ?it/s]"
      ]
     },
     "metadata": {},
     "output_type": "display_data"
    },
    {
     "data": {
      "application/vnd.jupyter.widget-view+json": {
       "model_id": "",
       "version_major": 2,
       "version_minor": 0
      },
      "text/plain": [
       "Sentences Progress:   0%|          | 0/31 [00:00<?, ?it/s]"
      ]
     },
     "metadata": {},
     "output_type": "display_data"
    },
    {
     "data": {
      "application/vnd.jupyter.widget-view+json": {
       "model_id": "",
       "version_major": 2,
       "version_minor": 0
      },
      "text/plain": [
       "Sentences Progress:   0%|          | 0/9 [00:00<?, ?it/s]"
      ]
     },
     "metadata": {},
     "output_type": "display_data"
    },
    {
     "data": {
      "application/vnd.jupyter.widget-view+json": {
       "model_id": "",
       "version_major": 2,
       "version_minor": 0
      },
      "text/plain": [
       "Sentences Progress:   0%|          | 0/14 [00:00<?, ?it/s]"
      ]
     },
     "metadata": {},
     "output_type": "display_data"
    },
    {
     "name": "stdout",
     "output_type": "stream",
     "text": [
      "Span [33,34,35]: \"U-Shape Corner Sofa\"   [− Labels: PRODUCT (0.9051)]\n",
      "Span [54,55,56,57,58]: \"U Shape Truffle Corner Sofa\"   [− Labels: PRODUCT (0.8082)]\n",
      "Span [7,8,9]: \"Grey Plush Velvet\"   [− Labels: PRODUCT (0.8727)]\n",
      "Span [1,2]: \"New Parklane\"   [− Labels: PRODUCT (0.8104)]\n",
      "Span [6,7,8]: \"U-Shape Corner Sofa\"   [− Labels: PRODUCT (0.9983)]\n",
      "Span [6,7,8]: \"U-Shape Corner Sofa\"   [− Labels: PRODUCT (0.9989)]\n",
      "Span [6,7,8]: \"U-Shape Corner Sofa\"   [− Labels: PRODUCT (0.9974)]\n",
      "Span [4,5]: \"U-Shape Corner\"   [− Labels: PRODUCT (0.8624)]\n",
      "Span [4,5]: \"U-Shape Corner\"   [− Labels: PRODUCT (0.7683)]\n",
      "Span [4,5,6,7,8]: \"U Shape Truffle Corner Sofa\"   [− Labels: PRODUCT (0.9908)]\n",
      "Span [4,5,6,7,8]: \"U Shape Truffle Corner Sofa\"   [− Labels: PRODUCT (0.9787)]\n",
      "Span [4,5,6,7,8]: \"U Shape Truffle Corner Sofa\"   [− Labels: PRODUCT (0.8382)]\n",
      "Span [2,3,4,5,6]: \"U Shape Truffle Corner Sofa\"   [− Labels: PRODUCT (0.8883)]\n",
      "Span [1,2]: \"Bentley Truffle\"   [− Labels: PRODUCT (0.9446)]\n"
     ]
    },
    {
     "data": {
      "application/vnd.jupyter.widget-view+json": {
       "model_id": "",
       "version_major": 2,
       "version_minor": 0
      },
      "text/plain": [
       "Sentences Progress:   0%|          | 0/12 [00:00<?, ?it/s]"
      ]
     },
     "metadata": {},
     "output_type": "display_data"
    },
    {
     "data": {
      "application/vnd.jupyter.widget-view+json": {
       "model_id": "",
       "version_major": 2,
       "version_minor": 0
      },
      "text/plain": [
       "Sentences Progress:   0%|          | 0/13 [00:00<?, ?it/s]"
      ]
     },
     "metadata": {},
     "output_type": "display_data"
    },
    {
     "data": {
      "application/vnd.jupyter.widget-view+json": {
       "model_id": "",
       "version_major": 2,
       "version_minor": 0
      },
      "text/plain": [
       "Sentences Progress:   0%|          | 0/10 [00:00<?, ?it/s]"
      ]
     },
     "metadata": {},
     "output_type": "display_data"
    },
    {
     "name": "stdout",
     "output_type": "stream",
     "text": [
      "Span [5,6,7,8]: \"The Stag Geo Sideboard\"   [− Labels: PRODUCT (0.9999)]\n",
      "Span [5,6,7,8]: \"The Stag Geo Sideboard\"   [− Labels: PRODUCT (0.9999)]\n",
      "Span [5,6,7,8]: \"The Stag Geo Sideboard\"   [− Labels: PRODUCT (0.9998)]\n",
      "Span [5,6,7,8]: \"The Stag Geo Sideboard\"   [− Labels: PRODUCT (0.9995)]\n",
      "Span [5,6,7,8]: \"The Stag Geo Sideboard\"   [− Labels: PRODUCT (0.9997)]\n"
     ]
    },
    {
     "data": {
      "application/vnd.jupyter.widget-view+json": {
       "model_id": "",
       "version_major": 2,
       "version_minor": 0
      },
      "text/plain": [
       "Sentences Progress:   0%|          | 0/28 [00:00<?, ?it/s]"
      ]
     },
     "metadata": {},
     "output_type": "display_data"
    },
    {
     "data": {
      "application/vnd.jupyter.widget-view+json": {
       "model_id": "",
       "version_major": 2,
       "version_minor": 0
      },
      "text/plain": [
       "Sentences Progress:   0%|          | 0/1 [00:00<?, ?it/s]"
      ]
     },
     "metadata": {},
     "output_type": "display_data"
    },
    {
     "data": {
      "application/vnd.jupyter.widget-view+json": {
       "model_id": "",
       "version_major": 2,
       "version_minor": 0
      },
      "text/plain": [
       "Sentences Progress:   0%|          | 0/9 [00:00<?, ?it/s]"
      ]
     },
     "metadata": {},
     "output_type": "display_data"
    },
    {
     "name": "stdout",
     "output_type": "stream",
     "text": [
      "Span [7]: \"Mattress\"   [− Labels: PRODUCT (0.8336)]\n",
      "Span [7]: \"Mattress\"   [− Labels: PRODUCT (0.8336)]\n"
     ]
    },
    {
     "data": {
      "application/vnd.jupyter.widget-view+json": {
       "model_id": "",
       "version_major": 2,
       "version_minor": 0
      },
      "text/plain": [
       "Sentences Progress:   0%|          | 0/7 [00:00<?, ?it/s]"
      ]
     },
     "metadata": {},
     "output_type": "display_data"
    },
    {
     "data": {
      "application/vnd.jupyter.widget-view+json": {
       "model_id": "",
       "version_major": 2,
       "version_minor": 0
      },
      "text/plain": [
       "Sentences Progress:   0%|          | 0/1 [00:00<?, ?it/s]"
      ]
     },
     "metadata": {},
     "output_type": "display_data"
    },
    {
     "data": {
      "application/vnd.jupyter.widget-view+json": {
       "model_id": "",
       "version_major": 2,
       "version_minor": 0
      },
      "text/plain": [
       "Sentences Progress:   0%|          | 0/1 [00:00<?, ?it/s]"
      ]
     },
     "metadata": {},
     "output_type": "display_data"
    },
    {
     "data": {
      "application/vnd.jupyter.widget-view+json": {
       "model_id": "",
       "version_major": 2,
       "version_minor": 0
      },
      "text/plain": [
       "Sentences Progress:   0%|          | 0/7 [00:00<?, ?it/s]"
      ]
     },
     "metadata": {},
     "output_type": "display_data"
    },
    {
     "data": {
      "application/vnd.jupyter.widget-view+json": {
       "model_id": "",
       "version_major": 2,
       "version_minor": 0
      },
      "text/plain": [
       "Sentences Progress:   0%|          | 0/7 [00:00<?, ?it/s]"
      ]
     },
     "metadata": {},
     "output_type": "display_data"
    },
    {
     "data": {
      "application/vnd.jupyter.widget-view+json": {
       "model_id": "",
       "version_major": 2,
       "version_minor": 0
      },
      "text/plain": [
       "Sentences Progress:   0%|          | 0/2 [00:00<?, ?it/s]"
      ]
     },
     "metadata": {},
     "output_type": "display_data"
    },
    {
     "data": {
      "application/vnd.jupyter.widget-view+json": {
       "model_id": "",
       "version_major": 2,
       "version_minor": 0
      },
      "text/plain": [
       "Sentences Progress:   0%|          | 0/7 [00:00<?, ?it/s]"
      ]
     },
     "metadata": {},
     "output_type": "display_data"
    },
    {
     "name": "stdout",
     "output_type": "stream",
     "text": [
      "Span [7,8]: \"Toby Chairs\"   [− Labels: PRODUCT (0.9625)]\n",
      "Span [7,8]: \"Toby Chairs\"   [− Labels: PRODUCT (0.9571)]\n",
      "Span [3,4]: \"Toby Tables\"   [− Labels: PRODUCT (0.9706)]\n",
      "Span [5,6,7,8]: \"The Oak Toby Tables\"   [− Labels: PRODUCT (0.9963)]\n",
      "Span [7,8]: \"Toby Chairs\"   [− Labels: PRODUCT (0.9146)]\n",
      "Span [3,4]: \"Toby Tables\"   [− Labels: PRODUCT (0.8065)]\n",
      "Span [5,6,7,8]: \"The Oak Toby Tables\"   [− Labels: PRODUCT (0.8587)]\n",
      "Span [3,4]: \"Toby Tables\"   [− Labels: PRODUCT (0.964)]\n",
      "Span [5,6,7,8]: \"The Oak Toby Tables\"   [− Labels: PRODUCT (0.8257)]\n"
     ]
    },
    {
     "data": {
      "application/vnd.jupyter.widget-view+json": {
       "model_id": "",
       "version_major": 2,
       "version_minor": 0
      },
      "text/plain": [
       "Sentences Progress:   0%|          | 0/16 [00:00<?, ?it/s]"
      ]
     },
     "metadata": {},
     "output_type": "display_data"
    },
    {
     "name": "stdout",
     "output_type": "stream",
     "text": [
      "Span [1,2,3]: \"Tulip Side Chair\"   [− Labels: PRODUCT (0.9991)]\n",
      "Span [19,20,21]: \"Tulip Arm Chair\"   [− Labels: PRODUCT (0.9993)]\n",
      "Span [2,3]: \"Tulip Chair\"   [− Labels: PRODUCT (0.9988)]\n",
      "Span [5,6]: \"the Tulip\"   [− Labels: PRODUCT (0.9001)]\n",
      "Span [1,2,3]: \"Tulip Side Chair\"   [− Labels: PRODUCT (0.9717)]\n",
      "Span [19,20,21]: \"Tulip Arm Chair\"   [− Labels: PRODUCT (0.9371)]\n",
      "Span [2,3]: \"Tulip Chair\"   [− Labels: PRODUCT (0.9988)]\n",
      "Span [6,7]: \"Tulip Chair\"   [− Labels: PRODUCT (0.9999)]\n",
      "Span [9,10]: \"Tulip Table\"   [− Labels: PRODUCT (0.9998)]\n"
     ]
    },
    {
     "data": {
      "application/vnd.jupyter.widget-view+json": {
       "model_id": "",
       "version_major": 2,
       "version_minor": 0
      },
      "text/plain": [
       "Sentences Progress:   0%|          | 0/12 [00:00<?, ?it/s]"
      ]
     },
     "metadata": {},
     "output_type": "display_data"
    },
    {
     "data": {
      "application/vnd.jupyter.widget-view+json": {
       "model_id": "",
       "version_major": 2,
       "version_minor": 0
      },
      "text/plain": [
       "Sentences Progress:   0%|          | 0/13 [00:00<?, ?it/s]"
      ]
     },
     "metadata": {},
     "output_type": "display_data"
    },
    {
     "data": {
      "application/vnd.jupyter.widget-view+json": {
       "model_id": "",
       "version_major": 2,
       "version_minor": 0
      },
      "text/plain": [
       "Sentences Progress:   0%|          | 0/7 [00:00<?, ?it/s]"
      ]
     },
     "metadata": {},
     "output_type": "display_data"
    },
    {
     "data": {
      "application/vnd.jupyter.widget-view+json": {
       "model_id": "",
       "version_major": 2,
       "version_minor": 0
      },
      "text/plain": [
       "Sentences Progress:   0%|          | 0/5 [00:00<?, ?it/s]"
      ]
     },
     "metadata": {},
     "output_type": "display_data"
    },
    {
     "data": {
      "application/vnd.jupyter.widget-view+json": {
       "model_id": "",
       "version_major": 2,
       "version_minor": 0
      },
      "text/plain": [
       "Sentences Progress:   0%|          | 0/10 [00:00<?, ?it/s]"
      ]
     },
     "metadata": {},
     "output_type": "display_data"
    },
    {
     "name": "stdout",
     "output_type": "stream",
     "text": [
      "Span [61,62,63,64]: \"Stressless Reno Recliner Chair\"   [− Labels: PRODUCT (0.9976)]\n",
      "Span [66]: \"Footstool\"   [− Labels: PRODUCT (0.9033)]\n",
      "Span [61]: \"Stressless\"   [− Labels: PRODUCT (0.9871)]\n"
     ]
    },
    {
     "data": {
      "application/vnd.jupyter.widget-view+json": {
       "model_id": "",
       "version_major": 2,
       "version_minor": 0
      },
      "text/plain": [
       "Sentences Progress:   0%|          | 0/3 [00:00<?, ?it/s]"
      ]
     },
     "metadata": {},
     "output_type": "display_data"
    },
    {
     "data": {
      "application/vnd.jupyter.widget-view+json": {
       "model_id": "",
       "version_major": 2,
       "version_minor": 0
      },
      "text/plain": [
       "Sentences Progress:   0%|          | 0/44 [00:00<?, ?it/s]"
      ]
     },
     "metadata": {},
     "output_type": "display_data"
    },
    {
     "data": {
      "application/vnd.jupyter.widget-view+json": {
       "model_id": "",
       "version_major": 2,
       "version_minor": 0
      },
      "text/plain": [
       "Sentences Progress:   0%|          | 0/11 [00:00<?, ?it/s]"
      ]
     },
     "metadata": {},
     "output_type": "display_data"
    },
    {
     "data": {
      "application/vnd.jupyter.widget-view+json": {
       "model_id": "",
       "version_major": 2,
       "version_minor": 0
      },
      "text/plain": [
       "Sentences Progress:   0%|          | 0/2 [00:00<?, ?it/s]"
      ]
     },
     "metadata": {},
     "output_type": "display_data"
    },
    {
     "data": {
      "application/vnd.jupyter.widget-view+json": {
       "model_id": "",
       "version_major": 2,
       "version_minor": 0
      },
      "text/plain": [
       "Sentences Progress:   0%|          | 0/7 [00:00<?, ?it/s]"
      ]
     },
     "metadata": {},
     "output_type": "display_data"
    },
    {
     "data": {
      "application/vnd.jupyter.widget-view+json": {
       "model_id": "",
       "version_major": 2,
       "version_minor": 0
      },
      "text/plain": [
       "Sentences Progress:   0%|          | 0/5 [00:00<?, ?it/s]"
      ]
     },
     "metadata": {},
     "output_type": "display_data"
    },
    {
     "name": "stdout",
     "output_type": "stream",
     "text": [
      "Span [1,2,3,4]: \"Solar Ball Stake Light\"   [− Labels: PRODUCT (0.9695)]\n",
      "Span [1,2,3,4]: \"Solar Ball Stake Light\"   [− Labels: PRODUCT (0.9814)]\n",
      "Span [1,2,3,4]: \"Solar Ball Stake Light\"   [− Labels: PRODUCT (0.9999)]\n",
      "Span [1,2,3,4]: \"Solar Ball Stake Light\"   [− Labels: PRODUCT (0.9998)]\n",
      "Span [1,2,3,4]: \"Solar Ball Stake Light\"   [− Labels: PRODUCT (0.9997)]\n",
      "Span [1,2,3,4]: \"Solar Ball Stake Light\"   [− Labels: PRODUCT (0.8872)]\n",
      "Span [1,2,3,4]: \"Solar Ball Stake Light\"   [− Labels: PRODUCT (0.9997)]\n",
      "Span [1,2,3,4]: \"Solar Ball Stake Light\"   [− Labels: PRODUCT (0.9999)]\n",
      "Span [1,2,3]: \"Solar Ball Stake\"   [− Labels: PRODUCT (0.8016)]\n",
      "Span [1,2,3,4]: \"Solar Ball Stake Light\"   [− Labels: PRODUCT (0.9998)]\n",
      "Span [1,2,3,4]: \"Solar Ball Stake Light\"   [− Labels: PRODUCT (0.9999)]\n",
      "Span [1,2,3,4]: \"Solar Ball Stake Light\"   [− Labels: PRODUCT (0.9989)]\n",
      "Span [1,2,3,4]: \"Solar Ball Stake Light\"   [− Labels: PRODUCT (0.9996)]\n"
     ]
    },
    {
     "data": {
      "application/vnd.jupyter.widget-view+json": {
       "model_id": "",
       "version_major": 2,
       "version_minor": 0
      },
      "text/plain": [
       "Sentences Progress:   0%|          | 0/9 [00:00<?, ?it/s]"
      ]
     },
     "metadata": {},
     "output_type": "display_data"
    },
    {
     "name": "stdout",
     "output_type": "stream",
     "text": [
      "Span [21,22,23]: \"Leather Crank Stool\"   [− Labels: PRODUCT (0.9999)]\n",
      "Span [21,22,23]: \"Leather Crank Stool\"   [− Labels: PRODUCT (1.0)]\n",
      "Span [21,22,23]: \"Leather Crank Stool\"   [− Labels: PRODUCT (1.0)]\n",
      "Span [3,4,5]: \"Leather Crank Stool\"   [− Labels: PRODUCT (0.9761)]\n",
      "Span [21,22,23]: \"Leather Crank Stool\"   [− Labels: PRODUCT (1.0)]\n",
      "Span [3,4,5]: \"Leather Crank Stool\"   [− Labels: PRODUCT (0.9996)]\n",
      "Span [21,22,23]: \"Leather Crank Stool\"   [− Labels: PRODUCT (1.0)]\n",
      "Span [3,4,5]: \"Leather Crank Stool\"   [− Labels: PRODUCT (0.9997)]\n",
      "Span [21,22,23]: \"Leather Crank Stool\"   [− Labels: PRODUCT (1.0)]\n",
      "Span [3,4,5]: \"Leather Crank Stool\"   [− Labels: PRODUCT (0.9989)]\n",
      "Span [21,22,23]: \"Leather Crank Stool\"   [− Labels: PRODUCT (1.0)]\n",
      "Span [21,22,23]: \"Leather Crank Stool\"   [− Labels: PRODUCT (1.0)]\n",
      "Span [1,2,3]: \"Leather Crank Stool\"   [− Labels: PRODUCT (0.994)]\n",
      "Span [21,22,23]: \"Leather Crank Stool\"   [− Labels: PRODUCT (1.0)]\n",
      "Span [1,2,3]: \"Leather Crank Stool\"   [− Labels: PRODUCT (0.9997)]\n",
      "Span [21,22,23]: \"Leather Crank Stool\"   [− Labels: PRODUCT (1.0)]\n",
      "Span [1,2,3]: \"Leather Crank Stool\"   [− Labels: PRODUCT (0.9985)]\n",
      "Span [21,22,23]: \"Leather Crank Stool\"   [− Labels: PRODUCT (1.0)]\n",
      "Span [21,22,23]: \"Leather Crank Stool\"   [− Labels: PRODUCT (1.0)]\n",
      "Span [18,19,20]: \"Leather Crank Stool\"   [− Labels: PRODUCT (1.0)]\n",
      "Span [18,19,20]: \"Leather Crank Stool\"   [− Labels: PRODUCT (1.0)]\n",
      "Span [7,8,9]: \"Leather Crank Stool\"   [− Labels: PRODUCT (1.0)]\n",
      "Span [5,6,7]: \"Leather Crank Stool\"   [− Labels: PRODUCT (1.0)]\n"
     ]
    },
    {
     "data": {
      "application/vnd.jupyter.widget-view+json": {
       "model_id": "",
       "version_major": 2,
       "version_minor": 0
      },
      "text/plain": [
       "Sentences Progress:   0%|          | 0/7 [00:00<?, ?it/s]"
      ]
     },
     "metadata": {},
     "output_type": "display_data"
    },
    {
     "data": {
      "application/vnd.jupyter.widget-view+json": {
       "model_id": "",
       "version_major": 2,
       "version_minor": 0
      },
      "text/plain": [
       "Sentences Progress:   0%|          | 0/5 [00:00<?, ?it/s]"
      ]
     },
     "metadata": {},
     "output_type": "display_data"
    },
    {
     "data": {
      "application/vnd.jupyter.widget-view+json": {
       "model_id": "",
       "version_major": 2,
       "version_minor": 0
      },
      "text/plain": [
       "Sentences Progress:   0%|          | 0/10 [00:00<?, ?it/s]"
      ]
     },
     "metadata": {},
     "output_type": "display_data"
    },
    {
     "data": {
      "application/vnd.jupyter.widget-view+json": {
       "model_id": "",
       "version_major": 2,
       "version_minor": 0
      },
      "text/plain": [
       "Sentences Progress:   0%|          | 0/20 [00:00<?, ?it/s]"
      ]
     },
     "metadata": {},
     "output_type": "display_data"
    },
    {
     "data": {
      "application/vnd.jupyter.widget-view+json": {
       "model_id": "",
       "version_major": 2,
       "version_minor": 0
      },
      "text/plain": [
       "Sentences Progress:   0%|          | 0/9 [00:00<?, ?it/s]"
      ]
     },
     "metadata": {},
     "output_type": "display_data"
    },
    {
     "data": {
      "application/vnd.jupyter.widget-view+json": {
       "model_id": "",
       "version_major": 2,
       "version_minor": 0
      },
      "text/plain": [
       "Sentences Progress:   0%|          | 0/1 [00:00<?, ?it/s]"
      ]
     },
     "metadata": {},
     "output_type": "display_data"
    },
    {
     "data": {
      "application/vnd.jupyter.widget-view+json": {
       "model_id": "",
       "version_major": 2,
       "version_minor": 0
      },
      "text/plain": [
       "Sentences Progress:   0%|          | 0/28 [00:00<?, ?it/s]"
      ]
     },
     "metadata": {},
     "output_type": "display_data"
    },
    {
     "data": {
      "application/vnd.jupyter.widget-view+json": {
       "model_id": "",
       "version_major": 2,
       "version_minor": 0
      },
      "text/plain": [
       "Sentences Progress:   0%|          | 0/11 [00:00<?, ?it/s]"
      ]
     },
     "metadata": {},
     "output_type": "display_data"
    },
    {
     "name": "stdout",
     "output_type": "stream",
     "text": [
      "Span [14]: \"Tassimo\"   [− Labels: PRODUCT (0.7625)]\n",
      "Span [17]: \"Tassimo\"   [− Labels: PRODUCT (0.9518)]\n",
      "Span [20]: \"Tassimo\"   [− Labels: PRODUCT (0.9647)]\n",
      "Span [17]: \"Tassimo\"   [− Labels: PRODUCT (0.8261)]\n",
      "Span [20]: \"Tassimo\"   [− Labels: PRODUCT (0.8454)]\n",
      "Span [9]: \"Tassimo\"   [− Labels: PRODUCT (0.991)]\n",
      "Span [11]: \"Collection\"   [− Labels: PRODUCT (0.8441)]\n",
      "Span [12]: \"Tassimo\"   [− Labels: PRODUCT (0.8776)]\n",
      "Span [14]: \"Tassimo\"   [− Labels: PRODUCT (0.9542)]\n",
      "Span [17]: \"Tassimo\"   [− Labels: PRODUCT (0.9803)]\n",
      "Span [20,21]: \"Tassimo Flat\"   [− Labels: PRODUCT (0.7628)]\n"
     ]
    },
    {
     "data": {
      "application/vnd.jupyter.widget-view+json": {
       "model_id": "",
       "version_major": 2,
       "version_minor": 0
      },
      "text/plain": [
       "Sentences Progress:   0%|          | 0/8 [00:00<?, ?it/s]"
      ]
     },
     "metadata": {},
     "output_type": "display_data"
    },
    {
     "data": {
      "application/vnd.jupyter.widget-view+json": {
       "model_id": "",
       "version_major": 2,
       "version_minor": 0
      },
      "text/plain": [
       "Sentences Progress:   0%|          | 0/1 [00:00<?, ?it/s]"
      ]
     },
     "metadata": {},
     "output_type": "display_data"
    },
    {
     "data": {
      "application/vnd.jupyter.widget-view+json": {
       "model_id": "",
       "version_major": 2,
       "version_minor": 0
      },
      "text/plain": [
       "Sentences Progress:   0%|          | 0/6 [00:00<?, ?it/s]"
      ]
     },
     "metadata": {},
     "output_type": "display_data"
    },
    {
     "name": "stdout",
     "output_type": "stream",
     "text": [
      "Span [10]: \"LonguesRugs\"   [− Labels: PRODUCT (0.9633)]\n",
      "Span [7]: \"LonguesRugs\"   [− Labels: PRODUCT (0.986)]\n",
      "Span [7]: \"LonguesRugs\"   [− Labels: PRODUCT (0.9883)]\n"
     ]
    },
    {
     "data": {
      "application/vnd.jupyter.widget-view+json": {
       "model_id": "",
       "version_major": 2,
       "version_minor": 0
      },
      "text/plain": [
       "Sentences Progress:   0%|          | 0/23 [00:00<?, ?it/s]"
      ]
     },
     "metadata": {},
     "output_type": "display_data"
    },
    {
     "data": {
      "application/vnd.jupyter.widget-view+json": {
       "model_id": "",
       "version_major": 2,
       "version_minor": 0
      },
      "text/plain": [
       "Sentences Progress:   0%|          | 0/1 [00:00<?, ?it/s]"
      ]
     },
     "metadata": {},
     "output_type": "display_data"
    },
    {
     "data": {
      "application/vnd.jupyter.widget-view+json": {
       "model_id": "",
       "version_major": 2,
       "version_minor": 0
      },
      "text/plain": [
       "Sentences Progress:   0%|          | 0/7 [00:00<?, ?it/s]"
      ]
     },
     "metadata": {},
     "output_type": "display_data"
    },
    {
     "data": {
      "application/vnd.jupyter.widget-view+json": {
       "model_id": "",
       "version_major": 2,
       "version_minor": 0
      },
      "text/plain": [
       "Sentences Progress:   0%|          | 0/8 [00:00<?, ?it/s]"
      ]
     },
     "metadata": {},
     "output_type": "display_data"
    },
    {
     "data": {
      "application/vnd.jupyter.widget-view+json": {
       "model_id": "",
       "version_major": 2,
       "version_minor": 0
      },
      "text/plain": [
       "Sentences Progress:   0%|          | 0/3 [00:00<?, ?it/s]"
      ]
     },
     "metadata": {},
     "output_type": "display_data"
    },
    {
     "data": {
      "application/vnd.jupyter.widget-view+json": {
       "model_id": "",
       "version_major": 2,
       "version_minor": 0
      },
      "text/plain": [
       "Sentences Progress:   0%|          | 0/15 [00:00<?, ?it/s]"
      ]
     },
     "metadata": {},
     "output_type": "display_data"
    },
    {
     "data": {
      "application/vnd.jupyter.widget-view+json": {
       "model_id": "",
       "version_major": 2,
       "version_minor": 0
      },
      "text/plain": [
       "Sentences Progress:   0%|          | 0/8 [00:00<?, ?it/s]"
      ]
     },
     "metadata": {},
     "output_type": "display_data"
    },
    {
     "data": {
      "application/vnd.jupyter.widget-view+json": {
       "model_id": "",
       "version_major": 2,
       "version_minor": 0
      },
      "text/plain": [
       "Sentences Progress:   0%|          | 0/10 [00:00<?, ?it/s]"
      ]
     },
     "metadata": {},
     "output_type": "display_data"
    },
    {
     "data": {
      "application/vnd.jupyter.widget-view+json": {
       "model_id": "",
       "version_major": 2,
       "version_minor": 0
      },
      "text/plain": [
       "Sentences Progress:   0%|          | 0/13 [00:00<?, ?it/s]"
      ]
     },
     "metadata": {},
     "output_type": "display_data"
    },
    {
     "name": "stdout",
     "output_type": "stream",
     "text": [
      "Span [36,37,38]: \"noho move ™\"   [− Labels: PRODUCT (0.9848)]\n",
      "Span [10]: \"ColorCloudSubtotal\"   [− Labels: PRODUCT (0.9894)]\n",
      "Span [23,24,25]: \"noho move ™\"   [− Labels: PRODUCT (0.9996)]\n",
      "Span [2,3,4]: \"comfort.noho move ™\"   [− Labels: PRODUCT (0.9995)]\n",
      "Span [41,42,43]: \"noho move ™\"   [− Labels: PRODUCT (0.9979)]\n",
      "Span [36,37,38]: \"noho move ™\"   [− Labels: PRODUCT (0.9915)]\n",
      "Span [10]: \"ColorCloudSubtotal\"   [− Labels: PRODUCT (0.9911)]\n",
      "Span [23,24,25]: \"noho move ™\"   [− Labels: PRODUCT (0.9995)]\n",
      "Span [2,3,4]: \"comfort.noho move ™\"   [− Labels: PRODUCT (0.9999)]\n",
      "Span [41,42,43]: \"noho move ™\"   [− Labels: PRODUCT (0.9974)]\n",
      "Span [34,35,36]: \"noho move ™\"   [− Labels: PRODUCT (0.805)]\n",
      "Span [65,66,67]: \"noho move ™\"   [− Labels: PRODUCT (0.8439)]\n",
      "Span [8,9,10]: \"Switch Chair ColorCloudSubtotal\"   [− Labels: PRODUCT (0.8754)]\n",
      "Span [8,9]: \"Switch Chair\"   [− Labels: PRODUCT (0.9405)]\n",
      "Span [10]: \"ColorCloudSubtotal\"   [− Labels: PRODUCT (0.9357)]\n",
      "Span [10]: \"ColorCloudSubtotal\"   [− Labels: PRODUCT (0.9609)]\n",
      "Span [10]: \"ColorCloudSubtotal\"   [− Labels: PRODUCT (0.8738)]\n",
      "Span [4,5,6]: \"noho move ™\"   [− Labels: PRODUCT (0.9997)]\n",
      "Span [3,4,5]: \"noho move ™\"   [− Labels: PRODUCT (0.9999)]\n"
     ]
    },
    {
     "data": {
      "application/vnd.jupyter.widget-view+json": {
       "model_id": "",
       "version_major": 2,
       "version_minor": 0
      },
      "text/plain": [
       "Sentences Progress:   0%|          | 0/4 [00:00<?, ?it/s]"
      ]
     },
     "metadata": {},
     "output_type": "display_data"
    },
    {
     "data": {
      "application/vnd.jupyter.widget-view+json": {
       "model_id": "",
       "version_major": 2,
       "version_minor": 0
      },
      "text/plain": [
       "Sentences Progress:   0%|          | 0/3 [00:00<?, ?it/s]"
      ]
     },
     "metadata": {},
     "output_type": "display_data"
    },
    {
     "data": {
      "application/vnd.jupyter.widget-view+json": {
       "model_id": "",
       "version_major": 2,
       "version_minor": 0
      },
      "text/plain": [
       "Sentences Progress:   0%|          | 0/2 [00:00<?, ?it/s]"
      ]
     },
     "metadata": {},
     "output_type": "display_data"
    },
    {
     "data": {
      "application/vnd.jupyter.widget-view+json": {
       "model_id": "",
       "version_major": 2,
       "version_minor": 0
      },
      "text/plain": [
       "Sentences Progress:   0%|          | 0/6 [00:00<?, ?it/s]"
      ]
     },
     "metadata": {},
     "output_type": "display_data"
    },
    {
     "data": {
      "application/vnd.jupyter.widget-view+json": {
       "model_id": "",
       "version_major": 2,
       "version_minor": 0
      },
      "text/plain": [
       "Sentences Progress:   0%|          | 0/10 [00:00<?, ?it/s]"
      ]
     },
     "metadata": {},
     "output_type": "display_data"
    },
    {
     "data": {
      "application/vnd.jupyter.widget-view+json": {
       "model_id": "",
       "version_major": 2,
       "version_minor": 0
      },
      "text/plain": [
       "Sentences Progress:   0%|          | 0/17 [00:00<?, ?it/s]"
      ]
     },
     "metadata": {},
     "output_type": "display_data"
    },
    {
     "data": {
      "application/vnd.jupyter.widget-view+json": {
       "model_id": "",
       "version_major": 2,
       "version_minor": 0
      },
      "text/plain": [
       "Sentences Progress:   0%|          | 0/6 [00:00<?, ?it/s]"
      ]
     },
     "metadata": {},
     "output_type": "display_data"
    },
    {
     "data": {
      "application/vnd.jupyter.widget-view+json": {
       "model_id": "",
       "version_major": 2,
       "version_minor": 0
      },
      "text/plain": [
       "Sentences Progress:   0%|          | 0/17 [00:00<?, ?it/s]"
      ]
     },
     "metadata": {},
     "output_type": "display_data"
    },
    {
     "name": "stdout",
     "output_type": "stream",
     "text": [
      "Span [1,2,3]: \"JAHBK - King\"   [− Labels: PRODUCT (0.9955)]\n",
      "Span [9,10,11]: \"JAHBQ - Queen\"   [− Labels: PRODUCT (0.9982)]\n"
     ]
    },
    {
     "data": {
      "application/vnd.jupyter.widget-view+json": {
       "model_id": "",
       "version_major": 2,
       "version_minor": 0
      },
      "text/plain": [
       "Sentences Progress:   0%|          | 0/1 [00:00<?, ?it/s]"
      ]
     },
     "metadata": {},
     "output_type": "display_data"
    },
    {
     "data": {
      "application/vnd.jupyter.widget-view+json": {
       "model_id": "",
       "version_major": 2,
       "version_minor": 0
      },
      "text/plain": [
       "Sentences Progress:   0%|          | 0/5 [00:00<?, ?it/s]"
      ]
     },
     "metadata": {},
     "output_type": "display_data"
    },
    {
     "data": {
      "application/vnd.jupyter.widget-view+json": {
       "model_id": "",
       "version_major": 2,
       "version_minor": 0
      },
      "text/plain": [
       "Sentences Progress:   0%|          | 0/9 [00:00<?, ?it/s]"
      ]
     },
     "metadata": {},
     "output_type": "display_data"
    }
   ],
   "source": [
    "tagger_roberta = SequenceTagger.load('ner-ontonotes-large')  \n",
    "tagger_finetuned = SequenceTagger.load('ner-fast-finetuned_model.pt')\n",
    "\n",
    "def batch(iterable, n=16):\n",
    "    l = len(iterable)\n",
    "    for ndx in tqdm(range(0, l // 3, n), leave=False, desc='Sentences Progress'):\n",
    "        yield iterable[ndx:min(ndx + n, l)]\n",
    "\n",
    "pages = pd.read_csv('pages_content.csv')['raw_text'].values.tolist()\n",
    "urls = pd.read_csv('furniture stores pages.csv').values.tolist()\n",
    "\n",
    "df_ents = []\n",
    "\n",
    "for pid in tqdm(list(range(len(pages))), desc='Pages Progress'):\n",
    "    page = ast.literal_eval(pages[pid])\n",
    "    sentences = [Sentence(sent[:min(len(sent), 512)], use_tokenizer=True) for line in page for sent in split_single(line)\n",
    "                 if sent != '' and sent != ' ' and sent != '\\n' and sent != '\\t']\n",
    "    \n",
    "    for sent_batch in batch(sentences):        \n",
    "        tagger_finetuned.predict(sent_batch)\n",
    "        tagger_roberta.predict(sent_batch)\n",
    "\n",
    "    entities = []\n",
    "    for sent in sentences:\n",
    "        for entity in sent.get_spans('ner'):\n",
    "            if entity.tag == 'PRODUCT' and entity.score > 0.75:\n",
    "                if not any(substring in entity.to_plain_string().lower() for substring in ['google', 'safari', 'apple', 'ipad', 'iphone']):\n",
    "                    if len(entity.to_plain_string()) < 40 and len(entity.to_plain_string()) > 6:\n",
    "                        print(entity)\n",
    "                        entities.append(entity.to_plain_string())\n",
    "    df_ents.append(entities)   \n",
    "        \n",
    "pd.DataFrame({'url': urls, 'product': df_ents}).to_csv('EXTRACTED_PRODS.csv') "
   ]
  },
  {
   "cell_type": "code",
   "execution_count": null,
   "id": "29fcd89a",
   "metadata": {},
   "outputs": [],
   "source": []
  }
 ],
 "metadata": {
  "kernelspec": {
   "display_name": "Python 3 (ipykernel)",
   "language": "python",
   "name": "python3"
  },
  "language_info": {
   "codemirror_mode": {
    "name": "ipython",
    "version": 3
   },
   "file_extension": ".py",
   "mimetype": "text/x-python",
   "name": "python",
   "nbconvert_exporter": "python",
   "pygments_lexer": "ipython3",
   "version": "3.9.7"
  }
 },
 "nbformat": 4,
 "nbformat_minor": 5
}
